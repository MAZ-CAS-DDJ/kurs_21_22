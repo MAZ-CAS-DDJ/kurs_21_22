{
 "cells": [
  {
   "cell_type": "markdown",
   "metadata": {},
   "source": [
    "# Arbeiten mit Text\n",
    "\n",
    "![alt text](intro.png \"Intro\")\n",
    "\n",
    "#### Heute:\n",
    "\n",
    "- Step1 Descriptives [1.1, 1.2]: \n",
    "    - Intro to NLTK\n",
    "    - Counting Words, Vocabulary, Frequency of Words, Bigrams, Dispersion of Words in Text\n",
    "    - Wordclouds\n",
    "- Step2 Deconstructing Text [1.3]\n",
    "    - Tokenization, Stemming, Lemmatization, POS Tagging, Stopwords\n",
    "\n",
    "#### Morgen\n",
    "\n",
    "- Step 3 Extracting Information from Text [2.2]\n",
    "    - Named Entities Recognition\n",
    "- Step 4 Sentiment Analysis [2.3]\n",
    "    - Textblob, Spacy\n",
    "- Step 5 Text Classification [2.4, 2.5]\n",
    "    - Baysian Models\n",
    "    - Topic Similarity: TDFIDF, Word Embeddings\n",
    "- Step 6 Text & Deep Learning [2.6]\n",
    "    - Text generation, Sentiment, Summarization\n",
    "- Step 7 Topic Modeling End 2 End Example [2.7]"
   ]
  },
  {
   "cell_type": "markdown",
   "metadata": {},
   "source": [
    "### Lets get started!"
   ]
  }
 ],
 "metadata": {
  "kernelspec": {
   "display_name": "Python 3",
   "language": "python",
   "name": "python3"
  },
  "language_info": {
   "codemirror_mode": {
    "name": "ipython",
    "version": 3
   },
   "file_extension": ".py",
   "mimetype": "text/x-python",
   "name": "python",
   "nbconvert_exporter": "python",
   "pygments_lexer": "ipython3",
   "version": "3.8.6"
  }
 },
 "nbformat": 4,
 "nbformat_minor": 2
}
