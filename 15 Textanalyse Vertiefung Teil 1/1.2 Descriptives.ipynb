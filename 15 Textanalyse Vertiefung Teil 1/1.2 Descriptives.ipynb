{
 "cells": [
  {
   "cell_type": "markdown",
   "metadata": {},
   "source": [
    "# Agenda\n",
    "- Vokabular\n",
    "- Reichhaltigkeit\n",
    "- Filtern nach Länge\n",
    "- Frequency distribution\n",
    "- Bigrams \n",
    "- Concordance\n",
    "- Ähnlichkeit\n",
    "- Dispersionsplot\n",
    "- Wordcloud 2.0"
   ]
  },
  {
   "cell_type": "code",
   "execution_count": 1,
   "metadata": {},
   "outputs": [],
   "source": [
    "import nltk"
   ]
  },
  {
   "cell_type": "code",
   "execution_count": 2,
   "metadata": {},
   "outputs": [
    {
     "name": "stdout",
     "output_type": "stream",
     "text": [
      "*** Introductory Examples for the NLTK Book ***\n",
      "Loading text1, ..., text9 and sent1, ..., sent9\n",
      "Type the name of the text or sentence to view it.\n",
      "Type: 'texts()' or 'sents()' to list the materials.\n",
      "text1: Moby Dick by Herman Melville 1851\n",
      "text2: Sense and Sensibility by Jane Austen 1811\n",
      "text3: The Book of Genesis\n",
      "text4: Inaugural Address Corpus\n",
      "text5: Chat Corpus\n",
      "text6: Monty Python and the Holy Grail\n",
      "text7: Wall Street Journal\n",
      "text8: Personals Corpus\n",
      "text9: The Man Who Was Thursday by G . K . Chesterton 1908\n"
     ]
    }
   ],
   "source": [
    "from nltk.book import *"
   ]
  },
  {
   "cell_type": "markdown",
   "metadata": {},
   "source": [
    "# Vokabular\n",
    "- Wie groß ist das Vokabular von Moby Dick?"
   ]
  },
  {
   "cell_type": "code",
   "execution_count": 5,
   "metadata": {},
   "outputs": [
    {
     "data": {
      "text/plain": [
       "4"
      ]
     },
     "execution_count": 5,
     "metadata": {},
     "output_type": "execute_result"
    }
   ],
   "source": [
    "a = [1,3,3,5,4,5,5,5]\n",
    "len(set(a))"
   ]
  },
  {
   "cell_type": "code",
   "execution_count": 6,
   "metadata": {},
   "outputs": [
    {
     "data": {
      "text/plain": [
       "19317"
      ]
     },
     "execution_count": 6,
     "metadata": {},
     "output_type": "execute_result"
    }
   ],
   "source": [
    "len(set(text1))"
   ]
  },
  {
   "cell_type": "code",
   "execution_count": 12,
   "metadata": {},
   "outputs": [
    {
     "data": {
      "text/plain": [
       "260819"
      ]
     },
     "execution_count": 12,
     "metadata": {},
     "output_type": "execute_result"
    }
   ],
   "source": [
    "len(list(text1))"
   ]
  },
  {
   "cell_type": "markdown",
   "metadata": {},
   "source": [
    "### Aufgabe"
   ]
  },
  {
   "cell_type": "markdown",
   "metadata": {},
   "source": [
    "- Das von Sense and Sensibility von Jane Austen?"
   ]
  },
  {
   "cell_type": "code",
   "execution_count": 7,
   "metadata": {},
   "outputs": [
    {
     "data": {
      "text/plain": [
       "6833"
      ]
     },
     "execution_count": 7,
     "metadata": {},
     "output_type": "execute_result"
    }
   ],
   "source": [
    "len(set(text2))"
   ]
  },
  {
   "cell_type": "code",
   "execution_count": 9,
   "metadata": {},
   "outputs": [
    {
     "data": {
      "text/plain": [
       "141576"
      ]
     },
     "execution_count": 9,
     "metadata": {},
     "output_type": "execute_result"
    }
   ],
   "source": [
    "len(text2)"
   ]
  },
  {
   "cell_type": "markdown",
   "metadata": {},
   "source": [
    "- Und das Vokabular der Menschenrechtserklärung?"
   ]
  },
  {
   "cell_type": "code",
   "execution_count": 13,
   "metadata": {},
   "outputs": [
    {
     "name": "stderr",
     "output_type": "stream",
     "text": [
      "[nltk_data] Downloading package punkt to /Users/plotti/nltk_data...\n",
      "[nltk_data]   Package punkt is already up-to-date!\n"
     ]
    },
    {
     "data": {
      "text/plain": [
       "578"
      ]
     },
     "execution_count": 13,
     "metadata": {},
     "output_type": "execute_result"
    }
   ],
   "source": [
    "from nltk.corpus import udhr\n",
    "nltk.download(\"punkt\")\n",
    "sample = (\" \").join(udhr.words(\"German_Deutsch-Latin1\"))\n",
    "tokens = nltk.word_tokenize(sample)\n",
    "menschenrechtserklaerungs_text = nltk.Text(tokens)\n",
    "len(set(menschenrechtserklaerungs_text))"
   ]
  },
  {
   "cell_type": "markdown",
   "metadata": {},
   "source": [
    "# Reichhaltigkeit\n",
    "- Welcher text ist am reichhaltigesten d.h. das größte Vokabular pro Text?\n",
    "- Maximaler Quotient ist 1: 100 verschiedene wörter / 100 wörter insgesammt = 1"
   ]
  },
  {
   "cell_type": "code",
   "execution_count": 19,
   "metadata": {},
   "outputs": [],
   "source": [
    "example_text = [\"plotti\", \"plotti\", \"plotti\"]\n",
    "example_text2 = [\"different\", \"words\", \"here\"]"
   ]
  },
  {
   "cell_type": "code",
   "execution_count": 22,
   "metadata": {},
   "outputs": [
    {
     "data": {
      "text/plain": [
       "0.3333333333333333"
      ]
     },
     "execution_count": 22,
     "metadata": {},
     "output_type": "execute_result"
    }
   ],
   "source": [
    "len(set(example_text)) / float(len(example_text))"
   ]
  },
  {
   "cell_type": "code",
   "execution_count": 23,
   "metadata": {},
   "outputs": [
    {
     "data": {
      "text/plain": [
       "1.0"
      ]
     },
     "execution_count": 23,
     "metadata": {},
     "output_type": "execute_result"
    }
   ],
   "source": [
    "len(set(example_text2)) / float(len(example_text2))"
   ]
  },
  {
   "cell_type": "code",
   "execution_count": 24,
   "metadata": {},
   "outputs": [
    {
     "data": {
      "text/plain": [
       "0.07406285585022564"
      ]
     },
     "execution_count": 24,
     "metadata": {},
     "output_type": "execute_result"
    }
   ],
   "source": [
    "# Moby Dick\n",
    "len(set(text1)) / float(len(text1))"
   ]
  },
  {
   "cell_type": "markdown",
   "metadata": {},
   "source": [
    "### Aufgabe"
   ]
  },
  {
   "cell_type": "code",
   "execution_count": 25,
   "metadata": {},
   "outputs": [
    {
     "data": {
      "text/plain": [
       "0.04826383002768831"
      ]
     },
     "execution_count": 25,
     "metadata": {},
     "output_type": "execute_result"
    }
   ],
   "source": [
    "# Jane Austen\n",
    "len(set(text2)) / float(len(text2))"
   ]
  },
  {
   "cell_type": "code",
   "execution_count": 26,
   "metadata": {},
   "outputs": [
    {
     "data": {
      "text/plain": [
       "0.3797634691195795"
      ]
     },
     "execution_count": 26,
     "metadata": {},
     "output_type": "execute_result"
    }
   ],
   "source": [
    "# Menschenrechtserklärung\n",
    "len(set(menschenrechtserklaerungs_text)) / float(len(menschenrechtserklaerungs_text))"
   ]
  },
  {
   "cell_type": "markdown",
   "metadata": {},
   "source": [
    "# Filtern \n",
    "- nach Wörtern bestimmter länge"
   ]
  },
  {
   "cell_type": "code",
   "execution_count": 36,
   "metadata": {},
   "outputs": [
    {
     "data": {
      "text/plain": [
       "['CIRCUMNAVIGATION',\n",
       " 'Physiognomically',\n",
       " 'apprehensiveness',\n",
       " 'cannibalistically',\n",
       " 'characteristically',\n",
       " 'circumnavigating',\n",
       " 'circumnavigation',\n",
       " 'circumnavigations',\n",
       " 'comprehensiveness',\n",
       " 'hermaphroditical',\n",
       " 'indiscriminately',\n",
       " 'indispensableness',\n",
       " 'irresistibleness',\n",
       " 'physiognomically',\n",
       " 'preternaturalness',\n",
       " 'responsibilities',\n",
       " 'simultaneousness',\n",
       " 'subterraneousness',\n",
       " 'supernaturalness',\n",
       " 'superstitiousness',\n",
       " 'uncomfortableness',\n",
       " 'uncompromisedness',\n",
       " 'undiscriminating',\n",
       " 'uninterpenetratingly']"
      ]
     },
     "execution_count": 36,
     "metadata": {},
     "output_type": "execute_result"
    }
   ],
   "source": [
    "# Moby Dick\n",
    "V = set(text1)\n",
    "long_words = [w for w in V if len(w) > 15]\n",
    "sorted(long_words)"
   ]
  },
  {
   "cell_type": "markdown",
   "metadata": {},
   "source": [
    "### Aufgabe"
   ]
  },
  {
   "cell_type": "code",
   "execution_count": 41,
   "metadata": {},
   "outputs": [
    {
     "data": {
      "text/plain": [
       "['Arbeitsbedingungen',\n",
       " 'Arbeitslosigkeit',\n",
       " 'Beeinträchtigungen',\n",
       " 'Berufsschulunterricht',\n",
       " 'Berücksichtigung',\n",
       " 'Generalversammlung',\n",
       " 'Glaubensfreiheit',\n",
       " 'Gleichberechtigung',\n",
       " 'Grundschulunterricht',\n",
       " 'Hochschulunterricht',\n",
       " 'Lebensbedingungen',\n",
       " 'Meinungsfreiheit',\n",
       " 'Meinungsäußerung',\n",
       " 'Nichtanerkennung',\n",
       " 'Religionsfreiheit',\n",
       " 'Staatsangehörigkeit',\n",
       " 'Staatsanghörigkeit',\n",
       " 'Unterhaltsmittel',\n",
       " 'freundschaftlicher',\n",
       " 'innerstaatlichem',\n",
       " 'innerstaatlichen',\n",
       " 'nichtpolitischer',\n",
       " 'strafrechtlichen',\n",
       " 'uneingeschränkter',\n",
       " 'unveräußerlichen',\n",
       " 'wirtschaftlichen',\n",
       " 'zusammenzuschließen']"
      ]
     },
     "execution_count": 41,
     "metadata": {},
     "output_type": "execute_result"
    }
   ],
   "source": [
    "# Menschenrechtserklärung\n",
    "# Was sind die längsten wörter dort? \n",
    "# dein code hier\n",
    "V = set(menschenrechtserklaerungs_text)\n",
    "long_words = [w for w in V if len(w) > 15]\n",
    "sorted(long_words)"
   ]
  },
  {
   "cell_type": "markdown",
   "metadata": {},
   "source": [
    "## Filtern nach Länge und Frequenz"
   ]
  },
  {
   "cell_type": "code",
   "execution_count": 48,
   "metadata": {},
   "outputs": [
    {
     "data": {
      "text/plain": [
       "13721"
      ]
     },
     "execution_count": 48,
     "metadata": {},
     "output_type": "execute_result"
    }
   ],
   "source": [
    "fdist1 = FreqDist(text1)\n",
    "fdist1[\"the\"]"
   ]
  },
  {
   "cell_type": "code",
   "execution_count": 53,
   "metadata": {},
   "outputs": [
    {
     "data": {
      "text/plain": [
       "['disappointment']"
      ]
     },
     "execution_count": 53,
     "metadata": {},
     "output_type": "execute_result"
    }
   ],
   "source": [
    "# Wörter die in Moby Dick mind. 12 buchstaben lang sind und mind. 8 mal vorkommen\n",
    "fdist1 = FreqDist(text2)\n",
    "sorted(w for w in set(text2) if len(w) > 13 and fdist1[w] > 5)"
   ]
  },
  {
   "cell_type": "markdown",
   "metadata": {},
   "source": [
    "# Verteilung\n",
    "- Welches Wort kommt in Moby Dick am häufigsten vor?\n",
    "- Hier z.B. die Lyrics des Hits \"Versace\" von Migos: https://www.youtube.com/watch?v=rF-hq_CHNH0 :) "
   ]
  },
  {
   "cell_type": "code",
   "execution_count": 28,
   "metadata": {},
   "outputs": [
    {
     "data": {
      "image/png": "[encoded data removed]",
      "text/plain": [
       "<IPython.core.display.Image object>"
      ]
     },
     "execution_count": 28,
     "metadata": {
      "image/png": {
       "width": 300
      }
     },
     "output_type": "execute_result"
    }
   ],
   "source": [
    "from IPython.display import Image\n",
    "Image(\"frequency.png\", width=300)"
   ]
  },
  {
   "cell_type": "markdown",
   "metadata": {},
   "source": [
    "- Welche Wörter kommen am häufigsten bei Moby Dick vor?"
   ]
  },
  {
   "cell_type": "code",
   "execution_count": 54,
   "metadata": {},
   "outputs": [
    {
     "data": {
      "text/plain": [
       "FreqDist({',': 18713, 'the': 13721, '.': 6862, 'of': 6536, 'and': 6024, 'a': 4569, 'to': 4542, ';': 4072, 'in': 3916, 'that': 2982, ...})"
      ]
     },
     "execution_count": 54,
     "metadata": {},
     "output_type": "execute_result"
    }
   ],
   "source": [
    "fdist = FreqDist(text1)\n",
    "fdist"
   ]
  },
  {
   "cell_type": "code",
   "execution_count": 55,
   "metadata": {},
   "outputs": [
    {
     "data": {
      "image/png": "[encoded data removed]",
      "text/plain": [
       "<Figure size 640x480 with 1 Axes>"
      ]
     },
     "metadata": {},
     "output_type": "display_data"
    },
    {
     "data": {
      "text/plain": [
       "<AxesSubplot:xlabel='Samples', ylabel='Cumulative Counts'>"
      ]
     },
     "execution_count": 55,
     "metadata": {},
     "output_type": "execute_result"
    }
   ],
   "source": [
    "fdist.plot(30, cumulative=True)"
   ]
  },
  {
   "cell_type": "markdown",
   "metadata": {},
   "source": [
    "- Jedes zusätzliche Wort kommt immer weniger oft vor (diminishing returns)\n",
    "- Welches Wort kommt in meinem Satz am häufigsten vor?"
   ]
  },
  {
   "cell_type": "code",
   "execution_count": 60,
   "metadata": {},
   "outputs": [
    {
     "data": {
      "text/plain": [
       "<Text: Ich war heute im Wald spazieren und sah...>"
      ]
     },
     "execution_count": 60,
     "metadata": {},
     "output_type": "execute_result"
    }
   ],
   "source": [
    "sample = '''Ich war heute im Wald spazieren und sah ein Reh. Wobeich ich nicht sicher war ob es ein Reh war oder ein Geist.'''\n",
    "tokens = nltk.word_tokenize(sample)\n",
    "text = nltk.Text(tokens)\n",
    "text"
   ]
  },
  {
   "cell_type": "code",
   "execution_count": 61,
   "metadata": {},
   "outputs": [
    {
     "data": {
      "image/png": "[encoded data removed]",
      "text/plain": [
       "<Figure size 640x480 with 1 Axes>"
      ]
     },
     "metadata": {},
     "output_type": "display_data"
    },
    {
     "data": {
      "text/plain": [
       "<AxesSubplot:xlabel='Samples', ylabel='Cumulative Counts'>"
      ]
     },
     "execution_count": 61,
     "metadata": {},
     "output_type": "execute_result"
    }
   ],
   "source": [
    "fdist = FreqDist(text)\n",
    "fdist.plot(30, cumulative=True)"
   ]
  },
  {
   "cell_type": "code",
   "execution_count": 23,
   "metadata": {},
   "outputs": [
    {
     "data": {
      "text/plain": [
       "FreqDist({'war': 3, 'ein': 3, 'Reh': 2, '.': 2, 'Ich': 1, 'heute': 1, 'im': 1, 'wald': 1, 'spazieren': 1, 'und': 1, ...})"
      ]
     },
     "execution_count": 23,
     "metadata": {},
     "output_type": "execute_result"
    }
   ],
   "source": [
    "fdist"
   ]
  },
  {
   "cell_type": "markdown",
   "metadata": {},
   "source": [
    "### Aufgabe\n",
    "- Erzeugt eigenen Text oder kopiert ihn aus dem Internet und zählt welche Wörter am häufigsten vorkommen, sind die ersten 3 Positionen bei Euch ähnlich? Warum?"
   ]
  },
  {
   "cell_type": "markdown",
   "metadata": {},
   "source": [
    "# Bigrams\n",
    "- Welche Wörter kommen häufig zusammen vor?\n",
    "- Böhmerman hatte vor ein paar Jahren aus den häufigsten Phrasen einen Popsong gemacht https://www.youtube.com/watch?v=h8MVXC_hqNY"
   ]
  },
  {
   "cell_type": "code",
   "execution_count": 65,
   "metadata": {},
   "outputs": [
    {
     "name": "stderr",
     "output_type": "stream",
     "text": [
      "[nltk_data] Downloading package stopwords to\n",
      "[nltk_data]     /Users/plotti/nltk_data...\n",
      "[nltk_data]   Package stopwords is already up-to-date!\n"
     ]
    },
    {
     "data": {
      "text/plain": [
       "True"
      ]
     },
     "execution_count": 65,
     "metadata": {},
     "output_type": "execute_result"
    }
   ],
   "source": [
    "nltk.download('stopwords')"
   ]
  },
  {
   "cell_type": "code",
   "execution_count": 68,
   "metadata": {},
   "outputs": [
    {
     "name": "stdout",
     "output_type": "stream",
     "text": [
      "Colonel Brandon; Sir John; Lady Middleton; Miss Dashwood; every thing;\n",
      "thousand pounds; dare say; Miss Steeles; said Elinor; Miss Steele;\n",
      "every body; John Dashwood; great deal; Harley Street; Berkeley Street;\n",
      "Miss Dashwoods; young man; Combe Magna; every day; next morning\n"
     ]
    }
   ],
   "source": [
    "text2.collocations()"
   ]
  },
  {
   "cell_type": "code",
   "execution_count": 66,
   "metadata": {},
   "outputs": [
    {
     "name": "stdout",
     "output_type": "stream",
     "text": [
      "Sperm Whale; Moby Dick; White Whale; old man; Captain Ahab; sperm\n",
      "whale; Right Whale; Captain Peleg; New Bedford; Cape Horn; cried Ahab;\n",
      "years ago; lower jaw; never mind; Father Mapple; cried Stubb; chief\n",
      "mate; white whale; ivory leg; one hand\n"
     ]
    }
   ],
   "source": [
    "text1.collocations()"
   ]
  },
  {
   "cell_type": "code",
   "execution_count": 67,
   "metadata": {},
   "outputs": [
    {
     "name": "stdout",
     "output_type": "stream",
     "text": [
      "das Recht; Jeder hat; hat das; Niemand darf; Recht auf; Anspruch auf;\n",
      "Vereinten Nationen; dem Gesetz; auf Grund; Alle Menschen; strafbaren\n",
      "Handlung; auf gleichen; Allgemeine Erklärung; wegen einer; gegen jede;\n",
      "der Menschenrechte; notwendig ist; des Landes; diese Erklärung; hat\n",
      "Anspruch\n"
     ]
    }
   ],
   "source": [
    "menschenrechtserklaerungs_text.collocations()"
   ]
  },
  {
   "cell_type": "markdown",
   "metadata": {},
   "source": [
    "### Aufgabe\n",
    "- Welche Bigramms kommen am häufigsten bei einem beliebigen Text von 20min.ch vor?"
   ]
  },
  {
   "cell_type": "code",
   "execution_count": 73,
   "metadata": {},
   "outputs": [],
   "source": [
    "with open('graeber.txt') as f:\n",
    "    lines = f.readlines()\n",
    "utopia = \" \".join(lines)"
   ]
  },
  {
   "cell_type": "code",
   "execution_count": 81,
   "metadata": {},
   "outputs": [],
   "source": [
    "#utopia"
   ]
  },
  {
   "cell_type": "code",
   "execution_count": 82,
   "metadata": {},
   "outputs": [
    {
     "name": "stdout",
     "output_type": "stream",
     "text": [
      "United States; New York; pretty much; University Press; twentieth\n",
      "century; Star Trek; Soviet Union; nineteenth century; structural\n",
      "violence; Middle Ages; let alone; great deal; every aspect; Dark\n",
      "Knight; Post Office; post office; almost invariably; Iron Law; science\n",
      "fiction; heroic societies\n"
     ]
    }
   ],
   "source": [
    "tokens = nltk.word_tokenize(utopia)\n",
    "text = nltk.Text(tokens)\n",
    "text.collocations()"
   ]
  },
  {
   "cell_type": "markdown",
   "metadata": {},
   "source": [
    "### Advanced Trigrams"
   ]
  },
  {
   "cell_type": "markdown",
   "metadata": {},
   "source": [
    "- Bigramme mit Frequenz in der Menschenrechtserklärung"
   ]
  },
  {
   "cell_type": "code",
   "execution_count": 88,
   "metadata": {},
   "outputs": [
    {
     "data": {
      "text/plain": [
       "[('o', \"'\", 'clock'),\n",
       " ('don', \"'\", 't'),\n",
       " ('won', \"'\", 't'),\n",
       " ('put', 'an', 'end'),\n",
       " ('drawing', '-', 'room'),\n",
       " ('in', 'Harley', 'Street'),\n",
       " ('in', 'Berkeley', 'Street'),\n",
       " ('ma', \"'\", 'am'),\n",
       " ('two', 'or', 'three'),\n",
       " ('a', 'low', 'voice')]"
      ]
     },
     "execution_count": 88,
     "metadata": {},
     "output_type": "execute_result"
    }
   ],
   "source": [
    "from nltk.collocations import *\n",
    "bigram_measures = nltk.collocations.BigramAssocMeasures()\n",
    "trigram_measures = nltk.collocations.TrigramAssocMeasures()\n",
    "finder = TrigramCollocationFinder.from_words(text2)\n",
    "finder.apply_freq_filter(10) # reduce to bigrams that appeared at least 3 times\n",
    "finder.nbest(trigram_measures.pmi, 10) "
   ]
  },
  {
   "cell_type": "markdown",
   "metadata": {},
   "source": [
    "- Trigramme in der Menschenrechtserklärung\n",
    "- mehr Beispiele unter http://www.nltk.org/howto/collocations.html"
   ]
  },
  {
   "cell_type": "code",
   "execution_count": 57,
   "metadata": {},
   "outputs": [
    {
     "data": {
      "text/plain": [
       "[('hat', 'das', 'Recht'),\n",
       " ('Jeder', 'hat', 'das'),\n",
       " ('.', 'Niemand', 'darf'),\n",
       " ('das', 'Recht', 'auf'),\n",
       " ('hat', 'Anspruch', 'auf'),\n",
       " ('Jeder', 'hat', 'Anspruch'),\n",
       " ('werden', '.', 'Artikel'),\n",
       " ('.', 'Jeder', 'hat'),\n",
       " (',', 'da', 'die'),\n",
       " ('das', 'Recht', ',')]"
      ]
     },
     "execution_count": 57,
     "metadata": {},
     "output_type": "execute_result"
    }
   ],
   "source": [
    "finder = TrigramCollocationFinder.from_words(menschenrechtserklaerungs_text)\n",
    "finder.apply_freq_filter(3) # reduce to bigrams that appeared at least 3 times\n",
    "finder.nbest(trigram_measures.pmi, 10)"
   ]
  },
  {
   "cell_type": "markdown",
   "metadata": {},
   "source": [
    "# Übereinstimmungen oder Konkordanz"
   ]
  },
  {
   "cell_type": "markdown",
   "metadata": {},
   "source": [
    "- In welchem Kontext steht überall \"monstrous\" im Text bei Moby Dick?"
   ]
  },
  {
   "cell_type": "code",
   "execution_count": 64,
   "metadata": {},
   "outputs": [
    {
     "name": "stderr",
     "output_type": "stream",
     "text": [
      "[nltk_data] Downloading package stopwords to\n",
      "[nltk_data]     /Users/plotti/nltk_data...\n",
      "[nltk_data]   Package stopwords is already up-to-date!\n"
     ]
    },
    {
     "data": {
      "text/plain": [
       "True"
      ]
     },
     "execution_count": 64,
     "metadata": {},
     "output_type": "execute_result"
    }
   ],
   "source": []
  },
  {
   "cell_type": "code",
   "execution_count": 91,
   "metadata": {},
   "outputs": [
    {
     "name": "stdout",
     "output_type": "stream",
     "text": [
      "Displaying 11 of 11 matches:\n",
      ". \" Now , Palmer , you shall see a monstrous pretty girl .\" He immediately went\n",
      "your sister is to marry him . I am monstrous glad of it , for then I shall have\n",
      "ou may tell your sister . She is a monstrous lucky girl to get him , upon my ho\n",
      "k how you will like them . Lucy is monstrous pretty , and so good humoured and \n",
      " Jennings , \" I am sure I shall be monstrous glad of Miss Marianne ' s company \n",
      " usual noisy cheerfulness , \" I am monstrous glad to see you -- sorry I could n\n",
      "t however , as it turns out , I am monstrous glad there was never any thing in \n",
      "so scornfully ! for they say he is monstrous fond of her , as well he may . I s\n",
      "possible that she should .\" \" I am monstrous glad of it . Good gracious ! I hav\n",
      "thing of the kind . So then he was monstrous happy , and talked on some time ab\n",
      "e very genteel people . He makes a monstrous deal of money , and they keep thei\n"
     ]
    }
   ],
   "source": [
    "text2.concordance(\"monstrous\")"
   ]
  },
  {
   "cell_type": "markdown",
   "metadata": {},
   "source": [
    "- In welchem Kontext kommen Menschenrechte in der Menschenrechtserklärung vor?"
   ]
  },
  {
   "cell_type": "code",
   "execution_count": 60,
   "metadata": {},
   "outputs": [
    {
     "name": "stdout",
     "output_type": "stream",
     "text": [
      "Displaying 25 of 28 matches:\n",
      "kt ist ist . Artikel 3 Jeder hat das Recht auf Leben , Freiheit und Sicherheit \n",
      "fen werden . Artikel 6 Jeder hat das Recht , überall als rechtsfähig anerkannt \n",
      " Handlung beschuldigt wird , hat das Recht , als unschuldig zu gelten , solange\n",
      "nnerstaatlichem oder internationalem Recht nicht strafbar war . Ebenso darf kei\n",
      "htigungen . Artikel 13 Jeder hat das Recht , sich innerhalb eines Staates frei \n",
      "tsort frei zu wählen . Jeder hat das Recht , jedes Land , einschließlich seines\n",
      "kzukehren . Artikel 14 Jeder hat das Recht , in anderen Ländern vor Verfolgung \n",
      "l zu suchen und zu genießen . Dieses Recht kann nicht in Anspruch genommen werd\n",
      "verstoßen . Artikel 15 Jeder hat das Recht auf eine Staatsangehörigkeit . Niema\n",
      "igkeit willkürlich entzogen noch das Recht versagt werden , seine Staatsanghöri\n",
      "sangehörigkeit oder der Religion das Recht zu heiraten und eine Familie zu grün\n",
      "und Staat . Artikel 17 Jeder hat das Recht , sowohl allein als auch in Gemeinsc\n",
      "bt werden . Artikel 18 Jeder hat das Recht auf Gedanken - , Gewissens - und Rel\n",
      "ens - und Religionsfreiheit ; dieses Recht schließt die Freiheit ein , seine Re\n",
      " bekennen . Artikel 19 Jeder hat das Recht auf Meinungsfreiheit und freie Meinu\n",
      " und freie Meinungsäußerung ; dieses Recht schließt die Freiheit ein , Meinunge\n",
      ". Artikel 20 Alle Menschen haben das Recht , sich friedlich zu versammeln und z\n",
      "zugehören . Artikel 21 Jeder hat das Recht , an der Gestaltung der öffentlichen\n",
      "ertreter mitzuwirken . Jeder hat das Recht auf gleichen Zugang zu öffentlichen \n",
      "at als Mitglied der Gesellschaft das Recht auf soziale Sicherheit und Anspruch \n",
      "lich sind . Artikel 23 Jeder hat das Recht auf Arbeit , auf freie Berufswahl , \n",
      ". Jeder , ohne Unterschied , hat das Recht auf gleichen Lohn für gleiche Arbeit\n",
      "eit . Jeder , der arbeitet , hat das Recht auf gerechte und befriedigende Entlo\n",
      "iale Schutzmaßnahmen . Jeder hat das Recht , zum Schutz seiner Interessen Gewer\n",
      "izutreten . Artikel 24 Jeder hat das Recht auf Erholung und Freizeit und insbes\n"
     ]
    }
   ],
   "source": [
    "menschenrechtserklaerungs_text.concordance(\"Recht\")"
   ]
  },
  {
   "cell_type": "markdown",
   "metadata": {},
   "source": [
    "## Ähnlichkeit: Welche Wörter benutzen den gleichen Kontext?\n",
    "- Bei Moby Dick?"
   ]
  },
  {
   "cell_type": "code",
   "execution_count": 92,
   "metadata": {},
   "outputs": [
    {
     "name": "stdout",
     "output_type": "stream",
     "text": [
      "true contemptible christian abundant few part mean careful puzzled\n",
      "mystifying passing curious loving wise doleful gamesome singular\n",
      "delightfully perilous fearless\n"
     ]
    }
   ],
   "source": [
    "text1.similar(\"monstrous\")"
   ]
  },
  {
   "cell_type": "markdown",
   "metadata": {},
   "source": [
    "- Bei Jane Austen?"
   ]
  },
  {
   "cell_type": "code",
   "execution_count": 93,
   "metadata": {},
   "outputs": [
    {
     "name": "stdout",
     "output_type": "stream",
     "text": [
      "very so exceedingly heartily a as good great extremely remarkably\n",
      "sweet vast amazingly\n"
     ]
    }
   ],
   "source": [
    "text2.similar(\"monstrous\")"
   ]
  },
  {
   "cell_type": "markdown",
   "metadata": {},
   "source": [
    "- In der Menschenrechtserkläreung?"
   ]
  },
  {
   "cell_type": "code",
   "execution_count": 95,
   "metadata": {},
   "outputs": [
    {
     "name": "stdout",
     "output_type": "stream",
     "text": [
      "\n"
     ]
    }
   ],
   "source": [
    "menschenrechtserklaerungs_text.similar(\"Recht\")"
   ]
  },
  {
   "cell_type": "markdown",
   "metadata": {},
   "source": [
    "## Dispersionsplot\n",
    "- Welche Wörter kommen wann gemeinsam vor?"
   ]
  },
  {
   "cell_type": "code",
   "execution_count": 97,
   "metadata": {},
   "outputs": [
    {
     "data": {
      "image/png": "[encoded data removed]",
      "text/plain": [
       "<Figure size 1080x576 with 1 Axes>"
      ]
     },
     "metadata": {
      "needs_background": "light"
     },
     "output_type": "display_data"
    }
   ],
   "source": [
    "%matplotlib inline\n",
    "import matplotlib.pyplot as plt\n",
    "plt.figure(figsize=(15,8))\n",
    "text1.dispersion_plot([\"whale\", \"water\", \"monstrous\", \"ship\", \"wind\"]) #, "
   ]
  },
  {
   "cell_type": "code",
   "execution_count": 65,
   "metadata": {},
   "outputs": [
    {
     "data": {
      "image/png": "[encoded data removed]",
      "text/plain": [
       "<Figure size 1080x576 with 1 Axes>"
      ]
     },
     "metadata": {
      "needs_background": "light"
     },
     "output_type": "display_data"
    }
   ],
   "source": [
    "plt.figure(figsize=(15,8))\n",
    "menschenrechtserklaerungs_text.dispersion_plot([\"Menschenrechte\", \"Arbeit\", \"Freiheit\", \"Mensch\"])"
   ]
  },
  {
   "cell_type": "markdown",
   "metadata": {},
   "source": [
    "## Aufgabe:\n",
    "- Probiert es mal mit einem Dispersionsplot für einen Text eurer Wahl. "
   ]
  },
  {
   "cell_type": "code",
   "execution_count": 106,
   "metadata": {},
   "outputs": [
    {
     "data": {
      "image/png": "[encoded data removed]",
      "text/plain": [
       "<Figure size 1080x576 with 1 Axes>"
      ]
     },
     "metadata": {
      "needs_background": "light"
     },
     "output_type": "display_data"
    }
   ],
   "source": [
    "with open('swiss.txt', 'r') as file:\n",
    "    verfassung = file.read().replace('\\n', '')\n",
    "tokens = nltk.word_tokenize(verfassung)\n",
    "verfassung_text = nltk.Text(tokens)\n",
    "plt.figure(figsize=(15,8))\n",
    "verfassung_text.dispersion_plot([\"Menschen\", \"Zuwanderung\", \"Volksabstimmung\", \"Bund\", \"Kantone\", \"Vorschriften\"])"
   ]
  }
 ],
 "metadata": {
  "kernelspec": {
   "display_name": "Python 3",
   "language": "python",
   "name": "python3"
  },
  "language_info": {
   "codemirror_mode": {
    "name": "ipython",
    "version": 3
   },
   "file_extension": ".py",
   "mimetype": "text/x-python",
   "name": "python",
   "nbconvert_exporter": "python",
   "pygments_lexer": "ipython3",
   "version": "3.8.6"
  }
 },
 "nbformat": 4,
 "nbformat_minor": 2
}
