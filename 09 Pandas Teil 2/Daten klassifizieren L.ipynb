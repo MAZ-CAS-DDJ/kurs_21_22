{
 "cells": [
  {
   "cell_type": "markdown",
   "metadata": {},
   "source": [
    "# Daten klassifizieren"
   ]
  },
  {
   "cell_type": "markdown",
   "metadata": {},
   "source": [
    "**Inhalt:** Unsaubere Daten laden und klassifizieren\n",
    "\n",
    "**Nötige Skills:** Erste Schritte mit Pandas\n",
    "\n",
    "**Lernziele:**\n",
    "- Daten auf Integrität prüfen\n",
    "- Einfaches Putzen der gröbsten Fehler\n",
    "- Daten klassifizieren, auf die schnelle und saubere Art\n",
    "- Plotting Level 2: mehrere Serien"
   ]
  },
  {
   "cell_type": "markdown",
   "metadata": {},
   "source": [
    "# Das Beispiel"
   ]
  },
  {
   "cell_type": "markdown",
   "metadata": {},
   "source": [
    "P3-Datenbank des Schweizerischen Nationalfonds. Beinhaltet alle Forschungsprojekte, die seit 1975 vom SNF Fördergelder erhalten haben.\n",
    "\n",
    "Quelle und Dokumentation: http://p3.snf.ch/Pages/DataAndDocumentation.aspx\n",
    "\n",
    "Datenfile: http://p3.snf.ch/P3Export/P3_GrantExport.csv\n",
    "\n",
    "Speichern Sie die Datei an einem geeigneten Ort, zB im Unterornder `dataprojects/SNF/`"
   ]
  },
  {
   "cell_type": "markdown",
   "metadata": {},
   "source": [
    "## Vorbereitung"
   ]
  },
  {
   "cell_type": "markdown",
   "metadata": {},
   "source": [
    "Wir laden diesmal nicht nur das Pandas-Modul, sondern auch NumPy.\n",
    "\n",
    "*NumPy is the fundamental package for scientific computing with Python): http://www.numpy.org/*"
   ]
  },
  {
   "cell_type": "code",
   "execution_count": 1,
   "metadata": {},
   "outputs": [],
   "source": [
    "import pandas as pd"
   ]
  },
  {
   "cell_type": "code",
   "execution_count": 2,
   "metadata": {},
   "outputs": [],
   "source": [
    "import numpy as np"
   ]
  },
  {
   "cell_type": "markdown",
   "metadata": {},
   "source": [
    "## Datenfile laden"
   ]
  },
  {
   "cell_type": "markdown",
   "metadata": {},
   "source": [
    "Wie gehabt ... Achtung, die Felder sind nicht durch Kommas sondern durch Semikolon abgetrennt!"
   ]
  },
  {
   "cell_type": "code",
   "execution_count": 3,
   "metadata": {},
   "outputs": [],
   "source": [
    "path = \"dataprojects/SNF/P3_GrantExport.csv\""
   ]
  },
  {
   "cell_type": "code",
   "execution_count": 4,
   "metadata": {},
   "outputs": [],
   "source": [
    "df = pd.read_csv(path, delimiter=';')"
   ]
  },
  {
   "cell_type": "code",
   "execution_count": 5,
   "metadata": {},
   "outputs": [
    {
     "data": {
      "text/html": [
       "<div>\n",
       "<style scoped>\n",
       "    .dataframe tbody tr th:only-of-type {\n",
       "        vertical-align: middle;\n",
       "    }\n",
       "\n",
       "    .dataframe tbody tr th {\n",
       "        vertical-align: top;\n",
       "    }\n",
       "\n",
       "    .dataframe thead th {\n",
       "        text-align: right;\n",
       "    }\n",
       "</style>\n",
       "<table border=\"1\" class=\"dataframe\">\n",
       "  <thead>\n",
       "    <tr style=\"text-align: right;\">\n",
       "      <th></th>\n",
       "      <th>Project Number</th>\n",
       "      <th>Project Number String</th>\n",
       "      <th>Project Title</th>\n",
       "      <th>Project Title English</th>\n",
       "      <th>Responsible Applicant</th>\n",
       "      <th>Funding Instrument</th>\n",
       "      <th>Funding Instrument Hierarchy</th>\n",
       "      <th>Institution</th>\n",
       "      <th>Institution Country</th>\n",
       "      <th>University</th>\n",
       "      <th>Discipline Number</th>\n",
       "      <th>Discipline Name</th>\n",
       "      <th>Discipline Name Hierarchy</th>\n",
       "      <th>All disciplines</th>\n",
       "      <th>Start Date</th>\n",
       "      <th>End Date</th>\n",
       "      <th>Approved Amount</th>\n",
       "      <th>Keywords</th>\n",
       "    </tr>\n",
       "  </thead>\n",
       "  <tbody>\n",
       "    <tr>\n",
       "      <th>0</th>\n",
       "      <td>1</td>\n",
       "      <td>1000-000001</td>\n",
       "      <td>Schlussband (Bd. VI) der Jacob Burckhardt-Biog...</td>\n",
       "      <td>NaN</td>\n",
       "      <td>Kaegi Werner</td>\n",
       "      <td>Project funding (Div. I-III)</td>\n",
       "      <td>Project funding</td>\n",
       "      <td>NaN</td>\n",
       "      <td>NaN</td>\n",
       "      <td>Unassignable - NA</td>\n",
       "      <td>10302</td>\n",
       "      <td>Swiss history</td>\n",
       "      <td>Humanities and Social Sciences;Theology &amp; reli...</td>\n",
       "      <td>10302</td>\n",
       "      <td>01.10.1975</td>\n",
       "      <td>30.09.1976</td>\n",
       "      <td>11619.00</td>\n",
       "      <td>NaN</td>\n",
       "    </tr>\n",
       "    <tr>\n",
       "      <th>1</th>\n",
       "      <td>4</td>\n",
       "      <td>1000-000004</td>\n",
       "      <td>Batterie de tests à l'usage des enseignants po...</td>\n",
       "      <td>NaN</td>\n",
       "      <td>Massarenti Léonard</td>\n",
       "      <td>Project funding (Div. I-III)</td>\n",
       "      <td>Project funding</td>\n",
       "      <td>FPSE  Université de Genève</td>\n",
       "      <td>Switzerland</td>\n",
       "      <td>University of Geneva - GE</td>\n",
       "      <td>10104</td>\n",
       "      <td>Education and learning sciences, subject-speci...</td>\n",
       "      <td>Humanities and Social Sciences;Psychology, edu...</td>\n",
       "      <td>10104</td>\n",
       "      <td>01.10.1975</td>\n",
       "      <td>30.09.1976</td>\n",
       "      <td>41022.00</td>\n",
       "      <td>NaN</td>\n",
       "    </tr>\n",
       "  </tbody>\n",
       "</table>\n",
       "</div>"
      ],
      "text/plain": [
       "   Project Number Project Number String  \\\n",
       "0               1           1000-000001   \n",
       "1               4           1000-000004   \n",
       "\n",
       "                                       Project Title Project Title English  \\\n",
       "0  Schlussband (Bd. VI) der Jacob Burckhardt-Biog...                   NaN   \n",
       "1  Batterie de tests à l'usage des enseignants po...                   NaN   \n",
       "\n",
       "  Responsible Applicant            Funding Instrument  \\\n",
       "0          Kaegi Werner  Project funding (Div. I-III)   \n",
       "1    Massarenti Léonard  Project funding (Div. I-III)   \n",
       "\n",
       "  Funding Instrument Hierarchy                 Institution  \\\n",
       "0              Project funding                         NaN   \n",
       "1              Project funding  FPSE  Université de Genève   \n",
       "\n",
       "  Institution Country                 University  Discipline Number  \\\n",
       "0                 NaN          Unassignable - NA              10302   \n",
       "1         Switzerland  University of Geneva - GE              10104   \n",
       "\n",
       "                                     Discipline Name  \\\n",
       "0                                      Swiss history   \n",
       "1  Education and learning sciences, subject-speci...   \n",
       "\n",
       "                           Discipline Name Hierarchy All disciplines  \\\n",
       "0  Humanities and Social Sciences;Theology & reli...           10302   \n",
       "1  Humanities and Social Sciences;Psychology, edu...           10104   \n",
       "\n",
       "   Start Date    End Date Approved Amount Keywords  \n",
       "0  01.10.1975  30.09.1976        11619.00      NaN  \n",
       "1  01.10.1975  30.09.1976        41022.00      NaN  "
      ]
     },
     "execution_count": 5,
     "metadata": {},
     "output_type": "execute_result"
    }
   ],
   "source": [
    "df.head(2)"
   ]
  },
  {
   "cell_type": "markdown",
   "metadata": {},
   "source": [
    "Besser! Schauen wir uns die Sache mal näher an."
   ]
  },
  {
   "cell_type": "code",
   "execution_count": 6,
   "metadata": {},
   "outputs": [
    {
     "data": {
      "text/plain": [
       "(77007, 18)"
      ]
     },
     "execution_count": 6,
     "metadata": {},
     "output_type": "execute_result"
    }
   ],
   "source": [
    "df.shape"
   ]
  },
  {
   "cell_type": "code",
   "execution_count": 7,
   "metadata": {},
   "outputs": [
    {
     "data": {
      "text/plain": [
       "Project Number                   int64\n",
       "Project Number String           object\n",
       "Project Title                   object\n",
       "Project Title English           object\n",
       "Responsible Applicant           object\n",
       "Funding Instrument              object\n",
       "Funding Instrument Hierarchy    object\n",
       "Institution                     object\n",
       "Institution Country             object\n",
       "University                      object\n",
       "Discipline Number                int64\n",
       "Discipline Name                 object\n",
       "Discipline Name Hierarchy       object\n",
       "All disciplines                 object\n",
       "Start Date                      object\n",
       "End Date                        object\n",
       "Approved Amount                 object\n",
       "Keywords                        object\n",
       "dtype: object"
      ]
     },
     "execution_count": 7,
     "metadata": {},
     "output_type": "execute_result"
    }
   ],
   "source": [
    "df.dtypes"
   ]
  },
  {
   "cell_type": "code",
   "execution_count": 8,
   "metadata": {},
   "outputs": [
    {
     "data": {
      "text/html": [
       "<div>\n",
       "<style scoped>\n",
       "    .dataframe tbody tr th:only-of-type {\n",
       "        vertical-align: middle;\n",
       "    }\n",
       "\n",
       "    .dataframe tbody tr th {\n",
       "        vertical-align: top;\n",
       "    }\n",
       "\n",
       "    .dataframe thead th {\n",
       "        text-align: right;\n",
       "    }\n",
       "</style>\n",
       "<table border=\"1\" class=\"dataframe\">\n",
       "  <thead>\n",
       "    <tr style=\"text-align: right;\">\n",
       "      <th></th>\n",
       "      <th>Project Number</th>\n",
       "      <th>Discipline Number</th>\n",
       "    </tr>\n",
       "  </thead>\n",
       "  <tbody>\n",
       "    <tr>\n",
       "      <th>count</th>\n",
       "      <td>77007.000000</td>\n",
       "      <td>77007.000000</td>\n",
       "    </tr>\n",
       "    <tr>\n",
       "      <th>mean</th>\n",
       "      <td>101279.005168</td>\n",
       "      <td>19862.502214</td>\n",
       "    </tr>\n",
       "    <tr>\n",
       "      <th>std</th>\n",
       "      <td>61110.964461</td>\n",
       "      <td>8300.058207</td>\n",
       "    </tr>\n",
       "    <tr>\n",
       "      <th>min</th>\n",
       "      <td>1.000000</td>\n",
       "      <td>0.000000</td>\n",
       "    </tr>\n",
       "    <tr>\n",
       "      <th>25%</th>\n",
       "      <td>43311.500000</td>\n",
       "      <td>10303.000000</td>\n",
       "    </tr>\n",
       "    <tr>\n",
       "      <th>50%</th>\n",
       "      <td>114366.000000</td>\n",
       "      <td>20404.000000</td>\n",
       "    </tr>\n",
       "    <tr>\n",
       "      <th>75%</th>\n",
       "      <td>152807.500000</td>\n",
       "      <td>30103.000000</td>\n",
       "    </tr>\n",
       "    <tr>\n",
       "      <th>max</th>\n",
       "      <td>206994.000000</td>\n",
       "      <td>50000.000000</td>\n",
       "    </tr>\n",
       "  </tbody>\n",
       "</table>\n",
       "</div>"
      ],
      "text/plain": [
       "       Project Number  Discipline Number\n",
       "count    77007.000000       77007.000000\n",
       "mean    101279.005168       19862.502214\n",
       "std      61110.964461        8300.058207\n",
       "min          1.000000           0.000000\n",
       "25%      43311.500000       10303.000000\n",
       "50%     114366.000000       20404.000000\n",
       "75%     152807.500000       30103.000000\n",
       "max     206994.000000       50000.000000"
      ]
     },
     "execution_count": 8,
     "metadata": {},
     "output_type": "execute_result"
    }
   ],
   "source": [
    "df.describe()"
   ]
  },
  {
   "cell_type": "markdown",
   "metadata": {},
   "source": [
    "Offensichtlich hat es einige Spalten drin, die noch nicht mit dem richtigen Datentyp formatiert sind, z.B. \"Approved Amount\".\n",
    "\n",
    "Das Problem ist: So lange wir da nicht die richtigen Datentypen haben, funktionieren einige Auswertungen nicht."
   ]
  },
  {
   "cell_type": "code",
   "execution_count": 9,
   "metadata": {},
   "outputs": [],
   "source": [
    "#Zum Beispiel diese hier:\n",
    "#df['Approved Amount'].mean()"
   ]
  },
  {
   "cell_type": "markdown",
   "metadata": {},
   "source": [
    "Eigentlich wären das sehr interessante Informationen: wie viel Geld haben die Projekte im Schnitt gekriegt, im Maximum, im Minimum, etc.\n",
    "\n",
    "## Entfernen von ungültigen Werten\n",
    "\n",
    "Wir müssen also irgendwie diese Spalte reinigen, damit Pandas die Berechungen für uns machen kann.\n",
    "\n",
    "Um herauszukriegen, was das Problem sein könnte, ist `value_counts()` eine ziemlich einfache Option."
   ]
  },
  {
   "cell_type": "code",
   "execution_count": 10,
   "metadata": {},
   "outputs": [
    {
     "data": {
      "text/plain": [
       "0.00                          89\n",
       "100.00                         1\n",
       "1000.00                       33\n",
       "10000.00                     659\n",
       "100000.00                    262\n",
       "                           ...  \n",
       "99996.00                       1\n",
       "999976.00                      1\n",
       "99998.00                       2\n",
       "99999.00                       1\n",
       "data not included in P3    13703\n",
       "Name: Approved Amount, Length: 42960, dtype: int64"
      ]
     },
     "execution_count": 10,
     "metadata": {},
     "output_type": "execute_result"
    }
   ],
   "source": [
    "df['Approved Amount'].value_counts().sort_index()"
   ]
  },
  {
   "cell_type": "markdown",
   "metadata": {},
   "source": [
    "Das Problem liegt in der letzten Zeile: Bei 12070 Einträgen steht: \"`data not included in P3`.\"\n",
    "\n",
    "Wir können das lösen, indem wir die Daten nochmals einlesen. Und zwar mit einer Option. Sie heisst `na_values=` (na = Not Available, wird durch NaN ersetzt = Not a Number oder so)"
   ]
  },
  {
   "cell_type": "code",
   "execution_count": 17,
   "metadata": {},
   "outputs": [],
   "source": [
    "df = pd.read_csv(path, delimiter=';', na_values='data not included in P3')"
   ]
  },
  {
   "cell_type": "markdown",
   "metadata": {},
   "source": [
    "Tadaaa!"
   ]
  },
  {
   "cell_type": "code",
   "execution_count": 18,
   "metadata": {},
   "outputs": [
    {
     "data": {
      "text/plain": [
       "Project Number                    int64\n",
       "Project Number String            object\n",
       "Project Title                    object\n",
       "Project Title English            object\n",
       "Responsible Applicant            object\n",
       "Funding Instrument               object\n",
       "Funding Instrument Hierarchy     object\n",
       "Institution                      object\n",
       "Institution Country              object\n",
       "University                       object\n",
       "Discipline Number                 int64\n",
       "Discipline Name                  object\n",
       "Discipline Name Hierarchy        object\n",
       "All disciplines                  object\n",
       "Start Date                       object\n",
       "End Date                         object\n",
       "Approved Amount                 float64\n",
       "Keywords                         object\n",
       "dtype: object"
      ]
     },
     "execution_count": 18,
     "metadata": {},
     "output_type": "execute_result"
    }
   ],
   "source": [
    "df.dtypes"
   ]
  },
  {
   "cell_type": "markdown",
   "metadata": {},
   "source": [
    "**Übrigens:** Um zu checken, was es eigentlich mit den ungültigen Einträgen eigentlich auf sich hat, können wir `.isnull()` verwenden:"
   ]
  },
  {
   "cell_type": "code",
   "execution_count": 19,
   "metadata": {},
   "outputs": [
    {
     "data": {
      "text/html": [
       "<div>\n",
       "<style scoped>\n",
       "    .dataframe tbody tr th:only-of-type {\n",
       "        vertical-align: middle;\n",
       "    }\n",
       "\n",
       "    .dataframe tbody tr th {\n",
       "        vertical-align: top;\n",
       "    }\n",
       "\n",
       "    .dataframe thead th {\n",
       "        text-align: right;\n",
       "    }\n",
       "</style>\n",
       "<table border=\"1\" class=\"dataframe\">\n",
       "  <thead>\n",
       "    <tr style=\"text-align: right;\">\n",
       "      <th></th>\n",
       "      <th>Project Number</th>\n",
       "      <th>Project Number String</th>\n",
       "      <th>Project Title</th>\n",
       "      <th>Project Title English</th>\n",
       "      <th>Responsible Applicant</th>\n",
       "      <th>Funding Instrument</th>\n",
       "      <th>Funding Instrument Hierarchy</th>\n",
       "      <th>Institution</th>\n",
       "      <th>Institution Country</th>\n",
       "      <th>University</th>\n",
       "      <th>Discipline Number</th>\n",
       "      <th>Discipline Name</th>\n",
       "      <th>Discipline Name Hierarchy</th>\n",
       "      <th>All disciplines</th>\n",
       "      <th>Start Date</th>\n",
       "      <th>End Date</th>\n",
       "      <th>Approved Amount</th>\n",
       "      <th>Keywords</th>\n",
       "    </tr>\n",
       "  </thead>\n",
       "  <tbody>\n",
       "    <tr>\n",
       "      <th>9210</th>\n",
       "      <td>20001</td>\n",
       "      <td>81AM-020001</td>\n",
       "      <td>Therapie beim Morbus Hodgkin.</td>\n",
       "      <td>NaN</td>\n",
       "      <td>Wernli Martin</td>\n",
       "      <td>Fellowships for prospective researchers</td>\n",
       "      <td>Careers;Fellowships</td>\n",
       "      <td>UNI: Cancer Research Center University of Ch i...</td>\n",
       "      <td>United States of America</td>\n",
       "      <td>Institution abroad - IACH</td>\n",
       "      <td>30703</td>\n",
       "      <td>Clinical Cancer Research</td>\n",
       "      <td>Biology and Medicine;Clinical Medicine</td>\n",
       "      <td>30703</td>\n",
       "      <td>01.11.1986</td>\n",
       "      <td>31.10.1987</td>\n",
       "      <td>NaN</td>\n",
       "      <td>NaN</td>\n",
       "    </tr>\n",
       "    <tr>\n",
       "      <th>9211</th>\n",
       "      <td>20002</td>\n",
       "      <td>81AM-020002</td>\n",
       "      <td>Immunologie des Typ-1 Diabetes.</td>\n",
       "      <td>NaN</td>\n",
       "      <td>Atar Dan</td>\n",
       "      <td>Fellowships for prospective researchers</td>\n",
       "      <td>Careers;Fellowships</td>\n",
       "      <td>UNI: Hagedorn Research Laboratory Steno Memo r...</td>\n",
       "      <td>Denmark</td>\n",
       "      <td>Institution abroad - IACH</td>\n",
       "      <td>30403</td>\n",
       "      <td>Immunology, Immunopathology</td>\n",
       "      <td>Biology and Medicine;Experimental Medicine</td>\n",
       "      <td>30403</td>\n",
       "      <td>01.01.1987</td>\n",
       "      <td>31.12.1987</td>\n",
       "      <td>NaN</td>\n",
       "      <td>NaN</td>\n",
       "    </tr>\n",
       "    <tr>\n",
       "      <th>9212</th>\n",
       "      <td>20003</td>\n",
       "      <td>81AM-020003</td>\n",
       "      <td>Infektionen bei Immunsuppression.</td>\n",
       "      <td>NaN</td>\n",
       "      <td>Ruef Christian</td>\n",
       "      <td>Fellowships for prospective researchers</td>\n",
       "      <td>Careers;Fellowships</td>\n",
       "      <td>UNI: Yale Univ Dept of Internal Medicineory Ne...</td>\n",
       "      <td>United States of America</td>\n",
       "      <td>Institution abroad - IACH</td>\n",
       "      <td>30701</td>\n",
       "      <td>Internal Medicine</td>\n",
       "      <td>Biology and Medicine;Clinical Medicine</td>\n",
       "      <td>30701</td>\n",
       "      <td>01.07.1987</td>\n",
       "      <td>30.06.1988</td>\n",
       "      <td>NaN</td>\n",
       "      <td>NaN</td>\n",
       "    </tr>\n",
       "    <tr>\n",
       "      <th>9213</th>\n",
       "      <td>20004</td>\n",
       "      <td>81AT-020004</td>\n",
       "      <td>'Modern and Applied Optics'.</td>\n",
       "      <td>NaN</td>\n",
       "      <td>Kellenberger Regula</td>\n",
       "      <td>Fellowships for prospective researchers</td>\n",
       "      <td>Careers;Fellowships</td>\n",
       "      <td>UNI: University of Reading Reading/    GB</td>\n",
       "      <td>Great Britain and Northern Ireland</td>\n",
       "      <td>Institution abroad - IACH</td>\n",
       "      <td>20508</td>\n",
       "      <td>Microelectronics. Optoelectronics</td>\n",
       "      <td>Mathematics, Natural- and Engineering Sciences...</td>\n",
       "      <td>20508</td>\n",
       "      <td>01.09.1986</td>\n",
       "      <td>31.08.1987</td>\n",
       "      <td>NaN</td>\n",
       "      <td>NaN</td>\n",
       "    </tr>\n",
       "    <tr>\n",
       "      <th>9214</th>\n",
       "      <td>20005</td>\n",
       "      <td>81AT-020005</td>\n",
       "      <td>Traitement digital du signal et architecture d...</td>\n",
       "      <td>NaN</td>\n",
       "      <td>Piot Julien</td>\n",
       "      <td>Fellowships for prospective researchers</td>\n",
       "      <td>Careers;Fellowships</td>\n",
       "      <td>UNI: Massachusetts    USA</td>\n",
       "      <td>United States of America</td>\n",
       "      <td>Institution abroad - IACH</td>\n",
       "      <td>20504</td>\n",
       "      <td>Electrical Engineering</td>\n",
       "      <td>Mathematics, Natural- and Engineering Sciences...</td>\n",
       "      <td>20504</td>\n",
       "      <td>01.09.1986</td>\n",
       "      <td>31.08.1987</td>\n",
       "      <td>NaN</td>\n",
       "      <td>NaN</td>\n",
       "    </tr>\n",
       "    <tr>\n",
       "      <th>...</th>\n",
       "      <td>...</td>\n",
       "      <td>...</td>\n",
       "      <td>...</td>\n",
       "      <td>...</td>\n",
       "      <td>...</td>\n",
       "      <td>...</td>\n",
       "      <td>...</td>\n",
       "      <td>...</td>\n",
       "      <td>...</td>\n",
       "      <td>...</td>\n",
       "      <td>...</td>\n",
       "      <td>...</td>\n",
       "      <td>...</td>\n",
       "      <td>...</td>\n",
       "      <td>...</td>\n",
       "      <td>...</td>\n",
       "      <td>...</td>\n",
       "      <td>...</td>\n",
       "    </tr>\n",
       "    <tr>\n",
       "      <th>76895</th>\n",
       "      <td>203222</td>\n",
       "      <td>P500PT_203222</td>\n",
       "      <td>End-to-end reconfigurable flat optics design s...</td>\n",
       "      <td>End-to-end reconfigurable flat optics design s...</td>\n",
       "      <td>Martin-Monier Louis</td>\n",
       "      <td>Postdoc.Mobility</td>\n",
       "      <td>Careers;Fellowships</td>\n",
       "      <td>Laboratoire des fibres et matériaux photonique...</td>\n",
       "      <td>Switzerland</td>\n",
       "      <td>NaN</td>\n",
       "      <td>20508</td>\n",
       "      <td>Microelectronics. Optoelectronics</td>\n",
       "      <td>Mathematics, Natural- and Engineering Sciences...</td>\n",
       "      <td>20508/20505</td>\n",
       "      <td>01.09.2021</td>\n",
       "      <td>28.02.2023</td>\n",
       "      <td>NaN</td>\n",
       "      <td>Active Metamaterials; Phase Change Materials; ...</td>\n",
       "    </tr>\n",
       "    <tr>\n",
       "      <th>76896</th>\n",
       "      <td>203230</td>\n",
       "      <td>P500PT_203230</td>\n",
       "      <td>Chaos Backwards: From Limited Measurements to ...</td>\n",
       "      <td>NaN</td>\n",
       "      <td>Toedtli Simon</td>\n",
       "      <td>Postdoc.Mobility</td>\n",
       "      <td>Careers;Fellowships</td>\n",
       "      <td>Dept. of Mechanical Engineering Johns Hopkins ...</td>\n",
       "      <td>United States of America</td>\n",
       "      <td>NaN</td>\n",
       "      <td>20503</td>\n",
       "      <td>Fluid Dynamics</td>\n",
       "      <td>Mathematics, Natural- and Engineering Sciences...</td>\n",
       "      <td>20503</td>\n",
       "      <td>01.09.2021</td>\n",
       "      <td>31.08.2023</td>\n",
       "      <td>NaN</td>\n",
       "      <td>direct numerical simulation; data assimilation...</td>\n",
       "    </tr>\n",
       "    <tr>\n",
       "      <th>76898</th>\n",
       "      <td>203253</td>\n",
       "      <td>P500PT_203253</td>\n",
       "      <td>Towards Improving Longstanding Combinatorial P...</td>\n",
       "      <td>NaN</td>\n",
       "      <td>Nassajianmojarrad Seyed Hossein</td>\n",
       "      <td>Postdoc.Mobility</td>\n",
       "      <td>Careers;Fellowships</td>\n",
       "      <td>Department of Mathematics Princeton University</td>\n",
       "      <td>United States of America</td>\n",
       "      <td>NaN</td>\n",
       "      <td>20100</td>\n",
       "      <td>Mathematics</td>\n",
       "      <td>Mathematics, Natural- and Engineering Sciences</td>\n",
       "      <td>20100</td>\n",
       "      <td>01.08.2021</td>\n",
       "      <td>31.01.2023</td>\n",
       "      <td>NaN</td>\n",
       "      <td>extremal combinatorics; incidence geometry; ro...</td>\n",
       "    </tr>\n",
       "    <tr>\n",
       "      <th>77004</th>\n",
       "      <td>206237</td>\n",
       "      <td>P1BEP1_206237</td>\n",
       "      <td>Demarcation of Human Life: Moral Lines of Divi...</td>\n",
       "      <td>NaN</td>\n",
       "      <td>Yesil Ilay Zehra</td>\n",
       "      <td>Doc.Mobility</td>\n",
       "      <td>Careers;Fellowships</td>\n",
       "      <td>Institut für Politikwissenschaft  LMU München</td>\n",
       "      <td>Germany</td>\n",
       "      <td>Institution abroad - IACH</td>\n",
       "      <td>10201</td>\n",
       "      <td>Sociology</td>\n",
       "      <td>Humanities and Social Sciences;Sociology, soci...</td>\n",
       "      <td>10201</td>\n",
       "      <td>01.09.2021</td>\n",
       "      <td>28.02.2022</td>\n",
       "      <td>NaN</td>\n",
       "      <td>assisted dying; moral and ethical debate; Swit...</td>\n",
       "    </tr>\n",
       "    <tr>\n",
       "      <th>77006</th>\n",
       "      <td>206994</td>\n",
       "      <td>P1SKP1_206994</td>\n",
       "      <td>Imitatio Mariae? Lieux, modèles et pratiques d...</td>\n",
       "      <td>Imitatio Mariae? Places, models and practices ...</td>\n",
       "      <td>Pignarre-Altermatt Thor-Oona</td>\n",
       "      <td>Doc.Mobility</td>\n",
       "      <td>Careers;Fellowships</td>\n",
       "      <td>Universiteit Antwerpen</td>\n",
       "      <td>Belgium</td>\n",
       "      <td>Institution abroad - IACH</td>\n",
       "      <td>10301</td>\n",
       "      <td>General history (without pre-and early history)</td>\n",
       "      <td>Humanities and Social Sciences;Theology &amp; reli...</td>\n",
       "      <td>10301/10102</td>\n",
       "      <td>01.09.2021</td>\n",
       "      <td>31.01.2022</td>\n",
       "      <td>NaN</td>\n",
       "      <td>dévotion; littérature spirituelle; culture vis...</td>\n",
       "    </tr>\n",
       "  </tbody>\n",
       "</table>\n",
       "<p>13703 rows × 18 columns</p>\n",
       "</div>"
      ],
      "text/plain": [
       "       Project Number Project Number String  \\\n",
       "9210            20001           81AM-020001   \n",
       "9211            20002           81AM-020002   \n",
       "9212            20003           81AM-020003   \n",
       "9213            20004           81AT-020004   \n",
       "9214            20005           81AT-020005   \n",
       "...               ...                   ...   \n",
       "76895          203222         P500PT_203222   \n",
       "76896          203230         P500PT_203230   \n",
       "76898          203253         P500PT_203253   \n",
       "77004          206237         P1BEP1_206237   \n",
       "77006          206994         P1SKP1_206994   \n",
       "\n",
       "                                           Project Title  \\\n",
       "9210                       Therapie beim Morbus Hodgkin.   \n",
       "9211                     Immunologie des Typ-1 Diabetes.   \n",
       "9212                   Infektionen bei Immunsuppression.   \n",
       "9213                        'Modern and Applied Optics'.   \n",
       "9214   Traitement digital du signal et architecture d...   \n",
       "...                                                  ...   \n",
       "76895  End-to-end reconfigurable flat optics design s...   \n",
       "76896  Chaos Backwards: From Limited Measurements to ...   \n",
       "76898  Towards Improving Longstanding Combinatorial P...   \n",
       "77004  Demarcation of Human Life: Moral Lines of Divi...   \n",
       "77006  Imitatio Mariae? Lieux, modèles et pratiques d...   \n",
       "\n",
       "                                   Project Title English  \\\n",
       "9210                                                 NaN   \n",
       "9211                                                 NaN   \n",
       "9212                                                 NaN   \n",
       "9213                                                 NaN   \n",
       "9214                                                 NaN   \n",
       "...                                                  ...   \n",
       "76895  End-to-end reconfigurable flat optics design s...   \n",
       "76896                                                NaN   \n",
       "76898                                                NaN   \n",
       "77004                                                NaN   \n",
       "77006  Imitatio Mariae? Places, models and practices ...   \n",
       "\n",
       "                 Responsible Applicant  \\\n",
       "9210                     Wernli Martin   \n",
       "9211                          Atar Dan   \n",
       "9212                    Ruef Christian   \n",
       "9213               Kellenberger Regula   \n",
       "9214                       Piot Julien   \n",
       "...                                ...   \n",
       "76895              Martin-Monier Louis   \n",
       "76896                    Toedtli Simon   \n",
       "76898  Nassajianmojarrad Seyed Hossein   \n",
       "77004                 Yesil Ilay Zehra   \n",
       "77006     Pignarre-Altermatt Thor-Oona   \n",
       "\n",
       "                            Funding Instrument Funding Instrument Hierarchy  \\\n",
       "9210   Fellowships for prospective researchers          Careers;Fellowships   \n",
       "9211   Fellowships for prospective researchers          Careers;Fellowships   \n",
       "9212   Fellowships for prospective researchers          Careers;Fellowships   \n",
       "9213   Fellowships for prospective researchers          Careers;Fellowships   \n",
       "9214   Fellowships for prospective researchers          Careers;Fellowships   \n",
       "...                                        ...                          ...   \n",
       "76895                         Postdoc.Mobility          Careers;Fellowships   \n",
       "76896                         Postdoc.Mobility          Careers;Fellowships   \n",
       "76898                         Postdoc.Mobility          Careers;Fellowships   \n",
       "77004                             Doc.Mobility          Careers;Fellowships   \n",
       "77006                             Doc.Mobility          Careers;Fellowships   \n",
       "\n",
       "                                             Institution  \\\n",
       "9210   UNI: Cancer Research Center University of Ch i...   \n",
       "9211   UNI: Hagedorn Research Laboratory Steno Memo r...   \n",
       "9212   UNI: Yale Univ Dept of Internal Medicineory Ne...   \n",
       "9213           UNI: University of Reading Reading/    GB   \n",
       "9214                           UNI: Massachusetts    USA   \n",
       "...                                                  ...   \n",
       "76895  Laboratoire des fibres et matériaux photonique...   \n",
       "76896  Dept. of Mechanical Engineering Johns Hopkins ...   \n",
       "76898     Department of Mathematics Princeton University   \n",
       "77004      Institut für Politikwissenschaft  LMU München   \n",
       "77006                             Universiteit Antwerpen   \n",
       "\n",
       "                      Institution Country                 University  \\\n",
       "9210             United States of America  Institution abroad - IACH   \n",
       "9211                              Denmark  Institution abroad - IACH   \n",
       "9212             United States of America  Institution abroad - IACH   \n",
       "9213   Great Britain and Northern Ireland  Institution abroad - IACH   \n",
       "9214             United States of America  Institution abroad - IACH   \n",
       "...                                   ...                        ...   \n",
       "76895                         Switzerland                        NaN   \n",
       "76896            United States of America                        NaN   \n",
       "76898            United States of America                        NaN   \n",
       "77004                             Germany  Institution abroad - IACH   \n",
       "77006                             Belgium  Institution abroad - IACH   \n",
       "\n",
       "       Discipline Number                                  Discipline Name  \\\n",
       "9210               30703                         Clinical Cancer Research   \n",
       "9211               30403                      Immunology, Immunopathology   \n",
       "9212               30701                                Internal Medicine   \n",
       "9213               20508                Microelectronics. Optoelectronics   \n",
       "9214               20504                           Electrical Engineering   \n",
       "...                  ...                                              ...   \n",
       "76895              20508                Microelectronics. Optoelectronics   \n",
       "76896              20503                                   Fluid Dynamics   \n",
       "76898              20100                                      Mathematics   \n",
       "77004              10201                                        Sociology   \n",
       "77006              10301  General history (without pre-and early history)   \n",
       "\n",
       "                               Discipline Name Hierarchy All disciplines  \\\n",
       "9210              Biology and Medicine;Clinical Medicine           30703   \n",
       "9211          Biology and Medicine;Experimental Medicine           30403   \n",
       "9212              Biology and Medicine;Clinical Medicine           30701   \n",
       "9213   Mathematics, Natural- and Engineering Sciences...           20508   \n",
       "9214   Mathematics, Natural- and Engineering Sciences...           20504   \n",
       "...                                                  ...             ...   \n",
       "76895  Mathematics, Natural- and Engineering Sciences...     20508/20505   \n",
       "76896  Mathematics, Natural- and Engineering Sciences...           20503   \n",
       "76898     Mathematics, Natural- and Engineering Sciences           20100   \n",
       "77004  Humanities and Social Sciences;Sociology, soci...           10201   \n",
       "77006  Humanities and Social Sciences;Theology & reli...     10301/10102   \n",
       "\n",
       "       Start Date    End Date  Approved Amount  \\\n",
       "9210   01.11.1986  31.10.1987              NaN   \n",
       "9211   01.01.1987  31.12.1987              NaN   \n",
       "9212   01.07.1987  30.06.1988              NaN   \n",
       "9213   01.09.1986  31.08.1987              NaN   \n",
       "9214   01.09.1986  31.08.1987              NaN   \n",
       "...           ...         ...              ...   \n",
       "76895  01.09.2021  28.02.2023              NaN   \n",
       "76896  01.09.2021  31.08.2023              NaN   \n",
       "76898  01.08.2021  31.01.2023              NaN   \n",
       "77004  01.09.2021  28.02.2022              NaN   \n",
       "77006  01.09.2021  31.01.2022              NaN   \n",
       "\n",
       "                                                Keywords  \n",
       "9210                                                 NaN  \n",
       "9211                                                 NaN  \n",
       "9212                                                 NaN  \n",
       "9213                                                 NaN  \n",
       "9214                                                 NaN  \n",
       "...                                                  ...  \n",
       "76895  Active Metamaterials; Phase Change Materials; ...  \n",
       "76896  direct numerical simulation; data assimilation...  \n",
       "76898  extremal combinatorics; incidence geometry; ro...  \n",
       "77004  assisted dying; moral and ethical debate; Swit...  \n",
       "77006  dévotion; littérature spirituelle; culture vis...  \n",
       "\n",
       "[13703 rows x 18 columns]"
      ]
     },
     "execution_count": 19,
     "metadata": {},
     "output_type": "execute_result"
    }
   ],
   "source": [
    "df[df['Approved Amount'].isnull()]"
   ]
  },
  {
   "cell_type": "markdown",
   "metadata": {},
   "source": [
    "Es scheint sich also hier um ein spezielles Förderinstrument zu handeln (\"Fellowships\")."
   ]
  },
  {
   "cell_type": "markdown",
   "metadata": {},
   "source": [
    "### Etwas Repetition vom Tag 1..."
   ]
  },
  {
   "cell_type": "markdown",
   "metadata": {},
   "source": [
    "**Quiz:** Was war der maximale Betrag, den ein Projekt erhielt? Das Minimum? Der Median?"
   ]
  },
  {
   "cell_type": "code",
   "execution_count": 20,
   "metadata": {},
   "outputs": [
    {
     "data": {
      "text/plain": [
       "32800000.0"
      ]
     },
     "execution_count": 20,
     "metadata": {},
     "output_type": "execute_result"
    }
   ],
   "source": [
    "#Antwort\n",
    "df['Approved Amount'].max()"
   ]
  },
  {
   "cell_type": "code",
   "execution_count": 21,
   "metadata": {},
   "outputs": [
    {
     "data": {
      "text/plain": [
       "0.0"
      ]
     },
     "execution_count": 21,
     "metadata": {},
     "output_type": "execute_result"
    }
   ],
   "source": [
    "#Antwort\n",
    "df['Approved Amount'].min()"
   ]
  },
  {
   "cell_type": "code",
   "execution_count": 22,
   "metadata": {},
   "outputs": [
    {
     "data": {
      "text/plain": [
       "181547.0"
      ]
     },
     "execution_count": 22,
     "metadata": {},
     "output_type": "execute_result"
    }
   ],
   "source": [
    "#Antwort\n",
    "df['Approved Amount'].median()"
   ]
  },
  {
   "cell_type": "markdown",
   "metadata": {},
   "source": [
    "**Quiz:** Suche die fünfzig Projekte raus, die am meisten Geld gekriegt haben. Welche Universitäten kommen darunter am meisten vor?"
   ]
  },
  {
   "cell_type": "code",
   "execution_count": 23,
   "metadata": {},
   "outputs": [
    {
     "data": {
      "text/plain": [
       "ETH Zurich - ETHZ                                          10\n",
       "EPF Lausanne - EPFL                                         8\n",
       "University of Geneva - GE                                   8\n",
       "University of Berne - BE                                    6\n",
       "University of Basel - BS                                    5\n",
       "University of Zurich - ZH                                   3\n",
       "Swiss Centre of Expertise in the Social Sciences - FORS     3\n",
       "University of Lausanne - LA                                 3\n",
       "University of Neuchatel - NE                                2\n",
       "University of Fribourg - FR                                 2\n",
       "Name: University, dtype: int64"
      ]
     },
     "execution_count": 23,
     "metadata": {},
     "output_type": "execute_result"
    }
   ],
   "source": [
    "#Antwort\n",
    "df.sort_values('Approved Amount', ascending=False).head(50)['University'].value_counts()"
   ]
  },
  {
   "cell_type": "markdown",
   "metadata": {},
   "source": [
    "**Quiz:** Stellen Sie die Verteilung sämtlicher gesprochenen Beträge in einem Histogramm dar!"
   ]
  },
  {
   "cell_type": "code",
   "execution_count": 24,
   "metadata": {},
   "outputs": [
    {
     "data": {
      "text/plain": [
       "<AxesSubplot:>"
      ]
     },
     "execution_count": 24,
     "metadata": {},
     "output_type": "execute_result"
    },
    {
     "data": {
      "image/png": "[encoded data removed]",
      "text/plain": [
       "<Figure size 864x288 with 1 Axes>"
      ]
     },
     "metadata": {
      "needs_background": "light"
     },
     "output_type": "display_data"
    }
   ],
   "source": [
    "#Antwort\n",
    "df['Approved Amount'].astype(float).hist(bins=100, figsize=(12,4))"
   ]
  },
  {
   "cell_type": "markdown",
   "metadata": {},
   "source": [
    "**Quiz:** In welchen Ländern waren die vergebenen Beträge im Schnitt am Grössten? Zeigen Sie die zehn obersten an."
   ]
  },
  {
   "cell_type": "code",
   "execution_count": 25,
   "metadata": {},
   "outputs": [
    {
     "data": {
      "text/plain": [
       "Institution Country\n",
       "Portugal       703000.000000\n",
       "Austria        416702.000312\n",
       "Switzerland    316738.157168\n",
       "Norway         294984.000000\n",
       "Singapore      251470.000000\n",
       "Ireland        245219.650000\n",
       "Germany        207069.818633\n",
       "Belgium        157181.408000\n",
       "Denmark        148669.570000\n",
       "Spain          142438.250000\n",
       "Name: Approved Amount, dtype: float64"
      ]
     },
     "execution_count": 25,
     "metadata": {},
     "output_type": "execute_result"
    }
   ],
   "source": [
    "#Antwort\n",
    "df.groupby('Institution Country')['Approved Amount'].mean().sort_values(ascending=False).head(10)"
   ]
  },
  {
   "cell_type": "code",
   "execution_count": 26,
   "metadata": {},
   "outputs": [],
   "source": [
    "# Time for a break ..."
   ]
  },
  {
   "cell_type": "markdown",
   "metadata": {},
   "source": [
    "## Werte Kategorisieren"
   ]
  },
  {
   "cell_type": "markdown",
   "metadata": {},
   "source": [
    "Unser Ziel in dieser Sektion: Wir wollen verschiedene *Typen* von Institutionen unterscheiden und auswerten.\n",
    "\n",
    "Wir beschränken uns der Einfachheit halter auf die Institutionen in der Schweiz, die vom SNF Geld gekriegt haben.\n",
    "\n",
    "Wir erstellen erstmal ein Dataframe, in dem nur diese Institutionen vorkommen:\n",
    "\n",
    "(Wir nutzen hier `copy()`, um nicht nur auf einer Referenz, sondern auf einer Kopie zu arbeiten...)"
   ]
  },
  {
   "cell_type": "code",
   "execution_count": 27,
   "metadata": {},
   "outputs": [],
   "source": [
    "df_swiss = df[df['Institution Country'] == 'Switzerland'].copy()"
   ]
  },
  {
   "cell_type": "markdown",
   "metadata": {},
   "source": [
    "Um die Unis nun zu klassifizieren, brauchen wir:\n",
    "- ein neues Feld, das diese Information enthält (\"Institution Type\")\n",
    "- eine Methode, wie wir dieses Feld anhand der restlichen Spalten füllen wollen."
   ]
  },
  {
   "cell_type": "markdown",
   "metadata": {},
   "source": [
    "Das neue Feld ist rasch erstellt:"
   ]
  },
  {
   "cell_type": "code",
   "execution_count": 28,
   "metadata": {},
   "outputs": [],
   "source": [
    "df_swiss['Institution Type'] = \"\""
   ]
  },
  {
   "cell_type": "markdown",
   "metadata": {},
   "source": [
    "Bei der Methode wird es schon schwieriger... Wie vorgehen?\n",
    "\n",
    "Als erstes lassen wir uns mal eine Liste aller Universitäten anzeigen, die in diesem Dataframe vorkommen:"
   ]
  },
  {
   "cell_type": "code",
   "execution_count": 29,
   "metadata": {},
   "outputs": [
    {
     "data": {
      "text/plain": [
       "array(['University of Geneva - GE',\n",
       "       'Non-profit organisations (libraries, museums, foundations) and administration - NPO',\n",
       "       'University of Basel - BS', 'University of Fribourg - FR',\n",
       "       'University of Zurich - ZH',\n",
       "       'Swiss Federal Institute for Forest, Snow and Landscape Research  - WSL',\n",
       "       'University of Berne - BE', 'ETH Zurich - ETHZ',\n",
       "       'University of Lausanne - LA', 'University of Neuchatel - NE',\n",
       "       'Graduate Institute of International and Development Studies - IHEID',\n",
       "       'University of St.Gallen - SG',\n",
       "       'Other Research Institutes - FINST',\n",
       "       'Pädagogische Hochschule Graubünden - PHGR', 'EPF Lausanne - EPFL',\n",
       "       'Pädagogische Hochschule Zürich - PHZH',\n",
       "       'Companies/  Private Industry - FP', 'University of Lucerne - LU',\n",
       "       'Unassignable - NA', 'Swiss Institute of Art Research - SIK-ISEA',\n",
       "       'Dipartimento formazione e apprendimento, Scuola universitaria professionale della Svizzera italiana - SUPSI-DFA',\n",
       "       'University of Applied Sciences and Arts Western Switzerland - HES-SO',\n",
       "       'Robert Walser Foundation Bern - RWS',\n",
       "       'Paul Scherrer Institute - PSI',\n",
       "       'Pädagogische Hochschule St.Gallen - PHSG',\n",
       "       'Swiss Federal Institute of Aquatic Science and Technology - EAWAG',\n",
       "       'Swiss Federal Laboratories for Materials Science and Technology - EMPA',\n",
       "       'Physikal.-Meteorolog. Observatorium Davos - PMOD',\n",
       "       'Berne University of Applied Sciences - BFH',\n",
       "       'Swiss Center for Electronics and Microtech. - CSEM',\n",
       "       'University of Applied Sciences and Arts of Southern Switzerland - SUPSI',\n",
       "       'Luzerner Kantonsspital - LUKS', 'Other Hospitals - ASPIT',\n",
       "       'AO Research Institute - AORI',\n",
       "       'Swiss Institute of Allergy and Asthma Research - SIAF',\n",
       "       'Research Institute of Organic Agriculture - FiBL',\n",
       "       'Institute Friedrich Miescher - FMI',\n",
       "       'Ostschweizer Kinderspital - OSKS',\n",
       "       'Research Institutes Agroscope - AGS',\n",
       "       'Ente Ospedaliero Cantonale - EOC',\n",
       "       'Institute for Work and Health -  IST',\n",
       "       'Eastern Switzerland University of Applied Sciences - OST',\n",
       "       'Cantonal hospital of St.Gallen - KSPSG',\n",
       "       'Kantonsspital Aarau - KSPA',\n",
       "       'Swiss Federal Institute for Vocational Education and Training - EHB',\n",
       "       'Zürcher Fachhochschule - ZFH',\n",
       "       'Università della Svizzera italiana - USI',\n",
       "       'Institut für Kulturforschung Graubünden - IKG',\n",
       "       'University of Applied Sciences and Arts Northwestern Switzerland (without UTE) - FHNW',\n",
       "       'Institution abroad - IACH',\n",
       "       \"Centre de recherche sur l'environnement alpin - CREALP\",\n",
       "       'Idiap Research Institute - IDIAP',\n",
       "       'Pädagogische Hochschule Bern - PHBern',\n",
       "       'Zurich University of Applied Sciences - ZHAW',\n",
       "       'University Institute Kurt Bösch - IUKB',\n",
       "       'Swiss Paraplegic Research - SPF',\n",
       "       'Lucerne University of Applied Sciences and Arts - HSLU',\n",
       "       'Institute for Research in Ophtalmology - IRO',\n",
       "       'Interkantonale Hochschule für Heilpädagogik - HfH',\n",
       "       'Haute école pédagogique du canton de Vaud - HEPL',\n",
       "       'Kantonsspital Baden - KSPB',\n",
       "       'University of Applied Sciences Ostschweiz - FHO',\n",
       "       'Institut Suisse de Spéléologie et Karstologie - ISSKA',\n",
       "       'Swiss Institute of Bioinformatics - SIB',\n",
       "       'Haute Ecole Pédagogique des cantons de Berne, du Jura et de Neuchâtel - HEP-BEJUNE',\n",
       "       'Pädagogische Hochschule Luzern - PHLU',\n",
       "       'Zurich University of the Arts - ZHdK', nan,\n",
       "       'Pädagogische Hochschule der Fachhochschule Nordwestschweiz - PH-FHNW',\n",
       "       'Pädagogische Hochschule Thurgau - PHTG',\n",
       "       'The University of Applied Sciences of Grisons - FHGR',\n",
       "       'Haute école pédagogique du canton de Fribourg/Pädagogische Hochschule Freiburg - HEP-FR',\n",
       "       'Pädagogische Hochschule Schwyz - PHSZ',\n",
       "       'Biotechnology Institute Thurgau - BITG',\n",
       "       'Haute école pédagogique du Valais/Pädagogische Hochschule Wallis - HEP-VS',\n",
       "       'Kalaidos University of Applied Sciences - FHKD',\n",
       "       'Swiss Centre of Expertise in the Social Sciences - FORS',\n",
       "       'Pädagogische Hochschule Zug - PHZG',\n",
       "       'Istituto Ricerche Solari Locarno - IRSOL',\n",
       "       'Franklin University Switzerland - FUS',\n",
       "       'Pädagogische Hochschule Schaffhausen - PHSH',\n",
       "       'Staatsunabhängige Theologische Hochschule Basel - STH',\n",
       "       'Facoltà di Teologia di Lugano - FTL',\n",
       "       'Swiss Distance University Institute - FUSC',\n",
       "       'Cardiocentro Ticino - CT',\n",
       "       'Fernfachhochschule Schweiz (member of SUPSI) - FFHS',\n",
       "       'Institute of Virology and Immunology - IVI'], dtype=object)"
      ]
     },
     "execution_count": 29,
     "metadata": {},
     "output_type": "execute_result"
    }
   ],
   "source": [
    "df_swiss['University'].unique()"
   ]
  },
  {
   "cell_type": "markdown",
   "metadata": {},
   "source": [
    "Schnell wird klar: In dieser Liste sind nicht nur Universitäten, sondern auch Fachhochschulen und andere Institutionen enthalten.\n",
    "\n",
    "Können wir die Klassifizierung evtl danach vornehmen?"
   ]
  },
  {
   "cell_type": "markdown",
   "metadata": {},
   "source": [
    "### Die Quick-Methode"
   ]
  },
  {
   "cell_type": "markdown",
   "metadata": {},
   "source": [
    "Die allereinfachste (und nicht sehr empfehlenswerte) Variante ist, einfach zu checken, ob in einem bestimmten Eintrag das Wort \"University\" vorkommt:\n",
    "\n",
    "- Falls die Institution z.B. \"University of Zurich\" heisst => \"University\"\n",
    "- Falls die Institution z.B. \"Pädagogische Hochschule\" heisst => \"Other\"\n",
    "\n",
    "Wir können für diesen Check die Funktion `str.contains()` verwenden.\n",
    "\n",
    "Heraus kommt eine Liste von True/False-Werten, die wir weiter verwenden können..."
   ]
  },
  {
   "cell_type": "code",
   "execution_count": 30,
   "metadata": {},
   "outputs": [
    {
     "data": {
      "text/plain": [
       "1         True\n",
       "2        False\n",
       "3         True\n",
       "4        False\n",
       "5         True\n",
       "         ...  \n",
       "76997     True\n",
       "77000     True\n",
       "77001     True\n",
       "77003     True\n",
       "77005     True\n",
       "Name: University, Length: 56953, dtype: bool"
      ]
     },
     "execution_count": 30,
     "metadata": {},
     "output_type": "execute_result"
    }
   ],
   "source": [
    "df_swiss['University'].str.contains('University', na=False)"
   ]
  },
  {
   "cell_type": "markdown",
   "metadata": {},
   "source": [
    "Zum Beispiel als Filter - wir kriegen nun alle \"University\"-artigen Zeilen..."
   ]
  },
  {
   "cell_type": "code",
   "execution_count": 31,
   "metadata": {},
   "outputs": [
    {
     "data": {
      "text/html": [
       "<div>\n",
       "<style scoped>\n",
       "    .dataframe tbody tr th:only-of-type {\n",
       "        vertical-align: middle;\n",
       "    }\n",
       "\n",
       "    .dataframe tbody tr th {\n",
       "        vertical-align: top;\n",
       "    }\n",
       "\n",
       "    .dataframe thead th {\n",
       "        text-align: right;\n",
       "    }\n",
       "</style>\n",
       "<table border=\"1\" class=\"dataframe\">\n",
       "  <thead>\n",
       "    <tr style=\"text-align: right;\">\n",
       "      <th></th>\n",
       "      <th>Project Number</th>\n",
       "      <th>Project Number String</th>\n",
       "      <th>Project Title</th>\n",
       "      <th>Project Title English</th>\n",
       "      <th>Responsible Applicant</th>\n",
       "      <th>Funding Instrument</th>\n",
       "      <th>Funding Instrument Hierarchy</th>\n",
       "      <th>Institution</th>\n",
       "      <th>Institution Country</th>\n",
       "      <th>University</th>\n",
       "      <th>Discipline Number</th>\n",
       "      <th>Discipline Name</th>\n",
       "      <th>Discipline Name Hierarchy</th>\n",
       "      <th>All disciplines</th>\n",
       "      <th>Start Date</th>\n",
       "      <th>End Date</th>\n",
       "      <th>Approved Amount</th>\n",
       "      <th>Keywords</th>\n",
       "      <th>Institution Type</th>\n",
       "    </tr>\n",
       "  </thead>\n",
       "  <tbody>\n",
       "    <tr>\n",
       "      <th>1</th>\n",
       "      <td>4</td>\n",
       "      <td>1000-000004</td>\n",
       "      <td>Batterie de tests à l'usage des enseignants po...</td>\n",
       "      <td>NaN</td>\n",
       "      <td>Massarenti Léonard</td>\n",
       "      <td>Project funding (Div. I-III)</td>\n",
       "      <td>Project funding</td>\n",
       "      <td>FPSE  Université de Genève</td>\n",
       "      <td>Switzerland</td>\n",
       "      <td>University of Geneva - GE</td>\n",
       "      <td>10104</td>\n",
       "      <td>Education and learning sciences, subject-speci...</td>\n",
       "      <td>Humanities and Social Sciences;Psychology, edu...</td>\n",
       "      <td>10104</td>\n",
       "      <td>01.10.1975</td>\n",
       "      <td>30.09.1976</td>\n",
       "      <td>41022.0</td>\n",
       "      <td>NaN</td>\n",
       "      <td></td>\n",
       "    </tr>\n",
       "    <tr>\n",
       "      <th>3</th>\n",
       "      <td>6</td>\n",
       "      <td>1000-000006</td>\n",
       "      <td>Katalog der datierten Handschriften in der Sch...</td>\n",
       "      <td>NaN</td>\n",
       "      <td>Burckhardt Max</td>\n",
       "      <td>Project funding (Div. I-III)</td>\n",
       "      <td>Project funding</td>\n",
       "      <td>Abteilung Handschriften und Alte Drucke Univer...</td>\n",
       "      <td>Switzerland</td>\n",
       "      <td>University of Basel - BS</td>\n",
       "      <td>10302</td>\n",
       "      <td>Swiss history</td>\n",
       "      <td>Humanities and Social Sciences;Theology &amp; reli...</td>\n",
       "      <td>10302</td>\n",
       "      <td>01.10.1975</td>\n",
       "      <td>30.09.1976</td>\n",
       "      <td>52627.0</td>\n",
       "      <td>NaN</td>\n",
       "      <td></td>\n",
       "    </tr>\n",
       "    <tr>\n",
       "      <th>5</th>\n",
       "      <td>8</td>\n",
       "      <td>1000-000008</td>\n",
       "      <td>Die schweizerische Wirtschaftspolitik seit dem...</td>\n",
       "      <td>NaN</td>\n",
       "      <td>Kleinewefers Henner</td>\n",
       "      <td>Project funding (Div. I-III)</td>\n",
       "      <td>Project funding</td>\n",
       "      <td>Séminaire de politique économique, d'économie ...</td>\n",
       "      <td>Switzerland</td>\n",
       "      <td>University of Fribourg - FR</td>\n",
       "      <td>10203</td>\n",
       "      <td>Economics</td>\n",
       "      <td>Humanities and Social Sciences;Economics, law</td>\n",
       "      <td>10203</td>\n",
       "      <td>01.01.1976</td>\n",
       "      <td>31.12.1978</td>\n",
       "      <td>53009.0</td>\n",
       "      <td>NaN</td>\n",
       "      <td></td>\n",
       "    </tr>\n",
       "  </tbody>\n",
       "</table>\n",
       "</div>"
      ],
      "text/plain": [
       "   Project Number Project Number String  \\\n",
       "1               4           1000-000004   \n",
       "3               6           1000-000006   \n",
       "5               8           1000-000008   \n",
       "\n",
       "                                       Project Title Project Title English  \\\n",
       "1  Batterie de tests à l'usage des enseignants po...                   NaN   \n",
       "3  Katalog der datierten Handschriften in der Sch...                   NaN   \n",
       "5  Die schweizerische Wirtschaftspolitik seit dem...                   NaN   \n",
       "\n",
       "  Responsible Applicant            Funding Instrument  \\\n",
       "1    Massarenti Léonard  Project funding (Div. I-III)   \n",
       "3        Burckhardt Max  Project funding (Div. I-III)   \n",
       "5   Kleinewefers Henner  Project funding (Div. I-III)   \n",
       "\n",
       "  Funding Instrument Hierarchy  \\\n",
       "1              Project funding   \n",
       "3              Project funding   \n",
       "5              Project funding   \n",
       "\n",
       "                                         Institution Institution Country  \\\n",
       "1                         FPSE  Université de Genève         Switzerland   \n",
       "3  Abteilung Handschriften und Alte Drucke Univer...         Switzerland   \n",
       "5  Séminaire de politique économique, d'économie ...         Switzerland   \n",
       "\n",
       "                    University  Discipline Number  \\\n",
       "1    University of Geneva - GE              10104   \n",
       "3     University of Basel - BS              10302   \n",
       "5  University of Fribourg - FR              10203   \n",
       "\n",
       "                                     Discipline Name  \\\n",
       "1  Education and learning sciences, subject-speci...   \n",
       "3                                      Swiss history   \n",
       "5                                          Economics   \n",
       "\n",
       "                           Discipline Name Hierarchy All disciplines  \\\n",
       "1  Humanities and Social Sciences;Psychology, edu...           10104   \n",
       "3  Humanities and Social Sciences;Theology & reli...           10302   \n",
       "5      Humanities and Social Sciences;Economics, law           10203   \n",
       "\n",
       "   Start Date    End Date  Approved Amount Keywords Institution Type  \n",
       "1  01.10.1975  30.09.1976          41022.0      NaN                   \n",
       "3  01.10.1975  30.09.1976          52627.0      NaN                   \n",
       "5  01.01.1976  31.12.1978          53009.0      NaN                   "
      ]
     },
     "execution_count": 31,
     "metadata": {},
     "output_type": "execute_result"
    }
   ],
   "source": [
    "df_swiss[df_swiss['University'].str.contains('University', na=False)].head(3)"
   ]
  },
  {
   "cell_type": "markdown",
   "metadata": {},
   "source": [
    "In dieser Zeilenauswahl können wir nun das Feld \"Institution Type\" auf \"University\" setzen.\n",
    "\n",
    "Note: Wir verwenden die `.loc[...]`-Notation, weil Pandas das sonst nicht gerne hat."
   ]
  },
  {
   "cell_type": "code",
   "execution_count": 32,
   "metadata": {},
   "outputs": [],
   "source": [
    "df_swiss.loc[df_swiss['University'].str.contains('University', na=False), 'Institution Type'] = 'University'"
   ]
  },
  {
   "cell_type": "markdown",
   "metadata": {},
   "source": [
    "In unserem Dataframe haben wir jetzt einige Einträge gefüllt..."
   ]
  },
  {
   "cell_type": "code",
   "execution_count": 33,
   "metadata": {},
   "outputs": [
    {
     "data": {
      "text/html": [
       "<div>\n",
       "<style scoped>\n",
       "    .dataframe tbody tr th:only-of-type {\n",
       "        vertical-align: middle;\n",
       "    }\n",
       "\n",
       "    .dataframe tbody tr th {\n",
       "        vertical-align: top;\n",
       "    }\n",
       "\n",
       "    .dataframe thead th {\n",
       "        text-align: right;\n",
       "    }\n",
       "</style>\n",
       "<table border=\"1\" class=\"dataframe\">\n",
       "  <thead>\n",
       "    <tr style=\"text-align: right;\">\n",
       "      <th></th>\n",
       "      <th>Project Number</th>\n",
       "      <th>Project Number String</th>\n",
       "      <th>Project Title</th>\n",
       "      <th>Project Title English</th>\n",
       "      <th>Responsible Applicant</th>\n",
       "      <th>Funding Instrument</th>\n",
       "      <th>Funding Instrument Hierarchy</th>\n",
       "      <th>Institution</th>\n",
       "      <th>Institution Country</th>\n",
       "      <th>University</th>\n",
       "      <th>Discipline Number</th>\n",
       "      <th>Discipline Name</th>\n",
       "      <th>Discipline Name Hierarchy</th>\n",
       "      <th>All disciplines</th>\n",
       "      <th>Start Date</th>\n",
       "      <th>End Date</th>\n",
       "      <th>Approved Amount</th>\n",
       "      <th>Keywords</th>\n",
       "      <th>Institution Type</th>\n",
       "    </tr>\n",
       "  </thead>\n",
       "  <tbody>\n",
       "    <tr>\n",
       "      <th>1</th>\n",
       "      <td>4</td>\n",
       "      <td>1000-000004</td>\n",
       "      <td>Batterie de tests à l'usage des enseignants po...</td>\n",
       "      <td>NaN</td>\n",
       "      <td>Massarenti Léonard</td>\n",
       "      <td>Project funding (Div. I-III)</td>\n",
       "      <td>Project funding</td>\n",
       "      <td>FPSE  Université de Genève</td>\n",
       "      <td>Switzerland</td>\n",
       "      <td>University of Geneva - GE</td>\n",
       "      <td>10104</td>\n",
       "      <td>Education and learning sciences, subject-speci...</td>\n",
       "      <td>Humanities and Social Sciences;Psychology, edu...</td>\n",
       "      <td>10104</td>\n",
       "      <td>01.10.1975</td>\n",
       "      <td>30.09.1976</td>\n",
       "      <td>41022.0</td>\n",
       "      <td>NaN</td>\n",
       "      <td>University</td>\n",
       "    </tr>\n",
       "    <tr>\n",
       "      <th>2</th>\n",
       "      <td>5</td>\n",
       "      <td>1000-000005</td>\n",
       "      <td>Kritische Erstausgabe der 'Evidentiae contra D...</td>\n",
       "      <td>NaN</td>\n",
       "      <td>Kommission für das Corpus philosophorum medii ...</td>\n",
       "      <td>Project funding (Div. I-III)</td>\n",
       "      <td>Project funding</td>\n",
       "      <td>Kommission für das Corpus philosophorum medii ...</td>\n",
       "      <td>Switzerland</td>\n",
       "      <td>Non-profit organisations (libraries, museums, ...</td>\n",
       "      <td>10101</td>\n",
       "      <td>Philosophy</td>\n",
       "      <td>Humanities and Social Sciences;Linguistics and...</td>\n",
       "      <td>10101</td>\n",
       "      <td>01.03.1976</td>\n",
       "      <td>28.02.1985</td>\n",
       "      <td>79732.0</td>\n",
       "      <td>NaN</td>\n",
       "      <td></td>\n",
       "    </tr>\n",
       "    <tr>\n",
       "      <th>3</th>\n",
       "      <td>6</td>\n",
       "      <td>1000-000006</td>\n",
       "      <td>Katalog der datierten Handschriften in der Sch...</td>\n",
       "      <td>NaN</td>\n",
       "      <td>Burckhardt Max</td>\n",
       "      <td>Project funding (Div. I-III)</td>\n",
       "      <td>Project funding</td>\n",
       "      <td>Abteilung Handschriften und Alte Drucke Univer...</td>\n",
       "      <td>Switzerland</td>\n",
       "      <td>University of Basel - BS</td>\n",
       "      <td>10302</td>\n",
       "      <td>Swiss history</td>\n",
       "      <td>Humanities and Social Sciences;Theology &amp; reli...</td>\n",
       "      <td>10302</td>\n",
       "      <td>01.10.1975</td>\n",
       "      <td>30.09.1976</td>\n",
       "      <td>52627.0</td>\n",
       "      <td>NaN</td>\n",
       "      <td>University</td>\n",
       "    </tr>\n",
       "  </tbody>\n",
       "</table>\n",
       "</div>"
      ],
      "text/plain": [
       "   Project Number Project Number String  \\\n",
       "1               4           1000-000004   \n",
       "2               5           1000-000005   \n",
       "3               6           1000-000006   \n",
       "\n",
       "                                       Project Title Project Title English  \\\n",
       "1  Batterie de tests à l'usage des enseignants po...                   NaN   \n",
       "2  Kritische Erstausgabe der 'Evidentiae contra D...                   NaN   \n",
       "3  Katalog der datierten Handschriften in der Sch...                   NaN   \n",
       "\n",
       "                               Responsible Applicant  \\\n",
       "1                                 Massarenti Léonard   \n",
       "2  Kommission für das Corpus philosophorum medii ...   \n",
       "3                                     Burckhardt Max   \n",
       "\n",
       "             Funding Instrument Funding Instrument Hierarchy  \\\n",
       "1  Project funding (Div. I-III)              Project funding   \n",
       "2  Project funding (Div. I-III)              Project funding   \n",
       "3  Project funding (Div. I-III)              Project funding   \n",
       "\n",
       "                                         Institution Institution Country  \\\n",
       "1                         FPSE  Université de Genève         Switzerland   \n",
       "2  Kommission für das Corpus philosophorum medii ...         Switzerland   \n",
       "3  Abteilung Handschriften und Alte Drucke Univer...         Switzerland   \n",
       "\n",
       "                                          University  Discipline Number  \\\n",
       "1                          University of Geneva - GE              10104   \n",
       "2  Non-profit organisations (libraries, museums, ...              10101   \n",
       "3                           University of Basel - BS              10302   \n",
       "\n",
       "                                     Discipline Name  \\\n",
       "1  Education and learning sciences, subject-speci...   \n",
       "2                                         Philosophy   \n",
       "3                                      Swiss history   \n",
       "\n",
       "                           Discipline Name Hierarchy All disciplines  \\\n",
       "1  Humanities and Social Sciences;Psychology, edu...           10104   \n",
       "2  Humanities and Social Sciences;Linguistics and...           10101   \n",
       "3  Humanities and Social Sciences;Theology & reli...           10302   \n",
       "\n",
       "   Start Date    End Date  Approved Amount Keywords Institution Type  \n",
       "1  01.10.1975  30.09.1976          41022.0      NaN       University  \n",
       "2  01.03.1976  28.02.1985          79732.0      NaN                   \n",
       "3  01.10.1975  30.09.1976          52627.0      NaN       University  "
      ]
     },
     "execution_count": 33,
     "metadata": {},
     "output_type": "execute_result"
    }
   ],
   "source": [
    "df_swiss.head(3)"
   ]
  },
  {
   "cell_type": "markdown",
   "metadata": {},
   "source": [
    "Nun können wir in die restlichen (leeren) Zeilen was anderes reinschreiben, z.B. \"Other\""
   ]
  },
  {
   "cell_type": "code",
   "execution_count": 34,
   "metadata": {},
   "outputs": [],
   "source": [
    "df_swiss.loc[df_swiss['Institution Type'] == \"\", 'Institution Type'] = \"Other\""
   ]
  },
  {
   "cell_type": "code",
   "execution_count": 35,
   "metadata": {},
   "outputs": [
    {
     "data": {
      "text/html": [
       "<div>\n",
       "<style scoped>\n",
       "    .dataframe tbody tr th:only-of-type {\n",
       "        vertical-align: middle;\n",
       "    }\n",
       "\n",
       "    .dataframe tbody tr th {\n",
       "        vertical-align: top;\n",
       "    }\n",
       "\n",
       "    .dataframe thead th {\n",
       "        text-align: right;\n",
       "    }\n",
       "</style>\n",
       "<table border=\"1\" class=\"dataframe\">\n",
       "  <thead>\n",
       "    <tr style=\"text-align: right;\">\n",
       "      <th></th>\n",
       "      <th>Project Number</th>\n",
       "      <th>Project Number String</th>\n",
       "      <th>Project Title</th>\n",
       "      <th>Project Title English</th>\n",
       "      <th>Responsible Applicant</th>\n",
       "      <th>Funding Instrument</th>\n",
       "      <th>Funding Instrument Hierarchy</th>\n",
       "      <th>Institution</th>\n",
       "      <th>Institution Country</th>\n",
       "      <th>University</th>\n",
       "      <th>Discipline Number</th>\n",
       "      <th>Discipline Name</th>\n",
       "      <th>Discipline Name Hierarchy</th>\n",
       "      <th>All disciplines</th>\n",
       "      <th>Start Date</th>\n",
       "      <th>End Date</th>\n",
       "      <th>Approved Amount</th>\n",
       "      <th>Keywords</th>\n",
       "      <th>Institution Type</th>\n",
       "    </tr>\n",
       "  </thead>\n",
       "  <tbody>\n",
       "    <tr>\n",
       "      <th>1</th>\n",
       "      <td>4</td>\n",
       "      <td>1000-000004</td>\n",
       "      <td>Batterie de tests à l'usage des enseignants po...</td>\n",
       "      <td>NaN</td>\n",
       "      <td>Massarenti Léonard</td>\n",
       "      <td>Project funding (Div. I-III)</td>\n",
       "      <td>Project funding</td>\n",
       "      <td>FPSE  Université de Genève</td>\n",
       "      <td>Switzerland</td>\n",
       "      <td>University of Geneva - GE</td>\n",
       "      <td>10104</td>\n",
       "      <td>Education and learning sciences, subject-speci...</td>\n",
       "      <td>Humanities and Social Sciences;Psychology, edu...</td>\n",
       "      <td>10104</td>\n",
       "      <td>01.10.1975</td>\n",
       "      <td>30.09.1976</td>\n",
       "      <td>41022.0</td>\n",
       "      <td>NaN</td>\n",
       "      <td>University</td>\n",
       "    </tr>\n",
       "    <tr>\n",
       "      <th>2</th>\n",
       "      <td>5</td>\n",
       "      <td>1000-000005</td>\n",
       "      <td>Kritische Erstausgabe der 'Evidentiae contra D...</td>\n",
       "      <td>NaN</td>\n",
       "      <td>Kommission für das Corpus philosophorum medii ...</td>\n",
       "      <td>Project funding (Div. I-III)</td>\n",
       "      <td>Project funding</td>\n",
       "      <td>Kommission für das Corpus philosophorum medii ...</td>\n",
       "      <td>Switzerland</td>\n",
       "      <td>Non-profit organisations (libraries, museums, ...</td>\n",
       "      <td>10101</td>\n",
       "      <td>Philosophy</td>\n",
       "      <td>Humanities and Social Sciences;Linguistics and...</td>\n",
       "      <td>10101</td>\n",
       "      <td>01.03.1976</td>\n",
       "      <td>28.02.1985</td>\n",
       "      <td>79732.0</td>\n",
       "      <td>NaN</td>\n",
       "      <td>Other</td>\n",
       "    </tr>\n",
       "    <tr>\n",
       "      <th>3</th>\n",
       "      <td>6</td>\n",
       "      <td>1000-000006</td>\n",
       "      <td>Katalog der datierten Handschriften in der Sch...</td>\n",
       "      <td>NaN</td>\n",
       "      <td>Burckhardt Max</td>\n",
       "      <td>Project funding (Div. I-III)</td>\n",
       "      <td>Project funding</td>\n",
       "      <td>Abteilung Handschriften und Alte Drucke Univer...</td>\n",
       "      <td>Switzerland</td>\n",
       "      <td>University of Basel - BS</td>\n",
       "      <td>10302</td>\n",
       "      <td>Swiss history</td>\n",
       "      <td>Humanities and Social Sciences;Theology &amp; reli...</td>\n",
       "      <td>10302</td>\n",
       "      <td>01.10.1975</td>\n",
       "      <td>30.09.1976</td>\n",
       "      <td>52627.0</td>\n",
       "      <td>NaN</td>\n",
       "      <td>University</td>\n",
       "    </tr>\n",
       "  </tbody>\n",
       "</table>\n",
       "</div>"
      ],
      "text/plain": [
       "   Project Number Project Number String  \\\n",
       "1               4           1000-000004   \n",
       "2               5           1000-000005   \n",
       "3               6           1000-000006   \n",
       "\n",
       "                                       Project Title Project Title English  \\\n",
       "1  Batterie de tests à l'usage des enseignants po...                   NaN   \n",
       "2  Kritische Erstausgabe der 'Evidentiae contra D...                   NaN   \n",
       "3  Katalog der datierten Handschriften in der Sch...                   NaN   \n",
       "\n",
       "                               Responsible Applicant  \\\n",
       "1                                 Massarenti Léonard   \n",
       "2  Kommission für das Corpus philosophorum medii ...   \n",
       "3                                     Burckhardt Max   \n",
       "\n",
       "             Funding Instrument Funding Instrument Hierarchy  \\\n",
       "1  Project funding (Div. I-III)              Project funding   \n",
       "2  Project funding (Div. I-III)              Project funding   \n",
       "3  Project funding (Div. I-III)              Project funding   \n",
       "\n",
       "                                         Institution Institution Country  \\\n",
       "1                         FPSE  Université de Genève         Switzerland   \n",
       "2  Kommission für das Corpus philosophorum medii ...         Switzerland   \n",
       "3  Abteilung Handschriften und Alte Drucke Univer...         Switzerland   \n",
       "\n",
       "                                          University  Discipline Number  \\\n",
       "1                          University of Geneva - GE              10104   \n",
       "2  Non-profit organisations (libraries, museums, ...              10101   \n",
       "3                           University of Basel - BS              10302   \n",
       "\n",
       "                                     Discipline Name  \\\n",
       "1  Education and learning sciences, subject-speci...   \n",
       "2                                         Philosophy   \n",
       "3                                      Swiss history   \n",
       "\n",
       "                           Discipline Name Hierarchy All disciplines  \\\n",
       "1  Humanities and Social Sciences;Psychology, edu...           10104   \n",
       "2  Humanities and Social Sciences;Linguistics and...           10101   \n",
       "3  Humanities and Social Sciences;Theology & reli...           10302   \n",
       "\n",
       "   Start Date    End Date  Approved Amount Keywords Institution Type  \n",
       "1  01.10.1975  30.09.1976          41022.0      NaN       University  \n",
       "2  01.03.1976  28.02.1985          79732.0      NaN            Other  \n",
       "3  01.10.1975  30.09.1976          52627.0      NaN       University  "
      ]
     },
     "execution_count": 35,
     "metadata": {},
     "output_type": "execute_result"
    }
   ],
   "source": [
    "df_swiss.head(3)"
   ]
  },
  {
   "cell_type": "markdown",
   "metadata": {},
   "source": [
    "Wir können nun zB ausrechnen, wie viel Geld die Universitäten und die übrigen Institutionen in der Summe gekriegt haben:"
   ]
  },
  {
   "cell_type": "code",
   "execution_count": 36,
   "metadata": {},
   "outputs": [
    {
     "data": {
      "text/plain": [
       "Institution Type\n",
       "Other         5.707580e+09\n",
       "University    1.227301e+10\n",
       "Name: Approved Amount, dtype: float64"
      ]
     },
     "execution_count": 36,
     "metadata": {},
     "output_type": "execute_result"
    }
   ],
   "source": [
    "df_swiss.groupby('Institution Type')['Approved Amount'].sum()"
   ]
  },
  {
   "cell_type": "markdown",
   "metadata": {},
   "source": [
    "Aber wie gesagt, es gibt bessere Wege. (zB haben wir nun Einträge wie \"Université\" nicht berücksichtigt."
   ]
  },
  {
   "cell_type": "markdown",
   "metadata": {},
   "source": [
    "### Die ausführliche Methode\n",
    "\n",
    "Und nun zur saubersten Art, wie man die Institutionen in dieser Tabelle hier klassifizieren sollte: von Hand.\n",
    "\n",
    "Das heisst:\n",
    "- Wir erstellen eine Liste aller Institute, die in der Schweiz vorkommen\n",
    "- Wir exportieren diese Liste, um sie z.B. in Excel manuell zu kategorisieren\n",
    "- Wir laden die manuell kategorisierte Liste zurück in Pandas\n",
    "- Anahnd dieser Liste wird automatisch der Typ gematcht"
   ]
  },
  {
   "cell_type": "markdown",
   "metadata": {},
   "source": [
    "Um zu starten, ziehen wir uns die Liste der unique Values, diesmal gleich als Dataframe:"
   ]
  },
  {
   "cell_type": "code",
   "execution_count": 37,
   "metadata": {},
   "outputs": [
    {
     "data": {
      "text/html": [
       "<div>\n",
       "<style scoped>\n",
       "    .dataframe tbody tr th:only-of-type {\n",
       "        vertical-align: middle;\n",
       "    }\n",
       "\n",
       "    .dataframe tbody tr th {\n",
       "        vertical-align: top;\n",
       "    }\n",
       "\n",
       "    .dataframe thead th {\n",
       "        text-align: right;\n",
       "    }\n",
       "</style>\n",
       "<table border=\"1\" class=\"dataframe\">\n",
       "  <thead>\n",
       "    <tr style=\"text-align: right;\">\n",
       "      <th></th>\n",
       "      <th>0</th>\n",
       "    </tr>\n",
       "  </thead>\n",
       "  <tbody>\n",
       "    <tr>\n",
       "      <th>0</th>\n",
       "      <td>University of Geneva - GE</td>\n",
       "    </tr>\n",
       "    <tr>\n",
       "      <th>1</th>\n",
       "      <td>Non-profit organisations (libraries, museums, ...</td>\n",
       "    </tr>\n",
       "    <tr>\n",
       "      <th>2</th>\n",
       "      <td>University of Basel - BS</td>\n",
       "    </tr>\n",
       "    <tr>\n",
       "      <th>3</th>\n",
       "      <td>University of Fribourg - FR</td>\n",
       "    </tr>\n",
       "    <tr>\n",
       "      <th>4</th>\n",
       "      <td>University of Zurich - ZH</td>\n",
       "    </tr>\n",
       "    <tr>\n",
       "      <th>...</th>\n",
       "      <td>...</td>\n",
       "    </tr>\n",
       "    <tr>\n",
       "      <th>82</th>\n",
       "      <td>Facoltà di Teologia di Lugano - FTL</td>\n",
       "    </tr>\n",
       "    <tr>\n",
       "      <th>83</th>\n",
       "      <td>Swiss Distance University Institute - FUSC</td>\n",
       "    </tr>\n",
       "    <tr>\n",
       "      <th>84</th>\n",
       "      <td>Cardiocentro Ticino - CT</td>\n",
       "    </tr>\n",
       "    <tr>\n",
       "      <th>85</th>\n",
       "      <td>Fernfachhochschule Schweiz (member of SUPSI) -...</td>\n",
       "    </tr>\n",
       "    <tr>\n",
       "      <th>86</th>\n",
       "      <td>Institute of Virology and Immunology - IVI</td>\n",
       "    </tr>\n",
       "  </tbody>\n",
       "</table>\n",
       "<p>87 rows × 1 columns</p>\n",
       "</div>"
      ],
      "text/plain": [
       "                                                    0\n",
       "0                           University of Geneva - GE\n",
       "1   Non-profit organisations (libraries, museums, ...\n",
       "2                            University of Basel - BS\n",
       "3                         University of Fribourg - FR\n",
       "4                           University of Zurich - ZH\n",
       "..                                                ...\n",
       "82                Facoltà di Teologia di Lugano - FTL\n",
       "83         Swiss Distance University Institute - FUSC\n",
       "84                           Cardiocentro Ticino - CT\n",
       "85  Fernfachhochschule Schweiz (member of SUPSI) -...\n",
       "86         Institute of Virology and Immunology - IVI\n",
       "\n",
       "[87 rows x 1 columns]"
      ]
     },
     "execution_count": 37,
     "metadata": {},
     "output_type": "execute_result"
    }
   ],
   "source": [
    "df_unique = pd.DataFrame(df_swiss['University'].unique())\n",
    "df_unique"
   ]
  },
  {
   "cell_type": "markdown",
   "metadata": {},
   "source": [
    "Weil es einfacher geht, bearbeiten wir die Liste in einem externen Programm... mit der Funktion `to_csv()`"
   ]
  },
  {
   "cell_type": "code",
   "execution_count": 38,
   "metadata": {},
   "outputs": [],
   "source": [
    "df_unique.to_csv('dataprojects/SNF/klassifizieren.csv', index=False)"
   ]
  },
  {
   "cell_type": "markdown",
   "metadata": {
    "collapsed": true
   },
   "source": [
    "... im Excel, oder anderswo bearbeiten, und wieder laden: (Ich habe das hier schonmal vorbereitet)"
   ]
  },
  {
   "cell_type": "code",
   "execution_count": 39,
   "metadata": {},
   "outputs": [],
   "source": [
    "df_unique_edited = pd.read_excel('dataprojects/SNF/klassifiziert_neu.xlsx')"
   ]
  },
  {
   "cell_type": "code",
   "execution_count": 40,
   "metadata": {},
   "outputs": [
    {
     "data": {
      "text/html": [
       "<div>\n",
       "<style scoped>\n",
       "    .dataframe tbody tr th:only-of-type {\n",
       "        vertical-align: middle;\n",
       "    }\n",
       "\n",
       "    .dataframe tbody tr th {\n",
       "        vertical-align: top;\n",
       "    }\n",
       "\n",
       "    .dataframe thead th {\n",
       "        text-align: right;\n",
       "    }\n",
       "</style>\n",
       "<table border=\"1\" class=\"dataframe\">\n",
       "  <thead>\n",
       "    <tr style=\"text-align: right;\">\n",
       "      <th></th>\n",
       "      <th>University</th>\n",
       "      <th>New Type</th>\n",
       "    </tr>\n",
       "  </thead>\n",
       "  <tbody>\n",
       "    <tr>\n",
       "      <th>0</th>\n",
       "      <td>University of Geneva - GE</td>\n",
       "      <td>Universität</td>\n",
       "    </tr>\n",
       "    <tr>\n",
       "      <th>1</th>\n",
       "      <td>Non-profit organisations (libraries, museums, ...</td>\n",
       "      <td>Other</td>\n",
       "    </tr>\n",
       "    <tr>\n",
       "      <th>2</th>\n",
       "      <td>University of Basel - BS</td>\n",
       "      <td>Universität</td>\n",
       "    </tr>\n",
       "    <tr>\n",
       "      <th>3</th>\n",
       "      <td>University of Fribourg - FR</td>\n",
       "      <td>Universität</td>\n",
       "    </tr>\n",
       "    <tr>\n",
       "      <th>4</th>\n",
       "      <td>University of Zurich - ZH</td>\n",
       "      <td>Universität</td>\n",
       "    </tr>\n",
       "    <tr>\n",
       "      <th>...</th>\n",
       "      <td>...</td>\n",
       "      <td>...</td>\n",
       "    </tr>\n",
       "    <tr>\n",
       "      <th>81</th>\n",
       "      <td>Facoltà di Teologia di Lugano - FTL</td>\n",
       "      <td>Other</td>\n",
       "    </tr>\n",
       "    <tr>\n",
       "      <th>82</th>\n",
       "      <td>Swiss Distance University Institute - FUSC</td>\n",
       "      <td>Other</td>\n",
       "    </tr>\n",
       "    <tr>\n",
       "      <th>83</th>\n",
       "      <td>Cardiocentro Ticino - CT</td>\n",
       "      <td>Other</td>\n",
       "    </tr>\n",
       "    <tr>\n",
       "      <th>84</th>\n",
       "      <td>Fernfachhochschule Schweiz (member of SUPSI) -...</td>\n",
       "      <td>Fachhochschule</td>\n",
       "    </tr>\n",
       "    <tr>\n",
       "      <th>85</th>\n",
       "      <td>Institute of Virology and Immunology - IVI</td>\n",
       "      <td>Other</td>\n",
       "    </tr>\n",
       "  </tbody>\n",
       "</table>\n",
       "<p>86 rows × 2 columns</p>\n",
       "</div>"
      ],
      "text/plain": [
       "                                           University        New Type\n",
       "0                           University of Geneva - GE     Universität\n",
       "1   Non-profit organisations (libraries, museums, ...           Other\n",
       "2                            University of Basel - BS     Universität\n",
       "3                         University of Fribourg - FR     Universität\n",
       "4                           University of Zurich - ZH     Universität\n",
       "..                                                ...             ...\n",
       "81                Facoltà di Teologia di Lugano - FTL           Other\n",
       "82         Swiss Distance University Institute - FUSC           Other\n",
       "83                           Cardiocentro Ticino - CT           Other\n",
       "84  Fernfachhochschule Schweiz (member of SUPSI) -...  Fachhochschule\n",
       "85         Institute of Virology and Immunology - IVI           Other\n",
       "\n",
       "[86 rows x 2 columns]"
      ]
     },
     "execution_count": 40,
     "metadata": {},
     "output_type": "execute_result"
    }
   ],
   "source": [
    "df_unique_edited"
   ]
  },
  {
   "cell_type": "markdown",
   "metadata": {},
   "source": [
    "Wir haben jetzt zwei Tabellen: `df_swiss` (die grosse Datentabelle) und `df_unique` (die Klassifizierungen).\n",
    "\n",
    "**And now the magic happens...**\n",
    "\n",
    "Diese zwei Tabellen können wir nun verknüpfen, und zwar mit der Funktion `merge()`"
   ]
  },
  {
   "cell_type": "code",
   "execution_count": 41,
   "metadata": {},
   "outputs": [
    {
     "data": {
      "text/html": [
       "<div>\n",
       "<style scoped>\n",
       "    .dataframe tbody tr th:only-of-type {\n",
       "        vertical-align: middle;\n",
       "    }\n",
       "\n",
       "    .dataframe tbody tr th {\n",
       "        vertical-align: top;\n",
       "    }\n",
       "\n",
       "    .dataframe thead th {\n",
       "        text-align: right;\n",
       "    }\n",
       "</style>\n",
       "<table border=\"1\" class=\"dataframe\">\n",
       "  <thead>\n",
       "    <tr style=\"text-align: right;\">\n",
       "      <th></th>\n",
       "      <th>Project Number</th>\n",
       "      <th>Project Number String</th>\n",
       "      <th>Project Title</th>\n",
       "      <th>Project Title English</th>\n",
       "      <th>Responsible Applicant</th>\n",
       "      <th>Funding Instrument</th>\n",
       "      <th>Funding Instrument Hierarchy</th>\n",
       "      <th>Institution</th>\n",
       "      <th>Institution Country</th>\n",
       "      <th>University</th>\n",
       "      <th>Discipline Number</th>\n",
       "      <th>Discipline Name</th>\n",
       "      <th>Discipline Name Hierarchy</th>\n",
       "      <th>All disciplines</th>\n",
       "      <th>Start Date</th>\n",
       "      <th>End Date</th>\n",
       "      <th>Approved Amount</th>\n",
       "      <th>Keywords</th>\n",
       "      <th>Institution Type</th>\n",
       "      <th>New Type</th>\n",
       "    </tr>\n",
       "  </thead>\n",
       "  <tbody>\n",
       "    <tr>\n",
       "      <th>0</th>\n",
       "      <td>4</td>\n",
       "      <td>1000-000004</td>\n",
       "      <td>Batterie de tests à l'usage des enseignants po...</td>\n",
       "      <td>NaN</td>\n",
       "      <td>Massarenti Léonard</td>\n",
       "      <td>Project funding (Div. I-III)</td>\n",
       "      <td>Project funding</td>\n",
       "      <td>FPSE  Université de Genève</td>\n",
       "      <td>Switzerland</td>\n",
       "      <td>University of Geneva - GE</td>\n",
       "      <td>10104</td>\n",
       "      <td>Education and learning sciences, subject-speci...</td>\n",
       "      <td>Humanities and Social Sciences;Psychology, edu...</td>\n",
       "      <td>10104</td>\n",
       "      <td>01.10.1975</td>\n",
       "      <td>30.09.1976</td>\n",
       "      <td>41022.0</td>\n",
       "      <td>NaN</td>\n",
       "      <td>University</td>\n",
       "      <td>Universität</td>\n",
       "    </tr>\n",
       "    <tr>\n",
       "      <th>1</th>\n",
       "      <td>5</td>\n",
       "      <td>1000-000005</td>\n",
       "      <td>Kritische Erstausgabe der 'Evidentiae contra D...</td>\n",
       "      <td>NaN</td>\n",
       "      <td>Kommission für das Corpus philosophorum medii ...</td>\n",
       "      <td>Project funding (Div. I-III)</td>\n",
       "      <td>Project funding</td>\n",
       "      <td>Kommission für das Corpus philosophorum medii ...</td>\n",
       "      <td>Switzerland</td>\n",
       "      <td>Non-profit organisations (libraries, museums, ...</td>\n",
       "      <td>10101</td>\n",
       "      <td>Philosophy</td>\n",
       "      <td>Humanities and Social Sciences;Linguistics and...</td>\n",
       "      <td>10101</td>\n",
       "      <td>01.03.1976</td>\n",
       "      <td>28.02.1985</td>\n",
       "      <td>79732.0</td>\n",
       "      <td>NaN</td>\n",
       "      <td>Other</td>\n",
       "      <td>Other</td>\n",
       "    </tr>\n",
       "    <tr>\n",
       "      <th>2</th>\n",
       "      <td>6</td>\n",
       "      <td>1000-000006</td>\n",
       "      <td>Katalog der datierten Handschriften in der Sch...</td>\n",
       "      <td>NaN</td>\n",
       "      <td>Burckhardt Max</td>\n",
       "      <td>Project funding (Div. I-III)</td>\n",
       "      <td>Project funding</td>\n",
       "      <td>Abteilung Handschriften und Alte Drucke Univer...</td>\n",
       "      <td>Switzerland</td>\n",
       "      <td>University of Basel - BS</td>\n",
       "      <td>10302</td>\n",
       "      <td>Swiss history</td>\n",
       "      <td>Humanities and Social Sciences;Theology &amp; reli...</td>\n",
       "      <td>10302</td>\n",
       "      <td>01.10.1975</td>\n",
       "      <td>30.09.1976</td>\n",
       "      <td>52627.0</td>\n",
       "      <td>NaN</td>\n",
       "      <td>University</td>\n",
       "      <td>Universität</td>\n",
       "    </tr>\n",
       "    <tr>\n",
       "      <th>3</th>\n",
       "      <td>7</td>\n",
       "      <td>1000-000007</td>\n",
       "      <td>Wissenschaftliche Mitarbeit am Thesaurus Lingu...</td>\n",
       "      <td>NaN</td>\n",
       "      <td>Schweiz. Thesauruskommission</td>\n",
       "      <td>Project funding (Div. I-III)</td>\n",
       "      <td>Project funding</td>\n",
       "      <td>Schweiz. Thesauruskommission</td>\n",
       "      <td>Switzerland</td>\n",
       "      <td>Non-profit organisations (libraries, museums, ...</td>\n",
       "      <td>10303</td>\n",
       "      <td>Ancient history and Classical studies</td>\n",
       "      <td>Humanities and Social Sciences;Theology &amp; reli...</td>\n",
       "      <td>10303</td>\n",
       "      <td>01.01.1976</td>\n",
       "      <td>30.04.1978</td>\n",
       "      <td>120042.0</td>\n",
       "      <td>NaN</td>\n",
       "      <td>Other</td>\n",
       "      <td>Other</td>\n",
       "    </tr>\n",
       "    <tr>\n",
       "      <th>4</th>\n",
       "      <td>8</td>\n",
       "      <td>1000-000008</td>\n",
       "      <td>Die schweizerische Wirtschaftspolitik seit dem...</td>\n",
       "      <td>NaN</td>\n",
       "      <td>Kleinewefers Henner</td>\n",
       "      <td>Project funding (Div. I-III)</td>\n",
       "      <td>Project funding</td>\n",
       "      <td>Séminaire de politique économique, d'économie ...</td>\n",
       "      <td>Switzerland</td>\n",
       "      <td>University of Fribourg - FR</td>\n",
       "      <td>10203</td>\n",
       "      <td>Economics</td>\n",
       "      <td>Humanities and Social Sciences;Economics, law</td>\n",
       "      <td>10203</td>\n",
       "      <td>01.01.1976</td>\n",
       "      <td>31.12.1978</td>\n",
       "      <td>53009.0</td>\n",
       "      <td>NaN</td>\n",
       "      <td>University</td>\n",
       "      <td>Universität</td>\n",
       "    </tr>\n",
       "    <tr>\n",
       "      <th>...</th>\n",
       "      <td>...</td>\n",
       "      <td>...</td>\n",
       "      <td>...</td>\n",
       "      <td>...</td>\n",
       "      <td>...</td>\n",
       "      <td>...</td>\n",
       "      <td>...</td>\n",
       "      <td>...</td>\n",
       "      <td>...</td>\n",
       "      <td>...</td>\n",
       "      <td>...</td>\n",
       "      <td>...</td>\n",
       "      <td>...</td>\n",
       "      <td>...</td>\n",
       "      <td>...</td>\n",
       "      <td>...</td>\n",
       "      <td>...</td>\n",
       "      <td>...</td>\n",
       "      <td>...</td>\n",
       "      <td>...</td>\n",
       "    </tr>\n",
       "    <tr>\n",
       "      <th>56948</th>\n",
       "      <td>205957</td>\n",
       "      <td>10BP12_205957</td>\n",
       "      <td>Bildliche Narrativität - Erzählen mit Bildern....</td>\n",
       "      <td>Visual narrativity - telling stories with pict...</td>\n",
       "      <td>Rogner Frederik Arnd</td>\n",
       "      <td>Open Access Books</td>\n",
       "      <td>Science communication</td>\n",
       "      <td>Philosophisch-Historische Fakultät Dekanat Uni...</td>\n",
       "      <td>Switzerland</td>\n",
       "      <td>University of Basel - BS</td>\n",
       "      <td>10303</td>\n",
       "      <td>Ancient history and Classical studies</td>\n",
       "      <td>Humanities and Social Sciences;Theology &amp; reli...</td>\n",
       "      <td>10303</td>\n",
       "      <td>01.09.2021</td>\n",
       "      <td>28.02.2022</td>\n",
       "      <td>25000.0</td>\n",
       "      <td>Ägyptologie; Bildwissenschaft; Kunstgeschichte...</td>\n",
       "      <td>University</td>\n",
       "      <td>Universität</td>\n",
       "    </tr>\n",
       "    <tr>\n",
       "      <th>56949</th>\n",
       "      <td>206079</td>\n",
       "      <td>10BP12_206079</td>\n",
       "      <td>Critical by Design? Genealogies, Practices, Po...</td>\n",
       "      <td>Critical by Design? Genealogies, Practices, Po...</td>\n",
       "      <td>Renner Michael</td>\n",
       "      <td>Open Access Books</td>\n",
       "      <td>Science communication</td>\n",
       "      <td>Institut Visuelle Kommunikation Hochschule für...</td>\n",
       "      <td>Switzerland</td>\n",
       "      <td>University of Applied Sciences and Arts Northw...</td>\n",
       "      <td>10603</td>\n",
       "      <td>Arts</td>\n",
       "      <td>Humanities and Social Sciences;Art studies, mu...</td>\n",
       "      <td>10603</td>\n",
       "      <td>01.09.2021</td>\n",
       "      <td>28.02.2022</td>\n",
       "      <td>19027.0</td>\n",
       "      <td>Critical Design; Critical Theory; Material Cul...</td>\n",
       "      <td>University</td>\n",
       "      <td>Universität</td>\n",
       "    </tr>\n",
       "    <tr>\n",
       "      <th>56950</th>\n",
       "      <td>206126</td>\n",
       "      <td>10BP12_206126</td>\n",
       "      <td>Paul on the Human Vocation: Reason language in...</td>\n",
       "      <td>Paul on the Human Vocation: Reason language in...</td>\n",
       "      <td>Dürr Simon</td>\n",
       "      <td>Open Access Books</td>\n",
       "      <td>Science communication</td>\n",
       "      <td>Departement für Biblische Studien Universität ...</td>\n",
       "      <td>Switzerland</td>\n",
       "      <td>University of Fribourg - FR</td>\n",
       "      <td>10102</td>\n",
       "      <td>Religious studies, Theology</td>\n",
       "      <td>Humanities and Social Sciences;Theology &amp; reli...</td>\n",
       "      <td>10102/10101</td>\n",
       "      <td>01.09.2021</td>\n",
       "      <td>28.02.2022</td>\n",
       "      <td>12444.0</td>\n",
       "      <td>Pauline Anthropology; Paul; Epictetus; Paul in...</td>\n",
       "      <td>University</td>\n",
       "      <td>Universität</td>\n",
       "    </tr>\n",
       "    <tr>\n",
       "      <th>56951</th>\n",
       "      <td>206200</td>\n",
       "      <td>10BP12_206200</td>\n",
       "      <td>From Exception to Promotion. Re-Thinking the R...</td>\n",
       "      <td>From Exception to Promotion. Re-Thinking the R...</td>\n",
       "      <td>Cima Elena</td>\n",
       "      <td>Open Access Books</td>\n",
       "      <td>Science communication</td>\n",
       "      <td>Institute for Environmental Sciences Universit...</td>\n",
       "      <td>Switzerland</td>\n",
       "      <td>University of Geneva - GE</td>\n",
       "      <td>10205</td>\n",
       "      <td>Legal sciences</td>\n",
       "      <td>Humanities and Social Sciences;Economics, law</td>\n",
       "      <td>10205</td>\n",
       "      <td>01.09.2021</td>\n",
       "      <td>28.02.2022</td>\n",
       "      <td>10450.0</td>\n",
       "      <td>climate change; economic governance; environme...</td>\n",
       "      <td>University</td>\n",
       "      <td>Universität</td>\n",
       "    </tr>\n",
       "    <tr>\n",
       "      <th>56952</th>\n",
       "      <td>206969</td>\n",
       "      <td>10BP12_206969</td>\n",
       "      <td>Die Exklusivlizenz - Eine wettbewerbsrechtlich...</td>\n",
       "      <td>NaN</td>\n",
       "      <td>Meier Giulia Mara</td>\n",
       "      <td>Open Access Books</td>\n",
       "      <td>Science communication</td>\n",
       "      <td>Rechtswissenschaftliche Fakultät Universität Z...</td>\n",
       "      <td>Switzerland</td>\n",
       "      <td>University of Zurich - ZH</td>\n",
       "      <td>10205</td>\n",
       "      <td>Legal sciences</td>\n",
       "      <td>Humanities and Social Sciences;Economics, law</td>\n",
       "      <td>10205</td>\n",
       "      <td>01.09.2021</td>\n",
       "      <td>28.02.2022</td>\n",
       "      <td>13750.0</td>\n",
       "      <td>Wettbewerbsrecht; Immaterialgüterrecht; Lizenz...</td>\n",
       "      <td>University</td>\n",
       "      <td>Universität</td>\n",
       "    </tr>\n",
       "  </tbody>\n",
       "</table>\n",
       "<p>56953 rows × 20 columns</p>\n",
       "</div>"
      ],
      "text/plain": [
       "       Project Number Project Number String  \\\n",
       "0                   4           1000-000004   \n",
       "1                   5           1000-000005   \n",
       "2                   6           1000-000006   \n",
       "3                   7           1000-000007   \n",
       "4                   8           1000-000008   \n",
       "...               ...                   ...   \n",
       "56948          205957         10BP12_205957   \n",
       "56949          206079         10BP12_206079   \n",
       "56950          206126         10BP12_206126   \n",
       "56951          206200         10BP12_206200   \n",
       "56952          206969         10BP12_206969   \n",
       "\n",
       "                                           Project Title  \\\n",
       "0      Batterie de tests à l'usage des enseignants po...   \n",
       "1      Kritische Erstausgabe der 'Evidentiae contra D...   \n",
       "2      Katalog der datierten Handschriften in der Sch...   \n",
       "3      Wissenschaftliche Mitarbeit am Thesaurus Lingu...   \n",
       "4      Die schweizerische Wirtschaftspolitik seit dem...   \n",
       "...                                                  ...   \n",
       "56948  Bildliche Narrativität - Erzählen mit Bildern....   \n",
       "56949  Critical by Design? Genealogies, Practices, Po...   \n",
       "56950  Paul on the Human Vocation: Reason language in...   \n",
       "56951  From Exception to Promotion. Re-Thinking the R...   \n",
       "56952  Die Exklusivlizenz - Eine wettbewerbsrechtlich...   \n",
       "\n",
       "                                   Project Title English  \\\n",
       "0                                                    NaN   \n",
       "1                                                    NaN   \n",
       "2                                                    NaN   \n",
       "3                                                    NaN   \n",
       "4                                                    NaN   \n",
       "...                                                  ...   \n",
       "56948  Visual narrativity - telling stories with pict...   \n",
       "56949  Critical by Design? Genealogies, Practices, Po...   \n",
       "56950  Paul on the Human Vocation: Reason language in...   \n",
       "56951  From Exception to Promotion. Re-Thinking the R...   \n",
       "56952                                                NaN   \n",
       "\n",
       "                                   Responsible Applicant  \\\n",
       "0                                     Massarenti Léonard   \n",
       "1      Kommission für das Corpus philosophorum medii ...   \n",
       "2                                         Burckhardt Max   \n",
       "3                           Schweiz. Thesauruskommission   \n",
       "4                                    Kleinewefers Henner   \n",
       "...                                                  ...   \n",
       "56948                               Rogner Frederik Arnd   \n",
       "56949                                     Renner Michael   \n",
       "56950                                         Dürr Simon   \n",
       "56951                                         Cima Elena   \n",
       "56952                                  Meier Giulia Mara   \n",
       "\n",
       "                 Funding Instrument Funding Instrument Hierarchy  \\\n",
       "0      Project funding (Div. I-III)              Project funding   \n",
       "1      Project funding (Div. I-III)              Project funding   \n",
       "2      Project funding (Div. I-III)              Project funding   \n",
       "3      Project funding (Div. I-III)              Project funding   \n",
       "4      Project funding (Div. I-III)              Project funding   \n",
       "...                             ...                          ...   \n",
       "56948             Open Access Books        Science communication   \n",
       "56949             Open Access Books        Science communication   \n",
       "56950             Open Access Books        Science communication   \n",
       "56951             Open Access Books        Science communication   \n",
       "56952             Open Access Books        Science communication   \n",
       "\n",
       "                                             Institution Institution Country  \\\n",
       "0                             FPSE  Université de Genève         Switzerland   \n",
       "1      Kommission für das Corpus philosophorum medii ...         Switzerland   \n",
       "2      Abteilung Handschriften und Alte Drucke Univer...         Switzerland   \n",
       "3                           Schweiz. Thesauruskommission         Switzerland   \n",
       "4      Séminaire de politique économique, d'économie ...         Switzerland   \n",
       "...                                                  ...                 ...   \n",
       "56948  Philosophisch-Historische Fakultät Dekanat Uni...         Switzerland   \n",
       "56949  Institut Visuelle Kommunikation Hochschule für...         Switzerland   \n",
       "56950  Departement für Biblische Studien Universität ...         Switzerland   \n",
       "56951  Institute for Environmental Sciences Universit...         Switzerland   \n",
       "56952  Rechtswissenschaftliche Fakultät Universität Z...         Switzerland   \n",
       "\n",
       "                                              University  Discipline Number  \\\n",
       "0                              University of Geneva - GE              10104   \n",
       "1      Non-profit organisations (libraries, museums, ...              10101   \n",
       "2                               University of Basel - BS              10302   \n",
       "3      Non-profit organisations (libraries, museums, ...              10303   \n",
       "4                            University of Fribourg - FR              10203   \n",
       "...                                                  ...                ...   \n",
       "56948                           University of Basel - BS              10303   \n",
       "56949  University of Applied Sciences and Arts Northw...              10603   \n",
       "56950                        University of Fribourg - FR              10102   \n",
       "56951                          University of Geneva - GE              10205   \n",
       "56952                          University of Zurich - ZH              10205   \n",
       "\n",
       "                                         Discipline Name  \\\n",
       "0      Education and learning sciences, subject-speci...   \n",
       "1                                             Philosophy   \n",
       "2                                          Swiss history   \n",
       "3                  Ancient history and Classical studies   \n",
       "4                                              Economics   \n",
       "...                                                  ...   \n",
       "56948              Ancient history and Classical studies   \n",
       "56949                                               Arts   \n",
       "56950                        Religious studies, Theology   \n",
       "56951                                     Legal sciences   \n",
       "56952                                     Legal sciences   \n",
       "\n",
       "                               Discipline Name Hierarchy All disciplines  \\\n",
       "0      Humanities and Social Sciences;Psychology, edu...           10104   \n",
       "1      Humanities and Social Sciences;Linguistics and...           10101   \n",
       "2      Humanities and Social Sciences;Theology & reli...           10302   \n",
       "3      Humanities and Social Sciences;Theology & reli...           10303   \n",
       "4          Humanities and Social Sciences;Economics, law           10203   \n",
       "...                                                  ...             ...   \n",
       "56948  Humanities and Social Sciences;Theology & reli...           10303   \n",
       "56949  Humanities and Social Sciences;Art studies, mu...           10603   \n",
       "56950  Humanities and Social Sciences;Theology & reli...     10102/10101   \n",
       "56951      Humanities and Social Sciences;Economics, law           10205   \n",
       "56952      Humanities and Social Sciences;Economics, law           10205   \n",
       "\n",
       "       Start Date    End Date  Approved Amount  \\\n",
       "0      01.10.1975  30.09.1976          41022.0   \n",
       "1      01.03.1976  28.02.1985          79732.0   \n",
       "2      01.10.1975  30.09.1976          52627.0   \n",
       "3      01.01.1976  30.04.1978         120042.0   \n",
       "4      01.01.1976  31.12.1978          53009.0   \n",
       "...           ...         ...              ...   \n",
       "56948  01.09.2021  28.02.2022          25000.0   \n",
       "56949  01.09.2021  28.02.2022          19027.0   \n",
       "56950  01.09.2021  28.02.2022          12444.0   \n",
       "56951  01.09.2021  28.02.2022          10450.0   \n",
       "56952  01.09.2021  28.02.2022          13750.0   \n",
       "\n",
       "                                                Keywords Institution Type  \\\n",
       "0                                                    NaN       University   \n",
       "1                                                    NaN            Other   \n",
       "2                                                    NaN       University   \n",
       "3                                                    NaN            Other   \n",
       "4                                                    NaN       University   \n",
       "...                                                  ...              ...   \n",
       "56948  Ägyptologie; Bildwissenschaft; Kunstgeschichte...       University   \n",
       "56949  Critical Design; Critical Theory; Material Cul...       University   \n",
       "56950  Pauline Anthropology; Paul; Epictetus; Paul in...       University   \n",
       "56951  climate change; economic governance; environme...       University   \n",
       "56952  Wettbewerbsrecht; Immaterialgüterrecht; Lizenz...       University   \n",
       "\n",
       "          New Type  \n",
       "0      Universität  \n",
       "1            Other  \n",
       "2      Universität  \n",
       "3            Other  \n",
       "4      Universität  \n",
       "...            ...  \n",
       "56948  Universität  \n",
       "56949  Universität  \n",
       "56950  Universität  \n",
       "56951  Universität  \n",
       "56952  Universität  \n",
       "\n",
       "[56953 rows x 20 columns]"
      ]
     },
     "execution_count": 41,
     "metadata": {},
     "output_type": "execute_result"
    }
   ],
   "source": [
    "df_swiss_classified = df_swiss.merge(df_unique_edited, how='left', left_on='University', right_on='University')\n",
    "df_swiss_classified"
   ]
  },
  {
   "cell_type": "markdown",
   "metadata": {},
   "source": [
    "Die Spalte \"New Type\" wurde nun zur Tabelle \"df_swiss\" hinzugefügt, und zwar genau dort, wo es zum Eintrag in \"University\" passt!\n",
    "\n",
    "Schauen wir kurz, wie viele Einträge es von welchem Typ hat:"
   ]
  },
  {
   "cell_type": "code",
   "execution_count": 42,
   "metadata": {},
   "outputs": [
    {
     "data": {
      "text/plain": [
       "Universität       50599\n",
       "Other              4967\n",
       "Fachhochschule     1199\n",
       "Spital              185\n",
       "Name: New Type, dtype: int64"
      ]
     },
     "execution_count": 42,
     "metadata": {},
     "output_type": "execute_result"
    }
   ],
   "source": [
    "df_swiss_classified['New Type'].value_counts()"
   ]
  },
  {
   "cell_type": "markdown",
   "metadata": {},
   "source": [
    "Ging auch wirklich nichts vergessen?"
   ]
  },
  {
   "cell_type": "code",
   "execution_count": 43,
   "metadata": {},
   "outputs": [
    {
     "data": {
      "text/plain": [
       "Universität       50599\n",
       "Other              4967\n",
       "Fachhochschule     1199\n",
       "Spital              185\n",
       "NaN                   3\n",
       "Name: New Type, dtype: int64"
      ]
     },
     "execution_count": 43,
     "metadata": {},
     "output_type": "execute_result"
    }
   ],
   "source": [
    "df_swiss_classified['New Type'].value_counts(dropna=False)"
   ]
  },
  {
   "cell_type": "markdown",
   "metadata": {},
   "source": [
    "**Oops!** Es hat einen fehlenden Eintrag drin.\n",
    "\n",
    "Was ist das für ein Eintrag?"
   ]
  },
  {
   "cell_type": "code",
   "execution_count": 44,
   "metadata": {},
   "outputs": [
    {
     "data": {
      "text/html": [
       "<div>\n",
       "<style scoped>\n",
       "    .dataframe tbody tr th:only-of-type {\n",
       "        vertical-align: middle;\n",
       "    }\n",
       "\n",
       "    .dataframe tbody tr th {\n",
       "        vertical-align: top;\n",
       "    }\n",
       "\n",
       "    .dataframe thead th {\n",
       "        text-align: right;\n",
       "    }\n",
       "</style>\n",
       "<table border=\"1\" class=\"dataframe\">\n",
       "  <thead>\n",
       "    <tr style=\"text-align: right;\">\n",
       "      <th></th>\n",
       "      <th>Project Number</th>\n",
       "      <th>Project Number String</th>\n",
       "      <th>Project Title</th>\n",
       "      <th>Project Title English</th>\n",
       "      <th>Responsible Applicant</th>\n",
       "      <th>Funding Instrument</th>\n",
       "      <th>Funding Instrument Hierarchy</th>\n",
       "      <th>Institution</th>\n",
       "      <th>Institution Country</th>\n",
       "      <th>University</th>\n",
       "      <th>Discipline Number</th>\n",
       "      <th>Discipline Name</th>\n",
       "      <th>Discipline Name Hierarchy</th>\n",
       "      <th>All disciplines</th>\n",
       "      <th>Start Date</th>\n",
       "      <th>End Date</th>\n",
       "      <th>Approved Amount</th>\n",
       "      <th>Keywords</th>\n",
       "      <th>Institution Type</th>\n",
       "      <th>New Type</th>\n",
       "    </tr>\n",
       "  </thead>\n",
       "  <tbody>\n",
       "    <tr>\n",
       "      <th>24178</th>\n",
       "      <td>101005</td>\n",
       "      <td>50CH40-101005</td>\n",
       "      <td>SELECTS 2003: Eidgenössische Wahlen 2003</td>\n",
       "      <td>SELECTS 2003: Federal elections 2003</td>\n",
       "      <td>Malaguerra Carlo</td>\n",
       "      <td>Swiss Priority Programmes (SPPs)</td>\n",
       "      <td>Programmes</td>\n",
       "      <td>Schweizerische Akademie der Geistes-und Sozial...</td>\n",
       "      <td>Switzerland</td>\n",
       "      <td>NaN</td>\n",
       "      <td>10202</td>\n",
       "      <td>Political science</td>\n",
       "      <td>Humanities and Social Sciences;Sociology, soci...</td>\n",
       "      <td>10202</td>\n",
       "      <td>01.02.2003</td>\n",
       "      <td>31.01.2004</td>\n",
       "      <td>100000.0</td>\n",
       "      <td>NaN</td>\n",
       "      <td>Other</td>\n",
       "      <td>NaN</td>\n",
       "    </tr>\n",
       "    <tr>\n",
       "      <th>50721</th>\n",
       "      <td>177868</td>\n",
       "      <td>P3P3PA_177868</td>\n",
       "      <td>Predicting the genetic adaptations that confer...</td>\n",
       "      <td>NaN</td>\n",
       "      <td>Hausser Jean</td>\n",
       "      <td>Return CH Advanced Postdoc.Mobility</td>\n",
       "      <td>Careers;Fellowships</td>\n",
       "      <td>Ludwig Institute for Cancer Research</td>\n",
       "      <td>Switzerland</td>\n",
       "      <td>NaN</td>\n",
       "      <td>30102</td>\n",
       "      <td>Molecular Biology</td>\n",
       "      <td>Biology and Medicine;Basic Biological Research</td>\n",
       "      <td>30102/30401</td>\n",
       "      <td>01.06.2018</td>\n",
       "      <td>28.02.2019</td>\n",
       "      <td>80202.0</td>\n",
       "      <td>intra-tumor heterogeneity; multi-task evolutio...</td>\n",
       "      <td>Other</td>\n",
       "      <td>NaN</td>\n",
       "    </tr>\n",
       "    <tr>\n",
       "      <th>56861</th>\n",
       "      <td>203222</td>\n",
       "      <td>P500PT_203222</td>\n",
       "      <td>End-to-end reconfigurable flat optics design s...</td>\n",
       "      <td>End-to-end reconfigurable flat optics design s...</td>\n",
       "      <td>Martin-Monier Louis</td>\n",
       "      <td>Postdoc.Mobility</td>\n",
       "      <td>Careers;Fellowships</td>\n",
       "      <td>Laboratoire des fibres et matériaux photonique...</td>\n",
       "      <td>Switzerland</td>\n",
       "      <td>NaN</td>\n",
       "      <td>20508</td>\n",
       "      <td>Microelectronics. Optoelectronics</td>\n",
       "      <td>Mathematics, Natural- and Engineering Sciences...</td>\n",
       "      <td>20508/20505</td>\n",
       "      <td>01.09.2021</td>\n",
       "      <td>28.02.2023</td>\n",
       "      <td>NaN</td>\n",
       "      <td>Active Metamaterials; Phase Change Materials; ...</td>\n",
       "      <td>Other</td>\n",
       "      <td>NaN</td>\n",
       "    </tr>\n",
       "  </tbody>\n",
       "</table>\n",
       "</div>"
      ],
      "text/plain": [
       "       Project Number Project Number String  \\\n",
       "24178          101005         50CH40-101005   \n",
       "50721          177868         P3P3PA_177868   \n",
       "56861          203222         P500PT_203222   \n",
       "\n",
       "                                           Project Title  \\\n",
       "24178           SELECTS 2003: Eidgenössische Wahlen 2003   \n",
       "50721  Predicting the genetic adaptations that confer...   \n",
       "56861  End-to-end reconfigurable flat optics design s...   \n",
       "\n",
       "                                   Project Title English  \\\n",
       "24178               SELECTS 2003: Federal elections 2003   \n",
       "50721                                                NaN   \n",
       "56861  End-to-end reconfigurable flat optics design s...   \n",
       "\n",
       "      Responsible Applicant                   Funding Instrument  \\\n",
       "24178      Malaguerra Carlo     Swiss Priority Programmes (SPPs)   \n",
       "50721          Hausser Jean  Return CH Advanced Postdoc.Mobility   \n",
       "56861   Martin-Monier Louis                     Postdoc.Mobility   \n",
       "\n",
       "      Funding Instrument Hierarchy  \\\n",
       "24178                   Programmes   \n",
       "50721          Careers;Fellowships   \n",
       "56861          Careers;Fellowships   \n",
       "\n",
       "                                             Institution Institution Country  \\\n",
       "24178  Schweizerische Akademie der Geistes-und Sozial...         Switzerland   \n",
       "50721               Ludwig Institute for Cancer Research         Switzerland   \n",
       "56861  Laboratoire des fibres et matériaux photonique...         Switzerland   \n",
       "\n",
       "      University  Discipline Number                    Discipline Name  \\\n",
       "24178        NaN              10202                  Political science   \n",
       "50721        NaN              30102                  Molecular Biology   \n",
       "56861        NaN              20508  Microelectronics. Optoelectronics   \n",
       "\n",
       "                               Discipline Name Hierarchy All disciplines  \\\n",
       "24178  Humanities and Social Sciences;Sociology, soci...           10202   \n",
       "50721     Biology and Medicine;Basic Biological Research     30102/30401   \n",
       "56861  Mathematics, Natural- and Engineering Sciences...     20508/20505   \n",
       "\n",
       "       Start Date    End Date  Approved Amount  \\\n",
       "24178  01.02.2003  31.01.2004         100000.0   \n",
       "50721  01.06.2018  28.02.2019          80202.0   \n",
       "56861  01.09.2021  28.02.2023              NaN   \n",
       "\n",
       "                                                Keywords Institution Type  \\\n",
       "24178                                                NaN            Other   \n",
       "50721  intra-tumor heterogeneity; multi-task evolutio...            Other   \n",
       "56861  Active Metamaterials; Phase Change Materials; ...            Other   \n",
       "\n",
       "      New Type  \n",
       "24178      NaN  \n",
       "50721      NaN  \n",
       "56861      NaN  "
      ]
     },
     "execution_count": 44,
     "metadata": {},
     "output_type": "execute_result"
    }
   ],
   "source": [
    "df_swiss_classified[df_swiss_classified['New Type'].isnull()]"
   ]
  },
  {
   "cell_type": "markdown",
   "metadata": {},
   "source": [
    "Sieht nach einem grundsätzlich validen Projekt aus. Wir klassifizieren diesen Eintrag kurzerhand auf \"Other\":"
   ]
  },
  {
   "cell_type": "code",
   "execution_count": 45,
   "metadata": {},
   "outputs": [],
   "source": [
    "df_swiss_classified.loc[df_swiss_classified['New Type'].isnull(), \"New Type\"] = \"Other\""
   ]
  },
  {
   "cell_type": "code",
   "execution_count": 46,
   "metadata": {},
   "outputs": [
    {
     "data": {
      "text/plain": [
       "Project Number                                                             101005\n",
       "Project Number String                                               50CH40-101005\n",
       "Project Title                            SELECTS 2003: Eidgenössische Wahlen 2003\n",
       "Project Title English                        SELECTS 2003: Federal elections 2003\n",
       "Responsible Applicant                                            Malaguerra Carlo\n",
       "Funding Instrument                               Swiss Priority Programmes (SPPs)\n",
       "Funding Instrument Hierarchy                                           Programmes\n",
       "Institution                     Schweizerische Akademie der Geistes-und Sozial...\n",
       "Institution Country                                                   Switzerland\n",
       "University                                                                    NaN\n",
       "Discipline Number                                                           10202\n",
       "Discipline Name                                                 Political science\n",
       "Discipline Name Hierarchy       Humanities and Social Sciences;Sociology, soci...\n",
       "All disciplines                                                             10202\n",
       "Start Date                                                             01.02.2003\n",
       "End Date                                                               31.01.2004\n",
       "Approved Amount                                                          100000.0\n",
       "Keywords                                                                      NaN\n",
       "Institution Type                                                            Other\n",
       "New Type                                                                    Other\n",
       "Name: 24178, dtype: object"
      ]
     },
     "execution_count": 46,
     "metadata": {},
     "output_type": "execute_result"
    }
   ],
   "source": [
    "df_swiss_classified.loc[24178]"
   ]
  },
  {
   "cell_type": "markdown",
   "metadata": {},
   "source": [
    "Wir können nun wiederum unsere Auswertung vornehmen,zB nach Durchschnittsbeträgen:"
   ]
  },
  {
   "cell_type": "code",
   "execution_count": 47,
   "metadata": {},
   "outputs": [
    {
     "data": {
      "text/plain": [
       "New Type\n",
       "Fachhochschule    2.474094e+08\n",
       "Other             1.337274e+09\n",
       "Spital            4.669929e+07\n",
       "Universität       1.634921e+10\n",
       "Name: Approved Amount, dtype: float64"
      ]
     },
     "execution_count": 47,
     "metadata": {},
     "output_type": "execute_result"
    }
   ],
   "source": [
    "df_swiss_classified.groupby('New Type')['Approved Amount'].sum()"
   ]
  },
  {
   "cell_type": "code",
   "execution_count": null,
   "metadata": {},
   "outputs": [],
   "source": []
  },
  {
   "cell_type": "markdown",
   "metadata": {},
   "source": [
    "## Plotting Level 2"
   ]
  },
  {
   "cell_type": "markdown",
   "metadata": {},
   "source": [
    "Nun wollen wir darstellen, wie sich die Projekte über die Zeit hinweg in der Schweiz und in den übrigen Ländern entwickelt haben. Es geht also darum, zwei verschiedene Serien auf einer Grafik einzuzeichnen."
   ]
  },
  {
   "cell_type": "markdown",
   "metadata": {},
   "source": [
    "- für den Ländertyp basteln wir uns rasch eine ähnliche Kategorisierung wie vorher:"
   ]
  },
  {
   "cell_type": "code",
   "execution_count": 48,
   "metadata": {},
   "outputs": [
    {
     "data": {
      "text/plain": [
       "Switzerland    56953\n",
       "Other          20054\n",
       "Name: Country Type, dtype: int64"
      ]
     },
     "execution_count": 48,
     "metadata": {},
     "output_type": "execute_result"
    }
   ],
   "source": [
    "df['Country Type'] = \"\"\n",
    "df.loc[df['Institution Country'] == 'Switzerland', 'Country Type'] = \"Switzerland\"\n",
    "df.loc[df['Institution Country'] != 'Switzerland', 'Country Type'] = \"Other\"\n",
    "df['Country Type'].value_counts(dropna=False)"
   ]
  },
  {
   "cell_type": "markdown",
   "metadata": {},
   "source": [
    "- für das Jahr wenden wirr jetzt einen etwas faulen Trick an, um eine neue Spalte mit dem Jahr zu generieren (eigentlich gäbe es dazu noch einen speziellen Datentyp, aber den schauen wir ein anderes Mal an)."
   ]
  },
  {
   "cell_type": "code",
   "execution_count": 49,
   "metadata": {},
   "outputs": [],
   "source": [
    "df['Year'] = df['Start Date'].str[6:]"
   ]
  },
  {
   "cell_type": "markdown",
   "metadata": {},
   "source": [
    "Check, ob das einigermassen funktioniert hat..."
   ]
  },
  {
   "cell_type": "code",
   "execution_count": 50,
   "metadata": {},
   "outputs": [
    {
     "data": {
      "text/plain": [
       "1975    205\n",
       "1976    542\n",
       "1977    564\n",
       "1978    556\n",
       "1979    616\n",
       "Name: Year, dtype: int64"
      ]
     },
     "execution_count": 50,
     "metadata": {},
     "output_type": "execute_result"
    }
   ],
   "source": [
    "df['Year'].value_counts(dropna=False).sort_index().head(5)"
   ]
  },
  {
   "cell_type": "code",
   "execution_count": 51,
   "metadata": {},
   "outputs": [
    {
     "data": {
      "text/plain": [
       "2019    2645\n",
       "2020    2401\n",
       "2021    1708\n",
       "2022      19\n",
       "NaN        2\n",
       "Name: Year, dtype: int64"
      ]
     },
     "execution_count": 51,
     "metadata": {},
     "output_type": "execute_result"
    }
   ],
   "source": [
    "df['Year'].value_counts(dropna=False).sort_index().tail(5)"
   ]
  },
  {
   "cell_type": "markdown",
   "metadata": {},
   "source": [
    "Jetzt plotten wir die Gesamtsumme der gesprochenen Gelder nach Jahr (nur bis 2021).\n",
    "\n",
    "Zuerst für die Schweiz ..."
   ]
  },
  {
   "cell_type": "code",
   "execution_count": 52,
   "metadata": {},
   "outputs": [
    {
     "data": {
      "text/plain": [
       "<AxesSubplot:xlabel='Year'>"
      ]
     },
     "execution_count": 52,
     "metadata": {},
     "output_type": "execute_result"
    },
    {
     "data": {
      "image/png": "[encoded data removed]",
      "text/plain": [
       "<Figure size 864x432 with 1 Axes>"
      ]
     },
     "metadata": {
      "needs_background": "light"
     },
     "output_type": "display_data"
    }
   ],
   "source": [
    "df[(df['Country Type'] == \"Switzerland\") & (df['Year'] != '2022')].groupby('Year')['Approved Amount'].sum().plot(figsize=(12,6))"
   ]
  },
  {
   "cell_type": "markdown",
   "metadata": {},
   "source": [
    "... dann für die anderen Länder ..."
   ]
  },
  {
   "cell_type": "code",
   "execution_count": 53,
   "metadata": {},
   "outputs": [
    {
     "data": {
      "text/plain": [
       "<AxesSubplot:xlabel='Year'>"
      ]
     },
     "execution_count": 53,
     "metadata": {},
     "output_type": "execute_result"
    },
    {
     "data": {
      "image/png": "[encoded data removed]",
      "text/plain": [
       "<Figure size 864x432 with 1 Axes>"
      ]
     },
     "metadata": {
      "needs_background": "light"
     },
     "output_type": "display_data"
    }
   ],
   "source": [
    "df[(df['Country Type'] == \"Other\") & (df['Year'] != '2022')].groupby('Year')['Approved Amount'].sum().plot(figsize=(12,6))"
   ]
  },
  {
   "cell_type": "markdown",
   "metadata": {},
   "source": [
    "... und schliesslich für beide Ländertypen:"
   ]
  },
  {
   "cell_type": "markdown",
   "metadata": {},
   "source": [
    "### Methode 1: Zwei verschiedene Linien einzeichnen"
   ]
  },
  {
   "cell_type": "markdown",
   "metadata": {},
   "source": [
    "Die sicherste Methode, um mehrere Kurven auf derselben Grafik darzustellen, ist `ax=`.\n",
    "\n",
    "Wir speichern erste einen Plot als \"chart1\" und sagen dem zweiten Plot dann, sich zu \"chart1\" hinzuzugesellen."
   ]
  },
  {
   "cell_type": "code",
   "execution_count": 54,
   "metadata": {},
   "outputs": [
    {
     "data": {
      "text/plain": [
       "<AxesSubplot:xlabel='Year'>"
      ]
     },
     "execution_count": 54,
     "metadata": {},
     "output_type": "execute_result"
    },
    {
     "data": {
      "image/png": "[encoded data removed]",
      "text/plain": [
       "<Figure size 864x432 with 1 Axes>"
      ]
     },
     "metadata": {
      "needs_background": "light"
     },
     "output_type": "display_data"
    }
   ],
   "source": [
    "chart1 = df[df['Country Type'] == \"Switzerland\"].groupby('Year')['Approved Amount'].sum().plot(figsize=(12,6))\n",
    "\n",
    "df[df['Country Type'] == \"Other\"].groupby('Year')['Approved Amount'].sum().plot(ax=chart1)"
   ]
  },
  {
   "cell_type": "markdown",
   "metadata": {},
   "source": [
    "### Methode 2: Doppelt groupby, unstack"
   ]
  },
  {
   "cell_type": "markdown",
   "metadata": {},
   "source": [
    "In diesem Fall gibt es allerdings noch eine elegantere Variante. Und zwar mit `groupby()`.\n",
    "\n",
    "Diese Methode funktioniert nicht nur mit einem Level, sondern auch mit zwei. Die Summierung wird einerseits über die Jahre (\"Years\") gemacht und andererseits für die einzelenen Ländertypen (\"Country Types\"):"
   ]
  },
  {
   "cell_type": "code",
   "execution_count": 55,
   "metadata": {},
   "outputs": [
    {
     "data": {
      "text/plain": [
       "Year  Country Type\n",
       "1975  Other           1.422727e+06\n",
       "      Switzerland     3.074641e+07\n",
       "1976  Other           5.798550e+06\n",
       "      Switzerland     9.121748e+07\n",
       "1977  Other           4.920319e+06\n",
       "                          ...     \n",
       "2020  Other           1.191692e+07\n",
       "      Switzerland     9.069372e+08\n",
       "2021  Other           1.043250e+07\n",
       "      Switzerland     6.919536e+08\n",
       "2022  Switzerland     2.243400e+05\n",
       "Name: Approved Amount, Length: 95, dtype: float64"
      ]
     },
     "execution_count": 55,
     "metadata": {},
     "output_type": "execute_result"
    }
   ],
   "source": [
    "df.groupby(['Year', 'Country Type'])['Approved Amount'].sum()"
   ]
  },
  {
   "cell_type": "markdown",
   "metadata": {},
   "source": [
    "Um diese Werte zu plotten, müssen wir Pandas die Tabelle allerdings etwas anders zur Verfügung stellen: im Wide-Format (dazu später noch mehr). Wir können dazu die Funktion `unstack()` verwenden:"
   ]
  },
  {
   "cell_type": "code",
   "execution_count": 56,
   "metadata": {},
   "outputs": [
    {
     "data": {
      "text/html": [
       "<div>\n",
       "<style scoped>\n",
       "    .dataframe tbody tr th:only-of-type {\n",
       "        vertical-align: middle;\n",
       "    }\n",
       "\n",
       "    .dataframe tbody tr th {\n",
       "        vertical-align: top;\n",
       "    }\n",
       "\n",
       "    .dataframe thead th {\n",
       "        text-align: right;\n",
       "    }\n",
       "</style>\n",
       "<table border=\"1\" class=\"dataframe\">\n",
       "  <thead>\n",
       "    <tr style=\"text-align: right;\">\n",
       "      <th>Country Type</th>\n",
       "      <th>Other</th>\n",
       "      <th>Switzerland</th>\n",
       "    </tr>\n",
       "    <tr>\n",
       "      <th>Year</th>\n",
       "      <th></th>\n",
       "      <th></th>\n",
       "    </tr>\n",
       "  </thead>\n",
       "  <tbody>\n",
       "    <tr>\n",
       "      <th>1975</th>\n",
       "      <td>1422727.00</td>\n",
       "      <td>3.074641e+07</td>\n",
       "    </tr>\n",
       "    <tr>\n",
       "      <th>1976</th>\n",
       "      <td>5798550.00</td>\n",
       "      <td>9.121748e+07</td>\n",
       "    </tr>\n",
       "    <tr>\n",
       "      <th>1977</th>\n",
       "      <td>4920319.00</td>\n",
       "      <td>1.114744e+08</td>\n",
       "    </tr>\n",
       "    <tr>\n",
       "      <th>1978</th>\n",
       "      <td>5344733.00</td>\n",
       "      <td>1.036575e+08</td>\n",
       "    </tr>\n",
       "    <tr>\n",
       "      <th>1979</th>\n",
       "      <td>7064763.00</td>\n",
       "      <td>1.167330e+08</td>\n",
       "    </tr>\n",
       "    <tr>\n",
       "      <th>1980</th>\n",
       "      <td>3904041.00</td>\n",
       "      <td>1.175633e+08</td>\n",
       "    </tr>\n",
       "    <tr>\n",
       "      <th>1981</th>\n",
       "      <td>6689602.00</td>\n",
       "      <td>1.116979e+08</td>\n",
       "    </tr>\n",
       "    <tr>\n",
       "      <th>1982</th>\n",
       "      <td>5339538.00</td>\n",
       "      <td>1.135752e+08</td>\n",
       "    </tr>\n",
       "    <tr>\n",
       "      <th>1983</th>\n",
       "      <td>6220266.00</td>\n",
       "      <td>1.370960e+08</td>\n",
       "    </tr>\n",
       "    <tr>\n",
       "      <th>1984</th>\n",
       "      <td>5942977.00</td>\n",
       "      <td>1.268423e+08</td>\n",
       "    </tr>\n",
       "    <tr>\n",
       "      <th>1985</th>\n",
       "      <td>6240945.00</td>\n",
       "      <td>1.402211e+08</td>\n",
       "    </tr>\n",
       "    <tr>\n",
       "      <th>1986</th>\n",
       "      <td>6151577.00</td>\n",
       "      <td>1.628847e+08</td>\n",
       "    </tr>\n",
       "    <tr>\n",
       "      <th>1987</th>\n",
       "      <td>9358608.00</td>\n",
       "      <td>1.559327e+08</td>\n",
       "    </tr>\n",
       "    <tr>\n",
       "      <th>1988</th>\n",
       "      <td>10323542.00</td>\n",
       "      <td>1.827069e+08</td>\n",
       "    </tr>\n",
       "    <tr>\n",
       "      <th>1989</th>\n",
       "      <td>20723839.00</td>\n",
       "      <td>2.152159e+08</td>\n",
       "    </tr>\n",
       "    <tr>\n",
       "      <th>1990</th>\n",
       "      <td>12292042.70</td>\n",
       "      <td>2.316729e+08</td>\n",
       "    </tr>\n",
       "    <tr>\n",
       "      <th>1991</th>\n",
       "      <td>8775912.00</td>\n",
       "      <td>2.390177e+08</td>\n",
       "    </tr>\n",
       "    <tr>\n",
       "      <th>1992</th>\n",
       "      <td>7044038.00</td>\n",
       "      <td>2.726861e+08</td>\n",
       "    </tr>\n",
       "    <tr>\n",
       "      <th>1993</th>\n",
       "      <td>13082810.25</td>\n",
       "      <td>2.915037e+08</td>\n",
       "    </tr>\n",
       "    <tr>\n",
       "      <th>1994</th>\n",
       "      <td>14775793.00</td>\n",
       "      <td>2.570389e+08</td>\n",
       "    </tr>\n",
       "    <tr>\n",
       "      <th>1995</th>\n",
       "      <td>14559791.00</td>\n",
       "      <td>2.277817e+08</td>\n",
       "    </tr>\n",
       "    <tr>\n",
       "      <th>1996</th>\n",
       "      <td>22039965.30</td>\n",
       "      <td>3.760450e+08</td>\n",
       "    </tr>\n",
       "    <tr>\n",
       "      <th>1997</th>\n",
       "      <td>18145203.85</td>\n",
       "      <td>2.952179e+08</td>\n",
       "    </tr>\n",
       "    <tr>\n",
       "      <th>1998</th>\n",
       "      <td>7964235.00</td>\n",
       "      <td>2.480227e+08</td>\n",
       "    </tr>\n",
       "    <tr>\n",
       "      <th>1999</th>\n",
       "      <td>9247990.00</td>\n",
       "      <td>2.278827e+08</td>\n",
       "    </tr>\n",
       "    <tr>\n",
       "      <th>2000</th>\n",
       "      <td>19413330.87</td>\n",
       "      <td>3.288880e+08</td>\n",
       "    </tr>\n",
       "    <tr>\n",
       "      <th>2001</th>\n",
       "      <td>15796495.91</td>\n",
       "      <td>3.694170e+08</td>\n",
       "    </tr>\n",
       "    <tr>\n",
       "      <th>2002</th>\n",
       "      <td>13134329.40</td>\n",
       "      <td>3.126499e+08</td>\n",
       "    </tr>\n",
       "    <tr>\n",
       "      <th>2003</th>\n",
       "      <td>12090718.30</td>\n",
       "      <td>3.139421e+08</td>\n",
       "    </tr>\n",
       "    <tr>\n",
       "      <th>2004</th>\n",
       "      <td>5247943.00</td>\n",
       "      <td>3.143065e+08</td>\n",
       "    </tr>\n",
       "    <tr>\n",
       "      <th>2005</th>\n",
       "      <td>25152200.22</td>\n",
       "      <td>4.169781e+08</td>\n",
       "    </tr>\n",
       "    <tr>\n",
       "      <th>2006</th>\n",
       "      <td>11486525.82</td>\n",
       "      <td>3.777815e+08</td>\n",
       "    </tr>\n",
       "    <tr>\n",
       "      <th>2007</th>\n",
       "      <td>9623660.00</td>\n",
       "      <td>3.809150e+08</td>\n",
       "    </tr>\n",
       "    <tr>\n",
       "      <th>2008</th>\n",
       "      <td>15753413.44</td>\n",
       "      <td>4.302946e+08</td>\n",
       "    </tr>\n",
       "    <tr>\n",
       "      <th>2009</th>\n",
       "      <td>11561098.35</td>\n",
       "      <td>7.114365e+08</td>\n",
       "    </tr>\n",
       "    <tr>\n",
       "      <th>2010</th>\n",
       "      <td>28631251.05</td>\n",
       "      <td>6.795893e+08</td>\n",
       "    </tr>\n",
       "    <tr>\n",
       "      <th>2011</th>\n",
       "      <td>26406430.57</td>\n",
       "      <td>5.558082e+08</td>\n",
       "    </tr>\n",
       "    <tr>\n",
       "      <th>2012</th>\n",
       "      <td>23770657.27</td>\n",
       "      <td>6.265349e+08</td>\n",
       "    </tr>\n",
       "    <tr>\n",
       "      <th>2013</th>\n",
       "      <td>13461419.30</td>\n",
       "      <td>6.669620e+08</td>\n",
       "    </tr>\n",
       "    <tr>\n",
       "      <th>2014</th>\n",
       "      <td>14719999.00</td>\n",
       "      <td>9.502346e+08</td>\n",
       "    </tr>\n",
       "    <tr>\n",
       "      <th>2015</th>\n",
       "      <td>60096593.57</td>\n",
       "      <td>7.445782e+08</td>\n",
       "    </tr>\n",
       "    <tr>\n",
       "      <th>2016</th>\n",
       "      <td>20432046.15</td>\n",
       "      <td>6.749312e+08</td>\n",
       "    </tr>\n",
       "    <tr>\n",
       "      <th>2017</th>\n",
       "      <td>15297742.76</td>\n",
       "      <td>8.835420e+08</td>\n",
       "    </tr>\n",
       "    <tr>\n",
       "      <th>2018</th>\n",
       "      <td>10743113.67</td>\n",
       "      <td>1.112516e+09</td>\n",
       "    </tr>\n",
       "    <tr>\n",
       "      <th>2019</th>\n",
       "      <td>7550697.01</td>\n",
       "      <td>9.457366e+08</td>\n",
       "    </tr>\n",
       "    <tr>\n",
       "      <th>2020</th>\n",
       "      <td>11916916.27</td>\n",
       "      <td>9.069372e+08</td>\n",
       "    </tr>\n",
       "    <tr>\n",
       "      <th>2021</th>\n",
       "      <td>10432503.00</td>\n",
       "      <td>6.919536e+08</td>\n",
       "    </tr>\n",
       "    <tr>\n",
       "      <th>2022</th>\n",
       "      <td>NaN</td>\n",
       "      <td>2.243400e+05</td>\n",
       "    </tr>\n",
       "  </tbody>\n",
       "</table>\n",
       "</div>"
      ],
      "text/plain": [
       "Country Type        Other   Switzerland\n",
       "Year                                   \n",
       "1975           1422727.00  3.074641e+07\n",
       "1976           5798550.00  9.121748e+07\n",
       "1977           4920319.00  1.114744e+08\n",
       "1978           5344733.00  1.036575e+08\n",
       "1979           7064763.00  1.167330e+08\n",
       "1980           3904041.00  1.175633e+08\n",
       "1981           6689602.00  1.116979e+08\n",
       "1982           5339538.00  1.135752e+08\n",
       "1983           6220266.00  1.370960e+08\n",
       "1984           5942977.00  1.268423e+08\n",
       "1985           6240945.00  1.402211e+08\n",
       "1986           6151577.00  1.628847e+08\n",
       "1987           9358608.00  1.559327e+08\n",
       "1988          10323542.00  1.827069e+08\n",
       "1989          20723839.00  2.152159e+08\n",
       "1990          12292042.70  2.316729e+08\n",
       "1991           8775912.00  2.390177e+08\n",
       "1992           7044038.00  2.726861e+08\n",
       "1993          13082810.25  2.915037e+08\n",
       "1994          14775793.00  2.570389e+08\n",
       "1995          14559791.00  2.277817e+08\n",
       "1996          22039965.30  3.760450e+08\n",
       "1997          18145203.85  2.952179e+08\n",
       "1998           7964235.00  2.480227e+08\n",
       "1999           9247990.00  2.278827e+08\n",
       "2000          19413330.87  3.288880e+08\n",
       "2001          15796495.91  3.694170e+08\n",
       "2002          13134329.40  3.126499e+08\n",
       "2003          12090718.30  3.139421e+08\n",
       "2004           5247943.00  3.143065e+08\n",
       "2005          25152200.22  4.169781e+08\n",
       "2006          11486525.82  3.777815e+08\n",
       "2007           9623660.00  3.809150e+08\n",
       "2008          15753413.44  4.302946e+08\n",
       "2009          11561098.35  7.114365e+08\n",
       "2010          28631251.05  6.795893e+08\n",
       "2011          26406430.57  5.558082e+08\n",
       "2012          23770657.27  6.265349e+08\n",
       "2013          13461419.30  6.669620e+08\n",
       "2014          14719999.00  9.502346e+08\n",
       "2015          60096593.57  7.445782e+08\n",
       "2016          20432046.15  6.749312e+08\n",
       "2017          15297742.76  8.835420e+08\n",
       "2018          10743113.67  1.112516e+09\n",
       "2019           7550697.01  9.457366e+08\n",
       "2020          11916916.27  9.069372e+08\n",
       "2021          10432503.00  6.919536e+08\n",
       "2022                  NaN  2.243400e+05"
      ]
     },
     "execution_count": 56,
     "metadata": {},
     "output_type": "execute_result"
    }
   ],
   "source": [
    "df.groupby(['Year', 'Country Type'])['Approved Amount'].sum().unstack()"
   ]
  },
  {
   "cell_type": "markdown",
   "metadata": {},
   "source": [
    "Letzter Schritt: `plot()`"
   ]
  },
  {
   "cell_type": "code",
   "execution_count": 57,
   "metadata": {},
   "outputs": [
    {
     "data": {
      "text/plain": [
       "<AxesSubplot:xlabel='Year'>"
      ]
     },
     "execution_count": 57,
     "metadata": {},
     "output_type": "execute_result"
    },
    {
     "data": {
      "image/png": "[encoded data removed]",
      "text/plain": [
       "<Figure size 864x432 with 1 Axes>"
      ]
     },
     "metadata": {
      "needs_background": "light"
     },
     "output_type": "display_data"
    }
   ],
   "source": [
    "df.groupby(['Year', 'Country Type'])['Approved Amount'].sum().unstack().plot(figsize=(12,6))"
   ]
  },
  {
   "cell_type": "markdown",
   "metadata": {},
   "source": [
    "**Quiz:** Plotten Sie den durchschnittlichen Betrag, den Universitäten, Fachhochschulen, Spitäler und andere Institutionen über die Jahre erhalten haben - alles auf derselben Grafik. Benutzen Sie dazu wieder das Dataframe \"df_swiss_classfied\" – Achtung, Sie müssen zuerst wieder eine Jahresspalte erstellen."
   ]
  },
  {
   "cell_type": "code",
   "execution_count": 58,
   "metadata": {},
   "outputs": [],
   "source": [
    "# Spalte 'Year' in df_swiss_classified erstellen\n",
    "df_swiss_classified['Year'] = df_swiss_classified['Start Date'].str[6:]"
   ]
  },
  {
   "cell_type": "code",
   "execution_count": 59,
   "metadata": {},
   "outputs": [
    {
     "data": {
      "text/plain": [
       "Year  New Type   \n",
       "1975  Other          174150.941176\n",
       "      Spital          76234.750000\n",
       "      Universität    161652.364706\n",
       "1976  Other          230368.245283\n",
       "      Spital          62150.000000\n",
       "                         ...      \n",
       "2021  Spital         346434.750000\n",
       "      Universität    574244.233716\n",
       "2022  Other            6400.000000\n",
       "      Spital           9400.000000\n",
       "      Universität     12267.058824\n",
       "Name: Approved Amount, Length: 180, dtype: float64"
      ]
     },
     "execution_count": 59,
     "metadata": {},
     "output_type": "execute_result"
    }
   ],
   "source": [
    "# Liste, nach Jahr und New Type gruppiert\n",
    "df_swiss_classified.groupby(['Year', 'New Type'])['Approved Amount'].mean()"
   ]
  },
  {
   "cell_type": "code",
   "execution_count": null,
   "metadata": {},
   "outputs": [],
   "source": [
    "# Plot\n",
    "df_swiss_classified.groupby(['Year', 'New Type'])['Approved Amount'].mean().unstack().plot(figsize=(12,6))"
   ]
  },
  {
   "cell_type": "code",
   "execution_count": null,
   "metadata": {},
   "outputs": [],
   "source": []
  },
  {
   "cell_type": "code",
   "execution_count": null,
   "metadata": {},
   "outputs": [],
   "source": []
  },
  {
   "cell_type": "markdown",
   "metadata": {},
   "source": [
    "**Schlussfrage:** Haben wir nun bereits eine Story gefunden? Wenn ja, was könnte sie sein? Wenn nein, welches wären weitere Auswertungen, die man basierend auf diesen Daten machen könnte?"
   ]
  },
  {
   "cell_type": "code",
   "execution_count": 61,
   "metadata": {},
   "outputs": [],
   "source": [
    "#Antwort in Textform...\n",
    "#Zum Beispiel: Auswertung der Profile von einzelnen Forschern."
   ]
  },
  {
   "cell_type": "code",
   "execution_count": 62,
   "metadata": {},
   "outputs": [
    {
     "data": {
      "text/plain": [
       "Güntherodt Hans-Joachim    47\n",
       "Kneubühl Fritz             47\n",
       "Pestalozzi Karl            46\n",
       "Stocker Thomas             42\n",
       "Günter Peter               41\n",
       "                           ..\n",
       "Vavylonis Dimitrios         1\n",
       "Lau Markus                  1\n",
       "Barbakadze Gocha            1\n",
       "Koenig-Bruhin Monica        1\n",
       "Cappello Giovanni           1\n",
       "Name: Responsible Applicant, Length: 29401, dtype: int64"
      ]
     },
     "execution_count": 62,
     "metadata": {},
     "output_type": "execute_result"
    }
   ],
   "source": [
    "df['Responsible Applicant'].value_counts()"
   ]
  },
  {
   "cell_type": "code",
   "execution_count": 63,
   "metadata": {},
   "outputs": [
    {
     "data": {
      "text/plain": [
       "<AxesSubplot:xlabel='Year'>"
      ]
     },
     "execution_count": 63,
     "metadata": {},
     "output_type": "execute_result"
    },
    {
     "data": {
      "image/png": "[encoded data removed]",
      "text/plain": [
       "<Figure size 432x288 with 1 Axes>"
      ]
     },
     "metadata": {
      "needs_background": "light"
     },
     "output_type": "display_data"
    }
   ],
   "source": [
    "df[df['Responsible Applicant'] == 'Güntherodt Hans-Joachim'].groupby('Year')['Approved Amount'].sum().plot()"
   ]
  },
  {
   "cell_type": "markdown",
   "metadata": {},
   "source": [
    "# Übung"
   ]
  },
  {
   "cell_type": "markdown",
   "metadata": {},
   "source": [
    "Wir klassifizieren die Projekte nun nach Forschungsdisziplin und werten aus, welche Disziplinen zu welchem Zeitpunkt wie viel Geld gekriegt haben (wir wenden also Methode 3 an)."
   ]
  },
  {
   "cell_type": "markdown",
   "metadata": {},
   "source": [
    "**Schritt 1:** Wir erstellen eine Liste der einzigartigen Einträge im Datenfeld \"Discipline Name\" und speichern sie als csv-Datei ab. (Arbeiten Sie mit dem dataframe \"df_swiss\")"
   ]
  },
  {
   "cell_type": "code",
   "execution_count": 64,
   "metadata": {},
   "outputs": [
    {
     "data": {
      "text/html": [
       "<div>\n",
       "<style scoped>\n",
       "    .dataframe tbody tr th:only-of-type {\n",
       "        vertical-align: middle;\n",
       "    }\n",
       "\n",
       "    .dataframe tbody tr th {\n",
       "        vertical-align: top;\n",
       "    }\n",
       "\n",
       "    .dataframe thead th {\n",
       "        text-align: right;\n",
       "    }\n",
       "</style>\n",
       "<table border=\"1\" class=\"dataframe\">\n",
       "  <thead>\n",
       "    <tr style=\"text-align: right;\">\n",
       "      <th></th>\n",
       "      <th>0</th>\n",
       "    </tr>\n",
       "  </thead>\n",
       "  <tbody>\n",
       "    <tr>\n",
       "      <th>0</th>\n",
       "      <td>Education and learning sciences, subject-speci...</td>\n",
       "    </tr>\n",
       "    <tr>\n",
       "      <th>1</th>\n",
       "      <td>Philosophy</td>\n",
       "    </tr>\n",
       "    <tr>\n",
       "      <th>2</th>\n",
       "      <td>Swiss history</td>\n",
       "    </tr>\n",
       "    <tr>\n",
       "      <th>3</th>\n",
       "      <td>Ancient history and Classical studies</td>\n",
       "    </tr>\n",
       "    <tr>\n",
       "      <th>4</th>\n",
       "      <td>Economics</td>\n",
       "    </tr>\n",
       "    <tr>\n",
       "      <th>...</th>\n",
       "      <td>...</td>\n",
       "    </tr>\n",
       "    <tr>\n",
       "      <th>153</th>\n",
       "      <td>Music, Theatre</td>\n",
       "    </tr>\n",
       "    <tr>\n",
       "      <th>154</th>\n",
       "      <td>Arts</td>\n",
       "    </tr>\n",
       "    <tr>\n",
       "      <th>155</th>\n",
       "      <td>Applied psychology</td>\n",
       "    </tr>\n",
       "    <tr>\n",
       "      <th>156</th>\n",
       "      <td>Applied linguistics</td>\n",
       "    </tr>\n",
       "    <tr>\n",
       "      <th>157</th>\n",
       "      <td>Interdisciplinary</td>\n",
       "    </tr>\n",
       "  </tbody>\n",
       "</table>\n",
       "<p>158 rows × 1 columns</p>\n",
       "</div>"
      ],
      "text/plain": [
       "                                                     0\n",
       "0    Education and learning sciences, subject-speci...\n",
       "1                                           Philosophy\n",
       "2                                        Swiss history\n",
       "3                Ancient history and Classical studies\n",
       "4                                            Economics\n",
       "..                                                 ...\n",
       "153                                     Music, Theatre\n",
       "154                                               Arts\n",
       "155                                 Applied psychology\n",
       "156                                Applied linguistics\n",
       "157                                  Interdisciplinary\n",
       "\n",
       "[158 rows x 1 columns]"
      ]
     },
     "execution_count": 64,
     "metadata": {},
     "output_type": "execute_result"
    }
   ],
   "source": [
    "#Dataframe aus einzigartigen Disziplinennamen erstellen\n",
    "df_disciplines = pd.DataFrame(df_swiss['Discipline Name'].unique())\n",
    "df_disciplines"
   ]
  },
  {
   "cell_type": "code",
   "execution_count": 65,
   "metadata": {},
   "outputs": [],
   "source": [
    "# Dataframe als csv speichern\n",
    "df_disciplines.to_csv('dataprojects/SNF/disziplinen.csv', index=False)"
   ]
  },
  {
   "cell_type": "markdown",
   "metadata": {},
   "source": [
    "**Schritt 2:** Wir bearbeiten das csv-File extern und klassifizieren nach unserer Wahl"
   ]
  },
  {
   "cell_type": "code",
   "execution_count": 66,
   "metadata": {},
   "outputs": [],
   "source": [
    "#extern bearbeiten..."
   ]
  },
  {
   "cell_type": "markdown",
   "metadata": {},
   "source": [
    "**Schritt 3:** Wir fügen die Klassifizierung der Disziplinen in unsere Datenliste (Arbeiten Sie mit df) ein"
   ]
  },
  {
   "cell_type": "code",
   "execution_count": 67,
   "metadata": {},
   "outputs": [
    {
     "data": {
      "text/html": [
       "<div>\n",
       "<style scoped>\n",
       "    .dataframe tbody tr th:only-of-type {\n",
       "        vertical-align: middle;\n",
       "    }\n",
       "\n",
       "    .dataframe tbody tr th {\n",
       "        vertical-align: top;\n",
       "    }\n",
       "\n",
       "    .dataframe thead th {\n",
       "        text-align: right;\n",
       "    }\n",
       "</style>\n",
       "<table border=\"1\" class=\"dataframe\">\n",
       "  <thead>\n",
       "    <tr style=\"text-align: right;\">\n",
       "      <th></th>\n",
       "      <th>Discipline Name</th>\n",
       "      <th>Discipline Type</th>\n",
       "    </tr>\n",
       "  </thead>\n",
       "  <tbody>\n",
       "    <tr>\n",
       "      <th>0</th>\n",
       "      <td>Educational science and Pedagogy</td>\n",
       "      <td>Social Sciences</td>\n",
       "    </tr>\n",
       "    <tr>\n",
       "      <th>1</th>\n",
       "      <td>Philosophy</td>\n",
       "      <td>Social Sciences</td>\n",
       "    </tr>\n",
       "    <tr>\n",
       "      <th>2</th>\n",
       "      <td>Swiss history</td>\n",
       "      <td>Social Sciences</td>\n",
       "    </tr>\n",
       "  </tbody>\n",
       "</table>\n",
       "</div>"
      ],
      "text/plain": [
       "                    Discipline Name  Discipline Type\n",
       "0  Educational science and Pedagogy  Social Sciences\n",
       "1                        Philosophy  Social Sciences\n",
       "2                     Swiss history  Social Sciences"
      ]
     },
     "execution_count": 67,
     "metadata": {},
     "output_type": "execute_result"
    }
   ],
   "source": [
    "# Einlesen des bearbeiteten csv-Files\n",
    "df_disciplines_classified = pd.read_csv('dataprojects/SNF/disziplinen-klassifiziert.csv')\n",
    "df_disciplines_classified.head(3)"
   ]
  },
  {
   "cell_type": "code",
   "execution_count": 68,
   "metadata": {},
   "outputs": [
    {
     "data": {
      "text/html": [
       "<div>\n",
       "<style scoped>\n",
       "    .dataframe tbody tr th:only-of-type {\n",
       "        vertical-align: middle;\n",
       "    }\n",
       "\n",
       "    .dataframe tbody tr th {\n",
       "        vertical-align: top;\n",
       "    }\n",
       "\n",
       "    .dataframe thead th {\n",
       "        text-align: right;\n",
       "    }\n",
       "</style>\n",
       "<table border=\"1\" class=\"dataframe\">\n",
       "  <thead>\n",
       "    <tr style=\"text-align: right;\">\n",
       "      <th></th>\n",
       "      <th>Project Number</th>\n",
       "      <th>Project Number String</th>\n",
       "      <th>Project Title</th>\n",
       "      <th>Project Title English</th>\n",
       "      <th>Responsible Applicant</th>\n",
       "      <th>Funding Instrument</th>\n",
       "      <th>Funding Instrument Hierarchy</th>\n",
       "      <th>Institution</th>\n",
       "      <th>Institution Country</th>\n",
       "      <th>University</th>\n",
       "      <th>Discipline Number</th>\n",
       "      <th>Discipline Name</th>\n",
       "      <th>Discipline Name Hierarchy</th>\n",
       "      <th>All disciplines</th>\n",
       "      <th>Start Date</th>\n",
       "      <th>End Date</th>\n",
       "      <th>Approved Amount</th>\n",
       "      <th>Keywords</th>\n",
       "      <th>Institution Type</th>\n",
       "      <th>Discipline Type</th>\n",
       "    </tr>\n",
       "  </thead>\n",
       "  <tbody>\n",
       "    <tr>\n",
       "      <th>0</th>\n",
       "      <td>5</td>\n",
       "      <td>1000-000005</td>\n",
       "      <td>Kritische Erstausgabe der 'Evidentiae contra D...</td>\n",
       "      <td>NaN</td>\n",
       "      <td>Kommission für das Corpus philosophorum medii ...</td>\n",
       "      <td>Project funding (Div. I-III)</td>\n",
       "      <td>Project funding</td>\n",
       "      <td>Kommission für das Corpus philosophorum medii ...</td>\n",
       "      <td>Switzerland</td>\n",
       "      <td>Non-profit organisations (libraries, museums, ...</td>\n",
       "      <td>10101</td>\n",
       "      <td>Philosophy</td>\n",
       "      <td>Humanities and Social Sciences;Linguistics and...</td>\n",
       "      <td>10101</td>\n",
       "      <td>01.03.1976</td>\n",
       "      <td>28.02.1985</td>\n",
       "      <td>79732.0</td>\n",
       "      <td>NaN</td>\n",
       "      <td>Other</td>\n",
       "      <td>Social Sciences</td>\n",
       "    </tr>\n",
       "    <tr>\n",
       "      <th>1</th>\n",
       "      <td>75</td>\n",
       "      <td>1000-000075</td>\n",
       "      <td>Internationales erkenntnistheoretisches Kolloq...</td>\n",
       "      <td>NaN</td>\n",
       "      <td>Lauener Henri</td>\n",
       "      <td>Project funding (Div. I-III)</td>\n",
       "      <td>Project funding</td>\n",
       "      <td>Institut für Philosophie Universität Bern</td>\n",
       "      <td>Switzerland</td>\n",
       "      <td>University of Berne - BE</td>\n",
       "      <td>10101</td>\n",
       "      <td>Philosophy</td>\n",
       "      <td>Humanities and Social Sciences;Linguistics and...</td>\n",
       "      <td>10101</td>\n",
       "      <td>01.01.1976</td>\n",
       "      <td>31.05.1976</td>\n",
       "      <td>14242.0</td>\n",
       "      <td>NaN</td>\n",
       "      <td>University</td>\n",
       "      <td>Social Sciences</td>\n",
       "    </tr>\n",
       "  </tbody>\n",
       "</table>\n",
       "</div>"
      ],
      "text/plain": [
       "   Project Number Project Number String  \\\n",
       "0               5           1000-000005   \n",
       "1              75           1000-000075   \n",
       "\n",
       "                                       Project Title Project Title English  \\\n",
       "0  Kritische Erstausgabe der 'Evidentiae contra D...                   NaN   \n",
       "1  Internationales erkenntnistheoretisches Kolloq...                   NaN   \n",
       "\n",
       "                               Responsible Applicant  \\\n",
       "0  Kommission für das Corpus philosophorum medii ...   \n",
       "1                                      Lauener Henri   \n",
       "\n",
       "             Funding Instrument Funding Instrument Hierarchy  \\\n",
       "0  Project funding (Div. I-III)              Project funding   \n",
       "1  Project funding (Div. I-III)              Project funding   \n",
       "\n",
       "                                         Institution Institution Country  \\\n",
       "0  Kommission für das Corpus philosophorum medii ...         Switzerland   \n",
       "1          Institut für Philosophie Universität Bern         Switzerland   \n",
       "\n",
       "                                          University  Discipline Number  \\\n",
       "0  Non-profit organisations (libraries, museums, ...              10101   \n",
       "1                           University of Berne - BE              10101   \n",
       "\n",
       "  Discipline Name                          Discipline Name Hierarchy  \\\n",
       "0      Philosophy  Humanities and Social Sciences;Linguistics and...   \n",
       "1      Philosophy  Humanities and Social Sciences;Linguistics and...   \n",
       "\n",
       "  All disciplines  Start Date    End Date  Approved Amount Keywords  \\\n",
       "0           10101  01.03.1976  28.02.1985          79732.0      NaN   \n",
       "1           10101  01.01.1976  31.05.1976          14242.0      NaN   \n",
       "\n",
       "  Institution Type  Discipline Type  \n",
       "0            Other  Social Sciences  \n",
       "1       University  Social Sciences  "
      ]
     },
     "execution_count": 68,
     "metadata": {},
     "output_type": "execute_result"
    }
   ],
   "source": [
    "# Verbinden Sie das dataframe \"df_swiss\" mit der Klassifizierung, abspeichern unter neuem dataframe df_swiss_classified\n",
    "df_swiss_classified = df_swiss.merge(df_disciplines_classified, how='inner', on='Discipline Name')\n",
    "df_swiss_classified.head(2)"
   ]
  },
  {
   "cell_type": "markdown",
   "metadata": {},
   "source": [
    "**Schritt 4:** Auswertungen"
   ]
  },
  {
   "cell_type": "markdown",
   "metadata": {},
   "source": [
    "- Wie viele Projekte von welchem Disziplinen-Typ wurden durchgeführt?"
   ]
  },
  {
   "cell_type": "code",
   "execution_count": 69,
   "metadata": {},
   "outputs": [
    {
     "data": {
      "text/plain": [
       "Natural Sciences    22303\n",
       "Medicine            16876\n",
       "Social Sciences     16772\n",
       "Name: Discipline Type, dtype: int64"
      ]
     },
     "execution_count": 69,
     "metadata": {},
     "output_type": "execute_result"
    }
   ],
   "source": [
    "df_swiss_classified['Discipline Type'].value_counts()"
   ]
  },
  {
   "cell_type": "markdown",
   "metadata": {},
   "source": [
    "- Welche Disziplinen-Typen haben meisten Geld gekriegt?"
   ]
  },
  {
   "cell_type": "code",
   "execution_count": 70,
   "metadata": {},
   "outputs": [
    {
     "data": {
      "text/plain": [
       "Discipline Type\n",
       "Medicine            6.660162e+09\n",
       "Natural Sciences    7.178566e+09\n",
       "Social Sciences     3.952067e+09\n",
       "Name: Approved Amount, dtype: float64"
      ]
     },
     "execution_count": 70,
     "metadata": {},
     "output_type": "execute_result"
    }
   ],
   "source": [
    "df_swiss_classified.groupby('Discipline Type')['Approved Amount'].sum()"
   ]
  },
  {
   "cell_type": "markdown",
   "metadata": {},
   "source": [
    "- Wie viel kosten Projekte der Disziplinen-Typen im Durchschnitt? Im Median?"
   ]
  },
  {
   "cell_type": "code",
   "execution_count": 71,
   "metadata": {},
   "outputs": [
    {
     "data": {
      "text/plain": [
       "Discipline Type\n",
       "Medicine            395731.547886\n",
       "Natural Sciences    322574.202530\n",
       "Social Sciences     236906.055890\n",
       "Name: Approved Amount, dtype: float64"
      ]
     },
     "execution_count": 71,
     "metadata": {},
     "output_type": "execute_result"
    }
   ],
   "source": [
    "df_swiss_classified.groupby('Discipline Type')['Approved Amount'].mean()"
   ]
  },
  {
   "cell_type": "code",
   "execution_count": 72,
   "metadata": {},
   "outputs": [
    {
     "data": {
      "text/plain": [
       "Discipline Type\n",
       "Medicine            273190.0\n",
       "Natural Sciences    203426.5\n",
       "Social Sciences     121837.5\n",
       "Name: Approved Amount, dtype: float64"
      ]
     },
     "execution_count": 72,
     "metadata": {},
     "output_type": "execute_result"
    }
   ],
   "source": [
    "df_swiss_classified.groupby('Discipline Type')['Approved Amount'].median()"
   ]
  },
  {
   "cell_type": "markdown",
   "metadata": {},
   "source": [
    "**Schritt 5:** Plot einer Auswertung"
   ]
  },
  {
   "cell_type": "markdown",
   "metadata": {},
   "source": [
    "Wie viel Geld haben die verschiedenen Disziplinentypen im Jahresverlauf insgesamt gekriegt?"
   ]
  },
  {
   "cell_type": "code",
   "execution_count": 73,
   "metadata": {},
   "outputs": [],
   "source": [
    "#Wir müssen auf df_swiss_classified nochmals den Trick mit der Jahresspalte anwenden\n",
    "df_swiss_classified['Year'] = df_swiss_classified['Start Date'].str[6:]"
   ]
  },
  {
   "cell_type": "code",
   "execution_count": 74,
   "metadata": {},
   "outputs": [
    {
     "data": {
      "text/html": [
       "<div>\n",
       "<style scoped>\n",
       "    .dataframe tbody tr th:only-of-type {\n",
       "        vertical-align: middle;\n",
       "    }\n",
       "\n",
       "    .dataframe tbody tr th {\n",
       "        vertical-align: top;\n",
       "    }\n",
       "\n",
       "    .dataframe thead th {\n",
       "        text-align: right;\n",
       "    }\n",
       "</style>\n",
       "<table border=\"1\" class=\"dataframe\">\n",
       "  <thead>\n",
       "    <tr style=\"text-align: right;\">\n",
       "      <th>Discipline Type</th>\n",
       "      <th>Medicine</th>\n",
       "      <th>Natural Sciences</th>\n",
       "      <th>Social Sciences</th>\n",
       "    </tr>\n",
       "    <tr>\n",
       "      <th>Year</th>\n",
       "      <th></th>\n",
       "      <th></th>\n",
       "      <th></th>\n",
       "    </tr>\n",
       "  </thead>\n",
       "  <tbody>\n",
       "    <tr>\n",
       "      <th>1975</th>\n",
       "      <td>1.277342e+07</td>\n",
       "      <td>1.283916e+07</td>\n",
       "      <td>4.402454e+06</td>\n",
       "    </tr>\n",
       "    <tr>\n",
       "      <th>1976</th>\n",
       "      <td>3.945418e+07</td>\n",
       "      <td>4.030315e+07</td>\n",
       "      <td>1.111321e+07</td>\n",
       "    </tr>\n",
       "    <tr>\n",
       "      <th>1977</th>\n",
       "      <td>4.146789e+07</td>\n",
       "      <td>5.275032e+07</td>\n",
       "      <td>1.641714e+07</td>\n",
       "    </tr>\n",
       "    <tr>\n",
       "      <th>1978</th>\n",
       "      <td>4.544383e+07</td>\n",
       "      <td>4.008860e+07</td>\n",
       "      <td>1.774524e+07</td>\n",
       "    </tr>\n",
       "    <tr>\n",
       "      <th>1979</th>\n",
       "      <td>4.164585e+07</td>\n",
       "      <td>5.435762e+07</td>\n",
       "      <td>1.926859e+07</td>\n",
       "    </tr>\n",
       "    <tr>\n",
       "      <th>1980</th>\n",
       "      <td>5.372031e+07</td>\n",
       "      <td>4.422708e+07</td>\n",
       "      <td>1.687742e+07</td>\n",
       "    </tr>\n",
       "    <tr>\n",
       "      <th>1981</th>\n",
       "      <td>4.363928e+07</td>\n",
       "      <td>4.803530e+07</td>\n",
       "      <td>1.945050e+07</td>\n",
       "    </tr>\n",
       "    <tr>\n",
       "      <th>1982</th>\n",
       "      <td>4.150669e+07</td>\n",
       "      <td>4.732691e+07</td>\n",
       "      <td>2.285548e+07</td>\n",
       "    </tr>\n",
       "    <tr>\n",
       "      <th>1983</th>\n",
       "      <td>4.869910e+07</td>\n",
       "      <td>6.506768e+07</td>\n",
       "      <td>2.122889e+07</td>\n",
       "    </tr>\n",
       "    <tr>\n",
       "      <th>1984</th>\n",
       "      <td>5.035559e+07</td>\n",
       "      <td>5.424918e+07</td>\n",
       "      <td>2.134628e+07</td>\n",
       "    </tr>\n",
       "    <tr>\n",
       "      <th>1985</th>\n",
       "      <td>5.034760e+07</td>\n",
       "      <td>6.618903e+07</td>\n",
       "      <td>2.258878e+07</td>\n",
       "    </tr>\n",
       "    <tr>\n",
       "      <th>1986</th>\n",
       "      <td>5.736740e+07</td>\n",
       "      <td>7.884838e+07</td>\n",
       "      <td>2.493749e+07</td>\n",
       "    </tr>\n",
       "    <tr>\n",
       "      <th>1987</th>\n",
       "      <td>5.905857e+07</td>\n",
       "      <td>7.457414e+07</td>\n",
       "      <td>2.068339e+07</td>\n",
       "    </tr>\n",
       "    <tr>\n",
       "      <th>1988</th>\n",
       "      <td>7.117266e+07</td>\n",
       "      <td>8.447224e+07</td>\n",
       "      <td>2.573888e+07</td>\n",
       "    </tr>\n",
       "    <tr>\n",
       "      <th>1989</th>\n",
       "      <td>9.140268e+07</td>\n",
       "      <td>9.551655e+07</td>\n",
       "      <td>2.625386e+07</td>\n",
       "    </tr>\n",
       "    <tr>\n",
       "      <th>1990</th>\n",
       "      <td>8.907766e+07</td>\n",
       "      <td>1.052522e+08</td>\n",
       "      <td>3.670604e+07</td>\n",
       "    </tr>\n",
       "    <tr>\n",
       "      <th>1991</th>\n",
       "      <td>9.936455e+07</td>\n",
       "      <td>1.068955e+08</td>\n",
       "      <td>3.021526e+07</td>\n",
       "    </tr>\n",
       "    <tr>\n",
       "      <th>1992</th>\n",
       "      <td>1.057700e+08</td>\n",
       "      <td>1.337643e+08</td>\n",
       "      <td>3.079177e+07</td>\n",
       "    </tr>\n",
       "    <tr>\n",
       "      <th>1993</th>\n",
       "      <td>1.016589e+08</td>\n",
       "      <td>1.375942e+08</td>\n",
       "      <td>4.281998e+07</td>\n",
       "    </tr>\n",
       "    <tr>\n",
       "      <th>1994</th>\n",
       "      <td>1.084748e+08</td>\n",
       "      <td>1.100609e+08</td>\n",
       "      <td>3.512007e+07</td>\n",
       "    </tr>\n",
       "    <tr>\n",
       "      <th>1995</th>\n",
       "      <td>9.593347e+07</td>\n",
       "      <td>1.032167e+08</td>\n",
       "      <td>2.738634e+07</td>\n",
       "    </tr>\n",
       "    <tr>\n",
       "      <th>1996</th>\n",
       "      <td>1.601430e+08</td>\n",
       "      <td>1.619736e+08</td>\n",
       "      <td>5.141305e+07</td>\n",
       "    </tr>\n",
       "    <tr>\n",
       "      <th>1997</th>\n",
       "      <td>1.183700e+08</td>\n",
       "      <td>1.175699e+08</td>\n",
       "      <td>5.754770e+07</td>\n",
       "    </tr>\n",
       "    <tr>\n",
       "      <th>1998</th>\n",
       "      <td>1.011167e+08</td>\n",
       "      <td>1.053454e+08</td>\n",
       "      <td>4.037066e+07</td>\n",
       "    </tr>\n",
       "    <tr>\n",
       "      <th>1999</th>\n",
       "      <td>9.078031e+07</td>\n",
       "      <td>1.085143e+08</td>\n",
       "      <td>2.788137e+07</td>\n",
       "    </tr>\n",
       "    <tr>\n",
       "      <th>2000</th>\n",
       "      <td>1.323950e+08</td>\n",
       "      <td>1.320919e+08</td>\n",
       "      <td>6.032245e+07</td>\n",
       "    </tr>\n",
       "    <tr>\n",
       "      <th>2001</th>\n",
       "      <td>1.578869e+08</td>\n",
       "      <td>1.534783e+08</td>\n",
       "      <td>5.597511e+07</td>\n",
       "    </tr>\n",
       "    <tr>\n",
       "      <th>2002</th>\n",
       "      <td>1.273336e+08</td>\n",
       "      <td>1.402571e+08</td>\n",
       "      <td>4.308780e+07</td>\n",
       "    </tr>\n",
       "    <tr>\n",
       "      <th>2003</th>\n",
       "      <td>1.263659e+08</td>\n",
       "      <td>1.240396e+08</td>\n",
       "      <td>6.027761e+07</td>\n",
       "    </tr>\n",
       "    <tr>\n",
       "      <th>2004</th>\n",
       "      <td>1.272175e+08</td>\n",
       "      <td>1.253678e+08</td>\n",
       "      <td>5.757142e+07</td>\n",
       "    </tr>\n",
       "    <tr>\n",
       "      <th>2005</th>\n",
       "      <td>1.609479e+08</td>\n",
       "      <td>1.547465e+08</td>\n",
       "      <td>9.600504e+07</td>\n",
       "    </tr>\n",
       "    <tr>\n",
       "      <th>2006</th>\n",
       "      <td>1.526199e+08</td>\n",
       "      <td>1.448704e+08</td>\n",
       "      <td>7.658760e+07</td>\n",
       "    </tr>\n",
       "    <tr>\n",
       "      <th>2007</th>\n",
       "      <td>1.408307e+08</td>\n",
       "      <td>1.528031e+08</td>\n",
       "      <td>8.326990e+07</td>\n",
       "    </tr>\n",
       "    <tr>\n",
       "      <th>2008</th>\n",
       "      <td>1.412946e+08</td>\n",
       "      <td>1.824676e+08</td>\n",
       "      <td>1.004513e+08</td>\n",
       "    </tr>\n",
       "    <tr>\n",
       "      <th>2009</th>\n",
       "      <td>2.638611e+08</td>\n",
       "      <td>2.902172e+08</td>\n",
       "      <td>1.510450e+08</td>\n",
       "    </tr>\n",
       "    <tr>\n",
       "      <th>2010</th>\n",
       "      <td>2.792202e+08</td>\n",
       "      <td>2.715910e+08</td>\n",
       "      <td>1.235203e+08</td>\n",
       "    </tr>\n",
       "    <tr>\n",
       "      <th>2011</th>\n",
       "      <td>2.122446e+08</td>\n",
       "      <td>2.174261e+08</td>\n",
       "      <td>1.203648e+08</td>\n",
       "    </tr>\n",
       "    <tr>\n",
       "      <th>2012</th>\n",
       "      <td>2.498772e+08</td>\n",
       "      <td>2.369238e+08</td>\n",
       "      <td>1.339926e+08</td>\n",
       "    </tr>\n",
       "    <tr>\n",
       "      <th>2013</th>\n",
       "      <td>2.374799e+08</td>\n",
       "      <td>2.593372e+08</td>\n",
       "      <td>1.611947e+08</td>\n",
       "    </tr>\n",
       "    <tr>\n",
       "      <th>2014</th>\n",
       "      <td>3.667080e+08</td>\n",
       "      <td>3.696293e+08</td>\n",
       "      <td>2.064527e+08</td>\n",
       "    </tr>\n",
       "    <tr>\n",
       "      <th>2015</th>\n",
       "      <td>2.591990e+08</td>\n",
       "      <td>3.080942e+08</td>\n",
       "      <td>1.704246e+08</td>\n",
       "    </tr>\n",
       "    <tr>\n",
       "      <th>2016</th>\n",
       "      <td>2.478977e+08</td>\n",
       "      <td>2.622954e+08</td>\n",
       "      <td>1.581786e+08</td>\n",
       "    </tr>\n",
       "    <tr>\n",
       "      <th>2017</th>\n",
       "      <td>2.889765e+08</td>\n",
       "      <td>3.172176e+08</td>\n",
       "      <td>2.665289e+08</td>\n",
       "    </tr>\n",
       "    <tr>\n",
       "      <th>2018</th>\n",
       "      <td>3.619460e+08</td>\n",
       "      <td>4.238246e+08</td>\n",
       "      <td>3.154454e+08</td>\n",
       "    </tr>\n",
       "    <tr>\n",
       "      <th>2019</th>\n",
       "      <td>3.135735e+08</td>\n",
       "      <td>3.331703e+08</td>\n",
       "      <td>2.918308e+08</td>\n",
       "    </tr>\n",
       "    <tr>\n",
       "      <th>2020</th>\n",
       "      <td>3.012795e+08</td>\n",
       "      <td>2.979902e+08</td>\n",
       "      <td>2.914251e+08</td>\n",
       "    </tr>\n",
       "    <tr>\n",
       "      <th>2021</th>\n",
       "      <td>1.922180e+08</td>\n",
       "      <td>2.316696e+08</td>\n",
       "      <td>2.568048e+08</td>\n",
       "    </tr>\n",
       "    <tr>\n",
       "      <th>2022</th>\n",
       "      <td>4.400000e+04</td>\n",
       "      <td>2.500000e+04</td>\n",
       "      <td>1.505400e+05</td>\n",
       "    </tr>\n",
       "  </tbody>\n",
       "</table>\n",
       "</div>"
      ],
      "text/plain": [
       "Discipline Type      Medicine  Natural Sciences  Social Sciences\n",
       "Year                                                            \n",
       "1975             1.277342e+07      1.283916e+07     4.402454e+06\n",
       "1976             3.945418e+07      4.030315e+07     1.111321e+07\n",
       "1977             4.146789e+07      5.275032e+07     1.641714e+07\n",
       "1978             4.544383e+07      4.008860e+07     1.774524e+07\n",
       "1979             4.164585e+07      5.435762e+07     1.926859e+07\n",
       "1980             5.372031e+07      4.422708e+07     1.687742e+07\n",
       "1981             4.363928e+07      4.803530e+07     1.945050e+07\n",
       "1982             4.150669e+07      4.732691e+07     2.285548e+07\n",
       "1983             4.869910e+07      6.506768e+07     2.122889e+07\n",
       "1984             5.035559e+07      5.424918e+07     2.134628e+07\n",
       "1985             5.034760e+07      6.618903e+07     2.258878e+07\n",
       "1986             5.736740e+07      7.884838e+07     2.493749e+07\n",
       "1987             5.905857e+07      7.457414e+07     2.068339e+07\n",
       "1988             7.117266e+07      8.447224e+07     2.573888e+07\n",
       "1989             9.140268e+07      9.551655e+07     2.625386e+07\n",
       "1990             8.907766e+07      1.052522e+08     3.670604e+07\n",
       "1991             9.936455e+07      1.068955e+08     3.021526e+07\n",
       "1992             1.057700e+08      1.337643e+08     3.079177e+07\n",
       "1993             1.016589e+08      1.375942e+08     4.281998e+07\n",
       "1994             1.084748e+08      1.100609e+08     3.512007e+07\n",
       "1995             9.593347e+07      1.032167e+08     2.738634e+07\n",
       "1996             1.601430e+08      1.619736e+08     5.141305e+07\n",
       "1997             1.183700e+08      1.175699e+08     5.754770e+07\n",
       "1998             1.011167e+08      1.053454e+08     4.037066e+07\n",
       "1999             9.078031e+07      1.085143e+08     2.788137e+07\n",
       "2000             1.323950e+08      1.320919e+08     6.032245e+07\n",
       "2001             1.578869e+08      1.534783e+08     5.597511e+07\n",
       "2002             1.273336e+08      1.402571e+08     4.308780e+07\n",
       "2003             1.263659e+08      1.240396e+08     6.027761e+07\n",
       "2004             1.272175e+08      1.253678e+08     5.757142e+07\n",
       "2005             1.609479e+08      1.547465e+08     9.600504e+07\n",
       "2006             1.526199e+08      1.448704e+08     7.658760e+07\n",
       "2007             1.408307e+08      1.528031e+08     8.326990e+07\n",
       "2008             1.412946e+08      1.824676e+08     1.004513e+08\n",
       "2009             2.638611e+08      2.902172e+08     1.510450e+08\n",
       "2010             2.792202e+08      2.715910e+08     1.235203e+08\n",
       "2011             2.122446e+08      2.174261e+08     1.203648e+08\n",
       "2012             2.498772e+08      2.369238e+08     1.339926e+08\n",
       "2013             2.374799e+08      2.593372e+08     1.611947e+08\n",
       "2014             3.667080e+08      3.696293e+08     2.064527e+08\n",
       "2015             2.591990e+08      3.080942e+08     1.704246e+08\n",
       "2016             2.478977e+08      2.622954e+08     1.581786e+08\n",
       "2017             2.889765e+08      3.172176e+08     2.665289e+08\n",
       "2018             3.619460e+08      4.238246e+08     3.154454e+08\n",
       "2019             3.135735e+08      3.331703e+08     2.918308e+08\n",
       "2020             3.012795e+08      2.979902e+08     2.914251e+08\n",
       "2021             1.922180e+08      2.316696e+08     2.568048e+08\n",
       "2022             4.400000e+04      2.500000e+04     1.505400e+05"
      ]
     },
     "execution_count": 74,
     "metadata": {},
     "output_type": "execute_result"
    }
   ],
   "source": [
    "# Tabelle anzeigen: Summe der gesprochenen Gelder, gruppiert nach Jahr und Disziplinentyp\n",
    "df_swiss_classified.groupby(['Year', 'Discipline Type'])['Approved Amount'].sum().unstack()"
   ]
  },
  {
   "cell_type": "code",
   "execution_count": 75,
   "metadata": {},
   "outputs": [
    {
     "data": {
      "text/plain": [
       "<AxesSubplot:xlabel='Year'>"
      ]
     },
     "execution_count": 75,
     "metadata": {},
     "output_type": "execute_result"
    },
    {
     "data": {
      "image/png": "[encoded data removed]",
      "text/plain": [
       "<Figure size 864x432 with 1 Axes>"
      ]
     },
     "metadata": {
      "needs_background": "light"
     },
     "output_type": "display_data"
    }
   ],
   "source": [
    "#Plot als Liniendiagramm\n",
    "df_swiss_classified.groupby(['Year', 'Discipline Type'])['Approved Amount'].sum().unstack().plot(figsize=(12,6))"
   ]
  },
  {
   "cell_type": "code",
   "execution_count": null,
   "metadata": {},
   "outputs": [],
   "source": []
  },
  {
   "cell_type": "code",
   "execution_count": null,
   "metadata": {},
   "outputs": [],
   "source": []
  },
  {
   "cell_type": "code",
   "execution_count": null,
   "metadata": {},
   "outputs": [],
   "source": []
  },
  {
   "cell_type": "code",
   "execution_count": null,
   "metadata": {},
   "outputs": [],
   "source": []
  },
  {
   "cell_type": "code",
   "execution_count": null,
   "metadata": {},
   "outputs": [],
   "source": []
  }
 ],
 "metadata": {
  "kernelspec": {
   "display_name": "Python 3",
   "language": "python",
   "name": "python3"
  },
  "language_info": {
   "codemirror_mode": {
    "name": "ipython",
    "version": 3
   },
   "file_extension": ".py",
   "mimetype": "text/x-python",
   "name": "python",
   "nbconvert_exporter": "python",
   "pygments_lexer": "ipython3",
   "version": "3.8.2"
  }
 },
 "nbformat": 4,
 "nbformat_minor": 2
}
