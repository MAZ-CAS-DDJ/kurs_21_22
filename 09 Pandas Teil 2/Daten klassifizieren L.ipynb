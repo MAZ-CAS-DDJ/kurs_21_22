{
 "cells": [
  {
   "cell_type": "markdown",
   "metadata": {},
   "source": [
    "# Daten klassifizieren"
   ]
  },
  {
   "cell_type": "markdown",
   "metadata": {},
   "source": [
    "**Inhalt:** Unsaubere Daten laden und klassifizieren\n",
    "\n",
    "**Nötige Skills:** Erste Schritte mit Pandas\n",
    "\n",
    "**Lernziele:**\n",
    "- Daten auf Integrität prüfen\n",
    "- Einfaches Putzen der gröbsten Fehler\n",
    "- Daten klassifizieren, auf die schnelle und saubere Art\n",
    "- Plotting Level 2: mehrere Serien"
   ]
  },
  {
   "cell_type": "markdown",
   "metadata": {},
   "source": [
    "# Das Beispiel"
   ]
  },
  {
   "cell_type": "markdown",
   "metadata": {},
   "source": [
    "P3-Datenbank des Schweizerischen Nationalfonds. Beinhaltet alle Forschungsprojekte, die seit 1975 vom SNF Fördergelder erhalten haben.\n",
    "\n",
    "Quelle und Dokumentation: http://p3.snf.ch/Pages/DataAndDocumentation.aspx\n",
    "\n",
    "Datenfile: http://p3.snf.ch/P3Export/P3_GrantExport.csv\n",
    "\n",
    "Speichern Sie die Datei an einem geeigneten Ort, zB im Unterornder `dataprojects/SNF/`"
   ]
  },
  {
   "cell_type": "markdown",
   "metadata": {},
   "source": [
    "## Vorbereitung"
   ]
  },
  {
   "cell_type": "markdown",
   "metadata": {},
   "source": [
    "Wir laden diesmal nicht nur das Pandas-Modul, sondern auch NumPy.\n",
    "\n",
    "*NumPy is the fundamental package for scientific computing with Python): http://www.numpy.org/*"
   ]
  },
  {
   "cell_type": "code",
   "execution_count": 1,
   "metadata": {},
   "outputs": [],
   "source": [
    "import pandas as pd"
   ]
  },
  {
   "cell_type": "code",
   "execution_count": 2,
   "metadata": {},
   "outputs": [],
   "source": [
    "import numpy as np"
   ]
  },
  {
   "cell_type": "code",
   "execution_count": 3,
   "metadata": {},
   "outputs": [],
   "source": [
    "%matplotlib inline"
   ]
  },
  {
   "cell_type": "markdown",
   "metadata": {},
   "source": [
    "## Datenfile laden"
   ]
  },
  {
   "cell_type": "markdown",
   "metadata": {},
   "source": [
    "Wie gehabt ... Achtung, die Felder sind nicht durch Kommas sondern durch Semikolon abgetrennt!"
   ]
  },
  {
   "cell_type": "code",
   "execution_count": 4,
   "metadata": {},
   "outputs": [],
   "source": [
    "path = \"dataprojects/SNF/P3_GrantExport.csv\""
   ]
  },
  {
   "cell_type": "code",
   "execution_count": 5,
   "metadata": {},
   "outputs": [],
   "source": [
    "df = pd.read_csv(path, delimiter=';')"
   ]
  },
  {
   "cell_type": "code",
   "execution_count": 6,
   "metadata": {},
   "outputs": [
    {
     "data": {
      "text/html": [
       "<div>\n",
       "<style scoped>\n",
       "    .dataframe tbody tr th:only-of-type {\n",
       "        vertical-align: middle;\n",
       "    }\n",
       "\n",
       "    .dataframe tbody tr th {\n",
       "        vertical-align: top;\n",
       "    }\n",
       "\n",
       "    .dataframe thead th {\n",
       "        text-align: right;\n",
       "    }\n",
       "</style>\n",
       "<table border=\"1\" class=\"dataframe\">\n",
       "  <thead>\n",
       "    <tr style=\"text-align: right;\">\n",
       "      <th></th>\n",
       "      <th>Project Number</th>\n",
       "      <th>Project Number String</th>\n",
       "      <th>Project Title</th>\n",
       "      <th>Project Title English</th>\n",
       "      <th>Responsible Applicant</th>\n",
       "      <th>Funding Instrument</th>\n",
       "      <th>Funding Instrument Hierarchy</th>\n",
       "      <th>Institution</th>\n",
       "      <th>Institution Country</th>\n",
       "      <th>University</th>\n",
       "      <th>Discipline Number</th>\n",
       "      <th>Discipline Name</th>\n",
       "      <th>Discipline Name Hierarchy</th>\n",
       "      <th>All disciplines</th>\n",
       "      <th>Start Date</th>\n",
       "      <th>End Date</th>\n",
       "      <th>Approved Amount</th>\n",
       "      <th>Keywords</th>\n",
       "    </tr>\n",
       "  </thead>\n",
       "  <tbody>\n",
       "    <tr>\n",
       "      <td>0</td>\n",
       "      <td>1</td>\n",
       "      <td>1000-000001</td>\n",
       "      <td>Schlussband (Bd. VI) der Jacob Burckhardt-Biog...</td>\n",
       "      <td>NaN</td>\n",
       "      <td>Kaegi Werner</td>\n",
       "      <td>Project funding (Div. I-III)</td>\n",
       "      <td>Project funding</td>\n",
       "      <td>NaN</td>\n",
       "      <td>NaN</td>\n",
       "      <td>Unassignable - NA</td>\n",
       "      <td>10302</td>\n",
       "      <td>Swiss history</td>\n",
       "      <td>Humanities and Social Sciences;Theology &amp; reli...</td>\n",
       "      <td>10302</td>\n",
       "      <td>01.10.1975</td>\n",
       "      <td>30.09.1976</td>\n",
       "      <td>11619.00</td>\n",
       "      <td>NaN</td>\n",
       "    </tr>\n",
       "    <tr>\n",
       "      <td>1</td>\n",
       "      <td>4</td>\n",
       "      <td>1000-000004</td>\n",
       "      <td>Batterie de tests à l'usage des enseignants po...</td>\n",
       "      <td>NaN</td>\n",
       "      <td>Massarenti Léonard</td>\n",
       "      <td>Project funding (Div. I-III)</td>\n",
       "      <td>Project funding</td>\n",
       "      <td>Faculté de Psychologie et des Sciences de l'Ed...</td>\n",
       "      <td>Switzerland</td>\n",
       "      <td>University of Geneva - GE</td>\n",
       "      <td>10104</td>\n",
       "      <td>Educational science and Pedagogy</td>\n",
       "      <td>Humanities and Social Sciences;Psychology, edu...</td>\n",
       "      <td>10104</td>\n",
       "      <td>01.10.1975</td>\n",
       "      <td>30.09.1976</td>\n",
       "      <td>41022.00</td>\n",
       "      <td>NaN</td>\n",
       "    </tr>\n",
       "  </tbody>\n",
       "</table>\n",
       "</div>"
      ],
      "text/plain": [
       "   Project Number Project Number String  \\\n",
       "0               1           1000-000001   \n",
       "1               4           1000-000004   \n",
       "\n",
       "                                       Project Title Project Title English  \\\n",
       "0  Schlussband (Bd. VI) der Jacob Burckhardt-Biog...                   NaN   \n",
       "1  Batterie de tests à l'usage des enseignants po...                   NaN   \n",
       "\n",
       "  Responsible Applicant            Funding Instrument  \\\n",
       "0          Kaegi Werner  Project funding (Div. I-III)   \n",
       "1    Massarenti Léonard  Project funding (Div. I-III)   \n",
       "\n",
       "  Funding Instrument Hierarchy  \\\n",
       "0              Project funding   \n",
       "1              Project funding   \n",
       "\n",
       "                                         Institution Institution Country  \\\n",
       "0                                                NaN                 NaN   \n",
       "1  Faculté de Psychologie et des Sciences de l'Ed...         Switzerland   \n",
       "\n",
       "                  University  Discipline Number  \\\n",
       "0          Unassignable - NA              10302   \n",
       "1  University of Geneva - GE              10104   \n",
       "\n",
       "                    Discipline Name  \\\n",
       "0                     Swiss history   \n",
       "1  Educational science and Pedagogy   \n",
       "\n",
       "                           Discipline Name Hierarchy All disciplines  \\\n",
       "0  Humanities and Social Sciences;Theology & reli...           10302   \n",
       "1  Humanities and Social Sciences;Psychology, edu...           10104   \n",
       "\n",
       "   Start Date    End Date Approved Amount Keywords  \n",
       "0  01.10.1975  30.09.1976        11619.00      NaN  \n",
       "1  01.10.1975  30.09.1976        41022.00      NaN  "
      ]
     },
     "execution_count": 6,
     "metadata": {},
     "output_type": "execute_result"
    }
   ],
   "source": [
    "df.head(2)"
   ]
  },
  {
   "cell_type": "markdown",
   "metadata": {},
   "source": [
    "Besser! Schauen wir uns die Sache mal näher an."
   ]
  },
  {
   "cell_type": "code",
   "execution_count": 7,
   "metadata": {},
   "outputs": [
    {
     "data": {
      "text/plain": [
       "(74655, 18)"
      ]
     },
     "execution_count": 7,
     "metadata": {},
     "output_type": "execute_result"
    }
   ],
   "source": [
    "df.shape"
   ]
  },
  {
   "cell_type": "code",
   "execution_count": 8,
   "metadata": {},
   "outputs": [
    {
     "data": {
      "text/plain": [
       "Project Number                   int64\n",
       "Project Number String           object\n",
       "Project Title                   object\n",
       "Project Title English           object\n",
       "Responsible Applicant           object\n",
       "Funding Instrument              object\n",
       "Funding Instrument Hierarchy    object\n",
       "Institution                     object\n",
       "Institution Country             object\n",
       "University                      object\n",
       "Discipline Number                int64\n",
       "Discipline Name                 object\n",
       "Discipline Name Hierarchy       object\n",
       "All disciplines                 object\n",
       "Start Date                      object\n",
       "End Date                        object\n",
       "Approved Amount                 object\n",
       "Keywords                        object\n",
       "dtype: object"
      ]
     },
     "execution_count": 8,
     "metadata": {},
     "output_type": "execute_result"
    }
   ],
   "source": [
    "df.dtypes"
   ]
  },
  {
   "cell_type": "code",
   "execution_count": 9,
   "metadata": {},
   "outputs": [
    {
     "data": {
      "text/html": [
       "<div>\n",
       "<style scoped>\n",
       "    .dataframe tbody tr th:only-of-type {\n",
       "        vertical-align: middle;\n",
       "    }\n",
       "\n",
       "    .dataframe tbody tr th {\n",
       "        vertical-align: top;\n",
       "    }\n",
       "\n",
       "    .dataframe thead th {\n",
       "        text-align: right;\n",
       "    }\n",
       "</style>\n",
       "<table border=\"1\" class=\"dataframe\">\n",
       "  <thead>\n",
       "    <tr style=\"text-align: right;\">\n",
       "      <th></th>\n",
       "      <th>Project Number</th>\n",
       "      <th>Discipline Number</th>\n",
       "    </tr>\n",
       "  </thead>\n",
       "  <tbody>\n",
       "    <tr>\n",
       "      <td>count</td>\n",
       "      <td>74655.000000</td>\n",
       "      <td>74655.000000</td>\n",
       "    </tr>\n",
       "    <tr>\n",
       "      <td>mean</td>\n",
       "      <td>98256.475789</td>\n",
       "      <td>19878.270176</td>\n",
       "    </tr>\n",
       "    <tr>\n",
       "      <td>std</td>\n",
       "      <td>59603.267461</td>\n",
       "      <td>8269.916161</td>\n",
       "    </tr>\n",
       "    <tr>\n",
       "      <td>min</td>\n",
       "      <td>1.000000</td>\n",
       "      <td>0.000000</td>\n",
       "    </tr>\n",
       "    <tr>\n",
       "      <td>25%</td>\n",
       "      <td>42171.500000</td>\n",
       "      <td>10303.000000</td>\n",
       "    </tr>\n",
       "    <tr>\n",
       "      <td>50%</td>\n",
       "      <td>112330.000000</td>\n",
       "      <td>20404.000000</td>\n",
       "    </tr>\n",
       "    <tr>\n",
       "      <td>75%</td>\n",
       "      <td>148739.500000</td>\n",
       "      <td>30103.000000</td>\n",
       "    </tr>\n",
       "    <tr>\n",
       "      <td>max</td>\n",
       "      <td>199097.000000</td>\n",
       "      <td>50000.000000</td>\n",
       "    </tr>\n",
       "  </tbody>\n",
       "</table>\n",
       "</div>"
      ],
      "text/plain": [
       "       Project Number  Discipline Number\n",
       "count    74655.000000       74655.000000\n",
       "mean     98256.475789       19878.270176\n",
       "std      59603.267461        8269.916161\n",
       "min          1.000000           0.000000\n",
       "25%      42171.500000       10303.000000\n",
       "50%     112330.000000       20404.000000\n",
       "75%     148739.500000       30103.000000\n",
       "max     199097.000000       50000.000000"
      ]
     },
     "execution_count": 9,
     "metadata": {},
     "output_type": "execute_result"
    }
   ],
   "source": [
    "df.describe()"
   ]
  },
  {
   "cell_type": "markdown",
   "metadata": {},
   "source": [
    "Offensichtlich hat es einige Spalten drin, die noch nicht mit dem richtigen Datentyp formatiert sind, z.B. \"Approved Amount\".\n",
    "\n",
    "Das Problem ist: So lange wir da nicht die richtigen Datentypen haben, funktionieren einige Auswertungen nicht."
   ]
  },
  {
   "cell_type": "code",
   "execution_count": 10,
   "metadata": {},
   "outputs": [],
   "source": [
    "#Zum Beispiel diese hier:\n",
    "#df['Approved Amount'].mean()"
   ]
  },
  {
   "cell_type": "markdown",
   "metadata": {},
   "source": [
    "Eigentlich wären das sehr interessante Informationen: wie viel Geld haben die Projekte im Schnitt gekriegt, im Maximum, im Minimum, etc.\n",
    "\n",
    "## Entfernen von ungültigen Werten\n",
    "\n",
    "Wir müssen also irgendwie diese Spalte reinigen, damit Pandas die Berechungen für uns machen kann.\n",
    "\n",
    "Um herauszukriegen, was das Problem sein könnte, ist `value_counts()` eine ziemlich einfache Option."
   ]
  },
  {
   "cell_type": "code",
   "execution_count": 11,
   "metadata": {},
   "outputs": [
    {
     "data": {
      "text/plain": [
       "0.00                          89\n",
       "100.00                         1\n",
       "1000.00                       33\n",
       "10000.00                     659\n",
       "100000.00                    252\n",
       "                           ...  \n",
       "99996.00                       1\n",
       "999976.00                      1\n",
       "99998.00                       1\n",
       "99999.00                       3\n",
       "data not included in P3    13168\n",
       "Name: Approved Amount, Length: 41731, dtype: int64"
      ]
     },
     "execution_count": 11,
     "metadata": {},
     "output_type": "execute_result"
    }
   ],
   "source": [
    "df['Approved Amount'].value_counts().sort_index()"
   ]
  },
  {
   "cell_type": "markdown",
   "metadata": {},
   "source": [
    "Das Problem liegt in der letzten Zeile: Bei 12070 Einträgen steht: \"`data not included in P3`.\"\n",
    "\n",
    "Wir können das auf mehrere Arten lösen:"
   ]
  },
  {
   "cell_type": "markdown",
   "metadata": {},
   "source": [
    "### Variante 1: Werte mit NaN ersetzen"
   ]
  },
  {
   "cell_type": "markdown",
   "metadata": {},
   "source": [
    "Wir verwenden nun die Funktion `replace()`, um selektiv alle Instanzen von \"`data not included in P3`\" zu ersetzen - und zwar mit NaN:"
   ]
  },
  {
   "cell_type": "code",
   "execution_count": 12,
   "metadata": {},
   "outputs": [],
   "source": [
    "df['Approved Amount'] = df['Approved Amount'].replace('data not included in P3', np.nan)"
   ]
  },
  {
   "cell_type": "markdown",
   "metadata": {},
   "source": [
    "Die Einträge wurden jetzt in NaN verwandelt (und werden deshalb standardmässig gar nicht mehr angezeigt)"
   ]
  },
  {
   "cell_type": "code",
   "execution_count": 13,
   "metadata": {},
   "outputs": [
    {
     "data": {
      "text/plain": [
       "0.00          89\n",
       "100.00         1\n",
       "1000.00       33\n",
       "10000.00     659\n",
       "100000.00    252\n",
       "            ... \n",
       "999956.00      1\n",
       "99996.00       1\n",
       "999976.00      1\n",
       "99998.00       1\n",
       "99999.00       3\n",
       "Name: Approved Amount, Length: 41730, dtype: int64"
      ]
     },
     "execution_count": 13,
     "metadata": {},
     "output_type": "execute_result"
    }
   ],
   "source": [
    "df['Approved Amount'].value_counts().sort_index()"
   ]
  },
  {
   "cell_type": "markdown",
   "metadata": {},
   "source": [
    "Allerdings haben wir ein Problem: Der Datentyp von \"Approved Amount\" ist immer noch \"object\"..."
   ]
  },
  {
   "cell_type": "code",
   "execution_count": 14,
   "metadata": {},
   "outputs": [
    {
     "data": {
      "text/plain": [
       "Project Number                   int64\n",
       "Project Number String           object\n",
       "Project Title                   object\n",
       "Project Title English           object\n",
       "Responsible Applicant           object\n",
       "Funding Instrument              object\n",
       "Funding Instrument Hierarchy    object\n",
       "Institution                     object\n",
       "Institution Country             object\n",
       "University                      object\n",
       "Discipline Number                int64\n",
       "Discipline Name                 object\n",
       "Discipline Name Hierarchy       object\n",
       "All disciplines                 object\n",
       "Start Date                      object\n",
       "End Date                        object\n",
       "Approved Amount                 object\n",
       "Keywords                        object\n",
       "dtype: object"
      ]
     },
     "execution_count": 14,
     "metadata": {},
     "output_type": "execute_result"
    }
   ],
   "source": [
    "df.dtypes"
   ]
  },
  {
   "cell_type": "markdown",
   "metadata": {},
   "source": [
    "Wir sind gezwungen, noch eine Datenkonversion durchzuführen: mit `astype()`"
   ]
  },
  {
   "cell_type": "code",
   "execution_count": 15,
   "metadata": {},
   "outputs": [],
   "source": [
    "df['Approved Amount'] = df['Approved Amount'].astype(float)"
   ]
  },
  {
   "cell_type": "markdown",
   "metadata": {},
   "source": [
    "Endlich stimmt der Datentyp:"
   ]
  },
  {
   "cell_type": "code",
   "execution_count": 16,
   "metadata": {
    "scrolled": true
   },
   "outputs": [
    {
     "data": {
      "text/plain": [
       "Project Number                    int64\n",
       "Project Number String            object\n",
       "Project Title                    object\n",
       "Project Title English            object\n",
       "Responsible Applicant            object\n",
       "Funding Instrument               object\n",
       "Funding Instrument Hierarchy     object\n",
       "Institution                      object\n",
       "Institution Country              object\n",
       "University                       object\n",
       "Discipline Number                 int64\n",
       "Discipline Name                  object\n",
       "Discipline Name Hierarchy        object\n",
       "All disciplines                  object\n",
       "Start Date                       object\n",
       "End Date                         object\n",
       "Approved Amount                 float64\n",
       "Keywords                         object\n",
       "dtype: object"
      ]
     },
     "execution_count": 16,
     "metadata": {},
     "output_type": "execute_result"
    }
   ],
   "source": [
    "df.dtypes"
   ]
  },
  {
   "cell_type": "markdown",
   "metadata": {},
   "source": [
    "Und wir können unsere Auswertung durchführen:"
   ]
  },
  {
   "cell_type": "code",
   "execution_count": 17,
   "metadata": {},
   "outputs": [
    {
     "data": {
      "text/plain": [
       "287236.22693642555"
      ]
     },
     "execution_count": 17,
     "metadata": {},
     "output_type": "execute_result"
    }
   ],
   "source": [
    "#Antwort\n",
    "df['Approved Amount'].mean()"
   ]
  },
  {
   "cell_type": "markdown",
   "metadata": {},
   "source": [
    "### Variante 2: Datei nochmals einlesen mit einer Spezialoption\n",
    "\n",
    "Um uns einige Schritte zu ersparen, lesen wir die Datei einfach nochmals neu ein.\n",
    "\n",
    "Die Option heisst `na_values=` (na = Not Available, wird durch NaN ersetzt = Not a Number oder so)"
   ]
  },
  {
   "cell_type": "code",
   "execution_count": 18,
   "metadata": {},
   "outputs": [],
   "source": [
    "df = pd.read_csv(path, delimiter=';', na_values='data not included in P3')"
   ]
  },
  {
   "cell_type": "markdown",
   "metadata": {},
   "source": [
    "Tadaaa!"
   ]
  },
  {
   "cell_type": "code",
   "execution_count": 19,
   "metadata": {},
   "outputs": [
    {
     "data": {
      "text/plain": [
       "Project Number                    int64\n",
       "Project Number String            object\n",
       "Project Title                    object\n",
       "Project Title English            object\n",
       "Responsible Applicant            object\n",
       "Funding Instrument               object\n",
       "Funding Instrument Hierarchy     object\n",
       "Institution                      object\n",
       "Institution Country              object\n",
       "University                       object\n",
       "Discipline Number                 int64\n",
       "Discipline Name                  object\n",
       "Discipline Name Hierarchy        object\n",
       "All disciplines                  object\n",
       "Start Date                       object\n",
       "End Date                         object\n",
       "Approved Amount                 float64\n",
       "Keywords                         object\n",
       "dtype: object"
      ]
     },
     "execution_count": 19,
     "metadata": {},
     "output_type": "execute_result"
    }
   ],
   "source": [
    "df.dtypes"
   ]
  },
  {
   "cell_type": "markdown",
   "metadata": {},
   "source": [
    "**Übrigens:** Um zu checken, was es eigentlich mit den ungültigen Einträgen eigentlich auf sich hat, können wir `.isnull()` verwenden:"
   ]
  },
  {
   "cell_type": "code",
   "execution_count": 20,
   "metadata": {},
   "outputs": [
    {
     "data": {
      "text/html": [
       "<div>\n",
       "<style scoped>\n",
       "    .dataframe tbody tr th:only-of-type {\n",
       "        vertical-align: middle;\n",
       "    }\n",
       "\n",
       "    .dataframe tbody tr th {\n",
       "        vertical-align: top;\n",
       "    }\n",
       "\n",
       "    .dataframe thead th {\n",
       "        text-align: right;\n",
       "    }\n",
       "</style>\n",
       "<table border=\"1\" class=\"dataframe\">\n",
       "  <thead>\n",
       "    <tr style=\"text-align: right;\">\n",
       "      <th></th>\n",
       "      <th>Project Number</th>\n",
       "      <th>Project Number String</th>\n",
       "      <th>Project Title</th>\n",
       "      <th>Project Title English</th>\n",
       "      <th>Responsible Applicant</th>\n",
       "      <th>Funding Instrument</th>\n",
       "      <th>Funding Instrument Hierarchy</th>\n",
       "      <th>Institution</th>\n",
       "      <th>Institution Country</th>\n",
       "      <th>University</th>\n",
       "      <th>Discipline Number</th>\n",
       "      <th>Discipline Name</th>\n",
       "      <th>Discipline Name Hierarchy</th>\n",
       "      <th>All disciplines</th>\n",
       "      <th>Start Date</th>\n",
       "      <th>End Date</th>\n",
       "      <th>Approved Amount</th>\n",
       "      <th>Keywords</th>\n",
       "    </tr>\n",
       "  </thead>\n",
       "  <tbody>\n",
       "    <tr>\n",
       "      <td>9210</td>\n",
       "      <td>20001</td>\n",
       "      <td>81AM-020001</td>\n",
       "      <td>Therapie beim Morbus Hodgkin.</td>\n",
       "      <td>NaN</td>\n",
       "      <td>Wernli Martin</td>\n",
       "      <td>Fellowships for prospective researchers</td>\n",
       "      <td>Careers;Fellowships</td>\n",
       "      <td>UNI: Cancer Research Center University of Ch i...</td>\n",
       "      <td>United States of America</td>\n",
       "      <td>Institution abroad - IACH</td>\n",
       "      <td>30703</td>\n",
       "      <td>Clinical Cancer Research</td>\n",
       "      <td>Biology and Medicine;Clinical Medicine</td>\n",
       "      <td>30703</td>\n",
       "      <td>01.11.1986</td>\n",
       "      <td>31.10.1987</td>\n",
       "      <td>NaN</td>\n",
       "      <td>NaN</td>\n",
       "    </tr>\n",
       "    <tr>\n",
       "      <td>9211</td>\n",
       "      <td>20002</td>\n",
       "      <td>81AM-020002</td>\n",
       "      <td>Immunologie des Typ-1 Diabetes.</td>\n",
       "      <td>NaN</td>\n",
       "      <td>Atar Dan</td>\n",
       "      <td>Fellowships for prospective researchers</td>\n",
       "      <td>Careers;Fellowships</td>\n",
       "      <td>UNI: Hagedorn Research Laboratory Steno Memo r...</td>\n",
       "      <td>Denmark</td>\n",
       "      <td>Institution abroad - IACH</td>\n",
       "      <td>30403</td>\n",
       "      <td>Immunology, Immunopathology</td>\n",
       "      <td>Biology and Medicine;Experimental Medicine</td>\n",
       "      <td>30403</td>\n",
       "      <td>01.01.1987</td>\n",
       "      <td>31.12.1987</td>\n",
       "      <td>NaN</td>\n",
       "      <td>NaN</td>\n",
       "    </tr>\n",
       "    <tr>\n",
       "      <td>9212</td>\n",
       "      <td>20003</td>\n",
       "      <td>81AM-020003</td>\n",
       "      <td>Infektionen bei Immunsuppression.</td>\n",
       "      <td>NaN</td>\n",
       "      <td>Ruef Christian</td>\n",
       "      <td>Fellowships for prospective researchers</td>\n",
       "      <td>Careers;Fellowships</td>\n",
       "      <td>UNI: Yale Univ Dept of Internal Medicineory Ne...</td>\n",
       "      <td>United States of America</td>\n",
       "      <td>Institution abroad - IACH</td>\n",
       "      <td>30701</td>\n",
       "      <td>Internal Medicine</td>\n",
       "      <td>Biology and Medicine;Clinical Medicine</td>\n",
       "      <td>30701</td>\n",
       "      <td>01.07.1987</td>\n",
       "      <td>30.06.1988</td>\n",
       "      <td>NaN</td>\n",
       "      <td>NaN</td>\n",
       "    </tr>\n",
       "    <tr>\n",
       "      <td>9213</td>\n",
       "      <td>20004</td>\n",
       "      <td>81AT-020004</td>\n",
       "      <td>'Modern and Applied Optics'.</td>\n",
       "      <td>NaN</td>\n",
       "      <td>Kellenberger Regula</td>\n",
       "      <td>Fellowships for prospective researchers</td>\n",
       "      <td>Careers;Fellowships</td>\n",
       "      <td>UNI: University of Reading Reading/    GB</td>\n",
       "      <td>Great Britain and Northern Ireland</td>\n",
       "      <td>Institution abroad - IACH</td>\n",
       "      <td>20508</td>\n",
       "      <td>Microelectronics. Optoelectronics</td>\n",
       "      <td>Mathematics, Natural- and Engineering Sciences...</td>\n",
       "      <td>20508</td>\n",
       "      <td>01.09.1986</td>\n",
       "      <td>31.08.1987</td>\n",
       "      <td>NaN</td>\n",
       "      <td>NaN</td>\n",
       "    </tr>\n",
       "    <tr>\n",
       "      <td>9214</td>\n",
       "      <td>20005</td>\n",
       "      <td>81AT-020005</td>\n",
       "      <td>Traitement digital du signal et architecture d...</td>\n",
       "      <td>NaN</td>\n",
       "      <td>Piot Julien</td>\n",
       "      <td>Fellowships for prospective researchers</td>\n",
       "      <td>Careers;Fellowships</td>\n",
       "      <td>UNI: Massachusetts    USA</td>\n",
       "      <td>United States of America</td>\n",
       "      <td>Institution abroad - IACH</td>\n",
       "      <td>20504</td>\n",
       "      <td>Electrical Engineering</td>\n",
       "      <td>Mathematics, Natural- and Engineering Sciences...</td>\n",
       "      <td>20504</td>\n",
       "      <td>01.09.1986</td>\n",
       "      <td>31.08.1987</td>\n",
       "      <td>NaN</td>\n",
       "      <td>NaN</td>\n",
       "    </tr>\n",
       "    <tr>\n",
       "      <td>...</td>\n",
       "      <td>...</td>\n",
       "      <td>...</td>\n",
       "      <td>...</td>\n",
       "      <td>...</td>\n",
       "      <td>...</td>\n",
       "      <td>...</td>\n",
       "      <td>...</td>\n",
       "      <td>...</td>\n",
       "      <td>...</td>\n",
       "      <td>...</td>\n",
       "      <td>...</td>\n",
       "      <td>...</td>\n",
       "      <td>...</td>\n",
       "      <td>...</td>\n",
       "      <td>...</td>\n",
       "      <td>...</td>\n",
       "      <td>...</td>\n",
       "      <td>...</td>\n",
       "    </tr>\n",
       "    <tr>\n",
       "      <td>74568</td>\n",
       "      <td>195708</td>\n",
       "      <td>P1SGP1_195708</td>\n",
       "      <td>The Impact of Cultural Heritage on Investment ...</td>\n",
       "      <td>NaN</td>\n",
       "      <td>Cochardt Alexander</td>\n",
       "      <td>Doc.Mobility</td>\n",
       "      <td>Careers;Fellowships</td>\n",
       "      <td>Institute for Behavioral and Household Fin. SC...</td>\n",
       "      <td>United States of America</td>\n",
       "      <td>Institution abroad - IACH</td>\n",
       "      <td>10203</td>\n",
       "      <td>Economics</td>\n",
       "      <td>Humanities and Social Sciences;Economics, law</td>\n",
       "      <td>10203</td>\n",
       "      <td>01.09.2020</td>\n",
       "      <td>31.08.2021</td>\n",
       "      <td>NaN</td>\n",
       "      <td>Mutual Funds; Investment Decisions; Culture; B...</td>\n",
       "    </tr>\n",
       "    <tr>\n",
       "      <td>74569</td>\n",
       "      <td>195710</td>\n",
       "      <td>P1SGP1_195710</td>\n",
       "      <td>NOT YET YOURS: HOW ENHANCING PHYSICAL PRODUCTS...</td>\n",
       "      <td>NOT YET YOURS: HOW ENHANCING PHYSICAL PRODUCTS...</td>\n",
       "      <td>Lueders Wiebke</td>\n",
       "      <td>Doc.Mobility</td>\n",
       "      <td>Careers;Fellowships</td>\n",
       "      <td>Marketing Department Marketing Department INSE...</td>\n",
       "      <td>France</td>\n",
       "      <td>Institution abroad - IACH</td>\n",
       "      <td>10204</td>\n",
       "      <td>Science of management</td>\n",
       "      <td>Humanities and Social Sciences;Economics, law</td>\n",
       "      <td>10204</td>\n",
       "      <td>01.07.2020</td>\n",
       "      <td>30.04.2021</td>\n",
       "      <td>NaN</td>\n",
       "      <td>New Technologies in Marketing; Physical produc...</td>\n",
       "    </tr>\n",
       "    <tr>\n",
       "      <td>74570</td>\n",
       "      <td>195732</td>\n",
       "      <td>P1SGP1_195732</td>\n",
       "      <td>Pay Less, Spend More: Consumers' Mental Accoun...</td>\n",
       "      <td>NaN</td>\n",
       "      <td>Scheidegger Gianluca</td>\n",
       "      <td>Doc.Mobility</td>\n",
       "      <td>Careers;Fellowships</td>\n",
       "      <td>HEC Paris</td>\n",
       "      <td>France</td>\n",
       "      <td>Institution abroad - IACH</td>\n",
       "      <td>10204</td>\n",
       "      <td>Science of management</td>\n",
       "      <td>Humanities and Social Sciences;Economics, law</td>\n",
       "      <td>10204</td>\n",
       "      <td>01.09.2020</td>\n",
       "      <td>31.08.2021</td>\n",
       "      <td>NaN</td>\n",
       "      <td>payment mechanisms; gift cards; payment deprec...</td>\n",
       "    </tr>\n",
       "    <tr>\n",
       "      <td>74571</td>\n",
       "      <td>195734</td>\n",
       "      <td>P1BSP1_195734</td>\n",
       "      <td>Dekorationsprinzipien im 4. pompejanischen Sti...</td>\n",
       "      <td>NaN</td>\n",
       "      <td>Cornut Adrienne</td>\n",
       "      <td>Doc.Mobility</td>\n",
       "      <td>Careers;Fellowships</td>\n",
       "      <td>Institut für klassische Altertumskunde Philoso...</td>\n",
       "      <td>Germany</td>\n",
       "      <td>Institution abroad - IACH</td>\n",
       "      <td>10402</td>\n",
       "      <td>Archaeology</td>\n",
       "      <td>Humanities and Social Sciences;Theology &amp; reli...</td>\n",
       "      <td>10402/10404</td>\n",
       "      <td>01.09.2020</td>\n",
       "      <td>28.02.2021</td>\n",
       "      <td>NaN</td>\n",
       "      <td>Römisches Wohnhaus; Pompeji; Dekorative Prinzi...</td>\n",
       "    </tr>\n",
       "    <tr>\n",
       "      <td>74572</td>\n",
       "      <td>195738</td>\n",
       "      <td>P1GEP1_195738</td>\n",
       "      <td>Designing Safe Soldiers: Studying the Impact o...</td>\n",
       "      <td>Designing Safe Soldiers: Studying the Impact o...</td>\n",
       "      <td>Leduc Raphaël</td>\n",
       "      <td>Doc.Mobility</td>\n",
       "      <td>Careers;Fellowships</td>\n",
       "      <td>PhD student Department of International Relati...</td>\n",
       "      <td>Great Britain and Northern Ireland</td>\n",
       "      <td>Institution abroad - IACH</td>\n",
       "      <td>10202</td>\n",
       "      <td>Political science</td>\n",
       "      <td>Humanities and Social Sciences;Sociology, soci...</td>\n",
       "      <td>10202</td>\n",
       "      <td>01.09.2020</td>\n",
       "      <td>31.08.2021</td>\n",
       "      <td>NaN</td>\n",
       "      <td>Time; Society; War; Monuments; State; Discours...</td>\n",
       "    </tr>\n",
       "  </tbody>\n",
       "</table>\n",
       "<p>13168 rows × 18 columns</p>\n",
       "</div>"
      ],
      "text/plain": [
       "       Project Number Project Number String  \\\n",
       "9210            20001           81AM-020001   \n",
       "9211            20002           81AM-020002   \n",
       "9212            20003           81AM-020003   \n",
       "9213            20004           81AT-020004   \n",
       "9214            20005           81AT-020005   \n",
       "...               ...                   ...   \n",
       "74568          195708         P1SGP1_195708   \n",
       "74569          195710         P1SGP1_195710   \n",
       "74570          195732         P1SGP1_195732   \n",
       "74571          195734         P1BSP1_195734   \n",
       "74572          195738         P1GEP1_195738   \n",
       "\n",
       "                                           Project Title  \\\n",
       "9210                       Therapie beim Morbus Hodgkin.   \n",
       "9211                     Immunologie des Typ-1 Diabetes.   \n",
       "9212                   Infektionen bei Immunsuppression.   \n",
       "9213                        'Modern and Applied Optics'.   \n",
       "9214   Traitement digital du signal et architecture d...   \n",
       "...                                                  ...   \n",
       "74568  The Impact of Cultural Heritage on Investment ...   \n",
       "74569  NOT YET YOURS: HOW ENHANCING PHYSICAL PRODUCTS...   \n",
       "74570  Pay Less, Spend More: Consumers' Mental Accoun...   \n",
       "74571  Dekorationsprinzipien im 4. pompejanischen Sti...   \n",
       "74572  Designing Safe Soldiers: Studying the Impact o...   \n",
       "\n",
       "                                   Project Title English  \\\n",
       "9210                                                 NaN   \n",
       "9211                                                 NaN   \n",
       "9212                                                 NaN   \n",
       "9213                                                 NaN   \n",
       "9214                                                 NaN   \n",
       "...                                                  ...   \n",
       "74568                                                NaN   \n",
       "74569  NOT YET YOURS: HOW ENHANCING PHYSICAL PRODUCTS...   \n",
       "74570                                                NaN   \n",
       "74571                                                NaN   \n",
       "74572  Designing Safe Soldiers: Studying the Impact o...   \n",
       "\n",
       "      Responsible Applicant                       Funding Instrument  \\\n",
       "9210          Wernli Martin  Fellowships for prospective researchers   \n",
       "9211               Atar Dan  Fellowships for prospective researchers   \n",
       "9212         Ruef Christian  Fellowships for prospective researchers   \n",
       "9213    Kellenberger Regula  Fellowships for prospective researchers   \n",
       "9214            Piot Julien  Fellowships for prospective researchers   \n",
       "...                     ...                                      ...   \n",
       "74568    Cochardt Alexander                             Doc.Mobility   \n",
       "74569        Lueders Wiebke                             Doc.Mobility   \n",
       "74570  Scheidegger Gianluca                             Doc.Mobility   \n",
       "74571       Cornut Adrienne                             Doc.Mobility   \n",
       "74572         Leduc Raphaël                             Doc.Mobility   \n",
       "\n",
       "      Funding Instrument Hierarchy  \\\n",
       "9210           Careers;Fellowships   \n",
       "9211           Careers;Fellowships   \n",
       "9212           Careers;Fellowships   \n",
       "9213           Careers;Fellowships   \n",
       "9214           Careers;Fellowships   \n",
       "...                            ...   \n",
       "74568          Careers;Fellowships   \n",
       "74569          Careers;Fellowships   \n",
       "74570          Careers;Fellowships   \n",
       "74571          Careers;Fellowships   \n",
       "74572          Careers;Fellowships   \n",
       "\n",
       "                                             Institution  \\\n",
       "9210   UNI: Cancer Research Center University of Ch i...   \n",
       "9211   UNI: Hagedorn Research Laboratory Steno Memo r...   \n",
       "9212   UNI: Yale Univ Dept of Internal Medicineory Ne...   \n",
       "9213           UNI: University of Reading Reading/    GB   \n",
       "9214                           UNI: Massachusetts    USA   \n",
       "...                                                  ...   \n",
       "74568  Institute for Behavioral and Household Fin. SC...   \n",
       "74569  Marketing Department Marketing Department INSE...   \n",
       "74570                                          HEC Paris   \n",
       "74571  Institut für klassische Altertumskunde Philoso...   \n",
       "74572  PhD student Department of International Relati...   \n",
       "\n",
       "                      Institution Country                 University  \\\n",
       "9210             United States of America  Institution abroad - IACH   \n",
       "9211                              Denmark  Institution abroad - IACH   \n",
       "9212             United States of America  Institution abroad - IACH   \n",
       "9213   Great Britain and Northern Ireland  Institution abroad - IACH   \n",
       "9214             United States of America  Institution abroad - IACH   \n",
       "...                                   ...                        ...   \n",
       "74568            United States of America  Institution abroad - IACH   \n",
       "74569                              France  Institution abroad - IACH   \n",
       "74570                              France  Institution abroad - IACH   \n",
       "74571                             Germany  Institution abroad - IACH   \n",
       "74572  Great Britain and Northern Ireland  Institution abroad - IACH   \n",
       "\n",
       "       Discipline Number                    Discipline Name  \\\n",
       "9210               30703           Clinical Cancer Research   \n",
       "9211               30403        Immunology, Immunopathology   \n",
       "9212               30701                  Internal Medicine   \n",
       "9213               20508  Microelectronics. Optoelectronics   \n",
       "9214               20504             Electrical Engineering   \n",
       "...                  ...                                ...   \n",
       "74568              10203                          Economics   \n",
       "74569              10204              Science of management   \n",
       "74570              10204              Science of management   \n",
       "74571              10402                        Archaeology   \n",
       "74572              10202                  Political science   \n",
       "\n",
       "                               Discipline Name Hierarchy All disciplines  \\\n",
       "9210              Biology and Medicine;Clinical Medicine           30703   \n",
       "9211          Biology and Medicine;Experimental Medicine           30403   \n",
       "9212              Biology and Medicine;Clinical Medicine           30701   \n",
       "9213   Mathematics, Natural- and Engineering Sciences...           20508   \n",
       "9214   Mathematics, Natural- and Engineering Sciences...           20504   \n",
       "...                                                  ...             ...   \n",
       "74568      Humanities and Social Sciences;Economics, law           10203   \n",
       "74569      Humanities and Social Sciences;Economics, law           10204   \n",
       "74570      Humanities and Social Sciences;Economics, law           10204   \n",
       "74571  Humanities and Social Sciences;Theology & reli...     10402/10404   \n",
       "74572  Humanities and Social Sciences;Sociology, soci...           10202   \n",
       "\n",
       "       Start Date    End Date  Approved Amount  \\\n",
       "9210   01.11.1986  31.10.1987              NaN   \n",
       "9211   01.01.1987  31.12.1987              NaN   \n",
       "9212   01.07.1987  30.06.1988              NaN   \n",
       "9213   01.09.1986  31.08.1987              NaN   \n",
       "9214   01.09.1986  31.08.1987              NaN   \n",
       "...           ...         ...              ...   \n",
       "74568  01.09.2020  31.08.2021              NaN   \n",
       "74569  01.07.2020  30.04.2021              NaN   \n",
       "74570  01.09.2020  31.08.2021              NaN   \n",
       "74571  01.09.2020  28.02.2021              NaN   \n",
       "74572  01.09.2020  31.08.2021              NaN   \n",
       "\n",
       "                                                Keywords  \n",
       "9210                                                 NaN  \n",
       "9211                                                 NaN  \n",
       "9212                                                 NaN  \n",
       "9213                                                 NaN  \n",
       "9214                                                 NaN  \n",
       "...                                                  ...  \n",
       "74568  Mutual Funds; Investment Decisions; Culture; B...  \n",
       "74569  New Technologies in Marketing; Physical produc...  \n",
       "74570  payment mechanisms; gift cards; payment deprec...  \n",
       "74571  Römisches Wohnhaus; Pompeji; Dekorative Prinzi...  \n",
       "74572  Time; Society; War; Monuments; State; Discours...  \n",
       "\n",
       "[13168 rows x 18 columns]"
      ]
     },
     "execution_count": 20,
     "metadata": {},
     "output_type": "execute_result"
    }
   ],
   "source": [
    "df[df['Approved Amount'].isnull()]"
   ]
  },
  {
   "cell_type": "markdown",
   "metadata": {},
   "source": [
    "Es scheint sich also hier um ein spezielles Förderinstrument zu handeln (\"Fellowships\")."
   ]
  },
  {
   "cell_type": "markdown",
   "metadata": {},
   "source": [
    "### Etwas Repetition vom Tag 1..."
   ]
  },
  {
   "cell_type": "markdown",
   "metadata": {},
   "source": [
    "**Quiz:** Was war der maximale Betrag, den ein Projekt erhielt? Das Minimum? Der Median?"
   ]
  },
  {
   "cell_type": "code",
   "execution_count": 21,
   "metadata": {},
   "outputs": [
    {
     "data": {
      "text/plain": [
       "20703916.0"
      ]
     },
     "execution_count": 21,
     "metadata": {},
     "output_type": "execute_result"
    }
   ],
   "source": [
    "#Antwort\n",
    "df['Approved Amount'].max()"
   ]
  },
  {
   "cell_type": "code",
   "execution_count": 22,
   "metadata": {},
   "outputs": [
    {
     "data": {
      "text/plain": [
       "0.0"
      ]
     },
     "execution_count": 22,
     "metadata": {},
     "output_type": "execute_result"
    }
   ],
   "source": [
    "#Antwort\n",
    "df['Approved Amount'].min()"
   ]
  },
  {
   "cell_type": "code",
   "execution_count": 23,
   "metadata": {},
   "outputs": [
    {
     "data": {
      "text/plain": [
       "180000.0"
      ]
     },
     "execution_count": 23,
     "metadata": {},
     "output_type": "execute_result"
    }
   ],
   "source": [
    "#Antwort\n",
    "df['Approved Amount'].median()"
   ]
  },
  {
   "cell_type": "markdown",
   "metadata": {},
   "source": [
    "**Quiz:** Suche die fünfzig Projekte raus, die am meisten Geld gekriegt haben. Welche Universitäten kommen darunter am meisten vor?"
   ]
  },
  {
   "cell_type": "code",
   "execution_count": 24,
   "metadata": {},
   "outputs": [
    {
     "data": {
      "text/plain": [
       "ETH Zurich - ETHZ                                          10\n",
       "University of Geneva - GE                                   9\n",
       "EPF Lausanne - EPFL                                         8\n",
       "University of Berne - BE                                    6\n",
       "University of Basel - BS                                    5\n",
       "University of Lausanne - LA                                 3\n",
       "University of Zurich - ZH                                   3\n",
       "Swiss Centre of Expertise in the Social Sciences - FORS     2\n",
       "University of Neuchatel - NE                                2\n",
       "University of Fribourg - FR                                 2\n",
       "Name: University, dtype: int64"
      ]
     },
     "execution_count": 24,
     "metadata": {},
     "output_type": "execute_result"
    }
   ],
   "source": [
    "#Antwort\n",
    "df.sort_values('Approved Amount', ascending=False).head(50)['University'].value_counts()"
   ]
  },
  {
   "cell_type": "markdown",
   "metadata": {},
   "source": [
    "**Quiz:** Stellen Sie die Verteilung sämtlicher gesprochenen Beträge in einem Histogramm dar!"
   ]
  },
  {
   "cell_type": "code",
   "execution_count": 25,
   "metadata": {},
   "outputs": [
    {
     "data": {
      "text/plain": [
       "<matplotlib.axes._subplots.AxesSubplot at 0x10dde8400>"
      ]
     },
     "execution_count": 25,
     "metadata": {},
     "output_type": "execute_result"
    },
    {
     "data": {
      "image/png": "[encoded data removed]",
      "text/plain": [
       "<Figure size 864x288 with 1 Axes>"
      ]
     },
     "metadata": {
      "needs_background": "light"
     },
     "output_type": "display_data"
    }
   ],
   "source": [
    "#Antwort\n",
    "df['Approved Amount'].astype(float).hist(bins=100, figsize=(12,4))"
   ]
  },
  {
   "cell_type": "markdown",
   "metadata": {},
   "source": [
    "**Quiz:** In welchen Ländern waren die vergebenen Beträge im Schnitt am Grössten? Zeigen Sie die zehn obersten an."
   ]
  },
  {
   "cell_type": "code",
   "execution_count": 26,
   "metadata": {},
   "outputs": [
    {
     "data": {
      "text/plain": [
       "Institution Country\n",
       "Portugal       703000.000000\n",
       "Austria        437347.333333\n",
       "Switzerland    309804.635701\n",
       "Norway         294984.000000\n",
       "Singapore      251470.000000\n",
       "Ireland        245219.650000\n",
       "Germany        211255.606542\n",
       "Belgium        157181.408000\n",
       "Denmark        148669.570000\n",
       "Spain          142438.250000\n",
       "Name: Approved Amount, dtype: float64"
      ]
     },
     "execution_count": 26,
     "metadata": {},
     "output_type": "execute_result"
    }
   ],
   "source": [
    "#Antwort\n",
    "df.groupby('Institution Country')['Approved Amount'].mean().sort_values(ascending=False).head(10)"
   ]
  },
  {
   "cell_type": "code",
   "execution_count": 27,
   "metadata": {},
   "outputs": [],
   "source": [
    "# Time for a break ..."
   ]
  },
  {
   "cell_type": "markdown",
   "metadata": {},
   "source": [
    "## Werte Kategorisieren"
   ]
  },
  {
   "cell_type": "markdown",
   "metadata": {},
   "source": [
    "Unser Ziel in dieser Sektion: Wir wollen verschiedene *Typen* von Institutionen unterscheiden und auswerten.\n",
    "\n",
    "Wir beschränken uns der Einfachheit halter auf die Institutionen in der Schweiz, die vom SNF Geld gekriegt haben.\n",
    "\n",
    "Wir erstellen erstmal ein Dataframe, in dem nur diese Institutionen vorkommen:\n",
    "\n",
    "(Wir nutzen hier `copy()`, um nicht nur auf einer Referenz, sondern auf einer Kopie zu arbeiten...)"
   ]
  },
  {
   "cell_type": "code",
   "execution_count": 28,
   "metadata": {},
   "outputs": [],
   "source": [
    "df_swiss = df[df['Institution Country'] == 'Switzerland'].copy()"
   ]
  },
  {
   "cell_type": "markdown",
   "metadata": {},
   "source": [
    "Um die Unis nun zu klassifizieren, brauchen wir:\n",
    "- ein neues Feld, das diese Information enthält (\"Institution Type\")\n",
    "- eine Methode, wie wir dieses Feld anhand der restlichen Spalten füllen wollen."
   ]
  },
  {
   "cell_type": "markdown",
   "metadata": {},
   "source": [
    "Das neue Feld ist rasch erstellt:"
   ]
  },
  {
   "cell_type": "code",
   "execution_count": 29,
   "metadata": {},
   "outputs": [],
   "source": [
    "df_swiss['Institution Type'] = \"\""
   ]
  },
  {
   "cell_type": "markdown",
   "metadata": {},
   "source": [
    "Bei der Methode wird es schon schwieriger... Wie vorgehen?\n",
    "\n",
    "Als erstes lassen wir uns mal eine Liste aller Universitäten anzeigen, die in diesem Dataframe vorkommen:"
   ]
  },
  {
   "cell_type": "code",
   "execution_count": 30,
   "metadata": {},
   "outputs": [
    {
     "data": {
      "text/plain": [
       "array(['University of Geneva - GE',\n",
       "       'Non-profit organisations (libraries, museums, foundations) and administration - NPO',\n",
       "       'University of Basel - BS', 'University of Fribourg - FR',\n",
       "       'University of Zurich - ZH',\n",
       "       'Swiss Federal Institute for Forest, Snow and Landscape Research  - WSL',\n",
       "       'University of Berne - BE', 'ETH Zurich - ETHZ',\n",
       "       'University of Lausanne - LA', 'University of Neuchatel - NE',\n",
       "       'Graduate Institute of International and Development Studies - IHEID',\n",
       "       'University of St.Gallen - SG',\n",
       "       'Other Research Institutes - FINST',\n",
       "       'Pädagogische Hochschule Graubünden - PHGR', 'EPF Lausanne - EPFL',\n",
       "       'Pädagogische Hochschule Zürich - PHZH',\n",
       "       'Companies/  Private Industry - FP', 'University of Lucerne - LU',\n",
       "       'Unassignable - NA', 'Swiss Institute of Art Research - SIK-ISEA',\n",
       "       'Dipartimento formazione e apprendimento, Scuola universitaria professionale della Svizzera italiana - SUPSI-DFA',\n",
       "       'University of Applied Sciences and Arts Western Switzerland - HES-SO',\n",
       "       'Robert Walser Foundation Bern - RWS',\n",
       "       'Paul Scherrer Institute - PSI',\n",
       "       'Pädagogische Hochschule St.Gallen - PHSG',\n",
       "       'Swiss Federal Institute of Aquatic Science and Technology - EAWAG',\n",
       "       'Swiss Federal Laboratories for Materials Science and Technology - EMPA',\n",
       "       'Physikal.-Meteorolog. Observatorium Davos - PMOD',\n",
       "       'Berne University of Applied Sciences - BFH',\n",
       "       'Swiss Center for Electronics and Microtech. - CSEM',\n",
       "       'University of Applied Sciences and Arts of Southern Switzerland - SUPSI',\n",
       "       'Luzerner Kantonsspital - LUKS', 'Other Hospitals - ASPIT',\n",
       "       'AO Research Institute - AORI',\n",
       "       'Swiss Institute of Allergy and Asthma Research - SIAF',\n",
       "       'Research Institute of Organic Agriculture - FiBL',\n",
       "       'Institute Friedrich Miescher - FMI',\n",
       "       'Ostschweizer Kinderspital - OSKS',\n",
       "       'Research Institutes Agroscope - AGS',\n",
       "       'Ente Ospedaliero Cantonale - EOC',\n",
       "       'Institute for Work and Health -  IST',\n",
       "       'Cantonal hospital of St.Gallen - KSPSG',\n",
       "       'Kantonsspital Aarau - KSPA',\n",
       "       'Swiss Federal Institute for Vocational Education and Training - EHB',\n",
       "       'Zürcher Fachhochschule - ZFH',\n",
       "       'Università della Svizzera italiana - USI',\n",
       "       'Institut für Kulturforschung Graubünden - IKG',\n",
       "       'University of Applied Sciences and Arts Northwestern Switzerland (without UTE) - FHNW',\n",
       "       'Institution abroad - IACH',\n",
       "       \"Centre de recherche sur l'environnement alpin - CREALP\",\n",
       "       'Idiap Research Institute - IDIAP',\n",
       "       'Pädagogische Hochschule Bern - PHBern',\n",
       "       'Zurich University of Applied Sciences - ZHAW',\n",
       "       'University Institute Kurt Bösch - IUKB',\n",
       "       'Swiss Paraplegic Research - SPF',\n",
       "       'Lucerne University of Applied Sciences and Arts - HSLU',\n",
       "       'Institute for Research in Ophtalmology - IRO',\n",
       "       'Interkantonale Hochschule für Heilpädagogik - HfH',\n",
       "       'Haute école pédagogique du canton de Vaud - HEPL',\n",
       "       'Kantonsspital Baden - KSPB',\n",
       "       'University of Applied Sciences Ostschweiz - FHO',\n",
       "       'Institut Suisse de Spéléologie et Karstologie - ISSKA',\n",
       "       'Swiss Institute of Bioinformatics - SIB',\n",
       "       'Haute Ecole Pédagogique des cantons de Berne, du Jura et de Neuchâtel - HEP-BEJUNE',\n",
       "       'Pädagogische Hochschule Luzern - PHLU',\n",
       "       'Zurich University of the Arts - ZHdK', nan,\n",
       "       'Pädagogische Hochschule der Fachhochschule Nordwestschweiz - PH-FHNW',\n",
       "       'Pädagogische Hochschule Thurgau - PHTG',\n",
       "       'Haute école pédagogique du canton de Fribourg/Pädagogische Hochschule Freiburg - HEP-FR',\n",
       "       'Pädagogische Hochschule Schwyz - PHSZ',\n",
       "       'Biotechnology Institute Thurgau - BITG',\n",
       "       'Haute école pédagogique du Valais/Pädagogische Hochschule Wallis - HEP-VS',\n",
       "       'Kalaidos University of Applied Sciences - FHKD',\n",
       "       'Swiss Centre of Expertise in the Social Sciences - FORS',\n",
       "       'Pädagogische Hochschule Zug - PHZG',\n",
       "       'Istituto Ricerche Solari Locarno - IRSOL',\n",
       "       'Franklin University Switzerland - FUS',\n",
       "       'Pädagogische Hochschule Schaffhausen - PHSH',\n",
       "       'Staatsunabhängige Theologische Hochschule Basel - STH',\n",
       "       'Facoltà di Teologia di Lugano - FTL',\n",
       "       'Fernfachhochschule Schweiz (member of SUPSI) - FFHS',\n",
       "       'Cardiocentro Ticino - CT',\n",
       "       'Institute of Virology and Immunology - IVI'], dtype=object)"
      ]
     },
     "execution_count": 30,
     "metadata": {},
     "output_type": "execute_result"
    }
   ],
   "source": [
    "df_swiss['University'].unique()"
   ]
  },
  {
   "cell_type": "markdown",
   "metadata": {},
   "source": [
    "Schnell wird klar: In dieser Liste sind nicht nur Universitäten, sondern auch Fachhochschulen und andere Institutionen enthalten.\n",
    "\n",
    "Können wir die Klassifizierung evtl danach vornehmen?"
   ]
  },
  {
   "cell_type": "markdown",
   "metadata": {},
   "source": [
    "### Die Quick-Methode"
   ]
  },
  {
   "cell_type": "markdown",
   "metadata": {},
   "source": [
    "Die allereinfachste (und nicht sehr empfehlenswerte) Variante ist, einfach zu checken, ob in einem bestimmten Eintrag das Wort \"University\" vorkommt:\n",
    "\n",
    "- Falls die Institution z.B. \"University of Zurich\" heisst => \"University\"\n",
    "- Falls die Institution z.B. \"Pädagogische Hochschule\" heisst => \"Other\"\n",
    "\n",
    "Wir können für diesen Check die Funktion `str.contains()` verwenden.\n",
    "\n",
    "Heraus kommt eine Liste von True/False-Werten, die wir weiter verwenden können..."
   ]
  },
  {
   "cell_type": "code",
   "execution_count": 31,
   "metadata": {},
   "outputs": [
    {
     "data": {
      "text/plain": [
       "1         True\n",
       "2        False\n",
       "3         True\n",
       "4        False\n",
       "5         True\n",
       "         ...  \n",
       "74648    False\n",
       "74649     True\n",
       "74652     True\n",
       "74653     True\n",
       "74654    False\n",
       "Name: University, Length: 55296, dtype: bool"
      ]
     },
     "execution_count": 31,
     "metadata": {},
     "output_type": "execute_result"
    }
   ],
   "source": [
    "df_swiss['University'].str.contains('University', na=False)"
   ]
  },
  {
   "cell_type": "markdown",
   "metadata": {},
   "source": [
    "Zum Beispiel als Filter - wir kriegen nun alle \"University\"-artigen Zeilen..."
   ]
  },
  {
   "cell_type": "code",
   "execution_count": 32,
   "metadata": {},
   "outputs": [
    {
     "data": {
      "text/html": [
       "<div>\n",
       "<style scoped>\n",
       "    .dataframe tbody tr th:only-of-type {\n",
       "        vertical-align: middle;\n",
       "    }\n",
       "\n",
       "    .dataframe tbody tr th {\n",
       "        vertical-align: top;\n",
       "    }\n",
       "\n",
       "    .dataframe thead th {\n",
       "        text-align: right;\n",
       "    }\n",
       "</style>\n",
       "<table border=\"1\" class=\"dataframe\">\n",
       "  <thead>\n",
       "    <tr style=\"text-align: right;\">\n",
       "      <th></th>\n",
       "      <th>Project Number</th>\n",
       "      <th>Project Number String</th>\n",
       "      <th>Project Title</th>\n",
       "      <th>Project Title English</th>\n",
       "      <th>Responsible Applicant</th>\n",
       "      <th>Funding Instrument</th>\n",
       "      <th>Funding Instrument Hierarchy</th>\n",
       "      <th>Institution</th>\n",
       "      <th>Institution Country</th>\n",
       "      <th>University</th>\n",
       "      <th>Discipline Number</th>\n",
       "      <th>Discipline Name</th>\n",
       "      <th>Discipline Name Hierarchy</th>\n",
       "      <th>All disciplines</th>\n",
       "      <th>Start Date</th>\n",
       "      <th>End Date</th>\n",
       "      <th>Approved Amount</th>\n",
       "      <th>Keywords</th>\n",
       "      <th>Institution Type</th>\n",
       "    </tr>\n",
       "  </thead>\n",
       "  <tbody>\n",
       "    <tr>\n",
       "      <td>1</td>\n",
       "      <td>4</td>\n",
       "      <td>1000-000004</td>\n",
       "      <td>Batterie de tests à l'usage des enseignants po...</td>\n",
       "      <td>NaN</td>\n",
       "      <td>Massarenti Léonard</td>\n",
       "      <td>Project funding (Div. I-III)</td>\n",
       "      <td>Project funding</td>\n",
       "      <td>Faculté de Psychologie et des Sciences de l'Ed...</td>\n",
       "      <td>Switzerland</td>\n",
       "      <td>University of Geneva - GE</td>\n",
       "      <td>10104</td>\n",
       "      <td>Educational science and Pedagogy</td>\n",
       "      <td>Humanities and Social Sciences;Psychology, edu...</td>\n",
       "      <td>10104</td>\n",
       "      <td>01.10.1975</td>\n",
       "      <td>30.09.1976</td>\n",
       "      <td>41022.0</td>\n",
       "      <td>NaN</td>\n",
       "      <td></td>\n",
       "    </tr>\n",
       "    <tr>\n",
       "      <td>3</td>\n",
       "      <td>6</td>\n",
       "      <td>1000-000006</td>\n",
       "      <td>Katalog der datierten Handschriften in der Sch...</td>\n",
       "      <td>NaN</td>\n",
       "      <td>Burckhardt Max</td>\n",
       "      <td>Project funding (Div. I-III)</td>\n",
       "      <td>Project funding</td>\n",
       "      <td>Abteilung Handschriften und Alte Drucke Univer...</td>\n",
       "      <td>Switzerland</td>\n",
       "      <td>University of Basel - BS</td>\n",
       "      <td>10302</td>\n",
       "      <td>Swiss history</td>\n",
       "      <td>Humanities and Social Sciences;Theology &amp; reli...</td>\n",
       "      <td>10302</td>\n",
       "      <td>01.10.1975</td>\n",
       "      <td>30.09.1976</td>\n",
       "      <td>52627.0</td>\n",
       "      <td>NaN</td>\n",
       "      <td></td>\n",
       "    </tr>\n",
       "    <tr>\n",
       "      <td>5</td>\n",
       "      <td>8</td>\n",
       "      <td>1000-000008</td>\n",
       "      <td>Die schweizerische Wirtschaftspolitik seit dem...</td>\n",
       "      <td>NaN</td>\n",
       "      <td>Kleinewefers Henner</td>\n",
       "      <td>Project funding (Div. I-III)</td>\n",
       "      <td>Project funding</td>\n",
       "      <td>Séminaire de politique économique, d'économie ...</td>\n",
       "      <td>Switzerland</td>\n",
       "      <td>University of Fribourg - FR</td>\n",
       "      <td>10203</td>\n",
       "      <td>Economics</td>\n",
       "      <td>Humanities and Social Sciences;Economics, law</td>\n",
       "      <td>10203</td>\n",
       "      <td>01.01.1976</td>\n",
       "      <td>31.12.1978</td>\n",
       "      <td>53009.0</td>\n",
       "      <td>NaN</td>\n",
       "      <td></td>\n",
       "    </tr>\n",
       "  </tbody>\n",
       "</table>\n",
       "</div>"
      ],
      "text/plain": [
       "   Project Number Project Number String  \\\n",
       "1               4           1000-000004   \n",
       "3               6           1000-000006   \n",
       "5               8           1000-000008   \n",
       "\n",
       "                                       Project Title Project Title English  \\\n",
       "1  Batterie de tests à l'usage des enseignants po...                   NaN   \n",
       "3  Katalog der datierten Handschriften in der Sch...                   NaN   \n",
       "5  Die schweizerische Wirtschaftspolitik seit dem...                   NaN   \n",
       "\n",
       "  Responsible Applicant            Funding Instrument  \\\n",
       "1    Massarenti Léonard  Project funding (Div. I-III)   \n",
       "3        Burckhardt Max  Project funding (Div. I-III)   \n",
       "5   Kleinewefers Henner  Project funding (Div. I-III)   \n",
       "\n",
       "  Funding Instrument Hierarchy  \\\n",
       "1              Project funding   \n",
       "3              Project funding   \n",
       "5              Project funding   \n",
       "\n",
       "                                         Institution Institution Country  \\\n",
       "1  Faculté de Psychologie et des Sciences de l'Ed...         Switzerland   \n",
       "3  Abteilung Handschriften und Alte Drucke Univer...         Switzerland   \n",
       "5  Séminaire de politique économique, d'économie ...         Switzerland   \n",
       "\n",
       "                    University  Discipline Number  \\\n",
       "1    University of Geneva - GE              10104   \n",
       "3     University of Basel - BS              10302   \n",
       "5  University of Fribourg - FR              10203   \n",
       "\n",
       "                    Discipline Name  \\\n",
       "1  Educational science and Pedagogy   \n",
       "3                     Swiss history   \n",
       "5                         Economics   \n",
       "\n",
       "                           Discipline Name Hierarchy All disciplines  \\\n",
       "1  Humanities and Social Sciences;Psychology, edu...           10104   \n",
       "3  Humanities and Social Sciences;Theology & reli...           10302   \n",
       "5      Humanities and Social Sciences;Economics, law           10203   \n",
       "\n",
       "   Start Date    End Date  Approved Amount Keywords Institution Type  \n",
       "1  01.10.1975  30.09.1976          41022.0      NaN                   \n",
       "3  01.10.1975  30.09.1976          52627.0      NaN                   \n",
       "5  01.01.1976  31.12.1978          53009.0      NaN                   "
      ]
     },
     "execution_count": 32,
     "metadata": {},
     "output_type": "execute_result"
    }
   ],
   "source": [
    "df_swiss[df_swiss['University'].str.contains('University', na=False)].head(3)"
   ]
  },
  {
   "cell_type": "markdown",
   "metadata": {},
   "source": [
    "In dieser Zeilenauswahl können wir nun das Feld \"Institution Type\" auf \"University\" setzen.\n",
    "\n",
    "Note: Wir verwenden die `.loc[...]`-Notation, weil Pandas das sonst nicht gerne hat."
   ]
  },
  {
   "cell_type": "code",
   "execution_count": 33,
   "metadata": {},
   "outputs": [],
   "source": [
    "df_swiss.loc[df_swiss['University'].str.contains('University', na=False), 'Institution Type'] = 'University'"
   ]
  },
  {
   "cell_type": "markdown",
   "metadata": {},
   "source": [
    "In unserem Dataframe haben wir jetzt einige Einträge gefüllt..."
   ]
  },
  {
   "cell_type": "code",
   "execution_count": 34,
   "metadata": {},
   "outputs": [
    {
     "data": {
      "text/html": [
       "<div>\n",
       "<style scoped>\n",
       "    .dataframe tbody tr th:only-of-type {\n",
       "        vertical-align: middle;\n",
       "    }\n",
       "\n",
       "    .dataframe tbody tr th {\n",
       "        vertical-align: top;\n",
       "    }\n",
       "\n",
       "    .dataframe thead th {\n",
       "        text-align: right;\n",
       "    }\n",
       "</style>\n",
       "<table border=\"1\" class=\"dataframe\">\n",
       "  <thead>\n",
       "    <tr style=\"text-align: right;\">\n",
       "      <th></th>\n",
       "      <th>Project Number</th>\n",
       "      <th>Project Number String</th>\n",
       "      <th>Project Title</th>\n",
       "      <th>Project Title English</th>\n",
       "      <th>Responsible Applicant</th>\n",
       "      <th>Funding Instrument</th>\n",
       "      <th>Funding Instrument Hierarchy</th>\n",
       "      <th>Institution</th>\n",
       "      <th>Institution Country</th>\n",
       "      <th>University</th>\n",
       "      <th>Discipline Number</th>\n",
       "      <th>Discipline Name</th>\n",
       "      <th>Discipline Name Hierarchy</th>\n",
       "      <th>All disciplines</th>\n",
       "      <th>Start Date</th>\n",
       "      <th>End Date</th>\n",
       "      <th>Approved Amount</th>\n",
       "      <th>Keywords</th>\n",
       "      <th>Institution Type</th>\n",
       "    </tr>\n",
       "  </thead>\n",
       "  <tbody>\n",
       "    <tr>\n",
       "      <td>1</td>\n",
       "      <td>4</td>\n",
       "      <td>1000-000004</td>\n",
       "      <td>Batterie de tests à l'usage des enseignants po...</td>\n",
       "      <td>NaN</td>\n",
       "      <td>Massarenti Léonard</td>\n",
       "      <td>Project funding (Div. I-III)</td>\n",
       "      <td>Project funding</td>\n",
       "      <td>Faculté de Psychologie et des Sciences de l'Ed...</td>\n",
       "      <td>Switzerland</td>\n",
       "      <td>University of Geneva - GE</td>\n",
       "      <td>10104</td>\n",
       "      <td>Educational science and Pedagogy</td>\n",
       "      <td>Humanities and Social Sciences;Psychology, edu...</td>\n",
       "      <td>10104</td>\n",
       "      <td>01.10.1975</td>\n",
       "      <td>30.09.1976</td>\n",
       "      <td>41022.0</td>\n",
       "      <td>NaN</td>\n",
       "      <td>University</td>\n",
       "    </tr>\n",
       "    <tr>\n",
       "      <td>2</td>\n",
       "      <td>5</td>\n",
       "      <td>1000-000005</td>\n",
       "      <td>Kritische Erstausgabe der 'Evidentiae contra D...</td>\n",
       "      <td>NaN</td>\n",
       "      <td>Kommission für das Corpus philosophorum medii ...</td>\n",
       "      <td>Project funding (Div. I-III)</td>\n",
       "      <td>Project funding</td>\n",
       "      <td>Kommission für das Corpus philosophorum medii ...</td>\n",
       "      <td>Switzerland</td>\n",
       "      <td>Non-profit organisations (libraries, museums, ...</td>\n",
       "      <td>10101</td>\n",
       "      <td>Philosophy</td>\n",
       "      <td>Humanities and Social Sciences;Linguistics and...</td>\n",
       "      <td>10101</td>\n",
       "      <td>01.03.1976</td>\n",
       "      <td>28.02.1985</td>\n",
       "      <td>79732.0</td>\n",
       "      <td>NaN</td>\n",
       "      <td></td>\n",
       "    </tr>\n",
       "    <tr>\n",
       "      <td>3</td>\n",
       "      <td>6</td>\n",
       "      <td>1000-000006</td>\n",
       "      <td>Katalog der datierten Handschriften in der Sch...</td>\n",
       "      <td>NaN</td>\n",
       "      <td>Burckhardt Max</td>\n",
       "      <td>Project funding (Div. I-III)</td>\n",
       "      <td>Project funding</td>\n",
       "      <td>Abteilung Handschriften und Alte Drucke Univer...</td>\n",
       "      <td>Switzerland</td>\n",
       "      <td>University of Basel - BS</td>\n",
       "      <td>10302</td>\n",
       "      <td>Swiss history</td>\n",
       "      <td>Humanities and Social Sciences;Theology &amp; reli...</td>\n",
       "      <td>10302</td>\n",
       "      <td>01.10.1975</td>\n",
       "      <td>30.09.1976</td>\n",
       "      <td>52627.0</td>\n",
       "      <td>NaN</td>\n",
       "      <td>University</td>\n",
       "    </tr>\n",
       "  </tbody>\n",
       "</table>\n",
       "</div>"
      ],
      "text/plain": [
       "   Project Number Project Number String  \\\n",
       "1               4           1000-000004   \n",
       "2               5           1000-000005   \n",
       "3               6           1000-000006   \n",
       "\n",
       "                                       Project Title Project Title English  \\\n",
       "1  Batterie de tests à l'usage des enseignants po...                   NaN   \n",
       "2  Kritische Erstausgabe der 'Evidentiae contra D...                   NaN   \n",
       "3  Katalog der datierten Handschriften in der Sch...                   NaN   \n",
       "\n",
       "                               Responsible Applicant  \\\n",
       "1                                 Massarenti Léonard   \n",
       "2  Kommission für das Corpus philosophorum medii ...   \n",
       "3                                     Burckhardt Max   \n",
       "\n",
       "             Funding Instrument Funding Instrument Hierarchy  \\\n",
       "1  Project funding (Div. I-III)              Project funding   \n",
       "2  Project funding (Div. I-III)              Project funding   \n",
       "3  Project funding (Div. I-III)              Project funding   \n",
       "\n",
       "                                         Institution Institution Country  \\\n",
       "1  Faculté de Psychologie et des Sciences de l'Ed...         Switzerland   \n",
       "2  Kommission für das Corpus philosophorum medii ...         Switzerland   \n",
       "3  Abteilung Handschriften und Alte Drucke Univer...         Switzerland   \n",
       "\n",
       "                                          University  Discipline Number  \\\n",
       "1                          University of Geneva - GE              10104   \n",
       "2  Non-profit organisations (libraries, museums, ...              10101   \n",
       "3                           University of Basel - BS              10302   \n",
       "\n",
       "                    Discipline Name  \\\n",
       "1  Educational science and Pedagogy   \n",
       "2                        Philosophy   \n",
       "3                     Swiss history   \n",
       "\n",
       "                           Discipline Name Hierarchy All disciplines  \\\n",
       "1  Humanities and Social Sciences;Psychology, edu...           10104   \n",
       "2  Humanities and Social Sciences;Linguistics and...           10101   \n",
       "3  Humanities and Social Sciences;Theology & reli...           10302   \n",
       "\n",
       "   Start Date    End Date  Approved Amount Keywords Institution Type  \n",
       "1  01.10.1975  30.09.1976          41022.0      NaN       University  \n",
       "2  01.03.1976  28.02.1985          79732.0      NaN                   \n",
       "3  01.10.1975  30.09.1976          52627.0      NaN       University  "
      ]
     },
     "execution_count": 34,
     "metadata": {},
     "output_type": "execute_result"
    }
   ],
   "source": [
    "df_swiss.head(3)"
   ]
  },
  {
   "cell_type": "markdown",
   "metadata": {},
   "source": [
    "Nun können wir in die restlichen (leeren) Zeilen was anderes reinschreiben, z.B. \"Other\""
   ]
  },
  {
   "cell_type": "code",
   "execution_count": 35,
   "metadata": {},
   "outputs": [],
   "source": [
    "df_swiss.loc[df_swiss['Institution Type'] == \"\", 'Institution Type'] = \"Other\""
   ]
  },
  {
   "cell_type": "code",
   "execution_count": 36,
   "metadata": {},
   "outputs": [
    {
     "data": {
      "text/html": [
       "<div>\n",
       "<style scoped>\n",
       "    .dataframe tbody tr th:only-of-type {\n",
       "        vertical-align: middle;\n",
       "    }\n",
       "\n",
       "    .dataframe tbody tr th {\n",
       "        vertical-align: top;\n",
       "    }\n",
       "\n",
       "    .dataframe thead th {\n",
       "        text-align: right;\n",
       "    }\n",
       "</style>\n",
       "<table border=\"1\" class=\"dataframe\">\n",
       "  <thead>\n",
       "    <tr style=\"text-align: right;\">\n",
       "      <th></th>\n",
       "      <th>Project Number</th>\n",
       "      <th>Project Number String</th>\n",
       "      <th>Project Title</th>\n",
       "      <th>Project Title English</th>\n",
       "      <th>Responsible Applicant</th>\n",
       "      <th>Funding Instrument</th>\n",
       "      <th>Funding Instrument Hierarchy</th>\n",
       "      <th>Institution</th>\n",
       "      <th>Institution Country</th>\n",
       "      <th>University</th>\n",
       "      <th>Discipline Number</th>\n",
       "      <th>Discipline Name</th>\n",
       "      <th>Discipline Name Hierarchy</th>\n",
       "      <th>All disciplines</th>\n",
       "      <th>Start Date</th>\n",
       "      <th>End Date</th>\n",
       "      <th>Approved Amount</th>\n",
       "      <th>Keywords</th>\n",
       "      <th>Institution Type</th>\n",
       "    </tr>\n",
       "  </thead>\n",
       "  <tbody>\n",
       "    <tr>\n",
       "      <td>1</td>\n",
       "      <td>4</td>\n",
       "      <td>1000-000004</td>\n",
       "      <td>Batterie de tests à l'usage des enseignants po...</td>\n",
       "      <td>NaN</td>\n",
       "      <td>Massarenti Léonard</td>\n",
       "      <td>Project funding (Div. I-III)</td>\n",
       "      <td>Project funding</td>\n",
       "      <td>Faculté de Psychologie et des Sciences de l'Ed...</td>\n",
       "      <td>Switzerland</td>\n",
       "      <td>University of Geneva - GE</td>\n",
       "      <td>10104</td>\n",
       "      <td>Educational science and Pedagogy</td>\n",
       "      <td>Humanities and Social Sciences;Psychology, edu...</td>\n",
       "      <td>10104</td>\n",
       "      <td>01.10.1975</td>\n",
       "      <td>30.09.1976</td>\n",
       "      <td>41022.0</td>\n",
       "      <td>NaN</td>\n",
       "      <td>University</td>\n",
       "    </tr>\n",
       "    <tr>\n",
       "      <td>2</td>\n",
       "      <td>5</td>\n",
       "      <td>1000-000005</td>\n",
       "      <td>Kritische Erstausgabe der 'Evidentiae contra D...</td>\n",
       "      <td>NaN</td>\n",
       "      <td>Kommission für das Corpus philosophorum medii ...</td>\n",
       "      <td>Project funding (Div. I-III)</td>\n",
       "      <td>Project funding</td>\n",
       "      <td>Kommission für das Corpus philosophorum medii ...</td>\n",
       "      <td>Switzerland</td>\n",
       "      <td>Non-profit organisations (libraries, museums, ...</td>\n",
       "      <td>10101</td>\n",
       "      <td>Philosophy</td>\n",
       "      <td>Humanities and Social Sciences;Linguistics and...</td>\n",
       "      <td>10101</td>\n",
       "      <td>01.03.1976</td>\n",
       "      <td>28.02.1985</td>\n",
       "      <td>79732.0</td>\n",
       "      <td>NaN</td>\n",
       "      <td>Other</td>\n",
       "    </tr>\n",
       "    <tr>\n",
       "      <td>3</td>\n",
       "      <td>6</td>\n",
       "      <td>1000-000006</td>\n",
       "      <td>Katalog der datierten Handschriften in der Sch...</td>\n",
       "      <td>NaN</td>\n",
       "      <td>Burckhardt Max</td>\n",
       "      <td>Project funding (Div. I-III)</td>\n",
       "      <td>Project funding</td>\n",
       "      <td>Abteilung Handschriften und Alte Drucke Univer...</td>\n",
       "      <td>Switzerland</td>\n",
       "      <td>University of Basel - BS</td>\n",
       "      <td>10302</td>\n",
       "      <td>Swiss history</td>\n",
       "      <td>Humanities and Social Sciences;Theology &amp; reli...</td>\n",
       "      <td>10302</td>\n",
       "      <td>01.10.1975</td>\n",
       "      <td>30.09.1976</td>\n",
       "      <td>52627.0</td>\n",
       "      <td>NaN</td>\n",
       "      <td>University</td>\n",
       "    </tr>\n",
       "  </tbody>\n",
       "</table>\n",
       "</div>"
      ],
      "text/plain": [
       "   Project Number Project Number String  \\\n",
       "1               4           1000-000004   \n",
       "2               5           1000-000005   \n",
       "3               6           1000-000006   \n",
       "\n",
       "                                       Project Title Project Title English  \\\n",
       "1  Batterie de tests à l'usage des enseignants po...                   NaN   \n",
       "2  Kritische Erstausgabe der 'Evidentiae contra D...                   NaN   \n",
       "3  Katalog der datierten Handschriften in der Sch...                   NaN   \n",
       "\n",
       "                               Responsible Applicant  \\\n",
       "1                                 Massarenti Léonard   \n",
       "2  Kommission für das Corpus philosophorum medii ...   \n",
       "3                                     Burckhardt Max   \n",
       "\n",
       "             Funding Instrument Funding Instrument Hierarchy  \\\n",
       "1  Project funding (Div. I-III)              Project funding   \n",
       "2  Project funding (Div. I-III)              Project funding   \n",
       "3  Project funding (Div. I-III)              Project funding   \n",
       "\n",
       "                                         Institution Institution Country  \\\n",
       "1  Faculté de Psychologie et des Sciences de l'Ed...         Switzerland   \n",
       "2  Kommission für das Corpus philosophorum medii ...         Switzerland   \n",
       "3  Abteilung Handschriften und Alte Drucke Univer...         Switzerland   \n",
       "\n",
       "                                          University  Discipline Number  \\\n",
       "1                          University of Geneva - GE              10104   \n",
       "2  Non-profit organisations (libraries, museums, ...              10101   \n",
       "3                           University of Basel - BS              10302   \n",
       "\n",
       "                    Discipline Name  \\\n",
       "1  Educational science and Pedagogy   \n",
       "2                        Philosophy   \n",
       "3                     Swiss history   \n",
       "\n",
       "                           Discipline Name Hierarchy All disciplines  \\\n",
       "1  Humanities and Social Sciences;Psychology, edu...           10104   \n",
       "2  Humanities and Social Sciences;Linguistics and...           10101   \n",
       "3  Humanities and Social Sciences;Theology & reli...           10302   \n",
       "\n",
       "   Start Date    End Date  Approved Amount Keywords Institution Type  \n",
       "1  01.10.1975  30.09.1976          41022.0      NaN       University  \n",
       "2  01.03.1976  28.02.1985          79732.0      NaN            Other  \n",
       "3  01.10.1975  30.09.1976          52627.0      NaN       University  "
      ]
     },
     "execution_count": 36,
     "metadata": {},
     "output_type": "execute_result"
    }
   ],
   "source": [
    "df_swiss.head(3)"
   ]
  },
  {
   "cell_type": "markdown",
   "metadata": {},
   "source": [
    "Wir können nun zB ausrechnen, wie viel Geld die Universitäten und die übrigen Institutionen in der Summe gekriegt haben:"
   ]
  },
  {
   "cell_type": "code",
   "execution_count": 37,
   "metadata": {},
   "outputs": [
    {
     "data": {
      "text/plain": [
       "Institution Type\n",
       "Other         5.411375e+09\n",
       "University    1.166475e+10\n",
       "Name: Approved Amount, dtype: float64"
      ]
     },
     "execution_count": 37,
     "metadata": {},
     "output_type": "execute_result"
    }
   ],
   "source": [
    "df_swiss.groupby('Institution Type')['Approved Amount'].sum()"
   ]
  },
  {
   "cell_type": "markdown",
   "metadata": {},
   "source": [
    "Aber wie gesagt, es gibt bessere Wege. (zB haben wir nun Einträge wie \"Université\" nicht berücksichtigt."
   ]
  },
  {
   "cell_type": "markdown",
   "metadata": {},
   "source": [
    "### Die ausführliche Methode\n",
    "\n",
    "Und nun zur saubersten Art, wie man die Institutionen in dieser Tabelle hier klassifizieren sollte: von Hand.\n",
    "\n",
    "Das heisst:\n",
    "- Wir erstellen eine Liste aller Institute, die in der Schweiz vorkommen\n",
    "- Wir exportieren diese Liste, um sie z.B. in Excel manuell zu kategorisieren\n",
    "- Wir laden die manuell kategorisierte Liste zurück in Pandas\n",
    "- Anahnd dieser Liste wird automatisch der Typ gematcht"
   ]
  },
  {
   "cell_type": "markdown",
   "metadata": {},
   "source": [
    "Um zu starten, ziehen wir uns die Liste der unique Values, diesmal gleich als Dataframe:"
   ]
  },
  {
   "cell_type": "code",
   "execution_count": 38,
   "metadata": {},
   "outputs": [
    {
     "data": {
      "text/html": [
       "<div>\n",
       "<style scoped>\n",
       "    .dataframe tbody tr th:only-of-type {\n",
       "        vertical-align: middle;\n",
       "    }\n",
       "\n",
       "    .dataframe tbody tr th {\n",
       "        vertical-align: top;\n",
       "    }\n",
       "\n",
       "    .dataframe thead th {\n",
       "        text-align: right;\n",
       "    }\n",
       "</style>\n",
       "<table border=\"1\" class=\"dataframe\">\n",
       "  <thead>\n",
       "    <tr style=\"text-align: right;\">\n",
       "      <th></th>\n",
       "      <th>0</th>\n",
       "    </tr>\n",
       "  </thead>\n",
       "  <tbody>\n",
       "    <tr>\n",
       "      <td>0</td>\n",
       "      <td>University of Geneva - GE</td>\n",
       "    </tr>\n",
       "    <tr>\n",
       "      <td>1</td>\n",
       "      <td>Non-profit organisations (libraries, museums, ...</td>\n",
       "    </tr>\n",
       "    <tr>\n",
       "      <td>2</td>\n",
       "      <td>University of Basel - BS</td>\n",
       "    </tr>\n",
       "    <tr>\n",
       "      <td>3</td>\n",
       "      <td>University of Fribourg - FR</td>\n",
       "    </tr>\n",
       "    <tr>\n",
       "      <td>4</td>\n",
       "      <td>University of Zurich - ZH</td>\n",
       "    </tr>\n",
       "    <tr>\n",
       "      <td>...</td>\n",
       "      <td>...</td>\n",
       "    </tr>\n",
       "    <tr>\n",
       "      <td>79</td>\n",
       "      <td>Staatsunabhängige Theologische Hochschule Base...</td>\n",
       "    </tr>\n",
       "    <tr>\n",
       "      <td>80</td>\n",
       "      <td>Facoltà di Teologia di Lugano - FTL</td>\n",
       "    </tr>\n",
       "    <tr>\n",
       "      <td>81</td>\n",
       "      <td>Fernfachhochschule Schweiz (member of SUPSI) -...</td>\n",
       "    </tr>\n",
       "    <tr>\n",
       "      <td>82</td>\n",
       "      <td>Cardiocentro Ticino - CT</td>\n",
       "    </tr>\n",
       "    <tr>\n",
       "      <td>83</td>\n",
       "      <td>Institute of Virology and Immunology - IVI</td>\n",
       "    </tr>\n",
       "  </tbody>\n",
       "</table>\n",
       "<p>84 rows × 1 columns</p>\n",
       "</div>"
      ],
      "text/plain": [
       "                                                    0\n",
       "0                           University of Geneva - GE\n",
       "1   Non-profit organisations (libraries, museums, ...\n",
       "2                            University of Basel - BS\n",
       "3                         University of Fribourg - FR\n",
       "4                           University of Zurich - ZH\n",
       "..                                                ...\n",
       "79  Staatsunabhängige Theologische Hochschule Base...\n",
       "80                Facoltà di Teologia di Lugano - FTL\n",
       "81  Fernfachhochschule Schweiz (member of SUPSI) -...\n",
       "82                           Cardiocentro Ticino - CT\n",
       "83         Institute of Virology and Immunology - IVI\n",
       "\n",
       "[84 rows x 1 columns]"
      ]
     },
     "execution_count": 38,
     "metadata": {},
     "output_type": "execute_result"
    }
   ],
   "source": [
    "df_unique = pd.DataFrame(df_swiss['University'].unique())\n",
    "df_unique"
   ]
  },
  {
   "cell_type": "markdown",
   "metadata": {},
   "source": [
    "Weil es einfacher geht, bearbeiten wir die Liste in einem externen Programm... mit der Funktion `to_csv()`"
   ]
  },
  {
   "cell_type": "code",
   "execution_count": 39,
   "metadata": {},
   "outputs": [],
   "source": [
    "df_unique.to_csv('dataprojects/SNF/klassifizieren.csv', index=False)"
   ]
  },
  {
   "cell_type": "markdown",
   "metadata": {
    "collapsed": true
   },
   "source": [
    "... im Excel, oder anderswo bearbeiten, und wieder laden: (Ich habe das hier schonmal vorbereitet)"
   ]
  },
  {
   "cell_type": "code",
   "execution_count": 40,
   "metadata": {},
   "outputs": [],
   "source": [
    "df_unique_edited = pd.read_excel('dataprojects/SNF/klassifiziert_neu.xlsx')"
   ]
  },
  {
   "cell_type": "code",
   "execution_count": 41,
   "metadata": {},
   "outputs": [
    {
     "data": {
      "text/html": [
       "<div>\n",
       "<style scoped>\n",
       "    .dataframe tbody tr th:only-of-type {\n",
       "        vertical-align: middle;\n",
       "    }\n",
       "\n",
       "    .dataframe tbody tr th {\n",
       "        vertical-align: top;\n",
       "    }\n",
       "\n",
       "    .dataframe thead th {\n",
       "        text-align: right;\n",
       "    }\n",
       "</style>\n",
       "<table border=\"1\" class=\"dataframe\">\n",
       "  <thead>\n",
       "    <tr style=\"text-align: right;\">\n",
       "      <th></th>\n",
       "      <th>University</th>\n",
       "      <th>New Type</th>\n",
       "    </tr>\n",
       "  </thead>\n",
       "  <tbody>\n",
       "    <tr>\n",
       "      <td>0</td>\n",
       "      <td>University of Geneva - GE</td>\n",
       "      <td>Universität</td>\n",
       "    </tr>\n",
       "    <tr>\n",
       "      <td>1</td>\n",
       "      <td>Non-profit organisations (libraries, museums, ...</td>\n",
       "      <td>Other</td>\n",
       "    </tr>\n",
       "    <tr>\n",
       "      <td>2</td>\n",
       "      <td>University of Basel - BS</td>\n",
       "      <td>Universität</td>\n",
       "    </tr>\n",
       "    <tr>\n",
       "      <td>3</td>\n",
       "      <td>University of Fribourg - FR</td>\n",
       "      <td>Universität</td>\n",
       "    </tr>\n",
       "    <tr>\n",
       "      <td>4</td>\n",
       "      <td>University of Zurich - ZH</td>\n",
       "      <td>Universität</td>\n",
       "    </tr>\n",
       "    <tr>\n",
       "      <td>...</td>\n",
       "      <td>...</td>\n",
       "      <td>...</td>\n",
       "    </tr>\n",
       "    <tr>\n",
       "      <td>78</td>\n",
       "      <td>Staatsunabhängige Theologische Hochschule Base...</td>\n",
       "      <td>Other</td>\n",
       "    </tr>\n",
       "    <tr>\n",
       "      <td>79</td>\n",
       "      <td>Facoltà di Teologia di Lugano - FTL</td>\n",
       "      <td>Other</td>\n",
       "    </tr>\n",
       "    <tr>\n",
       "      <td>80</td>\n",
       "      <td>Fernfachhochschule Schweiz (member of SUPSI) -...</td>\n",
       "      <td>Fachhochschule</td>\n",
       "    </tr>\n",
       "    <tr>\n",
       "      <td>81</td>\n",
       "      <td>Cardiocentro Ticino - CT</td>\n",
       "      <td>Other</td>\n",
       "    </tr>\n",
       "    <tr>\n",
       "      <td>82</td>\n",
       "      <td>Institute of Virology and Immunology - IVI</td>\n",
       "      <td>Other</td>\n",
       "    </tr>\n",
       "  </tbody>\n",
       "</table>\n",
       "<p>83 rows × 2 columns</p>\n",
       "</div>"
      ],
      "text/plain": [
       "                                           University        New Type\n",
       "0                           University of Geneva - GE     Universität\n",
       "1   Non-profit organisations (libraries, museums, ...           Other\n",
       "2                            University of Basel - BS     Universität\n",
       "3                         University of Fribourg - FR     Universität\n",
       "4                           University of Zurich - ZH     Universität\n",
       "..                                                ...             ...\n",
       "78  Staatsunabhängige Theologische Hochschule Base...           Other\n",
       "79                Facoltà di Teologia di Lugano - FTL           Other\n",
       "80  Fernfachhochschule Schweiz (member of SUPSI) -...  Fachhochschule\n",
       "81                           Cardiocentro Ticino - CT           Other\n",
       "82         Institute of Virology and Immunology - IVI           Other\n",
       "\n",
       "[83 rows x 2 columns]"
      ]
     },
     "execution_count": 41,
     "metadata": {},
     "output_type": "execute_result"
    }
   ],
   "source": [
    "df_unique_edited"
   ]
  },
  {
   "cell_type": "markdown",
   "metadata": {},
   "source": [
    "Wir haben jetzt zwei Tabellen: `df_swiss` (die grosse Datentabelle) und `df_unique` (die Klassifizierungen).\n",
    "\n",
    "**And now the magic happens...**\n",
    "\n",
    "Diese zwei Tabellen können wir nun verknüpfen, und zwar mit der Funktion `merge()`"
   ]
  },
  {
   "cell_type": "code",
   "execution_count": 42,
   "metadata": {},
   "outputs": [
    {
     "data": {
      "text/html": [
       "<div>\n",
       "<style scoped>\n",
       "    .dataframe tbody tr th:only-of-type {\n",
       "        vertical-align: middle;\n",
       "    }\n",
       "\n",
       "    .dataframe tbody tr th {\n",
       "        vertical-align: top;\n",
       "    }\n",
       "\n",
       "    .dataframe thead th {\n",
       "        text-align: right;\n",
       "    }\n",
       "</style>\n",
       "<table border=\"1\" class=\"dataframe\">\n",
       "  <thead>\n",
       "    <tr style=\"text-align: right;\">\n",
       "      <th></th>\n",
       "      <th>Project Number</th>\n",
       "      <th>Project Number String</th>\n",
       "      <th>Project Title</th>\n",
       "      <th>Project Title English</th>\n",
       "      <th>Responsible Applicant</th>\n",
       "      <th>Funding Instrument</th>\n",
       "      <th>Funding Instrument Hierarchy</th>\n",
       "      <th>Institution</th>\n",
       "      <th>Institution Country</th>\n",
       "      <th>University</th>\n",
       "      <th>Discipline Number</th>\n",
       "      <th>Discipline Name</th>\n",
       "      <th>Discipline Name Hierarchy</th>\n",
       "      <th>All disciplines</th>\n",
       "      <th>Start Date</th>\n",
       "      <th>End Date</th>\n",
       "      <th>Approved Amount</th>\n",
       "      <th>Keywords</th>\n",
       "      <th>Institution Type</th>\n",
       "      <th>New Type</th>\n",
       "    </tr>\n",
       "  </thead>\n",
       "  <tbody>\n",
       "    <tr>\n",
       "      <td>0</td>\n",
       "      <td>4</td>\n",
       "      <td>1000-000004</td>\n",
       "      <td>Batterie de tests à l'usage des enseignants po...</td>\n",
       "      <td>NaN</td>\n",
       "      <td>Massarenti Léonard</td>\n",
       "      <td>Project funding (Div. I-III)</td>\n",
       "      <td>Project funding</td>\n",
       "      <td>Faculté de Psychologie et des Sciences de l'Ed...</td>\n",
       "      <td>Switzerland</td>\n",
       "      <td>University of Geneva - GE</td>\n",
       "      <td>10104</td>\n",
       "      <td>Educational science and Pedagogy</td>\n",
       "      <td>Humanities and Social Sciences;Psychology, edu...</td>\n",
       "      <td>10104</td>\n",
       "      <td>01.10.1975</td>\n",
       "      <td>30.09.1976</td>\n",
       "      <td>41022.0</td>\n",
       "      <td>NaN</td>\n",
       "      <td>University</td>\n",
       "      <td>Universität</td>\n",
       "    </tr>\n",
       "    <tr>\n",
       "      <td>1</td>\n",
       "      <td>5</td>\n",
       "      <td>1000-000005</td>\n",
       "      <td>Kritische Erstausgabe der 'Evidentiae contra D...</td>\n",
       "      <td>NaN</td>\n",
       "      <td>Kommission für das Corpus philosophorum medii ...</td>\n",
       "      <td>Project funding (Div. I-III)</td>\n",
       "      <td>Project funding</td>\n",
       "      <td>Kommission für das Corpus philosophorum medii ...</td>\n",
       "      <td>Switzerland</td>\n",
       "      <td>Non-profit organisations (libraries, museums, ...</td>\n",
       "      <td>10101</td>\n",
       "      <td>Philosophy</td>\n",
       "      <td>Humanities and Social Sciences;Linguistics and...</td>\n",
       "      <td>10101</td>\n",
       "      <td>01.03.1976</td>\n",
       "      <td>28.02.1985</td>\n",
       "      <td>79732.0</td>\n",
       "      <td>NaN</td>\n",
       "      <td>Other</td>\n",
       "      <td>Other</td>\n",
       "    </tr>\n",
       "    <tr>\n",
       "      <td>2</td>\n",
       "      <td>6</td>\n",
       "      <td>1000-000006</td>\n",
       "      <td>Katalog der datierten Handschriften in der Sch...</td>\n",
       "      <td>NaN</td>\n",
       "      <td>Burckhardt Max</td>\n",
       "      <td>Project funding (Div. I-III)</td>\n",
       "      <td>Project funding</td>\n",
       "      <td>Abteilung Handschriften und Alte Drucke Univer...</td>\n",
       "      <td>Switzerland</td>\n",
       "      <td>University of Basel - BS</td>\n",
       "      <td>10302</td>\n",
       "      <td>Swiss history</td>\n",
       "      <td>Humanities and Social Sciences;Theology &amp; reli...</td>\n",
       "      <td>10302</td>\n",
       "      <td>01.10.1975</td>\n",
       "      <td>30.09.1976</td>\n",
       "      <td>52627.0</td>\n",
       "      <td>NaN</td>\n",
       "      <td>University</td>\n",
       "      <td>Universität</td>\n",
       "    </tr>\n",
       "    <tr>\n",
       "      <td>3</td>\n",
       "      <td>7</td>\n",
       "      <td>1000-000007</td>\n",
       "      <td>Wissenschaftliche Mitarbeit am Thesaurus Lingu...</td>\n",
       "      <td>NaN</td>\n",
       "      <td>Schweiz. Thesauruskommission</td>\n",
       "      <td>Project funding (Div. I-III)</td>\n",
       "      <td>Project funding</td>\n",
       "      <td>Schweiz. Thesauruskommission</td>\n",
       "      <td>Switzerland</td>\n",
       "      <td>Non-profit organisations (libraries, museums, ...</td>\n",
       "      <td>10303</td>\n",
       "      <td>Ancient history and Classical studies</td>\n",
       "      <td>Humanities and Social Sciences;Theology &amp; reli...</td>\n",
       "      <td>10303</td>\n",
       "      <td>01.01.1976</td>\n",
       "      <td>30.04.1978</td>\n",
       "      <td>120042.0</td>\n",
       "      <td>NaN</td>\n",
       "      <td>Other</td>\n",
       "      <td>Other</td>\n",
       "    </tr>\n",
       "    <tr>\n",
       "      <td>4</td>\n",
       "      <td>8</td>\n",
       "      <td>1000-000008</td>\n",
       "      <td>Die schweizerische Wirtschaftspolitik seit dem...</td>\n",
       "      <td>NaN</td>\n",
       "      <td>Kleinewefers Henner</td>\n",
       "      <td>Project funding (Div. I-III)</td>\n",
       "      <td>Project funding</td>\n",
       "      <td>Séminaire de politique économique, d'économie ...</td>\n",
       "      <td>Switzerland</td>\n",
       "      <td>University of Fribourg - FR</td>\n",
       "      <td>10203</td>\n",
       "      <td>Economics</td>\n",
       "      <td>Humanities and Social Sciences;Economics, law</td>\n",
       "      <td>10203</td>\n",
       "      <td>01.01.1976</td>\n",
       "      <td>31.12.1978</td>\n",
       "      <td>53009.0</td>\n",
       "      <td>NaN</td>\n",
       "      <td>University</td>\n",
       "      <td>Universität</td>\n",
       "    </tr>\n",
       "    <tr>\n",
       "      <td>...</td>\n",
       "      <td>...</td>\n",
       "      <td>...</td>\n",
       "      <td>...</td>\n",
       "      <td>...</td>\n",
       "      <td>...</td>\n",
       "      <td>...</td>\n",
       "      <td>...</td>\n",
       "      <td>...</td>\n",
       "      <td>...</td>\n",
       "      <td>...</td>\n",
       "      <td>...</td>\n",
       "      <td>...</td>\n",
       "      <td>...</td>\n",
       "      <td>...</td>\n",
       "      <td>...</td>\n",
       "      <td>...</td>\n",
       "      <td>...</td>\n",
       "      <td>...</td>\n",
       "      <td>...</td>\n",
       "      <td>...</td>\n",
       "    </tr>\n",
       "    <tr>\n",
       "      <td>55291</td>\n",
       "      <td>198642</td>\n",
       "      <td>IZSEZ0_198642</td>\n",
       "      <td>Pulsed non-local magnetotransport experiments ...</td>\n",
       "      <td>Pulsed non-local magnetotransport experiments ...</td>\n",
       "      <td>Gambardella Pietro</td>\n",
       "      <td>Scientific Exchanges</td>\n",
       "      <td>Science communication</td>\n",
       "      <td>Departement Materialwissenschaft ETH Zürich</td>\n",
       "      <td>Switzerland</td>\n",
       "      <td>ETH Zurich - ETHZ</td>\n",
       "      <td>20404</td>\n",
       "      <td>Condensed Matter Physics</td>\n",
       "      <td>Mathematics, Natural- and Engineering Sciences...</td>\n",
       "      <td>20404/20505</td>\n",
       "      <td>01.09.2020</td>\n",
       "      <td>31.12.2020</td>\n",
       "      <td>12400.0</td>\n",
       "      <td>spintronics; magnonics; ultrathin iron garnets</td>\n",
       "      <td>Other</td>\n",
       "      <td>Universität</td>\n",
       "    </tr>\n",
       "    <tr>\n",
       "      <td>55292</td>\n",
       "      <td>198806</td>\n",
       "      <td>10BP12_198806</td>\n",
       "      <td>Disentangling Bare Nouns and Nominals Introduc...</td>\n",
       "      <td>Disentangling Bare Nouns and Nominals Introduc...</td>\n",
       "      <td>Ihsane Tabea</td>\n",
       "      <td>Open Access Books</td>\n",
       "      <td>Science communication</td>\n",
       "      <td>Département de Linguistique Faculté des lettre...</td>\n",
       "      <td>Switzerland</td>\n",
       "      <td>University of Zurich - ZH</td>\n",
       "      <td>10502</td>\n",
       "      <td>Romance languages and literature</td>\n",
       "      <td>Humanities and Social Sciences;Linguistics and...</td>\n",
       "      <td>10502/10501</td>\n",
       "      <td>01.09.2020</td>\n",
       "      <td>28.02.2021</td>\n",
       "      <td>8925.0</td>\n",
       "      <td>Partitive article; Bare nouns; Indefinite inte...</td>\n",
       "      <td>University</td>\n",
       "      <td>Universität</td>\n",
       "    </tr>\n",
       "    <tr>\n",
       "      <td>55293</td>\n",
       "      <td>198851</td>\n",
       "      <td>10BP12_198851</td>\n",
       "      <td>Von der Fuge in Rot bis zur Zwitschermaschine....</td>\n",
       "      <td>From 'Fuge in Rot' to 'Zwitschermaschine'. Pau...</td>\n",
       "      <td>Gartmann Thomas</td>\n",
       "      <td>Open Access Books</td>\n",
       "      <td>Science communication</td>\n",
       "      <td>Fachstelle Forschung Hochschule der Künste Ber...</td>\n",
       "      <td>Switzerland</td>\n",
       "      <td>Berne University of Applied Sciences - BFH</td>\n",
       "      <td>10405</td>\n",
       "      <td>Musicology</td>\n",
       "      <td>Humanities and Social Sciences;Art studies, mu...</td>\n",
       "      <td>10405/10604/10404</td>\n",
       "      <td>01.09.2020</td>\n",
       "      <td>28.02.2021</td>\n",
       "      <td>19065.0</td>\n",
       "      <td>Paul Klee; Musik; Malerei; Bauhaus</td>\n",
       "      <td>University</td>\n",
       "      <td>Fachhochschule</td>\n",
       "    </tr>\n",
       "    <tr>\n",
       "      <td>55294</td>\n",
       "      <td>198934</td>\n",
       "      <td>10BP12_198934</td>\n",
       "      <td>Film Farbe Fläche. Ästhetik des kolorierten Bi...</td>\n",
       "      <td>Color Surface Film. Aesthetics of Colored Imag...</td>\n",
       "      <td>Rakin Jelena</td>\n",
       "      <td>Open Access Books</td>\n",
       "      <td>Science communication</td>\n",
       "      <td>Seminar für Filmwissenschaft Universität Zürich</td>\n",
       "      <td>Switzerland</td>\n",
       "      <td>University of Zurich - ZH</td>\n",
       "      <td>10406</td>\n",
       "      <td>Theatre and Cinema</td>\n",
       "      <td>Humanities and Social Sciences;Art studies, mu...</td>\n",
       "      <td>10406</td>\n",
       "      <td>01.09.2020</td>\n",
       "      <td>28.02.2021</td>\n",
       "      <td>19440.0</td>\n",
       "      <td>Farbfilm; Farbästhetik; Intermediale Ästhetik;...</td>\n",
       "      <td>University</td>\n",
       "      <td>Universität</td>\n",
       "    </tr>\n",
       "    <tr>\n",
       "      <td>55295</td>\n",
       "      <td>199097</td>\n",
       "      <td>10BP12_199097</td>\n",
       "      <td>Interagir dans la diversité à l'école. Regards...</td>\n",
       "      <td>NaN</td>\n",
       "      <td>Miserez-Caperos Céline</td>\n",
       "      <td>Open Access Books</td>\n",
       "      <td>Science communication</td>\n",
       "      <td>Haute école pédagogique Berne- Jura-Neuchâtel ...</td>\n",
       "      <td>Switzerland</td>\n",
       "      <td>Haute Ecole Pédagogique des cantons de Berne, ...</td>\n",
       "      <td>10104</td>\n",
       "      <td>Educational science and Pedagogy</td>\n",
       "      <td>Humanities and Social Sciences;Psychology, edu...</td>\n",
       "      <td>10104</td>\n",
       "      <td>01.09.2020</td>\n",
       "      <td>28.02.2021</td>\n",
       "      <td>7500.0</td>\n",
       "      <td>Interagir; Diversité; interculturalité; perspe...</td>\n",
       "      <td>Other</td>\n",
       "      <td>Fachhochschule</td>\n",
       "    </tr>\n",
       "  </tbody>\n",
       "</table>\n",
       "<p>55296 rows × 20 columns</p>\n",
       "</div>"
      ],
      "text/plain": [
       "       Project Number Project Number String  \\\n",
       "0                   4           1000-000004   \n",
       "1                   5           1000-000005   \n",
       "2                   6           1000-000006   \n",
       "3                   7           1000-000007   \n",
       "4                   8           1000-000008   \n",
       "...               ...                   ...   \n",
       "55291          198642         IZSEZ0_198642   \n",
       "55292          198806         10BP12_198806   \n",
       "55293          198851         10BP12_198851   \n",
       "55294          198934         10BP12_198934   \n",
       "55295          199097         10BP12_199097   \n",
       "\n",
       "                                           Project Title  \\\n",
       "0      Batterie de tests à l'usage des enseignants po...   \n",
       "1      Kritische Erstausgabe der 'Evidentiae contra D...   \n",
       "2      Katalog der datierten Handschriften in der Sch...   \n",
       "3      Wissenschaftliche Mitarbeit am Thesaurus Lingu...   \n",
       "4      Die schweizerische Wirtschaftspolitik seit dem...   \n",
       "...                                                  ...   \n",
       "55291  Pulsed non-local magnetotransport experiments ...   \n",
       "55292  Disentangling Bare Nouns and Nominals Introduc...   \n",
       "55293  Von der Fuge in Rot bis zur Zwitschermaschine....   \n",
       "55294  Film Farbe Fläche. Ästhetik des kolorierten Bi...   \n",
       "55295  Interagir dans la diversité à l'école. Regards...   \n",
       "\n",
       "                                   Project Title English  \\\n",
       "0                                                    NaN   \n",
       "1                                                    NaN   \n",
       "2                                                    NaN   \n",
       "3                                                    NaN   \n",
       "4                                                    NaN   \n",
       "...                                                  ...   \n",
       "55291  Pulsed non-local magnetotransport experiments ...   \n",
       "55292  Disentangling Bare Nouns and Nominals Introduc...   \n",
       "55293  From 'Fuge in Rot' to 'Zwitschermaschine'. Pau...   \n",
       "55294  Color Surface Film. Aesthetics of Colored Imag...   \n",
       "55295                                                NaN   \n",
       "\n",
       "                                   Responsible Applicant  \\\n",
       "0                                     Massarenti Léonard   \n",
       "1      Kommission für das Corpus philosophorum medii ...   \n",
       "2                                         Burckhardt Max   \n",
       "3                           Schweiz. Thesauruskommission   \n",
       "4                                    Kleinewefers Henner   \n",
       "...                                                  ...   \n",
       "55291                                 Gambardella Pietro   \n",
       "55292                                       Ihsane Tabea   \n",
       "55293                                    Gartmann Thomas   \n",
       "55294                                       Rakin Jelena   \n",
       "55295                             Miserez-Caperos Céline   \n",
       "\n",
       "                 Funding Instrument Funding Instrument Hierarchy  \\\n",
       "0      Project funding (Div. I-III)              Project funding   \n",
       "1      Project funding (Div. I-III)              Project funding   \n",
       "2      Project funding (Div. I-III)              Project funding   \n",
       "3      Project funding (Div. I-III)              Project funding   \n",
       "4      Project funding (Div. I-III)              Project funding   \n",
       "...                             ...                          ...   \n",
       "55291          Scientific Exchanges        Science communication   \n",
       "55292             Open Access Books        Science communication   \n",
       "55293             Open Access Books        Science communication   \n",
       "55294             Open Access Books        Science communication   \n",
       "55295             Open Access Books        Science communication   \n",
       "\n",
       "                                             Institution Institution Country  \\\n",
       "0      Faculté de Psychologie et des Sciences de l'Ed...         Switzerland   \n",
       "1      Kommission für das Corpus philosophorum medii ...         Switzerland   \n",
       "2      Abteilung Handschriften und Alte Drucke Univer...         Switzerland   \n",
       "3                           Schweiz. Thesauruskommission         Switzerland   \n",
       "4      Séminaire de politique économique, d'économie ...         Switzerland   \n",
       "...                                                  ...                 ...   \n",
       "55291        Departement Materialwissenschaft ETH Zürich         Switzerland   \n",
       "55292  Département de Linguistique Faculté des lettre...         Switzerland   \n",
       "55293  Fachstelle Forschung Hochschule der Künste Ber...         Switzerland   \n",
       "55294    Seminar für Filmwissenschaft Universität Zürich         Switzerland   \n",
       "55295  Haute école pédagogique Berne- Jura-Neuchâtel ...         Switzerland   \n",
       "\n",
       "                                              University  Discipline Number  \\\n",
       "0                              University of Geneva - GE              10104   \n",
       "1      Non-profit organisations (libraries, museums, ...              10101   \n",
       "2                               University of Basel - BS              10302   \n",
       "3      Non-profit organisations (libraries, museums, ...              10303   \n",
       "4                            University of Fribourg - FR              10203   \n",
       "...                                                  ...                ...   \n",
       "55291                                  ETH Zurich - ETHZ              20404   \n",
       "55292                          University of Zurich - ZH              10502   \n",
       "55293         Berne University of Applied Sciences - BFH              10405   \n",
       "55294                          University of Zurich - ZH              10406   \n",
       "55295  Haute Ecole Pédagogique des cantons de Berne, ...              10104   \n",
       "\n",
       "                             Discipline Name  \\\n",
       "0           Educational science and Pedagogy   \n",
       "1                                 Philosophy   \n",
       "2                              Swiss history   \n",
       "3      Ancient history and Classical studies   \n",
       "4                                  Economics   \n",
       "...                                      ...   \n",
       "55291               Condensed Matter Physics   \n",
       "55292       Romance languages and literature   \n",
       "55293                             Musicology   \n",
       "55294                     Theatre and Cinema   \n",
       "55295       Educational science and Pedagogy   \n",
       "\n",
       "                               Discipline Name Hierarchy    All disciplines  \\\n",
       "0      Humanities and Social Sciences;Psychology, edu...              10104   \n",
       "1      Humanities and Social Sciences;Linguistics and...              10101   \n",
       "2      Humanities and Social Sciences;Theology & reli...              10302   \n",
       "3      Humanities and Social Sciences;Theology & reli...              10303   \n",
       "4          Humanities and Social Sciences;Economics, law              10203   \n",
       "...                                                  ...                ...   \n",
       "55291  Mathematics, Natural- and Engineering Sciences...        20404/20505   \n",
       "55292  Humanities and Social Sciences;Linguistics and...        10502/10501   \n",
       "55293  Humanities and Social Sciences;Art studies, mu...  10405/10604/10404   \n",
       "55294  Humanities and Social Sciences;Art studies, mu...              10406   \n",
       "55295  Humanities and Social Sciences;Psychology, edu...              10104   \n",
       "\n",
       "       Start Date    End Date  Approved Amount  \\\n",
       "0      01.10.1975  30.09.1976          41022.0   \n",
       "1      01.03.1976  28.02.1985          79732.0   \n",
       "2      01.10.1975  30.09.1976          52627.0   \n",
       "3      01.01.1976  30.04.1978         120042.0   \n",
       "4      01.01.1976  31.12.1978          53009.0   \n",
       "...           ...         ...              ...   \n",
       "55291  01.09.2020  31.12.2020          12400.0   \n",
       "55292  01.09.2020  28.02.2021           8925.0   \n",
       "55293  01.09.2020  28.02.2021          19065.0   \n",
       "55294  01.09.2020  28.02.2021          19440.0   \n",
       "55295  01.09.2020  28.02.2021           7500.0   \n",
       "\n",
       "                                                Keywords Institution Type  \\\n",
       "0                                                    NaN       University   \n",
       "1                                                    NaN            Other   \n",
       "2                                                    NaN       University   \n",
       "3                                                    NaN            Other   \n",
       "4                                                    NaN       University   \n",
       "...                                                  ...              ...   \n",
       "55291     spintronics; magnonics; ultrathin iron garnets            Other   \n",
       "55292  Partitive article; Bare nouns; Indefinite inte...       University   \n",
       "55293                 Paul Klee; Musik; Malerei; Bauhaus       University   \n",
       "55294  Farbfilm; Farbästhetik; Intermediale Ästhetik;...       University   \n",
       "55295  Interagir; Diversité; interculturalité; perspe...            Other   \n",
       "\n",
       "             New Type  \n",
       "0         Universität  \n",
       "1               Other  \n",
       "2         Universität  \n",
       "3               Other  \n",
       "4         Universität  \n",
       "...               ...  \n",
       "55291     Universität  \n",
       "55292     Universität  \n",
       "55293  Fachhochschule  \n",
       "55294     Universität  \n",
       "55295  Fachhochschule  \n",
       "\n",
       "[55296 rows x 20 columns]"
      ]
     },
     "execution_count": 42,
     "metadata": {},
     "output_type": "execute_result"
    }
   ],
   "source": [
    "df_swiss_classified = df_swiss.merge(df_unique_edited, how='left', left_on='University', right_on='University')\n",
    "df_swiss_classified"
   ]
  },
  {
   "cell_type": "markdown",
   "metadata": {},
   "source": [
    "Die Spalte \"New Type\" wurde nun zur Tabelle \"df_swiss\" hinzugefügt, und zwar genau dort, wo es zum Eintrag in \"University\" passt!\n",
    "\n",
    "Schauen wir kurz, wie viele Einträge es von welchem Typ hat:"
   ]
  },
  {
   "cell_type": "code",
   "execution_count": 43,
   "metadata": {},
   "outputs": [
    {
     "data": {
      "text/plain": [
       "Universität       49195\n",
       "Other              4851\n",
       "Fachhochschule     1069\n",
       "Spital              178\n",
       "Name: New Type, dtype: int64"
      ]
     },
     "execution_count": 43,
     "metadata": {},
     "output_type": "execute_result"
    }
   ],
   "source": [
    "df_swiss_classified['New Type'].value_counts()"
   ]
  },
  {
   "cell_type": "markdown",
   "metadata": {},
   "source": [
    "Ging auch wirklich nichts vergessen?"
   ]
  },
  {
   "cell_type": "code",
   "execution_count": 44,
   "metadata": {},
   "outputs": [
    {
     "data": {
      "text/plain": [
       "Universität       49195\n",
       "Other              4851\n",
       "Fachhochschule     1069\n",
       "Spital              178\n",
       "NaN                   3\n",
       "Name: New Type, dtype: int64"
      ]
     },
     "execution_count": 44,
     "metadata": {},
     "output_type": "execute_result"
    }
   ],
   "source": [
    "df_swiss_classified['New Type'].value_counts(dropna=False)"
   ]
  },
  {
   "cell_type": "markdown",
   "metadata": {},
   "source": [
    "**Oops!** Es hat einen fehlenden Eintrag drin.\n",
    "\n",
    "Was ist das für ein Eintrag?"
   ]
  },
  {
   "cell_type": "code",
   "execution_count": 45,
   "metadata": {},
   "outputs": [
    {
     "data": {
      "text/html": [
       "<div>\n",
       "<style scoped>\n",
       "    .dataframe tbody tr th:only-of-type {\n",
       "        vertical-align: middle;\n",
       "    }\n",
       "\n",
       "    .dataframe tbody tr th {\n",
       "        vertical-align: top;\n",
       "    }\n",
       "\n",
       "    .dataframe thead th {\n",
       "        text-align: right;\n",
       "    }\n",
       "</style>\n",
       "<table border=\"1\" class=\"dataframe\">\n",
       "  <thead>\n",
       "    <tr style=\"text-align: right;\">\n",
       "      <th></th>\n",
       "      <th>Project Number</th>\n",
       "      <th>Project Number String</th>\n",
       "      <th>Project Title</th>\n",
       "      <th>Project Title English</th>\n",
       "      <th>Responsible Applicant</th>\n",
       "      <th>Funding Instrument</th>\n",
       "      <th>Funding Instrument Hierarchy</th>\n",
       "      <th>Institution</th>\n",
       "      <th>Institution Country</th>\n",
       "      <th>University</th>\n",
       "      <th>Discipline Number</th>\n",
       "      <th>Discipline Name</th>\n",
       "      <th>Discipline Name Hierarchy</th>\n",
       "      <th>All disciplines</th>\n",
       "      <th>Start Date</th>\n",
       "      <th>End Date</th>\n",
       "      <th>Approved Amount</th>\n",
       "      <th>Keywords</th>\n",
       "      <th>Institution Type</th>\n",
       "      <th>New Type</th>\n",
       "    </tr>\n",
       "  </thead>\n",
       "  <tbody>\n",
       "    <tr>\n",
       "      <td>24178</td>\n",
       "      <td>101005</td>\n",
       "      <td>50CH40-101005</td>\n",
       "      <td>SELECTS 2003: Eidgenössische Wahlen 2003</td>\n",
       "      <td>SELECTS 2003: Federal elections 2003</td>\n",
       "      <td>Malaguerra Carlo</td>\n",
       "      <td>Swiss Priority Programmes (SPPs)</td>\n",
       "      <td>Programmes</td>\n",
       "      <td>Schweizerische Akademie der Geistes-und Sozial...</td>\n",
       "      <td>Switzerland</td>\n",
       "      <td>NaN</td>\n",
       "      <td>10202</td>\n",
       "      <td>Political science</td>\n",
       "      <td>Humanities and Social Sciences;Sociology, soci...</td>\n",
       "      <td>10202</td>\n",
       "      <td>01.02.2003</td>\n",
       "      <td>31.01.2004</td>\n",
       "      <td>100000.0</td>\n",
       "      <td>NaN</td>\n",
       "      <td>Other</td>\n",
       "      <td>NaN</td>\n",
       "    </tr>\n",
       "    <tr>\n",
       "      <td>50736</td>\n",
       "      <td>177868</td>\n",
       "      <td>P3P3PA_177868</td>\n",
       "      <td>Predicting the genetic adaptations that confer...</td>\n",
       "      <td>NaN</td>\n",
       "      <td>Hausser Jean</td>\n",
       "      <td>Return CH Advanced Postdoc.Mobility</td>\n",
       "      <td>Careers;Fellowships</td>\n",
       "      <td>Ludwig Institute for Cancer Research</td>\n",
       "      <td>Switzerland</td>\n",
       "      <td>NaN</td>\n",
       "      <td>30102</td>\n",
       "      <td>Molecular Biology</td>\n",
       "      <td>Biology and Medicine;Basic Biological Research</td>\n",
       "      <td>30102/30401</td>\n",
       "      <td>01.06.2018</td>\n",
       "      <td>28.02.2019</td>\n",
       "      <td>80202.0</td>\n",
       "      <td>intra-tumor heterogeneity; multi-task evolutio...</td>\n",
       "      <td>Other</td>\n",
       "      <td>NaN</td>\n",
       "    </tr>\n",
       "    <tr>\n",
       "      <td>50810</td>\n",
       "      <td>178546</td>\n",
       "      <td>CRAGP1_178546</td>\n",
       "      <td>Digital Swiss Sports History Portal</td>\n",
       "      <td>Digital Swiss Sports History Portal</td>\n",
       "      <td>Koller Christian</td>\n",
       "      <td>Agora</td>\n",
       "      <td>Science communication</td>\n",
       "      <td>Historisches Seminar Universität Zürich</td>\n",
       "      <td>Switzerland</td>\n",
       "      <td>NaN</td>\n",
       "      <td>10302</td>\n",
       "      <td>Swiss history</td>\n",
       "      <td>Humanities and Social Sciences;Theology &amp; reli...</td>\n",
       "      <td>10302/10104</td>\n",
       "      <td>01.05.2018</td>\n",
       "      <td>31.10.2020</td>\n",
       "      <td>198248.0</td>\n",
       "      <td>public history; integration; transversal funct...</td>\n",
       "      <td>Other</td>\n",
       "      <td>NaN</td>\n",
       "    </tr>\n",
       "  </tbody>\n",
       "</table>\n",
       "</div>"
      ],
      "text/plain": [
       "       Project Number Project Number String  \\\n",
       "24178          101005         50CH40-101005   \n",
       "50736          177868         P3P3PA_177868   \n",
       "50810          178546         CRAGP1_178546   \n",
       "\n",
       "                                           Project Title  \\\n",
       "24178           SELECTS 2003: Eidgenössische Wahlen 2003   \n",
       "50736  Predicting the genetic adaptations that confer...   \n",
       "50810                Digital Swiss Sports History Portal   \n",
       "\n",
       "                      Project Title English Responsible Applicant  \\\n",
       "24178  SELECTS 2003: Federal elections 2003      Malaguerra Carlo   \n",
       "50736                                   NaN          Hausser Jean   \n",
       "50810   Digital Swiss Sports History Portal      Koller Christian   \n",
       "\n",
       "                        Funding Instrument Funding Instrument Hierarchy  \\\n",
       "24178     Swiss Priority Programmes (SPPs)                   Programmes   \n",
       "50736  Return CH Advanced Postdoc.Mobility          Careers;Fellowships   \n",
       "50810                                Agora        Science communication   \n",
       "\n",
       "                                             Institution Institution Country  \\\n",
       "24178  Schweizerische Akademie der Geistes-und Sozial...         Switzerland   \n",
       "50736               Ludwig Institute for Cancer Research         Switzerland   \n",
       "50810            Historisches Seminar Universität Zürich         Switzerland   \n",
       "\n",
       "      University  Discipline Number    Discipline Name  \\\n",
       "24178        NaN              10202  Political science   \n",
       "50736        NaN              30102  Molecular Biology   \n",
       "50810        NaN              10302      Swiss history   \n",
       "\n",
       "                               Discipline Name Hierarchy All disciplines  \\\n",
       "24178  Humanities and Social Sciences;Sociology, soci...           10202   \n",
       "50736     Biology and Medicine;Basic Biological Research     30102/30401   \n",
       "50810  Humanities and Social Sciences;Theology & reli...     10302/10104   \n",
       "\n",
       "       Start Date    End Date  Approved Amount  \\\n",
       "24178  01.02.2003  31.01.2004         100000.0   \n",
       "50736  01.06.2018  28.02.2019          80202.0   \n",
       "50810  01.05.2018  31.10.2020         198248.0   \n",
       "\n",
       "                                                Keywords Institution Type  \\\n",
       "24178                                                NaN            Other   \n",
       "50736  intra-tumor heterogeneity; multi-task evolutio...            Other   \n",
       "50810  public history; integration; transversal funct...            Other   \n",
       "\n",
       "      New Type  \n",
       "24178      NaN  \n",
       "50736      NaN  \n",
       "50810      NaN  "
      ]
     },
     "execution_count": 45,
     "metadata": {},
     "output_type": "execute_result"
    }
   ],
   "source": [
    "df_swiss_classified[df_swiss_classified['New Type'].isnull()]"
   ]
  },
  {
   "cell_type": "markdown",
   "metadata": {},
   "source": [
    "Sieht nach einem grundsätzlich validen Projekt aus. Wir klassifizieren diesen Eintrag kurzerhand auf \"Other\":"
   ]
  },
  {
   "cell_type": "code",
   "execution_count": 46,
   "metadata": {},
   "outputs": [],
   "source": [
    "df_swiss_classified.loc[df_swiss_classified['New Type'].isnull(), \"New Type\"] = \"Other\""
   ]
  },
  {
   "cell_type": "code",
   "execution_count": 47,
   "metadata": {},
   "outputs": [
    {
     "data": {
      "text/plain": [
       "Project Number                                                             101005\n",
       "Project Number String                                               50CH40-101005\n",
       "Project Title                            SELECTS 2003: Eidgenössische Wahlen 2003\n",
       "Project Title English                        SELECTS 2003: Federal elections 2003\n",
       "Responsible Applicant                                            Malaguerra Carlo\n",
       "Funding Instrument                               Swiss Priority Programmes (SPPs)\n",
       "Funding Instrument Hierarchy                                           Programmes\n",
       "Institution                     Schweizerische Akademie der Geistes-und Sozial...\n",
       "Institution Country                                                   Switzerland\n",
       "University                                                                    NaN\n",
       "Discipline Number                                                           10202\n",
       "Discipline Name                                                 Political science\n",
       "Discipline Name Hierarchy       Humanities and Social Sciences;Sociology, soci...\n",
       "All disciplines                                                             10202\n",
       "Start Date                                                             01.02.2003\n",
       "End Date                                                               31.01.2004\n",
       "Approved Amount                                                            100000\n",
       "Keywords                                                                      NaN\n",
       "Institution Type                                                            Other\n",
       "New Type                                                                    Other\n",
       "Name: 24178, dtype: object"
      ]
     },
     "execution_count": 47,
     "metadata": {},
     "output_type": "execute_result"
    }
   ],
   "source": [
    "df_swiss_classified.loc[24178]"
   ]
  },
  {
   "cell_type": "markdown",
   "metadata": {},
   "source": [
    "Wir können nun wiederum unsere Auswertung vornehmen,zB nach Durchschnittsbeträgen:"
   ]
  },
  {
   "cell_type": "code",
   "execution_count": 48,
   "metadata": {},
   "outputs": [
    {
     "data": {
      "text/plain": [
       "New Type\n",
       "Fachhochschule    2.074231e+08\n",
       "Other             1.255611e+09\n",
       "Spital            4.380548e+07\n",
       "Universität       1.556928e+10\n",
       "Name: Approved Amount, dtype: float64"
      ]
     },
     "execution_count": 48,
     "metadata": {},
     "output_type": "execute_result"
    }
   ],
   "source": [
    "df_swiss_classified.groupby('New Type')['Approved Amount'].sum()"
   ]
  },
  {
   "cell_type": "code",
   "execution_count": null,
   "metadata": {},
   "outputs": [],
   "source": []
  },
  {
   "cell_type": "markdown",
   "metadata": {},
   "source": [
    "## Plotting Level 2"
   ]
  },
  {
   "cell_type": "markdown",
   "metadata": {},
   "source": [
    "Nun wollen wir darstellen, wie sich die Projekte über die Zeit hinweg in der Schweiz und in den übrigen Ländern entwickelt haben. Es geht also darum, zwei verschiedene Serien auf einer Grafik einzuzeichnen."
   ]
  },
  {
   "cell_type": "markdown",
   "metadata": {},
   "source": [
    "- für den Ländertyp basteln wir uns rasch eine ähnliche Kategorisierung wie vorher:"
   ]
  },
  {
   "cell_type": "code",
   "execution_count": 49,
   "metadata": {},
   "outputs": [
    {
     "data": {
      "text/plain": [
       "Switzerland    55296\n",
       "Other          19359\n",
       "Name: Country Type, dtype: int64"
      ]
     },
     "execution_count": 49,
     "metadata": {},
     "output_type": "execute_result"
    }
   ],
   "source": [
    "df['Country Type'] = \"\"\n",
    "df.loc[df['Institution Country'] == 'Switzerland', 'Country Type'] = \"Switzerland\"\n",
    "df.loc[df['Institution Country'] != 'Switzerland', 'Country Type'] = \"Other\"\n",
    "df['Country Type'].value_counts(dropna=False)"
   ]
  },
  {
   "cell_type": "markdown",
   "metadata": {},
   "source": [
    "- für das Jahr wenden wirr jetzt einen etwas faulen Trick an, um eine neue Spalte mit dem Jahr zu generieren (eigentlich gäbe es dazu noch einen speziellen Datentyp, aber den schauen wir ein anderes Mal an)."
   ]
  },
  {
   "cell_type": "code",
   "execution_count": 50,
   "metadata": {},
   "outputs": [],
   "source": [
    "df['Year'] = df['Start Date'].str[6:]"
   ]
  },
  {
   "cell_type": "markdown",
   "metadata": {},
   "source": [
    "Check, ob das einigermassen funktioniert hat..."
   ]
  },
  {
   "cell_type": "code",
   "execution_count": 51,
   "metadata": {},
   "outputs": [
    {
     "data": {
      "text/plain": [
       "1975    205\n",
       "1976    542\n",
       "1977    564\n",
       "1978    556\n",
       "1979    616\n",
       "Name: Year, dtype: int64"
      ]
     },
     "execution_count": 51,
     "metadata": {},
     "output_type": "execute_result"
    }
   ],
   "source": [
    "df['Year'].value_counts(dropna=False).sort_index().head(5)"
   ]
  },
  {
   "cell_type": "markdown",
   "metadata": {},
   "source": [
    "Jetzt plotten wir die Gesamtsumme der gesprochenen Gelder nach Jahr. Zuerst für die Schweiz ..."
   ]
  },
  {
   "cell_type": "code",
   "execution_count": 52,
   "metadata": {},
   "outputs": [
    {
     "data": {
      "text/plain": [
       "<matplotlib.axes._subplots.AxesSubplot at 0x112715208>"
      ]
     },
     "execution_count": 52,
     "metadata": {},
     "output_type": "execute_result"
    },
    {
     "data": {
      "image/png": "[encoded data removed]",
      "text/plain": [
       "<Figure size 864x432 with 1 Axes>"
      ]
     },
     "metadata": {
      "needs_background": "light"
     },
     "output_type": "display_data"
    }
   ],
   "source": [
    "df[df['Country Type'] == \"Switzerland\"].groupby('Year')['Approved Amount'].sum().plot(figsize=(12,6))"
   ]
  },
  {
   "cell_type": "markdown",
   "metadata": {},
   "source": [
    "... dann für die anderen Länder ..."
   ]
  },
  {
   "cell_type": "code",
   "execution_count": 53,
   "metadata": {},
   "outputs": [
    {
     "data": {
      "text/plain": [
       "<matplotlib.axes._subplots.AxesSubplot at 0x1127659b0>"
      ]
     },
     "execution_count": 53,
     "metadata": {},
     "output_type": "execute_result"
    },
    {
     "data": {
      "image/png": "[encoded data removed]",
      "text/plain": [
       "<Figure size 864x432 with 1 Axes>"
      ]
     },
     "metadata": {
      "needs_background": "light"
     },
     "output_type": "display_data"
    }
   ],
   "source": [
    "df[df['Country Type'] == \"Other\"].groupby('Year')['Approved Amount'].sum().plot(figsize=(12,6))"
   ]
  },
  {
   "cell_type": "markdown",
   "metadata": {},
   "source": [
    "... und schliesslich für beide Ländertypen:"
   ]
  },
  {
   "cell_type": "markdown",
   "metadata": {},
   "source": [
    "### Methode 1: Zwei verschiedene Linien einzeichnen"
   ]
  },
  {
   "cell_type": "markdown",
   "metadata": {},
   "source": [
    "Die sicherste Methode, um mehrere Kurven auf derselben Grafik darzustellen, ist `ax=`.\n",
    "\n",
    "Wir speichern erste einen Plot als \"chart1\" und sagen dem zweiten Plot dann, sich zu \"chart1\" hinzuzugesellen."
   ]
  },
  {
   "cell_type": "code",
   "execution_count": 54,
   "metadata": {},
   "outputs": [
    {
     "data": {
      "text/plain": [
       "<matplotlib.axes._subplots.AxesSubplot at 0x112751d30>"
      ]
     },
     "execution_count": 54,
     "metadata": {},
     "output_type": "execute_result"
    },
    {
     "data": {
      "image/png": "[encoded data removed]",
      "text/plain": [
       "<Figure size 864x432 with 1 Axes>"
      ]
     },
     "metadata": {
      "needs_background": "light"
     },
     "output_type": "display_data"
    }
   ],
   "source": [
    "chart1 = df[df['Country Type'] == \"Switzerland\"].groupby('Year')['Approved Amount'].sum().plot(figsize=(12,6))\n",
    "\n",
    "df[df['Country Type'] == \"Other\"].groupby('Year')['Approved Amount'].sum().plot(ax=chart1)"
   ]
  },
  {
   "cell_type": "markdown",
   "metadata": {},
   "source": [
    "### Methode 2: Doppelt groupby, unstack"
   ]
  },
  {
   "cell_type": "markdown",
   "metadata": {},
   "source": [
    "In diesem Fall gibt es allerdings noch eine elegantere Variante. Und zwar mit `groupby()`.\n",
    "\n",
    "Diese Methode funktioniert nicht nur mit einem Level, sondern auch mit zwei. Die Summierung wird einerseits über die Jahre (\"Years\") gemacht und andererseits für die einzelenen Ländertypen (\"Country Types\"):"
   ]
  },
  {
   "cell_type": "code",
   "execution_count": 55,
   "metadata": {},
   "outputs": [
    {
     "data": {
      "text/plain": [
       "Year  Country Type\n",
       "1975  Other           1.422727e+06\n",
       "      Switzerland     3.074641e+07\n",
       "1976  Other           5.798550e+06\n",
       "      Switzerland     9.121748e+07\n",
       "1977  Other           4.920319e+06\n",
       "                          ...     \n",
       "2019  Switzerland     9.446486e+08\n",
       "2020  Other           3.628181e+06\n",
       "      Switzerland     6.933860e+08\n",
       "2021  Other           0.000000e+00\n",
       "      Switzerland     2.671590e+05\n",
       "Name: Approved Amount, Length: 94, dtype: float64"
      ]
     },
     "execution_count": 55,
     "metadata": {},
     "output_type": "execute_result"
    }
   ],
   "source": [
    "df.groupby(['Year', 'Country Type'])['Approved Amount'].sum()"
   ]
  },
  {
   "cell_type": "markdown",
   "metadata": {},
   "source": [
    "Um diese Werte zu plotten, müssen wir Pandas die Tabelle allerdings etwas anders zur Verfügung stellen: im Wide-Format (dazu später noch mehr). Wir können dazu die Funktion `unstack()` verwenden:"
   ]
  },
  {
   "cell_type": "code",
   "execution_count": 56,
   "metadata": {},
   "outputs": [
    {
     "data": {
      "text/html": [
       "<div>\n",
       "<style scoped>\n",
       "    .dataframe tbody tr th:only-of-type {\n",
       "        vertical-align: middle;\n",
       "    }\n",
       "\n",
       "    .dataframe tbody tr th {\n",
       "        vertical-align: top;\n",
       "    }\n",
       "\n",
       "    .dataframe thead th {\n",
       "        text-align: right;\n",
       "    }\n",
       "</style>\n",
       "<table border=\"1\" class=\"dataframe\">\n",
       "  <thead>\n",
       "    <tr style=\"text-align: right;\">\n",
       "      <th>Country Type</th>\n",
       "      <th>Other</th>\n",
       "      <th>Switzerland</th>\n",
       "    </tr>\n",
       "    <tr>\n",
       "      <th>Year</th>\n",
       "      <th></th>\n",
       "      <th></th>\n",
       "    </tr>\n",
       "  </thead>\n",
       "  <tbody>\n",
       "    <tr>\n",
       "      <td>1975</td>\n",
       "      <td>1422727.00</td>\n",
       "      <td>3.074641e+07</td>\n",
       "    </tr>\n",
       "    <tr>\n",
       "      <td>1976</td>\n",
       "      <td>5798550.00</td>\n",
       "      <td>9.121748e+07</td>\n",
       "    </tr>\n",
       "    <tr>\n",
       "      <td>1977</td>\n",
       "      <td>4920319.00</td>\n",
       "      <td>1.114744e+08</td>\n",
       "    </tr>\n",
       "    <tr>\n",
       "      <td>1978</td>\n",
       "      <td>5344733.00</td>\n",
       "      <td>1.036575e+08</td>\n",
       "    </tr>\n",
       "    <tr>\n",
       "      <td>1979</td>\n",
       "      <td>7064763.00</td>\n",
       "      <td>1.167330e+08</td>\n",
       "    </tr>\n",
       "    <tr>\n",
       "      <td>1980</td>\n",
       "      <td>3904041.00</td>\n",
       "      <td>1.175633e+08</td>\n",
       "    </tr>\n",
       "    <tr>\n",
       "      <td>1981</td>\n",
       "      <td>6689602.00</td>\n",
       "      <td>1.116979e+08</td>\n",
       "    </tr>\n",
       "    <tr>\n",
       "      <td>1982</td>\n",
       "      <td>5339538.00</td>\n",
       "      <td>1.135752e+08</td>\n",
       "    </tr>\n",
       "    <tr>\n",
       "      <td>1983</td>\n",
       "      <td>6220266.00</td>\n",
       "      <td>1.370960e+08</td>\n",
       "    </tr>\n",
       "    <tr>\n",
       "      <td>1984</td>\n",
       "      <td>5942977.00</td>\n",
       "      <td>1.268423e+08</td>\n",
       "    </tr>\n",
       "    <tr>\n",
       "      <td>1985</td>\n",
       "      <td>6240945.00</td>\n",
       "      <td>1.402211e+08</td>\n",
       "    </tr>\n",
       "    <tr>\n",
       "      <td>1986</td>\n",
       "      <td>6151577.00</td>\n",
       "      <td>1.628847e+08</td>\n",
       "    </tr>\n",
       "    <tr>\n",
       "      <td>1987</td>\n",
       "      <td>9358608.00</td>\n",
       "      <td>1.559327e+08</td>\n",
       "    </tr>\n",
       "    <tr>\n",
       "      <td>1988</td>\n",
       "      <td>10323542.00</td>\n",
       "      <td>1.827069e+08</td>\n",
       "    </tr>\n",
       "    <tr>\n",
       "      <td>1989</td>\n",
       "      <td>20723839.00</td>\n",
       "      <td>2.152159e+08</td>\n",
       "    </tr>\n",
       "    <tr>\n",
       "      <td>1990</td>\n",
       "      <td>12292042.70</td>\n",
       "      <td>2.316729e+08</td>\n",
       "    </tr>\n",
       "    <tr>\n",
       "      <td>1991</td>\n",
       "      <td>8775912.00</td>\n",
       "      <td>2.390177e+08</td>\n",
       "    </tr>\n",
       "    <tr>\n",
       "      <td>1992</td>\n",
       "      <td>7044038.00</td>\n",
       "      <td>2.726861e+08</td>\n",
       "    </tr>\n",
       "    <tr>\n",
       "      <td>1993</td>\n",
       "      <td>13082810.25</td>\n",
       "      <td>2.915037e+08</td>\n",
       "    </tr>\n",
       "    <tr>\n",
       "      <td>1994</td>\n",
       "      <td>14775793.00</td>\n",
       "      <td>2.570389e+08</td>\n",
       "    </tr>\n",
       "    <tr>\n",
       "      <td>1995</td>\n",
       "      <td>14559791.00</td>\n",
       "      <td>2.277817e+08</td>\n",
       "    </tr>\n",
       "    <tr>\n",
       "      <td>1996</td>\n",
       "      <td>22039965.30</td>\n",
       "      <td>3.760450e+08</td>\n",
       "    </tr>\n",
       "    <tr>\n",
       "      <td>1997</td>\n",
       "      <td>18145203.85</td>\n",
       "      <td>2.952179e+08</td>\n",
       "    </tr>\n",
       "    <tr>\n",
       "      <td>1998</td>\n",
       "      <td>7964235.00</td>\n",
       "      <td>2.480227e+08</td>\n",
       "    </tr>\n",
       "    <tr>\n",
       "      <td>1999</td>\n",
       "      <td>9247990.00</td>\n",
       "      <td>2.278827e+08</td>\n",
       "    </tr>\n",
       "    <tr>\n",
       "      <td>2000</td>\n",
       "      <td>19413330.87</td>\n",
       "      <td>3.288880e+08</td>\n",
       "    </tr>\n",
       "    <tr>\n",
       "      <td>2001</td>\n",
       "      <td>15796495.91</td>\n",
       "      <td>3.694170e+08</td>\n",
       "    </tr>\n",
       "    <tr>\n",
       "      <td>2002</td>\n",
       "      <td>13134329.40</td>\n",
       "      <td>3.126499e+08</td>\n",
       "    </tr>\n",
       "    <tr>\n",
       "      <td>2003</td>\n",
       "      <td>12090718.30</td>\n",
       "      <td>3.139421e+08</td>\n",
       "    </tr>\n",
       "    <tr>\n",
       "      <td>2004</td>\n",
       "      <td>5247943.00</td>\n",
       "      <td>3.143065e+08</td>\n",
       "    </tr>\n",
       "    <tr>\n",
       "      <td>2005</td>\n",
       "      <td>25152200.22</td>\n",
       "      <td>4.169781e+08</td>\n",
       "    </tr>\n",
       "    <tr>\n",
       "      <td>2006</td>\n",
       "      <td>11486525.82</td>\n",
       "      <td>3.777815e+08</td>\n",
       "    </tr>\n",
       "    <tr>\n",
       "      <td>2007</td>\n",
       "      <td>9623660.00</td>\n",
       "      <td>3.809150e+08</td>\n",
       "    </tr>\n",
       "    <tr>\n",
       "      <td>2008</td>\n",
       "      <td>15743413.44</td>\n",
       "      <td>4.303046e+08</td>\n",
       "    </tr>\n",
       "    <tr>\n",
       "      <td>2009</td>\n",
       "      <td>11561098.35</td>\n",
       "      <td>7.114365e+08</td>\n",
       "    </tr>\n",
       "    <tr>\n",
       "      <td>2010</td>\n",
       "      <td>28631251.05</td>\n",
       "      <td>6.795893e+08</td>\n",
       "    </tr>\n",
       "    <tr>\n",
       "      <td>2011</td>\n",
       "      <td>24822450.84</td>\n",
       "      <td>5.573921e+08</td>\n",
       "    </tr>\n",
       "    <tr>\n",
       "      <td>2012</td>\n",
       "      <td>23381922.27</td>\n",
       "      <td>6.269236e+08</td>\n",
       "    </tr>\n",
       "    <tr>\n",
       "      <td>2013</td>\n",
       "      <td>13461419.30</td>\n",
       "      <td>6.669620e+08</td>\n",
       "    </tr>\n",
       "    <tr>\n",
       "      <td>2014</td>\n",
       "      <td>14651189.00</td>\n",
       "      <td>9.504310e+08</td>\n",
       "    </tr>\n",
       "    <tr>\n",
       "      <td>2015</td>\n",
       "      <td>54100406.00</td>\n",
       "      <td>7.506524e+08</td>\n",
       "    </tr>\n",
       "    <tr>\n",
       "      <td>2016</td>\n",
       "      <td>18685177.15</td>\n",
       "      <td>6.764400e+08</td>\n",
       "    </tr>\n",
       "    <tr>\n",
       "      <td>2017</td>\n",
       "      <td>14707742.76</td>\n",
       "      <td>8.814491e+08</td>\n",
       "    </tr>\n",
       "    <tr>\n",
       "      <td>2018</td>\n",
       "      <td>6572032.67</td>\n",
       "      <td>1.106927e+09</td>\n",
       "    </tr>\n",
       "    <tr>\n",
       "      <td>2019</td>\n",
       "      <td>9849545.00</td>\n",
       "      <td>9.446486e+08</td>\n",
       "    </tr>\n",
       "    <tr>\n",
       "      <td>2020</td>\n",
       "      <td>3628181.00</td>\n",
       "      <td>6.933860e+08</td>\n",
       "    </tr>\n",
       "    <tr>\n",
       "      <td>2021</td>\n",
       "      <td>0.00</td>\n",
       "      <td>2.671590e+05</td>\n",
       "    </tr>\n",
       "  </tbody>\n",
       "</table>\n",
       "</div>"
      ],
      "text/plain": [
       "Country Type        Other   Switzerland\n",
       "Year                                   \n",
       "1975           1422727.00  3.074641e+07\n",
       "1976           5798550.00  9.121748e+07\n",
       "1977           4920319.00  1.114744e+08\n",
       "1978           5344733.00  1.036575e+08\n",
       "1979           7064763.00  1.167330e+08\n",
       "1980           3904041.00  1.175633e+08\n",
       "1981           6689602.00  1.116979e+08\n",
       "1982           5339538.00  1.135752e+08\n",
       "1983           6220266.00  1.370960e+08\n",
       "1984           5942977.00  1.268423e+08\n",
       "1985           6240945.00  1.402211e+08\n",
       "1986           6151577.00  1.628847e+08\n",
       "1987           9358608.00  1.559327e+08\n",
       "1988          10323542.00  1.827069e+08\n",
       "1989          20723839.00  2.152159e+08\n",
       "1990          12292042.70  2.316729e+08\n",
       "1991           8775912.00  2.390177e+08\n",
       "1992           7044038.00  2.726861e+08\n",
       "1993          13082810.25  2.915037e+08\n",
       "1994          14775793.00  2.570389e+08\n",
       "1995          14559791.00  2.277817e+08\n",
       "1996          22039965.30  3.760450e+08\n",
       "1997          18145203.85  2.952179e+08\n",
       "1998           7964235.00  2.480227e+08\n",
       "1999           9247990.00  2.278827e+08\n",
       "2000          19413330.87  3.288880e+08\n",
       "2001          15796495.91  3.694170e+08\n",
       "2002          13134329.40  3.126499e+08\n",
       "2003          12090718.30  3.139421e+08\n",
       "2004           5247943.00  3.143065e+08\n",
       "2005          25152200.22  4.169781e+08\n",
       "2006          11486525.82  3.777815e+08\n",
       "2007           9623660.00  3.809150e+08\n",
       "2008          15743413.44  4.303046e+08\n",
       "2009          11561098.35  7.114365e+08\n",
       "2010          28631251.05  6.795893e+08\n",
       "2011          24822450.84  5.573921e+08\n",
       "2012          23381922.27  6.269236e+08\n",
       "2013          13461419.30  6.669620e+08\n",
       "2014          14651189.00  9.504310e+08\n",
       "2015          54100406.00  7.506524e+08\n",
       "2016          18685177.15  6.764400e+08\n",
       "2017          14707742.76  8.814491e+08\n",
       "2018           6572032.67  1.106927e+09\n",
       "2019           9849545.00  9.446486e+08\n",
       "2020           3628181.00  6.933860e+08\n",
       "2021                 0.00  2.671590e+05"
      ]
     },
     "execution_count": 56,
     "metadata": {},
     "output_type": "execute_result"
    }
   ],
   "source": [
    "df.groupby(['Year', 'Country Type'])['Approved Amount'].sum().unstack()"
   ]
  },
  {
   "cell_type": "markdown",
   "metadata": {},
   "source": [
    "Letzter Schritt: `plot()`"
   ]
  },
  {
   "cell_type": "code",
   "execution_count": 57,
   "metadata": {},
   "outputs": [
    {
     "data": {
      "text/plain": [
       "<matplotlib.axes._subplots.AxesSubplot at 0x112fedac8>"
      ]
     },
     "execution_count": 57,
     "metadata": {},
     "output_type": "execute_result"
    },
    {
     "data": {
      "image/png": "[encoded data removed]",
      "text/plain": [
       "<Figure size 864x432 with 1 Axes>"
      ]
     },
     "metadata": {
      "needs_background": "light"
     },
     "output_type": "display_data"
    }
   ],
   "source": [
    "df.groupby(['Year', 'Country Type'])['Approved Amount'].sum().unstack().plot(figsize=(12,6))"
   ]
  },
  {
   "cell_type": "markdown",
   "metadata": {},
   "source": [
    "**Quiz:** Plotten Sie den durchschnittlichen Betrag, den Universitäten, Fachhochschulen, Spitäler und andere Institutionen über die Jahre erhalten haben - alles auf derselben Grafik. Benutzen Sie dazu wieder das Dataframe \"df_swiss_classfied\" – Achtung, Sie müssen zuerst wieder eine Jahresspalte erstellen."
   ]
  },
  {
   "cell_type": "code",
   "execution_count": 58,
   "metadata": {},
   "outputs": [],
   "source": [
    "# Spalte 'Year' in df_swiss_classified erstellen\n",
    "df_swiss_classified['Year'] = df_swiss_classified['Start Date'].str[6:]"
   ]
  },
  {
   "cell_type": "code",
   "execution_count": 59,
   "metadata": {},
   "outputs": [
    {
     "data": {
      "text/plain": [
       "Year  New Type   \n",
       "1975  Other          174150.941176\n",
       "      Spital          76234.750000\n",
       "      Universität    161652.364706\n",
       "1976  Other          230368.245283\n",
       "      Spital          62150.000000\n",
       "                         ...      \n",
       "2020  Other          371548.121739\n",
       "      Spital         417934.000000\n",
       "      Universität    550115.243695\n",
       "2021  Spital           4700.000000\n",
       "      Universität     18747.071429\n",
       "Name: Approved Amount, Length: 173, dtype: float64"
      ]
     },
     "execution_count": 59,
     "metadata": {},
     "output_type": "execute_result"
    }
   ],
   "source": [
    "# Liste, nach Jahr und New Type gruppiert\n",
    "df_swiss_classified.groupby(['Year', 'New Type'])['Approved Amount'].mean()"
   ]
  },
  {
   "cell_type": "code",
   "execution_count": 60,
   "metadata": {},
   "outputs": [
    {
     "data": {
      "text/plain": [
       "<matplotlib.axes._subplots.AxesSubplot at 0x10f587a90>"
      ]
     },
     "execution_count": 60,
     "metadata": {},
     "output_type": "execute_result"
    },
    {
     "data": {
      "image/png": "[encoded data removed]",
      "text/plain": [
       "<Figure size 864x432 with 1 Axes>"
      ]
     },
     "metadata": {
      "needs_background": "light"
     },
     "output_type": "display_data"
    }
   ],
   "source": [
    "# Plot\n",
    "df_swiss_classified.groupby(['Year', 'New Type'])['Approved Amount'].mean().unstack().plot(figsize=(12,6))"
   ]
  },
  {
   "cell_type": "markdown",
   "metadata": {},
   "source": [
    "**Schlussfrage:** Haben wir nun bereits eine Story gefunden? Wenn ja, was könnte sie sein? Wenn nein, welches wären weitere Auswertungen, die man basierend auf diesen Daten machen könnte?"
   ]
  },
  {
   "cell_type": "code",
   "execution_count": 61,
   "metadata": {},
   "outputs": [],
   "source": [
    "#Antwort in Textform...\n",
    "#Zum Beispiel: Auswertung der Profile von einzelnen Forschern."
   ]
  },
  {
   "cell_type": "code",
   "execution_count": 62,
   "metadata": {},
   "outputs": [
    {
     "data": {
      "text/plain": [
       "Güntherodt Hans-Joachim    47\n",
       "Kneubühl Fritz             47\n",
       "Pestalozzi Karl            46\n",
       "Günter Peter               41\n",
       "Renaud Philippe            40\n",
       "                           ..\n",
       "Hinz Thorsten               1\n",
       "Stamatiou Anastasia         1\n",
       "Schäfer Hans-Rudolf         1\n",
       "Kovalchuk Igor              1\n",
       "Chapman Samuel              1\n",
       "Name: Responsible Applicant, Length: 28408, dtype: int64"
      ]
     },
     "execution_count": 62,
     "metadata": {},
     "output_type": "execute_result"
    }
   ],
   "source": [
    "df['Responsible Applicant'].value_counts()"
   ]
  },
  {
   "cell_type": "code",
   "execution_count": 63,
   "metadata": {},
   "outputs": [
    {
     "data": {
      "text/plain": [
       "<matplotlib.axes._subplots.AxesSubplot at 0x113816fd0>"
      ]
     },
     "execution_count": 63,
     "metadata": {},
     "output_type": "execute_result"
    },
    {
     "data": {
      "image/png": "[encoded data removed]",
      "text/plain": [
       "<Figure size 432x288 with 1 Axes>"
      ]
     },
     "metadata": {
      "needs_background": "light"
     },
     "output_type": "display_data"
    }
   ],
   "source": [
    "df[df['Responsible Applicant'] == 'Güntherodt Hans-Joachim'].groupby('Year')['Approved Amount'].sum().plot()"
   ]
  },
  {
   "cell_type": "markdown",
   "metadata": {},
   "source": [
    "# Übung"
   ]
  },
  {
   "cell_type": "markdown",
   "metadata": {},
   "source": [
    "Wir klassifizieren die Projekte nun nach Forschungsdisziplin und werten aus, welche Disziplinen zu welchem Zeitpunkt wie viel Geld gekriegt haben (wir wenden also Methode 3 an)."
   ]
  },
  {
   "cell_type": "markdown",
   "metadata": {},
   "source": [
    "**Schritt 1:** Wir erstellen eine Liste der einzigartigen Einträge im Datenfeld \"Discipline Name\" und speichern sie als csv-Datei ab. (Arbeiten Sie mit dem dataframe \"df_swiss\")"
   ]
  },
  {
   "cell_type": "code",
   "execution_count": 64,
   "metadata": {},
   "outputs": [
    {
     "data": {
      "text/html": [
       "<div>\n",
       "<style scoped>\n",
       "    .dataframe tbody tr th:only-of-type {\n",
       "        vertical-align: middle;\n",
       "    }\n",
       "\n",
       "    .dataframe tbody tr th {\n",
       "        vertical-align: top;\n",
       "    }\n",
       "\n",
       "    .dataframe thead th {\n",
       "        text-align: right;\n",
       "    }\n",
       "</style>\n",
       "<table border=\"1\" class=\"dataframe\">\n",
       "  <thead>\n",
       "    <tr style=\"text-align: right;\">\n",
       "      <th></th>\n",
       "      <th>0</th>\n",
       "    </tr>\n",
       "  </thead>\n",
       "  <tbody>\n",
       "    <tr>\n",
       "      <td>0</td>\n",
       "      <td>Educational science and Pedagogy</td>\n",
       "    </tr>\n",
       "    <tr>\n",
       "      <td>1</td>\n",
       "      <td>Philosophy</td>\n",
       "    </tr>\n",
       "    <tr>\n",
       "      <td>2</td>\n",
       "      <td>Swiss history</td>\n",
       "    </tr>\n",
       "    <tr>\n",
       "      <td>3</td>\n",
       "      <td>Ancient history and Classical studies</td>\n",
       "    </tr>\n",
       "    <tr>\n",
       "      <td>4</td>\n",
       "      <td>Economics</td>\n",
       "    </tr>\n",
       "    <tr>\n",
       "      <td>...</td>\n",
       "      <td>...</td>\n",
       "    </tr>\n",
       "    <tr>\n",
       "      <td>153</td>\n",
       "      <td>Music, Theatre</td>\n",
       "    </tr>\n",
       "    <tr>\n",
       "      <td>154</td>\n",
       "      <td>Arts</td>\n",
       "    </tr>\n",
       "    <tr>\n",
       "      <td>155</td>\n",
       "      <td>Applied psychology</td>\n",
       "    </tr>\n",
       "    <tr>\n",
       "      <td>156</td>\n",
       "      <td>Applied linguistics</td>\n",
       "    </tr>\n",
       "    <tr>\n",
       "      <td>157</td>\n",
       "      <td>Interdisciplinary</td>\n",
       "    </tr>\n",
       "  </tbody>\n",
       "</table>\n",
       "<p>158 rows × 1 columns</p>\n",
       "</div>"
      ],
      "text/plain": [
       "                                         0\n",
       "0         Educational science and Pedagogy\n",
       "1                               Philosophy\n",
       "2                            Swiss history\n",
       "3    Ancient history and Classical studies\n",
       "4                                Economics\n",
       "..                                     ...\n",
       "153                         Music, Theatre\n",
       "154                                   Arts\n",
       "155                     Applied psychology\n",
       "156                    Applied linguistics\n",
       "157                      Interdisciplinary\n",
       "\n",
       "[158 rows x 1 columns]"
      ]
     },
     "execution_count": 64,
     "metadata": {},
     "output_type": "execute_result"
    }
   ],
   "source": [
    "#Dataframe aus einzigartigen Disziplinennamen erstellen\n",
    "df_disciplines = pd.DataFrame(df_swiss['Discipline Name'].unique())\n",
    "df_disciplines"
   ]
  },
  {
   "cell_type": "code",
   "execution_count": 65,
   "metadata": {},
   "outputs": [],
   "source": [
    "# Dataframe als csv speichern\n",
    "df_disciplines.to_csv('dataprojects/SNF/disziplinen.csv', index=False)"
   ]
  },
  {
   "cell_type": "markdown",
   "metadata": {},
   "source": [
    "**Schritt 2:** Wir bearbeiten das csv-File extern und klassifizieren nach unserer Wahl"
   ]
  },
  {
   "cell_type": "code",
   "execution_count": 66,
   "metadata": {},
   "outputs": [],
   "source": [
    "#extern bearbeiten..."
   ]
  },
  {
   "cell_type": "markdown",
   "metadata": {},
   "source": [
    "**Schritt 3:** Wir fügen die Klassifizierung der Disziplinen in unsere Datenliste (Arbeiten Sie mit df) ein"
   ]
  },
  {
   "cell_type": "code",
   "execution_count": 67,
   "metadata": {},
   "outputs": [
    {
     "data": {
      "text/html": [
       "<div>\n",
       "<style scoped>\n",
       "    .dataframe tbody tr th:only-of-type {\n",
       "        vertical-align: middle;\n",
       "    }\n",
       "\n",
       "    .dataframe tbody tr th {\n",
       "        vertical-align: top;\n",
       "    }\n",
       "\n",
       "    .dataframe thead th {\n",
       "        text-align: right;\n",
       "    }\n",
       "</style>\n",
       "<table border=\"1\" class=\"dataframe\">\n",
       "  <thead>\n",
       "    <tr style=\"text-align: right;\">\n",
       "      <th></th>\n",
       "      <th>Discipline Name</th>\n",
       "      <th>Discipline Type</th>\n",
       "    </tr>\n",
       "  </thead>\n",
       "  <tbody>\n",
       "    <tr>\n",
       "      <td>0</td>\n",
       "      <td>Educational science and Pedagogy</td>\n",
       "      <td>Social Sciences</td>\n",
       "    </tr>\n",
       "    <tr>\n",
       "      <td>1</td>\n",
       "      <td>Philosophy</td>\n",
       "      <td>Social Sciences</td>\n",
       "    </tr>\n",
       "    <tr>\n",
       "      <td>2</td>\n",
       "      <td>Swiss history</td>\n",
       "      <td>Social Sciences</td>\n",
       "    </tr>\n",
       "  </tbody>\n",
       "</table>\n",
       "</div>"
      ],
      "text/plain": [
       "                    Discipline Name  Discipline Type\n",
       "0  Educational science and Pedagogy  Social Sciences\n",
       "1                        Philosophy  Social Sciences\n",
       "2                     Swiss history  Social Sciences"
      ]
     },
     "execution_count": 67,
     "metadata": {},
     "output_type": "execute_result"
    }
   ],
   "source": [
    "# Einlesen des bearbeiteten csv-Files\n",
    "df_disciplines_classified = pd.read_csv('dataprojects/SNF/disziplinen-klassifiziert.csv')\n",
    "df_disciplines_classified.head(3)"
   ]
  },
  {
   "cell_type": "code",
   "execution_count": 68,
   "metadata": {},
   "outputs": [
    {
     "data": {
      "text/html": [
       "<div>\n",
       "<style scoped>\n",
       "    .dataframe tbody tr th:only-of-type {\n",
       "        vertical-align: middle;\n",
       "    }\n",
       "\n",
       "    .dataframe tbody tr th {\n",
       "        vertical-align: top;\n",
       "    }\n",
       "\n",
       "    .dataframe thead th {\n",
       "        text-align: right;\n",
       "    }\n",
       "</style>\n",
       "<table border=\"1\" class=\"dataframe\">\n",
       "  <thead>\n",
       "    <tr style=\"text-align: right;\">\n",
       "      <th></th>\n",
       "      <th>Project Number</th>\n",
       "      <th>Project Number String</th>\n",
       "      <th>Project Title</th>\n",
       "      <th>Project Title English</th>\n",
       "      <th>Responsible Applicant</th>\n",
       "      <th>Funding Instrument</th>\n",
       "      <th>Funding Instrument Hierarchy</th>\n",
       "      <th>Institution</th>\n",
       "      <th>Institution Country</th>\n",
       "      <th>University</th>\n",
       "      <th>Discipline Number</th>\n",
       "      <th>Discipline Name</th>\n",
       "      <th>Discipline Name Hierarchy</th>\n",
       "      <th>All disciplines</th>\n",
       "      <th>Start Date</th>\n",
       "      <th>End Date</th>\n",
       "      <th>Approved Amount</th>\n",
       "      <th>Keywords</th>\n",
       "      <th>Institution Type</th>\n",
       "      <th>Discipline Type</th>\n",
       "    </tr>\n",
       "  </thead>\n",
       "  <tbody>\n",
       "    <tr>\n",
       "      <td>0</td>\n",
       "      <td>4</td>\n",
       "      <td>1000-000004</td>\n",
       "      <td>Batterie de tests à l'usage des enseignants po...</td>\n",
       "      <td>NaN</td>\n",
       "      <td>Massarenti Léonard</td>\n",
       "      <td>Project funding (Div. I-III)</td>\n",
       "      <td>Project funding</td>\n",
       "      <td>Faculté de Psychologie et des Sciences de l'Ed...</td>\n",
       "      <td>Switzerland</td>\n",
       "      <td>University of Geneva - GE</td>\n",
       "      <td>10104</td>\n",
       "      <td>Educational science and Pedagogy</td>\n",
       "      <td>Humanities and Social Sciences;Psychology, edu...</td>\n",
       "      <td>10104</td>\n",
       "      <td>01.10.1975</td>\n",
       "      <td>30.09.1976</td>\n",
       "      <td>41022.0</td>\n",
       "      <td>NaN</td>\n",
       "      <td>University</td>\n",
       "      <td>Social Sciences</td>\n",
       "    </tr>\n",
       "    <tr>\n",
       "      <td>1</td>\n",
       "      <td>21</td>\n",
       "      <td>1000-000021</td>\n",
       "      <td>Struktur und Funktion didaktischer Bezugssyste...</td>\n",
       "      <td>NaN</td>\n",
       "      <td>Santini Bruno</td>\n",
       "      <td>Project funding (Div. I-III)</td>\n",
       "      <td>Project funding</td>\n",
       "      <td>Forschungszentrum FAL</td>\n",
       "      <td>Switzerland</td>\n",
       "      <td>University of Fribourg - FR</td>\n",
       "      <td>10104</td>\n",
       "      <td>Educational science and Pedagogy</td>\n",
       "      <td>Humanities and Social Sciences;Psychology, edu...</td>\n",
       "      <td>10104</td>\n",
       "      <td>01.10.1975</td>\n",
       "      <td>30.09.1977</td>\n",
       "      <td>204018.0</td>\n",
       "      <td>NaN</td>\n",
       "      <td>University</td>\n",
       "      <td>Social Sciences</td>\n",
       "    </tr>\n",
       "  </tbody>\n",
       "</table>\n",
       "</div>"
      ],
      "text/plain": [
       "   Project Number Project Number String  \\\n",
       "0               4           1000-000004   \n",
       "1              21           1000-000021   \n",
       "\n",
       "                                       Project Title Project Title English  \\\n",
       "0  Batterie de tests à l'usage des enseignants po...                   NaN   \n",
       "1  Struktur und Funktion didaktischer Bezugssyste...                   NaN   \n",
       "\n",
       "  Responsible Applicant            Funding Instrument  \\\n",
       "0    Massarenti Léonard  Project funding (Div. I-III)   \n",
       "1         Santini Bruno  Project funding (Div. I-III)   \n",
       "\n",
       "  Funding Instrument Hierarchy  \\\n",
       "0              Project funding   \n",
       "1              Project funding   \n",
       "\n",
       "                                         Institution Institution Country  \\\n",
       "0  Faculté de Psychologie et des Sciences de l'Ed...         Switzerland   \n",
       "1                              Forschungszentrum FAL         Switzerland   \n",
       "\n",
       "                    University  Discipline Number  \\\n",
       "0    University of Geneva - GE              10104   \n",
       "1  University of Fribourg - FR              10104   \n",
       "\n",
       "                    Discipline Name  \\\n",
       "0  Educational science and Pedagogy   \n",
       "1  Educational science and Pedagogy   \n",
       "\n",
       "                           Discipline Name Hierarchy All disciplines  \\\n",
       "0  Humanities and Social Sciences;Psychology, edu...           10104   \n",
       "1  Humanities and Social Sciences;Psychology, edu...           10104   \n",
       "\n",
       "   Start Date    End Date  Approved Amount Keywords Institution Type  \\\n",
       "0  01.10.1975  30.09.1976          41022.0      NaN       University   \n",
       "1  01.10.1975  30.09.1977         204018.0      NaN       University   \n",
       "\n",
       "   Discipline Type  \n",
       "0  Social Sciences  \n",
       "1  Social Sciences  "
      ]
     },
     "execution_count": 68,
     "metadata": {},
     "output_type": "execute_result"
    }
   ],
   "source": [
    "# Verbinden Sie das dataframe \"df_swiss\" mit der Klassifizierung, abspeichern unter neuem dataframe df_swiss_classified\n",
    "df_swiss_classified = df_swiss.merge(df_disciplines_classified, how='inner', on='Discipline Name')\n",
    "df_swiss_classified.head(2)"
   ]
  },
  {
   "cell_type": "markdown",
   "metadata": {},
   "source": [
    "**Schritt 4:** Auswertungen"
   ]
  },
  {
   "cell_type": "markdown",
   "metadata": {},
   "source": [
    "- Wie viele Projekte von welchem Disziplinen-Typ wurden durchgeführt?"
   ]
  },
  {
   "cell_type": "code",
   "execution_count": 69,
   "metadata": {},
   "outputs": [
    {
     "data": {
      "text/plain": [
       "Natural Sciences    21814\n",
       "Social Sciences     17037\n",
       "Medicine            16445\n",
       "Name: Discipline Type, dtype: int64"
      ]
     },
     "execution_count": 69,
     "metadata": {},
     "output_type": "execute_result"
    }
   ],
   "source": [
    "df_swiss_classified['Discipline Type'].value_counts()"
   ]
  },
  {
   "cell_type": "markdown",
   "metadata": {},
   "source": [
    "- Welche Disziplinen-Typen haben meisten Geld gekriegt?"
   ]
  },
  {
   "cell_type": "code",
   "execution_count": 70,
   "metadata": {},
   "outputs": [
    {
     "data": {
      "text/plain": [
       "Discipline Type\n",
       "Medicine            6.390291e+09\n",
       "Natural Sciences    6.884700e+09\n",
       "Social Sciences     3.801130e+09\n",
       "Name: Approved Amount, dtype: float64"
      ]
     },
     "execution_count": 70,
     "metadata": {},
     "output_type": "execute_result"
    }
   ],
   "source": [
    "df_swiss_classified.groupby('Discipline Type')['Approved Amount'].sum()"
   ]
  },
  {
   "cell_type": "markdown",
   "metadata": {},
   "source": [
    "- Wie viel kosten Projekte der Disziplinen-Typen im Durchschnitt? Im Median?"
   ]
  },
  {
   "cell_type": "code",
   "execution_count": 71,
   "metadata": {},
   "outputs": [
    {
     "data": {
      "text/plain": [
       "Discipline Type\n",
       "Medicine            389628.160513\n",
       "Natural Sciences    316261.649545\n",
       "Social Sciences     224268.712353\n",
       "Name: Approved Amount, dtype: float64"
      ]
     },
     "execution_count": 71,
     "metadata": {},
     "output_type": "execute_result"
    }
   ],
   "source": [
    "df_swiss_classified.groupby('Discipline Type')['Approved Amount'].mean()"
   ]
  },
  {
   "cell_type": "code",
   "execution_count": 72,
   "metadata": {},
   "outputs": [
    {
     "data": {
      "text/plain": [
       "Discipline Type\n",
       "Medicine            270000.0\n",
       "Natural Sciences    200161.0\n",
       "Social Sciences     121800.0\n",
       "Name: Approved Amount, dtype: float64"
      ]
     },
     "execution_count": 72,
     "metadata": {},
     "output_type": "execute_result"
    }
   ],
   "source": [
    "df_swiss_classified.groupby('Discipline Type')['Approved Amount'].median()"
   ]
  },
  {
   "cell_type": "markdown",
   "metadata": {},
   "source": [
    "**Schritt 5:** Plot einer Auswertung"
   ]
  },
  {
   "cell_type": "markdown",
   "metadata": {},
   "source": [
    "Wie viel Geld haben die verschiedenen Disziplinentypen im Jahresverlauf insgesamt gekriegt?"
   ]
  },
  {
   "cell_type": "code",
   "execution_count": 73,
   "metadata": {},
   "outputs": [],
   "source": [
    "#Wir müssen auf df_swiss_classified nochmals den Trick mit der Jahresspalte anwenden\n",
    "df_swiss_classified['Year'] = df_swiss_classified['Start Date'].str[6:]"
   ]
  },
  {
   "cell_type": "code",
   "execution_count": 74,
   "metadata": {},
   "outputs": [
    {
     "data": {
      "text/html": [
       "<div>\n",
       "<style scoped>\n",
       "    .dataframe tbody tr th:only-of-type {\n",
       "        vertical-align: middle;\n",
       "    }\n",
       "\n",
       "    .dataframe tbody tr th {\n",
       "        vertical-align: top;\n",
       "    }\n",
       "\n",
       "    .dataframe thead th {\n",
       "        text-align: right;\n",
       "    }\n",
       "</style>\n",
       "<table border=\"1\" class=\"dataframe\">\n",
       "  <thead>\n",
       "    <tr style=\"text-align: right;\">\n",
       "      <th>Discipline Type</th>\n",
       "      <th>Medicine</th>\n",
       "      <th>Natural Sciences</th>\n",
       "      <th>Social Sciences</th>\n",
       "    </tr>\n",
       "    <tr>\n",
       "      <th>Year</th>\n",
       "      <th></th>\n",
       "      <th></th>\n",
       "      <th></th>\n",
       "    </tr>\n",
       "  </thead>\n",
       "  <tbody>\n",
       "    <tr>\n",
       "      <td>1975</td>\n",
       "      <td>1.277342e+07</td>\n",
       "      <td>1.283916e+07</td>\n",
       "      <td>5.133826e+06</td>\n",
       "    </tr>\n",
       "    <tr>\n",
       "      <td>1976</td>\n",
       "      <td>3.945418e+07</td>\n",
       "      <td>4.030315e+07</td>\n",
       "      <td>1.146016e+07</td>\n",
       "    </tr>\n",
       "    <tr>\n",
       "      <td>1977</td>\n",
       "      <td>4.146789e+07</td>\n",
       "      <td>5.275032e+07</td>\n",
       "      <td>1.725615e+07</td>\n",
       "    </tr>\n",
       "    <tr>\n",
       "      <td>1978</td>\n",
       "      <td>4.544383e+07</td>\n",
       "      <td>4.008860e+07</td>\n",
       "      <td>1.812504e+07</td>\n",
       "    </tr>\n",
       "    <tr>\n",
       "      <td>1979</td>\n",
       "      <td>4.164585e+07</td>\n",
       "      <td>5.435762e+07</td>\n",
       "      <td>2.072956e+07</td>\n",
       "    </tr>\n",
       "    <tr>\n",
       "      <td>1980</td>\n",
       "      <td>5.372031e+07</td>\n",
       "      <td>4.422708e+07</td>\n",
       "      <td>1.961593e+07</td>\n",
       "    </tr>\n",
       "    <tr>\n",
       "      <td>1981</td>\n",
       "      <td>4.363928e+07</td>\n",
       "      <td>4.803530e+07</td>\n",
       "      <td>2.002329e+07</td>\n",
       "    </tr>\n",
       "    <tr>\n",
       "      <td>1982</td>\n",
       "      <td>4.150669e+07</td>\n",
       "      <td>4.732691e+07</td>\n",
       "      <td>2.474160e+07</td>\n",
       "    </tr>\n",
       "    <tr>\n",
       "      <td>1983</td>\n",
       "      <td>4.869910e+07</td>\n",
       "      <td>6.506768e+07</td>\n",
       "      <td>2.332920e+07</td>\n",
       "    </tr>\n",
       "    <tr>\n",
       "      <td>1984</td>\n",
       "      <td>5.035559e+07</td>\n",
       "      <td>5.424918e+07</td>\n",
       "      <td>2.223751e+07</td>\n",
       "    </tr>\n",
       "    <tr>\n",
       "      <td>1985</td>\n",
       "      <td>5.034760e+07</td>\n",
       "      <td>6.618903e+07</td>\n",
       "      <td>2.368445e+07</td>\n",
       "    </tr>\n",
       "    <tr>\n",
       "      <td>1986</td>\n",
       "      <td>5.736740e+07</td>\n",
       "      <td>7.884838e+07</td>\n",
       "      <td>2.666892e+07</td>\n",
       "    </tr>\n",
       "    <tr>\n",
       "      <td>1987</td>\n",
       "      <td>5.905857e+07</td>\n",
       "      <td>7.457414e+07</td>\n",
       "      <td>2.229997e+07</td>\n",
       "    </tr>\n",
       "    <tr>\n",
       "      <td>1988</td>\n",
       "      <td>7.117266e+07</td>\n",
       "      <td>8.447224e+07</td>\n",
       "      <td>2.706203e+07</td>\n",
       "    </tr>\n",
       "    <tr>\n",
       "      <td>1989</td>\n",
       "      <td>9.140268e+07</td>\n",
       "      <td>9.551655e+07</td>\n",
       "      <td>2.829667e+07</td>\n",
       "    </tr>\n",
       "    <tr>\n",
       "      <td>1990</td>\n",
       "      <td>8.907766e+07</td>\n",
       "      <td>1.052522e+08</td>\n",
       "      <td>3.734305e+07</td>\n",
       "    </tr>\n",
       "    <tr>\n",
       "      <td>1991</td>\n",
       "      <td>9.936455e+07</td>\n",
       "      <td>1.068955e+08</td>\n",
       "      <td>3.275765e+07</td>\n",
       "    </tr>\n",
       "    <tr>\n",
       "      <td>1992</td>\n",
       "      <td>1.057700e+08</td>\n",
       "      <td>1.337643e+08</td>\n",
       "      <td>3.315186e+07</td>\n",
       "    </tr>\n",
       "    <tr>\n",
       "      <td>1993</td>\n",
       "      <td>1.016589e+08</td>\n",
       "      <td>1.375942e+08</td>\n",
       "      <td>5.225066e+07</td>\n",
       "    </tr>\n",
       "    <tr>\n",
       "      <td>1994</td>\n",
       "      <td>1.084748e+08</td>\n",
       "      <td>1.100609e+08</td>\n",
       "      <td>3.850317e+07</td>\n",
       "    </tr>\n",
       "    <tr>\n",
       "      <td>1995</td>\n",
       "      <td>9.593347e+07</td>\n",
       "      <td>1.032167e+08</td>\n",
       "      <td>2.863154e+07</td>\n",
       "    </tr>\n",
       "    <tr>\n",
       "      <td>1996</td>\n",
       "      <td>1.601430e+08</td>\n",
       "      <td>1.619736e+08</td>\n",
       "      <td>5.392853e+07</td>\n",
       "    </tr>\n",
       "    <tr>\n",
       "      <td>1997</td>\n",
       "      <td>1.183700e+08</td>\n",
       "      <td>1.175699e+08</td>\n",
       "      <td>5.927801e+07</td>\n",
       "    </tr>\n",
       "    <tr>\n",
       "      <td>1998</td>\n",
       "      <td>1.011167e+08</td>\n",
       "      <td>1.053454e+08</td>\n",
       "      <td>4.156064e+07</td>\n",
       "    </tr>\n",
       "    <tr>\n",
       "      <td>1999</td>\n",
       "      <td>9.078031e+07</td>\n",
       "      <td>1.085143e+08</td>\n",
       "      <td>2.858807e+07</td>\n",
       "    </tr>\n",
       "    <tr>\n",
       "      <td>2000</td>\n",
       "      <td>1.323950e+08</td>\n",
       "      <td>1.320919e+08</td>\n",
       "      <td>6.440108e+07</td>\n",
       "    </tr>\n",
       "    <tr>\n",
       "      <td>2001</td>\n",
       "      <td>1.578869e+08</td>\n",
       "      <td>1.534783e+08</td>\n",
       "      <td>5.805182e+07</td>\n",
       "    </tr>\n",
       "    <tr>\n",
       "      <td>2002</td>\n",
       "      <td>1.273336e+08</td>\n",
       "      <td>1.402571e+08</td>\n",
       "      <td>4.505908e+07</td>\n",
       "    </tr>\n",
       "    <tr>\n",
       "      <td>2003</td>\n",
       "      <td>1.263659e+08</td>\n",
       "      <td>1.240396e+08</td>\n",
       "      <td>6.353663e+07</td>\n",
       "    </tr>\n",
       "    <tr>\n",
       "      <td>2004</td>\n",
       "      <td>1.272175e+08</td>\n",
       "      <td>1.253678e+08</td>\n",
       "      <td>6.172119e+07</td>\n",
       "    </tr>\n",
       "    <tr>\n",
       "      <td>2005</td>\n",
       "      <td>1.609479e+08</td>\n",
       "      <td>1.547465e+08</td>\n",
       "      <td>1.012836e+08</td>\n",
       "    </tr>\n",
       "    <tr>\n",
       "      <td>2006</td>\n",
       "      <td>1.526199e+08</td>\n",
       "      <td>1.448704e+08</td>\n",
       "      <td>8.029117e+07</td>\n",
       "    </tr>\n",
       "    <tr>\n",
       "      <td>2007</td>\n",
       "      <td>1.408307e+08</td>\n",
       "      <td>1.528031e+08</td>\n",
       "      <td>8.728117e+07</td>\n",
       "    </tr>\n",
       "    <tr>\n",
       "      <td>2008</td>\n",
       "      <td>1.412946e+08</td>\n",
       "      <td>1.824676e+08</td>\n",
       "      <td>1.065423e+08</td>\n",
       "    </tr>\n",
       "    <tr>\n",
       "      <td>2009</td>\n",
       "      <td>2.638611e+08</td>\n",
       "      <td>2.902172e+08</td>\n",
       "      <td>1.573582e+08</td>\n",
       "    </tr>\n",
       "    <tr>\n",
       "      <td>2010</td>\n",
       "      <td>2.792202e+08</td>\n",
       "      <td>2.715910e+08</td>\n",
       "      <td>1.287780e+08</td>\n",
       "    </tr>\n",
       "    <tr>\n",
       "      <td>2011</td>\n",
       "      <td>2.122446e+08</td>\n",
       "      <td>2.190039e+08</td>\n",
       "      <td>1.261437e+08</td>\n",
       "    </tr>\n",
       "    <tr>\n",
       "      <td>2012</td>\n",
       "      <td>2.498772e+08</td>\n",
       "      <td>2.373125e+08</td>\n",
       "      <td>1.397339e+08</td>\n",
       "    </tr>\n",
       "    <tr>\n",
       "      <td>2013</td>\n",
       "      <td>2.374799e+08</td>\n",
       "      <td>2.593372e+08</td>\n",
       "      <td>1.701448e+08</td>\n",
       "    </tr>\n",
       "    <tr>\n",
       "      <td>2014</td>\n",
       "      <td>3.667080e+08</td>\n",
       "      <td>3.696790e+08</td>\n",
       "      <td>2.140440e+08</td>\n",
       "    </tr>\n",
       "    <tr>\n",
       "      <td>2015</td>\n",
       "      <td>2.621912e+08</td>\n",
       "      <td>3.112571e+08</td>\n",
       "      <td>1.772040e+08</td>\n",
       "    </tr>\n",
       "    <tr>\n",
       "      <td>2016</td>\n",
       "      <td>2.481920e+08</td>\n",
       "      <td>2.622494e+08</td>\n",
       "      <td>1.659985e+08</td>\n",
       "    </tr>\n",
       "    <tr>\n",
       "      <td>2017</td>\n",
       "      <td>2.885125e+08</td>\n",
       "      <td>3.166521e+08</td>\n",
       "      <td>2.762846e+08</td>\n",
       "    </tr>\n",
       "    <tr>\n",
       "      <td>2018</td>\n",
       "      <td>3.618353e+08</td>\n",
       "      <td>4.196148e+08</td>\n",
       "      <td>3.254769e+08</td>\n",
       "    </tr>\n",
       "    <tr>\n",
       "      <td>2019</td>\n",
       "      <td>3.128907e+08</td>\n",
       "      <td>3.302544e+08</td>\n",
       "      <td>3.015035e+08</td>\n",
       "    </tr>\n",
       "    <tr>\n",
       "      <td>2020</td>\n",
       "      <td>2.214404e+08</td>\n",
       "      <td>2.383614e+08</td>\n",
       "      <td>2.335842e+08</td>\n",
       "    </tr>\n",
       "    <tr>\n",
       "      <td>2021</td>\n",
       "      <td>2.018590e+05</td>\n",
       "      <td>1.500000e+04</td>\n",
       "      <td>5.030000e+04</td>\n",
       "    </tr>\n",
       "  </tbody>\n",
       "</table>\n",
       "</div>"
      ],
      "text/plain": [
       "Discipline Type      Medicine  Natural Sciences  Social Sciences\n",
       "Year                                                            \n",
       "1975             1.277342e+07      1.283916e+07     5.133826e+06\n",
       "1976             3.945418e+07      4.030315e+07     1.146016e+07\n",
       "1977             4.146789e+07      5.275032e+07     1.725615e+07\n",
       "1978             4.544383e+07      4.008860e+07     1.812504e+07\n",
       "1979             4.164585e+07      5.435762e+07     2.072956e+07\n",
       "1980             5.372031e+07      4.422708e+07     1.961593e+07\n",
       "1981             4.363928e+07      4.803530e+07     2.002329e+07\n",
       "1982             4.150669e+07      4.732691e+07     2.474160e+07\n",
       "1983             4.869910e+07      6.506768e+07     2.332920e+07\n",
       "1984             5.035559e+07      5.424918e+07     2.223751e+07\n",
       "1985             5.034760e+07      6.618903e+07     2.368445e+07\n",
       "1986             5.736740e+07      7.884838e+07     2.666892e+07\n",
       "1987             5.905857e+07      7.457414e+07     2.229997e+07\n",
       "1988             7.117266e+07      8.447224e+07     2.706203e+07\n",
       "1989             9.140268e+07      9.551655e+07     2.829667e+07\n",
       "1990             8.907766e+07      1.052522e+08     3.734305e+07\n",
       "1991             9.936455e+07      1.068955e+08     3.275765e+07\n",
       "1992             1.057700e+08      1.337643e+08     3.315186e+07\n",
       "1993             1.016589e+08      1.375942e+08     5.225066e+07\n",
       "1994             1.084748e+08      1.100609e+08     3.850317e+07\n",
       "1995             9.593347e+07      1.032167e+08     2.863154e+07\n",
       "1996             1.601430e+08      1.619736e+08     5.392853e+07\n",
       "1997             1.183700e+08      1.175699e+08     5.927801e+07\n",
       "1998             1.011167e+08      1.053454e+08     4.156064e+07\n",
       "1999             9.078031e+07      1.085143e+08     2.858807e+07\n",
       "2000             1.323950e+08      1.320919e+08     6.440108e+07\n",
       "2001             1.578869e+08      1.534783e+08     5.805182e+07\n",
       "2002             1.273336e+08      1.402571e+08     4.505908e+07\n",
       "2003             1.263659e+08      1.240396e+08     6.353663e+07\n",
       "2004             1.272175e+08      1.253678e+08     6.172119e+07\n",
       "2005             1.609479e+08      1.547465e+08     1.012836e+08\n",
       "2006             1.526199e+08      1.448704e+08     8.029117e+07\n",
       "2007             1.408307e+08      1.528031e+08     8.728117e+07\n",
       "2008             1.412946e+08      1.824676e+08     1.065423e+08\n",
       "2009             2.638611e+08      2.902172e+08     1.573582e+08\n",
       "2010             2.792202e+08      2.715910e+08     1.287780e+08\n",
       "2011             2.122446e+08      2.190039e+08     1.261437e+08\n",
       "2012             2.498772e+08      2.373125e+08     1.397339e+08\n",
       "2013             2.374799e+08      2.593372e+08     1.701448e+08\n",
       "2014             3.667080e+08      3.696790e+08     2.140440e+08\n",
       "2015             2.621912e+08      3.112571e+08     1.772040e+08\n",
       "2016             2.481920e+08      2.622494e+08     1.659985e+08\n",
       "2017             2.885125e+08      3.166521e+08     2.762846e+08\n",
       "2018             3.618353e+08      4.196148e+08     3.254769e+08\n",
       "2019             3.128907e+08      3.302544e+08     3.015035e+08\n",
       "2020             2.214404e+08      2.383614e+08     2.335842e+08\n",
       "2021             2.018590e+05      1.500000e+04     5.030000e+04"
      ]
     },
     "execution_count": 74,
     "metadata": {},
     "output_type": "execute_result"
    }
   ],
   "source": [
    "# Tabelle anzeigen: Summe der gesprochenen Gelder, gruppiert nach Jahr und Disziplinentyp\n",
    "df_swiss_classified.groupby(['Year', 'Discipline Type'])['Approved Amount'].sum().unstack()"
   ]
  },
  {
   "cell_type": "code",
   "execution_count": 75,
   "metadata": {},
   "outputs": [
    {
     "data": {
      "text/plain": [
       "<matplotlib.axes._subplots.AxesSubplot at 0x114dfda58>"
      ]
     },
     "execution_count": 75,
     "metadata": {},
     "output_type": "execute_result"
    },
    {
     "data": {
      "image/png": "[encoded data removed]",
      "text/plain": [
       "<Figure size 864x432 with 1 Axes>"
      ]
     },
     "metadata": {
      "needs_background": "light"
     },
     "output_type": "display_data"
    }
   ],
   "source": [
    "#Plot als Liniendiagramm\n",
    "df_swiss_classified.groupby(['Year', 'Discipline Type'])['Approved Amount'].sum().unstack().plot(figsize=(12,6))"
   ]
  },
  {
   "cell_type": "code",
   "execution_count": null,
   "metadata": {},
   "outputs": [],
   "source": []
  },
  {
   "cell_type": "code",
   "execution_count": null,
   "metadata": {},
   "outputs": [],
   "source": []
  },
  {
   "cell_type": "code",
   "execution_count": null,
   "metadata": {},
   "outputs": [],
   "source": []
  },
  {
   "cell_type": "code",
   "execution_count": null,
   "metadata": {},
   "outputs": [],
   "source": []
  },
  {
   "cell_type": "code",
   "execution_count": null,
   "metadata": {},
   "outputs": [],
   "source": []
  }
 ],
 "metadata": {
  "kernelspec": {
   "display_name": "Python 3",
   "language": "python",
   "name": "python3"
  },
  "language_info": {
   "codemirror_mode": {
    "name": "ipython",
    "version": 3
   },
   "file_extension": ".py",
   "mimetype": "text/x-python",
   "name": "python",
   "nbconvert_exporter": "python",
   "pygments_lexer": "ipython3",
   "version": "3.7.3"
  }
 },
 "nbformat": 4,
 "nbformat_minor": 2
}
