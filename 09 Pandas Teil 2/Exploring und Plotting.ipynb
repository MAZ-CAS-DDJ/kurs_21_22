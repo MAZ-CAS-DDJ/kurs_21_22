{
 "cells": [
  {
   "cell_type": "markdown",
   "metadata": {},
   "source": [
    "# Exploring und Plotting"
   ]
  },
  {
   "cell_type": "markdown",
   "metadata": {},
   "source": [
    "**Inhalt:** Selbständige Übung in Gruppen\n",
    "\n",
    "**Nötige Skills:** Erste Schritte mit Pandas\n",
    "\n",
    "**Lernziele:**\n",
    "- Daten herunterladen und einlesbar aufbereiten\n",
    "- Selbständig Daten explorieren und Storyideen testen\n",
    "- Colormaps kennenlernen"
   ]
  },
  {
   "cell_type": "markdown",
   "metadata": {},
   "source": [
    "# Das Beispiel"
   ]
  },
  {
   "cell_type": "markdown",
   "metadata": {},
   "source": [
    "Temperaturdaten von Meteoschweiz.\n",
    "\n",
    "Quelle und Dokumentation: https://www.meteoschweiz.admin.ch/home/klima/schweizer-klima-im-detail/schweizer-temperaturmittel/daten-schweizer-temperaturmittel.html\n",
    "\n",
    "Datenfile: https://www.meteoschweiz.admin.ch/product/input/climate-data/swissmean/10.18751-Climate-Timeseries-CHTM-1.1-swiss.txt\n",
    "\n",
    "Speichern Sie die Datei an einem geeigneten Ort, zB im Unterornder `dataprojects/Meteoschweiz/`"
   ]
  },
  {
   "cell_type": "markdown",
   "metadata": {},
   "source": [
    "## Vorbereitung"
   ]
  },
  {
   "cell_type": "markdown",
   "metadata": {},
   "source": [
    "Wir laden die übliche Library:"
   ]
  },
  {
   "cell_type": "code",
   "execution_count": 2,
   "metadata": {},
   "outputs": [],
   "source": [
    "import pandas as pd"
   ]
  },
  {
   "cell_type": "code",
   "execution_count": null,
   "metadata": {},
   "outputs": [],
   "source": []
  },
  {
   "cell_type": "markdown",
   "metadata": {},
   "source": [
    "## Datenfile laden"
   ]
  },
  {
   "cell_type": "code",
   "execution_count": 3,
   "metadata": {},
   "outputs": [],
   "source": [
    "path = \"dataprojects/Meteoschweiz/10.18751-Climate-Timeseries-CHTM-1.1-swiss_edited.xlsx\""
   ]
  },
  {
   "cell_type": "code",
   "execution_count": 4,
   "metadata": {},
   "outputs": [],
   "source": [
    "df = pd.read_excel(path)"
   ]
  },
  {
   "cell_type": "code",
   "execution_count": 5,
   "metadata": {},
   "outputs": [
    {
     "data": {
      "text/html": [
       "<div>\n",
       "<style scoped>\n",
       "    .dataframe tbody tr th:only-of-type {\n",
       "        vertical-align: middle;\n",
       "    }\n",
       "\n",
       "    .dataframe tbody tr th {\n",
       "        vertical-align: top;\n",
       "    }\n",
       "\n",
       "    .dataframe thead th {\n",
       "        text-align: right;\n",
       "    }\n",
       "</style>\n",
       "<table border=\"1\" class=\"dataframe\">\n",
       "  <thead>\n",
       "    <tr style=\"text-align: right;\">\n",
       "      <th></th>\n",
       "      <th>time</th>\n",
       "      <th>jan</th>\n",
       "      <th>feb</th>\n",
       "      <th>mar</th>\n",
       "      <th>apr</th>\n",
       "      <th>may</th>\n",
       "      <th>jun</th>\n",
       "      <th>jul</th>\n",
       "      <th>aug</th>\n",
       "      <th>sep</th>\n",
       "      <th>oct</th>\n",
       "      <th>nov</th>\n",
       "      <th>dec</th>\n",
       "    </tr>\n",
       "  </thead>\n",
       "  <tbody>\n",
       "    <tr>\n",
       "      <th>0</th>\n",
       "      <td>1864</td>\n",
       "      <td>-7.10</td>\n",
       "      <td>-4.52</td>\n",
       "      <td>0.04</td>\n",
       "      <td>2.11</td>\n",
       "      <td>7.43</td>\n",
       "      <td>9.48</td>\n",
       "      <td>12.37</td>\n",
       "      <td>10.95</td>\n",
       "      <td>8.59</td>\n",
       "      <td>3.50</td>\n",
       "      <td>-0.51</td>\n",
       "      <td>-4.47</td>\n",
       "    </tr>\n",
       "    <tr>\n",
       "      <th>1</th>\n",
       "      <td>1865</td>\n",
       "      <td>-3.47</td>\n",
       "      <td>-6.25</td>\n",
       "      <td>-5.91</td>\n",
       "      <td>7.03</td>\n",
       "      <td>10.09</td>\n",
       "      <td>10.98</td>\n",
       "      <td>13.99</td>\n",
       "      <td>11.16</td>\n",
       "      <td>11.90</td>\n",
       "      <td>5.19</td>\n",
       "      <td>1.26</td>\n",
       "      <td>-3.07</td>\n",
       "    </tr>\n",
       "    <tr>\n",
       "      <th>2</th>\n",
       "      <td>1866</td>\n",
       "      <td>-1.31</td>\n",
       "      <td>-0.42</td>\n",
       "      <td>-1.00</td>\n",
       "      <td>4.11</td>\n",
       "      <td>4.95</td>\n",
       "      <td>12.02</td>\n",
       "      <td>12.25</td>\n",
       "      <td>9.98</td>\n",
       "      <td>9.70</td>\n",
       "      <td>5.34</td>\n",
       "      <td>-0.20</td>\n",
       "      <td>-0.49</td>\n",
       "    </tr>\n",
       "    <tr>\n",
       "      <th>3</th>\n",
       "      <td>1867</td>\n",
       "      <td>-3.87</td>\n",
       "      <td>0.56</td>\n",
       "      <td>-0.13</td>\n",
       "      <td>3.49</td>\n",
       "      <td>7.74</td>\n",
       "      <td>10.57</td>\n",
       "      <td>11.29</td>\n",
       "      <td>12.93</td>\n",
       "      <td>10.43</td>\n",
       "      <td>2.92</td>\n",
       "      <td>-1.43</td>\n",
       "      <td>-5.80</td>\n",
       "    </tr>\n",
       "    <tr>\n",
       "      <th>4</th>\n",
       "      <td>1868</td>\n",
       "      <td>-5.46</td>\n",
       "      <td>-1.53</td>\n",
       "      <td>-2.30</td>\n",
       "      <td>2.33</td>\n",
       "      <td>12.04</td>\n",
       "      <td>11.97</td>\n",
       "      <td>12.89</td>\n",
       "      <td>12.50</td>\n",
       "      <td>11.12</td>\n",
       "      <td>4.76</td>\n",
       "      <td>-1.98</td>\n",
       "      <td>1.27</td>\n",
       "    </tr>\n",
       "    <tr>\n",
       "      <th>...</th>\n",
       "      <td>...</td>\n",
       "      <td>...</td>\n",
       "      <td>...</td>\n",
       "      <td>...</td>\n",
       "      <td>...</td>\n",
       "      <td>...</td>\n",
       "      <td>...</td>\n",
       "      <td>...</td>\n",
       "      <td>...</td>\n",
       "      <td>...</td>\n",
       "      <td>...</td>\n",
       "      <td>...</td>\n",
       "      <td>...</td>\n",
       "    </tr>\n",
       "    <tr>\n",
       "      <th>152</th>\n",
       "      <td>2016</td>\n",
       "      <td>-1.10</td>\n",
       "      <td>-0.19</td>\n",
       "      <td>0.14</td>\n",
       "      <td>4.57</td>\n",
       "      <td>7.88</td>\n",
       "      <td>11.97</td>\n",
       "      <td>15.09</td>\n",
       "      <td>14.80</td>\n",
       "      <td>12.54</td>\n",
       "      <td>5.38</td>\n",
       "      <td>1.82</td>\n",
       "      <td>-0.11</td>\n",
       "    </tr>\n",
       "    <tr>\n",
       "      <th>153</th>\n",
       "      <td>2017</td>\n",
       "      <td>-5.15</td>\n",
       "      <td>0.46</td>\n",
       "      <td>4.11</td>\n",
       "      <td>4.42</td>\n",
       "      <td>9.80</td>\n",
       "      <td>15.18</td>\n",
       "      <td>15.05</td>\n",
       "      <td>15.45</td>\n",
       "      <td>8.65</td>\n",
       "      <td>7.78</td>\n",
       "      <td>0.88</td>\n",
       "      <td>-2.43</td>\n",
       "    </tr>\n",
       "    <tr>\n",
       "      <th>154</th>\n",
       "      <td>2018</td>\n",
       "      <td>0.48</td>\n",
       "      <td>-5.21</td>\n",
       "      <td>-0.21</td>\n",
       "      <td>7.81</td>\n",
       "      <td>10.43</td>\n",
       "      <td>13.81</td>\n",
       "      <td>16.24</td>\n",
       "      <td>15.89</td>\n",
       "      <td>12.56</td>\n",
       "      <td>8.04</td>\n",
       "      <td>2.79</td>\n",
       "      <td>-0.11</td>\n",
       "    </tr>\n",
       "    <tr>\n",
       "      <th>155</th>\n",
       "      <td>2019</td>\n",
       "      <td>-4.37</td>\n",
       "      <td>0.73</td>\n",
       "      <td>2.27</td>\n",
       "      <td>4.47</td>\n",
       "      <td>6.08</td>\n",
       "      <td>15.25</td>\n",
       "      <td>16.21</td>\n",
       "      <td>15.10</td>\n",
       "      <td>11.37</td>\n",
       "      <td>8.45</td>\n",
       "      <td>1.51</td>\n",
       "      <td>0.78</td>\n",
       "    </tr>\n",
       "    <tr>\n",
       "      <th>156</th>\n",
       "      <td>2020</td>\n",
       "      <td>-0.28</td>\n",
       "      <td>1.62</td>\n",
       "      <td>1.53</td>\n",
       "      <td>7.62</td>\n",
       "      <td>9.53</td>\n",
       "      <td>11.82</td>\n",
       "      <td>15.40</td>\n",
       "      <td>15.20</td>\n",
       "      <td>11.87</td>\n",
       "      <td>5.36</td>\n",
       "      <td>3.69</td>\n",
       "      <td>-1.18</td>\n",
       "    </tr>\n",
       "  </tbody>\n",
       "</table>\n",
       "<p>157 rows × 13 columns</p>\n",
       "</div>"
      ],
      "text/plain": [
       "     time   jan   feb   mar   apr    may    jun    jul    aug    sep   oct  \\\n",
       "0    1864 -7.10 -4.52  0.04  2.11   7.43   9.48  12.37  10.95   8.59  3.50   \n",
       "1    1865 -3.47 -6.25 -5.91  7.03  10.09  10.98  13.99  11.16  11.90  5.19   \n",
       "2    1866 -1.31 -0.42 -1.00  4.11   4.95  12.02  12.25   9.98   9.70  5.34   \n",
       "3    1867 -3.87  0.56 -0.13  3.49   7.74  10.57  11.29  12.93  10.43  2.92   \n",
       "4    1868 -5.46 -1.53 -2.30  2.33  12.04  11.97  12.89  12.50  11.12  4.76   \n",
       "..    ...   ...   ...   ...   ...    ...    ...    ...    ...    ...   ...   \n",
       "152  2016 -1.10 -0.19  0.14  4.57   7.88  11.97  15.09  14.80  12.54  5.38   \n",
       "153  2017 -5.15  0.46  4.11  4.42   9.80  15.18  15.05  15.45   8.65  7.78   \n",
       "154  2018  0.48 -5.21 -0.21  7.81  10.43  13.81  16.24  15.89  12.56  8.04   \n",
       "155  2019 -4.37  0.73  2.27  4.47   6.08  15.25  16.21  15.10  11.37  8.45   \n",
       "156  2020 -0.28  1.62  1.53  7.62   9.53  11.82  15.40  15.20  11.87  5.36   \n",
       "\n",
       "      nov   dec  \n",
       "0   -0.51 -4.47  \n",
       "1    1.26 -3.07  \n",
       "2   -0.20 -0.49  \n",
       "3   -1.43 -5.80  \n",
       "4   -1.98  1.27  \n",
       "..    ...   ...  \n",
       "152  1.82 -0.11  \n",
       "153  0.88 -2.43  \n",
       "154  2.79 -0.11  \n",
       "155  1.51  0.78  \n",
       "156  3.69 -1.18  \n",
       "\n",
       "[157 rows x 13 columns]"
      ]
     },
     "execution_count": 5,
     "metadata": {},
     "output_type": "execute_result"
    }
   ],
   "source": [
    "df"
   ]
  },
  {
   "cell_type": "markdown",
   "metadata": {},
   "source": [
    "## Daten checken"
   ]
  },
  {
   "cell_type": "markdown",
   "metadata": {},
   "source": [
    "**Länge und Spalten**"
   ]
  },
  {
   "cell_type": "code",
   "execution_count": null,
   "metadata": {},
   "outputs": [],
   "source": [
    "df.shape"
   ]
  },
  {
   "cell_type": "markdown",
   "metadata": {},
   "source": [
    "**Integrität**"
   ]
  },
  {
   "cell_type": "code",
   "execution_count": null,
   "metadata": {},
   "outputs": [],
   "source": [
    "df.dtypes"
   ]
  },
  {
   "cell_type": "code",
   "execution_count": null,
   "metadata": {},
   "outputs": [],
   "source": []
  },
  {
   "cell_type": "markdown",
   "metadata": {},
   "source": [
    "**Was bedeuten die einzelnen Spalten?**"
   ]
  },
  {
   "cell_type": "code",
   "execution_count": null,
   "metadata": {},
   "outputs": [],
   "source": []
  },
  {
   "cell_type": "markdown",
   "metadata": {},
   "source": [
    "## Explorieren"
   ]
  },
  {
   "cell_type": "markdown",
   "metadata": {},
   "source": [
    "Ihr Ziel ist, aus den Temperaturdaten eine einfache Story zu generieren.\n",
    "\n",
    "Überlegen Sie sich dazu:\n",
    "- Welche Fragen richten Sie an das Temperaturdaten-Set?\n",
    "- Welche Auswertungen sind nötig, um die Fragen zu beanworten?\n",
    "- Wie stellen Sie die Resultate mittels Grafiken dar?\n",
    "\n",
    "Arbeiten Sie in Gruppen, um ein Ergebnis zu erarbeiten:\n",
    "- Drei bis vier Sätze, welche die Story zusammenfassen\n",
    "- eine oder mehrere Grafiken, die das Ergebnis illustrieren"
   ]
  },
  {
   "cell_type": "code",
   "execution_count": null,
   "metadata": {},
   "outputs": [],
   "source": []
  },
  {
   "cell_type": "code",
   "execution_count": null,
   "metadata": {},
   "outputs": [],
   "source": []
  },
  {
   "cell_type": "code",
   "execution_count": null,
   "metadata": {},
   "outputs": [],
   "source": []
  },
  {
   "cell_type": "code",
   "execution_count": null,
   "metadata": {},
   "outputs": [],
   "source": []
  },
  {
   "cell_type": "code",
   "execution_count": null,
   "metadata": {},
   "outputs": [],
   "source": []
  },
  {
   "cell_type": "code",
   "execution_count": null,
   "metadata": {},
   "outputs": [],
   "source": []
  },
  {
   "cell_type": "code",
   "execution_count": null,
   "metadata": {},
   "outputs": [],
   "source": []
  },
  {
   "cell_type": "code",
   "execution_count": null,
   "metadata": {},
   "outputs": [],
   "source": []
  },
  {
   "cell_type": "code",
   "execution_count": null,
   "metadata": {},
   "outputs": [],
   "source": []
  },
  {
   "cell_type": "code",
   "execution_count": null,
   "metadata": {},
   "outputs": [],
   "source": []
  },
  {
   "cell_type": "code",
   "execution_count": null,
   "metadata": {},
   "outputs": [],
   "source": []
  },
  {
   "cell_type": "code",
   "execution_count": null,
   "metadata": {},
   "outputs": [],
   "source": []
  },
  {
   "cell_type": "code",
   "execution_count": null,
   "metadata": {},
   "outputs": [],
   "source": []
  },
  {
   "cell_type": "code",
   "execution_count": null,
   "metadata": {},
   "outputs": [],
   "source": []
  },
  {
   "cell_type": "code",
   "execution_count": null,
   "metadata": {},
   "outputs": [],
   "source": []
  },
  {
   "cell_type": "code",
   "execution_count": null,
   "metadata": {},
   "outputs": [],
   "source": []
  },
  {
   "cell_type": "code",
   "execution_count": null,
   "metadata": {},
   "outputs": [],
   "source": []
  },
  {
   "cell_type": "code",
   "execution_count": null,
   "metadata": {},
   "outputs": [],
   "source": []
  },
  {
   "cell_type": "code",
   "execution_count": null,
   "metadata": {},
   "outputs": [],
   "source": []
  },
  {
   "cell_type": "code",
   "execution_count": null,
   "metadata": {},
   "outputs": [],
   "source": []
  },
  {
   "cell_type": "code",
   "execution_count": null,
   "metadata": {},
   "outputs": [],
   "source": []
  },
  {
   "cell_type": "code",
   "execution_count": null,
   "metadata": {},
   "outputs": [],
   "source": []
  },
  {
   "cell_type": "markdown",
   "metadata": {},
   "source": [
    "### Story"
   ]
  },
  {
   "cell_type": "markdown",
   "metadata": {},
   "source": [
    "Führen Sie zum Schluss hier Ihren \"Pitch\" and die Redaktion auf, mit Grafik und Kurzbeschrieb"
   ]
  },
  {
   "cell_type": "code",
   "execution_count": null,
   "metadata": {},
   "outputs": [],
   "source": []
  },
  {
   "cell_type": "code",
   "execution_count": null,
   "metadata": {},
   "outputs": [],
   "source": []
  },
  {
   "cell_type": "code",
   "execution_count": null,
   "metadata": {},
   "outputs": [],
   "source": []
  },
  {
   "cell_type": "code",
   "execution_count": null,
   "metadata": {},
   "outputs": [],
   "source": []
  },
  {
   "cell_type": "code",
   "execution_count": null,
   "metadata": {},
   "outputs": [],
   "source": []
  },
  {
   "cell_type": "code",
   "execution_count": null,
   "metadata": {},
   "outputs": [],
   "source": []
  },
  {
   "cell_type": "code",
   "execution_count": null,
   "metadata": {},
   "outputs": [],
   "source": []
  },
  {
   "cell_type": "code",
   "execution_count": null,
   "metadata": {},
   "outputs": [],
   "source": []
  },
  {
   "cell_type": "code",
   "execution_count": null,
   "metadata": {},
   "outputs": [],
   "source": []
  },
  {
   "cell_type": "code",
   "execution_count": null,
   "metadata": {},
   "outputs": [],
   "source": []
  },
  {
   "cell_type": "code",
   "execution_count": null,
   "metadata": {},
   "outputs": [],
   "source": []
  },
  {
   "cell_type": "code",
   "execution_count": null,
   "metadata": {},
   "outputs": [],
   "source": []
  },
  {
   "cell_type": "code",
   "execution_count": null,
   "metadata": {},
   "outputs": [],
   "source": []
  },
  {
   "cell_type": "code",
   "execution_count": null,
   "metadata": {},
   "outputs": [],
   "source": []
  },
  {
   "cell_type": "code",
   "execution_count": null,
   "metadata": {},
   "outputs": [],
   "source": []
  }
 ],
 "metadata": {
  "kernelspec": {
   "display_name": "Python 3",
   "language": "python",
   "name": "python3"
  },
  "language_info": {
   "codemirror_mode": {
    "name": "ipython",
    "version": 3
   },
   "file_extension": ".py",
   "mimetype": "text/x-python",
   "name": "python",
   "nbconvert_exporter": "python",
   "pygments_lexer": "ipython3",
   "version": "3.8.2"
  }
 },
 "nbformat": 4,
 "nbformat_minor": 2
}
