{
 "cells": [
  {
   "cell_type": "markdown",
   "metadata": {},
   "source": [
    "# Exploring und Plotting"
   ]
  },
  {
   "cell_type": "markdown",
   "metadata": {},
   "source": [
    "**Inhalt:** Selbständige Übung in Gruppen\n",
    "\n",
    "**Nötige Skills:** Erste Schritte mit Pandas\n",
    "\n",
    "**Lernziele:**\n",
    "- Daten herunterladen und einlesbar aufbereiten\n",
    "- Selbständig Daten explorieren und Storyideen testen\n",
    "- Colormaps kennenlernen"
   ]
  },
  {
   "cell_type": "markdown",
   "metadata": {},
   "source": [
    "# Das Beispiel"
   ]
  },
  {
   "cell_type": "markdown",
   "metadata": {},
   "source": [
    "Temperaturdaten von Meteoschweiz.\n",
    "\n",
    "Quelle und Dokumentation: https://www.meteoschweiz.admin.ch/home/klima/schweizer-klima-im-detail/schweizer-temperaturmittel/daten-schweizer-temperaturmittel.html\n",
    "\n",
    "Datenfile: https://www.meteoschweiz.admin.ch/product/input/climate-data/swissmean/10.18751-Climate-Timeseries-CHTM-1.1-swiss.txt\n",
    "\n",
    "Speichern Sie die Datei an einem geeigneten Ort, zB im Unterornder `dataprojects/Meteoschweiz/`"
   ]
  },
  {
   "cell_type": "markdown",
   "metadata": {},
   "source": [
    "## Vorbereitung"
   ]
  },
  {
   "cell_type": "markdown",
   "metadata": {},
   "source": [
    "Wir laden die übliche Library:"
   ]
  },
  {
   "cell_type": "code",
   "execution_count": 1,
   "metadata": {},
   "outputs": [],
   "source": [
    "import pandas as pd"
   ]
  },
  {
   "cell_type": "code",
   "execution_count": null,
   "metadata": {},
   "outputs": [],
   "source": []
  },
  {
   "cell_type": "markdown",
   "metadata": {},
   "source": [
    "## Datenfile laden"
   ]
  },
  {
   "cell_type": "markdown",
   "metadata": {},
   "source": [
    "Wie ist die Datei strukturiert? Was müssen wir beim Laden beachten?"
   ]
  },
  {
   "cell_type": "code",
   "execution_count": 11,
   "metadata": {},
   "outputs": [],
   "source": [
    "path = \"dataprojects/Meteoschweiz/10.18751-Climate-Timeseries-CHTM-1.1-swiss_edited.xlsx\""
   ]
  },
  {
   "cell_type": "code",
   "execution_count": 12,
   "metadata": {},
   "outputs": [],
   "source": [
    "df = pd.read_excel(path)"
   ]
  },
  {
   "cell_type": "code",
   "execution_count": 13,
   "metadata": {},
   "outputs": [
    {
     "data": {
      "text/html": [
       "<div>\n",
       "<style scoped>\n",
       "    .dataframe tbody tr th:only-of-type {\n",
       "        vertical-align: middle;\n",
       "    }\n",
       "\n",
       "    .dataframe tbody tr th {\n",
       "        vertical-align: top;\n",
       "    }\n",
       "\n",
       "    .dataframe thead th {\n",
       "        text-align: right;\n",
       "    }\n",
       "</style>\n",
       "<table border=\"1\" class=\"dataframe\">\n",
       "  <thead>\n",
       "    <tr style=\"text-align: right;\">\n",
       "      <th></th>\n",
       "      <th>time</th>\n",
       "      <th>jan</th>\n",
       "      <th>feb</th>\n",
       "      <th>mar</th>\n",
       "      <th>apr</th>\n",
       "      <th>may</th>\n",
       "      <th>jun</th>\n",
       "      <th>jul</th>\n",
       "      <th>aug</th>\n",
       "      <th>sep</th>\n",
       "      <th>oct</th>\n",
       "      <th>nov</th>\n",
       "      <th>dec</th>\n",
       "    </tr>\n",
       "  </thead>\n",
       "  <tbody>\n",
       "    <tr>\n",
       "      <th>0</th>\n",
       "      <td>1864</td>\n",
       "      <td>-7.10</td>\n",
       "      <td>-4.52</td>\n",
       "      <td>0.04</td>\n",
       "      <td>2.11</td>\n",
       "      <td>7.43</td>\n",
       "      <td>9.48</td>\n",
       "      <td>12.37</td>\n",
       "      <td>10.95</td>\n",
       "      <td>8.59</td>\n",
       "      <td>3.50</td>\n",
       "      <td>-0.51</td>\n",
       "      <td>-4.47</td>\n",
       "    </tr>\n",
       "    <tr>\n",
       "      <th>1</th>\n",
       "      <td>1865</td>\n",
       "      <td>-3.47</td>\n",
       "      <td>-6.25</td>\n",
       "      <td>-5.91</td>\n",
       "      <td>7.03</td>\n",
       "      <td>10.09</td>\n",
       "      <td>10.98</td>\n",
       "      <td>13.99</td>\n",
       "      <td>11.16</td>\n",
       "      <td>11.90</td>\n",
       "      <td>5.19</td>\n",
       "      <td>1.26</td>\n",
       "      <td>-3.07</td>\n",
       "    </tr>\n",
       "    <tr>\n",
       "      <th>2</th>\n",
       "      <td>1866</td>\n",
       "      <td>-1.31</td>\n",
       "      <td>-0.42</td>\n",
       "      <td>-1.00</td>\n",
       "      <td>4.11</td>\n",
       "      <td>4.95</td>\n",
       "      <td>12.02</td>\n",
       "      <td>12.25</td>\n",
       "      <td>9.98</td>\n",
       "      <td>9.70</td>\n",
       "      <td>5.34</td>\n",
       "      <td>-0.20</td>\n",
       "      <td>-0.49</td>\n",
       "    </tr>\n",
       "    <tr>\n",
       "      <th>3</th>\n",
       "      <td>1867</td>\n",
       "      <td>-3.87</td>\n",
       "      <td>0.56</td>\n",
       "      <td>-0.13</td>\n",
       "      <td>3.49</td>\n",
       "      <td>7.74</td>\n",
       "      <td>10.57</td>\n",
       "      <td>11.29</td>\n",
       "      <td>12.93</td>\n",
       "      <td>10.43</td>\n",
       "      <td>2.92</td>\n",
       "      <td>-1.43</td>\n",
       "      <td>-5.80</td>\n",
       "    </tr>\n",
       "    <tr>\n",
       "      <th>4</th>\n",
       "      <td>1868</td>\n",
       "      <td>-5.46</td>\n",
       "      <td>-1.53</td>\n",
       "      <td>-2.30</td>\n",
       "      <td>2.33</td>\n",
       "      <td>12.04</td>\n",
       "      <td>11.97</td>\n",
       "      <td>12.89</td>\n",
       "      <td>12.50</td>\n",
       "      <td>11.12</td>\n",
       "      <td>4.76</td>\n",
       "      <td>-1.98</td>\n",
       "      <td>1.27</td>\n",
       "    </tr>\n",
       "    <tr>\n",
       "      <th>...</th>\n",
       "      <td>...</td>\n",
       "      <td>...</td>\n",
       "      <td>...</td>\n",
       "      <td>...</td>\n",
       "      <td>...</td>\n",
       "      <td>...</td>\n",
       "      <td>...</td>\n",
       "      <td>...</td>\n",
       "      <td>...</td>\n",
       "      <td>...</td>\n",
       "      <td>...</td>\n",
       "      <td>...</td>\n",
       "      <td>...</td>\n",
       "    </tr>\n",
       "    <tr>\n",
       "      <th>152</th>\n",
       "      <td>2016</td>\n",
       "      <td>-1.10</td>\n",
       "      <td>-0.19</td>\n",
       "      <td>0.14</td>\n",
       "      <td>4.57</td>\n",
       "      <td>7.88</td>\n",
       "      <td>11.97</td>\n",
       "      <td>15.09</td>\n",
       "      <td>14.80</td>\n",
       "      <td>12.54</td>\n",
       "      <td>5.38</td>\n",
       "      <td>1.82</td>\n",
       "      <td>-0.11</td>\n",
       "    </tr>\n",
       "    <tr>\n",
       "      <th>153</th>\n",
       "      <td>2017</td>\n",
       "      <td>-5.15</td>\n",
       "      <td>0.46</td>\n",
       "      <td>4.11</td>\n",
       "      <td>4.42</td>\n",
       "      <td>9.80</td>\n",
       "      <td>15.18</td>\n",
       "      <td>15.05</td>\n",
       "      <td>15.45</td>\n",
       "      <td>8.65</td>\n",
       "      <td>7.78</td>\n",
       "      <td>0.88</td>\n",
       "      <td>-2.43</td>\n",
       "    </tr>\n",
       "    <tr>\n",
       "      <th>154</th>\n",
       "      <td>2018</td>\n",
       "      <td>0.48</td>\n",
       "      <td>-5.21</td>\n",
       "      <td>-0.21</td>\n",
       "      <td>7.81</td>\n",
       "      <td>10.43</td>\n",
       "      <td>13.81</td>\n",
       "      <td>16.24</td>\n",
       "      <td>15.89</td>\n",
       "      <td>12.56</td>\n",
       "      <td>8.04</td>\n",
       "      <td>2.79</td>\n",
       "      <td>-0.11</td>\n",
       "    </tr>\n",
       "    <tr>\n",
       "      <th>155</th>\n",
       "      <td>2019</td>\n",
       "      <td>-4.37</td>\n",
       "      <td>0.73</td>\n",
       "      <td>2.27</td>\n",
       "      <td>4.47</td>\n",
       "      <td>6.08</td>\n",
       "      <td>15.25</td>\n",
       "      <td>16.21</td>\n",
       "      <td>15.10</td>\n",
       "      <td>11.37</td>\n",
       "      <td>8.45</td>\n",
       "      <td>1.51</td>\n",
       "      <td>0.78</td>\n",
       "    </tr>\n",
       "    <tr>\n",
       "      <th>156</th>\n",
       "      <td>2020</td>\n",
       "      <td>-0.28</td>\n",
       "      <td>1.62</td>\n",
       "      <td>1.53</td>\n",
       "      <td>7.62</td>\n",
       "      <td>9.53</td>\n",
       "      <td>11.82</td>\n",
       "      <td>15.40</td>\n",
       "      <td>15.20</td>\n",
       "      <td>11.87</td>\n",
       "      <td>5.36</td>\n",
       "      <td>3.69</td>\n",
       "      <td>-1.18</td>\n",
       "    </tr>\n",
       "  </tbody>\n",
       "</table>\n",
       "<p>157 rows × 13 columns</p>\n",
       "</div>"
      ],
      "text/plain": [
       "     time   jan   feb   mar   apr    may    jun    jul    aug    sep   oct  \\\n",
       "0    1864 -7.10 -4.52  0.04  2.11   7.43   9.48  12.37  10.95   8.59  3.50   \n",
       "1    1865 -3.47 -6.25 -5.91  7.03  10.09  10.98  13.99  11.16  11.90  5.19   \n",
       "2    1866 -1.31 -0.42 -1.00  4.11   4.95  12.02  12.25   9.98   9.70  5.34   \n",
       "3    1867 -3.87  0.56 -0.13  3.49   7.74  10.57  11.29  12.93  10.43  2.92   \n",
       "4    1868 -5.46 -1.53 -2.30  2.33  12.04  11.97  12.89  12.50  11.12  4.76   \n",
       "..    ...   ...   ...   ...   ...    ...    ...    ...    ...    ...   ...   \n",
       "152  2016 -1.10 -0.19  0.14  4.57   7.88  11.97  15.09  14.80  12.54  5.38   \n",
       "153  2017 -5.15  0.46  4.11  4.42   9.80  15.18  15.05  15.45   8.65  7.78   \n",
       "154  2018  0.48 -5.21 -0.21  7.81  10.43  13.81  16.24  15.89  12.56  8.04   \n",
       "155  2019 -4.37  0.73  2.27  4.47   6.08  15.25  16.21  15.10  11.37  8.45   \n",
       "156  2020 -0.28  1.62  1.53  7.62   9.53  11.82  15.40  15.20  11.87  5.36   \n",
       "\n",
       "      nov   dec  \n",
       "0   -0.51 -4.47  \n",
       "1    1.26 -3.07  \n",
       "2   -0.20 -0.49  \n",
       "3   -1.43 -5.80  \n",
       "4   -1.98  1.27  \n",
       "..    ...   ...  \n",
       "152  1.82 -0.11  \n",
       "153  0.88 -2.43  \n",
       "154  2.79 -0.11  \n",
       "155  1.51  0.78  \n",
       "156  3.69 -1.18  \n",
       "\n",
       "[157 rows x 13 columns]"
      ]
     },
     "execution_count": 13,
     "metadata": {},
     "output_type": "execute_result"
    }
   ],
   "source": [
    "df"
   ]
  },
  {
   "cell_type": "code",
   "execution_count": null,
   "metadata": {},
   "outputs": [],
   "source": []
  },
  {
   "cell_type": "markdown",
   "metadata": {},
   "source": [
    "## Daten checken"
   ]
  },
  {
   "cell_type": "markdown",
   "metadata": {},
   "source": [
    "**Länge und Spalten**"
   ]
  },
  {
   "cell_type": "code",
   "execution_count": 14,
   "metadata": {},
   "outputs": [
    {
     "data": {
      "text/plain": [
       "(157, 13)"
      ]
     },
     "execution_count": 14,
     "metadata": {},
     "output_type": "execute_result"
    }
   ],
   "source": [
    "df.shape"
   ]
  },
  {
   "cell_type": "markdown",
   "metadata": {},
   "source": [
    "**Integrität**"
   ]
  },
  {
   "cell_type": "code",
   "execution_count": 15,
   "metadata": {},
   "outputs": [
    {
     "data": {
      "text/plain": [
       "time      int64\n",
       "jan     float64\n",
       "feb     float64\n",
       "mar     float64\n",
       "apr     float64\n",
       "may     float64\n",
       "jun     float64\n",
       "jul     float64\n",
       "aug     float64\n",
       "sep     float64\n",
       "oct     float64\n",
       "nov     float64\n",
       "dec     float64\n",
       "dtype: object"
      ]
     },
     "execution_count": 15,
     "metadata": {},
     "output_type": "execute_result"
    }
   ],
   "source": [
    "df.dtypes"
   ]
  },
  {
   "cell_type": "code",
   "execution_count": null,
   "metadata": {},
   "outputs": [],
   "source": []
  },
  {
   "cell_type": "markdown",
   "metadata": {},
   "source": [
    "**Was bedeuten die einzelnen Spalten?**"
   ]
  },
  {
   "cell_type": "code",
   "execution_count": null,
   "metadata": {},
   "outputs": [],
   "source": []
  },
  {
   "cell_type": "markdown",
   "metadata": {},
   "source": [
    "## Explorieren"
   ]
  },
  {
   "cell_type": "markdown",
   "metadata": {},
   "source": [
    "Ihr Ziel ist, aus den Temperaturdaten eine einfache Story zu generieren.\n",
    "\n",
    "Überlegen Sie sich dazu:\n",
    "- Welche Fragen richten Sie an das Temperaturdaten-Set?\n",
    "- Welche Auswertungen sind nötig, um die Fragen zu beanworten?\n",
    "- Wie stellen Sie die Resultate mittels Grafiken dar?\n",
    "\n",
    "Arbeiten Sie in Gruppen, um ein Ergebnis zu erarbeiten:\n",
    "- Drei bis vier Sätze, welche die Story zusammenfassen\n",
    "- eine oder mehrere Grafiken, die das Ergebnis illustrieren"
   ]
  },
  {
   "cell_type": "code",
   "execution_count": null,
   "metadata": {},
   "outputs": [],
   "source": []
  },
  {
   "cell_type": "markdown",
   "metadata": {},
   "source": [
    "### Beispiellösung 1:\n",
    "\n",
    "**Temperaturkurvenvergleich**\n",
    "- Jahresverlauf der Temperaturen\n",
    "- im Zehnjahresmittel\n",
    "- heute (2009-2018) und vor hundert Jahren (1919-1918)"
   ]
  },
  {
   "cell_type": "code",
   "execution_count": 16,
   "metadata": {},
   "outputs": [],
   "source": [
    "# Spalte \"time\" als Index setzen\n",
    "df_m = df.set_index('time')"
   ]
  },
  {
   "cell_type": "code",
   "execution_count": 18,
   "metadata": {},
   "outputs": [
    {
     "data": {
      "text/html": [
       "<div>\n",
       "<style scoped>\n",
       "    .dataframe tbody tr th:only-of-type {\n",
       "        vertical-align: middle;\n",
       "    }\n",
       "\n",
       "    .dataframe tbody tr th {\n",
       "        vertical-align: top;\n",
       "    }\n",
       "\n",
       "    .dataframe thead th {\n",
       "        text-align: right;\n",
       "    }\n",
       "</style>\n",
       "<table border=\"1\" class=\"dataframe\">\n",
       "  <thead>\n",
       "    <tr style=\"text-align: right;\">\n",
       "      <th></th>\n",
       "      <th>jan</th>\n",
       "      <th>feb</th>\n",
       "      <th>mar</th>\n",
       "      <th>apr</th>\n",
       "      <th>may</th>\n",
       "      <th>jun</th>\n",
       "      <th>jul</th>\n",
       "      <th>aug</th>\n",
       "      <th>sep</th>\n",
       "      <th>oct</th>\n",
       "      <th>nov</th>\n",
       "      <th>dec</th>\n",
       "    </tr>\n",
       "    <tr>\n",
       "      <th>time</th>\n",
       "      <th></th>\n",
       "      <th></th>\n",
       "      <th></th>\n",
       "      <th></th>\n",
       "      <th></th>\n",
       "      <th></th>\n",
       "      <th></th>\n",
       "      <th></th>\n",
       "      <th></th>\n",
       "      <th></th>\n",
       "      <th></th>\n",
       "      <th></th>\n",
       "    </tr>\n",
       "  </thead>\n",
       "  <tbody>\n",
       "    <tr>\n",
       "      <th>1864</th>\n",
       "      <td>-7.10</td>\n",
       "      <td>-4.52</td>\n",
       "      <td>0.04</td>\n",
       "      <td>2.11</td>\n",
       "      <td>7.43</td>\n",
       "      <td>9.48</td>\n",
       "      <td>12.37</td>\n",
       "      <td>10.95</td>\n",
       "      <td>8.59</td>\n",
       "      <td>3.50</td>\n",
       "      <td>-0.51</td>\n",
       "      <td>-4.47</td>\n",
       "    </tr>\n",
       "    <tr>\n",
       "      <th>1865</th>\n",
       "      <td>-3.47</td>\n",
       "      <td>-6.25</td>\n",
       "      <td>-5.91</td>\n",
       "      <td>7.03</td>\n",
       "      <td>10.09</td>\n",
       "      <td>10.98</td>\n",
       "      <td>13.99</td>\n",
       "      <td>11.16</td>\n",
       "      <td>11.90</td>\n",
       "      <td>5.19</td>\n",
       "      <td>1.26</td>\n",
       "      <td>-3.07</td>\n",
       "    </tr>\n",
       "  </tbody>\n",
       "</table>\n",
       "</div>"
      ],
      "text/plain": [
       "       jan   feb   mar   apr    may    jun    jul    aug    sep   oct   nov  \\\n",
       "time                                                                          \n",
       "1864 -7.10 -4.52  0.04  2.11   7.43   9.48  12.37  10.95   8.59  3.50 -0.51   \n",
       "1865 -3.47 -6.25 -5.91  7.03  10.09  10.98  13.99  11.16  11.90  5.19  1.26   \n",
       "\n",
       "       dec  \n",
       "time        \n",
       "1864 -4.47  \n",
       "1865 -3.07  "
      ]
     },
     "execution_count": 18,
     "metadata": {},
     "output_type": "execute_result"
    }
   ],
   "source": [
    "df_m.head(2)"
   ]
  },
  {
   "cell_type": "code",
   "execution_count": 19,
   "metadata": {},
   "outputs": [
    {
     "data": {
      "text/html": [
       "<div>\n",
       "<style scoped>\n",
       "    .dataframe tbody tr th:only-of-type {\n",
       "        vertical-align: middle;\n",
       "    }\n",
       "\n",
       "    .dataframe tbody tr th {\n",
       "        vertical-align: top;\n",
       "    }\n",
       "\n",
       "    .dataframe thead th {\n",
       "        text-align: right;\n",
       "    }\n",
       "</style>\n",
       "<table border=\"1\" class=\"dataframe\">\n",
       "  <thead>\n",
       "    <tr style=\"text-align: right;\">\n",
       "      <th></th>\n",
       "      <th>jan</th>\n",
       "      <th>feb</th>\n",
       "      <th>mar</th>\n",
       "      <th>apr</th>\n",
       "      <th>may</th>\n",
       "      <th>jun</th>\n",
       "      <th>jul</th>\n",
       "      <th>aug</th>\n",
       "      <th>sep</th>\n",
       "      <th>oct</th>\n",
       "      <th>nov</th>\n",
       "      <th>dec</th>\n",
       "    </tr>\n",
       "    <tr>\n",
       "      <th>time</th>\n",
       "      <th></th>\n",
       "      <th></th>\n",
       "      <th></th>\n",
       "      <th></th>\n",
       "      <th></th>\n",
       "      <th></th>\n",
       "      <th></th>\n",
       "      <th></th>\n",
       "      <th></th>\n",
       "      <th></th>\n",
       "      <th></th>\n",
       "      <th></th>\n",
       "    </tr>\n",
       "  </thead>\n",
       "  <tbody>\n",
       "    <tr>\n",
       "      <th>1909</th>\n",
       "      <td>-5.39</td>\n",
       "      <td>-6.45</td>\n",
       "      <td>-3.05</td>\n",
       "      <td>4.50</td>\n",
       "      <td>6.75</td>\n",
       "      <td>8.67</td>\n",
       "      <td>10.38</td>\n",
       "      <td>11.81</td>\n",
       "      <td>8.20</td>\n",
       "      <td>6.06</td>\n",
       "      <td>-1.58</td>\n",
       "      <td>-1.46</td>\n",
       "    </tr>\n",
       "    <tr>\n",
       "      <th>1910</th>\n",
       "      <td>-3.25</td>\n",
       "      <td>-2.93</td>\n",
       "      <td>-0.59</td>\n",
       "      <td>2.07</td>\n",
       "      <td>5.62</td>\n",
       "      <td>10.73</td>\n",
       "      <td>10.39</td>\n",
       "      <td>11.43</td>\n",
       "      <td>7.06</td>\n",
       "      <td>5.87</td>\n",
       "      <td>-1.43</td>\n",
       "      <td>-0.86</td>\n",
       "    </tr>\n",
       "    <tr>\n",
       "      <th>1911</th>\n",
       "      <td>-5.50</td>\n",
       "      <td>-3.07</td>\n",
       "      <td>-0.64</td>\n",
       "      <td>2.01</td>\n",
       "      <td>7.35</td>\n",
       "      <td>10.14</td>\n",
       "      <td>15.26</td>\n",
       "      <td>15.27</td>\n",
       "      <td>11.23</td>\n",
       "      <td>5.08</td>\n",
       "      <td>1.82</td>\n",
       "      <td>-0.86</td>\n",
       "    </tr>\n",
       "    <tr>\n",
       "      <th>1912</th>\n",
       "      <td>-2.27</td>\n",
       "      <td>0.10</td>\n",
       "      <td>1.47</td>\n",
       "      <td>1.81</td>\n",
       "      <td>8.05</td>\n",
       "      <td>10.50</td>\n",
       "      <td>11.98</td>\n",
       "      <td>9.07</td>\n",
       "      <td>4.38</td>\n",
       "      <td>3.70</td>\n",
       "      <td>-2.52</td>\n",
       "      <td>-1.11</td>\n",
       "    </tr>\n",
       "    <tr>\n",
       "      <th>1913</th>\n",
       "      <td>-2.12</td>\n",
       "      <td>-3.16</td>\n",
       "      <td>1.73</td>\n",
       "      <td>2.49</td>\n",
       "      <td>6.95</td>\n",
       "      <td>10.13</td>\n",
       "      <td>9.55</td>\n",
       "      <td>11.20</td>\n",
       "      <td>8.53</td>\n",
       "      <td>6.57</td>\n",
       "      <td>2.69</td>\n",
       "      <td>-2.83</td>\n",
       "    </tr>\n",
       "    <tr>\n",
       "      <th>1914</th>\n",
       "      <td>-6.53</td>\n",
       "      <td>-0.48</td>\n",
       "      <td>-0.01</td>\n",
       "      <td>5.17</td>\n",
       "      <td>5.72</td>\n",
       "      <td>9.16</td>\n",
       "      <td>10.90</td>\n",
       "      <td>12.26</td>\n",
       "      <td>8.54</td>\n",
       "      <td>4.34</td>\n",
       "      <td>-0.66</td>\n",
       "      <td>-1.13</td>\n",
       "    </tr>\n",
       "    <tr>\n",
       "      <th>1915</th>\n",
       "      <td>-4.72</td>\n",
       "      <td>-3.81</td>\n",
       "      <td>-1.52</td>\n",
       "      <td>1.75</td>\n",
       "      <td>9.56</td>\n",
       "      <td>12.38</td>\n",
       "      <td>11.83</td>\n",
       "      <td>10.92</td>\n",
       "      <td>7.70</td>\n",
       "      <td>2.48</td>\n",
       "      <td>-2.16</td>\n",
       "      <td>0.77</td>\n",
       "    </tr>\n",
       "    <tr>\n",
       "      <th>1916</th>\n",
       "      <td>-0.96</td>\n",
       "      <td>-2.63</td>\n",
       "      <td>-0.05</td>\n",
       "      <td>3.09</td>\n",
       "      <td>8.05</td>\n",
       "      <td>8.33</td>\n",
       "      <td>11.57</td>\n",
       "      <td>11.69</td>\n",
       "      <td>7.25</td>\n",
       "      <td>4.75</td>\n",
       "      <td>0.37</td>\n",
       "      <td>-1.93</td>\n",
       "    </tr>\n",
       "    <tr>\n",
       "      <th>1917</th>\n",
       "      <td>-6.13</td>\n",
       "      <td>-5.20</td>\n",
       "      <td>-2.82</td>\n",
       "      <td>-0.45</td>\n",
       "      <td>9.97</td>\n",
       "      <td>12.63</td>\n",
       "      <td>12.50</td>\n",
       "      <td>11.43</td>\n",
       "      <td>11.50</td>\n",
       "      <td>2.52</td>\n",
       "      <td>-0.14</td>\n",
       "      <td>-6.28</td>\n",
       "    </tr>\n",
       "    <tr>\n",
       "      <th>1918</th>\n",
       "      <td>-2.80</td>\n",
       "      <td>-2.29</td>\n",
       "      <td>-0.57</td>\n",
       "      <td>3.08</td>\n",
       "      <td>8.66</td>\n",
       "      <td>8.38</td>\n",
       "      <td>12.43</td>\n",
       "      <td>11.94</td>\n",
       "      <td>9.81</td>\n",
       "      <td>3.37</td>\n",
       "      <td>0.30</td>\n",
       "      <td>-0.36</td>\n",
       "    </tr>\n",
       "  </tbody>\n",
       "</table>\n",
       "</div>"
      ],
      "text/plain": [
       "       jan   feb   mar   apr   may    jun    jul    aug    sep   oct   nov  \\\n",
       "time                                                                         \n",
       "1909 -5.39 -6.45 -3.05  4.50  6.75   8.67  10.38  11.81   8.20  6.06 -1.58   \n",
       "1910 -3.25 -2.93 -0.59  2.07  5.62  10.73  10.39  11.43   7.06  5.87 -1.43   \n",
       "1911 -5.50 -3.07 -0.64  2.01  7.35  10.14  15.26  15.27  11.23  5.08  1.82   \n",
       "1912 -2.27  0.10  1.47  1.81  8.05  10.50  11.98   9.07   4.38  3.70 -2.52   \n",
       "1913 -2.12 -3.16  1.73  2.49  6.95  10.13   9.55  11.20   8.53  6.57  2.69   \n",
       "1914 -6.53 -0.48 -0.01  5.17  5.72   9.16  10.90  12.26   8.54  4.34 -0.66   \n",
       "1915 -4.72 -3.81 -1.52  1.75  9.56  12.38  11.83  10.92   7.70  2.48 -2.16   \n",
       "1916 -0.96 -2.63 -0.05  3.09  8.05   8.33  11.57  11.69   7.25  4.75  0.37   \n",
       "1917 -6.13 -5.20 -2.82 -0.45  9.97  12.63  12.50  11.43  11.50  2.52 -0.14   \n",
       "1918 -2.80 -2.29 -0.57  3.08  8.66   8.38  12.43  11.94   9.81  3.37  0.30   \n",
       "\n",
       "       dec  \n",
       "time        \n",
       "1909 -1.46  \n",
       "1910 -0.86  \n",
       "1911 -0.86  \n",
       "1912 -1.11  \n",
       "1913 -2.83  \n",
       "1914 -1.13  \n",
       "1915  0.77  \n",
       "1916 -1.93  \n",
       "1917 -6.28  \n",
       "1918 -0.36  "
      ]
     },
     "execution_count": 19,
     "metadata": {},
     "output_type": "execute_result"
    }
   ],
   "source": [
    "# Nur 1909 bis 1918 anzeigen\n",
    "df_m.loc[1909:1918]"
   ]
  },
  {
   "cell_type": "code",
   "execution_count": 20,
   "metadata": {},
   "outputs": [],
   "source": [
    "# Mittelwerte 1909-1918 berechnen\n",
    "s_frueher = df_m.loc[1909:1918].mean()"
   ]
  },
  {
   "cell_type": "code",
   "execution_count": 21,
   "metadata": {},
   "outputs": [],
   "source": [
    "# Mittelwerte 2009-2018 berechnen\n",
    "s_heute = df_m.loc[2009:2018].mean()"
   ]
  },
  {
   "cell_type": "code",
   "execution_count": 22,
   "metadata": {},
   "outputs": [],
   "source": [
    "# Beide Mittelwertsreihen in Dataframe zusammenfügen\n",
    "df_v = pd.DataFrame({'Vor 100 Jahren': s_frueher, 'Heute': s_heute})"
   ]
  },
  {
   "cell_type": "code",
   "execution_count": 23,
   "metadata": {},
   "outputs": [
    {
     "data": {
      "text/html": [
       "<div>\n",
       "<style scoped>\n",
       "    .dataframe tbody tr th:only-of-type {\n",
       "        vertical-align: middle;\n",
       "    }\n",
       "\n",
       "    .dataframe tbody tr th {\n",
       "        vertical-align: top;\n",
       "    }\n",
       "\n",
       "    .dataframe thead th {\n",
       "        text-align: right;\n",
       "    }\n",
       "</style>\n",
       "<table border=\"1\" class=\"dataframe\">\n",
       "  <thead>\n",
       "    <tr style=\"text-align: right;\">\n",
       "      <th></th>\n",
       "      <th>Vor 100 Jahren</th>\n",
       "      <th>Heute</th>\n",
       "    </tr>\n",
       "  </thead>\n",
       "  <tbody>\n",
       "    <tr>\n",
       "      <th>jan</th>\n",
       "      <td>-3.967</td>\n",
       "      <td>-2.458</td>\n",
       "    </tr>\n",
       "    <tr>\n",
       "      <th>feb</th>\n",
       "      <td>-2.992</td>\n",
       "      <td>-2.768</td>\n",
       "    </tr>\n",
       "    <tr>\n",
       "      <th>mar</th>\n",
       "      <td>-0.605</td>\n",
       "      <td>1.400</td>\n",
       "    </tr>\n",
       "    <tr>\n",
       "      <th>apr</th>\n",
       "      <td>2.552</td>\n",
       "      <td>5.623</td>\n",
       "    </tr>\n",
       "    <tr>\n",
       "      <th>may</th>\n",
       "      <td>7.668</td>\n",
       "      <td>8.920</td>\n",
       "    </tr>\n",
       "    <tr>\n",
       "      <th>jun</th>\n",
       "      <td>10.105</td>\n",
       "      <td>12.911</td>\n",
       "    </tr>\n",
       "    <tr>\n",
       "      <th>jul</th>\n",
       "      <td>11.679</td>\n",
       "      <td>14.974</td>\n",
       "    </tr>\n",
       "    <tr>\n",
       "      <th>aug</th>\n",
       "      <td>11.702</td>\n",
       "      <td>14.757</td>\n",
       "    </tr>\n",
       "    <tr>\n",
       "      <th>sep</th>\n",
       "      <td>8.420</td>\n",
       "      <td>10.931</td>\n",
       "    </tr>\n",
       "    <tr>\n",
       "      <th>oct</th>\n",
       "      <td>4.474</td>\n",
       "      <td>6.873</td>\n",
       "    </tr>\n",
       "    <tr>\n",
       "      <th>nov</th>\n",
       "      <td>-0.331</td>\n",
       "      <td>2.540</td>\n",
       "    </tr>\n",
       "    <tr>\n",
       "      <th>dec</th>\n",
       "      <td>-1.605</td>\n",
       "      <td>-1.101</td>\n",
       "    </tr>\n",
       "  </tbody>\n",
       "</table>\n",
       "</div>"
      ],
      "text/plain": [
       "     Vor 100 Jahren   Heute\n",
       "jan          -3.967  -2.458\n",
       "feb          -2.992  -2.768\n",
       "mar          -0.605   1.400\n",
       "apr           2.552   5.623\n",
       "may           7.668   8.920\n",
       "jun          10.105  12.911\n",
       "jul          11.679  14.974\n",
       "aug          11.702  14.757\n",
       "sep           8.420  10.931\n",
       "oct           4.474   6.873\n",
       "nov          -0.331   2.540\n",
       "dec          -1.605  -1.101"
      ]
     },
     "execution_count": 23,
     "metadata": {},
     "output_type": "execute_result"
    }
   ],
   "source": [
    "# So sieht das neue Dataframe aus\n",
    "df_v"
   ]
  },
  {
   "cell_type": "code",
   "execution_count": 24,
   "metadata": {},
   "outputs": [],
   "source": [
    "# Temperaturzunahme je nach Monat berechnen\n",
    "s_diff = s_heute - s_frueher"
   ]
  },
  {
   "cell_type": "code",
   "execution_count": 25,
   "metadata": {},
   "outputs": [
    {
     "data": {
      "text/plain": [
       "jan    1.509\n",
       "feb    0.224\n",
       "mar    2.005\n",
       "apr    3.071\n",
       "may    1.252\n",
       "jun    2.806\n",
       "jul    3.295\n",
       "aug    3.055\n",
       "sep    2.511\n",
       "oct    2.399\n",
       "nov    2.871\n",
       "dec    0.504\n",
       "dtype: float64"
      ]
     },
     "execution_count": 25,
     "metadata": {},
     "output_type": "execute_result"
    }
   ],
   "source": [
    "s_diff"
   ]
  },
  {
   "cell_type": "markdown",
   "metadata": {},
   "source": [
    "### Story"
   ]
  },
  {
   "cell_type": "code",
   "execution_count": 26,
   "metadata": {},
   "outputs": [
    {
     "data": {
      "text/plain": [
       "<AxesSubplot:title={'center':'Temperaturen im Monatsmittel'}>"
      ]
     },
     "execution_count": 26,
     "metadata": {},
     "output_type": "execute_result"
    },
    {
     "data": {
      "image/png": "[encoded data removed]",
      "text/plain": [
       "<Figure size 720x360 with 1 Axes>"
      ]
     },
     "metadata": {
      "needs_background": "light"
     },
     "output_type": "display_data"
    }
   ],
   "source": [
    "df_v.plot(figsize=(10,5), title=\"Temperaturen im Monatsmittel\")"
   ]
  },
  {
   "cell_type": "markdown",
   "metadata": {},
   "source": [
    "**Grafik 1:** Die Temperaturen sind in den letzten 100 Jahren gestiegen. Sowohl in den Sommermonaten, als auch im Winter liegen die monatlichen Mittelwerte in den Jahren 2009 bis 2018 über jenen der Jahre 1909 bis 1918."
   ]
  },
  {
   "cell_type": "code",
   "execution_count": 27,
   "metadata": {},
   "outputs": [
    {
     "data": {
      "text/plain": [
       "<AxesSubplot:title={'center':'Temperaturzunahme je nach Monat'}>"
      ]
     },
     "execution_count": 27,
     "metadata": {},
     "output_type": "execute_result"
    },
    {
     "data": {
      "image/png": "[encoded data removed]",
      "text/plain": [
       "<Figure size 720x360 with 1 Axes>"
      ]
     },
     "metadata": {
      "needs_background": "light"
     },
     "output_type": "display_data"
    }
   ],
   "source": [
    "s_diff.plot(kind='bar', figsize=(10,5), title=\"Temperaturzunahme je nach Monat\")"
   ]
  },
  {
   "cell_type": "markdown",
   "metadata": {},
   "source": [
    "**Grafik 2**: Am grössten ist die Temperaturzunahme im Sommer. Im Juli lagen die mittleren Temperaturen über 3 Grad höher. Weniger stark gestiegen sind die Temperaturen im Winter. Im Februar und im Dezember beträgt die Zunahme unter 0,5 Grad."
   ]
  },
  {
   "cell_type": "code",
   "execution_count": null,
   "metadata": {},
   "outputs": [],
   "source": []
  },
  {
   "cell_type": "code",
   "execution_count": null,
   "metadata": {},
   "outputs": [],
   "source": []
  },
  {
   "cell_type": "markdown",
   "metadata": {},
   "source": [
    "### Beispiellösung 2:\n",
    "\n",
    "**Climate Stripes**\n",
    "- Jahresmittelwerte werden nach Farben codiert\n",
    "- Ganze Datenreihe (1864-2019)\n",
    "- Visualisierung illustriert den Anstieg\n",
    "\n",
    "Story dazu: https://www.republik.ch/2019/04/08/die-schoenste-klimagrafik-der-welt"
   ]
  },
  {
   "cell_type": "markdown",
   "metadata": {},
   "source": [
    "**Libraries**"
   ]
  },
  {
   "cell_type": "code",
   "execution_count": 28,
   "metadata": {},
   "outputs": [],
   "source": [
    "# Wir brauchen noch einige Libraries...."
   ]
  },
  {
   "cell_type": "code",
   "execution_count": 29,
   "metadata": {},
   "outputs": [],
   "source": [
    "import matplotlib"
   ]
  },
  {
   "cell_type": "code",
   "execution_count": 30,
   "metadata": {},
   "outputs": [],
   "source": [
    "import matplotlib.pyplot as plt"
   ]
  },
  {
   "cell_type": "code",
   "execution_count": 31,
   "metadata": {},
   "outputs": [],
   "source": [
    "import matplotlib.colors as mcolors"
   ]
  },
  {
   "cell_type": "code",
   "execution_count": 32,
   "metadata": {},
   "outputs": [],
   "source": [
    "from PIL import Image"
   ]
  },
  {
   "cell_type": "markdown",
   "metadata": {},
   "source": [
    "**Dokumentation**"
   ]
  },
  {
   "cell_type": "markdown",
   "metadata": {},
   "source": [
    "Wir werden mit Colormaps arbeiten:\n",
    "\n",
    "https://matplotlib.org/examples/color/colormaps_reference.html"
   ]
  },
  {
   "cell_type": "markdown",
   "metadata": {},
   "source": [
    "**Datenvorbereitung**"
   ]
  },
  {
   "cell_type": "code",
   "execution_count": 36,
   "metadata": {},
   "outputs": [],
   "source": [
    "df['year'] = df_m.mean(axis=1)"
   ]
  },
  {
   "cell_type": "code",
   "execution_count": 47,
   "metadata": {},
   "outputs": [],
   "source": [
    "df_y = pd.DataFrame(df_m.mean(axis=1))"
   ]
  },
  {
   "cell_type": "code",
   "execution_count": 49,
   "metadata": {},
   "outputs": [],
   "source": [
    "df_y = df_y.rename(columns={0: 'year'})"
   ]
  },
  {
   "cell_type": "code",
   "execution_count": 50,
   "metadata": {},
   "outputs": [
    {
     "data": {
      "text/html": [
       "<div>\n",
       "<style scoped>\n",
       "    .dataframe tbody tr th:only-of-type {\n",
       "        vertical-align: middle;\n",
       "    }\n",
       "\n",
       "    .dataframe tbody tr th {\n",
       "        vertical-align: top;\n",
       "    }\n",
       "\n",
       "    .dataframe thead th {\n",
       "        text-align: right;\n",
       "    }\n",
       "</style>\n",
       "<table border=\"1\" class=\"dataframe\">\n",
       "  <thead>\n",
       "    <tr style=\"text-align: right;\">\n",
       "      <th></th>\n",
       "      <th>year</th>\n",
       "    </tr>\n",
       "    <tr>\n",
       "      <th>time</th>\n",
       "      <th></th>\n",
       "    </tr>\n",
       "  </thead>\n",
       "  <tbody>\n",
       "    <tr>\n",
       "      <th>1864</th>\n",
       "      <td>3.155833</td>\n",
       "    </tr>\n",
       "    <tr>\n",
       "      <th>1865</th>\n",
       "      <td>4.408333</td>\n",
       "    </tr>\n",
       "    <tr>\n",
       "      <th>1866</th>\n",
       "      <td>4.577500</td>\n",
       "    </tr>\n",
       "    <tr>\n",
       "      <th>1867</th>\n",
       "      <td>4.058333</td>\n",
       "    </tr>\n",
       "    <tr>\n",
       "      <th>1868</th>\n",
       "      <td>4.800833</td>\n",
       "    </tr>\n",
       "    <tr>\n",
       "      <th>...</th>\n",
       "      <td>...</td>\n",
       "    </tr>\n",
       "    <tr>\n",
       "      <th>2016</th>\n",
       "      <td>6.065833</td>\n",
       "    </tr>\n",
       "    <tr>\n",
       "      <th>2017</th>\n",
       "      <td>6.183333</td>\n",
       "    </tr>\n",
       "    <tr>\n",
       "      <th>2018</th>\n",
       "      <td>6.876667</td>\n",
       "    </tr>\n",
       "    <tr>\n",
       "      <th>2019</th>\n",
       "      <td>6.487500</td>\n",
       "    </tr>\n",
       "    <tr>\n",
       "      <th>2020</th>\n",
       "      <td>6.848333</td>\n",
       "    </tr>\n",
       "  </tbody>\n",
       "</table>\n",
       "<p>157 rows × 1 columns</p>\n",
       "</div>"
      ],
      "text/plain": [
       "          year\n",
       "time          \n",
       "1864  3.155833\n",
       "1865  4.408333\n",
       "1866  4.577500\n",
       "1867  4.058333\n",
       "1868  4.800833\n",
       "...        ...\n",
       "2016  6.065833\n",
       "2017  6.183333\n",
       "2018  6.876667\n",
       "2019  6.487500\n",
       "2020  6.848333\n",
       "\n",
       "[157 rows x 1 columns]"
      ]
     },
     "execution_count": 50,
     "metadata": {},
     "output_type": "execute_result"
    }
   ],
   "source": [
    "df_y"
   ]
  },
  {
   "cell_type": "code",
   "execution_count": 51,
   "metadata": {},
   "outputs": [],
   "source": [
    "# Minimal- und Maximalwerte für die Normierung der Farbskala ermittlen\n",
    "minimum = df_y['year'].min()\n",
    "maximum = df_y['year'].max()"
   ]
  },
  {
   "cell_type": "markdown",
   "metadata": {},
   "source": [
    "**Farbschema vorbereiten**"
   ]
  },
  {
   "cell_type": "code",
   "execution_count": 52,
   "metadata": {},
   "outputs": [],
   "source": [
    "# Farbskala normieren\n",
    "normierung = matplotlib.colors.Normalize(vmin=minimum, vmax=maximum, clip=True)"
   ]
  },
  {
   "cell_type": "code",
   "execution_count": 53,
   "metadata": {},
   "outputs": [],
   "source": [
    "# Colormap auswählen\n",
    "farbschema = plt.cm.RdBu_r"
   ]
  },
  {
   "cell_type": "code",
   "execution_count": 54,
   "metadata": {},
   "outputs": [],
   "source": [
    "# Colormap auswählen und Norm übergeben\n",
    "mapper = plt.cm.ScalarMappable(norm=normierung, cmap=farbschema)"
   ]
  },
  {
   "cell_type": "markdown",
   "metadata": {},
   "source": [
    "**Farbliste generieren**"
   ]
  },
  {
   "cell_type": "code",
   "execution_count": 55,
   "metadata": {},
   "outputs": [],
   "source": [
    "# Wir wenden hier eine Lambda-Funktion an...\n",
    "farbliste = df_y['year'].apply(lambda x: mcolors.to_hex(mapper.to_rgba(x)))"
   ]
  },
  {
   "cell_type": "code",
   "execution_count": 56,
   "metadata": {},
   "outputs": [
    {
     "data": {
      "text/plain": [
       "time\n",
       "1864    #1a5899\n",
       "1865    #cae1ee\n",
       "Name: year, dtype: object"
      ]
     },
     "execution_count": 56,
     "metadata": {},
     "output_type": "execute_result"
    }
   ],
   "source": [
    "# So sieht die Liste aus\n",
    "farbliste.head(2)"
   ]
  },
  {
   "cell_type": "markdown",
   "metadata": {},
   "source": [
    "**Plotten**"
   ]
  },
  {
   "cell_type": "code",
   "execution_count": 57,
   "metadata": {},
   "outputs": [],
   "source": [
    "# Für unseren Plot brauchen wir eine \"Dummy\"-Spalte\n",
    "df_y['values'] = 1"
   ]
  },
  {
   "cell_type": "code",
   "execution_count": 58,
   "metadata": {},
   "outputs": [
    {
     "data": {
      "text/html": [
       "<div>\n",
       "<style scoped>\n",
       "    .dataframe tbody tr th:only-of-type {\n",
       "        vertical-align: middle;\n",
       "    }\n",
       "\n",
       "    .dataframe tbody tr th {\n",
       "        vertical-align: top;\n",
       "    }\n",
       "\n",
       "    .dataframe thead th {\n",
       "        text-align: right;\n",
       "    }\n",
       "</style>\n",
       "<table border=\"1\" class=\"dataframe\">\n",
       "  <thead>\n",
       "    <tr style=\"text-align: right;\">\n",
       "      <th></th>\n",
       "      <th>year</th>\n",
       "      <th>values</th>\n",
       "    </tr>\n",
       "    <tr>\n",
       "      <th>time</th>\n",
       "      <th></th>\n",
       "      <th></th>\n",
       "    </tr>\n",
       "  </thead>\n",
       "  <tbody>\n",
       "    <tr>\n",
       "      <th>1864</th>\n",
       "      <td>3.155833</td>\n",
       "      <td>1</td>\n",
       "    </tr>\n",
       "    <tr>\n",
       "      <th>1865</th>\n",
       "      <td>4.408333</td>\n",
       "      <td>1</td>\n",
       "    </tr>\n",
       "  </tbody>\n",
       "</table>\n",
       "</div>"
      ],
      "text/plain": [
       "          year  values\n",
       "time                  \n",
       "1864  3.155833       1\n",
       "1865  4.408333       1"
      ]
     },
     "execution_count": 58,
     "metadata": {},
     "output_type": "execute_result"
    }
   ],
   "source": [
    "df_y.head(2)"
   ]
  },
  {
   "cell_type": "code",
   "execution_count": 59,
   "metadata": {},
   "outputs": [
    {
     "data": {
      "text/plain": [
       "<AxesSubplot:xlabel='time'>"
      ]
     },
     "execution_count": 59,
     "metadata": {},
     "output_type": "execute_result"
    },
    {
     "data": {
      "image/png": "[encoded data removed]",
      "text/plain": [
       "<Figure size 1440x144 with 1 Axes>"
      ]
     },
     "metadata": {
      "needs_background": "light"
     },
     "output_type": "display_data"
    }
   ],
   "source": [
    "# Für jede dieser Dummy-Werte wird nun ein 1 Einheit hoher Balken gezeichnet\n",
    "df_y.loc[1864:2019]['values'].T.plot(kind='bar', figsize=(20,2))"
   ]
  },
  {
   "cell_type": "code",
   "execution_count": 60,
   "metadata": {},
   "outputs": [
    {
     "data": {
      "text/plain": [
       "<AxesSubplot:xlabel='time'>"
      ]
     },
     "execution_count": 60,
     "metadata": {},
     "output_type": "execute_result"
    },
    {
     "data": {
      "image/png": "[encoded data removed]",
      "text/plain": [
       "<Figure size 1440x144 with 1 Axes>"
      ]
     },
     "metadata": {
      "needs_background": "light"
     },
     "output_type": "display_data"
    }
   ],
   "source": [
    "# Jetzt geben wir für jeden Balken einen Farbwert mit und machen die Zwischenräume weg\n",
    "df_y.loc[1864:2019]['values'].T.plot(kind='bar', figsize=(20,2), color=farbliste, width=1)"
   ]
  },
  {
   "cell_type": "code",
   "execution_count": 61,
   "metadata": {},
   "outputs": [
    {
     "data": {
      "image/png": "[encoded data removed]",
      "text/plain": [
       "<Figure size 1440x144 with 1 Axes>"
      ]
     },
     "metadata": {
      "needs_background": "light"
     },
     "output_type": "display_data"
    }
   ],
   "source": [
    "# Noch etwas Ungeziefer entfernen und fertig ist der Klimastreifen\n",
    "ax = df_y.loc[1864:2019]['values'].T.plot(kind='bar', figsize=(20,2), color=farbliste, legend=False, width=1)\n",
    "ax.axes.get_xaxis().set_visible(False)\n",
    "ax.axes.get_yaxis().set_visible(False)\n",
    "ax.set_frame_on(False)"
   ]
  },
  {
   "cell_type": "code",
   "execution_count": null,
   "metadata": {},
   "outputs": [],
   "source": []
  },
  {
   "cell_type": "code",
   "execution_count": null,
   "metadata": {},
   "outputs": [],
   "source": []
  }
 ],
 "metadata": {
  "kernelspec": {
   "display_name": "Python 3",
   "language": "python",
   "name": "python3"
  },
  "language_info": {
   "codemirror_mode": {
    "name": "ipython",
    "version": 3
   },
   "file_extension": ".py",
   "mimetype": "text/x-python",
   "name": "python",
   "nbconvert_exporter": "python",
   "pygments_lexer": "ipython3",
   "version": "3.8.2"
  }
 },
 "nbformat": 4,
 "nbformat_minor": 2
}
