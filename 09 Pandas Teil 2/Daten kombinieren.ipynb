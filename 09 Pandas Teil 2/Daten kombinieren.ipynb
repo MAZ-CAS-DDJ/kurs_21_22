{
 "cells": [
  {
   "cell_type": "markdown",
   "metadata": {},
   "source": [
    "# Daten kombinieren"
   ]
  },
  {
   "cell_type": "markdown",
   "metadata": {},
   "source": [
    "**Inhalt:** Verschiedene Quellen kombinieren, optisch und tabellarisch auswerten\n",
    "\n",
    "**Nötige Skills:** Daten explorieren, filtern, klassifizieren\n",
    "\n",
    "**Lernziele:**\n",
    "- Besser verstehen, wie Merge funktioniert\n",
    "- Daten kombinieren, Kategorien bilden und auswerten\n",
    "- Daten exportieren und in anderem Programm visualisieren"
   ]
  },
  {
   "cell_type": "markdown",
   "metadata": {},
   "source": [
    "# Das Beispiel\n",
    "\n",
    "Nationalratswahlen. Wir analysieren die Veränderung über die letzten 20 Jahre:\n",
    "1. über alle Gemeinden hinweg\n",
    "2. für bestimmte Gruppen von Gemeinden (zB je nach Sprachregion)\n",
    "3. zum Schluss stellen wir die Ergebnisse in Karten dar\n",
    "\n",
    "Angelehnt an: https://www.republik.ch/2019/10/21/gruener-jurabogen-und-gruenliberales-zuerich\n",
    "\n",
    "**Quellen:**\n",
    "- Wahlergebnisse beim BFS: Daten gibts beim BFS: https://www.pxweb.bfs.admin.ch/pxweb/de/px-x-1702020000_105/px-x-1702020000_105/px-x-1702020000_105.px\n",
    "- Diverse Daten zu Gemeinden, zusammengetragen beim BFS\n",
    "\n"
   ]
  },
  {
   "cell_type": "markdown",
   "metadata": {},
   "source": [
    "## Vorbereitung"
   ]
  },
  {
   "cell_type": "markdown",
   "metadata": {},
   "source": [
    "Wir importieren ausnahmsweise etwas mehr Bibliotheken als sonst..."
   ]
  },
  {
   "cell_type": "code",
   "execution_count": null,
   "metadata": {},
   "outputs": [],
   "source": [
    "import pandas as pd"
   ]
  },
  {
   "cell_type": "code",
   "execution_count": null,
   "metadata": {},
   "outputs": [],
   "source": [
    "import numpy as np"
   ]
  },
  {
   "cell_type": "code",
   "execution_count": null,
   "metadata": {},
   "outputs": [],
   "source": [
    "import geopandas as gpd"
   ]
  },
  {
   "cell_type": "markdown",
   "metadata": {},
   "source": [
    "## Daten laden"
   ]
  },
  {
   "cell_type": "markdown",
   "metadata": {},
   "source": [
    "**Wahlergebnisse**\n",
    "\n",
    "Wir haben uns schonmal ein hübsches geputztes File vorbereitet.\n",
    "\n",
    "Das ist unser Hauptfile - es enthält die Wähleranteile der Parteien in den Jahren 1999 und 2019."
   ]
  },
  {
   "cell_type": "code",
   "execution_count": null,
   "metadata": {},
   "outputs": [],
   "source": [
    "path = 'dataprojects/wahlen/Wahlergebnisse 1999 und 2019 in Gemeinden.csv'"
   ]
  },
  {
   "cell_type": "code",
   "execution_count": null,
   "metadata": {},
   "outputs": [],
   "source": [
    "df = pd.read_csv(path)"
   ]
  },
  {
   "cell_type": "code",
   "execution_count": null,
   "metadata": {},
   "outputs": [],
   "source": [
    "df"
   ]
  },
  {
   "cell_type": "markdown",
   "metadata": {},
   "source": [
    "**Gemeindetypologie**\n",
    "\n",
    "Wir haben eine Hilfsdatei - sie enthält für jede Gemeinde ein paar Zusatzinformationen:\n",
    "- Welchem Raumtyp sie zugehört\n",
    "- In welcher Grossregion sie liegt\n",
    "- Welche Sprache gesprochen wird\n",
    "- Der Ausländeranteil\n",
    "- Wie stark die Bevölkerugungszahl gewachsen ist"
   ]
  },
  {
   "cell_type": "code",
   "execution_count": null,
   "metadata": {},
   "outputs": [],
   "source": [
    "df_typen = pd.read_excel('dataprojects/wahlen/Gemeindetypologie.xlsx')"
   ]
  },
  {
   "cell_type": "code",
   "execution_count": null,
   "metadata": {},
   "outputs": [],
   "source": [
    "df_typen"
   ]
  },
  {
   "cell_type": "markdown",
   "metadata": {},
   "source": [
    "Unser Ziel ist, die Informationen aus dieser Tabelle mit den Wähleranteilen zu verbinden, so dass wir gruppierte Auswertungen machen können."
   ]
  },
  {
   "cell_type": "markdown",
   "metadata": {},
   "source": [
    "## Vorbereitung"
   ]
  },
  {
   "cell_type": "markdown",
   "metadata": {},
   "source": [
    "Zuerst müssen wir uns die Daten nochmals ganz genau anschauen."
   ]
  },
  {
   "cell_type": "code",
   "execution_count": null,
   "metadata": {},
   "outputs": [],
   "source": [
    "df.head(20)"
   ]
  },
  {
   "cell_type": "markdown",
   "metadata": {},
   "source": [
    "**NA-Values**\n",
    "\n",
    "Wir müssen uns überlegen: Was heissen leere Zeilen (NaN) genau?\n",
    "\n",
    "- Wir könnten sagen: Diese Einträge wollen wir gar nicht anschauen...\n",
    "- ... oder wir könnten sagen: Wähleranteil der betreffenden Partei = 0\n",
    "\n",
    "Pandas bietet eine praktische Funktion, um NaN zu ersetzen: `fillna()`"
   ]
  },
  {
   "cell_type": "code",
   "execution_count": null,
   "metadata": {},
   "outputs": [],
   "source": [
    "df['2019'] = df['2019'].fillna(0)\n",
    "df['1999'] = df['1999'].fillna(0)"
   ]
  },
  {
   "cell_type": "code",
   "execution_count": null,
   "metadata": {},
   "outputs": [],
   "source": [
    "df.head(20)"
   ]
  },
  {
   "cell_type": "markdown",
   "metadata": {},
   "source": [
    "**Veränderung**\n",
    "\n",
    "Als nächstes überlegen wir uns, was uns eigentlich interessiert.\n",
    "\n",
    "Wir kennen bereits für jede Partei und Gemeinde:\n",
    "- den Wähleranteil 1999\n",
    "- den Wähleranteil 2019\n",
    "\n",
    "Was wir noch berechnen müssen:\n",
    "- die Veränderung von 1999 bis 2019\n",
    "\n",
    "Hier ist ein guter Ort, um das zu tun."
   ]
  },
  {
   "cell_type": "code",
   "execution_count": null,
   "metadata": {},
   "outputs": [],
   "source": [
    "df['Differenz'] = df['2019'] - df['1999']\n",
    "df"
   ]
  },
  {
   "cell_type": "markdown",
   "metadata": {},
   "source": [
    "**Parteien**"
   ]
  },
  {
   "cell_type": "markdown",
   "metadata": {},
   "source": [
    "Okay... welche Parteien wollen wir wirklich anschauen?\n",
    "\n",
    "Es hat ziemlich viele:"
   ]
  },
  {
   "cell_type": "code",
   "execution_count": null,
   "metadata": {},
   "outputs": [],
   "source": [
    "df['Partei_Name'].unique()"
   ]
  },
  {
   "cell_type": "markdown",
   "metadata": {},
   "source": [
    "Lasst uns für den weiteren Verlauf der Analyse eine Auswahl treffen:"
   ]
  },
  {
   "cell_type": "code",
   "execution_count": null,
   "metadata": {},
   "outputs": [],
   "source": [
    "parties = ['FDP', 'CVP', 'SP', 'SVP', 'GPS', 'GLP', 'BDP']"
   ]
  },
  {
   "cell_type": "code",
   "execution_count": null,
   "metadata": {},
   "outputs": [],
   "source": [
    "df = df[df['Partei_Name'].isin(parties)]"
   ]
  },
  {
   "cell_type": "code",
   "execution_count": null,
   "metadata": {},
   "outputs": [],
   "source": [
    "df"
   ]
  },
  {
   "cell_type": "markdown",
   "metadata": {},
   "source": [
    "## 1. Veränderung über alle Gemeinden hinweg"
   ]
  },
  {
   "cell_type": "markdown",
   "metadata": {},
   "source": [
    "Wir starten mit ein paar Aufwärmübungen. Das kennen wir bereits:\n",
    "\n",
    "**Quiz:** Wie waren die Wähleranteile je nach Partei im Jahr 1999 im Schnitt?"
   ]
  },
  {
   "cell_type": "code",
   "execution_count": null,
   "metadata": {},
   "outputs": [],
   "source": []
  },
  {
   "cell_type": "markdown",
   "metadata": {},
   "source": [
    "Lass uns das plotten:"
   ]
  },
  {
   "cell_type": "code",
   "execution_count": null,
   "metadata": {},
   "outputs": [],
   "source": []
  },
  {
   "cell_type": "markdown",
   "metadata": {},
   "source": [
    "Und wie hoch waren die Wähleranteile der Parteien 2019 im Schnitt?"
   ]
  },
  {
   "cell_type": "code",
   "execution_count": null,
   "metadata": {},
   "outputs": [],
   "source": []
  },
  {
   "cell_type": "markdown",
   "metadata": {},
   "source": [
    "Machen wir nochmals einen Plot..."
   ]
  },
  {
   "cell_type": "code",
   "execution_count": null,
   "metadata": {},
   "outputs": [],
   "source": []
  },
  {
   "cell_type": "markdown",
   "metadata": {},
   "source": [
    "Wie viele Wählerprozente haben die Parteien im Schnitt zugelegt?"
   ]
  },
  {
   "cell_type": "code",
   "execution_count": null,
   "metadata": {},
   "outputs": [],
   "source": []
  },
  {
   "cell_type": "markdown",
   "metadata": {},
   "source": [
    "Plot:"
   ]
  },
  {
   "cell_type": "code",
   "execution_count": null,
   "metadata": {},
   "outputs": [],
   "source": []
  },
  {
   "cell_type": "markdown",
   "metadata": {},
   "source": [
    "**Schöne Farben**"
   ]
  },
  {
   "cell_type": "markdown",
   "metadata": {},
   "source": [
    "Übrigens... wir können für unsere Plots noch schönere Parteifarben hinzufügen.\n",
    "\n",
    "Dazu definieren wir uns einen Dictionary von Parteien und dazugehörigen Farben:"
   ]
  },
  {
   "cell_type": "code",
   "execution_count": null,
   "metadata": {},
   "outputs": [],
   "source": [
    "colors = {\n",
    "  \"SVP\": \"#4B8A3E\",\n",
    "  \"FDP\": \"#3872B5\",\n",
    "  \"CVP\": \"#D6862B\",\n",
    "  \"BDP\": \"#E6C820\",\n",
    "  \"GLP\": \"#C4C43D\",\n",
    "  \"SP\": \"#F0554D\",\n",
    "  \"GPS\": \"#84B547\"\n",
    "}"
   ]
  },
  {
   "cell_type": "markdown",
   "metadata": {},
   "source": [
    "So können wir zum Beispiel nach der Farbe der SVP fragen:"
   ]
  },
  {
   "cell_type": "code",
   "execution_count": null,
   "metadata": {},
   "outputs": [],
   "source": [
    "colors['SVP']"
   ]
  },
  {
   "cell_type": "markdown",
   "metadata": {},
   "source": [
    "Pandas ist leider zu blöd, um diesen Dictionary einfach als Parameter für die Plotfunktion zu verstehen.\n",
    "\n",
    "Daher müssen wir einen kleinen Trick anwenden.\n",
    "\n",
    "Die Tabelle, die wir plotten wollen, speichern wir dazu kurz in einem Dataframe:"
   ]
  },
  {
   "cell_type": "code",
   "execution_count": null,
   "metadata": {},
   "outputs": [],
   "source": [
    "df_temp = df.groupby('Partei_Name')['Differenz'].mean().sort_values()\n",
    "df_temp"
   ]
  },
  {
   "cell_type": "markdown",
   "metadata": {},
   "source": [
    "Für den Plot brauchen wir eine Liste von Farben, die entsprechend dieser Reihenfolge geordnet sind.\n",
    "\n",
    "Wir machen das, in dem wir \"list comprehension\" verwenden. Das heisst: wie nehmen die Indexwerte der Tabelle (also die Parteien) und schlagen für jeden Eintrag die passende Farbet nach."
   ]
  },
  {
   "cell_type": "code",
   "execution_count": null,
   "metadata": {},
   "outputs": [],
   "source": [
    "[colors[key] for key in df_temp.index]"
   ]
  },
  {
   "cell_type": "code",
   "execution_count": null,
   "metadata": {},
   "outputs": [],
   "source": [
    "df_temp.plot(kind='barh', color=[colors[key] for key in df_temp.index])"
   ]
  },
  {
   "cell_type": "code",
   "execution_count": null,
   "metadata": {},
   "outputs": [],
   "source": []
  },
  {
   "cell_type": "markdown",
   "metadata": {},
   "source": [
    "## 2. Veränderung über Gruppen von Gemeinden hinweg"
   ]
  },
  {
   "cell_type": "markdown",
   "metadata": {},
   "source": [
    "Nun kommen wir endlich zu dem Teil, der uns eigentlich interessiert: gruppierte Auswertungen!\n",
    "\n",
    "Dazu müssen wir uns entscheiden:\n",
    "- welche Partei wollen wir analysieren?\n",
    "- welche Gemeindegruppierung interessiert uns?\n",
    "- welchen Wählerwert wollen wir anschauen?\n",
    "\n",
    "**Frage:** Was könnte eine mögliche Fragestellung sein?"
   ]
  },
  {
   "cell_type": "code",
   "execution_count": null,
   "metadata": {},
   "outputs": [],
   "source": [
    "# Hier Platz für Antwort\n",
    "\n"
   ]
  },
  {
   "cell_type": "markdown",
   "metadata": {},
   "source": [
    "### a) anhand von qualitativen Merkmalen"
   ]
  },
  {
   "cell_type": "markdown",
   "metadata": {},
   "source": [
    "Wir beginnen mal mit der Raumgliederung.\n",
    "\n",
    "Und nehmen eine Partei in den Fokus..."
   ]
  },
  {
   "cell_type": "code",
   "execution_count": null,
   "metadata": {},
   "outputs": [],
   "source": [
    "partei = 'SVP'"
   ]
  },
  {
   "cell_type": "markdown",
   "metadata": {},
   "source": [
    "... und filtern unseren Datensatz nach dieser Partei:"
   ]
  },
  {
   "cell_type": "code",
   "execution_count": null,
   "metadata": {},
   "outputs": [],
   "source": [
    "df_partei = df[df['Partei_Name'] == partei]"
   ]
  },
  {
   "cell_type": "code",
   "execution_count": null,
   "metadata": {},
   "outputs": [],
   "source": [
    "df_partei.head()"
   ]
  },
  {
   "cell_type": "markdown",
   "metadata": {},
   "source": [
    "Jetzt folgt der entscheidende Schritt: die Gruppierung. Wir müssen zu jeder Gemeinde die Info hinzufügen, welchem Raumtyp sie angehört. (Remember, diese Infos sind im Hilfsdataframe hinterlegt, das wir geladen haben:"
   ]
  },
  {
   "cell_type": "code",
   "execution_count": null,
   "metadata": {},
   "outputs": [],
   "source": [
    "df_typen.head()"
   ]
  },
  {
   "cell_type": "markdown",
   "metadata": {},
   "source": [
    "Um die zwei Tabellen zu \"verbinden\", können wir die Funktion `merge()` benutzen:\n",
    "- Methode (\"how\"): nur die Gemeinden, die in beiden Tabellen vorkommen\n",
    "- Datenfeld, das fürs matching verwendet wird (\"on\"): Gemeinde_ID"
   ]
  },
  {
   "cell_type": "code",
   "execution_count": null,
   "metadata": {},
   "outputs": [],
   "source": [
    "df_partei2 = df_partei.merge(df_typen, how='inner', on='Gemeinde_ID')"
   ]
  },
  {
   "cell_type": "code",
   "execution_count": null,
   "metadata": {},
   "outputs": [],
   "source": [
    "df_partei2.head()"
   ]
  },
  {
   "cell_type": "markdown",
   "metadata": {},
   "source": [
    "Jetzt haben wir ein Dataframe, das wir ganz einfach mit `groupby()` auswerten können."
   ]
  },
  {
   "cell_type": "code",
   "execution_count": null,
   "metadata": {},
   "outputs": [],
   "source": [
    "df_partei2.groupby('Raumtyp')['Differenz'].mean()"
   ]
  },
  {
   "cell_type": "markdown",
   "metadata": {},
   "source": [
    "Für unseren Plot können wir die Farb-Zuordnung von vorher wieder benutzen! :-)"
   ]
  },
  {
   "cell_type": "code",
   "execution_count": null,
   "metadata": {},
   "outputs": [],
   "source": [
    "df_partei2.groupby('Raumtyp')['Differenz'].mean().plot(\n",
    "    kind='barh', \n",
    "    color=colors[partei],\n",
    "    title=('Veränderung je nach Gemeinde-Raumtyp, ' + partei))"
   ]
  },
  {
   "cell_type": "code",
   "execution_count": null,
   "metadata": {},
   "outputs": [],
   "source": []
  },
  {
   "cell_type": "markdown",
   "metadata": {},
   "source": [
    "### Übungsfragen"
   ]
  },
  {
   "cell_type": "markdown",
   "metadata": {},
   "source": [
    "**Quiz:** Wie hoch waren 1999 die Wähleranteile der SP je nach Grossregion? Und 2019?\n",
    "\n",
    "Lösungsweg:\n",
    "- Datensatz nach der Partei filtern\n",
    "- Gemeinde-Informationen hinzufügen\n",
    "- Datensatz nach Gemeindegruppe auswerten\n",
    "\n",
    "Erstellen Sie einen Plot und beschriften Sie ihn."
   ]
  },
  {
   "cell_type": "code",
   "execution_count": null,
   "metadata": {},
   "outputs": [],
   "source": []
  },
  {
   "cell_type": "code",
   "execution_count": null,
   "metadata": {},
   "outputs": [],
   "source": []
  },
  {
   "cell_type": "code",
   "execution_count": null,
   "metadata": {},
   "outputs": [],
   "source": []
  },
  {
   "cell_type": "code",
   "execution_count": null,
   "metadata": {},
   "outputs": [],
   "source": []
  },
  {
   "cell_type": "code",
   "execution_count": null,
   "metadata": {},
   "outputs": [],
   "source": []
  },
  {
   "cell_type": "markdown",
   "metadata": {},
   "source": [
    "**Quiz:** Wie haben sich die Wähleranteile der CVP je nach Sprachregion verändert?"
   ]
  },
  {
   "cell_type": "code",
   "execution_count": null,
   "metadata": {},
   "outputs": [],
   "source": []
  },
  {
   "cell_type": "code",
   "execution_count": null,
   "metadata": {},
   "outputs": [],
   "source": []
  },
  {
   "cell_type": "code",
   "execution_count": null,
   "metadata": {},
   "outputs": [],
   "source": []
  },
  {
   "cell_type": "code",
   "execution_count": null,
   "metadata": {},
   "outputs": [],
   "source": []
  },
  {
   "cell_type": "code",
   "execution_count": null,
   "metadata": {},
   "outputs": [],
   "source": []
  },
  {
   "cell_type": "markdown",
   "metadata": {},
   "source": [
    "### b) anhand von quantitativen Merkmalen"
   ]
  },
  {
   "cell_type": "markdown",
   "metadata": {},
   "source": [
    "Eine Frage, die wir noch nicht beantworten können, ist: Wie hat sich der Wähleranteil der Grünen je nach Ausländerantei einer Gemeinde verändert?\n",
    "\n",
    "Denn Ausländeranteil ist eine kontinuierliche Grössenangabe - es gibt hier noch keine Kategorien!"
   ]
  },
  {
   "cell_type": "code",
   "execution_count": 1,
   "metadata": {},
   "outputs": [],
   "source": [
    "partei = 'GPS'"
   ]
  },
  {
   "cell_type": "code",
   "execution_count": null,
   "metadata": {},
   "outputs": [],
   "source": [
    "df_partei = df[df['Partei_Name'] == partei]"
   ]
  },
  {
   "cell_type": "code",
   "execution_count": null,
   "metadata": {},
   "outputs": [],
   "source": [
    "df_partei2 = df_partei.merge(df_typen, how='inner', on='Gemeinde_ID')"
   ]
  },
  {
   "cell_type": "code",
   "execution_count": null,
   "metadata": {},
   "outputs": [],
   "source": [
    "df_partei2.plot(kind='scatter', x='Ausländeranteil', y='Differenz', color=colors[partei])"
   ]
  },
  {
   "cell_type": "markdown",
   "metadata": {},
   "source": [
    "Wir müssen zuerst unsere Kategorien basteln!\n",
    "\n",
    "Dazu müssen wir zuerst mal wissen:\n",
    "- anhand von welchen Grenzen wollen wir die Kategorien bilden? (z.B. 0-10%, 10-15%, etc.)\n",
    "- wie wollen wir diese Kategorien beschriften?\n",
    "\n",
    "Wir schauen erstmal, wie die Werte ungefähr verteilt sind."
   ]
  },
  {
   "cell_type": "code",
   "execution_count": null,
   "metadata": {},
   "outputs": [],
   "source": [
    "df_partei2['Ausländeranteil'].hist(bins=50)"
   ]
  },
  {
   "cell_type": "markdown",
   "metadata": {},
   "source": [
    "Als nächstes erstellen wir zwei Listen:"
   ]
  },
  {
   "cell_type": "code",
   "execution_count": null,
   "metadata": {},
   "outputs": [],
   "source": [
    "bin_values = [\n",
    "    0,\n",
    "    10,\n",
    "    15,\n",
    "    20,\n",
    "    25,\n",
    "    np.inf\n",
    "]"
   ]
  },
  {
   "cell_type": "code",
   "execution_count": null,
   "metadata": {},
   "outputs": [],
   "source": [
    "bin_codes = [\n",
    "    \"10 Prozent oder weniger\",\n",
    "    \"10 bis 15 Prozent\",\n",
    "    \"15 bis 20 Prozent\",\n",
    "    \"20 bis 25 Prozent\",\n",
    "    \"25 Prozent oder mehr\"\n",
    "]"
   ]
  },
  {
   "cell_type": "markdown",
   "metadata": {},
   "source": [
    "Es gibt in Pandas eine praktische Funktion, mit der man die Kategorisierung vornehmen kann: `pd.cut()`"
   ]
  },
  {
   "cell_type": "code",
   "execution_count": null,
   "metadata": {},
   "outputs": [],
   "source": [
    "pd.cut(df_partei2['Ausländeranteil'], bin_values, labels=bin_codes, include_lowest=True)"
   ]
  },
  {
   "cell_type": "markdown",
   "metadata": {},
   "source": [
    "Jetzt speichern wir diese Kategorien einfach in einer neuen Spalte:"
   ]
  },
  {
   "cell_type": "code",
   "execution_count": null,
   "metadata": {},
   "outputs": [],
   "source": [
    "df_partei2['Ausländeranteil_Kat'] = pd.cut(df_partei2['Ausländeranteil'], bin_values, labels=bin_codes, include_lowest=True).astype(str)"
   ]
  },
  {
   "cell_type": "code",
   "execution_count": null,
   "metadata": {},
   "outputs": [],
   "source": [
    "df_partei2"
   ]
  },
  {
   "cell_type": "markdown",
   "metadata": {},
   "source": [
    "Nun können wir unsere Auswertung wie zuvor vornehmen:"
   ]
  },
  {
   "cell_type": "code",
   "execution_count": null,
   "metadata": {},
   "outputs": [],
   "source": [
    "df_partei2.groupby('Ausländeranteil_Kat')['Differenz'].mean()"
   ]
  },
  {
   "cell_type": "code",
   "execution_count": null,
   "metadata": {},
   "outputs": [],
   "source": [
    "df_partei2.groupby('Ausländeranteil_Kat')['Differenz'].mean().plot(\n",
    "    kind='barh',\n",
    "    color=colors[partei],\n",
    "    title=('Veränderung je nach Ausländeranteil, ' + partei))"
   ]
  },
  {
   "cell_type": "code",
   "execution_count": null,
   "metadata": {},
   "outputs": [],
   "source": []
  },
  {
   "cell_type": "code",
   "execution_count": null,
   "metadata": {},
   "outputs": [],
   "source": []
  },
  {
   "cell_type": "markdown",
   "metadata": {},
   "source": [
    "### Übungsfragen"
   ]
  },
  {
   "cell_type": "markdown",
   "metadata": {},
   "source": [
    "**Quiz:** Wie hat sich der Wähleranteil der CVP in schnell, wie in langsam wachsenden Gemeinden entwickelt?\n",
    "\n",
    "Lösungsweg:\n",
    "- Datensatz nach der Partei filtern\n",
    "- Kategorisierung fürs Bevölkerungswachstum erstellen\n",
    "- Gemeinde-Informationen hinzufügen\n",
    "- Datensatz nach Gemeindegruppe auswerten\n",
    "\n",
    "Erstellen Sie einen Plot und beschriften Sie ihn."
   ]
  },
  {
   "cell_type": "code",
   "execution_count": null,
   "metadata": {},
   "outputs": [],
   "source": []
  },
  {
   "cell_type": "code",
   "execution_count": null,
   "metadata": {},
   "outputs": [],
   "source": []
  },
  {
   "cell_type": "code",
   "execution_count": null,
   "metadata": {},
   "outputs": [],
   "source": []
  },
  {
   "cell_type": "code",
   "execution_count": null,
   "metadata": {},
   "outputs": [],
   "source": []
  },
  {
   "cell_type": "markdown",
   "metadata": {},
   "source": [
    "## 3. Räumliche Darstellung der Auswertungen"
   ]
  },
  {
   "cell_type": "markdown",
   "metadata": {},
   "source": [
    "Es wäre nett, wenn wir die Veränderungen nicht nur als Balkenchart, sondern auch gleich auf einer Karte einzeichnen könnten!\n",
    "\n",
    "Es gibt mehrere Wege, wie man da hinkommt."
   ]
  },
  {
   "cell_type": "markdown",
   "metadata": {},
   "source": [
    "### a) mit Geopandas"
   ]
  },
  {
   "cell_type": "markdown",
   "metadata": {},
   "source": [
    "Wenn wir in unserer Jupyter-Notebook-Umgebung bleiben wollen, können wir Geopandas nutzen.\n",
    "\n",
    "Wie das genau funktioniert, besprechen wir später noch ausführlich. Hier aber schonmal ein Beispiel."
   ]
  },
  {
   "cell_type": "markdown",
   "metadata": {},
   "source": [
    "**Shapefile laden**"
   ]
  },
  {
   "cell_type": "markdown",
   "metadata": {},
   "source": [
    "Um etwas auf einer Karte einzeichen zu können, brauchen wir... eine Karte!\n",
    "\n",
    "In der GIS-Welt heissen solche Karten \"Shapefiles\". Wir haben eines für die Schweizer Gemeinden zur Verfügung:"
   ]
  },
  {
   "cell_type": "code",
   "execution_count": null,
   "metadata": {},
   "outputs": [],
   "source": [
    "gdf = gpd.read_file('dataprojects/wahlen/shp/bfs-2019-wahl-gemeinden.shp')"
   ]
  },
  {
   "cell_type": "markdown",
   "metadata": {},
   "source": [
    "Wir laden das Shapefile in ein so genanntes Geodataframe:"
   ]
  },
  {
   "cell_type": "code",
   "execution_count": null,
   "metadata": {},
   "outputs": [],
   "source": [
    "gdf"
   ]
  },
  {
   "cell_type": "code",
   "execution_count": null,
   "metadata": {},
   "outputs": [],
   "source": [
    "gdf.plot(color='lightblue', figsize=(15,9))"
   ]
  },
  {
   "cell_type": "markdown",
   "metadata": {},
   "source": [
    "**Daten mit Shapefile verbinden**"
   ]
  },
  {
   "cell_type": "markdown",
   "metadata": {},
   "source": [
    "Damit wir auf der Karte etwas einzeichnen können, müssen wir zu jeder Gemeinde eine Information hinzufügen.\n",
    "\n",
    "Wir nehmen dazu unsere gewohnte Auswertung. Diesmal: Wie hoch ist der Wähleranteil der Grünen 2019?"
   ]
  },
  {
   "cell_type": "code",
   "execution_count": null,
   "metadata": {},
   "outputs": [],
   "source": [
    "partei = 'GPS'"
   ]
  },
  {
   "cell_type": "code",
   "execution_count": null,
   "metadata": {},
   "outputs": [],
   "source": [
    "df_partei = df[df['Partei_Name'] == partei]"
   ]
  },
  {
   "cell_type": "code",
   "execution_count": null,
   "metadata": {},
   "outputs": [],
   "source": [
    "df_partei.head()"
   ]
  },
  {
   "cell_type": "markdown",
   "metadata": {},
   "source": [
    "... und matchen sie mit `merge()` ins Geodatenframe:"
   ]
  },
  {
   "cell_type": "code",
   "execution_count": null,
   "metadata": {},
   "outputs": [],
   "source": [
    "gdf_partei = gdf.merge(df_partei, how='inner', left_on='id', right_on='Gemeinde_ID')"
   ]
  },
  {
   "cell_type": "code",
   "execution_count": null,
   "metadata": {},
   "outputs": [],
   "source": [
    "gdf_partei.head()"
   ]
  },
  {
   "cell_type": "markdown",
   "metadata": {},
   "source": [
    "**Plotten**"
   ]
  },
  {
   "cell_type": "markdown",
   "metadata": {},
   "source": [
    "Geopandas hat eine Plot-Funktion, die ähnlich funktioniert wie in Pandas.\n",
    "\n",
    "Wichtig: wir müssen angeben, anhand von welcher Information die Farbgebung erstellt werden soll!"
   ]
  },
  {
   "cell_type": "code",
   "execution_count": null,
   "metadata": {},
   "outputs": [],
   "source": [
    "# Plot\n",
    "ax = gdf_partei.plot(column='2019', legend=True, figsize=(15,9))\n",
    "\n",
    "ax.set_title(\"Wähleranteil 2019 in Prozentpunkten \" + partei)"
   ]
  },
  {
   "cell_type": "markdown",
   "metadata": {},
   "source": [
    "Standardmässig werden die Daten anhand einer kontinuierlichen Skala dargestellt.\n",
    "\n",
    "Wir können diese Skala auch austauschen. Eine Auswahl von Skalen gibt es hier:\n",
    "\n",
    "https://matplotlib.org/3.1.1/gallery/color/colormap_reference.html\n",
    "\n",
    "Wichtig auch: Die Min/Max-Werte einstellen."
   ]
  },
  {
   "cell_type": "code",
   "execution_count": null,
   "metadata": {},
   "outputs": [],
   "source": [
    "# Plot\n",
    "ax = gdf_partei.plot(\n",
    "    column='2019',\n",
    "    cmap='Greens',\n",
    "    vmin=0,\n",
    "    vmax=30,\n",
    "    figsize=(15,9),\n",
    "    legend=True)\n",
    "\n",
    "ax.set_title(\"Wähleranteil 2019 in Prozentpunkten \" + partei)"
   ]
  },
  {
   "cell_type": "markdown",
   "metadata": {},
   "source": [
    "Das Herumspielen mit Minimal- und Maximalwerten lohnt sich. Es kommt drauf an, was man hervorheben will!\n",
    "\n",
    "Wir können uns auch eigene Grenzwerte erstellen:"
   ]
  },
  {
   "cell_type": "code",
   "execution_count": null,
   "metadata": {},
   "outputs": [],
   "source": [
    "bins = [\n",
    "    0, 5, 10, 15, 20, 25\n",
    "]"
   ]
  },
  {
   "cell_type": "code",
   "execution_count": null,
   "metadata": {},
   "outputs": [],
   "source": [
    "# Plot\n",
    "ax = gdf_partei.plot(\n",
    "    column='2019',\n",
    "    cmap='Greens',\n",
    "    scheme='user_defined',\n",
    "    classification_kwds={'bins': bins},\n",
    "    figsize=(15,9),\n",
    "    legend=True)\n",
    "\n",
    "ax.set_title(\"Wähleranteil 2019 in Prozentpunkten \" + partei)"
   ]
  },
  {
   "cell_type": "markdown",
   "metadata": {},
   "source": [
    "### b) mit einem externen Tool"
   ]
  },
  {
   "cell_type": "markdown",
   "metadata": {},
   "source": [
    "zum Beispiel: Datawrapper. https://www.datawrapper.de/\n",
    "\n",
    "Dort hat es diverse Maps bereits vorprogrammiert - auch die Schweizer Gemeinden.\n",
    "\n",
    "Um es zu benutzen, müssen wir die Daten exportieren:"
   ]
  },
  {
   "cell_type": "code",
   "execution_count": null,
   "metadata": {},
   "outputs": [],
   "source": [
    "party = 'GPS'"
   ]
  },
  {
   "cell_type": "code",
   "execution_count": null,
   "metadata": {},
   "outputs": [],
   "source": [
    "year = '2019'"
   ]
  },
  {
   "cell_type": "code",
   "execution_count": null,
   "metadata": {},
   "outputs": [],
   "source": [
    "df_temp = df[df['Partei_Name'] == party][['Gemeinde_ID', 'Gemeinde_Name', year]]\n",
    "df_temp.to_csv('dataprojects/wahlen/charts/' + party + '-' + year + '.csv', index=False)"
   ]
  },
  {
   "cell_type": "code",
   "execution_count": null,
   "metadata": {},
   "outputs": [],
   "source": []
  },
  {
   "cell_type": "code",
   "execution_count": null,
   "metadata": {},
   "outputs": [],
   "source": []
  },
  {
   "cell_type": "code",
   "execution_count": null,
   "metadata": {},
   "outputs": [],
   "source": []
  }
 ],
 "metadata": {
  "kernelspec": {
   "display_name": "Python 3",
   "language": "python",
   "name": "python3"
  },
  "language_info": {
   "codemirror_mode": {
    "name": "ipython",
    "version": 3
   },
   "file_extension": ".py",
   "mimetype": "text/x-python",
   "name": "python",
   "nbconvert_exporter": "python",
   "pygments_lexer": "ipython3",
   "version": "3.8.2"
  }
 },
 "nbformat": 4,
 "nbformat_minor": 2
}
