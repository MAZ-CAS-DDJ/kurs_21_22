{
 "cells": [
  {
   "cell_type": "markdown",
   "id": "54804753",
   "metadata": {},
   "source": [
    "# Color Coding"
   ]
  },
  {
   "cell_type": "markdown",
   "id": "200480b5",
   "metadata": {},
   "source": [
    "**Inhalt:** Numerische Werte farblich darstellen\n",
    "\n",
    "**Nötige Skills:** keine\n",
    "\n",
    "**Lernziele:**\n",
    "- Generelle Kenntnisse über Farben im Web\n",
    "- Colormaps benutzen und selbst kreieren"
   ]
  },
  {
   "cell_type": "markdown",
   "id": "e28bf84d",
   "metadata": {},
   "source": [
    "## Das Beispiel\n",
    "\n",
    "Eine Liste von Ländern mit ihrer Grösse und diversen Eigenschaften.\n",
    "\n",
    "Quelle: Weltbank (https://data.worldbank.org/indicator)"
   ]
  },
  {
   "cell_type": "markdown",
   "id": "7c12f11c",
   "metadata": {},
   "source": [
    "## Vorbereitung"
   ]
  },
  {
   "cell_type": "code",
   "execution_count": null,
   "id": "2780f405",
   "metadata": {},
   "outputs": [],
   "source": [
    "import pandas as pd"
   ]
  },
  {
   "cell_type": "code",
   "execution_count": null,
   "id": "8ae9524c",
   "metadata": {},
   "outputs": [],
   "source": [
    "import numpy as np"
   ]
  },
  {
   "cell_type": "code",
   "execution_count": null,
   "id": "76c3ae50",
   "metadata": {},
   "outputs": [],
   "source": [
    "from IPython.display import Image"
   ]
  },
  {
   "cell_type": "code",
   "execution_count": null,
   "id": "1418667d",
   "metadata": {},
   "outputs": [],
   "source": [
    "pd.set_option(\"display.max_colwidth\", 150)"
   ]
  },
  {
   "cell_type": "markdown",
   "id": "4564c600",
   "metadata": {},
   "source": [
    "## Daten laden"
   ]
  },
  {
   "cell_type": "code",
   "execution_count": null,
   "id": "8a639901",
   "metadata": {},
   "outputs": [],
   "source": [
    "path = \"dataprojects/Worldbank/worldbank_countries.xlsx\""
   ]
  },
  {
   "cell_type": "code",
   "execution_count": null,
   "id": "15d6f41f",
   "metadata": {},
   "outputs": [],
   "source": [
    "df = pd.read_excel(path)"
   ]
  },
  {
   "cell_type": "code",
   "execution_count": null,
   "id": "1b392ea1",
   "metadata": {
    "scrolled": true
   },
   "outputs": [],
   "source": [
    "df.head(3)"
   ]
  },
  {
   "cell_type": "markdown",
   "id": "80fe439d",
   "metadata": {},
   "source": [
    "### Variablenbeschrieb"
   ]
  },
  {
   "cell_type": "code",
   "execution_count": null,
   "id": "d6e5c9c4",
   "metadata": {},
   "outputs": [],
   "source": [
    "df_vars = pd.read_excel(path, sheet_name='VARIABLES')"
   ]
  },
  {
   "cell_type": "code",
   "execution_count": null,
   "id": "f6bcc449",
   "metadata": {},
   "outputs": [],
   "source": [
    "df_vars"
   ]
  },
  {
   "cell_type": "markdown",
   "id": "4cb241b3",
   "metadata": {},
   "source": [
    "Doch bevor wir beginnen... etwas Theorie über Farben im Web und in Python."
   ]
  },
  {
   "cell_type": "markdown",
   "id": "83981172",
   "metadata": {},
   "source": [
    "## Farben im Web"
   ]
  },
  {
   "cell_type": "markdown",
   "id": "b66c5e5c",
   "metadata": {},
   "source": [
    "\n",
    "Farben sind... auch nichts anderes als Zahlen. Es gibt verschiedene Schemas, um Farben zu codieren. Das gängigste im Internet ist **RGB**.\n",
    "- rot-Intensität\n",
    "- grün-Intensität\n",
    "- blau-Intensität\n",
    "\n",
    "Jede Farbe setzt sich aus drei Komponenten zusammen, rot, grün, blau. Manchmal kommt auch noch eine vierte Komponente dazu, A. Das steht für Alpha, den Transparenzwert."
   ]
  },
  {
   "cell_type": "markdown",
   "id": "7eb39219",
   "metadata": {},
   "source": [
    "Man kann RGB-Farben in verschiedenen Zahlensystemen angeben. Zwei oft verwendete und äquivalente Systeme sind:\n",
    "- In Dezimalzahlen zwischen 0 und 255. Zum Beispiel so: `rgb(102, 153, 0)`\n",
    "- In Hexadezimalzahlen zwischen 0 und 255: Zum Beispiel so: `#669900`"
   ]
  },
  {
   "cell_type": "markdown",
   "id": "c44bf166",
   "metadata": {},
   "source": [
    "Um Farben und die dazu passenden Codes zu explorieren, eignet sich der [Color Picker](https://www.w3schools.com/colors/colors_picker.asp) von W3C"
   ]
  },
  {
   "cell_type": "code",
   "execution_count": null,
   "id": "ae716a68",
   "metadata": {},
   "outputs": [],
   "source": [
    "Image(\"dataprojects/Worldbank/Colorpicker.png\")"
   ]
  },
  {
   "cell_type": "markdown",
   "id": "8d5bd54a",
   "metadata": {},
   "source": [
    "## Farben in Python und Pandas"
   ]
  },
  {
   "cell_type": "markdown",
   "id": "d0d7c5a2",
   "metadata": {},
   "source": [
    "Damit wir mit Farben arbeiten können, müssen wir typischerweise Bibliotheken aus `matplotlib` importieren:"
   ]
  },
  {
   "cell_type": "code",
   "execution_count": null,
   "id": "2121ebaf",
   "metadata": {},
   "outputs": [],
   "source": [
    "import matplotlib.colors as mcolors"
   ]
  },
  {
   "cell_type": "code",
   "execution_count": null,
   "id": "9ce9c50f",
   "metadata": {},
   "outputs": [],
   "source": [
    "import matplotlib.pyplot as plt"
   ]
  },
  {
   "cell_type": "markdown",
   "id": "8527e5c0",
   "metadata": {},
   "source": [
    "### Farben spezifizieren"
   ]
  },
  {
   "cell_type": "markdown",
   "id": "3c8d4919",
   "metadata": {},
   "source": [
    "Eine Farbe kann dabei auf verschiedene Arten erstellt werden.\n",
    "\n",
    "Zum Beispiel dieses schöne **<span style=\"background-color: #228b22; color: white; padding=1\">&nbsp; Grün &nbsp;</span>** hier:"
   ]
  },
  {
   "cell_type": "markdown",
   "id": "b6632a42",
   "metadata": {},
   "source": [
    "- als Hexadezimalzahl"
   ]
  },
  {
   "cell_type": "code",
   "execution_count": null,
   "id": "266aae77",
   "metadata": {},
   "outputs": [],
   "source": [
    "c = \"#669900\""
   ]
  },
  {
   "cell_type": "markdown",
   "id": "e84712c7",
   "metadata": {},
   "source": [
    "- als Tupel von Dezimalzahlen (jeweils zwischen 0 und 1, nicht zwischen o und 255)"
   ]
  },
  {
   "cell_type": "code",
   "execution_count": null,
   "id": "97c0a8d0",
   "metadata": {},
   "outputs": [],
   "source": [
    "c = (0.133, 0.545, 0.133)"
   ]
  },
  {
   "cell_type": "markdown",
   "id": "e5cf391c",
   "metadata": {},
   "source": [
    "- als Dezimalzahlen-Tupel, inkl. Alphawert"
   ]
  },
  {
   "cell_type": "code",
   "execution_count": null,
   "id": "eea42790",
   "metadata": {},
   "outputs": [],
   "source": [
    "c = (0.133, 0.545, 0.133, 1)"
   ]
  },
  {
   "cell_type": "markdown",
   "id": "9f04b65c",
   "metadata": {},
   "source": [
    "- als eine von den vordefinierten Farben: https://matplotlib.org/stable/gallery/color/named_colors.html"
   ]
  },
  {
   "cell_type": "code",
   "execution_count": null,
   "id": "eb4b6e6b",
   "metadata": {},
   "outputs": [],
   "source": [
    "c = \"forestgreen\""
   ]
  },
  {
   "cell_type": "code",
   "execution_count": null,
   "id": "65c74b2f",
   "metadata": {},
   "outputs": [],
   "source": [
    "Image(\"dataprojects/Worldbank/css-colors.png\")"
   ]
  },
  {
   "cell_type": "markdown",
   "id": "0c93fb39",
   "metadata": {},
   "source": [
    "Erkennt matplotlib die Farbe anhand einer der obigen Spezifikationsarten, stehen diverse Funktionen zur Verfügung."
   ]
  },
  {
   "cell_type": "markdown",
   "id": "64bf863b",
   "metadata": {},
   "source": [
    "### Farben konvertieren"
   ]
  },
  {
   "cell_type": "markdown",
   "id": "8ae3bbe0",
   "metadata": {},
   "source": [
    "Die naheliegendste Funktion: Den Farbcode für eine bestimmte Farbe anzeigen:"
   ]
  },
  {
   "cell_type": "code",
   "execution_count": null,
   "id": "b1698ce6",
   "metadata": {},
   "outputs": [],
   "source": [
    "# Als Hex-Code\n",
    "mcolors.to_hex(c)"
   ]
  },
  {
   "cell_type": "code",
   "execution_count": null,
   "id": "356c1e29",
   "metadata": {},
   "outputs": [],
   "source": [
    "# Als Dezimal-RGB\n",
    "mcolors.to_rgb(c)"
   ]
  },
  {
   "cell_type": "code",
   "execution_count": null,
   "id": "67664221",
   "metadata": {},
   "outputs": [],
   "source": [
    "# Als Dezimal-RGB, inkl. Alpha-Wert\n",
    "mcolors.to_rgba(c)"
   ]
  },
  {
   "cell_type": "markdown",
   "id": "bf3d29f8",
   "metadata": {},
   "source": [
    "### Farben mischen"
   ]
  },
  {
   "cell_type": "markdown",
   "id": "377d0edb",
   "metadata": {},
   "source": [
    "Wenn man versteht, dass eine Farbe auch nur eine Kombination von drei Zahlen ist, dann versteht man auch, wie man zwei Farben mischen kann.\n",
    "\n",
    "Man bildet einfach für jede der drei Komponenten den Mittelwert. Bzw man bewegt sich um einen gewissen Betrag vorwärts auf einem dreidimensionalen Vektor zwischen den beiden Zahlen: man interpoliert."
   ]
  },
  {
   "cell_type": "markdown",
   "id": "55edf385",
   "metadata": {},
   "source": [
    "**Konzeptionell funktioniert das so:** Mischen von rot und blau"
   ]
  },
  {
   "cell_type": "markdown",
   "id": "3a6b1ef7",
   "metadata": {},
   "source": [
    "- Als Farbe 1 definieren wir ein **<span style=\"background-color: #0066ff; color: white; padding=1\">&nbsp; Blau &nbsp;</span>**"
   ]
  },
  {
   "cell_type": "code",
   "execution_count": null,
   "id": "bc3d572a",
   "metadata": {},
   "outputs": [],
   "source": [
    "c1 = (0.0, 0.4, 1.0)"
   ]
  },
  {
   "cell_type": "markdown",
   "id": "a2a5638b",
   "metadata": {},
   "source": [
    "- Als Farbe 2 definieren wir ein **<span style=\"background-color: #cc0000; color: white; padding=1\">&nbsp; Rot &nbsp;</span>**"
   ]
  },
  {
   "cell_type": "code",
   "execution_count": null,
   "id": "ec10eb12",
   "metadata": {},
   "outputs": [],
   "source": [
    "c2 = (0.8, 0.0, 0.0)"
   ]
  },
  {
   "cell_type": "markdown",
   "id": "75636a68",
   "metadata": {},
   "source": [
    "- Für die Mischung berechnen wir den Mittelwert jedes Elements im Tupel:"
   ]
  },
  {
   "cell_type": "code",
   "execution_count": null,
   "id": "55782511",
   "metadata": {},
   "outputs": [],
   "source": [
    "d = 0.5"
   ]
  },
  {
   "cell_type": "code",
   "execution_count": null,
   "id": "c1ef8e47",
   "metadata": {},
   "outputs": [],
   "source": [
    "c3 = tuple(k1 + (k2 - k1) * d for k1, k2 in zip(c1, c2))\n",
    "c3"
   ]
  },
  {
   "cell_type": "markdown",
   "id": "f763cd50",
   "metadata": {},
   "source": [
    "Das Ergebnis: Es resultiert ein **<span style=\"background-color: #663380; color: white; padding=1\">&nbsp; Violett &nbsp;</span>**."
   ]
  },
  {
   "cell_type": "markdown",
   "id": "4d96ecc5",
   "metadata": {},
   "source": [
    "### Interpolieren"
   ]
  },
  {
   "cell_type": "markdown",
   "id": "9834c9b4",
   "metadata": {},
   "source": [
    "Wenn wir nun verschieden lange «Strecken» zwischen **<span style=\"background-color: #0066ff; color: white; padding=1\">&nbsp; Blau &nbsp;</span>** und **<span style=\"background-color: #cc0000; color: white; padding=1\">&nbsp; Rot &nbsp;</span>** zurücklegen wollen, können wir verschieden lange Schritte interpolieren:"
   ]
  },
  {
   "cell_type": "code",
   "execution_count": null,
   "id": "72ed78bc",
   "metadata": {},
   "outputs": [],
   "source": [
    "d_list = [0, 0.1, 0.2, 0.3, 0.4, 0.5, 0.6, 0.7, 0.8, 0.9, 1]"
   ]
  },
  {
   "cell_type": "code",
   "execution_count": null,
   "id": "1f8ae2af",
   "metadata": {},
   "outputs": [],
   "source": [
    "d_codes = [tuple(k1 + (k2 - k1) * d for k1, k2 in zip(c1, c2)) for d in d_list]"
   ]
  },
  {
   "cell_type": "code",
   "execution_count": null,
   "id": "4807a4dc",
   "metadata": {},
   "outputs": [],
   "source": [
    "df_misch = pd.DataFrame({\n",
    "    'Distanz': d_list,\n",
    "    'Farbcode': d_codes\n",
    "})\n",
    "df_misch"
   ]
  },
  {
   "cell_type": "code",
   "execution_count": null,
   "id": "de8121f4",
   "metadata": {},
   "outputs": [],
   "source": [
    "df_misch['y'] = 1\n",
    "df_misch.plot(\n",
    "    kind='bar',\n",
    "    x='Distanz',\n",
    "    y='y',\n",
    "    color=df_misch['Farbcode'],\n",
    "    figsize=(8, 1),\n",
    "    legend=False\n",
    ")"
   ]
  },
  {
   "cell_type": "markdown",
   "id": "bc8b2ac9",
   "metadata": {},
   "source": [
    "In der Praxis ist uns das manuelle Mischen von Farben aber zu umständlich. Besser, wir benutzen die Funktionen, die uns Pandas / matplotlib dafür zur Verfügung stellt! Introducing: Colormaps!"
   ]
  },
  {
   "cell_type": "markdown",
   "id": "969131d7",
   "metadata": {},
   "source": [
    "## Colormaps"
   ]
  },
  {
   "cell_type": "markdown",
   "id": "4f1c0ae2",
   "metadata": {},
   "source": [
    "Colormaps sind sehr praktisch: Sie nehmen die Interpolation automatisch für uns vor.\n",
    "\n",
    "Oder, allgemeiner gesagt: Sie leisten eine **Zuordnung von numerischen Werten zu Farben**."
   ]
  },
  {
   "cell_type": "markdown",
   "id": "3721a78b",
   "metadata": {},
   "source": [
    "### Das Konzept"
   ]
  },
  {
   "cell_type": "markdown",
   "id": "ca35a9fe",
   "metadata": {},
   "source": [
    "Um diese Zuordnung zu machen, brauchen wir jeweils zwei Angaben:\n",
    "\n",
    "1. die **Norm**: Der Range von Zahlen, die wir zuordnen möchten\n",
    "1. den **Mapper**: Ein Farbschema, in das diese Zahlen übersetzt werden sollen."
   ]
  },
  {
   "cell_type": "markdown",
   "id": "01a16c04",
   "metadata": {},
   "source": [
    "Konkret könnte das zB so aussehen:"
   ]
  },
  {
   "cell_type": "markdown",
   "id": "6f4a800b",
   "metadata": {},
   "source": [
    "1. Wir wollen Zahlen zwischen 20 und 30 einer Farbe zuordnen"
   ]
  },
  {
   "cell_type": "code",
   "execution_count": null,
   "id": "8a5953c4",
   "metadata": {},
   "outputs": [],
   "source": [
    "norm = mcolors.Normalize(vmin=20, vmax=30)"
   ]
  },
  {
   "cell_type": "markdown",
   "id": "252c57a3",
   "metadata": {},
   "source": [
    "2. Wir wollen, dass 20 rot ist und 30 blau. Dafür gibt es die vordefinierte Colormap `RdBu'"
   ]
  },
  {
   "cell_type": "code",
   "execution_count": null,
   "id": "3ebd6f11",
   "metadata": {},
   "outputs": [],
   "source": [
    "mapper = plt.cm.ScalarMappable(norm=norm, cmap='RdBu')"
   ]
  },
  {
   "cell_type": "markdown",
   "id": "19ac1f20",
   "metadata": {},
   "source": [
    "In diesen Mapper können wir nun eine beliebige Zahl zwischen 20 und 30 eingeben:"
   ]
  },
  {
   "cell_type": "code",
   "execution_count": null,
   "id": "da7906ca",
   "metadata": {},
   "outputs": [],
   "source": [
    "mapper.to_rgba(24)"
   ]
  },
  {
   "cell_type": "markdown",
   "id": "324d50ed",
   "metadata": {},
   "source": [
    "Analog zu vorher können wir das mit allen Zahlen zwischen 20 und 30 machen:"
   ]
  },
  {
   "cell_type": "code",
   "execution_count": null,
   "id": "52be065e",
   "metadata": {},
   "outputs": [],
   "source": [
    "c_list = [20, 21, 22, 23, 24, 25, 26, 27, 28, 29, 30]\n",
    "c_codes = [mapper.to_rgba(c) for c in c_list]"
   ]
  },
  {
   "cell_type": "code",
   "execution_count": null,
   "id": "a74892fe",
   "metadata": {},
   "outputs": [],
   "source": [
    "df_misch = pd.DataFrame({\n",
    "    'Zahl': c_list,\n",
    "    'Farbcode': c_codes\n",
    "})\n",
    "df_misch"
   ]
  },
  {
   "cell_type": "code",
   "execution_count": null,
   "id": "488c4496",
   "metadata": {},
   "outputs": [],
   "source": [
    "df_misch['y'] = 1\n",
    "df_misch.plot(\n",
    "    kind='bar',\n",
    "    x='Zahl',\n",
    "    y='y',\n",
    "    color=df_misch['Farbcode'],\n",
    "    figsize=(8, 1),\n",
    "    legend=False\n",
    ")"
   ]
  },
  {
   "cell_type": "markdown",
   "id": "b6c0d5a6",
   "metadata": {},
   "source": [
    "### Vordefinierte Colormaps"
   ]
  },
  {
   "cell_type": "markdown",
   "id": "a5f7c74d",
   "metadata": {},
   "source": [
    "In matplotlib gibt es eine Reihe von vordefinierten Colormaps: https://matplotlib.org/stable/gallery/color/colormap_reference.html\n",
    "\n",
    "Wenn wir in einem Chart einen Wert farblich codieren wollen, können wir diese Colormaps verwenden.\n",
    "\n",
    "Hier eine Auswahl davon:"
   ]
  },
  {
   "cell_type": "code",
   "execution_count": null,
   "id": "9b0f8f77",
   "metadata": {},
   "outputs": [],
   "source": [
    "Image(\"dataprojects/Worldbank/colormaps.png\")"
   ]
  },
  {
   "cell_type": "markdown",
   "id": "78f353b6",
   "metadata": {},
   "source": [
    "Kehren wir nun zürich zu unseren Beispieldaten:"
   ]
  },
  {
   "cell_type": "code",
   "execution_count": null,
   "id": "d961526b",
   "metadata": {},
   "outputs": [],
   "source": [
    "df.head(2)"
   ]
  },
  {
   "cell_type": "markdown",
   "id": "26af66a5",
   "metadata": {},
   "source": [
    "### Anwendungsbeispiel: Scatterplot"
   ]
  },
  {
   "cell_type": "markdown",
   "id": "d1eadf95",
   "metadata": {},
   "source": [
    "Wir basteln uns einen Scatterplot nach dem folgenden Prinzip:\n",
    "- x-Achse: GDP pro Kopf\n",
    "- y-Achse: Lebenserwartung\n",
    "- Punktgrösse: Bevölkerung\n",
    "- Farbe: CO2-Emissionen pro Kopf\n",
    "\n",
    "Dank der Option `colormap=` geht das in der Plot-Funktion für Scatterplots ganz einfach."
   ]
  },
  {
   "cell_type": "code",
   "execution_count": null,
   "id": "ab23deb3",
   "metadata": {},
   "outputs": [],
   "source": [
    "df.plot(\n",
    "    kind='scatter',\n",
    "    x='GDP per Capita',\n",
    "    y='Life Expectancy',\n",
    "    s=(df['Population'] / 1000) ** 0.5, # wir müssen die Grössen umrechnen, so dass sie Platz haben\n",
    "    c='CO2 Emissions per Capita', # c stands for color\n",
    "    edgecolors='grey',\n",
    "    colormap='YlOrRd',\n",
    "    alpha=0.8,\n",
    "    figsize=(12,8),\n",
    "    title=\"CO2-Emissionen pro Kopf für verschiedene Länder\"\n",
    ")"
   ]
  },
  {
   "cell_type": "markdown",
   "id": "86bfd47d",
   "metadata": {},
   "source": [
    "### Anwendungsbeispiel: Barchart"
   ]
  },
  {
   "cell_type": "markdown",
   "id": "d55fc23e",
   "metadata": {},
   "source": [
    "Wir können auch in einem Barchart farbcodierte Informationen einfliessen lassen, wenn wir das sinnvoll finden.\n",
    "\n",
    "- x-Achse: Namen der zwanzig reichsten Länder\n",
    "- y-Achse: Bevölkerungsgrösse\n",
    "- Farbgebung: CO2-Emissonen pro Kopf\n",
    "\n",
    "Leider funktioniert die Farbgebung hier nicht automatisch, wir müssen die Farbcodes selbst generieren."
   ]
  },
  {
   "cell_type": "code",
   "execution_count": null,
   "id": "37f32287",
   "metadata": {},
   "outputs": [],
   "source": [
    "# Wir wählen unsere 10 Länder aus\n",
    "df_temp = df.sort_values('GDP per Capita', ascending=False).head(20).sort_values('GDP per Capita')\n",
    "\n",
    "# Liste der Farben: Wo liegen der Minimal- und Maximalwert bei den Emissionen?\n",
    "min_emissions = df_temp['CO2 Emissions per Capita'].min()\n",
    "max_emissions = df_temp['CO2 Emissions per Capita'].max()\n",
    "\n",
    "# Anhand des Min und Max: Norm definieren\n",
    "norm = mcolors.Normalize(vmin=min_emissions, vmax=max_emissions)\n",
    "\n",
    "# Colormap auswählen\n",
    "mapper = plt.cm.ScalarMappable(norm=norm, cmap='YlOrRd')\n",
    "\n",
    "# Die CO2-Werte der 10 Länder durch den Mapper durchlaufen lassen\n",
    "colors = [mapper.to_rgba(rate) for rate in df_temp['CO2 Emissions per Capita']]"
   ]
  },
  {
   "cell_type": "markdown",
   "id": "714bbd7f",
   "metadata": {},
   "source": [
    "Nun haben wir zehn Farbcodes für zehn Länder:"
   ]
  },
  {
   "cell_type": "code",
   "execution_count": null,
   "id": "02b75627",
   "metadata": {},
   "outputs": [],
   "source": [
    "colors"
   ]
  },
  {
   "cell_type": "markdown",
   "id": "1626b0bb",
   "metadata": {},
   "source": [
    "Das Plotten selbst ist dann relativ einfach:"
   ]
  },
  {
   "cell_type": "code",
   "execution_count": null,
   "id": "aebbf0f1",
   "metadata": {},
   "outputs": [],
   "source": [
    "df_temp.plot(\n",
    "    kind='barh',\n",
    "    x='Country Name',\n",
    "    y='GDP per Capita',\n",
    "    color=colors,\n",
    "    figsize=(10,8),\n",
    "    title=\"CO2-Emissonen der reichsten zwanzig Länder (nach BIP pro Kopf)\",\n",
    "    legend=False\n",
    ")"
   ]
  },
  {
   "cell_type": "markdown",
   "id": "e2d5ee3a",
   "metadata": {},
   "source": [
    "## Colormaps selbst definieren"
   ]
  },
  {
   "cell_type": "markdown",
   "id": "9fa2cb52",
   "metadata": {},
   "source": [
    "Hier beginnt die Sache Spass zu machen. Denn erstens sind die vordefinierten Colormaps nicht besonders schön, und zweitens wollen wir manchmal selbst definieren können, wie eine Farbzuordnung genau aussehen soll."
   ]
  },
  {
   "cell_type": "markdown",
   "id": "acafd6f0",
   "metadata": {},
   "source": [
    "Zum Beispiel für einen Text wie diesen hier: (Link zum Warming Potential)"
   ]
  },
  {
   "cell_type": "markdown",
   "id": "fb33b04c",
   "metadata": {},
   "source": [
    "Dazu brauchen wir zwei Dinge:\n",
    "1. Eine Reihe von Zahlen, welche die «Stopps» entlang der Zahlenrange bilden\n",
    "1. Eine Reihe von Farben, die an diesen «Stopps» verwendet werden sollen"
   ]
  },
  {
   "cell_type": "markdown",
   "id": "45e888ae",
   "metadata": {},
   "source": [
    "Wir können zum Beispiel sagen:\n",
    "- Emissionswerte unter 10 Tonnen pro Kopf sind gut => grün\n",
    "- Bei 15 Tonnen pro Kopf kommen wir in den gelben Bereich\n",
    "- Alles über 20 Tonnen ist schlecht => rot"
   ]
  },
  {
   "cell_type": "code",
   "execution_count": null,
   "id": "4a884b11",
   "metadata": {},
   "outputs": [],
   "source": [
    "cvals  = [0, 10, 15, 20, 25]"
   ]
  },
  {
   "cell_type": "code",
   "execution_count": null,
   "id": "845cd1d8",
   "metadata": {},
   "outputs": [],
   "source": [
    "colors = [\"#206020\", \"#339933\", \"#ff9900\", \"#ff3300\", \"#990000\"]"
   ]
  },
  {
   "cell_type": "markdown",
   "id": "c793078d",
   "metadata": {},
   "source": [
    "Diese Zuordnung würde dann so aussehen:"
   ]
  },
  {
   "cell_type": "code",
   "execution_count": null,
   "id": "b340b0d2",
   "metadata": {},
   "outputs": [],
   "source": [
    "df_colors = pd.DataFrame({\"values\": cvals, \"colors\": colors, \"labels\": cvals})\n",
    "df_colors['labels'] = df_colors['labels'].astype(str)\n",
    "df_colors['values'] = 1\n",
    "df_colors.plot(kind='bar', x='labels', y='values', color=df_colors['colors'], legend=False, figsize=(6,1))"
   ]
  },
  {
   "cell_type": "markdown",
   "id": "4c020788",
   "metadata": {},
   "source": [
    "Nun wollen wir daraus eine kontinuierliche Colormap basteln.\n",
    "\n",
    "Der Code dafür ist etwas komplizierter als oben. Am besten einfach den ganzen Code copy-pasten, um ihn zu verwenden."
   ]
  },
  {
   "cell_type": "code",
   "execution_count": null,
   "id": "40237889",
   "metadata": {},
   "outputs": [],
   "source": [
    "# Norm erstellen\n",
    "norm = plt.Normalize(min(cvals),max(cvals))\n",
    "\n",
    "# Colormap erstellen\n",
    "tuples = list(zip(map(norm,cvals), colors))\n",
    "cmap = mcolors.LinearSegmentedColormap.from_list(\"\", tuples)\n",
    "\n",
    "# Die Norm und die Colormap ergeben den Mapper\n",
    "mapper = plt.cm.ScalarMappable(norm=norm, cmap=cmap)"
   ]
  },
  {
   "cell_type": "markdown",
   "id": "9d6adac5",
   "metadata": {},
   "source": [
    "Vorschau auf das Ergebnis:"
   ]
  },
  {
   "cell_type": "code",
   "execution_count": null,
   "id": "ea5dfd40",
   "metadata": {},
   "outputs": [],
   "source": [
    "n = 512\n",
    "\n",
    "gradient = np.linspace(min(cvals), max(cvals), n)\n",
    "gradient = np.vstack((gradient, gradient))\n",
    "\n",
    "ticks = [(val - min(cvals)) / (max(cvals) - min(cvals)) * n for val in cvals]\n",
    "\n",
    "fig, ax = plt.subplots()\n",
    "fig.set_size_inches(15, 2) \n",
    "ax.imshow(gradient, aspect=15, cmap=plt.get_cmap(cmap))\n",
    "\n",
    "ax.xaxis.set_ticks(ticks)\n",
    "ax.axes.set_xticklabels(cvals)\n",
    "\n",
    "plt.show()"
   ]
  },
  {
   "cell_type": "markdown",
   "id": "2e2e9e02",
   "metadata": {},
   "source": [
    "Unsere selbst definierte Colormap (`cmap`) bzw. den Mapper (`mapper`) können wir nun genau so anwenden wie jede der vordefinierten Colormaps."
   ]
  },
  {
   "cell_type": "code",
   "execution_count": null,
   "id": "b07c7cbf",
   "metadata": {},
   "outputs": [],
   "source": [
    "# Die CO2-Werte der 10 Länder durch den neuen Mapper durchlaufen lassen\n",
    "colors = [mapper.to_rgba(rate) for rate in df_temp['CO2 Emissions per Capita']]"
   ]
  },
  {
   "cell_type": "code",
   "execution_count": null,
   "id": "f9b40e3d",
   "metadata": {},
   "outputs": [],
   "source": [
    "df_temp.plot(\n",
    "    kind='barh',\n",
    "    x='Country Name',\n",
    "    y='GDP per Capita',\n",
    "    color=colors,\n",
    "    figsize=(10,8),\n",
    "    title=\"CO2-Emissonen der reichsten zwanzig Länder (nach BIP pro Kopf)\",\n",
    "    legend=False\n",
    ")"
   ]
  },
  {
   "cell_type": "markdown",
   "id": "a53881fe",
   "metadata": {},
   "source": [
    "**Key takeaways:**\n",
    "- Pandas / Matplotlib Plots können von selbst einige Farbcodierungen anwenden\n",
    "- Es ist mit ein paar wenigen Codezeilen möglich, eigene Farbschemen zu kreieren\n",
    "- Dabei kann man auch ziemlich kreativ werden und/oder eigene, schönere Schemen erstellen.\n",
    "- Mit Farben sind immer auch Wertungen verbunden. Genau das kann je nach dem gewünscht sein."
   ]
  },
  {
   "cell_type": "code",
   "execution_count": null,
   "id": "874594a6",
   "metadata": {},
   "outputs": [],
   "source": []
  },
  {
   "cell_type": "code",
   "execution_count": null,
   "id": "148ecad5",
   "metadata": {},
   "outputs": [],
   "source": []
  },
  {
   "cell_type": "markdown",
   "id": "f713affe",
   "metadata": {},
   "source": [
    "## Übung"
   ]
  },
  {
   "cell_type": "markdown",
   "id": "e39977f9",
   "metadata": {},
   "source": [
    "### 1. Farbschema anwenden"
   ]
  },
  {
   "cell_type": "markdown",
   "id": "25648cc6",
   "metadata": {},
   "source": [
    "Aus unserer Datensammlung, wählen Sie eine Land-Eigenschaft aus, die Sie farbcodieren möchten."
   ]
  },
  {
   "cell_type": "code",
   "execution_count": null,
   "id": "70d553a3",
   "metadata": {},
   "outputs": [],
   "source": [
    "df.head(2)"
   ]
  },
  {
   "cell_type": "markdown",
   "id": "73a43853",
   "metadata": {},
   "source": [
    "Überlegen Sie sich: Was könnte ein guter Plot sein, um diesen Wert darzustellen?\n",
    "\n",
    "Mit welchen anderen Eigenschaften lässt sich dieser Wert in Verbindung bringen?"
   ]
  },
  {
   "cell_type": "markdown",
   "id": "2976e310",
   "metadata": {},
   "source": [
    "- Charttyp: ...\n",
    "- x-Achse: ...\n",
    "- y-Achse: ...\n",
    "- ggf Grösse: ...\n",
    "- Farbe: ..."
   ]
  },
  {
   "cell_type": "markdown",
   "id": "8212eb94",
   "metadata": {},
   "source": [
    "Wählen Sie eine vorgegebene Colormap aus und wenden Sie diese an einem Plot an."
   ]
  },
  {
   "cell_type": "code",
   "execution_count": null,
   "id": "162480bd",
   "metadata": {},
   "outputs": [],
   "source": []
  },
  {
   "cell_type": "code",
   "execution_count": null,
   "id": "ebf3e9eb",
   "metadata": {},
   "outputs": [],
   "source": []
  },
  {
   "cell_type": "markdown",
   "id": "08d7d714",
   "metadata": {},
   "source": [
    "### 2. Farbschema definieren"
   ]
  },
  {
   "cell_type": "markdown",
   "id": "f7215993",
   "metadata": {},
   "source": [
    "Überlegen Sie sich nun noch präziser: Welche Aussagen möchten Sie mit der Farbgebung treffen?\n",
    "\n",
    "Generieren Sie eine eigene Colormap und wenden Sie diese auf Ihren Chart an."
   ]
  },
  {
   "cell_type": "code",
   "execution_count": null,
   "id": "d6624b8e",
   "metadata": {},
   "outputs": [],
   "source": []
  },
  {
   "cell_type": "code",
   "execution_count": null,
   "id": "d3075a39",
   "metadata": {},
   "outputs": [],
   "source": []
  },
  {
   "cell_type": "code",
   "execution_count": null,
   "id": "4bf7d256",
   "metadata": {},
   "outputs": [],
   "source": []
  },
  {
   "cell_type": "code",
   "execution_count": null,
   "id": "741c7ef8",
   "metadata": {},
   "outputs": [],
   "source": []
  }
 ],
 "metadata": {
  "kernelspec": {
   "display_name": "Python 3",
   "language": "python",
   "name": "python3"
  },
  "language_info": {
   "codemirror_mode": {
    "name": "ipython",
    "version": 3
   },
   "file_extension": ".py",
   "mimetype": "text/x-python",
   "name": "python",
   "nbconvert_exporter": "python",
   "pygments_lexer": "ipython3",
   "version": "3.8.2"
  }
 },
 "nbformat": 4,
 "nbformat_minor": 5
}
