{
 "cells": [
  {
   "cell_type": "code",
   "execution_count": 1,
   "metadata": {},
   "outputs": [],
   "source": [
    "import pandas as pd\n",
    "import numpy as np\n",
    "import general_settings\n",
    "from time import sleep"
   ]
  },
  {
   "cell_type": "markdown",
   "metadata": {},
   "source": [
    "# isolation and quarantine"
   ]
  },
  {
   "cell_type": "code",
   "execution_count": 3,
   "metadata": {},
   "outputs": [
    {
     "data": {
      "text/plain": [
       "'https://www.ag.ch/media/kanton_aargau/themen_1/coronavirus_1/daten_excel/Covid-19-Daten_Kanton_Aargau.xlsx'"
      ]
     },
     "execution_count": 3,
     "metadata": {},
     "output_type": "execute_result"
    }
   ],
   "source": [
    "general_settings.file_url"
   ]
  },
  {
   "cell_type": "code",
   "execution_count": 4,
   "metadata": {},
   "outputs": [],
   "source": [
    "#open sheet nr. 4\n",
    "#sleep(20)\n",
    "df_iso = pd.read_excel(general_settings.file_url, sheet_name=4)"
   ]
  },
  {
   "cell_type": "code",
   "execution_count": 5,
   "metadata": {},
   "outputs": [
    {
     "data": {
      "text/html": [
       "<div>\n",
       "<style scoped>\n",
       "    .dataframe tbody tr th:only-of-type {\n",
       "        vertical-align: middle;\n",
       "    }\n",
       "\n",
       "    .dataframe tbody tr th {\n",
       "        vertical-align: top;\n",
       "    }\n",
       "\n",
       "    .dataframe thead th {\n",
       "        text-align: right;\n",
       "    }\n",
       "</style>\n",
       "<table border=\"1\" class=\"dataframe\">\n",
       "  <thead>\n",
       "    <tr style=\"text-align: right;\">\n",
       "      <th></th>\n",
       "      <th>Unnamed: 0</th>\n",
       "      <th>Contact Tracing</th>\n",
       "      <th>Unnamed: 2</th>\n",
       "      <th>Unnamed: 3</th>\n",
       "      <th>Unnamed: 4</th>\n",
       "      <th>Unnamed: 5</th>\n",
       "      <th>Unnamed: 6</th>\n",
       "    </tr>\n",
       "  </thead>\n",
       "  <tbody>\n",
       "    <tr>\n",
       "      <th>0</th>\n",
       "      <td>NaN</td>\n",
       "      <td>Infizierte Personen in Isolation</td>\n",
       "      <td>NaN</td>\n",
       "      <td>NaN</td>\n",
       "      <td>Kontaktpersonen in Quarantäne</td>\n",
       "      <td>NaN</td>\n",
       "      <td>NaN</td>\n",
       "    </tr>\n",
       "    <tr>\n",
       "      <th>1</th>\n",
       "      <td>NaN</td>\n",
       "      <td>Neue Fälle</td>\n",
       "      <td>Gesamtzahl aktuell betreuter Personen</td>\n",
       "      <td>Gesamtzahl seit Start Contact Tracing (11.05.2...</td>\n",
       "      <td>Neue Fälle</td>\n",
       "      <td>Gesamtzahl aktuell betreuter Personen</td>\n",
       "      <td>Gesamtzahl seit Start Contact Tracing (11.05.2...</td>\n",
       "    </tr>\n",
       "    <tr>\n",
       "      <th>2</th>\n",
       "      <td>2020-05-01 08:00:00</td>\n",
       "      <td>NaN</td>\n",
       "      <td>NaN</td>\n",
       "      <td>NaN</td>\n",
       "      <td>NaN</td>\n",
       "      <td>NaN</td>\n",
       "      <td>NaN</td>\n",
       "    </tr>\n",
       "    <tr>\n",
       "      <th>3</th>\n",
       "      <td>2020-05-02 08:00:00</td>\n",
       "      <td>NaN</td>\n",
       "      <td>NaN</td>\n",
       "      <td>NaN</td>\n",
       "      <td>NaN</td>\n",
       "      <td>NaN</td>\n",
       "      <td>NaN</td>\n",
       "    </tr>\n",
       "    <tr>\n",
       "      <th>4</th>\n",
       "      <td>2020-05-03 08:00:00</td>\n",
       "      <td>NaN</td>\n",
       "      <td>NaN</td>\n",
       "      <td>NaN</td>\n",
       "      <td>NaN</td>\n",
       "      <td>NaN</td>\n",
       "      <td>NaN</td>\n",
       "    </tr>\n",
       "    <tr>\n",
       "      <th>...</th>\n",
       "      <td>...</td>\n",
       "      <td>...</td>\n",
       "      <td>...</td>\n",
       "      <td>...</td>\n",
       "      <td>...</td>\n",
       "      <td>...</td>\n",
       "      <td>...</td>\n",
       "    </tr>\n",
       "    <tr>\n",
       "      <th>158</th>\n",
       "      <td>2020-10-18 00:00:00</td>\n",
       "      <td>NaN</td>\n",
       "      <td>NaN</td>\n",
       "      <td>NaN</td>\n",
       "      <td>NaN</td>\n",
       "      <td>NaN</td>\n",
       "      <td>NaN</td>\n",
       "    </tr>\n",
       "    <tr>\n",
       "      <th>159</th>\n",
       "      <td>2020-10-19 00:00:00</td>\n",
       "      <td>NaN</td>\n",
       "      <td>NaN</td>\n",
       "      <td>NaN</td>\n",
       "      <td>NaN</td>\n",
       "      <td>NaN</td>\n",
       "      <td>NaN</td>\n",
       "    </tr>\n",
       "    <tr>\n",
       "      <th>160</th>\n",
       "      <td>2020-10-20 00:00:00</td>\n",
       "      <td>NaN</td>\n",
       "      <td>NaN</td>\n",
       "      <td>NaN</td>\n",
       "      <td>NaN</td>\n",
       "      <td>NaN</td>\n",
       "      <td>NaN</td>\n",
       "    </tr>\n",
       "    <tr>\n",
       "      <th>161</th>\n",
       "      <td>NaN</td>\n",
       "      <td>NaN</td>\n",
       "      <td>NaN</td>\n",
       "      <td>NaN</td>\n",
       "      <td>NaN</td>\n",
       "      <td>NaN</td>\n",
       "      <td>NaN</td>\n",
       "    </tr>\n",
       "    <tr>\n",
       "      <th>162</th>\n",
       "      <td>Summe</td>\n",
       "      <td>2036</td>\n",
       "      <td>NaN</td>\n",
       "      <td>NaN</td>\n",
       "      <td>4336</td>\n",
       "      <td>NaN</td>\n",
       "      <td>NaN</td>\n",
       "    </tr>\n",
       "  </tbody>\n",
       "</table>\n",
       "<p>163 rows × 7 columns</p>\n",
       "</div>"
      ],
      "text/plain": [
       "              Unnamed: 0                   Contact Tracing  \\\n",
       "0                    NaN  Infizierte Personen in Isolation   \n",
       "1                    NaN                        Neue Fälle   \n",
       "2    2020-05-01 08:00:00                               NaN   \n",
       "3    2020-05-02 08:00:00                               NaN   \n",
       "4    2020-05-03 08:00:00                               NaN   \n",
       "..                   ...                               ...   \n",
       "158  2020-10-18 00:00:00                               NaN   \n",
       "159  2020-10-19 00:00:00                               NaN   \n",
       "160  2020-10-20 00:00:00                               NaN   \n",
       "161                  NaN                               NaN   \n",
       "162                Summe                              2036   \n",
       "\n",
       "                                Unnamed: 2  \\\n",
       "0                                      NaN   \n",
       "1    Gesamtzahl aktuell betreuter Personen   \n",
       "2                                      NaN   \n",
       "3                                      NaN   \n",
       "4                                      NaN   \n",
       "..                                     ...   \n",
       "158                                    NaN   \n",
       "159                                    NaN   \n",
       "160                                    NaN   \n",
       "161                                    NaN   \n",
       "162                                    NaN   \n",
       "\n",
       "                                            Unnamed: 3  \\\n",
       "0                                                  NaN   \n",
       "1    Gesamtzahl seit Start Contact Tracing (11.05.2...   \n",
       "2                                                  NaN   \n",
       "3                                                  NaN   \n",
       "4                                                  NaN   \n",
       "..                                                 ...   \n",
       "158                                                NaN   \n",
       "159                                                NaN   \n",
       "160                                                NaN   \n",
       "161                                                NaN   \n",
       "162                                                NaN   \n",
       "\n",
       "                        Unnamed: 4                             Unnamed: 5  \\\n",
       "0    Kontaktpersonen in Quarantäne                                    NaN   \n",
       "1                       Neue Fälle  Gesamtzahl aktuell betreuter Personen   \n",
       "2                              NaN                                    NaN   \n",
       "3                              NaN                                    NaN   \n",
       "4                              NaN                                    NaN   \n",
       "..                             ...                                    ...   \n",
       "158                            NaN                                    NaN   \n",
       "159                            NaN                                    NaN   \n",
       "160                            NaN                                    NaN   \n",
       "161                            NaN                                    NaN   \n",
       "162                           4336                                    NaN   \n",
       "\n",
       "                                            Unnamed: 6  \n",
       "0                                                  NaN  \n",
       "1    Gesamtzahl seit Start Contact Tracing (11.05.2...  \n",
       "2                                                  NaN  \n",
       "3                                                  NaN  \n",
       "4                                                  NaN  \n",
       "..                                                 ...  \n",
       "158                                                NaN  \n",
       "159                                                NaN  \n",
       "160                                                NaN  \n",
       "161                                                NaN  \n",
       "162                                                NaN  \n",
       "\n",
       "[163 rows x 7 columns]"
      ]
     },
     "execution_count": 5,
     "metadata": {},
     "output_type": "execute_result"
    }
   ],
   "source": [
    "df_iso\n"
   ]
  },
  {
   "cell_type": "code",
   "execution_count": 6,
   "metadata": {},
   "outputs": [],
   "source": [
    "#rename and choose header\n",
    "df_iso.iloc[1,0] = \"date\"\n",
    "df_iso.columns = df_iso.iloc[1]\n",
    "df_iso = df_iso.drop([0,1])"
   ]
  },
  {
   "cell_type": "code",
   "execution_count": 7,
   "metadata": {},
   "outputs": [],
   "source": [
    "#formatting\n",
    "df_iso[\"date\"] = pd.to_datetime(df_iso[\"date\"], errors=\"coerce\")\n",
    "df_iso.columns = [\"date\", \"new_isolated\", \"total_curr_isolated\", \"total_isolated\",\n",
    "                 \"new_quar\", \"total_curr_quar\", \"total_quar\"]\n",
    "\n",
    "#get rid of last row\n",
    "df_iso.drop(df_iso.tail(1).index,inplace=True)\n",
    "\n",
    "#if Monday (weekday == 0), take Friday as latest values\n",
    "if general_settings.todays_weekday == 0:\n",
    "    df_iso = df_iso[df_iso[\"date\"] < general_settings.two_days_ago]\n",
    "else:\n",
    "    df_iso = df_iso[df_iso[\"date\"] < general_settings.today]"
   ]
  },
  {
   "cell_type": "code",
   "execution_count": 8,
   "metadata": {},
   "outputs": [],
   "source": [
    "#fill NaN values with previous value\n",
    "df_iso = df_iso.fillna(method='ffill')\n",
    "\n",
    "#get relevant rows and columns\n",
    "df_iso_time = df_iso[[\"date\", \"total_curr_isolated\", \"total_curr_quar\"]]"
   ]
  },
  {
   "cell_type": "code",
   "execution_count": 9,
   "metadata": {},
   "outputs": [
    {
     "name": "stderr",
     "output_type": "stream",
     "text": [
      "<ipython-input-9-6411bc132d73>:2: SettingWithCopyWarning: \n",
      "A value is trying to be set on a copy of a slice from a DataFrame.\n",
      "Try using .loc[row_indexer,col_indexer] = value instead\n",
      "\n",
      "See the caveats in the documentation: https://pandas.pydata.org/pandas-docs/stable/user_guide/indexing.html#returning-a-view-versus-a-copy\n",
      "  df_iso_time[\"date\"] = df_iso_time[\"date\"].dt.normalize()\n"
     ]
    }
   ],
   "source": [
    "#formatting\n",
    "df_iso_time[\"date\"] = df_iso_time[\"date\"].dt.normalize()\n",
    "df_iso_time.columns = [\"Datum\", \"Isolation\", \"Quarantäne\"]"
   ]
  },
  {
   "cell_type": "code",
   "execution_count": null,
   "metadata": {},
   "outputs": [],
   "source": [
    "df_iso_time"
   ]
  },
  {
   "cell_type": "code",
   "execution_count": null,
   "metadata": {},
   "outputs": [],
   "source": [
    "#make a backup export of the current data\n",
    "df_iso_time.to_csv(\"backups/iso_over_time/backup_{}.csv\".format(general_settings.today))\n",
    "\n",
    "#export to csv\n",
    "df_iso_time.to_csv(\"iso_over_time.csv\", index=False)"
   ]
  }
 ],
 "metadata": {
  "kernelspec": {
   "display_name": "Python 3",
   "language": "python",
   "name": "python3"
  },
  "language_info": {
   "codemirror_mode": {
    "name": "ipython",
    "version": 3
   },
   "file_extension": ".py",
   "mimetype": "text/x-python",
   "name": "python",
   "nbconvert_exporter": "python",
   "pygments_lexer": "ipython3",
   "version": "3.8.3"
  }
 },
 "nbformat": 4,
 "nbformat_minor": 4
}
