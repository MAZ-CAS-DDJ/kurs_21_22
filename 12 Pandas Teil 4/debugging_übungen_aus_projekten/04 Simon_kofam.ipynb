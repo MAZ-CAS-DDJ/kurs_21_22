{
 "cells": [
  {
   "cell_type": "code",
   "execution_count": 1,
   "metadata": {},
   "outputs": [],
   "source": [
    "from selenium import webdriver\n",
    "from selenium.webdriver.common.keys import Keys\n",
    "from selenium.webdriver.common.by import By\n",
    "from selenium.webdriver.support.ui import Select\n",
    "import time\n",
    "import pandas as pd\n",
    "from bs4 import BeautifulSoup"
   ]
  },
  {
   "cell_type": "code",
   "execution_count": 2,
   "metadata": {},
   "outputs": [
    {
     "data": {
      "text/plain": [
       "<selenium.webdriver.firefox.webelement.FirefoxWebElement (session=\"29e0090d-a09e-5c4b-ac14-6a108fb50ea4\", element=\"f42ea29d-7769-4f4f-aa90-2e481609154a\")>"
      ]
     },
     "execution_count": 2,
     "metadata": {},
     "output_type": "execute_result"
    }
   ],
   "source": [
    "#Wir starten den Browser auf\n",
    "driver = webdriver.Firefox()\n",
    "#Und nun sagen wir dem Browser, welche Seite er besuchen sollte.\n",
    "driver.get(\"https://www.kofam.ch/de/studienportal/nach-klinischen-versuchen-suchen/\")\n",
    "#Geben wir ihm etwas Zeit\n",
    "time.sleep(10)\n",
    "#Und nun geben wir unseren Begriff ein. Zuerst suchen wir das richtige Feld. Wir benutzen dafür den Webinspector.\n",
    "#https://selenium-python.readthedocs.io/locating-elements.html\n"
   ]
  },
  {
   "cell_type": "code",
   "execution_count": 3,
   "metadata": {},
   "outputs": [],
   "source": [
    "search = driver.find_element_by_xpath(\"//input[@type='search']\")"
   ]
  },
  {
   "cell_type": "code",
   "execution_count": 4,
   "metadata": {},
   "outputs": [],
   "source": [
    "#Jetzt schicken wir das, was wir suchen wollen\n",
    "search.send_keys(\"Tinnitus\")"
   ]
  },
  {
   "cell_type": "code",
   "execution_count": 7,
   "metadata": {},
   "outputs": [],
   "source": [
    "#Und jetzt suchen wir nach dem Button\n",
    "click = driver.find_element_by_class_name(\"suchen\")"
   ]
  },
  {
   "cell_type": "code",
   "execution_count": 8,
   "metadata": {},
   "outputs": [],
   "source": [
    "click.click()"
   ]
  },
  {
   "cell_type": "code",
   "execution_count": null,
   "metadata": {},
   "outputs": [],
   "source": [
    "#Und wir klicken\n",
    "click.click()\n",
    "#Das kann dauern, bauen wir zur Not genügend Zeit ein.\n",
    "time.sleep(5)\n",
    "#Und jetzt speichern wir diese ganze Seite ab. Den Inhalt rausziehen wollen wir später.\n",
    "page = driver.page_source.encode(‘utf-8’)\n",
    "with open(“kofam/kofam.htm”, “wb+“) as file:\n",
    "    file.write(page)\n",
    "    file.close()\n",
    "#its the xth page\n",
    "for elem in range(1):\n",
    "    driver.find_elements_by_class_name(‘next’).click()\n",
    "    time.sleep(3)\n",
    "    page = driver.page_source.encode(‘utf-8’)\n",
    "    with open(“kofam/kofam”+str(elem)+“.htm”, “wb+“) as file:\n",
    "        file.write(page)\n",
    "        file.close()"
   ]
  }
 ],
 "metadata": {
  "kernelspec": {
   "display_name": "Python 3",
   "language": "python",
   "name": "python3"
  },
  "language_info": {
   "codemirror_mode": {
    "name": "ipython",
    "version": 3
   },
   "file_extension": ".py",
   "mimetype": "text/x-python",
   "name": "python",
   "nbconvert_exporter": "python",
   "pygments_lexer": "ipython3",
   "version": "3.8.3"
  }
 },
 "nbformat": 4,
 "nbformat_minor": 4
}
