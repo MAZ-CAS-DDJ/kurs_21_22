{
 "cells": [
  {
   "cell_type": "code",
   "execution_count": 1,
   "metadata": {
    "executionInfo": {
     "elapsed": 1030,
     "status": "ok",
     "timestamp": 1603061340823,
     "user": {
      "displayName": "Daniel Thüler",
      "photoUrl": "https://lh3.googleusercontent.com/a-/AOh14GhAodIbIR6gKn5HxUKLXXzq8xUECR4pCz_Sjl9pQQ=s64",
      "userId": "12811777460310133016"
     },
     "user_tz": -120
    },
    "id": "c_cq58lz4Vtb"
   },
   "outputs": [],
   "source": [
    "import requests\n",
    "import pandas as pd\n",
    "import numpy as np\n",
    "from datetime import datetime\n",
    "%matplotlib inline"
   ]
  },
  {
   "cell_type": "code",
   "execution_count": 13,
   "metadata": {
    "colab": {
     "base_uri": "https://localhost:8080/",
     "height": 143
    },
    "executionInfo": {
     "elapsed": 3313,
     "status": "ok",
     "timestamp": 1603061343196,
     "user": {
      "displayName": "Daniel Thüler",
      "photoUrl": "https://lh3.googleusercontent.com/a-/AOh14GhAodIbIR6gKn5HxUKLXXzq8xUECR4pCz_Sjl9pQQ=s64",
      "userId": "12811777460310133016"
     },
     "user_tz": -120
    },
    "id": "2Iac9cZY4Vtj",
    "outputId": "05e587db-5464-4f55-e028-dc8757839f27"
   },
   "outputs": [
    {
     "data": {
      "text/html": [
       "<div>\n",
       "<style scoped>\n",
       "    .dataframe tbody tr th:only-of-type {\n",
       "        vertical-align: middle;\n",
       "    }\n",
       "\n",
       "    .dataframe tbody tr th {\n",
       "        vertical-align: top;\n",
       "    }\n",
       "\n",
       "    .dataframe thead th {\n",
       "        text-align: right;\n",
       "    }\n",
       "</style>\n",
       "<table border=\"1\" class=\"dataframe\">\n",
       "  <thead>\n",
       "    <tr style=\"text-align: right;\">\n",
       "      <th></th>\n",
       "      <th>Unnamed: 0</th>\n",
       "      <th>FINALPROCESSINGDATE</th>\n",
       "      <th>TYPE</th>\n",
       "      <th>KANTON</th>\n",
       "      <th>GROSSREGION</th>\n",
       "      <th>COUNTRY</th>\n",
       "      <th>NTRX</th>\n",
       "      <th>ISSUINGBASEAMOUNT</th>\n",
       "      <th>ATV</th>\n",
       "    </tr>\n",
       "  </thead>\n",
       "  <tbody>\n",
       "    <tr>\n",
       "      <th>0</th>\n",
       "      <td>0</td>\n",
       "      <td>01-APR-19</td>\n",
       "      <td>ATM</td>\n",
       "      <td>99</td>\n",
       "      <td>99.0</td>\n",
       "      <td>AUT</td>\n",
       "      <td>2044</td>\n",
       "      <td>412477</td>\n",
       "      <td>201.80</td>\n",
       "    </tr>\n",
       "    <tr>\n",
       "      <th>1</th>\n",
       "      <td>1</td>\n",
       "      <td>01-APR-19</td>\n",
       "      <td>ATM</td>\n",
       "      <td>99</td>\n",
       "      <td>99.0</td>\n",
       "      <td>CHE</td>\n",
       "      <td>433</td>\n",
       "      <td>285450</td>\n",
       "      <td>659.24</td>\n",
       "    </tr>\n",
       "    <tr>\n",
       "      <th>2</th>\n",
       "      <td>2</td>\n",
       "      <td>01-APR-19</td>\n",
       "      <td>ATM</td>\n",
       "      <td>99</td>\n",
       "      <td>99.0</td>\n",
       "      <td>DEU</td>\n",
       "      <td>6239</td>\n",
       "      <td>1206750</td>\n",
       "      <td>193.42</td>\n",
       "    </tr>\n",
       "  </tbody>\n",
       "</table>\n",
       "</div>"
      ],
      "text/plain": [
       "   Unnamed: 0 FINALPROCESSINGDATE TYPE KANTON  GROSSREGION COUNTRY  NTRX  \\\n",
       "0           0           01-APR-19  ATM     99         99.0     AUT  2044   \n",
       "1           1           01-APR-19  ATM     99         99.0     CHE   433   \n",
       "2           2           01-APR-19  ATM     99         99.0     DEU  6239   \n",
       "\n",
       "   ISSUINGBASEAMOUNT     ATV  \n",
       "0             412477  201.80  \n",
       "1             285450  659.24  \n",
       "2            1206750  193.42  "
      ]
     },
     "execution_count": 13,
     "metadata": {},
     "output_type": "execute_result"
    }
   ],
   "source": [
    "# File DEBIT_Canton.csv einlesen\n",
    "url = \"https://drive.switch.ch/index.php/s/PSg7Y8Za5LmQ5dn/download?path=%2F&files=DEBIT_Canton.csv\"\n",
    "raw_data = pd.read_csv(url)\n",
    "raw_data.head(3)"
   ]
  },
  {
   "cell_type": "code",
   "execution_count": 14,
   "metadata": {
    "colab": {
     "base_uri": "https://localhost:8080/",
     "height": 34
    },
    "executionInfo": {
     "elapsed": 3257,
     "status": "ok",
     "timestamp": 1603061343198,
     "user": {
      "displayName": "Daniel Thüler",
      "photoUrl": "https://lh3.googleusercontent.com/a-/AOh14GhAodIbIR6gKn5HxUKLXXzq8xUECR4pCz_Sjl9pQQ=s64",
      "userId": "12811777460310133016"
     },
     "user_tz": -120
    },
    "id": "5BuXQDeg4Vtt",
    "outputId": "de2f7b91-7c76-4aa3-e11a-c52b58203c23"
   },
   "outputs": [
    {
     "data": {
      "text/plain": [
       "43362"
      ]
     },
     "execution_count": 14,
     "metadata": {},
     "output_type": "execute_result"
    }
   ],
   "source": [
    "len(raw_data)\n"
   ]
  },
  {
   "cell_type": "code",
   "execution_count": 4,
   "metadata": {
    "colab": {
     "base_uri": "https://localhost:8080/",
     "height": 191
    },
    "executionInfo": {
     "elapsed": 3213,
     "status": "ok",
     "timestamp": 1603061343199,
     "user": {
      "displayName": "Daniel Thüler",
      "photoUrl": "https://lh3.googleusercontent.com/a-/AOh14GhAodIbIR6gKn5HxUKLXXzq8xUECR4pCz_Sjl9pQQ=s64",
      "userId": "12811777460310133016"
     },
     "user_tz": -120
    },
    "id": "Qo5_aEab4Vt4",
    "outputId": "c6edc7c4-6aa7-40ef-d71e-f11708c130a4"
   },
   "outputs": [
    {
     "data": {
      "text/plain": [
       "Unnamed: 0               int64\n",
       "FINALPROCESSINGDATE     object\n",
       "TYPE                    object\n",
       "KANTON                  object\n",
       "GROSSREGION            float64\n",
       "COUNTRY                 object\n",
       "NTRX                     int64\n",
       "ISSUINGBASEAMOUNT        int64\n",
       "ATV                    float64\n",
       "dtype: object"
      ]
     },
     "execution_count": 4,
     "metadata": {},
     "output_type": "execute_result"
    }
   ],
   "source": [
    "raw_data.dtypes"
   ]
  },
  {
   "cell_type": "code",
   "execution_count": 15,
   "metadata": {
    "colab": {
     "base_uri": "https://localhost:8080/",
     "height": 69
    },
    "executionInfo": {
     "elapsed": 3184,
     "status": "ok",
     "timestamp": 1603061343200,
     "user": {
      "displayName": "Daniel Thüler",
      "photoUrl": "https://lh3.googleusercontent.com/a-/AOh14GhAodIbIR6gKn5HxUKLXXzq8xUECR4pCz_Sjl9pQQ=s64",
      "userId": "12811777460310133016"
     },
     "user_tz": -120
    },
    "id": "JmNBnyLu4Vt9",
    "outputId": "6d8b258d-6186-4cd3-a069-da9a22d078be"
   },
   "outputs": [
    {
     "data": {
      "text/plain": [
       "Index(['Unnamed: 0', 'FINALPROCESSINGDATE', 'TYPE', 'KANTON', 'GROSSREGION',\n",
       "       'COUNTRY', 'NTRX', 'ISSUINGBASEAMOUNT', 'ATV'],\n",
       "      dtype='object')"
      ]
     },
     "execution_count": 15,
     "metadata": {},
     "output_type": "execute_result"
    }
   ],
   "source": [
    "raw_data.columns"
   ]
  },
  {
   "cell_type": "code",
   "execution_count": 16,
   "metadata": {
    "colab": {
     "base_uri": "https://localhost:8080/",
     "height": 143
    },
    "executionInfo": {
     "elapsed": 3142,
     "status": "ok",
     "timestamp": 1603061343200,
     "user": {
      "displayName": "Daniel Thüler",
      "photoUrl": "https://lh3.googleusercontent.com/a-/AOh14GhAodIbIR6gKn5HxUKLXXzq8xUECR4pCz_Sjl9pQQ=s64",
      "userId": "12811777460310133016"
     },
     "user_tz": -120
    },
    "id": "4-ALIyju4VuD",
    "outputId": "f7469fdf-75a1-48c4-8477-2489fd773efb"
   },
   "outputs": [
    {
     "data": {
      "text/html": [
       "<div>\n",
       "<style scoped>\n",
       "    .dataframe tbody tr th:only-of-type {\n",
       "        vertical-align: middle;\n",
       "    }\n",
       "\n",
       "    .dataframe tbody tr th {\n",
       "        vertical-align: top;\n",
       "    }\n",
       "\n",
       "    .dataframe thead th {\n",
       "        text-align: right;\n",
       "    }\n",
       "</style>\n",
       "<table border=\"1\" class=\"dataframe\">\n",
       "  <thead>\n",
       "    <tr style=\"text-align: right;\">\n",
       "      <th></th>\n",
       "      <th>FINALPROCESSINGDATE</th>\n",
       "      <th>TYPE</th>\n",
       "      <th>NTRX</th>\n",
       "      <th>ISSUINGBASEAMOUNT</th>\n",
       "      <th>ATV</th>\n",
       "    </tr>\n",
       "  </thead>\n",
       "  <tbody>\n",
       "    <tr>\n",
       "      <th>23</th>\n",
       "      <td>01-APR-19</td>\n",
       "      <td>ATM</td>\n",
       "      <td>1988</td>\n",
       "      <td>664240</td>\n",
       "      <td>334.12</td>\n",
       "    </tr>\n",
       "    <tr>\n",
       "      <th>56</th>\n",
       "      <td>01-APR-19</td>\n",
       "      <td>POS</td>\n",
       "      <td>16044</td>\n",
       "      <td>715445</td>\n",
       "      <td>44.59</td>\n",
       "    </tr>\n",
       "    <tr>\n",
       "      <th>89</th>\n",
       "      <td>01-APR-20</td>\n",
       "      <td>ATM</td>\n",
       "      <td>1964</td>\n",
       "      <td>954164</td>\n",
       "      <td>485.83</td>\n",
       "    </tr>\n",
       "  </tbody>\n",
       "</table>\n",
       "</div>"
      ],
      "text/plain": [
       "   FINALPROCESSINGDATE TYPE   NTRX  ISSUINGBASEAMOUNT     ATV\n",
       "23           01-APR-19  ATM   1988             664240  334.12\n",
       "56           01-APR-19  POS  16044             715445   44.59\n",
       "89           01-APR-20  ATM   1964             954164  485.83"
      ]
     },
     "execution_count": 16,
     "metadata": {},
     "output_type": "execute_result"
    }
   ],
   "source": [
    "# raw_data bereinigen\n",
    "data = raw_data.drop(columns=[\"Unnamed: 0\", \"COUNTRY\", \"GROSSREGION\"])\n",
    "data_sh = data.loc[data[\"KANTON\"] == \"SH\", [\"FINALPROCESSINGDATE\", \"TYPE\", \"NTRX\", \"ISSUINGBASEAMOUNT\", \"ATV\"]].sort_index()\n",
    "data_sh.head(3)"
   ]
  },
  {
   "cell_type": "code",
   "execution_count": 17,
   "metadata": {
    "colab": {
     "base_uri": "https://localhost:8080/",
     "height": 424
    },
    "executionInfo": {
     "elapsed": 3104,
     "status": "ok",
     "timestamp": 1603061343202,
     "user": {
      "displayName": "Daniel Thüler",
      "photoUrl": "https://lh3.googleusercontent.com/a-/AOh14GhAodIbIR6gKn5HxUKLXXzq8xUECR4pCz_Sjl9pQQ=s64",
      "userId": "12811777460310133016"
     },
     "user_tz": -120
    },
    "id": "n5Lggaor4VuI",
    "outputId": "321efeb3-6999-424d-e37c-ecce01d284b8"
   },
   "outputs": [
    {
     "data": {
      "text/html": [
       "<div>\n",
       "<style scoped>\n",
       "    .dataframe tbody tr th:only-of-type {\n",
       "        vertical-align: middle;\n",
       "    }\n",
       "\n",
       "    .dataframe tbody tr th {\n",
       "        vertical-align: top;\n",
       "    }\n",
       "\n",
       "    .dataframe thead th {\n",
       "        text-align: right;\n",
       "    }\n",
       "</style>\n",
       "<table border=\"1\" class=\"dataframe\">\n",
       "  <thead>\n",
       "    <tr style=\"text-align: right;\">\n",
       "      <th></th>\n",
       "      <th>FINALPROCESSINGDATE</th>\n",
       "      <th>NTRX</th>\n",
       "      <th>ISSUINGBASEAMOUNT</th>\n",
       "      <th>ATV</th>\n",
       "    </tr>\n",
       "  </thead>\n",
       "  <tbody>\n",
       "    <tr>\n",
       "      <th>56</th>\n",
       "      <td>01-APR-19</td>\n",
       "      <td>16044</td>\n",
       "      <td>715445</td>\n",
       "      <td>44.59</td>\n",
       "    </tr>\n",
       "    <tr>\n",
       "      <th>122</th>\n",
       "      <td>01-APR-20</td>\n",
       "      <td>15984</td>\n",
       "      <td>677369</td>\n",
       "      <td>42.38</td>\n",
       "    </tr>\n",
       "    <tr>\n",
       "      <th>188</th>\n",
       "      <td>01-AUG-19</td>\n",
       "      <td>6925</td>\n",
       "      <td>298134</td>\n",
       "      <td>43.05</td>\n",
       "    </tr>\n",
       "    <tr>\n",
       "      <th>254</th>\n",
       "      <td>01-AUG-20</td>\n",
       "      <td>10888</td>\n",
       "      <td>436364</td>\n",
       "      <td>40.08</td>\n",
       "    </tr>\n",
       "    <tr>\n",
       "      <th>320</th>\n",
       "      <td>01-DEC-19</td>\n",
       "      <td>5208</td>\n",
       "      <td>219331</td>\n",
       "      <td>42.11</td>\n",
       "    </tr>\n",
       "    <tr>\n",
       "      <th>...</th>\n",
       "      <td>...</td>\n",
       "      <td>...</td>\n",
       "      <td>...</td>\n",
       "      <td>...</td>\n",
       "    </tr>\n",
       "    <tr>\n",
       "      <th>43088</th>\n",
       "      <td>31-MAR-19</td>\n",
       "      <td>5651</td>\n",
       "      <td>194571</td>\n",
       "      <td>34.43</td>\n",
       "    </tr>\n",
       "    <tr>\n",
       "      <th>43154</th>\n",
       "      <td>31-MAR-20</td>\n",
       "      <td>15766</td>\n",
       "      <td>667701</td>\n",
       "      <td>42.35</td>\n",
       "    </tr>\n",
       "    <tr>\n",
       "      <th>43220</th>\n",
       "      <td>31-MAY-19</td>\n",
       "      <td>20137</td>\n",
       "      <td>1110067</td>\n",
       "      <td>55.13</td>\n",
       "    </tr>\n",
       "    <tr>\n",
       "      <th>43286</th>\n",
       "      <td>31-MAY-20</td>\n",
       "      <td>7818</td>\n",
       "      <td>264469</td>\n",
       "      <td>33.83</td>\n",
       "    </tr>\n",
       "    <tr>\n",
       "      <th>43352</th>\n",
       "      <td>31-OCT-19</td>\n",
       "      <td>16282</td>\n",
       "      <td>732496</td>\n",
       "      <td>44.99</td>\n",
       "    </tr>\n",
       "  </tbody>\n",
       "</table>\n",
       "<p>657 rows × 4 columns</p>\n",
       "</div>"
      ],
      "text/plain": [
       "      FINALPROCESSINGDATE   NTRX  ISSUINGBASEAMOUNT    ATV\n",
       "56              01-APR-19  16044             715445  44.59\n",
       "122             01-APR-20  15984             677369  42.38\n",
       "188             01-AUG-19   6925             298134  43.05\n",
       "254             01-AUG-20  10888             436364  40.08\n",
       "320             01-DEC-19   5208             219331  42.11\n",
       "...                   ...    ...                ...    ...\n",
       "43088           31-MAR-19   5651             194571  34.43\n",
       "43154           31-MAR-20  15766             667701  42.35\n",
       "43220           31-MAY-19  20137            1110067  55.13\n",
       "43286           31-MAY-20   7818             264469  33.83\n",
       "43352           31-OCT-19  16282             732496  44.99\n",
       "\n",
       "[657 rows x 4 columns]"
      ]
     },
     "execution_count": 17,
     "metadata": {},
     "output_type": "execute_result"
    }
   ],
   "source": [
    "# data_sh aufsplitten\n",
    "\n",
    "data_ATM = data_sh.loc[data_sh[\"TYPE\"] == \"ATM\", [\"FINALPROCESSINGDATE\", \"NTRX\", \"ISSUINGBASEAMOUNT\", \"ATV\"]].sort_index()\n",
    "data_POS = data_sh.loc[data_sh[\"TYPE\"] == \"POS\", [\"FINALPROCESSINGDATE\", \"NTRX\", \"ISSUINGBASEAMOUNT\", \"ATV\"]].sort_index()\n",
    "data_POS"
   ]
  },
  {
   "cell_type": "code",
   "execution_count": 8,
   "metadata": {
    "colab": {
     "base_uri": "https://localhost:8080/",
     "height": 339
    },
    "executionInfo": {
     "elapsed": 4611,
     "status": "ok",
     "timestamp": 1603061344758,
     "user": {
      "displayName": "Daniel Thüler",
      "photoUrl": "https://lh3.googleusercontent.com/a-/AOh14GhAodIbIR6gKn5HxUKLXXzq8xUECR4pCz_Sjl9pQQ=s64",
      "userId": "12811777460310133016"
     },
     "user_tz": -120
    },
    "id": "BHuYrjD_CK5_",
    "outputId": "bbee48b2-a21c-481d-80ed-7faeb42a96f9"
   },
   "outputs": [
    {
     "data": {
      "text/plain": [
       "<matplotlib.axes._subplots.AxesSubplot at 0x7f9a9eab72e0>"
      ]
     },
     "execution_count": 8,
     "metadata": {},
     "output_type": "execute_result"
    },
    {
     "data": {
      "image/png": "[encoded data removed]",
      "text/plain": [
       "<Figure size 1440x360 with 1 Axes>"
      ]
     },
     "metadata": {
      "needs_background": "light"
     },
     "output_type": "display_data"
    }
   ],
   "source": [
    "# Datum POS konvertieren\n",
    "\n",
    "pos_data_date_str = []\n",
    "for pos_string in data_POS[\"FINALPROCESSINGDATE\"]:\n",
    "    pos_s = str(pos_string)\n",
    "    pos_data_date_str.append(pos_s)\n",
    "pos_data_date_str\n",
    "\n",
    "# Datum POS konvertieren in datetime\n",
    "\n",
    "pos_clean_date1 = []\n",
    "for pos_date in pos_data_date_str:\n",
    "    pos_d = datetime.strptime(pos_date, '%d-%b-%y')\n",
    "    pos_clean_date1.append(pos_d)\n",
    "\n",
    "# Datum POS kürzen\n",
    "\n",
    "pos_clean_date = []\n",
    "for pos_short in pos_clean_date1:\n",
    "    pos_e = pos_short.strftime(\"%Y-%m-%d\")\n",
    "    pos_clean_date.append(pos_e)\n",
    "\n",
    "# Datum POS hinzufügen\n",
    "\n",
    "data_POS[\"Datum\"] = pos_clean_date\n",
    "\n",
    "# Dataframe finalisieren\n",
    "\n",
    "pos_final = data_POS[[\"Datum\", \"NTRX\", \"ISSUINGBASEAMOUNT\", \"ATV\"]]\n",
    "pos_final = pos_final.sort_values(\"Datum\").rename(columns={\"NTRX\" : \"Anzahl\"}).rename(columns={\"ISSUINGBASEAMOUNT\" : \"Total\"}).rename(columns={\"ATV\" : \"Durchschnitt\"})\n",
    "pos_final = pos_final.reset_index()\n",
    "pos_final = pos_final.drop(columns=[\"index\"]) \n",
    "\n",
    "# pos_final.to_csv('pos.csv')\n",
    "\n",
    "# Kalenderwoche herausfinden\n",
    "\n",
    "pos_kw = []\n",
    "for pos_tag_string in pos_final[\"Datum\"]:\n",
    "  pos_wochentag = datetime.strptime(pos_tag_string, '%Y-%m-%d')\n",
    "  pos_kw.append(datetime.date(pos_wochentag).isocalendar()[:-1])\n",
    "\n",
    "# Kalenderwoche hinzufügen\n",
    "pos_final[\"Kalenderwoche\"] = pos_kw \n",
    "\n",
    "# Umwandeln in Pivot-Tabelle\n",
    "\n",
    "pos_final_dev = pos_final.pivot_table(index=\"Datum\", columns=\"Kalenderwoche\", values=\"Anzahl\", aggfunc = \"sum\", margins=True).fillna('')\n",
    "pos_final_dev_short = pos_final_dev.tail(1)\n",
    "pos_final_dev_short\n",
    "\n",
    "# Rückumwandlung\n",
    "\n",
    "pos_melted = pd.melt(pos_final_dev_short).head(93)\n",
    "\n",
    "# Plot POS\n",
    "pos_melted['value'].plot(kind='bar', figsize=(20,5))"
   ]
  },
  {
   "cell_type": "code",
   "execution_count": 9,
   "metadata": {
    "colab": {
     "base_uri": "https://localhost:8080/",
     "height": 339
    },
    "executionInfo": {
     "elapsed": 1846,
     "status": "ok",
     "timestamp": 1603062488875,
     "user": {
      "displayName": "Daniel Thüler",
      "photoUrl": "https://lh3.googleusercontent.com/a-/AOh14GhAodIbIR6gKn5HxUKLXXzq8xUECR4pCz_Sjl9pQQ=s64",
      "userId": "12811777460310133016"
     },
     "user_tz": -120
    },
    "id": "DgzkQYrNHi5-",
    "outputId": "1547ea65-cd4b-401a-8400-71aed8b26e69"
   },
   "outputs": [
    {
     "data": {
      "text/plain": [
       "<matplotlib.axes._subplots.AxesSubplot at 0x7f9a9f622550>"
      ]
     },
     "execution_count": 9,
     "metadata": {},
     "output_type": "execute_result"
    },
    {
     "data": {
      "image/png": "[encoded data removed]",
      "text/plain": [
       "<Figure size 1440x360 with 1 Axes>"
      ]
     },
     "metadata": {
      "needs_background": "light"
     },
     "output_type": "display_data"
    }
   ],
   "source": [
    "# Datum ATM konvertieren\n",
    "\n",
    "atm_data_date_str = []\n",
    "for atm_string in data_ATM[\"FINALPROCESSINGDATE\"]:\n",
    "    atm_s = str(atm_string)\n",
    "    atm_data_date_str.append(atm_s)\n",
    "atm_data_date_str\n",
    "\n",
    "# Datum ATM konvertieren in datetime\n",
    "\n",
    "atm_clean_date1 = []\n",
    "for atm_date in atm_data_date_str:\n",
    "    atm_d = datetime.strptime(atm_date, '%d-%b-%y')\n",
    "    atm_clean_date1.append(atm_d)\n",
    "\n",
    "# Datum ATM kürzen\n",
    "\n",
    "atm_clean_date = []\n",
    "for atm_short in atm_clean_date1:\n",
    "    atm_e = atm_short.strftime(\"%Y-%m-%d\")\n",
    "    atm_clean_date.append(atm_e)\n",
    "\n",
    "# Datum ATM hinzufügen\n",
    "\n",
    "data_ATM[\"Datum\"] = atm_clean_date\n",
    "\n",
    "# Dataframe finalisieren\n",
    "\n",
    "atm_final = data_ATM[[\"Datum\", \"NTRX\", \"ISSUINGBASEAMOUNT\", \"ATV\"]]\n",
    "atm_final = atm_final.sort_values(\"Datum\").rename(columns={\"NTRX\" : \"Anzahl\"}).rename(columns={\"ISSUINGBASEAMOUNT\" : \"Total\"}).rename(columns={\"ATV\" : \"Durchschnitt\"})\n",
    "atm_final = atm_final.reset_index()\n",
    "atm_final = atm_final.drop(columns=[\"index\"]) \n",
    "\n",
    "# atm_final.to_csv('atm.csv')\n",
    "# pos_final.to_csv('pos.csv')\n",
    "\n",
    "# Kalenderwoche herausfinden\n",
    "\n",
    "atm_kw = []\n",
    "for atm_tag_string in atm_final[\"Datum\"]:\n",
    "  atm_wochentag = datetime.strptime(atm_tag_string, '%Y-%m-%d')\n",
    "  atm_kw.append(datetime.date(atm_wochentag).isocalendar()[:-1])\n",
    "\n",
    "# Kalenderwoche hinzufügen\n",
    "atm_final[\"Kalenderwoche\"] = atm_kw \n",
    "\n",
    "# Umwandeln in Pivot-Tabelle\n",
    "\n",
    "atm_final_dev = atm_final.pivot_table(index=\"Datum\", columns=\"Kalenderwoche\", values=\"Anzahl\", aggfunc = \"sum\", margins=True).fillna('')\n",
    "atm_final_dev_short = atm_final_dev.tail(1)\n",
    "atm_final_dev_short\n",
    "\n",
    "# Rückumwandlung\n",
    "\n",
    "atm_melted = pd.melt(atm_final_dev_short).head(93)\n",
    "\n",
    "# Plot ATM\n",
    "atm_melted['value'].plot(kind='bar', figsize=(20,5))"
   ]
  },
  {
   "cell_type": "code",
   "execution_count": 10,
   "metadata": {
    "executionInfo": {
     "elapsed": 662,
     "status": "ok",
     "timestamp": 1603062508667,
     "user": {
      "displayName": "Daniel Thüler",
      "photoUrl": "https://lh3.googleusercontent.com/a-/AOh14GhAodIbIR6gKn5HxUKLXXzq8xUECR4pCz_Sjl9pQQ=s64",
      "userId": "12811777460310133016"
     },
     "user_tz": -120
    },
    "id": "FDr6kp-KOBmF"
   },
   "outputs": [],
   "source": [
    "# Diagramm kürzen\n",
    "\n",
    "pos_2020 = pos_melted.iloc[52:]\n",
    "atm_2020 = atm_melted.iloc[52:]\n"
   ]
  },
  {
   "cell_type": "code",
   "execution_count": 11,
   "metadata": {
    "colab": {
     "base_uri": "https://localhost:8080/",
     "height": 339
    },
    "executionInfo": {
     "elapsed": 1167,
     "status": "ok",
     "timestamp": 1603062437140,
     "user": {
      "displayName": "Daniel Thüler",
      "photoUrl": "https://lh3.googleusercontent.com/a-/AOh14GhAodIbIR6gKn5HxUKLXXzq8xUECR4pCz_Sjl9pQQ=s64",
      "userId": "12811777460310133016"
     },
     "user_tz": -120
    },
    "id": "GBIIRwXsPw0M",
    "outputId": "d6ad9d9e-af61-40bc-9239-c79ffe70433a"
   },
   "outputs": [
    {
     "data": {
      "text/plain": [
       "<matplotlib.axes._subplots.AxesSubplot at 0x7f9a9fa381c0>"
      ]
     },
     "execution_count": 11,
     "metadata": {},
     "output_type": "execute_result"
    },
    {
     "data": {
      "image/png": "[encoded data removed]",
      "text/plain": [
       "<Figure size 720x360 with 1 Axes>"
      ]
     },
     "metadata": {
      "needs_background": "light"
     },
     "output_type": "display_data"
    }
   ],
   "source": [
    "pos_2020.reset_index()\n",
    "pos_2020.plot(kind='bar', figsize=(10,5))"
   ]
  },
  {
   "cell_type": "code",
   "execution_count": 12,
   "metadata": {
    "colab": {
     "base_uri": "https://localhost:8080/",
     "height": 339
    },
    "executionInfo": {
     "elapsed": 873,
     "status": "ok",
     "timestamp": 1603062080255,
     "user": {
      "displayName": "Daniel Thüler",
      "photoUrl": "https://lh3.googleusercontent.com/a-/AOh14GhAodIbIR6gKn5HxUKLXXzq8xUECR4pCz_Sjl9pQQ=s64",
      "userId": "12811777460310133016"
     },
     "user_tz": -120
    },
    "id": "lEnkfqyf8NXK",
    "outputId": "0403ba3e-55f0-4a4e-86ae-d49212b9cdd0"
   },
   "outputs": [
    {
     "data": {
      "text/plain": [
       "<matplotlib.axes._subplots.AxesSubplot at 0x7f9a9fe17b20>"
      ]
     },
     "execution_count": 12,
     "metadata": {},
     "output_type": "execute_result"
    },
    {
     "data": {
      "image/png": "[encoded data removed]",
      "text/plain": [
       "<Figure size 720x360 with 1 Axes>"
      ]
     },
     "metadata": {
      "needs_background": "light"
     },
     "output_type": "display_data"
    }
   ],
   "source": [
    "atm_2020.plot(kind='bar', figsize=(10,5))"
   ]
  },
  {
   "cell_type": "code",
   "execution_count": 18,
   "metadata": {},
   "outputs": [
    {
     "data": {
      "text/html": [
       "<div>\n",
       "<style scoped>\n",
       "    .dataframe tbody tr th:only-of-type {\n",
       "        vertical-align: middle;\n",
       "    }\n",
       "\n",
       "    .dataframe tbody tr th {\n",
       "        vertical-align: top;\n",
       "    }\n",
       "\n",
       "    .dataframe thead th {\n",
       "        text-align: right;\n",
       "    }\n",
       "</style>\n",
       "<table border=\"1\" class=\"dataframe\">\n",
       "  <thead>\n",
       "    <tr style=\"text-align: right;\">\n",
       "      <th></th>\n",
       "      <th>FINALPROCESSINGDATE</th>\n",
       "      <th>NTRX</th>\n",
       "      <th>ISSUINGBASEAMOUNT</th>\n",
       "      <th>ATV</th>\n",
       "    </tr>\n",
       "  </thead>\n",
       "  <tbody>\n",
       "    <tr>\n",
       "      <th>56</th>\n",
       "      <td>01-APR-19</td>\n",
       "      <td>16044</td>\n",
       "      <td>715445</td>\n",
       "      <td>44.59</td>\n",
       "    </tr>\n",
       "    <tr>\n",
       "      <th>122</th>\n",
       "      <td>01-APR-20</td>\n",
       "      <td>15984</td>\n",
       "      <td>677369</td>\n",
       "      <td>42.38</td>\n",
       "    </tr>\n",
       "    <tr>\n",
       "      <th>188</th>\n",
       "      <td>01-AUG-19</td>\n",
       "      <td>6925</td>\n",
       "      <td>298134</td>\n",
       "      <td>43.05</td>\n",
       "    </tr>\n",
       "    <tr>\n",
       "      <th>254</th>\n",
       "      <td>01-AUG-20</td>\n",
       "      <td>10888</td>\n",
       "      <td>436364</td>\n",
       "      <td>40.08</td>\n",
       "    </tr>\n",
       "    <tr>\n",
       "      <th>320</th>\n",
       "      <td>01-DEC-19</td>\n",
       "      <td>5208</td>\n",
       "      <td>219331</td>\n",
       "      <td>42.11</td>\n",
       "    </tr>\n",
       "  </tbody>\n",
       "</table>\n",
       "</div>"
      ],
      "text/plain": [
       "    FINALPROCESSINGDATE   NTRX  ISSUINGBASEAMOUNT    ATV\n",
       "56            01-APR-19  16044             715445  44.59\n",
       "122           01-APR-20  15984             677369  42.38\n",
       "188           01-AUG-19   6925             298134  43.05\n",
       "254           01-AUG-20  10888             436364  40.08\n",
       "320           01-DEC-19   5208             219331  42.11"
      ]
     },
     "execution_count": 18,
     "metadata": {},
     "output_type": "execute_result"
    }
   ],
   "source": [
    "data_POS.head()"
   ]
  },
  {
   "cell_type": "code",
   "execution_count": 49,
   "metadata": {},
   "outputs": [
    {
     "data": {
      "text/plain": [
       "FINALPROCESSINGDATE     object\n",
       "NTRX                     int64\n",
       "ISSUINGBASEAMOUNT        int64\n",
       "ATV                    float64\n",
       "dtype: object"
      ]
     },
     "execution_count": 49,
     "metadata": {},
     "output_type": "execute_result"
    }
   ],
   "source": [
    "data_POS.dtypes"
   ]
  },
  {
   "cell_type": "code",
   "execution_count": 51,
   "metadata": {},
   "outputs": [],
   "source": [
    "raw_data[\"FINALPROCESSINGDATE\"] = pd.to_datetime(raw_data[\"FINALPROCESSINGDATE\"], format=\"%d-%b-%y\")"
   ]
  },
  {
   "cell_type": "code",
   "execution_count": 52,
   "metadata": {},
   "outputs": [
    {
     "data": {
      "text/plain": [
       "0       2019-04-01\n",
       "1       2019-04-01\n",
       "2       2019-04-01\n",
       "3       2019-04-01\n",
       "4       2019-04-01\n",
       "           ...    \n",
       "43357   2019-10-31\n",
       "43358   2019-10-31\n",
       "43359   2019-10-31\n",
       "43360   2019-10-31\n",
       "43361   2019-10-31\n",
       "Name: FINALPROCESSINGDATE, Length: 43362, dtype: datetime64[ns]"
      ]
     },
     "execution_count": 52,
     "metadata": {},
     "output_type": "execute_result"
    }
   ],
   "source": [
    "raw_data[\"FINALPROCESSINGDATE\"]"
   ]
  },
  {
   "cell_type": "code",
   "execution_count": null,
   "metadata": {},
   "outputs": [],
   "source": []
  },
  {
   "cell_type": "code",
   "execution_count": null,
   "metadata": {},
   "outputs": [],
   "source": []
  },
  {
   "cell_type": "code",
   "execution_count": null,
   "metadata": {},
   "outputs": [],
   "source": []
  },
  {
   "cell_type": "code",
   "execution_count": null,
   "metadata": {},
   "outputs": [],
   "source": []
  },
  {
   "cell_type": "code",
   "execution_count": null,
   "metadata": {},
   "outputs": [],
   "source": []
  },
  {
   "cell_type": "code",
   "execution_count": 19,
   "metadata": {},
   "outputs": [
    {
     "name": "stdout",
     "output_type": "stream",
     "text": [
      "<class 'pandas.core.frame.DataFrame'>\n",
      "Int64Index: 657 entries, 56 to 43352\n",
      "Data columns (total 4 columns):\n",
      " #   Column               Non-Null Count  Dtype  \n",
      "---  ------               --------------  -----  \n",
      " 0   FINALPROCESSINGDATE  657 non-null    object \n",
      " 1   NTRX                 657 non-null    int64  \n",
      " 2   ISSUINGBASEAMOUNT    657 non-null    int64  \n",
      " 3   ATV                  657 non-null    float64\n",
      "dtypes: float64(1), int64(2), object(1)\n",
      "memory usage: 25.7+ KB\n"
     ]
    }
   ],
   "source": [
    "data_POS.info()"
   ]
  },
  {
   "cell_type": "code",
   "execution_count": 20,
   "metadata": {},
   "outputs": [
    {
     "data": {
      "text/plain": [
       "Timestamp('2019-04-01 00:00:00')"
      ]
     },
     "execution_count": 20,
     "metadata": {},
     "output_type": "execute_result"
    }
   ],
   "source": [
    "pd.to_datetime(\"01-APR-19\", format='%d-%b-%y', errors='ignore')"
   ]
  },
  {
   "cell_type": "code",
   "execution_count": 22,
   "metadata": {},
   "outputs": [],
   "source": [
    "#https://strftime.org/"
   ]
  },
  {
   "cell_type": "code",
   "execution_count": 23,
   "metadata": {},
   "outputs": [],
   "source": [
    "data_POS[''] = pd.to_datetime(data_POS['FINALPROCESSINGDATE'], format='%d-%b-%y', errors='ignore')"
   ]
  },
  {
   "cell_type": "code",
   "execution_count": 25,
   "metadata": {},
   "outputs": [],
   "source": [
    "data_POS.index = data_POS['Date']"
   ]
  },
  {
   "cell_type": "code",
   "execution_count": null,
   "metadata": {},
   "outputs": [],
   "source": []
  },
  {
   "cell_type": "code",
   "execution_count": 41,
   "metadata": {},
   "outputs": [
    {
     "name": "stdout",
     "output_type": "stream",
     "text": [
      "<class 'pandas.core.frame.DataFrame'>\n",
      "DatetimeIndex: 657 entries, 2019-04-01 to 2019-10-31\n",
      "Data columns (total 5 columns):\n",
      " #   Column               Non-Null Count  Dtype         \n",
      "---  ------               --------------  -----         \n",
      " 0   FINALPROCESSINGDATE  657 non-null    object        \n",
      " 1   NTRX                 657 non-null    int64         \n",
      " 2   ISSUINGBASEAMOUNT    657 non-null    int64         \n",
      " 3   ATV                  657 non-null    float64       \n",
      " 4   Date                 657 non-null    datetime64[ns]\n",
      "dtypes: datetime64[ns](1), float64(1), int64(2), object(1)\n",
      "memory usage: 50.8+ KB\n"
     ]
    }
   ],
   "source": [
    "data_POS.info()"
   ]
  },
  {
   "cell_type": "code",
   "execution_count": 45,
   "metadata": {},
   "outputs": [
    {
     "ename": "ValueError",
     "evalue": "'Date' is both an index level and a column label, which is ambiguous.",
     "output_type": "error",
     "traceback": [
      "\u001b[0;31m---------------------------------------------------------------------------\u001b[0m",
      "\u001b[0;31mValueError\u001b[0m                                Traceback (most recent call last)",
      "\u001b[0;32m<ipython-input-45-657d120439c0>\u001b[0m in \u001b[0;36m<module>\u001b[0;34m\u001b[0m\n\u001b[0;32m----> 1\u001b[0;31m \u001b[0mdata_POS\u001b[0m\u001b[0;34m.\u001b[0m\u001b[0msort_values\u001b[0m\u001b[0;34m(\u001b[0m\u001b[0mby\u001b[0m\u001b[0;34m=\u001b[0m\u001b[0;34m'Date'\u001b[0m\u001b[0;34m)\u001b[0m\u001b[0;34m\u001b[0m\u001b[0;34m\u001b[0m\u001b[0m\n\u001b[0m",
      "\u001b[0;32m~/opt/anaconda3/lib/python3.8/site-packages/pandas/core/frame.py\u001b[0m in \u001b[0;36msort_values\u001b[0;34m(self, by, axis, ascending, inplace, kind, na_position, ignore_index)\u001b[0m\n\u001b[1;32m   4925\u001b[0m \u001b[0;34m\u001b[0m\u001b[0m\n\u001b[1;32m   4926\u001b[0m             \u001b[0mby\u001b[0m \u001b[0;34m=\u001b[0m \u001b[0mby\u001b[0m\u001b[0;34m[\u001b[0m\u001b[0;36m0\u001b[0m\u001b[0;34m]\u001b[0m\u001b[0;34m\u001b[0m\u001b[0;34m\u001b[0m\u001b[0m\n\u001b[0;32m-> 4927\u001b[0;31m             \u001b[0mk\u001b[0m \u001b[0;34m=\u001b[0m \u001b[0mself\u001b[0m\u001b[0;34m.\u001b[0m\u001b[0m_get_label_or_level_values\u001b[0m\u001b[0;34m(\u001b[0m\u001b[0mby\u001b[0m\u001b[0;34m,\u001b[0m \u001b[0maxis\u001b[0m\u001b[0;34m=\u001b[0m\u001b[0maxis\u001b[0m\u001b[0;34m)\u001b[0m\u001b[0;34m\u001b[0m\u001b[0;34m\u001b[0m\u001b[0m\n\u001b[0m\u001b[1;32m   4928\u001b[0m \u001b[0;34m\u001b[0m\u001b[0m\n\u001b[1;32m   4929\u001b[0m             \u001b[0;32mif\u001b[0m \u001b[0misinstance\u001b[0m\u001b[0;34m(\u001b[0m\u001b[0mascending\u001b[0m\u001b[0;34m,\u001b[0m \u001b[0;34m(\u001b[0m\u001b[0mtuple\u001b[0m\u001b[0;34m,\u001b[0m \u001b[0mlist\u001b[0m\u001b[0;34m)\u001b[0m\u001b[0;34m)\u001b[0m\u001b[0;34m:\u001b[0m\u001b[0;34m\u001b[0m\u001b[0;34m\u001b[0m\u001b[0m\n",
      "\u001b[0;32m~/opt/anaconda3/lib/python3.8/site-packages/pandas/core/generic.py\u001b[0m in \u001b[0;36m_get_label_or_level_values\u001b[0;34m(self, key, axis)\u001b[0m\n\u001b[1;32m   1685\u001b[0m \u001b[0;34m\u001b[0m\u001b[0m\n\u001b[1;32m   1686\u001b[0m         \u001b[0;32mif\u001b[0m \u001b[0mself\u001b[0m\u001b[0;34m.\u001b[0m\u001b[0m_is_label_reference\u001b[0m\u001b[0;34m(\u001b[0m\u001b[0mkey\u001b[0m\u001b[0;34m,\u001b[0m \u001b[0maxis\u001b[0m\u001b[0;34m=\u001b[0m\u001b[0maxis\u001b[0m\u001b[0;34m)\u001b[0m\u001b[0;34m:\u001b[0m\u001b[0;34m\u001b[0m\u001b[0;34m\u001b[0m\u001b[0m\n\u001b[0;32m-> 1687\u001b[0;31m             \u001b[0mself\u001b[0m\u001b[0;34m.\u001b[0m\u001b[0m_check_label_or_level_ambiguity\u001b[0m\u001b[0;34m(\u001b[0m\u001b[0mkey\u001b[0m\u001b[0;34m,\u001b[0m \u001b[0maxis\u001b[0m\u001b[0;34m=\u001b[0m\u001b[0maxis\u001b[0m\u001b[0;34m)\u001b[0m\u001b[0;34m\u001b[0m\u001b[0;34m\u001b[0m\u001b[0m\n\u001b[0m\u001b[1;32m   1688\u001b[0m             \u001b[0mvalues\u001b[0m \u001b[0;34m=\u001b[0m \u001b[0mself\u001b[0m\u001b[0;34m.\u001b[0m\u001b[0mxs\u001b[0m\u001b[0;34m(\u001b[0m\u001b[0mkey\u001b[0m\u001b[0;34m,\u001b[0m \u001b[0maxis\u001b[0m\u001b[0;34m=\u001b[0m\u001b[0mother_axes\u001b[0m\u001b[0;34m[\u001b[0m\u001b[0;36m0\u001b[0m\u001b[0;34m]\u001b[0m\u001b[0;34m)\u001b[0m\u001b[0;34m.\u001b[0m\u001b[0m_values\u001b[0m\u001b[0;34m\u001b[0m\u001b[0;34m\u001b[0m\u001b[0m\n\u001b[1;32m   1689\u001b[0m         \u001b[0;32melif\u001b[0m \u001b[0mself\u001b[0m\u001b[0;34m.\u001b[0m\u001b[0m_is_level_reference\u001b[0m\u001b[0;34m(\u001b[0m\u001b[0mkey\u001b[0m\u001b[0;34m,\u001b[0m \u001b[0maxis\u001b[0m\u001b[0;34m=\u001b[0m\u001b[0maxis\u001b[0m\u001b[0;34m)\u001b[0m\u001b[0;34m:\u001b[0m\u001b[0;34m\u001b[0m\u001b[0;34m\u001b[0m\u001b[0m\n",
      "\u001b[0;32m~/opt/anaconda3/lib/python3.8/site-packages/pandas/core/generic.py\u001b[0m in \u001b[0;36m_check_label_or_level_ambiguity\u001b[0;34m(self, key, axis)\u001b[0m\n\u001b[1;32m   1645\u001b[0m                 \u001b[0;34mf\"{label_article} {label_type} label, which is ambiguous.\"\u001b[0m\u001b[0;34m\u001b[0m\u001b[0;34m\u001b[0m\u001b[0m\n\u001b[1;32m   1646\u001b[0m             )\n\u001b[0;32m-> 1647\u001b[0;31m             \u001b[0;32mraise\u001b[0m \u001b[0mValueError\u001b[0m\u001b[0;34m(\u001b[0m\u001b[0mmsg\u001b[0m\u001b[0;34m)\u001b[0m\u001b[0;34m\u001b[0m\u001b[0;34m\u001b[0m\u001b[0m\n\u001b[0m\u001b[1;32m   1648\u001b[0m \u001b[0;34m\u001b[0m\u001b[0m\n\u001b[1;32m   1649\u001b[0m     \u001b[0;32mdef\u001b[0m \u001b[0m_get_label_or_level_values\u001b[0m\u001b[0;34m(\u001b[0m\u001b[0mself\u001b[0m\u001b[0;34m,\u001b[0m \u001b[0mkey\u001b[0m\u001b[0;34m:\u001b[0m \u001b[0mstr\u001b[0m\u001b[0;34m,\u001b[0m \u001b[0maxis\u001b[0m\u001b[0;34m:\u001b[0m \u001b[0mint\u001b[0m \u001b[0;34m=\u001b[0m \u001b[0;36m0\u001b[0m\u001b[0;34m)\u001b[0m \u001b[0;34m->\u001b[0m \u001b[0mnp\u001b[0m\u001b[0;34m.\u001b[0m\u001b[0mndarray\u001b[0m\u001b[0;34m:\u001b[0m\u001b[0;34m\u001b[0m\u001b[0;34m\u001b[0m\u001b[0m\n",
      "\u001b[0;31mValueError\u001b[0m: 'Date' is both an index level and a column label, which is ambiguous."
     ]
    }
   ],
   "source": [
    "data_POS.sort_values(by='Date')"
   ]
  },
  {
   "cell_type": "code",
   "execution_count": null,
   "metadata": {},
   "outputs": [],
   "source": []
  }
 ],
 "metadata": {
  "colab": {
   "collapsed_sections": [],
   "name": "Kopie von atm_pos.ipynb",
   "provenance": [
    {
     "file_id": "1Ou_gdml8rChhuiKKNrsqyJwtmJ7ZKHPB",
     "timestamp": 1603062538507
    },
    {
     "file_id": "1yB7dvUomhe95tk0taD11LOA66j18umXx",
     "timestamp": 1603029454394
    }
   ]
  },
  "kernelspec": {
   "display_name": "Python 3",
   "language": "python",
   "name": "python3"
  },
  "language_info": {
   "codemirror_mode": {
    "name": "ipython",
    "version": 3
   },
   "file_extension": ".py",
   "mimetype": "text/x-python",
   "name": "python",
   "nbconvert_exporter": "python",
   "pygments_lexer": "ipython3",
   "version": "3.8.3"
  }
 },
 "nbformat": 4,
 "nbformat_minor": 1
}
