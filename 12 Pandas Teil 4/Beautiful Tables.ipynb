{
 "cells": [
  {
   "cell_type": "markdown",
   "id": "09e81045",
   "metadata": {},
   "source": [
    "# Beautiful Tables"
   ]
  },
  {
   "cell_type": "markdown",
   "id": "1decf42a",
   "metadata": {},
   "source": [
    "**Inhalt:** Lesbare Tabellen in Pandas\n",
    "\n",
    "**Nötige Skills:** Erste Schritte mit Pandas\n",
    "\n",
    "**Lernziele:**\n",
    "- Zahlenformate kennenlernen und anwenden\n",
    "- Tabellen-Leserlichkeit mit Styles optimieren\n",
    "- Chartform: Heatmaps\n",
    "\n",
    "**Weitere Ressourcen:**\n",
    "- Cookbook für String Formats: https://mkaz.blog/code/python-string-format-cookbook/\n",
    "- User Guide zu Styles: https://pandas.pydata.org/pandas-docs/stable/reference/api/pandas.io.formats.style.Styler.format.html\n",
    "- Reference Style-Funktion: https://pandas.pydata.org/pandas-docs/stable/reference/api/pandas.io.formats.style.Styler.format.html"
   ]
  },
  {
   "cell_type": "code",
   "execution_count": null,
   "id": "cecb0498",
   "metadata": {},
   "outputs": [],
   "source": [
    "import pandas as pd"
   ]
  },
  {
   "cell_type": "code",
   "execution_count": null,
   "id": "bcd676d5",
   "metadata": {},
   "outputs": [],
   "source": [
    "import numpy as np"
   ]
  },
  {
   "cell_type": "markdown",
   "id": "e28bf84d",
   "metadata": {},
   "source": [
    "## Das Beispiel\n",
    "\n",
    "Eine Liste von Ländern mit ihrer Grösse und diversen Eigenschaften.\n",
    "\n",
    "Quelle: Weltbank (https://data.worldbank.org/indicator)"
   ]
  },
  {
   "cell_type": "markdown",
   "id": "4564c600",
   "metadata": {},
   "source": [
    "## Daten laden"
   ]
  },
  {
   "cell_type": "code",
   "execution_count": null,
   "id": "8a639901",
   "metadata": {},
   "outputs": [],
   "source": [
    "path = \"dataprojects/Worldbank/worldbank_countries.xlsx\""
   ]
  },
  {
   "cell_type": "code",
   "execution_count": null,
   "id": "15d6f41f",
   "metadata": {},
   "outputs": [],
   "source": [
    "df = pd.read_excel(path)"
   ]
  },
  {
   "cell_type": "code",
   "execution_count": null,
   "id": "1b392ea1",
   "metadata": {
    "scrolled": false
   },
   "outputs": [],
   "source": [
    "df.head(3)"
   ]
  },
  {
   "cell_type": "markdown",
   "id": "d260714e",
   "metadata": {},
   "source": [
    "## Pandas Display Options"
   ]
  },
  {
   "cell_type": "markdown",
   "id": "8325a400",
   "metadata": {},
   "source": [
    "Wir interessieren uns also für Länder und deren diverse Eigenschaften. Was in Pandas zuweilen aber gar nicht so easy ist: Einfach mal durch die Daten schauen.\n",
    "\n",
    "Dataframes werden in der Übersicht abgekürzt, wir sehen nur die ersten und letzten fünf Zeilen:"
   ]
  },
  {
   "cell_type": "code",
   "execution_count": null,
   "id": "91952a5b",
   "metadata": {},
   "outputs": [],
   "source": [
    "df"
   ]
  },
  {
   "cell_type": "markdown",
   "id": "4a94f604",
   "metadata": {},
   "source": [
    "Ein erster, simpler Schritt: Wir wollen einfach mal sämtliche Daten sehen, statt nur die Vorschau der ersten und letzten fünf Zeilen. Wir können dazu eine Einstellung vornehmen, die ab diesem Punkt für das gesamte weitere Notebook gilt:"
   ]
  },
  {
   "cell_type": "code",
   "execution_count": null,
   "id": "99648ee8",
   "metadata": {},
   "outputs": [],
   "source": [
    "pd.set_option(\"display.max_rows\", 1000)"
   ]
  },
  {
   "cell_type": "markdown",
   "id": "1e321d21",
   "metadata": {},
   "source": [
    "Ab jetzt zeigt Pandas jedesmal bis zu 1000 Zeilen einer Tabelle an. Das genügt uns."
   ]
  },
  {
   "cell_type": "code",
   "execution_count": null,
   "id": "305e9495",
   "metadata": {
    "scrolled": false
   },
   "outputs": [],
   "source": [
    "df"
   ]
  },
  {
   "cell_type": "markdown",
   "id": "b0f40de5",
   "metadata": {},
   "source": [
    "Für eine unbeschränkte Ansicht könnten wir hier statt einem Zahlenwert auch `None` setzen."
   ]
  },
  {
   "cell_type": "markdown",
   "id": "7e568748",
   "metadata": {},
   "source": [
    "Es gibt weitere Display-Optionen, die wir einstellen können:\n",
    "- `display.max_columns`: Maximale Spaltenzahl, analog zur Zeilenzahl. Damit wir auch alle Spalten sehen, falls es sehr viele sind.\n",
    "- `display.max_colwidth`: Maximale Zeichenzahl, die in einer Zelle angezeigt werden soll. Damit der ganze Text in einer Zelle angezeigt wird, falls wir nicht nur eine abgekürzte Variante davon sehen wollen."
   ]
  },
  {
   "cell_type": "markdown",
   "id": "c5980a10",
   "metadata": {},
   "source": [
    "Eine vollständige Liste der Optionen findet sich hier: https://pandas.pydata.org/pandas-docs/stable/user_guide/options.html"
   ]
  },
  {
   "cell_type": "markdown",
   "id": "5ff94174",
   "metadata": {},
   "source": [
    "Praktisch für uns ist zum Beispiel auch die folgende Option:"
   ]
  },
  {
   "cell_type": "code",
   "execution_count": null,
   "id": "104f5733",
   "metadata": {},
   "outputs": [],
   "source": [
    "pd.set_option(\"display.precision\", 2)"
   ]
  },
  {
   "cell_type": "markdown",
   "id": "3eec0f12",
   "metadata": {},
   "source": [
    "Wir erhalten nun nicht mehr zig Dezimalstellen angezeigt, sondern nur noch eine. Das erleichtert das Lesen."
   ]
  },
  {
   "cell_type": "code",
   "execution_count": null,
   "id": "195b3442",
   "metadata": {},
   "outputs": [],
   "source": [
    "df.head(5)"
   ]
  },
  {
   "cell_type": "markdown",
   "id": "0b6f5fc6",
   "metadata": {},
   "source": [
    "Das ist besser, aber immer noch nicht schön. Zum Beispiel würden wir die Arbeitslosenquote gerne in Prozent sehen (7,1% statt 0.07) und hätten bei der Bevölkerung gerne Tausender-Trennzeichen (4'270'563)."
   ]
  },
  {
   "cell_type": "markdown",
   "id": "9e6b3f60",
   "metadata": {},
   "source": [
    "Um das zu tun, bietet Pandas / Python eine Reihe von Formatierungscodes an."
   ]
  },
  {
   "cell_type": "markdown",
   "id": "cc61b3d3",
   "metadata": {},
   "source": [
    "## Exkurs: Zahlen formatieren"
   ]
  },
  {
   "cell_type": "markdown",
   "id": "5fe8b4f5",
   "metadata": {},
   "source": [
    "### Das Prinzip"
   ]
  },
  {
   "cell_type": "markdown",
   "id": "285b363b",
   "metadata": {},
   "source": [
    "Zahlen zu formatieren, funktioniert in Python etwas schräg.\n",
    "\n",
    "Wir starten mit einem Format-Ausdruck (einem String):"
   ]
  },
  {
   "cell_type": "code",
   "execution_count": null,
   "id": "7b714415",
   "metadata": {},
   "outputs": [],
   "source": [
    "'{:.2f}'"
   ]
  },
  {
   "cell_type": "markdown",
   "id": "55ad78e0",
   "metadata": {},
   "source": [
    "Ausgehend von diesem String können wir eine Funktion aufrufen: `.format()`\n",
    "\n",
    "Der Parameter, den wir dieser Funktion mitgeben, ist die Zahl, die wir formatieren wollen."
   ]
  },
  {
   "cell_type": "code",
   "execution_count": null,
   "id": "eee93a1e",
   "metadata": {},
   "outputs": [],
   "source": [
    "'{:.2f}'.format(5.39120)"
   ]
  },
  {
   "cell_type": "markdown",
   "id": "d0c911cd",
   "metadata": {},
   "source": [
    "Note: Bei dieser Prozedur haben wir auch eine Typenumwandlung vollzogen:\n",
    "- Unsere ursprüngliche Zahl (`5.39120`) war eine Floating-Point-Number"
   ]
  },
  {
   "cell_type": "code",
   "execution_count": null,
   "id": "46809e5a",
   "metadata": {},
   "outputs": [],
   "source": [
    "type(5.39120)"
   ]
  },
  {
   "cell_type": "markdown",
   "id": "33cea004",
   "metadata": {},
   "source": [
    "- Der Output dieser Funktion (`'5.39'`) ist ein String."
   ]
  },
  {
   "cell_type": "code",
   "execution_count": null,
   "id": "b9cb1077",
   "metadata": {},
   "outputs": [],
   "source": [
    "type('5.39')"
   ]
  },
  {
   "cell_type": "markdown",
   "id": "bdac2a7b",
   "metadata": {},
   "source": [
    "Nach dem Formatieren können wir also keine mathematischen Berechnungen mehr mit der Zahl machen!"
   ]
  },
  {
   "cell_type": "markdown",
   "id": "1a6554a4",
   "metadata": {},
   "source": [
    "### Format-Strings"
   ]
  },
  {
   "cell_type": "markdown",
   "id": "6b186a2a",
   "metadata": {},
   "source": [
    "Wie funktionieren diese Formatierungs-Strings?"
   ]
  },
  {
   "cell_type": "markdown",
   "id": "277ac4cb",
   "metadata": {},
   "source": [
    "#### 1. Die Hülle"
   ]
  },
  {
   "cell_type": "markdown",
   "id": "b14984f5",
   "metadata": {},
   "source": [
    "Der einfachste Formatstring macht - gar nichts, sondern gibt die Zahl einfach tel quel zurück: `{}`"
   ]
  },
  {
   "cell_type": "code",
   "execution_count": null,
   "id": "33e4d739",
   "metadata": {},
   "outputs": [],
   "source": [
    "'{}'.format(3.1415926)"
   ]
  },
  {
   "cell_type": "markdown",
   "id": "4ea55587",
   "metadata": {},
   "source": [
    "Damit wir die Zahl bearbeiten können, braucht es zunächst mal einen Doppelpunkt: `:`\n",
    "\n",
    "Wenn wir den einsetzen, passiert aber immer noch nichts."
   ]
  },
  {
   "cell_type": "code",
   "execution_count": null,
   "id": "4fb19eff",
   "metadata": {},
   "outputs": [],
   "source": [
    "'{:}'.format(3.1415926)"
   ]
  },
  {
   "cell_type": "markdown",
   "id": "ceeab474",
   "metadata": {},
   "source": [
    "Es braucht also noch weitere Angaben."
   ]
  },
  {
   "cell_type": "markdown",
   "id": "0d61251d",
   "metadata": {},
   "source": [
    "#### 2. Runden"
   ]
  },
  {
   "cell_type": "markdown",
   "id": "af63d7d8",
   "metadata": {},
   "source": [
    "Wir können eine Zahl nach dem Komma runden mit folgendem Ausdruck: `.2f`\n",
    "\n",
    "Das f steht dabei für \"float\" und die 2 für die Anzahl Ziffern nach dem Komma."
   ]
  },
  {
   "cell_type": "code",
   "execution_count": null,
   "id": "85f6b866",
   "metadata": {},
   "outputs": [],
   "source": [
    "'{:.2f}'.format(3.1415926)"
   ]
  },
  {
   "cell_type": "markdown",
   "id": "4aac82b7",
   "metadata": {},
   "source": [
    "#### 3. Prozentzahlen"
   ]
  },
  {
   "cell_type": "markdown",
   "id": "a0aeae83",
   "metadata": {},
   "source": [
    "Um die Zahl in Prozent anzugeben, Prozentzeichen: `%`"
   ]
  },
  {
   "cell_type": "code",
   "execution_count": null,
   "id": "b84ee463",
   "metadata": {},
   "outputs": [],
   "source": [
    "'{:%}'.format(3.1415926)"
   ]
  },
  {
   "cell_type": "markdown",
   "id": "0afb6d04",
   "metadata": {},
   "source": [
    "Man kann auch Prozentzahlen runden:"
   ]
  },
  {
   "cell_type": "code",
   "execution_count": null,
   "id": "00ce2158",
   "metadata": {},
   "outputs": [],
   "source": [
    "'{:.2%}'.format(3.1415926)"
   ]
  },
  {
   "cell_type": "markdown",
   "id": "8e4b6bca",
   "metadata": {},
   "source": [
    "#### 4. Plus- und Minuszeichen"
   ]
  },
  {
   "cell_type": "markdown",
   "id": "406bad3f",
   "metadata": {},
   "source": [
    "Um explizit ein Pluszeichen anzugeben, falls die Zahl grösser als null ist: `+`"
   ]
  },
  {
   "cell_type": "code",
   "execution_count": null,
   "id": "b416bd84",
   "metadata": {},
   "outputs": [],
   "source": [
    "'{:+.2%}'.format(3.1415926)"
   ]
  },
  {
   "cell_type": "markdown",
   "id": "e13c3b86",
   "metadata": {},
   "source": [
    "#### 5. Nullen vorneanstellen"
   ]
  },
  {
   "cell_type": "markdown",
   "id": "a1185958",
   "metadata": {},
   "source": [
    "Kann zB hilfreich sein, wenn man die Zahlen später als Text sortieren muss oder wenn es sich um bestimmte Codes handelt: `03d`\n",
    "\n",
    "Das \"d\" steht dabei für digits (ganze Zahlen) und die 3 für die Gesamtzahl der Ziffern."
   ]
  },
  {
   "cell_type": "code",
   "execution_count": null,
   "id": "21cdb348",
   "metadata": {},
   "outputs": [],
   "source": [
    "'{:03d}'.format(42)"
   ]
  },
  {
   "cell_type": "markdown",
   "id": "3230cdfd",
   "metadata": {},
   "source": [
    "Das funktioniert ähnlich auch bei Floats. Allerdings muss man hier sowohl die Gesamtzahl der Zeichen (zB 6) als auch die Länge hinter dem Komma angeben (zB 2):"
   ]
  },
  {
   "cell_type": "code",
   "execution_count": null,
   "id": "e740e909",
   "metadata": {},
   "outputs": [],
   "source": [
    "'{:06.2f}'.format(3.1415926)"
   ]
  },
  {
   "cell_type": "markdown",
   "id": "e3f57848",
   "metadata": {},
   "source": [
    "**6. Tausendertrennzeichen**"
   ]
  },
  {
   "cell_type": "markdown",
   "id": "558d56a1",
   "metadata": {},
   "source": [
    "Trägt auch stark zur Lesbarkeit bei: Tausenderzeichen. Der Code dafür ist ein Komma: `,`"
   ]
  },
  {
   "cell_type": "code",
   "execution_count": null,
   "id": "d39e2d3c",
   "metadata": {},
   "outputs": [],
   "source": [
    "'{:,}'.format(31415926)"
   ]
  },
  {
   "cell_type": "markdown",
   "id": "b584026a",
   "metadata": {},
   "source": [
    "Leider müssen wir uns mit der amerikanischen Variante (,) begnügen. Die deutschen Hochkommas (') gehen nicht."
   ]
  },
  {
   "cell_type": "markdown",
   "id": "ad2e2fad",
   "metadata": {},
   "source": [
    "#### 7. Währungen"
   ]
  },
  {
   "cell_type": "markdown",
   "id": "0fc42685",
   "metadata": {},
   "source": [
    "Um eine bestimmte Währung vor oder hinter der Zahl anzuzeigen: Einfach ausserhalb der geschweiften Klammern die Einheit hinschreiben, zB `CHF`"
   ]
  },
  {
   "cell_type": "code",
   "execution_count": null,
   "id": "45ffb996",
   "metadata": {},
   "outputs": [],
   "source": [
    "'CHF {:,}'.format(31415926)"
   ]
  },
  {
   "cell_type": "markdown",
   "id": "84bb4742",
   "metadata": {},
   "source": [
    "#### 8. Grosse zahlen runden"
   ]
  },
  {
   "cell_type": "markdown",
   "id": "858472ac",
   "metadata": {},
   "source": [
    "Wenn zB die genauen Frankenbeträge nicht wichtig sind, können wir sie auch vor dem Komma runden."
   ]
  },
  {
   "cell_type": "code",
   "execution_count": null,
   "id": "8f62c115",
   "metadata": {},
   "outputs": [],
   "source": [
    "# code fehlt noch. gibt es das überhaupt?"
   ]
  },
  {
   "cell_type": "markdown",
   "id": "d9b24c63",
   "metadata": {},
   "source": [
    "**Übersicht und weitere Formate:**"
   ]
  },
  {
   "cell_type": "markdown",
   "id": "6d9e7ec0",
   "metadata": {},
   "source": [
    "Hier eine Übersicht, kopiert von: https://mkaz.blog/code/python-string-format-cookbook/"
   ]
  },
  {
   "cell_type": "markdown",
   "id": "b8cfba59",
   "metadata": {},
   "source": [
    "| Number | Format | Output | Description |\n",
    "| -------|--------|--------|------------- |\n",
    "| 3.1415926 | {:.2f} | 3.14 | Format float 2 decimal places |\n",
    "| 3.1415926 | {:+.2f} | +3.14 | Format float 2 decimal places with sign |\n",
    "| -1 | {:+.2f} | -1.00 | Format float 2 decimal places with sign |\n",
    "| 2.71828 | {:.0f} | 3 | Format float with no decimal places |\n",
    "| 5 | {:0>2d} | 05 | Pad number with zeros (left padding, width 2) |\n",
    "| 5 | {:x<4d} | 5xxx | Pad number with x’s (right padding, width 4) |\n",
    "| 10 | {:x<4d} | 10xx | Pad number with x’s (right padding, width 4) |\n",
    "| 1000000 | {:,} | 1,000,000 | Number format with comma separator |\n",
    "| 0.25 | {:.2%} | 25.00% | Format percentage |\n",
    "| 1000000000 | {:.2e} | 1.00e+09 | Exponent notation |\n",
    "| 13 | {:10d} |         13 | Right aligned (default, width 10) |\n",
    "| 13 | {:<10d} | 13 | Left aligned (width 10) |\n",
    "| 13 | {:^10d} |     13 | Center aligned (width 10) |"
   ]
  },
  {
   "cell_type": "markdown",
   "id": "4d442216",
   "metadata": {},
   "source": [
    "Weitere Infos zB hier: https://pyformat.info/"
   ]
  },
  {
   "cell_type": "code",
   "execution_count": null,
   "id": "4e7cbc35",
   "metadata": {},
   "outputs": [],
   "source": []
  },
  {
   "cell_type": "markdown",
   "id": "91d72863",
   "metadata": {},
   "source": [
    "## Tabellen separat formatieren"
   ]
  },
  {
   "cell_type": "markdown",
   "id": "6d901fd1",
   "metadata": {},
   "source": [
    "Wir können die Format-Strings nun nutzen, um Spalten separat zu formatieren. "
   ]
  },
  {
   "cell_type": "markdown",
   "id": "ab34f07a",
   "metadata": {},
   "source": [
    "Dazu definieren wir in einem Dictionary für jede Spalte das passende Format."
   ]
  },
  {
   "cell_type": "code",
   "execution_count": null,
   "id": "abc2ddd8",
   "metadata": {},
   "outputs": [],
   "source": [
    "col_formats = {\n",
    "    'Country Name': '{}',\n",
    "    'Country Code': '{}',\n",
    "    'Population': '{:,}',\n",
    "    'Forest Area': '{:.0%}',\n",
    "    'GDP per Capita': '$ {:,}',\n",
    "    'Unemployment': '{:.0%}',\n",
    "    'Renewable Energy': '{:.0%}',\n",
    "    'Life Expectancy': '{:.1f}',\n",
    "    'Female Labor Participation': '{:.0%}',\n",
    "    'Urban Population': '{:.0%}',\n",
    "    'CO2 Emissions per Capita': '{:.1f} t',\n",
    "    'Fertility Rate': '{:.1f}',\n",
    "    'Population Growth': '{:.1%}'\n",
    "}"
   ]
  },
  {
   "cell_type": "markdown",
   "id": "8b0ce87d",
   "metadata": {},
   "source": [
    "Wir können diesen Dictionary verwenden, um den `style` der Tabelle zu definieren:"
   ]
  },
  {
   "cell_type": "code",
   "execution_count": null,
   "id": "09de3464",
   "metadata": {},
   "outputs": [],
   "source": [
    "df.style.format(col_formats)"
   ]
  },
  {
   "cell_type": "markdown",
   "id": "b5c45175",
   "metadata": {},
   "source": [
    "**Achtung:** Was wir hier sehen, ist kein Dataframe mehr, sondern nur noch eine Repräsentation davon.\n",
    "\n",
    "Der folgende Code funktioniert deshalb nicht:"
   ]
  },
  {
   "cell_type": "code",
   "execution_count": null,
   "id": "5bb8e887",
   "metadata": {},
   "outputs": [],
   "source": [
    "# df.style.format(col_formats).head()"
   ]
  },
  {
   "cell_type": "markdown",
   "id": "32fa8a70",
   "metadata": {},
   "source": [
    "Das heisst leider: Wir können den Style eines Dataframes immer nur ganz am Schluss setzen, wenn wir keine Berechnungen mehr machen müssen und nur noch das Endergebnis sehen wollen."
   ]
  },
  {
   "cell_type": "markdown",
   "id": "e19c42e5",
   "metadata": {},
   "source": [
    "Aber immerhin: Wir können die definierten Spaltenformate auf beliebige Modifikationen unseres Dataframes anwenden, sofern einzelne Spalten immmer noch gleich heissen."
   ]
  },
  {
   "cell_type": "code",
   "execution_count": null,
   "id": "68da7cc3",
   "metadata": {},
   "outputs": [],
   "source": [
    "df[df['Country Name'] == 'Switzerland'][['Population', 'GDP per Capita']].style.format(col_formats)"
   ]
  },
  {
   "cell_type": "markdown",
   "id": "de18deae",
   "metadata": {},
   "source": [
    "## Coole Dinge, die man mit Styles tun kann"
   ]
  },
  {
   "cell_type": "markdown",
   "id": "e3fdb863",
   "metadata": {},
   "source": [
    "Da wir nun aber schonmal mit Styles arbeiten, hier einige hübsche Anwendungen, die es uns noch leichter machen, die Daten in unserem DF zu lesen, Muster zu erkennen und evtl auch Fehler zu bemerken."
   ]
  },
  {
   "cell_type": "markdown",
   "id": "178dbfc0",
   "metadata": {},
   "source": [
    "### Einzelne Werte herausstreichen"
   ]
  },
  {
   "cell_type": "markdown",
   "id": "86b9dc24",
   "metadata": {},
   "source": [
    "#### 1. Fehlende Zahlen"
   ]
  },
  {
   "cell_type": "markdown",
   "id": "cc60adb7",
   "metadata": {},
   "source": [
    "Angenommen, es hätte sich irgendwo ein `NaN`-Wert in unsere Daten reingeschlichen:"
   ]
  },
  {
   "cell_type": "code",
   "execution_count": null,
   "id": "9def7ca6",
   "metadata": {},
   "outputs": [],
   "source": [
    "df.loc[df['Country Name'] == 'Bulgaria', 'Renewable Energy'] = np.nan"
   ]
  },
  {
   "cell_type": "markdown",
   "id": "b2fbdda8",
   "metadata": {},
   "source": [
    "Es gibt eine einfache Style-Funktion, die uns darauf hinweist: `highlight_null()`"
   ]
  },
  {
   "cell_type": "code",
   "execution_count": null,
   "id": "10a483f0",
   "metadata": {},
   "outputs": [],
   "source": [
    "df.style.highlight_null(null_color='yellow')"
   ]
  },
  {
   "cell_type": "markdown",
   "id": "1d0bcc87",
   "metadata": {},
   "source": [
    "#### Kleinste und grösste Werte"
   ]
  },
  {
   "cell_type": "markdown",
   "id": "266c4079",
   "metadata": {},
   "source": [
    "Wir können für jede Spalte anzeigen:\n",
    "- wo der Maximalwert zu finden ist: `highlight_max()`\n",
    "- wo der Minimalwert zu finden ist: `highlight_min()`"
   ]
  },
  {
   "cell_type": "code",
   "execution_count": null,
   "id": "ee0c2660",
   "metadata": {},
   "outputs": [],
   "source": [
    "df.style.highlight_max()"
   ]
  },
  {
   "cell_type": "code",
   "execution_count": null,
   "id": "b6fcce35",
   "metadata": {},
   "outputs": [],
   "source": []
  },
  {
   "cell_type": "markdown",
   "id": "85c197ad",
   "metadata": {},
   "source": [
    "### Farbcodierte Werte"
   ]
  },
  {
   "cell_type": "markdown",
   "id": "5f67622e",
   "metadata": {},
   "source": [
    "Wir können Styles auch benutzen, um eine Tabelle Heatmap-ähnlich einzufärben.\n",
    "\n",
    "Dazu gibt es die Funktion `background_gradient()`:"
   ]
  },
  {
   "cell_type": "code",
   "execution_count": null,
   "id": "4bd5777b",
   "metadata": {
    "scrolled": true
   },
   "outputs": [],
   "source": [
    "df[['Country Name', 'Unemployment']].style.background_gradient(cmap='coolwarm')"
   ]
  },
  {
   "cell_type": "markdown",
   "id": "72518074",
   "metadata": {},
   "source": [
    "Uns stehen eine Reihe von verschiedenen Colormaps zur Verfügung: https://matplotlib.org/2.0.2/examples/color/colormaps_reference.html"
   ]
  },
  {
   "cell_type": "markdown",
   "id": "9b55f34b",
   "metadata": {},
   "source": [
    "Zusätzlich können wir definieren, an welchen Eckpunkten die Range angesetzt werden soll.\n",
    "\n",
    "Zum Beispiel:\n",
    "- Minimum bei 0.05 (unterhalb davon ist alles blau)\n",
    "- Maximum bei 0.15 (oberhalb davon ist alles tiefrot)"
   ]
  },
  {
   "cell_type": "code",
   "execution_count": null,
   "id": "4a44a5bd",
   "metadata": {},
   "outputs": [],
   "source": [
    "df[['Country Name', 'Unemployment']].style.background_gradient(cmap='coolwarm', vmin=0.05, vmax=0.15)"
   ]
  },
  {
   "cell_type": "markdown",
   "id": "6861edfc",
   "metadata": {},
   "source": [
    "Wir können Colormaps auch nur auf einzelne Spalten anwenden mit dem Parameter `subset=`"
   ]
  },
  {
   "cell_type": "code",
   "execution_count": null,
   "id": "a7022f9e",
   "metadata": {},
   "outputs": [],
   "source": [
    "df.style.background_gradient(cmap='coolwarm', vmin=0.05, vmax=0.15, subset=['Unemployment'])"
   ]
  },
  {
   "cell_type": "markdown",
   "id": "b455d7fd",
   "metadata": {},
   "source": [
    "Und wir können unterschiedliche Colormaps auf unterschiedliche Spalten anwenden.\n",
    "\n",
    "Dazu verketten wir einfach zwei `background_gradient()` aneinander:"
   ]
  },
  {
   "cell_type": "code",
   "execution_count": null,
   "id": "3e362f5c",
   "metadata": {},
   "outputs": [],
   "source": [
    "df.style.background_gradient(\n",
    "    cmap='coolwarm',\n",
    "    vmin=0.05,\n",
    "    vmax=0.15,\n",
    "    subset=['Unemployment']\n",
    ").background_gradient(\n",
    "    cmap='Greens',\n",
    "    vmin=0,\n",
    "    vmax=1,\n",
    "    subset=['Forest Area']\n",
    ")"
   ]
  },
  {
   "cell_type": "markdown",
   "id": "401343b0",
   "metadata": {},
   "source": [
    "Diese Verkettung funktioniert auch, wenn wir zum Schluss noch die Zahlen formatieren wollen:"
   ]
  },
  {
   "cell_type": "code",
   "execution_count": null,
   "id": "bac9353f",
   "metadata": {},
   "outputs": [],
   "source": [
    "df.style.background_gradient(\n",
    "    cmap='coolwarm',\n",
    "    vmin=0.05,\n",
    "    vmax=0.15,\n",
    "    subset=['Unemployment']\n",
    ").background_gradient(\n",
    "    cmap='Greens',\n",
    "    vmin=0,\n",
    "    vmax=1,\n",
    "    subset=['Forest Area']\n",
    ").format(col_formats)"
   ]
  },
  {
   "cell_type": "markdown",
   "id": "dceaf3cd",
   "metadata": {},
   "source": [
    "### Mini Bar Charts"
   ]
  },
  {
   "cell_type": "markdown",
   "id": "6c52b050",
   "metadata": {},
   "source": [
    "Eine weitere Darstellungsmöglichkeit: kleine Barcharts in die Tabelle integrieren mit `bar()`:"
   ]
  },
  {
   "cell_type": "code",
   "execution_count": null,
   "id": "68ab1ba3",
   "metadata": {},
   "outputs": [],
   "source": [
    "df.style.bar(subset=['Urban Population'], color='#d65f5f')"
   ]
  },
  {
   "cell_type": "markdown",
   "id": "5b1c2147",
   "metadata": {},
   "source": [
    "## Styles wiederverwenden"
   ]
  },
  {
   "cell_type": "markdown",
   "id": "b8e63dfe",
   "metadata": {},
   "source": [
    "Sagen wir, wir haben einen wunderschönen Style generiert – inklusive Heatmap, Barchart, Highlights und Zahlenformaten."
   ]
  },
  {
   "cell_type": "code",
   "execution_count": null,
   "id": "47f397cd",
   "metadata": {},
   "outputs": [],
   "source": [
    "df.style.background_gradient(\n",
    "    cmap='coolwarm',\n",
    "    vmin=0.05,\n",
    "    vmax=0.15,\n",
    "    subset=['Unemployment']\n",
    ").background_gradient(\n",
    "    cmap='Greens',\n",
    "    vmin=0,\n",
    "    vmax=1,\n",
    "    subset=['Forest Area']\n",
    ").bar(\n",
    "    subset=['Urban Population'],\n",
    "    color='#d65f5f'\n",
    ").format(\n",
    "    col_formats\n",
    ").highlight_max().highlight_min()"
   ]
  },
  {
   "cell_type": "markdown",
   "id": "5d8f4ab6",
   "metadata": {},
   "source": [
    "Um diesen Style wiederzuverwenden, müssen wir nicht jedesmal den ganzen Wust erneut schreiben.\n",
    "\n",
    "Wir können den Style speichern mit `export()`..."
   ]
  },
  {
   "cell_type": "code",
   "execution_count": null,
   "id": "c991ad8c",
   "metadata": {},
   "outputs": [],
   "source": [
    "my_style = df.style.background_gradient(\n",
    "    cmap='coolwarm',\n",
    "    vmin=0.05,\n",
    "    vmax=0.15,\n",
    "    subset=['Unemployment']\n",
    ").background_gradient(\n",
    "    cmap='Greens',\n",
    "    vmin=0,\n",
    "    vmax=1,\n",
    "    subset=['Forest Area']\n",
    ").bar(\n",
    "    subset=['Urban Population'],\n",
    "    color='#d65f5f'\n",
    ").format(\n",
    "    col_formats\n",
    ").highlight_max().highlight_min().export()"
   ]
  },
  {
   "cell_type": "markdown",
   "id": "8740236a",
   "metadata": {},
   "source": [
    "... und den Style erneut anwenden mit `use()`:"
   ]
  },
  {
   "cell_type": "code",
   "execution_count": null,
   "id": "795f6967",
   "metadata": {},
   "outputs": [],
   "source": [
    "df.style.use(my_style)"
   ]
  },
  {
   "cell_type": "code",
   "execution_count": null,
   "id": "b1fc3f34",
   "metadata": {},
   "outputs": [],
   "source": []
  },
  {
   "cell_type": "code",
   "execution_count": null,
   "id": "e4c80649",
   "metadata": {},
   "outputs": [],
   "source": []
  },
  {
   "cell_type": "markdown",
   "id": "cbac7af9",
   "metadata": {},
   "source": [
    "## Formatierte Daten exportieren"
   ]
  },
  {
   "cell_type": "markdown",
   "id": "faa99a18",
   "metadata": {},
   "source": [
    "### nach Excel"
   ]
  },
  {
   "cell_type": "markdown",
   "id": "d1ee84b8",
   "metadata": {},
   "source": [
    "Wir können formatierte Dataframes ins Excel transportieren. Das funktioniert aber nur mässig: Bei unserem Beispiel klappt es mit den Heatmaps und Highlights, aber nicht mit den Barcharts und Zahlenformaten :-/"
   ]
  },
  {
   "cell_type": "code",
   "execution_count": null,
   "id": "181ce84b",
   "metadata": {},
   "outputs": [],
   "source": [
    "df.style.use(my_style).to_excel(\"dataprojects/Worldbank/formatted_table.xlsx\", index=False)"
   ]
  },
  {
   "cell_type": "markdown",
   "id": "8ac3aa11",
   "metadata": {},
   "source": [
    "### als csv-Datei"
   ]
  },
  {
   "cell_type": "markdown",
   "id": "2badec60",
   "metadata": {},
   "source": [
    "Beim Export in ein csv sollte man sich grundsätzlich gut überlegen, wie viel Formatierung man überhaupt exportieren will!\n",
    "- **Tausenderzeichen** im CSV festzuhalten macht sehr wahrscheinlich keinen Sinn, da das nächste Programm, das diese Daten bearbeitet, diese erst wieder mühsam erkennen will.\n",
    "- Dasselbe gilt für **Währungsangaben** oder auch für **Prozentzeichen**. Normalerweise würde man diese Formatierungen im weiterverarbeitenden Programm (zB in einem Charttool) wieder separat vornehmen. Das heisst, wir exportieren nicht \"5.1%\" sondern \"0.051\".\n",
    "- Was allerdings Sinn machen kann, ist, Zahlen zu runden, also die Zahl der **Dezimalstellen** zu beschränken. Dafür gibt es in der Export-Funktion einen passenden Parameter."
   ]
  },
  {
   "cell_type": "code",
   "execution_count": null,
   "id": "77086c47",
   "metadata": {},
   "outputs": [],
   "source": [
    "df.to_csv(\"dataprojects/Worldbank/rounded_table.csv\", float_format=\"%.3f\", index=False)"
   ]
  },
  {
   "cell_type": "markdown",
   "id": "ccca7ede",
   "metadata": {},
   "source": [
    "Falls wir bestimmte Formatierungen doch unbedingt vornehmen wollen (zum Beispiel für eine bestimmte Beschriftung), empfiehlt es sich, eine separate Textspalte dafür zu kreieren:"
   ]
  },
  {
   "cell_type": "code",
   "execution_count": null,
   "id": "09d1e36d",
   "metadata": {},
   "outputs": [],
   "source": [
    "df_exp = df[['Country Name', 'GDP per Capita']].copy()\n",
    "\n",
    "df_exp['Beschriftung'] = df_exp['GDP per Capita']\n",
    "\n",
    "df_exp.head(5)"
   ]
  },
  {
   "cell_type": "markdown",
   "id": "29af3f13",
   "metadata": {},
   "source": [
    "Diese Spalte kann man nun formatieren."
   ]
  },
  {
   "cell_type": "code",
   "execution_count": null,
   "id": "df33cea7",
   "metadata": {},
   "outputs": [],
   "source": [
    "df_exp['Beschriftung'] = df_exp['Beschriftung'].apply(lambda value: '$ {:,}'.format(value))"
   ]
  },
  {
   "cell_type": "code",
   "execution_count": null,
   "id": "2312bd2d",
   "metadata": {},
   "outputs": [],
   "source": [
    "df_exp.head(5)"
   ]
  },
  {
   "cell_type": "markdown",
   "id": "cb4cbc5d",
   "metadata": {},
   "source": [
    "Achtung: Die Spalte ist jetzt keine Zahl mehr, sondern ein String!"
   ]
  },
  {
   "cell_type": "code",
   "execution_count": null,
   "id": "7ae03d26",
   "metadata": {},
   "outputs": [],
   "source": [
    "df_exp.dtypes"
   ]
  },
  {
   "cell_type": "markdown",
   "id": "1dbc14c5",
   "metadata": {},
   "source": [
    "Das formatierte Dataframe können wir nun wie gewöhnlich exportieren:"
   ]
  },
  {
   "cell_type": "code",
   "execution_count": null,
   "id": "e835533a",
   "metadata": {},
   "outputs": [],
   "source": [
    "df_exp.to_csv(\"dataprojects/Worldbank/formatted_table_with_caption.csv\", index=False)"
   ]
  },
  {
   "cell_type": "code",
   "execution_count": null,
   "id": "23572865",
   "metadata": {},
   "outputs": [],
   "source": []
  }
 ],
 "metadata": {
  "kernelspec": {
   "display_name": "Python 3",
   "language": "python",
   "name": "python3"
  },
  "language_info": {
   "codemirror_mode": {
    "name": "ipython",
    "version": 3
   },
   "file_extension": ".py",
   "mimetype": "text/x-python",
   "name": "python",
   "nbconvert_exporter": "python",
   "pygments_lexer": "ipython3",
   "version": "3.8.2"
  }
 },
 "nbformat": 4,
 "nbformat_minor": 5
}
