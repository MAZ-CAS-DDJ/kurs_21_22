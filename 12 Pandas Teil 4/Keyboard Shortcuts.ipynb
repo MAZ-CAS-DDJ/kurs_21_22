{
 "cells": [
  {
   "cell_type": "markdown",
   "id": "0cb1d3ad",
   "metadata": {},
   "source": [
    "# Keyboard Shortcuts"
   ]
  },
  {
   "cell_type": "markdown",
   "id": "8e2b2a30",
   "metadata": {},
   "source": [
    "**Inhalt:** Beim Programmieren so wenig wie möglich die Maus benutzen\n",
    "\n",
    "**Nötige Skills:** keine\n",
    "\n",
    "**Lernziele:**\n",
    "- Allgemeine Keyboard Shortcuts benutzen, um in Texten zu navigieren\n",
    "- Jupyter Notebook Keyboard Shortcuts nutzen, um in Notebooks zu navigieren"
   ]
  },
  {
   "cell_type": "markdown",
   "id": "f008d948",
   "metadata": {},
   "source": [
    "## Write like a hacker"
   ]
  },
  {
   "cell_type": "markdown",
   "id": "cb9f802f",
   "metadata": {},
   "source": [
    "Es gibt eine Reihe von allgemeinen Keyboard Shortcuts, die in fast allen Textprogrammen gleich genutzt werden. Es lohnt sich sehr, diese zu lernen und anzuwenden: Man schreibt viel schneller Texte und programmiert schneller."
   ]
  },
  {
   "cell_type": "markdown",
   "id": "e77f1c69",
   "metadata": {},
   "source": [
    "### 1. Pfeiltasten nutzen!"
   ]
  },
  {
   "cell_type": "markdown",
   "id": "6d07591e",
   "metadata": {},
   "source": [
    "Wenn du einen Text editierst: Hände weg von der Maus!\n",
    "\n",
    "**Keys:** <kbd>←</kbd> <kbd>→</kbd> <kbd>↑</kbd> <kbd>↓</kbd>\n",
    "\n",
    "**Aufgabe:** Navigiere mit den Pfeiltasten, um zu den Wörtern in GROSSBUCHSTABEN zu gelangen (und sie zu korrigieren)."
   ]
  },
  {
   "cell_type": "markdown",
   "id": "101cd238",
   "metadata": {},
   "source": [
    "Vor einem großen Walde wohnte ein armer Holzhacker mit seiner Frau und seinen zwei Kindern; das Bübchen hieß Hänsel und das MÄDCHEN Gretel. Er hatte wenig zu BEISSEN und zu brechen, und einmal, als große Teuerung ins Land kam, konnte er das tägliche Brot nicht mehr schaffen. Wie er sich nun abends im Bette Gedanken machte und SICH vor Sorgen herumwälzte, seufzte er und sprach zu seiner Frau: \"Was soll aus uns werden? Wie können wir unsere armen Kinder ernähren da wir für uns selbst nichts mehr haben?\" - \"Weißt du was, Mann,\" antwortete die Frau, \"wir wollen morgen in aller Frühe die Kinder hinaus in den Wald führen, wo er am dicksten ist. Da MACHEN wir ihnen ein Feuer an und geben jedem noch EIN Stückchen Brot, dann gehen wir an unsere Arbeit und lassen sie allein. Sie finden den Weg nicht wieder nach Haus, und wir sind sie los.\" - \"Nein, Frau,\" sagte der Mann, \"das tue ich nicht; wie sollt ich's übers Herz bringen, meine Kinder im Walde allein zu lassen! Die wilden Tiere würden bald kommen und sie zerreißen.\" - \"Oh, du Narr,\" sagte sie, \"dann müssen wir alle viere HUNGERS sterben, du kannst nur die Bretter für die Särge hobeln,\" und LIESS ihm keine Ruhe, bis er einwilligte. \"Aber die armen Kinder dauern mich doch,\" sagte DER Mann."
   ]
  },
  {
   "cell_type": "markdown",
   "id": "d5981713",
   "metadata": {},
   "source": [
    "### 2. Wortweise im Text springen"
   ]
  },
  {
   "cell_type": "markdown",
   "id": "6f25772e",
   "metadata": {},
   "source": [
    "Die Pfeiltasten funktionieren noch viel besser, wenn man den Option-Key gedrückt hält (oder in Windows: Control).\n",
    "\n",
    "**Keys:** <kbd>Option</kbd> + <kbd>←</kbd> <kbd>→</kbd> <kbd>↑</kbd> <kbd>↓</kbd>\n",
    "\n",
    "**Aufgabe:** Navigiere mit den Pfeiltasten und Option, um zu den Wörtern in GROSSBUCHSTABEN zu gelangen (und sie zu korrigieren)."
   ]
  },
  {
   "cell_type": "markdown",
   "id": "de6372b0",
   "metadata": {},
   "source": [
    "Die zwei Kinder hatten vor Hunger auch nicht einschlafen können und hatten GEHÖRT, was die Stiefmutter zum Vater gesagt hatte. Gretel WEINTE bittere Tränen und sprach zu Hänsel: \"Nun ist's um uns geschehen.\" - \"Still, Gretel,\" sprach Hänsel, \"gräme DICH nicht, ich will uns schon helfen.\" Und als die Alten eingeschlafen waren, stand er auf, zog sein Röcklein an, machte die Untertüre auf und schlich sich hinaus. Da schien der MOND GANZ HELL, und die weißen KIESELSTEINE, die vor dem Haus lagen, glänzten wie lauter Batzen. Hänsel bückte sich und steckte so viele in sein Rocktäschlein, als nur hinein wollten. DANN ging er wieder zurück, sprach zu Gretel: \"Sei getrost, liebes Schwesterchen, und schlaf nur ruhig ein, Gott wird uns nicht verlassen,\" und legte sich wieder in sein BETT."
   ]
  },
  {
   "cell_type": "markdown",
   "id": "de0efe24",
   "metadata": {},
   "source": [
    "### 3. Text markieren"
   ]
  },
  {
   "cell_type": "markdown",
   "id": "4594e30f",
   "metadata": {},
   "source": [
    "Wenn Du Text löschen, ersetzen oder verschieben willst: gewöhne dir das wiederholte Drücken der Backspace-Taste ab oder das markieren mit Maus. Benutze besser den Shift-Key und die Pfeiltasten. Die Markierung dauert so lange, wie du Shift gedrückt hältst.\n",
    "\n",
    "**Keys:** <kbd>SHIFT</kbd> + <kbd>←</kbd> <kbd>→</kbd> <kbd>↑</kbd> <kbd>↓</kbd>\n",
    "\n",
    "**Aufgabe:** Im folgenden Text hat es einige Verdopplungen drin. Lösch jeweils eine davon: zuerst markieren, dann einmal Backspace oder Delete."
   ]
  },
  {
   "cell_type": "markdown",
   "id": "d2dbc272",
   "metadata": {},
   "source": [
    "Als der Tag anbrach, noch ehe die Sonne SONNE aufgegangen war, kam schon die Frau und weckte die beiden Kinder: \"Steht auf, ihr Faulenzer, wir wollen in den Wald WALD gehen und Holz holen.\" Dann gab sie jedem ein Stückchen Brot und sprach: \"Da habt ihr etwas für den Mittag, aber eßt's nicht vorher auf, weiter kriegt ihr nichts.\" Gretel nahm das Brot unter die Schürze UNTER DIE SCHÜRZE, weil Hänsel die Steine in der Tasche hatte. Danach machten sie sich alle zusammen auf den Weg nach dem Wald. Als sie ein Weilchen gegangen waren, stand Hänsel still und guckte nach dem Haus zurück und tat das wieder und immer wieder. Der Vater sprach SPRACH: \"Hänsel, was guckst du da und bleibst zurück, hab acht und vergiß deine Beine nicht!\" - \"Ach, Vater,\" sagte Hänsel, \"ich sehe nach meinem weißen Kätzchen, das sitzt oben auf dem Dach und will mir Ade sagen.\" Die Frau sprach: \"Narr, das ist dein Kätzchen nicht, das ist die Morgensonne, die auf den Schornstein scheint SCHORNSTEIN SCHEINT.\" Hänsel aber hatte nicht nach dem Kätzchen gesehen, sondern immer einen von den blanken Kieselsteinen aus seiner Tasche auf den Weg geworfen. DIE FRAU SPRACH: \"NARR, DAS IST DEIN KÄTZCHEN NICHT, DAS IST DIE MORGENSONNE, DIE IMMER AUF DEN SCHORNSTEIN SCHEINT.\" HÄNSEL ABER HATTE NICHT NACH DEM KÄTZCHEN GESEHEN, SONDERN IMMER EINEN VON DEN BLANKEN KIESELSTEINEN AUS SEINER TASCHE AUF DEN WEG GEWORFEN."
   ]
  },
  {
   "cell_type": "markdown",
   "id": "406d22e5",
   "metadata": {},
   "source": [
    "### 4. Text wortweise markieren"
   ]
  },
  {
   "cell_type": "markdown",
   "id": "2c56b902",
   "metadata": {},
   "source": [
    "Der Pro Mode: Kombination der beiden obigen Methoden, um noch schneller ganze Wörter oder Passagen zu markieren.\n",
    "\n",
    "**Keys:** <kbd>SHIFT</kbd> + <kbd>OPTION</kbd> + <kbd>←</kbd> <kbd>→</kbd> <kbd>↑</kbd> <kbd>↓</kbd>\n",
    "\n",
    "**Aufgabe:** Nochmals dieselbe: Verdopplungen löschen."
   ]
  },
  {
   "cell_type": "markdown",
   "id": "03090051",
   "metadata": {},
   "source": [
    "Als sie mitten in den Wald gekommen waren, sprach der Vater: \"Nun sammelt Holz, ihr Kinder, ich will ein Feuer anmachen, damit ihr nicht friert.\" Hänsel und Gretel trugen Reisig zusammen, einen kleinen Berg hoch. Das Reisig ward angezündet DAS REISIG WARD ANGEZÜNDET, und als die Flamme recht hoch brannte, sagte die Frau FRAU: \"Nun legt euch ans Feuer, ihr Kinder, und ruht euch aus, wir gehen in den Wald und hauen Holz. Wenn wir fertig FERTIG sind, kommen wir wieder und holen euch ab.\"\n",
    "\n",
    "Hänsel und Gretel saßen um das Feuer, und als der Mittag kam, aß jedes sein Stücklein Brot. Und weil sie die Schläge der Holzaxt HOLZAXT hörten, so glaubten sie, ihr Vater wär' in der Nähe. Es war aber nicht die Holzaxt, es war ein Ast, den er an einen dürren Baum gebunden hatte und den der Wind hin und her schlug SCHLUG. Und als sie so lange gesessen hatten, fielen ihnen die Augen vor Müdigkeit zu, und sie schliefen fest ein. Als sie endlich erwachten, war es schon finstere Nacht. Gretel fing an zu weinen und sprach: \"Wie sollen wir nun aus dem Wald kommen?\" Hänsel aber tröstete sie: \"Wart nur ein Weilchen, bis der Mond aufgegangen ist, dann wollen wir den Weg schon finden.\" Und als der volle Mond aufgestiegen war, so nahm Hänsel sein Schwesterchern an der Hand und ging den Kieselsteinen nach, die schimmerten wie neugeschlagene Batzen und zeigten ihnen den Weg. Sie gingen die ganze Nacht hindurch und kamen bei anbrechendem Tag wieder zu ihres Vaters Haus. UND ALS DER VOLLE MOND AUFGESTIEGEN WAR, SO NAHM HÄNSEL SEIN SCHWESTERCHERN AN DER HAND UND GING DEN KIESELSTEINEN NACH, DIE SCHIMMERTEN WIE NEUGESCHLAGENE BATZEN UND ZEIGTEN IHNEN DEN WEG. SIE GINGEN DIE GANZE NACHT HINDURCH UND KAMEN BEI ANBRECHENDEM TAG WIEDER ZU IHRES VATERS HAUS. Sie klopften an die Tür, und als die Frau aufmachte und sah, daß es Hänsel und Gretel waren, sprach sie: \"Ihr bösen Kinder, was habt ihr so lange im Walde geschlafen, wir haben geglaubt, ihr wollet gar nicht wiederkommen.\" Der Vater aber freute sich, denn es war ihm zu Herzen gegangen GEGANGEN, daß er sie so allein zurückgelassen hatte."
   ]
  },
  {
   "cell_type": "markdown",
   "id": "2ae669c4",
   "metadata": {},
   "source": [
    "### 5. Cut, Copy, Paste"
   ]
  },
  {
   "cell_type": "markdown",
   "id": "543dde1e",
   "metadata": {},
   "source": [
    "Oft muss man im Code einzelne Passagen herumschieben. Zum Beispiel horizontal auf einer Zeile.\n",
    "\n",
    "**Keys:** <kbd>COMMAND</kbd> + <kbd>x</kbd> / <kbd>c</kbd> / <kbd>v</kbd>\n",
    "\n",
    "**Aufgabe:** Bring die Wörte in die richtige Reihenfolge (nur mit der Tastatur: markieren, cut + paste)"
   ]
  },
  {
   "cell_type": "markdown",
   "id": "274412bd",
   "metadata": {},
   "source": [
    "Hänsel sagte zu Gretel: \"Eins, vier, sieben, drei, zwei, fünf, acht, neun, sechs.\"\n",
    "\n",
    "Gretel antwortete an Hänsel: \"Neun, drei, sechs, eins, acht, zwei, sieben, fünf, vier.\""
   ]
  },
  {
   "cell_type": "markdown",
   "id": "f7bc010a",
   "metadata": {},
   "source": [
    "**Aufgabe:** Bring die Sätze in die richtige Reihenfolge (Pfeiltasten oben und unten nutzen!)"
   ]
  },
  {
   "cell_type": "markdown",
   "id": "43084af3",
   "metadata": {},
   "source": [
    "HÄNSELS REZEPT FÜR GEFÜLLTE LEBKUCHENHERZEN\n",
    "\n",
    "Schritt 5: Glasur: Eiweiss und Puderzucker verrühren. Noch warme Herzen mit Puderzuckerglasur und Silberperlen garnieren.\n",
    "\n",
    "Schritt 3: Ränder mit wenig Eiweiss bepinseln. Übrige Herzen als Deckel aufsetzen, gut andrücken. Herzen auf das vorbereitete Blech legen, mit Eiweiss bepinseln.\n",
    "\n",
    "Schritt 2: Teig auf Mehl 5 mm dick auswallen, Herzen ausstechen. Die Hälfte der Herzen mit Marzipan-Herzen belegen, dabei einen Abstand von 1 cm zum Teigrand halten. \n",
    "\n",
    "Schritt 1: Teig: Honig, Puderzucker und Butter verrühren. Kakao, Lebkuchengewürz und Ei dazugeben, mischen. Mehl und Backpulver mischen, dazusieben, unterrühren. Masse kurz zu einem glatten Teig kneten.\n",
    "\n",
    "Schritt 4: In der Mitte des auf 200°C vorgeheizten Ofens 10-15 Minuten backen. Auf Gitter auskühlen lassen.\n"
   ]
  },
  {
   "cell_type": "markdown",
   "id": "1cfba168",
   "metadata": {},
   "source": [
    "### 6. Weitere Shortcuts"
   ]
  },
  {
   "cell_type": "markdown",
   "id": "cb301d04",
   "metadata": {},
   "source": [
    "**Markieren:**\n",
    "\n",
    "<kbd>COMMAND</kbd> + <kbd>a</kbd>: Alles markieren\n",
    "\n",
    "**Editieren:**\n",
    "\n",
    "<kbd>COMMAND</kbd> + <kbd>z</kbd>: Undo\n",
    "\n",
    "<kbd>COMMAND</kbd> + <kbd>SHIFT</kbd> + <kbd>z</kbd>: Redo\n",
    "\n",
    "**Navigieren:**\n",
    "\n",
    "<kbd>COMMAND</kbd> + <kbd>←</kbd> <kbd>→</kbd>: An Zeilenanfang / Zeilenende springen\n",
    "\n",
    "<kbd>COMMAND</kbd> + <kbd>↑</kbd> <kbd>↓</kbd>: An Textanfang / Textende springen"
   ]
  },
  {
   "cell_type": "code",
   "execution_count": null,
   "id": "2bab2290",
   "metadata": {},
   "outputs": [],
   "source": []
  },
  {
   "cell_type": "code",
   "execution_count": null,
   "id": "37d62242",
   "metadata": {},
   "outputs": [],
   "source": []
  },
  {
   "cell_type": "code",
   "execution_count": null,
   "id": "4f6119c0",
   "metadata": {},
   "outputs": [],
   "source": []
  },
  {
   "cell_type": "markdown",
   "id": "2a9eb3e4",
   "metadata": {},
   "source": [
    "## Code like a hacker"
   ]
  },
  {
   "cell_type": "markdown",
   "id": "0a0c5497",
   "metadata": {},
   "source": [
    "Die obigen Shortcuts fuktionieren praktisch in jedem Programm, in dem man Texte editiert. Darüber hinaus gibt es in Jupyter Notebook gibt es eine reihe praktischer Shortcuts. Du findest Sie über das `Help`-Menü oder indem Du <kbd>h</kbd> tippst."
   ]
  },
  {
   "cell_type": "markdown",
   "id": "69619dea",
   "metadata": {},
   "source": [
    "**Wichtig:** Jupyter Notebook unterscheidet zwischen zwei Modi.\n",
    "\n",
    "- Edit-Mode: Du bist «in einer Codezeile drinnen» am Texten (blauer Rand).\n",
    "- Command-Mode: Du bist nicht «in einer Codezeile drinnen» (grüner Rand).\n",
    "\n",
    "Die meisten Shortcuts funktionieren nur, wenn Du im «Command»-Mode bist."
   ]
  },
  {
   "cell_type": "markdown",
   "id": "0b705d43",
   "metadata": {},
   "source": [
    "### 0. Basics"
   ]
  },
  {
   "cell_type": "markdown",
   "id": "973c487c",
   "metadata": {},
   "source": [
    "Diesen Shortcut kennst du vermutlich bereits: Codezelle ausführen."
   ]
  },
  {
   "cell_type": "markdown",
   "id": "a7e0351c",
   "metadata": {},
   "source": [
    "**Keys:** <kbd>ENTER</kbd>: Codezelle ausführen"
   ]
  },
  {
   "cell_type": "markdown",
   "id": "2b40c788",
   "metadata": {},
   "source": [
    "Deshalb gleich weiter im Text...."
   ]
  },
  {
   "cell_type": "markdown",
   "id": "9d705977",
   "metadata": {},
   "source": [
    "### 1. Im Notebook navigieren"
   ]
  },
  {
   "cell_type": "markdown",
   "id": "1ac717f7",
   "metadata": {},
   "source": [
    "Lass die Maus oder das Trackpad sein. Navigiere stattdessen mit den Pfeiltasten zur richtigen Codezeile in deinem Notebook."
   ]
  },
  {
   "cell_type": "markdown",
   "id": "d2fa4666",
   "metadata": {},
   "source": [
    "**Keys:** <kbd>↑</kbd> <kbd>↓</kbd>"
   ]
  },
  {
   "cell_type": "markdown",
   "id": "214b6ada",
   "metadata": {},
   "source": [
    "**Aufgabe:** Navigiere mit den Pfeiltasten nach oben zum Abschnitt «Write like a hacker» und wieder zurück hierhin."
   ]
  },
  {
   "cell_type": "markdown",
   "id": "46b9ba35",
   "metadata": {},
   "source": [
    "### 2. Vom Command- in den Edit-Mode (und zurück)"
   ]
  },
  {
   "cell_type": "markdown",
   "id": "6a393fba",
   "metadata": {},
   "source": [
    "Du musst nicht mit der Maus in eine Zeile klicken oder an den Rand, um zwischen den Modi zu wechseln."
   ]
  },
  {
   "cell_type": "markdown",
   "id": "876caeed",
   "metadata": {},
   "source": [
    "**Keys:**\n",
    "\n",
    "<kbd>ENTER</kbd>: In den Edit-Mode wechseln, um Code zu schreiben\n",
    "\n",
    "<kbd>ESC</kbd>: In den Command-Mode wechseln, um im Notebook zu navigieren."
   ]
  },
  {
   "cell_type": "markdown",
   "id": "5c851421",
   "metadata": {},
   "source": [
    "**Aufgabe:** Navigiere zum Abschnitt «5. Cut, copy, paste» und tausche dort die Namen aus: Hänsel <-> Gretel."
   ]
  },
  {
   "cell_type": "markdown",
   "id": "5cdb6c9e",
   "metadata": {},
   "source": [
    "### 3. Codezeilen einfügen"
   ]
  },
  {
   "cell_type": "markdown",
   "id": "3e64bf98",
   "metadata": {},
   "source": [
    "Hör auf, die Symbole in der Menüleiste zu benutzen. Stattdessen nutze das Keyboard."
   ]
  },
  {
   "cell_type": "markdown",
   "id": "39282a8d",
   "metadata": {},
   "source": [
    "**Keys**:\n",
    "\n",
    "<kbd>a</kbd>: Zeile oberhalb einfügen (above)\n",
    "\n",
    "<kbd>b</kbd>: Zeile unterhalb einfügen (below)"
   ]
  },
  {
   "cell_type": "markdown",
   "id": "2c8e293d",
   "metadata": {},
   "source": [
    "**Aufgabe:** Füge in der folgenden Aufzählung die fehlenden Zahlen ein."
   ]
  },
  {
   "cell_type": "markdown",
   "id": "49145f0e",
   "metadata": {},
   "source": [
    "Eins"
   ]
  },
  {
   "cell_type": "markdown",
   "id": "6bd38a15",
   "metadata": {},
   "source": [
    "Zwei"
   ]
  },
  {
   "cell_type": "markdown",
   "id": "5fbbfd67",
   "metadata": {},
   "source": [
    "Vier"
   ]
  },
  {
   "cell_type": "markdown",
   "id": "e2c83ffa",
   "metadata": {},
   "source": [
    "Sechs"
   ]
  },
  {
   "cell_type": "markdown",
   "id": "0703cc0b",
   "metadata": {},
   "source": [
    "Neun"
   ]
  },
  {
   "cell_type": "markdown",
   "id": "da7c7195",
   "metadata": {},
   "source": [
    "Zehn"
   ]
  },
  {
   "cell_type": "markdown",
   "id": "c48aaa75",
   "metadata": {},
   "source": [
    "Vierzehn"
   ]
  },
  {
   "cell_type": "markdown",
   "id": "5af59d3d",
   "metadata": {},
   "source": [
    "Sechzehn"
   ]
  },
  {
   "cell_type": "markdown",
   "id": "d5372875",
   "metadata": {},
   "source": [
    "### 4. Codezeilen cut, copy, paste"
   ]
  },
  {
   "cell_type": "markdown",
   "id": "130f79b2",
   "metadata": {},
   "source": [
    "Was innerhalb des Texte funktioniert, klappt auch mit ganzen Codezellen. Command-Key ist nicht nötig, wenn du dich bereits im Command-Modus (also nicht in einer Codezelle drin) befindest. Achtung: Paste fügt eine Zelle *unterhalb* der aktuellen Position ein."
   ]
  },
  {
   "cell_type": "markdown",
   "id": "158eb0a9",
   "metadata": {},
   "source": [
    "**Keys:**\n",
    "\n",
    "<kbd>x</kbd>: Codezelle cut\n",
    "\n",
    "<kbd>c</kbd>: Codezelle copy\n",
    "\n",
    "<kbd>v</kbd>: Codezelle paste"
   ]
  },
  {
   "cell_type": "markdown",
   "id": "bb8681b1",
   "metadata": {},
   "source": [
    "**Aufgabe:** \n",
    "\n",
    "Bringe die folgende Aufzählung in die richtige Reihenfolge und lösche mehrfache Elemente."
   ]
  },
  {
   "cell_type": "markdown",
   "id": "c4d5798d",
   "metadata": {},
   "source": [
    "Eins"
   ]
  },
  {
   "cell_type": "markdown",
   "id": "49471d0f",
   "metadata": {},
   "source": [
    "Eins"
   ]
  },
  {
   "cell_type": "markdown",
   "id": "92310aab",
   "metadata": {},
   "source": [
    "Eins"
   ]
  },
  {
   "cell_type": "markdown",
   "id": "26a70b21",
   "metadata": {},
   "source": [
    "Eins"
   ]
  },
  {
   "cell_type": "markdown",
   "id": "624d19f7",
   "metadata": {},
   "source": [
    "Vier"
   ]
  },
  {
   "cell_type": "markdown",
   "id": "80ee28a0",
   "metadata": {},
   "source": [
    "Drei"
   ]
  },
  {
   "cell_type": "markdown",
   "id": "dde3ff4e",
   "metadata": {},
   "source": [
    "Drei"
   ]
  },
  {
   "cell_type": "markdown",
   "id": "d87348fc",
   "metadata": {},
   "source": [
    "Drei"
   ]
  },
  {
   "cell_type": "markdown",
   "id": "1b288c98",
   "metadata": {},
   "source": [
    "Sieben"
   ]
  },
  {
   "cell_type": "markdown",
   "id": "08a27c75",
   "metadata": {},
   "source": [
    "Sechs"
   ]
  },
  {
   "cell_type": "markdown",
   "id": "b9f03657",
   "metadata": {},
   "source": [
    "Fünf"
   ]
  },
  {
   "cell_type": "markdown",
   "id": "9582d717",
   "metadata": {},
   "source": [
    "Zwei"
   ]
  },
  {
   "cell_type": "markdown",
   "id": "d458e939",
   "metadata": {},
   "source": [
    "### 5. Codezellen-Typ ändern"
   ]
  },
  {
   "cell_type": "markdown",
   "id": "9be0b7dd",
   "metadata": {},
   "source": [
    "Wenn du eine neue Markdown-Zelle einfügen willst, nutze das Keyboard statt das Menü."
   ]
  },
  {
   "cell_type": "markdown",
   "id": "ba295bb6",
   "metadata": {},
   "source": [
    "**Keys:**\n",
    "\n",
    "<kbd>m</kbd>: Zelle als Markdown interpretieren\n",
    "\n",
    "<kbd>y</kbd>: Zelle als Code interpretieren"
   ]
  },
  {
   "cell_type": "markdown",
   "id": "2141335e",
   "metadata": {},
   "source": [
    "**Aufgabe:** Füge an den fehlenden Stellen neue Markdown-Zellen ein und ergänze die Werte."
   ]
  },
  {
   "cell_type": "markdown",
   "id": "debf37a3",
   "metadata": {},
   "source": [
    "Eins"
   ]
  },
  {
   "cell_type": "markdown",
   "id": "836e1374",
   "metadata": {},
   "source": [
    "Drei"
   ]
  },
  {
   "cell_type": "markdown",
   "id": "32e6f890",
   "metadata": {},
   "source": [
    "Vier"
   ]
  },
  {
   "cell_type": "markdown",
   "id": "d7dffe3e",
   "metadata": {},
   "source": [
    "Sieben"
   ]
  },
  {
   "cell_type": "markdown",
   "id": "63fbf48d",
   "metadata": {},
   "source": [
    "Acht"
   ]
  },
  {
   "cell_type": "markdown",
   "id": "00fb65e5",
   "metadata": {},
   "source": [
    "Zehn"
   ]
  },
  {
   "cell_type": "markdown",
   "id": "da7b1569",
   "metadata": {},
   "source": [
    "### 6. Weitere Shortcuts"
   ]
  },
  {
   "cell_type": "markdown",
   "id": "28e379f9",
   "metadata": {},
   "source": [
    "**Im Command-Mode:**\n",
    "\n",
    "<kbd>SHIFT</kbd> + <kbd>↑</kbd> <kbd>↓</kbd>: mehrere Codezellen markieren (zb für cut, copy, paste). Achtung, das ist wegen eines Bugs nicht immer sichtbar.\n",
    "\n",
    "<kbd>SHIFT</kbd> + <kbd>m</kbd>: Mehrere selektierte Zellen verbinden\n",
    "\n",
    "<kbd>s</kbd>: Notebook speichern"
   ]
  },
  {
   "cell_type": "markdown",
   "id": "aa96f8b4",
   "metadata": {},
   "source": [
    "**Im Edit-Mode:**\n",
    "\n",
    "<kbd>CONTROL</kbd> + <kbd>SHIFT></kbd> + <kbd>-</kbd>: Codezelle beim Cursor splitten.\n",
    "\n",
    "<kbd>COMMAND</kbd> + <kbd>/</kbd>: Selektierte Codezellen auskommentieren (setzt ein `#` an den Anfang) - funktioniert nur mit grosser Tastatur! Um die Kommentierung aufzuheben, einfach selben Shortcut nochmals benutzen."
   ]
  },
  {
   "cell_type": "code",
   "execution_count": null,
   "id": "81b1485f",
   "metadata": {},
   "outputs": [],
   "source": []
  }
 ],
 "metadata": {
  "kernelspec": {
   "display_name": "Python 3",
   "language": "python",
   "name": "python3"
  },
  "language_info": {
   "codemirror_mode": {
    "name": "ipython",
    "version": 3
   },
   "file_extension": ".py",
   "mimetype": "text/x-python",
   "name": "python",
   "nbconvert_exporter": "python",
   "pygments_lexer": "ipython3",
   "version": "3.8.2"
  }
 },
 "nbformat": 4,
 "nbformat_minor": 5
}
