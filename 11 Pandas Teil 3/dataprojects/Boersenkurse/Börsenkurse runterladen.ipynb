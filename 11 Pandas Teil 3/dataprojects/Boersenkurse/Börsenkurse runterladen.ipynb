{
 "cells": [
  {
   "cell_type": "code",
   "execution_count": 1,
   "metadata": {},
   "outputs": [],
   "source": [
    "import requests"
   ]
  },
  {
   "cell_type": "code",
   "execution_count": 2,
   "metadata": {},
   "outputs": [],
   "source": [
    "import pandas as pd"
   ]
  },
  {
   "cell_type": "code",
   "execution_count": 16,
   "metadata": {},
   "outputs": [],
   "source": [
    "import time"
   ]
  },
  {
   "cell_type": "markdown",
   "metadata": {},
   "source": [
    "## Liste der Ticker laden"
   ]
  },
  {
   "cell_type": "code",
   "execution_count": 3,
   "metadata": {},
   "outputs": [],
   "source": [
    "df = pd.read_csv('company_names.csv')"
   ]
  },
  {
   "cell_type": "code",
   "execution_count": 5,
   "metadata": {},
   "outputs": [
    {
     "data": {
      "text/html": [
       "<div>\n",
       "<style scoped>\n",
       "    .dataframe tbody tr th:only-of-type {\n",
       "        vertical-align: middle;\n",
       "    }\n",
       "\n",
       "    .dataframe tbody tr th {\n",
       "        vertical-align: top;\n",
       "    }\n",
       "\n",
       "    .dataframe thead th {\n",
       "        text-align: right;\n",
       "    }\n",
       "</style>\n",
       "<table border=\"1\" class=\"dataframe\">\n",
       "  <thead>\n",
       "    <tr style=\"text-align: right;\">\n",
       "      <th></th>\n",
       "      <th>Company</th>\n",
       "      <th>Ticker</th>\n",
       "    </tr>\n",
       "  </thead>\n",
       "  <tbody>\n",
       "    <tr>\n",
       "      <td>0</td>\n",
       "      <td>ABB LTD</td>\n",
       "      <td>ABBN</td>\n",
       "    </tr>\n",
       "    <tr>\n",
       "      <td>1</td>\n",
       "      <td>ADECCO</td>\n",
       "      <td>ADEN</td>\n",
       "    </tr>\n",
       "    <tr>\n",
       "      <td>2</td>\n",
       "      <td>ALCON</td>\n",
       "      <td>ALC</td>\n",
       "    </tr>\n",
       "    <tr>\n",
       "      <td>3</td>\n",
       "      <td>AMS</td>\n",
       "      <td>AMS</td>\n",
       "    </tr>\n",
       "    <tr>\n",
       "      <td>4</td>\n",
       "      <td>CLARIANT</td>\n",
       "      <td>CLN</td>\n",
       "    </tr>\n",
       "  </tbody>\n",
       "</table>\n",
       "</div>"
      ],
      "text/plain": [
       "    Company Ticker\n",
       "0   ABB LTD   ABBN\n",
       "1    ADECCO   ADEN\n",
       "2     ALCON    ALC\n",
       "3       AMS    AMS\n",
       "4  CLARIANT    CLN"
      ]
     },
     "execution_count": 5,
     "metadata": {},
     "output_type": "execute_result"
    }
   ],
   "source": [
    "df.head()"
   ]
  },
  {
   "cell_type": "markdown",
   "metadata": {},
   "source": [
    "## Daten runterladen"
   ]
  },
  {
   "cell_type": "code",
   "execution_count": 34,
   "metadata": {},
   "outputs": [],
   "source": [
    "url1 = 'https://query1.finance.yahoo.com/v7/finance/download/'\n",
    "url2 = '.SW?period1=1444608000&period2=1602374400&interval=1d&events=history&includeAdjustedClose=true'"
   ]
  },
  {
   "cell_type": "code",
   "execution_count": 35,
   "metadata": {},
   "outputs": [],
   "source": [
    "data = []"
   ]
  },
  {
   "cell_type": "code",
   "execution_count": 37,
   "metadata": {},
   "outputs": [],
   "source": [
    "for ticker in df['Ticker']:\n",
    "    url = url1 + ticker + url2\n",
    "    #print(url)\n",
    "    response = requests.get(url)\n",
    "    data.append(response.text)\n",
    "    time.sleep(5)"
   ]
  },
  {
   "cell_type": "markdown",
   "metadata": {},
   "source": [
    "## Daten checken"
   ]
  },
  {
   "cell_type": "code",
   "execution_count": 38,
   "metadata": {},
   "outputs": [
    {
     "name": "stdout",
     "output_type": "stream",
     "text": [
      "ABBN Date,Open,High,Low,Close,Adj Close,Volum\n",
      "ADEN Date,Open,High,Low,Close,Adj Close,Volum\n",
      "ALC Date,Open,High,Low,Close,Adj Close,Volum\n",
      "AMS Date,Open,High,Low,Close,Adj Close,Volum\n",
      "CLN Date,Open,High,Low,Close,Adj Close,Volum\n",
      "CSGN Date,Open,High,Low,Close,Adj Close,Volum\n",
      "GEBN Date,Open,High,Low,Close,Adj Close,Volum\n",
      "GIVN Date,Open,High,Low,Close,Adj Close,Volum\n",
      "BAER Date,Open,High,Low,Close,Adj Close,Volum\n",
      "KNIN Date,Open,High,Low,Close,Adj Close,Volum\n",
      "LHN Date,Open,High,Low,Close,Adj Close,Volum\n",
      "LOGN Date,Open,High,Low,Close,Adj Close,Volum\n",
      "LONN Date,Open,High,Low,Close,Adj Close,Volum\n",
      "NESN Date,Open,High,Low,Close,Adj Close,Volum\n",
      "NOVN Date,Open,High,Low,Close,Adj Close,Volum\n",
      "PGHN Date,Open,High,Low,Close,Adj Close,Volum\n",
      "CFR Date,Open,High,Low,Close,Adj Close,Volum\n",
      "ROG Date,Open,High,Low,Close,Adj Close,Volum\n",
      "SCHP Date,Open,High,Low,Close,Adj Close,Volum\n",
      "SGSN Date,Open,High,Low,Close,Adj Close,Volum\n",
      "SIKA Date,Open,High,Low,Close,Adj Close,Volum\n",
      "SOON Date,Open,High,Low,Close,Adj Close,Volum\n",
      "UHR Date,Open,High,Low,Close,Adj Close,Volum\n",
      "SLHN Date,Open,High,Low,Close,Adj Close,Volum\n",
      "SREN Date,Open,High,Low,Close,Adj Close,Volum\n",
      "SCMN Date,Open,High,Low,Close,Adj Close,Volum\n",
      "TEMN Date,Open,High,Low,Close,Adj Close,Volum\n",
      "UBSG Date,Open,High,Low,Close,Adj Close,Volum\n",
      "VIFN Date,Open,High,Low,Close,Adj Close,Volum\n",
      "ZURN Date,Open,High,Low,Close,Adj Close,Volum\n"
     ]
    }
   ],
   "source": [
    "for (ticker, d) in zip(df['Ticker'], data):\n",
    "    print (ticker, d[0:40])"
   ]
  },
  {
   "cell_type": "code",
   "execution_count": null,
   "metadata": {},
   "outputs": [],
   "source": []
  },
  {
   "cell_type": "markdown",
   "metadata": {},
   "source": [
    "## Daten abspeichern"
   ]
  },
  {
   "cell_type": "code",
   "execution_count": 39,
   "metadata": {},
   "outputs": [],
   "source": [
    "for (ticker, d) in zip(df['Ticker'], data):\n",
    "    with open('Bluechips/' + ticker + '.SW.csv', 'w') as f:\n",
    "        f.write(d)"
   ]
  },
  {
   "cell_type": "code",
   "execution_count": 27,
   "metadata": {},
   "outputs": [],
   "source": []
  },
  {
   "cell_type": "code",
   "execution_count": null,
   "metadata": {},
   "outputs": [],
   "source": []
  }
 ],
 "metadata": {
  "kernelspec": {
   "display_name": "Python 3",
   "language": "python",
   "name": "python3"
  },
  "language_info": {
   "codemirror_mode": {
    "name": "ipython",
    "version": 3
   },
   "file_extension": ".py",
   "mimetype": "text/x-python",
   "name": "python",
   "nbconvert_exporter": "python",
   "pygments_lexer": "ipython3",
   "version": "3.7.3"
  }
 },
 "nbformat": 4,
 "nbformat_minor": 2
}
