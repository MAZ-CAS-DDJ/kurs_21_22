{
 "cells": [
  {
   "cell_type": "markdown",
   "metadata": {},
   "source": [
    "# Börsenkurse kompilieren"
   ]
  },
  {
   "cell_type": "code",
   "execution_count": 1,
   "metadata": {},
   "outputs": [],
   "source": [
    "import pandas as pd"
   ]
  },
  {
   "cell_type": "code",
   "execution_count": 2,
   "metadata": {},
   "outputs": [],
   "source": [
    "import glob"
   ]
  },
  {
   "cell_type": "markdown",
   "metadata": {},
   "source": [
    "## Dateien laden"
   ]
  },
  {
   "cell_type": "markdown",
   "metadata": {},
   "source": [
    "**Liste der Dateien erstellen**"
   ]
  },
  {
   "cell_type": "code",
   "execution_count": 3,
   "metadata": {},
   "outputs": [],
   "source": [
    "path = 'Bluechips/'"
   ]
  },
  {
   "cell_type": "code",
   "execution_count": 4,
   "metadata": {},
   "outputs": [],
   "source": [
    "filenames = glob.glob(path + '*.csv')"
   ]
  },
  {
   "cell_type": "code",
   "execution_count": 5,
   "metadata": {},
   "outputs": [
    {
     "data": {
      "text/plain": [
       "'Bluechips/ZURN.SW.csv'"
      ]
     },
     "execution_count": 5,
     "metadata": {},
     "output_type": "execute_result"
    }
   ],
   "source": [
    "filenames[0]"
   ]
  },
  {
   "cell_type": "markdown",
   "metadata": {},
   "source": [
    "**Liste von Dataframes mit den Dateien**"
   ]
  },
  {
   "cell_type": "code",
   "execution_count": 6,
   "metadata": {},
   "outputs": [],
   "source": [
    "dfs = []"
   ]
  },
  {
   "cell_type": "code",
   "execution_count": 7,
   "metadata": {},
   "outputs": [],
   "source": [
    "dfs = [pd.read_csv(filename) for filename in filenames]"
   ]
  },
  {
   "cell_type": "markdown",
   "metadata": {},
   "source": [
    "## Daten aggregieren"
   ]
  },
  {
   "cell_type": "markdown",
   "metadata": {},
   "source": [
    "**Spalte mit Company Name hinzufügen**"
   ]
  },
  {
   "cell_type": "code",
   "execution_count": 8,
   "metadata": {},
   "outputs": [],
   "source": [
    "for df, filename in zip(dfs, filenames):\n",
    "    df['Ticker'] = filename\n",
    "    df['Ticker'] = df['Ticker'].str.extract(path + '(.+).SW.csv')"
   ]
  },
  {
   "cell_type": "code",
   "execution_count": 9,
   "metadata": {},
   "outputs": [
    {
     "data": {
      "text/html": [
       "<div>\n",
       "<style scoped>\n",
       "    .dataframe tbody tr th:only-of-type {\n",
       "        vertical-align: middle;\n",
       "    }\n",
       "\n",
       "    .dataframe tbody tr th {\n",
       "        vertical-align: top;\n",
       "    }\n",
       "\n",
       "    .dataframe thead th {\n",
       "        text-align: right;\n",
       "    }\n",
       "</style>\n",
       "<table border=\"1\" class=\"dataframe\">\n",
       "  <thead>\n",
       "    <tr style=\"text-align: right;\">\n",
       "      <th></th>\n",
       "      <th>Date</th>\n",
       "      <th>Open</th>\n",
       "      <th>High</th>\n",
       "      <th>Low</th>\n",
       "      <th>Close</th>\n",
       "      <th>Adj Close</th>\n",
       "      <th>Volume</th>\n",
       "      <th>Ticker</th>\n",
       "    </tr>\n",
       "  </thead>\n",
       "  <tbody>\n",
       "    <tr>\n",
       "      <td>0</td>\n",
       "      <td>2015-10-12</td>\n",
       "      <td>259.100006</td>\n",
       "      <td>259.799988</td>\n",
       "      <td>256.399994</td>\n",
       "      <td>258.299988</td>\n",
       "      <td>191.255447</td>\n",
       "      <td>471861.0</td>\n",
       "      <td>ZURN</td>\n",
       "    </tr>\n",
       "    <tr>\n",
       "      <td>1</td>\n",
       "      <td>2015-10-13</td>\n",
       "      <td>257.899994</td>\n",
       "      <td>258.500000</td>\n",
       "      <td>251.000000</td>\n",
       "      <td>252.000000</td>\n",
       "      <td>186.590698</td>\n",
       "      <td>882187.0</td>\n",
       "      <td>ZURN</td>\n",
       "    </tr>\n",
       "  </tbody>\n",
       "</table>\n",
       "</div>"
      ],
      "text/plain": [
       "         Date        Open        High         Low       Close   Adj Close  \\\n",
       "0  2015-10-12  259.100006  259.799988  256.399994  258.299988  191.255447   \n",
       "1  2015-10-13  257.899994  258.500000  251.000000  252.000000  186.590698   \n",
       "\n",
       "     Volume Ticker  \n",
       "0  471861.0   ZURN  \n",
       "1  882187.0   ZURN  "
      ]
     },
     "execution_count": 9,
     "metadata": {},
     "output_type": "execute_result"
    }
   ],
   "source": [
    "dfs[0].head(2)"
   ]
  },
  {
   "cell_type": "markdown",
   "metadata": {},
   "source": [
    "**Daten aneinanderreihen**"
   ]
  },
  {
   "cell_type": "code",
   "execution_count": 10,
   "metadata": {},
   "outputs": [],
   "source": [
    "df_all = pd.concat(dfs, ignore_index=True)"
   ]
  },
  {
   "cell_type": "code",
   "execution_count": 11,
   "metadata": {},
   "outputs": [
    {
     "data": {
      "text/html": [
       "<div>\n",
       "<style scoped>\n",
       "    .dataframe tbody tr th:only-of-type {\n",
       "        vertical-align: middle;\n",
       "    }\n",
       "\n",
       "    .dataframe tbody tr th {\n",
       "        vertical-align: top;\n",
       "    }\n",
       "\n",
       "    .dataframe thead th {\n",
       "        text-align: right;\n",
       "    }\n",
       "</style>\n",
       "<table border=\"1\" class=\"dataframe\">\n",
       "  <thead>\n",
       "    <tr style=\"text-align: right;\">\n",
       "      <th></th>\n",
       "      <th>Date</th>\n",
       "      <th>Open</th>\n",
       "      <th>High</th>\n",
       "      <th>Low</th>\n",
       "      <th>Close</th>\n",
       "      <th>Adj Close</th>\n",
       "      <th>Volume</th>\n",
       "      <th>Ticker</th>\n",
       "    </tr>\n",
       "  </thead>\n",
       "  <tbody>\n",
       "    <tr>\n",
       "      <td>0</td>\n",
       "      <td>2015-10-12</td>\n",
       "      <td>259.100006</td>\n",
       "      <td>259.799988</td>\n",
       "      <td>256.399994</td>\n",
       "      <td>258.299988</td>\n",
       "      <td>191.255447</td>\n",
       "      <td>471861.0</td>\n",
       "      <td>ZURN</td>\n",
       "    </tr>\n",
       "    <tr>\n",
       "      <td>1</td>\n",
       "      <td>2015-10-13</td>\n",
       "      <td>257.899994</td>\n",
       "      <td>258.500000</td>\n",
       "      <td>251.000000</td>\n",
       "      <td>252.000000</td>\n",
       "      <td>186.590698</td>\n",
       "      <td>882187.0</td>\n",
       "      <td>ZURN</td>\n",
       "    </tr>\n",
       "  </tbody>\n",
       "</table>\n",
       "</div>"
      ],
      "text/plain": [
       "         Date        Open        High         Low       Close   Adj Close  \\\n",
       "0  2015-10-12  259.100006  259.799988  256.399994  258.299988  191.255447   \n",
       "1  2015-10-13  257.899994  258.500000  251.000000  252.000000  186.590698   \n",
       "\n",
       "     Volume Ticker  \n",
       "0  471861.0   ZURN  \n",
       "1  882187.0   ZURN  "
      ]
     },
     "execution_count": 11,
     "metadata": {},
     "output_type": "execute_result"
    }
   ],
   "source": [
    "df_all.head(2)"
   ]
  },
  {
   "cell_type": "code",
   "execution_count": 12,
   "metadata": {},
   "outputs": [
    {
     "data": {
      "text/html": [
       "<div>\n",
       "<style scoped>\n",
       "    .dataframe tbody tr th:only-of-type {\n",
       "        vertical-align: middle;\n",
       "    }\n",
       "\n",
       "    .dataframe tbody tr th {\n",
       "        vertical-align: top;\n",
       "    }\n",
       "\n",
       "    .dataframe thead th {\n",
       "        text-align: right;\n",
       "    }\n",
       "</style>\n",
       "<table border=\"1\" class=\"dataframe\">\n",
       "  <thead>\n",
       "    <tr style=\"text-align: right;\">\n",
       "      <th></th>\n",
       "      <th>Date</th>\n",
       "      <th>Open</th>\n",
       "      <th>High</th>\n",
       "      <th>Low</th>\n",
       "      <th>Close</th>\n",
       "      <th>Adj Close</th>\n",
       "      <th>Volume</th>\n",
       "      <th>Ticker</th>\n",
       "    </tr>\n",
       "  </thead>\n",
       "  <tbody>\n",
       "    <tr>\n",
       "      <td>36771</td>\n",
       "      <td>2020-10-08</td>\n",
       "      <td>224.800003</td>\n",
       "      <td>224.800003</td>\n",
       "      <td>220.399994</td>\n",
       "      <td>222.600006</td>\n",
       "      <td>222.600006</td>\n",
       "      <td>145640.0</td>\n",
       "      <td>UHR</td>\n",
       "    </tr>\n",
       "    <tr>\n",
       "      <td>36772</td>\n",
       "      <td>2020-10-09</td>\n",
       "      <td>222.600006</td>\n",
       "      <td>224.399994</td>\n",
       "      <td>219.399994</td>\n",
       "      <td>219.800003</td>\n",
       "      <td>219.800003</td>\n",
       "      <td>149495.0</td>\n",
       "      <td>UHR</td>\n",
       "    </tr>\n",
       "  </tbody>\n",
       "</table>\n",
       "</div>"
      ],
      "text/plain": [
       "             Date        Open        High         Low       Close   Adj Close  \\\n",
       "36771  2020-10-08  224.800003  224.800003  220.399994  222.600006  222.600006   \n",
       "36772  2020-10-09  222.600006  224.399994  219.399994  219.800003  219.800003   \n",
       "\n",
       "         Volume Ticker  \n",
       "36771  145640.0    UHR  \n",
       "36772  149495.0    UHR  "
      ]
     },
     "execution_count": 12,
     "metadata": {},
     "output_type": "execute_result"
    }
   ],
   "source": [
    "df_all.tail(2)"
   ]
  },
  {
   "cell_type": "markdown",
   "metadata": {},
   "source": [
    "**Name für Ticker hinzufügen**"
   ]
  },
  {
   "cell_type": "code",
   "execution_count": 13,
   "metadata": {},
   "outputs": [],
   "source": [
    "df_names = pd.read_csv('company_names.csv')"
   ]
  },
  {
   "cell_type": "code",
   "execution_count": 14,
   "metadata": {},
   "outputs": [
    {
     "data": {
      "text/html": [
       "<div>\n",
       "<style scoped>\n",
       "    .dataframe tbody tr th:only-of-type {\n",
       "        vertical-align: middle;\n",
       "    }\n",
       "\n",
       "    .dataframe tbody tr th {\n",
       "        vertical-align: top;\n",
       "    }\n",
       "\n",
       "    .dataframe thead th {\n",
       "        text-align: right;\n",
       "    }\n",
       "</style>\n",
       "<table border=\"1\" class=\"dataframe\">\n",
       "  <thead>\n",
       "    <tr style=\"text-align: right;\">\n",
       "      <th></th>\n",
       "      <th>Company</th>\n",
       "      <th>Ticker</th>\n",
       "    </tr>\n",
       "  </thead>\n",
       "  <tbody>\n",
       "    <tr>\n",
       "      <td>0</td>\n",
       "      <td>ABB LTD</td>\n",
       "      <td>ABBN</td>\n",
       "    </tr>\n",
       "    <tr>\n",
       "      <td>1</td>\n",
       "      <td>ADECCO</td>\n",
       "      <td>ADEN</td>\n",
       "    </tr>\n",
       "  </tbody>\n",
       "</table>\n",
       "</div>"
      ],
      "text/plain": [
       "   Company Ticker\n",
       "0  ABB LTD   ABBN\n",
       "1   ADECCO   ADEN"
      ]
     },
     "execution_count": 14,
     "metadata": {},
     "output_type": "execute_result"
    }
   ],
   "source": [
    "df_names.head(2)"
   ]
  },
  {
   "cell_type": "code",
   "execution_count": 15,
   "metadata": {},
   "outputs": [],
   "source": [
    "df_all_m = df_all.merge(df_names, how='left', on='Ticker')"
   ]
  },
  {
   "cell_type": "markdown",
   "metadata": {},
   "source": [
    "**Spalte Close auswählen und Pivot**"
   ]
  },
  {
   "cell_type": "code",
   "execution_count": 16,
   "metadata": {},
   "outputs": [],
   "source": [
    "df_pivoted = df_all_m.pivot(index='Date', columns='Company', values='Close')"
   ]
  },
  {
   "cell_type": "code",
   "execution_count": 17,
   "metadata": {},
   "outputs": [
    {
     "data": {
      "text/html": [
       "<div>\n",
       "<style scoped>\n",
       "    .dataframe tbody tr th:only-of-type {\n",
       "        vertical-align: middle;\n",
       "    }\n",
       "\n",
       "    .dataframe tbody tr th {\n",
       "        vertical-align: top;\n",
       "    }\n",
       "\n",
       "    .dataframe thead th {\n",
       "        text-align: right;\n",
       "    }\n",
       "</style>\n",
       "<table border=\"1\" class=\"dataframe\">\n",
       "  <thead>\n",
       "    <tr style=\"text-align: right;\">\n",
       "      <th>Company</th>\n",
       "      <th>ABB LTD</th>\n",
       "      <th>ADECCO</th>\n",
       "      <th>ALCON</th>\n",
       "      <th>AMS</th>\n",
       "      <th>CLARIANT</th>\n",
       "      <th>CS GROUP</th>\n",
       "      <th>GEBERIT</th>\n",
       "      <th>GIVAUDAN</th>\n",
       "      <th>JULIUS BAER</th>\n",
       "      <th>KUEHNE+NAGEL INT</th>\n",
       "      <th>...</th>\n",
       "      <th>SIKA</th>\n",
       "      <th>SONOVA</th>\n",
       "      <th>SWATCH GROUP</th>\n",
       "      <th>SWISS LIFE HOLDING</th>\n",
       "      <th>SWISS RE</th>\n",
       "      <th>SWISSCOM</th>\n",
       "      <th>TEMENOS</th>\n",
       "      <th>UBS GROUP</th>\n",
       "      <th>VIFOR</th>\n",
       "      <th>ZURICH INSURANCE</th>\n",
       "    </tr>\n",
       "    <tr>\n",
       "      <th>Date</th>\n",
       "      <th></th>\n",
       "      <th></th>\n",
       "      <th></th>\n",
       "      <th></th>\n",
       "      <th></th>\n",
       "      <th></th>\n",
       "      <th></th>\n",
       "      <th></th>\n",
       "      <th></th>\n",
       "      <th></th>\n",
       "      <th></th>\n",
       "      <th></th>\n",
       "      <th></th>\n",
       "      <th></th>\n",
       "      <th></th>\n",
       "      <th></th>\n",
       "      <th></th>\n",
       "      <th></th>\n",
       "      <th></th>\n",
       "      <th></th>\n",
       "      <th></th>\n",
       "    </tr>\n",
       "  </thead>\n",
       "  <tbody>\n",
       "    <tr>\n",
       "      <td>2015-10-12</td>\n",
       "      <td>18.059999</td>\n",
       "      <td>73.000000</td>\n",
       "      <td>NaN</td>\n",
       "      <td>40.099998</td>\n",
       "      <td>17.58</td>\n",
       "      <td>22.667500</td>\n",
       "      <td>317.600006</td>\n",
       "      <td>1695.0</td>\n",
       "      <td>46.700001</td>\n",
       "      <td>132.800003</td>\n",
       "      <td>...</td>\n",
       "      <td>51.966702</td>\n",
       "      <td>128.5</td>\n",
       "      <td>402.500000</td>\n",
       "      <td>230.899994</td>\n",
       "      <td>86.550003</td>\n",
       "      <td>492.600006</td>\n",
       "      <td>41.349998</td>\n",
       "      <td>19.030001</td>\n",
       "      <td>129.500000</td>\n",
       "      <td>258.299988</td>\n",
       "    </tr>\n",
       "    <tr>\n",
       "      <td>2015-10-13</td>\n",
       "      <td>17.799999</td>\n",
       "      <td>72.199997</td>\n",
       "      <td>NaN</td>\n",
       "      <td>39.349998</td>\n",
       "      <td>17.42</td>\n",
       "      <td>22.517401</td>\n",
       "      <td>313.899994</td>\n",
       "      <td>1694.0</td>\n",
       "      <td>46.320000</td>\n",
       "      <td>134.699997</td>\n",
       "      <td>...</td>\n",
       "      <td>51.400002</td>\n",
       "      <td>128.5</td>\n",
       "      <td>394.299988</td>\n",
       "      <td>226.399994</td>\n",
       "      <td>85.750000</td>\n",
       "      <td>487.700012</td>\n",
       "      <td>42.000000</td>\n",
       "      <td>18.830000</td>\n",
       "      <td>132.899994</td>\n",
       "      <td>252.000000</td>\n",
       "    </tr>\n",
       "  </tbody>\n",
       "</table>\n",
       "<p>2 rows × 30 columns</p>\n",
       "</div>"
      ],
      "text/plain": [
       "Company       ABB LTD     ADECCO  ALCON        AMS  CLARIANT   CS GROUP  \\\n",
       "Date                                                                      \n",
       "2015-10-12  18.059999  73.000000    NaN  40.099998     17.58  22.667500   \n",
       "2015-10-13  17.799999  72.199997    NaN  39.349998     17.42  22.517401   \n",
       "\n",
       "Company        GEBERIT  GIVAUDAN  JULIUS BAER  KUEHNE+NAGEL INT  ...  \\\n",
       "Date                                                             ...   \n",
       "2015-10-12  317.600006    1695.0    46.700001        132.800003  ...   \n",
       "2015-10-13  313.899994    1694.0    46.320000        134.699997  ...   \n",
       "\n",
       "Company          SIKA  SONOVA  SWATCH GROUP  SWISS LIFE HOLDING   SWISS RE  \\\n",
       "Date                                                                         \n",
       "2015-10-12  51.966702   128.5    402.500000          230.899994  86.550003   \n",
       "2015-10-13  51.400002   128.5    394.299988          226.399994  85.750000   \n",
       "\n",
       "Company       SWISSCOM    TEMENOS  UBS GROUP       VIFOR  ZURICH INSURANCE  \n",
       "Date                                                                        \n",
       "2015-10-12  492.600006  41.349998  19.030001  129.500000        258.299988  \n",
       "2015-10-13  487.700012  42.000000  18.830000  132.899994        252.000000  \n",
       "\n",
       "[2 rows x 30 columns]"
      ]
     },
     "execution_count": 17,
     "metadata": {},
     "output_type": "execute_result"
    }
   ],
   "source": [
    "df_pivoted.head(2)"
   ]
  },
  {
   "cell_type": "code",
   "execution_count": 18,
   "metadata": {},
   "outputs": [],
   "source": [
    "df_pivoted.rename_axis(None, inplace=True)"
   ]
  },
  {
   "cell_type": "code",
   "execution_count": 19,
   "metadata": {},
   "outputs": [],
   "source": [
    "df_pivoted.rename_axis(None, inplace=True)"
   ]
  },
  {
   "cell_type": "code",
   "execution_count": 20,
   "metadata": {},
   "outputs": [
    {
     "data": {
      "text/html": [
       "<div>\n",
       "<style scoped>\n",
       "    .dataframe tbody tr th:only-of-type {\n",
       "        vertical-align: middle;\n",
       "    }\n",
       "\n",
       "    .dataframe tbody tr th {\n",
       "        vertical-align: top;\n",
       "    }\n",
       "\n",
       "    .dataframe thead th {\n",
       "        text-align: right;\n",
       "    }\n",
       "</style>\n",
       "<table border=\"1\" class=\"dataframe\">\n",
       "  <thead>\n",
       "    <tr style=\"text-align: right;\">\n",
       "      <th>Company</th>\n",
       "      <th>ABB LTD</th>\n",
       "      <th>ADECCO</th>\n",
       "      <th>ALCON</th>\n",
       "      <th>AMS</th>\n",
       "      <th>CLARIANT</th>\n",
       "      <th>CS GROUP</th>\n",
       "      <th>GEBERIT</th>\n",
       "      <th>GIVAUDAN</th>\n",
       "      <th>JULIUS BAER</th>\n",
       "      <th>KUEHNE+NAGEL INT</th>\n",
       "      <th>...</th>\n",
       "      <th>SIKA</th>\n",
       "      <th>SONOVA</th>\n",
       "      <th>SWATCH GROUP</th>\n",
       "      <th>SWISS LIFE HOLDING</th>\n",
       "      <th>SWISS RE</th>\n",
       "      <th>SWISSCOM</th>\n",
       "      <th>TEMENOS</th>\n",
       "      <th>UBS GROUP</th>\n",
       "      <th>VIFOR</th>\n",
       "      <th>ZURICH INSURANCE</th>\n",
       "    </tr>\n",
       "  </thead>\n",
       "  <tbody>\n",
       "    <tr>\n",
       "      <td>2015-10-12</td>\n",
       "      <td>18.059999</td>\n",
       "      <td>73.000000</td>\n",
       "      <td>NaN</td>\n",
       "      <td>40.099998</td>\n",
       "      <td>17.58</td>\n",
       "      <td>22.667500</td>\n",
       "      <td>317.600006</td>\n",
       "      <td>1695.0</td>\n",
       "      <td>46.700001</td>\n",
       "      <td>132.800003</td>\n",
       "      <td>...</td>\n",
       "      <td>51.966702</td>\n",
       "      <td>128.5</td>\n",
       "      <td>402.500000</td>\n",
       "      <td>230.899994</td>\n",
       "      <td>86.550003</td>\n",
       "      <td>492.600006</td>\n",
       "      <td>41.349998</td>\n",
       "      <td>19.030001</td>\n",
       "      <td>129.500000</td>\n",
       "      <td>258.299988</td>\n",
       "    </tr>\n",
       "    <tr>\n",
       "      <td>2015-10-13</td>\n",
       "      <td>17.799999</td>\n",
       "      <td>72.199997</td>\n",
       "      <td>NaN</td>\n",
       "      <td>39.349998</td>\n",
       "      <td>17.42</td>\n",
       "      <td>22.517401</td>\n",
       "      <td>313.899994</td>\n",
       "      <td>1694.0</td>\n",
       "      <td>46.320000</td>\n",
       "      <td>134.699997</td>\n",
       "      <td>...</td>\n",
       "      <td>51.400002</td>\n",
       "      <td>128.5</td>\n",
       "      <td>394.299988</td>\n",
       "      <td>226.399994</td>\n",
       "      <td>85.750000</td>\n",
       "      <td>487.700012</td>\n",
       "      <td>42.000000</td>\n",
       "      <td>18.830000</td>\n",
       "      <td>132.899994</td>\n",
       "      <td>252.000000</td>\n",
       "    </tr>\n",
       "  </tbody>\n",
       "</table>\n",
       "<p>2 rows × 30 columns</p>\n",
       "</div>"
      ],
      "text/plain": [
       "Company       ABB LTD     ADECCO  ALCON        AMS  CLARIANT   CS GROUP  \\\n",
       "2015-10-12  18.059999  73.000000    NaN  40.099998     17.58  22.667500   \n",
       "2015-10-13  17.799999  72.199997    NaN  39.349998     17.42  22.517401   \n",
       "\n",
       "Company        GEBERIT  GIVAUDAN  JULIUS BAER  KUEHNE+NAGEL INT  ...  \\\n",
       "2015-10-12  317.600006    1695.0    46.700001        132.800003  ...   \n",
       "2015-10-13  313.899994    1694.0    46.320000        134.699997  ...   \n",
       "\n",
       "Company          SIKA  SONOVA  SWATCH GROUP  SWISS LIFE HOLDING   SWISS RE  \\\n",
       "2015-10-12  51.966702   128.5    402.500000          230.899994  86.550003   \n",
       "2015-10-13  51.400002   128.5    394.299988          226.399994  85.750000   \n",
       "\n",
       "Company       SWISSCOM    TEMENOS  UBS GROUP       VIFOR  ZURICH INSURANCE  \n",
       "2015-10-12  492.600006  41.349998  19.030001  129.500000        258.299988  \n",
       "2015-10-13  487.700012  42.000000  18.830000  132.899994        252.000000  \n",
       "\n",
       "[2 rows x 30 columns]"
      ]
     },
     "execution_count": 20,
     "metadata": {},
     "output_type": "execute_result"
    }
   ],
   "source": [
    "df_pivoted.head(2)"
   ]
  },
  {
   "cell_type": "code",
   "execution_count": 21,
   "metadata": {},
   "outputs": [
    {
     "data": {
      "text/html": [
       "<div>\n",
       "<style scoped>\n",
       "    .dataframe tbody tr th:only-of-type {\n",
       "        vertical-align: middle;\n",
       "    }\n",
       "\n",
       "    .dataframe tbody tr th {\n",
       "        vertical-align: top;\n",
       "    }\n",
       "\n",
       "    .dataframe thead th {\n",
       "        text-align: right;\n",
       "    }\n",
       "</style>\n",
       "<table border=\"1\" class=\"dataframe\">\n",
       "  <thead>\n",
       "    <tr style=\"text-align: right;\">\n",
       "      <th>Company</th>\n",
       "      <th>ABB LTD</th>\n",
       "      <th>ADECCO</th>\n",
       "      <th>ALCON</th>\n",
       "      <th>AMS</th>\n",
       "      <th>CLARIANT</th>\n",
       "      <th>CS GROUP</th>\n",
       "      <th>GEBERIT</th>\n",
       "      <th>GIVAUDAN</th>\n",
       "      <th>JULIUS BAER</th>\n",
       "      <th>KUEHNE+NAGEL INT</th>\n",
       "      <th>...</th>\n",
       "      <th>SIKA</th>\n",
       "      <th>SONOVA</th>\n",
       "      <th>SWATCH GROUP</th>\n",
       "      <th>SWISS LIFE HOLDING</th>\n",
       "      <th>SWISS RE</th>\n",
       "      <th>SWISSCOM</th>\n",
       "      <th>TEMENOS</th>\n",
       "      <th>UBS GROUP</th>\n",
       "      <th>VIFOR</th>\n",
       "      <th>ZURICH INSURANCE</th>\n",
       "    </tr>\n",
       "  </thead>\n",
       "  <tbody>\n",
       "    <tr>\n",
       "      <td>2020-10-08</td>\n",
       "      <td>24.23</td>\n",
       "      <td>51.220001</td>\n",
       "      <td>55.259998</td>\n",
       "      <td>22.879999</td>\n",
       "      <td>18.584999</td>\n",
       "      <td>9.694</td>\n",
       "      <td>543.599976</td>\n",
       "      <td>3991.0</td>\n",
       "      <td>41.290001</td>\n",
       "      <td>180.449997</td>\n",
       "      <td>...</td>\n",
       "      <td>234.800003</td>\n",
       "      <td>243.800003</td>\n",
       "      <td>222.600006</td>\n",
       "      <td>359.600006</td>\n",
       "      <td>70.940002</td>\n",
       "      <td>494.000000</td>\n",
       "      <td>121.550003</td>\n",
       "      <td>10.750</td>\n",
       "      <td>125.949997</td>\n",
       "      <td>326.000000</td>\n",
       "    </tr>\n",
       "    <tr>\n",
       "      <td>2020-10-09</td>\n",
       "      <td>24.35</td>\n",
       "      <td>50.799999</td>\n",
       "      <td>56.160000</td>\n",
       "      <td>23.350000</td>\n",
       "      <td>18.555000</td>\n",
       "      <td>9.572</td>\n",
       "      <td>545.000000</td>\n",
       "      <td>3987.0</td>\n",
       "      <td>41.049999</td>\n",
       "      <td>181.000000</td>\n",
       "      <td>...</td>\n",
       "      <td>234.600006</td>\n",
       "      <td>243.199997</td>\n",
       "      <td>219.800003</td>\n",
       "      <td>356.399994</td>\n",
       "      <td>70.500000</td>\n",
       "      <td>494.100006</td>\n",
       "      <td>121.599998</td>\n",
       "      <td>10.625</td>\n",
       "      <td>128.000000</td>\n",
       "      <td>321.799988</td>\n",
       "    </tr>\n",
       "  </tbody>\n",
       "</table>\n",
       "<p>2 rows × 30 columns</p>\n",
       "</div>"
      ],
      "text/plain": [
       "Company     ABB LTD     ADECCO      ALCON        AMS   CLARIANT  CS GROUP  \\\n",
       "2020-10-08    24.23  51.220001  55.259998  22.879999  18.584999     9.694   \n",
       "2020-10-09    24.35  50.799999  56.160000  23.350000  18.555000     9.572   \n",
       "\n",
       "Company        GEBERIT  GIVAUDAN  JULIUS BAER  KUEHNE+NAGEL INT  ...  \\\n",
       "2020-10-08  543.599976    3991.0    41.290001        180.449997  ...   \n",
       "2020-10-09  545.000000    3987.0    41.049999        181.000000  ...   \n",
       "\n",
       "Company           SIKA      SONOVA  SWATCH GROUP  SWISS LIFE HOLDING  \\\n",
       "2020-10-08  234.800003  243.800003    222.600006          359.600006   \n",
       "2020-10-09  234.600006  243.199997    219.800003          356.399994   \n",
       "\n",
       "Company      SWISS RE    SWISSCOM     TEMENOS  UBS GROUP       VIFOR  \\\n",
       "2020-10-08  70.940002  494.000000  121.550003     10.750  125.949997   \n",
       "2020-10-09  70.500000  494.100006  121.599998     10.625  128.000000   \n",
       "\n",
       "Company     ZURICH INSURANCE  \n",
       "2020-10-08        326.000000  \n",
       "2020-10-09        321.799988  \n",
       "\n",
       "[2 rows x 30 columns]"
      ]
     },
     "execution_count": 21,
     "metadata": {},
     "output_type": "execute_result"
    }
   ],
   "source": [
    "df_pivoted.tail(2)"
   ]
  },
  {
   "cell_type": "markdown",
   "metadata": {},
   "source": [
    "## Daten exportieren"
   ]
  },
  {
   "cell_type": "code",
   "execution_count": 22,
   "metadata": {},
   "outputs": [],
   "source": [
    "df_pivoted.to_csv('smi_members.csv')"
   ]
  },
  {
   "cell_type": "code",
   "execution_count": null,
   "metadata": {},
   "outputs": [],
   "source": []
  }
 ],
 "metadata": {
  "kernelspec": {
   "display_name": "Python 3",
   "language": "python",
   "name": "python3"
  },
  "language_info": {
   "codemirror_mode": {
    "name": "ipython",
    "version": 3
   },
   "file_extension": ".py",
   "mimetype": "text/x-python",
   "name": "python",
   "nbconvert_exporter": "python",
   "pygments_lexer": "ipython3",
   "version": "3.7.3"
  }
 },
 "nbformat": 4,
 "nbformat_minor": 2
}
