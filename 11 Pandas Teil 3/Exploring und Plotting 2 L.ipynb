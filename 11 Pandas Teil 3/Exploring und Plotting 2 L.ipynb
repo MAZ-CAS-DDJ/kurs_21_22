{
 "cells": [
  {
   "cell_type": "markdown",
   "metadata": {},
   "source": [
    "# Exploring und Plotting 2"
   ]
  },
  {
   "cell_type": "markdown",
   "metadata": {},
   "source": [
    "**Inhalt:** Selbständige Übung\n",
    "\n",
    "**Nötige Skills:** Time Series\n",
    "\n",
    "**Lernziele:**\n",
    "- Selbständig Daten explorieren und Storyideen testen"
   ]
  },
  {
   "cell_type": "markdown",
   "metadata": {},
   "source": [
    "# Das Beispiel"
   ]
  },
  {
   "cell_type": "markdown",
   "metadata": {},
   "source": [
    "Börsenkurse aller Bluechips-Firmen an der Schweizer Börse (Stand: Oktober 2020).\n",
    "\n",
    "Korpus: https://www.six-group.com/exchanges/shares/explorer/swiss_blue_chips/closings_de.html\n",
    "\n",
    "Die Daten stammen von dieser Quelle: https://finance.yahoo.com/ und wurden zu einem File kompiliert.\n",
    "\n",
    "Kompilierungsfile: `dataprojects/Boersenkurse/Börsenkurse kompilieren.ipnyb`\n",
    "\n",
    "Kompilierte Daten: `dataprojects/Boersenkurse/smi_members.csv`"
   ]
  },
  {
   "cell_type": "markdown",
   "metadata": {},
   "source": [
    "## Vorbereitung"
   ]
  },
  {
   "cell_type": "markdown",
   "metadata": {},
   "source": [
    "Entscheiden Sie selbst, welche Libraries Sie brauchen!"
   ]
  },
  {
   "cell_type": "code",
   "execution_count": 6,
   "metadata": {},
   "outputs": [],
   "source": [
    "import pandas as pd"
   ]
  },
  {
   "cell_type": "code",
   "execution_count": null,
   "metadata": {},
   "outputs": [],
   "source": []
  },
  {
   "cell_type": "markdown",
   "metadata": {},
   "source": [
    "## Datenfile laden"
   ]
  },
  {
   "cell_type": "markdown",
   "metadata": {},
   "source": [
    "Wie ist die Datei strukturiert? Was müssen wir beim Laden beachten?\n",
    "\n",
    "**Tipp:** `index_col=0` verwenden."
   ]
  },
  {
   "cell_type": "code",
   "execution_count": 7,
   "metadata": {},
   "outputs": [],
   "source": [
    "df = pd.read_csv('dataprojects/Boersenkurse/smi_members.csv', index_col=0)"
   ]
  },
  {
   "cell_type": "code",
   "execution_count": 8,
   "metadata": {},
   "outputs": [
    {
     "data": {
      "text/html": [
       "<div>\n",
       "<style scoped>\n",
       "    .dataframe tbody tr th:only-of-type {\n",
       "        vertical-align: middle;\n",
       "    }\n",
       "\n",
       "    .dataframe tbody tr th {\n",
       "        vertical-align: top;\n",
       "    }\n",
       "\n",
       "    .dataframe thead th {\n",
       "        text-align: right;\n",
       "    }\n",
       "</style>\n",
       "<table border=\"1\" class=\"dataframe\">\n",
       "  <thead>\n",
       "    <tr style=\"text-align: right;\">\n",
       "      <th></th>\n",
       "      <th>ABB LTD</th>\n",
       "      <th>ADECCO</th>\n",
       "      <th>ALCON</th>\n",
       "      <th>AMS</th>\n",
       "      <th>CLARIANT</th>\n",
       "      <th>CS GROUP</th>\n",
       "      <th>GEBERIT</th>\n",
       "      <th>GIVAUDAN</th>\n",
       "      <th>JULIUS BAER</th>\n",
       "      <th>KUEHNE+NAGEL INT</th>\n",
       "      <th>...</th>\n",
       "      <th>SIKA</th>\n",
       "      <th>SONOVA</th>\n",
       "      <th>SWATCH GROUP</th>\n",
       "      <th>SWISS LIFE HOLDING</th>\n",
       "      <th>SWISS RE</th>\n",
       "      <th>SWISSCOM</th>\n",
       "      <th>TEMENOS</th>\n",
       "      <th>UBS GROUP</th>\n",
       "      <th>VIFOR</th>\n",
       "      <th>ZURICH INSURANCE</th>\n",
       "    </tr>\n",
       "  </thead>\n",
       "  <tbody>\n",
       "    <tr>\n",
       "      <th>2015-10-12</th>\n",
       "      <td>18.059999</td>\n",
       "      <td>73.000000</td>\n",
       "      <td>NaN</td>\n",
       "      <td>40.099998</td>\n",
       "      <td>17.580000</td>\n",
       "      <td>22.667500</td>\n",
       "      <td>317.600006</td>\n",
       "      <td>1695.0</td>\n",
       "      <td>46.700001</td>\n",
       "      <td>132.800003</td>\n",
       "      <td>...</td>\n",
       "      <td>51.966702</td>\n",
       "      <td>128.500000</td>\n",
       "      <td>402.500000</td>\n",
       "      <td>230.899994</td>\n",
       "      <td>86.550003</td>\n",
       "      <td>492.600006</td>\n",
       "      <td>41.349998</td>\n",
       "      <td>19.030001</td>\n",
       "      <td>129.500000</td>\n",
       "      <td>258.299988</td>\n",
       "    </tr>\n",
       "    <tr>\n",
       "      <th>2015-10-13</th>\n",
       "      <td>17.799999</td>\n",
       "      <td>72.199997</td>\n",
       "      <td>NaN</td>\n",
       "      <td>39.349998</td>\n",
       "      <td>17.420000</td>\n",
       "      <td>22.517401</td>\n",
       "      <td>313.899994</td>\n",
       "      <td>1694.0</td>\n",
       "      <td>46.320000</td>\n",
       "      <td>134.699997</td>\n",
       "      <td>...</td>\n",
       "      <td>51.400002</td>\n",
       "      <td>128.500000</td>\n",
       "      <td>394.299988</td>\n",
       "      <td>226.399994</td>\n",
       "      <td>85.750000</td>\n",
       "      <td>487.700012</td>\n",
       "      <td>42.000000</td>\n",
       "      <td>18.830000</td>\n",
       "      <td>132.899994</td>\n",
       "      <td>252.000000</td>\n",
       "    </tr>\n",
       "    <tr>\n",
       "      <th>2015-10-14</th>\n",
       "      <td>17.660000</td>\n",
       "      <td>71.800003</td>\n",
       "      <td>NaN</td>\n",
       "      <td>39.299999</td>\n",
       "      <td>17.049999</td>\n",
       "      <td>22.179800</td>\n",
       "      <td>311.700012</td>\n",
       "      <td>1690.0</td>\n",
       "      <td>45.419998</td>\n",
       "      <td>134.300003</td>\n",
       "      <td>...</td>\n",
       "      <td>51.099998</td>\n",
       "      <td>126.000000</td>\n",
       "      <td>393.700012</td>\n",
       "      <td>224.600006</td>\n",
       "      <td>85.250000</td>\n",
       "      <td>481.000000</td>\n",
       "      <td>42.299999</td>\n",
       "      <td>18.709999</td>\n",
       "      <td>132.100006</td>\n",
       "      <td>249.699997</td>\n",
       "    </tr>\n",
       "    <tr>\n",
       "      <th>2015-10-15</th>\n",
       "      <td>17.650000</td>\n",
       "      <td>72.800003</td>\n",
       "      <td>NaN</td>\n",
       "      <td>40.349998</td>\n",
       "      <td>17.200001</td>\n",
       "      <td>22.395500</td>\n",
       "      <td>314.899994</td>\n",
       "      <td>1725.0</td>\n",
       "      <td>46.150002</td>\n",
       "      <td>133.000000</td>\n",
       "      <td>...</td>\n",
       "      <td>51.883301</td>\n",
       "      <td>126.900002</td>\n",
       "      <td>393.700012</td>\n",
       "      <td>224.699997</td>\n",
       "      <td>85.949997</td>\n",
       "      <td>482.399994</td>\n",
       "      <td>42.000000</td>\n",
       "      <td>18.920000</td>\n",
       "      <td>133.000000</td>\n",
       "      <td>250.600006</td>\n",
       "    </tr>\n",
       "    <tr>\n",
       "      <th>2015-10-16</th>\n",
       "      <td>17.360001</td>\n",
       "      <td>72.699997</td>\n",
       "      <td>NaN</td>\n",
       "      <td>40.500000</td>\n",
       "      <td>17.290001</td>\n",
       "      <td>22.986300</td>\n",
       "      <td>315.000000</td>\n",
       "      <td>1732.0</td>\n",
       "      <td>47.220001</td>\n",
       "      <td>132.500000</td>\n",
       "      <td>...</td>\n",
       "      <td>52.833302</td>\n",
       "      <td>129.699997</td>\n",
       "      <td>380.399994</td>\n",
       "      <td>228.500000</td>\n",
       "      <td>86.699997</td>\n",
       "      <td>488.200012</td>\n",
       "      <td>42.299999</td>\n",
       "      <td>19.500000</td>\n",
       "      <td>135.600006</td>\n",
       "      <td>254.500000</td>\n",
       "    </tr>\n",
       "  </tbody>\n",
       "</table>\n",
       "<p>5 rows × 30 columns</p>\n",
       "</div>"
      ],
      "text/plain": [
       "              ABB LTD     ADECCO  ALCON        AMS   CLARIANT   CS GROUP  \\\n",
       "2015-10-12  18.059999  73.000000    NaN  40.099998  17.580000  22.667500   \n",
       "2015-10-13  17.799999  72.199997    NaN  39.349998  17.420000  22.517401   \n",
       "2015-10-14  17.660000  71.800003    NaN  39.299999  17.049999  22.179800   \n",
       "2015-10-15  17.650000  72.800003    NaN  40.349998  17.200001  22.395500   \n",
       "2015-10-16  17.360001  72.699997    NaN  40.500000  17.290001  22.986300   \n",
       "\n",
       "               GEBERIT  GIVAUDAN  JULIUS BAER  KUEHNE+NAGEL INT  ...  \\\n",
       "2015-10-12  317.600006    1695.0    46.700001        132.800003  ...   \n",
       "2015-10-13  313.899994    1694.0    46.320000        134.699997  ...   \n",
       "2015-10-14  311.700012    1690.0    45.419998        134.300003  ...   \n",
       "2015-10-15  314.899994    1725.0    46.150002        133.000000  ...   \n",
       "2015-10-16  315.000000    1732.0    47.220001        132.500000  ...   \n",
       "\n",
       "                 SIKA      SONOVA  SWATCH GROUP  SWISS LIFE HOLDING  \\\n",
       "2015-10-12  51.966702  128.500000    402.500000          230.899994   \n",
       "2015-10-13  51.400002  128.500000    394.299988          226.399994   \n",
       "2015-10-14  51.099998  126.000000    393.700012          224.600006   \n",
       "2015-10-15  51.883301  126.900002    393.700012          224.699997   \n",
       "2015-10-16  52.833302  129.699997    380.399994          228.500000   \n",
       "\n",
       "             SWISS RE    SWISSCOM    TEMENOS  UBS GROUP       VIFOR  \\\n",
       "2015-10-12  86.550003  492.600006  41.349998  19.030001  129.500000   \n",
       "2015-10-13  85.750000  487.700012  42.000000  18.830000  132.899994   \n",
       "2015-10-14  85.250000  481.000000  42.299999  18.709999  132.100006   \n",
       "2015-10-15  85.949997  482.399994  42.000000  18.920000  133.000000   \n",
       "2015-10-16  86.699997  488.200012  42.299999  19.500000  135.600006   \n",
       "\n",
       "            ZURICH INSURANCE  \n",
       "2015-10-12        258.299988  \n",
       "2015-10-13        252.000000  \n",
       "2015-10-14        249.699997  \n",
       "2015-10-15        250.600006  \n",
       "2015-10-16        254.500000  \n",
       "\n",
       "[5 rows x 30 columns]"
      ]
     },
     "execution_count": 8,
     "metadata": {},
     "output_type": "execute_result"
    }
   ],
   "source": [
    "df.head()"
   ]
  },
  {
   "cell_type": "code",
   "execution_count": 9,
   "metadata": {},
   "outputs": [
    {
     "data": {
      "text/html": [
       "<div>\n",
       "<style scoped>\n",
       "    .dataframe tbody tr th:only-of-type {\n",
       "        vertical-align: middle;\n",
       "    }\n",
       "\n",
       "    .dataframe tbody tr th {\n",
       "        vertical-align: top;\n",
       "    }\n",
       "\n",
       "    .dataframe thead th {\n",
       "        text-align: right;\n",
       "    }\n",
       "</style>\n",
       "<table border=\"1\" class=\"dataframe\">\n",
       "  <thead>\n",
       "    <tr style=\"text-align: right;\">\n",
       "      <th></th>\n",
       "      <th>ABB LTD</th>\n",
       "      <th>ADECCO</th>\n",
       "      <th>ALCON</th>\n",
       "      <th>AMS</th>\n",
       "      <th>CLARIANT</th>\n",
       "      <th>CS GROUP</th>\n",
       "      <th>GEBERIT</th>\n",
       "      <th>GIVAUDAN</th>\n",
       "      <th>JULIUS BAER</th>\n",
       "      <th>KUEHNE+NAGEL INT</th>\n",
       "      <th>...</th>\n",
       "      <th>SIKA</th>\n",
       "      <th>SONOVA</th>\n",
       "      <th>SWATCH GROUP</th>\n",
       "      <th>SWISS LIFE HOLDING</th>\n",
       "      <th>SWISS RE</th>\n",
       "      <th>SWISSCOM</th>\n",
       "      <th>TEMENOS</th>\n",
       "      <th>UBS GROUP</th>\n",
       "      <th>VIFOR</th>\n",
       "      <th>ZURICH INSURANCE</th>\n",
       "    </tr>\n",
       "  </thead>\n",
       "  <tbody>\n",
       "    <tr>\n",
       "      <th>2020-10-05</th>\n",
       "      <td>23.940001</td>\n",
       "      <td>49.660000</td>\n",
       "      <td>52.759998</td>\n",
       "      <td>22.100000</td>\n",
       "      <td>18.405001</td>\n",
       "      <td>9.478</td>\n",
       "      <td>546.200012</td>\n",
       "      <td>4075.0</td>\n",
       "      <td>40.240002</td>\n",
       "      <td>180.199997</td>\n",
       "      <td>...</td>\n",
       "      <td>229.300003</td>\n",
       "      <td>238.100006</td>\n",
       "      <td>216.000000</td>\n",
       "      <td>356.500000</td>\n",
       "      <td>70.040001</td>\n",
       "      <td>495.600006</td>\n",
       "      <td>118.250000</td>\n",
       "      <td>10.565</td>\n",
       "      <td>124.199997</td>\n",
       "      <td>326.799988</td>\n",
       "    </tr>\n",
       "    <tr>\n",
       "      <th>2020-10-06</th>\n",
       "      <td>23.950001</td>\n",
       "      <td>50.400002</td>\n",
       "      <td>52.919998</td>\n",
       "      <td>22.139999</td>\n",
       "      <td>18.225000</td>\n",
       "      <td>9.630</td>\n",
       "      <td>541.799988</td>\n",
       "      <td>3981.0</td>\n",
       "      <td>40.439999</td>\n",
       "      <td>177.100006</td>\n",
       "      <td>...</td>\n",
       "      <td>227.699997</td>\n",
       "      <td>233.899994</td>\n",
       "      <td>218.899994</td>\n",
       "      <td>360.299988</td>\n",
       "      <td>70.820000</td>\n",
       "      <td>494.200012</td>\n",
       "      <td>119.349998</td>\n",
       "      <td>10.765</td>\n",
       "      <td>124.650002</td>\n",
       "      <td>328.000000</td>\n",
       "    </tr>\n",
       "    <tr>\n",
       "      <th>2020-10-07</th>\n",
       "      <td>24.070000</td>\n",
       "      <td>50.779999</td>\n",
       "      <td>53.000000</td>\n",
       "      <td>22.600000</td>\n",
       "      <td>18.500000</td>\n",
       "      <td>9.652</td>\n",
       "      <td>539.200012</td>\n",
       "      <td>4033.0</td>\n",
       "      <td>40.349998</td>\n",
       "      <td>180.699997</td>\n",
       "      <td>...</td>\n",
       "      <td>233.899994</td>\n",
       "      <td>239.699997</td>\n",
       "      <td>222.100006</td>\n",
       "      <td>354.799988</td>\n",
       "      <td>69.419998</td>\n",
       "      <td>488.399994</td>\n",
       "      <td>116.900002</td>\n",
       "      <td>10.750</td>\n",
       "      <td>123.250000</td>\n",
       "      <td>323.399994</td>\n",
       "    </tr>\n",
       "    <tr>\n",
       "      <th>2020-10-08</th>\n",
       "      <td>24.230000</td>\n",
       "      <td>51.220001</td>\n",
       "      <td>55.259998</td>\n",
       "      <td>22.879999</td>\n",
       "      <td>18.584999</td>\n",
       "      <td>9.694</td>\n",
       "      <td>543.599976</td>\n",
       "      <td>3991.0</td>\n",
       "      <td>41.290001</td>\n",
       "      <td>180.449997</td>\n",
       "      <td>...</td>\n",
       "      <td>234.800003</td>\n",
       "      <td>243.800003</td>\n",
       "      <td>222.600006</td>\n",
       "      <td>359.600006</td>\n",
       "      <td>70.940002</td>\n",
       "      <td>494.000000</td>\n",
       "      <td>121.550003</td>\n",
       "      <td>10.750</td>\n",
       "      <td>125.949997</td>\n",
       "      <td>326.000000</td>\n",
       "    </tr>\n",
       "    <tr>\n",
       "      <th>2020-10-09</th>\n",
       "      <td>24.350000</td>\n",
       "      <td>50.799999</td>\n",
       "      <td>56.160000</td>\n",
       "      <td>23.350000</td>\n",
       "      <td>18.555000</td>\n",
       "      <td>9.572</td>\n",
       "      <td>545.000000</td>\n",
       "      <td>3987.0</td>\n",
       "      <td>41.049999</td>\n",
       "      <td>181.000000</td>\n",
       "      <td>...</td>\n",
       "      <td>234.600006</td>\n",
       "      <td>243.199997</td>\n",
       "      <td>219.800003</td>\n",
       "      <td>356.399994</td>\n",
       "      <td>70.500000</td>\n",
       "      <td>494.100006</td>\n",
       "      <td>121.599998</td>\n",
       "      <td>10.625</td>\n",
       "      <td>128.000000</td>\n",
       "      <td>321.799988</td>\n",
       "    </tr>\n",
       "  </tbody>\n",
       "</table>\n",
       "<p>5 rows × 30 columns</p>\n",
       "</div>"
      ],
      "text/plain": [
       "              ABB LTD     ADECCO      ALCON        AMS   CLARIANT  CS GROUP  \\\n",
       "2020-10-05  23.940001  49.660000  52.759998  22.100000  18.405001     9.478   \n",
       "2020-10-06  23.950001  50.400002  52.919998  22.139999  18.225000     9.630   \n",
       "2020-10-07  24.070000  50.779999  53.000000  22.600000  18.500000     9.652   \n",
       "2020-10-08  24.230000  51.220001  55.259998  22.879999  18.584999     9.694   \n",
       "2020-10-09  24.350000  50.799999  56.160000  23.350000  18.555000     9.572   \n",
       "\n",
       "               GEBERIT  GIVAUDAN  JULIUS BAER  KUEHNE+NAGEL INT  ...  \\\n",
       "2020-10-05  546.200012    4075.0    40.240002        180.199997  ...   \n",
       "2020-10-06  541.799988    3981.0    40.439999        177.100006  ...   \n",
       "2020-10-07  539.200012    4033.0    40.349998        180.699997  ...   \n",
       "2020-10-08  543.599976    3991.0    41.290001        180.449997  ...   \n",
       "2020-10-09  545.000000    3987.0    41.049999        181.000000  ...   \n",
       "\n",
       "                  SIKA      SONOVA  SWATCH GROUP  SWISS LIFE HOLDING  \\\n",
       "2020-10-05  229.300003  238.100006    216.000000          356.500000   \n",
       "2020-10-06  227.699997  233.899994    218.899994          360.299988   \n",
       "2020-10-07  233.899994  239.699997    222.100006          354.799988   \n",
       "2020-10-08  234.800003  243.800003    222.600006          359.600006   \n",
       "2020-10-09  234.600006  243.199997    219.800003          356.399994   \n",
       "\n",
       "             SWISS RE    SWISSCOM     TEMENOS  UBS GROUP       VIFOR  \\\n",
       "2020-10-05  70.040001  495.600006  118.250000     10.565  124.199997   \n",
       "2020-10-06  70.820000  494.200012  119.349998     10.765  124.650002   \n",
       "2020-10-07  69.419998  488.399994  116.900002     10.750  123.250000   \n",
       "2020-10-08  70.940002  494.000000  121.550003     10.750  125.949997   \n",
       "2020-10-09  70.500000  494.100006  121.599998     10.625  128.000000   \n",
       "\n",
       "            ZURICH INSURANCE  \n",
       "2020-10-05        326.799988  \n",
       "2020-10-06        328.000000  \n",
       "2020-10-07        323.399994  \n",
       "2020-10-08        326.000000  \n",
       "2020-10-09        321.799988  \n",
       "\n",
       "[5 rows x 30 columns]"
      ]
     },
     "execution_count": 9,
     "metadata": {},
     "output_type": "execute_result"
    }
   ],
   "source": [
    "df.tail()"
   ]
  },
  {
   "cell_type": "code",
   "execution_count": null,
   "metadata": {},
   "outputs": [],
   "source": []
  },
  {
   "cell_type": "markdown",
   "metadata": {},
   "source": [
    "## Daten checken"
   ]
  },
  {
   "cell_type": "markdown",
   "metadata": {},
   "source": [
    "**Länge, Spalten, Integrität**"
   ]
  },
  {
   "cell_type": "code",
   "execution_count": 10,
   "metadata": {},
   "outputs": [
    {
     "data": {
      "text/plain": [
       "(1255, 30)"
      ]
     },
     "execution_count": 10,
     "metadata": {},
     "output_type": "execute_result"
    }
   ],
   "source": [
    "df.shape"
   ]
  },
  {
   "cell_type": "code",
   "execution_count": 11,
   "metadata": {},
   "outputs": [
    {
     "data": {
      "text/plain": [
       "ABB LTD               float64\n",
       "ADECCO                float64\n",
       "ALCON                 float64\n",
       "AMS                   float64\n",
       "CLARIANT              float64\n",
       "CS GROUP              float64\n",
       "GEBERIT               float64\n",
       "GIVAUDAN              float64\n",
       "JULIUS BAER           float64\n",
       "KUEHNE+NAGEL INT      float64\n",
       "LAFARGEHOLCIM         float64\n",
       "LOGITECH              float64\n",
       "LONZA                 float64\n",
       "NESTLE                float64\n",
       "NOVARTIS              float64\n",
       "PARTNERS GROUP        float64\n",
       "RICHEMONT             float64\n",
       "ROCHE                 float64\n",
       "SCHINDLER             float64\n",
       "SGS                   float64\n",
       "SIKA                  float64\n",
       "SONOVA                float64\n",
       "SWATCH GROUP          float64\n",
       "SWISS LIFE HOLDING    float64\n",
       "SWISS RE              float64\n",
       "SWISSCOM              float64\n",
       "TEMENOS               float64\n",
       "UBS GROUP             float64\n",
       "VIFOR                 float64\n",
       "ZURICH INSURANCE      float64\n",
       "dtype: object"
      ]
     },
     "execution_count": 11,
     "metadata": {},
     "output_type": "execute_result"
    }
   ],
   "source": [
    "df.dtypes"
   ]
  },
  {
   "cell_type": "code",
   "execution_count": null,
   "metadata": {},
   "outputs": [],
   "source": []
  },
  {
   "cell_type": "code",
   "execution_count": null,
   "metadata": {},
   "outputs": [],
   "source": []
  },
  {
   "cell_type": "markdown",
   "metadata": {},
   "source": [
    "## Vorbereitung"
   ]
  },
  {
   "cell_type": "markdown",
   "metadata": {},
   "source": [
    "Mit welchem Typ von Daten haben wir es hier zu tun? Was müssen wir für Eigenschaften des Dataframe modifizieren, um optimal damit arbeiten zu können?\n",
    "\n",
    "**Tipp:** mit `df.index` können Sie auf die Index-Spalte zugreifen"
   ]
  },
  {
   "cell_type": "code",
   "execution_count": 12,
   "metadata": {},
   "outputs": [],
   "source": [
    "# Wir müssen die Indexspalte als Datetime \n",
    "df.index = pd.to_datetime(df.index)"
   ]
  },
  {
   "cell_type": "code",
   "execution_count": null,
   "metadata": {},
   "outputs": [],
   "source": []
  },
  {
   "cell_type": "markdown",
   "metadata": {},
   "source": [
    "## Explorieren"
   ]
  },
  {
   "cell_type": "markdown",
   "metadata": {},
   "source": [
    "Ihr Ziel ist, aus den Börsendaten eine einfache Story zu generieren.\n",
    "\n",
    "Überlegen Sie sich dazu:\n",
    "- Was sind mögliche interessante Fragen?\n",
    "- Welche Auswertungen sind nötig, um die Fragen zu beanworten?\n",
    "- Wie stellen Sie die Resultate mittels Grafiken dar?\n",
    "\n",
    "Arbeiten Sie in Gruppen, um ein Ergebnis zu erarbeiten!"
   ]
  },
  {
   "cell_type": "code",
   "execution_count": null,
   "metadata": {},
   "outputs": [],
   "source": []
  },
  {
   "cell_type": "markdown",
   "metadata": {},
   "source": [
    "**Beispiel 1:** Wertsteigerung der Firmen in den letzten fünf Jahren: 5 beste und 5 schlechteste"
   ]
  },
  {
   "cell_type": "code",
   "execution_count": 13,
   "metadata": {},
   "outputs": [],
   "source": [
    "# Wir wählen die erste Zeile aus und dividieren sämtliche Zeilen durch sie"
   ]
  },
  {
   "cell_type": "code",
   "execution_count": 14,
   "metadata": {},
   "outputs": [],
   "source": [
    "s_first = df.iloc[0]"
   ]
  },
  {
   "cell_type": "code",
   "execution_count": 15,
   "metadata": {},
   "outputs": [],
   "source": [
    "df_indexed = ((df / s_first) - 1) * 100"
   ]
  },
  {
   "cell_type": "code",
   "execution_count": 16,
   "metadata": {},
   "outputs": [],
   "source": [
    "# Die letzte Zeile gibt uns die gesamte Veränderung an"
   ]
  },
  {
   "cell_type": "code",
   "execution_count": 17,
   "metadata": {},
   "outputs": [],
   "source": [
    "s_5y_chg = df_indexed.iloc[-1].sort_values(ascending=False)"
   ]
  },
  {
   "cell_type": "code",
   "execution_count": 18,
   "metadata": {},
   "outputs": [],
   "source": [
    "# Beste 5 Firmen:"
   ]
  },
  {
   "cell_type": "code",
   "execution_count": 19,
   "metadata": {},
   "outputs": [
    {
     "data": {
      "text/plain": [
       "<AxesSubplot:title={'center':'Kursveränderung in Prozent: Top 5'}>"
      ]
     },
     "execution_count": 19,
     "metadata": {},
     "output_type": "execute_result"
    },
    {
     "data": {
      "image/png": "[encoded data removed]",
      "text/plain": [
       "<Figure size 432x288 with 1 Axes>"
      ]
     },
     "metadata": {
      "needs_background": "light"
     },
     "output_type": "display_data"
    }
   ],
   "source": [
    "s_5y_chg.head(5).plot(kind='bar', title='Kursveränderung in Prozent: Top 5')"
   ]
  },
  {
   "cell_type": "code",
   "execution_count": 20,
   "metadata": {},
   "outputs": [],
   "source": [
    "# Schlechteste 5 Firmen:"
   ]
  },
  {
   "cell_type": "code",
   "execution_count": 21,
   "metadata": {},
   "outputs": [
    {
     "data": {
      "text/plain": [
       "<AxesSubplot:title={'center':'Kursveränderung in Prozent: Bottom 5'}>"
      ]
     },
     "execution_count": 21,
     "metadata": {},
     "output_type": "execute_result"
    },
    {
     "data": {
      "image/png": "[encoded data removed]",
      "text/plain": [
       "<Figure size 432x288 with 1 Axes>"
      ]
     },
     "metadata": {
      "needs_background": "light"
     },
     "output_type": "display_data"
    }
   ],
   "source": [
    "s_5y_chg.sort_values().head(5).plot(kind='bar', title='Kursveränderung in Prozent: Bottom 5')"
   ]
  },
  {
   "cell_type": "code",
   "execution_count": null,
   "metadata": {},
   "outputs": [],
   "source": []
  },
  {
   "cell_type": "markdown",
   "metadata": {},
   "source": [
    "**Beispiel 2:** Firmen, deren Jahresperformance 2019 (bis dato) gegenüber der Performance 2018 am meisten verbessert hat"
   ]
  },
  {
   "cell_type": "code",
   "execution_count": 22,
   "metadata": {},
   "outputs": [],
   "source": [
    "# Jahresendkurse"
   ]
  },
  {
   "cell_type": "code",
   "execution_count": 23,
   "metadata": {},
   "outputs": [],
   "source": [
    "df_end = df.resample('A').last()"
   ]
  },
  {
   "cell_type": "code",
   "execution_count": 24,
   "metadata": {},
   "outputs": [
    {
     "data": {
      "text/html": [
       "<div>\n",
       "<style scoped>\n",
       "    .dataframe tbody tr th:only-of-type {\n",
       "        vertical-align: middle;\n",
       "    }\n",
       "\n",
       "    .dataframe tbody tr th {\n",
       "        vertical-align: top;\n",
       "    }\n",
       "\n",
       "    .dataframe thead th {\n",
       "        text-align: right;\n",
       "    }\n",
       "</style>\n",
       "<table border=\"1\" class=\"dataframe\">\n",
       "  <thead>\n",
       "    <tr style=\"text-align: right;\">\n",
       "      <th></th>\n",
       "      <th>ABB LTD</th>\n",
       "      <th>ADECCO</th>\n",
       "      <th>ALCON</th>\n",
       "      <th>AMS</th>\n",
       "      <th>CLARIANT</th>\n",
       "      <th>CS GROUP</th>\n",
       "      <th>GEBERIT</th>\n",
       "      <th>GIVAUDAN</th>\n",
       "      <th>JULIUS BAER</th>\n",
       "      <th>KUEHNE+NAGEL INT</th>\n",
       "      <th>...</th>\n",
       "      <th>SIKA</th>\n",
       "      <th>SONOVA</th>\n",
       "      <th>SWATCH GROUP</th>\n",
       "      <th>SWISS LIFE HOLDING</th>\n",
       "      <th>SWISS RE</th>\n",
       "      <th>SWISSCOM</th>\n",
       "      <th>TEMENOS</th>\n",
       "      <th>UBS GROUP</th>\n",
       "      <th>VIFOR</th>\n",
       "      <th>ZURICH INSURANCE</th>\n",
       "    </tr>\n",
       "  </thead>\n",
       "  <tbody>\n",
       "    <tr>\n",
       "      <th>2015-12-31</th>\n",
       "      <td>17.959999</td>\n",
       "      <td>68.900002</td>\n",
       "      <td>NaN</td>\n",
       "      <td>33.549999</td>\n",
       "      <td>19.010</td>\n",
       "      <td>20.9291</td>\n",
       "      <td>340.200012</td>\n",
       "      <td>1823.0</td>\n",
       "      <td>48.660000</td>\n",
       "      <td>137.800003</td>\n",
       "      <td>...</td>\n",
       "      <td>60.333302</td>\n",
       "      <td>127.300003</td>\n",
       "      <td>350.200012</td>\n",
       "      <td>271.299988</td>\n",
       "      <td>98.150002</td>\n",
       "      <td>503.000000</td>\n",
       "      <td>51.950001</td>\n",
       "      <td>19.520000</td>\n",
       "      <td>157.399994</td>\n",
       "      <td>258.399994</td>\n",
       "    </tr>\n",
       "    <tr>\n",
       "      <th>2016-12-31</th>\n",
       "      <td>21.480000</td>\n",
       "      <td>66.650002</td>\n",
       "      <td>NaN</td>\n",
       "      <td>28.900000</td>\n",
       "      <td>17.570</td>\n",
       "      <td>14.0975</td>\n",
       "      <td>408.200012</td>\n",
       "      <td>1866.0</td>\n",
       "      <td>45.230000</td>\n",
       "      <td>134.600006</td>\n",
       "      <td>...</td>\n",
       "      <td>81.533302</td>\n",
       "      <td>123.400002</td>\n",
       "      <td>316.700012</td>\n",
       "      <td>288.200012</td>\n",
       "      <td>96.500000</td>\n",
       "      <td>456.100006</td>\n",
       "      <td>70.900002</td>\n",
       "      <td>15.950000</td>\n",
       "      <td>114.900002</td>\n",
       "      <td>280.399994</td>\n",
       "    </tr>\n",
       "    <tr>\n",
       "      <th>2017-12-31</th>\n",
       "      <td>26.120001</td>\n",
       "      <td>74.550003</td>\n",
       "      <td>NaN</td>\n",
       "      <td>88.449997</td>\n",
       "      <td>27.250</td>\n",
       "      <td>17.4000</td>\n",
       "      <td>429.100006</td>\n",
       "      <td>2252.0</td>\n",
       "      <td>59.599998</td>\n",
       "      <td>172.500000</td>\n",
       "      <td>...</td>\n",
       "      <td>129.000000</td>\n",
       "      <td>152.199997</td>\n",
       "      <td>397.399994</td>\n",
       "      <td>345.000000</td>\n",
       "      <td>91.250000</td>\n",
       "      <td>518.500000</td>\n",
       "      <td>125.000000</td>\n",
       "      <td>17.940001</td>\n",
       "      <td>124.900002</td>\n",
       "      <td>296.600006</td>\n",
       "    </tr>\n",
       "    <tr>\n",
       "      <th>2018-12-31</th>\n",
       "      <td>18.695000</td>\n",
       "      <td>45.930000</td>\n",
       "      <td>NaN</td>\n",
       "      <td>23.559999</td>\n",
       "      <td>18.090</td>\n",
       "      <td>10.8000</td>\n",
       "      <td>382.299988</td>\n",
       "      <td>2276.0</td>\n",
       "      <td>35.009998</td>\n",
       "      <td>126.349998</td>\n",
       "      <td>...</td>\n",
       "      <td>124.599998</td>\n",
       "      <td>160.600006</td>\n",
       "      <td>286.700012</td>\n",
       "      <td>378.600006</td>\n",
       "      <td>90.120003</td>\n",
       "      <td>469.700012</td>\n",
       "      <td>117.900002</td>\n",
       "      <td>12.235000</td>\n",
       "      <td>106.900002</td>\n",
       "      <td>293.100006</td>\n",
       "    </tr>\n",
       "    <tr>\n",
       "      <th>2019-12-31</th>\n",
       "      <td>23.370001</td>\n",
       "      <td>61.220001</td>\n",
       "      <td>54.799999</td>\n",
       "      <td>39.270000</td>\n",
       "      <td>21.600</td>\n",
       "      <td>13.1050</td>\n",
       "      <td>543.200012</td>\n",
       "      <td>3031.0</td>\n",
       "      <td>49.930000</td>\n",
       "      <td>163.199997</td>\n",
       "      <td>...</td>\n",
       "      <td>181.850006</td>\n",
       "      <td>221.500000</td>\n",
       "      <td>270.000000</td>\n",
       "      <td>485.799988</td>\n",
       "      <td>108.699997</td>\n",
       "      <td>512.599976</td>\n",
       "      <td>153.199997</td>\n",
       "      <td>12.225000</td>\n",
       "      <td>176.649994</td>\n",
       "      <td>397.100006</td>\n",
       "    </tr>\n",
       "    <tr>\n",
       "      <th>2020-12-31</th>\n",
       "      <td>24.350000</td>\n",
       "      <td>50.799999</td>\n",
       "      <td>56.160000</td>\n",
       "      <td>23.350000</td>\n",
       "      <td>18.555</td>\n",
       "      <td>9.5720</td>\n",
       "      <td>545.000000</td>\n",
       "      <td>3987.0</td>\n",
       "      <td>41.049999</td>\n",
       "      <td>181.000000</td>\n",
       "      <td>...</td>\n",
       "      <td>234.600006</td>\n",
       "      <td>243.199997</td>\n",
       "      <td>219.800003</td>\n",
       "      <td>356.399994</td>\n",
       "      <td>70.500000</td>\n",
       "      <td>494.100006</td>\n",
       "      <td>121.599998</td>\n",
       "      <td>10.625000</td>\n",
       "      <td>128.000000</td>\n",
       "      <td>321.799988</td>\n",
       "    </tr>\n",
       "  </tbody>\n",
       "</table>\n",
       "<p>6 rows × 30 columns</p>\n",
       "</div>"
      ],
      "text/plain": [
       "              ABB LTD     ADECCO      ALCON        AMS  CLARIANT  CS GROUP  \\\n",
       "2015-12-31  17.959999  68.900002        NaN  33.549999    19.010   20.9291   \n",
       "2016-12-31  21.480000  66.650002        NaN  28.900000    17.570   14.0975   \n",
       "2017-12-31  26.120001  74.550003        NaN  88.449997    27.250   17.4000   \n",
       "2018-12-31  18.695000  45.930000        NaN  23.559999    18.090   10.8000   \n",
       "2019-12-31  23.370001  61.220001  54.799999  39.270000    21.600   13.1050   \n",
       "2020-12-31  24.350000  50.799999  56.160000  23.350000    18.555    9.5720   \n",
       "\n",
       "               GEBERIT  GIVAUDAN  JULIUS BAER  KUEHNE+NAGEL INT  ...  \\\n",
       "2015-12-31  340.200012    1823.0    48.660000        137.800003  ...   \n",
       "2016-12-31  408.200012    1866.0    45.230000        134.600006  ...   \n",
       "2017-12-31  429.100006    2252.0    59.599998        172.500000  ...   \n",
       "2018-12-31  382.299988    2276.0    35.009998        126.349998  ...   \n",
       "2019-12-31  543.200012    3031.0    49.930000        163.199997  ...   \n",
       "2020-12-31  545.000000    3987.0    41.049999        181.000000  ...   \n",
       "\n",
       "                  SIKA      SONOVA  SWATCH GROUP  SWISS LIFE HOLDING  \\\n",
       "2015-12-31   60.333302  127.300003    350.200012          271.299988   \n",
       "2016-12-31   81.533302  123.400002    316.700012          288.200012   \n",
       "2017-12-31  129.000000  152.199997    397.399994          345.000000   \n",
       "2018-12-31  124.599998  160.600006    286.700012          378.600006   \n",
       "2019-12-31  181.850006  221.500000    270.000000          485.799988   \n",
       "2020-12-31  234.600006  243.199997    219.800003          356.399994   \n",
       "\n",
       "              SWISS RE    SWISSCOM     TEMENOS  UBS GROUP       VIFOR  \\\n",
       "2015-12-31   98.150002  503.000000   51.950001  19.520000  157.399994   \n",
       "2016-12-31   96.500000  456.100006   70.900002  15.950000  114.900002   \n",
       "2017-12-31   91.250000  518.500000  125.000000  17.940001  124.900002   \n",
       "2018-12-31   90.120003  469.700012  117.900002  12.235000  106.900002   \n",
       "2019-12-31  108.699997  512.599976  153.199997  12.225000  176.649994   \n",
       "2020-12-31   70.500000  494.100006  121.599998  10.625000  128.000000   \n",
       "\n",
       "            ZURICH INSURANCE  \n",
       "2015-12-31        258.399994  \n",
       "2016-12-31        280.399994  \n",
       "2017-12-31        296.600006  \n",
       "2018-12-31        293.100006  \n",
       "2019-12-31        397.100006  \n",
       "2020-12-31        321.799988  \n",
       "\n",
       "[6 rows x 30 columns]"
      ]
     },
     "execution_count": 24,
     "metadata": {},
     "output_type": "execute_result"
    }
   ],
   "source": [
    "df_end"
   ]
  },
  {
   "cell_type": "code",
   "execution_count": 25,
   "metadata": {},
   "outputs": [],
   "source": [
    "# Veränderungen 2019 resp 2018"
   ]
  },
  {
   "cell_type": "code",
   "execution_count": 26,
   "metadata": {},
   "outputs": [],
   "source": [
    "s_2019 = (df_end.loc['2019-12-31'] / df_end.loc['2018-12-31'] - 1) * 100"
   ]
  },
  {
   "cell_type": "code",
   "execution_count": 27,
   "metadata": {},
   "outputs": [],
   "source": [
    "s_2018 = (df_end.loc['2018-12-31'] / df_end.loc['2017-12-31'] - 1) * 100"
   ]
  },
  {
   "cell_type": "code",
   "execution_count": 28,
   "metadata": {},
   "outputs": [],
   "source": [
    "# Differenz"
   ]
  },
  {
   "cell_type": "code",
   "execution_count": 29,
   "metadata": {},
   "outputs": [],
   "source": [
    "s_chg_2018_19 = s_2019 - s_2018"
   ]
  },
  {
   "cell_type": "code",
   "execution_count": 30,
   "metadata": {},
   "outputs": [
    {
     "data": {
      "text/plain": [
       "AMS                   140.044304\n",
       "JULIUS BAER            83.874794\n",
       "VIFOR                  79.659416\n",
       "ADECCO                 71.680136\n",
       "PARTNERS GROUP         59.671065\n",
       "CS GROUP               59.273627\n",
       "LAFARGEHOLCIM          58.889230\n",
       "KUEHNE+NAGEL INT       55.918642\n",
       "LOGITECH               54.239465\n",
       "ABB LTD                53.433187\n",
       "CLARIANT               53.017664\n",
       "GEBERIT                52.993926\n",
       "RICHEMONT              49.382480\n",
       "SIKA                   49.357892\n",
       "LONZA                  41.939188\n",
       "SCHINDLER              39.647565\n",
       "ZURICH INSURANCE       36.662810\n",
       "NESTLE                 36.076521\n",
       "TEMENOS                35.620621\n",
       "SGS                    32.981119\n",
       "SONOVA                 32.401234\n",
       "GIVAUDAN               32.106513\n",
       "UBS GROUP              31.718717\n",
       "ROCHE                  30.263364\n",
       "SWATCH GROUP           22.031152\n",
       "SWISS RE               21.855301\n",
       "NOVARTIS               21.713021\n",
       "SWISS LIFE HOLDING     18.575707\n",
       "SWISSCOM               18.545244\n",
       "ALCON                        NaN\n",
       "dtype: float64"
      ]
     },
     "execution_count": 30,
     "metadata": {},
     "output_type": "execute_result"
    }
   ],
   "source": [
    "s_chg_2018_19.sort_values(ascending=False)"
   ]
  },
  {
   "cell_type": "code",
   "execution_count": 31,
   "metadata": {},
   "outputs": [],
   "source": [
    "# Top 10 Verbesserungen"
   ]
  },
  {
   "cell_type": "code",
   "execution_count": 32,
   "metadata": {},
   "outputs": [
    {
     "data": {
      "text/plain": [
       "<AxesSubplot:>"
      ]
     },
     "execution_count": 32,
     "metadata": {},
     "output_type": "execute_result"
    },
    {
     "data": {
      "image/png": "[encoded data removed]",
      "text/plain": [
       "<Figure size 432x288 with 1 Axes>"
      ]
     },
     "metadata": {
      "needs_background": "light"
     },
     "output_type": "display_data"
    }
   ],
   "source": [
    "s_chg_2018_19.sort_values(ascending=False).head(10).plot(kind='bar')"
   ]
  },
  {
   "cell_type": "code",
   "execution_count": null,
   "metadata": {},
   "outputs": [],
   "source": []
  },
  {
   "cell_type": "markdown",
   "metadata": {},
   "source": [
    "## Die Story\n",
    "Wählen Sie eine ihrer Fragen aus, die Sie bearbeitet haben.\n",
    "- Drei bis vier Sätze, welche die Story zusammenfassen\n",
    "- eine oder mehrere Grafiken, die das Ergebnis illustrieren"
   ]
  },
  {
   "cell_type": "code",
   "execution_count": null,
   "metadata": {},
   "outputs": [],
   "source": []
  },
  {
   "cell_type": "code",
   "execution_count": null,
   "metadata": {},
   "outputs": [],
   "source": []
  },
  {
   "cell_type": "code",
   "execution_count": null,
   "metadata": {},
   "outputs": [],
   "source": []
  },
  {
   "cell_type": "code",
   "execution_count": null,
   "metadata": {},
   "outputs": [],
   "source": []
  },
  {
   "cell_type": "code",
   "execution_count": null,
   "metadata": {},
   "outputs": [],
   "source": []
  },
  {
   "cell_type": "code",
   "execution_count": null,
   "metadata": {},
   "outputs": [],
   "source": []
  },
  {
   "cell_type": "code",
   "execution_count": null,
   "metadata": {},
   "outputs": [],
   "source": []
  },
  {
   "cell_type": "code",
   "execution_count": null,
   "metadata": {},
   "outputs": [],
   "source": []
  }
 ],
 "metadata": {
  "kernelspec": {
   "display_name": "Python 3",
   "language": "python",
   "name": "python3"
  },
  "language_info": {
   "codemirror_mode": {
    "name": "ipython",
    "version": 3
   },
   "file_extension": ".py",
   "mimetype": "text/x-python",
   "name": "python",
   "nbconvert_exporter": "python",
   "pygments_lexer": "ipython3",
   "version": "3.8.2"
  }
 },
 "nbformat": 4,
 "nbformat_minor": 2
}
