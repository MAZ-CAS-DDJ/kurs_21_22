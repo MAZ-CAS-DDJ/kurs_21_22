{
 "cells": [
  {
   "cell_type": "markdown",
   "metadata": {},
   "source": [
    "# DDJ-Beispiele"
   ]
  },
  {
   "cell_type": "markdown",
   "metadata": {},
   "source": [
    "Eine kuratierte Auflistung von Datenjournalismus-Beispielen:\n",
    "\n",
    "https://docs.google.com/spreadsheets/d/1Sf0pkpan0sMeq_pva1AV6rkTva9xr0sgw3ThX_2VkYA/edit?usp=sharing\n",
    "\n",
    "Dieses Script generiert aus der Google-Tabelle eine Markup-Datei."
   ]
  },
  {
   "cell_type": "markdown",
   "metadata": {},
   "source": [
    "## Setup"
   ]
  },
  {
   "cell_type": "code",
   "execution_count": 1,
   "metadata": {},
   "outputs": [],
   "source": [
    "import pandas as pd"
   ]
  },
  {
   "cell_type": "code",
   "execution_count": 2,
   "metadata": {},
   "outputs": [],
   "source": [
    "pd.set_option(\"display.max_colwidth\", 200)"
   ]
  },
  {
   "cell_type": "code",
   "execution_count": null,
   "metadata": {},
   "outputs": [],
   "source": []
  },
  {
   "cell_type": "markdown",
   "metadata": {},
   "source": [
    "## Fetch data"
   ]
  },
  {
   "cell_type": "markdown",
   "metadata": {},
   "source": [
    "**List of Articles**"
   ]
  },
  {
   "cell_type": "code",
   "execution_count": 3,
   "metadata": {},
   "outputs": [],
   "source": [
    "url = \"https://docs.google.com/spreadsheets/d/1Sf0pkpan0sMeq_pva1AV6rkTva9xr0sgw3ThX_2VkYA/export?format=csv\""
   ]
  },
  {
   "cell_type": "code",
   "execution_count": 4,
   "metadata": {},
   "outputs": [],
   "source": [
    "df = pd.read_csv(url)"
   ]
  },
  {
   "cell_type": "code",
   "execution_count": 5,
   "metadata": {},
   "outputs": [
    {
     "data": {
      "text/html": [
       "<div>\n",
       "<style scoped>\n",
       "    .dataframe tbody tr th:only-of-type {\n",
       "        vertical-align: middle;\n",
       "    }\n",
       "\n",
       "    .dataframe tbody tr th {\n",
       "        vertical-align: top;\n",
       "    }\n",
       "\n",
       "    .dataframe thead th {\n",
       "        text-align: right;\n",
       "    }\n",
       "</style>\n",
       "<table border=\"1\" class=\"dataframe\">\n",
       "  <thead>\n",
       "    <tr style=\"text-align: right;\">\n",
       "      <th></th>\n",
       "      <th>Jahr</th>\n",
       "      <th>Quelle</th>\n",
       "      <th>Titel</th>\n",
       "      <th>Kategorie</th>\n",
       "      <th>Link</th>\n",
       "    </tr>\n",
       "  </thead>\n",
       "  <tbody>\n",
       "    <tr>\n",
       "      <th>0</th>\n",
       "      <td>2013</td>\n",
       "      <td>NZZ</td>\n",
       "      <td>Das «Rössli» schlägt alle</td>\n",
       "      <td>Textanalyse</td>\n",
       "      <td>https://www.nzz.ch/inland-sommerserie-schweizer-karten-interaktiv/vergleich-restaurantnamen-in-der-schweiz-1.18123894</td>\n",
       "    </tr>\n",
       "    <tr>\n",
       "      <th>1</th>\n",
       "      <td>2014</td>\n",
       "      <td>Guardian</td>\n",
       "      <td>Are you reflected in the new Congress?</td>\n",
       "      <td>Interactive</td>\n",
       "      <td>https://www.theguardian.com/us-news/ng-interactive/2014/nov/06/-sp-congress-diversity-women-race-lgbt-are-you-represented</td>\n",
       "    </tr>\n",
       "    <tr>\n",
       "      <th>2</th>\n",
       "      <td>2014</td>\n",
       "      <td>New York Times</td>\n",
       "      <td>How The Recession Reshaped The Economy</td>\n",
       "      <td>Dataviz</td>\n",
       "      <td>https://www.nytimes.com/interactive/2014/06/05/upshot/how-the-recession-reshaped-the-economy-in-255-charts.html</td>\n",
       "    </tr>\n",
       "    <tr>\n",
       "      <th>3</th>\n",
       "      <td>2015</td>\n",
       "      <td>Guardian</td>\n",
       "      <td>How well do you really know your country?</td>\n",
       "      <td>Interactive</td>\n",
       "      <td>https://www.theguardian.com/world/ng-interactive/2015/dec/02/how-well-do-you-really-know-your-country-take-our-quiz</td>\n",
       "    </tr>\n",
       "    <tr>\n",
       "      <th>4</th>\n",
       "      <td>2015</td>\n",
       "      <td>The Atlantic</td>\n",
       "      <td>The Language of the State of the Union</td>\n",
       "      <td>Textanalyse</td>\n",
       "      <td>https://www.theatlantic.com/politics/archive/2015/01/the-language-of-the-state-of-the-union/384575/</td>\n",
       "    </tr>\n",
       "  </tbody>\n",
       "</table>\n",
       "</div>"
      ],
      "text/plain": [
       "   Jahr          Quelle                                      Titel  \\\n",
       "0  2013             NZZ                  Das «Rössli» schlägt alle   \n",
       "1  2014        Guardian     Are you reflected in the new Congress?   \n",
       "2  2014  New York Times     How The Recession Reshaped The Economy   \n",
       "3  2015        Guardian  How well do you really know your country?   \n",
       "4  2015    The Atlantic     The Language of the State of the Union   \n",
       "\n",
       "     Kategorie  \\\n",
       "0  Textanalyse   \n",
       "1  Interactive   \n",
       "2      Dataviz   \n",
       "3  Interactive   \n",
       "4  Textanalyse   \n",
       "\n",
       "                                                                                                                        Link  \n",
       "0      https://www.nzz.ch/inland-sommerserie-schweizer-karten-interaktiv/vergleich-restaurantnamen-in-der-schweiz-1.18123894  \n",
       "1  https://www.theguardian.com/us-news/ng-interactive/2014/nov/06/-sp-congress-diversity-women-race-lgbt-are-you-represented  \n",
       "2            https://www.nytimes.com/interactive/2014/06/05/upshot/how-the-recession-reshaped-the-economy-in-255-charts.html  \n",
       "3        https://www.theguardian.com/world/ng-interactive/2015/dec/02/how-well-do-you-really-know-your-country-take-our-quiz  \n",
       "4                        https://www.theatlantic.com/politics/archive/2015/01/the-language-of-the-state-of-the-union/384575/  "
      ]
     },
     "execution_count": 5,
     "metadata": {},
     "output_type": "execute_result"
    }
   ],
   "source": [
    "df.head(5)"
   ]
  },
  {
   "cell_type": "markdown",
   "metadata": {},
   "source": [
    "**List of Categories**"
   ]
  },
  {
   "cell_type": "code",
   "execution_count": 6,
   "metadata": {},
   "outputs": [],
   "source": [
    "url = \"https://docs.google.com/spreadsheets/d/1Sf0pkpan0sMeq_pva1AV6rkTva9xr0sgw3ThX_2VkYA/export?gid=1349399595&format=csv\"\n"
   ]
  },
  {
   "cell_type": "code",
   "execution_count": 7,
   "metadata": {},
   "outputs": [],
   "source": [
    "df_c = pd.read_csv(url)"
   ]
  },
  {
   "cell_type": "code",
   "execution_count": 8,
   "metadata": {},
   "outputs": [
    {
     "data": {
      "text/html": [
       "<div>\n",
       "<style scoped>\n",
       "    .dataframe tbody tr th:only-of-type {\n",
       "        vertical-align: middle;\n",
       "    }\n",
       "\n",
       "    .dataframe tbody tr th {\n",
       "        vertical-align: top;\n",
       "    }\n",
       "\n",
       "    .dataframe thead th {\n",
       "        text-align: right;\n",
       "    }\n",
       "</style>\n",
       "<table border=\"1\" class=\"dataframe\">\n",
       "  <thead>\n",
       "    <tr style=\"text-align: right;\">\n",
       "      <th></th>\n",
       "      <th>Nr</th>\n",
       "      <th>Kategorie</th>\n",
       "      <th>Beschreibung</th>\n",
       "    </tr>\n",
       "  </thead>\n",
       "  <tbody>\n",
       "    <tr>\n",
       "      <th>0</th>\n",
       "      <td>1</td>\n",
       "      <td>Recherche</td>\n",
       "      <td>BGÖ-Anfrage, Scraping und weitere besondere Methoden der Daten-Zusammenstellung</td>\n",
       "    </tr>\n",
       "    <tr>\n",
       "      <th>1</th>\n",
       "      <td>2</td>\n",
       "      <td>Textanalyse</td>\n",
       "      <td>Worthäufigkeiten, Sentiment-Analyse und weitere computerlinguistische Techniken</td>\n",
       "    </tr>\n",
       "    <tr>\n",
       "      <th>2</th>\n",
       "      <td>3</td>\n",
       "      <td>Dataviz</td>\n",
       "      <td>Storytelling mit Daten: besondere Plots, ungewöhnliche Chartformen, etc.</td>\n",
       "    </tr>\n",
       "    <tr>\n",
       "      <th>3</th>\n",
       "      <td>4</td>\n",
       "      <td>Mapping</td>\n",
       "      <td>Choropleth, Point maps und allerlei weitere geografische Darstellungsformen</td>\n",
       "    </tr>\n",
       "    <tr>\n",
       "      <th>4</th>\n",
       "      <td>5</td>\n",
       "      <td>Interactive</td>\n",
       "      <td>Arbeiten, bei denen der User zum Mitmachen aufgefordert wird, insb. auch mit Gamification</td>\n",
       "    </tr>\n",
       "    <tr>\n",
       "      <th>5</th>\n",
       "      <td>6</td>\n",
       "      <td>Animated</td>\n",
       "      <td>Datenvisualisierungen mit beweglichen Teilen</td>\n",
       "    </tr>\n",
       "    <tr>\n",
       "      <th>6</th>\n",
       "      <td>7</td>\n",
       "      <td>Algorithmen</td>\n",
       "      <td>Diskussion von Machine Learning und anderen Algorithmen</td>\n",
       "    </tr>\n",
       "    <tr>\n",
       "      <th>7</th>\n",
       "      <td>8</td>\n",
       "      <td>Crowdsourcing</td>\n",
       "      <td>Datengewinnung mihilfe der User</td>\n",
       "    </tr>\n",
       "    <tr>\n",
       "      <th>8</th>\n",
       "      <td>9</td>\n",
       "      <td>Digital Storytelling</td>\n",
       "      <td>Visual Journalism, Dinge, die nur online funktionieren</td>\n",
       "    </tr>\n",
       "  </tbody>\n",
       "</table>\n",
       "</div>"
      ],
      "text/plain": [
       "   Nr             Kategorie  \\\n",
       "0   1             Recherche   \n",
       "1   2           Textanalyse   \n",
       "2   3               Dataviz   \n",
       "3   4               Mapping   \n",
       "4   5           Interactive   \n",
       "5   6              Animated   \n",
       "6   7           Algorithmen   \n",
       "7   8         Crowdsourcing   \n",
       "8   9  Digital Storytelling   \n",
       "\n",
       "                                                                                Beschreibung  \n",
       "0            BGÖ-Anfrage, Scraping und weitere besondere Methoden der Daten-Zusammenstellung  \n",
       "1            Worthäufigkeiten, Sentiment-Analyse und weitere computerlinguistische Techniken  \n",
       "2                   Storytelling mit Daten: besondere Plots, ungewöhnliche Chartformen, etc.  \n",
       "3                Choropleth, Point maps und allerlei weitere geografische Darstellungsformen  \n",
       "4  Arbeiten, bei denen der User zum Mitmachen aufgefordert wird, insb. auch mit Gamification  \n",
       "5                                               Datenvisualisierungen mit beweglichen Teilen  \n",
       "6                                    Diskussion von Machine Learning und anderen Algorithmen  \n",
       "7                                                            Datengewinnung mihilfe der User  \n",
       "8                                     Visual Journalism, Dinge, die nur online funktionieren  "
      ]
     },
     "execution_count": 8,
     "metadata": {},
     "output_type": "execute_result"
    }
   ],
   "source": [
    "df_c"
   ]
  },
  {
   "cell_type": "markdown",
   "metadata": {},
   "source": [
    "## Prepare File"
   ]
  },
  {
   "cell_type": "markdown",
   "metadata": {},
   "source": [
    "We prepare two sections:\n",
    "- Header (contains the title)\n",
    "- Body (contains the actual content with articles sorted by category)"
   ]
  },
  {
   "cell_type": "markdown",
   "metadata": {},
   "source": [
    "### Header"
   ]
  },
  {
   "cell_type": "code",
   "execution_count": 9,
   "metadata": {},
   "outputs": [],
   "source": [
    "header = \"\"\"# DDJ-Beispiele\n",
    "\n",
    "Zusammengestellt für den MAZ-Kurs \"Datenjournalismus\"\n",
    "\n",
    "\"\"\""
   ]
  },
  {
   "cell_type": "markdown",
   "metadata": {},
   "source": [
    "### Format Rows"
   ]
  },
  {
   "cell_type": "code",
   "execution_count": 10,
   "metadata": {},
   "outputs": [],
   "source": [
    "df['Row'] = \"- **\" + df['Quelle'] + \":** [\" + df['Titel'] + \"](\" + df['Link'] + \") (\" + df['Jahr'].astype(str) + \")\\n\""
   ]
  },
  {
   "cell_type": "markdown",
   "metadata": {},
   "source": [
    "### Loop over Categories, Rows"
   ]
  },
  {
   "cell_type": "code",
   "execution_count": 11,
   "metadata": {},
   "outputs": [],
   "source": [
    "body = \"\"\n",
    "for category in df_c.sort_values('Nr')['Kategorie'].to_list():\n",
    "    body += \"## \" + category + \"\\n\"\n",
    "    body = body + df_c[df_c['Kategorie'] == category]['Beschreibung'].sum() + \"\\n\"\n",
    "    body += df[df['Kategorie'] == category].sort_values(['Jahr', 'Quelle', 'Titel'])['Row'].sum()\n",
    "        "
   ]
  },
  {
   "cell_type": "markdown",
   "metadata": {},
   "source": [
    "## Write to File"
   ]
  },
  {
   "cell_type": "code",
   "execution_count": 12,
   "metadata": {},
   "outputs": [],
   "source": [
    "file_out = \"DDJ-Beispiele.md\""
   ]
  },
  {
   "cell_type": "code",
   "execution_count": 13,
   "metadata": {},
   "outputs": [],
   "source": [
    "with open(file_out, \"w\") as f:\n",
    "    f.write(header)\n",
    "    f.write(body)"
   ]
  },
  {
   "cell_type": "code",
   "execution_count": null,
   "metadata": {},
   "outputs": [],
   "source": []
  },
  {
   "cell_type": "code",
   "execution_count": null,
   "metadata": {},
   "outputs": [],
   "source": []
  },
  {
   "cell_type": "code",
   "execution_count": null,
   "metadata": {},
   "outputs": [],
   "source": []
  },
  {
   "cell_type": "code",
   "execution_count": null,
   "metadata": {},
   "outputs": [],
   "source": []
  },
  {
   "cell_type": "code",
   "execution_count": null,
   "metadata": {},
   "outputs": [],
   "source": []
  },
  {
   "cell_type": "code",
   "execution_count": null,
   "metadata": {},
   "outputs": [],
   "source": []
  }
 ],
 "metadata": {
  "kernelspec": {
   "display_name": "Python 3",
   "language": "python",
   "name": "python3"
  },
  "language_info": {
   "codemirror_mode": {
    "name": "ipython",
    "version": 3
   },
   "file_extension": ".py",
   "mimetype": "text/x-python",
   "name": "python",
   "nbconvert_exporter": "python",
   "pygments_lexer": "ipython3",
   "version": "3.8.2"
  }
 },
 "nbformat": 4,
 "nbformat_minor": 2
}
