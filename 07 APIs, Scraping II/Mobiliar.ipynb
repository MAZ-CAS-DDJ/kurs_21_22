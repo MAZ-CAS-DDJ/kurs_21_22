{
 "cells": [
  {
   "cell_type": "code",
   "execution_count": 3,
   "id": "02f85e64",
   "metadata": {},
   "outputs": [],
   "source": [
    "import requests"
   ]
  },
  {
   "cell_type": "code",
   "execution_count": 4,
   "id": "f275d2b7",
   "metadata": {},
   "outputs": [],
   "source": [
    "numlst = range(1000, 10000)\n",
    "plzlst = []\n",
    "for nummer in numlst:\n",
    "    plzlst.append('https://standortcheck.mobiliar.ch/de/rating/?plz='+str(nummer))"
   ]
  },
  {
   "cell_type": "code",
   "execution_count": null,
   "id": "e1edacd0",
   "metadata": {},
   "outputs": [],
   "source": [
    "requestresults = []\n",
    "for url in plzlst:\n",
    "    r = requests.get(url)\n",
    "    requestresults.append(r)"
   ]
  },
  {
   "cell_type": "code",
   "execution_count": null,
   "id": "02bb7a1a",
   "metadata": {},
   "outputs": [],
   "source": []
  }
 ],
 "metadata": {
  "kernelspec": {
   "display_name": "Python 3",
   "language": "python",
   "name": "python3"
  },
  "language_info": {
   "codemirror_mode": {
    "name": "ipython",
    "version": 3
   },
   "file_extension": ".py",
   "mimetype": "text/x-python",
   "name": "python",
   "nbconvert_exporter": "python",
   "pygments_lexer": "ipython3",
   "version": "3.9.5"
  }
 },
 "nbformat": 4,
 "nbformat_minor": 5
}
