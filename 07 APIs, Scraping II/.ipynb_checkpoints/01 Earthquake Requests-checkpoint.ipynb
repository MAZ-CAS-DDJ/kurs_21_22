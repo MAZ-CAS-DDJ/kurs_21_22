{
 "cells": [
  {
   "cell_type": "markdown",
   "metadata": {},
   "source": [
    "# Arbeit mit der Earthquake API"
   ]
  },
  {
   "cell_type": "markdown",
   "metadata": {},
   "source": [
    "Unsere Imports"
   ]
  },
  {
   "cell_type": "code",
   "execution_count": 1,
   "metadata": {},
   "outputs": [],
   "source": [
    "import requests\n",
    "import pandas as pd"
   ]
  },
  {
   "cell_type": "markdown",
   "metadata": {},
   "source": [
    "1. Unter Verwendung der [USGS.gov Earthquake API](https://earthquake.usgs.gov/fdsnws/event/1/#parameters) ziehe heraus, wieviele Erdbeben sich im August 2020 ereignet haben?"
   ]
  },
  {
   "cell_type": "code",
   "execution_count": 2,
   "metadata": {},
   "outputs": [
    {
     "data": {
      "text/plain": [
       "15388"
      ]
     },
     "execution_count": 2,
     "metadata": {},
     "output_type": "execute_result"
    }
   ],
   "source": [
    "r = requests.get('https://earthquake.usgs.gov/fdsnws/event/1/count?starttime=2020-08-01&endtime=2020-08-31')\n",
    "int(r.text)"
   ]
  },
  {
   "cell_type": "markdown",
   "metadata": {},
   "source": [
    "2. Mache das gleiche für August, 2019, 2018, 2017, 2016, 2015?"
   ]
  },
  {
   "cell_type": "code",
   "execution_count": null,
   "metadata": {},
   "outputs": [],
   "source": [
    "#NICOLAS LöSUNG\n",
    "url = \"https://earthquake.usgs.gov/fdsnws/event/1/count?\"\n",
    "\n",
    "for i in range(2015,2021):\n",
    "    adresse = url + 'starttime=' + str(i) + '-08-01&endtime=' + str(i) + '-08-31'\n",
    "    liste_url.append(adresse)\n",
    "print(liste_url) #attention à ne pas inclure le print dans la boucle!!!\n",
    "\n",
    "dict = {}\n",
    "counter = 2014\n",
    "\n",
    "for l in liste_url:\n",
    "    annee = requests.get(l)\n",
    "    counter += 1\n",
    "    dict[counter] = annee.text\n",
    "    \n",
    "df = pd.DataFrame(dict, index=['Tremblements'])\n",
    "df.transpose()\n"
   ]
  },
  {
   "cell_type": "markdown",
   "metadata": {},
   "source": [
    "3. Zeige nur die Erdbeben an, die in den letzten 5 Jahren eine Mindeststärke von 5,5 hatten? (Neue Parameter kannst Du mit den Zeichen \"&\" ergänzen. Lese Dich in die Dokumentation ein, um noch mehr Parameter kennezulernen)"
   ]
  },
  {
   "cell_type": "code",
   "execution_count": 84,
   "metadata": {},
   "outputs": [],
   "source": [
    "r = requests.get('https://earthquake.usgs.gov/fdsnws/event/1/count?starttime=2015-01-01&endtime=2020-09-28&minmagnitude=5.5')\n",
    "r.text"
   ]
  },
  {
   "cell_type": "markdown",
   "metadata": {},
   "source": [
    "4. Zeige eine Liste der 10 stärksten Erdbeben des laufenden Jahres an. (Nicht vergessen, nun musst Du die Methode wechseln. Nicht mehr \"count\", sondern \"query\")."
   ]
  },
  {
   "cell_type": "code",
   "execution_count": 3,
   "metadata": {},
   "outputs": [],
   "source": [
    "lst = [4, 5.6, 7, 5, 7, 3.4, 2, 1]\n",
    "lst.sort()\n",
    "lst[-3:]"
   ]
  },
  {
   "cell_type": "code",
   "execution_count": 44,
   "metadata": {},
   "outputs": [],
   "source": [
    "r = requests.get('https://earthquake.usgs.gov/fdsnws/event/1/query?format=geojson&starttime=2020-01-01&endtime=2020-09-29&minmagnitude=5.5&orderby=magnitude&limit=100')\n",
    "ebs = r.json()"
   ]
  },
  {
   "cell_type": "code",
   "execution_count": 45,
   "metadata": {},
   "outputs": [
    {
     "data": {
      "text/plain": [
       "dict"
      ]
     },
     "execution_count": 45,
     "metadata": {},
     "output_type": "execute_result"
    }
   ],
   "source": [
    "type(ebs)"
   ]
  },
  {
   "cell_type": "code",
   "execution_count": 46,
   "metadata": {},
   "outputs": [
    {
     "data": {
      "text/plain": [
       "dict_keys(['type', 'metadata', 'features', 'bbox'])"
      ]
     },
     "execution_count": 46,
     "metadata": {},
     "output_type": "execute_result"
    }
   ],
   "source": [
    "ebs.keys()"
   ]
  },
  {
   "cell_type": "code",
   "execution_count": 47,
   "metadata": {},
   "outputs": [
    {
     "data": {
      "text/plain": [
       "list"
      ]
     },
     "execution_count": 47,
     "metadata": {},
     "output_type": "execute_result"
    }
   ],
   "source": [
    "type(ebs['features'])"
   ]
  },
  {
   "cell_type": "code",
   "execution_count": 48,
   "metadata": {},
   "outputs": [
    {
     "data": {
      "text/plain": [
       "100"
      ]
     },
     "execution_count": 48,
     "metadata": {},
     "output_type": "execute_result"
    }
   ],
   "source": [
    "len(ebs['features'])"
   ]
  },
  {
   "cell_type": "code",
   "execution_count": 49,
   "metadata": {},
   "outputs": [
    {
     "data": {
      "text/plain": [
       "dict"
      ]
     },
     "execution_count": 49,
     "metadata": {},
     "output_type": "execute_result"
    }
   ],
   "source": [
    "type(ebs['features'][0])"
   ]
  },
  {
   "cell_type": "code",
   "execution_count": 50,
   "metadata": {},
   "outputs": [
    {
     "data": {
      "text/plain": [
       "dict_keys(['type', 'properties', 'geometry', 'id'])"
      ]
     },
     "execution_count": 50,
     "metadata": {},
     "output_type": "execute_result"
    }
   ],
   "source": [
    "ebs['features'][0].keys()"
   ]
  },
  {
   "cell_type": "code",
   "execution_count": 51,
   "metadata": {},
   "outputs": [
    {
     "data": {
      "text/plain": [
       "dict_keys(['mag', 'place', 'time', 'updated', 'tz', 'url', 'detail', 'felt', 'cdi', 'mmi', 'alert', 'status', 'tsunami', 'sig', 'net', 'code', 'ids', 'sources', 'types', 'nst', 'dmin', 'rms', 'gap', 'magType', 'type', 'title'])"
      ]
     },
     "execution_count": 51,
     "metadata": {},
     "output_type": "execute_result"
    }
   ],
   "source": [
    "ebs['features'][0]['properties'].keys()"
   ]
  },
  {
   "cell_type": "code",
   "execution_count": 52,
   "metadata": {},
   "outputs": [],
   "source": [
    "erdebenenfeatureliste = ebs[\"features\"]"
   ]
  },
  {
   "cell_type": "code",
   "execution_count": 53,
   "metadata": {},
   "outputs": [
    {
     "data": {
      "text/html": [
       "<div>\n",
       "<style scoped>\n",
       "    .dataframe tbody tr th:only-of-type {\n",
       "        vertical-align: middle;\n",
       "    }\n",
       "\n",
       "    .dataframe tbody tr th {\n",
       "        vertical-align: top;\n",
       "    }\n",
       "\n",
       "    .dataframe thead th {\n",
       "        text-align: right;\n",
       "    }\n",
       "</style>\n",
       "<table border=\"1\" class=\"dataframe\">\n",
       "  <thead>\n",
       "    <tr style=\"text-align: right;\">\n",
       "      <th></th>\n",
       "      <th>Time</th>\n",
       "      <th>Magnitude</th>\n",
       "      <th>Place</th>\n",
       "      <th>Coordinates</th>\n",
       "      <th>Long</th>\n",
       "      <th>Lat</th>\n",
       "    </tr>\n",
       "  </thead>\n",
       "  <tbody>\n",
       "    <tr>\n",
       "      <th>0</th>\n",
       "      <td>2020-07-22 06:12:44.719</td>\n",
       "      <td>7.8</td>\n",
       "      <td>100 km SSE of Perryville, Alaska</td>\n",
       "      <td>[-158.5543, 55.0683, 28]</td>\n",
       "      <td>-158.5543</td>\n",
       "      <td>55.0683</td>\n",
       "    </tr>\n",
       "    <tr>\n",
       "      <th>1</th>\n",
       "      <td>2020-01-28 19:10:24.918</td>\n",
       "      <td>7.7</td>\n",
       "      <td>123km NNW of Lucea, Jamaica</td>\n",
       "      <td>[-78.756, 19.4193, 14.86]</td>\n",
       "      <td>-78.7560</td>\n",
       "      <td>19.4193</td>\n",
       "    </tr>\n",
       "    <tr>\n",
       "      <th>2</th>\n",
       "      <td>2020-03-25 02:49:21.160</td>\n",
       "      <td>7.5</td>\n",
       "      <td>221km SSE of Severo-Kuril'sk, Russia</td>\n",
       "      <td>[157.6955, 48.9638, 57.8]</td>\n",
       "      <td>157.6955</td>\n",
       "      <td>48.9638</td>\n",
       "    </tr>\n",
       "    <tr>\n",
       "      <th>3</th>\n",
       "      <td>2020-06-18 12:49:53.844</td>\n",
       "      <td>7.4</td>\n",
       "      <td>south of the Kermadec Islands</td>\n",
       "      <td>[-177.8571, -33.2927, 10]</td>\n",
       "      <td>-177.8571</td>\n",
       "      <td>-33.2927</td>\n",
       "    </tr>\n",
       "    <tr>\n",
       "      <th>4</th>\n",
       "      <td>2020-06-23 15:29:04.350</td>\n",
       "      <td>7.4</td>\n",
       "      <td>9 km SE of Santa María Xadani, Mexico</td>\n",
       "      <td>[-96.0077, 15.8861, 20]</td>\n",
       "      <td>-96.0077</td>\n",
       "      <td>15.8861</td>\n",
       "    </tr>\n",
       "    <tr>\n",
       "      <th>...</th>\n",
       "      <td>...</td>\n",
       "      <td>...</td>\n",
       "      <td>...</td>\n",
       "      <td>...</td>\n",
       "      <td>...</td>\n",
       "      <td>...</td>\n",
       "    </tr>\n",
       "    <tr>\n",
       "      <th>95</th>\n",
       "      <td>2020-08-25 19:02:58.428</td>\n",
       "      <td>6.0</td>\n",
       "      <td>141 km SSW of Kokopo, Papua New Guinea</td>\n",
       "      <td>[151.8642, -5.5603, 23]</td>\n",
       "      <td>151.8642</td>\n",
       "      <td>-5.5603</td>\n",
       "    </tr>\n",
       "    <tr>\n",
       "      <th>96</th>\n",
       "      <td>2020-09-07 06:12:40.093</td>\n",
       "      <td>6.0</td>\n",
       "      <td>73 km NNE of Port-Vila, Vanuatu</td>\n",
       "      <td>[168.476, -17.0893, 10]</td>\n",
       "      <td>168.4760</td>\n",
       "      <td>-17.0893</td>\n",
       "    </tr>\n",
       "    <tr>\n",
       "      <th>97</th>\n",
       "      <td>2020-09-15 04:12:16.407</td>\n",
       "      <td>6.0</td>\n",
       "      <td>160 km NNE of Labasa, Fiji</td>\n",
       "      <td>[179.9438, -15.093, 10]</td>\n",
       "      <td>179.9438</td>\n",
       "      <td>-15.0930</td>\n",
       "    </tr>\n",
       "    <tr>\n",
       "      <th>98</th>\n",
       "      <td>2020-01-05 04:40:49.332</td>\n",
       "      <td>5.9</td>\n",
       "      <td>4km N of Ixhuatan, Mexico</td>\n",
       "      <td>[-94.489, 16.4011, 87]</td>\n",
       "      <td>-94.4890</td>\n",
       "      <td>16.4011</td>\n",
       "    </tr>\n",
       "    <tr>\n",
       "      <th>99</th>\n",
       "      <td>2020-01-11 12:54:45.910</td>\n",
       "      <td>5.9</td>\n",
       "      <td>10km SSE of Indios, Puerto Rico</td>\n",
       "      <td>[-66.8508, 17.949, 5]</td>\n",
       "      <td>-66.8508</td>\n",
       "      <td>17.9490</td>\n",
       "    </tr>\n",
       "  </tbody>\n",
       "</table>\n",
       "<p>100 rows × 6 columns</p>\n",
       "</div>"
      ],
      "text/plain": [
       "                      Time  Magnitude                                   Place  \\\n",
       "0  2020-07-22 06:12:44.719        7.8        100 km SSE of Perryville, Alaska   \n",
       "1  2020-01-28 19:10:24.918        7.7             123km NNW of Lucea, Jamaica   \n",
       "2  2020-03-25 02:49:21.160        7.5    221km SSE of Severo-Kuril'sk, Russia   \n",
       "3  2020-06-18 12:49:53.844        7.4           south of the Kermadec Islands   \n",
       "4  2020-06-23 15:29:04.350        7.4   9 km SE of Santa María Xadani, Mexico   \n",
       "..                     ...        ...                                     ...   \n",
       "95 2020-08-25 19:02:58.428        6.0  141 km SSW of Kokopo, Papua New Guinea   \n",
       "96 2020-09-07 06:12:40.093        6.0         73 km NNE of Port-Vila, Vanuatu   \n",
       "97 2020-09-15 04:12:16.407        6.0              160 km NNE of Labasa, Fiji   \n",
       "98 2020-01-05 04:40:49.332        5.9               4km N of Ixhuatan, Mexico   \n",
       "99 2020-01-11 12:54:45.910        5.9         10km SSE of Indios, Puerto Rico   \n",
       "\n",
       "                  Coordinates      Long      Lat  \n",
       "0    [-158.5543, 55.0683, 28] -158.5543  55.0683  \n",
       "1   [-78.756, 19.4193, 14.86]  -78.7560  19.4193  \n",
       "2   [157.6955, 48.9638, 57.8]  157.6955  48.9638  \n",
       "3   [-177.8571, -33.2927, 10] -177.8571 -33.2927  \n",
       "4     [-96.0077, 15.8861, 20]  -96.0077  15.8861  \n",
       "..                        ...       ...      ...  \n",
       "95    [151.8642, -5.5603, 23]  151.8642  -5.5603  \n",
       "96    [168.476, -17.0893, 10]  168.4760 -17.0893  \n",
       "97    [179.9438, -15.093, 10]  179.9438 -15.0930  \n",
       "98     [-94.489, 16.4011, 87]  -94.4890  16.4011  \n",
       "99      [-66.8508, 17.949, 5]  -66.8508  17.9490  \n",
       "\n",
       "[100 rows x 6 columns]"
      ]
     },
     "execution_count": 53,
     "metadata": {},
     "output_type": "execute_result"
    }
   ],
   "source": [
    "#HELGAS LÖSUNG\n",
    "erdbeben2020 = []\n",
    "for quake in erdebenenfeatureliste:\n",
    "    t = quake[\"properties\"]['time']\n",
    "    t_conv = pd.to_datetime(t, unit='ms')\n",
    "    m = quake[\"properties\"]['mag']\n",
    "    p = quake[\"properties\"]['place']\n",
    "    c = quake[\"geometry\"]['coordinates']\n",
    "    lon = quake[\"geometry\"]['coordinates'][0]\n",
    "    lat = quake[\"geometry\"]['coordinates'][1]\n",
    "    \n",
    "    mini_dict = {\n",
    "        \"Time\" : t_conv,\n",
    "        \"Magnitude\" : m,\n",
    "        \"Place\" : p,\n",
    "        \"Coordinates\" : c,\n",
    "        \"Long\" : lon,\n",
    "        \"Lat\" : lat\n",
    "    }\n",
    "    \n",
    "    erdbeben2020.append(mini_dict)\n",
    "    \n",
    "pd.DataFrame(erdbeben2020)"
   ]
  },
  {
   "cell_type": "code",
   "execution_count": 55,
   "metadata": {},
   "outputs": [],
   "source": [
    "df = pd.DataFrame(erdbeben2020)\n",
    "df.to_csv(\"100starkeerdbeben2020.csv\")"
   ]
  },
  {
   "cell_type": "code",
   "execution_count": 54,
   "metadata": {},
   "outputs": [
    {
     "data": {
      "text/html": [
       "<div>\n",
       "<style scoped>\n",
       "    .dataframe tbody tr th:only-of-type {\n",
       "        vertical-align: middle;\n",
       "    }\n",
       "\n",
       "    .dataframe tbody tr th {\n",
       "        vertical-align: top;\n",
       "    }\n",
       "\n",
       "    .dataframe thead th {\n",
       "        text-align: right;\n",
       "    }\n",
       "</style>\n",
       "<table border=\"1\" class=\"dataframe\">\n",
       "  <thead>\n",
       "    <tr style=\"text-align: right;\">\n",
       "      <th></th>\n",
       "      <th>Header1</th>\n",
       "      <th>Header2</th>\n",
       "      <th>Header3</th>\n",
       "    </tr>\n",
       "  </thead>\n",
       "  <tbody>\n",
       "    <tr>\n",
       "      <th>0</th>\n",
       "      <td>34234</td>\n",
       "      <td>12312313</td>\n",
       "      <td>1312321</td>\n",
       "    </tr>\n",
       "    <tr>\n",
       "      <th>1</th>\n",
       "      <td>423432</td>\n",
       "      <td>1223432</td>\n",
       "      <td>99090</td>\n",
       "    </tr>\n",
       "    <tr>\n",
       "      <th>2</th>\n",
       "      <td>345435</td>\n",
       "      <td>678768</td>\n",
       "      <td>23232</td>\n",
       "    </tr>\n",
       "  </tbody>\n",
       "</table>\n",
       "</div>"
      ],
      "text/plain": [
       "   Header1   Header2  Header3\n",
       "0    34234  12312313  1312321\n",
       "1   423432   1223432    99090\n",
       "2   345435    678768    23232"
      ]
     },
     "execution_count": 54,
     "metadata": {},
     "output_type": "execute_result"
    }
   ],
   "source": [
    "#STUKTUR EINER DICTIONARY UND ERSTELLUNG EINES SPREADSHEETS (ODER DATAFRAMES)\n",
    "pd.DataFrame([{'Header1': 34234, 'Header2': 12312313, 'Header3': 1312321},\n",
    "             {'Header1': 423432, 'Header2': 1223432, 'Header3': 99090},\n",
    "             {'Header1': 345435, 'Header2': 678768, 'Header3': 23232}])"
   ]
  },
  {
   "cell_type": "markdown",
   "metadata": {},
   "source": [
    "5. Wo haben sich diese Erdbeben ereignet?"
   ]
  },
  {
   "cell_type": "markdown",
   "metadata": {},
   "source": [
    "6. Ziehe auch die Zeit mit heraus?"
   ]
  },
  {
   "cell_type": "markdown",
   "metadata": {},
   "source": [
    "7. Konvertiere die Unix Zeit zu leserlichen Zeit? (Suche nicht zu lange, schau mal an, wies im Pandas aussieht.)"
   ]
  },
  {
   "cell_type": "markdown",
   "metadata": {},
   "source": [
    "8. Hole die 100 stärksten Erdbeben und plotte sie auf Datawrapper oder Google"
   ]
  },
  {
   "cell_type": "markdown",
   "metadata": {},
   "source": [
    "9. Bilde Funktionen "
   ]
  }
 ],
 "metadata": {
  "kernelspec": {
   "display_name": "Python 3",
   "language": "python",
   "name": "python3"
  },
  "language_info": {
   "codemirror_mode": {
    "name": "ipython",
    "version": 3
   },
   "file_extension": ".py",
   "mimetype": "text/x-python",
   "name": "python",
   "nbconvert_exporter": "python",
   "pygments_lexer": "ipython3",
   "version": "3.9.5"
  }
 },
 "nbformat": 4,
 "nbformat_minor": 2
}
