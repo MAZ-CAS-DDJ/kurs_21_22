{
 "cells": [
  {
   "cell_type": "code",
   "execution_count": 4,
   "metadata": {},
   "outputs": [],
   "source": [
    "import requests\n",
    "from bs4 import BeautifulSoup\n",
    "import time\n",
    "from tqdm import tqdm #https://anaconda.org/conda-forge/tqdm"
   ]
  },
  {
   "cell_type": "markdown",
   "metadata": {},
   "source": [
    "Looking up the amount of pages to visit"
   ]
  },
  {
   "cell_type": "code",
   "execution_count": 6,
   "metadata": {},
   "outputs": [
    {
     "data": {
      "text/plain": [
       "1736"
      ]
     },
     "execution_count": 6,
     "metadata": {},
     "output_type": "execute_result"
    }
   ],
   "source": [
    "r = requests.get('https://www.phishtank.com/user_submissions.php?page=1&username=GovCERTCH')\n",
    "html = BeautifulSoup(r.text, 'html.parser')\n",
    "total = int(html.find('h2').text.split(\"(\")[-1].split(\" \")[0].replace(\",\",\"\"))\n",
    "total = round(total / 20)#Finding total number of messages from Cert\n",
    "total"
   ]
  },
  {
   "cell_type": "markdown",
   "metadata": {},
   "source": [
    "Visit each page and save off the html pages"
   ]
  },
  {
   "cell_type": "code",
   "execution_count": 7,
   "metadata": {
    "scrolled": true
   },
   "outputs": [
    {
     "name": "stderr",
     "output_type": "stream",
     "text": [
      "100%|██████████| 1735/1735 [13:43<00:00,  2.11it/s] \n"
     ]
    }
   ],
   "source": [
    "#Visiting all the GovCERTCH mentions and saving them in to html\n",
    "urlstart = 'https://www.phishtank.com/user_submissions.php?page='\n",
    "urlend = '&username=GovCERTCH'\n",
    "for elem in tqdm(range(1,total)):\n",
    "    time.sleep(.2)\n",
    "    url = urlstart + str(elem) + urlend\n",
    "    #print(url)\n",
    "    #r ist my \n",
    "    r = requests.get(url)\n",
    "    html = BeautifulSoup(r.text, 'html.parser')\n",
    "    \n",
    "    try:\n",
    "        with open(\"html/\"+str(elem)+\".htm\", \"w\") as file:\n",
    "            file.write(str(html))\n",
    "            file.close()\n",
    "    except:\n",
    "        print(elem)\n"
   ]
  },
  {
   "cell_type": "code",
   "execution_count": null,
   "metadata": {},
   "outputs": [],
   "source": []
  }
 ],
 "metadata": {
  "kernelspec": {
   "display_name": "Python 3",
   "language": "python",
   "name": "python3"
  },
  "language_info": {
   "codemirror_mode": {
    "name": "ipython",
    "version": 3
   },
   "file_extension": ".py",
   "mimetype": "text/x-python",
   "name": "python",
   "nbconvert_exporter": "python",
   "pygments_lexer": "ipython3",
   "version": "3.9.5"
  }
 },
 "nbformat": 4,
 "nbformat_minor": 2
}
