{
 "cells": [
  {
   "cell_type": "code",
   "execution_count": 3,
   "metadata": {},
   "outputs": [],
   "source": [
    "import requests\n",
    "import pandas as pd\n",
    "from bs4 import BeautifulSoup"
   ]
  },
  {
   "cell_type": "code",
   "execution_count": 4,
   "metadata": {},
   "outputs": [],
   "source": [
    "r = requests.get(\"https://www.20min.ch\")\n",
    "contents = r.text\n",
    "soup = BeautifulSoup(contents, \"html.parser\")\n",
    "\n",
    "titles = soup.find_all(\"h1\")\n",
    "headers = soup.find_all(\"h2\")\n",
    "likes = soup.find_all('button', {\"class\":\"TeaserAction_ratings__HzMwf\"})"
   ]
  },
  {
   "cell_type": "code",
   "execution_count": 5,
   "metadata": {},
   "outputs": [
    {
     "data": {
      "text/plain": [
       "143"
      ]
     },
     "execution_count": 5,
     "metadata": {},
     "output_type": "execute_result"
    }
   ],
   "source": [
    "len(titles )"
   ]
  },
  {
   "cell_type": "code",
   "execution_count": 6,
   "metadata": {},
   "outputs": [
    {
     "data": {
      "text/plain": [
       "118"
      ]
     },
     "execution_count": 6,
     "metadata": {},
     "output_type": "execute_result"
    }
   ],
   "source": [
    "len(headers)"
   ]
  },
  {
   "cell_type": "code",
   "execution_count": 7,
   "metadata": {},
   "outputs": [
    {
     "data": {
      "text/plain": [
       "111"
      ]
     },
     "execution_count": 7,
     "metadata": {},
     "output_type": "execute_result"
    }
   ],
   "source": [
    "len(likes)"
   ]
  },
  {
   "cell_type": "code",
   "execution_count": null,
   "metadata": {},
   "outputs": [],
   "source": [
    "likes_lst = []\n",
    "for title, header, like in zip(titles, headers, likes):\n",
    "    mini_dict = {'Title':title.text,\n",
    "                 \"Header\": header.text,\n",
    "                 'Likes':like.text}\n",
    "    likes_lst.append(mini_dict)\n",
    "pd.DataFrame(likes_lst).head()\n",
    "df = pd.DataFrame(likes_lst).head()\n",
    "clean_likes = df[\"Likes\"].str.replace(\"Like\",\"\")\n",
    "likes_lst2 = []\n",
    "for title, header, like in zip(titles, headers, clean_likes):\n",
    "    mini_dict2 = {'Title':title.text,\n",
    "                 \"Header\":header.text,\n",
    "                 'Likes':like}\n",
    "    likes_lst2.append(mini_dict2)\n",
    "pd.DataFrame(likes_lst2).head()"
   ]
  }
 ],
 "metadata": {
  "kernelspec": {
   "display_name": "Python 3",
   "language": "python",
   "name": "python3"
  },
  "language_info": {
   "codemirror_mode": {
    "name": "ipython",
    "version": 3
   },
   "file_extension": ".py",
   "mimetype": "text/x-python",
   "name": "python",
   "nbconvert_exporter": "python",
   "pygments_lexer": "ipython3",
   "version": "3.7.3"
  }
 },
 "nbformat": 4,
 "nbformat_minor": 4
}
