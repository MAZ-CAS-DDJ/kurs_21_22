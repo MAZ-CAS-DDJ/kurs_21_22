{
 "cells": [
  {
   "cell_type": "markdown",
   "metadata": {},
   "source": [
    "# Übung4 - Website scrapen mit BeautifulSoup"
   ]
  },
  {
   "cell_type": "markdown",
   "metadata": {},
   "source": [
    "#### 1. Wählt eine Website aus, die ihr gerne analysieren wollt. Im eben angeschauten Beispiel, der Watson News-Website, ging es darum, systematisch zu erfassen wieviele Kommentare die Artikel bekommen."
   ]
  },
  {
   "cell_type": "markdown",
   "metadata": {},
   "source": [
    "www.20min.ch"
   ]
  },
  {
   "cell_type": "markdown",
   "metadata": {},
   "source": [
    "#### 2. Was ist das erwünschte Resultat?"
   ]
  },
  {
   "cell_type": "markdown",
   "metadata": {},
   "source": [
    "Anzahl Likes oder Dislikes für die einzelnen Artikel"
   ]
  },
  {
   "cell_type": "markdown",
   "metadata": {},
   "source": [
    "#### 3. Zeichnet in Worten auf, welche Schritte ihr unternehmen müsst, um dieses Resultat zu erzielen? Schritt für Schritt."
   ]
  },
  {
   "cell_type": "markdown",
   "metadata": {},
   "source": [
    "1. Wir laden die Frontpage\n",
    "2. Wir ziehen alle Titel raus\n",
    "3. Wir ziehen alle Likes/Dislikes raus \n",
    "4. Wir bauen eine Try/Exept Schleife "
   ]
  },
  {
   "cell_type": "markdown",
   "metadata": {},
   "source": [
    "#### 4. Welche Python-Module brauchst Du? Importiere sie."
   ]
  },
  {
   "cell_type": "code",
   "execution_count": 1,
   "metadata": {},
   "outputs": [],
   "source": [
    "import requests\n",
    "import pandas as pd\n",
    "from bs4 import BeautifulSoup"
   ]
  },
  {
   "cell_type": "markdown",
   "metadata": {},
   "source": [
    "#### 5. Bevor Du loslegst und den Code entwickelst, schauen wir uns das Mini-Projekt gemeinsam an."
   ]
  },
  {
   "cell_type": "code",
   "execution_count": 2,
   "metadata": {},
   "outputs": [],
   "source": [
    "r = requests.get('https://www.20min.ch')\n",
    "contents = r.text #Wir lesen den Inhalt aus\n",
    "soup = BeautifulSoup(contents,\"html.parser\")"
   ]
  },
  {
   "cell_type": "code",
   "execution_count": 3,
   "metadata": {},
   "outputs": [],
   "source": [
    "titel_liste = soup.find_all('h1', {'class':'TeaserContentHeader_title__2hTcO'}) "
   ]
  },
  {
   "cell_type": "code",
   "execution_count": 6,
   "metadata": {},
   "outputs": [
    {
     "data": {
      "text/plain": [
       "120"
      ]
     },
     "execution_count": 6,
     "metadata": {},
     "output_type": "execute_result"
    }
   ],
   "source": [
    "len(titel_liste)"
   ]
  },
  {
   "cell_type": "code",
   "execution_count": 7,
   "metadata": {},
   "outputs": [],
   "source": [
    "likes_dislikes = soup.find_all('button', {'class':'TeaserAction_ratings__HzMwf TeaserAction_icon__19hLo'}) "
   ]
  },
  {
   "cell_type": "code",
   "execution_count": 9,
   "metadata": {},
   "outputs": [
    {
     "data": {
      "text/plain": [
       "111"
      ]
     },
     "execution_count": 9,
     "metadata": {},
     "output_type": "execute_result"
    }
   ],
   "source": [
    "len(likes_dislikes)"
   ]
  },
  {
   "cell_type": "code",
   "execution_count": 11,
   "metadata": {},
   "outputs": [],
   "source": [
    "articles = soup.find_all('section', {'class':'TeaserContent_content__3BpSe'})"
   ]
  },
  {
   "cell_type": "code",
   "execution_count": 20,
   "metadata": {},
   "outputs": [
    {
     "data": {
      "text/plain": [
       "'BAG sagt der Ghettofaust den Kampf an'"
      ]
     },
     "execution_count": 20,
     "metadata": {},
     "output_type": "execute_result"
    }
   ],
   "source": [
    "articles[3].find('h1').text"
   ]
  },
  {
   "cell_type": "code",
   "execution_count": 35,
   "metadata": {},
   "outputs": [
    {
     "data": {
      "text/plain": [
       "1269"
      ]
     },
     "execution_count": 35,
     "metadata": {},
     "output_type": "execute_result"
    }
   ],
   "source": [
    "int(articles[0].find('button', {'class':'TeaserAction_ratings__HzMwf'}).text.replace('Like',''))"
   ]
  },
  {
   "cell_type": "code",
   "execution_count": null,
   "metadata": {},
   "outputs": [],
   "source": []
  },
  {
   "cell_type": "code",
   "execution_count": 46,
   "metadata": {},
   "outputs": [],
   "source": [
    "likeliste = []\n",
    "\n",
    "for element in articles:\n",
    "    \n",
    "    titel = element.find('h1').text\n",
    "    \n",
    "    try:\n",
    "        likes = int(element.find('button', {'class':'TeaserAction_ratings__HzMwf'}).text.replace('Like',''))\n",
    "    except:\n",
    "        likes = 0\n",
    "    \n",
    "    \n",
    "    minidict = {'Titel':titel,\n",
    "                'Likes':likes}\n",
    "    \n",
    "    likeliste.append(minidict)\n"
   ]
  },
  {
   "cell_type": "code",
   "execution_count": 47,
   "metadata": {},
   "outputs": [],
   "source": [
    "df = pd.DataFrame(likeliste)"
   ]
  },
  {
   "cell_type": "code",
   "execution_count": 50,
   "metadata": {},
   "outputs": [
    {
     "data": {
      "text/html": [
       "<div>\n",
       "<style scoped>\n",
       "    .dataframe tbody tr th:only-of-type {\n",
       "        vertical-align: middle;\n",
       "    }\n",
       "\n",
       "    .dataframe tbody tr th {\n",
       "        vertical-align: top;\n",
       "    }\n",
       "\n",
       "    .dataframe thead th {\n",
       "        text-align: right;\n",
       "    }\n",
       "</style>\n",
       "<table border=\"1\" class=\"dataframe\">\n",
       "  <thead>\n",
       "    <tr style=\"text-align: right;\">\n",
       "      <th></th>\n",
       "      <th>Titel</th>\n",
       "      <th>Likes</th>\n",
       "    </tr>\n",
       "  </thead>\n",
       "  <tbody>\n",
       "    <tr>\n",
       "      <th>77</th>\n",
       "      <td>Der «Game of Thrones»-Riese ist Vater geworden</td>\n",
       "      <td>38801</td>\n",
       "    </tr>\n",
       "    <tr>\n",
       "      <th>38</th>\n",
       "      <td>Schweizer Rekordhalterin Nicole Büchler tritt ...</td>\n",
       "      <td>14180</td>\n",
       "    </tr>\n",
       "    <tr>\n",
       "      <th>35</th>\n",
       "      <td>Lastwagen schiebt Auto nach Crash 150 Meter vo...</td>\n",
       "      <td>13174</td>\n",
       "    </tr>\n",
       "    <tr>\n",
       "      <th>68</th>\n",
       "      <td>«Es sieht gerade wirklich, wirklich gut aus»</td>\n",
       "      <td>11873</td>\n",
       "    </tr>\n",
       "    <tr>\n",
       "      <th>45</th>\n",
       "      <td>1 Bild sagt mehr als 1000 Worte</td>\n",
       "      <td>7004</td>\n",
       "    </tr>\n",
       "    <tr>\n",
       "      <th>...</th>\n",
       "      <td>...</td>\n",
       "      <td>...</td>\n",
       "    </tr>\n",
       "    <tr>\n",
       "      <th>106</th>\n",
       "      <td>«Taste &amp; Learn Advanced» - der neue Weinkurs</td>\n",
       "      <td>0</td>\n",
       "    </tr>\n",
       "    <tr>\n",
       "      <th>37</th>\n",
       "      <td>Polizei sucht nach Drogen und findet Geige aus...</td>\n",
       "      <td>0</td>\n",
       "    </tr>\n",
       "    <tr>\n",
       "      <th>51</th>\n",
       "      <td>Wasserkraft und die Regulierung des Zürichsees</td>\n",
       "      <td>0</td>\n",
       "    </tr>\n",
       "    <tr>\n",
       "      <th>62</th>\n",
       "      <td>Swatch kämpft gegen Cyber-Angriff</td>\n",
       "      <td>0</td>\n",
       "    </tr>\n",
       "    <tr>\n",
       "      <th>119</th>\n",
       "      <td>Ein Jahr Chicken essen für dein Geheimnis</td>\n",
       "      <td>0</td>\n",
       "    </tr>\n",
       "  </tbody>\n",
       "</table>\n",
       "<p>120 rows × 2 columns</p>\n",
       "</div>"
      ],
      "text/plain": [
       "                                                 Titel  Likes\n",
       "77      Der «Game of Thrones»-Riese ist Vater geworden  38801\n",
       "38   Schweizer Rekordhalterin Nicole Büchler tritt ...  14180\n",
       "35   Lastwagen schiebt Auto nach Crash 150 Meter vo...  13174\n",
       "68        «Es sieht gerade wirklich, wirklich gut aus»  11873\n",
       "45                     1 Bild sagt mehr als 1000 Worte   7004\n",
       "..                                                 ...    ...\n",
       "106       «Taste & Learn Advanced» - der neue Weinkurs      0\n",
       "37   Polizei sucht nach Drogen und findet Geige aus...      0\n",
       "51      Wasserkraft und die Regulierung des Zürichsees      0\n",
       "62                   Swatch kämpft gegen Cyber-Angriff      0\n",
       "119          Ein Jahr Chicken essen für dein Geheimnis      0\n",
       "\n",
       "[120 rows x 2 columns]"
      ]
     },
     "execution_count": 50,
     "metadata": {},
     "output_type": "execute_result"
    }
   ],
   "source": [
    "df.sort_values(by='Likes', ascending=False)"
   ]
  },
  {
   "cell_type": "code",
   "execution_count": 51,
   "metadata": {},
   "outputs": [],
   "source": [
    "#Bauen wir die eigene Liste\n",
    "lst = []\n",
    "for likes,titel in zip(likes_dislikes,titel_liste):\n",
    "    \n",
    "    mini_dict = {'likes_text':likes.text,\n",
    "                 'titel_text':titel.text}\n",
    "    \n",
    "    lst.append(mini_dict)"
   ]
  },
  {
   "cell_type": "code",
   "execution_count": 15,
   "metadata": {},
   "outputs": [
    {
     "data": {
      "text/plain": [
       "[{'likes_text': 'Like681',\n",
       "  'titel_text': 'Die Antonow ist zum letzten Mal in Emmen gelandet'},\n",
       " {'likes_text': 'Like3355',\n",
       "  'titel_text': 'BAG sagt der Ghettofaust den Kampf an'},\n",
       " {'likes_text': 'Like375',\n",
       "  'titel_text': '700 Mio. Infizierte? Ausmass der Corona-Pandemie grösser als angenommen'},\n",
       " {'likes_text': 'Like328',\n",
       "  'titel_text': 'Wer glaubt noch an den EU-Rahmenvertrag?'},\n",
       " {'likes_text': 'Like90',\n",
       "  'titel_text': 'Wie reich bist du eigentlich, DJ Antoine?'},\n",
       " {'likes_text': 'Like474',\n",
       "  'titel_text': 'Polizei nimmt Trumps Ex-Wahlkampfchef fest'},\n",
       " {'likes_text': 'Like5',\n",
       "  'titel_text': 'Dein Bild sagt mehr als 1000 Worte – zeig es uns '},\n",
       " {'likes_text': 'Like1050',\n",
       "  'titel_text': 'Wie kann man sich trotz Fäustchen-Verbot noch begrüssen?'},\n",
       " {'likes_text': 'Like6447',\n",
       "  'titel_text': 'Forscher entdecken neues Symptom für Covid-19'},\n",
       " {'likes_text': 'Like2633',\n",
       "  'titel_text': 'Kann der Chef den Vaterschaftsurlaub ablehnen?'},\n",
       " {'likes_text': 'Like390',\n",
       "  'titel_text': '«Werde das Velo bis zu meinem Lebensende suchen»'},\n",
       " {'likes_text': 'Like305',\n",
       "  'titel_text': 'Weltweite Störung bei Outlook und Teams'},\n",
       " {'likes_text': 'Like6639',\n",
       "  'titel_text': '«Wir können Migranten immer noch erschiessen – oder vergasen»'},\n",
       " {'likes_text': 'Like90',\n",
       "  'titel_text': 'Wie reich bist du eigentlich, DJ Antoine?'},\n",
       " {'likes_text': 'Like100',\n",
       "  'titel_text': '«Kleine Babys sind keine Maschinen»'},\n",
       " {'likes_text': 'Like171', 'titel_text': 'Russland tickt einfach anders'},\n",
       " {'likes_text': 'Like125',\n",
       "  'titel_text': 'Diese Geräusche macht ein einmonatiges Panda-Baby'},\n",
       " {'likes_text': 'Like3608',\n",
       "  'titel_text': 'Juso singen Spottlied vor SVP-Lokal'},\n",
       " {'likes_text': 'Like37', 'titel_text': 'Giraffe erhält Pediküre'},\n",
       " {'likes_text': 'Like211',\n",
       "  'titel_text': 'Gruppe filmt rauchenden Krebs am Strand'},\n",
       " {'likes_text': 'Like158',\n",
       "  'titel_text': 'Ginsburgs persönlicher Trainer macht Liegestütze vor dem Sarg'},\n",
       " {'likes_text': 'Like158', 'titel_text': 'Sie trifft gleich zwei Bälle'},\n",
       " {'likes_text': 'Like143',\n",
       "  'titel_text': 'Hat die Schweiz bald einen Kennedy in der Politik?'},\n",
       " {'likes_text': 'Like81',\n",
       "  'titel_text': 'Diese Schneebilder bringen dich zum Träumen'},\n",
       " {'likes_text': 'Like82',\n",
       "  'titel_text': 'Waghalsige Stunts in der 30’000-Franken-Anlage'},\n",
       " {'likes_text': 'Like364',\n",
       "  'titel_text': 'Hier laufen 100 Yaks nach Andermatt'},\n",
       " {'likes_text': 'Like88',\n",
       "  'titel_text': ' Riesenratte entpuppt sich als Halloween-Deko'},\n",
       " {'likes_text': 'Like312',\n",
       "  'titel_text': 'Trump erweist Richterin Ginsburg die letzte Ehre und wird ausgebuht'},\n",
       " {'likes_text': 'Like81', 'titel_text': 'Bei euren Videos kommt die Polizei'},\n",
       " {'likes_text': 'Like195',\n",
       "  'titel_text': 'Polizist schiebt Velo über den Kopf eines Demonstranten'},\n",
       " {'likes_text': 'Like16',\n",
       "  'titel_text': '«Identität des Mannes ist noch nicht geklärt»'},\n",
       " {'likes_text': 'Like185',\n",
       "  'titel_text': 'Lastwagen müssen in diesem Kreisel teils rückwärts fahren'},\n",
       " {'likes_text': 'Like101476',\n",
       "  'titel_text': 'Nez Rouge fährt im Aargau wegen Corona in diesem Jahr nicht'},\n",
       " {'likes_text': 'Like22',\n",
       "  'titel_text': 'Masken auf der Strafbank – und keine Partys für die Spieler'},\n",
       " {'likes_text': 'Like1192',\n",
       "  'titel_text': 'Eine Million Menschen sind an Covid-19 gestorben'},\n",
       " {'likes_text': 'Like811',\n",
       "  'titel_text': 'Hier sausen bereits die ersten Ski-Verrückten die Piste runter'},\n",
       " {'likes_text': 'Like1403',\n",
       "  'titel_text': '«Den Fundort sage ich nicht, ich will keinen Schatz-Hype auslösen»'},\n",
       " {'likes_text': 'Like985',\n",
       "  'titel_text': 'Donald Trumps Finanzen sind «Frage der nationalen Sicherheit»'},\n",
       " {'likes_text': 'Like759',\n",
       "  'titel_text': '«Am Grendel wurde viel Schlüsselgeld bezahlt»  '},\n",
       " {'likes_text': 'Like175',\n",
       "  'titel_text': 'Medwedew als erster Topgesetzter out — weiterer Corona-Fall'},\n",
       " {'likes_text': 'Like100',\n",
       "  'titel_text': '«Kleine Babys sind keine Maschinen»'},\n",
       " {'likes_text': 'Like171', 'titel_text': 'Russland tickt einfach anders'},\n",
       " {'likes_text': 'Like125',\n",
       "  'titel_text': 'Diese Geräusche macht ein einmonatiges Panda-Baby'},\n",
       " {'likes_text': 'Like3608',\n",
       "  'titel_text': 'Juso singen Spottlied vor SVP-Lokal'},\n",
       " {'likes_text': 'Like6993', 'titel_text': '1 Bild sagt mehr als 1000 Worte'},\n",
       " {'likes_text': 'Like163',\n",
       "  'titel_text': 'Beizen können bis Ende 2021 grosszügig rausstuhlen'},\n",
       " {'likes_text': 'Like1189',\n",
       "  'titel_text': '85 Klima-Aktivisten nach Demo angezeigt'},\n",
       " {'likes_text': 'Like1035',\n",
       "  'titel_text': 'Filet-Diebe klauen 124 Kilo Fleisch für 9000 Franken'},\n",
       " {'likes_text': 'Like1328',\n",
       "  'titel_text': '5 Fakten rund um das Herbstgemüse Kürbis'},\n",
       " {'likes_text': 'Like1000',\n",
       "  'titel_text': 'Das gilt es auf Flohmärkten zu beachten'},\n",
       " {'likes_text': 'Like3444',\n",
       "  'titel_text': 'Wasserkraft und die Regulierung des Zürichsees'},\n",
       " {'likes_text': 'Like276',\n",
       "  'titel_text': 'Hier lauern im Haushalt Stromfresser'},\n",
       " {'likes_text': 'Like732',\n",
       "  'titel_text': '185 Mitarbeiter werden mit Corona-Prämie belohnt'},\n",
       " {'likes_text': 'Like172',\n",
       "  'titel_text': 'Diskriminierung und vulgäre Sprache – Studenten kritisieren HSG'},\n",
       " {'likes_text': 'Like214',\n",
       "  'titel_text': 'Reklamationen wegen illegaler Abfallentsorgung häufen sich'},\n",
       " {'likes_text': 'Like153', 'titel_text': 'So geniesst ihr euer Leben'},\n",
       " {'likes_text': 'Like612',\n",
       "  'titel_text': 'Eine dieser Nachrichten könnte für dich sein!'},\n",
       " {'likes_text': 'Like19',\n",
       "  'titel_text': 'Wie geniesst du dein Leben trotz Corona? '},\n",
       " {'likes_text': 'Like1635',\n",
       "  'titel_text': 'Mehrere Tote bei Geiselnahme in Salem'},\n",
       " {'likes_text': 'Like54', 'titel_text': 'Die Bilder des Tages'},\n",
       " {'likes_text': 'Like2329',\n",
       "  'titel_text': 'US-Regierung baut Corona-Testkapazität deutlich aus'},\n",
       " {'likes_text': 'Like308',\n",
       "  'titel_text': 'Gefährdet Rahmenabkommen die Schweizer Kantonalbanken?'},\n",
       " {'likes_text': 'Like1273',\n",
       "  'titel_text': 'Älteren Arbeitnehmern wird weniger oft gekündigt als jüngeren'},\n",
       " {'likes_text': 'Like256',\n",
       "  'titel_text': 'UBS erhöht Vaterschaftsurlaub auf 4 Wochen'},\n",
       " {'likes_text': 'Like783',\n",
       "  'titel_text': 'Wirtschaft hat weniger unter Coronakrise gelitten als befürchtet'},\n",
       " {'likes_text': 'Like2450',\n",
       "  'titel_text': 'Müssen für Corona-Impfstoffe 500’000 Haie sterben?'},\n",
       " {'likes_text': 'Like11790',\n",
       "  'titel_text': '«Die Schweiz hat das Potenzial, sehr gut durch diese Krise zu kommen» '},\n",
       " {'likes_text': 'Like2562',\n",
       "  'titel_text': '«Es sieht gerade wirklich, wirklich gut aus»'},\n",
       " {'likes_text': 'Like1208',\n",
       "  'titel_text': 'Können wir im Corona-Jahr ganz normal Fondue essen?'},\n",
       " {'likes_text': 'Like399', 'titel_text': 'Brust-, Penis- und Vagina-Wahn'},\n",
       " {'likes_text': 'Like755',\n",
       "  'titel_text': '«Unser Sex ist einfach grausam langweilig!»'},\n",
       " {'likes_text': 'Like60',\n",
       "  'titel_text': '«Ich kann auch ohne Kniescheibe Brände löschen»'},\n",
       " {'likes_text': 'Like83',\n",
       "  'titel_text': 'Liverpool bezwingt Arsenal und klettert auf Rang zwei'},\n",
       " {'likes_text': 'Like14174',\n",
       "  'titel_text': '«Der Entscheid in Genf entspricht technisch nicht unseren Erwartungen»  '},\n",
       " {'likes_text': 'Like41',\n",
       "  'titel_text': 'Tampa Bay Lightning gewinnen Stanley Cup gegen Dallas'},\n",
       " {'likes_text': 'Like38790',\n",
       "  'titel_text': 'Lindsey Vonn zeigt ihre strahlend weissen neuen Zähne'},\n",
       " {'likes_text': 'Like578',\n",
       "  'titel_text': 'Der «Game of Thrones»-Riese ist Vater geworden'},\n",
       " {'likes_text': 'Like141',\n",
       "  'titel_text': 'Gwyneth Paltrow postet ein Nacktfoto'},\n",
       " {'likes_text': 'Like1079',\n",
       "  'titel_text': 'Das Baby von Rooney Mara und Joaquin Phoenix ist da'},\n",
       " {'likes_text': 'Like454',\n",
       "  'titel_text': '5 Dinge, die wir über den neuen Bachelor wissen'},\n",
       " {'likes_text': 'Like87', 'titel_text': 'Das 2000-Franken-Handy im Test'},\n",
       " {'likes_text': 'Like200', 'titel_text': 'Google feiert sich selber'},\n",
       " {'likes_text': 'Like558',\n",
       "  'titel_text': 'Crossover-Event in «Fortnite» verspricht exklusive Belohnungen'},\n",
       " {'likes_text': 'Like252',\n",
       "  'titel_text': '5 gesundheitliche Vorteile von Wandern'},\n",
       " {'likes_text': 'Like1122',\n",
       "  'titel_text': 'Es gibt eine App, die dir über deinen Ex hinweghilft'},\n",
       " {'likes_text': 'Like619',\n",
       "  'titel_text': '13 Mehl-Alternativen, die glutenfrei sind'},\n",
       " {'likes_text': 'Like501',\n",
       "  'titel_text': '5 Tricks, um deinen Schrank ready für den Herbst zu machen'},\n",
       " {'likes_text': 'Like1311',\n",
       "  'titel_text': 'Diese Hosen mit Grasflecken gibt es für 1’100 Franken'},\n",
       " {'likes_text': 'Like1538',\n",
       "  'titel_text': 'Do’s und Don’ts – der grosse Maskenguide'},\n",
       " {'likes_text': 'Like814',\n",
       "  'titel_text': 'Diese 2000er Fashion-Trends könnten bald ein Comeback haben'},\n",
       " {'likes_text': 'Like1066',\n",
       "  'titel_text': 'Erkennst du diese Filmschauplätze?'},\n",
       " {'likes_text': 'Like255',\n",
       "  'titel_text': 'Coronakrise? Ich flieg dann mal nach Kambodscha'},\n",
       " {'likes_text': 'Like112',\n",
       "  'titel_text': 'Bergwanderungen und Schlemmereien – Willkommen in Innsbruck'},\n",
       " {'likes_text': 'Like395', 'titel_text': 'Die 5 Beauty-Lieblinge der Woche'},\n",
       " {'likes_text': 'Like125',\n",
       "  'titel_text': '5 Gründe, warum deine Haare so schnell fettig werden'},\n",
       " {'likes_text': 'Like125',\n",
       "  'titel_text': '#Stayathome, aber hübsch machten sich die Emmy-Stars trotzdem'},\n",
       " {'likes_text': 'Like567',\n",
       "  'titel_text': 'Danach suchen die Zürcher bei Kleinanzeigen'},\n",
       " {'likes_text': 'Like604',\n",
       "  'titel_text': 'Genug von der Gesellschaft? Hier kannst du Kommunen eröffnen'},\n",
       " {'likes_text': 'Like970',\n",
       "  'titel_text': '50 Dinge, die du beim Putzen wahrscheinlich vergisst'},\n",
       " {'likes_text': 'Like155',\n",
       "  'titel_text': 'Will Smith vermietet die «Fresh Prince of Bel Air»-Villa'},\n",
       " {'likes_text': 'Like275', 'titel_text': 'Ein Tag als VIP-Chauffeur beim ZFF'},\n",
       " {'likes_text': 'Like524', 'titel_text': 'Bentley Turbo S – selten und sanft'},\n",
       " {'likes_text': 'Like754',\n",
       "  'titel_text': 'BMW M3 und M4 – Im Doppel mit 1020 PS'},\n",
       " {'likes_text': 'Like2223',\n",
       "  'titel_text': 'Polestar 2 gegen Tesla 3 – wer gewinnt?'},\n",
       " {'likes_text': 'Like1280',\n",
       "  'titel_text': 'Erlebe Dave Phinney im Live-Virtual-Tasting'},\n",
       " {'likes_text': 'Like818',\n",
       "  'titel_text': 'Der meistverkaufte Whisky der Welt kommt NICHT aus Schottland'},\n",
       " {'likes_text': 'Like815',\n",
       "  'titel_text': ' «Taste & Learn Advanced» - der neue Weinkurs'},\n",
       " {'likes_text': 'Like753', 'titel_text': 'Der perfekte Sundowner!'},\n",
       " {'likes_text': 'Like483',\n",
       "  'titel_text': 'Hier gibt es überraschende Kaffee-Fakten'},\n",
       " {'likes_text': 'Like321',\n",
       "  'titel_text': 'Im zarten Wildfleisch schmeckst du den Reichtum der Natur'},\n",
       " {'likes_text': 'Like444',\n",
       "  'titel_text': 'Die richtige Lagerung hält Lebensmittel länger frisch'}]"
      ]
     },
     "execution_count": 15,
     "metadata": {},
     "output_type": "execute_result"
    }
   ],
   "source": [
    "lst"
   ]
  },
  {
   "cell_type": "code",
   "execution_count": 16,
   "metadata": {},
   "outputs": [
    {
     "data": {
      "text/html": [
       "<div>\n",
       "<style scoped>\n",
       "    .dataframe tbody tr th:only-of-type {\n",
       "        vertical-align: middle;\n",
       "    }\n",
       "\n",
       "    .dataframe tbody tr th {\n",
       "        vertical-align: top;\n",
       "    }\n",
       "\n",
       "    .dataframe thead th {\n",
       "        text-align: right;\n",
       "    }\n",
       "</style>\n",
       "<table border=\"1\" class=\"dataframe\">\n",
       "  <thead>\n",
       "    <tr style=\"text-align: right;\">\n",
       "      <th></th>\n",
       "      <th>likes_text</th>\n",
       "      <th>titel_text</th>\n",
       "    </tr>\n",
       "  </thead>\n",
       "  <tbody>\n",
       "    <tr>\n",
       "      <th>0</th>\n",
       "      <td>Like681</td>\n",
       "      <td>Die Antonow ist zum letzten Mal in Emmen gelandet</td>\n",
       "    </tr>\n",
       "    <tr>\n",
       "      <th>1</th>\n",
       "      <td>Like3355</td>\n",
       "      <td>BAG sagt der Ghettofaust den Kampf an</td>\n",
       "    </tr>\n",
       "    <tr>\n",
       "      <th>2</th>\n",
       "      <td>Like375</td>\n",
       "      <td>700 Mio. Infizierte? Ausmass der Corona-Pandem...</td>\n",
       "    </tr>\n",
       "    <tr>\n",
       "      <th>3</th>\n",
       "      <td>Like328</td>\n",
       "      <td>Wer glaubt noch an den EU-Rahmenvertrag?</td>\n",
       "    </tr>\n",
       "    <tr>\n",
       "      <th>4</th>\n",
       "      <td>Like90</td>\n",
       "      <td>Wie reich bist du eigentlich, DJ Antoine?</td>\n",
       "    </tr>\n",
       "    <tr>\n",
       "      <th>...</th>\n",
       "      <td>...</td>\n",
       "      <td>...</td>\n",
       "    </tr>\n",
       "    <tr>\n",
       "      <th>106</th>\n",
       "      <td>Like815</td>\n",
       "      <td>«Taste &amp; Learn Advanced» - der neue Weinkurs</td>\n",
       "    </tr>\n",
       "    <tr>\n",
       "      <th>107</th>\n",
       "      <td>Like753</td>\n",
       "      <td>Der perfekte Sundowner!</td>\n",
       "    </tr>\n",
       "    <tr>\n",
       "      <th>108</th>\n",
       "      <td>Like483</td>\n",
       "      <td>Hier gibt es überraschende Kaffee-Fakten</td>\n",
       "    </tr>\n",
       "    <tr>\n",
       "      <th>109</th>\n",
       "      <td>Like321</td>\n",
       "      <td>Im zarten Wildfleisch schmeckst du den Reichtu...</td>\n",
       "    </tr>\n",
       "    <tr>\n",
       "      <th>110</th>\n",
       "      <td>Like444</td>\n",
       "      <td>Die richtige Lagerung hält Lebensmittel länger...</td>\n",
       "    </tr>\n",
       "  </tbody>\n",
       "</table>\n",
       "<p>111 rows × 2 columns</p>\n",
       "</div>"
      ],
      "text/plain": [
       "    likes_text                                         titel_text\n",
       "0      Like681  Die Antonow ist zum letzten Mal in Emmen gelandet\n",
       "1     Like3355              BAG sagt der Ghettofaust den Kampf an\n",
       "2      Like375  700 Mio. Infizierte? Ausmass der Corona-Pandem...\n",
       "3      Like328           Wer glaubt noch an den EU-Rahmenvertrag?\n",
       "4       Like90          Wie reich bist du eigentlich, DJ Antoine?\n",
       "..         ...                                                ...\n",
       "106    Like815       «Taste & Learn Advanced» - der neue Weinkurs\n",
       "107    Like753                            Der perfekte Sundowner!\n",
       "108    Like483           Hier gibt es überraschende Kaffee-Fakten\n",
       "109    Like321  Im zarten Wildfleisch schmeckst du den Reichtu...\n",
       "110    Like444  Die richtige Lagerung hält Lebensmittel länger...\n",
       "\n",
       "[111 rows x 2 columns]"
      ]
     },
     "execution_count": 16,
     "metadata": {},
     "output_type": "execute_result"
    }
   ],
   "source": [
    "pd.DataFrame(lst)"
   ]
  },
  {
   "cell_type": "markdown",
   "metadata": {},
   "source": [
    "#### 6. Nun nun baust Du den Code?"
   ]
  },
  {
   "cell_type": "code",
   "execution_count": null,
   "metadata": {
    "collapsed": true
   },
   "outputs": [],
   "source": []
  }
 ],
 "metadata": {
  "kernelspec": {
   "display_name": "Python 3",
   "language": "python",
   "name": "python3"
  },
  "language_info": {
   "codemirror_mode": {
    "name": "ipython",
    "version": 3
   },
   "file_extension": ".py",
   "mimetype": "text/x-python",
   "name": "python",
   "nbconvert_exporter": "python",
   "pygments_lexer": "ipython3",
   "version": "3.7.3"
  }
 },
 "nbformat": 4,
 "nbformat_minor": 2
}
