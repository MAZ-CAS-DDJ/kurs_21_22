{
 "cells": [
  {
   "cell_type": "markdown",
   "metadata": {},
   "source": [
    "# Übung4 - Website scrapen mit BeautifulSoup"
   ]
  },
  {
   "cell_type": "markdown",
   "metadata": {},
   "source": [
    "#### 1. Wählt eine Website aus, die ihr gerne analysieren wollt. Im eben angeschauten Beispiel, der Watson News-Website, ging es darum, systematisch zu erfassen wieviele Kommentare die Artikel bekommen."
   ]
  },
  {
   "cell_type": "code",
   "execution_count": null,
   "metadata": {},
   "outputs": [],
   "source": []
  },
  {
   "cell_type": "markdown",
   "metadata": {},
   "source": [
    "#### 2. Was ist das erwünschte Resultat?"
   ]
  },
  {
   "cell_type": "markdown",
   "metadata": {
    "collapsed": true
   },
   "source": [
    "Wie lange ist ein durchschnittlicher Titel auf aargauerzeitung.ch, Tagblatt, Luzernerzeitung, Tagi, NZZ, Blick, watson und 20 Minuten?"
   ]
  },
  {
   "cell_type": "markdown",
   "metadata": {},
   "source": [
    "#### 3. Zeichnet in Worten auf, welche Schritte ihr unternehmen müsst, um dieses Resultat zu erzielen? Schritt für Schritt."
   ]
  },
  {
   "cell_type": "markdown",
   "metadata": {
    "collapsed": true
   },
   "source": [
    "Haupt-Funktion, die nach URL unterscheidet scrapt. Zweit-Funktion, die die Durchschnitts-Berechnung vornimmt."
   ]
  },
  {
   "cell_type": "markdown",
   "metadata": {},
   "source": [
    "#### 4. Welche Python-Module brauchst Du? Importiere sie."
   ]
  },
  {
   "cell_type": "code",
   "execution_count": 1,
   "metadata": {},
   "outputs": [],
   "source": [
    "import requests\n",
    "from bs4 import BeautifulSoup\n",
    "import pandas as pd"
   ]
  },
  {
   "cell_type": "markdown",
   "metadata": {},
   "source": [
    "#### 5. Bevor Du loslegst und den Code entwickelst, schauen wir uns das Mini-Projekt gemeinsam an."
   ]
  },
  {
   "cell_type": "code",
   "execution_count": null,
   "metadata": {},
   "outputs": [],
   "source": []
  },
  {
   "cell_type": "markdown",
   "metadata": {},
   "source": [
    "#### 6. Nun nun baust Du den Code?"
   ]
  },
  {
   "cell_type": "code",
   "execution_count": 2,
   "metadata": {},
   "outputs": [],
   "source": [
    "def title_calc(title_list):\n",
    "    length_list = []\n",
    "    \n",
    "    titles_clean = [title.text for title in title_list]\n",
    "    \n",
    "    for title in titles_clean:\n",
    "        title_length = len(title)\n",
    "        length_list.append(title_length)\n",
    "\n",
    "    average = round(sum(length_list) / len(length_list),0)\n",
    "    return int(average)"
   ]
  },
  {
   "cell_type": "code",
   "execution_count": 3,
   "metadata": {},
   "outputs": [],
   "source": [
    "def title_length_inspector(url):\n",
    "    \n",
    "    response = requests.get(url)\n",
    "    soup = BeautifulSoup(response.text, \"html.parser\")\n",
    "    \n",
    "    if url == \"https://www.aargauerzeitung.ch/\":\n",
    "        title_list = soup.find_all(\"span\", {\"class\": \"teaser-title__text-wrap\"})\n",
    "    elif url == \"https://www.tagblatt.ch/\" or url == \"https://www.luzernerzeitung.ch/\" or url == \"https://www.nzz.ch/\":\n",
    "        title_list = soup.find_all(\"span\", {\"class\": \"teaser__title-name\"})\n",
    "    elif url == \"https://www.tagesanzeiger.ch/\":\n",
    "        title_list = soup.find_all(\"span\", {\"class\": \"ArticleTeaser_title__1Xvn1\"})\n",
    "    elif url == \"https://www.20min.ch/\":\n",
    "        title_list = soup.find_all(\"h1\", {\"class\": \"TeaserContentHeader_title__2hTcO\"})\n",
    "    elif url == \"https://www.blick.ch/\":\n",
    "        title_list = soup.find_all(\"span\", {\"class\": \"title title--inverted title--blick_wirtschaft\"})\n",
    "    elif url == \"https://www.watson.ch/\":\n",
    "        raw_titles = soup.find_all(\"div\", {\"class\": \"text\"})\n",
    "        title_list = []\n",
    "        for t in raw_titles:\n",
    "            if t.h2 != None:\n",
    "                title_list.append(t.h2)\n",
    "    else:\n",
    "        pass\n",
    "    return title_calc(title_list)\n"
   ]
  },
  {
   "cell_type": "code",
   "execution_count": 4,
   "metadata": {},
   "outputs": [],
   "source": [
    "media_list = [\"aargauerzeitung\", \"watson\", \"tagblatt\", \"luzernerzeitung\", \"nzz\", \"tagesanzeiger\", \"20min\"]\n",
    "final_list = []\n",
    "\n",
    "for m in media_list:\n",
    "    average_length = title_length_inspector(\"https://www.{}.ch/\".format(m))\n",
    "    dct = {\"Plattform\": m, \"Ø-Titellänge\": average_length}\n",
    "    final_list.append(dct)"
   ]
  },
  {
   "cell_type": "code",
   "execution_count": 5,
   "metadata": {},
   "outputs": [
    {
     "data": {
      "text/html": [
       "<div>\n",
       "<style scoped>\n",
       "    .dataframe tbody tr th:only-of-type {\n",
       "        vertical-align: middle;\n",
       "    }\n",
       "\n",
       "    .dataframe tbody tr th {\n",
       "        vertical-align: top;\n",
       "    }\n",
       "\n",
       "    .dataframe thead th {\n",
       "        text-align: right;\n",
       "    }\n",
       "</style>\n",
       "<table border=\"1\" class=\"dataframe\">\n",
       "  <thead>\n",
       "    <tr style=\"text-align: right;\">\n",
       "      <th></th>\n",
       "      <th>Plattform</th>\n",
       "      <th>Ø-Titellänge</th>\n",
       "    </tr>\n",
       "  </thead>\n",
       "  <tbody>\n",
       "    <tr>\n",
       "      <th>2</th>\n",
       "      <td>tagblatt</td>\n",
       "      <td>114</td>\n",
       "    </tr>\n",
       "    <tr>\n",
       "      <th>4</th>\n",
       "      <td>nzz</td>\n",
       "      <td>112</td>\n",
       "    </tr>\n",
       "    <tr>\n",
       "      <th>3</th>\n",
       "      <td>luzernerzeitung</td>\n",
       "      <td>101</td>\n",
       "    </tr>\n",
       "    <tr>\n",
       "      <th>0</th>\n",
       "      <td>aargauerzeitung</td>\n",
       "      <td>72</td>\n",
       "    </tr>\n",
       "    <tr>\n",
       "      <th>1</th>\n",
       "      <td>watson</td>\n",
       "      <td>67</td>\n",
       "    </tr>\n",
       "    <tr>\n",
       "      <th>6</th>\n",
       "      <td>20min</td>\n",
       "      <td>46</td>\n",
       "    </tr>\n",
       "    <tr>\n",
       "      <th>5</th>\n",
       "      <td>tagesanzeiger</td>\n",
       "      <td>45</td>\n",
       "    </tr>\n",
       "  </tbody>\n",
       "</table>\n",
       "</div>"
      ],
      "text/plain": [
       "         Plattform  Ø-Titellänge\n",
       "2         tagblatt           114\n",
       "4              nzz           112\n",
       "3  luzernerzeitung           101\n",
       "0  aargauerzeitung            72\n",
       "1           watson            67\n",
       "6            20min            46\n",
       "5    tagesanzeiger            45"
      ]
     },
     "execution_count": 5,
     "metadata": {},
     "output_type": "execute_result"
    }
   ],
   "source": [
    "df = pd.DataFrame(final_list)\n",
    "df.sort_values(\"Ø-Titellänge\", ascending=False)"
   ]
  },
  {
   "cell_type": "code",
   "execution_count": null,
   "metadata": {},
   "outputs": [],
   "source": []
  }
 ],
 "metadata": {
  "kernelspec": {
   "display_name": "Python 3",
   "language": "python",
   "name": "python3"
  },
  "language_info": {
   "codemirror_mode": {
    "name": "ipython",
    "version": 3
   },
   "file_extension": ".py",
   "mimetype": "text/x-python",
   "name": "python",
   "nbconvert_exporter": "python",
   "pygments_lexer": "ipython3",
   "version": "3.7.3"
  }
 },
 "nbformat": 4,
 "nbformat_minor": 2
}
