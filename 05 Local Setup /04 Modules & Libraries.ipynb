{
 "cells": [
  {
   "cell_type": "markdown",
   "metadata": {},
   "source": [
    "## 04 Modules & Libraries"
   ]
  },
  {
   "cell_type": "markdown",
   "metadata": {},
   "source": [
    "### Modules"
   ]
  },
  {
   "cell_type": "markdown",
   "metadata": {},
   "source": [
    "Ein Module ist nichts anderes als eine Ansammlung von Funktionen, die gezielt abgerufen werden kann. Zuert kommt dabei der Name des Modules und dann die eigentliche Funktion, die man abrufen will. Aber gehen wir zu erst einen Schritt zurück. Erinnern wir uns daran, wie Functions gebaut werden. "
   ]
  },
  {
   "cell_type": "code",
   "execution_count": 1,
   "metadata": {},
   "outputs": [],
   "source": [
    "def numeric_compare(x, y):\n",
    "    return x - y"
   ]
  },
  {
   "cell_type": "code",
   "execution_count": 2,
   "metadata": {},
   "outputs": [
    {
     "data": {
      "text/plain": [
       "-1"
      ]
     },
     "execution_count": 2,
     "metadata": {},
     "output_type": "execute_result"
    }
   ],
   "source": [
    "numeric_compare(4,5)"
   ]
  },
  {
   "cell_type": "markdown",
   "metadata": {},
   "source": [
    "Ein Module enthält ganz viele solche Funktionen, die man dann gezielt abrufen kann. Das allererste Module, dass wir anschauen wollen, sind so genannte Regular Expression. Das Modul heisst ```re```. Bestücken wir nun also unser Python damit."
   ]
  },
  {
   "cell_type": "code",
   "execution_count": 3,
   "metadata": {},
   "outputs": [],
   "source": [
    "import re"
   ]
  },
  {
   "cell_type": "markdown",
   "metadata": {},
   "source": [
    "Mit ```re``` können wir in Texten gezielt Informationen suchen. Um zu lernen, wie wir am besten damit arbeiten können, suchen wir die Dokumentation. [Modul re](https://docs.python.org/3/library/re.html). Und lesen uns hier etwas ein. (Wem es langweilig wird, der sollte am besten direkt zu den Beispielen springen. Das tue ich oft)"
   ]
  },
  {
   "cell_type": "code",
   "execution_count": 4,
   "metadata": {},
   "outputs": [
    {
     "data": {
      "text/plain": [
       "'def'"
      ]
     },
     "execution_count": 4,
     "metadata": {},
     "output_type": "execute_result"
    }
   ],
   "source": [
    "m = re.search('def', 'abcdef')\n",
    "m.group(0)"
   ]
  },
  {
   "cell_type": "markdown",
   "metadata": {},
   "source": [
    "Beachtee die Struktur des Befehls. Zuerst kommt der Name des Modules. Also: ```re```; und dann kommt die Function, also ```search```. Es selbstverständlich auch andere Functions in dem Modul. Eine ist ```group```. Diese Function wird direkt der Variabel angehängt. Und kann nur mit der exakten Daten-Struktur, oder dem Objekt umgehen, wie ihn dann eben Regular Expressions augibt. Sehen wir in der Dokumentation nach. "
   ]
  },
  {
   "cell_type": "code",
   "execution_count": 5,
   "metadata": {},
   "outputs": [
    {
     "data": {
      "text/plain": [
       "<re.Match object; span=(3, 6), match='def'>"
      ]
     },
     "execution_count": 5,
     "metadata": {},
     "output_type": "execute_result"
    }
   ],
   "source": [
    "m"
   ]
  },
  {
   "cell_type": "markdown",
   "metadata": {},
   "source": [
    "Wir erfahren, dass es sich hierbei um ein Match object handelt, dass die Zeichen 3 bis (aber ohne) Zeichen 6. Schauen wir in der Dokumenten von ```re```nach, welche anderen Functionen es gibt."
   ]
  },
  {
   "cell_type": "code",
   "execution_count": 6,
   "metadata": {},
   "outputs": [
    {
     "data": {
      "text/plain": [
       "<re.Match object; span=(0, 3), match='def'>"
      ]
     },
     "execution_count": 6,
     "metadata": {},
     "output_type": "execute_result"
    }
   ],
   "source": [
    "m = re.match('def', 'def')\n",
    "m"
   ]
  },
  {
   "cell_type": "code",
   "execution_count": 7,
   "metadata": {},
   "outputs": [],
   "source": [
    "phoneNumRegex = re.compile(r'\\d\\d\\d \\d\\d\\d \\d\\d \\d\\d') "
   ]
  },
  {
   "cell_type": "code",
   "execution_count": 8,
   "metadata": {},
   "outputs": [
    {
     "data": {
      "text/plain": [
       "'079 640 98 18'"
      ]
     },
     "execution_count": 8,
     "metadata": {},
     "output_type": "execute_result"
    }
   ],
   "source": [
    "mo = re.search(phoneNumRegex, 'My number is 079 640 98 18.')\n",
    "mo.group()"
   ]
  },
  {
   "cell_type": "markdown",
   "metadata": {},
   "source": [
    "Ihr bekommt damit hoffentlich ein Gefühl dafür, wie man mit ```re```an grossen Dokumenten arbeiten könnte. Aber für den Moment genug dazu. Aber für den Moment genug dazu. Mehr zu ```re``` später. Für den Moment sollte ihr hier einfach einen Eindruck davon bekommen, wie Modules ganz allgemein funktionieren und einfach sie zu implementieren. sind."
   ]
  },
  {
   "cell_type": "markdown",
   "metadata": {},
   "source": [
    "### Libraries"
   ]
  },
  {
   "cell_type": "markdown",
   "metadata": {},
   "source": [
    "Sie sind nichts anderes als eine Sammlung von Python Modules, die einen übergeordneten Zweck erfüllen. Die wichtigsten, die wir in diesem Kurs anschauen werden, sind:\n",
    "- [```os```](https://docs.python.org/3/library/os.html)\n",
    "- [```re```](https://docs.python.org/3/library/re.html)\n",
    "- [```requests```](https://requests.readthedocs.io/en/master/)\n",
    "- [```BeautifulSoup```](https://www.crummy.com/software/BeautifulSoup/bs4/doc/)\n",
    "- [```Pandas```](https://pandas.pydata.org/)\n",
    "- [```Selenium```](https://selenium-python.readthedocs.io/)"
   ]
  },
  {
   "cell_type": "markdown",
   "metadata": {},
   "source": [
    "Und wie wir das bei den Modules kennen, lassen sich sich mit einem einfachen Befehl importieren."
   ]
  },
  {
   "cell_type": "code",
   "execution_count": 9,
   "metadata": {},
   "outputs": [],
   "source": [
    "import os # Module"
   ]
  },
  {
   "cell_type": "code",
   "execution_count": 10,
   "metadata": {},
   "outputs": [],
   "source": [
    "import re # Module"
   ]
  },
  {
   "cell_type": "code",
   "execution_count": 11,
   "metadata": {},
   "outputs": [],
   "source": [
    "import requests #Library"
   ]
  },
  {
   "cell_type": "code",
   "execution_count": 12,
   "metadata": {},
   "outputs": [],
   "source": [
    "from bs4 import BeautifulSoup #Library "
   ]
  },
  {
   "cell_type": "code",
   "execution_count": 13,
   "metadata": {},
   "outputs": [],
   "source": [
    "import pandas as pd #Library"
   ]
  },
  {
   "cell_type": "code",
   "execution_count": 14,
   "metadata": {},
   "outputs": [],
   "source": [
    "#Import Selenium (muss noch installiert werden, -> erledigen)\n"
   ]
  },
  {
   "cell_type": "code",
   "execution_count": null,
   "metadata": {},
   "outputs": [],
   "source": []
  }
 ],
 "metadata": {
  "kernelspec": {
   "display_name": "Python 3",
   "language": "python",
   "name": "python3"
  },
  "language_info": {
   "codemirror_mode": {
    "name": "ipython",
    "version": 3
   },
   "file_extension": ".py",
   "mimetype": "text/x-python",
   "name": "python",
   "nbconvert_exporter": "python",
   "pygments_lexer": "ipython3",
   "version": "3.9.5"
  }
 },
 "nbformat": 4,
 "nbformat_minor": 4
}
