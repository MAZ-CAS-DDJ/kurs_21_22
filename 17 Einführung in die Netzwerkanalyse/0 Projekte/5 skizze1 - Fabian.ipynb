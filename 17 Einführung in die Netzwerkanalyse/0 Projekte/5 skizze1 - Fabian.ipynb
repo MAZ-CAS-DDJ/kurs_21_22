{
 "cells": [
  {
   "cell_type": "code",
   "execution_count": 1,
   "id": "d4262b4c",
   "metadata": {},
   "outputs": [],
   "source": [
    "#Wo geschehen die meisten tödlichen Strassenunfälle?\n",
    "#Quelle: https://data.geo.admin.ch/ch.astra.unfaelle-personenschaeden_alle\n",
    "#Vorgehen: \n",
    "#1. Daten filtern und reinigen nach SeverityCategory (wohl eher mit Pandas). Einerseits Zahl der Unfälle, andererseits Veränderung über letzte 10 Jahre\n",
    "#2. Mit Geopandas Cluster anlegen (noch keine Ahnung wie/was da möglich ist)\n",
    "#3. Geschichte finden (Personen, Behörden)\n",
    "import csv"
   ]
  },
  {
   "cell_type": "code",
   "execution_count": 5,
   "id": "2bdc51f5",
   "metadata": {},
   "outputs": [],
   "source": [
    "#Hier sicher mit Pandas arbeiten. \n",
    "import pandas as pd"
   ]
  },
  {
   "cell_type": "markdown",
   "id": "6fec106e",
   "metadata": {},
   "source": [
    "Für das Clustering unbedingt die GIS-Szene Schweiz abklappern. Hier gibt es, auch wenn schon öfter mit den Daten gearbeitet wurde, Potential für Neuheiten. Interessant wäre es auch, das R-Script der CH-Media-Umsetzung anzuschauen."
   ]
  },
  {
   "cell_type": "code",
   "execution_count": 7,
   "id": "60661900",
   "metadata": {},
   "outputs": [],
   "source": [
    "df = pd.read_csv(\"RoadTrafficAccidentLocations.csv\")"
   ]
  },
  {
   "cell_type": "code",
   "execution_count": 16,
   "id": "6e27c846",
   "metadata": {},
   "outputs": [
    {
     "data": {
      "text/plain": [
       "0         1246980\n",
       "1         1117371\n",
       "2         1221306\n",
       "3         1265690\n",
       "4         1088015\n",
       "           ...   \n",
       "178212    1249797\n",
       "178213    1237718\n",
       "178214    1221325\n",
       "178215    1218427\n",
       "178216    1268291\n",
       "Name: AccidentLocation_CHLV95_N, Length: 178217, dtype: int64"
      ]
     },
     "execution_count": 16,
     "metadata": {},
     "output_type": "execute_result"
    }
   ],
   "source": [
    "df['AccidentLocation_CHLV95_N']"
   ]
  },
  {
   "cell_type": "code",
   "execution_count": 9,
   "id": "75a9cef4",
   "metadata": {},
   "outputs": [
    {
     "name": "stdout",
     "output_type": "stream",
     "text": [
      "<class 'pandas.core.frame.DataFrame'>\n",
      "RangeIndex: 178217 entries, 0 to 178216\n",
      "Data columns (total 36 columns):\n",
      " #   Column                       Non-Null Count   Dtype  \n",
      "---  ------                       --------------   -----  \n",
      " 0   AccidentUID                  178217 non-null  object \n",
      " 1   AccidentType                 178217 non-null  object \n",
      " 2   AccidentType_de              178217 non-null  object \n",
      " 3   AccidentType_fr              178217 non-null  object \n",
      " 4   AccidentType_it              178217 non-null  object \n",
      " 5   AccidentType_en              178217 non-null  object \n",
      " 6   AccidentSeverityCategory     178217 non-null  object \n",
      " 7   AccidentSeverityCategory_de  178217 non-null  object \n",
      " 8   AccidentSeverityCategory_fr  178217 non-null  object \n",
      " 9   AccidentSeverityCategory_it  178217 non-null  object \n",
      " 10  AccidentSeverityCategory_en  178217 non-null  object \n",
      " 11  AccidentInvolvingPedestrian  178217 non-null  bool   \n",
      " 12  AccidentInvolvingBicycle     178217 non-null  bool   \n",
      " 13  AccidentInvolvingMotorcycle  178217 non-null  bool   \n",
      " 14  RoadType                     178217 non-null  object \n",
      " 15  RoadType_de                  178217 non-null  object \n",
      " 16  RoadType_fr                  178217 non-null  object \n",
      " 17  RoadType_it                  178217 non-null  object \n",
      " 18  RoadType_en                  178217 non-null  object \n",
      " 19  AccidentLocation_CHLV95_E    178217 non-null  int64  \n",
      " 20  AccidentLocation_CHLV95_N    178217 non-null  int64  \n",
      " 21  CantonCode                   178217 non-null  object \n",
      " 22  MunicipalityCode             178217 non-null  int64  \n",
      " 23  AccidentYear                 178217 non-null  int64  \n",
      " 24  AccidentMonth                178217 non-null  int64  \n",
      " 25  AccidentMonth_de             178217 non-null  object \n",
      " 26  AccidentMonth_fr             178217 non-null  object \n",
      " 27  AccidentMonth_it             178217 non-null  object \n",
      " 28  AccidentMonth_en             178217 non-null  object \n",
      " 29  AccidentWeekDay              178217 non-null  object \n",
      " 30  AccidentWeekDay_de           178217 non-null  object \n",
      " 31  AccidentWeekDay_fr           178217 non-null  object \n",
      " 32  AccidentWeekDay_it           178217 non-null  object \n",
      " 33  AccidentWeekDay_en           178217 non-null  object \n",
      " 34  AccidentHour                 178212 non-null  float64\n",
      " 35  AccidentHour_text            178217 non-null  object \n",
      "dtypes: bool(3), float64(1), int64(5), object(27)\n",
      "memory usage: 45.4+ MB\n"
     ]
    }
   ],
   "source": [
    "df.info()"
   ]
  },
  {
   "cell_type": "code",
   "execution_count": 3,
   "id": "3deb9231",
   "metadata": {},
   "outputs": [],
   "source": [
    "file = open(\"RoadTrafficAccidentLocations.csv\", \"r\")"
   ]
  },
  {
   "cell_type": "code",
   "execution_count": 3,
   "id": "6b6e0d93",
   "metadata": {},
   "outputs": [],
   "source": [
    "csvReader = csv.reader(file)"
   ]
  },
  {
   "cell_type": "code",
   "execution_count": 4,
   "id": "3d229353",
   "metadata": {},
   "outputs": [
    {
     "name": "stdout",
     "output_type": "stream",
     "text": [
      "['\\ufeff\"AccidentUID\"', 'AccidentType', 'AccidentType_de', 'AccidentType_fr', 'AccidentType_it', 'AccidentType_en', 'AccidentSeverityCategory', 'AccidentSeverityCategory_de', 'AccidentSeverityCategory_fr', 'AccidentSeverityCategory_it', 'AccidentSeverityCategory_en', 'AccidentInvolvingPedestrian', 'AccidentInvolvingBicycle', 'AccidentInvolvingMotorcycle', 'RoadType', 'RoadType_de', 'RoadType_fr', 'RoadType_it', 'RoadType_en', 'AccidentLocation_CHLV95_E', 'AccidentLocation_CHLV95_N', 'CantonCode', 'MunicipalityCode', 'AccidentYear', 'AccidentMonth', 'AccidentMonth_de', 'AccidentMonth_fr', 'AccidentMonth_it', 'AccidentMonth_en', 'AccidentWeekDay', 'AccidentWeekDay_de', 'AccidentWeekDay_fr', 'AccidentWeekDay_it', 'AccidentWeekDay_en', 'AccidentHour', 'AccidentHour_text']\n"
     ]
    }
   ],
   "source": [
    "header = []\n",
    "header = next(csvReader)\n",
    "print(header)"
   ]
  },
  {
   "cell_type": "code",
   "execution_count": 23,
   "id": "7e4b8f21",
   "metadata": {},
   "outputs": [],
   "source": [
    "rows = []\n",
    "for row in csvReader:\n",
    "    rows.append(row)\n",
    "\n"
   ]
  }
 ],
 "metadata": {
  "kernelspec": {
   "display_name": "Python 3",
   "language": "python",
   "name": "python3"
  },
  "language_info": {
   "codemirror_mode": {
    "name": "ipython",
    "version": 3
   },
   "file_extension": ".py",
   "mimetype": "text/x-python",
   "name": "python",
   "nbconvert_exporter": "python",
   "pygments_lexer": "ipython3",
   "version": "3.8.8"
  }
 },
 "nbformat": 4,
 "nbformat_minor": 5
}
