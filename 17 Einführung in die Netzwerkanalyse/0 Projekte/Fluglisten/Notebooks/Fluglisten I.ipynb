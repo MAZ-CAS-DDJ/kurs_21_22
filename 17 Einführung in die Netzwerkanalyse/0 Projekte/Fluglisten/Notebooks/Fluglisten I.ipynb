{
 "cells": [
  {
   "cell_type": "code",
   "execution_count": 1,
   "id": "2935c213",
   "metadata": {},
   "outputs": [],
   "source": [
    "import pandas as pd"
   ]
  },
  {
   "cell_type": "code",
   "execution_count": null,
   "id": "3044c51c",
   "metadata": {},
   "outputs": [],
   "source": [
    "pd."
   ]
  },
  {
   "cell_type": "code",
   "execution_count": 7,
   "id": "f7db7944",
   "metadata": {},
   "outputs": [],
   "source": [
    " #import pandas as pd.\n",
    "    # assign data of lists.\n",
    "  #  data = {'Name': ['Tom', 'Joseph', 'Krish', 'John'], 'Age': [20, 21, 19, 18]}\n",
    "    # Create DataFrame.\n",
    "#    df = pd.DataFrame(data)\n",
    "    # Print the output.\n",
    " #   print(df)"
   ]
  },
  {
   "cell_type": "code",
   "execution_count": null,
   "id": "86cfad62",
   "metadata": {},
   "outputs": [],
   "source": []
  },
  {
   "cell_type": "markdown",
   "id": "c462cbee",
   "metadata": {},
   "source": [
    "    # assign data of lists.\n",
    "    data = {'Name': ['Tom', 'Joseph', 'Krish', 'John'], 'Age': [20, 21, 19, 18]}\n",
    "    # Create DataFrame.\n",
    "    df = pd.DataFrame(data)\n",
    "    # Print the output.\n",
    "    print(df)\n"
   ]
  },
  {
   "cell_type": "code",
   "execution_count": 30,
   "id": "5d6bb1df",
   "metadata": {},
   "outputs": [],
   "source": [
    "data = {'Destination': [], 'Passagiere': [], 'Departement': []}"
   ]
  },
  {
   "cell_type": "code",
   "execution_count": 31,
   "id": "4e70c3e6",
   "metadata": {},
   "outputs": [],
   "source": [
    "df = pd.DataFrame(data=data)"
   ]
  },
  {
   "cell_type": "code",
   "execution_count": 32,
   "id": "8d90eeab",
   "metadata": {},
   "outputs": [
    {
     "data": {
      "text/plain": [
       "<bound method DataFrame.set_index of Empty DataFrame\n",
       "Columns: [Destination, Passagiere, Departement]\n",
       "Index: []>"
      ]
     },
     "execution_count": 32,
     "metadata": {},
     "output_type": "execute_result"
    }
   ],
   "source": [
    "df.set_index"
   ]
  },
  {
   "cell_type": "code",
   "execution_count": 20,
   "id": "7cec8b49",
   "metadata": {},
   "outputs": [],
   "source": [
    "read_file = pd.read_excel (r'WBF2017.xlsx')\n",
    "read_file.to_csv (r'WBF2017.csv', index = None, header=True)"
   ]
  },
  {
   "cell_type": "code",
   "execution_count": 22,
   "id": "d8ad47f1",
   "metadata": {},
   "outputs": [],
   "source": [
    "wbf17 = pd.read_csv(r'WBF2017.csv')"
   ]
  },
  {
   "cell_type": "code",
   "execution_count": 29,
   "id": "ca6320b3",
   "metadata": {},
   "outputs": [
    {
     "data": {
      "text/plain": [
       "Index(['LV-Rechnung', 'Flugtyp', 'Stunden', 'Kunde LTDB', 'Flugziel',\n",
       "       'Flugdatum', 'Zusatzinformation', 'Passagiere'],\n",
       "      dtype='object')"
      ]
     },
     "execution_count": 29,
     "metadata": {},
     "output_type": "execute_result"
    }
   ],
   "source": [
    "wbf17.columns"
   ]
  },
  {
   "cell_type": "code",
   "execution_count": null,
   "id": "7f03ff89",
   "metadata": {},
   "outputs": [],
   "source": []
  }
 ],
 "metadata": {
  "kernelspec": {
   "display_name": "Python 3",
   "language": "python",
   "name": "python3"
  },
  "language_info": {
   "codemirror_mode": {
    "name": "ipython",
    "version": 3
   },
   "file_extension": ".py",
   "mimetype": "text/x-python",
   "name": "python",
   "nbconvert_exporter": "python",
   "pygments_lexer": "ipython3",
   "version": "3.8.8"
  }
 },
 "nbformat": 4,
 "nbformat_minor": 5
}
