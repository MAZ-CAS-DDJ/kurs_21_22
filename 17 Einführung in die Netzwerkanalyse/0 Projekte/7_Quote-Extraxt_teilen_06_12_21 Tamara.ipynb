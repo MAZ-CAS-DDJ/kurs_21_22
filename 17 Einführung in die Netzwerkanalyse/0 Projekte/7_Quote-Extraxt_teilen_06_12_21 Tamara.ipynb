{
 "cells": [
  {
   "cell_type": "markdown",
   "id": "addc7348",
   "metadata": {},
   "source": [
    "# 03: Heimquote (eine ausgewählte Fragestellung aus einem Set von Fragestellungen)"
   ]
  },
  {
   "cell_type": "markdown",
   "id": "a54e242a",
   "metadata": {},
   "source": [
    "Idee: \"geschützte\" Daten einlesen und kombinieren zu einer Datengrundlage, die so aggregiert ist, dass sie geteilt/publiziert werden kann, aber dennoch detaillierte Analysen erlaubt.\n",
    "\n",
    "\n",
    "Zweck des Notebooks:\n",
    "- Daten aus zwei Quellen einlesen\n",
    "        1) Bevölkerung BL\n",
    "        2) Heimbewohner mit Wohnort BL vor Heimeintritt in BL und ausserhalb\n",
    "        Beides Datensätze, die so detailliert ohne Datenschutzvereiinbarung nicht publiziert werden.\n",
    "- Hilfstabellen für Aggregationen einlesen:\n",
    "        1) Gemeindezuordnung Regionen\n",
    "        2) Kombi-Variable als Schlüssel (in einem separaten Notebook erstellt)\n",
    "- Verknüpfen/Aggregieren\n",
    "- Eine Gesamttabelle exportieren (aggregiert, Basis zur Quotenberechnung, die ohne Einschränkung publziert werden kann)"
   ]
  },
  {
   "cell_type": "code",
   "execution_count": 1,
   "id": "bf616712",
   "metadata": {},
   "outputs": [],
   "source": [
    "import pandas as pd\n",
    "import numpy as np\n",
    "import matplotlib #for plotting\n",
    "import matplotlib.pyplot as plt #for plotting\n",
    "import matplotlib.dates as mdates #for plotting \n",
    "import matplotlib.ticker as ticker #for plotting"
   ]
  },
  {
   "cell_type": "code",
   "execution_count": 2,
   "id": "d1789ef4",
   "metadata": {},
   "outputs": [
    {
     "name": "stdout",
     "output_type": "stream",
     "text": [
      "\u001b[31m01_Karte_alt_aber_iO.ipynb\u001b[m\u001b[m*\r\n",
      "\u001b[31m01_Karte_alt_unklar.ipynb\u001b[m\u001b[m*\r\n",
      "\u001b[31m01_Karte_defekt.ipynb\u001b[m\u001b[m*\r\n",
      "02_Daten.ipynb\r\n",
      "\u001b[31m02_heimbewohner_gereinigt.xlsx\u001b[m\u001b[m*\r\n",
      "\u001b[31m02_heimbewohner_gereinigt_Anaylse_Grafik.csv\u001b[m\u001b[m*\r\n",
      "03_Quote-Extraxt_teilen_06_12_21.ipynb\r\n",
      "\u001b[31m03_Quote.ipynb\u001b[m\u001b[m*\r\n",
      "Archiv_02_Daten.ipynb\r\n",
      "Archiv_03_Quote.ipynb\r\n",
      "Archiv_03_Quote_.ipynb\r\n",
      "Archiv_03_Quote_1.ipynb\r\n",
      "\u001b[31mHeimquote_neue_VR.xlsx\u001b[m\u001b[m*\r\n",
      "\u001b[34mInput\u001b[m\u001b[m/\r\n",
      "\u001b[31mMatrix.xlsx\u001b[m\u001b[m*\r\n",
      "\u001b[30m\u001b[43mOutput\u001b[m\u001b[m/\r\n",
      "\u001b[30m\u001b[43mOutput_als_Input\u001b[m\u001b[m/\r\n",
      "\u001b[34mOutput_weiter_mit_Excel\u001b[m\u001b[m/\r\n",
      "Skizze_Dashboard.docx\r\n",
      "\u001b[34mVersionengeschichte Notebooks\u001b[m\u001b[m/\r\n",
      "\u001b[34mWeiterverarbeitung Excel Prototoyp\u001b[m\u001b[m/\r\n",
      "\u001b[34malte versionen\u001b[m\u001b[m/\r\n",
      "\u001b[31mdf_03_heimbewohner_bev_neu.xlsx\u001b[m\u001b[m*\r\n",
      "test.html\r\n",
      "~$izze_Dashboard.docx\r\n"
     ]
    }
   ],
   "source": [
    "ls"
   ]
  },
  {
   "cell_type": "markdown",
   "id": "d0d21aa7",
   "metadata": {},
   "source": [
    "# Bevölkerungsdaten einlesen (Bev_80+)¶"
   ]
  },
  {
   "cell_type": "markdown",
   "id": "50525e46",
   "metadata": {},
   "source": [
    "Tabelle mit Bevölkerungsdaten nach Alter und Gemeinde einlesen:"
   ]
  },
  {
   "cell_type": "code",
   "execution_count": 3,
   "id": "4b2a3ce0",
   "metadata": {},
   "outputs": [
    {
     "data": {
      "text/html": [
       "<div>\n",
       "<style scoped>\n",
       "    .dataframe tbody tr th:only-of-type {\n",
       "        vertical-align: middle;\n",
       "    }\n",
       "\n",
       "    .dataframe tbody tr th {\n",
       "        vertical-align: top;\n",
       "    }\n",
       "\n",
       "    .dataframe thead th {\n",
       "        text-align: right;\n",
       "    }\n",
       "</style>\n",
       "<table border=\"1\" class=\"dataframe\">\n",
       "  <thead>\n",
       "    <tr style=\"text-align: right;\">\n",
       "      <th></th>\n",
       "      <th>B_GEMNR</th>\n",
       "      <th>B_GEM_Name</th>\n",
       "      <th>B_Jahr</th>\n",
       "      <th>B_Alter</th>\n",
       "      <th>B_Anzahl</th>\n",
       "    </tr>\n",
       "  </thead>\n",
       "  <tbody>\n",
       "    <tr>\n",
       "      <th>0</th>\n",
       "      <td>2761</td>\n",
       "      <td>Aesch (BL)</td>\n",
       "      <td>2006</td>\n",
       "      <td>80</td>\n",
       "      <td>50</td>\n",
       "    </tr>\n",
       "    <tr>\n",
       "      <th>1</th>\n",
       "      <td>2761</td>\n",
       "      <td>Aesch (BL)</td>\n",
       "      <td>2006</td>\n",
       "      <td>81</td>\n",
       "      <td>45</td>\n",
       "    </tr>\n",
       "    <tr>\n",
       "      <th>2</th>\n",
       "      <td>2761</td>\n",
       "      <td>Aesch (BL)</td>\n",
       "      <td>2006</td>\n",
       "      <td>82</td>\n",
       "      <td>36</td>\n",
       "    </tr>\n",
       "    <tr>\n",
       "      <th>3</th>\n",
       "      <td>2761</td>\n",
       "      <td>Aesch (BL)</td>\n",
       "      <td>2006</td>\n",
       "      <td>83</td>\n",
       "      <td>34</td>\n",
       "    </tr>\n",
       "    <tr>\n",
       "      <th>4</th>\n",
       "      <td>2761</td>\n",
       "      <td>Aesch (BL)</td>\n",
       "      <td>2006</td>\n",
       "      <td>84</td>\n",
       "      <td>46</td>\n",
       "    </tr>\n",
       "  </tbody>\n",
       "</table>\n",
       "</div>"
      ],
      "text/plain": [
       "   B_GEMNR   B_GEM_Name  B_Jahr  B_Alter  B_Anzahl\n",
       "0     2761   Aesch (BL)    2006       80        50\n",
       "1     2761   Aesch (BL)    2006       81        45\n",
       "2     2761   Aesch (BL)    2006       82        36\n",
       "3     2761   Aesch (BL)    2006       83        34\n",
       "4     2761   Aesch (BL)    2006       84        46"
      ]
     },
     "execution_count": 3,
     "metadata": {},
     "output_type": "execute_result"
    }
   ],
   "source": [
    "df_03_bev_80 = pd.read_excel ('Input/Daten/BEV/bev_80+.xlsx')\n",
    "df_03_bev_80.head()"
   ]
  },
  {
   "cell_type": "markdown",
   "id": "742e61a8",
   "metadata": {},
   "source": [
    "Spalten umbenennen, damit ich nach dem späteren Merge kein Durcheinander bekomme."
   ]
  },
  {
   "cell_type": "code",
   "execution_count": 4,
   "id": "171855fd",
   "metadata": {},
   "outputs": [
    {
     "data": {
      "text/html": [
       "<div>\n",
       "<style scoped>\n",
       "    .dataframe tbody tr th:only-of-type {\n",
       "        vertical-align: middle;\n",
       "    }\n",
       "\n",
       "    .dataframe tbody tr th {\n",
       "        vertical-align: top;\n",
       "    }\n",
       "\n",
       "    .dataframe thead th {\n",
       "        text-align: right;\n",
       "    }\n",
       "</style>\n",
       "<table border=\"1\" class=\"dataframe\">\n",
       "  <thead>\n",
       "    <tr style=\"text-align: right;\">\n",
       "      <th></th>\n",
       "      <th>B_GEMNR</th>\n",
       "      <th>B_GEM_Name</th>\n",
       "      <th>B_Jahr</th>\n",
       "      <th>B_Alter</th>\n",
       "      <th>B_Anzahl</th>\n",
       "    </tr>\n",
       "  </thead>\n",
       "  <tbody>\n",
       "    <tr>\n",
       "      <th>0</th>\n",
       "      <td>2761</td>\n",
       "      <td>Aesch (BL)</td>\n",
       "      <td>2006</td>\n",
       "      <td>80</td>\n",
       "      <td>50</td>\n",
       "    </tr>\n",
       "    <tr>\n",
       "      <th>1</th>\n",
       "      <td>2761</td>\n",
       "      <td>Aesch (BL)</td>\n",
       "      <td>2006</td>\n",
       "      <td>81</td>\n",
       "      <td>45</td>\n",
       "    </tr>\n",
       "    <tr>\n",
       "      <th>2</th>\n",
       "      <td>2761</td>\n",
       "      <td>Aesch (BL)</td>\n",
       "      <td>2006</td>\n",
       "      <td>82</td>\n",
       "      <td>36</td>\n",
       "    </tr>\n",
       "    <tr>\n",
       "      <th>3</th>\n",
       "      <td>2761</td>\n",
       "      <td>Aesch (BL)</td>\n",
       "      <td>2006</td>\n",
       "      <td>83</td>\n",
       "      <td>34</td>\n",
       "    </tr>\n",
       "    <tr>\n",
       "      <th>4</th>\n",
       "      <td>2761</td>\n",
       "      <td>Aesch (BL)</td>\n",
       "      <td>2006</td>\n",
       "      <td>84</td>\n",
       "      <td>46</td>\n",
       "    </tr>\n",
       "  </tbody>\n",
       "</table>\n",
       "</div>"
      ],
      "text/plain": [
       "   B_GEMNR   B_GEM_Name  B_Jahr  B_Alter  B_Anzahl\n",
       "0     2761   Aesch (BL)    2006       80        50\n",
       "1     2761   Aesch (BL)    2006       81        45\n",
       "2     2761   Aesch (BL)    2006       82        36\n",
       "3     2761   Aesch (BL)    2006       83        34\n",
       "4     2761   Aesch (BL)    2006       84        46"
      ]
     },
     "execution_count": 4,
     "metadata": {},
     "output_type": "execute_result"
    }
   ],
   "source": [
    "df_03_bev_80.rename(columns={\"GEMNR\":\"B_GEMNR\", \n",
    "                           \"GEM_Name\":\"B_GEM_Name\", \n",
    "                           \"Jahr\":\"B_Jahr\",\n",
    "                            \"Alter\":\"B_Alter\", \n",
    "                            \"Anzahl\":\"B_Anzahl\"},\n",
    "                  inplace=True)\n",
    "df_03_bev_80.head()"
   ]
  },
  {
   "cell_type": "code",
   "execution_count": 133,
   "id": "58de888a",
   "metadata": {},
   "outputs": [
    {
     "data": {
      "text/plain": [
       "B_GEMNR        int64\n",
       "B_GEM_Name    object\n",
       "B_Jahr         int64\n",
       "B_Alter        int64\n",
       "B_Anzahl       int64\n",
       "dtype: object"
      ]
     },
     "execution_count": 133,
     "metadata": {},
     "output_type": "execute_result"
    }
   ],
   "source": [
    "df_03_bev_80.dtypes"
   ]
  },
  {
   "cell_type": "code",
   "execution_count": 134,
   "id": "7d706e83",
   "metadata": {},
   "outputs": [
    {
     "data": {
      "text/plain": [
       "B_GEMNR       object\n",
       "B_GEM_Name    object\n",
       "B_Jahr         int64\n",
       "B_Alter        int64\n",
       "B_Anzahl       int64\n",
       "dtype: object"
      ]
     },
     "execution_count": 134,
     "metadata": {},
     "output_type": "execute_result"
    }
   ],
   "source": [
    "df_03_bev_80['B_GEMNR'] = df_03_bev_80['B_GEMNR'].astype(str)\n",
    "df_03_bev_80.dtypes"
   ]
  },
  {
   "cell_type": "code",
   "execution_count": 135,
   "id": "07c74861",
   "metadata": {},
   "outputs": [
    {
     "data": {
      "text/plain": [
       "<AxesSubplot:xlabel='B_Jahr'>"
      ]
     },
     "execution_count": 135,
     "metadata": {},
     "output_type": "execute_result"
    },
    {
     "data": {
      "image/png": "[encoded data removed]",
      "text/plain": [
       "<Figure size 1080x360 with 1 Axes>"
      ]
     },
     "metadata": {
      "needs_background": "light"
     },
     "output_type": "display_data"
    }
   ],
   "source": [
    "df_03_bev_80.groupby('B_Jahr')['B_Anzahl'].sum().plot(kind='bar',figsize=(15,5))"
   ]
  },
  {
   "cell_type": "code",
   "execution_count": 136,
   "id": "415bb35a",
   "metadata": {},
   "outputs": [
    {
     "data": {
      "text/html": [
       "<div>\n",
       "<style scoped>\n",
       "    .dataframe tbody tr th:only-of-type {\n",
       "        vertical-align: middle;\n",
       "    }\n",
       "\n",
       "    .dataframe tbody tr th {\n",
       "        vertical-align: top;\n",
       "    }\n",
       "\n",
       "    .dataframe thead th {\n",
       "        text-align: right;\n",
       "    }\n",
       "</style>\n",
       "<table border=\"1\" class=\"dataframe\">\n",
       "  <thead>\n",
       "    <tr style=\"text-align: right;\">\n",
       "      <th></th>\n",
       "      <th>B_GEMNR</th>\n",
       "      <th>B_GEM_Name</th>\n",
       "      <th>B_Jahr</th>\n",
       "      <th>B_Alter</th>\n",
       "      <th>B_Anzahl</th>\n",
       "    </tr>\n",
       "  </thead>\n",
       "  <tbody>\n",
       "    <tr>\n",
       "      <th>0</th>\n",
       "      <td>2761</td>\n",
       "      <td>Aesch (BL)</td>\n",
       "      <td>2006</td>\n",
       "      <td>80</td>\n",
       "      <td>50</td>\n",
       "    </tr>\n",
       "  </tbody>\n",
       "</table>\n",
       "</div>"
      ],
      "text/plain": [
       "  B_GEMNR   B_GEM_Name  B_Jahr  B_Alter  B_Anzahl\n",
       "0    2761   Aesch (BL)    2006       80        50"
      ]
     },
     "execution_count": 136,
     "metadata": {},
     "output_type": "execute_result"
    }
   ],
   "source": [
    "df_03_bev_80 = df_03_bev_80[(df_03_bev_80['B_Jahr'] < 2020)]\n",
    "df_03_bev_80.head(1)"
   ]
  },
  {
   "cell_type": "code",
   "execution_count": 137,
   "id": "344e47c9",
   "metadata": {},
   "outputs": [
    {
     "data": {
      "text/html": [
       "<div>\n",
       "<style scoped>\n",
       "    .dataframe tbody tr th:only-of-type {\n",
       "        vertical-align: middle;\n",
       "    }\n",
       "\n",
       "    .dataframe tbody tr th {\n",
       "        vertical-align: top;\n",
       "    }\n",
       "\n",
       "    .dataframe thead th {\n",
       "        text-align: right;\n",
       "    }\n",
       "</style>\n",
       "<table border=\"1\" class=\"dataframe\">\n",
       "  <thead>\n",
       "    <tr style=\"text-align: right;\">\n",
       "      <th></th>\n",
       "      <th>B_GEMNR</th>\n",
       "      <th>B_Jahr</th>\n",
       "      <th>B_Alter</th>\n",
       "      <th>B_Anzahl</th>\n",
       "    </tr>\n",
       "  </thead>\n",
       "  <tbody>\n",
       "    <tr>\n",
       "      <th>0</th>\n",
       "      <td>2761</td>\n",
       "      <td>2006</td>\n",
       "      <td>80</td>\n",
       "      <td>50</td>\n",
       "    </tr>\n",
       "    <tr>\n",
       "      <th>1</th>\n",
       "      <td>2761</td>\n",
       "      <td>2006</td>\n",
       "      <td>81</td>\n",
       "      <td>45</td>\n",
       "    </tr>\n",
       "    <tr>\n",
       "      <th>2</th>\n",
       "      <td>2761</td>\n",
       "      <td>2006</td>\n",
       "      <td>82</td>\n",
       "      <td>36</td>\n",
       "    </tr>\n",
       "    <tr>\n",
       "      <th>3</th>\n",
       "      <td>2761</td>\n",
       "      <td>2006</td>\n",
       "      <td>83</td>\n",
       "      <td>34</td>\n",
       "    </tr>\n",
       "    <tr>\n",
       "      <th>4</th>\n",
       "      <td>2761</td>\n",
       "      <td>2006</td>\n",
       "      <td>84</td>\n",
       "      <td>46</td>\n",
       "    </tr>\n",
       "  </tbody>\n",
       "</table>\n",
       "</div>"
      ],
      "text/plain": [
       "  B_GEMNR  B_Jahr  B_Alter  B_Anzahl\n",
       "0    2761    2006       80        50\n",
       "1    2761    2006       81        45\n",
       "2    2761    2006       82        36\n",
       "3    2761    2006       83        34\n",
       "4    2761    2006       84        46"
      ]
     },
     "execution_count": 137,
     "metadata": {},
     "output_type": "execute_result"
    }
   ],
   "source": [
    "df_03_bev_80 = df_03_bev_80.drop(columns=['B_GEM_Name'])\n",
    "df_03_bev_80.head()"
   ]
  },
  {
   "cell_type": "markdown",
   "id": "404d0cab",
   "metadata": {},
   "source": [
    "# Bev: neue Spalte erzeugen für spätere Verknüpfung:"
   ]
  },
  {
   "cell_type": "code",
   "execution_count": 138,
   "id": "65fb4bc8",
   "metadata": {},
   "outputs": [
    {
     "data": {
      "text/html": [
       "<div>\n",
       "<style scoped>\n",
       "    .dataframe tbody tr th:only-of-type {\n",
       "        vertical-align: middle;\n",
       "    }\n",
       "\n",
       "    .dataframe tbody tr th {\n",
       "        vertical-align: top;\n",
       "    }\n",
       "\n",
       "    .dataframe thead th {\n",
       "        text-align: right;\n",
       "    }\n",
       "</style>\n",
       "<table border=\"1\" class=\"dataframe\">\n",
       "  <thead>\n",
       "    <tr style=\"text-align: right;\">\n",
       "      <th></th>\n",
       "      <th>B_GEMNR</th>\n",
       "      <th>B_Jahr</th>\n",
       "      <th>B_Alter</th>\n",
       "      <th>B_Anzahl</th>\n",
       "      <th>JAHR_GEMNR_ALTER</th>\n",
       "    </tr>\n",
       "  </thead>\n",
       "  <tbody>\n",
       "    <tr>\n",
       "      <th>0</th>\n",
       "      <td>2761</td>\n",
       "      <td>2006</td>\n",
       "      <td>80</td>\n",
       "      <td>50</td>\n",
       "      <td>2006_2761_80</td>\n",
       "    </tr>\n",
       "    <tr>\n",
       "      <th>1</th>\n",
       "      <td>2761</td>\n",
       "      <td>2006</td>\n",
       "      <td>81</td>\n",
       "      <td>45</td>\n",
       "      <td>2006_2761_81</td>\n",
       "    </tr>\n",
       "  </tbody>\n",
       "</table>\n",
       "</div>"
      ],
      "text/plain": [
       "  B_GEMNR  B_Jahr  B_Alter  B_Anzahl JAHR_GEMNR_ALTER\n",
       "0    2761    2006       80        50     2006_2761_80\n",
       "1    2761    2006       81        45     2006_2761_81"
      ]
     },
     "execution_count": 138,
     "metadata": {},
     "output_type": "execute_result"
    }
   ],
   "source": [
    "df_03_bev_80['JAHR_GEMNR_ALTER']=df_03_bev_80['B_Jahr'].astype(str)+ '_' + df_03_bev_80['B_GEMNR'].astype(str)+ '_' + df_03_bev_80['B_Alter'].astype(str)\n",
    "df_03_bev_80.head(2)"
   ]
  },
  {
   "cell_type": "markdown",
   "id": "b5428566",
   "metadata": {},
   "source": [
    "# APH-Daten einlesen (Heimbewohner)"
   ]
  },
  {
   "cell_type": "code",
   "execution_count": 141,
   "id": "0deb5337",
   "metadata": {
    "scrolled": true
   },
   "outputs": [
    {
     "data": {
      "text/html": [
       "<div>\n",
       "<style scoped>\n",
       "    .dataframe tbody tr th:only-of-type {\n",
       "        vertical-align: middle;\n",
       "    }\n",
       "\n",
       "    .dataframe tbody tr th {\n",
       "        vertical-align: top;\n",
       "    }\n",
       "\n",
       "    .dataframe thead th {\n",
       "        text-align: right;\n",
       "    }\n",
       "</style>\n",
       "<table border=\"1\" class=\"dataframe\">\n",
       "  <thead>\n",
       "    <tr style=\"text-align: right;\">\n",
       "      <th></th>\n",
       "      <th>Jahr</th>\n",
       "      <th>A04_Kanton_APH</th>\n",
       "      <th>A03_Gemeinde_APH</th>\n",
       "      <th>A09_PLZ_APH</th>\n",
       "      <th>D04_Alter</th>\n",
       "      <th>D05_Kanton_Wohnort</th>\n",
       "      <th>D05_Gemeinde_Wohnort</th>\n",
       "      <th>D05_PLZ_Wohnort</th>\n",
       "      <th>D11_Beherbergung</th>\n",
       "      <th>BEWOHNER_AM_STICHTAG</th>\n",
       "    </tr>\n",
       "  </thead>\n",
       "  <tbody>\n",
       "    <tr>\n",
       "      <th>0</th>\n",
       "      <td>2006</td>\n",
       "      <td>AG</td>\n",
       "      <td>NaN</td>\n",
       "      <td>NaN</td>\n",
       "      <td>83</td>\n",
       "      <td>BL</td>\n",
       "      <td>2762</td>\n",
       "      <td>4123</td>\n",
       "      <td>1</td>\n",
       "      <td>1</td>\n",
       "    </tr>\n",
       "    <tr>\n",
       "      <th>1</th>\n",
       "      <td>2010</td>\n",
       "      <td>GR</td>\n",
       "      <td>NaN</td>\n",
       "      <td>NaN</td>\n",
       "      <td>79</td>\n",
       "      <td>BL</td>\n",
       "      <td>2773</td>\n",
       "      <td>4153</td>\n",
       "      <td>1</td>\n",
       "      <td>1</td>\n",
       "    </tr>\n",
       "  </tbody>\n",
       "</table>\n",
       "</div>"
      ],
      "text/plain": [
       "   Jahr A04_Kanton_APH  A03_Gemeinde_APH  A09_PLZ_APH  D04_Alter  \\\n",
       "0  2006             AG               NaN          NaN         83   \n",
       "1  2010             GR               NaN          NaN         79   \n",
       "\n",
       "  D05_Kanton_Wohnort  D05_Gemeinde_Wohnort  D05_PLZ_Wohnort  D11_Beherbergung  \\\n",
       "0                 BL                  2762             4123                 1   \n",
       "1                 BL                  2773             4153                 1   \n",
       "\n",
       "   BEWOHNER_AM_STICHTAG  \n",
       "0                     1  \n",
       "1                     1  "
      ]
     },
     "execution_count": 141,
     "metadata": {},
     "output_type": "execute_result"
    }
   ],
   "source": [
    "df_03_heimbewohner = pd.read_excel ('Input/Daten/SOMED/2021-10-13_SOMED_BFS_Bewohner_31.12_n.xlsx')\n",
    "df_03_heimbewohner.head(2)"
   ]
  },
  {
   "cell_type": "code",
   "execution_count": 142,
   "id": "9fb31a23",
   "metadata": {},
   "outputs": [
    {
     "data": {
      "text/plain": [
       "Jahr                      int64\n",
       "A04_Kanton_APH           object\n",
       "A03_Gemeinde_APH        float64\n",
       "A09_PLZ_APH             float64\n",
       "D04_Alter                 int64\n",
       "D05_Kanton_Wohnort       object\n",
       "D05_Gemeinde_Wohnort      int64\n",
       "D05_PLZ_Wohnort           int64\n",
       "D11_Beherbergung          int64\n",
       "BEWOHNER_AM_STICHTAG      int64\n",
       "dtype: object"
      ]
     },
     "execution_count": 142,
     "metadata": {},
     "output_type": "execute_result"
    }
   ],
   "source": [
    "df_03_heimbewohner.dtypes"
   ]
  },
  {
   "cell_type": "code",
   "execution_count": 143,
   "id": "68123a0d",
   "metadata": {
    "scrolled": true
   },
   "outputs": [
    {
     "data": {
      "text/html": [
       "<div>\n",
       "<style scoped>\n",
       "    .dataframe tbody tr th:only-of-type {\n",
       "        vertical-align: middle;\n",
       "    }\n",
       "\n",
       "    .dataframe tbody tr th {\n",
       "        vertical-align: top;\n",
       "    }\n",
       "\n",
       "    .dataframe thead th {\n",
       "        text-align: right;\n",
       "    }\n",
       "</style>\n",
       "<table border=\"1\" class=\"dataframe\">\n",
       "  <thead>\n",
       "    <tr style=\"text-align: right;\">\n",
       "      <th></th>\n",
       "      <th>Jahr</th>\n",
       "      <th>A04_Kanton_APH</th>\n",
       "      <th>A03_Gemeinde_APH</th>\n",
       "      <th>A09_PLZ_APH</th>\n",
       "      <th>D04_Alter</th>\n",
       "      <th>D05_Kanton_Wohnort</th>\n",
       "      <th>D05_Gemeinde_Wohnort</th>\n",
       "      <th>D05_PLZ_Wohnort</th>\n",
       "      <th>D11_Beherbergung</th>\n",
       "      <th>BEWOHNER_AM_STICHTAG</th>\n",
       "    </tr>\n",
       "  </thead>\n",
       "  <tbody>\n",
       "    <tr>\n",
       "      <th>0</th>\n",
       "      <td>2006</td>\n",
       "      <td>AG</td>\n",
       "      <td>NaN</td>\n",
       "      <td>0.0</td>\n",
       "      <td>83</td>\n",
       "      <td>BL</td>\n",
       "      <td>2762</td>\n",
       "      <td>4123</td>\n",
       "      <td>1</td>\n",
       "      <td>1</td>\n",
       "    </tr>\n",
       "    <tr>\n",
       "      <th>1</th>\n",
       "      <td>2010</td>\n",
       "      <td>GR</td>\n",
       "      <td>NaN</td>\n",
       "      <td>0.0</td>\n",
       "      <td>79</td>\n",
       "      <td>BL</td>\n",
       "      <td>2773</td>\n",
       "      <td>4153</td>\n",
       "      <td>1</td>\n",
       "      <td>1</td>\n",
       "    </tr>\n",
       "    <tr>\n",
       "      <th>2</th>\n",
       "      <td>2011</td>\n",
       "      <td>GR</td>\n",
       "      <td>NaN</td>\n",
       "      <td>0.0</td>\n",
       "      <td>80</td>\n",
       "      <td>BL</td>\n",
       "      <td>2773</td>\n",
       "      <td>4153</td>\n",
       "      <td>1</td>\n",
       "      <td>1</td>\n",
       "    </tr>\n",
       "    <tr>\n",
       "      <th>3</th>\n",
       "      <td>2012</td>\n",
       "      <td>GR</td>\n",
       "      <td>NaN</td>\n",
       "      <td>0.0</td>\n",
       "      <td>81</td>\n",
       "      <td>BL</td>\n",
       "      <td>2773</td>\n",
       "      <td>4153</td>\n",
       "      <td>1</td>\n",
       "      <td>1</td>\n",
       "    </tr>\n",
       "    <tr>\n",
       "      <th>4</th>\n",
       "      <td>2016</td>\n",
       "      <td>SZ</td>\n",
       "      <td>NaN</td>\n",
       "      <td>0.0</td>\n",
       "      <td>89</td>\n",
       "      <td>BL</td>\n",
       "      <td>2849</td>\n",
       "      <td>4452</td>\n",
       "      <td>1</td>\n",
       "      <td>1</td>\n",
       "    </tr>\n",
       "    <tr>\n",
       "      <th>...</th>\n",
       "      <td>...</td>\n",
       "      <td>...</td>\n",
       "      <td>...</td>\n",
       "      <td>...</td>\n",
       "      <td>...</td>\n",
       "      <td>...</td>\n",
       "      <td>...</td>\n",
       "      <td>...</td>\n",
       "      <td>...</td>\n",
       "      <td>...</td>\n",
       "    </tr>\n",
       "    <tr>\n",
       "      <th>40087</th>\n",
       "      <td>2019</td>\n",
       "      <td>BL</td>\n",
       "      <td>2831.0</td>\n",
       "      <td>4133.0</td>\n",
       "      <td>87</td>\n",
       "      <td>BL</td>\n",
       "      <td>2762</td>\n",
       "      <td>4123</td>\n",
       "      <td>1</td>\n",
       "      <td>1</td>\n",
       "    </tr>\n",
       "    <tr>\n",
       "      <th>40088</th>\n",
       "      <td>2019</td>\n",
       "      <td>BL</td>\n",
       "      <td>2831.0</td>\n",
       "      <td>4133.0</td>\n",
       "      <td>89</td>\n",
       "      <td>BL</td>\n",
       "      <td>2831</td>\n",
       "      <td>4133</td>\n",
       "      <td>1</td>\n",
       "      <td>1</td>\n",
       "    </tr>\n",
       "    <tr>\n",
       "      <th>40089</th>\n",
       "      <td>2019</td>\n",
       "      <td>BL</td>\n",
       "      <td>2831.0</td>\n",
       "      <td>4133.0</td>\n",
       "      <td>85</td>\n",
       "      <td>BL</td>\n",
       "      <td>2831</td>\n",
       "      <td>4133</td>\n",
       "      <td>1</td>\n",
       "      <td>1</td>\n",
       "    </tr>\n",
       "    <tr>\n",
       "      <th>40090</th>\n",
       "      <td>2019</td>\n",
       "      <td>BL</td>\n",
       "      <td>2831.0</td>\n",
       "      <td>4133.0</td>\n",
       "      <td>88</td>\n",
       "      <td>BL</td>\n",
       "      <td>2831</td>\n",
       "      <td>4133</td>\n",
       "      <td>1</td>\n",
       "      <td>1</td>\n",
       "    </tr>\n",
       "    <tr>\n",
       "      <th>40091</th>\n",
       "      <td>2019</td>\n",
       "      <td>BL</td>\n",
       "      <td>2831.0</td>\n",
       "      <td>4133.0</td>\n",
       "      <td>86</td>\n",
       "      <td>BL</td>\n",
       "      <td>2831</td>\n",
       "      <td>4133</td>\n",
       "      <td>1</td>\n",
       "      <td>1</td>\n",
       "    </tr>\n",
       "  </tbody>\n",
       "</table>\n",
       "<p>40092 rows × 10 columns</p>\n",
       "</div>"
      ],
      "text/plain": [
       "       Jahr A04_Kanton_APH  A03_Gemeinde_APH  A09_PLZ_APH  D04_Alter  \\\n",
       "0      2006             AG               NaN          0.0         83   \n",
       "1      2010             GR               NaN          0.0         79   \n",
       "2      2011             GR               NaN          0.0         80   \n",
       "3      2012             GR               NaN          0.0         81   \n",
       "4      2016             SZ               NaN          0.0         89   \n",
       "...     ...            ...               ...          ...        ...   \n",
       "40087  2019             BL            2831.0       4133.0         87   \n",
       "40088  2019             BL            2831.0       4133.0         89   \n",
       "40089  2019             BL            2831.0       4133.0         85   \n",
       "40090  2019             BL            2831.0       4133.0         88   \n",
       "40091  2019             BL            2831.0       4133.0         86   \n",
       "\n",
       "      D05_Kanton_Wohnort  D05_Gemeinde_Wohnort  D05_PLZ_Wohnort  \\\n",
       "0                     BL                  2762             4123   \n",
       "1                     BL                  2773             4153   \n",
       "2                     BL                  2773             4153   \n",
       "3                     BL                  2773             4153   \n",
       "4                     BL                  2849             4452   \n",
       "...                  ...                   ...              ...   \n",
       "40087                 BL                  2762             4123   \n",
       "40088                 BL                  2831             4133   \n",
       "40089                 BL                  2831             4133   \n",
       "40090                 BL                  2831             4133   \n",
       "40091                 BL                  2831             4133   \n",
       "\n",
       "       D11_Beherbergung  BEWOHNER_AM_STICHTAG  \n",
       "0                     1                     1  \n",
       "1                     1                     1  \n",
       "2                     1                     1  \n",
       "3                     1                     1  \n",
       "4                     1                     1  \n",
       "...                 ...                   ...  \n",
       "40087                 1                     1  \n",
       "40088                 1                     1  \n",
       "40089                 1                     1  \n",
       "40090                 1                     1  \n",
       "40091                 1                     1  \n",
       "\n",
       "[40092 rows x 10 columns]"
      ]
     },
     "execution_count": 143,
     "metadata": {},
     "output_type": "execute_result"
    }
   ],
   "source": [
    "df_03_heimbewohner['A09_PLZ_APH']=df_03_heimbewohner['A09_PLZ_APH'].fillna(0)\n",
    "df_03_heimbewohner"
   ]
  },
  {
   "cell_type": "code",
   "execution_count": 144,
   "id": "1298b425",
   "metadata": {},
   "outputs": [
    {
     "data": {
      "text/plain": [
       "40092"
      ]
     },
     "execution_count": 144,
     "metadata": {},
     "output_type": "execute_result"
    }
   ],
   "source": [
    "len(df_03_heimbewohner)"
   ]
  },
  {
   "cell_type": "markdown",
   "id": "ae3d41f1",
   "metadata": {},
   "source": [
    "Filter nach Wohnort BL und Alter 80+ und neue Tabelle erzeugen:"
   ]
  },
  {
   "cell_type": "code",
   "execution_count": 145,
   "id": "7f42235d",
   "metadata": {},
   "outputs": [
    {
     "data": {
      "text/html": [
       "<div>\n",
       "<style scoped>\n",
       "    .dataframe tbody tr th:only-of-type {\n",
       "        vertical-align: middle;\n",
       "    }\n",
       "\n",
       "    .dataframe tbody tr th {\n",
       "        vertical-align: top;\n",
       "    }\n",
       "\n",
       "    .dataframe thead th {\n",
       "        text-align: right;\n",
       "    }\n",
       "</style>\n",
       "<table border=\"1\" class=\"dataframe\">\n",
       "  <thead>\n",
       "    <tr style=\"text-align: right;\">\n",
       "      <th></th>\n",
       "      <th>Jahr</th>\n",
       "      <th>A04_Kanton_APH</th>\n",
       "      <th>A03_Gemeinde_APH</th>\n",
       "      <th>A09_PLZ_APH</th>\n",
       "      <th>D04_Alter</th>\n",
       "      <th>D05_Kanton_Wohnort</th>\n",
       "      <th>D05_Gemeinde_Wohnort</th>\n",
       "      <th>D05_PLZ_Wohnort</th>\n",
       "      <th>D11_Beherbergung</th>\n",
       "      <th>BEWOHNER_AM_STICHTAG</th>\n",
       "    </tr>\n",
       "  </thead>\n",
       "  <tbody>\n",
       "    <tr>\n",
       "      <th>0</th>\n",
       "      <td>2006</td>\n",
       "      <td>AG</td>\n",
       "      <td>NaN</td>\n",
       "      <td>0.0</td>\n",
       "      <td>83</td>\n",
       "      <td>BL</td>\n",
       "      <td>2762</td>\n",
       "      <td>4123</td>\n",
       "      <td>1</td>\n",
       "      <td>1</td>\n",
       "    </tr>\n",
       "  </tbody>\n",
       "</table>\n",
       "</div>"
      ],
      "text/plain": [
       "   Jahr A04_Kanton_APH  A03_Gemeinde_APH  A09_PLZ_APH  D04_Alter  \\\n",
       "0  2006             AG               NaN          0.0         83   \n",
       "\n",
       "  D05_Kanton_Wohnort  D05_Gemeinde_Wohnort  D05_PLZ_Wohnort  D11_Beherbergung  \\\n",
       "0                 BL                  2762             4123                 1   \n",
       "\n",
       "   BEWOHNER_AM_STICHTAG  \n",
       "0                     1  "
      ]
     },
     "execution_count": 145,
     "metadata": {},
     "output_type": "execute_result"
    }
   ],
   "source": [
    "df_03_heimbewohner_bl = df_03_heimbewohner[(df_03_heimbewohner['D05_Kanton_Wohnort']=='BL') & (df_03_heimbewohner['D04_Alter'] > 79)]\n",
    "df_03_heimbewohner_bl.head(1)"
   ]
  },
  {
   "cell_type": "code",
   "execution_count": 146,
   "id": "149c6bc8",
   "metadata": {},
   "outputs": [
    {
     "data": {
      "text/plain": [
       "30951"
      ]
     },
     "execution_count": 146,
     "metadata": {},
     "output_type": "execute_result"
    }
   ],
   "source": [
    "len(df_03_heimbewohner_bl)"
   ]
  },
  {
   "cell_type": "markdown",
   "id": "a3089416",
   "metadata": {},
   "source": [
    "Überflüssige Spalten löschen:"
   ]
  },
  {
   "cell_type": "code",
   "execution_count": 147,
   "id": "27ba6de4",
   "metadata": {},
   "outputs": [],
   "source": [
    "df_03_heimbewohner_bl = df_03_heimbewohner_bl.drop(columns=['A04_Kanton_APH', 'D05_Kanton_Wohnort', 'A03_Gemeinde_APH', 'A09_PLZ_APH', 'D05_PLZ_Wohnort', 'D11_Beherbergung'])"
   ]
  },
  {
   "cell_type": "code",
   "execution_count": 148,
   "id": "2f3b7658",
   "metadata": {},
   "outputs": [
    {
     "data": {
      "text/html": [
       "<div>\n",
       "<style scoped>\n",
       "    .dataframe tbody tr th:only-of-type {\n",
       "        vertical-align: middle;\n",
       "    }\n",
       "\n",
       "    .dataframe tbody tr th {\n",
       "        vertical-align: top;\n",
       "    }\n",
       "\n",
       "    .dataframe thead th {\n",
       "        text-align: right;\n",
       "    }\n",
       "</style>\n",
       "<table border=\"1\" class=\"dataframe\">\n",
       "  <thead>\n",
       "    <tr style=\"text-align: right;\">\n",
       "      <th></th>\n",
       "      <th>Jahr</th>\n",
       "      <th>D04_Alter</th>\n",
       "      <th>D05_Gemeinde_Wohnort</th>\n",
       "      <th>BEWOHNER_AM_STICHTAG</th>\n",
       "    </tr>\n",
       "  </thead>\n",
       "  <tbody>\n",
       "    <tr>\n",
       "      <th>0</th>\n",
       "      <td>2006</td>\n",
       "      <td>83</td>\n",
       "      <td>2762</td>\n",
       "      <td>1</td>\n",
       "    </tr>\n",
       "    <tr>\n",
       "      <th>2</th>\n",
       "      <td>2011</td>\n",
       "      <td>80</td>\n",
       "      <td>2773</td>\n",
       "      <td>1</td>\n",
       "    </tr>\n",
       "    <tr>\n",
       "      <th>3</th>\n",
       "      <td>2012</td>\n",
       "      <td>81</td>\n",
       "      <td>2773</td>\n",
       "      <td>1</td>\n",
       "    </tr>\n",
       "    <tr>\n",
       "      <th>4</th>\n",
       "      <td>2016</td>\n",
       "      <td>89</td>\n",
       "      <td>2849</td>\n",
       "      <td>1</td>\n",
       "    </tr>\n",
       "    <tr>\n",
       "      <th>5</th>\n",
       "      <td>2016</td>\n",
       "      <td>90</td>\n",
       "      <td>2849</td>\n",
       "      <td>1</td>\n",
       "    </tr>\n",
       "  </tbody>\n",
       "</table>\n",
       "</div>"
      ],
      "text/plain": [
       "   Jahr  D04_Alter  D05_Gemeinde_Wohnort  BEWOHNER_AM_STICHTAG\n",
       "0  2006         83                  2762                     1\n",
       "2  2011         80                  2773                     1\n",
       "3  2012         81                  2773                     1\n",
       "4  2016         89                  2849                     1\n",
       "5  2016         90                  2849                     1"
      ]
     },
     "execution_count": 148,
     "metadata": {},
     "output_type": "execute_result"
    }
   ],
   "source": [
    "df_03_heimbewohner_bl.head()"
   ]
  },
  {
   "cell_type": "code",
   "execution_count": 149,
   "id": "8bb6b6df",
   "metadata": {},
   "outputs": [],
   "source": [
    "df_03_heimbewohner_bl['D05_Gemeinde_Wohnort'] = df_03_heimbewohner_bl['D05_Gemeinde_Wohnort'].fillna(9999)"
   ]
  },
  {
   "cell_type": "code",
   "execution_count": 150,
   "id": "0b27c4bc",
   "metadata": {},
   "outputs": [
    {
     "name": "stdout",
     "output_type": "stream",
     "text": [
      "<class 'pandas.core.frame.DataFrame'>\n",
      "Int64Index: 30951 entries, 0 to 40091\n",
      "Data columns (total 4 columns):\n",
      " #   Column                Non-Null Count  Dtype\n",
      "---  ------                --------------  -----\n",
      " 0   Jahr                  30951 non-null  int64\n",
      " 1   D04_Alter             30951 non-null  int64\n",
      " 2   D05_Gemeinde_Wohnort  30951 non-null  int64\n",
      " 3   BEWOHNER_AM_STICHTAG  30951 non-null  int64\n",
      "dtypes: int64(4)\n",
      "memory usage: 1.2 MB\n"
     ]
    }
   ],
   "source": [
    "df_03_heimbewohner_bl.info()"
   ]
  },
  {
   "cell_type": "code",
   "execution_count": 151,
   "id": "299e9ee6",
   "metadata": {},
   "outputs": [
    {
     "data": {
      "text/plain": [
       "30951"
      ]
     },
     "execution_count": 151,
     "metadata": {},
     "output_type": "execute_result"
    }
   ],
   "source": [
    "len(df_03_heimbewohner_bl)"
   ]
  },
  {
   "cell_type": "code",
   "execution_count": 152,
   "id": "a7b5554c",
   "metadata": {},
   "outputs": [
    {
     "data": {
      "text/plain": [
       "Jahr\n",
       "2006    1831\n",
       "2007    1948\n",
       "2008    1992\n",
       "2009    2050\n",
       "2010    2094\n",
       "2011    2113\n",
       "2012    2206\n",
       "2013    2268\n",
       "2014    2277\n",
       "2015    2365\n",
       "2016    2403\n",
       "2017    2402\n",
       "2018    2475\n",
       "2019    2527\n",
       "Name: BEWOHNER_AM_STICHTAG, dtype: int64"
      ]
     },
     "execution_count": 152,
     "metadata": {},
     "output_type": "execute_result"
    }
   ],
   "source": [
    "df_03_heimbewohner_bl.groupby('Jahr')['BEWOHNER_AM_STICHTAG'].sum()"
   ]
  },
  {
   "cell_type": "markdown",
   "id": "e026fbc5",
   "metadata": {},
   "source": [
    "# Heimbewohner BL Spalte für Gruppierung und späteren Merge"
   ]
  },
  {
   "cell_type": "markdown",
   "id": "e007bc8b",
   "metadata": {},
   "source": [
    "Reminder in eigener Sache: Das Dezimalzeichen oben will ich weghaben... Woher kommt es denn plötzlich? \n",
    "Das kam aufgrund der Nulls im gelieferten Datensatz. Vor dem Import direkt im Datensatz ersetzt durch 7999 für unbekannte Gemeinde ausserhalb BL. Diesen Code nutze ich auch in der Bevölkerungsstatistik. Gut möglich, dass bei SOMED dafür eigentlich ein anderer Code benutzt wird."
   ]
  },
  {
   "cell_type": "markdown",
   "id": "5747ee92",
   "metadata": {},
   "source": [
    "Key-Spalte erzeugen für späteren merge."
   ]
  },
  {
   "cell_type": "code",
   "execution_count": 154,
   "id": "97462c09",
   "metadata": {},
   "outputs": [
    {
     "data": {
      "text/html": [
       "<div>\n",
       "<style scoped>\n",
       "    .dataframe tbody tr th:only-of-type {\n",
       "        vertical-align: middle;\n",
       "    }\n",
       "\n",
       "    .dataframe tbody tr th {\n",
       "        vertical-align: top;\n",
       "    }\n",
       "\n",
       "    .dataframe thead th {\n",
       "        text-align: right;\n",
       "    }\n",
       "</style>\n",
       "<table border=\"1\" class=\"dataframe\">\n",
       "  <thead>\n",
       "    <tr style=\"text-align: right;\">\n",
       "      <th></th>\n",
       "      <th>Jahr</th>\n",
       "      <th>D04_Alter</th>\n",
       "      <th>D05_Gemeinde_Wohnort</th>\n",
       "      <th>BEWOHNER_AM_STICHTAG</th>\n",
       "      <th>JAHR_GEMNR_ALTER</th>\n",
       "    </tr>\n",
       "  </thead>\n",
       "  <tbody>\n",
       "    <tr>\n",
       "      <th>0</th>\n",
       "      <td>2006</td>\n",
       "      <td>83</td>\n",
       "      <td>2762</td>\n",
       "      <td>1</td>\n",
       "      <td>2006_2762_83</td>\n",
       "    </tr>\n",
       "    <tr>\n",
       "      <th>2</th>\n",
       "      <td>2011</td>\n",
       "      <td>80</td>\n",
       "      <td>2773</td>\n",
       "      <td>1</td>\n",
       "      <td>2011_2773_80</td>\n",
       "    </tr>\n",
       "  </tbody>\n",
       "</table>\n",
       "</div>"
      ],
      "text/plain": [
       "   Jahr  D04_Alter  D05_Gemeinde_Wohnort  BEWOHNER_AM_STICHTAG  \\\n",
       "0  2006         83                  2762                     1   \n",
       "2  2011         80                  2773                     1   \n",
       "\n",
       "  JAHR_GEMNR_ALTER  \n",
       "0     2006_2762_83  \n",
       "2     2011_2773_80  "
      ]
     },
     "execution_count": 154,
     "metadata": {},
     "output_type": "execute_result"
    }
   ],
   "source": [
    "df_03_heimbewohner_bl['JAHR_GEMNR_ALTER']=df_03_heimbewohner_bl['Jahr'].astype(str)+ '_' + df_03_heimbewohner_bl['D05_Gemeinde_Wohnort'].astype(str)+ '_' + df_03_heimbewohner_bl['D04_Alter'].astype(str)\n",
    "df_03_heimbewohner_bl.head(2)"
   ]
  },
  {
   "cell_type": "code",
   "execution_count": 155,
   "id": "d4dc52fe",
   "metadata": {},
   "outputs": [
    {
     "data": {
      "text/plain": [
       "30951"
      ]
     },
     "execution_count": 155,
     "metadata": {},
     "output_type": "execute_result"
    }
   ],
   "source": [
    "len(df_03_heimbewohner_bl)"
   ]
  },
  {
   "cell_type": "code",
   "execution_count": 156,
   "id": "a631ec76",
   "metadata": {},
   "outputs": [
    {
     "data": {
      "text/plain": [
       "D05_Gemeinde_Wohnort\n",
       "2761    1076\n",
       "2762    2642\n",
       "2763    1366\n",
       "2764     129\n",
       "2765    1993\n",
       "        ... \n",
       "2890     330\n",
       "2891     208\n",
       "2893     269\n",
       "2894      75\n",
       "2895     131\n",
       "Name: BEWOHNER_AM_STICHTAG, Length: 85, dtype: int64"
      ]
     },
     "execution_count": 156,
     "metadata": {},
     "output_type": "execute_result"
    }
   ],
   "source": [
    "df_03_heimbewohner_bl.groupby('D05_Gemeinde_Wohnort')['BEWOHNER_AM_STICHTAG'].sum()"
   ]
  },
  {
   "cell_type": "code",
   "execution_count": 157,
   "id": "99427503",
   "metadata": {},
   "outputs": [
    {
     "data": {
      "text/html": [
       "<div>\n",
       "<style scoped>\n",
       "    .dataframe tbody tr th:only-of-type {\n",
       "        vertical-align: middle;\n",
       "    }\n",
       "\n",
       "    .dataframe tbody tr th {\n",
       "        vertical-align: top;\n",
       "    }\n",
       "\n",
       "    .dataframe thead th {\n",
       "        text-align: right;\n",
       "    }\n",
       "</style>\n",
       "<table border=\"1\" class=\"dataframe\">\n",
       "  <thead>\n",
       "    <tr style=\"text-align: right;\">\n",
       "      <th></th>\n",
       "      <th>JAHR_GEMNR_ALTER</th>\n",
       "      <th>Jahr</th>\n",
       "      <th>D04_Alter</th>\n",
       "      <th>D05_Gemeinde_Wohnort</th>\n",
       "      <th>BEWOHNER_AM_STICHTAG</th>\n",
       "    </tr>\n",
       "  </thead>\n",
       "  <tbody>\n",
       "    <tr>\n",
       "      <th>0</th>\n",
       "      <td>2006_2761_104</td>\n",
       "      <td>2006</td>\n",
       "      <td>104</td>\n",
       "      <td>2761</td>\n",
       "      <td>1</td>\n",
       "    </tr>\n",
       "    <tr>\n",
       "      <th>1</th>\n",
       "      <td>2006_2761_80</td>\n",
       "      <td>2006</td>\n",
       "      <td>80</td>\n",
       "      <td>2761</td>\n",
       "      <td>2</td>\n",
       "    </tr>\n",
       "    <tr>\n",
       "      <th>2</th>\n",
       "      <td>2006_2761_81</td>\n",
       "      <td>2006</td>\n",
       "      <td>81</td>\n",
       "      <td>2761</td>\n",
       "      <td>4</td>\n",
       "    </tr>\n",
       "    <tr>\n",
       "      <th>3</th>\n",
       "      <td>2006_2761_82</td>\n",
       "      <td>2006</td>\n",
       "      <td>82</td>\n",
       "      <td>2761</td>\n",
       "      <td>3</td>\n",
       "    </tr>\n",
       "    <tr>\n",
       "      <th>4</th>\n",
       "      <td>2006_2761_83</td>\n",
       "      <td>2006</td>\n",
       "      <td>83</td>\n",
       "      <td>2761</td>\n",
       "      <td>4</td>\n",
       "    </tr>\n",
       "  </tbody>\n",
       "</table>\n",
       "</div>"
      ],
      "text/plain": [
       "  JAHR_GEMNR_ALTER  Jahr  D04_Alter  D05_Gemeinde_Wohnort  \\\n",
       "0    2006_2761_104  2006        104                  2761   \n",
       "1     2006_2761_80  2006         80                  2761   \n",
       "2     2006_2761_81  2006         81                  2761   \n",
       "3     2006_2761_82  2006         82                  2761   \n",
       "4     2006_2761_83  2006         83                  2761   \n",
       "\n",
       "   BEWOHNER_AM_STICHTAG  \n",
       "0                     1  \n",
       "1                     2  \n",
       "2                     4  \n",
       "3                     3  \n",
       "4                     4  "
      ]
     },
     "execution_count": 157,
     "metadata": {},
     "output_type": "execute_result"
    }
   ],
   "source": [
    "df_03_heimbewohner_bl_group=df_03_heimbewohner_bl.groupby(['JAHR_GEMNR_ALTER','Jahr', 'D04_Alter', 'D05_Gemeinde_Wohnort']).sum('BEWOHNER_AM_STICHTAG').reset_index()\n",
    "df_03_heimbewohner_bl_group.head()"
   ]
  },
  {
   "cell_type": "markdown",
   "id": "1cf13598",
   "metadata": {},
   "source": [
    "Oben: Mit groupby zu series und mit .reset_index wieder zu df!"
   ]
  },
  {
   "cell_type": "code",
   "execution_count": 158,
   "id": "1d14a4d8",
   "metadata": {},
   "outputs": [
    {
     "data": {
      "text/plain": [
       "<AxesSubplot:xlabel='D05_Gemeinde_Wohnort'>"
      ]
     },
     "execution_count": 158,
     "metadata": {},
     "output_type": "execute_result"
    },
    {
     "data": {
      "image/png": "[encoded data removed]",
      "text/plain": [
       "<Figure size 1080x144 with 1 Axes>"
      ]
     },
     "metadata": {
      "needs_background": "light"
     },
     "output_type": "display_data"
    }
   ],
   "source": [
    "df_03_heimbewohner_bl_group.groupby('D05_Gemeinde_Wohnort')['BEWOHNER_AM_STICHTAG'].count().plot(kind='bar',figsize=(15,2))"
   ]
  },
  {
   "cell_type": "code",
   "execution_count": 159,
   "id": "b535f485",
   "metadata": {},
   "outputs": [
    {
     "data": {
      "text/html": [
       "<div>\n",
       "<style scoped>\n",
       "    .dataframe tbody tr th:only-of-type {\n",
       "        vertical-align: middle;\n",
       "    }\n",
       "\n",
       "    .dataframe tbody tr th {\n",
       "        vertical-align: top;\n",
       "    }\n",
       "\n",
       "    .dataframe thead th {\n",
       "        text-align: right;\n",
       "    }\n",
       "</style>\n",
       "<table border=\"1\" class=\"dataframe\">\n",
       "  <thead>\n",
       "    <tr style=\"text-align: right;\">\n",
       "      <th></th>\n",
       "      <th>JAHR_GEMNR_ALTER</th>\n",
       "      <th>Jahr</th>\n",
       "      <th>D04_Alter</th>\n",
       "      <th>D05_Gemeinde_Wohnort</th>\n",
       "      <th>BEWOHNER_AM_STICHTAG</th>\n",
       "    </tr>\n",
       "  </thead>\n",
       "  <tbody>\n",
       "    <tr>\n",
       "      <th>0</th>\n",
       "      <td>2006_2761_104</td>\n",
       "      <td>2006</td>\n",
       "      <td>104</td>\n",
       "      <td>2761</td>\n",
       "      <td>1</td>\n",
       "    </tr>\n",
       "    <tr>\n",
       "      <th>1</th>\n",
       "      <td>2006_2761_80</td>\n",
       "      <td>2006</td>\n",
       "      <td>80</td>\n",
       "      <td>2761</td>\n",
       "      <td>2</td>\n",
       "    </tr>\n",
       "    <tr>\n",
       "      <th>2</th>\n",
       "      <td>2006_2761_81</td>\n",
       "      <td>2006</td>\n",
       "      <td>81</td>\n",
       "      <td>2761</td>\n",
       "      <td>4</td>\n",
       "    </tr>\n",
       "    <tr>\n",
       "      <th>3</th>\n",
       "      <td>2006_2761_82</td>\n",
       "      <td>2006</td>\n",
       "      <td>82</td>\n",
       "      <td>2761</td>\n",
       "      <td>3</td>\n",
       "    </tr>\n",
       "    <tr>\n",
       "      <th>4</th>\n",
       "      <td>2006_2761_83</td>\n",
       "      <td>2006</td>\n",
       "      <td>83</td>\n",
       "      <td>2761</td>\n",
       "      <td>4</td>\n",
       "    </tr>\n",
       "    <tr>\n",
       "      <th>...</th>\n",
       "      <td>...</td>\n",
       "      <td>...</td>\n",
       "      <td>...</td>\n",
       "      <td>...</td>\n",
       "      <td>...</td>\n",
       "    </tr>\n",
       "    <tr>\n",
       "      <th>9664</th>\n",
       "      <td>2019_2895_87</td>\n",
       "      <td>2019</td>\n",
       "      <td>87</td>\n",
       "      <td>2895</td>\n",
       "      <td>1</td>\n",
       "    </tr>\n",
       "    <tr>\n",
       "      <th>9665</th>\n",
       "      <td>2019_2895_89</td>\n",
       "      <td>2019</td>\n",
       "      <td>89</td>\n",
       "      <td>2895</td>\n",
       "      <td>1</td>\n",
       "    </tr>\n",
       "    <tr>\n",
       "      <th>9666</th>\n",
       "      <td>2019_2895_90</td>\n",
       "      <td>2019</td>\n",
       "      <td>90</td>\n",
       "      <td>2895</td>\n",
       "      <td>1</td>\n",
       "    </tr>\n",
       "    <tr>\n",
       "      <th>9667</th>\n",
       "      <td>2019_2895_91</td>\n",
       "      <td>2019</td>\n",
       "      <td>91</td>\n",
       "      <td>2895</td>\n",
       "      <td>2</td>\n",
       "    </tr>\n",
       "    <tr>\n",
       "      <th>9668</th>\n",
       "      <td>2019_2895_98</td>\n",
       "      <td>2019</td>\n",
       "      <td>98</td>\n",
       "      <td>2895</td>\n",
       "      <td>1</td>\n",
       "    </tr>\n",
       "  </tbody>\n",
       "</table>\n",
       "<p>9669 rows × 5 columns</p>\n",
       "</div>"
      ],
      "text/plain": [
       "     JAHR_GEMNR_ALTER  Jahr  D04_Alter  D05_Gemeinde_Wohnort  \\\n",
       "0       2006_2761_104  2006        104                  2761   \n",
       "1        2006_2761_80  2006         80                  2761   \n",
       "2        2006_2761_81  2006         81                  2761   \n",
       "3        2006_2761_82  2006         82                  2761   \n",
       "4        2006_2761_83  2006         83                  2761   \n",
       "...               ...   ...        ...                   ...   \n",
       "9664     2019_2895_87  2019         87                  2895   \n",
       "9665     2019_2895_89  2019         89                  2895   \n",
       "9666     2019_2895_90  2019         90                  2895   \n",
       "9667     2019_2895_91  2019         91                  2895   \n",
       "9668     2019_2895_98  2019         98                  2895   \n",
       "\n",
       "      BEWOHNER_AM_STICHTAG  \n",
       "0                        1  \n",
       "1                        2  \n",
       "2                        4  \n",
       "3                        3  \n",
       "4                        4  \n",
       "...                    ...  \n",
       "9664                     1  \n",
       "9665                     1  \n",
       "9666                     1  \n",
       "9667                     2  \n",
       "9668                     1  \n",
       "\n",
       "[9669 rows x 5 columns]"
      ]
     },
     "execution_count": 159,
     "metadata": {},
     "output_type": "execute_result"
    }
   ],
   "source": [
    "df_03_heimbewohner_bl_group"
   ]
  },
  {
   "cell_type": "code",
   "execution_count": 160,
   "id": "4ad09b22",
   "metadata": {},
   "outputs": [
    {
     "data": {
      "text/plain": [
       "Jahr\n",
       "2006    1831\n",
       "2007    1948\n",
       "2008    1992\n",
       "2009    2050\n",
       "2010    2094\n",
       "2011    2113\n",
       "2012    2206\n",
       "2013    2268\n",
       "2014    2277\n",
       "2015    2365\n",
       "2017    2402\n",
       "2016    2403\n",
       "2018    2475\n",
       "2019    2527\n",
       "Name: BEWOHNER_AM_STICHTAG, dtype: int64"
      ]
     },
     "execution_count": 160,
     "metadata": {},
     "output_type": "execute_result"
    }
   ],
   "source": [
    "df_03_heimbewohner_bl_group.groupby('Jahr')['BEWOHNER_AM_STICHTAG'].sum().sort_values(ascending=True)"
   ]
  },
  {
   "cell_type": "code",
   "execution_count": 161,
   "id": "d5936cd7",
   "metadata": {},
   "outputs": [
    {
     "data": {
      "text/html": [
       "<div>\n",
       "<style scoped>\n",
       "    .dataframe tbody tr th:only-of-type {\n",
       "        vertical-align: middle;\n",
       "    }\n",
       "\n",
       "    .dataframe tbody tr th {\n",
       "        vertical-align: top;\n",
       "    }\n",
       "\n",
       "    .dataframe thead th {\n",
       "        text-align: right;\n",
       "    }\n",
       "</style>\n",
       "<table border=\"1\" class=\"dataframe\">\n",
       "  <thead>\n",
       "    <tr style=\"text-align: right;\">\n",
       "      <th></th>\n",
       "      <th>B_GEMNR</th>\n",
       "      <th>B_Jahr</th>\n",
       "      <th>B_Alter</th>\n",
       "      <th>B_Anzahl</th>\n",
       "      <th>JAHR_GEMNR_ALTER</th>\n",
       "    </tr>\n",
       "  </thead>\n",
       "  <tbody>\n",
       "    <tr>\n",
       "      <th>0</th>\n",
       "      <td>2761</td>\n",
       "      <td>2006</td>\n",
       "      <td>80</td>\n",
       "      <td>50</td>\n",
       "      <td>2006_2761_80</td>\n",
       "    </tr>\n",
       "  </tbody>\n",
       "</table>\n",
       "</div>"
      ],
      "text/plain": [
       "  B_GEMNR  B_Jahr  B_Alter  B_Anzahl JAHR_GEMNR_ALTER\n",
       "0    2761    2006       80        50     2006_2761_80"
      ]
     },
     "execution_count": 161,
     "metadata": {},
     "output_type": "execute_result"
    }
   ],
   "source": [
    "df_03_bev_80.head(1)"
   ]
  },
  {
   "cell_type": "code",
   "execution_count": 162,
   "id": "ba0b2e59",
   "metadata": {},
   "outputs": [
    {
     "data": {
      "text/plain": [
       "B_Jahr\n",
       "2006    11928\n",
       "2007    12398\n",
       "2008    13037\n",
       "2009    13544\n",
       "2010    14045\n",
       "2011    14603\n",
       "2012    15138\n",
       "2013    15599\n",
       "2014    16232\n",
       "2015    16664\n",
       "2016    17321\n",
       "2017    17788\n",
       "2018    18399\n",
       "2019    19054\n",
       "Name: B_Anzahl, dtype: int64"
      ]
     },
     "execution_count": 162,
     "metadata": {},
     "output_type": "execute_result"
    }
   ],
   "source": [
    "df_03_bev_80.groupby('B_Jahr')['B_Anzahl'].sum()"
   ]
  },
  {
   "cell_type": "code",
   "execution_count": 163,
   "id": "ca4d8e89",
   "metadata": {},
   "outputs": [
    {
     "data": {
      "text/plain": [
       "B_GEMNR             object\n",
       "B_Jahr               int64\n",
       "B_Alter              int64\n",
       "B_Anzahl             int64\n",
       "JAHR_GEMNR_ALTER    object\n",
       "dtype: object"
      ]
     },
     "execution_count": 163,
     "metadata": {},
     "output_type": "execute_result"
    }
   ],
   "source": [
    "df_03_bev_80.dtypes"
   ]
  },
  {
   "cell_type": "code",
   "execution_count": 164,
   "id": "990292a3",
   "metadata": {},
   "outputs": [
    {
     "data": {
      "text/plain": [
       "17355"
      ]
     },
     "execution_count": 164,
     "metadata": {},
     "output_type": "execute_result"
    }
   ],
   "source": [
    "len(df_03_bev_80)"
   ]
  },
  {
   "cell_type": "code",
   "execution_count": 165,
   "id": "8c199481",
   "metadata": {},
   "outputs": [
    {
     "data": {
      "text/plain": [
       "<AxesSubplot:xlabel='Jahr'>"
      ]
     },
     "execution_count": 165,
     "metadata": {},
     "output_type": "execute_result"
    },
    {
     "data": {
      "image/png": "[encoded data removed]",
      "text/plain": [
       "<Figure size 1080x216 with 1 Axes>"
      ]
     },
     "metadata": {
      "needs_background": "light"
     },
     "output_type": "display_data"
    }
   ],
   "source": [
    "df_03_heimbewohner_bl_group.groupby('Jahr')['BEWOHNER_AM_STICHTAG'].sum().plot(kind='bar',figsize=(15,3), color='green')"
   ]
  },
  {
   "cell_type": "code",
   "execution_count": 166,
   "id": "aec9a55a",
   "metadata": {},
   "outputs": [
    {
     "data": {
      "text/plain": [
       "Jahr\n",
       "2006    1831\n",
       "2007    1948\n",
       "2008    1992\n",
       "2009    2050\n",
       "2010    2094\n",
       "2011    2113\n",
       "2012    2206\n",
       "2013    2268\n",
       "2014    2277\n",
       "2015    2365\n",
       "2016    2403\n",
       "2017    2402\n",
       "2018    2475\n",
       "2019    2527\n",
       "Name: BEWOHNER_AM_STICHTAG, dtype: int64"
      ]
     },
     "execution_count": 166,
     "metadata": {},
     "output_type": "execute_result"
    }
   ],
   "source": [
    "df_03_heimbewohner_bl_group.groupby('Jahr')['BEWOHNER_AM_STICHTAG'].sum()"
   ]
  },
  {
   "cell_type": "code",
   "execution_count": 167,
   "id": "e4666ac2",
   "metadata": {},
   "outputs": [
    {
     "data": {
      "text/plain": [
       "D05_Gemeinde_Wohnort\n",
       "2761    1076\n",
       "2762    2642\n",
       "2763    1366\n",
       "2764     129\n",
       "2765    1993\n",
       "        ... \n",
       "2890     330\n",
       "2891     208\n",
       "2893     269\n",
       "2894      75\n",
       "2895     131\n",
       "Name: BEWOHNER_AM_STICHTAG, Length: 85, dtype: int64"
      ]
     },
     "execution_count": 167,
     "metadata": {},
     "output_type": "execute_result"
    }
   ],
   "source": [
    "df_03_heimbewohner_bl_group.groupby('D05_Gemeinde_Wohnort')['BEWOHNER_AM_STICHTAG'].sum()"
   ]
  },
  {
   "cell_type": "code",
   "execution_count": 168,
   "id": "e99dfbbf",
   "metadata": {},
   "outputs": [
    {
     "data": {
      "text/plain": [
       "<AxesSubplot:xlabel='B_Jahr'>"
      ]
     },
     "execution_count": 168,
     "metadata": {},
     "output_type": "execute_result"
    },
    {
     "data": {
      "image/png": "[encoded data removed]",
      "text/plain": [
       "<Figure size 1080x216 with 1 Axes>"
      ]
     },
     "metadata": {
      "needs_background": "light"
     },
     "output_type": "display_data"
    }
   ],
   "source": [
    "df_03_bev_80.groupby('B_Jahr')['B_Anzahl'].sum().plot(kind='bar',figsize=(15,3))"
   ]
  },
  {
   "cell_type": "code",
   "execution_count": 169,
   "id": "3f939f08",
   "metadata": {},
   "outputs": [
    {
     "data": {
      "text/plain": [
       "30951"
      ]
     },
     "execution_count": 169,
     "metadata": {},
     "output_type": "execute_result"
    }
   ],
   "source": [
    "df_03_heimbewohner_bl_group['BEWOHNER_AM_STICHTAG'].sum()"
   ]
  },
  {
   "cell_type": "code",
   "execution_count": 170,
   "id": "fb732cdb",
   "metadata": {},
   "outputs": [
    {
     "name": "stdout",
     "output_type": "stream",
     "text": [
      "<class 'pandas.core.frame.DataFrame'>\n",
      "RangeIndex: 9669 entries, 0 to 9668\n",
      "Data columns (total 5 columns):\n",
      " #   Column                Non-Null Count  Dtype \n",
      "---  ------                --------------  ----- \n",
      " 0   JAHR_GEMNR_ALTER      9669 non-null   object\n",
      " 1   Jahr                  9669 non-null   int64 \n",
      " 2   D04_Alter             9669 non-null   int64 \n",
      " 3   D05_Gemeinde_Wohnort  9669 non-null   int64 \n",
      " 4   BEWOHNER_AM_STICHTAG  9669 non-null   int64 \n",
      "dtypes: int64(4), object(1)\n",
      "memory usage: 377.8+ KB\n"
     ]
    }
   ],
   "source": [
    "df_03_heimbewohner_bl_group.info()"
   ]
  },
  {
   "cell_type": "code",
   "execution_count": 171,
   "id": "dc5ac6d8",
   "metadata": {},
   "outputs": [
    {
     "data": {
      "text/plain": [
       "JAHR_GEMNR_ALTER        object\n",
       "Jahr                     int64\n",
       "D04_Alter                int64\n",
       "D05_Gemeinde_Wohnort     int64\n",
       "BEWOHNER_AM_STICHTAG     int64\n",
       "dtype: object"
      ]
     },
     "execution_count": 171,
     "metadata": {},
     "output_type": "execute_result"
    }
   ],
   "source": [
    "df_03_heimbewohner_bl_group.dtypes"
   ]
  },
  {
   "cell_type": "code",
   "execution_count": 172,
   "id": "34370f03",
   "metadata": {},
   "outputs": [
    {
     "data": {
      "text/plain": [
       "B_GEMNR             object\n",
       "B_Jahr               int64\n",
       "B_Alter              int64\n",
       "B_Anzahl             int64\n",
       "JAHR_GEMNR_ALTER    object\n",
       "dtype: object"
      ]
     },
     "execution_count": 172,
     "metadata": {},
     "output_type": "execute_result"
    }
   ],
   "source": [
    "df_03_bev_80.dtypes"
   ]
  },
  {
   "cell_type": "code",
   "execution_count": 173,
   "id": "5523cd7e",
   "metadata": {},
   "outputs": [
    {
     "data": {
      "text/html": [
       "<div>\n",
       "<style scoped>\n",
       "    .dataframe tbody tr th:only-of-type {\n",
       "        vertical-align: middle;\n",
       "    }\n",
       "\n",
       "    .dataframe tbody tr th {\n",
       "        vertical-align: top;\n",
       "    }\n",
       "\n",
       "    .dataframe thead th {\n",
       "        text-align: right;\n",
       "    }\n",
       "</style>\n",
       "<table border=\"1\" class=\"dataframe\">\n",
       "  <thead>\n",
       "    <tr style=\"text-align: right;\">\n",
       "      <th></th>\n",
       "      <th>JAHR_GEMNR_ALTER</th>\n",
       "      <th>B_Jahr</th>\n",
       "      <th>B_Alter</th>\n",
       "      <th>B_GEMNR</th>\n",
       "      <th>B_Anzahl</th>\n",
       "    </tr>\n",
       "  </thead>\n",
       "  <tbody>\n",
       "    <tr>\n",
       "      <th>0</th>\n",
       "      <td>2006_2761_100</td>\n",
       "      <td>2006</td>\n",
       "      <td>100</td>\n",
       "      <td>2761</td>\n",
       "      <td>1</td>\n",
       "    </tr>\n",
       "    <tr>\n",
       "      <th>1</th>\n",
       "      <td>2006_2761_104</td>\n",
       "      <td>2006</td>\n",
       "      <td>104</td>\n",
       "      <td>2761</td>\n",
       "      <td>1</td>\n",
       "    </tr>\n",
       "    <tr>\n",
       "      <th>2</th>\n",
       "      <td>2006_2761_80</td>\n",
       "      <td>2006</td>\n",
       "      <td>80</td>\n",
       "      <td>2761</td>\n",
       "      <td>50</td>\n",
       "    </tr>\n",
       "    <tr>\n",
       "      <th>3</th>\n",
       "      <td>2006_2761_81</td>\n",
       "      <td>2006</td>\n",
       "      <td>81</td>\n",
       "      <td>2761</td>\n",
       "      <td>45</td>\n",
       "    </tr>\n",
       "    <tr>\n",
       "      <th>4</th>\n",
       "      <td>2006_2761_82</td>\n",
       "      <td>2006</td>\n",
       "      <td>82</td>\n",
       "      <td>2761</td>\n",
       "      <td>36</td>\n",
       "    </tr>\n",
       "  </tbody>\n",
       "</table>\n",
       "</div>"
      ],
      "text/plain": [
       "  JAHR_GEMNR_ALTER  B_Jahr  B_Alter B_GEMNR  B_Anzahl\n",
       "0    2006_2761_100    2006      100    2761         1\n",
       "1    2006_2761_104    2006      104    2761         1\n",
       "2     2006_2761_80    2006       80    2761        50\n",
       "3     2006_2761_81    2006       81    2761        45\n",
       "4     2006_2761_82    2006       82    2761        36"
      ]
     },
     "execution_count": 173,
     "metadata": {},
     "output_type": "execute_result"
    }
   ],
   "source": [
    "df_03_bev_80_group=df_03_bev_80.groupby(['JAHR_GEMNR_ALTER','B_Jahr', 'B_Alter', 'B_GEMNR']).sum('B_Anzahl').reset_index()\n",
    "df_03_bev_80_group.head()"
   ]
  },
  {
   "cell_type": "markdown",
   "id": "0b6eeb86",
   "metadata": {},
   "source": [
    "Oben: Mit groupby zu series und mit .reset_index wieder zu df!"
   ]
  },
  {
   "cell_type": "markdown",
   "id": "f7d8479d",
   "metadata": {},
   "source": [
    "# Bei beiden zusammenzuführenden Tabellen die komblette Liste der JAHR_GEMNR_ALTER Spalte einlesen um spätere Division durch Null zu vermeiden."
   ]
  },
  {
   "cell_type": "code",
   "execution_count": 191,
   "id": "0f1fd900",
   "metadata": {},
   "outputs": [
    {
     "data": {
      "text/html": [
       "<div>\n",
       "<style scoped>\n",
       "    .dataframe tbody tr th:only-of-type {\n",
       "        vertical-align: middle;\n",
       "    }\n",
       "\n",
       "    .dataframe tbody tr th {\n",
       "        vertical-align: top;\n",
       "    }\n",
       "\n",
       "    .dataframe thead th {\n",
       "        text-align: right;\n",
       "    }\n",
       "</style>\n",
       "<table border=\"1\" class=\"dataframe\">\n",
       "  <thead>\n",
       "    <tr style=\"text-align: right;\">\n",
       "      <th></th>\n",
       "      <th>Unnamed: 0</th>\n",
       "      <th>JAHR_GEMNR_ALTER</th>\n",
       "      <th>Jahr_agg</th>\n",
       "      <th>GEMNR_agg</th>\n",
       "      <th>Alter_agg</th>\n",
       "    </tr>\n",
       "  </thead>\n",
       "  <tbody>\n",
       "    <tr>\n",
       "      <th>0</th>\n",
       "      <td>0</td>\n",
       "      <td>2006_2761_80</td>\n",
       "      <td>2006</td>\n",
       "      <td>2761</td>\n",
       "      <td>80</td>\n",
       "    </tr>\n",
       "    <tr>\n",
       "      <th>1</th>\n",
       "      <td>1</td>\n",
       "      <td>2006_2761_81</td>\n",
       "      <td>2006</td>\n",
       "      <td>2761</td>\n",
       "      <td>81</td>\n",
       "    </tr>\n",
       "    <tr>\n",
       "      <th>2</th>\n",
       "      <td>2</td>\n",
       "      <td>2006_2761_82</td>\n",
       "      <td>2006</td>\n",
       "      <td>2761</td>\n",
       "      <td>82</td>\n",
       "    </tr>\n",
       "    <tr>\n",
       "      <th>3</th>\n",
       "      <td>3</td>\n",
       "      <td>2006_2761_83</td>\n",
       "      <td>2006</td>\n",
       "      <td>2761</td>\n",
       "      <td>83</td>\n",
       "    </tr>\n",
       "    <tr>\n",
       "      <th>4</th>\n",
       "      <td>4</td>\n",
       "      <td>2006_2761_84</td>\n",
       "      <td>2006</td>\n",
       "      <td>2761</td>\n",
       "      <td>84</td>\n",
       "    </tr>\n",
       "  </tbody>\n",
       "</table>\n",
       "</div>"
      ],
      "text/plain": [
       "   Unnamed: 0 JAHR_GEMNR_ALTER  Jahr_agg  GEMNR_agg  Alter_agg\n",
       "0           0     2006_2761_80      2006       2761         80\n",
       "1           1     2006_2761_81      2006       2761         81\n",
       "2           2     2006_2761_82      2006       2761         82\n",
       "3           3     2006_2761_83      2006       2761         83\n",
       "4           4     2006_2761_84      2006       2761         84"
      ]
     },
     "execution_count": 191,
     "metadata": {},
     "output_type": "execute_result"
    }
   ],
   "source": [
    "kombi_variable= pd.read_excel('Input/Zuordnungen/kombi_alter.xlsx') #Kompletter Schlüssel aus drei Merkmalen. Sonst gibt es Probleme bei der Quotenberechnung.\n",
    "kombi_variable.head()"
   ]
  },
  {
   "cell_type": "code",
   "execution_count": 230,
   "id": "b3e04ca5",
   "metadata": {},
   "outputs": [
    {
     "data": {
      "text/plain": [
       "(40455, 5)"
      ]
     },
     "execution_count": 230,
     "metadata": {},
     "output_type": "execute_result"
    }
   ],
   "source": [
    "kombi_variable.shape"
   ]
  },
  {
   "cell_type": "markdown",
   "id": "2280698e",
   "metadata": {},
   "source": [
    "Altersklassen einlesen zum mergen mit kombi_variable"
   ]
  },
  {
   "cell_type": "code",
   "execution_count": 192,
   "id": "eb4bf924",
   "metadata": {},
   "outputs": [
    {
     "data": {
      "text/html": [
       "<div>\n",
       "<style scoped>\n",
       "    .dataframe tbody tr th:only-of-type {\n",
       "        vertical-align: middle;\n",
       "    }\n",
       "\n",
       "    .dataframe tbody tr th {\n",
       "        vertical-align: top;\n",
       "    }\n",
       "\n",
       "    .dataframe thead th {\n",
       "        text-align: right;\n",
       "    }\n",
       "</style>\n",
       "<table border=\"1\" class=\"dataframe\">\n",
       "  <thead>\n",
       "    <tr style=\"text-align: right;\">\n",
       "      <th></th>\n",
       "      <th>Alter</th>\n",
       "      <th>Alter_5_kl</th>\n",
       "      <th>Alter_100+</th>\n",
       "    </tr>\n",
       "  </thead>\n",
       "  <tbody>\n",
       "    <tr>\n",
       "      <th>0</th>\n",
       "      <td>80</td>\n",
       "      <td>1 | 80-84</td>\n",
       "      <td>1 | 80</td>\n",
       "    </tr>\n",
       "    <tr>\n",
       "      <th>1</th>\n",
       "      <td>81</td>\n",
       "      <td>1 | 80-84</td>\n",
       "      <td>2 | 81</td>\n",
       "    </tr>\n",
       "    <tr>\n",
       "      <th>2</th>\n",
       "      <td>82</td>\n",
       "      <td>1 | 80-84</td>\n",
       "      <td>3 | 82</td>\n",
       "    </tr>\n",
       "    <tr>\n",
       "      <th>3</th>\n",
       "      <td>83</td>\n",
       "      <td>1 | 80-84</td>\n",
       "      <td>4 | 83</td>\n",
       "    </tr>\n",
       "    <tr>\n",
       "      <th>4</th>\n",
       "      <td>84</td>\n",
       "      <td>1 | 80-84</td>\n",
       "      <td>5 | 84</td>\n",
       "    </tr>\n",
       "  </tbody>\n",
       "</table>\n",
       "</div>"
      ],
      "text/plain": [
       "   Alter Alter_5_kl Alter_100+\n",
       "0     80  1 | 80-84     1 | 80\n",
       "1     81  1 | 80-84     2 | 81\n",
       "2     82  1 | 80-84     3 | 82\n",
       "3     83  1 | 80-84     4 | 83\n",
       "4     84  1 | 80-84     5 | 84"
      ]
     },
     "execution_count": 192,
     "metadata": {},
     "output_type": "execute_result"
    }
   ],
   "source": [
    "alter_80= pd.read_excel ('Input/Zuordnungen/altersklassen_80+.xlsx') #Kompletter Schlüssel aus drei Merkmalen. Sonst gibt es Probleme bei der Quotenberechnung.\n",
    "alter_80.head()"
   ]
  },
  {
   "cell_type": "code",
   "execution_count": 193,
   "id": "363b6c73",
   "metadata": {},
   "outputs": [
    {
     "data": {
      "text/html": [
       "<div>\n",
       "<style scoped>\n",
       "    .dataframe tbody tr th:only-of-type {\n",
       "        vertical-align: middle;\n",
       "    }\n",
       "\n",
       "    .dataframe tbody tr th {\n",
       "        vertical-align: top;\n",
       "    }\n",
       "\n",
       "    .dataframe thead th {\n",
       "        text-align: right;\n",
       "    }\n",
       "</style>\n",
       "<table border=\"1\" class=\"dataframe\">\n",
       "  <thead>\n",
       "    <tr style=\"text-align: right;\">\n",
       "      <th></th>\n",
       "      <th>Unnamed: 0</th>\n",
       "      <th>JAHR_GEMNR_ALTER</th>\n",
       "      <th>Jahr_agg</th>\n",
       "      <th>GEMNR_agg</th>\n",
       "      <th>Alter_agg</th>\n",
       "      <th>Alter</th>\n",
       "      <th>Alter_5_kl</th>\n",
       "      <th>Alter_100+</th>\n",
       "    </tr>\n",
       "  </thead>\n",
       "  <tbody>\n",
       "    <tr>\n",
       "      <th>0</th>\n",
       "      <td>0</td>\n",
       "      <td>2006_2761_80</td>\n",
       "      <td>2006</td>\n",
       "      <td>2761</td>\n",
       "      <td>80</td>\n",
       "      <td>80</td>\n",
       "      <td>1 | 80-84</td>\n",
       "      <td>1 | 80</td>\n",
       "    </tr>\n",
       "    <tr>\n",
       "      <th>1</th>\n",
       "      <td>1</td>\n",
       "      <td>2006_2761_81</td>\n",
       "      <td>2006</td>\n",
       "      <td>2761</td>\n",
       "      <td>81</td>\n",
       "      <td>81</td>\n",
       "      <td>1 | 80-84</td>\n",
       "      <td>2 | 81</td>\n",
       "    </tr>\n",
       "    <tr>\n",
       "      <th>2</th>\n",
       "      <td>2</td>\n",
       "      <td>2006_2761_82</td>\n",
       "      <td>2006</td>\n",
       "      <td>2761</td>\n",
       "      <td>82</td>\n",
       "      <td>82</td>\n",
       "      <td>1 | 80-84</td>\n",
       "      <td>3 | 82</td>\n",
       "    </tr>\n",
       "    <tr>\n",
       "      <th>3</th>\n",
       "      <td>3</td>\n",
       "      <td>2006_2761_83</td>\n",
       "      <td>2006</td>\n",
       "      <td>2761</td>\n",
       "      <td>83</td>\n",
       "      <td>83</td>\n",
       "      <td>1 | 80-84</td>\n",
       "      <td>4 | 83</td>\n",
       "    </tr>\n",
       "    <tr>\n",
       "      <th>4</th>\n",
       "      <td>4</td>\n",
       "      <td>2006_2761_84</td>\n",
       "      <td>2006</td>\n",
       "      <td>2761</td>\n",
       "      <td>84</td>\n",
       "      <td>84</td>\n",
       "      <td>1 | 80-84</td>\n",
       "      <td>5 | 84</td>\n",
       "    </tr>\n",
       "    <tr>\n",
       "      <th>...</th>\n",
       "      <td>...</td>\n",
       "      <td>...</td>\n",
       "      <td>...</td>\n",
       "      <td>...</td>\n",
       "      <td>...</td>\n",
       "      <td>...</td>\n",
       "      <td>...</td>\n",
       "      <td>...</td>\n",
       "    </tr>\n",
       "    <tr>\n",
       "      <th>40450</th>\n",
       "      <td>40450</td>\n",
       "      <td>2020_8999_106</td>\n",
       "      <td>2020</td>\n",
       "      <td>8999</td>\n",
       "      <td>106</td>\n",
       "      <td>106</td>\n",
       "      <td>6 | 105-109</td>\n",
       "      <td>21 | 100+</td>\n",
       "    </tr>\n",
       "    <tr>\n",
       "      <th>40451</th>\n",
       "      <td>40451</td>\n",
       "      <td>2020_8999_107</td>\n",
       "      <td>2020</td>\n",
       "      <td>8999</td>\n",
       "      <td>107</td>\n",
       "      <td>107</td>\n",
       "      <td>6 | 105-109</td>\n",
       "      <td>21 | 100+</td>\n",
       "    </tr>\n",
       "    <tr>\n",
       "      <th>40452</th>\n",
       "      <td>40452</td>\n",
       "      <td>2020_8999_108</td>\n",
       "      <td>2020</td>\n",
       "      <td>8999</td>\n",
       "      <td>108</td>\n",
       "      <td>108</td>\n",
       "      <td>6 | 105-109</td>\n",
       "      <td>21 | 100+</td>\n",
       "    </tr>\n",
       "    <tr>\n",
       "      <th>40453</th>\n",
       "      <td>40453</td>\n",
       "      <td>2020_8999_109</td>\n",
       "      <td>2020</td>\n",
       "      <td>8999</td>\n",
       "      <td>109</td>\n",
       "      <td>109</td>\n",
       "      <td>6 | 105-109</td>\n",
       "      <td>21 | 100+</td>\n",
       "    </tr>\n",
       "    <tr>\n",
       "      <th>40454</th>\n",
       "      <td>40454</td>\n",
       "      <td>2020_8999_110</td>\n",
       "      <td>2020</td>\n",
       "      <td>8999</td>\n",
       "      <td>110</td>\n",
       "      <td>110</td>\n",
       "      <td>7 | 110+</td>\n",
       "      <td>21 | 100+</td>\n",
       "    </tr>\n",
       "  </tbody>\n",
       "</table>\n",
       "<p>40455 rows × 8 columns</p>\n",
       "</div>"
      ],
      "text/plain": [
       "       Unnamed: 0 JAHR_GEMNR_ALTER  Jahr_agg  GEMNR_agg  Alter_agg  Alter  \\\n",
       "0               0     2006_2761_80      2006       2761         80     80   \n",
       "1               1     2006_2761_81      2006       2761         81     81   \n",
       "2               2     2006_2761_82      2006       2761         82     82   \n",
       "3               3     2006_2761_83      2006       2761         83     83   \n",
       "4               4     2006_2761_84      2006       2761         84     84   \n",
       "...           ...              ...       ...        ...        ...    ...   \n",
       "40450       40450    2020_8999_106      2020       8999        106    106   \n",
       "40451       40451    2020_8999_107      2020       8999        107    107   \n",
       "40452       40452    2020_8999_108      2020       8999        108    108   \n",
       "40453       40453    2020_8999_109      2020       8999        109    109   \n",
       "40454       40454    2020_8999_110      2020       8999        110    110   \n",
       "\n",
       "        Alter_5_kl Alter_100+  \n",
       "0        1 | 80-84     1 | 80  \n",
       "1        1 | 80-84     2 | 81  \n",
       "2        1 | 80-84     3 | 82  \n",
       "3        1 | 80-84     4 | 83  \n",
       "4        1 | 80-84     5 | 84  \n",
       "...            ...        ...  \n",
       "40450  6 | 105-109  21 | 100+  \n",
       "40451  6 | 105-109  21 | 100+  \n",
       "40452  6 | 105-109  21 | 100+  \n",
       "40453  6 | 105-109  21 | 100+  \n",
       "40454     7 | 110+  21 | 100+  \n",
       "\n",
       "[40455 rows x 8 columns]"
      ]
     },
     "execution_count": 193,
     "metadata": {},
     "output_type": "execute_result"
    }
   ],
   "source": [
    "kombi_alter_80=pd.merge(kombi_variable, alter_80, how='left', left_on='Alter_agg', right_on='Alter')\n",
    "kombi_alter_80"
   ]
  },
  {
   "cell_type": "code",
   "execution_count": 232,
   "id": "d385db93",
   "metadata": {},
   "outputs": [
    {
     "data": {
      "text/plain": [
       "(40455, 8)"
      ]
     },
     "execution_count": 232,
     "metadata": {},
     "output_type": "execute_result"
    }
   ],
   "source": [
    "kombi_alter_80.shape"
   ]
  },
  {
   "cell_type": "markdown",
   "id": "591fb370",
   "metadata": {},
   "source": [
    "Zuordnung Gemeinden einlesen zum mergen mit kombi_variable"
   ]
  },
  {
   "cell_type": "code",
   "execution_count": 194,
   "id": "ea53ba6c",
   "metadata": {},
   "outputs": [
    {
     "data": {
      "text/html": [
       "<div>\n",
       "<style scoped>\n",
       "    .dataframe tbody tr th:only-of-type {\n",
       "        vertical-align: middle;\n",
       "    }\n",
       "\n",
       "    .dataframe tbody tr th {\n",
       "        vertical-align: top;\n",
       "    }\n",
       "\n",
       "    .dataframe thead th {\n",
       "        text-align: right;\n",
       "    }\n",
       "</style>\n",
       "<table border=\"1\" class=\"dataframe\">\n",
       "  <thead>\n",
       "    <tr style=\"text-align: right;\">\n",
       "      <th></th>\n",
       "      <th>GMDNR</th>\n",
       "      <th>VR_APH_12_2021_agg</th>\n",
       "      <th>VR_Wohnort_12_2021_agg</th>\n",
       "    </tr>\n",
       "  </thead>\n",
       "  <tbody>\n",
       "    <tr>\n",
       "      <th>0</th>\n",
       "      <td>2761</td>\n",
       "      <td>3 | VR Alter Birsstadt</td>\n",
       "      <td>3 | VR Alter Birsstadt</td>\n",
       "    </tr>\n",
       "  </tbody>\n",
       "</table>\n",
       "</div>"
      ],
      "text/plain": [
       "   GMDNR      VR_APH_12_2021_agg  VR_Wohnort_12_2021_agg\n",
       "0   2761  3 | VR Alter Birsstadt  3 | VR Alter Birsstadt"
      ]
     },
     "execution_count": 194,
     "metadata": {},
     "output_type": "execute_result"
    }
   ],
   "source": [
    "vr = pd.read_excel('Input/Zuordnungen/Gem_VR_12_21_agg.xlsx')\n",
    "vr.head(1)"
   ]
  },
  {
   "cell_type": "code",
   "execution_count": 195,
   "id": "c430c361",
   "metadata": {},
   "outputs": [
    {
     "data": {
      "text/html": [
       "<div>\n",
       "<style scoped>\n",
       "    .dataframe tbody tr th:only-of-type {\n",
       "        vertical-align: middle;\n",
       "    }\n",
       "\n",
       "    .dataframe tbody tr th {\n",
       "        vertical-align: top;\n",
       "    }\n",
       "\n",
       "    .dataframe thead th {\n",
       "        text-align: right;\n",
       "    }\n",
       "</style>\n",
       "<table border=\"1\" class=\"dataframe\">\n",
       "  <thead>\n",
       "    <tr style=\"text-align: right;\">\n",
       "      <th></th>\n",
       "      <th>Unnamed: 0</th>\n",
       "      <th>JAHR_GEMNR_ALTER</th>\n",
       "      <th>Jahr_agg</th>\n",
       "      <th>GEMNR_agg</th>\n",
       "      <th>Alter_agg</th>\n",
       "      <th>Alter</th>\n",
       "      <th>Alter_5_kl</th>\n",
       "      <th>Alter_100+</th>\n",
       "      <th>GMDNR</th>\n",
       "      <th>VR_APH_12_2021_agg</th>\n",
       "      <th>VR_Wohnort_12_2021_agg</th>\n",
       "    </tr>\n",
       "  </thead>\n",
       "  <tbody>\n",
       "    <tr>\n",
       "      <th>0</th>\n",
       "      <td>0</td>\n",
       "      <td>2006_2761_80</td>\n",
       "      <td>2006</td>\n",
       "      <td>2761</td>\n",
       "      <td>80</td>\n",
       "      <td>80</td>\n",
       "      <td>1 | 80-84</td>\n",
       "      <td>1 | 80</td>\n",
       "      <td>2761.0</td>\n",
       "      <td>3 | VR Alter Birsstadt</td>\n",
       "      <td>3 | VR Alter Birsstadt</td>\n",
       "    </tr>\n",
       "    <tr>\n",
       "      <th>1</th>\n",
       "      <td>1</td>\n",
       "      <td>2006_2761_81</td>\n",
       "      <td>2006</td>\n",
       "      <td>2761</td>\n",
       "      <td>81</td>\n",
       "      <td>81</td>\n",
       "      <td>1 | 80-84</td>\n",
       "      <td>2 | 81</td>\n",
       "      <td>2761.0</td>\n",
       "      <td>3 | VR Alter Birsstadt</td>\n",
       "      <td>3 | VR Alter Birsstadt</td>\n",
       "    </tr>\n",
       "    <tr>\n",
       "      <th>2</th>\n",
       "      <td>2</td>\n",
       "      <td>2006_2761_82</td>\n",
       "      <td>2006</td>\n",
       "      <td>2761</td>\n",
       "      <td>82</td>\n",
       "      <td>82</td>\n",
       "      <td>1 | 80-84</td>\n",
       "      <td>3 | 82</td>\n",
       "      <td>2761.0</td>\n",
       "      <td>3 | VR Alter Birsstadt</td>\n",
       "      <td>3 | VR Alter Birsstadt</td>\n",
       "    </tr>\n",
       "    <tr>\n",
       "      <th>3</th>\n",
       "      <td>3</td>\n",
       "      <td>2006_2761_83</td>\n",
       "      <td>2006</td>\n",
       "      <td>2761</td>\n",
       "      <td>83</td>\n",
       "      <td>83</td>\n",
       "      <td>1 | 80-84</td>\n",
       "      <td>4 | 83</td>\n",
       "      <td>2761.0</td>\n",
       "      <td>3 | VR Alter Birsstadt</td>\n",
       "      <td>3 | VR Alter Birsstadt</td>\n",
       "    </tr>\n",
       "    <tr>\n",
       "      <th>4</th>\n",
       "      <td>4</td>\n",
       "      <td>2006_2761_84</td>\n",
       "      <td>2006</td>\n",
       "      <td>2761</td>\n",
       "      <td>84</td>\n",
       "      <td>84</td>\n",
       "      <td>1 | 80-84</td>\n",
       "      <td>5 | 84</td>\n",
       "      <td>2761.0</td>\n",
       "      <td>3 | VR Alter Birsstadt</td>\n",
       "      <td>3 | VR Alter Birsstadt</td>\n",
       "    </tr>\n",
       "    <tr>\n",
       "      <th>...</th>\n",
       "      <td>...</td>\n",
       "      <td>...</td>\n",
       "      <td>...</td>\n",
       "      <td>...</td>\n",
       "      <td>...</td>\n",
       "      <td>...</td>\n",
       "      <td>...</td>\n",
       "      <td>...</td>\n",
       "      <td>...</td>\n",
       "      <td>...</td>\n",
       "      <td>...</td>\n",
       "    </tr>\n",
       "    <tr>\n",
       "      <th>40450</th>\n",
       "      <td>40450</td>\n",
       "      <td>2020_8999_106</td>\n",
       "      <td>2020</td>\n",
       "      <td>8999</td>\n",
       "      <td>106</td>\n",
       "      <td>106</td>\n",
       "      <td>6 | 105-109</td>\n",
       "      <td>21 | 100+</td>\n",
       "      <td>NaN</td>\n",
       "      <td>NaN</td>\n",
       "      <td>NaN</td>\n",
       "    </tr>\n",
       "    <tr>\n",
       "      <th>40451</th>\n",
       "      <td>40451</td>\n",
       "      <td>2020_8999_107</td>\n",
       "      <td>2020</td>\n",
       "      <td>8999</td>\n",
       "      <td>107</td>\n",
       "      <td>107</td>\n",
       "      <td>6 | 105-109</td>\n",
       "      <td>21 | 100+</td>\n",
       "      <td>NaN</td>\n",
       "      <td>NaN</td>\n",
       "      <td>NaN</td>\n",
       "    </tr>\n",
       "    <tr>\n",
       "      <th>40452</th>\n",
       "      <td>40452</td>\n",
       "      <td>2020_8999_108</td>\n",
       "      <td>2020</td>\n",
       "      <td>8999</td>\n",
       "      <td>108</td>\n",
       "      <td>108</td>\n",
       "      <td>6 | 105-109</td>\n",
       "      <td>21 | 100+</td>\n",
       "      <td>NaN</td>\n",
       "      <td>NaN</td>\n",
       "      <td>NaN</td>\n",
       "    </tr>\n",
       "    <tr>\n",
       "      <th>40453</th>\n",
       "      <td>40453</td>\n",
       "      <td>2020_8999_109</td>\n",
       "      <td>2020</td>\n",
       "      <td>8999</td>\n",
       "      <td>109</td>\n",
       "      <td>109</td>\n",
       "      <td>6 | 105-109</td>\n",
       "      <td>21 | 100+</td>\n",
       "      <td>NaN</td>\n",
       "      <td>NaN</td>\n",
       "      <td>NaN</td>\n",
       "    </tr>\n",
       "    <tr>\n",
       "      <th>40454</th>\n",
       "      <td>40454</td>\n",
       "      <td>2020_8999_110</td>\n",
       "      <td>2020</td>\n",
       "      <td>8999</td>\n",
       "      <td>110</td>\n",
       "      <td>110</td>\n",
       "      <td>7 | 110+</td>\n",
       "      <td>21 | 100+</td>\n",
       "      <td>NaN</td>\n",
       "      <td>NaN</td>\n",
       "      <td>NaN</td>\n",
       "    </tr>\n",
       "  </tbody>\n",
       "</table>\n",
       "<p>40455 rows × 11 columns</p>\n",
       "</div>"
      ],
      "text/plain": [
       "       Unnamed: 0 JAHR_GEMNR_ALTER  Jahr_agg  GEMNR_agg  Alter_agg  Alter  \\\n",
       "0               0     2006_2761_80      2006       2761         80     80   \n",
       "1               1     2006_2761_81      2006       2761         81     81   \n",
       "2               2     2006_2761_82      2006       2761         82     82   \n",
       "3               3     2006_2761_83      2006       2761         83     83   \n",
       "4               4     2006_2761_84      2006       2761         84     84   \n",
       "...           ...              ...       ...        ...        ...    ...   \n",
       "40450       40450    2020_8999_106      2020       8999        106    106   \n",
       "40451       40451    2020_8999_107      2020       8999        107    107   \n",
       "40452       40452    2020_8999_108      2020       8999        108    108   \n",
       "40453       40453    2020_8999_109      2020       8999        109    109   \n",
       "40454       40454    2020_8999_110      2020       8999        110    110   \n",
       "\n",
       "        Alter_5_kl Alter_100+   GMDNR      VR_APH_12_2021_agg  \\\n",
       "0        1 | 80-84     1 | 80  2761.0  3 | VR Alter Birsstadt   \n",
       "1        1 | 80-84     2 | 81  2761.0  3 | VR Alter Birsstadt   \n",
       "2        1 | 80-84     3 | 82  2761.0  3 | VR Alter Birsstadt   \n",
       "3        1 | 80-84     4 | 83  2761.0  3 | VR Alter Birsstadt   \n",
       "4        1 | 80-84     5 | 84  2761.0  3 | VR Alter Birsstadt   \n",
       "...            ...        ...     ...                     ...   \n",
       "40450  6 | 105-109  21 | 100+     NaN                     NaN   \n",
       "40451  6 | 105-109  21 | 100+     NaN                     NaN   \n",
       "40452  6 | 105-109  21 | 100+     NaN                     NaN   \n",
       "40453  6 | 105-109  21 | 100+     NaN                     NaN   \n",
       "40454     7 | 110+  21 | 100+     NaN                     NaN   \n",
       "\n",
       "       VR_Wohnort_12_2021_agg  \n",
       "0      3 | VR Alter Birsstadt  \n",
       "1      3 | VR Alter Birsstadt  \n",
       "2      3 | VR Alter Birsstadt  \n",
       "3      3 | VR Alter Birsstadt  \n",
       "4      3 | VR Alter Birsstadt  \n",
       "...                       ...  \n",
       "40450                     NaN  \n",
       "40451                     NaN  \n",
       "40452                     NaN  \n",
       "40453                     NaN  \n",
       "40454                     NaN  \n",
       "\n",
       "[40455 rows x 11 columns]"
      ]
     },
     "execution_count": 195,
     "metadata": {},
     "output_type": "execute_result"
    }
   ],
   "source": [
    "kombi_alter_80_vr=pd.merge(kombi_alter_80, vr, how='left', left_on='GEMNR_agg', right_on='GMDNR')\n",
    "kombi_alter_80_vr"
   ]
  },
  {
   "cell_type": "code",
   "execution_count": 233,
   "id": "d97a1296",
   "metadata": {},
   "outputs": [
    {
     "data": {
      "text/plain": [
       "(40455, 7)"
      ]
     },
     "execution_count": 233,
     "metadata": {},
     "output_type": "execute_result"
    }
   ],
   "source": [
    "kombi_alter_80_vr.shape"
   ]
  },
  {
   "cell_type": "code",
   "execution_count": 197,
   "id": "53d20f68",
   "metadata": {},
   "outputs": [
    {
     "data": {
      "text/html": [
       "<div>\n",
       "<style scoped>\n",
       "    .dataframe tbody tr th:only-of-type {\n",
       "        vertical-align: middle;\n",
       "    }\n",
       "\n",
       "    .dataframe tbody tr th {\n",
       "        vertical-align: top;\n",
       "    }\n",
       "\n",
       "    .dataframe thead th {\n",
       "        text-align: right;\n",
       "    }\n",
       "</style>\n",
       "<table border=\"1\" class=\"dataframe\">\n",
       "  <thead>\n",
       "    <tr style=\"text-align: right;\">\n",
       "      <th></th>\n",
       "      <th>JAHR_GEMNR_ALTER</th>\n",
       "      <th>Jahr_agg</th>\n",
       "      <th>Alter_agg</th>\n",
       "      <th>Alter_5_kl</th>\n",
       "      <th>Alter_100+</th>\n",
       "      <th>GMDNR</th>\n",
       "      <th>VR_APH_12_2021_agg</th>\n",
       "    </tr>\n",
       "  </thead>\n",
       "  <tbody>\n",
       "    <tr>\n",
       "      <th>0</th>\n",
       "      <td>2006_2761_80</td>\n",
       "      <td>2006</td>\n",
       "      <td>80</td>\n",
       "      <td>1 | 80-84</td>\n",
       "      <td>1 | 80</td>\n",
       "      <td>2761.0</td>\n",
       "      <td>3 | VR Alter Birsstadt</td>\n",
       "    </tr>\n",
       "    <tr>\n",
       "      <th>1</th>\n",
       "      <td>2006_2761_81</td>\n",
       "      <td>2006</td>\n",
       "      <td>81</td>\n",
       "      <td>1 | 80-84</td>\n",
       "      <td>2 | 81</td>\n",
       "      <td>2761.0</td>\n",
       "      <td>3 | VR Alter Birsstadt</td>\n",
       "    </tr>\n",
       "    <tr>\n",
       "      <th>2</th>\n",
       "      <td>2006_2761_82</td>\n",
       "      <td>2006</td>\n",
       "      <td>82</td>\n",
       "      <td>1 | 80-84</td>\n",
       "      <td>3 | 82</td>\n",
       "      <td>2761.0</td>\n",
       "      <td>3 | VR Alter Birsstadt</td>\n",
       "    </tr>\n",
       "    <tr>\n",
       "      <th>3</th>\n",
       "      <td>2006_2761_83</td>\n",
       "      <td>2006</td>\n",
       "      <td>83</td>\n",
       "      <td>1 | 80-84</td>\n",
       "      <td>4 | 83</td>\n",
       "      <td>2761.0</td>\n",
       "      <td>3 | VR Alter Birsstadt</td>\n",
       "    </tr>\n",
       "    <tr>\n",
       "      <th>4</th>\n",
       "      <td>2006_2761_84</td>\n",
       "      <td>2006</td>\n",
       "      <td>84</td>\n",
       "      <td>1 | 80-84</td>\n",
       "      <td>5 | 84</td>\n",
       "      <td>2761.0</td>\n",
       "      <td>3 | VR Alter Birsstadt</td>\n",
       "    </tr>\n",
       "    <tr>\n",
       "      <th>...</th>\n",
       "      <td>...</td>\n",
       "      <td>...</td>\n",
       "      <td>...</td>\n",
       "      <td>...</td>\n",
       "      <td>...</td>\n",
       "      <td>...</td>\n",
       "      <td>...</td>\n",
       "    </tr>\n",
       "    <tr>\n",
       "      <th>40450</th>\n",
       "      <td>2020_8999_106</td>\n",
       "      <td>2020</td>\n",
       "      <td>106</td>\n",
       "      <td>6 | 105-109</td>\n",
       "      <td>21 | 100+</td>\n",
       "      <td>NaN</td>\n",
       "      <td>NaN</td>\n",
       "    </tr>\n",
       "    <tr>\n",
       "      <th>40451</th>\n",
       "      <td>2020_8999_107</td>\n",
       "      <td>2020</td>\n",
       "      <td>107</td>\n",
       "      <td>6 | 105-109</td>\n",
       "      <td>21 | 100+</td>\n",
       "      <td>NaN</td>\n",
       "      <td>NaN</td>\n",
       "    </tr>\n",
       "    <tr>\n",
       "      <th>40452</th>\n",
       "      <td>2020_8999_108</td>\n",
       "      <td>2020</td>\n",
       "      <td>108</td>\n",
       "      <td>6 | 105-109</td>\n",
       "      <td>21 | 100+</td>\n",
       "      <td>NaN</td>\n",
       "      <td>NaN</td>\n",
       "    </tr>\n",
       "    <tr>\n",
       "      <th>40453</th>\n",
       "      <td>2020_8999_109</td>\n",
       "      <td>2020</td>\n",
       "      <td>109</td>\n",
       "      <td>6 | 105-109</td>\n",
       "      <td>21 | 100+</td>\n",
       "      <td>NaN</td>\n",
       "      <td>NaN</td>\n",
       "    </tr>\n",
       "    <tr>\n",
       "      <th>40454</th>\n",
       "      <td>2020_8999_110</td>\n",
       "      <td>2020</td>\n",
       "      <td>110</td>\n",
       "      <td>7 | 110+</td>\n",
       "      <td>21 | 100+</td>\n",
       "      <td>NaN</td>\n",
       "      <td>NaN</td>\n",
       "    </tr>\n",
       "  </tbody>\n",
       "</table>\n",
       "<p>40455 rows × 7 columns</p>\n",
       "</div>"
      ],
      "text/plain": [
       "      JAHR_GEMNR_ALTER  Jahr_agg  Alter_agg   Alter_5_kl Alter_100+   GMDNR  \\\n",
       "0         2006_2761_80      2006         80    1 | 80-84     1 | 80  2761.0   \n",
       "1         2006_2761_81      2006         81    1 | 80-84     2 | 81  2761.0   \n",
       "2         2006_2761_82      2006         82    1 | 80-84     3 | 82  2761.0   \n",
       "3         2006_2761_83      2006         83    1 | 80-84     4 | 83  2761.0   \n",
       "4         2006_2761_84      2006         84    1 | 80-84     5 | 84  2761.0   \n",
       "...                ...       ...        ...          ...        ...     ...   \n",
       "40450    2020_8999_106      2020        106  6 | 105-109  21 | 100+     NaN   \n",
       "40451    2020_8999_107      2020        107  6 | 105-109  21 | 100+     NaN   \n",
       "40452    2020_8999_108      2020        108  6 | 105-109  21 | 100+     NaN   \n",
       "40453    2020_8999_109      2020        109  6 | 105-109  21 | 100+     NaN   \n",
       "40454    2020_8999_110      2020        110     7 | 110+  21 | 100+     NaN   \n",
       "\n",
       "           VR_APH_12_2021_agg  \n",
       "0      3 | VR Alter Birsstadt  \n",
       "1      3 | VR Alter Birsstadt  \n",
       "2      3 | VR Alter Birsstadt  \n",
       "3      3 | VR Alter Birsstadt  \n",
       "4      3 | VR Alter Birsstadt  \n",
       "...                       ...  \n",
       "40450                     NaN  \n",
       "40451                     NaN  \n",
       "40452                     NaN  \n",
       "40453                     NaN  \n",
       "40454                     NaN  \n",
       "\n",
       "[40455 rows x 7 columns]"
      ]
     },
     "execution_count": 197,
     "metadata": {},
     "output_type": "execute_result"
    }
   ],
   "source": [
    "kombi_alter_80_vr.drop(columns=['Unnamed: 0', 'VR_Wohnort_12_2021_agg', 'Alter', 'GEMNR_agg'], inplace=True)\n",
    "kombi_alter_80_vr"
   ]
  },
  {
   "cell_type": "code",
   "execution_count": 198,
   "id": "a4f48b76",
   "metadata": {},
   "outputs": [
    {
     "data": {
      "text/html": [
       "<div>\n",
       "<style scoped>\n",
       "    .dataframe tbody tr th:only-of-type {\n",
       "        vertical-align: middle;\n",
       "    }\n",
       "\n",
       "    .dataframe tbody tr th {\n",
       "        vertical-align: top;\n",
       "    }\n",
       "\n",
       "    .dataframe thead th {\n",
       "        text-align: right;\n",
       "    }\n",
       "</style>\n",
       "<table border=\"1\" class=\"dataframe\">\n",
       "  <thead>\n",
       "    <tr style=\"text-align: right;\">\n",
       "      <th></th>\n",
       "      <th>JAHR_GEMNR_ALTER</th>\n",
       "      <th>Jahr_agg</th>\n",
       "      <th>Alter_agg</th>\n",
       "      <th>Alter_5_agg</th>\n",
       "      <th>Alter_100+_agg</th>\n",
       "      <th>GMDNR_agg</th>\n",
       "      <th>VR_APH_12_2021_agg</th>\n",
       "    </tr>\n",
       "  </thead>\n",
       "  <tbody>\n",
       "    <tr>\n",
       "      <th>0</th>\n",
       "      <td>2006_2761_80</td>\n",
       "      <td>2006</td>\n",
       "      <td>80</td>\n",
       "      <td>1 | 80-84</td>\n",
       "      <td>1 | 80</td>\n",
       "      <td>2761.0</td>\n",
       "      <td>3 | VR Alter Birsstadt</td>\n",
       "    </tr>\n",
       "    <tr>\n",
       "      <th>1</th>\n",
       "      <td>2006_2761_81</td>\n",
       "      <td>2006</td>\n",
       "      <td>81</td>\n",
       "      <td>1 | 80-84</td>\n",
       "      <td>2 | 81</td>\n",
       "      <td>2761.0</td>\n",
       "      <td>3 | VR Alter Birsstadt</td>\n",
       "    </tr>\n",
       "    <tr>\n",
       "      <th>2</th>\n",
       "      <td>2006_2761_82</td>\n",
       "      <td>2006</td>\n",
       "      <td>82</td>\n",
       "      <td>1 | 80-84</td>\n",
       "      <td>3 | 82</td>\n",
       "      <td>2761.0</td>\n",
       "      <td>3 | VR Alter Birsstadt</td>\n",
       "    </tr>\n",
       "    <tr>\n",
       "      <th>3</th>\n",
       "      <td>2006_2761_83</td>\n",
       "      <td>2006</td>\n",
       "      <td>83</td>\n",
       "      <td>1 | 80-84</td>\n",
       "      <td>4 | 83</td>\n",
       "      <td>2761.0</td>\n",
       "      <td>3 | VR Alter Birsstadt</td>\n",
       "    </tr>\n",
       "    <tr>\n",
       "      <th>4</th>\n",
       "      <td>2006_2761_84</td>\n",
       "      <td>2006</td>\n",
       "      <td>84</td>\n",
       "      <td>1 | 80-84</td>\n",
       "      <td>5 | 84</td>\n",
       "      <td>2761.0</td>\n",
       "      <td>3 | VR Alter Birsstadt</td>\n",
       "    </tr>\n",
       "    <tr>\n",
       "      <th>...</th>\n",
       "      <td>...</td>\n",
       "      <td>...</td>\n",
       "      <td>...</td>\n",
       "      <td>...</td>\n",
       "      <td>...</td>\n",
       "      <td>...</td>\n",
       "      <td>...</td>\n",
       "    </tr>\n",
       "    <tr>\n",
       "      <th>40450</th>\n",
       "      <td>2020_8999_106</td>\n",
       "      <td>2020</td>\n",
       "      <td>106</td>\n",
       "      <td>6 | 105-109</td>\n",
       "      <td>21 | 100+</td>\n",
       "      <td>NaN</td>\n",
       "      <td>NaN</td>\n",
       "    </tr>\n",
       "    <tr>\n",
       "      <th>40451</th>\n",
       "      <td>2020_8999_107</td>\n",
       "      <td>2020</td>\n",
       "      <td>107</td>\n",
       "      <td>6 | 105-109</td>\n",
       "      <td>21 | 100+</td>\n",
       "      <td>NaN</td>\n",
       "      <td>NaN</td>\n",
       "    </tr>\n",
       "    <tr>\n",
       "      <th>40452</th>\n",
       "      <td>2020_8999_108</td>\n",
       "      <td>2020</td>\n",
       "      <td>108</td>\n",
       "      <td>6 | 105-109</td>\n",
       "      <td>21 | 100+</td>\n",
       "      <td>NaN</td>\n",
       "      <td>NaN</td>\n",
       "    </tr>\n",
       "    <tr>\n",
       "      <th>40453</th>\n",
       "      <td>2020_8999_109</td>\n",
       "      <td>2020</td>\n",
       "      <td>109</td>\n",
       "      <td>6 | 105-109</td>\n",
       "      <td>21 | 100+</td>\n",
       "      <td>NaN</td>\n",
       "      <td>NaN</td>\n",
       "    </tr>\n",
       "    <tr>\n",
       "      <th>40454</th>\n",
       "      <td>2020_8999_110</td>\n",
       "      <td>2020</td>\n",
       "      <td>110</td>\n",
       "      <td>7 | 110+</td>\n",
       "      <td>21 | 100+</td>\n",
       "      <td>NaN</td>\n",
       "      <td>NaN</td>\n",
       "    </tr>\n",
       "  </tbody>\n",
       "</table>\n",
       "<p>40455 rows × 7 columns</p>\n",
       "</div>"
      ],
      "text/plain": [
       "      JAHR_GEMNR_ALTER  Jahr_agg  Alter_agg  Alter_5_agg Alter_100+_agg  \\\n",
       "0         2006_2761_80      2006         80    1 | 80-84         1 | 80   \n",
       "1         2006_2761_81      2006         81    1 | 80-84         2 | 81   \n",
       "2         2006_2761_82      2006         82    1 | 80-84         3 | 82   \n",
       "3         2006_2761_83      2006         83    1 | 80-84         4 | 83   \n",
       "4         2006_2761_84      2006         84    1 | 80-84         5 | 84   \n",
       "...                ...       ...        ...          ...            ...   \n",
       "40450    2020_8999_106      2020        106  6 | 105-109      21 | 100+   \n",
       "40451    2020_8999_107      2020        107  6 | 105-109      21 | 100+   \n",
       "40452    2020_8999_108      2020        108  6 | 105-109      21 | 100+   \n",
       "40453    2020_8999_109      2020        109  6 | 105-109      21 | 100+   \n",
       "40454    2020_8999_110      2020        110     7 | 110+      21 | 100+   \n",
       "\n",
       "       GMDNR_agg      VR_APH_12_2021_agg  \n",
       "0         2761.0  3 | VR Alter Birsstadt  \n",
       "1         2761.0  3 | VR Alter Birsstadt  \n",
       "2         2761.0  3 | VR Alter Birsstadt  \n",
       "3         2761.0  3 | VR Alter Birsstadt  \n",
       "4         2761.0  3 | VR Alter Birsstadt  \n",
       "...          ...                     ...  \n",
       "40450        NaN                     NaN  \n",
       "40451        NaN                     NaN  \n",
       "40452        NaN                     NaN  \n",
       "40453        NaN                     NaN  \n",
       "40454        NaN                     NaN  \n",
       "\n",
       "[40455 rows x 7 columns]"
      ]
     },
     "execution_count": 198,
     "metadata": {},
     "output_type": "execute_result"
    }
   ],
   "source": [
    "kombi_alter_80_vr.rename(columns={'Alter_5_kl': 'Alter_5_agg','Alter_100+': 'Alter_100+_agg','GMDNR': 'GMDNR_agg'}, inplace=True)\n",
    "kombi_alter_80_vr"
   ]
  },
  {
   "cell_type": "markdown",
   "id": "9d3315e2",
   "metadata": {},
   "source": [
    "# Heimbewohner anschauen zum mergen mit kombi_variable"
   ]
  },
  {
   "cell_type": "code",
   "execution_count": 199,
   "id": "ee39dd12",
   "metadata": {},
   "outputs": [
    {
     "data": {
      "text/html": [
       "<div>\n",
       "<style scoped>\n",
       "    .dataframe tbody tr th:only-of-type {\n",
       "        vertical-align: middle;\n",
       "    }\n",
       "\n",
       "    .dataframe tbody tr th {\n",
       "        vertical-align: top;\n",
       "    }\n",
       "\n",
       "    .dataframe thead th {\n",
       "        text-align: right;\n",
       "    }\n",
       "</style>\n",
       "<table border=\"1\" class=\"dataframe\">\n",
       "  <thead>\n",
       "    <tr style=\"text-align: right;\">\n",
       "      <th></th>\n",
       "      <th>Jahr</th>\n",
       "      <th>D04_Alter</th>\n",
       "      <th>D05_Gemeinde_Wohnort</th>\n",
       "      <th>BEWOHNER_AM_STICHTAG</th>\n",
       "      <th>JAHR_GEMNR_ALTER</th>\n",
       "    </tr>\n",
       "  </thead>\n",
       "  <tbody>\n",
       "    <tr>\n",
       "      <th>0</th>\n",
       "      <td>2006</td>\n",
       "      <td>83</td>\n",
       "      <td>2762</td>\n",
       "      <td>1</td>\n",
       "      <td>2006_2762_83</td>\n",
       "    </tr>\n",
       "    <tr>\n",
       "      <th>2</th>\n",
       "      <td>2011</td>\n",
       "      <td>80</td>\n",
       "      <td>2773</td>\n",
       "      <td>1</td>\n",
       "      <td>2011_2773_80</td>\n",
       "    </tr>\n",
       "    <tr>\n",
       "      <th>3</th>\n",
       "      <td>2012</td>\n",
       "      <td>81</td>\n",
       "      <td>2773</td>\n",
       "      <td>1</td>\n",
       "      <td>2012_2773_81</td>\n",
       "    </tr>\n",
       "    <tr>\n",
       "      <th>4</th>\n",
       "      <td>2016</td>\n",
       "      <td>89</td>\n",
       "      <td>2849</td>\n",
       "      <td>1</td>\n",
       "      <td>2016_2849_89</td>\n",
       "    </tr>\n",
       "    <tr>\n",
       "      <th>5</th>\n",
       "      <td>2016</td>\n",
       "      <td>90</td>\n",
       "      <td>2849</td>\n",
       "      <td>1</td>\n",
       "      <td>2016_2849_90</td>\n",
       "    </tr>\n",
       "    <tr>\n",
       "      <th>...</th>\n",
       "      <td>...</td>\n",
       "      <td>...</td>\n",
       "      <td>...</td>\n",
       "      <td>...</td>\n",
       "      <td>...</td>\n",
       "    </tr>\n",
       "    <tr>\n",
       "      <th>40087</th>\n",
       "      <td>2019</td>\n",
       "      <td>87</td>\n",
       "      <td>2762</td>\n",
       "      <td>1</td>\n",
       "      <td>2019_2762_87</td>\n",
       "    </tr>\n",
       "    <tr>\n",
       "      <th>40088</th>\n",
       "      <td>2019</td>\n",
       "      <td>89</td>\n",
       "      <td>2831</td>\n",
       "      <td>1</td>\n",
       "      <td>2019_2831_89</td>\n",
       "    </tr>\n",
       "    <tr>\n",
       "      <th>40089</th>\n",
       "      <td>2019</td>\n",
       "      <td>85</td>\n",
       "      <td>2831</td>\n",
       "      <td>1</td>\n",
       "      <td>2019_2831_85</td>\n",
       "    </tr>\n",
       "    <tr>\n",
       "      <th>40090</th>\n",
       "      <td>2019</td>\n",
       "      <td>88</td>\n",
       "      <td>2831</td>\n",
       "      <td>1</td>\n",
       "      <td>2019_2831_88</td>\n",
       "    </tr>\n",
       "    <tr>\n",
       "      <th>40091</th>\n",
       "      <td>2019</td>\n",
       "      <td>86</td>\n",
       "      <td>2831</td>\n",
       "      <td>1</td>\n",
       "      <td>2019_2831_86</td>\n",
       "    </tr>\n",
       "  </tbody>\n",
       "</table>\n",
       "<p>30951 rows × 5 columns</p>\n",
       "</div>"
      ],
      "text/plain": [
       "       Jahr  D04_Alter  D05_Gemeinde_Wohnort  BEWOHNER_AM_STICHTAG  \\\n",
       "0      2006         83                  2762                     1   \n",
       "2      2011         80                  2773                     1   \n",
       "3      2012         81                  2773                     1   \n",
       "4      2016         89                  2849                     1   \n",
       "5      2016         90                  2849                     1   \n",
       "...     ...        ...                   ...                   ...   \n",
       "40087  2019         87                  2762                     1   \n",
       "40088  2019         89                  2831                     1   \n",
       "40089  2019         85                  2831                     1   \n",
       "40090  2019         88                  2831                     1   \n",
       "40091  2019         86                  2831                     1   \n",
       "\n",
       "      JAHR_GEMNR_ALTER  \n",
       "0         2006_2762_83  \n",
       "2         2011_2773_80  \n",
       "3         2012_2773_81  \n",
       "4         2016_2849_89  \n",
       "5         2016_2849_90  \n",
       "...                ...  \n",
       "40087     2019_2762_87  \n",
       "40088     2019_2831_89  \n",
       "40089     2019_2831_85  \n",
       "40090     2019_2831_88  \n",
       "40091     2019_2831_86  \n",
       "\n",
       "[30951 rows x 5 columns]"
      ]
     },
     "execution_count": 199,
     "metadata": {},
     "output_type": "execute_result"
    }
   ],
   "source": [
    "df_03_heimbewohner_bl"
   ]
  },
  {
   "cell_type": "code",
   "execution_count": 200,
   "id": "b89a9345",
   "metadata": {},
   "outputs": [
    {
     "data": {
      "text/plain": [
       "Jahr\n",
       "2006    1831\n",
       "2007    1948\n",
       "2008    1992\n",
       "2009    2050\n",
       "2010    2094\n",
       "2011    2113\n",
       "2012    2206\n",
       "2013    2268\n",
       "2014    2277\n",
       "2015    2365\n",
       "2016    2403\n",
       "2017    2402\n",
       "2018    2475\n",
       "2019    2527\n",
       "Name: BEWOHNER_AM_STICHTAG, dtype: int64"
      ]
     },
     "execution_count": 200,
     "metadata": {},
     "output_type": "execute_result"
    }
   ],
   "source": [
    "df_03_heimbewohner_bl.groupby('Jahr')['BEWOHNER_AM_STICHTAG'].sum()"
   ]
  },
  {
   "cell_type": "code",
   "execution_count": 201,
   "id": "bf6042fa",
   "metadata": {},
   "outputs": [
    {
     "data": {
      "text/html": [
       "<div>\n",
       "<style scoped>\n",
       "    .dataframe tbody tr th:only-of-type {\n",
       "        vertical-align: middle;\n",
       "    }\n",
       "\n",
       "    .dataframe tbody tr th {\n",
       "        vertical-align: top;\n",
       "    }\n",
       "\n",
       "    .dataframe thead th {\n",
       "        text-align: right;\n",
       "    }\n",
       "</style>\n",
       "<table border=\"1\" class=\"dataframe\">\n",
       "  <thead>\n",
       "    <tr style=\"text-align: right;\">\n",
       "      <th></th>\n",
       "      <th>BEWOHNER_AM_STICHTAG_Wohnort</th>\n",
       "      <th>JAHR_GEMNR_ALTER</th>\n",
       "    </tr>\n",
       "  </thead>\n",
       "  <tbody>\n",
       "    <tr>\n",
       "      <th>0</th>\n",
       "      <td>1</td>\n",
       "      <td>2006_2762_83</td>\n",
       "    </tr>\n",
       "    <tr>\n",
       "      <th>2</th>\n",
       "      <td>1</td>\n",
       "      <td>2011_2773_80</td>\n",
       "    </tr>\n",
       "    <tr>\n",
       "      <th>3</th>\n",
       "      <td>1</td>\n",
       "      <td>2012_2773_81</td>\n",
       "    </tr>\n",
       "    <tr>\n",
       "      <th>4</th>\n",
       "      <td>1</td>\n",
       "      <td>2016_2849_89</td>\n",
       "    </tr>\n",
       "    <tr>\n",
       "      <th>5</th>\n",
       "      <td>1</td>\n",
       "      <td>2016_2849_90</td>\n",
       "    </tr>\n",
       "    <tr>\n",
       "      <th>...</th>\n",
       "      <td>...</td>\n",
       "      <td>...</td>\n",
       "    </tr>\n",
       "    <tr>\n",
       "      <th>40087</th>\n",
       "      <td>1</td>\n",
       "      <td>2019_2762_87</td>\n",
       "    </tr>\n",
       "    <tr>\n",
       "      <th>40088</th>\n",
       "      <td>1</td>\n",
       "      <td>2019_2831_89</td>\n",
       "    </tr>\n",
       "    <tr>\n",
       "      <th>40089</th>\n",
       "      <td>1</td>\n",
       "      <td>2019_2831_85</td>\n",
       "    </tr>\n",
       "    <tr>\n",
       "      <th>40090</th>\n",
       "      <td>1</td>\n",
       "      <td>2019_2831_88</td>\n",
       "    </tr>\n",
       "    <tr>\n",
       "      <th>40091</th>\n",
       "      <td>1</td>\n",
       "      <td>2019_2831_86</td>\n",
       "    </tr>\n",
       "  </tbody>\n",
       "</table>\n",
       "<p>30951 rows × 2 columns</p>\n",
       "</div>"
      ],
      "text/plain": [
       "       BEWOHNER_AM_STICHTAG_Wohnort JAHR_GEMNR_ALTER\n",
       "0                                 1     2006_2762_83\n",
       "2                                 1     2011_2773_80\n",
       "3                                 1     2012_2773_81\n",
       "4                                 1     2016_2849_89\n",
       "5                                 1     2016_2849_90\n",
       "...                             ...              ...\n",
       "40087                             1     2019_2762_87\n",
       "40088                             1     2019_2831_89\n",
       "40089                             1     2019_2831_85\n",
       "40090                             1     2019_2831_88\n",
       "40091                             1     2019_2831_86\n",
       "\n",
       "[30951 rows x 2 columns]"
      ]
     },
     "execution_count": 201,
     "metadata": {},
     "output_type": "execute_result"
    }
   ],
   "source": [
    "df_03_heimbewohner_bl.drop(columns=['Jahr', 'D04_Alter', 'D05_Gemeinde_Wohnort'], inplace=True)\n",
    "df_03_heimbewohner_bl.rename(columns={'BEWOHNER_AM_STICHTAG': 'BEWOHNER_AM_STICHTAG_Wohnort'}, inplace=True)\n",
    "df_03_heimbewohner_bl"
   ]
  },
  {
   "cell_type": "code",
   "execution_count": 202,
   "id": "caf3c2fc",
   "metadata": {},
   "outputs": [
    {
     "data": {
      "text/plain": [
       "(30951, 2)"
      ]
     },
     "execution_count": 202,
     "metadata": {},
     "output_type": "execute_result"
    }
   ],
   "source": [
    "df_03_heimbewohner_bl.shape"
   ]
  },
  {
   "cell_type": "code",
   "execution_count": 203,
   "id": "48e3446c",
   "metadata": {},
   "outputs": [
    {
     "data": {
      "text/plain": [
       "(40455, 7)"
      ]
     },
     "execution_count": 203,
     "metadata": {},
     "output_type": "execute_result"
    }
   ],
   "source": [
    "kombi_alter_80_vr.shape"
   ]
  },
  {
   "cell_type": "code",
   "execution_count": 242,
   "id": "42dccc64",
   "metadata": {},
   "outputs": [
    {
     "data": {
      "text/plain": [
       "JAHR_GEMNR_ALTER\n",
       "2006_2761_104    1\n",
       "2006_2761_80     2\n",
       "2006_2761_81     4\n",
       "2006_2761_82     3\n",
       "2006_2761_83     4\n",
       "                ..\n",
       "2019_2895_87     1\n",
       "2019_2895_89     1\n",
       "2019_2895_90     1\n",
       "2019_2895_91     2\n",
       "2019_2895_98     1\n",
       "Name: BEWOHNER_AM_STICHTAG_Wohnort, Length: 9669, dtype: int64"
      ]
     },
     "execution_count": 242,
     "metadata": {},
     "output_type": "execute_result"
    }
   ],
   "source": [
    "df_03_heimbewohner_bl_grouped=df_03_heimbewohner_bl.groupby('JAHR_GEMNR_ALTER')['BEWOHNER_AM_STICHTAG_Wohnort'].sum()\n",
    "df_03_heimbewohner_bl_grouped"
   ]
  },
  {
   "cell_type": "code",
   "execution_count": 243,
   "id": "d856caa7",
   "metadata": {},
   "outputs": [
    {
     "data": {
      "text/html": [
       "<div>\n",
       "<style scoped>\n",
       "    .dataframe tbody tr th:only-of-type {\n",
       "        vertical-align: middle;\n",
       "    }\n",
       "\n",
       "    .dataframe tbody tr th {\n",
       "        vertical-align: top;\n",
       "    }\n",
       "\n",
       "    .dataframe thead th {\n",
       "        text-align: right;\n",
       "    }\n",
       "</style>\n",
       "<table border=\"1\" class=\"dataframe\">\n",
       "  <thead>\n",
       "    <tr style=\"text-align: right;\">\n",
       "      <th></th>\n",
       "      <th>JAHR_GEMNR_ALTER</th>\n",
       "      <th>Jahr_agg</th>\n",
       "      <th>Alter_agg</th>\n",
       "      <th>Alter_5_agg</th>\n",
       "      <th>Alter_100+_agg</th>\n",
       "      <th>GMDNR_agg</th>\n",
       "      <th>VR_APH_12_2021_agg</th>\n",
       "      <th>BEWOHNER_AM_STICHTAG_Wohnort</th>\n",
       "    </tr>\n",
       "  </thead>\n",
       "  <tbody>\n",
       "    <tr>\n",
       "      <th>0</th>\n",
       "      <td>2006_2761_80</td>\n",
       "      <td>2006</td>\n",
       "      <td>80</td>\n",
       "      <td>1 | 80-84</td>\n",
       "      <td>1 | 80</td>\n",
       "      <td>2761.0</td>\n",
       "      <td>3 | VR Alter Birsstadt</td>\n",
       "      <td>2.0</td>\n",
       "    </tr>\n",
       "    <tr>\n",
       "      <th>1</th>\n",
       "      <td>2006_2761_81</td>\n",
       "      <td>2006</td>\n",
       "      <td>81</td>\n",
       "      <td>1 | 80-84</td>\n",
       "      <td>2 | 81</td>\n",
       "      <td>2761.0</td>\n",
       "      <td>3 | VR Alter Birsstadt</td>\n",
       "      <td>4.0</td>\n",
       "    </tr>\n",
       "    <tr>\n",
       "      <th>2</th>\n",
       "      <td>2006_2761_82</td>\n",
       "      <td>2006</td>\n",
       "      <td>82</td>\n",
       "      <td>1 | 80-84</td>\n",
       "      <td>3 | 82</td>\n",
       "      <td>2761.0</td>\n",
       "      <td>3 | VR Alter Birsstadt</td>\n",
       "      <td>3.0</td>\n",
       "    </tr>\n",
       "    <tr>\n",
       "      <th>3</th>\n",
       "      <td>2006_2761_83</td>\n",
       "      <td>2006</td>\n",
       "      <td>83</td>\n",
       "      <td>1 | 80-84</td>\n",
       "      <td>4 | 83</td>\n",
       "      <td>2761.0</td>\n",
       "      <td>3 | VR Alter Birsstadt</td>\n",
       "      <td>4.0</td>\n",
       "    </tr>\n",
       "    <tr>\n",
       "      <th>4</th>\n",
       "      <td>2006_2761_84</td>\n",
       "      <td>2006</td>\n",
       "      <td>84</td>\n",
       "      <td>1 | 80-84</td>\n",
       "      <td>5 | 84</td>\n",
       "      <td>2761.0</td>\n",
       "      <td>3 | VR Alter Birsstadt</td>\n",
       "      <td>6.0</td>\n",
       "    </tr>\n",
       "    <tr>\n",
       "      <th>...</th>\n",
       "      <td>...</td>\n",
       "      <td>...</td>\n",
       "      <td>...</td>\n",
       "      <td>...</td>\n",
       "      <td>...</td>\n",
       "      <td>...</td>\n",
       "      <td>...</td>\n",
       "      <td>...</td>\n",
       "    </tr>\n",
       "    <tr>\n",
       "      <th>40450</th>\n",
       "      <td>2020_8999_106</td>\n",
       "      <td>2020</td>\n",
       "      <td>106</td>\n",
       "      <td>6 | 105-109</td>\n",
       "      <td>21 | 100+</td>\n",
       "      <td>NaN</td>\n",
       "      <td>NaN</td>\n",
       "      <td>NaN</td>\n",
       "    </tr>\n",
       "    <tr>\n",
       "      <th>40451</th>\n",
       "      <td>2020_8999_107</td>\n",
       "      <td>2020</td>\n",
       "      <td>107</td>\n",
       "      <td>6 | 105-109</td>\n",
       "      <td>21 | 100+</td>\n",
       "      <td>NaN</td>\n",
       "      <td>NaN</td>\n",
       "      <td>NaN</td>\n",
       "    </tr>\n",
       "    <tr>\n",
       "      <th>40452</th>\n",
       "      <td>2020_8999_108</td>\n",
       "      <td>2020</td>\n",
       "      <td>108</td>\n",
       "      <td>6 | 105-109</td>\n",
       "      <td>21 | 100+</td>\n",
       "      <td>NaN</td>\n",
       "      <td>NaN</td>\n",
       "      <td>NaN</td>\n",
       "    </tr>\n",
       "    <tr>\n",
       "      <th>40453</th>\n",
       "      <td>2020_8999_109</td>\n",
       "      <td>2020</td>\n",
       "      <td>109</td>\n",
       "      <td>6 | 105-109</td>\n",
       "      <td>21 | 100+</td>\n",
       "      <td>NaN</td>\n",
       "      <td>NaN</td>\n",
       "      <td>NaN</td>\n",
       "    </tr>\n",
       "    <tr>\n",
       "      <th>40454</th>\n",
       "      <td>2020_8999_110</td>\n",
       "      <td>2020</td>\n",
       "      <td>110</td>\n",
       "      <td>7 | 110+</td>\n",
       "      <td>21 | 100+</td>\n",
       "      <td>NaN</td>\n",
       "      <td>NaN</td>\n",
       "      <td>NaN</td>\n",
       "    </tr>\n",
       "  </tbody>\n",
       "</table>\n",
       "<p>40455 rows × 8 columns</p>\n",
       "</div>"
      ],
      "text/plain": [
       "      JAHR_GEMNR_ALTER  Jahr_agg  Alter_agg  Alter_5_agg Alter_100+_agg  \\\n",
       "0         2006_2761_80      2006         80    1 | 80-84         1 | 80   \n",
       "1         2006_2761_81      2006         81    1 | 80-84         2 | 81   \n",
       "2         2006_2761_82      2006         82    1 | 80-84         3 | 82   \n",
       "3         2006_2761_83      2006         83    1 | 80-84         4 | 83   \n",
       "4         2006_2761_84      2006         84    1 | 80-84         5 | 84   \n",
       "...                ...       ...        ...          ...            ...   \n",
       "40450    2020_8999_106      2020        106  6 | 105-109      21 | 100+   \n",
       "40451    2020_8999_107      2020        107  6 | 105-109      21 | 100+   \n",
       "40452    2020_8999_108      2020        108  6 | 105-109      21 | 100+   \n",
       "40453    2020_8999_109      2020        109  6 | 105-109      21 | 100+   \n",
       "40454    2020_8999_110      2020        110     7 | 110+      21 | 100+   \n",
       "\n",
       "       GMDNR_agg      VR_APH_12_2021_agg  BEWOHNER_AM_STICHTAG_Wohnort  \n",
       "0         2761.0  3 | VR Alter Birsstadt                           2.0  \n",
       "1         2761.0  3 | VR Alter Birsstadt                           4.0  \n",
       "2         2761.0  3 | VR Alter Birsstadt                           3.0  \n",
       "3         2761.0  3 | VR Alter Birsstadt                           4.0  \n",
       "4         2761.0  3 | VR Alter Birsstadt                           6.0  \n",
       "...          ...                     ...                           ...  \n",
       "40450        NaN                     NaN                           NaN  \n",
       "40451        NaN                     NaN                           NaN  \n",
       "40452        NaN                     NaN                           NaN  \n",
       "40453        NaN                     NaN                           NaN  \n",
       "40454        NaN                     NaN                           NaN  \n",
       "\n",
       "[40455 rows x 8 columns]"
      ]
     },
     "execution_count": 243,
     "metadata": {},
     "output_type": "execute_result"
    }
   ],
   "source": [
    "kombi_alter_80_vr_hb=pd.merge(kombi_alter_80_vr, df_03_heimbewohner_bl_grouped, how='left', on='JAHR_GEMNR_ALTER')\n",
    "kombi_alter_80_vr_hb"
   ]
  },
  {
   "cell_type": "code",
   "execution_count": 244,
   "id": "62598259",
   "metadata": {},
   "outputs": [
    {
     "data": {
      "text/plain": [
       "Jahr_agg\n",
       "2006    1831.0\n",
       "2007    1948.0\n",
       "2008    1992.0\n",
       "2009    2050.0\n",
       "2010    2094.0\n",
       "2011    2113.0\n",
       "2012    2206.0\n",
       "2013    2268.0\n",
       "2014    2277.0\n",
       "2015    2365.0\n",
       "2016    2403.0\n",
       "2017    2402.0\n",
       "2018    2475.0\n",
       "2019    2527.0\n",
       "2020       0.0\n",
       "Name: BEWOHNER_AM_STICHTAG_Wohnort, dtype: float64"
      ]
     },
     "execution_count": 244,
     "metadata": {},
     "output_type": "execute_result"
    }
   ],
   "source": [
    "kombi_alter_80_vr_hb.groupby('Jahr_agg')['BEWOHNER_AM_STICHTAG_Wohnort'].sum()\n",
    "#Im Jahr 2014 ist eine Person verschwunden!!!!"
   ]
  },
  {
   "cell_type": "markdown",
   "id": "6e594eb0",
   "metadata": {},
   "source": [
    "# Hier Bev dazumergen"
   ]
  },
  {
   "cell_type": "code",
   "execution_count": 222,
   "id": "2bcfcd47",
   "metadata": {},
   "outputs": [
    {
     "data": {
      "text/html": [
       "<div>\n",
       "<style scoped>\n",
       "    .dataframe tbody tr th:only-of-type {\n",
       "        vertical-align: middle;\n",
       "    }\n",
       "\n",
       "    .dataframe tbody tr th {\n",
       "        vertical-align: top;\n",
       "    }\n",
       "\n",
       "    .dataframe thead th {\n",
       "        text-align: right;\n",
       "    }\n",
       "</style>\n",
       "<table border=\"1\" class=\"dataframe\">\n",
       "  <thead>\n",
       "    <tr style=\"text-align: right;\">\n",
       "      <th></th>\n",
       "      <th>B_GEMNR</th>\n",
       "      <th>B_Jahr</th>\n",
       "      <th>B_Alter</th>\n",
       "      <th>B_Anzahl</th>\n",
       "      <th>JAHR_GEMNR_ALTER</th>\n",
       "    </tr>\n",
       "  </thead>\n",
       "  <tbody>\n",
       "    <tr>\n",
       "      <th>0</th>\n",
       "      <td>2761</td>\n",
       "      <td>2006</td>\n",
       "      <td>80</td>\n",
       "      <td>50</td>\n",
       "      <td>2006_2761_80</td>\n",
       "    </tr>\n",
       "    <tr>\n",
       "      <th>1</th>\n",
       "      <td>2761</td>\n",
       "      <td>2006</td>\n",
       "      <td>81</td>\n",
       "      <td>45</td>\n",
       "      <td>2006_2761_81</td>\n",
       "    </tr>\n",
       "    <tr>\n",
       "      <th>2</th>\n",
       "      <td>2761</td>\n",
       "      <td>2006</td>\n",
       "      <td>82</td>\n",
       "      <td>36</td>\n",
       "      <td>2006_2761_82</td>\n",
       "    </tr>\n",
       "    <tr>\n",
       "      <th>3</th>\n",
       "      <td>2761</td>\n",
       "      <td>2006</td>\n",
       "      <td>83</td>\n",
       "      <td>34</td>\n",
       "      <td>2006_2761_83</td>\n",
       "    </tr>\n",
       "    <tr>\n",
       "      <th>4</th>\n",
       "      <td>2761</td>\n",
       "      <td>2006</td>\n",
       "      <td>84</td>\n",
       "      <td>46</td>\n",
       "      <td>2006_2761_84</td>\n",
       "    </tr>\n",
       "    <tr>\n",
       "      <th>...</th>\n",
       "      <td>...</td>\n",
       "      <td>...</td>\n",
       "      <td>...</td>\n",
       "      <td>...</td>\n",
       "      <td>...</td>\n",
       "    </tr>\n",
       "    <tr>\n",
       "      <th>18665</th>\n",
       "      <td>2895</td>\n",
       "      <td>2019</td>\n",
       "      <td>91</td>\n",
       "      <td>4</td>\n",
       "      <td>2019_2895_91</td>\n",
       "    </tr>\n",
       "    <tr>\n",
       "      <th>18666</th>\n",
       "      <td>2895</td>\n",
       "      <td>2019</td>\n",
       "      <td>93</td>\n",
       "      <td>3</td>\n",
       "      <td>2019_2895_93</td>\n",
       "    </tr>\n",
       "    <tr>\n",
       "      <th>18667</th>\n",
       "      <td>2895</td>\n",
       "      <td>2019</td>\n",
       "      <td>94</td>\n",
       "      <td>1</td>\n",
       "      <td>2019_2895_94</td>\n",
       "    </tr>\n",
       "    <tr>\n",
       "      <th>18668</th>\n",
       "      <td>2895</td>\n",
       "      <td>2019</td>\n",
       "      <td>95</td>\n",
       "      <td>1</td>\n",
       "      <td>2019_2895_95</td>\n",
       "    </tr>\n",
       "    <tr>\n",
       "      <th>18669</th>\n",
       "      <td>2895</td>\n",
       "      <td>2019</td>\n",
       "      <td>98</td>\n",
       "      <td>1</td>\n",
       "      <td>2019_2895_98</td>\n",
       "    </tr>\n",
       "  </tbody>\n",
       "</table>\n",
       "<p>17355 rows × 5 columns</p>\n",
       "</div>"
      ],
      "text/plain": [
       "      B_GEMNR  B_Jahr  B_Alter  B_Anzahl JAHR_GEMNR_ALTER\n",
       "0        2761    2006       80        50     2006_2761_80\n",
       "1        2761    2006       81        45     2006_2761_81\n",
       "2        2761    2006       82        36     2006_2761_82\n",
       "3        2761    2006       83        34     2006_2761_83\n",
       "4        2761    2006       84        46     2006_2761_84\n",
       "...       ...     ...      ...       ...              ...\n",
       "18665    2895    2019       91         4     2019_2895_91\n",
       "18666    2895    2019       93         3     2019_2895_93\n",
       "18667    2895    2019       94         1     2019_2895_94\n",
       "18668    2895    2019       95         1     2019_2895_95\n",
       "18669    2895    2019       98         1     2019_2895_98\n",
       "\n",
       "[17355 rows x 5 columns]"
      ]
     },
     "execution_count": 222,
     "metadata": {},
     "output_type": "execute_result"
    }
   ],
   "source": [
    "df_03_bev_80"
   ]
  },
  {
   "cell_type": "code",
   "execution_count": 245,
   "id": "be3e8aeb",
   "metadata": {},
   "outputs": [
    {
     "data": {
      "text/plain": [
       "B_Jahr\n",
       "2006    11928\n",
       "2007    12398\n",
       "2008    13037\n",
       "2009    13544\n",
       "2010    14045\n",
       "2011    14603\n",
       "2012    15138\n",
       "2013    15599\n",
       "2014    16232\n",
       "2015    16664\n",
       "2016    17321\n",
       "2017    17788\n",
       "2018    18399\n",
       "2019    19054\n",
       "Name: B_Anzahl, dtype: int64"
      ]
     },
     "execution_count": 245,
     "metadata": {},
     "output_type": "execute_result"
    }
   ],
   "source": [
    "df_03_bev_80.groupby('B_Jahr')['B_Anzahl'].sum()"
   ]
  },
  {
   "cell_type": "code",
   "execution_count": 246,
   "id": "489096c0",
   "metadata": {},
   "outputs": [
    {
     "data": {
      "text/html": [
       "<div>\n",
       "<style scoped>\n",
       "    .dataframe tbody tr th:only-of-type {\n",
       "        vertical-align: middle;\n",
       "    }\n",
       "\n",
       "    .dataframe tbody tr th {\n",
       "        vertical-align: top;\n",
       "    }\n",
       "\n",
       "    .dataframe thead th {\n",
       "        text-align: right;\n",
       "    }\n",
       "</style>\n",
       "<table border=\"1\" class=\"dataframe\">\n",
       "  <thead>\n",
       "    <tr style=\"text-align: right;\">\n",
       "      <th></th>\n",
       "      <th>B_Anzahl</th>\n",
       "      <th>JAHR_GEMNR_ALTER</th>\n",
       "    </tr>\n",
       "  </thead>\n",
       "  <tbody>\n",
       "    <tr>\n",
       "      <th>0</th>\n",
       "      <td>50</td>\n",
       "      <td>2006_2761_80</td>\n",
       "    </tr>\n",
       "    <tr>\n",
       "      <th>1</th>\n",
       "      <td>45</td>\n",
       "      <td>2006_2761_81</td>\n",
       "    </tr>\n",
       "    <tr>\n",
       "      <th>2</th>\n",
       "      <td>36</td>\n",
       "      <td>2006_2761_82</td>\n",
       "    </tr>\n",
       "    <tr>\n",
       "      <th>3</th>\n",
       "      <td>34</td>\n",
       "      <td>2006_2761_83</td>\n",
       "    </tr>\n",
       "    <tr>\n",
       "      <th>4</th>\n",
       "      <td>46</td>\n",
       "      <td>2006_2761_84</td>\n",
       "    </tr>\n",
       "    <tr>\n",
       "      <th>...</th>\n",
       "      <td>...</td>\n",
       "      <td>...</td>\n",
       "    </tr>\n",
       "    <tr>\n",
       "      <th>18665</th>\n",
       "      <td>4</td>\n",
       "      <td>2019_2895_91</td>\n",
       "    </tr>\n",
       "    <tr>\n",
       "      <th>18666</th>\n",
       "      <td>3</td>\n",
       "      <td>2019_2895_93</td>\n",
       "    </tr>\n",
       "    <tr>\n",
       "      <th>18667</th>\n",
       "      <td>1</td>\n",
       "      <td>2019_2895_94</td>\n",
       "    </tr>\n",
       "    <tr>\n",
       "      <th>18668</th>\n",
       "      <td>1</td>\n",
       "      <td>2019_2895_95</td>\n",
       "    </tr>\n",
       "    <tr>\n",
       "      <th>18669</th>\n",
       "      <td>1</td>\n",
       "      <td>2019_2895_98</td>\n",
       "    </tr>\n",
       "  </tbody>\n",
       "</table>\n",
       "<p>17355 rows × 2 columns</p>\n",
       "</div>"
      ],
      "text/plain": [
       "       B_Anzahl JAHR_GEMNR_ALTER\n",
       "0            50     2006_2761_80\n",
       "1            45     2006_2761_81\n",
       "2            36     2006_2761_82\n",
       "3            34     2006_2761_83\n",
       "4            46     2006_2761_84\n",
       "...         ...              ...\n",
       "18665         4     2019_2895_91\n",
       "18666         3     2019_2895_93\n",
       "18667         1     2019_2895_94\n",
       "18668         1     2019_2895_95\n",
       "18669         1     2019_2895_98\n",
       "\n",
       "[17355 rows x 2 columns]"
      ]
     },
     "execution_count": 246,
     "metadata": {},
     "output_type": "execute_result"
    }
   ],
   "source": [
    "df_03_bev_80_schmal=df_03_bev_80.drop(columns=['B_GEMNR', 'B_Jahr', 'B_Alter'])\n",
    "df_03_bev_80_schmal"
   ]
  },
  {
   "cell_type": "code",
   "execution_count": 247,
   "id": "a9e16522",
   "metadata": {},
   "outputs": [],
   "source": [
    "#kombi_alter_80vr_hb_kombi=pd.merge(kombi_alter_80vr_hb, kombi_variable,  how='right', left_on='JAHR_GEMNR_ALTER', right_on='JAHR_GEMNR_ALTER')\n",
    "#kombi_alter_80vr_hb_kombi"
   ]
  },
  {
   "cell_type": "code",
   "execution_count": 350,
   "id": "487d95e1",
   "metadata": {},
   "outputs": [
    {
     "data": {
      "text/html": [
       "<div>\n",
       "<style scoped>\n",
       "    .dataframe tbody tr th:only-of-type {\n",
       "        vertical-align: middle;\n",
       "    }\n",
       "\n",
       "    .dataframe tbody tr th {\n",
       "        vertical-align: top;\n",
       "    }\n",
       "\n",
       "    .dataframe thead th {\n",
       "        text-align: right;\n",
       "    }\n",
       "</style>\n",
       "<table border=\"1\" class=\"dataframe\">\n",
       "  <thead>\n",
       "    <tr style=\"text-align: right;\">\n",
       "      <th></th>\n",
       "      <th>JAHR_GEMNR_ALTER</th>\n",
       "      <th>Jahr_agg</th>\n",
       "      <th>Alter_agg</th>\n",
       "      <th>Alter_5_agg</th>\n",
       "      <th>Alter_100+_agg</th>\n",
       "      <th>GMDNR_agg</th>\n",
       "      <th>VR_APH_12_2021_agg</th>\n",
       "      <th>BEWOHNER_AM_STICHTAG_Wohnort</th>\n",
       "      <th>B_Anzahl</th>\n",
       "    </tr>\n",
       "  </thead>\n",
       "  <tbody>\n",
       "    <tr>\n",
       "      <th>0</th>\n",
       "      <td>2006_2761_80</td>\n",
       "      <td>2006</td>\n",
       "      <td>80</td>\n",
       "      <td>1 | 80-84</td>\n",
       "      <td>1 | 80</td>\n",
       "      <td>2761.0</td>\n",
       "      <td>3 | VR Alter Birsstadt</td>\n",
       "      <td>2.0</td>\n",
       "      <td>50.0</td>\n",
       "    </tr>\n",
       "    <tr>\n",
       "      <th>1</th>\n",
       "      <td>2006_2761_81</td>\n",
       "      <td>2006</td>\n",
       "      <td>81</td>\n",
       "      <td>1 | 80-84</td>\n",
       "      <td>2 | 81</td>\n",
       "      <td>2761.0</td>\n",
       "      <td>3 | VR Alter Birsstadt</td>\n",
       "      <td>4.0</td>\n",
       "      <td>45.0</td>\n",
       "    </tr>\n",
       "    <tr>\n",
       "      <th>2</th>\n",
       "      <td>2006_2761_82</td>\n",
       "      <td>2006</td>\n",
       "      <td>82</td>\n",
       "      <td>1 | 80-84</td>\n",
       "      <td>3 | 82</td>\n",
       "      <td>2761.0</td>\n",
       "      <td>3 | VR Alter Birsstadt</td>\n",
       "      <td>3.0</td>\n",
       "      <td>36.0</td>\n",
       "    </tr>\n",
       "    <tr>\n",
       "      <th>3</th>\n",
       "      <td>2006_2761_83</td>\n",
       "      <td>2006</td>\n",
       "      <td>83</td>\n",
       "      <td>1 | 80-84</td>\n",
       "      <td>4 | 83</td>\n",
       "      <td>2761.0</td>\n",
       "      <td>3 | VR Alter Birsstadt</td>\n",
       "      <td>4.0</td>\n",
       "      <td>34.0</td>\n",
       "    </tr>\n",
       "    <tr>\n",
       "      <th>4</th>\n",
       "      <td>2006_2761_84</td>\n",
       "      <td>2006</td>\n",
       "      <td>84</td>\n",
       "      <td>1 | 80-84</td>\n",
       "      <td>5 | 84</td>\n",
       "      <td>2761.0</td>\n",
       "      <td>3 | VR Alter Birsstadt</td>\n",
       "      <td>6.0</td>\n",
       "      <td>46.0</td>\n",
       "    </tr>\n",
       "    <tr>\n",
       "      <th>...</th>\n",
       "      <td>...</td>\n",
       "      <td>...</td>\n",
       "      <td>...</td>\n",
       "      <td>...</td>\n",
       "      <td>...</td>\n",
       "      <td>...</td>\n",
       "      <td>...</td>\n",
       "      <td>...</td>\n",
       "      <td>...</td>\n",
       "    </tr>\n",
       "    <tr>\n",
       "      <th>40450</th>\n",
       "      <td>2020_8999_106</td>\n",
       "      <td>2020</td>\n",
       "      <td>106</td>\n",
       "      <td>6 | 105-109</td>\n",
       "      <td>21 | 100+</td>\n",
       "      <td>NaN</td>\n",
       "      <td>NaN</td>\n",
       "      <td>NaN</td>\n",
       "      <td>NaN</td>\n",
       "    </tr>\n",
       "    <tr>\n",
       "      <th>40451</th>\n",
       "      <td>2020_8999_107</td>\n",
       "      <td>2020</td>\n",
       "      <td>107</td>\n",
       "      <td>6 | 105-109</td>\n",
       "      <td>21 | 100+</td>\n",
       "      <td>NaN</td>\n",
       "      <td>NaN</td>\n",
       "      <td>NaN</td>\n",
       "      <td>NaN</td>\n",
       "    </tr>\n",
       "    <tr>\n",
       "      <th>40452</th>\n",
       "      <td>2020_8999_108</td>\n",
       "      <td>2020</td>\n",
       "      <td>108</td>\n",
       "      <td>6 | 105-109</td>\n",
       "      <td>21 | 100+</td>\n",
       "      <td>NaN</td>\n",
       "      <td>NaN</td>\n",
       "      <td>NaN</td>\n",
       "      <td>NaN</td>\n",
       "    </tr>\n",
       "    <tr>\n",
       "      <th>40453</th>\n",
       "      <td>2020_8999_109</td>\n",
       "      <td>2020</td>\n",
       "      <td>109</td>\n",
       "      <td>6 | 105-109</td>\n",
       "      <td>21 | 100+</td>\n",
       "      <td>NaN</td>\n",
       "      <td>NaN</td>\n",
       "      <td>NaN</td>\n",
       "      <td>NaN</td>\n",
       "    </tr>\n",
       "    <tr>\n",
       "      <th>40454</th>\n",
       "      <td>2020_8999_110</td>\n",
       "      <td>2020</td>\n",
       "      <td>110</td>\n",
       "      <td>7 | 110+</td>\n",
       "      <td>21 | 100+</td>\n",
       "      <td>NaN</td>\n",
       "      <td>NaN</td>\n",
       "      <td>NaN</td>\n",
       "      <td>NaN</td>\n",
       "    </tr>\n",
       "  </tbody>\n",
       "</table>\n",
       "<p>40455 rows × 9 columns</p>\n",
       "</div>"
      ],
      "text/plain": [
       "      JAHR_GEMNR_ALTER  Jahr_agg  Alter_agg  Alter_5_agg Alter_100+_agg  \\\n",
       "0         2006_2761_80      2006         80    1 | 80-84         1 | 80   \n",
       "1         2006_2761_81      2006         81    1 | 80-84         2 | 81   \n",
       "2         2006_2761_82      2006         82    1 | 80-84         3 | 82   \n",
       "3         2006_2761_83      2006         83    1 | 80-84         4 | 83   \n",
       "4         2006_2761_84      2006         84    1 | 80-84         5 | 84   \n",
       "...                ...       ...        ...          ...            ...   \n",
       "40450    2020_8999_106      2020        106  6 | 105-109      21 | 100+   \n",
       "40451    2020_8999_107      2020        107  6 | 105-109      21 | 100+   \n",
       "40452    2020_8999_108      2020        108  6 | 105-109      21 | 100+   \n",
       "40453    2020_8999_109      2020        109  6 | 105-109      21 | 100+   \n",
       "40454    2020_8999_110      2020        110     7 | 110+      21 | 100+   \n",
       "\n",
       "       GMDNR_agg      VR_APH_12_2021_agg  BEWOHNER_AM_STICHTAG_Wohnort  \\\n",
       "0         2761.0  3 | VR Alter Birsstadt                           2.0   \n",
       "1         2761.0  3 | VR Alter Birsstadt                           4.0   \n",
       "2         2761.0  3 | VR Alter Birsstadt                           3.0   \n",
       "3         2761.0  3 | VR Alter Birsstadt                           4.0   \n",
       "4         2761.0  3 | VR Alter Birsstadt                           6.0   \n",
       "...          ...                     ...                           ...   \n",
       "40450        NaN                     NaN                           NaN   \n",
       "40451        NaN                     NaN                           NaN   \n",
       "40452        NaN                     NaN                           NaN   \n",
       "40453        NaN                     NaN                           NaN   \n",
       "40454        NaN                     NaN                           NaN   \n",
       "\n",
       "       B_Anzahl  \n",
       "0          50.0  \n",
       "1          45.0  \n",
       "2          36.0  \n",
       "3          34.0  \n",
       "4          46.0  \n",
       "...         ...  \n",
       "40450       NaN  \n",
       "40451       NaN  \n",
       "40452       NaN  \n",
       "40453       NaN  \n",
       "40454       NaN  \n",
       "\n",
       "[40455 rows x 9 columns]"
      ]
     },
     "execution_count": 350,
     "metadata": {},
     "output_type": "execute_result"
    }
   ],
   "source": [
    "kombi_alter_80vr_hb_bev=pd.merge(kombi_alter_80_vr_hb, df_03_bev_80_schmal,  how='left', on='JAHR_GEMNR_ALTER')\n",
    "kombi_alter_80vr_hb_bev"
   ]
  },
  {
   "cell_type": "code",
   "execution_count": 351,
   "id": "d287c24d",
   "metadata": {},
   "outputs": [],
   "source": [
    "#kombi_alter_80vr_hb_bev.drop(columns=['B_GEMNR', 'B_Jahr', 'B_Alter'], inplace=True)\n",
    "#kombi_alter_80vr_hb_bev"
   ]
  },
  {
   "cell_type": "code",
   "execution_count": 352,
   "id": "d1fa6c56",
   "metadata": {},
   "outputs": [
    {
     "data": {
      "text/plain": [
       "Jahr_agg\n",
       "2006    11928.0\n",
       "2007    12398.0\n",
       "2008    13037.0\n",
       "2009    13544.0\n",
       "2010    14045.0\n",
       "2011    14603.0\n",
       "2012    15138.0\n",
       "2013    15599.0\n",
       "2014    16232.0\n",
       "2015    16664.0\n",
       "2016    17321.0\n",
       "2017    17788.0\n",
       "2018    18399.0\n",
       "2019    19054.0\n",
       "2020        0.0\n",
       "Name: B_Anzahl, dtype: float64"
      ]
     },
     "execution_count": 352,
     "metadata": {},
     "output_type": "execute_result"
    }
   ],
   "source": [
    "kombi_alter_80vr_hb_bev.groupby('Jahr_agg')['B_Anzahl'].sum()"
   ]
  },
  {
   "cell_type": "markdown",
   "id": "188a0085",
   "metadata": {},
   "source": [
    "# Die Tabelle ist fertig und kann so geteilt werden (aggregiert, Basis für Berechnung der Quoten nach unterschiedlichen Ausprägungen)"
   ]
  },
  {
   "cell_type": "code",
   "execution_count": 353,
   "id": "e85af3f1",
   "metadata": {},
   "outputs": [],
   "source": [
    "kombi_alter_80vr_hb_bev.to_excel('Output_weiter_mit_Excel/kombi_alter_80bl_vr_bev_def.xlsx')"
   ]
  },
  {
   "cell_type": "markdown",
   "id": "b81a2dc2",
   "metadata": {},
   "source": [
    "# Plots erstellen"
   ]
  },
  {
   "cell_type": "markdown",
   "id": "60602a2d",
   "metadata": {},
   "source": [
    "# Plots Regionen 2019"
   ]
  },
  {
   "cell_type": "code",
   "execution_count": 354,
   "id": "aced1c9d",
   "metadata": {},
   "outputs": [
    {
     "data": {
      "text/html": [
       "<div>\n",
       "<style scoped>\n",
       "    .dataframe tbody tr th:only-of-type {\n",
       "        vertical-align: middle;\n",
       "    }\n",
       "\n",
       "    .dataframe tbody tr th {\n",
       "        vertical-align: top;\n",
       "    }\n",
       "\n",
       "    .dataframe thead th {\n",
       "        text-align: right;\n",
       "    }\n",
       "</style>\n",
       "<table border=\"1\" class=\"dataframe\">\n",
       "  <thead>\n",
       "    <tr style=\"text-align: right;\">\n",
       "      <th></th>\n",
       "      <th>JAHR_GEMNR_ALTER</th>\n",
       "      <th>Jahr_agg</th>\n",
       "      <th>Alter_agg</th>\n",
       "      <th>Alter_5_agg</th>\n",
       "      <th>Alter_100+_agg</th>\n",
       "      <th>GMDNR_agg</th>\n",
       "      <th>VR_APH_12_2021_agg</th>\n",
       "      <th>BEWOHNER_AM_STICHTAG_Wohnort</th>\n",
       "      <th>B_Anzahl</th>\n",
       "    </tr>\n",
       "  </thead>\n",
       "  <tbody>\n",
       "    <tr>\n",
       "      <th>0</th>\n",
       "      <td>2006_2761_80</td>\n",
       "      <td>2006</td>\n",
       "      <td>80</td>\n",
       "      <td>1 | 80-84</td>\n",
       "      <td>1 | 80</td>\n",
       "      <td>2761.0</td>\n",
       "      <td>3 | VR Alter Birsstadt</td>\n",
       "      <td>2.0</td>\n",
       "      <td>50.0</td>\n",
       "    </tr>\n",
       "  </tbody>\n",
       "</table>\n",
       "</div>"
      ],
      "text/plain": [
       "  JAHR_GEMNR_ALTER  Jahr_agg  Alter_agg Alter_5_agg Alter_100+_agg  GMDNR_agg  \\\n",
       "0     2006_2761_80      2006         80   1 | 80-84         1 | 80     2761.0   \n",
       "\n",
       "       VR_APH_12_2021_agg  BEWOHNER_AM_STICHTAG_Wohnort  B_Anzahl  \n",
       "0  3 | VR Alter Birsstadt                           2.0      50.0  "
      ]
     },
     "execution_count": 354,
     "metadata": {},
     "output_type": "execute_result"
    }
   ],
   "source": [
    "kombi_alter_80vr_hb_bev.head(1)"
   ]
  },
  {
   "cell_type": "code",
   "execution_count": 363,
   "id": "465e3c10",
   "metadata": {},
   "outputs": [],
   "source": [
    "kombi_alter_80vr_hb_bev_2019= kombi_alter_80vr_hb_bev[kombi_alter_80vr_hb_bev['Jahr_agg'] == 2019]"
   ]
  },
  {
   "cell_type": "code",
   "execution_count": 368,
   "id": "9e3775de",
   "metadata": {},
   "outputs": [],
   "source": [
    "df_quote_jahr=kombi_alter_80vr_hb_bev_2019.groupby('VR_APH_12_2021_agg').sum()"
   ]
  },
  {
   "cell_type": "code",
   "execution_count": 369,
   "id": "2fe90917",
   "metadata": {},
   "outputs": [
    {
     "data": {
      "text/html": [
       "<div>\n",
       "<style scoped>\n",
       "    .dataframe tbody tr th:only-of-type {\n",
       "        vertical-align: middle;\n",
       "    }\n",
       "\n",
       "    .dataframe tbody tr th {\n",
       "        vertical-align: top;\n",
       "    }\n",
       "\n",
       "    .dataframe thead th {\n",
       "        text-align: right;\n",
       "    }\n",
       "</style>\n",
       "<table border=\"1\" class=\"dataframe\">\n",
       "  <thead>\n",
       "    <tr style=\"text-align: right;\">\n",
       "      <th></th>\n",
       "      <th>Jahr_agg</th>\n",
       "      <th>Alter_agg</th>\n",
       "      <th>GMDNR_agg</th>\n",
       "      <th>BEWOHNER_AM_STICHTAG_Wohnort</th>\n",
       "      <th>B_Anzahl</th>\n",
       "      <th>Anteil</th>\n",
       "    </tr>\n",
       "    <tr>\n",
       "      <th>VR_APH_12_2021_agg</th>\n",
       "      <th></th>\n",
       "      <th></th>\n",
       "      <th></th>\n",
       "      <th></th>\n",
       "      <th></th>\n",
       "      <th></th>\n",
       "    </tr>\n",
       "  </thead>\n",
       "  <tbody>\n",
       "    <tr>\n",
       "      <th>1 | VR Alter und Gesundheit ABS</th>\n",
       "      <td>187767</td>\n",
       "      <td>8835</td>\n",
       "      <td>257331.0</td>\n",
       "      <td>375.0</td>\n",
       "      <td>2943.0</td>\n",
       "      <td>12.742100</td>\n",
       "    </tr>\n",
       "    <tr>\n",
       "      <th>2 | VR APG Rheintal</th>\n",
       "      <td>312945</td>\n",
       "      <td>14725</td>\n",
       "      <td>434465.0</td>\n",
       "      <td>526.0</td>\n",
       "      <td>3365.0</td>\n",
       "      <td>15.631501</td>\n",
       "    </tr>\n",
       "    <tr>\n",
       "      <th>3 | VR Alter Birsstadt</th>\n",
       "      <td>375534</td>\n",
       "      <td>17670</td>\n",
       "      <td>515313.0</td>\n",
       "      <td>515.0</td>\n",
       "      <td>4205.0</td>\n",
       "      <td>12.247325</td>\n",
       "    </tr>\n",
       "    <tr>\n",
       "      <th>4 | VR BPA Leimental</th>\n",
       "      <td>375534</td>\n",
       "      <td>17670</td>\n",
       "      <td>515468.0</td>\n",
       "      <td>258.0</td>\n",
       "      <td>2621.0</td>\n",
       "      <td>9.843571</td>\n",
       "    </tr>\n",
       "    <tr>\n",
       "      <th>5 | VR APG Laufental</th>\n",
       "      <td>688479</td>\n",
       "      <td>32395</td>\n",
       "      <td>950553.0</td>\n",
       "      <td>116.0</td>\n",
       "      <td>885.0</td>\n",
       "      <td>13.107345</td>\n",
       "    </tr>\n",
       "    <tr>\n",
       "      <th>6 | VR Alters- und Pflegeregion Liestal</th>\n",
       "      <td>625890</td>\n",
       "      <td>29450</td>\n",
       "      <td>876494.0</td>\n",
       "      <td>319.0</td>\n",
       "      <td>2349.0</td>\n",
       "      <td>13.580247</td>\n",
       "    </tr>\n",
       "    <tr>\n",
       "      <th>7 | VR Oberbaselbiet / VR Oberes Homburgertal</th>\n",
       "      <td>1940259</td>\n",
       "      <td>91295</td>\n",
       "      <td>2745484.0</td>\n",
       "      <td>297.0</td>\n",
       "      <td>1938.0</td>\n",
       "      <td>15.325077</td>\n",
       "    </tr>\n",
       "    <tr>\n",
       "      <th>8 | VR Waldenburgertal plus</th>\n",
       "      <td>876246</td>\n",
       "      <td>41230</td>\n",
       "      <td>1251873.0</td>\n",
       "      <td>121.0</td>\n",
       "      <td>748.0</td>\n",
       "      <td>16.176471</td>\n",
       "    </tr>\n",
       "  </tbody>\n",
       "</table>\n",
       "</div>"
      ],
      "text/plain": [
       "                                               Jahr_agg  Alter_agg  GMDNR_agg  \\\n",
       "VR_APH_12_2021_agg                                                              \n",
       "1 | VR Alter und Gesundheit ABS                  187767       8835   257331.0   \n",
       "2 | VR APG Rheintal                              312945      14725   434465.0   \n",
       "3 | VR Alter Birsstadt                           375534      17670   515313.0   \n",
       "4 | VR BPA Leimental                             375534      17670   515468.0   \n",
       "5 | VR APG Laufental                             688479      32395   950553.0   \n",
       "6 | VR Alters- und Pflegeregion Liestal          625890      29450   876494.0   \n",
       "7 | VR Oberbaselbiet / VR Oberes Homburgertal   1940259      91295  2745484.0   \n",
       "8 | VR Waldenburgertal plus                      876246      41230  1251873.0   \n",
       "\n",
       "                                               BEWOHNER_AM_STICHTAG_Wohnort  \\\n",
       "VR_APH_12_2021_agg                                                            \n",
       "1 | VR Alter und Gesundheit ABS                                       375.0   \n",
       "2 | VR APG Rheintal                                                   526.0   \n",
       "3 | VR Alter Birsstadt                                                515.0   \n",
       "4 | VR BPA Leimental                                                  258.0   \n",
       "5 | VR APG Laufental                                                  116.0   \n",
       "6 | VR Alters- und Pflegeregion Liestal                               319.0   \n",
       "7 | VR Oberbaselbiet / VR Oberes Homburgertal                         297.0   \n",
       "8 | VR Waldenburgertal plus                                           121.0   \n",
       "\n",
       "                                               B_Anzahl     Anteil  \n",
       "VR_APH_12_2021_agg                                                  \n",
       "1 | VR Alter und Gesundheit ABS                  2943.0  12.742100  \n",
       "2 | VR APG Rheintal                              3365.0  15.631501  \n",
       "3 | VR Alter Birsstadt                           4205.0  12.247325  \n",
       "4 | VR BPA Leimental                             2621.0   9.843571  \n",
       "5 | VR APG Laufental                              885.0  13.107345  \n",
       "6 | VR Alters- und Pflegeregion Liestal          2349.0  13.580247  \n",
       "7 | VR Oberbaselbiet / VR Oberes Homburgertal    1938.0  15.325077  \n",
       "8 | VR Waldenburgertal plus                       748.0  16.176471  "
      ]
     },
     "execution_count": 369,
     "metadata": {},
     "output_type": "execute_result"
    }
   ],
   "source": [
    "df_quote_jahr.insert(loc=len(df_quote_jahr.columns),\n",
    "           column='Anteil',\n",
    "           value=(df_quote_jahr['BEWOHNER_AM_STICHTAG_Wohnort']/df_quote_jahr['B_Anzahl']*100))\n",
    "df_quote_jahr"
   ]
  },
  {
   "cell_type": "code",
   "execution_count": 372,
   "id": "daf9209f",
   "metadata": {},
   "outputs": [
    {
     "data": {
      "text/plain": [
       "<AxesSubplot:ylabel='VR_APH_12_2021_agg'>"
      ]
     },
     "execution_count": 372,
     "metadata": {},
     "output_type": "execute_result"
    },
    {
     "data": {
      "image/png": "[encoded data removed]",
      "text/plain": [
       "<Figure size 864x576 with 1 Axes>"
      ]
     },
     "metadata": {
      "needs_background": "light"
     },
     "output_type": "display_data"
    }
   ],
   "source": [
    "df_quote_jahr['Anteil'].plot(kind='barh',figsize=(12,8))"
   ]
  },
  {
   "cell_type": "markdown",
   "id": "89be759c",
   "metadata": {},
   "source": [
    "# Plots Quote Alter"
   ]
  },
  {
   "cell_type": "code",
   "execution_count": 408,
   "id": "f2f552ec",
   "metadata": {},
   "outputs": [],
   "source": [
    "df_quote_alter=kombi_alter_80vr_hb_bev_2019.groupby('Alter_100+_agg').sum()"
   ]
  },
  {
   "cell_type": "code",
   "execution_count": 409,
   "id": "d3a818bc",
   "metadata": {
    "scrolled": true
   },
   "outputs": [],
   "source": [
    "df_quote_alter.insert(loc=len(df_quote_alter.columns),\n",
    "           column='Anteil',\n",
    "           value=(df_quote_alter['BEWOHNER_AM_STICHTAG_Wohnort']/df_quote_alter['B_Anzahl']*100))\n",
    "df_quote_alter.sort_values('Alter_agg',ascending=True, inplace=True)"
   ]
  },
  {
   "cell_type": "code",
   "execution_count": 410,
   "id": "e5c0bce9",
   "metadata": {},
   "outputs": [
    {
     "data": {
      "text/plain": [
       "<AxesSubplot:xlabel='Alter_100+_agg'>"
      ]
     },
     "execution_count": 410,
     "metadata": {},
     "output_type": "execute_result"
    },
    {
     "data": {
      "image/png": "[encoded data removed]",
      "text/plain": [
       "<Figure size 864x576 with 1 Axes>"
      ]
     },
     "metadata": {
      "needs_background": "light"
     },
     "output_type": "display_data"
    }
   ],
   "source": [
    "df_quote_alter['Anteil'].plot(kind='bar',figsize=(12,8))"
   ]
  },
  {
   "cell_type": "code",
   "execution_count": null,
   "id": "6a655007",
   "metadata": {},
   "outputs": [],
   "source": []
  },
  {
   "cell_type": "markdown",
   "id": "0d55c7fe",
   "metadata": {},
   "source": [
    "# Hier stoppen"
   ]
  },
  {
   "cell_type": "markdown",
   "id": "202e41a4",
   "metadata": {},
   "source": [
    "# ALTE Quotenberechnung (neu alles oben erledigt, ausser plots)"
   ]
  },
  {
   "cell_type": "code",
   "execution_count": 68,
   "id": "4061484b",
   "metadata": {
    "scrolled": true
   },
   "outputs": [
    {
     "data": {
      "text/html": [
       "<div>\n",
       "<style scoped>\n",
       "    .dataframe tbody tr th:only-of-type {\n",
       "        vertical-align: middle;\n",
       "    }\n",
       "\n",
       "    .dataframe tbody tr th {\n",
       "        vertical-align: top;\n",
       "    }\n",
       "\n",
       "    .dataframe thead th {\n",
       "        text-align: right;\n",
       "    }\n",
       "</style>\n",
       "<table border=\"1\" class=\"dataframe\">\n",
       "  <thead>\n",
       "    <tr style=\"text-align: right;\">\n",
       "      <th></th>\n",
       "      <th>JAHR_GEMNR_ALTER</th>\n",
       "      <th>D05_Gemeinde_Wohnort</th>\n",
       "      <th>BEWOHNER_AM_STICHTAG</th>\n",
       "      <th>B_Anzahl</th>\n",
       "    </tr>\n",
       "  </thead>\n",
       "  <tbody>\n",
       "    <tr>\n",
       "      <th>0</th>\n",
       "      <td>2006_2761_104</td>\n",
       "      <td>2761.0</td>\n",
       "      <td>1.0</td>\n",
       "      <td>1.0</td>\n",
       "    </tr>\n",
       "    <tr>\n",
       "      <th>1</th>\n",
       "      <td>2006_2761_80</td>\n",
       "      <td>2761.0</td>\n",
       "      <td>2.0</td>\n",
       "      <td>50.0</td>\n",
       "    </tr>\n",
       "    <tr>\n",
       "      <th>2</th>\n",
       "      <td>2006_2761_81</td>\n",
       "      <td>2761.0</td>\n",
       "      <td>4.0</td>\n",
       "      <td>45.0</td>\n",
       "    </tr>\n",
       "    <tr>\n",
       "      <th>3</th>\n",
       "      <td>2006_2761_82</td>\n",
       "      <td>2761.0</td>\n",
       "      <td>3.0</td>\n",
       "      <td>36.0</td>\n",
       "    </tr>\n",
       "    <tr>\n",
       "      <th>4</th>\n",
       "      <td>2006_2761_83</td>\n",
       "      <td>2761.0</td>\n",
       "      <td>4.0</td>\n",
       "      <td>34.0</td>\n",
       "    </tr>\n",
       "    <tr>\n",
       "      <th>...</th>\n",
       "      <td>...</td>\n",
       "      <td>...</td>\n",
       "      <td>...</td>\n",
       "      <td>...</td>\n",
       "    </tr>\n",
       "    <tr>\n",
       "      <th>17589</th>\n",
       "      <td>2019_2895_86</td>\n",
       "      <td>NaN</td>\n",
       "      <td>0.0</td>\n",
       "      <td>2.0</td>\n",
       "    </tr>\n",
       "    <tr>\n",
       "      <th>17590</th>\n",
       "      <td>2019_2895_88</td>\n",
       "      <td>NaN</td>\n",
       "      <td>0.0</td>\n",
       "      <td>1.0</td>\n",
       "    </tr>\n",
       "    <tr>\n",
       "      <th>17591</th>\n",
       "      <td>2019_2895_93</td>\n",
       "      <td>NaN</td>\n",
       "      <td>0.0</td>\n",
       "      <td>3.0</td>\n",
       "    </tr>\n",
       "    <tr>\n",
       "      <th>17592</th>\n",
       "      <td>2019_2895_94</td>\n",
       "      <td>NaN</td>\n",
       "      <td>0.0</td>\n",
       "      <td>1.0</td>\n",
       "    </tr>\n",
       "    <tr>\n",
       "      <th>17593</th>\n",
       "      <td>2019_2895_95</td>\n",
       "      <td>NaN</td>\n",
       "      <td>0.0</td>\n",
       "      <td>1.0</td>\n",
       "    </tr>\n",
       "  </tbody>\n",
       "</table>\n",
       "<p>17594 rows × 4 columns</p>\n",
       "</div>"
      ],
      "text/plain": [
       "      JAHR_GEMNR_ALTER  D05_Gemeinde_Wohnort  BEWOHNER_AM_STICHTAG  B_Anzahl\n",
       "0        2006_2761_104                2761.0                   1.0       1.0\n",
       "1         2006_2761_80                2761.0                   2.0      50.0\n",
       "2         2006_2761_81                2761.0                   4.0      45.0\n",
       "3         2006_2761_82                2761.0                   3.0      36.0\n",
       "4         2006_2761_83                2761.0                   4.0      34.0\n",
       "...                ...                   ...                   ...       ...\n",
       "17589     2019_2895_86                   NaN                   0.0       2.0\n",
       "17590     2019_2895_88                   NaN                   0.0       1.0\n",
       "17591     2019_2895_93                   NaN                   0.0       3.0\n",
       "17592     2019_2895_94                   NaN                   0.0       1.0\n",
       "17593     2019_2895_95                   NaN                   0.0       1.0\n",
       "\n",
       "[17594 rows x 4 columns]"
      ]
     },
     "execution_count": 68,
     "metadata": {},
     "output_type": "execute_result"
    }
   ],
   "source": [
    "df_03_heimbewohner_bev[['BEWOHNER_AM_STICHTAG', 'B_Anzahl']]=df_03_heimbewohner_bev[['BEWOHNER_AM_STICHTAG', 'B_Anzahl']].fillna(0)\n",
    "df_03_heimbewohner_bev\n",
    "#df.fillna(0)\n",
    "#df_03_heimbewohner_bev.convert_dtypes()\n",
    "#df_03_heimbewohner_bev.dtypes"
   ]
  },
  {
   "cell_type": "code",
   "execution_count": 69,
   "id": "0e71d02b",
   "metadata": {},
   "outputs": [
    {
     "data": {
      "text/plain": [
       "30951.0"
      ]
     },
     "execution_count": 69,
     "metadata": {},
     "output_type": "execute_result"
    }
   ],
   "source": [
    "df_03_heimbewohner_bev['BEWOHNER_AM_STICHTAG'].sum()"
   ]
  },
  {
   "cell_type": "code",
   "execution_count": 70,
   "id": "2f63e43f",
   "metadata": {},
   "outputs": [
    {
     "ename": "KeyError",
     "evalue": "'Jahr'",
     "output_type": "error",
     "traceback": [
      "\u001b[0;31m---------------------------------------------------------------------------\u001b[0m",
      "\u001b[0;31mKeyError\u001b[0m                                  Traceback (most recent call last)",
      "\u001b[0;32m<ipython-input-70-16bded579412>\u001b[0m in \u001b[0;36m<module>\u001b[0;34m\u001b[0m\n\u001b[0;32m----> 1\u001b[0;31m \u001b[0mdf_03_heimbewohner_bev\u001b[0m\u001b[0;34m.\u001b[0m\u001b[0mgroupby\u001b[0m\u001b[0;34m(\u001b[0m\u001b[0;34m'Jahr'\u001b[0m\u001b[0;34m)\u001b[0m\u001b[0;34m[\u001b[0m\u001b[0;34m'BEWOHNER_AM_STICHTAG'\u001b[0m\u001b[0;34m]\u001b[0m\u001b[0;34m.\u001b[0m\u001b[0msum\u001b[0m\u001b[0;34m(\u001b[0m\u001b[0;34m)\u001b[0m\u001b[0;34m\u001b[0m\u001b[0;34m\u001b[0m\u001b[0m\n\u001b[0m",
      "\u001b[0;32m~/opt/anaconda3/lib/python3.8/site-packages/pandas/core/frame.py\u001b[0m in \u001b[0;36mgroupby\u001b[0;34m(self, by, axis, level, as_index, sort, group_keys, squeeze, observed, dropna)\u001b[0m\n\u001b[1;32m   6715\u001b[0m         \u001b[0maxis\u001b[0m \u001b[0;34m=\u001b[0m \u001b[0mself\u001b[0m\u001b[0;34m.\u001b[0m\u001b[0m_get_axis_number\u001b[0m\u001b[0;34m(\u001b[0m\u001b[0maxis\u001b[0m\u001b[0;34m)\u001b[0m\u001b[0;34m\u001b[0m\u001b[0;34m\u001b[0m\u001b[0m\n\u001b[1;32m   6716\u001b[0m \u001b[0;34m\u001b[0m\u001b[0m\n\u001b[0;32m-> 6717\u001b[0;31m         return DataFrameGroupBy(\n\u001b[0m\u001b[1;32m   6718\u001b[0m             \u001b[0mobj\u001b[0m\u001b[0;34m=\u001b[0m\u001b[0mself\u001b[0m\u001b[0;34m,\u001b[0m\u001b[0;34m\u001b[0m\u001b[0;34m\u001b[0m\u001b[0m\n\u001b[1;32m   6719\u001b[0m             \u001b[0mkeys\u001b[0m\u001b[0;34m=\u001b[0m\u001b[0mby\u001b[0m\u001b[0;34m,\u001b[0m\u001b[0;34m\u001b[0m\u001b[0;34m\u001b[0m\u001b[0m\n",
      "\u001b[0;32m~/opt/anaconda3/lib/python3.8/site-packages/pandas/core/groupby/groupby.py\u001b[0m in \u001b[0;36m__init__\u001b[0;34m(self, obj, keys, axis, level, grouper, exclusions, selection, as_index, sort, group_keys, squeeze, observed, mutated, dropna)\u001b[0m\n\u001b[1;32m    558\u001b[0m             \u001b[0;32mfrom\u001b[0m \u001b[0mpandas\u001b[0m\u001b[0;34m.\u001b[0m\u001b[0mcore\u001b[0m\u001b[0;34m.\u001b[0m\u001b[0mgroupby\u001b[0m\u001b[0;34m.\u001b[0m\u001b[0mgrouper\u001b[0m \u001b[0;32mimport\u001b[0m \u001b[0mget_grouper\u001b[0m\u001b[0;34m\u001b[0m\u001b[0;34m\u001b[0m\u001b[0m\n\u001b[1;32m    559\u001b[0m \u001b[0;34m\u001b[0m\u001b[0m\n\u001b[0;32m--> 560\u001b[0;31m             grouper, exclusions, obj = get_grouper(\n\u001b[0m\u001b[1;32m    561\u001b[0m                 \u001b[0mobj\u001b[0m\u001b[0;34m,\u001b[0m\u001b[0;34m\u001b[0m\u001b[0;34m\u001b[0m\u001b[0m\n\u001b[1;32m    562\u001b[0m                 \u001b[0mkeys\u001b[0m\u001b[0;34m,\u001b[0m\u001b[0;34m\u001b[0m\u001b[0;34m\u001b[0m\u001b[0m\n",
      "\u001b[0;32m~/opt/anaconda3/lib/python3.8/site-packages/pandas/core/groupby/grouper.py\u001b[0m in \u001b[0;36mget_grouper\u001b[0;34m(obj, key, axis, level, sort, observed, mutated, validate, dropna)\u001b[0m\n\u001b[1;32m    809\u001b[0m                 \u001b[0min_axis\u001b[0m\u001b[0;34m,\u001b[0m \u001b[0mname\u001b[0m\u001b[0;34m,\u001b[0m \u001b[0mlevel\u001b[0m\u001b[0;34m,\u001b[0m \u001b[0mgpr\u001b[0m \u001b[0;34m=\u001b[0m \u001b[0;32mFalse\u001b[0m\u001b[0;34m,\u001b[0m \u001b[0;32mNone\u001b[0m\u001b[0;34m,\u001b[0m \u001b[0mgpr\u001b[0m\u001b[0;34m,\u001b[0m \u001b[0;32mNone\u001b[0m\u001b[0;34m\u001b[0m\u001b[0;34m\u001b[0m\u001b[0m\n\u001b[1;32m    810\u001b[0m             \u001b[0;32melse\u001b[0m\u001b[0;34m:\u001b[0m\u001b[0;34m\u001b[0m\u001b[0;34m\u001b[0m\u001b[0m\n\u001b[0;32m--> 811\u001b[0;31m                 \u001b[0;32mraise\u001b[0m \u001b[0mKeyError\u001b[0m\u001b[0;34m(\u001b[0m\u001b[0mgpr\u001b[0m\u001b[0;34m)\u001b[0m\u001b[0;34m\u001b[0m\u001b[0;34m\u001b[0m\u001b[0m\n\u001b[0m\u001b[1;32m    812\u001b[0m         \u001b[0;32melif\u001b[0m \u001b[0misinstance\u001b[0m\u001b[0;34m(\u001b[0m\u001b[0mgpr\u001b[0m\u001b[0;34m,\u001b[0m \u001b[0mGrouper\u001b[0m\u001b[0;34m)\u001b[0m \u001b[0;32mand\u001b[0m \u001b[0mgpr\u001b[0m\u001b[0;34m.\u001b[0m\u001b[0mkey\u001b[0m \u001b[0;32mis\u001b[0m \u001b[0;32mnot\u001b[0m \u001b[0;32mNone\u001b[0m\u001b[0;34m:\u001b[0m\u001b[0;34m\u001b[0m\u001b[0;34m\u001b[0m\u001b[0m\n\u001b[1;32m    813\u001b[0m             \u001b[0;31m# Add key to exclusions\u001b[0m\u001b[0;34m\u001b[0m\u001b[0;34m\u001b[0m\u001b[0;34m\u001b[0m\u001b[0m\n",
      "\u001b[0;31mKeyError\u001b[0m: 'Jahr'"
     ]
    }
   ],
   "source": [
    "df_03_heimbewohner_bev.groupby('Jahr')['BEWOHNER_AM_STICHTAG'].sum()"
   ]
  },
  {
   "cell_type": "code",
   "execution_count": null,
   "id": "6551a229",
   "metadata": {},
   "outputs": [],
   "source": [
    "# beschreiben wozu.... df_03_heimbewohner_bev.to_csv('Output_als_Input/hb_bev.csv')"
   ]
  },
  {
   "cell_type": "code",
   "execution_count": null,
   "id": "bcfcca0a",
   "metadata": {},
   "outputs": [],
   "source": [
    "df_03_heimbewohner_bev.dtypes"
   ]
  },
  {
   "cell_type": "code",
   "execution_count": null,
   "id": "d6668282",
   "metadata": {},
   "outputs": [],
   "source": [
    "len(df_03_heimbewohner_bev)"
   ]
  },
  {
   "cell_type": "code",
   "execution_count": null,
   "id": "901e3f20",
   "metadata": {},
   "outputs": [],
   "source": [
    "df_03_heimbewohner_bev.groupby('B_GEMNR')['B_Anzahl'].sum()"
   ]
  },
  {
   "cell_type": "code",
   "execution_count": null,
   "id": "4d1029ca",
   "metadata": {},
   "outputs": [],
   "source": [
    "df_03_heimbewohner_bev.groupby('B_Jahr')['BEWOHNER_AM_STICHTAG'].sum().plot(kind='bar',figsize=(15,3), color='green')"
   ]
  },
  {
   "cell_type": "code",
   "execution_count": null,
   "id": "a83a6d56",
   "metadata": {},
   "outputs": [],
   "source": [
    "df_03_heimbewohner_bev.groupby('B_Jahr')['B_Anzahl'].sum().plot(kind='bar',figsize=(15,3))"
   ]
  },
  {
   "cell_type": "code",
   "execution_count": null,
   "id": "9ca47aed",
   "metadata": {},
   "outputs": [],
   "source": [
    "df_03_heimbewohner_bev.to_csv('Output_weiter_mit_Excel/hb_bev.csv')\n",
    "df_03_heimbewohner_bl_group.to_csv('Output_weiter_mit_Excel/hb.csv')"
   ]
  },
  {
   "cell_type": "markdown",
   "id": "ea1e91b6",
   "metadata": {},
   "source": [
    "# Tabelle mit Zuordnung Wohngemeinde - Versorgungsregion einlesen"
   ]
  },
  {
   "cell_type": "code",
   "execution_count": null,
   "id": "3d647564",
   "metadata": {},
   "outputs": [],
   "source": [
    "#df_regions = pd.read_excel('Input/Zuordnungen/Gem_VR_12_21_agg.xlsx') #Auskommentiert, da schon oben eingelesen\n",
    "#df_regions.head(1)"
   ]
  },
  {
   "cell_type": "code",
   "execution_count": null,
   "id": "769dba55",
   "metadata": {},
   "outputs": [],
   "source": [
    "df_regions = df_regions.rename(columns={'GMDNR': 'GMDNR_agg'})\n",
    "df_regions.head(1)"
   ]
  },
  {
   "cell_type": "code",
   "execution_count": null,
   "id": "69a3be29",
   "metadata": {},
   "outputs": [],
   "source": [
    "#df_regions=df_regions.set_index('GMDNR') #Macht das Sinn???? Ich habe das gemacht, damit die GMDNR unten nicht auch angefügt wird."
   ]
  },
  {
   "cell_type": "code",
   "execution_count": null,
   "id": "ffdfad39",
   "metadata": {},
   "outputs": [],
   "source": [
    "#df_regions.groupby('GMDNR_agg').sum()"
   ]
  },
  {
   "cell_type": "code",
   "execution_count": null,
   "id": "edda8f92",
   "metadata": {},
   "outputs": [],
   "source": [
    "#df_regions_wohnort = df_regions.drop(columns=['VR_APH_12_2021_agg'])\n",
    "#df_regions_wohnort.head()"
   ]
  },
  {
   "cell_type": "code",
   "execution_count": null,
   "id": "3d766b53",
   "metadata": {},
   "outputs": [],
   "source": []
  },
  {
   "cell_type": "code",
   "execution_count": null,
   "id": "a2c24b73",
   "metadata": {},
   "outputs": [],
   "source": [
    "# Das muss ich machen, damit der Merge weiter unten funktioniert. Ist sicher etwas doof, aber schränkt bis jetzt nicht weiter ein.\n",
    "df_03_heimbewohner_bev['B_GEMNR'] = df_03_heimbewohner_bev['B_GEMNR'].astype(float) \n",
    "#df_03_heimbewohner_bev.head(1)"
   ]
  },
  {
   "cell_type": "code",
   "execution_count": null,
   "id": "6fbaec3d",
   "metadata": {},
   "outputs": [],
   "source": [
    "# df_03_heimbewohner_bev['B_GEMNR'] = df_03_heimbewohner_bev['B_GEMNR'].str.replace(\"\\.0$\", \"\")"
   ]
  },
  {
   "cell_type": "code",
   "execution_count": null,
   "id": "b9e09f94",
   "metadata": {},
   "outputs": [],
   "source": [
    "#df_03_heimbewohner_bev['B_GEMNR'].str.split('.', expand=True)"
   ]
  },
  {
   "cell_type": "code",
   "execution_count": null,
   "id": "e1a7d118",
   "metadata": {},
   "outputs": [],
   "source": [
    "df_03_heimbewohner_bev.head(10)"
   ]
  },
  {
   "cell_type": "code",
   "execution_count": null,
   "id": "50eb9166",
   "metadata": {},
   "outputs": [],
   "source": [
    "df_regions.head(1) #Nochmals, um den Variablennamen zu sehen."
   ]
  },
  {
   "cell_type": "code",
   "execution_count": null,
   "id": "af0d0444",
   "metadata": {},
   "outputs": [],
   "source": [
    "# Dieser Schritt ist gar nicht nötig! Es funktioniert trotzdem\n",
    "#df_regions_wohnort['GMDNR'] = df_regions_wohnort['GMDNR'].astype(float) #Damit die Spalten das gleiche Format haben und ich mergen kann\n",
    "#df_regions_wohnort.head(1)"
   ]
  },
  {
   "cell_type": "code",
   "execution_count": null,
   "id": "8dd8128e",
   "metadata": {},
   "outputs": [],
   "source": [
    "df_03_heimbewohner_bev=pd.merge(df_03_heimbewohner_bev, df_regions, how='left', left_on=['B_GEMNR'], right_on=['GMDNR_agg'])\n",
    "df_03_heimbewohner_bev.head(10)"
   ]
  },
  {
   "cell_type": "code",
   "execution_count": null,
   "id": "75bd6841",
   "metadata": {},
   "outputs": [],
   "source": [
    "len(df_03_heimbewohner_bev)"
   ]
  },
  {
   "cell_type": "code",
   "execution_count": null,
   "id": "82991f03",
   "metadata": {},
   "outputs": [],
   "source": [
    "df_03_heimbewohner_bev.to_csv('Output_weiter_mit_Excel/somed_bev_vr_agg.csv')"
   ]
  },
  {
   "cell_type": "code",
   "execution_count": null,
   "id": "90b29a57",
   "metadata": {},
   "outputs": [],
   "source": [
    "df_03_heimbewohner_bev.groupby('B_Jahr')['B_Anzahl'].sum()"
   ]
  },
  {
   "cell_type": "code",
   "execution_count": null,
   "id": "9ec721bc",
   "metadata": {},
   "outputs": [],
   "source": [
    "df_03_heimbewohner_bev.groupby('Jahr')['BEWOHNER_AM_STICHTAG'].sum()"
   ]
  },
  {
   "cell_type": "code",
   "execution_count": null,
   "id": "21c9cb89",
   "metadata": {},
   "outputs": [],
   "source": [
    "df_03_heimbewohner_bev.groupby('VR_APH_12_2021_agg')['BEWOHNER_AM_STICHTAG'].sum()"
   ]
  },
  {
   "cell_type": "code",
   "execution_count": null,
   "id": "f87e7f12",
   "metadata": {},
   "outputs": [],
   "source": [
    "df_03_heimbewohner_bev.groupby('B_GEMNR')['BEWOHNER_AM_STICHTAG'].sum()"
   ]
  },
  {
   "cell_type": "code",
   "execution_count": null,
   "id": "edb86901",
   "metadata": {},
   "outputs": [],
   "source": [
    "df_03_heimbewohner_bev"
   ]
  },
  {
   "cell_type": "code",
   "execution_count": null,
   "id": "57cb08d3",
   "metadata": {},
   "outputs": [],
   "source": [
    "df_03_heimbewohner_bev[['A_Jahr','A_Gem', 'A_Alter']] = df_03_heimbewohner_bev.JAHR_GEMNR_ALTER.str.split(\"_\",expand=True,)\n",
    "df_03_heimbewohner_bev"
   ]
  },
  {
   "cell_type": "code",
   "execution_count": null,
   "id": "fcccec5b",
   "metadata": {},
   "outputs": [],
   "source": [
    "df_03_heimbewohner_bev_ausw=df_03_heimbewohner_bev[['A_Jahr', 'A_Gem', 'VR_APH_12_2021_agg', 'A_Alter', 'B_Anzahl','BEWOHNER_AM_STICHTAG']]\n",
    "df_03_heimbewohner_bev_ausw"
   ]
  },
  {
   "cell_type": "code",
   "execution_count": null,
   "id": "0867615b",
   "metadata": {},
   "outputs": [],
   "source": [
    "df_03_heimbewohner_bev_ausw.fillna(0)"
   ]
  },
  {
   "cell_type": "code",
   "execution_count": null,
   "id": "77f142b1",
   "metadata": {},
   "outputs": [],
   "source": [
    "#df_03_heimbewohner_bev_ausw['A_Alter'] = df_03_heimbewohner_bev_ausw['A_Alter'].astype(int)"
   ]
  },
  {
   "cell_type": "code",
   "execution_count": null,
   "id": "8e5f02f3",
   "metadata": {},
   "outputs": [],
   "source": [
    "#df_03_heimbewohner_bev_ausw[['B_Anzahl','BEWOHNER_AM_STICHTAG']]= df_03_heimbewohner_bev_ausw[['B_Anzahl', 'BEWOHNER_AM_STICHTAG']].fillna(0)"
   ]
  },
  {
   "cell_type": "code",
   "execution_count": null,
   "id": "13d1e45b",
   "metadata": {},
   "outputs": [],
   "source": [
    "#df_03_heimbewohner_bev_ausw"
   ]
  },
  {
   "cell_type": "code",
   "execution_count": null,
   "id": "a7ac6abd",
   "metadata": {},
   "outputs": [],
   "source": [
    "#df_03_heimbewohner_bev_ausw.convert_dtypes()"
   ]
  },
  {
   "cell_type": "code",
   "execution_count": null,
   "id": "21a350c8",
   "metadata": {},
   "outputs": [],
   "source": [
    "#df_03_heimbewohner_bev_ausw"
   ]
  },
  {
   "cell_type": "code",
   "execution_count": null,
   "id": "a30a77c4",
   "metadata": {},
   "outputs": [],
   "source": [
    "#df_03_heimbewohner_bev_ausw=df_03_heimbewohner_bev_ausw['B_Anzahl'].astype(float)"
   ]
  },
  {
   "cell_type": "code",
   "execution_count": null,
   "id": "beb9ef76",
   "metadata": {},
   "outputs": [],
   "source": [
    "df_03_heimbewohner_bev_ausw.groupby('A_Jahr')['BEWOHNER_AM_STICHTAG'].sum().plot(figsize=(15,2))"
   ]
  },
  {
   "cell_type": "code",
   "execution_count": null,
   "id": "487d5eb3",
   "metadata": {},
   "outputs": [],
   "source": [
    "df_03_heimbewohner_bev_ausw.groupby('A_Jahr')['B_Anzahl'].sum().plot(figsize=(15,2))"
   ]
  },
  {
   "cell_type": "code",
   "execution_count": null,
   "id": "5545cad0",
   "metadata": {},
   "outputs": [],
   "source": [
    "#df_03_heimbewohner_bev_ausw"
   ]
  },
  {
   "cell_type": "code",
   "execution_count": null,
   "id": "841078ea",
   "metadata": {},
   "outputs": [],
   "source": [
    "#df_03_heimbewohner_bev_ausw.groupby('A_Jahr')['Anteil'].sum().plot(figsize=(15,2))"
   ]
  },
  {
   "cell_type": "code",
   "execution_count": null,
   "id": "d5a48036",
   "metadata": {},
   "outputs": [],
   "source": [
    "#df_03_heimbewohner_bev_ausw.groupby('A_Jahr')['Anteil'].sum().plot(kind='bar',figsize=(15,3), color='green')"
   ]
  },
  {
   "cell_type": "markdown",
   "id": "ec6107f7",
   "metadata": {},
   "source": [
    "# Quote Total - nach Jahr"
   ]
  },
  {
   "cell_type": "code",
   "execution_count": null,
   "id": "90ecbeba",
   "metadata": {},
   "outputs": [],
   "source": [
    "df_03_heimbewohner_bev_ausw.head(1)"
   ]
  },
  {
   "cell_type": "code",
   "execution_count": null,
   "id": "708cd2bb",
   "metadata": {},
   "outputs": [],
   "source": [
    "#Ich muss Schritte aufteilen, die ich alle auf einmal machen wollte...\n",
    "df_quote_jahr=df_03_heimbewohner_bev_ausw.drop(columns=['A_Gem', 'A_Alter', 'VR_APH_12_2021_agg'])\n",
    "df_quote_jahr.head(1)"
   ]
  },
  {
   "cell_type": "code",
   "execution_count": null,
   "id": "5b1cd4c4",
   "metadata": {},
   "outputs": [],
   "source": [
    "df_quote_jahr=df_quote_jahr.groupby(['A_Jahr']).sum()\n",
    "df_quote_jahr"
   ]
  },
  {
   "cell_type": "code",
   "execution_count": null,
   "id": "d6f49749",
   "metadata": {},
   "outputs": [],
   "source": [
    "df_quote_jahr.insert(loc=len(df_quote_jahr.columns),\n",
    "           column='Anteil',\n",
    "           value=(df_quote_jahr['BEWOHNER_AM_STICHTAG']/df_quote_jahr['B_Anzahl']*100))\n",
    "df_quote_jahr"
   ]
  },
  {
   "cell_type": "code",
   "execution_count": null,
   "id": "a8ebb1dc",
   "metadata": {},
   "outputs": [],
   "source": [
    "df_quote_jahr['Anteil'].plot(kind='bar',title='Anteil der 80+ in einem Pflegeheim gemessen an der gleichenaltrigen Wohnbevölkerung BL',figsize=(15,5))"
   ]
  },
  {
   "cell_type": "markdown",
   "id": "803959d7",
   "metadata": {},
   "source": [
    "# Quote Regionen nach Jahr"
   ]
  },
  {
   "cell_type": "code",
   "execution_count": null,
   "id": "bfcf9ba4",
   "metadata": {},
   "outputs": [],
   "source": [
    "df_quote_region_jahr.insert(loc=len(df_quote_region_jahr.columns),\n",
    "           column='Anteil',\n",
    "           value=(df_quote_region_jahr['BEWOHNER_AM_STICHTAG']/df_quote_region_jahr['B_Anzahl']*100))\n",
    "df_quote_region_jahr"
   ]
  },
  {
   "cell_type": "code",
   "execution_count": null,
   "id": "adaed315",
   "metadata": {},
   "outputs": [],
   "source": [
    "#df_quote_region_jahr.to_csv('Output_als_Input/quote_jahr_neu.csv') # Momentan nicht nötig"
   ]
  },
  {
   "cell_type": "code",
   "execution_count": null,
   "id": "e1c4089d",
   "metadata": {
    "scrolled": true
   },
   "outputs": [],
   "source": [
    "df_quote_region_jahr['Anteil'].unstack('VR_APH_12_2021_agg').plot(figsize=(12,8))"
   ]
  },
  {
   "cell_type": "code",
   "execution_count": null,
   "id": "52c1c54c",
   "metadata": {},
   "outputs": [],
   "source": [
    "df_quote_region_jahr['Anteil'].unstack('A_Jahr').plot(kind='bar', figsize=(12,6))"
   ]
  },
  {
   "cell_type": "markdown",
   "id": "81f36951",
   "metadata": {},
   "source": [
    "# Quote Alter - für alle Jahre kummuliert (explorativ)"
   ]
  },
  {
   "cell_type": "code",
   "execution_count": null,
   "id": "ae114fb3",
   "metadata": {},
   "outputs": [],
   "source": [
    "#Ich muss Schritte aufteilen, die ich alle auf einmal machen wollte...\n",
    "df_quote_alter=df_03_heimbewohner_bev_ausw.drop(columns=['A_Gem', 'VR_APH_12_2021_agg'])\n",
    "df_quote_alter.sort_values('A_Alter').head(1)"
   ]
  },
  {
   "cell_type": "code",
   "execution_count": null,
   "id": "e6af8dba",
   "metadata": {},
   "outputs": [],
   "source": [
    "df_quote_alter['A_Alter'] = df_quote_alter['A_Alter'].astype(int)\n",
    "#zwischenzeitlich weiter oben erledigt"
   ]
  },
  {
   "cell_type": "code",
   "execution_count": null,
   "id": "0ceef415",
   "metadata": {},
   "outputs": [],
   "source": [
    "df_quote_alter=df_quote_alter.sort_values(['A_Alter'],ascending=True).groupby(['A_Alter']).sum()\n",
    "df_quote_alter.reset_index()"
   ]
  },
  {
   "cell_type": "code",
   "execution_count": null,
   "id": "ae990527",
   "metadata": {},
   "outputs": [],
   "source": [
    "df_quote_alter.insert(loc=len(df_quote_alter.columns),\n",
    "           column='Anteil',\n",
    "           value=(df_quote_alter['BEWOHNER_AM_STICHTAG']/df_quote_alter['B_Anzahl']*100))\n",
    "df_quote_alter.reset_index()"
   ]
  },
  {
   "cell_type": "code",
   "execution_count": null,
   "id": "51e42535",
   "metadata": {},
   "outputs": [],
   "source": [
    "df_quote_alter['Anteil'].plot(kind='bar', y='Heimquote', title='Anteil der 80+ in einem Pflegeheim gemessen an der gleichenaltrigen Wohnbevölkerung BL',figsize=(15,5))"
   ]
  },
  {
   "cell_type": "markdown",
   "id": "b1a15b57",
   "metadata": {},
   "source": [
    "# Quote Regionen/Alter - alle Jahre kummuliert (explorativ)"
   ]
  },
  {
   "cell_type": "code",
   "execution_count": null,
   "id": "41c28bf5",
   "metadata": {},
   "outputs": [],
   "source": [
    "#Ich muss Schritte aufteilen, die ich alle auf einmal machen wollte...\n",
    "df_quote_region_alter_vorb=df_03_heimbewohner_bev_ausw.drop(columns=['A_Gem'])\n",
    "df_quote_region_alter_vorb.head(1)"
   ]
  },
  {
   "cell_type": "code",
   "execution_count": null,
   "id": "e33bfcce",
   "metadata": {},
   "outputs": [],
   "source": [
    "df_quote_region_alter_vorb.dtypes"
   ]
  },
  {
   "cell_type": "code",
   "execution_count": null,
   "id": "f4b543f6",
   "metadata": {},
   "outputs": [],
   "source": [
    "df_quote_region_alter_vorb['A_Alter'] = df_quote_region_alter_vorb['A_Alter'].astype(int)\n",
    "#zwischenzeitlich weiter oben erledigt"
   ]
  },
  {
   "cell_type": "code",
   "execution_count": null,
   "id": "1b25cc7f",
   "metadata": {},
   "outputs": [],
   "source": [
    "df_quote_region_alter=df_quote_region_alter_vorb.groupby(['VR_APH_12_2021_agg','A_Alter']).sum()"
   ]
  },
  {
   "cell_type": "code",
   "execution_count": null,
   "id": "78d3a481",
   "metadata": {},
   "outputs": [],
   "source": [
    "#df_quote_region_alter.reset_index(inplace=True)"
   ]
  },
  {
   "cell_type": "code",
   "execution_count": null,
   "id": "cd51c71b",
   "metadata": {},
   "outputs": [],
   "source": [
    "df_quote_region_alter.insert(loc=len(df_quote_region_alter.columns),\n",
    "           column='Anteil',\n",
    "           value=(df_quote_region_alter['BEWOHNER_AM_STICHTAG']/df_quote_region_alter['B_Anzahl']*100))\n",
    "df_quote_region_alter"
   ]
  },
  {
   "cell_type": "code",
   "execution_count": null,
   "id": "7087419d",
   "metadata": {},
   "outputs": [],
   "source": [
    "#df_quote_region_alter=df_quote_region_alter.reset_index()"
   ]
  },
  {
   "cell_type": "code",
   "execution_count": null,
   "id": "44a31037",
   "metadata": {},
   "outputs": [],
   "source": [
    "df_quote_region_alter.dtypes"
   ]
  },
  {
   "cell_type": "code",
   "execution_count": null,
   "id": "438238b2",
   "metadata": {},
   "outputs": [],
   "source": [
    "df_quote_region_alter.columns"
   ]
  },
  {
   "cell_type": "code",
   "execution_count": null,
   "id": "b8c0ea64",
   "metadata": {},
   "outputs": [],
   "source": [
    "df_quote_region_alter['Anteil'].unstack('VR_APH_12_2021_agg').plot(figsize=(12,6))"
   ]
  },
  {
   "cell_type": "code",
   "execution_count": null,
   "id": "225df2a3",
   "metadata": {},
   "outputs": [],
   "source": [
    "df_quote_region_jahr['Anteil'].unstack('VR_APH_12_2021_agg').plot(figsize=(12,6))"
   ]
  },
  {
   "cell_type": "code",
   "execution_count": null,
   "id": "7c380f08",
   "metadata": {},
   "outputs": [],
   "source": []
  },
  {
   "cell_type": "code",
   "execution_count": null,
   "id": "89ced3e2",
   "metadata": {},
   "outputs": [],
   "source": []
  },
  {
   "cell_type": "code",
   "execution_count": null,
   "id": "26dc81b7",
   "metadata": {},
   "outputs": [],
   "source": []
  },
  {
   "cell_type": "code",
   "execution_count": null,
   "id": "4916591a",
   "metadata": {},
   "outputs": [],
   "source": []
  },
  {
   "cell_type": "code",
   "execution_count": null,
   "id": "5feb03f9",
   "metadata": {},
   "outputs": [],
   "source": []
  },
  {
   "cell_type": "code",
   "execution_count": null,
   "id": "8521fc0e",
   "metadata": {},
   "outputs": [],
   "source": []
  }
 ],
 "metadata": {
  "kernelspec": {
   "display_name": "Python 3",
   "language": "python",
   "name": "python3"
  },
  "language_info": {
   "codemirror_mode": {
    "name": "ipython",
    "version": 3
   },
   "file_extension": ".py",
   "mimetype": "text/x-python",
   "name": "python",
   "nbconvert_exporter": "python",
   "pygments_lexer": "ipython3",
   "version": "3.8.8"
  }
 },
 "nbformat": 4,
 "nbformat_minor": 5
}
