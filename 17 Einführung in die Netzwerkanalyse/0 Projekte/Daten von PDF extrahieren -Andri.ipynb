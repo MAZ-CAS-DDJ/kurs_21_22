{
 "cells": [
  {
   "cell_type": "code",
   "execution_count": 1,
   "id": "e039a5f2",
   "metadata": {},
   "outputs": [],
   "source": [
    "#Code zum Extrahieren von Daten von gescanntem PDF mit tesseract für optical character recognition (OCR). (braucht ein paar Bibliotheken...)\n",
    "#Ich scheitere derzeit noch dabei, die Stellen auf dem PDF zu markieren"
   ]
  },
  {
   "cell_type": "code",
   "execution_count": 2,
   "id": "404b959b",
   "metadata": {},
   "outputs": [],
   "source": [
    "import pandas as pd"
   ]
  },
  {
   "cell_type": "code",
   "execution_count": 3,
   "id": "60ab95e2",
   "metadata": {},
   "outputs": [
    {
     "name": "stdout",
     "output_type": "stream",
     "text": [
      "Collecting tabula-py\n",
      "  Downloading tabula_py-2.3.0-py3-none-any.whl (12.0 MB)\n",
      "\u001b[K     |████████████████████████████████| 12.0 MB 21.9 MB/s eta 0:00:01\n",
      "\u001b[?25hRequirement already satisfied: numpy in /Users/barjack/opt/anaconda3/lib/python3.8/site-packages (from tabula-py) (1.20.1)\n",
      "Requirement already satisfied: pandas>=0.25.3 in /Users/barjack/opt/anaconda3/lib/python3.8/site-packages (from tabula-py) (1.2.4)\n",
      "Collecting distro\n",
      "  Downloading distro-1.6.0-py2.py3-none-any.whl (19 kB)\n",
      "Requirement already satisfied: python-dateutil>=2.7.3 in /Users/barjack/opt/anaconda3/lib/python3.8/site-packages (from pandas>=0.25.3->tabula-py) (2.8.1)\n",
      "Requirement already satisfied: pytz>=2017.3 in /Users/barjack/opt/anaconda3/lib/python3.8/site-packages (from pandas>=0.25.3->tabula-py) (2021.1)\n",
      "Requirement already satisfied: six>=1.5 in /Users/barjack/opt/anaconda3/lib/python3.8/site-packages (from python-dateutil>=2.7.3->pandas>=0.25.3->tabula-py) (1.15.0)\n",
      "Installing collected packages: distro, tabula-py\n",
      "Successfully installed distro-1.6.0 tabula-py-2.3.0\n",
      "Note: you may need to restart the kernel to use updated packages.\n"
     ]
    }
   ],
   "source": [
    "pip install tabula-py"
   ]
  },
  {
   "cell_type": "code",
   "execution_count": 4,
   "id": "1e19b5bd",
   "metadata": {},
   "outputs": [
    {
     "name": "stdout",
     "output_type": "stream",
     "text": [
      "Collecting pdf2image\n",
      "  Downloading pdf2image-1.16.0-py3-none-any.whl (10 kB)\n",
      "Requirement already satisfied: pillow in /Users/barjack/opt/anaconda3/lib/python3.8/site-packages (from pdf2image) (8.2.0)\n",
      "Installing collected packages: pdf2image\n",
      "Successfully installed pdf2image-1.16.0\n",
      "Note: you may need to restart the kernel to use updated packages.\n"
     ]
    }
   ],
   "source": [
    "pip install pdf2image"
   ]
  },
  {
   "cell_type": "code",
   "execution_count": 5,
   "id": "c557e723",
   "metadata": {},
   "outputs": [],
   "source": [
    "from tabula import read_pdf"
   ]
  },
  {
   "cell_type": "code",
   "execution_count": 6,
   "id": "be312f10",
   "metadata": {},
   "outputs": [
    {
     "name": "stdout",
     "output_type": "stream",
     "text": [
      "Collecting package metadata (current_repodata.json): done\n",
      "Solving environment: done\n",
      "\n",
      "## Package Plan ##\n",
      "\n",
      "  environment location: /Users/barjack/opt/anaconda3\n",
      "\n",
      "  added / updated specs:\n",
      "    - poppler\n",
      "\n",
      "\n",
      "The following packages will be downloaded:\n",
      "\n",
      "    package                    |            build\n",
      "    ---------------------------|-----------------\n",
      "    cairo-1.16.0               |    h0ab9d94_1001         1.3 MB  conda-forge\n",
      "    conda-4.11.0               |   py38h50d1736_0        16.9 MB  conda-forge\n",
      "    fontconfig-2.13.1          |    h10f422b_1005         271 KB  conda-forge\n",
      "    openjpeg-2.3.1             |       h254dc36_3         411 KB  conda-forge\n",
      "    pixman-0.38.0              |    h01d97ff_1003         611 KB  conda-forge\n",
      "    poppler-0.81.0             |       h840d8a0_2         1.5 MB\n",
      "    poppler-data-0.4.11        |       hd8ed1ab_0         3.6 MB  conda-forge\n",
      "    ------------------------------------------------------------\n",
      "                                           Total:        24.7 MB\n",
      "\n",
      "The following NEW packages will be INSTALLED:\n",
      "\n",
      "  cairo              conda-forge/osx-64::cairo-1.16.0-h0ab9d94_1001\n",
      "  fontconfig         conda-forge/osx-64::fontconfig-2.13.1-h10f422b_1005\n",
      "  openjpeg           conda-forge/osx-64::openjpeg-2.3.1-h254dc36_3\n",
      "  pixman             conda-forge/osx-64::pixman-0.38.0-h01d97ff_1003\n",
      "  poppler            pkgs/main/osx-64::poppler-0.81.0-h840d8a0_2\n",
      "  poppler-data       conda-forge/noarch::poppler-data-0.4.11-hd8ed1ab_0\n",
      "\n",
      "The following packages will be UPDATED:\n",
      "\n",
      "  conda                               4.10.3-py38h50d1736_1 --> 4.11.0-py38h50d1736_0\n",
      "\n",
      "\n",
      "\n",
      "Downloading and Extracting Packages\n",
      "pixman-0.38.0        | 611 KB    | ##################################### | 100% \n",
      "conda-4.11.0         | 16.9 MB   | ##################################### | 100% \n",
      "fontconfig-2.13.1    | 271 KB    | ##################################### | 100% \n",
      "cairo-1.16.0         | 1.3 MB    | ##################################### | 100% \n",
      "poppler-0.81.0       | 1.5 MB    | ##################################### | 100% \n",
      "poppler-data-0.4.11  | 3.6 MB    | ##################################### | 100% \n",
      "openjpeg-2.3.1       | 411 KB    | ##################################### | 100% \n",
      "Preparing transaction: done\n",
      "Verifying transaction: done\n",
      "Executing transaction: done\n",
      "\n",
      "Note: you may need to restart the kernel to use updated packages.\n"
     ]
    }
   ],
   "source": [
    "conda install -c conda-forge poppler "
   ]
  },
  {
   "cell_type": "code",
   "execution_count": 7,
   "id": "73f4fc31",
   "metadata": {},
   "outputs": [
    {
     "name": "stdout",
     "output_type": "stream",
     "text": [
      "Requirement already satisfied: pdf2image in /Users/barjack/opt/anaconda3/lib/python3.8/site-packages (1.16.0)\n",
      "Requirement already satisfied: pillow in /Users/barjack/opt/anaconda3/lib/python3.8/site-packages (from pdf2image) (8.2.0)\n",
      "Note: you may need to restart the kernel to use updated packages.\n"
     ]
    }
   ],
   "source": [
    "pip install pdf2image"
   ]
  },
  {
   "cell_type": "code",
   "execution_count": 8,
   "id": "d4650f47",
   "metadata": {},
   "outputs": [],
   "source": [
    "from pdf2image import convert_from_path  "
   ]
  },
  {
   "cell_type": "code",
   "execution_count": null,
   "id": "b97ad889",
   "metadata": {},
   "outputs": [],
   "source": []
  },
  {
   "cell_type": "code",
   "execution_count": 11,
   "id": "713cdd66",
   "metadata": {},
   "outputs": [
    {
     "ename": "PDFPageCountError",
     "evalue": "Unable to get page count.\nI/O Error: Couldn't open file 'Fluglisten/Originale/VBS1920.pdf': No such file or directory.\n",
     "output_type": "error",
     "traceback": [
      "\u001b[0;31m---------------------------------------------------------------------------\u001b[0m",
      "\u001b[0;31mValueError\u001b[0m                                Traceback (most recent call last)",
      "\u001b[0;32m~/opt/anaconda3/lib/python3.8/site-packages/pdf2image/pdf2image.py\u001b[0m in \u001b[0;36mpdfinfo_from_path\u001b[0;34m(pdf_path, userpw, poppler_path, rawdates, timeout)\u001b[0m\n\u001b[1;32m    478\u001b[0m         \u001b[0;32mif\u001b[0m \u001b[0;34m\"Pages\"\u001b[0m \u001b[0;32mnot\u001b[0m \u001b[0;32min\u001b[0m \u001b[0md\u001b[0m\u001b[0;34m:\u001b[0m\u001b[0;34m\u001b[0m\u001b[0;34m\u001b[0m\u001b[0m\n\u001b[0;32m--> 479\u001b[0;31m             \u001b[0;32mraise\u001b[0m \u001b[0mValueError\u001b[0m\u001b[0;34m\u001b[0m\u001b[0;34m\u001b[0m\u001b[0m\n\u001b[0m\u001b[1;32m    480\u001b[0m \u001b[0;34m\u001b[0m\u001b[0m\n",
      "\u001b[0;31mValueError\u001b[0m: ",
      "\nDuring handling of the above exception, another exception occurred:\n",
      "\u001b[0;31mPDFPageCountError\u001b[0m                         Traceback (most recent call last)",
      "\u001b[0;32m<ipython-input-11-de406d95c936>\u001b[0m in \u001b[0;36m<module>\u001b[0;34m\u001b[0m\n\u001b[1;32m      1\u001b[0m \u001b[0mpdfs\u001b[0m \u001b[0;34m=\u001b[0m \u001b[0;34mr\"Fluglisten/Originale/VBS1920.pdf\"\u001b[0m\u001b[0;34m\u001b[0m\u001b[0;34m\u001b[0m\u001b[0m\n\u001b[0;32m----> 2\u001b[0;31m \u001b[0mpages\u001b[0m \u001b[0;34m=\u001b[0m \u001b[0mconvert_from_path\u001b[0m\u001b[0;34m(\u001b[0m\u001b[0mpdfs\u001b[0m\u001b[0;34m,\u001b[0m \u001b[0;36m350\u001b[0m\u001b[0;34m)\u001b[0m\u001b[0;34m\u001b[0m\u001b[0;34m\u001b[0m\u001b[0m\n\u001b[0m\u001b[1;32m      3\u001b[0m \u001b[0;34m\u001b[0m\u001b[0m\n\u001b[1;32m      4\u001b[0m \u001b[0mi\u001b[0m \u001b[0;34m=\u001b[0m \u001b[0;36m1\u001b[0m\u001b[0;34m\u001b[0m\u001b[0;34m\u001b[0m\u001b[0m\n\u001b[1;32m      5\u001b[0m \u001b[0;32mfor\u001b[0m \u001b[0mpage\u001b[0m \u001b[0;32min\u001b[0m \u001b[0mpages\u001b[0m\u001b[0;34m:\u001b[0m\u001b[0;34m\u001b[0m\u001b[0;34m\u001b[0m\u001b[0m\n",
      "\u001b[0;32m~/opt/anaconda3/lib/python3.8/site-packages/pdf2image/pdf2image.py\u001b[0m in \u001b[0;36mconvert_from_path\u001b[0;34m(pdf_path, dpi, output_folder, first_page, last_page, fmt, jpegopt, thread_count, userpw, use_cropbox, strict, transparent, single_file, output_file, poppler_path, grayscale, size, paths_only, use_pdftocairo, timeout, hide_annotations)\u001b[0m\n\u001b[1;32m     96\u001b[0m         \u001b[0mpoppler_path\u001b[0m \u001b[0;34m=\u001b[0m \u001b[0mpoppler_path\u001b[0m\u001b[0;34m.\u001b[0m\u001b[0mas_posix\u001b[0m\u001b[0;34m(\u001b[0m\u001b[0;34m)\u001b[0m\u001b[0;34m\u001b[0m\u001b[0;34m\u001b[0m\u001b[0m\n\u001b[1;32m     97\u001b[0m \u001b[0;34m\u001b[0m\u001b[0m\n\u001b[0;32m---> 98\u001b[0;31m     \u001b[0mpage_count\u001b[0m \u001b[0;34m=\u001b[0m \u001b[0mpdfinfo_from_path\u001b[0m\u001b[0;34m(\u001b[0m\u001b[0mpdf_path\u001b[0m\u001b[0;34m,\u001b[0m \u001b[0muserpw\u001b[0m\u001b[0;34m,\u001b[0m \u001b[0mpoppler_path\u001b[0m\u001b[0;34m=\u001b[0m\u001b[0mpoppler_path\u001b[0m\u001b[0;34m)\u001b[0m\u001b[0;34m[\u001b[0m\u001b[0;34m\"Pages\"\u001b[0m\u001b[0;34m]\u001b[0m\u001b[0;34m\u001b[0m\u001b[0;34m\u001b[0m\u001b[0m\n\u001b[0m\u001b[1;32m     99\u001b[0m \u001b[0;34m\u001b[0m\u001b[0m\n\u001b[1;32m    100\u001b[0m     \u001b[0;31m# We start by getting the output format, the buffer processing function and if we need pdftocairo\u001b[0m\u001b[0;34m\u001b[0m\u001b[0;34m\u001b[0m\u001b[0;34m\u001b[0m\u001b[0m\n",
      "\u001b[0;32m~/opt/anaconda3/lib/python3.8/site-packages/pdf2image/pdf2image.py\u001b[0m in \u001b[0;36mpdfinfo_from_path\u001b[0;34m(pdf_path, userpw, poppler_path, rawdates, timeout)\u001b[0m\n\u001b[1;32m    486\u001b[0m         )\n\u001b[1;32m    487\u001b[0m     \u001b[0;32mexcept\u001b[0m \u001b[0mValueError\u001b[0m\u001b[0;34m:\u001b[0m\u001b[0;34m\u001b[0m\u001b[0;34m\u001b[0m\u001b[0m\n\u001b[0;32m--> 488\u001b[0;31m         raise PDFPageCountError(\n\u001b[0m\u001b[1;32m    489\u001b[0m             \u001b[0;34m\"Unable to get page count.\\n%s\"\u001b[0m \u001b[0;34m%\u001b[0m \u001b[0merr\u001b[0m\u001b[0;34m.\u001b[0m\u001b[0mdecode\u001b[0m\u001b[0;34m(\u001b[0m\u001b[0;34m\"utf8\"\u001b[0m\u001b[0;34m,\u001b[0m \u001b[0;34m\"ignore\"\u001b[0m\u001b[0;34m)\u001b[0m\u001b[0;34m\u001b[0m\u001b[0;34m\u001b[0m\u001b[0m\n\u001b[1;32m    490\u001b[0m         )\n",
      "\u001b[0;31mPDFPageCountError\u001b[0m: Unable to get page count.\nI/O Error: Couldn't open file 'Fluglisten/Originale/VBS1920.pdf': No such file or directory.\n"
     ]
    }
   ],
   "source": [
    "pdfs = r\"Fluglisten/Originale/VBS1920.pdf\"\n",
    "pages = convert_from_path(pdfs, 350)\n",
    "\n",
    "i = 1\n",
    "for page in pages:\n",
    "    image_name = \"VBS1920\" + str(i) + \".jpg\"  \n",
    "    page.save(image_name, \"JPEG\")\n",
    "    i = i+1     "
   ]
  },
  {
   "cell_type": "code",
   "execution_count": 10,
   "id": "bf57aac7",
   "metadata": {},
   "outputs": [
    {
     "name": "stdout",
     "output_type": "stream",
     "text": [
      "Collecting opencv-python\n",
      "  Downloading opencv_python-4.5.4.60-cp38-cp38-macosx_10_15_x86_64.whl (45.9 MB)\n",
      "\u001b[K     |████████████████████████████████| 45.9 MB 8.6 MB/s eta 0:00:01     |████████████████▍               | 23.5 MB 265 kB/s eta 0:01:25  | 42.7 MB 1.9 MB/s eta 0:00:02     |███████████████████████████████▏| 44.7 MB 8.6 MB/s eta 0:00:01\n",
      "\u001b[?25hRequirement already satisfied: numpy>=1.17.3 in /Users/barjack/opt/anaconda3/lib/python3.8/site-packages (from opencv-python) (1.20.1)\n",
      "Installing collected packages: opencv-python\n",
      "Successfully installed opencv-python-4.5.4.60\n",
      "Note: you may need to restart the kernel to use updated packages.\n"
     ]
    }
   ],
   "source": [
    "pip install opencv-python\n"
   ]
  },
  {
   "cell_type": "code",
   "execution_count": null,
   "id": "e5f2098a",
   "metadata": {},
   "outputs": [],
   "source": [
    "pip install Pillow\n"
   ]
  },
  {
   "cell_type": "code",
   "execution_count": null,
   "id": "612ca3f5",
   "metadata": {},
   "outputs": [],
   "source": [
    "from tkinter import *\n",
    "from tkinter import filedialog\n",
    "from PIL import ImageTk, Image\n",
    "import cv2\n",
    "import pytesseract \n",
    "\n",
    "pytesseract.pytesseract.tesseract_cmd = 'C:\\\\Program Files (x86)\\\\Tesseract-OCR\\\\tesseract.exe'\n",
    "\n",
    "root = Tk()\n",
    "root.title('TechVidvan Text from image project') \n",
    "\n",
    "newline= Label(root)/Users/andrirostetter/Downloads/Code/main.py\n",
    "uploaded_img=Label(root)\n",
    "scrollbar = Scrollbar(root)\n",
    "scrollbar.pack( side = RIGHT, fill = Y )\n",
    "\n",
    "\n",
    "def extract(path):\n",
    "    Actual_image = cv2.imread(path)\n",
    "    Sample_img = cv2.resize(Actual_image,(400,350))\n",
    "    Image_ht,Image_wd,Image_thickness = Sample_img.shape\n",
    "    Sample_img = cv2.cvtColor(Sample_img,cv2.COLOR_BGR2RGB)\n",
    "    texts = pytesseract.image_to_data(Sample_img) \n",
    "    mytext=\"\"\n",
    "    prevy=0\n",
    "    for cnt,text in enumerate(texts.splitlines()):\n",
    "        if cnt==0:\n",
    "            continue\n",
    "        text = text.split()\n",
    "        if len(text)==12:\n",
    "            x,y,w,h = int(text[6]),int(text[7]),int(text[8]),int(text[9])\n",
    "            if(len(mytext)==0):\n",
    "                prey=y\n",
    "            if(prevy-y>=10 or y-prevy>=10):\n",
    "                print(mytext)\n",
    "                Label(root,text=mytext,font=('Times',15,'bold')).pack()\n",
    "                mytext=\"\"\n",
    "            mytext = mytext + text[11]+\" \"\n",
    "            prevy=y\n",
    "    Label(root,text=mytext,font=('Times',15,'bold')).pack()\n",
    "\n",
    "def show_extract_button(path):\n",
    "    extractBtn= Button(root,text=\"Extract text\",command=lambda: extract(path),bg=\"#2f2f77\",fg=\"gray\",pady=15,padx=15,font=('Times',15,'bold'))\n",
    "    extractBtn.pack()\n",
    "\n",
    "def upload():\n",
    "    try:\n",
    "        path=filedialog.askopenfilename()\n",
    "        image=Image.open(path)\n",
    "        img=ImageTk.PhotoImage(image)\n",
    "        uploaded_img.configure(image=img)\n",
    "        uploaded_img.image=img\n",
    "        show_extract_button(path)\n",
    "    except:\n",
    "        pass  \n",
    "\n",
    "uploadbtn = Button(root,text=\"Upload an image\",command=upload,bg=\"#2f2f77\",fg=\"gray\",height=2,width=20,font=('Times',15,'bold')).pack()\n",
    "newline.configure(text='\\n')\n",
    "newline.pack()\n",
    "uploaded_img.pack()\n",
    "\n",
    "root.mainloop()"
   ]
  },
  {
   "cell_type": "code",
   "execution_count": null,
   "id": "f87d0c02",
   "metadata": {},
   "outputs": [],
   "source": [
    "import cv2\n",
    "from PIL import Image\n",
    "\n",
    "def mark_region(image_path):\n",
    "    \n",
    "    im = cv2.imread(image_path)\n",
    "\n",
    "    gray = cv2.cvtColor(im, cv2.COLOR_BGR2GRAY)\n",
    "    blur = cv2.GaussianBlur(gray, (9,9), 0)\n",
    "    thresh = cv2.adaptiveThreshold(blur,255,cv2.ADAPTIVE_THRESH_GAUSSIAN_C, cv2.THRESH_BINARY_INV,11,30)\n",
    "\n",
    "    # Dilate to combine adjacent text contours\n",
    "    kernel = cv2.getStructuringElement(cv2.MORPH_RECT, (9,9))\n",
    "    dilate = cv2.dilate(thresh, kernel, iterations=4)\n",
    "\n",
    "    # Find contours, highlight text areas, and extract ROIs\n",
    "    cnts = cv2.findContours(dilate, cv2.RETR_EXTERNAL, cv2.CHAIN_APPROX_SIMPLE)\n",
    "    cnts = cnts[0] if len(cnts) == 2 else cnts[1]\n",
    "\n",
    "    line_items_coordinates = []\n",
    "    for c in cnts:\n",
    "        area = cv2.contourArea(c)\n",
    "        x,y,w,h = cv2.boundingRect(c)\n",
    "\n",
    "        if y >= 600 and x <= 1000:\n",
    "            if area > 10000:\n",
    "                image = cv2.rectangle(im, (x,y), (2200, y+h), color=(255,0,255), thickness=3)\n",
    "                line_items_coordinates.append([(x,y), (2200, y+h)])\n",
    "\n",
    "        if y >= 2400 and x<= 2000:\n",
    "            image = cv2.rectangle(im, (x,y), (2200, y+h), color=(255,0,255), thickness=3)\n",
    "            line_items_coordinates.append([(x,y), (2200, y+h)])\n",
    "\n",
    "\n",
    "    return image, line_items_coordinates\n"
   ]
  },
  {
   "cell_type": "code",
   "execution_count": null,
   "id": "f92a046e",
   "metadata": {},
   "outputs": [],
   "source": []
  },
  {
   "cell_type": "code",
   "execution_count": null,
   "id": "a63d7beb",
   "metadata": {},
   "outputs": [],
   "source": [
    "pip install pytesseract"
   ]
  },
  {
   "cell_type": "code",
   "execution_count": null,
   "id": "67d74955",
   "metadata": {},
   "outputs": [],
   "source": [
    "import pytesseract"
   ]
  },
  {
   "cell_type": "code",
   "execution_count": null,
   "id": "9b188dea",
   "metadata": {},
   "outputs": [],
   "source": [
    "image = cv2.imread('Page_1.jpg')\n",
    "\n",
    "# get co-ordinates to crop the image\n",
    "c = line_items_coordinates[1]\n",
    "\n",
    "# cropping image img = image[y0:y1, x0:x1]\n",
    "img = image[c[0][1]:c[1][1], c[0][0]:c[1][0]]    \n",
    "\n",
    "plt.figure(figsize=(10,10))\n",
    "plt.imshow(img)\n",
    "\n",
    "# convert the image to black and white for better OCR\n",
    "ret,thresh1 = cv2.threshold(img,120,255,cv2.THRESH_BINARY)\n",
    "\n",
    "# pytesseract image to string to get results\n",
    "text = str(pytesseract.image_to_string(thresh1, config='--psm 6'))\n",
    "print(text)"
   ]
  },
  {
   "cell_type": "code",
   "execution_count": null,
   "id": "0a2c75d0",
   "metadata": {},
   "outputs": [],
   "source": []
  }
 ],
 "metadata": {
  "kernelspec": {
   "display_name": "Python 3",
   "language": "python",
   "name": "python3"
  },
  "language_info": {
   "codemirror_mode": {
    "name": "ipython",
    "version": 3
   },
   "file_extension": ".py",
   "mimetype": "text/x-python",
   "name": "python",
   "nbconvert_exporter": "python",
   "pygments_lexer": "ipython3",
   "version": "3.8.8"
  }
 },
 "nbformat": 4,
 "nbformat_minor": 5
}
