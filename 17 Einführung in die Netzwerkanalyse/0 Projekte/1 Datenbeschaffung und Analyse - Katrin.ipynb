{
 "cells": [
  {
   "cell_type": "code",
   "execution_count": 1,
   "id": "55ee0ace",
   "metadata": {},
   "outputs": [],
   "source": [
    "#Skizze des Vorgehens\n",
    "\n",
    "#A.\tDatenbeschaffung\n",
    "#1.\tAlle Reden auf Xuexi.cn scrapen und einlesen\n",
    "#2.\tResultat: Sammlung von 367 txt-Dokumenten"
   ]
  },
  {
   "cell_type": "code",
   "execution_count": 2,
   "id": "4fc731f8",
   "metadata": {},
   "outputs": [],
   "source": [
    "#Imports\n",
    "import requests\n",
    "import pandas as pd\n",
    "from tqdm import tqdm\n",
    "from bs4 import BeautifulSoup"
   ]
  },
  {
   "cell_type": "code",
   "execution_count": 12,
   "id": "3495fedb",
   "metadata": {},
   "outputs": [],
   "source": [
    "#Hier unbedingt mit Selenium abeiten, denn requests lädt nich die gesamte HTML-Page. Hier sind die Imports.\n",
    "from selenium import webdriver\n",
    "from selenium.webdriver.common.keys import Keys\n",
    "from selenium.webdriver.common.by import By\n",
    "from selenium.webdriver.support.ui import Select"
   ]
  },
  {
   "cell_type": "code",
   "execution_count": 7,
   "id": "ed4bc57d",
   "metadata": {},
   "outputs": [],
   "source": [
    "#Wir starten den Browser auf\n",
    "driver = webdriver.Firefox()"
   ]
  },
  {
   "cell_type": "code",
   "execution_count": 8,
   "id": "af809fcc",
   "metadata": {},
   "outputs": [],
   "source": [
    "#Und nun sagen wir dem Browser, welche Seite er besuchen sollte. \n",
    "driver.get('https://www.xuexi.cn/588a4707f9db9606d832e51bfb3cea3b/9a3668c13f6e303932b5e0e100fc248b.html')"
   ]
  },
  {
   "cell_type": "code",
   "execution_count": 9,
   "id": "9edb06ba",
   "metadata": {},
   "outputs": [],
   "source": [
    "page = driver.page_source.encode('utf-8')"
   ]
  },
  {
   "cell_type": "code",
   "execution_count": 10,
   "id": "f73aa650",
   "metadata": {},
   "outputs": [
    {
     "data": {
      "text/plain": [
       "b'<html lang=\"cmn-Hans\"><head><meta charset=\"utf-8\"><meta http-equiv=\"X-UA-Compatible\" content=\"IE=edge,chrome=1\"><meta name=\"baidu-site-verification\" content=\"pwGxrkznTF\"><meta name=\"renderer\" content=\"webkit\"><title>\\xe5\\xad\\xa6\\xe4\\xb9\\xa0\\xe5\\xbc\\xba\\xe5\\x9b\\xbd</title><link rel=\"dns-prefetch\" href=\"//bootcdn.xuexi.cn\"><style>body { min-width: 1200px }</style><link href=\"/lgpage/common/base.css?97d04f8f9939bc0ad275\" rel=\"stylesheet\"><style type=\"text/css\">._2vuGugYVCs2uY3WvJNI4CU {\\n  position: fixed;\\n  width: 350px;\\n  height: 200px;\\n  background: #ffffff;\\n  border: 1px solid #f2f3f3;\\n  left: 50%;\\n  top: 40%;\\n  border-radius: 10px;\\n  transform: translate(-50%, -50%);\\n  text-align: center;\\n  box-shadow: rgba(125, 114, 114, 0.5) 0px 5px 15px;\\n  z-index: 1000;\\n}\\n._2vuGugYVCs2uY3WvJNI4CU .modal-header {\\n  text-align: center;\\n  line-height: 50px;\\n  height: 50px;\\n  font-size: 18px;\\n  color: #b8261a;\\n  border-bottom: 1px solid #f2f3f3;\\n  position: relative;\\n}\\n._2vuGugYVCs2uY3WvJNI4CU .modal-header .modal-close {\\n  position: absolute;\\n  width: 25px;\\n  height: 25px;\\n  top: 10px;\\n  right: 10px;\\n  cursor: pointer;\\n  background-image: url(/lgpage/images/169bc87bf228019ad8aac6f4f77349da.png);\\n  background-repeat: no-repeat;\\n  background-size: cover;\\n}\\n._2vuGugYVCs2uY3WvJNI4CU .modal-body {\\n  margin: 30px 40px 20px;\\n  font-size: 14px;\\n  color: #808080;\\n  height: 40px;\\n  overflow: hidden;\\n}\\n._2vuGugYVCs2uY3WvJNI4CU .modal-footer {\\n  text-align: center;\\n}\\n._2vuGugYVCs2uY3WvJNI4CU .modal-footer .okBtn {\\n  height: 36px;\\n  line-height: 36px;\\n  background: #fff;\\n  border: 1px solid #b8261a;\\n  border-radius: 18px;\\n  width: 120px;\\n  margin-left: auto;\\n  margin-right: auto;\\n  font-size: 13px;\\n  cursor: pointer;\\n  color: #b8261a;\\n}\\n</style><style type=\"text/css\">.a-XdzO3OAtkeKtA4FmG-u {\\n  width: 100%;\\n  height: 100%;\\n  overflow: hidden;\\n  position: fixed;\\n  top: 0;\\n  left: 0;\\n  background-color: rgba(0, 0, 0, 0.7);\\n  z-index: 1000;\\n}\\n.a-XdzO3OAtkeKtA4FmG-u .modal-wrapper {\\n  position: absolute;\\n  width: 468px;\\n  height: 309px;\\n  background-image: url(\\'https://bootcdn.xuexi.cn/18600410326/c7515895dc9addfab4cd99f94f8437ef.png\\');\\n  background-size: cover;\\n  background-position: center;\\n  background-repeat: no-repeat;\\n  left: 50%;\\n  top: 50%;\\n  border-radius: 10px;\\n  transform: translate(-50%, -50%);\\n  text-align: center;\\n  z-index: 1000;\\n}\\n.a-XdzO3OAtkeKtA4FmG-u .modal-header {\\n  text-align: center;\\n  line-height: 50px;\\n  height: 50px;\\n  font-size: 20px;\\n  color: #fff;\\n  position: relative;\\n  margin-top: 27px;\\n}\\n.a-XdzO3OAtkeKtA4FmG-u .modal-header .modal-close {\\n  position: absolute;\\n  width: 20px;\\n  height: 20px;\\n  top: 16px;\\n  right: 50px;\\n  cursor: pointer;\\n  background-image: url(\\'https://bootcdn.xuexi.cn/18600410326/ed553abf4496ff1f2d98a0a64ba0cb17.png\\');\\n  background-repeat: no-repeat;\\n  background-size: contain;\\n}\\n.a-XdzO3OAtkeKtA4FmG-u .modal-body {\\n  margin: 73px 40px 20px;\\n  font-size: 28px;\\n  color: #d1b434;\\n  height: 40px;\\n  line-height: 40px;\\n  overflow: hidden;\\n}\\n</style><style type=\"text/css\">._2SPy4AgbBu61ZyzEcMp29o {\\n  position: fixed;\\n  left: 50%;\\n  top: 40%;\\n  height: 400px;\\n  transform: translate(-50%, -50%);\\n  box-sizing: border-box;\\n  z-index: 1000;\\n  /* \\xe6\\xbb\\x9a\\xe5\\x8a\\xa8\\xe6\\x9d\\xa1\\xe6\\xbb\\x91\\xe5\\x9d\\x97 */\\n}\\n._2SPy4AgbBu61ZyzEcMp29o .modal-header {\\n  text-align: center;\\n  line-height: 50px;\\n  height: 50px;\\n  position: relative;\\n  top: 4px;\\n}\\n._2SPy4AgbBu61ZyzEcMp29o .modal-header .modal-close {\\n  position: absolute;\\n  right: 10px;\\n  top: 2px;\\n  cursor: pointer;\\n  color: #48200f;\\n  font-size: 13px;\\n}\\n._2SPy4AgbBu61ZyzEcMp29o .modal-header .titleBox {\\n  display: inline-block;\\n  position: absolute;\\n  left: 20px;\\n  top: 0px;\\n  width: 80px;\\n  height: 32px;\\n  line-height: 32px;\\n  font-size: 14px;\\n  font-weight: 600;\\n  text-align: center;\\n  overflow: hidden;\\n  white-space: nowrap;\\n  color: #422213;\\n  text-overflow: ellipsis;\\n}\\n._2SPy4AgbBu61ZyzEcMp29o .bodyOutter {\\n  background: #efefef;\\n  box-sizing: border-box;\\n}\\n._2SPy4AgbBu61ZyzEcMp29o .modal-body-box {\\n  padding: 10px 10px 35px 27px;\\n  box-sizing: border-box;\\n}\\n._2SPy4AgbBu61ZyzEcMp29o .modal-body {\\n  position: relative;\\n  overflow: auto;\\n  padding: 5px 16px 0px 0px;\\n  box-sizing: border-box;\\n}\\n._2SPy4AgbBu61ZyzEcMp29o .modal-body ::-webkit-scrollbar-track {\\n  -webkit-box-shadow: inset 0 0 6px rgba(0, 0, 0, 0.3);\\n  border-radius: 10px;\\n}\\n._2SPy4AgbBu61ZyzEcMp29o .modal-body ::-webkit-scrollbar-thumb {\\n  border-radius: 10px;\\n  -webkit-box-shadow: inset 0 0 6px rgba(0, 0, 0, 0.3);\\n  background-color: #555;\\n}\\n._2SPy4AgbBu61ZyzEcMp29o .modal-body .moreLook {\\n  position: relative;\\n  margin-bottom: 10px;\\n  font-size: 11px;\\n  text-align: right;\\n  cursor: pointer;\\n}\\n._2SPy4AgbBu61ZyzEcMp29o .modal-body::-webkit-scrollbar {\\n  width: 4px;\\n}\\n._2SPy4AgbBu61ZyzEcMp29o .modal-body::-webkit-scrollbar-track {\\n  -webkit-box-shadow: inset006pxrgba(0, 0, 0, 0.3);\\n  border-radius: 10px;\\n}\\n._2SPy4AgbBu61ZyzEcMp29o .modal-body::-webkit-scrollbar-thumb {\\n  border-radius: 10px;\\n  background: rgba(140, 140, 140);\\n  -webkit-box-shadow: inset006pxrgba(0, 0, 0, 0.5);\\n}\\n._2SPy4AgbBu61ZyzEcMp29o .modal-body::-webkit-scrollbar-thumb:window-inactive {\\n  background: rgba(255, 0, 0, 0.4);\\n}\\n</style><style type=\"text/css\">._1UZy7qb4eeDoZrZ-Pc1iT4 {\\n  position: fixed;\\n  width: 713px;\\n  height: 300px;\\n  background: rgba(255, 255, 255, 0);\\n  left: 50%;\\n  top: 40%;\\n  transform: translate(-50%, -50%);\\n  z-index: 999;\\n}\\n._1UZy7qb4eeDoZrZ-Pc1iT4 .modal-body {\\n  overflow: hidden;\\n}\\n</style><style type=\"text/css\"></style><style type=\"text/css\">._1JTApHCWjEo2nxQMgmelY.is-gray .xuexi {\\n  background: #000000 url(/lgpage/images/135c73edf8b74d5bd8348f004ae9247f.jpg) no-repeat top center;\\n}\\n._1JTApHCWjEo2nxQMgmelY.is-gray .login a.search-icon {\\n  background-image: url(/lgpage/images/4514093a3dcfba64d740275d0fbb8aaa.png) !important;\\n  margin-bottom: 10px;\\n}\\n._1JTApHCWjEo2nxQMgmelY.is-gray .login a.login-icon {\\n  background-image: url(/lgpage/images/ae4dad54733e5d5175dd5c77b1b73d36.png) !important;\\n}\\n._1JTApHCWjEo2nxQMgmelY.is-gray .menu {\\n  background-color: #EEEEEE;\\n}\\n._1JTApHCWjEo2nxQMgmelY.is-gray .menu .menu-list .menu-row a:hover {\\n  color: #363636;\\n}\\n._1JTApHCWjEo2nxQMgmelY .xuexi {\\n  min-width: 1000px;\\n  width: 100%;\\n  height: 250px;\\n  background-repeat: no-repeat;\\n  background-position: top center;\\n  background-color: #ce0000;\\n  background-image: url(/lgpage/images/c1ebf079ca4a317d80c059903d7cbb4f.jpg);\\n}\\n._1JTApHCWjEo2nxQMgmelY .xuexi .logo-content {\\n  width: 1000px;\\n  height: 250px;\\n  margin-left: auto;\\n  margin-right: auto;\\n  position: relative;\\n}\\n._1JTApHCWjEo2nxQMgmelY .logo-content .logo,\\n._1JTApHCWjEo2nxQMgmelY .logo-content .right {\\n  position: absolute;\\n  background-repeat: no-repeat;\\n  background-size: contain;\\n}\\n._1JTApHCWjEo2nxQMgmelY .logo-content .logo {\\n  width: 300px;\\n  height: 160px;\\n  top: 35px;\\n  left: 50px;\\n  background-image: url(/lgpage/images/5c0cbdcb8a12e151903b3f14e3babc6f.png);\\n}\\n._1JTApHCWjEo2nxQMgmelY .logo-content .right {\\n  width: 454px;\\n  height: 164px;\\n  top: 58px;\\n  right: 22px;\\n  background-image: url(/lgpage/images/05b44bad063c5735d66906e3975ea644.png);\\n}\\n._1JTApHCWjEo2nxQMgmelY .logo-content .logo-content-inner {\\n  width: 100%;\\n  height: 100%;\\n  background-repeat: no-repeat;\\n  background-size: contain;\\n  background-position: center center;\\n}\\n._1JTApHCWjEo2nxQMgmelY .logo-content .logo-content-inner .logo-content-inner-link {\\n  display: block;\\n  width: 100%;\\n  height: 100%;\\n  cursor: pointer;\\n}\\n._1JTApHCWjEo2nxQMgmelY .menu {\\n  min-width: 1000px;\\n  background-color: #F1EEE9;\\n  height: 84px;\\n  display: -ms-flexbox;\\n  display: flex;\\n  -ms-flex-pack: center;\\n      justify-content: center;\\n}\\n._1JTApHCWjEo2nxQMgmelY .menu .menu-list,\\n._1JTApHCWjEo2nxQMgmelY .menu .login {\\n  display: -ms-flexbox;\\n  display: flex;\\n  height: 84px;\\n  box-sizing: border-box;\\n}\\n._1JTApHCWjEo2nxQMgmelY .menu .menu-list {\\n  width: 850px;\\n  -ms-flex-direction: column;\\n      flex-direction: column;\\n  -ms-flex-pack: center;\\n      justify-content: center;\\n  padding-left: 20px;\\n  padding-right: 20px;\\n  box-sizing: border-box;\\n}\\n._1JTApHCWjEo2nxQMgmelY .menu .menu-list .menu-row {\\n  display: -ms-flexbox;\\n  display: flex;\\n}\\n._1JTApHCWjEo2nxQMgmelY .menu .menu-list .menu-row .single {\\n  -ms-flex: 1;\\n      flex: 1;\\n  text-align: center;\\n  color: #0f0e0e;\\n  padding: 0 10px;\\n  cursor: pointer;\\n  line-height: 34px;\\n  font-size: 18px;\\n  font-weight: 500;\\n  width: 110px;\\n  box-sizing: border-box;\\n}\\n._1JTApHCWjEo2nxQMgmelY .menu .menu-list .menu-row .single:hover {\\n  color: #ff0000;\\n}\\n._1JTApHCWjEo2nxQMgmelY .menu .login {\\n  width: 150px;\\n  -ms-flex-direction: column;\\n      flex-direction: column;\\n  -ms-flex-pack: center;\\n      justify-content: center;\\n  -ms-flex-align: center;\\n      align-items: center;\\n}\\n._1JTApHCWjEo2nxQMgmelY .menu .login a.icon {\\n  display: block;\\n  width: 88px;\\n  height: 28px;\\n  background-repeat: no-repeat;\\n  background-size: contain;\\n  background-position: center center;\\n  cursor: pointer;\\n}\\n._1JTApHCWjEo2nxQMgmelY .menu .login a.search-icon {\\n  background-image: url(/lgpage/images/d5f50c2c701b6ad7716ea4f02304fca9.png);\\n  margin-bottom: 10px;\\n}\\n._1JTApHCWjEo2nxQMgmelY .menu .login a.login-icon {\\n  background-image: url(/lgpage/images/4bf8210cc871017678ac449005e5d44e.png);\\n}\\n._1JTApHCWjEo2nxQMgmelY .menu .login .logged-text {\\n  color: #111;\\n  line-height: 20px;\\n  font-size: 12px;\\n}\\n._1JTApHCWjEo2nxQMgmelY .menu .login .logged-link {\\n  color: #111;\\n  line-height: 20px;\\n  font-size: 12px;\\n}\\n._1JTApHCWjEo2nxQMgmelY .menu a,\\n._1JTApHCWjEo2nxQMgmelY .menu a:active,\\n._1JTApHCWjEo2nxQMgmelY .menu a:hover,\\n._1JTApHCWjEo2nxQMgmelY .menu a:visited,\\n._1JTApHCWjEo2nxQMgmelY .menu a:focus {\\n  text-decoration: none;\\n}\\n</style><style type=\"text/css\">.WNiH6aSBS23IzewzHGi4v {\\n  padding-top: 20px;\\n  height: 440px;\\n  overflow: hidden;\\n}\\n.WNiH6aSBS23IzewzHGi4v .content {\\n  margin-left: auto;\\n  margin-right: auto;\\n  width: 1000px;\\n}\\n.WNiH6aSBS23IzewzHGi4v .links {\\n  display: -ms-flexbox;\\n  display: flex;\\n  -ms-flex-direction: row;\\n      flex-direction: row;\\n  border-bottom: solid 1px #DEDEDE;\\n  padding-bottom: 20px;\\n}\\n.WNiH6aSBS23IzewzHGi4v .links .links-left {\\n  width: 110px;\\n  font-size: 18px;\\n  color: #000;\\n  margin-top: 5px;\\n  margin-right: 5px;\\n}\\n.WNiH6aSBS23IzewzHGi4v .links .links-right {\\n  width: 850px;\\n  box-sizing: border-box;\\n  position: relative;\\n  font-size: 0;\\n}\\n.WNiH6aSBS23IzewzHGi4v .links .links-right::before {\\n  content: \\'\\\\200B\\';\\n  position: absolute;\\n  left: 0;\\n  top: 7px;\\n  bottom: 7px;\\n  width: 1px;\\n  background-color: #DEDEDE;\\n}\\n.WNiH6aSBS23IzewzHGi4v .links .links-right a {\\n  display: inline-block;\\n  color: #111;\\n  overflow: hidden;\\n  margin-top: 5px;\\n  margin-bottom: 5px;\\n  margin-left: 25px;\\n  line-height: 20px;\\n  font-size: 16px;\\n  box-sizing: border-box;\\n}\\n.WNiH6aSBS23IzewzHGi4v .links a,\\n.WNiH6aSBS23IzewzHGi4v .links a:active,\\n.WNiH6aSBS23IzewzHGi4v .links a:hover,\\n.WNiH6aSBS23IzewzHGi4v .links a:visited,\\n.WNiH6aSBS23IzewzHGi4v .links a:focus {\\n  text-decoration: none;\\n}\\n.WNiH6aSBS23IzewzHGi4v .copyright {\\n  margin-top: 27px;\\n  text-align: center;\\n  color: #111;\\n  font-size: 16px;\\n  padding-bottom: 10px;\\n}\\n.WNiH6aSBS23IzewzHGi4v .copyright .icon-wrap {\\n  display: -ms-flexbox;\\n  display: flex;\\n  -ms-flex-pack: center;\\n      justify-content: center;\\n  -ms-flex-align: center;\\n      align-items: center;\\n}\\n.WNiH6aSBS23IzewzHGi4v .copyright .icon1 {\\n  background-image: url(/lgpage/images/5d27b770015be191ed14e8146fcc907e.png);\\n}\\n.WNiH6aSBS23IzewzHGi4v .copyright .icon2 {\\n  background-image: url(/lgpage/images/f6b99ba9b8314955d8dcf08b3ac85353.png);\\n}\\n.WNiH6aSBS23IzewzHGi4v .copyright .icon-wrap.is-gray .icon1 {\\n  background-image: url(/lgpage/images/0590a4bdaae18e0a5b101a583c9027b7.png);\\n}\\n.WNiH6aSBS23IzewzHGi4v .copyright .icon-wrap.is-gray .icon2 {\\n  background-image: url(/lgpage/images/aaeecb53fb07d34cf83dff8cf52cf71c.png);\\n}\\n.WNiH6aSBS23IzewzHGi4v .copyright .img {\\n  background-repeat: no-repeat;\\n  background-position: center;\\n  background-size: contain;\\n  width: 71px;\\n  height: 77px;\\n  display: block;\\n}\\n.WNiH6aSBS23IzewzHGi4v .copyright .img:not(:first-child) {\\n  margin-left: 16px;\\n}\\n.WNiH6aSBS23IzewzHGi4v .copyright .text-link {\\n  color: #111;\\n  text-decoration: none;\\n}\\n.WNiH6aSBS23IzewzHGi4v .copyright p {\\n  margin-top: 10px;\\n  margin-bottom: 0;\\n  line-height: 21px;\\n  font-family: \"Microsoft Yahei\", \"\\\\5FAE\\\\8F6F\\\\96C5\\\\9ED1\", sans-serif;\\n  letter-spacing: 1px;\\n}\\n.WNiH6aSBS23IzewzHGi4v .copyright p.tips {\\n  font-size: 14px;\\n  color: #979797;\\n}\\n</style><style type=\"text/css\">._9xUhvL3VFvO1l_lulQ4n2 {\\n  min-height: 20px;\\n  font-size: 0;\\n}\\n._9xUhvL3VFvO1l_lulQ4n2 img {\\n  max-width: 100%;\\n}\\n</style><style type=\"text/css\">._2sd_CKPqo9yoERxZnUP_PX {\\n  overflow: visible;\\n  width: 105px;\\n}\\n._2sd_CKPqo9yoERxZnUP_PX.is-gray .toTop {\\n  background-color: gray;\\n}\\n._2sd_CKPqo9yoERxZnUP_PX.is-gray .qrcodeBox {\\n  background-color: #5d5a5a;\\n}\\n._2sd_CKPqo9yoERxZnUP_PX.is-gray .servicePhone {\\n  background-color: #828181;\\n}\\n._2sd_CKPqo9yoERxZnUP_PX.is-gray .classPhone {\\n  background-color: #828181;\\n}\\n._2sd_CKPqo9yoERxZnUP_PX.is-gray .linkItem:hover {\\n  background: #a2a2a2;\\n}\\n._2sd_CKPqo9yoERxZnUP_PX > div {\\n  font-weight: 900;\\n  font-size: 18px;\\n  text-align: center;\\n  overflow: hidden;\\n  box-sizing: border-box;\\n}\\n._2sd_CKPqo9yoERxZnUP_PX .linkItem {\\n  cursor: pointer;\\n  height: 40px;\\n  line-height: 40px;\\n  color: #111;\\n  border-bottom: 2px solid #fff;\\n  background-color: #d7d7d7;\\n}\\n._2sd_CKPqo9yoERxZnUP_PX .linkItem:hover {\\n  background: #fb9801;\\n  color: #fff;\\n}\\n._2sd_CKPqo9yoERxZnUP_PX .toTop {\\n  cursor: pointer;\\n  height: 50px;\\n  color: #fff;\\n  background-color: #b50413;\\n  line-height: 50px;\\n}\\n._2sd_CKPqo9yoERxZnUP_PX .qrcodeBox {\\n  cursor: default;\\n  background-color: #a4221f;\\n  padding-top: 10px;\\n}\\n._2sd_CKPqo9yoERxZnUP_PX .qrcodeBox .qrcode {\\n  background-image: url(\\'https://bootcdn.xuexi.cn/dyxx_5a1d70322da1335610ea6a87/1548164324521/b9cb90bac825074ef044d479f74095b7.png\\');\\n  width: 85px;\\n  height: 85px;\\n  box-sizing: border-box;\\n  background-size: contain;\\n  margin: 0 auto;\\n}\\n._2sd_CKPqo9yoERxZnUP_PX .qrcodeBox .qrcodeText {\\n  color: #fff;\\n  line-height: 20px;\\n  font-size: 12px;\\n  font-weight: normal;\\n}\\n._2sd_CKPqo9yoERxZnUP_PX .servicePhone {\\n  background-color: #ba2926;\\n  color: #fff;\\n  padding: 5px 0 3px;\\n}\\n._2sd_CKPqo9yoERxZnUP_PX .servicePhone .phoneText {\\n  font-weight: 350;\\n  line-height: 20px;\\n  letter-spacing: 4px;\\n}\\n._2sd_CKPqo9yoERxZnUP_PX .classPhone {\\n  background-color: #ba2926;\\n  color: #fff;\\n  padding: 0px 0 5px;\\n}\\n._2sd_CKPqo9yoERxZnUP_PX .bigText {\\n  line-height: 28px;\\n  font-weight: 900;\\n  font-size: 18px;\\n}\\n._2sd_CKPqo9yoERxZnUP_PX .smallText {\\n  line-height: 20px;\\n  font-weight: 350;\\n  font-size: 14px;\\n}\\n.wtga3qNLunE7Rx8CmElb4 {\\n  display: -ms-flexbox;\\n  display: flex;\\n  width: 1000px;\\n  max-height: 627px;\\n  overflow: hidden;\\n  margin: 20px auto;\\n  -ms-flex-pack: end;\\n      justify-content: flex-end;\\n}\\n</style><style type=\"text/css\">.Fvmcri6TyZ_XilfF1ZmB0 {\\n  position: absolute;\\n  overflow: visible;\\n  top: 0;\\n  right: 50%;\\n  width: 105px;\\n  z-index: 400;\\n  margin-right: -645.5px;\\n  margin-top: 0;\\n  display: none;\\n}\\n.Fvmcri6TyZ_XilfF1ZmB0.show {\\n  display: block;\\n}\\n.Fvmcri6TyZ_XilfF1ZmB0.is-hover {\\n  margin-top: 60px;\\n}\\n</style><style type=\"text/css\">._123TewfUWxUbDqs5ecsq6k {\\n  text-align: center;\\n}\\n._123TewfUWxUbDqs5ecsq6k.left {\\n  text-align: left;\\n}\\n._123TewfUWxUbDqs5ecsq6k.right {\\n  text-align: right;\\n}\\n._123TewfUWxUbDqs5ecsq6k .btn {\\n  display: inline-block;\\n  height: 28px;\\n  line-height: 28px;\\n  border: 1px solid #D3D4D5;\\n  background: #fff;\\n  margin-left: 3px;\\n  cursor: pointer;\\n  font-size: 14px;\\n  padding-left: 12px;\\n  padding-right: 12px;\\n}\\n._123TewfUWxUbDqs5ecsq6k .btn.active {\\n  background-color: #ca1c1d;\\n  border-color: #ca1c1d;\\n  color: #fff;\\n}\\n._123TewfUWxUbDqs5ecsq6k .seach {\\n  display: inline-block;\\n  height: 29px;\\n  word-break: break-all;\\n  vertical-align: top;\\n  color: #9b9b9b;\\n  margin-left: 24px;\\n}\\n._123TewfUWxUbDqs5ecsq6k .seach span {\\n  color: #595959;\\n  font-size: 14px;\\n  line-height: 29px;\\n}\\n._123TewfUWxUbDqs5ecsq6k .seach .input {\\n  width: 46px;\\n  height: 28px;\\n  border: 1px solid #D4D5D5;\\n  text-align: center;\\n  font-size: 13px;\\n  padding: 0px;\\n}\\n._123TewfUWxUbDqs5ecsq6k .seach .input:focus {\\n  border: 1px solid #D30000;\\n}\\n._123TewfUWxUbDqs5ecsq6k .seach .button {\\n  margin-left: 7px;\\n  height: 30px;\\n  line-height: 28px;\\n  padding: 0;\\n  width: 48px;\\n  font-size: 13px;\\n  border: 1px solid #D9D9D9;\\n  background-color: #fff;\\n  border-radius: 3px;\\n}\\n._123TewfUWxUbDqs5ecsq6k .seach .button:hover {\\n  color: #D30000;\\n}\\n</style><style type=\"text/css\">._3GhgGH8Y4Zh8H0uBP5aUMD {\\n  box-sizing: border-box;\\n}\\n.oSnRgpdW2BnrDruxKh9We {\\n  margin: 0 auto;\\n  box-sizing: border-box;\\n}\\n._3mVsbsHWKWuZwBS5zIrFO9 {\\n  background-repeat: no-repeat;\\n  background-position: center;\\n}\\n._30-GJbmY4Op1U8Pq3SIdWJ {\\n  position: absolute;\\n  top: 0;\\n  left: 0;\\n  right: 0;\\n  background-repeat: no-repeat;\\n  background-position: top center;\\n  z-index: -1;\\n}\\n</style><style type=\"text/css\">._2fp3fOGMGh-BJtHTi6RGg0.columnGutterLine {\\n  position: absolute;\\n  top: 10px;\\n  bottom: 10px;\\n  margin-left: -1px;\\n}\\n.Iuu474S1L6y5p7yalKQbW {\\n  display: inline-block;\\n  vertical-align: top;\\n}\\n._2I2Fo0d85Ya3yh_3p5BZWu {\\n  margin-top: 30px;\\n}\\n</style><style type=\"text/css\">._1roB0hINAeS23T_izr24JC {\\n  position: relative;\\n}\\n._1roB0hINAeS23T_izr24JC .text-wrap {\\n  position: absolute;\\n  top: 100px;\\n  left: 555px;\\n}\\n._1roB0hINAeS23T_izr24JC .text-wrap .text {\\n  line-height: 1.5;\\n  margin: 0;\\n  font-family: \\'Songti SC\\', \\'\\\\5B8B\\\\4F53\\', serif;\\n  font-weight: normal;\\n}\\n._1roB0hINAeS23T_izr24JC .text-wrap h1.text {\\n  font-size: 46px;\\n  color: #EC1E26;\\n}\\n._1roB0hINAeS23T_izr24JC .text-wrap h2.text {\\n  font-size: 32px;\\n  color: #999;\\n}\\n</style><style type=\"text/css\">._1gaYhdMx2jVvF1XyCd8PCH {\\n  position: relative;\\n}\\n._1gaYhdMx2jVvF1XyCd8PCH .text-wrap {\\n  position: absolute;\\n  top: 68px;\\n  left: 555px;\\n}\\n._1gaYhdMx2jVvF1XyCd8PCH .text-wrap p {\\n  font-family: PingFangSC-Medium;\\n  font-size: 32px;\\n  color: #2C2E31;\\n  letter-spacing: 0;\\n  text-align: center;\\n  line-height: 40px;\\n  margin: 20px 0;\\n}\\n._1gaYhdMx2jVvF1XyCd8PCH .text-wrap .iconImg {\\n  margin-left: 84px;\\n  width: 96px;\\n  height: 96px;\\n}\\n</style><style type=\"text/css\">.gZvXbSIBUZW-kpsi_k_Xv {\\n  position: relative;\\n}\\n.gZvXbSIBUZW-kpsi_k_Xv .surrounding-box {\\n  position: absolute;\\n  left: 0;\\n  right: 0;\\n  top: 0;\\n  bottom: 0;\\n  z-index: 1;\\n  background: rgba(24, 144, 255, 0.05);\\n  border: 2px solid #1890FF;\\n  border-radius: 0 3px 3px 3px;\\n  pointer-events: none;\\n}\\n.gZvXbSIBUZW-kpsi_k_Xv .tip {\\n  position: absolute;\\n  left: 0;\\n  top: 0;\\n  padding: 0 10px;\\n  height: 24px;\\n  font-size: 12px;\\n  color: #FFFFFF;\\n  line-height: 24px;\\n  background: #1890FF;\\n  text-align: center;\\n  border-bottom-right-radius: 2px;\\n}\\n</style><style type=\"text/css\">._2uIfsqtBFwHcu40ZYV5yLc {\\n  margin-top: 20px;\\n  margin-bottom: 20px;\\n}\\n._2uIfsqtBFwHcu40ZYV5yLc a,\\n._2uIfsqtBFwHcu40ZYV5yLc a:active,\\n._2uIfsqtBFwHcu40ZYV5yLc a:hover,\\n._2uIfsqtBFwHcu40ZYV5yLc a:visited,\\n._2uIfsqtBFwHcu40ZYV5yLc a:focus {\\n  text-decoration: none;\\n}\\n._2uIfsqtBFwHcu40ZYV5yLc .separator {\\n  margin-left: 5px;\\n  margin-right: 5px;\\n  color: #666;\\n}\\n._2uIfsqtBFwHcu40ZYV5yLc .link-text,\\n._2uIfsqtBFwHcu40ZYV5yLc .link-text-link {\\n  font-size: 14px;\\n  line-height: 20px;\\n  color: #666;\\n}\\n._2uIfsqtBFwHcu40ZYV5yLc .link-text-link {\\n  cursor: pointer;\\n  color: #666;\\n}\\n._2uIfsqtBFwHcu40ZYV5yLc.night .link-text,\\n._2uIfsqtBFwHcu40ZYV5yLc.night .separator,\\n._2uIfsqtBFwHcu40ZYV5yLc.night .link-text-link {\\n  color: #EDECEC;\\n}\\n</style><style type=\"text/css\">._1ToL9MWRc4QxsT1GOTgWhd {\\n  padding-bottom: 20px;\\n  border-bottom: solid 1px #d30000;\\n  position: relative;\\n}\\n._1ToL9MWRc4QxsT1GOTgWhd.no-line,\\n._1ToL9MWRc4QxsT1GOTgWhd.has-background {\\n  border-bottom: none;\\n  background-size: contain;\\n  background-position-y: center;\\n}\\n._1ToL9MWRc4QxsT1GOTgWhd.has-tabs {\\n  padding-top: 20px;\\n}\\n._1ToL9MWRc4QxsT1GOTgWhd.PATTERN {\\n  background-image: url(/lgpage/images/0bfe09dd9ef05a9ea3cf7ccdd11009e6.png);\\n  max-width: 1000px;\\n  background-repeat: no-repeat;\\n  overflow: visible;\\n  padding-top: 10px;\\n  padding-bottom: 10px;\\n  padding-left: 22px;\\n}\\n._1ToL9MWRc4QxsT1GOTgWhd.PATTERN .content .text {\\n  width: 200px;\\n  color: #fff;\\n  text-align: center;\\n}\\n._1ToL9MWRc4QxsT1GOTgWhd.PATTERN .content .tabs {\\n  left: 257px;\\n}\\n._1ToL9MWRc4QxsT1GOTgWhd .topLine {\\n  position: absolute;\\n  bottom: 5px;\\n  width: 100%;\\n  left: 0;\\n}\\n._1ToL9MWRc4QxsT1GOTgWhd .content {\\n  position: relative;\\n}\\n._1ToL9MWRc4QxsT1GOTgWhd .content.has-icon .icon {\\n  position: relative;\\n  top: 8px;\\n  display: inline-block;\\n  width: 34px;\\n  height: 34px;\\n}\\n._1ToL9MWRc4QxsT1GOTgWhd .content.has-icon .text {\\n  margin-left: 10px;\\n}\\n._1ToL9MWRc4QxsT1GOTgWhd .content .icon,\\n._1ToL9MWRc4QxsT1GOTgWhd .content .extra {\\n  display: -ms-flexbox;\\n  display: flex;\\n  -ms-flex-align: center;\\n      align-items: center;\\n  position: absolute;\\n  top: 0;\\n  bottom: 0;\\n}\\n._1ToL9MWRc4QxsT1GOTgWhd .content .icon {\\n  left: 0;\\n}\\n._1ToL9MWRc4QxsT1GOTgWhd .content .text {\\n  font-weight: 800;\\n  display: inline-block;\\n  font-size: 23px;\\n  color: #d30000;\\n  padding-left: 15px;\\n  border-left: solid 6px #d30000;\\n}\\n._1ToL9MWRc4QxsT1GOTgWhd .content .text.no-border-left {\\n  padding-left: 0;\\n  border-left: none;\\n  overflow: hidden;\\n}\\n._1ToL9MWRc4QxsT1GOTgWhd .content .text.no-border-left span {\\n  white-space: nowrap;\\n}\\n._1ToL9MWRc4QxsT1GOTgWhd .content .extra {\\n  right: 0;\\n}\\n._1ToL9MWRc4QxsT1GOTgWhd .content .tabs {\\n  display: -ms-flexbox;\\n  display: flex;\\n  position: absolute;\\n  left: 0;\\n  top: -20px;\\n  bottom: 0;\\n  -ms-flex-align: center;\\n      align-items: center;\\n}\\n._1ToL9MWRc4QxsT1GOTgWhd .extra span {\\n  color: #333333;\\n  font-weight: 400;\\n  font-size: 14px;\\n  cursor: pointer;\\n}\\n._1ToL9MWRc4QxsT1GOTgWhd .extra span:hover {\\n  color: #d30000 !important;\\n}\\n._1ToL9MWRc4QxsT1GOTgWhd .extra span.isGray:hover {\\n  color: #2c2c2c !important;\\n}\\n</style><style type=\"text/css\">._3C63FLFJ-tRjXyb6rsCvH3 {\\n  background-repeat: no-repeat;\\n  background-size: cover;\\n}\\n._3C63FLFJ-tRjXyb6rsCvH3.VIDEO {\\n  width: 100%;\\n  height: 100%;\\n  background-image: url(/lgpage/images/3a98f59b4b62dc0d2cc43b8394b6e713.png);\\n}\\n</style><style type=\"text/css\">._3wnLIRcEni99IWb4rSpguK {\\n  display: -ms-flexbox;\\n  display: flex;\\n  -ms-flex-direction: column;\\n      flex-direction: column;\\n  -ms-flex-pack: center;\\n      justify-content: center;\\n  cursor: pointer;\\n  background-repeat: no-repeat;\\n  background-position: center;\\n  background-size: cover;\\n  box-sizing: border-box;\\n}\\n._3wnLIRcEni99IWb4rSpguK .text-link-item-title {\\n  display: -ms-flexbox;\\n  display: flex;\\n  -ms-flex-direction: row;\\n      flex-direction: row;\\n  -ms-flex-align: center;\\n      align-items: center;\\n  -ms-flex-pack: start;\\n      justify-content: flex-start;\\n}\\n._3wnLIRcEni99IWb4rSpguK .content {\\n  font-size: 14px;\\n  margin: 5px 0;\\n}\\n._3wnLIRcEni99IWb4rSpguK .label-wrap {\\n  height: 1.2em;\\n}\\n._3wnLIRcEni99IWb4rSpguK .icon-wrap {\\n  display: -ms-flexbox;\\n  display: flex;\\n  -ms-flex-align: center;\\n      align-items: center;\\n}\\n._3wnLIRcEni99IWb4rSpguK .icon-wrap .icon {\\n  display: block;\\n  background: transparent no-repeat left center;\\n  background-size: contain;\\n  width: 18px;\\n  height: 18px;\\n}\\n._3wnLIRcEni99IWb4rSpguK .icon-wrap .icon-text {\\n  font-size: 16px;\\n}\\n._3wnLIRcEni99IWb4rSpguK .text-wrap {\\n  -ms-flex: 1;\\n      flex: 1;\\n  font-size: 14px;\\n  overflow: hidden;\\n  text-overflow: ellipsis;\\n}\\n._3wnLIRcEni99IWb4rSpguK .text-wrap .text {\\n  text-decoration: none;\\n}\\n._3wnLIRcEni99IWb4rSpguK .extra-wrap {\\n  font-size: 14px;\\n  display: -ms-flexbox;\\n  display: flex;\\n}\\n._3wnLIRcEni99IWb4rSpguK .extra-wrap .text-sourc {\\n  margin-right: 20px;\\n}\\n</style></head><body><script src=\"//source.xuexi.cn/AWSC/WebUMID/1.70.0/um.js?d=6\" id=\"AWSC_umidPCModule\"></script><script src=\"//source.xuexi.cn/AWSC/uab/115.js?d=6\" id=\"AWSC_uabModule\"></script><script src=\"https://retcode.alicdn.com/retcode/bl.js\" crossorigin=\"\"></script><script>try {\\n        // \\xe8\\x8e\\xb7\\xe5\\x8f\\x96IE\\xe7\\x89\\x88\\xe6\\x9c\\xac\\n        window.__getIEVersion = function() {\\n          var userAgent = window.navigator.userAgent;\\n          var isIE = userAgent.indexOf(\\'compatible\\') > -1 && userAgent.indexOf(\\'MSIE\\') > -1;\\n          var isEdge = userAgent.indexOf(\\'Edge\\') > -1 && !isIE;\\n          var isIE11 = userAgent.indexOf(\\'Trident\\') > -1 && userAgent.indexOf(\\'rv:11.0\\') > -1;\\n          if (isIE) {\\n            var reIE = new RegExp(\\'MSIE (\\\\\\\\d+\\\\\\\\.\\\\\\\\d+);\\');\\n            reIE.test(userAgent);\\n            var fIEVersion = parseFloat(RegExp[\"$1\"]);\\n            if (fIEVersion == 7) {\\n              return 7;\\n            } else if (fIEVersion == 8) {\\n              return 8;\\n            } else if (fIEVersion == 9) {\\n              return 9;\\n            } else if (fIEVersion == 10) {\\n              return 10;\\n            } else {\\n              return 6;\\n            }\\n          } else if (isEdge) {\\n            return \\'edge\\';\\n          } else if (isIE11) {\\n            return 11;\\n          } else {\\n            return -1;\\n          }\\n        }\\n\\n        var ieVersion = __getIEVersion();\\n\\n        window.__lessIEVersion = function(version) {\\n          if (ieVersion !== -1 && ieVersion !== \\'edge\\') {\\n            return ieVersion < version;\\n          }\\n          return false;\\n        }\\n\\n        if (window.__lessIEVersion(11)) {\\n          window.location.href = \\'/update\\';\\n        }\\n      } catch (e) {\\n        window.__pre_error = e;\\n      }</script><script>try {\\n      !(function(c,b,d,a){c[a]||(c[a]={});c[a].config=\\n        {\\n          /** arms\\xe5\\xba\\x94\\xe7\\x94\\xa8\\xe7\\x9a\\x84pid */\\n          pid: \"hr5uxr169c@9c7272e8e46233f\",\\n          /** \\xe9\\xa1\\xb9\\xe7\\x9b\\xae\\xe7\\x8e\\xaf\\xe5\\xa2\\x83\\xe5\\xad\\x97\\xe6\\xae\\xb5\\xef\\xbc\\x8c\\xe5\\x8f\\x96\\xe5\\x80\\xbc\\xe4\\xb8\\xba\\xef\\xbc\\x9aprod\\xe3\\x80\\x81gray\\xe3\\x80\\x81pre\\xe3\\x80\\x81daily\\xe5\\x92\\x8clocal\\xef\\xbc\\x8c\\xe5\\x85\\xb6\\xe4\\xb8\\xad\\xef\\xbc\\x9aprod\\xe8\\xa1\\xa8\\xe7\\xa4\\xba\\xe7\\xba\\xbf\\xe4\\xb8\\x8a\\xe7\\x8e\\xaf\\xe5\\xa2\\x83\\xe3\\x80\\x82gray\\xe8\\xa1\\xa8\\xe7\\xa4\\xba\\xe7\\x81\\xb0\\xe5\\xba\\xa6\\xe7\\x8e\\xaf\\xe5\\xa2\\x83\\xe3\\x80\\x82pre\\xe8\\xa1\\xa8\\xe7\\xa4\\xba\\xe9\\xa2\\x84\\xe5\\x8f\\x91\\xe7\\x8e\\xaf\\xe5\\xa2\\x83\\xe3\\x80\\x82daily\\xe8\\xa1\\xa8\\xe7\\xa4\\xba\\xe6\\x97\\xa5\\xe5\\xb8\\xb8\\xe7\\x8e\\xaf\\xe5\\xa2\\x83\\xe3\\x80\\x82 local\\xe8\\xa1\\xa8\\xe7\\xa4\\xba\\xe6\\x9c\\xac\\xe5\\x9c\\xb0\\xe7\\x8e\\xaf\\xe5\\xa2\\x83\\xe3\\x80\\x82  */\\n          environment: \"prod\",\\n          /** \\xe6\\x98\\xaf\\xe5\\x90\\xa6\\xe7\\x9b\\x91\\xe5\\x90\\xac\\xe9\\xa1\\xb5\\xe9\\x9d\\xa2\\xe7\\x9a\\x84hashchange\\xe4\\xba\\x8b\\xe4\\xbb\\xb6\\xe5\\xb9\\xb6\\xe9\\x87\\x8d\\xe6\\x96\\xb0\\xe4\\xb8\\x8a\\xe6\\x8a\\xa5PV\\xef\\xbc\\x8c\\xe5\\x8d\\x95\\xe9\\xa1\\xb5\\xe9\\x9d\\xa2\\xe5\\xba\\x94\\xe7\\x94\\xa8\\xe9\\x9c\\x80\\xe8\\xa6\\x81\\xe9\\x85\\x8d\\xe7\\xbd\\xae\\xef\\xbc\\x8c\\xe5\\xa4\\x9a\\xe9\\xa1\\xb5\\xe5\\xba\\x94\\xe7\\x94\\xa8\\xe8\\xae\\xbe\\xe7\\xbd\\xae\\xe4\\xb8\\xbafalse\\xe3\\x80\\x82 */\\n          enableSPA: false,\\n          /** \\xe5\\x89\\x8d\\xe7\\xab\\xaf\\xe9\\xa1\\xb5\\xe9\\x9d\\xa2\\xe5\\xbd\\x93\\xe5\\x89\\x8d\\xe7\\x89\\x88\\xe6\\x9c\\xac\\xe5\\x8f\\xb7\\xef\\xbc\\x8c\\xe5\\x8f\\xaf\\xe9\\x80\\x89\\xef\\xbc\\x8c\\xe4\\xbe\\xbf\\xe4\\xba\\x8e\\xe6\\x9f\\xa5\\xe7\\x9c\\x8b\\xe4\\xb8\\x8d\\xe5\\x90\\x8c\\xe7\\x89\\x88\\xe6\\x9c\\xac\\xe7\\x9a\\x84\\xe4\\xb8\\x8a\\xe6\\x8a\\xa5\\xe4\\xbf\\xa1\\xe6\\x81\\xaf */\\n          release: \"1638434816526\",\\n          /** \\xe6\\x98\\xaf\\xe5\\x90\\xa6\\xe9\\x87\\x87\\xe9\\x9b\\x86\\xe9\\xa6\\x96\\xe5\\xb1\\x8fFMP\\xef\\xbc\\x88First Meaningful Paint\\xef\\xbc\\x8c\\xe9\\xa6\\x96\\xe6\\xac\\xa1\\xe6\\x9c\\x89\\xe6\\x95\\x88\\xe6\\xb8\\xb2\\xe6\\x9f\\x93\\xef\\xbc\\x89\\xe6\\x95\\xb0\\xe6\\x8d\\xae\\xe3\\x80\\x82 */\\n          useFmp: true,\\n          /** \\xe6\\x98\\xaf\\xe5\\x90\\xa6\\xe4\\xb8\\x8a\\xe6\\x8a\\xa5\\xe9\\xa1\\xb5\\xe9\\x9d\\xa2\\xe9\\x9d\\x99\\xe6\\x80\\x81\\xe8\\xb5\\x84\\xe6\\xba\\x90\\xef\\xbc\\x8c\\xe5\\x8f\\xaf\\xe7\\x94\\xa8\\xe4\\xba\\x8e\\xe9\\xa1\\xb5\\xe9\\x9d\\xa2\\xe5\\x8a\\xa0\\xe8\\xbd\\xbd\\xe6\\x83\\x85\\xe5\\x86\\xb5\\xe7\\x9a\\x84\\xe5\\x88\\x86\\xe6\\x9e\\x90 */\\n          sendResource: true,\\n          /** \\xe6\\x98\\xaf\\xe5\\x90\\xa6\\xe7\\xa6\\x81\\xe7\\x94\\xa8AJAX\\xe8\\xaf\\xb7\\xe6\\xb1\\x82\\xe7\\x9b\\x91\\xe5\\x90\\xac\\xef\\xbc\\x8c\\xe6\\x8e\\xa8\\xe8\\x8d\\x90\\xe7\\xa6\\x81\\xe7\\x94\\xa8\\xef\\xbc\\x8c\\xe7\\x94\\xb1\\xe4\\xb8\\x9a\\xe5\\x8a\\xa1\\xe8\\x87\\xaa\\xe5\\xae\\x9a\\xe4\\xb9\\x89\\xe4\\xb8\\x8a\\xe4\\xbc\\xa0\\xe6\\x8e\\xa5\\xe5\\x8f\\xa3 */\\n          disableHook: true,\\n          /** \\xe6\\x98\\xaf\\xe5\\x90\\xa6\\xe8\\x87\\xaa\\xe5\\x8a\\xa8\\xe4\\xb8\\x8a\\xe6\\x8a\\xa5pv */\\n          autoSendPv: false,\\n          /** \\xe6\\x98\\xaf\\xe5\\x90\\xa6\\xe5\\xbc\\x80\\xe5\\x90\\xaf\\xe5\\x89\\x8d\\xe5\\x90\\x8e\\xe7\\xab\\xaf\\xe9\\x93\\xbe\\xe8\\xb7\\xaf\\xe8\\xbf\\xbd\\xe8\\xb8\\xaa */ \\n          enableLinkTrace: false,\\n          /** \\xe9\\xa1\\xb5\\xe9\\x9d\\xa2\\xe6\\x8a\\xa5\\xe8\\xad\\xa6\\xe7\\xb1\\xbb\\xe5\\x9e\\x8b\\xef\\xbc\\x8cH5\\xe5\\xba\\x94\\xe7\\x94\\xa8\\xe8\\xae\\xbe\\xe7\\xbd\\xae\"web\"\" */\\n          appType: \"web\",\\n          /** \\xe8\\xae\\xbe\\xe5\\xae\\x9a\\xe6\\x97\\xa5\\xe5\\xbf\\x97\\xe4\\xb8\\x8a\\xe4\\xbc\\xa0\\xe5\\x9c\\xb0\\xe5\\x9d\\x80\\xef\\xbc\\x8c\\xe6\\xad\\xa3\\xe5\\xb8\\xb8\\xe4\\xb8\\x8d\\xe9\\x9c\\x80\\xe8\\xa6\\x81\\xe4\\xbf\\xae\\xe6\\x94\\xb9 */\\n          imgUrl: \"https://arms-retcode.aliyuncs.com/r.png?\",\\n          /** \\xe6\\x80\\xa7\\xe8\\x83\\xbd\\xe8\\xb7\\x9f\\xe6\\x88\\x90\\xe5\\x8a\\x9fAPI\\xe7\\x9a\\x84\\xe9\\x87\\x87\\xe6\\xa0\\xb7\\xe7\\x8e\\x87 */\\n          sample: 1,\\n          parseResponse: function (res) {\\n            if (!res || typeof res !== \\'object\\' || res.websocket) return {};\\n            var code = res.code || res.errorCode || res.status;\\n            var msg = res.errorMessage || res.msg || res.message || res.subMsg || res.errorMsg || res.ret || res.errorResponse || res.body || \\'\\';\\n            if (typeof msg === \\'object\\') {\\n              code = code || msg.code || msg.status;\\n              msg = msg.reason || msg.message || msg.msg || msg.info || msg.ret || JSON.stringify(msg);\\n            }\\n            var success = code == 0 || code == 200;\\n            msg = success ? \\'\\' : msg;\\n            if (!success) {\\n              return { msg: msg, code: code, success: success };\\n            }\\n          },\\n          ignore: {\\n            ignoreErrors: [\\n              /^Script error.?$/,\\n              function (str) {\\n                return (str && str.indexOf(\\'chrome-extension://\\') >= 0);\\n              }\\n            ],\\n            ignoreResErrors: [\\n              function (str) {\\n                return (str && str.indexOf(\\'chrome-extension://\\') >= 0);\\n              }\\n            ]\\n          }\\n        };\\n      with(b)with(body)with(insertBefore(createElement(\"script\"),firstChild))setAttribute(\"crossorigin\",\"\",src=d)\\n      })(window,document,\"https://retcode.alicdn.com/retcode/bl.js\",\"__bl\");\\n    } catch (e) {\\n      console.error(\\'arms js load failed\\', e);\\n    }</script><script>if( /Android|webOS|iPhone|iPad|iPod|BlackBerry|IEMobile|Opera Mini/i.test(navigator.userAgent) ) {\\n        // document.documentElement.clientWidth \\xe5\\x9c\\xa8\\xe8\\xbf\\x99\\xe4\\xb8\\xaa\\xe6\\x97\\xb6\\xe6\\x9c\\xba\\xe4\\xb8\\x8b\\xe8\\xb7\\x9f\\xe6\\xb8\\xb2\\xe6\\x9f\\x93\\xe5\\xae\\x8c\\xe6\\x88\\x90\\xe5\\x90\\x8e\\xe7\\x9a\\x84\\xe5\\xa4\\xa7\\xe5\\xb0\\x8f\\xe4\\xb8\\x8d\\xe4\\xb8\\x80\\xe6\\xa0\\xb7\\xef\\xbc\\x8c\\xe8\\x80\\x83\\xe8\\x99\\x91\\xe5\\xbd\\x93\\xe5\\x89\\x8d\\xe7\\xbb\\x84\\xe4\\xbb\\xb6\\xe6\\x9c\\x80\\xe5\\xa4\\xa71280\\xef\\xbc\\x8c\\xe7\\xad\\x89\\xe5\\x90\\x8c\\xe4\\xba\\x8e\\xe6\\x9c\\x80\\xe5\\xa4\\xa7clientWidth\\n        var maxClientWidth = 1280;\\n        var scale = window.screen.width / maxClientWidth;\\n        var oMeta = document.createElement(\\'meta\\');\\n        oMeta.name = \\'viewport\\';\\n        oMeta.content = \"initial-scale=\" + scale + \", user-scalable=yes\";\\n        document.getElementsByTagName(\\'head\\')[0].appendChild(oMeta);\\n      }\\n      if(window.location.search.indexOf(\\'id=index\\') !== -1){\\n        window.document.body.style.minWidth = \"1400px\";\\n      }</script><div id=\"root\"><div class=\"main-view\"><div style=\"opacity: 1;\"><header class=\"page-header-81987025-bda4-4585-9b4b-911ecc2dfabb _1JTApHCWjEo2nxQMgmelY\"><div class=\"xuexi\" style=\"background-repeat: no-repeat;\"><div class=\"logo-content\"><a href=\"/\" class=\"logo\"></a><div class=\"right\"></div></div></div><div class=\"menu\" style=\"background-repeat: no-repeat;\"><div class=\"menu-list\"><div class=\"menu-row\"><a class=\"single text-ellipsis\" href=\"https://www.xuexi.cn/cc72a0454287bdedb7e2c156db55e818/71eb7214c6c0c1f5e6ec6e29564decb4.html\" data-locations=\"0\">\\xe5\\xad\\xa6\\xe4\\xb9\\xa0\\xe6\\x96\\xb0\\xe6\\x80\\x9d\\xe6\\x83\\xb3</a><a class=\"single text-ellipsis\" href=\"https://www.xuexi.cn/f997e76a890b0e5a053c57b19f468436/018d244441062d8916dd472a4c6a0a0b.html\" data-locations=\"1\">\\xe5\\x8d\\x81\\xe4\\xb9\\x9d\\xe5\\xa4\\xa7\\xe6\\x97\\xb6\\xe9\\x97\\xb4</a><a class=\"single text-ellipsis\" href=\"https://www.xuexi.cn/xxqg.html?id=3cba33e067d64ded8a1a503f0774675c\" data-locations=\"2\">\\xe5\\xad\\xa6\\xe4\\xb9\\xa0\\xe7\\x90\\x86\\xe8\\xae\\xba</a><a class=\"single text-ellipsis\" href=\"https://www.xuexi.cn/482f31e90c481f2161a19ecfcbb91f8b/e6109f421e472b4399b006ba21bc2ecd.html\" data-locations=\"3\">\\xe7\\xba\\xa2\\xe8\\x89\\xb2\\xe4\\xb8\\xad\\xe5\\x9b\\xbd</a><a class=\"single text-ellipsis\" href=\"https://www.xuexi.cn/896bddc5f57a423b857a85eb40f98945/72742e3e40c96ade71e42b6e7ed42419.html\" data-locations=\"4\">\\xe5\\xad\\xa6\\xe4\\xb9\\xa0\\xe7\\xa7\\x91\\xe5\\xad\\xa6</a><a class=\"single text-ellipsis\" href=\"https://www.xuexi.cn/261c9a142ef8e6375ed554815a26d585/f2d8ff735982530b7a8c9bb90fa99f68.html\" data-locations=\"5\">\\xe7\\x8e\\xaf\\xe7\\x90\\x83\\xe8\\xa7\\x86\\xe9\\x87\\x8e</a></div><div class=\"menu-row\"><a class=\"single text-ellipsis\" href=\"https://www.xuexi.cn/5c90534c80d14c060d6683fa960e3676/82573c005c024095037d2186a02244cb.html\" data-locations=\"6\">\\xe4\\xb9\\xa0\\xe8\\xbf\\x91\\xe5\\xb9\\xb3\\xe6\\x96\\x87\\xe6\\xb1\\x87</a><a class=\"single text-ellipsis\" href=\"https://www.xuexi.cn/0809b8b6ab8a81a4f55ce9cbefa16eff/ae60b027cb83715fd0eeb7bb2527e88b.html\" data-locations=\"7\">\\xe5\\xad\\xa6\\xe4\\xb9\\xa0\\xe7\\x94\\xb5\\xe8\\xa7\\x86\\xe5\\x8f\\xb0</a><a class=\"single text-ellipsis\" href=\"https://www.xuexi.cn/xxqg.html?id=e433dab0149a4d42bb914b7a296ea7ff\" data-locations=\"8\">\\xe5\\xad\\xa6\\xe4\\xb9\\xa0\\xe7\\x94\\xb5\\xe5\\x8f\\xb0</a><a class=\"single text-ellipsis\" href=\"https://www.xuexi.cn/xxqg.html?id=17d65f9df71b49e19d07bd10e0c91faf\" data-locations=\"9\">\\xe5\\xad\\xa6\\xe4\\xb9\\xa0\\xe6\\x85\\x95\\xe8\\xaf\\xbe</a><a class=\"single text-ellipsis\" href=\"https://www.xuexi.cn/b069a45c80585e78b558c64306bfdf92/53194398355c363c5c635c74a70c7b45.html\" data-locations=\"10\">\\xe5\\xad\\xa6\\xe4\\xb9\\xa0\\xe6\\x96\\x87\\xe5\\x8c\\x96</a><a class=\"single text-ellipsis\" href=\"https://www.xuexi.cn/a9d25ec4ca996c6100d2982d33a1d8b2/4f02a12dd5663651422f5c55e10ef19e.html\" data-locations=\"11\">\\xe5\\xbc\\xba\\xe5\\x86\\x9b\\xe5\\x85\\xb4\\xe5\\x86\\x9b</a></div></div><div class=\"login\"><a class=\"icon search-icon\" href=\"https://www.xuexi.cn/dc12897105c8c496d783c5e4d3b680a2/9a75e290b9cf8cb8fb529a6e503db78d.html\" data-target=\"\\xe6\\x90\\x9c\\xe7\\xb4\\xa2\"></a><a class=\"icon login-icon\"></a></div></div></header></div><div id=\"page-main\" style=\"position: relative; overflow: auto hidden;\"><section style=\"margin: 0px; padding: 0px; border-radius: 0px; min-height: 0px; background-size: cover; background-position: center center; min-width: 1000px;\" class=\"_3GhgGH8Y4Zh8H0uBP5aUMD _3mVsbsHWKWuZwBS5zIrFO9\"><div style=\"margin: 0px auto; padding: 0px; width: 1000px;\" class=\"oSnRgpdW2BnrDruxKh9We _3mVsbsHWKWuZwBS5zIrFO9\"><div style=\"position: relative; min-height: 0px;\"><div style=\"position: relative;\"><div style=\"width: calc(100% + 0px); margin-right: 0px;\" class=\"Iuu474S1L6y5p7yalKQbW grid-gr\"><div style=\"margin-bottom: 0px;\" class=\"grid-cell\"><section style=\"margin: 0px; padding: 0px; border-radius: 0px; min-height: 0px; background-size: cover; background-position: center center;\" class=\"_3GhgGH8Y4Zh8H0uBP5aUMD _3mVsbsHWKWuZwBS5zIrFO9\"><div style=\"margin: 0px auto; padding: 0px;\" class=\"oSnRgpdW2BnrDruxKh9We _3mVsbsHWKWuZwBS5zIrFO9\"><div style=\"position: relative; min-height: 0px;\"><div style=\"position: relative;\"><div style=\"width: calc(67.2802% - 14.456px); margin-right: 20px;\" class=\"Iuu474S1L6y5p7yalKQbW grid-gr\"><div style=\"margin-bottom: 0px;\" class=\"grid-cell\"><section style=\"margin: 0px; padding: 0px; border-radius: 0px; min-height: 0px; background-size: cover; background-position: center center;\" class=\"_3GhgGH8Y4Zh8H0uBP5aUMD _3mVsbsHWKWuZwBS5zIrFO9\"><div style=\"margin: 0px auto; padding: 0px;\" class=\"oSnRgpdW2BnrDruxKh9We _3mVsbsHWKWuZwBS5zIrFO9\"><div style=\"position: relative; min-height: 0px;\"><div style=\"position: relative;\"><div style=\"width: calc(100% + 0px); margin-right: 0px;\" class=\"Iuu474S1L6y5p7yalKQbW grid-gr\"><div style=\"margin-bottom: 0px;\" class=\"grid-cell\"><section style=\"margin: 0px; padding: 0px; border-radius: 0px; min-height: 0px; background-size: cover; background-position: center center;\" class=\"_3GhgGH8Y4Zh8H0uBP5aUMD _3mVsbsHWKWuZwBS5zIrFO9\" data-data-id=\"a02a\" data-slot-id=\"1732\"><div style=\"margin: 0px auto; padding: 0px;\" class=\"oSnRgpdW2BnrDruxKh9We _3mVsbsHWKWuZwBS5zIrFO9\"><div style=\"position: relative; min-height: 0px;\"><div style=\"position: relative;\"><div style=\"width: calc(100% + 0px); margin-right: 0px;\" class=\"Iuu474S1L6y5p7yalKQbW grid-gr\"><div style=\"margin-bottom: 5px;\" class=\"grid-cell\"><section style=\"margin: 0px; padding: 0px; border-radius: 0px; min-height: 0px; background-size: cover; background-position: center center;\" id=\"0ee0\" class=\"_3GhgGH8Y4Zh8H0uBP5aUMD _3mVsbsHWKWuZwBS5zIrFO9\" data-component-wrapper=\"0ee0\"><div style=\"margin: 0px auto; padding: 0px;\" class=\"oSnRgpdW2BnrDruxKh9We _3mVsbsHWKWuZwBS5zIrFO9\"><div style=\"position: relative; min-height: 0px;\"><div style=\"position: relative;\"><div style=\"width: calc(100% + 0px); margin-right: 0px;\" class=\"Iuu474S1L6y5p7yalKQbW grid-gr\"><div style=\"margin-bottom: 0px;\" class=\"grid-cell\"><div class=\"_2uIfsqtBFwHcu40ZYV5yLc day\" data-data-id=\"channel\"><a class=\"link-text-link\">\\xe5\\xad\\xa6\\xe4\\xb9\\xa0\\xe5\\xbc\\xba\\xe5\\x9b\\xbd</a></div></div></div></div></div></div></section></div><div style=\"margin-bottom: 5px;\" class=\"grid-cell\"><section style=\"margin: 0px; padding: 0px; border-radius: 0px; min-height: 0px; background-size: cover; background-position: center center;\" class=\"_3GhgGH8Y4Zh8H0uBP5aUMD _3mVsbsHWKWuZwBS5zIrFO9\"><div style=\"margin: 0px auto; padding: 0px;\" class=\"oSnRgpdW2BnrDruxKh9We _3mVsbsHWKWuZwBS5zIrFO9\"><div style=\"position: relative; min-height: 0px;\"><div style=\"position: relative;\"><div style=\"width: calc(100% + 0px); margin-right: 0px;\" class=\"Iuu474S1L6y5p7yalKQbW grid-gr\"><div style=\"margin-bottom: 0px;\" class=\"grid-cell\"><div class=\"_1ToL9MWRc4QxsT1GOTgWhd\" style=\"border-bottom-color: rgb(211, 0, 0); border-width: 1px;\" data-data-id=\"title\"><div class=\"content\"><div class=\"text\" style=\"color: rgb(211, 0, 0); font-size: 28px; padding-left: 5px;\"><span style=\"cursor: initial;\">\\xe9\\x87\\x8d\\xe8\\xa6\\x81\\xe8\\xae\\xb2\\xe8\\xaf\\x9d</span></div><div class=\"extra\"></div></div></div></div></div></div></div></div></section></div><div style=\"margin-bottom: 0px;\" class=\"grid-cell\"><section style=\"margin: 0px; padding: 0px; border-radius: 0px; min-height: 0px; background-size: cover; background-position: center center;\" class=\"_3GhgGH8Y4Zh8H0uBP5aUMD _3mVsbsHWKWuZwBS5zIrFO9\"><div style=\"margin: 0px auto; padding: 0px;\" class=\"oSnRgpdW2BnrDruxKh9We _3mVsbsHWKWuZwBS5zIrFO9\"><div style=\"position: relative; min-height: 0px;\"><div style=\"position: relative;\"><div style=\"width: calc(100% + 0px); margin-right: 0px;\" class=\"Iuu474S1L6y5p7yalKQbW grid-gr\"><div style=\"margin-bottom: 0px;\" class=\"grid-cell\"><section style=\"margin: 0px; padding: 0px; border-radius: 0px; min-height: 0px; background-size: cover; background-position: center center;\" class=\"_3GhgGH8Y4Zh8H0uBP5aUMD _3mVsbsHWKWuZwBS5zIrFO9\" data-data-id=\"textListGrid\"><div style=\"margin: 0px auto; padding: 0px;\" class=\"oSnRgpdW2BnrDruxKh9We _3mVsbsHWKWuZwBS5zIrFO9\"><div style=\"position: relative; min-height: 0px;\"><div style=\"position: relative;\"><div style=\"width: calc(100% + 0px); margin-right: 0px;\" class=\"Iuu474S1L6y5p7yalKQbW grid-gr\"><div style=\"margin-bottom: 0px;\" class=\"grid-cell\"><div class=\"_3wnLIRcEni99IWb4rSpguK\" style=\"border-radius: 0px; box-shadow: transparent 0px 0px 0px 0px;\"><div class=\"text-link-item-title\" style=\"align-items: center;\"><div class=\"text-wrap\" style=\"font-weight: normal; font-size: 14px; text-align: left; line-height: 30px;\"><span class=\"text\" style=\"white-space: nowrap;\">\\xe4\\xb9\\xa0\\xe8\\xbf\\x91\\xe5\\xb9\\xb3\\xe5\\x9c\\xa8\\xe4\\xb8\\xad\\xe9\\x9d\\x9e\\xe5\\x90\\x88\\xe4\\xbd\\x9c\\xe8\\xae\\xba\\xe5\\x9d\\x9b\\xe7\\xac\\xac\\xe5\\x85\\xab\\xe5\\xb1\\x8a\\xe9\\x83\\xa8\\xe9\\x95\\xbf\\xe7\\xba\\xa7\\xe4\\xbc\\x9a\\xe8\\xae\\xae\\xe5\\xbc\\x80\\xe5\\xb9\\x95\\xe5\\xbc\\x8f\\xe4\\xb8\\x8a\\xe7\\x9a\\x84\\xe4\\xb8\\xbb\\xe6\\x97\\xa8\\xe6\\xbc\\x94\\xe8\\xae\\xb2\\xef\\xbc\\x88\\xe5\\x85\\xa8\\xe6\\x96\\x87\\xef\\xbc\\x89</span></div><div class=\"extra-wrap\" style=\"color: rgb(140, 140, 140); overflow: hidden; text-overflow: ellipsis; white-space: nowrap;\"><span class=\"text\" style=\"font-size: 14px; cursor: pointer;\">2021-11-30</span></div></div></div></div><div style=\"margin-bottom: 0px;\" class=\"grid-cell\"><div class=\"_3wnLIRcEni99IWb4rSpguK\" style=\"border-radius: 0px; box-shadow: transparent 0px 0px 0px 0px;\"><div class=\"text-link-item-title\" style=\"align-items: center;\"><div class=\"text-wrap\" style=\"font-weight: normal; font-size: 14px; text-align: left; line-height: 30px;\"><span class=\"text\" style=\"white-space: nowrap;\">\\xe4\\xb9\\xa0\\xe8\\xbf\\x91\\xe5\\xb9\\xb3\\xef\\xbc\\x9a\\xe5\\x85\\xb3\\xe4\\xba\\x8e\\xe3\\x80\\x8a\\xe4\\xb8\\xad\\xe5\\x85\\xb1\\xe4\\xb8\\xad\\xe5\\xa4\\xae\\xe5\\x85\\xb3\\xe4\\xba\\x8e\\xe5\\x85\\x9a\\xe7\\x9a\\x84\\xe7\\x99\\xbe\\xe5\\xb9\\xb4\\xe5\\xa5\\x8b\\xe6\\x96\\x97\\xe9\\x87\\x8d\\xe5\\xa4\\xa7\\xe6\\x88\\x90\\xe5\\xb0\\xb1\\xe5\\x92\\x8c\\xe5\\x8e\\x86\\xe5\\x8f\\xb2\\xe7\\xbb\\x8f\\xe9\\xaa\\x8c\\xe7\\x9a\\x84\\xe5\\x86\\xb3\\xe8\\xae\\xae\\xe3\\x80\\x8b\\xe7\\x9a\\x84\\xe8\\xaf\\xb4\\xe6\\x98\\x8e\\xef\\xbc\\x88\\xe6\\x9c\\x97\\xe8\\xaf\\xbb\\xe7\\x89\\x88\\xef\\xbc\\x89</span></div><div class=\"extra-wrap\" style=\"color: rgb(140, 140, 140); overflow: hidden; text-overflow: ellipsis; white-space: nowrap;\"><span class=\"text\" style=\"font-size: 14px; cursor: pointer;\">2021-11-17</span></div></div></div></div><div style=\"margin-bottom: 0px;\" class=\"grid-cell\"><div class=\"_3wnLIRcEni99IWb4rSpguK\" style=\"border-radius: 0px; box-shadow: transparent 0px 0px 0px 0px;\"><div class=\"text-link-item-title\" style=\"align-items: center;\"><div class=\"text-wrap\" style=\"font-weight: normal; font-size: 14px; text-align: left; line-height: 30px;\"><span class=\"text\" style=\"white-space: nowrap;\">\\xe4\\xb9\\xa0\\xe8\\xbf\\x91\\xe5\\xb9\\xb3\\xe5\\x9c\\xa8\\xe4\\xb8\\xad\\xe5\\x9b\\xbd\\xef\\xbc\\x8d\\xe4\\xb8\\x9c\\xe7\\x9b\\x9f\\xe5\\xbb\\xba\\xe7\\xab\\x8b\\xe5\\xaf\\xb9\\xe8\\xaf\\x9d\\xe5\\x85\\xb3\\xe7\\xb3\\xbb30\\xe5\\x91\\xa8\\xe5\\xb9\\xb4\\xe7\\xba\\xaa\\xe5\\xbf\\xb5\\xe5\\xb3\\xb0\\xe4\\xbc\\x9a\\xe4\\xb8\\x8a\\xe7\\x9a\\x84\\xe8\\xae\\xb2\\xe8\\xaf\\x9d\\xef\\xbc\\x88\\xe5\\x85\\xa8\\xe6\\x96\\x87\\xef\\xbc\\x89</span></div><div class=\"extra-wrap\" style=\"color: rgb(140, 140, 140); overflow: hidden; text-overflow: ellipsis; white-space: nowrap;\"><span class=\"text\" style=\"font-size: 14px; cursor: pointer;\">2021-11-22</span></div></div></div></div><div style=\"margin-bottom: 0px;\" class=\"grid-cell\"><div class=\"_3wnLIRcEni99IWb4rSpguK\" style=\"border-radius: 0px; box-shadow: transparent 0px 0px 0px 0px;\"><div class=\"text-link-item-title\" style=\"align-items: center;\"><div class=\"text-wrap\" style=\"font-weight: normal; font-size: 14px; text-align: left; line-height: 30px;\"><span class=\"text\" style=\"white-space: nowrap;\">\\xe4\\xb9\\xa0\\xe8\\xbf\\x91\\xe5\\xb9\\xb3\\xe5\\x9c\\xa8\\xe4\\xba\\x9a\\xe5\\xa4\\xaa\\xe7\\xbb\\x8f\\xe5\\x90\\x88\\xe7\\xbb\\x84\\xe7\\xbb\\x87\\xe7\\xac\\xac\\xe4\\xba\\x8c\\xe5\\x8d\\x81\\xe5\\x85\\xab\\xe6\\xac\\xa1\\xe9\\xa2\\x86\\xe5\\xaf\\xbc\\xe4\\xba\\xba\\xe9\\x9d\\x9e\\xe6\\xad\\xa3\\xe5\\xbc\\x8f\\xe4\\xbc\\x9a\\xe8\\xae\\xae\\xe4\\xb8\\x8a\\xe7\\x9a\\x84\\xe8\\xae\\xb2\\xe8\\xaf\\x9d\\xef\\xbc\\x88\\xe5\\x85\\xa8\\xe6\\x96\\x87\\xef\\xbc\\x89</span></div><div class=\"extra-wrap\" style=\"color: rgb(140, 140, 140); overflow: hidden; text-overflow: ellipsis; white-space: nowrap;\"><span class=\"text\" style=\"font-size: 14px; cursor: pointer;\">2021-11-13</span></div></div></div></div><div style=\"margin-bottom: 0px;\" class=\"grid-cell\"><div class=\"_3wnLIRcEni99IWb4rSpguK\" style=\"border-radius: 0px; box-shadow: transparent 0px 0px 0px 0px;\"><div class=\"text-link-item-title\" style=\"align-items: center;\"><div class=\"text-wrap\" style=\"font-weight: normal; font-size: 14px; text-align: left; line-height: 30px;\"><span class=\"text\" style=\"white-space: nowrap;\">\\xe4\\xb9\\xa0\\xe8\\xbf\\x91\\xe5\\xb9\\xb3\\xe5\\x9c\\xa8\\xe4\\xba\\x9a\\xe5\\xa4\\xaa\\xe7\\xbb\\x8f\\xe5\\x90\\x88\\xe7\\xbb\\x84\\xe7\\xbb\\x87\\xe5\\xb7\\xa5\\xe5\\x95\\x86\\xe9\\xa2\\x86\\xe5\\xaf\\xbc\\xe4\\xba\\xba\\xe5\\xb3\\xb0\\xe4\\xbc\\x9a\\xe4\\xb8\\x8a\\xe7\\x9a\\x84\\xe4\\xb8\\xbb\\xe6\\x97\\xa8\\xe6\\xbc\\x94\\xe8\\xae\\xb2\\xef\\xbc\\x88\\xe5\\x85\\xa8\\xe6\\x96\\x87\\xef\\xbc\\x89</span></div><div class=\"extra-wrap\" style=\"color: rgb(140, 140, 140); overflow: hidden; text-overflow: ellipsis; white-space: nowrap;\"><span class=\"text\" style=\"font-size: 14px; cursor: pointer;\">2021-11-11</span></div></div></div></div><div style=\"margin-bottom: 0px;\" class=\"grid-cell\"><div class=\"_3wnLIRcEni99IWb4rSpguK\" style=\"border-radius: 0px; box-shadow: transparent 0px 0px 0px 0px;\"><div class=\"text-link-item-title\" style=\"align-items: center;\"><div class=\"text-wrap\" style=\"font-weight: normal; font-size: 14px; text-align: left; line-height: 30px;\"><span class=\"text\" style=\"white-space: nowrap;\">\\xe4\\xb9\\xa0\\xe8\\xbf\\x91\\xe5\\xb9\\xb3\\xe5\\x9c\\xa8\\xe7\\xac\\xac\\xe5\\x9b\\x9b\\xe5\\xb1\\x8a\\xe4\\xb8\\xad\\xe5\\x9b\\xbd\\xe5\\x9b\\xbd\\xe9\\x99\\x85\\xe8\\xbf\\x9b\\xe5\\x8f\\xa3\\xe5\\x8d\\x9a\\xe8\\xa7\\x88\\xe4\\xbc\\x9a\\xe5\\xbc\\x80\\xe5\\xb9\\x95\\xe5\\xbc\\x8f\\xe4\\xb8\\x8a\\xe7\\x9a\\x84\\xe4\\xb8\\xbb\\xe6\\x97\\xa8\\xe6\\xbc\\x94\\xe8\\xae\\xb2\\xef\\xbc\\x88\\xe5\\x85\\xa8\\xe6\\x96\\x87\\xef\\xbc\\x89</span></div><div class=\"extra-wrap\" style=\"color: rgb(140, 140, 140); overflow: hidden; text-overflow: ellipsis; white-space: nowrap;\"><span class=\"text\" style=\"font-size: 14px; cursor: pointer;\">2021-11-05</span></div></div></div></div><div style=\"margin-bottom: 0px;\" class=\"grid-cell\"><div class=\"_3wnLIRcEni99IWb4rSpguK\" style=\"border-radius: 0px; box-shadow: transparent 0px 0px 0px 0px;\"><div class=\"text-link-item-title\" style=\"align-items: center;\"><div class=\"text-wrap\" style=\"font-weight: normal; font-size: 14px; text-align: left; line-height: 30px;\"><span class=\"text\" style=\"white-space: nowrap;\">\\xe4\\xb9\\xa0\\xe8\\xbf\\x91\\xe5\\xb9\\xb3\\xe5\\x9c\\xa8\\xe4\\xba\\x8c\\xe5\\x8d\\x81\\xe5\\x9b\\xbd\\xe9\\x9b\\x86\\xe5\\x9b\\xa2\\xe9\\xa2\\x86\\xe5\\xaf\\xbc\\xe4\\xba\\xba\\xe7\\xac\\xac\\xe5\\x8d\\x81\\xe5\\x85\\xad\\xe6\\xac\\xa1\\xe5\\xb3\\xb0\\xe4\\xbc\\x9a\\xe7\\xac\\xac\\xe4\\xb8\\x80\\xe9\\x98\\xb6\\xe6\\xae\\xb5\\xe4\\xbc\\x9a\\xe8\\xae\\xae\\xe4\\xb8\\x8a\\xe7\\x9a\\x84\\xe8\\xae\\xb2\\xe8\\xaf\\x9d</span></div><div class=\"extra-wrap\" style=\"color: rgb(140, 140, 140); overflow: hidden; text-overflow: ellipsis; white-space: nowrap;\"><span class=\"text\" style=\"font-size: 14px; cursor: pointer;\">2021-10-31</span></div></div></div></div><div style=\"margin-bottom: 0px;\" class=\"grid-cell\"><div class=\"_3wnLIRcEni99IWb4rSpguK\" style=\"border-radius: 0px; box-shadow: transparent 0px 0px 0px 0px;\"><div class=\"text-link-item-title\" style=\"align-items: center;\"><div class=\"text-wrap\" style=\"font-weight: normal; font-size: 14px; text-align: left; line-height: 30px;\"><span class=\"text\" style=\"white-space: nowrap;\">\\xe4\\xb9\\xa0\\xe8\\xbf\\x91\\xe5\\xb9\\xb3\\xe5\\x9c\\xa8\\xe4\\xb8\\xad\\xe5\\x8d\\x8e\\xe4\\xba\\xba\\xe6\\xb0\\x91\\xe5\\x85\\xb1\\xe5\\x92\\x8c\\xe5\\x9b\\xbd\\xe6\\x81\\xa2\\xe5\\xa4\\x8d\\xe8\\x81\\x94\\xe5\\x90\\x88\\xe5\\x9b\\xbd\\xe5\\x90\\x88\\xe6\\xb3\\x95\\xe5\\xb8\\xad\\xe4\\xbd\\x8d50\\xe5\\x91\\xa8\\xe5\\xb9\\xb4\\xe7\\xba\\xaa\\xe5\\xbf\\xb5\\xe4\\xbc\\x9a\\xe8\\xae\\xae\\xe4\\xb8\\x8a\\xe7\\x9a\\x84\\xe8\\xae\\xb2\\xe8\\xaf\\x9d\\xef\\xbc\\x88\\xe5\\x85\\xa8\\xe6\\x96\\x87\\xef\\xbc\\x89</span></div><div class=\"extra-wrap\" style=\"color: rgb(140, 140, 140); overflow: hidden; text-overflow: ellipsis; white-space: nowrap;\"><span class=\"text\" style=\"font-size: 14px; cursor: pointer;\">2021-10-25</span></div></div></div></div><div style=\"margin-bottom: 0px;\" class=\"grid-cell\"><div class=\"_3wnLIRcEni99IWb4rSpguK\" style=\"border-radius: 0px; box-shadow: transparent 0px 0px 0px 0px;\"><div class=\"text-link-item-title\" style=\"align-items: center;\"><div class=\"text-wrap\" style=\"font-weight: normal; font-size: 14px; text-align: left; line-height: 30px;\"><span class=\"text\" style=\"white-space: nowrap;\">\\xe4\\xb9\\xa0\\xe8\\xbf\\x91\\xe5\\xb9\\xb3\\xef\\xbc\\x9a\\xe6\\x89\\x8e\\xe5\\xae\\x9e\\xe6\\x8e\\xa8\\xe5\\x8a\\xa8\\xe5\\x85\\xb1\\xe5\\x90\\x8c\\xe5\\xaf\\x8c\\xe8\\xa3\\x95</span></div><div class=\"extra-wrap\" style=\"color: rgb(140, 140, 140); overflow: hidden; text-overflow: ellipsis; white-space: nowrap;\"><span class=\"text\" style=\"font-size: 14px; cursor: pointer;\">2021-10-15</span></div></div></div></div><div style=\"margin-bottom: 0px;\" class=\"grid-cell\"><div class=\"_3wnLIRcEni99IWb4rSpguK\" style=\"border-radius: 0px; box-shadow: transparent 0px 0px 0px 0px;\"><div class=\"text-link-item-title\" style=\"align-items: center;\"><div class=\"text-wrap\" style=\"font-weight: normal; font-size: 14px; text-align: left; line-height: 30px;\"><span class=\"text\" style=\"white-space: nowrap;\">\\xe4\\xb9\\xa0\\xe8\\xbf\\x91\\xe5\\xb9\\xb3\\xe5\\x9c\\xa8\\xe7\\xac\\xac\\xe4\\xba\\x8c\\xe5\\xb1\\x8a\\xe8\\x81\\x94\\xe5\\x90\\x88\\xe5\\x9b\\xbd\\xe5\\x85\\xa8\\xe7\\x90\\x83\\xe5\\x8f\\xaf\\xe6\\x8c\\x81\\xe7\\xbb\\xad\\xe4\\xba\\xa4\\xe9\\x80\\x9a\\xe5\\xa4\\xa7\\xe4\\xbc\\x9a\\xe5\\xbc\\x80\\xe5\\xb9\\x95\\xe5\\xbc\\x8f\\xe4\\xb8\\x8a\\xe7\\x9a\\x84\\xe4\\xb8\\xbb\\xe6\\x97\\xa8\\xe8\\xae\\xb2\\xe8\\xaf\\x9d\\xef\\xbc\\x88\\xe5\\x85\\xa8\\xe6\\x96\\x87\\xef\\xbc\\x89</span></div><div class=\"extra-wrap\" style=\"color: rgb(140, 140, 140); overflow: hidden; text-overflow: ellipsis; white-space: nowrap;\"><span class=\"text\" style=\"font-size: 14px; cursor: pointer;\">2021-10-15</span></div></div></div></div><div style=\"margin-bottom: 0px;\" class=\"grid-cell\"><div class=\"_3wnLIRcEni99IWb4rSpguK\" style=\"border-radius: 0px; box-shadow: transparent 0px 0px 0px 0px;\"><div class=\"text-link-item-title\" style=\"align-items: center;\"><div class=\"text-wrap\" style=\"font-weight: normal; font-size: 14px; text-align: left; line-height: 30px;\"><span class=\"text\" style=\"white-space: nowrap;\">\\xe4\\xb9\\xa0\\xe8\\xbf\\x91\\xe5\\xb9\\xb3\\xe5\\x9c\\xa8\\xe3\\x80\\x8a\\xe7\\x94\\x9f\\xe7\\x89\\xa9\\xe5\\xa4\\x9a\\xe6\\xa0\\xb7\\xe6\\x80\\xa7\\xe5\\x85\\xac\\xe7\\xba\\xa6\\xe3\\x80\\x8b\\xe7\\xac\\xac\\xe5\\x8d\\x81\\xe4\\xba\\x94\\xe6\\xac\\xa1\\xe7\\xbc\\x94\\xe7\\xba\\xa6\\xe6\\x96\\xb9\\xe5\\xa4\\xa7\\xe4\\xbc\\x9a\\xe9\\xa2\\x86\\xe5\\xaf\\xbc\\xe4\\xba\\xba\\xe5\\xb3\\xb0\\xe4\\xbc\\x9a\\xe4\\xb8\\x8a\\xe7\\x9a\\x84\\xe4\\xb8\\xbb\\xe6\\x97\\xa8\\xe8\\xae\\xb2\\xe8\\xaf\\x9d\\xef\\xbc\\x88\\xe5\\x85\\xa8\\xe6\\x96\\x87\\xef\\xbc\\x89</span></div><div class=\"extra-wrap\" style=\"color: rgb(140, 140, 140); overflow: hidden; text-overflow: ellipsis; white-space: nowrap;\"><span class=\"text\" style=\"font-size: 14px; cursor: pointer;\">2021-10-12</span></div></div></div></div><div style=\"margin-bottom: 0px;\" class=\"grid-cell\"><div class=\"_3wnLIRcEni99IWb4rSpguK\" style=\"border-radius: 0px; box-shadow: transparent 0px 0px 0px 0px;\"><div class=\"text-link-item-title\" style=\"align-items: center;\"><div class=\"text-wrap\" style=\"font-weight: normal; font-size: 14px; text-align: left; line-height: 30px;\"><span class=\"text\" style=\"white-space: nowrap;\">\\xe4\\xb9\\xa0\\xe8\\xbf\\x91\\xe5\\xb9\\xb3\\xef\\xbc\\x9a\\xe5\\x9c\\xa8\\xe7\\xba\\xaa\\xe5\\xbf\\xb5\\xe8\\xbe\\x9b\\xe4\\xba\\xa5\\xe9\\x9d\\xa9\\xe5\\x91\\xbd110\\xe5\\x91\\xa8\\xe5\\xb9\\xb4\\xe5\\xa4\\xa7\\xe4\\xbc\\x9a\\xe4\\xb8\\x8a\\xe7\\x9a\\x84\\xe8\\xae\\xb2\\xe8\\xaf\\x9d</span></div><div class=\"extra-wrap\" style=\"color: rgb(140, 140, 140); overflow: hidden; text-overflow: ellipsis; white-space: nowrap;\"><span class=\"text\" style=\"font-size: 14px; cursor: pointer;\">2021-10-10</span></div></div></div></div><div style=\"margin-bottom: 0px;\" class=\"grid-cell\"><div class=\"_3wnLIRcEni99IWb4rSpguK\" style=\"border-radius: 0px; box-shadow: transparent 0px 0px 0px 0px;\"><div class=\"text-link-item-title\" style=\"align-items: center;\"><div class=\"text-wrap\" style=\"font-weight: normal; font-size: 14px; text-align: left; line-height: 30px;\"><span class=\"text\" style=\"white-space: nowrap;\">\\xe4\\xb9\\xa0\\xe8\\xbf\\x91\\xe5\\xb9\\xb3\\xef\\xbc\\x9a\\xe7\\x94\\xa8\\xe5\\xa5\\xbd\\xe7\\xba\\xa2\\xe8\\x89\\xb2\\xe8\\xb5\\x84\\xe6\\xba\\x90 \\xe8\\xb5\\x93\\xe7\\xbb\\xad\\xe7\\xba\\xa2\\xe8\\x89\\xb2\\xe8\\xa1\\x80\\xe8\\x84\\x89 \\xe5\\x8a\\xaa\\xe5\\x8a\\x9b\\xe5\\x88\\x9b\\xe9\\x80\\xa0\\xe6\\x97\\xa0\\xe6\\x84\\xa7\\xe4\\xba\\x8e\\xe5\\x8e\\x86\\xe5\\x8f\\xb2\\xe5\\x92\\x8c\\xe4\\xba\\xba\\xe6\\xb0\\x91\\xe7\\x9a\\x84\\xe6\\x96\\xb0\\xe4\\xb8\\x9a\\xe7\\xbb\\xa9</span></div><div class=\"extra-wrap\" style=\"color: rgb(140, 140, 140); overflow: hidden; text-overflow: ellipsis; white-space: nowrap;\"><span class=\"text\" style=\"font-size: 14px; cursor: pointer;\">2021-09-30</span></div></div></div></div><div style=\"margin-bottom: 0px;\" class=\"grid-cell\"><div class=\"_3wnLIRcEni99IWb4rSpguK\" style=\"border-radius: 0px; box-shadow: transparent 0px 0px 0px 0px;\"><div class=\"text-link-item-title\" style=\"align-items: center;\"><div class=\"text-wrap\" style=\"font-weight: normal; font-size: 14px; text-align: left; line-height: 30px;\"><span class=\"text\" style=\"white-space: nowrap;\">\\xe4\\xb9\\xa0\\xe8\\xbf\\x91\\xe5\\xb9\\xb3\\xe5\\x9c\\xa8\\xe7\\xac\\xac\\xe4\\xb8\\x83\\xe5\\x8d\\x81\\xe5\\x85\\xad\\xe5\\xb1\\x8a\\xe8\\x81\\x94\\xe5\\x90\\x88\\xe5\\x9b\\xbd\\xe5\\xa4\\xa7\\xe4\\xbc\\x9a\\xe4\\xb8\\x80\\xe8\\x88\\xac\\xe6\\x80\\xa7\\xe8\\xbe\\xa9\\xe8\\xae\\xba\\xe4\\xb8\\x8a\\xe7\\x9a\\x84\\xe8\\xae\\xb2\\xe8\\xaf\\x9d\\xef\\xbc\\x88\\xe5\\x85\\xa8\\xe6\\x96\\x87\\xef\\xbc\\x89</span></div><div class=\"extra-wrap\" style=\"color: rgb(140, 140, 140); overflow: hidden; text-overflow: ellipsis; white-space: nowrap;\"><span class=\"text\" style=\"font-size: 14px; cursor: pointer;\">2021-09-22</span></div></div></div></div><div style=\"margin-bottom: 0px;\" class=\"grid-cell\"><div class=\"_3wnLIRcEni99IWb4rSpguK\" style=\"border-radius: 0px; box-shadow: transparent 0px 0px 0px 0px;\"><div class=\"text-link-item-title\" style=\"align-items: center;\"><div class=\"text-wrap\" style=\"font-weight: normal; font-size: 14px; text-align: left; line-height: 30px;\"><span class=\"text\" style=\"white-space: nowrap;\">\\xe4\\xb9\\xa0\\xe8\\xbf\\x91\\xe5\\xb9\\xb3\\xe5\\x9c\\xa8\\xe4\\xb8\\x8a\\xe6\\xb5\\xb7\\xe5\\x90\\x88\\xe4\\xbd\\x9c\\xe7\\xbb\\x84\\xe7\\xbb\\x87\\xe6\\x88\\x90\\xe5\\x91\\x98\\xe5\\x9b\\xbd\\xe5\\x85\\x83\\xe9\\xa6\\x96\\xe7\\x90\\x86\\xe4\\xba\\x8b\\xe4\\xbc\\x9a\\xe7\\xac\\xac\\xe4\\xba\\x8c\\xe5\\x8d\\x81\\xe4\\xb8\\x80\\xe6\\xac\\xa1\\xe4\\xbc\\x9a\\xe8\\xae\\xae\\xe4\\xb8\\x8a\\xe7\\x9a\\x84\\xe8\\xae\\xb2\\xe8\\xaf\\x9d\\xef\\xbc\\x88\\xe5\\x85\\xa8\\xe6\\x96\\x87\\xef\\xbc\\x89</span></div><div class=\"extra-wrap\" style=\"color: rgb(140, 140, 140); overflow: hidden; text-overflow: ellipsis; white-space: nowrap;\"><span class=\"text\" style=\"font-size: 14px; cursor: pointer;\">2021-09-17</span></div></div></div></div><div style=\"margin-bottom: 0px;\" class=\"grid-cell\"><div class=\"_3wnLIRcEni99IWb4rSpguK\" style=\"border-radius: 0px; box-shadow: transparent 0px 0px 0px 0px;\"><div class=\"text-link-item-title\" style=\"align-items: center;\"><div class=\"text-wrap\" style=\"font-weight: normal; font-size: 14px; text-align: left; line-height: 30px;\"><span class=\"text\" style=\"white-space: nowrap;\">\\xe4\\xb9\\xa0\\xe8\\xbf\\x91\\xe5\\xb9\\xb3\\xe5\\x9c\\xa8\\xe9\\x87\\x91\\xe7\\xa0\\x96\\xe5\\x9b\\xbd\\xe5\\xae\\xb6\\xe9\\xa2\\x86\\xe5\\xaf\\xbc\\xe4\\xba\\xba\\xe7\\xac\\xac\\xe5\\x8d\\x81\\xe4\\xb8\\x89\\xe6\\xac\\xa1\\xe4\\xbc\\x9a\\xe6\\x99\\xa4\\xe4\\xb8\\x8a\\xe7\\x9a\\x84\\xe8\\xae\\xb2\\xe8\\xaf\\x9d\\xef\\xbc\\x88\\xe5\\x85\\xa8\\xe6\\x96\\x87\\xef\\xbc\\x89</span></div><div class=\"extra-wrap\" style=\"color: rgb(140, 140, 140); overflow: hidden; text-overflow: ellipsis; white-space: nowrap;\"><span class=\"text\" style=\"font-size: 14px; cursor: pointer;\">2021-09-10</span></div></div></div></div><div style=\"margin-bottom: 0px;\" class=\"grid-cell\"><div class=\"_3wnLIRcEni99IWb4rSpguK\" style=\"border-radius: 0px; box-shadow: transparent 0px 0px 0px 0px;\"><div class=\"text-link-item-title\" style=\"align-items: center;\"><div class=\"text-wrap\" style=\"font-weight: normal; font-size: 14px; text-align: left; line-height: 30px;\"><span class=\"text\" style=\"white-space: nowrap;\">\\xe4\\xb9\\xa0\\xe8\\xbf\\x91\\xe5\\xb9\\xb3\\xe5\\x9c\\xa8\\xe7\\xac\\xac\\xe5\\x85\\xad\\xe5\\xb1\\x8a\\xe4\\xb8\\x9c\\xe6\\x96\\xb9\\xe7\\xbb\\x8f\\xe6\\xb5\\x8e\\xe8\\xae\\xba\\xe5\\x9d\\x9b\\xe5\\x85\\xa8\\xe4\\xbc\\x9a\\xe5\\xbc\\x80\\xe5\\xb9\\x95\\xe5\\xbc\\x8f\\xe4\\xb8\\x8a\\xe7\\x9a\\x84\\xe8\\x87\\xb4\\xe8\\xbe\\x9e\\xef\\xbc\\x88\\xe5\\x85\\xa8\\xe6\\x96\\x87\\xef\\xbc\\x89</span></div><div class=\"extra-wrap\" style=\"color: rgb(140, 140, 140); overflow: hidden; text-overflow: ellipsis; white-space: nowrap;\"><span class=\"text\" style=\"font-size: 14px; cursor: pointer;\">2021-09-03</span></div></div></div></div><div style=\"margin-bottom: 0px;\" class=\"grid-cell\"><div class=\"_3wnLIRcEni99IWb4rSpguK\" style=\"border-radius: 0px; box-shadow: transparent 0px 0px 0px 0px;\"><div class=\"text-link-item-title\" style=\"align-items: center;\"><div class=\"text-wrap\" style=\"font-weight: normal; font-size: 14px; text-align: left; line-height: 30px;\"><span class=\"text\" style=\"white-space: nowrap;\">\\xe4\\xb9\\xa0\\xe8\\xbf\\x91\\xe5\\xb9\\xb3\\xe5\\x9c\\xa82021\\xe5\\xb9\\xb4\\xe4\\xb8\\xad\\xe5\\x9b\\xbd\\xe5\\x9b\\xbd\\xe9\\x99\\x85\\xe6\\x9c\\x8d\\xe5\\x8a\\xa1\\xe8\\xb4\\xb8\\xe6\\x98\\x93\\xe4\\xba\\xa4\\xe6\\x98\\x93\\xe4\\xbc\\x9a\\xe5\\x85\\xa8\\xe7\\x90\\x83\\xe6\\x9c\\x8d\\xe5\\x8a\\xa1\\xe8\\xb4\\xb8\\xe6\\x98\\x93\\xe5\\xb3\\xb0\\xe4\\xbc\\x9a\\xe4\\xb8\\x8a\\xe7\\x9a\\x84\\xe8\\x87\\xb4\\xe8\\xbe\\x9e\\xef\\xbc\\x88\\xe5\\x85\\xa8\\xe6\\x96\\x87\\xef\\xbc\\x89</span></div><div class=\"extra-wrap\" style=\"color: rgb(140, 140, 140); overflow: hidden; text-overflow: ellipsis; white-space: nowrap;\"><span class=\"text\" style=\"font-size: 14px; cursor: pointer;\">2021-09-03</span></div></div></div></div><div style=\"margin-bottom: 0px;\" class=\"grid-cell\"><div class=\"_3wnLIRcEni99IWb4rSpguK\" style=\"border-radius: 0px; box-shadow: transparent 0px 0px 0px 0px;\"><div class=\"text-link-item-title\" style=\"align-items: center;\"><div class=\"text-wrap\" style=\"font-weight: normal; font-size: 14px; text-align: left; line-height: 30px;\"><span class=\"text\" style=\"white-space: nowrap;\">\\xe4\\xb9\\xa0\\xe8\\xbf\\x91\\xe5\\xb9\\xb3\\xe5\\x9c\\xa8\\xe4\\xba\\x9a\\xe5\\xa4\\xaa\\xe7\\xbb\\x8f\\xe5\\x90\\x88\\xe7\\xbb\\x84\\xe7\\xbb\\x87\\xe9\\xa2\\x86\\xe5\\xaf\\xbc\\xe4\\xba\\xba\\xe9\\x9d\\x9e\\xe6\\xad\\xa3\\xe5\\xbc\\x8f\\xe4\\xbc\\x9a\\xe8\\xae\\xae\\xe4\\xb8\\x8a\\xe7\\x9a\\x84\\xe8\\xae\\xb2\\xe8\\xaf\\x9d\\xef\\xbc\\x88\\xe5\\x85\\xa8\\xe6\\x96\\x87\\xef\\xbc\\x89</span></div><div class=\"extra-wrap\" style=\"color: rgb(140, 140, 140); overflow: hidden; text-overflow: ellipsis; white-space: nowrap;\"><span class=\"text\" style=\"font-size: 14px; cursor: pointer;\">2021-07-17</span></div></div></div></div><div style=\"margin-bottom: 0px;\" class=\"grid-cell\"><div class=\"_3wnLIRcEni99IWb4rSpguK\" style=\"border-radius: 0px; box-shadow: transparent 0px 0px 0px 0px;\"><div class=\"text-link-item-title\" style=\"align-items: center;\"><div class=\"text-wrap\" style=\"font-weight: normal; font-size: 14px; text-align: left; line-height: 30px;\"><span class=\"text\" style=\"white-space: nowrap;\">\\xe4\\xb9\\xa0\\xe8\\xbf\\x91\\xe5\\xb9\\xb3\\xe5\\x9c\\xa8\\xe4\\xb8\\xad\\xe5\\x9b\\xbd\\xe5\\x85\\xb1\\xe4\\xba\\xa7\\xe5\\x85\\x9a\\xe4\\xb8\\x8e\\xe4\\xb8\\x96\\xe7\\x95\\x8c\\xe6\\x94\\xbf\\xe5\\x85\\x9a\\xe9\\xa2\\x86\\xe5\\xaf\\xbc\\xe4\\xba\\xba\\xe5\\xb3\\xb0\\xe4\\xbc\\x9a\\xe4\\xb8\\x8a\\xe7\\x9a\\x84\\xe4\\xb8\\xbb\\xe6\\x97\\xa8\\xe8\\xae\\xb2\\xe8\\xaf\\x9d\\xef\\xbc\\x88\\xe5\\x85\\xa8\\xe6\\x96\\x87\\xef\\xbc\\x89</span></div><div class=\"extra-wrap\" style=\"color: rgb(140, 140, 140); overflow: hidden; text-overflow: ellipsis; white-space: nowrap;\"><span class=\"text\" style=\"font-size: 14px; cursor: pointer;\">2021-07-07</span></div></div></div></div></div></div><div class=\"_2I2Fo0d85Ya3yh_3p5BZWu\"><div class=\"_123TewfUWxUbDqs5ecsq6k\"><div class=\"btn active\">1</div><div class=\"btn\">2</div><div class=\"btn\">3</div><div class=\"btn\">4</div><div class=\"btn\">&gt;&gt;</div><div class=\"btn\">19</div></div></div></div></div></section></div></div></div></div></div></section></div></div></div></div></div></section></div></div></div></div></div></section></div></div><div style=\"width: calc(32.7198% - 7.54397px); margin-right: 0px;\" class=\"Iuu474S1L6y5p7yalKQbW grid-gr\"><div style=\"margin-bottom: 0px;\" class=\"grid-cell\"><section style=\"margin: 65px 0px 0px; padding: 0px; border-radius: 0px; min-height: 0px; background-size: cover; background-position: center center;\" class=\"_3GhgGH8Y4Zh8H0uBP5aUMD _3mVsbsHWKWuZwBS5zIrFO9\"><div style=\"margin: 0px auto; padding: 0px;\" class=\"oSnRgpdW2BnrDruxKh9We _3mVsbsHWKWuZwBS5zIrFO9\"><div style=\"position: relative; min-height: 0px;\"><div style=\"position: relative;\"><div style=\"width: calc(100% + 0px); margin-right: 0px;\" class=\"Iuu474S1L6y5p7yalKQbW grid-gr\"><div style=\"margin-bottom: 0px;\" class=\"grid-cell\"><iframe src=\"https://www.xuexi.cn/4f5aa999a479568bf620109395d8fe56/69fe65d658afc891dd105e1ce9e5879d.html?v=1638434816526\" scrolling=\"no\" style=\"width: 100%; height: 500px;\" frameborder=\"0\"></iframe></div></div></div></div></div></section></div></div></div></div></div></section></div></div></div></div></div></section></div><div style=\"opacity: 1;\"><footer class=\"WNiH6aSBS23IzewzHGi4v\" id=\"page-footer\"><div class=\"content\"><div class=\"links\"><div class=\"links-left\" style=\"background-repeat: no-repeat;\">\\xe5\\x8f\\x8b\\xe6\\x83\\x85\\xe9\\x93\\xbe\\xe6\\x8e\\xa5</div><div class=\"links-right\"><a data-locations=\"0\" href=\"http://www.people.com.cn/\">\\xe4\\xba\\xba\\xe6\\xb0\\x91\\xe7\\xbd\\x91</a><a data-locations=\"1\" href=\"http://www.xinhuanet.com/\">\\xe6\\x96\\xb0\\xe5\\x8d\\x8e\\xe7\\xbd\\x91</a><a data-locations=\"2\" href=\"http://www.china.com.cn/\">\\xe4\\xb8\\xad\\xe5\\x9b\\xbd\\xe7\\xbd\\x91</a><a data-locations=\"3\" href=\"http://www.cctv.com/\">\\xe5\\xa4\\xae\\xe8\\xa7\\x86\\xe7\\xbd\\x91</a><a data-locations=\"4\" href=\"http://www.cri.cn/\">\\xe5\\x9b\\xbd\\xe9\\x99\\x85\\xe5\\x9c\\xa8\\xe7\\xba\\xbf</a><a data-locations=\"5\" href=\"http://cn.chinadaily.com.cn/\">\\xe4\\xb8\\xad\\xe5\\x9b\\xbd\\xe6\\x97\\xa5\\xe6\\x8a\\xa5\\xe7\\xbd\\x91</a><a data-locations=\"6\" href=\"http://www.youth.cn/\">\\xe4\\xb8\\xad\\xe5\\x9b\\xbd\\xe9\\x9d\\x92\\xe5\\xb9\\xb4\\xe7\\xbd\\x91</a><a data-locations=\"7\" href=\"http://www.ce.cn/\">\\xe4\\xb8\\xad\\xe5\\x9b\\xbd\\xe7\\xbb\\x8f\\xe6\\xb5\\x8e\\xe7\\xbd\\x91</a><a data-locations=\"8\" href=\"http://www.chinanews.com/\">\\xe4\\xb8\\xad\\xe5\\x9b\\xbd\\xe6\\x96\\xb0\\xe9\\x97\\xbb\\xe7\\xbd\\x91</a><a data-locations=\"9\" href=\"http://www.gmw.cn/\">\\xe5\\x85\\x89\\xe6\\x98\\x8e\\xe7\\xbd\\x91</a><a data-locations=\"10\" href=\"http://www.cnr.cn/\">\\xe5\\xa4\\xae\\xe5\\xb9\\xbf\\xe7\\xbd\\x91</a><a data-locations=\"11\" href=\"http://www.workercn.cn/\">\\xe4\\xb8\\xad\\xe5\\xb7\\xa5\\xe7\\xbd\\x91</a><a data-locations=\"12\" href=\"http://www.dangjian.cn/\">\\xe5\\x85\\x9a\\xe5\\xbb\\xba\\xe7\\xbd\\x91</a><a data-locations=\"13\" href=\"http://www.cyol.com/\">\\xe4\\xb8\\xad\\xe9\\x9d\\x92\\xe5\\x9c\\xa8\\xe7\\xba\\xbf</a><a data-locations=\"14\" href=\"http://www.81.cn/\">\\xe4\\xb8\\xad\\xe5\\x9b\\xbd\\xe5\\x86\\x9b\\xe7\\xbd\\x91</a><a data-locations=\"15\" href=\"http://www.legaldaily.com.cn/\">\\xe6\\xb3\\x95\\xe5\\x88\\xb6\\xe7\\xbd\\x91</a><a data-locations=\"16\" href=\"http://www.qstheory.cn/\">\\xe6\\xb1\\x82\\xe6\\x98\\xaf\\xe7\\xbd\\x91</a><a data-locations=\"17\" href=\"http://www.cac.gov.cn/\">\\xe4\\xb8\\xad\\xe5\\x9b\\xbd\\xe7\\xbd\\x91\\xe4\\xbf\\xa1\\xe7\\xbd\\x91</a><a data-locations=\"18\" href=\"http://www.wenming.cn/\">\\xe4\\xb8\\xad\\xe5\\x9b\\xbd\\xe6\\x96\\x87\\xe6\\x98\\x8e\\xe7\\xbd\\x91</a><a data-locations=\"19\" href=\"http://www.gov.cn/\">\\xe4\\xb8\\xad\\xe5\\x9b\\xbd\\xe6\\x94\\xbf\\xe5\\xba\\x9c\\xe7\\xbd\\x91</a><a data-locations=\"20\" href=\"http://www.moe.gov.cn/\">\\xe6\\x95\\x99\\xe8\\x82\\xb2\\xe9\\x83\\xa8\\xe7\\xbd\\x91\\xe7\\xab\\x99</a><a data-locations=\"21\" href=\"http://www.mod.gov.cn/\">\\xe5\\x9b\\xbd\\xe9\\x98\\xb2\\xe9\\x83\\xa8\\xe7\\xbd\\x91\\xe7\\xab\\x99</a><a data-locations=\"22\" href=\"http://www.mct.gov.cn/\">\\xe6\\x96\\x87\\xe5\\x8c\\x96\\xe5\\x92\\x8c\\xe6\\x97\\x85\\xe6\\xb8\\xb8\\xe9\\x83\\xa8\\xe7\\xbd\\x91\\xe7\\xab\\x99</a><a data-locations=\"23\" href=\"http://www.scio.gov.cn/index.htm\">\\xe5\\x9b\\xbd\\xe6\\x96\\xb0\\xe5\\x8a\\x9e\\xe7\\xbd\\x91\\xe7\\xab\\x99</a><a data-locations=\"24\" href=\"http://www.shdf.gov.cn/\">\\xe4\\xb8\\xad\\xe5\\x9b\\xbd\\xe6\\x89\\xab\\xe9\\xbb\\x84\\xe6\\x89\\x93\\xe9\\x9d\\x9e\\xe7\\xbd\\x91</a><a data-locations=\"25\" href=\"http://www.womenvoice.cn\">\\xe5\\xa5\\xb3\\xe6\\x80\\xa7\\xe4\\xb9\\x8b\\xe5\\xa3\\xb0</a><a data-locations=\"26\" href=\"http://www.cnpiw.cn/index.html\">\\xe4\\xb8\\xad\\xe5\\x9b\\xbd\\xe6\\x8a\\xa5\\xe4\\xb8\\x9a</a><a data-locations=\"27\" href=\"http://www.12377.cn/\">\\xe4\\xb8\\xad\\xe5\\xa4\\xae\\xe7\\xbd\\x91\\xe4\\xbf\\xa1\\xe5\\x8a\\x9e\\xe4\\xb8\\xbe\\xe6\\x8a\\xa5\\xe4\\xb8\\xad\\xe5\\xbf\\x83</a><a data-locations=\"28\" href=\"http://www.qianlong.com/\">\\xe5\\x8d\\x83\\xe9\\xbe\\x99\\xe7\\xbd\\x91</a><a data-locations=\"29\" href=\"http://www.cssn.cn/\">\\xe4\\xb8\\xad\\xe5\\x9b\\xbd\\xe7\\xa4\\xbe\\xe4\\xbc\\x9a\\xe7\\xa7\\x91\\xe5\\xad\\xa6\\xe7\\xbd\\x91</a><a data-locations=\"30\" href=\"http://www.stdaily.com/\">\\xe4\\xb8\\xad\\xe5\\x9b\\xbd\\xe7\\xa7\\x91\\xe6\\x8a\\x80\\xe7\\xbd\\x91</a><a data-locations=\"31\" href=\"http://www.farmer.com.cn/\">\\xe4\\xb8\\xad\\xe5\\x9b\\xbd\\xe5\\x86\\x9c\\xe4\\xb8\\x9a\\xe6\\x96\\xb0\\xe9\\x97\\xbb\\xe7\\xbd\\x91</a><a data-locations=\"32\" href=\"https://www.1958xy.com/\">\\xe8\\xa5\\xbf\\xe5\\xbd\\xb1\\xe7\\xbd\\x91</a><a data-locations=\"33\" href=\"http://www.12348.gov.cn/\">\\xe4\\xb8\\xad\\xe5\\x9b\\xbd\\xe6\\xb3\\x95\\xe5\\xbe\\x8b\\xe6\\x9c\\x8d\\xe5\\x8a\\xa1\\xe7\\xbd\\x91</a><a data-locations=\"34\" href=\"http://www.legalinfo.gov.cn/\">\\xe4\\xb8\\xad\\xe5\\x9b\\xbd\\xe6\\x99\\xae\\xe6\\xb3\\x95\\xe7\\xbd\\x91</a><a data-locations=\"35\" href=\"http://www.tibet.cn/\">\\xe4\\xb8\\xad\\xe5\\x9b\\xbd\\xe8\\xa5\\xbf\\xe8\\x97\\x8f\\xe7\\xbd\\x91</a><a data-locations=\"36\" href=\"http://www.cnwomen.com.cn/\">\\xe4\\xb8\\xad\\xe5\\x9b\\xbd\\xe5\\xa6\\x87\\xe5\\xa5\\xb3\\xe7\\xbd\\x91</a></div></div><div class=\"copyright\"><div class=\"icon-wrap \"><a class=\"img icon1\" href=\"http://bszs.conac.cn/sitename?method=show&amp;id=7CA3343B3491BC2DE05310291AAC35E2\" rel=\"noopener noreferrer\" data-target=\"\\xe5\\x85\\x9a\\xe6\\x94\\xbf\\xe6\\x9c\\xba\\xe5\\x85\\xb3\" style=\"background-image: url(&quot;https://www.xuexi.cn/lgpage/images/5d27b770015be191ed14e8146fcc907e.png&quot;);\"></a><a class=\"img icon2\" href=\"https://www.xuexi.cn/968c301a366c4031ec408a42d7644fa3/e43e220633a65f9b6d8b53712cba9caa.html\" rel=\"noopener noreferrer\" data-target=\"\\xe7\\x89\\x88\\xe6\\x9d\\x83\\xe7\\x94\\xb3\\xe6\\x98\\x8e\" style=\"background-image: url(&quot;https://www.xuexi.cn/lgpage/images/f6b99ba9b8314955d8dcf08b3ac85353.png&quot;);\"></a></div><p class=\"text-ellipsis\">\\xe6\\x9c\\x8d\\xe5\\x8a\\xa1\\xe7\\x94\\xb5\\xe8\\xaf\\x9d\\xef\\xbc\\x9a12361\\xe3\\x80\\x80\\xe5\\x80\\xbc\\xe7\\x8f\\xad\\xe7\\x94\\xb5\\xe8\\xaf\\x9d\\xef\\xbc\\x9a010-55624303\\xe3\\x80\\x81010-55624311</p><p>\\xe4\\xb8\\xad\\xe5\\x85\\xb1\\xe4\\xb8\\xad\\xe5\\xa4\\xae\\xe5\\xae\\xa3\\xe4\\xbc\\xa0\\xe9\\x83\\xa8\\xe5\\xae\\xa3\\xe4\\xbc\\xa0\\xe8\\x88\\x86\\xe6\\x83\\x85\\xe7\\xa0\\x94\\xe7\\xa9\\xb6\\xe4\\xb8\\xad\\xe5\\xbf\\x83\\xe7\\x89\\x88\\xe6\\x9d\\x83\\xe6\\x89\\x80\\xe6\\x9c\\x89\\xe3\\x80\\x80\\xe6\\x9c\\xaa\\xe7\\xbb\\x8f\\xe4\\xb9\\xa6\\xe9\\x9d\\xa2\\xe6\\x8e\\x88\\xe6\\x9d\\x83\\xe7\\xa6\\x81\\xe6\\xad\\xa2\\xe4\\xbd\\xbf\\xe7\\x94\\xa8</p><p>Copyright\\xc2\\xa9 2018-2021 by www.xuexi.cn. all rights reserved</p><p>ICP\\xe5\\xa4\\x87\\xe6\\xa1\\x88/\\xe8\\xae\\xb8\\xe5\\x8f\\xaf\\xe8\\xaf\\x81\\xe7\\xbc\\x96\\xe5\\x8f\\xb7\\xef\\xbc\\x9a<a class=\"text-link\" href=\"http://beian.miit.gov.cn/\" rel=\"noopener noreferrer\" data-target=\"\\xe5\\xa4\\x87\\xe6\\xa1\\x88\\xe9\\x93\\xbe\\xe6\\x8e\\xa5\">\\xe4\\xba\\xacICP\\xe5\\xa4\\x8718000311</a> \\xe4\\xba\\xac\\xe5\\x85\\xac\\xe7\\xbd\\x91\\xe5\\xae\\x89\\xe5\\xa4\\x8711010102006000\\xe5\\x8f\\xb7</p><p class=\"tips text-ellipsis\">\\xe5\\xad\\x97\\xe4\\xbd\\x93\\xe6\\x94\\xaf\\xe6\\x8c\\x81\\xef\\xbc\\x9a\\xe5\\x8c\\x97\\xe4\\xba\\xac\\xe5\\x8c\\x97\\xe5\\xa4\\xa7\\xe6\\x96\\xb9\\xe6\\xad\\xa3\\xe7\\x94\\xb5\\xe5\\xad\\x90\\xe6\\x9c\\x89\\xe9\\x99\\x90\\xe5\\x85\\xac\\xe5\\x8f\\xb8\\xe3\\x80\\x80\\xe5\\x8c\\x97\\xe4\\xba\\xac\\xe6\\xb1\\x89\\xe4\\xbb\\xaa\\xe7\\xa7\\x91\\xe5\\x8d\\xb0\\xe4\\xbf\\xa1\\xe6\\x81\\xaf\\xe6\\x8a\\x80\\xe6\\x9c\\xaf\\xe6\\x9c\\x89\\xe9\\x99\\x90\\xe5\\x85\\xac\\xe5\\x8f\\xb8\\xe3\\x80\\x80\\xe5\\x8c\\x97\\xe4\\xba\\xac\\xe5\\x8d\\x8e\\xe5\\xba\\xb7\\xe4\\xbf\\xa1\\xe6\\x81\\xaf\\xe6\\x8a\\x80\\xe6\\x9c\\xaf\\xe6\\x9c\\x89\\xe9\\x99\\x90\\xe5\\x85\\xac\\xe5\\x8f\\xb8</p></div></div></footer></div></div></div><script src=\"/lgpage/common/vendor.js?97d04f8f9939bc0ad275\"></script><script src=\"/lgpage/page/index.entry.js?9247fee317d9de9e4003\"></script><script src=\"https://www.xuexi.cn/4f5aa999a479568bf620109395d8fe56/data69fe65d658afc891dd105e1ce9e5879d.js\"></script><script src=\"//source.xuexi.cn/AWSC/AWSC/awsc.v2.js\"></script><script></script></body></html>'"
      ]
     },
     "execution_count": 10,
     "metadata": {},
     "output_type": "execute_result"
    }
   ],
   "source": [
    "page"
   ]
  },
  {
   "cell_type": "code",
   "execution_count": 14,
   "id": "17a68f49",
   "metadata": {},
   "outputs": [],
   "source": [
    "#In einem nächsten Schritt müssen die IDs gesucht werden, um die einzelnen Textseiten aufzurufen. Diese LIste sie"
   ]
  },
  {
   "cell_type": "code",
   "execution_count": 13,
   "id": "e1b20b62",
   "metadata": {},
   "outputs": [],
   "source": [
    "beispielliste = [\"https://www.xuexi.cn/lgpage/detail/index.html?id=6432884298220840377\",\n",
    "                \"https://www.xuexi.cn/lgpage/detail/index.html?id=643addasdasdasdsad\",\n",
    "                \"https://www.xuexi.cn/lgpage/detail/index.html?id=64328842asdsadsadsad\"]"
   ]
  },
  {
   "cell_type": "code",
   "execution_count": 4,
   "id": "dc66644b",
   "metadata": {},
   "outputs": [],
   "source": [
    "#Einlesen\n",
    "url = \"https://www.xuexi.cn/lgpage/detail/index.html?id=6432884298220840377\"\n",
    "r = requests.get(url)\n",
    "r = BeautifulSoup(r.text, \"html.parser\")\n",
    "#Diese Seiten müssen nun abgespeichert werden. Und dann wieder ausgelesen. "
   ]
  },
  {
   "cell_type": "markdown",
   "id": "d833bef7",
   "metadata": {},
   "source": [
    "**Der ganze Prozess sieht folgendermassen aus:**\n",
    "1. Mit Selenium IDs generieren. Und damit eine Liste der URLs kreieren.\n",
    "2. Nun alle URls besuchen und alle HTMLS einzeln lokal abspeichen. \n",
    "3. Nun über diese HTMLs iterieren und die Texte mit BeautifulSoup herausziehen und damit ein eigenes DataFrame bauen.\n",
    "4. Nun kann mit \"\"\"from snownlp import SnowNLP.\"\"\" die eigentliche Textanalyse beginnen, indem bspw. zuerst die Wörter gezählt werden. "
   ]
  },
  {
   "cell_type": "code",
   "execution_count": null,
   "id": "c8bac794",
   "metadata": {},
   "outputs": [],
   "source": [
    "df['ChinesischeText'].apply(SnowNLP)"
   ]
  },
  {
   "cell_type": "code",
   "execution_count": null,
   "id": "a2131ecf",
   "metadata": {},
   "outputs": [],
   "source": [
    "df['Wörter in Liste ']"
   ]
  },
  {
   "cell_type": "code",
   "execution_count": 5,
   "id": "0f6f9943",
   "metadata": {},
   "outputs": [
    {
     "data": {
      "text/plain": [
       "<!DOCTYPE html>\n",
       "<html lang=\"cmn-Hans\"><head><meta charset=\"utf-8\"/><meta content=\"IE=edge,chrome=1\" http-equiv=\"X-UA-Compatible\"/><meta content=\"pwGxrkznTF\" name=\"baidu-site-verification\"/><meta content=\"webkit\" name=\"renderer\"/><title>å­¦ä¹ å¼ºå½</title><link href=\"//bootcdn.xuexi.cn\" rel=\"dns-prefetch\"/><style>body { min-width: 1200px }</style><link href=\"/lgpage/common/base.css?97d04f8f9939bc0ad275\" rel=\"stylesheet\"/></head><body><script>try {\n",
       "        // è·åIEçæ¬\n",
       "        window.__getIEVersion = function() {\n",
       "          var userAgent = window.navigator.userAgent;\n",
       "          var isIE = userAgent.indexOf('compatible') > -1 && userAgent.indexOf('MSIE') > -1;\n",
       "          var isEdge = userAgent.indexOf('Edge') > -1 && !isIE;\n",
       "          var isIE11 = userAgent.indexOf('Trident') > -1 && userAgent.indexOf('rv:11.0') > -1;\n",
       "          if (isIE) {\n",
       "            var reIE = new RegExp('MSIE (\\\\d+\\\\.\\\\d+);');\n",
       "            reIE.test(userAgent);\n",
       "            var fIEVersion = parseFloat(RegExp[\"$1\"]);\n",
       "            if (fIEVersion == 7) {\n",
       "              return 7;\n",
       "            } else if (fIEVersion == 8) {\n",
       "              return 8;\n",
       "            } else if (fIEVersion == 9) {\n",
       "              return 9;\n",
       "            } else if (fIEVersion == 10) {\n",
       "              return 10;\n",
       "            } else {\n",
       "              return 6;\n",
       "            }\n",
       "          } else if (isEdge) {\n",
       "            return 'edge';\n",
       "          } else if (isIE11) {\n",
       "            return 11;\n",
       "          } else {\n",
       "            return -1;\n",
       "          }\n",
       "        }\n",
       "\n",
       "        var ieVersion = __getIEVersion();\n",
       "\n",
       "        window.__lessIEVersion = function(version) {\n",
       "          if (ieVersion !== -1 && ieVersion !== 'edge') {\n",
       "            return ieVersion < version;\n",
       "          }\n",
       "          return false;\n",
       "        }\n",
       "\n",
       "        if (window.__lessIEVersion(11)) {\n",
       "          window.location.href = '/update';\n",
       "        }\n",
       "      } catch (e) {\n",
       "        window.__pre_error = e;\n",
       "      }</script><script>try {\n",
       "      !(function(c,b,d,a){c[a]||(c[a]={});c[a].config=\n",
       "        {\n",
       "          /** armsåºç¨çpid */\n",
       "          pid: \"hr5uxr169c@9c7272e8e46233f\",\n",
       "          /** é¡¹ç®ç¯å¢å­æ®µï¼åå¼ä¸ºï¼prodãgrayãpreãdailyålocalï¼å\n",
       "¶ä¸­ï¼prodè¡¨ç¤ºçº¿ä¸ç¯å¢ãgrayè¡¨ç¤ºç°åº¦ç¯å¢ãpreè¡¨ç¤ºé¢åç¯å¢ãdailyè¡¨ç¤ºæ¥å¸¸ç¯å¢ã localè¡¨ç¤ºæ¬å°ç¯å¢ã  */\n",
       "          environment: \"prod\",\n",
       "          /** æ¯å¦çå¬é¡µé¢çhashchangeäºä»¶å¹¶éæ°ä¸æ¥PVï¼åé¡µé¢åºç¨éè¦é\n",
       "ç½®ï¼å¤é¡µåºç¨è®¾ç½®ä¸ºfalseã */\n",
       "          enableSPA: false,\n",
       "          /** åç«¯é¡µé¢å½åçæ¬å·ï¼å¯éï¼ä¾¿äºæ¥çä¸åçæ¬çä¸æ¥ä¿¡æ¯ */\n",
       "          release: \"1638434816526\",\n",
       "          /** æ¯å¦ééé¦å±FMPï¼First Meaningful Paintï¼é¦æ¬¡æææ¸²æï¼æ°æ®ã */\n",
       "          useFmp: true,\n",
       "          /** æ¯å¦ä¸æ¥é¡µé¢éæèµæºï¼å¯ç¨äºé¡µé¢å è½½æ\n",
       "åµçåæ */\n",
       "          sendResource: true,\n",
       "          /** æ¯å¦ç¦ç¨AJAXè¯·æ±çå¬ï¼æ¨èç¦ç¨ï¼ç±ä¸å¡èªå®ä¹ä¸ä¼ æ¥å£ */\n",
       "          disableHook: true,\n",
       "          /** æ¯å¦èªå¨ä¸æ¥pv */\n",
       "          autoSendPv: false,\n",
       "          /** æ¯å¦å¼å¯ååç«¯é¾è·¯è¿½è¸ª */ \n",
       "          enableLinkTrace: false,\n",
       "          /** é¡µé¢æ¥è­¦ç±»åï¼H5åºç¨è®¾ç½®\"web\"\" */\n",
       "          appType: \"web\",\n",
       "          /** è®¾å®æ¥å¿ä¸ä¼ å°åï¼æ­£å¸¸ä¸éè¦ä¿®æ¹ */\n",
       "          imgUrl: \"https://arms-retcode.aliyuncs.com/r.png?\",\n",
       "          /** æ§è½è·æåAPIçéæ ·ç */\n",
       "          sample: 1,\n",
       "          parseResponse: function (res) {\n",
       "            if (!res || typeof res !== 'object' || res.websocket) return {};\n",
       "            var code = res.code || res.errorCode || res.status;\n",
       "            var msg = res.errorMessage || res.msg || res.message || res.subMsg || res.errorMsg || res.ret || res.errorResponse || res.body || '';\n",
       "            if (typeof msg === 'object') {\n",
       "              code = code || msg.code || msg.status;\n",
       "              msg = msg.reason || msg.message || msg.msg || msg.info || msg.ret || JSON.stringify(msg);\n",
       "            }\n",
       "            var success = code == 0 || code == 200;\n",
       "            msg = success ? '' : msg;\n",
       "            if (!success) {\n",
       "              return { msg: msg, code: code, success: success };\n",
       "            }\n",
       "          },\n",
       "          ignore: {\n",
       "            ignoreErrors: [\n",
       "              /^Script error.?$/,\n",
       "              function (str) {\n",
       "                return (str && str.indexOf('chrome-extension://') >= 0);\n",
       "              }\n",
       "            ],\n",
       "            ignoreResErrors: [\n",
       "              function (str) {\n",
       "                return (str && str.indexOf('chrome-extension://') >= 0);\n",
       "              }\n",
       "            ]\n",
       "          }\n",
       "        };\n",
       "      with(b)with(body)with(insertBefore(createElement(\"script\"),firstChild))setAttribute(\"crossorigin\",\"\",src=d)\n",
       "      })(window,document,\"https://retcode.alicdn.com/retcode/bl.js\",\"__bl\");\n",
       "    } catch (e) {\n",
       "      console.error('arms js load failed', e);\n",
       "    }</script><script>if( /Android|webOS|iPhone|iPad|iPod|BlackBerry|IEMobile|Opera Mini/i.test(navigator.userAgent) ) {\n",
       "        // document.documentElement.clientWidth å¨è¿ä¸ªæ¶æºä¸è·æ¸²æå®æåçå¤§å°ä¸ä¸æ ·ï¼èèå½åç»ä»¶æå¤§1280ï¼ç­åäºæå¤§clientWidth\n",
       "        var maxClientWidth = 1280;\n",
       "        var scale = window.screen.width / maxClientWidth;\n",
       "        var oMeta = document.createElement('meta');\n",
       "        oMeta.name = 'viewport';\n",
       "        oMeta.content = \"initial-scale=\" + scale + \", user-scalable=yes\";\n",
       "        document.getElementsByTagName('head')[0].appendChild(oMeta);\n",
       "      }\n",
       "      if(window.location.search.indexOf('id=index') !== -1){\n",
       "        window.document.body.style.minWidth = \"1400px\";\n",
       "      }</script><div id=\"root\"></div><script src=\"/lgpage/common/vendor.js?97d04f8f9939bc0ad275\"></script><script src=\"/lgpage/page/index.entry.js?9247fee317d9de9e4003\"></script></body></html>"
      ]
     },
     "execution_count": 5,
     "metadata": {},
     "output_type": "execute_result"
    }
   ],
   "source": [
    "r"
   ]
  },
  {
   "cell_type": "code",
   "execution_count": null,
   "id": "a8b32c04",
   "metadata": {},
   "outputs": [],
   "source": [
    "#speech IDs finden\n",
    "speech = []"
   ]
  },
  {
   "cell_type": "code",
   "execution_count": null,
   "id": "0cb4f2d4",
   "metadata": {},
   "outputs": [],
   "source": [
    "#B.\tDatenanalyse mit Textanalyse\n",
    "#1.\tTextlänge\n",
    "#2.\tWie viele verschiedene Woerter oder Zeichen benutzt Xi\n",
    "#3.\tWie oft wiederholt er sich? Ähnliche Reden, Sätze, Wörter\n",
    "#4.\tWortanalyse, Frequenz\n",
    "#5.\tSentimentanalyse https://towardsdatascience.com/beginners-guide-to-sentiment-analysis-for-simplified-chinese-using-snownlp-ce88a8407ef\n"
   ]
  },
  {
   "cell_type": "code",
   "execution_count": 1,
   "id": "970afc57",
   "metadata": {},
   "outputs": [
    {
     "data": {
      "text/plain": [
       "['我', '喜欢', '看', '电影', '。']"
      ]
     },
     "execution_count": 1,
     "metadata": {},
     "output_type": "execute_result"
    }
   ],
   "source": [
    "from snownlp import SnowNLP\n",
    "\n",
    "s = SnowNLP(u'我喜欢看电影。')\n",
    "s.words"
   ]
  },
  {
   "cell_type": "code",
   "execution_count": 2,
   "id": "136757e4",
   "metadata": {},
   "outputs": [
    {
     "data": {
      "text/plain": [
       "[('我', 'r'), ('喜欢', 'v'), ('看', 'v'), ('电影', 'n'), ('。', 'w')]"
      ]
     },
     "execution_count": 2,
     "metadata": {},
     "output_type": "execute_result"
    }
   ],
   "source": [
    "list(s.tags)"
   ]
  },
  {
   "cell_type": "code",
   "execution_count": 3,
   "id": "20f643f9",
   "metadata": {},
   "outputs": [],
   "source": [
    "s = SnowNLP (u\"我们党历来高度注重总结历史经验。早在延安时期，毛泽东同志就指出：“如果不把党的历史搞清楚，不把党在历史上所走的路搞清楚，便不能把事情办得更好。”在争取抗日战争最后胜利的关头，1945年，党的六届七中全会通过了《关于若干历史问题的决议》，对建党以后特别是党的六届四中全会至遵义会议前这一段党的历史及其经验教训进行了总结，对若干重大历史问题作出了结论，使全党特别是党的高级干部对中国革命基本问题的认识达到了一致，增强了全党团结，为党的七大胜利召开创造了充分条件，有力促进了中国革命事业发展。\")"
   ]
  },
  {
   "cell_type": "code",
   "execution_count": 4,
   "id": "3a3a691c",
   "metadata": {},
   "outputs": [
    {
     "data": {
      "text/plain": [
       "['我们党历来高度注重总结历史经验',\n",
       " '早在延安时期',\n",
       " '毛泽东同志就指出：“如果不把党的历史搞清楚',\n",
       " '不把党在历史上所走的路搞清楚',\n",
       " '便不能把事情办得更好',\n",
       " '”在争取抗日战争最后胜利的关头',\n",
       " '1945年',\n",
       " '党的六届七中全会通过了《关于若干历史问题的决议》',\n",
       " '对建党以后特别是党的六届四中全会至遵义会议前这一段党的历史及其经验教训进行了总结',\n",
       " '对若干重大历史问题作出了结论',\n",
       " '使全党特别是党的高级干部对中国革命基本问题的认识达到了一致',\n",
       " '增强了全党团结',\n",
       " '为党的七大胜利召开创造了充分条件',\n",
       " '有力促进了中国革命事业发展']"
      ]
     },
     "execution_count": 4,
     "metadata": {},
     "output_type": "execute_result"
    }
   ],
   "source": [
    "s.sentences"
   ]
  },
  {
   "cell_type": "code",
   "execution_count": 5,
   "id": "b8d4d856",
   "metadata": {},
   "outputs": [
    {
     "data": {
      "text/plain": [
       "['党', '历史', '不', '届', '特别']"
      ]
     },
     "execution_count": 5,
     "metadata": {},
     "output_type": "execute_result"
    }
   ],
   "source": [
    "s.keywords(5)"
   ]
  },
  {
   "cell_type": "code",
   "execution_count": 6,
   "id": "94fac9a3",
   "metadata": {},
   "outputs": [
    {
     "data": {
      "text/plain": [
       "157"
      ]
     },
     "execution_count": 6,
     "metadata": {},
     "output_type": "execute_result"
    }
   ],
   "source": [
    "len(s.words)"
   ]
  },
  {
   "cell_type": "code",
   "execution_count": null,
   "id": "8077c8a0",
   "metadata": {},
   "outputs": [],
   "source": [
    "#C. Skizze des fertigen Beitrags:\n",
    "\n",
    "#Bar Chart: Häufigkeit der Propaganda-Begriffe\n",
    "\n",
    "#Bar Chart: Länge der Reden über die Jahre\n",
    "\n",
    "#Bar Chart: Themengewichtung über die Jahre\n",
    "\n",
    "#Nice to have: Animation der am häufigsten verwendeten Wörter auf Deutsch\n",
    "#Beispiel: https://www.republik.ch/2019/08/01/anleitung-fuer-die-perfekte-ansprache-zum-1-august"
   ]
  }
 ],
 "metadata": {
  "kernelspec": {
   "display_name": "Python 3",
   "language": "python",
   "name": "python3"
  },
  "language_info": {
   "codemirror_mode": {
    "name": "ipython",
    "version": 3
   },
   "file_extension": ".py",
   "mimetype": "text/x-python",
   "name": "python",
   "nbconvert_exporter": "python",
   "pygments_lexer": "ipython3",
   "version": "3.8.8"
  }
 },
 "nbformat": 4,
 "nbformat_minor": 5
}
