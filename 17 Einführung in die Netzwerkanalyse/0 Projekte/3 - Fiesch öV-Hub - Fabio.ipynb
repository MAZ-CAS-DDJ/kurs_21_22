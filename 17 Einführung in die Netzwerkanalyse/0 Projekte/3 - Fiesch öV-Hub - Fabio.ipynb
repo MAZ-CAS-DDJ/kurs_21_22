{
 "cells": [
  {
   "cell_type": "code",
   "execution_count": null,
   "id": "06a3eb59",
   "metadata": {},
   "outputs": [],
   "source": [
    "#These: \n",
    "#Seit der Eröffnung des öV-Hub in Fiesch (07.12.2019) ist es für die Gäste\n",
    "#attraktiver, mit dem öV anzureisen, um in eines der drei Skigebiete der Aletsch Arena \n",
    "#(Riederalp/Bettmeralp/Fiescheralp) zu gelangen.\n",
    "\n",
    "#Quelle:\n",
    "#Datenbeschaffung für Jahr 2020 (evt 2021)\n",
    "#-Bergbahnen Aletsch Arena Frequenzen (mit durchschnittlicher Wartezeit) \n",
    "# (Erfassung der Anreise)\n",
    "# Via Gemeinde Daten von Service cantonale routière&navigation (Verkehrsmessung Eingangs Dorf) (opt. MGBahn/Postauto) \n",
    "\n",
    "#Vorgehen:\n",
    "#Vereinheitlichung der Daten, Aufbereitung.\n",
    "#In Relation setzen (Erhalt früherer Daten möglich? Jahr 2019)\n",
    "#Total Monatlich / Unterschiede Wöchentlich auf Hochsaison-Monate Winter (Bar-Chart).\n",
    "#Vergleich der Besucherentwicklung und der Anreise per öV / Verkehrsfluss Dorfeingang Einfluss?\n",
    "#Farbliche Unterscheidung der Jahre 2019+2020, Bar-Charts übereinander legen.\n",
    "\n"
   ]
  },
  {
   "cell_type": "markdown",
   "id": "3d6ab197",
   "metadata": {},
   "source": [
    "In einem nächsten Schritt unbedingt nach der Datenstruktur fragen. So kannst Du Dich viel bessere darauf einstellen womit Du rechnen musst. Allenfalls kannst Du sogar mit Dummy-Daten zu arbeiten beginnen. "
   ]
  },
  {
   "cell_type": "code",
   "execution_count": null,
   "id": "463b6928",
   "metadata": {},
   "outputs": [],
   "source": []
  }
 ],
 "metadata": {
  "kernelspec": {
   "display_name": "Python 3",
   "language": "python",
   "name": "python3"
  },
  "language_info": {
   "codemirror_mode": {
    "name": "ipython",
    "version": 3
   },
   "file_extension": ".py",
   "mimetype": "text/x-python",
   "name": "python",
   "nbconvert_exporter": "python",
   "pygments_lexer": "ipython3",
   "version": "3.8.8"
  }
 },
 "nbformat": 4,
 "nbformat_minor": 5
}
