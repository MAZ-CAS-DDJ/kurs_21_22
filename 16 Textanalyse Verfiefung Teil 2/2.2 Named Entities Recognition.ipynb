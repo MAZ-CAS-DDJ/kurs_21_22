{
 "cells": [
  {
   "cell_type": "markdown",
   "metadata": {},
   "source": [
    "# Named Entities Recognition with NLTK\n",
    "- Named entities sind Orte, Firmen, Organisationen, Länder, etc.. alles Eigennamen. \n",
    "- Oft sind diese Eigennamen relativ wichtig im Text. "
   ]
  },
  {
   "cell_type": "code",
   "execution_count": 2,
   "metadata": {},
   "outputs": [],
   "source": [
    "import nltk"
   ]
  },
  {
   "cell_type": "code",
   "execution_count": 3,
   "metadata": {},
   "outputs": [
    {
     "data": {
      "text/plain": [
       "[('John', 'NNP'),\n",
       " ('Smith', 'NNP'),\n",
       " ('is', 'VBZ'),\n",
       " ('from', 'IN'),\n",
       " ('the', 'DT'),\n",
       " ('United', 'NNP'),\n",
       " ('States', 'NNPS'),\n",
       " ('of', 'IN'),\n",
       " ('America', 'NNP'),\n",
       " ('and', 'CC'),\n",
       " ('works', 'VBZ'),\n",
       " ('at', 'IN'),\n",
       " ('Microsoft', 'NNP'),\n",
       " ('Research', 'NNP'),\n",
       " ('Labs', 'NNP')]"
      ]
     },
     "execution_count": 3,
     "metadata": {},
     "output_type": "execute_result"
    }
   ],
   "source": [
    "nltk.pos_tag(nltk.word_tokenize(\"John Smith is from the United States of America and works at Microsoft Research Labs\"))"
   ]
  },
  {
   "cell_type": "code",
   "execution_count": 7,
   "metadata": {},
   "outputs": [
    {
     "name": "stdout",
     "output_type": "stream",
     "text": [
      "(S\n",
      "  (PERSON John/NNP)\n",
      "  (PERSON Smith/NNP)\n",
      "  is/VBZ\n",
      "  from/IN\n",
      "  the/DT\n",
      "  (GPE United/NNP States/NNPS)\n",
      "  of/IN\n",
      "  (GPE America/NNP)\n",
      "  and/CC\n",
      "  works/VBZ\n",
      "  at/IN\n",
      "  (ORGANIZATION Microsoft/NNP Research/NNP Labs/NNP))\n"
     ]
    },
    {
     "name": "stderr",
     "output_type": "stream",
     "text": [
      "[nltk_data] Downloading package averaged_perceptron_tagger to\n",
      "[nltk_data]     /Users/plotti/nltk_data...\n",
      "[nltk_data]   Package averaged_perceptron_tagger is already up-to-\n",
      "[nltk_data]       date!\n",
      "[nltk_data] Downloading package maxent_ne_chunker to\n",
      "[nltk_data]     /Users/plotti/nltk_data...\n",
      "[nltk_data]   Package maxent_ne_chunker is already up-to-date!\n",
      "[nltk_data] Downloading package words to /Users/plotti/nltk_data...\n",
      "[nltk_data]   Package words is already up-to-date!\n"
     ]
    }
   ],
   "source": [
    "import nltk\n",
    "nltk.download('averaged_perceptron_tagger')\n",
    "nltk.download('maxent_ne_chunker')\n",
    "nltk.download('words')\n",
    "pos_tags = nltk.pos_tag(nltk.word_tokenize(\"John Smith is from the United States of America and works at Microsoft Research Labs\"))\n",
    "print(nltk.ne_chunk(pos_tags))"
   ]
  },
  {
   "cell_type": "code",
   "execution_count": 8,
   "metadata": {},
   "outputs": [
    {
     "name": "stdout",
     "output_type": "stream",
     "text": [
      "(S\n",
      "  (PERSON Johan/NNP)\n",
      "  (PERSON Meier/NNP)\n",
      "  kommt/NNP\n",
      "  aus/NN\n",
      "  (GPE Deutschland/NNP)\n",
      "  und/NN\n",
      "  arbeitet/NN\n",
      "  bei/NN\n",
      "  der/NN\n",
      "  (ORGANIZATION Forschungsabteilung/NNP)\n",
      "  von/NNP\n",
      "  Microsoft/NNP)\n"
     ]
    }
   ],
   "source": [
    "print(nltk.ne_chunk(nltk.pos_tag(nltk.word_tokenize(\"Johan Meier kommt aus Deutschland und arbeitet bei der Forschungsabteilung von Microsoft\"))))"
   ]
  },
  {
   "cell_type": "markdown",
   "metadata": {},
   "source": [
    "# Named Entities with spacy"
   ]
  },
  {
   "cell_type": "code",
   "execution_count": 12,
   "metadata": {},
   "outputs": [
    {
     "name": "stdout",
     "output_type": "stream",
     "text": [
      "Brüssel LOC\n",
      "EU-Hauptstadt LOC\n",
      "Großbritannien LOC\n",
      "Brüsseler LOC\n",
      "Brüssel LOC\n",
      "EU-Länder LOC\n",
      "Brüssel LOC\n",
      "May LOC\n",
      "Brüssel LOC\n",
      "London LOC\n",
      "Brüssel LOC\n",
      "London LOC\n"
     ]
    }
   ],
   "source": [
    "import spacy\n",
    "nlp = spacy.load(\"de_core_news_sm\")\n",
    "\n",
    "doc = nlp(\"\"\"\n",
    "\n",
    "Bei den Brexit-Verhandlungen ist offenbar ein entscheidendes Zwischenziel erreicht worden. Nachdem die britische Regierung am Dienstag verkündete, es gebe eine Einigung mit Brüssel, mehrten sich auch in der EU-Hauptstadt die Anzeichen, dass die Unterhändler von EU und Großbritannien auf technischer Ebene ein belastbares Papier erarbeitet haben.\n",
    "\n",
    "Am Mittwoch will die Premierministerin Theresa May nun ihr Kabinett auf die Brüsseler Übereinkunft einschwören.\n",
    "\n",
    "Der Fraktionschef der Europäischen Volkspartei, Manfred Weber, sagte in den ARD-\"Tagesthemen\", es gebe \"positive Signale\", dass es zu einer Einigung komme: \"Ja, der weiße Rauch steigt auf.\" Eine offizielle Bestätigung für einen Deal gab es von den Unterhändlern aus Brüssel zunächst nicht. Allerdings wollen die Botschafter der 27 restlichen EU-Länder am Mittwoch über einen Zeitplan bis zu einem möglichen Sondergipfel am Ende des Monats beraten, ein Vorhaben, das sinnlos wäre, wenn es keinen Grund für vorsichtigen Optimismus gäbe.\n",
    "\n",
    "Mittwoch Gespräche im Kabinett, bei Erfolg: Sondergipfel am 25. November\n",
    "\n",
    "Zuletzt waren die Gespräche bis tief in die Nacht im sogenannten Tunnel geführt worden, unter maximaler Geheimhaltung und mit der gegenseitigen Zusicherung, dass nichts davon vorzeitig nach außen dringt. Dann, am frühen Dienstagabend, bestätigte ein Sprecher Mays, dass tatsächlich ein Vertragsentwurf vorliege.\n",
    "\n",
    "Die Premierministerin habe ihr Kabinett für Mittwoch, 14 Uhr Ortszeit, zu einer außerordentlichen Sitzung einbestellt. Ihr Ziel ist, möglichst noch am Mittwoch verkünden zu können, dass ihre Regierung weitgehend geschlossen hinter der mit Brüssel getroffenen Vereinbarung steht. Danach würde umgehend ein EU-Sondergipfel, vermutlich für den 25. November, einberufen.\n",
    "\n",
    "Wird May das Ergebnis der Unterhändler diesmal zu Hause durchsetzen?\n",
    "\n",
    "In Brüssel ist man hingegen vorsichtig mit dem Wort Einigung. Es gebe einen Text, auf den sich die Unterhändler geeinigt hätten, politisch sei der aber noch nicht abgesegnet, sagen mit der Angelegenheit vertraute EU-Diplomaten. Nun liege der Ball, mal wieder, in London. Eine ähnliche Situation hatte es bereits vor rund vier Wochen gegeben, als die Unterhändler in Brüssel ebenfalls weit gekommen waren, 10 Downing Street aber in letzter Sekunde den Stecker zog, weil May das Ergebnis in London nicht durchsetzen konnte.\n",
    "\n",
    "Trotzdem bereitet auch die EU nun die Grundlagen für einen Sondergipfel vor, auf dem May für das Publikum auf der Insel ausreichend Verhandlungsdramatik inszenieren könnte. Die Sitzung der Botschafter der 27 verbleibenden EU-Länder am Mittwochnachmittag wurde um den Tagesordnungspunkt \"State of Play\" erweitert, es geht also um den Stand der Brexit-Verhandlungen.\n",
    "\"\"\")\n",
    "\n",
    "locations = []\n",
    "for ent in doc.ents:\n",
    "    if ent.label_ == \"LOC\":\n",
    "        print(ent.text, ent.label_)\n",
    "        locations.append(ent.text)"
   ]
  },
  {
   "cell_type": "code",
   "execution_count": 14,
   "metadata": {},
   "outputs": [
    {
     "data": {
      "text/plain": [
       "{'Brüssel',\n",
       " 'Brüsseler',\n",
       " 'EU-Hauptstadt',\n",
       " 'EU-Länder',\n",
       " 'Großbritannien',\n",
       " 'London',\n",
       " 'May'}"
      ]
     },
     "execution_count": 14,
     "metadata": {},
     "output_type": "execute_result"
    }
   ],
   "source": [
    "set(locations)"
   ]
  },
  {
   "cell_type": "markdown",
   "metadata": {},
   "source": [
    "### Aufgabe\n",
    "Holt euch den text von http://www.spiegel.de/politik/ausland/brexit-das-endspiel-hat-begonnen-a-1238299.html mit dem readability tool und findet heraus welche named entities am häufigsten vorkommen.  Von welchen Ländern und Unternehmen wird vor allem gesprochen?"
   ]
  },
  {
   "cell_type": "code",
   "execution_count": 24,
   "metadata": {},
   "outputs": [
    {
     "data": {
      "text/plain": [
       "'.word-wrap:nth-child(10) p , p+ p , .word-wrap:nth-child(4) p , .word-wrap:nth-child(1) p'"
      ]
     },
     "execution_count": 24,
     "metadata": {},
     "output_type": "execute_result"
    }
   ],
   "source": [
    "\".word-wrap:nth-child(10) p , p+ p , .word-wrap:nth-child(4) p , .word-wrap:nth-child(1) p\""
   ]
  },
  {
   "cell_type": "code",
   "execution_count": 25,
   "metadata": {},
   "outputs": [
    {
     "data": {
      "text/plain": [
       "'.sm\\\\:pb-32'"
      ]
     },
     "execution_count": 25,
     "metadata": {},
     "output_type": "execute_result"
    }
   ],
   "source": [
    "\".sm\\:pb-32\""
   ]
  },
  {
   "cell_type": "code",
   "execution_count": 59,
   "metadata": {},
   "outputs": [
    {
     "name": "stdout",
     "output_type": "stream",
     "text": [
      "britische Regierung MISC\n",
      "Brüssel LOC\n",
      "EU ORG\n",
      "EU ORG\n",
      "Großbritannien LOC\n",
      "Theresa May PER\n",
      "Brüsseler LOC\n",
      "Der Fraktionschef der Europäischen Volkspartei MISC\n",
      "Manfred Weber PER\n",
      "ARD ORG\n",
      "Brüssel LOC\n",
      "EU Länder ORG\n",
      "Optimismus PER\n",
      "Sondergipfel PER\n",
      "Die Premierministerin MISC\n",
      "Mittwoch Uhr Ortszeit MISC\n",
      "Brüssel LOC\n",
      "EU Sondergipfel ORG\n",
      "May PER\n",
      "Hause ORG\n",
      "Brüssel LOC\n",
      "EU ORG\n",
      "London LOC\n",
      "Brüssel LOC\n",
      "Downing Street LOC\n",
      "May LOC\n",
      "London LOC\n",
      "EU ORG\n",
      "EU Länder ORG\n",
      "Icon LOC\n",
      "Michael Gove Foto PER\n",
      "Downing Street Alles LOC\n",
      "London LOC\n",
      "May LOC\n",
      "Brüsseler LOC\n",
      "Downing Street LOC\n",
      "Sajid Javid PER\n",
      "Jeremy Hunt PER\n",
      "Michael Gove Allen PER\n",
      "Londoner MISC\n",
      "EU ORG\n",
      "Irland LOC\n",
      "London LOC\n",
      "Brüssel LOC\n",
      "Vereinigte Königreich LOC\n",
      "EU ORG\n",
      "Nordirland ORG\n",
      "Backstop Sprachlich MISC\n",
      "EU May ORG\n",
      "EU ORG\n",
      "Nordirland ORG\n",
      "Die Abstimmung MISC\n",
      "britischen MISC\n",
      "London LOC\n",
      "Brüssel LOC\n",
      "Brexiteers PER\n",
      "Europäische Gerichtshof ORG\n",
      "EU Länder ORG\n",
      "Vereinigte Königreich LOC\n",
      "EU ORG\n",
      "EU Sondergipfel ORG\n",
      "May LOC\n",
      "May PER\n",
      "britischen MISC\n",
      "DUP MISC\n",
      "Nordirland ORG\n",
      "Königreichs LOC\n",
      "May LOC\n",
      "Sture EU ORG\n",
      "Prinzip MISC\n",
      "EU ORG\n",
      "EU ORG\n",
      "Steve Baker PER\n",
      "SPIEGEL ORG\n",
      "Die Premierministerin MISC\n",
      "Der Spiegel ORG\n"
     ]
    }
   ],
   "source": [
    "#import httplib2\n",
    "import json\n",
    "from readability.readability import Document\n",
    "import urllib\n",
    "import re\n",
    "import requests\n",
    "from nltk.tokenize import word_tokenize\n",
    "\n",
    "html = requests.get(\"https://www.spiegel.de/politik/ausland/brexit-das-endspiel-hat-begonnen-a-1238299.html\").text\n",
    "readable_article = Document(html).summary()\n",
    "readable_title = Document(html).short_title()\n",
    "text = re.sub('<[^<]+?>', '', readable_article)\n",
    "text = str(text)\n",
    "text = text.replace(\"-\",\" \")\n",
    "\n",
    "words = word_tokenize(text)\n",
    "words=[word for word in words if word.isalpha()]\n",
    "text_clean = (\" \").join(words)\n",
    "doc = nlp(text_clean)\n",
    "for ent in doc.ents:\n",
    "    print(ent.text, ent.label_)"
   ]
  },
  {
   "cell_type": "code",
   "execution_count": 55,
   "metadata": {},
   "outputs": [
    {
     "data": {
      "text/plain": [
       "'Brexit Verhandlungen'"
      ]
     },
     "execution_count": 55,
     "metadata": {},
     "output_type": "execute_result"
    }
   ],
   "source": [
    "#text\n",
    "\"Brexit-Verhandlungen\".replace(\"-\",\" \")"
   ]
  },
  {
   "cell_type": "code",
   "execution_count": 56,
   "metadata": {},
   "outputs": [
    {
     "data": {
      "text/plain": [
       "'Bei den Brexit Verhandlungen ist offenbar ein entscheidendes Zwischenziel erreicht worden Nachdem die britische Regierung am Dienstag verkündete es gebe eine Einigung mit Brüssel mehrten sich auch in der EU Hauptstadt die Anzeichen dass die Unterhändler von EU und Großbritannien auf technischer Ebene ein belastbares Papier erarbeitet haben Am Mittwoch will die Premierministerin Theresa May nun ihr Kabinett auf die Brüsseler Übereinkunft einschwören Der Fraktionschef der Europäischen Volkspartei Manfred Weber sagte in den ARD Tagesthemen es gebe positive Signale dass es zu einer Einigung komme Ja der weiße Rauch steigt auf Eine offizielle Bestätigung für einen Deal gab es von den Unterhändlern aus Brüssel zunächst nicht Allerdings wollen die Botschafter der restlichen EU Länder am Mittwoch über einen Zeitplan bis zu einem möglichen Sondergipfel am Ende des Monats beraten ein Vorhaben das sinnlos wäre wenn es keinen Grund für vorsichtigen Optimismus gäbe Mittwoch Gespräche im Kabinett bei Erfolg Sondergipfel am November Zuletzt waren die Gespräche bis tief in die Nacht im sogenannten Tunnel geführt worden unter maximaler Geheimhaltung und mit der gegenseitigen Zusicherung dass nichts davon vorzeitig nach außen dringt Dann am frühen Dienstagabend bestätigte ein Sprecher Mays dass tatsächlich ein Vertragsentwurf vorliege Die Premierministerin habe ihr Kabinett für Mittwoch Uhr Ortszeit zu einer außerordentlichen Sitzung einbestellt Ihr Ziel ist möglichst noch am Mittwoch verkünden zu können dass ihre Regierung weitgehend geschlossen hinter der mit Brüssel getroffenen Vereinbarung steht Danach würde umgehend ein EU Sondergipfel vermutlich für den November einberufen Wird May das Ergebnis der Unterhändler diesmal zu Hause durchsetzen In Brüssel ist man hingegen vorsichtig mit dem Wort Einigung Es gebe einen Text auf den sich die Unterhändler geeinigt hätten politisch sei der aber noch nicht abgesegnet sagen mit der Angelegenheit vertraute EU Diplomaten Nun liege der Ball mal wieder in London Eine ähnliche Situation hatte es bereits vor rund vier Wochen gegeben als die Unterhändler in Brüssel ebenfalls weit gekommen waren Downing Street aber in letzter Sekunde den Stecker zog weil May das Ergebnis in London nicht durchsetzen bereitet auch die EU nun die Grundlagen für einen Sondergipfel vor auf dem May für das Publikum auf der Insel ausreichend Verhandlungsdramatik inszenieren könnte Die Sitzung der Botschafter der verbleibenden EU Länder am Mittwochnachmittag wurde um den Tagesordnungspunkt State of Play erweitert es geht also um den Stand der Brexit Verhandlungen Ursprünglich wollte man lediglich über die Vorbereitungen für den Fall beraten dass es zu keiner Einigung kommt Geht die Besprechung positiv aus könnte bereits Anfang kommender Woche ein sogenannter Allgemeiner Rat der Europaminister einberufen werden der den Sondergipfel der Staats und Regierungschefs vorbereitet Noch sind diese Planungen im Konjunktiv Icon vergrößern Umweltminister Michael Gove Foto HENRY REUTERS Seiten Lektüre der Minister in Downing Street Alles hängt nun von den Signalen aus London ab Ob es May gelingt ihr Kabinett hinter dem Brüsseler Papier zu versammeln ist offen Sämtliche Minister wurden am Dienstag nacheinander in Downing Street einbestellt um den etwa Seiten umfassenden Vertragsentwurf studieren zu können Darunter auch jene politischen Schwergewichte von deren Urteil das weitere Schicksal des Brexits und Mays abhängt allen voran Innenminister Sajid Javid Außenminister Jeremy Hunt und Umweltminister Michael Gove Allen drei werden Ambitionen nachgesagt May eher früher als später auf dem Londoner Chefsessel abzulösen Die Kernfrage um die sich alles dreht ist ob es May gelungen ist der EU ein weiteres entscheidendes Zugeständnis im Problemfall Irland abzuringen Um nach dem Brexit sichtbare Waren und Zollkontrollen an der irisch nordirischen Grenze zu verhindern hatten sich London und Brüssel schon vor Wochen darauf geeinigt dass das Vereinigte Königreich bis zum Abschluss eines Freihandelsvertrags in der Zollunion mit der EU verbleiben May diente dies auch dazu eine Sonderregel für Nordirland zu verschleiern den sogenannten Backstop Sprachlich ist die EU May dabei offenbar weit entgegengekommen in der Sache aber weniger Die EU besteht weiter auf diese Notfallregel nach der Nordirland in Zollunion im Binnenmarkt bleiben soll und die dann in Kraft treten soll wenn bei den Verhandlungen über die künftigen Beziehungen keine bessere Lösung gefunden werden kann Entscheidende Feuerprobe Die Abstimmung im britischen Parlament London drängte jedoch stets darauf dass es diese Auffangregeln einseitig beenden kann Brüssel bestand umgekehrt darauf dass dies nur mit seiner Zustimmung geschehen könne und dass das letzte Wort der bei Brexiteers so verhasste Europäische Gerichtshof haben müsse Am Ende zäher Verhandlungen waren dies die letzten verbliebenen Streitpunkte Mehrere EU Länder zeigten sich bei den vergangenen Botschaftertreffen auch besorgt darüber dass sich das Vereinigte Königreich in einer Zollunion Sonderrechte herausnehmen und EU Standards etwa beim Umweltschutz oder der Sozialpolitik unterbieten könnte Dazu kommt Selbst wenn es May mit der nun getroffenen Vereinbarung gelingen sollte ihr Kabinett ohne weitere nennenswerte Rücktritte hinter sich zu vereinen und selbst wenn ein EU Sondergipfel Ende November den Deal absegnen sollte steht die entscheidende Feuerprobe noch aus May hat keine Chance irgendetwas durchs Parlament zu bekommen Voraussichtlich Mitte Dezember würde May die Vereinbarung dem britischen Parlament zur Abstimmung vorlegen müssen Stimmen wird sie dort brauchen Ihre eigene Partei kommt jedoch nur auf Abgeordnete die Premierministerin ist daher auf zehn Stimmen der ultranationalistischen nordirischen DUP angewiesen Diese hat bereits erkennen lassen dass sie keinem Deal zustimmen wird der Nordirland nach dem Brexit einen Sonderstatus innerhalb des Königreichs zuweise Zudem wird May in ihrer eigenen Partei von beiden Seiten massiv unter Druck gesetzt Sture EU Feinde lehnen im Prinzip jeden Kompromiss mit der EU ab passionierte EU Freunde hoffen den Brexit noch komplett verhindern zu können Dass ausreichend viele Abgeordnete der Opposition May notfalls zur Seite springen könnten gilt als wenig wahrscheinlich Am Dienstag gab sich einer der erbittertsten Brexit Ultras der konservative Ex Staatsminister Steve Baker denn auch siegesgewiss Dem SPIEGEL sagte er Die Premierministerin hat keine Chance irgendetwas durchs Parlament zu bekommen Icon Der Spiegel'"
      ]
     },
     "execution_count": 56,
     "metadata": {},
     "output_type": "execute_result"
    }
   ],
   "source": []
  },
  {
   "cell_type": "code",
   "execution_count": 57,
   "metadata": {},
   "outputs": [
    {
     "name": "stdout",
     "output_type": "stream",
     "text": [
      "britische Regierung MISC\n",
      "Brüssel LOC\n",
      "EU ORG\n",
      "EU ORG\n",
      "Großbritannien LOC\n",
      "Theresa May PER\n",
      "Brüsseler LOC\n",
      "Der Fraktionschef der Europäischen Volkspartei MISC\n",
      "Manfred Weber PER\n",
      "ARD ORG\n",
      "Brüssel LOC\n",
      "EU Länder ORG\n",
      "Optimismus PER\n",
      "Sondergipfel PER\n",
      "Die Premierministerin MISC\n",
      "Mittwoch Uhr Ortszeit MISC\n",
      "Brüssel LOC\n",
      "EU Sondergipfel ORG\n",
      "May PER\n",
      "Hause ORG\n",
      "Brüssel LOC\n",
      "EU ORG\n",
      "London LOC\n",
      "Brüssel LOC\n",
      "Downing Street LOC\n",
      "May LOC\n",
      "London LOC\n",
      "EU ORG\n",
      "EU Länder ORG\n",
      "Icon LOC\n",
      "Michael Gove Foto PER\n",
      "Downing Street Alles LOC\n",
      "London LOC\n",
      "May LOC\n",
      "Brüsseler LOC\n",
      "Downing Street LOC\n",
      "Sajid Javid PER\n",
      "Jeremy Hunt PER\n",
      "Michael Gove Allen PER\n",
      "Londoner MISC\n",
      "EU ORG\n",
      "Irland LOC\n",
      "London LOC\n",
      "Brüssel LOC\n",
      "Vereinigte Königreich LOC\n",
      "EU ORG\n",
      "Nordirland ORG\n",
      "Backstop Sprachlich MISC\n",
      "EU May ORG\n",
      "EU ORG\n",
      "Nordirland ORG\n",
      "Die Abstimmung MISC\n",
      "britischen MISC\n",
      "London LOC\n",
      "Brüssel LOC\n",
      "Brexiteers PER\n",
      "Europäische Gerichtshof ORG\n",
      "EU Länder ORG\n",
      "Vereinigte Königreich LOC\n",
      "EU ORG\n",
      "EU Sondergipfel ORG\n",
      "May LOC\n",
      "May PER\n",
      "britischen MISC\n",
      "DUP MISC\n",
      "Nordirland ORG\n",
      "Königreichs LOC\n",
      "May LOC\n",
      "Sture EU ORG\n",
      "Prinzip MISC\n",
      "EU ORG\n",
      "EU ORG\n",
      "Steve Baker PER\n",
      "SPIEGEL ORG\n",
      "Die Premierministerin MISC\n",
      "Der Spiegel ORG\n"
     ]
    }
   ],
   "source": []
  },
  {
   "cell_type": "code",
   "execution_count": 58,
   "metadata": {},
   "outputs": [],
   "source": [
    "#doc.ents"
   ]
  },
  {
   "cell_type": "code",
   "execution_count": null,
   "metadata": {},
   "outputs": [],
   "source": []
  }
 ],
 "metadata": {
  "kernelspec": {
   "display_name": "Python 3",
   "language": "python",
   "name": "python3"
  },
  "language_info": {
   "codemirror_mode": {
    "name": "ipython",
    "version": 3
   },
   "file_extension": ".py",
   "mimetype": "text/x-python",
   "name": "python",
   "nbconvert_exporter": "python",
   "pygments_lexer": "ipython3",
   "version": "3.8.6"
  }
 },
 "nbformat": 4,
 "nbformat_minor": 2
}
