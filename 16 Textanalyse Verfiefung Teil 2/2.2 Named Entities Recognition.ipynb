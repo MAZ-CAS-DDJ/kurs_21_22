{
 "cells": [
  {
   "cell_type": "markdown",
   "metadata": {},
   "source": [
    "# Named Entities Recognition with NLTK\n",
    "- Named entities sind Orte, Firmen, Organisationen, Länder, etc.. alles Eigennamen. \n",
    "- Oft sind diese Eigennamen relativ wichtig im Text. "
   ]
  },
  {
   "cell_type": "code",
   "execution_count": 1,
   "metadata": {},
   "outputs": [],
   "source": [
    "import nltk"
   ]
  },
  {
   "cell_type": "code",
   "execution_count": 2,
   "metadata": {},
   "outputs": [
    {
     "data": {
      "text/plain": [
       "[('John', 'NNP'),\n",
       " ('Smith', 'NNP'),\n",
       " ('is', 'VBZ'),\n",
       " ('from', 'IN'),\n",
       " ('the', 'DT'),\n",
       " ('United', 'NNP'),\n",
       " ('States', 'NNPS'),\n",
       " ('of', 'IN'),\n",
       " ('America', 'NNP'),\n",
       " ('and', 'CC'),\n",
       " ('works', 'VBZ'),\n",
       " ('at', 'IN'),\n",
       " ('Microsoft', 'NNP'),\n",
       " ('Research', 'NNP'),\n",
       " ('Labs', 'NNP')]"
      ]
     },
     "execution_count": 2,
     "metadata": {},
     "output_type": "execute_result"
    }
   ],
   "source": [
    "nltk.pos_tag(nltk.word_tokenize(\"John Smith is from the United States of America and works at Microsoft Research Labs\"))"
   ]
  },
  {
   "cell_type": "code",
   "execution_count": 3,
   "metadata": {},
   "outputs": [
    {
     "name": "stdout",
     "output_type": "stream",
     "text": [
      "(S\n",
      "  (PERSON John/NNP)\n",
      "  (PERSON Smith/NNP)\n",
      "  is/VBZ\n",
      "  from/IN\n",
      "  the/DT\n",
      "  (GPE United/NNP States/NNPS)\n",
      "  of/IN\n",
      "  (GPE America/NNP)\n",
      "  and/CC\n",
      "  works/VBZ\n",
      "  at/IN\n",
      "  (ORGANIZATION Microsoft/NNP Research/NNP Labs/NNP))\n"
     ]
    },
    {
     "name": "stderr",
     "output_type": "stream",
     "text": [
      "[nltk_data] Downloading package averaged_perceptron_tagger to\n",
      "[nltk_data]     /Users/plotti/nltk_data...\n",
      "[nltk_data]   Package averaged_perceptron_tagger is already up-to-\n",
      "[nltk_data]       date!\n",
      "[nltk_data] Downloading package maxent_ne_chunker to\n",
      "[nltk_data]     /Users/plotti/nltk_data...\n",
      "[nltk_data]   Package maxent_ne_chunker is already up-to-date!\n",
      "[nltk_data] Downloading package words to /Users/plotti/nltk_data...\n",
      "[nltk_data]   Package words is already up-to-date!\n"
     ]
    }
   ],
   "source": [
    "import nltk\n",
    "nltk.download('averaged_perceptron_tagger')\n",
    "nltk.download('maxent_ne_chunker')\n",
    "nltk.download('words')\n",
    "pos_tags = nltk.pos_tag(nltk.word_tokenize(\"John Smith is from the United States of America and works at Microsoft Research Labs\"))\n",
    "print(nltk.ne_chunk(pos_tags))"
   ]
  },
  {
   "cell_type": "code",
   "execution_count": 9,
   "metadata": {},
   "outputs": [],
   "source": [
    "result = nltk.ne_chunk(nltk.pos_tag(nltk.word_tokenize(\"Johan Meier kommt aus Deutschland und arbeitet bei der Forschungsabteilung von Microsoft\")))"
   ]
  },
  {
   "cell_type": "markdown",
   "metadata": {},
   "source": [
    "# Named Entities with spacy"
   ]
  },
  {
   "cell_type": "code",
   "execution_count": 22,
   "metadata": {},
   "outputs": [
    {
     "name": "stdout",
     "output_type": "stream",
     "text": [
      "entity type MISC : Brexit-Verhandlungen\n",
      "entity type MISC : britische\n",
      "entity type LOC : Brüssel\n",
      "entity type LOC : EU-Hauptstadt\n",
      "entity type ORG : EU\n",
      "entity type LOC : Großbritannien\n",
      "entity type PER : Theresa May\n",
      "entity type LOC : Brüsseler\n",
      "entity type ORG : Europäischen Volkspartei\n",
      "entity type PER : Manfred Weber\n",
      "entity type ORG : ARD-\"Tagesthemen\n",
      "entity type LOC : Brüssel\n",
      "entity type LOC : EU-Länder\n",
      "entity type PER : Optimismus\n",
      "entity type PER : Sondergipfel\n",
      "entity type MISC : Die Premierministerin\n",
      "entity type LOC : Brüssel\n",
      "entity type LOC : May\n",
      "entity type ORG : Hause\n",
      "entity type LOC : Brüssel\n",
      "entity type LOC : London\n",
      "entity type LOC : Brüssel\n",
      "entity type LOC : London\n",
      "entity type ORG : EU\n",
      "entity type ORG : EU-Länder\n",
      "entity type MISC : Brexit-Verhandlungen\n"
     ]
    }
   ],
   "source": [
    "import spacy\n",
    "nlp = spacy.load(\"de_core_news_sm\")\n",
    "\n",
    "doc = nlp(\"\"\"\n",
    "\n",
    "Bei den Brexit-Verhandlungen ist offenbar ein entscheidendes Zwischenziel erreicht worden. Nachdem die britische Regierung am Dienstag verkündete, es gebe eine Einigung mit Brüssel, mehrten sich auch in der EU-Hauptstadt die Anzeichen, dass die Unterhändler von EU und Großbritannien auf technischer Ebene ein belastbares Papier erarbeitet haben.\n",
    "\n",
    "Am Mittwoch will die Premierministerin Theresa May nun ihr Kabinett auf die Brüsseler Übereinkunft einschwören.\n",
    "\n",
    "Der Fraktionschef der Europäischen Volkspartei, Manfred Weber, sagte in den ARD-\"Tagesthemen\", es gebe \"positive Signale\", dass es zu einer Einigung komme: \"Ja, der weiße Rauch steigt auf.\" Eine offizielle Bestätigung für einen Deal gab es von den Unterhändlern aus Brüssel zunächst nicht. Allerdings wollen die Botschafter der 27 restlichen EU-Länder am Mittwoch über einen Zeitplan bis zu einem möglichen Sondergipfel am Ende des Monats beraten, ein Vorhaben, das sinnlos wäre, wenn es keinen Grund für vorsichtigen Optimismus gäbe.\n",
    "\n",
    "Mittwoch Gespräche im Kabinett, bei Erfolg: Sondergipfel am 25. November\n",
    "\n",
    "Zuletzt waren die Gespräche bis tief in die Nacht im sogenannten Tunnel geführt worden, unter maximaler Geheimhaltung und mit der gegenseitigen Zusicherung, dass nichts davon vorzeitig nach außen dringt. Dann, am frühen Dienstagabend, bestätigte ein Sprecher Mays, dass tatsächlich ein Vertragsentwurf vorliege.\n",
    "\n",
    "Die Premierministerin habe ihr Kabinett für Mittwoch, 14 Uhr Ortszeit, zu einer außerordentlichen Sitzung einbestellt. Ihr Ziel ist, möglichst noch am Mittwoch verkünden zu können, dass ihre Regierung weitgehend geschlossen hinter der mit Brüssel getroffenen Vereinbarung steht. Danach würde umgehend ein EU-Sondergipfel, vermutlich für den 25. November, einberufen.\n",
    "\n",
    "Wird May das Ergebnis der Unterhändler diesmal zu Hause durchsetzen?\n",
    "\n",
    "In Brüssel ist man hingegen vorsichtig mit dem Wort Einigung. Es gebe einen Text, auf den sich die Unterhändler geeinigt hätten, politisch sei der aber noch nicht abgesegnet, sagen mit der Angelegenheit vertraute EU-Diplomaten. Nun liege der Ball, mal wieder, in London. Eine ähnliche Situation hatte es bereits vor rund vier Wochen gegeben, als die Unterhändler in Brüssel ebenfalls weit gekommen waren, 10 Downing Street aber in letzter Sekunde den Stecker zog, weil May das Ergebnis in London nicht durchsetzen konnte.\n",
    "\n",
    "Trotzdem bereitet auch die EU nun die Grundlagen für einen Sondergipfel vor, auf dem May für das Publikum auf der Insel ausreichend Verhandlungsdramatik inszenieren könnte. Die Sitzung der Botschafter der 27 verbleibenden EU-Länder am Mittwochnachmittag wurde um den Tagesordnungspunkt \"State of Play\" erweitert, es geht also um den Stand der Brexit-Verhandlungen.\n",
    "\"\"\")\n",
    "\n",
    "locations = []\n",
    "for ent in doc.ents:\n",
    "    print(\"entity type %s : %s\" % (ent.label_,ent.text))\n",
    "    #if ent.label_ == \"LOC\":\n",
    "    #    print(ent.text, ent.label_)\n",
    "    #    locations.append(ent.text)"
   ]
  },
  {
   "cell_type": "code",
   "execution_count": 19,
   "metadata": {},
   "outputs": [
    {
     "data": {
      "text/plain": [
       "(Brexit-Verhandlungen,\n",
       " britische,\n",
       " Brüssel,\n",
       " EU-Hauptstadt,\n",
       " EU,\n",
       " Großbritannien,\n",
       " Theresa May,\n",
       " Brüsseler,\n",
       " Europäischen Volkspartei,\n",
       " Manfred Weber,\n",
       " ARD-\"Tagesthemen,\n",
       " Brüssel,\n",
       " EU-Länder,\n",
       " Optimismus,\n",
       " Sondergipfel,\n",
       " Die Premierministerin,\n",
       " Brüssel,\n",
       " May,\n",
       " Hause,\n",
       " Brüssel,\n",
       " London,\n",
       " Brüssel,\n",
       " London,\n",
       " EU,\n",
       " EU-Länder,\n",
       " Brexit-Verhandlungen)"
      ]
     },
     "execution_count": 19,
     "metadata": {},
     "output_type": "execute_result"
    }
   ],
   "source": [
    "doc.ents"
   ]
  },
  {
   "cell_type": "markdown",
   "metadata": {},
   "source": [
    "### Aufgabe\n",
    "Holt euch den text von http://www.spiegel.de/politik/ausland/brexit-das-endspiel-hat-begonnen-a-1238299.html mit dem readability tool und findet heraus welche named entities am häufigsten vorkommen.  Von welchen Ländern und Unternehmen wird vor allem gesprochen?"
   ]
  },
  {
   "cell_type": "code",
   "execution_count": 24,
   "metadata": {},
   "outputs": [
    {
     "name": "stdout",
     "output_type": "stream",
     "text": [
      "your PER\n"
     ]
    }
   ],
   "source": [
    "#import httplib2\n",
    "from nltk.tokenize import word_tokenize\n",
    "text = ''' your text here'''\n",
    "\n",
    "words = word_tokenize(text)\n",
    "words=[word for word in words if word.isalpha()]\n",
    "text_clean = (\" \").join(words)\n",
    "doc = nlp(text_clean)\n",
    "for ent in doc.ents:\n",
    "    print(ent.text, ent.label_)"
   ]
  },
  {
   "cell_type": "code",
   "execution_count": 58,
   "metadata": {},
   "outputs": [],
   "source": [
    "#doc.ents"
   ]
  }
 ],
 "metadata": {
  "kernelspec": {
   "display_name": "Python 3",
   "language": "python",
   "name": "python3"
  },
  "language_info": {
   "codemirror_mode": {
    "name": "ipython",
    "version": 3
   },
   "file_extension": ".py",
   "mimetype": "text/x-python",
   "name": "python",
   "nbconvert_exporter": "python",
   "pygments_lexer": "ipython3",
   "version": "3.8.6"
  }
 },
 "nbformat": 4,
 "nbformat_minor": 2
}
