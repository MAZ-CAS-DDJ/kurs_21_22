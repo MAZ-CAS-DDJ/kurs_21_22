{
 "cells": [
  {
   "cell_type": "code",
   "execution_count": 158,
   "metadata": {},
   "outputs": [],
   "source": [
    "import tabula\n",
    "import pandas as pd"
   ]
  },
  {
   "cell_type": "code",
   "execution_count": 218,
   "metadata": {},
   "outputs": [],
   "source": [
    "from selenium import webdriver\n",
    "from selenium.webdriver.common.keys import Keys\n",
    "from selenium.webdriver.common.by import By\n",
    "from selenium.webdriver.support.ui import Select\n",
    "import time\n",
    "import os\n",
    "from bs4 import BeautifulSoup\n",
    "from random import uniform"
   ]
  },
  {
   "cell_type": "code",
   "execution_count": 160,
   "metadata": {},
   "outputs": [],
   "source": [
    "%matplotlib notebook\n",
    "import matplotlib.pyplot as plt"
   ]
  },
  {
   "cell_type": "markdown",
   "metadata": {},
   "source": [
    "### Welcher Kanton hat am meisten Bäckereien?"
   ]
  },
  {
   "cell_type": "markdown",
   "metadata": {},
   "source": [
    "1. Wir definieren eine Variabel, bspw. \"Garage\", \"Bäckerei\", etc.\n",
    "2. Wir suchen bei Zefix.ch danach.\n",
    "3. Wir laden das PDF herunter und speichern es ab.\n",
    "4. Wir ziehen alle Elemtene aus der Liste.\n",
    "5. Wir reinigen die Daten.\n",
    "6. Bäckerein nach Kanton\n",
    "7. Wir vereinigen (mergen) die Daten mit Bevölkerungsdaten nach Kanton, allenfalls \"nur\" die deutschsprachigen Kantone."
   ]
  },
  {
   "cell_type": "markdown",
   "metadata": {},
   "source": [
    "1. Wir definieren eine Variabel"
   ]
  },
  {
   "cell_type": "code",
   "execution_count": 369,
   "metadata": {},
   "outputs": [],
   "source": [
    "elem = \"Bäckerei\""
   ]
  },
  {
   "cell_type": "markdown",
   "metadata": {},
   "source": [
    "2. Wir suchen Zefix danach ab."
   ]
  },
  {
   "cell_type": "code",
   "execution_count": 174,
   "metadata": {},
   "outputs": [],
   "source": [
    "#Wir starten den Browser auf\n",
    "driver = webdriver.Chrome(options=chromeOptions)"
   ]
  },
  {
   "cell_type": "code",
   "execution_count": 175,
   "metadata": {},
   "outputs": [],
   "source": [
    "#Und nun sagen wir dem Browser, welche Seite er besuchen sollte. \n",
    "driver.get('https://www.zefix.ch')"
   ]
  },
  {
   "cell_type": "code",
   "execution_count": 177,
   "metadata": {},
   "outputs": [],
   "source": [
    "#Wir benutzen den Webinspector\n",
    "search = driver.find_element_by_id('firm-name-fomfield')"
   ]
  },
  {
   "cell_type": "code",
   "execution_count": 178,
   "metadata": {},
   "outputs": [],
   "source": [
    "#Send search\n",
    "search.send_keys(elem)"
   ]
  },
  {
   "cell_type": "code",
   "execution_count": 179,
   "metadata": {},
   "outputs": [],
   "source": [
    "#Submit Search Button\n",
    "driver.find_element_by_id('submit-search-btn').click()"
   ]
  },
  {
   "cell_type": "code",
   "execution_count": 180,
   "metadata": {},
   "outputs": [],
   "source": [
    "#Wait\n",
    "time.sleep(1.5)"
   ]
  },
  {
   "cell_type": "markdown",
   "metadata": {},
   "source": [
    "3. Wir laden das PDF herunter und speichern es ab"
   ]
  },
  {
   "cell_type": "code",
   "execution_count": 181,
   "metadata": {},
   "outputs": [],
   "source": [
    "#Press print button\n",
    "print_button = driver.find_element_by_class_name('print-button')"
   ]
  },
  {
   "cell_type": "code",
   "execution_count": 182,
   "metadata": {},
   "outputs": [],
   "source": [
    "print_button.click()"
   ]
  },
  {
   "cell_type": "code",
   "execution_count": null,
   "metadata": {},
   "outputs": [],
   "source": [
    "#Nun von Hand herunterladen"
   ]
  },
  {
   "cell_type": "markdown",
   "metadata": {},
   "source": [
    "4. Ziehen wir alle Elemente aus der Liste"
   ]
  },
  {
   "cell_type": "code",
   "execution_count": 345,
   "metadata": {},
   "outputs": [
    {
     "data": {
      "text/html": [
       "<div>\n",
       "<style scoped>\n",
       "    .dataframe tbody tr th:only-of-type {\n",
       "        vertical-align: middle;\n",
       "    }\n",
       "\n",
       "    .dataframe tbody tr th {\n",
       "        vertical-align: top;\n",
       "    }\n",
       "\n",
       "    .dataframe thead th {\n",
       "        text-align: right;\n",
       "    }\n",
       "</style>\n",
       "<table border=\"1\" class=\"dataframe\">\n",
       "  <thead>\n",
       "    <tr style=\"text-align: right;\">\n",
       "      <th></th>\n",
       "      <th>Zahl</th>\n",
       "      <th>Bäckerei</th>\n",
       "      <th>Firmenart</th>\n",
       "      <th>Sitz</th>\n",
       "      <th>CHE</th>\n",
       "      <th>UID</th>\n",
       "    </tr>\n",
       "  </thead>\n",
       "  <tbody>\n",
       "    <tr>\n",
       "      <th>0</th>\n",
       "      <td>2</td>\n",
       "      <td>Bäckerei Abderhalden AG Wattwil</td>\n",
       "      <td>Ltd</td>\n",
       "      <td>Wattwil</td>\n",
       "      <td>SG</td>\n",
       "      <td>CHE-107.254.772</td>\n",
       "    </tr>\n",
       "    <tr>\n",
       "      <th>1</th>\n",
       "      <td>3</td>\n",
       "      <td>Bäckerei Aebersold GmbH</td>\n",
       "      <td>LLC</td>\n",
       "      <td>Murten</td>\n",
       "      <td>FR</td>\n",
       "      <td>CHE-100.206.039</td>\n",
       "    </tr>\n",
       "    <tr>\n",
       "      <th>2</th>\n",
       "      <td>4</td>\n",
       "      <td>Bäckerei A. Gubser</td>\n",
       "      <td>SP</td>\n",
       "      <td>Zollikon</td>\n",
       "      <td>ZH</td>\n",
       "      <td>CHE-337.549.457</td>\n",
       "    </tr>\n",
       "    <tr>\n",
       "      <th>3</th>\n",
       "      <td>5</td>\n",
       "      <td>Bäckerei Allenspach GmbH</td>\n",
       "      <td>LLC</td>\n",
       "      <td>Fischingen</td>\n",
       "      <td>TG</td>\n",
       "      <td>CHE-265.077.575</td>\n",
       "    </tr>\n",
       "    <tr>\n",
       "      <th>4</th>\n",
       "      <td>6</td>\n",
       "      <td>Bäckerei alpascha GmbH</td>\n",
       "      <td>LLC</td>\n",
       "      <td>Münchenstein</td>\n",
       "      <td>BL</td>\n",
       "      <td>CHE-198.680.660</td>\n",
       "    </tr>\n",
       "  </tbody>\n",
       "</table>\n",
       "</div>"
      ],
      "text/plain": [
       "   Zahl                         Bäckerei Firmenart          Sitz CHE  \\\n",
       "0     2  Bäckerei Abderhalden AG Wattwil       Ltd       Wattwil  SG   \n",
       "1     3          Bäckerei Aebersold GmbH       LLC        Murten  FR   \n",
       "2     4               Bäckerei A. Gubser        SP      Zollikon  ZH   \n",
       "3     5         Bäckerei Allenspach GmbH       LLC    Fischingen  TG   \n",
       "4     6           Bäckerei alpascha GmbH       LLC  Münchenstein  BL   \n",
       "\n",
       "               UID  \n",
       "0  CHE-107.254.772  \n",
       "1  CHE-100.206.039  \n",
       "2  CHE-337.549.457  \n",
       "3  CHE-265.077.575  \n",
       "4  CHE-198.680.660  "
      ]
     },
     "execution_count": 345,
     "metadata": {},
     "output_type": "execute_result"
    }
   ],
   "source": [
    "tables1 = tabula.read_pdf('20201102-bäckerei.pdf', stream=True, pages = 1)\n",
    "headers = ['Zahl', 'Bäckerei', 'Firmenart', 'Sitz', 'CHE', 'UID']\n",
    "tables1[0].columns = headers\n",
    "tables1[0].head()"
   ]
  },
  {
   "cell_type": "code",
   "execution_count": 347,
   "metadata": {},
   "outputs": [
    {
     "data": {
      "text/html": [
       "<div>\n",
       "<style scoped>\n",
       "    .dataframe tbody tr th:only-of-type {\n",
       "        vertical-align: middle;\n",
       "    }\n",
       "\n",
       "    .dataframe tbody tr th {\n",
       "        vertical-align: top;\n",
       "    }\n",
       "\n",
       "    .dataframe thead th {\n",
       "        text-align: right;\n",
       "    }\n",
       "</style>\n",
       "<table border=\"1\" class=\"dataframe\">\n",
       "  <thead>\n",
       "    <tr style=\"text-align: right;\">\n",
       "      <th></th>\n",
       "      <th>Zahl</th>\n",
       "      <th>Bäckerei</th>\n",
       "      <th>CHE</th>\n",
       "      <th>UID</th>\n",
       "      <th>Firmenart</th>\n",
       "      <th>Sitz</th>\n",
       "    </tr>\n",
       "  </thead>\n",
       "  <tbody>\n",
       "    <tr>\n",
       "      <th>0</th>\n",
       "      <td>NaN</td>\n",
       "      <td>MOSER</td>\n",
       "      <td>NaN</td>\n",
       "      <td>NaN</td>\n",
       "      <td>NaN</td>\n",
       "      <td>NaN</td>\n",
       "    </tr>\n",
       "    <tr>\n",
       "      <th>1</th>\n",
       "      <td>42.0</td>\n",
       "      <td>Bäckerei Confiserie Bucher AG</td>\n",
       "      <td>LU</td>\n",
       "      <td>CHE-115.564.068</td>\n",
       "      <td>Ltd</td>\n",
       "      <td>Emmen</td>\n",
       "    </tr>\n",
       "    <tr>\n",
       "      <th>2</th>\n",
       "      <td>43.0</td>\n",
       "      <td>Bäckerei-Confiserie-Café Brioche KLG</td>\n",
       "      <td>BE</td>\n",
       "      <td>CHE-243.694.340</td>\n",
       "      <td>GP</td>\n",
       "      <td>Kirchberg(BE)</td>\n",
       "    </tr>\n",
       "    <tr>\n",
       "      <th>3</th>\n",
       "      <td>44.0</td>\n",
       "      <td>Bäckerei-Confiserie-Café Kuhnen GmbH</td>\n",
       "      <td>BE</td>\n",
       "      <td>CHE-107.208.476</td>\n",
       "      <td>LLC</td>\n",
       "      <td>Lenk</td>\n",
       "    </tr>\n",
       "    <tr>\n",
       "      <th>4</th>\n",
       "      <td>45.0</td>\n",
       "      <td>Bäckerei Confiserie Galli AG</td>\n",
       "      <td>BE</td>\n",
       "      <td>CHE-114.972.619</td>\n",
       "      <td>Ltd</td>\n",
       "      <td>Steffisburg</td>\n",
       "    </tr>\n",
       "  </tbody>\n",
       "</table>\n",
       "</div>"
      ],
      "text/plain": [
       "   Zahl                              Bäckerei  CHE              UID Firmenart  \\\n",
       "0   NaN                                 MOSER  NaN              NaN       NaN   \n",
       "1  42.0         Bäckerei Confiserie Bucher AG   LU  CHE-115.564.068       Ltd   \n",
       "2  43.0  Bäckerei-Confiserie-Café Brioche KLG   BE  CHE-243.694.340        GP   \n",
       "3  44.0  Bäckerei-Confiserie-Café Kuhnen GmbH   BE  CHE-107.208.476       LLC   \n",
       "4  45.0          Bäckerei Confiserie Galli AG   BE  CHE-114.972.619       Ltd   \n",
       "\n",
       "            Sitz  \n",
       "0            NaN  \n",
       "1          Emmen  \n",
       "2  Kirchberg(BE)  \n",
       "3           Lenk  \n",
       "4    Steffisburg  "
      ]
     },
     "execution_count": 347,
     "metadata": {},
     "output_type": "execute_result"
    }
   ],
   "source": [
    "tables2 = tabula.read_pdf('20201102-bäckerei.pdf', stream=True, pages = 2)\n",
    "del tables2[0]['Unnamed: 0']\n",
    "headers = ['Zahl', 'Bäckerei', 'Firmenart/Sitz', 'CHE/UID']\n",
    "tables2[0].columns = headers\n",
    "tables2[0]['CHE'] = tables2[0]['CHE/UID'].str.split(expand=True)[0]\n",
    "tables2[0]['UID'] = tables2[0]['CHE/UID'].str.split(expand=True)[1]\n",
    "del tables2[0]['CHE/UID']\n",
    "tables2[0]['Firmenart'] = tables2[0]['Firmenart/Sitz'].str.split(expand=True)[0]\n",
    "tables2[0]['Sitz'] =  tables2[0]['Firmenart/Sitz'].str.split(expand=True)[1] + tables2[0]['Firmenart/Sitz'].str.split(expand=True)[2].fillna(value=\"\")\n",
    "del tables2[0]['Firmenart/Sitz']\n",
    "tables2[0].head()"
   ]
  },
  {
   "cell_type": "code",
   "execution_count": 352,
   "metadata": {},
   "outputs": [
    {
     "data": {
      "text/html": [
       "<div>\n",
       "<style scoped>\n",
       "    .dataframe tbody tr th:only-of-type {\n",
       "        vertical-align: middle;\n",
       "    }\n",
       "\n",
       "    .dataframe tbody tr th {\n",
       "        vertical-align: top;\n",
       "    }\n",
       "\n",
       "    .dataframe thead th {\n",
       "        text-align: right;\n",
       "    }\n",
       "</style>\n",
       "<table border=\"1\" class=\"dataframe\">\n",
       "  <thead>\n",
       "    <tr style=\"text-align: right;\">\n",
       "      <th></th>\n",
       "      <th>Bäckerei</th>\n",
       "      <th>Firmenart</th>\n",
       "      <th>Sitz</th>\n",
       "      <th>CHE</th>\n",
       "      <th>UID</th>\n",
       "      <th>Zahl</th>\n",
       "    </tr>\n",
       "  </thead>\n",
       "  <tbody>\n",
       "    <tr>\n",
       "      <th>0</th>\n",
       "      <td>96 Bäckerei-Konditorei Alt</td>\n",
       "      <td>SP</td>\n",
       "      <td>Endingen</td>\n",
       "      <td>AG</td>\n",
       "      <td>CHE-105.776.284</td>\n",
       "      <td>96</td>\n",
       "    </tr>\n",
       "    <tr>\n",
       "      <th>1</th>\n",
       "      <td>97 Bäckerei-Konditorei A. Zuber AG</td>\n",
       "      <td>Ltd</td>\n",
       "      <td>Stalden (VS)</td>\n",
       "      <td>VS</td>\n",
       "      <td>CHE-332.997.417</td>\n",
       "      <td>97</td>\n",
       "    </tr>\n",
       "    <tr>\n",
       "      <th>2</th>\n",
       "      <td>98 Bäckerei Konditorei Bachmann GmbH</td>\n",
       "      <td>LLC</td>\n",
       "      <td>Rheineck</td>\n",
       "      <td>SG</td>\n",
       "      <td>CHE-391.154.650</td>\n",
       "      <td>98</td>\n",
       "    </tr>\n",
       "    <tr>\n",
       "      <th>3</th>\n",
       "      <td>99 Bäckerei-Konditorei Beck Beck, Inh. H. Gmür</td>\n",
       "      <td>SP</td>\n",
       "      <td>St. Gallen</td>\n",
       "      <td>SG</td>\n",
       "      <td>CHE-106.057.387</td>\n",
       "      <td>99</td>\n",
       "    </tr>\n",
       "    <tr>\n",
       "      <th>4</th>\n",
       "      <td>100 Bäckerei-Konditorei Bieri Alfred</td>\n",
       "      <td>SP</td>\n",
       "      <td>Erlenbach im Simmental</td>\n",
       "      <td>BE</td>\n",
       "      <td>CHE-105.986.692</td>\n",
       "      <td>100</td>\n",
       "    </tr>\n",
       "  </tbody>\n",
       "</table>\n",
       "</div>"
      ],
      "text/plain": [
       "                                         Bäckerei Firmenart  \\\n",
       "0                      96 Bäckerei-Konditorei Alt        SP   \n",
       "1              97 Bäckerei-Konditorei A. Zuber AG       Ltd   \n",
       "2            98 Bäckerei Konditorei Bachmann GmbH       LLC   \n",
       "3  99 Bäckerei-Konditorei Beck Beck, Inh. H. Gmür        SP   \n",
       "4            100 Bäckerei-Konditorei Bieri Alfred        SP   \n",
       "\n",
       "                     Sitz CHE              UID Zahl  \n",
       "0                Endingen  AG  CHE-105.776.284   96  \n",
       "1            Stalden (VS)  VS  CHE-332.997.417   97  \n",
       "2                Rheineck  SG  CHE-391.154.650   98  \n",
       "3              St. Gallen  SG  CHE-106.057.387   99  \n",
       "4  Erlenbach im Simmental  BE  CHE-105.986.692  100  "
      ]
     },
     "execution_count": 352,
     "metadata": {},
     "output_type": "execute_result"
    }
   ],
   "source": [
    "tables3 = tabula.read_pdf('20201102-bäckerei.pdf', stream=True, pages = 3)\n",
    "del tables3[0]['Unnamed: 0']\n",
    "headers = ['Bäckerei', 'Firmenart', 'Sitz', 'CHE', 'UID']\n",
    "tables3[0].columns = headers\n",
    "tables3[0]['Zahl'] = tables3[0]['Bäckerei'].str.split(expand=True)[0]\n",
    "tables3[0].head()"
   ]
  },
  {
   "cell_type": "code",
   "execution_count": 354,
   "metadata": {},
   "outputs": [
    {
     "data": {
      "text/html": [
       "<div>\n",
       "<style scoped>\n",
       "    .dataframe tbody tr th:only-of-type {\n",
       "        vertical-align: middle;\n",
       "    }\n",
       "\n",
       "    .dataframe tbody tr th {\n",
       "        vertical-align: top;\n",
       "    }\n",
       "\n",
       "    .dataframe thead th {\n",
       "        text-align: right;\n",
       "    }\n",
       "</style>\n",
       "<table border=\"1\" class=\"dataframe\">\n",
       "  <thead>\n",
       "    <tr style=\"text-align: right;\">\n",
       "      <th></th>\n",
       "      <th>Bäckerei</th>\n",
       "      <th>Firmenart</th>\n",
       "      <th>Sitz</th>\n",
       "      <th>CHE</th>\n",
       "      <th>UID</th>\n",
       "      <th>Zahl</th>\n",
       "    </tr>\n",
       "  </thead>\n",
       "  <tbody>\n",
       "    <tr>\n",
       "      <th>0</th>\n",
       "      <td>151 Bäckerei, Konditorei Fahrni</td>\n",
       "      <td>SP</td>\n",
       "      <td>Dotzigen</td>\n",
       "      <td>BE</td>\n",
       "      <td>CHE-107.180.240</td>\n",
       "      <td>151</td>\n",
       "    </tr>\n",
       "    <tr>\n",
       "      <th>1</th>\n",
       "      <td>152 Bäckerei Konditorei Fahrni, Nachfolger Hei...</td>\n",
       "      <td>SP</td>\n",
       "      <td>Thun</td>\n",
       "      <td>BE</td>\n",
       "      <td>CHE-276.039.461</td>\n",
       "      <td>152</td>\n",
       "    </tr>\n",
       "    <tr>\n",
       "      <th>2</th>\n",
       "      <td>153 BÄCKEREI - KONDITOREI FÄSSLER</td>\n",
       "      <td>SP</td>\n",
       "      <td>Rüte</td>\n",
       "      <td>AI</td>\n",
       "      <td>CHE-115.132.898</td>\n",
       "      <td>153</td>\n",
       "    </tr>\n",
       "    <tr>\n",
       "      <th>3</th>\n",
       "      <td>154 Bäckerei-Konditorei Forrer</td>\n",
       "      <td>SP</td>\n",
       "      <td>Ebnat-Kappel</td>\n",
       "      <td>SG</td>\n",
       "      <td>CHE-107.972.666</td>\n",
       "      <td>154</td>\n",
       "    </tr>\n",
       "    <tr>\n",
       "      <th>4</th>\n",
       "      <td>155 Bäckerei-Konditorei Frei AG</td>\n",
       "      <td>Ltd</td>\n",
       "      <td>Obersiggenthal</td>\n",
       "      <td>AG</td>\n",
       "      <td>CHE-109.472.587</td>\n",
       "      <td>155</td>\n",
       "    </tr>\n",
       "  </tbody>\n",
       "</table>\n",
       "</div>"
      ],
      "text/plain": [
       "                                            Bäckerei Firmenart  \\\n",
       "0                    151 Bäckerei, Konditorei Fahrni        SP   \n",
       "1  152 Bäckerei Konditorei Fahrni, Nachfolger Hei...        SP   \n",
       "2                  153 BÄCKEREI - KONDITOREI FÄSSLER        SP   \n",
       "3                     154 Bäckerei-Konditorei Forrer        SP   \n",
       "4                    155 Bäckerei-Konditorei Frei AG       Ltd   \n",
       "\n",
       "             Sitz CHE              UID Zahl  \n",
       "0        Dotzigen  BE  CHE-107.180.240  151  \n",
       "1            Thun  BE  CHE-276.039.461  152  \n",
       "2            Rüte  AI  CHE-115.132.898  153  \n",
       "3    Ebnat-Kappel  SG  CHE-107.972.666  154  \n",
       "4  Obersiggenthal  AG  CHE-109.472.587  155  "
      ]
     },
     "execution_count": 354,
     "metadata": {},
     "output_type": "execute_result"
    }
   ],
   "source": [
    "tables4 = tabula.read_pdf('20201102-bäckerei.pdf', stream=True, pages = 4)\n",
    "headers = ['Bäckerei', 'Firmenart', 'Sitz', 'CHE', 'UID']\n",
    "tables4[0].columns = headers\n",
    "tables4[0]['Zahl'] = tables4[0]['Bäckerei'].str.split(expand=True)[0]\n",
    "tables4[0].head()\n",
    "tables4[0].head()"
   ]
  },
  {
   "cell_type": "code",
   "execution_count": 355,
   "metadata": {},
   "outputs": [
    {
     "data": {
      "text/html": [
       "<div>\n",
       "<style scoped>\n",
       "    .dataframe tbody tr th:only-of-type {\n",
       "        vertical-align: middle;\n",
       "    }\n",
       "\n",
       "    .dataframe tbody tr th {\n",
       "        vertical-align: top;\n",
       "    }\n",
       "\n",
       "    .dataframe thead th {\n",
       "        text-align: right;\n",
       "    }\n",
       "</style>\n",
       "<table border=\"1\" class=\"dataframe\">\n",
       "  <thead>\n",
       "    <tr style=\"text-align: right;\">\n",
       "      <th></th>\n",
       "      <th>Bäckerei</th>\n",
       "      <th>Firmenart</th>\n",
       "      <th>Sitz</th>\n",
       "      <th>CHE</th>\n",
       "      <th>UID</th>\n",
       "      <th>Zahl</th>\n",
       "    </tr>\n",
       "  </thead>\n",
       "  <tbody>\n",
       "    <tr>\n",
       "      <th>0</th>\n",
       "      <td>206 Bäckerei-Konditorei Markus Bartlome</td>\n",
       "      <td>SP</td>\n",
       "      <td>Hindelbank</td>\n",
       "      <td>BE</td>\n",
       "      <td>CHE-107.182.262</td>\n",
       "      <td>206</td>\n",
       "    </tr>\n",
       "    <tr>\n",
       "      <th>1</th>\n",
       "      <td>207 Bäckerei-Konditorei Markus Zimmermann</td>\n",
       "      <td>SP</td>\n",
       "      <td>Obergösgen</td>\n",
       "      <td>SO</td>\n",
       "      <td>CHE-106.933.439</td>\n",
       "      <td>207</td>\n",
       "    </tr>\n",
       "    <tr>\n",
       "      <th>2</th>\n",
       "      <td>208 Bäckerei-Konditorei Merz AG</td>\n",
       "      <td>Ltd</td>\n",
       "      <td>Luzern</td>\n",
       "      <td>LU</td>\n",
       "      <td>CHE-106.505.983</td>\n",
       "      <td>208</td>\n",
       "    </tr>\n",
       "    <tr>\n",
       "      <th>3</th>\n",
       "      <td>209 Bäckerei-Konditorei Meyer KlG</td>\n",
       "      <td>GP</td>\n",
       "      <td>Brügg</td>\n",
       "      <td>BE</td>\n",
       "      <td>CHE-453.139.911</td>\n",
       "      <td>209</td>\n",
       "    </tr>\n",
       "    <tr>\n",
       "      <th>4</th>\n",
       "      <td>210 Bäckerei-Konditorei Mischler</td>\n",
       "      <td>SP</td>\n",
       "      <td>Selzach</td>\n",
       "      <td>SO</td>\n",
       "      <td>CHE-109.834.874</td>\n",
       "      <td>210</td>\n",
       "    </tr>\n",
       "  </tbody>\n",
       "</table>\n",
       "</div>"
      ],
      "text/plain": [
       "                                    Bäckerei Firmenart        Sitz CHE  \\\n",
       "0    206 Bäckerei-Konditorei Markus Bartlome        SP  Hindelbank  BE   \n",
       "1  207 Bäckerei-Konditorei Markus Zimmermann        SP  Obergösgen  SO   \n",
       "2            208 Bäckerei-Konditorei Merz AG       Ltd      Luzern  LU   \n",
       "3          209 Bäckerei-Konditorei Meyer KlG        GP       Brügg  BE   \n",
       "4           210 Bäckerei-Konditorei Mischler        SP     Selzach  SO   \n",
       "\n",
       "               UID Zahl  \n",
       "0  CHE-107.182.262  206  \n",
       "1  CHE-106.933.439  207  \n",
       "2  CHE-106.505.983  208  \n",
       "3  CHE-453.139.911  209  \n",
       "4  CHE-109.834.874  210  "
      ]
     },
     "execution_count": 355,
     "metadata": {},
     "output_type": "execute_result"
    }
   ],
   "source": [
    "tables5 = tabula.read_pdf('20201102-bäckerei.pdf', stream=True, pages = 5)\n",
    "headers = ['Bäckerei', 'Firmenart', 'Sitz', 'CHE', 'UID']\n",
    "tables5[0].columns = headers\n",
    "tables5[0]['Zahl'] = tables5[0]['Bäckerei'].str.split(expand=True)[0]\n",
    "tables5[0].head()\n",
    "tables5[0].head()"
   ]
  },
  {
   "cell_type": "code",
   "execution_count": 357,
   "metadata": {},
   "outputs": [
    {
     "data": {
      "text/html": [
       "<div>\n",
       "<style scoped>\n",
       "    .dataframe tbody tr th:only-of-type {\n",
       "        vertical-align: middle;\n",
       "    }\n",
       "\n",
       "    .dataframe tbody tr th {\n",
       "        vertical-align: top;\n",
       "    }\n",
       "\n",
       "    .dataframe thead th {\n",
       "        text-align: right;\n",
       "    }\n",
       "</style>\n",
       "<table border=\"1\" class=\"dataframe\">\n",
       "  <thead>\n",
       "    <tr style=\"text-align: right;\">\n",
       "      <th></th>\n",
       "      <th>Bäckerei</th>\n",
       "      <th>Firmenart</th>\n",
       "      <th>Sitz</th>\n",
       "      <th>CHE</th>\n",
       "      <th>UID</th>\n",
       "      <th>Zahl</th>\n",
       "    </tr>\n",
       "  </thead>\n",
       "  <tbody>\n",
       "    <tr>\n",
       "      <th>0</th>\n",
       "      <td>260 Bäckerei - Konditorei Unternährer &amp; Co</td>\n",
       "      <td>GP</td>\n",
       "      <td>Kappel (SO)</td>\n",
       "      <td>SO</td>\n",
       "      <td>CHE-112.494.017</td>\n",
       "      <td>260</td>\n",
       "    </tr>\n",
       "    <tr>\n",
       "      <th>1</th>\n",
       "      <td>261 Bäckerei-Konditorei U. Schnidrig</td>\n",
       "      <td>SP</td>\n",
       "      <td>Kandergrund</td>\n",
       "      <td>BE</td>\n",
       "      <td>CHE-107.201.014</td>\n",
       "      <td>261</td>\n",
       "    </tr>\n",
       "    <tr>\n",
       "      <th>2</th>\n",
       "      <td>262 Bäckerei-Konditorei Vetterli</td>\n",
       "      <td>SP</td>\n",
       "      <td>Horgen</td>\n",
       "      <td>ZH</td>\n",
       "      <td>CHE-285.280.174</td>\n",
       "      <td>262</td>\n",
       "    </tr>\n",
       "    <tr>\n",
       "      <th>3</th>\n",
       "      <td>263 Bäckerei-Konditorei Vincenz AG</td>\n",
       "      <td>Ltd</td>\n",
       "      <td>Lauterbrunnen</td>\n",
       "      <td>BE</td>\n",
       "      <td>CHE-402.020.872</td>\n",
       "      <td>263</td>\n",
       "    </tr>\n",
       "    <tr>\n",
       "      <th>4</th>\n",
       "      <td>264 Bäckerei-Konditorei von Burg AG</td>\n",
       "      <td>Ltd</td>\n",
       "      <td>Küsnacht (ZH)</td>\n",
       "      <td>ZH</td>\n",
       "      <td>CHE-396.408.680</td>\n",
       "      <td>264</td>\n",
       "    </tr>\n",
       "  </tbody>\n",
       "</table>\n",
       "</div>"
      ],
      "text/plain": [
       "                                     Bäckerei Firmenart           Sitz CHE  \\\n",
       "0  260 Bäckerei - Konditorei Unternährer & Co        GP    Kappel (SO)  SO   \n",
       "1        261 Bäckerei-Konditorei U. Schnidrig        SP    Kandergrund  BE   \n",
       "2            262 Bäckerei-Konditorei Vetterli        SP         Horgen  ZH   \n",
       "3          263 Bäckerei-Konditorei Vincenz AG       Ltd  Lauterbrunnen  BE   \n",
       "4         264 Bäckerei-Konditorei von Burg AG       Ltd  Küsnacht (ZH)  ZH   \n",
       "\n",
       "               UID Zahl  \n",
       "0  CHE-112.494.017  260  \n",
       "1  CHE-107.201.014  261  \n",
       "2  CHE-285.280.174  262  \n",
       "3  CHE-402.020.872  263  \n",
       "4  CHE-396.408.680  264  "
      ]
     },
     "execution_count": 357,
     "metadata": {},
     "output_type": "execute_result"
    }
   ],
   "source": [
    "tables6 = tabula.read_pdf('20201102-bäckerei.pdf', stream=True, pages = 6)\n",
    "tables6[0].columns = headers\n",
    "tables6[0]['Zahl'] = tables6[0]['Bäckerei'].str.split(expand=True)[0]\n",
    "tables6[0].head()\n",
    "tables6[0].head()"
   ]
  },
  {
   "cell_type": "code",
   "execution_count": 358,
   "metadata": {},
   "outputs": [
    {
     "data": {
      "text/html": [
       "<div>\n",
       "<style scoped>\n",
       "    .dataframe tbody tr th:only-of-type {\n",
       "        vertical-align: middle;\n",
       "    }\n",
       "\n",
       "    .dataframe tbody tr th {\n",
       "        vertical-align: top;\n",
       "    }\n",
       "\n",
       "    .dataframe thead th {\n",
       "        text-align: right;\n",
       "    }\n",
       "</style>\n",
       "<table border=\"1\" class=\"dataframe\">\n",
       "  <thead>\n",
       "    <tr style=\"text-align: right;\">\n",
       "      <th></th>\n",
       "      <th>Bäckerei</th>\n",
       "      <th>Firmenart</th>\n",
       "      <th>Sitz</th>\n",
       "      <th>CHE</th>\n",
       "      <th>UID</th>\n",
       "      <th>Zahl</th>\n",
       "    </tr>\n",
       "  </thead>\n",
       "  <tbody>\n",
       "    <tr>\n",
       "      <th>0</th>\n",
       "      <td>315 Bäckerei Schwegler GmbH</td>\n",
       "      <td>LLC</td>\n",
       "      <td>Willisau</td>\n",
       "      <td>LU</td>\n",
       "      <td>CHE-107.804.537</td>\n",
       "      <td>315</td>\n",
       "    </tr>\n",
       "    <tr>\n",
       "      <th>1</th>\n",
       "      <td>316 Bäckerei Schwyter AG</td>\n",
       "      <td>Ltd</td>\n",
       "      <td>St. Gallen</td>\n",
       "      <td>SG</td>\n",
       "      <td>CHE-109.088.421</td>\n",
       "      <td>316</td>\n",
       "    </tr>\n",
       "    <tr>\n",
       "      <th>2</th>\n",
       "      <td>317 Bäckereiservice Hunkeler</td>\n",
       "      <td>SP</td>\n",
       "      <td>Niederwil (AG)</td>\n",
       "      <td>AG</td>\n",
       "      <td>CHE-110.602.224</td>\n",
       "      <td>317</td>\n",
       "    </tr>\n",
       "    <tr>\n",
       "      <th>3</th>\n",
       "      <td>318 Bäckerei Siegfried</td>\n",
       "      <td>SP</td>\n",
       "      <td>Zäziwil</td>\n",
       "      <td>BE</td>\n",
       "      <td>CHE-103.415.409</td>\n",
       "      <td>318</td>\n",
       "    </tr>\n",
       "    <tr>\n",
       "      <th>4</th>\n",
       "      <td>319 Bäckerei Speck</td>\n",
       "      <td>SP</td>\n",
       "      <td>Oberkulm</td>\n",
       "      <td>AG</td>\n",
       "      <td>CHE-113.973.800</td>\n",
       "      <td>319</td>\n",
       "    </tr>\n",
       "  </tbody>\n",
       "</table>\n",
       "</div>"
      ],
      "text/plain": [
       "                       Bäckerei Firmenart            Sitz CHE  \\\n",
       "0   315 Bäckerei Schwegler GmbH       LLC        Willisau  LU   \n",
       "1      316 Bäckerei Schwyter AG       Ltd      St. Gallen  SG   \n",
       "2  317 Bäckereiservice Hunkeler        SP  Niederwil (AG)  AG   \n",
       "3        318 Bäckerei Siegfried        SP         Zäziwil  BE   \n",
       "4            319 Bäckerei Speck        SP        Oberkulm  AG   \n",
       "\n",
       "               UID Zahl  \n",
       "0  CHE-107.804.537  315  \n",
       "1  CHE-109.088.421  316  \n",
       "2  CHE-110.602.224  317  \n",
       "3  CHE-103.415.409  318  \n",
       "4  CHE-113.973.800  319  "
      ]
     },
     "execution_count": 358,
     "metadata": {},
     "output_type": "execute_result"
    }
   ],
   "source": [
    "tables7 = tabula.read_pdf('20201102-bäckerei.pdf', stream=True, pages = 7)\n",
    "tables7[0].columns = headers\n",
    "tables7[0]['Zahl'] = tables7[0]['Bäckerei'].str.split(expand=True)[0]\n",
    "tables7[0].head()\n",
    "tables7[0].head()"
   ]
  },
  {
   "cell_type": "code",
   "execution_count": 366,
   "metadata": {},
   "outputs": [],
   "source": [
    "frames = [tables1[0], tables2[0], tables3[0], tables4[0], tables5[0], tables6[0], tables7[0]]\n",
    "df = pd.concat(frames)\n",
    "df = df.reset_index()\n",
    "del df['Zahl']\n",
    "del df['index']"
   ]
  },
  {
   "cell_type": "markdown",
   "metadata": {},
   "source": [
    "6. Bäckereien nach Kanton"
   ]
  },
  {
   "cell_type": "code",
   "execution_count": 368,
   "metadata": {},
   "outputs": [
    {
     "data": {
      "text/plain": [
       "BE    84\n",
       "SG    39\n",
       "AG    39\n",
       "ZH    35\n",
       "LU    30\n",
       "GR    15\n",
       "SO    14\n",
       "TG    12\n",
       "FR    12\n",
       "VS    11\n",
       "BS     9\n",
       "SZ     8\n",
       "BL     7\n",
       "AR     6\n",
       "ZG     4\n",
       "UR     3\n",
       "GL     2\n",
       "SH     2\n",
       "AI     1\n",
       "OW     1\n",
       "Name: CHE, dtype: int64"
      ]
     },
     "execution_count": 368,
     "metadata": {},
     "output_type": "execute_result"
    }
   ],
   "source": [
    "df['CHE'].value_counts()"
   ]
  },
  {
   "cell_type": "code",
   "execution_count": 373,
   "metadata": {},
   "outputs": [
    {
     "data": {
      "text/plain": [
       "Zürich         8\n",
       "Basel          8\n",
       "Luzern         5\n",
       "Bern           5\n",
       "Thun           5\n",
       "Köniz          5\n",
       "St. Gallen     4\n",
       "Schangnau      3\n",
       "Winterthur     3\n",
       "Niederglatt    3\n",
       "Name: Sitz, dtype: int64"
      ]
     },
     "execution_count": 373,
     "metadata": {},
     "output_type": "execute_result"
    }
   ],
   "source": [
    "df['Sitz'].value_counts().head(10)"
   ]
  },
  {
   "cell_type": "markdown",
   "metadata": {},
   "source": [
    "7. Nach Bevölkerung"
   ]
  },
  {
   "cell_type": "code",
   "execution_count": 379,
   "metadata": {},
   "outputs": [],
   "source": [
    "df_bev = pd.read_csv('px-x-0103030000_102.csv', encoding = 'latin', delimiter=';', header=1)"
   ]
  },
  {
   "cell_type": "code",
   "execution_count": null,
   "metadata": {},
   "outputs": [],
   "source": [
    "['He']"
   ]
  },
  {
   "cell_type": "code",
   "execution_count": 384,
   "metadata": {},
   "outputs": [],
   "source": [
    "def splitonfirst(elem):\n",
    "    elem = elem.split(' ', 1)[1]\n",
    "    return elem\n",
    "\n",
    "df_bev['Gemeinde'] = df_bev['Kanton (-) / Bezirk (>>) / Gemeinde (......)'].apply(splitonfirst)"
   ]
  },
  {
   "cell_type": "code",
   "execution_count": 386,
   "metadata": {},
   "outputs": [],
   "source": [
    "df_bev = df_bev[['Gemeinde', 'Alter - Total']].copy()"
   ]
  },
  {
   "cell_type": "code",
   "execution_count": 388,
   "metadata": {},
   "outputs": [
    {
     "name": "stdout",
     "output_type": "stream",
     "text": [
      "<class 'pandas.core.frame.DataFrame'>\n",
      "RangeIndex: 5 entries, 0 to 4\n",
      "Data columns (total 2 columns):\n",
      " #   Column         Non-Null Count  Dtype \n",
      "---  ------         --------------  ----- \n",
      " 0   Gemeinde       5 non-null      object\n",
      " 1   Alter - Total  5 non-null      int64 \n",
      "dtypes: int64(1), object(1)\n",
      "memory usage: 208.0+ bytes\n"
     ]
    }
   ],
   "source": [
    "df_bev.head().info()"
   ]
  },
  {
   "cell_type": "code",
   "execution_count": 391,
   "metadata": {},
   "outputs": [],
   "source": [
    "beck_count = pd.DataFrame(df['Sitz'].value_counts())\n",
    "beck_count = beck_count.reset_index()"
   ]
  },
  {
   "cell_type": "code",
   "execution_count": 406,
   "metadata": {},
   "outputs": [
    {
     "data": {
      "text/html": [
       "<div>\n",
       "<style scoped>\n",
       "    .dataframe tbody tr th:only-of-type {\n",
       "        vertical-align: middle;\n",
       "    }\n",
       "\n",
       "    .dataframe tbody tr th {\n",
       "        vertical-align: top;\n",
       "    }\n",
       "\n",
       "    .dataframe thead th {\n",
       "        text-align: right;\n",
       "    }\n",
       "</style>\n",
       "<table border=\"1\" class=\"dataframe\">\n",
       "  <thead>\n",
       "    <tr style=\"text-align: right;\">\n",
       "      <th></th>\n",
       "      <th>Sitz</th>\n",
       "      <th>Gemeinde</th>\n",
       "      <th>Alter - Total</th>\n",
       "      <th>Beck pro 100000</th>\n",
       "    </tr>\n",
       "  </thead>\n",
       "  <tbody>\n",
       "    <tr>\n",
       "      <th>214</th>\n",
       "      <td>1</td>\n",
       "      <td>Simplon</td>\n",
       "      <td>300</td>\n",
       "      <td>3.333333</td>\n",
       "    </tr>\n",
       "    <tr>\n",
       "      <th>7</th>\n",
       "      <td>3</td>\n",
       "      <td>Schangnau</td>\n",
       "      <td>905</td>\n",
       "      <td>3.314917</td>\n",
       "    </tr>\n",
       "    <tr>\n",
       "      <th>157</th>\n",
       "      <td>1</td>\n",
       "      <td>Kippel</td>\n",
       "      <td>318</td>\n",
       "      <td>3.144654</td>\n",
       "    </tr>\n",
       "    <tr>\n",
       "      <th>50</th>\n",
       "      <td>1</td>\n",
       "      <td>Ulmiz</td>\n",
       "      <td>449</td>\n",
       "      <td>2.227171</td>\n",
       "    </tr>\n",
       "    <tr>\n",
       "      <th>24</th>\n",
       "      <td>2</td>\n",
       "      <td>Tujetsch</td>\n",
       "      <td>1207</td>\n",
       "      <td>1.657001</td>\n",
       "    </tr>\n",
       "    <tr>\n",
       "      <th>...</th>\n",
       "      <td>...</td>\n",
       "      <td>...</td>\n",
       "      <td>...</td>\n",
       "      <td>...</td>\n",
       "    </tr>\n",
       "    <tr>\n",
       "      <th>60</th>\n",
       "      <td>1</td>\n",
       "      <td>Uster</td>\n",
       "      <td>35007</td>\n",
       "      <td>0.028566</td>\n",
       "    </tr>\n",
       "    <tr>\n",
       "      <th>65</th>\n",
       "      <td>1</td>\n",
       "      <td>Chur</td>\n",
       "      <td>35470</td>\n",
       "      <td>0.028193</td>\n",
       "    </tr>\n",
       "    <tr>\n",
       "      <th>8</th>\n",
       "      <td>3</td>\n",
       "      <td>Winterthur</td>\n",
       "      <td>113173</td>\n",
       "      <td>0.026508</td>\n",
       "    </tr>\n",
       "    <tr>\n",
       "      <th>105</th>\n",
       "      <td>1</td>\n",
       "      <td>Fribourg</td>\n",
       "      <td>38197</td>\n",
       "      <td>0.026180</td>\n",
       "    </tr>\n",
       "    <tr>\n",
       "      <th>0</th>\n",
       "      <td>8</td>\n",
       "      <td>Zürich</td>\n",
       "      <td>420217</td>\n",
       "      <td>0.019038</td>\n",
       "    </tr>\n",
       "  </tbody>\n",
       "</table>\n",
       "<p>254 rows × 4 columns</p>\n",
       "</div>"
      ],
      "text/plain": [
       "     Sitz    Gemeinde  Alter - Total  Beck pro 100000\n",
       "214     1     Simplon            300         3.333333\n",
       "7       3   Schangnau            905         3.314917\n",
       "157     1      Kippel            318         3.144654\n",
       "50      1       Ulmiz            449         2.227171\n",
       "24      2    Tujetsch           1207         1.657001\n",
       "..    ...         ...            ...              ...\n",
       "60      1       Uster          35007         0.028566\n",
       "65      1        Chur          35470         0.028193\n",
       "8       3  Winterthur         113173         0.026508\n",
       "105     1    Fribourg          38197         0.026180\n",
       "0       8      Zürich         420217         0.019038\n",
       "\n",
       "[254 rows x 4 columns]"
      ]
     },
     "execution_count": 406,
     "metadata": {},
     "output_type": "execute_result"
    }
   ],
   "source": [
    "dfFinal = beck_count.merge(df_bev, left_on='index', right_on='Gemeinde')\n",
    "del dfFinal['index']\n",
    "dfFinal['Beck pro 100000'] = dfFinal['Sitz'] / dfFinal['Alter - Total'] * 1000\n",
    "dfFinal.sort_values(by='Beck pro 100000', ascending = False)"
   ]
  }
 ],
 "metadata": {
  "kernelspec": {
   "display_name": "Python 3",
   "language": "python",
   "name": "python3"
  },
  "language_info": {
   "codemirror_mode": {
    "name": "ipython",
    "version": 3
   },
   "file_extension": ".py",
   "mimetype": "text/x-python",
   "name": "python",
   "nbconvert_exporter": "python",
   "pygments_lexer": "ipython3",
   "version": "3.7.6"
  }
 },
 "nbformat": 4,
 "nbformat_minor": 2
}
