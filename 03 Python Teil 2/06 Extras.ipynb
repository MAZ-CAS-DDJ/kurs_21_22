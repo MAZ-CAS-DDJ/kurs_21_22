{
 "cells": [
  {
   "cell_type": "markdown",
   "metadata": {},
   "source": [
    "# 06 Extra Übungen"
   ]
  },
  {
   "cell_type": "markdown",
   "metadata": {},
   "source": [
    "## Zusätzliche Basisfunktionen\n",
    "* % Gibt den Rest einer Division aus\n",
    "* // lässt Kommastellen einer Division weg\n",
    "\n"
   ]
  },
  {
   "cell_type": "markdown",
   "metadata": {},
   "source": [
    "1. Teile 2/3 und lasse die Stellen nach dem Komma weg"
   ]
  },
  {
   "cell_type": "code",
   "execution_count": null,
   "metadata": {},
   "outputs": [],
   "source": []
  },
  {
   "cell_type": "markdown",
   "metadata": {},
   "source": [
    "2. Teile 5/3 und gebe nur den Rest aus"
   ]
  },
  {
   "cell_type": "code",
   "execution_count": 4,
   "metadata": {},
   "outputs": [
    {
     "data": {
      "text/plain": [
       "1"
      ]
     },
     "execution_count": 4,
     "metadata": {},
     "output_type": "execute_result"
    }
   ],
   "source": []
  },
  {
   "cell_type": "markdown",
   "metadata": {},
   "source": [
    "## Datentypen "
   ]
  },
  {
   "cell_type": "markdown",
   "metadata": {},
   "source": [
    "3. Ergänze den Code in Zeile 4 so dass  die Division keine Fehlermeldung ergibt"
   ]
  },
  {
   "cell_type": "code",
   "execution_count": null,
   "metadata": {},
   "outputs": [],
   "source": [
    "c = '162'\n",
    "d = 3\n",
    "\n",
    "c/d "
   ]
  },
  {
   "cell_type": "markdown",
   "metadata": {},
   "source": [
    "4. Gib b mal die ziffer a aus. Z.B wenn a = 7 und b = 3 ist das gewünschte Ergebnis die Zahl 777. \n",
    "\n",
    "  *(Tipp: was passiert wenn du einen String mit einer Zahl multiplizierst?)*\n"
   ]
  },
  {
   "cell_type": "code",
   "execution_count": null,
   "metadata": {},
   "outputs": [],
   "source": [
    "a = 1\n",
    "b = 4\n",
    "\n",
    "# dein Code hier"
   ]
  },
  {
   "cell_type": "markdown",
   "metadata": {},
   "source": [
    "## Listen"
   ]
  },
  {
   "cell_type": "markdown",
   "metadata": {},
   "source": [
    "5. Entferne das Element der Liste welches keine Zahl ist: "
   ]
  },
  {
   "cell_type": "code",
   "execution_count": 22,
   "metadata": {},
   "outputs": [],
   "source": [
    "list_1 = [1, 4, '162', 3]\n",
    "\n",
    "# dein code hier"
   ]
  },
  {
   "cell_type": "markdown",
   "metadata": {},
   "source": [
    "6. Wandle die Liste in einen String um, mit jeweils einem Leerschlag zwischen den Elementen: \n",
    "\n",
    "  *Tipp: .join anwenden: https://www.w3schools.com/python/ref_string_join.asp*"
   ]
  },
  {
   "cell_type": "code",
   "execution_count": 23,
   "metadata": {},
   "outputs": [],
   "source": [
    "list_2 = ['A', 'B', 'C', 'D']\n",
    "\n"
   ]
  },
  {
   "cell_type": "markdown",
   "metadata": {},
   "source": [
    "7. Speichere deinen Namen als String und wandle ihn in eine Liste bei der jeder Buchstabe ein Listenelement ist"
   ]
  },
  {
   "cell_type": "code",
   "execution_count": null,
   "metadata": {},
   "outputs": [],
   "source": []
  },
  {
   "cell_type": "markdown",
   "metadata": {},
   "source": [
    "8. Wenn eine Liste gegeben ist, iteriere durch die liste und zeige jene Zahlen an, die durch 5 teilbar sind. Wenn du eine Zahl größer als 150 findest, stoppen die Schleife.\n",
    "\n",
    "    * Bsp. liste1 = [12, 15, 32, 42, 55, 75, 122, 132, 150, 180, 200]\n",
    "    * Output: 15, 55, 75, 150"
   ]
  },
  {
   "cell_type": "markdown",
   "metadata": {},
   "source": [
    "## Funktionen"
   ]
  },
  {
   "cell_type": "markdown",
   "metadata": {},
   "source": [
    "9. Erstelle eine Funktion **gehaltMitarbeiter(name,gehalt)** so, dass sie den Namen des Mitarbeiters sowie das Gehalt akzeptiert und beides anzeigt. Wenn das Gehalt im Funktionsaufruf fehlt, sollte es als 6000 angezeigt werden\n",
    "\n",
    "    * gehaltMitarbeiter(\"Ben\", 9000) sollte ausgeben \"Ben verdient 9000 CHF\"\n",
    "    * gehaltMitarbeiter(\"Ben\") sollte ausgeben \"Ben verdient 6000 CHF\"\n"
   ]
  },
  {
   "cell_type": "markdown",
   "metadata": {},
   "source": [
    "10. Schreibe eine Python-Funktion **unique_list(liste)**, die eine Liste erhält und eine neue Liste mit eindeutigen Elementen der ersten Liste zurückgibt.\n",
    "    *  Bsp. unique_list([1,2,3,3,3,3,4,5])\n",
    "    * Output [1,2,3,4,5]"
   ]
  },
  {
   "cell_type": "markdown",
   "metadata": {},
   "source": [
    "11. Schreibe eine Python-Funktion **quadrate(n)**, die die Quadrate aus Zahlen zwischen 1 und n ausgibt.\n",
    "    * Bsp. quadrate(3)\n",
    "    * Output [1,4,9]"
   ]
  }
 ],
 "metadata": {
  "kernelspec": {
   "display_name": "Python 3",
   "language": "python",
   "name": "python3"
  },
  "language_info": {
   "codemirror_mode": {
    "name": "ipython",
    "version": 3
   },
   "file_extension": ".py",
   "mimetype": "text/x-python",
   "name": "python",
   "nbconvert_exporter": "python",
   "pygments_lexer": "ipython3",
   "version": "3.7.6"
  }
 },
 "nbformat": 4,
 "nbformat_minor": 2
}
