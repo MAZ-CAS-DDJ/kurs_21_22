{
 "cells": [
  {
   "cell_type": "markdown",
   "metadata": {},
   "source": [
    "# Libraries und arbeiten mit APIs"
   ]
  },
  {
   "cell_type": "markdown",
   "metadata": {},
   "source": [
    "#### 0. Importiere die Library requests."
   ]
  },
  {
   "cell_type": "code",
   "execution_count": 19,
   "metadata": {},
   "outputs": [],
   "source": [
    "import requests\n",
    "import pandas as pd\n",
    "import datetime"
   ]
  },
  {
   "cell_type": "markdown",
   "metadata": {},
   "source": [
    "#### 1. Suche 3 Beispiele von APIs. Von solchen, die mit und ohne Schlüssel, verwendet werden können und liste sie auf. (Ihr müsst sie nicht gleich auslesen. Sondern einfach mal hier die Dokumentation aufführen)."
   ]
  },
  {
   "cell_type": "code",
   "execution_count": 20,
   "metadata": {},
   "outputs": [],
   "source": [
    "# https://www.parlament.ch/de/services/open-data-webservices Die API des Schweizer Parlaments\n",
    "# https://www.bfs.admin.ch/bfs/de/home/dienstleistungen/forschung/api.html API-Zugänge BfS\n",
    "# https://data.sbb.ch/explore/?sort=modified Die API der SBB\n",
    "# https://www.post.ch/de/geschaeftsloesungen/digital-commerce/digital-commerce-api/personalisierte-api-integration #Die API der Post\n",
    "# https://rapidapi.com/products/enterprise-hub/ Unternehmen\n",
    "# https://github.com/r-spacex/SpaceX-API SpaceX\n",
    "# https://api.nasa.gov/\n",
    "\n",
    "\n",
    "# https://developers.google.com/apis-explorer Googles Super Angebot\n",
    "# https://developer.twitter.com/en/docs Twitter\n",
    "# ...\n",
    "\n"
   ]
  },
  {
   "cell_type": "markdown",
   "metadata": {},
   "source": [
    "- [Schweizer Parlament](https://www.parlament.ch/de/services/open-data-webservices)\n",
    "- [BfS](https://www.bfs.admin.ch/bfs/de/home/dienstleistungen/forschung/api.html)\n",
    "- [SBB](https://data.sbb.ch/explore/?sort=modified)\n",
    "- [Post](https://www.post.ch/de/geschaeftsloesungen/digital-commerce/digital-commerce-api/personalisierte-api-integration)\n",
    "- [Google](https://developers.google.com/apis-explorer)\n",
    "- [Twitter](https://developer.twitter.com/en/docs)"
   ]
  },
  {
   "cell_type": "markdown",
   "metadata": {},
   "source": [
    "#### 2. Lese eine dieser APIs mit requests ein und rufe die Ergebnisse auf."
   ]
  },
  {
   "cell_type": "code",
   "execution_count": 2,
   "metadata": {},
   "outputs": [],
   "source": [
    "r = requests.get(\"http://ws-old.parlament.ch/sessions?format=json\")"
   ]
  },
  {
   "cell_type": "code",
   "execution_count": 10,
   "metadata": {
    "scrolled": true
   },
   "outputs": [
    {
     "data": {
      "text/plain": [
       "'\\r\\n\\r\\n<!DOCTYPE html PUBLIC \"-//W3C//DTD XHTML 1.0 Strict//EN\" \"http://www.w3.org/TR/xhtml1/DTD/xhtml1-strict.dtd\">\\r\\n<html xmlns=\"http://www.w3.org/1999/xhtml\">\\r\\n<head id=\"ctl00_Head1\"><title>\\r\\n\\t\\r\\n    Sessions\\r\\n - Web Services des Schweizer Parlaments \\r\\n</title><link href=\"Content/Site.css\" rel=\"stylesheet\" type=\"text/css\" /><link href=\"Content/menu.css\" rel=\"stylesheet\" type=\"text/css\" />\\r\\n    <script type=\"text/javascript\" src=\"../../Content/jquery.min.js\"></script>\\r\\n    <script type=\"text/javascript\" src=\"../../Content/menu.js\"></script>\\r\\n\\r\\n    <meta name=\"viewport\" content=\"width=device-width,initial-scale=1\" /></head>\\r\\n\\r\\n<body>\\r\\n    <div class=\"page\">\\r\\n\\r\\n        <div id=\"header\">\\r\\n            <div id=\"title\">\\r\\n                <h1>Web Services des Schweizer Parlaments</h1>\\r\\n            </div>\\r\\n            \\r\\n            <div id=\"logindisplay\">\\r\\n                \\r\\n           <span class=\"lang-active\" title=\"Deutsch\">DE</span>\\r\\n        \\r\\n            <a href=\"/home/setculture/fr\" title=\"Französisch\">FR</a>\\r\\n    \\r\\n            <a href=\"/home/setculture/it\" title=\"Italienisch\">IT</a>\\r\\n    \\r\\n            <a href=\"/home/setculture/en\" title=\"Englisch\">EN</a>\\r\\n    \\r\\n            </div> \\r\\n            \\r\\n            <a class=\"toggleMenu\" href=\"#\">Menu</a>\\r\\n            <ul class=\"nav\">              \\r\\n                <li><a href=\"/\">Home</a></li>\\r\\n                <li>\\r\\n                    <a class=\"parent\" href=\"/affairs\">Affairs</a>\\r\\n                    <ul>\\r\\n                        <li><a href=\"/affairs/types\"> Types</a></li>\\r\\n                        <li><a href=\"/affairs/states\"> States</a></li>\\r\\n                        <li><a href=\"/affairs/topics\"> Keywords</a></li>\\r\\n                        <li><a href=\"/affairs/descriptors\"> Descriptors</a></li>\\r\\n                    </ul>\\r\\n                </li>\\r\\n                <li>\\r\\n                    <a href=\"/affairsummaries\"> Affair summaries</a>\\r\\n                </li>\\r\\n                <li><a href=\"/committees\">Committees</a></li>\\r\\n                <li><a href=\"/cantons\">Cantons</a></li>\\r\\n                <li>\\r\\n                    <a class=\"parent\" href=\"/councillors\">Councillors</a>\\r\\n                    <ul>\\r\\n                        <li><a href=\"/councillors/basicdetails\">Basic Details</a></li>\\r\\n                        <li><a href=\"/councillors/historic\">Historic</a></li>\\r\\n                    </ul>\\r\\n                </li>\\r\\n                <li><a href=\"/councils\">Councils</a></li>\\r\\n                <li><a href=\"/departments\">Departments</a>\\r\\n                    <ul>\\r\\n                        <li><a href=\"/departments/historic\">Historic</a></li>\\r\\n                    </ul>\\r\\n                </li>\\r\\n                <li>\\r\\n                    <a class=\"parent\" href=\"/factions\">Factions</a>\\r\\n                    <ul>\\r\\n                        <li><a href=\"/factions/historic\">Historic</a></li>\\r\\n                    </ul>\\r\\n                </li>\\r\\n                <li><a href=\"/legislativeperiods\">Legislative periods</a></li>\\r\\n                <li><a href=\"/liveplus\">Live+</a></li>\\r\\n                <li>\\r\\n                    <a class=\"parent\" href=\"/parties\">Parties</a>\\r\\n                    <ul>\\r\\n                        <li><a href=\"/parties/historic\">Historic</a></li>\\r\\n                    </ul>\\r\\n                </li>\\r\\n                <li>\\r\\n                    <a class=\"parent\" href=\"/schedules\">Schedules</a>\\r\\n                    <ul>\\r\\n                        \\r\\n                            <li><a href=\"/schedules/2010\">2010</a></li>\\r\\n                        \\r\\n                            <li><a href=\"/schedules/2011\">2011</a></li>\\r\\n                        \\r\\n                            <li><a href=\"/schedules/2012\">2012</a></li>\\r\\n                        \\r\\n                            <li><a href=\"/schedules/2013\">2013</a></li>\\r\\n                        \\r\\n                            <li><a href=\"/schedules/2014\">2014</a></li>\\r\\n                        \\r\\n                            <li><a href=\"/schedules/2015\">2015</a></li>\\r\\n                        \\r\\n                            <li><a href=\"/schedules/2016\">2016</a></li>\\r\\n                        \\r\\n                            <li><a href=\"/schedules/2017\">2017</a></li>\\r\\n                        \\r\\n                            <li><a href=\"/schedules/2018\">2018</a></li>\\r\\n                        \\r\\n                            <li><a href=\"/schedules/2019\">2019</a></li>\\r\\n                        \\r\\n                            <li><a href=\"/schedules/2020\">2020</a></li>\\r\\n                        \\r\\n                            <li><a href=\"/schedules/2021\">2021</a></li>\\r\\n                        \\r\\n                    </ul>\\r\\n                </li>\\r\\n                <li><li><a href=\"/sessions\">Sessions</a></li></li>\\r\\n                <li>\\r\\n                    <a class=\"parent\" href=\"/votes\">Votes</a>\\r\\n                    <ul>\\r\\n                        <li><a href=\"/votes/affairs\"> Affairs</a></li>\\r\\n                        <li><a href=\"/votes/councillors\"> Councillors</a></li>\\r\\n                    </ul>\\r\\n                </li>\\r\\n            </ul>\\r\\n            \\r\\n        </div>\\r\\n\\r\\n        <div id=\"main\">\\r\\n            \\r\\n\\r\\n    <h2>Sessions</h2>\\r\\n    <div class=\"paging\">Page 1 of 4  (159 entries)<span>First</span><span>Previous</span><a href=\"?pageNumber=2\">Next</a><a href=\"?pageNumber=4\">Last</a></div>\\r\\n    \\r\\n    <table>\\r\\n        <tr>\\r\\n            <th>Name</th>\\r\\n            <th>Code</th>\\r\\n            <th>Id</th>\\r\\n            <th>From</th>\\r\\n            <th>To</th>\\r\\n            <th>Updated</th>\\r\\n        </tr>\\r\\n\\r\\n    \\r\\n    \\r\\n        <tr>\\r\\n            <td>\\r\\n                Herbstsession 2021\\r\\n            </td>\\r\\n            <td>\\r\\n                5111\\r\\n            </td>\\r\\n            <td>\\r\\n                11\\r\\n            </td>\\r\\n            <td>\\r\\n                13.09.2021\\r\\n            </td>\\r\\n            <td>\\r\\n                01.10.2021\\r\\n            </td>\\r\\n            <td>\\r\\n                04.05.2021 15:18\\r\\n            </td>\\r\\n        </tr>\\r\\n    \\r\\n    \\r\\n    \\r\\n        <tr>\\r\\n            <td>\\r\\n                Sommersession 2021\\r\\n            </td>\\r\\n            <td>\\r\\n                5110\\r\\n            </td>\\r\\n            <td>\\r\\n                10\\r\\n            </td>\\r\\n            <td>\\r\\n                31.05.2021\\r\\n            </td>\\r\\n            <td>\\r\\n                18.06.2021\\r\\n            </td>\\r\\n            <td>\\r\\n                04.05.2021 15:18\\r\\n            </td>\\r\\n        </tr>\\r\\n    \\r\\n    \\r\\n    \\r\\n        <tr>\\r\\n            <td>\\r\\n                Sondersession Mai\\r\\n            </td>\\r\\n            <td>\\r\\n                5109\\r\\n            </td>\\r\\n            <td>\\r\\n                9\\r\\n            </td>\\r\\n            <td>\\r\\n                03.05.2021\\r\\n            </td>\\r\\n            <td>\\r\\n                05.05.2021\\r\\n            </td>\\r\\n            <td>\\r\\n                04.05.2021 15:17\\r\\n            </td>\\r\\n        </tr>\\r\\n    \\r\\n    \\r\\n    \\r\\n        <tr>\\r\\n            <td>\\r\\n                Fr&#252;hjahrssession 2021\\r\\n            </td>\\r\\n            <td>\\r\\n                5108\\r\\n            </td>\\r\\n            <td>\\r\\n                8\\r\\n            </td>\\r\\n            <td>\\r\\n                01.03.2021\\r\\n            </td>\\r\\n            <td>\\r\\n                19.03.2021\\r\\n            </td>\\r\\n            <td>\\r\\n                01.09.2020 12:02\\r\\n            </td>\\r\\n        </tr>\\r\\n    \\r\\n    \\r\\n    \\r\\n        <tr>\\r\\n            <td>\\r\\n                Wintersession 2020\\r\\n            </td>\\r\\n            <td>\\r\\n                5107\\r\\n            </td>\\r\\n            <td>\\r\\n                7\\r\\n            </td>\\r\\n            <td>\\r\\n                30.11.2020\\r\\n            </td>\\r\\n            <td>\\r\\n                18.12.2020\\r\\n            </td>\\r\\n            <td>\\r\\n                01.09.2020 12:02\\r\\n            </td>\\r\\n        </tr>\\r\\n    \\r\\n    \\r\\n    \\r\\n        <tr>\\r\\n            <td>\\r\\n                Sondersession Oktober 2020\\r\\n            </td>\\r\\n            <td>\\r\\n                5106\\r\\n            </td>\\r\\n            <td>\\r\\n                6\\r\\n            </td>\\r\\n            <td>\\r\\n                29.10.2020\\r\\n            </td>\\r\\n            <td>\\r\\n                30.10.2020\\r\\n            </td>\\r\\n            <td>\\r\\n                01.09.2020 12:02\\r\\n            </td>\\r\\n        </tr>\\r\\n    \\r\\n    \\r\\n    \\r\\n        <tr>\\r\\n            <td>\\r\\n                Herbstsession 2020\\r\\n            </td>\\r\\n            <td>\\r\\n                5105\\r\\n            </td>\\r\\n            <td>\\r\\n                5\\r\\n            </td>\\r\\n            <td>\\r\\n                07.09.2020\\r\\n            </td>\\r\\n            <td>\\r\\n                25.09.2020\\r\\n            </td>\\r\\n            <td>\\r\\n                01.09.2020 12:00\\r\\n            </td>\\r\\n        </tr>\\r\\n    \\r\\n    \\r\\n    \\r\\n        <tr>\\r\\n            <td>\\r\\n                Sommersession 2020\\r\\n            </td>\\r\\n            <td>\\r\\n                5104\\r\\n            </td>\\r\\n            <td>\\r\\n                4\\r\\n            </td>\\r\\n            <td>\\r\\n                02.06.2020\\r\\n            </td>\\r\\n            <td>\\r\\n                19.06.2020\\r\\n            </td>\\r\\n            <td>\\r\\n                01.09.2020 12:00\\r\\n            </td>\\r\\n        </tr>\\r\\n    \\r\\n    \\r\\n    \\r\\n        <tr>\\r\\n            <td>\\r\\n                Ausserordentliche Session Mai 2020\\r\\n            </td>\\r\\n            <td>\\r\\n                5103\\r\\n            </td>\\r\\n            <td>\\r\\n                3\\r\\n            </td>\\r\\n            <td>\\r\\n                04.05.2020\\r\\n            </td>\\r\\n            <td>\\r\\n                08.05.2020\\r\\n            </td>\\r\\n            <td>\\r\\n                01.09.2020 12:00\\r\\n            </td>\\r\\n        </tr>\\r\\n    \\r\\n    \\r\\n    \\r\\n        <tr>\\r\\n            <td>\\r\\n                Fr&#252;hjahrssession 2020\\r\\n            </td>\\r\\n            <td>\\r\\n                5102\\r\\n            </td>\\r\\n            <td>\\r\\n                2\\r\\n            </td>\\r\\n            <td>\\r\\n                02.03.2020\\r\\n            </td>\\r\\n            <td>\\r\\n                12.03.2020\\r\\n            </td>\\r\\n            <td>\\r\\n                01.09.2020 12:00\\r\\n            </td>\\r\\n        </tr>\\r\\n    \\r\\n    \\r\\n    \\r\\n        <tr>\\r\\n            <td>\\r\\n                Wintersession 2019\\r\\n            </td>\\r\\n            <td>\\r\\n                5101\\r\\n            </td>\\r\\n            <td>\\r\\n                1\\r\\n            </td>\\r\\n            <td>\\r\\n                02.12.2019\\r\\n            </td>\\r\\n            <td>\\r\\n                20.12.2019\\r\\n            </td>\\r\\n            <td>\\r\\n                01.09.2020 12:00\\r\\n            </td>\\r\\n        </tr>\\r\\n    \\r\\n    \\r\\n    \\r\\n        <tr>\\r\\n            <td>\\r\\n                Herbstsession 2019\\r\\n            </td>\\r\\n            <td>\\r\\n                5019\\r\\n            </td>\\r\\n            <td>\\r\\n                19\\r\\n            </td>\\r\\n            <td>\\r\\n                09.09.2019\\r\\n            </td>\\r\\n            <td>\\r\\n                27.09.2019\\r\\n            </td>\\r\\n            <td>\\r\\n                01.09.2020 12:00\\r\\n            </td>\\r\\n        </tr>\\r\\n    \\r\\n    \\r\\n    \\r\\n        <tr>\\r\\n            <td>\\r\\n                Sommersession 2019\\r\\n            </td>\\r\\n            <td>\\r\\n                5018\\r\\n            </td>\\r\\n            <td>\\r\\n                18\\r\\n            </td>\\r\\n            <td>\\r\\n                03.06.2019\\r\\n            </td>\\r\\n            <td>\\r\\n                21.06.2019\\r\\n            </td>\\r\\n            <td>\\r\\n                01.09.2020 12:00\\r\\n            </td>\\r\\n        </tr>\\r\\n    \\r\\n    \\r\\n    \\r\\n        <tr>\\r\\n            <td>\\r\\n                Sondersession Mai 2019\\r\\n            </td>\\r\\n            <td>\\r\\n                5017\\r\\n            </td>\\r\\n            <td>\\r\\n                17\\r\\n            </td>\\r\\n            <td>\\r\\n                07.05.2019\\r\\n            </td>\\r\\n            <td>\\r\\n                09.05.2019\\r\\n            </td>\\r\\n            <td>\\r\\n                01.09.2020 12:00\\r\\n            </td>\\r\\n        </tr>\\r\\n    \\r\\n    \\r\\n    \\r\\n        <tr>\\r\\n            <td>\\r\\n                Fr&#252;hjahrssession 2019\\r\\n            </td>\\r\\n            <td>\\r\\n                5016\\r\\n            </td>\\r\\n            <td>\\r\\n                16\\r\\n            </td>\\r\\n            <td>\\r\\n                04.03.2019\\r\\n            </td>\\r\\n            <td>\\r\\n                22.03.2019\\r\\n            </td>\\r\\n            <td>\\r\\n                01.09.2020 12:00\\r\\n            </td>\\r\\n        </tr>\\r\\n    \\r\\n    \\r\\n    \\r\\n        <tr>\\r\\n            <td>\\r\\n                Wintersession 2018\\r\\n            </td>\\r\\n            <td>\\r\\n                5015\\r\\n            </td>\\r\\n            <td>\\r\\n                15\\r\\n            </td>\\r\\n            <td>\\r\\n                26.11.2018\\r\\n            </td>\\r\\n            <td>\\r\\n                14.12.2018\\r\\n            </td>\\r\\n            <td>\\r\\n                01.09.2020 12:00\\r\\n            </td>\\r\\n        </tr>\\r\\n    \\r\\n    \\r\\n    \\r\\n        <tr>\\r\\n            <td>\\r\\n                Herbstsession 2018\\r\\n            </td>\\r\\n            <td>\\r\\n                5014\\r\\n            </td>\\r\\n            <td>\\r\\n                14\\r\\n            </td>\\r\\n            <td>\\r\\n                10.09.2018\\r\\n            </td>\\r\\n            <td>\\r\\n                28.09.2018\\r\\n            </td>\\r\\n            <td>\\r\\n                01.09.2020 12:00\\r\\n            </td>\\r\\n        </tr>\\r\\n    \\r\\n    \\r\\n    \\r\\n        <tr>\\r\\n            <td>\\r\\n                Sommersession 2018\\r\\n            </td>\\r\\n            <td>\\r\\n                5013\\r\\n            </td>\\r\\n            <td>\\r\\n                13\\r\\n            </td>\\r\\n            <td>\\r\\n                28.05.2018\\r\\n            </td>\\r\\n            <td>\\r\\n                15.06.2018\\r\\n            </td>\\r\\n            <td>\\r\\n                01.09.2020 12:00\\r\\n            </td>\\r\\n        </tr>\\r\\n    \\r\\n    \\r\\n    \\r\\n        <tr>\\r\\n            <td>\\r\\n                Fr&#252;hjahrssession 2018\\r\\n            </td>\\r\\n            <td>\\r\\n                5012\\r\\n            </td>\\r\\n            <td>\\r\\n                12\\r\\n            </td>\\r\\n            <td>\\r\\n                26.02.2018\\r\\n            </td>\\r\\n            <td>\\r\\n                16.03.2018\\r\\n            </td>\\r\\n            <td>\\r\\n                01.09.2020 12:00\\r\\n            </td>\\r\\n        </tr>\\r\\n    \\r\\n    \\r\\n    \\r\\n        <tr>\\r\\n            <td>\\r\\n                Wintersession 2017\\r\\n            </td>\\r\\n            <td>\\r\\n                5011\\r\\n            </td>\\r\\n            <td>\\r\\n                11\\r\\n            </td>\\r\\n            <td>\\r\\n                27.11.2017\\r\\n            </td>\\r\\n            <td>\\r\\n                15.12.2017\\r\\n            </td>\\r\\n            <td>\\r\\n                01.09.2020 12:00\\r\\n            </td>\\r\\n        </tr>\\r\\n    \\r\\n    \\r\\n    \\r\\n        <tr>\\r\\n            <td>\\r\\n                Herbstsession 2017\\r\\n            </td>\\r\\n            <td>\\r\\n                5010\\r\\n            </td>\\r\\n            <td>\\r\\n                10\\r\\n            </td>\\r\\n            <td>\\r\\n                11.09.2017\\r\\n            </td>\\r\\n            <td>\\r\\n                29.09.2017\\r\\n            </td>\\r\\n            <td>\\r\\n                01.09.2020 12:00\\r\\n            </td>\\r\\n        </tr>\\r\\n    \\r\\n    \\r\\n    \\r\\n        <tr>\\r\\n            <td>\\r\\n                Sommersession 2017\\r\\n            </td>\\r\\n            <td>\\r\\n                5009\\r\\n            </td>\\r\\n            <td>\\r\\n                9\\r\\n            </td>\\r\\n            <td>\\r\\n                29.05.2017\\r\\n            </td>\\r\\n            <td>\\r\\n                16.06.2017\\r\\n            </td>\\r\\n            <td>\\r\\n                01.09.2020 12:00\\r\\n            </td>\\r\\n        </tr>\\r\\n    \\r\\n    \\r\\n    \\r\\n        <tr>\\r\\n            <td>\\r\\n                Sondersession Mai 2017\\r\\n            </td>\\r\\n            <td>\\r\\n                5008\\r\\n            </td>\\r\\n            <td>\\r\\n                8\\r\\n            </td>\\r\\n            <td>\\r\\n                02.05.2017\\r\\n            </td>\\r\\n            <td>\\r\\n                04.05.2017\\r\\n            </td>\\r\\n            <td>\\r\\n                01.09.2020 12:00\\r\\n            </td>\\r\\n        </tr>\\r\\n    \\r\\n    \\r\\n    \\r\\n        <tr>\\r\\n            <td>\\r\\n                Fr&#252;hjahrssession 2017\\r\\n            </td>\\r\\n            <td>\\r\\n                5007\\r\\n            </td>\\r\\n            <td>\\r\\n                7\\r\\n            </td>\\r\\n            <td>\\r\\n                27.02.2017\\r\\n            </td>\\r\\n            <td>\\r\\n                17.03.2017\\r\\n            </td>\\r\\n            <td>\\r\\n                01.09.2020 12:00\\r\\n            </td>\\r\\n        </tr>\\r\\n    \\r\\n    \\r\\n    \\r\\n        <tr>\\r\\n            <td>\\r\\n                Wintersession 2016\\r\\n            </td>\\r\\n            <td>\\r\\n                5006\\r\\n            </td>\\r\\n            <td>\\r\\n                6\\r\\n            </td>\\r\\n            <td>\\r\\n                28.11.2016\\r\\n            </td>\\r\\n            <td>\\r\\n                16.12.2016\\r\\n            </td>\\r\\n            <td>\\r\\n                01.09.2020 12:00\\r\\n            </td>\\r\\n        </tr>\\r\\n    \\r\\n    \\r\\n    \\r\\n        <tr>\\r\\n            <td>\\r\\n                Herbstsession 2016\\r\\n            </td>\\r\\n            <td>\\r\\n                5005\\r\\n            </td>\\r\\n            <td>\\r\\n                5\\r\\n            </td>\\r\\n            <td>\\r\\n                12.09.2016\\r\\n            </td>\\r\\n            <td>\\r\\n                30.09.2016\\r\\n            </td>\\r\\n            <td>\\r\\n                01.09.2020 12:00\\r\\n            </td>\\r\\n        </tr>\\r\\n    \\r\\n    \\r\\n    \\r\\n        <tr>\\r\\n            <td>\\r\\n                Sommersession 2016\\r\\n            </td>\\r\\n            <td>\\r\\n                5004\\r\\n            </td>\\r\\n            <td>\\r\\n                4\\r\\n            </td>\\r\\n            <td>\\r\\n                30.05.2016\\r\\n            </td>\\r\\n            <td>\\r\\n                17.06.2016\\r\\n            </td>\\r\\n            <td>\\r\\n                01.09.2020 12:00\\r\\n            </td>\\r\\n        </tr>\\r\\n    \\r\\n    \\r\\n    \\r\\n        <tr>\\r\\n            <td>\\r\\n                Sondersession April 2016\\r\\n            </td>\\r\\n            <td>\\r\\n                5003\\r\\n            </td>\\r\\n            <td>\\r\\n                3\\r\\n            </td>\\r\\n            <td>\\r\\n                25.04.2016\\r\\n            </td>\\r\\n            <td>\\r\\n                27.04.2016\\r\\n            </td>\\r\\n            <td>\\r\\n                01.09.2020 12:00\\r\\n            </td>\\r\\n        </tr>\\r\\n    \\r\\n    \\r\\n    \\r\\n        <tr>\\r\\n            <td>\\r\\n                Fr&#252;hjahrssession 2016\\r\\n            </td>\\r\\n            <td>\\r\\n                5002\\r\\n            </td>\\r\\n            <td>\\r\\n                2\\r\\n            </td>\\r\\n            <td>\\r\\n                29.02.2016\\r\\n            </td>\\r\\n            <td>\\r\\n                18.03.2016\\r\\n            </td>\\r\\n            <td>\\r\\n                01.09.2020 12:00\\r\\n            </td>\\r\\n        </tr>\\r\\n    \\r\\n    \\r\\n    \\r\\n        <tr>\\r\\n            <td>\\r\\n                Wintersession 2015\\r\\n            </td>\\r\\n            <td>\\r\\n                5001\\r\\n            </td>\\r\\n            <td>\\r\\n                1\\r\\n            </td>\\r\\n            <td>\\r\\n                30.11.2015\\r\\n            </td>\\r\\n            <td>\\r\\n                18.12.2015\\r\\n            </td>\\r\\n            <td>\\r\\n                01.09.2020 12:00\\r\\n            </td>\\r\\n        </tr>\\r\\n    \\r\\n    \\r\\n    \\r\\n        <tr>\\r\\n            <td>\\r\\n                Herbstsession 2015\\r\\n            </td>\\r\\n            <td>\\r\\n                4920\\r\\n            </td>\\r\\n            <td>\\r\\n                20\\r\\n            </td>\\r\\n            <td>\\r\\n                07.09.2015\\r\\n            </td>\\r\\n            <td>\\r\\n                25.09.2015\\r\\n            </td>\\r\\n            <td>\\r\\n                01.09.2020 12:00\\r\\n            </td>\\r\\n        </tr>\\r\\n    \\r\\n    \\r\\n    \\r\\n        <tr>\\r\\n            <td>\\r\\n                Sommersession 2015\\r\\n            </td>\\r\\n            <td>\\r\\n                4919\\r\\n            </td>\\r\\n            <td>\\r\\n                19\\r\\n            </td>\\r\\n            <td>\\r\\n                01.06.2015\\r\\n            </td>\\r\\n            <td>\\r\\n                19.06.2015\\r\\n            </td>\\r\\n            <td>\\r\\n                01.09.2020 12:00\\r\\n            </td>\\r\\n        </tr>\\r\\n    \\r\\n    \\r\\n    \\r\\n        <tr>\\r\\n            <td>\\r\\n                Sondersession Mai 2015\\r\\n            </td>\\r\\n            <td>\\r\\n                4918\\r\\n            </td>\\r\\n            <td>\\r\\n                18\\r\\n            </td>\\r\\n            <td>\\r\\n                04.05.2015\\r\\n            </td>\\r\\n            <td>\\r\\n                08.05.2015\\r\\n            </td>\\r\\n            <td>\\r\\n                01.09.2020 12:00\\r\\n            </td>\\r\\n        </tr>\\r\\n    \\r\\n    \\r\\n    \\r\\n        <tr>\\r\\n            <td>\\r\\n                Fr&#252;hjahrssession 2015\\r\\n            </td>\\r\\n            <td>\\r\\n                4917\\r\\n            </td>\\r\\n            <td>\\r\\n                17\\r\\n            </td>\\r\\n            <td>\\r\\n                02.03.2015\\r\\n            </td>\\r\\n            <td>\\r\\n                20.03.2015\\r\\n            </td>\\r\\n            <td>\\r\\n                01.09.2020 12:00\\r\\n            </td>\\r\\n        </tr>\\r\\n    \\r\\n    \\r\\n    \\r\\n        <tr>\\r\\n            <td>\\r\\n                Wintersession 2014\\r\\n            </td>\\r\\n            <td>\\r\\n                4916\\r\\n            </td>\\r\\n            <td>\\r\\n                16\\r\\n            </td>\\r\\n            <td>\\r\\n                24.11.2014\\r\\n            </td>\\r\\n            <td>\\r\\n                12.12.2014\\r\\n            </td>\\r\\n            <td>\\r\\n                01.09.2020 12:00\\r\\n            </td>\\r\\n        </tr>\\r\\n    \\r\\n    \\r\\n    \\r\\n        <tr>\\r\\n            <td>\\r\\n                Herbstsession 2014\\r\\n            </td>\\r\\n            <td>\\r\\n                4915\\r\\n            </td>\\r\\n            <td>\\r\\n                15\\r\\n            </td>\\r\\n            <td>\\r\\n                08.09.2014\\r\\n            </td>\\r\\n            <td>\\r\\n                26.09.2014\\r\\n            </td>\\r\\n            <td>\\r\\n                01.09.2020 12:00\\r\\n            </td>\\r\\n        </tr>\\r\\n    \\r\\n    \\r\\n    \\r\\n        <tr>\\r\\n            <td>\\r\\n                Sommersession 2014\\r\\n            </td>\\r\\n            <td>\\r\\n                4914\\r\\n            </td>\\r\\n            <td>\\r\\n                14\\r\\n            </td>\\r\\n            <td>\\r\\n                02.06.2014\\r\\n            </td>\\r\\n            <td>\\r\\n                20.06.2014\\r\\n            </td>\\r\\n            <td>\\r\\n                01.09.2020 12:00\\r\\n            </td>\\r\\n        </tr>\\r\\n    \\r\\n    \\r\\n    \\r\\n        <tr>\\r\\n            <td>\\r\\n                Sondersession Mai 2014\\r\\n            </td>\\r\\n            <td>\\r\\n                4913\\r\\n            </td>\\r\\n            <td>\\r\\n                13\\r\\n            </td>\\r\\n            <td>\\r\\n                05.05.2014\\r\\n            </td>\\r\\n            <td>\\r\\n                08.05.2014\\r\\n            </td>\\r\\n            <td>\\r\\n                01.09.2020 12:00\\r\\n            </td>\\r\\n        </tr>\\r\\n    \\r\\n    \\r\\n    \\r\\n        <tr>\\r\\n            <td>\\r\\n                Fr&#252;hjahrssession 2014\\r\\n            </td>\\r\\n            <td>\\r\\n                4912\\r\\n            </td>\\r\\n            <td>\\r\\n                12\\r\\n            </td>\\r\\n            <td>\\r\\n                03.03.2014\\r\\n            </td>\\r\\n            <td>\\r\\n                21.03.2014\\r\\n            </td>\\r\\n            <td>\\r\\n                01.09.2020 12:00\\r\\n            </td>\\r\\n        </tr>\\r\\n    \\r\\n    \\r\\n    \\r\\n        <tr>\\r\\n            <td>\\r\\n                Wintersession 2013\\r\\n            </td>\\r\\n            <td>\\r\\n                4911\\r\\n            </td>\\r\\n            <td>\\r\\n                11\\r\\n            </td>\\r\\n            <td>\\r\\n                25.11.2013\\r\\n            </td>\\r\\n            <td>\\r\\n                13.12.2013\\r\\n            </td>\\r\\n            <td>\\r\\n                01.09.2020 12:00\\r\\n            </td>\\r\\n        </tr>\\r\\n    \\r\\n    \\r\\n    \\r\\n        <tr>\\r\\n            <td>\\r\\n                Herbstsession 2013\\r\\n            </td>\\r\\n            <td>\\r\\n                4910\\r\\n            </td>\\r\\n            <td>\\r\\n                10\\r\\n            </td>\\r\\n            <td>\\r\\n                09.09.2013\\r\\n            </td>\\r\\n            <td>\\r\\n                27.09.2013\\r\\n            </td>\\r\\n            <td>\\r\\n                01.09.2020 12:00\\r\\n            </td>\\r\\n        </tr>\\r\\n    \\r\\n    \\r\\n    \\r\\n        <tr>\\r\\n            <td>\\r\\n                Sommersession 2013\\r\\n            </td>\\r\\n            <td>\\r\\n                4909\\r\\n            </td>\\r\\n            <td>\\r\\n                9\\r\\n            </td>\\r\\n            <td>\\r\\n                03.06.2013\\r\\n            </td>\\r\\n            <td>\\r\\n                21.06.2013\\r\\n            </td>\\r\\n            <td>\\r\\n                01.09.2020 12:00\\r\\n            </td>\\r\\n        </tr>\\r\\n    \\r\\n    \\r\\n    \\r\\n        <tr>\\r\\n            <td>\\r\\n                Sondersession April 2013\\r\\n            </td>\\r\\n            <td>\\r\\n                4908\\r\\n            </td>\\r\\n            <td>\\r\\n                8\\r\\n            </td>\\r\\n            <td>\\r\\n                15.04.2013\\r\\n            </td>\\r\\n            <td>\\r\\n                17.04.2013\\r\\n            </td>\\r\\n            <td>\\r\\n                01.09.2020 12:00\\r\\n            </td>\\r\\n        </tr>\\r\\n    \\r\\n    \\r\\n    \\r\\n        <tr>\\r\\n            <td>\\r\\n                Fr&#252;hjahrssession 2013\\r\\n            </td>\\r\\n            <td>\\r\\n                4907\\r\\n            </td>\\r\\n            <td>\\r\\n                7\\r\\n            </td>\\r\\n            <td>\\r\\n                04.03.2013\\r\\n            </td>\\r\\n            <td>\\r\\n                22.03.2013\\r\\n            </td>\\r\\n            <td>\\r\\n                01.09.2020 12:00\\r\\n            </td>\\r\\n        </tr>\\r\\n    \\r\\n    \\r\\n    \\r\\n        <tr>\\r\\n            <td>\\r\\n                Wintersession 2012\\r\\n            </td>\\r\\n            <td>\\r\\n                4906\\r\\n            </td>\\r\\n            <td>\\r\\n                6\\r\\n            </td>\\r\\n            <td>\\r\\n                26.11.2012\\r\\n            </td>\\r\\n            <td>\\r\\n                14.12.2012\\r\\n            </td>\\r\\n            <td>\\r\\n                01.09.2020 12:00\\r\\n            </td>\\r\\n        </tr>\\r\\n    \\r\\n    \\r\\n    \\r\\n        <tr>\\r\\n            <td>\\r\\n                Herbstsession 2012\\r\\n            </td>\\r\\n            <td>\\r\\n                4905\\r\\n            </td>\\r\\n            <td>\\r\\n                5\\r\\n            </td>\\r\\n            <td>\\r\\n                10.09.2012\\r\\n            </td>\\r\\n            <td>\\r\\n                28.09.2012\\r\\n            </td>\\r\\n            <td>\\r\\n                01.09.2020 12:00\\r\\n            </td>\\r\\n        </tr>\\r\\n    \\r\\n    \\r\\n    \\r\\n        <tr>\\r\\n            <td>\\r\\n                Sommersession 2012\\r\\n            </td>\\r\\n            <td>\\r\\n                4904\\r\\n            </td>\\r\\n            <td>\\r\\n                4\\r\\n            </td>\\r\\n            <td>\\r\\n                29.05.2012\\r\\n            </td>\\r\\n            <td>\\r\\n                15.06.2012\\r\\n            </td>\\r\\n            <td>\\r\\n                01.09.2020 12:00\\r\\n            </td>\\r\\n        </tr>\\r\\n    \\r\\n    \\r\\n    \\r\\n        <tr>\\r\\n            <td>\\r\\n                Sondersession Mai 2012\\r\\n            </td>\\r\\n            <td>\\r\\n                4903\\r\\n            </td>\\r\\n            <td>\\r\\n                3\\r\\n            </td>\\r\\n            <td>\\r\\n                02.05.2012\\r\\n            </td>\\r\\n            <td>\\r\\n                03.05.2012\\r\\n            </td>\\r\\n            <td>\\r\\n                01.09.2020 12:00\\r\\n            </td>\\r\\n        </tr>\\r\\n    \\r\\n    \\r\\n    \\r\\n        <tr>\\r\\n            <td>\\r\\n                Fr&#252;hjahrssession 2012\\r\\n            </td>\\r\\n            <td>\\r\\n                4902\\r\\n            </td>\\r\\n            <td>\\r\\n                2\\r\\n            </td>\\r\\n            <td>\\r\\n                27.02.2012\\r\\n            </td>\\r\\n            <td>\\r\\n                16.03.2012\\r\\n            </td>\\r\\n            <td>\\r\\n                01.09.2020 12:00\\r\\n            </td>\\r\\n        </tr>\\r\\n    \\r\\n    \\r\\n    \\r\\n        <tr>\\r\\n            <td>\\r\\n                Wintersession 2011\\r\\n            </td>\\r\\n            <td>\\r\\n                4901\\r\\n            </td>\\r\\n            <td>\\r\\n                1\\r\\n            </td>\\r\\n            <td>\\r\\n                05.12.2011\\r\\n            </td>\\r\\n            <td>\\r\\n                23.12.2011\\r\\n            </td>\\r\\n            <td>\\r\\n                01.09.2020 12:00\\r\\n            </td>\\r\\n        </tr>\\r\\n    \\r\\n    \\r\\n\\r\\n    </table>\\r\\n\\r\\n\\r\\n            <div id=\"footer\">\\r\\n            </div>\\r\\n        </div>\\r\\n    </div>\\r\\n</body>\\r\\n</html>\\r\\n'"
      ]
     },
     "execution_count": 10,
     "metadata": {},
     "output_type": "execute_result"
    }
   ],
   "source": [
    "r.text"
   ]
  },
  {
   "cell_type": "markdown",
   "metadata": {},
   "source": [
    "#### 3. Zurück zum [Erdbeben API](https://earthquake.usgs.gov). Wie viele Erdbeben wurden im Januar 2020 verzeichnet?"
   ]
  },
  {
   "cell_type": "code",
   "execution_count": 11,
   "metadata": {},
   "outputs": [],
   "source": [
    "r = requests.get('https://earthquake.usgs.gov/fdsnws/event/1/count?starttime=2020-01-01&endtime=2020-01-31')"
   ]
  },
  {
   "cell_type": "code",
   "execution_count": 12,
   "metadata": {},
   "outputs": [
    {
     "data": {
      "text/plain": [
       "16249"
      ]
     },
     "execution_count": 12,
     "metadata": {},
     "output_type": "execute_result"
    }
   ],
   "source": [
    "r.json()"
   ]
  },
  {
   "cell_type": "markdown",
   "metadata": {},
   "source": [
    "#### 4. Und wie viele Erdbeben im Juli?"
   ]
  },
  {
   "cell_type": "code",
   "execution_count": 13,
   "metadata": {},
   "outputs": [],
   "source": [
    "r = requests.get('https://earthquake.usgs.gov/fdsnws/event/1/count?starttime=2020-07-01&endtime=2020-07-31')"
   ]
  },
  {
   "cell_type": "code",
   "execution_count": 14,
   "metadata": {},
   "outputs": [
    {
     "data": {
      "text/plain": [
       "17343"
      ]
     },
     "execution_count": 14,
     "metadata": {},
     "output_type": "execute_result"
    }
   ],
   "source": [
    "r.json()"
   ]
  },
  {
   "cell_type": "markdown",
   "metadata": {},
   "source": [
    "#### 5. In welchem Monat des aktuellen Jahres wurden am meisten Erdbeben verzeichnet?"
   ]
  },
  {
   "cell_type": "code",
   "execution_count": 127,
   "metadata": {},
   "outputs": [],
   "source": [
    "dates_start= pd.date_range('2021-01-01','2021-11-01' , freq='1M')-pd.offsets.MonthBegin(1)"
   ]
  },
  {
   "cell_type": "code",
   "execution_count": 128,
   "metadata": {},
   "outputs": [
    {
     "data": {
      "text/plain": [
       "DatetimeIndex(['2021-01-01', '2021-02-01', '2021-03-01', '2021-04-01',\n",
       "               '2021-05-01', '2021-06-01', '2021-07-01', '2021-08-01',\n",
       "               '2021-09-01', '2021-10-01'],\n",
       "              dtype='datetime64[ns]', freq=None)"
      ]
     },
     "execution_count": 128,
     "metadata": {},
     "output_type": "execute_result"
    }
   ],
   "source": [
    "dates_start"
   ]
  },
  {
   "cell_type": "code",
   "execution_count": 129,
   "metadata": {},
   "outputs": [],
   "source": [
    "dates_end= pd.date_range('2021-02-01','2021-11-01' , freq='1M')-pd.offsets.MonthEnd(1)"
   ]
  },
  {
   "cell_type": "code",
   "execution_count": 130,
   "metadata": {},
   "outputs": [
    {
     "data": {
      "text/plain": [
       "DatetimeIndex(['2021-01-31', '2021-02-28', '2021-03-31', '2021-04-30',\n",
       "               '2021-05-31', '2021-06-30', '2021-07-31', '2021-08-31',\n",
       "               '2021-09-30'],\n",
       "              dtype='datetime64[ns]', freq=None)"
      ]
     },
     "execution_count": 130,
     "metadata": {},
     "output_type": "execute_result"
    }
   ],
   "source": [
    "dates_end"
   ]
  },
  {
   "cell_type": "code",
   "execution_count": 131,
   "metadata": {},
   "outputs": [],
   "source": [
    "base = 'https://earthquake.usgs.gov/fdsnws/event/1/count?'\n",
    "start = 'starttime='\n",
    "end = '&endtime='"
   ]
  },
  {
   "cell_type": "code",
   "execution_count": 132,
   "metadata": {},
   "outputs": [],
   "source": [
    "liste = []\n",
    "for s, e in zip(dates_start, dates_end):\n",
    "    s = str(s)\n",
    "    e = str(e)\n",
    "    r = requests.get(base+start+s+end+e)\n",
    "    result = r.text\n",
    "    \n",
    "    mini_dict = {s:result}\n",
    "    liste.append(mini_dict)"
   ]
  },
  {
   "cell_type": "code",
   "execution_count": 133,
   "metadata": {},
   "outputs": [
    {
     "data": {
      "text/html": [
       "<div>\n",
       "<style scoped>\n",
       "    .dataframe tbody tr th:only-of-type {\n",
       "        vertical-align: middle;\n",
       "    }\n",
       "\n",
       "    .dataframe tbody tr th {\n",
       "        vertical-align: top;\n",
       "    }\n",
       "\n",
       "    .dataframe thead th {\n",
       "        text-align: right;\n",
       "    }\n",
       "</style>\n",
       "<table border=\"1\" class=\"dataframe\">\n",
       "  <thead>\n",
       "    <tr style=\"text-align: right;\">\n",
       "      <th></th>\n",
       "      <th>variable</th>\n",
       "      <th>value</th>\n",
       "    </tr>\n",
       "  </thead>\n",
       "  <tbody>\n",
       "    <tr>\n",
       "      <th>0</th>\n",
       "      <td>2021-01-01 00:00:00</td>\n",
       "      <td>13863</td>\n",
       "    </tr>\n",
       "    <tr>\n",
       "      <th>10</th>\n",
       "      <td>2021-02-01 00:00:00</td>\n",
       "      <td>11438</td>\n",
       "    </tr>\n",
       "    <tr>\n",
       "      <th>20</th>\n",
       "      <td>2021-03-01 00:00:00</td>\n",
       "      <td>13117</td>\n",
       "    </tr>\n",
       "    <tr>\n",
       "      <th>30</th>\n",
       "      <td>2021-04-01 00:00:00</td>\n",
       "      <td>12421</td>\n",
       "    </tr>\n",
       "    <tr>\n",
       "      <th>40</th>\n",
       "      <td>2021-05-01 00:00:00</td>\n",
       "      <td>11171</td>\n",
       "    </tr>\n",
       "    <tr>\n",
       "      <th>50</th>\n",
       "      <td>2021-06-01 00:00:00</td>\n",
       "      <td>13285</td>\n",
       "    </tr>\n",
       "    <tr>\n",
       "      <th>60</th>\n",
       "      <td>2021-07-01 00:00:00</td>\n",
       "      <td>15719</td>\n",
       "    </tr>\n",
       "    <tr>\n",
       "      <th>70</th>\n",
       "      <td>2021-08-01 00:00:00</td>\n",
       "      <td>15680</td>\n",
       "    </tr>\n",
       "    <tr>\n",
       "      <th>80</th>\n",
       "      <td>2021-09-01 00:00:00</td>\n",
       "      <td>4466</td>\n",
       "    </tr>\n",
       "  </tbody>\n",
       "</table>\n",
       "</div>"
      ],
      "text/plain": [
       "               variable  value\n",
       "0   2021-01-01 00:00:00  13863\n",
       "10  2021-02-01 00:00:00  11438\n",
       "20  2021-03-01 00:00:00  13117\n",
       "30  2021-04-01 00:00:00  12421\n",
       "40  2021-05-01 00:00:00  11171\n",
       "50  2021-06-01 00:00:00  13285\n",
       "60  2021-07-01 00:00:00  15719\n",
       "70  2021-08-01 00:00:00  15680\n",
       "80  2021-09-01 00:00:00   4466"
      ]
     },
     "execution_count": 133,
     "metadata": {},
     "output_type": "execute_result"
    }
   ],
   "source": [
    "pd.DataFrame(liste).melt().dropna()"
   ]
  },
  {
   "cell_type": "markdown",
   "metadata": {},
   "source": [
    "## Die 10 stärksten Erdbeben im 2021"
   ]
  },
  {
   "cell_type": "code",
   "execution_count": 134,
   "metadata": {},
   "outputs": [],
   "source": [
    "url1 = 'https://earthquake.usgs.gov/fdsnws/event/1/query?format=geojson'\n",
    "urlzeit = '&starttime=2021-01-01&endtime=2021-09-13&minmagnitude=6.5'"
   ]
  },
  {
   "cell_type": "code",
   "execution_count": 135,
   "metadata": {},
   "outputs": [],
   "source": [
    "response = requests.get(url1 + urlzeit)"
   ]
  },
  {
   "cell_type": "code",
   "execution_count": 136,
   "metadata": {},
   "outputs": [],
   "source": [
    "dct = response.json()"
   ]
  },
  {
   "cell_type": "code",
   "execution_count": 137,
   "metadata": {},
   "outputs": [],
   "source": [
    "earthquakes = []\n",
    "\n",
    "for elem in dct['features']:\n",
    "    \n",
    "    t = elem['properties']['type']\n",
    "    m = elem['properties']['mag']\n",
    "    p = elem['properties']['place']\n",
    "    tm = elem['properties']['time']\n",
    "    \n",
    "    mini_dict = {'Type': t,\n",
    "                 'Mag': m,\n",
    "                 'Place': p,\n",
    "                 'Time': tm}\n",
    "    \n",
    "    earthquakes.append(mini_dict)"
   ]
  },
  {
   "cell_type": "code",
   "execution_count": 138,
   "metadata": {},
   "outputs": [
    {
     "data": {
      "text/html": [
       "<div>\n",
       "<style scoped>\n",
       "    .dataframe tbody tr th:only-of-type {\n",
       "        vertical-align: middle;\n",
       "    }\n",
       "\n",
       "    .dataframe tbody tr th {\n",
       "        vertical-align: top;\n",
       "    }\n",
       "\n",
       "    .dataframe thead th {\n",
       "        text-align: right;\n",
       "    }\n",
       "</style>\n",
       "<table border=\"1\" class=\"dataframe\">\n",
       "  <thead>\n",
       "    <tr style=\"text-align: right;\">\n",
       "      <th></th>\n",
       "      <th>Type</th>\n",
       "      <th>Mag</th>\n",
       "      <th>Place</th>\n",
       "      <th>Time</th>\n",
       "    </tr>\n",
       "  </thead>\n",
       "  <tbody>\n",
       "    <tr>\n",
       "      <th>11</th>\n",
       "      <td>earthquake</td>\n",
       "      <td>8.2</td>\n",
       "      <td>99 km SE of Perryville, Alaska</td>\n",
       "      <td>1627539349188</td>\n",
       "    </tr>\n",
       "    <tr>\n",
       "      <th>8</th>\n",
       "      <td>earthquake</td>\n",
       "      <td>8.1</td>\n",
       "      <td>South Sandwich Islands region</td>\n",
       "      <td>1628793320989</td>\n",
       "    </tr>\n",
       "    <tr>\n",
       "      <th>27</th>\n",
       "      <td>earthquake</td>\n",
       "      <td>8.1</td>\n",
       "      <td>Kermadec Islands, New Zealand</td>\n",
       "      <td>1614886113178</td>\n",
       "    </tr>\n",
       "    <tr>\n",
       "      <th>31</th>\n",
       "      <td>earthquake</td>\n",
       "      <td>7.7</td>\n",
       "      <td>southeast of the Loyalty Islands</td>\n",
       "      <td>1612963195530</td>\n",
       "    </tr>\n",
       "    <tr>\n",
       "      <th>9</th>\n",
       "      <td>earthquake</td>\n",
       "      <td>7.5</td>\n",
       "      <td>South Sandwich Islands region</td>\n",
       "      <td>1628793172464</td>\n",
       "    </tr>\n",
       "    <tr>\n",
       "      <th>28</th>\n",
       "      <td>earthquake</td>\n",
       "      <td>7.4</td>\n",
       "      <td>Kermadec Islands, New Zealand</td>\n",
       "      <td>1614879683370</td>\n",
       "    </tr>\n",
       "    <tr>\n",
       "      <th>16</th>\n",
       "      <td>earthquake</td>\n",
       "      <td>7.3</td>\n",
       "      <td>Southern Qinghai, China</td>\n",
       "      <td>1621620253565</td>\n",
       "    </tr>\n",
       "    <tr>\n",
       "      <th>29</th>\n",
       "      <td>earthquake</td>\n",
       "      <td>7.3</td>\n",
       "      <td>182 km NE of Gisborne, New Zealand</td>\n",
       "      <td>1614864454647</td>\n",
       "    </tr>\n",
       "    <tr>\n",
       "      <th>5</th>\n",
       "      <td>earthquake</td>\n",
       "      <td>7.2</td>\n",
       "      <td>Nippes, Haiti</td>\n",
       "      <td>1628944148420</td>\n",
       "    </tr>\n",
       "    <tr>\n",
       "      <th>10</th>\n",
       "      <td>earthquake</td>\n",
       "      <td>7.1</td>\n",
       "      <td>60 km SE of Bobon, Philippines</td>\n",
       "      <td>1628703973142</td>\n",
       "    </tr>\n",
       "  </tbody>\n",
       "</table>\n",
       "</div>"
      ],
      "text/plain": [
       "          Type  Mag                               Place           Time\n",
       "11  earthquake  8.2      99 km SE of Perryville, Alaska  1627539349188\n",
       "8   earthquake  8.1       South Sandwich Islands region  1628793320989\n",
       "27  earthquake  8.1       Kermadec Islands, New Zealand  1614886113178\n",
       "31  earthquake  7.7    southeast of the Loyalty Islands  1612963195530\n",
       "9   earthquake  7.5       South Sandwich Islands region  1628793172464\n",
       "28  earthquake  7.4       Kermadec Islands, New Zealand  1614879683370\n",
       "16  earthquake  7.3             Southern Qinghai, China  1621620253565\n",
       "29  earthquake  7.3  182 km NE of Gisborne, New Zealand  1614864454647\n",
       "5   earthquake  7.2                       Nippes, Haiti  1628944148420\n",
       "10  earthquake  7.1      60 km SE of Bobon, Philippines  1628703973142"
      ]
     },
     "execution_count": 138,
     "metadata": {},
     "output_type": "execute_result"
    }
   ],
   "source": [
    "pd.DataFrame(earthquakes).sort_values(by='Mag', ascending=False).head(10)"
   ]
  },
  {
   "cell_type": "code",
   "execution_count": null,
   "metadata": {},
   "outputs": [],
   "source": []
  }
 ],
 "metadata": {
  "kernelspec": {
   "display_name": "Python 3",
   "language": "python",
   "name": "python3"
  },
  "language_info": {
   "codemirror_mode": {
    "name": "ipython",
    "version": 3
   },
   "file_extension": ".py",
   "mimetype": "text/x-python",
   "name": "python",
   "nbconvert_exporter": "python",
   "pygments_lexer": "ipython3",
   "version": "3.9.5"
  }
 },
 "nbformat": 4,
 "nbformat_minor": 2
}
