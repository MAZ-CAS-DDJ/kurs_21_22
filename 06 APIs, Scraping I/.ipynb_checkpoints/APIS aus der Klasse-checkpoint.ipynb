{
 "cells": [
  {
   "cell_type": "code",
   "execution_count": null,
   "id": "968ddb84",
   "metadata": {},
   "outputs": [],
   "source": [
    "#https://data.sbb.ch/explore/?sort=modified SBB\n",
    "#https://rapidapi.com/products/enterprise-hub/ Unternehmen\n",
    "#https://github.com/r-spacex/SpaceX-API SpaceX\n",
    "#https://api.nasa.gov/\n"
   ]
  },
  {
   "cell_type": "code",
   "execution_count": 1,
   "id": "95590040",
   "metadata": {},
   "outputs": [
    {
     "data": {
      "text/plain": [
       "'\\n<!DOCTYPE html>\\n<html lang=\"en\" >\\n    <head>\\n    \\n\\n    \\n        <title>Page not found &mdash; Opendatasoft</title>\\n        <link rel=\"stylesheet\" type=\"text/css\" href=\"/static/vendor/font-awesome-4.7.0/css/font-awesome.min.css\">\\n        <link rel=\"stylesheet\" href=\"/static/pictos/odsui/odsui.css\" type=\"text/css\">\\n\\n        <meta charset=\"UTF-8\"/>\\n        <meta name=\"viewport\" content=\"width=device-width, initial-scale=1.0\">\\n        <meta http-equiv=\"Content-Language\" content=\"en\">\\n        <meta http-equiv=\"X-UA-Compatible\" content=\"IE=edge\">\\n        <link rel=\"shortcut icon\" href=\"https://s3-eu-west-1.amazonaws.com/aws-ec2-eu-1-opendatasoft-staticfileset/sbb/favicon\">\\n\\n        <!--[if lte IE 9]>\\n            <script>\\n            // Stub the console object to avoid accidental leftover logs breaking IE <=9\\n            if (!window.console) window.console = {};\\n            if (!window.console.log) window.console.log = function () { };\\n            </script>\\n            <script src=\"/static/vendor/base64-polyfill/base64.min.js\" type=\"text/javascript\"></script>\\n        <![endif]-->\\n    \\n\\n    \\n    <link rel=\"alternate\" hreflang=\"en\" href=\"https://data.sbb.ch/api/records/1.0/\" />\\n<link rel=\"alternate\" hreflang=\"fr\" href=\"https://data.sbb.ch/api/records/1.0/?flg=fr\" />\\n<link rel=\"alternate\" hreflang=\"it\" href=\"https://data.sbb.ch/api/records/1.0/?flg=it\" />\\n<link rel=\"alternate\" hreflang=\"de\" href=\"https://data.sbb.ch/api/records/1.0/?flg=de\" />\\n\\n\\n    <meta name=\"description\" content=\"Daten Portal der Schweizerischen Bundesbahnen mit Daten zu Haltestellen, Rollmaterial, Zügen, ...\">\\n\\n    <link rel=\"stylesheet\" href=\"/static/compressed/css/46702f0071e9.css\" type=\"text/css\" />\\n\\n    <link rel=\"stylesheet\" type=\"text/css\" href=\"https://s3-eu-west-1.amazonaws.com/aws-ec2-eu-1-opendatasoft-staticfileset/sbb/stylesheet/21.css\">\\n\\n    <base href=\"/api/records/1.0/\" />\\n        \\n\\n    </head>\\n    <body>\\n        <div class=\"ods-content ods-error-page\">\\n            \\n    <header class=\"ng-cloak\" ng-controller=\"HeaderController\">\\n    \\n        \\n            \\n                <nav class=\"ods-front-header\" ods-responsive-menu breakpoint=\"1000\">\\n    <ods-responsive-menu-collapsible>        \\n        <a class=\"ods-front-header__portal-brand\" href=\"/\">\\n            \\n\\n\\n\\n\\n\\n    <img src=\"https://s3-eu-west-1.amazonaws.com/aws-ec2-eu-1-opendatasoft-staticfileset/sbb/logo\"\\n         class=\"ods-front-header__logo \"\\n         alt=\"SBB DATEN PORTAL\"\\n    />\\n\\n\\n\\n        </a>  <br />\\n        \\n<ul class=\"ods-front-header__menu\">\\n    \\n\\n\\n\\n<li ng-non-bindable class=\"ods-front-header__menu-item\">\\n    <a class=\"ods-front-header__menu-item-link\" href=\"/pages/home/\">\\n        Home\\n    </a>\\n</li><li ng-non-bindable class=\"ods-front-header__menu-item\">\\n    <a class=\"ods-front-header__menu-item-link\" href=\"/explore/\">\\n        Data\\n    </a>\\n</li><li ng-non-bindable class=\"ods-front-header__menu-item\">\\n    <a class=\"ods-front-header__menu-item-link\" href=\"/map/\">\\n        Cartograph\\n    </a>\\n</li><li ng-non-bindable class=\"ods-front-header__menu-item\">\\n    <a class=\"ods-front-header__menu-item-link\" href=\"/pages/news/\">\\n        News\\n    </a>\\n</li><li ng-non-bindable class=\"ods-front-header__menu-item\">\\n    <a class=\"ods-front-header__menu-item-link\" href=\"/pages/motivation/\">\\n        Motivation\\n    </a>\\n</li>\\n\\n</ul>\\n        \\n<ul class=\"ods-front-header__management-menu\">\\n\\n    \\n    <li class=\"ods-front-header__management-menu-item\">\\n        <a class=\"ods-front-header__management-menu-item-link\" href=\"/signup/\">\\n            <i class=\"fa fa-user-plus\" aria-hidden=\"true\"></i>\\n            Signup\\n        </a>\\n    </li>\\n    \\n    \\n    <li class=\"ods-front-header__management-menu-item\">\\n        <a class=\"ods-front-header__management-menu-item-link\" href=\"/login/\">\\n            <i class=\"fa fa-sign-in\" aria-hidden=\"true\"></i>\\n            Login\\n        </a>\\n    </li>\\n    \\n\\n\\n</ul>\\n\\n    </ods-responsive-menu-collapsible>\\n    <ods-responsive-menu-placeholder>\\n        <a class=\"ods-front-header__portal-brand\" href=\"/\">\\n            \\n\\n\\n\\n\\n\\n    <img src=\"https://s3-eu-west-1.amazonaws.com/aws-ec2-eu-1-opendatasoft-staticfileset/sbb/logo\"\\n         class=\"ods-front-header__logo \"\\n         alt=\"SBB DATEN PORTAL\"\\n    />\\n\\n\\n\\n        </a>\\n    </ods-responsive-menu-placeholder>\\n</nav>\\n\\n            \\n        \\n    \\n    </header>\\n\\n    <div class=\"ods-error-page__page-container\">\\n        <div class=\"ods-error-page__container\">\\n            \\n    <h1 class=\"ods-error-page__title\">This page could not be found</h1>\\n    <h2 class=\"ods-error-page__title\">Error code: 404</h2>\\n    <div class=\"ods-error-page__message\">\\n        <p>This could be due to one of these reasons:</p>\\n        <ul>\\n            <li>You made a mistake when typing the page address (URL)</li>\\n            <li>You clicked an old or expired link</li>\\n            <li>The page was never here, has been moved or deleted</li>\\n            \\n                <li>This could be a page that exists but requires to be logged in</li>\\n            \\n        </ul>\\n        <p>We apologize for the inconvenience, but you can get out of here:</p>\\n        <ul>\\n            <li>Go back using the back feature of your browser</li>\\n            <li>Check the spelling of the page address (URL)</li>\\n            <li>Go to the homepage</li>\\n        </ul>\\n    </div>\\n    <div class=\"ods-error-page__home-link\">\\n        <a href=\"/\"\\n           class=\"ods-error-page__home-link-item\">\\n            <i class=\"fa fa-home\" aria-hidden=\"true\"></i>\\n            Go to homepage\\n        </a>\\n    </div>\\n\\n\\n\\n        </div>\\n    </div>\\n\\n        </div>\\n\\n        <footer ng-controller=\"FooterController\">\\n        \\n    \\n        <div class=\"ods-front-footer\">\\n        \\n\\n\\n    <ul class=\"ods-front-footer__languages\">\\n    \\n        <li class=\"ods-front-footer__language\">\\n            <a ods-language-switcher=\"en\"\\n               href=\"#\"\\n               hreflang=\"en\"\\n               class=\"ods-front-footer__language__choice ods-front-footer__link ods-front-footer__link--active\"\\n               title=\"English\">en</a>\\n        </li>\\n    \\n        <li class=\"ods-front-footer__language\">\\n            <a ods-language-switcher=\"fr\"\\n               href=\"#\"\\n               hreflang=\"fr\"\\n               class=\"ods-front-footer__language__choice ods-front-footer__link\"\\n               title=\"French\">fr</a>\\n        </li>\\n    \\n        <li class=\"ods-front-footer__language\">\\n            <a ods-language-switcher=\"it\"\\n               href=\"#\"\\n               hreflang=\"it\"\\n               class=\"ods-front-footer__language__choice ods-front-footer__link\"\\n               title=\"Italian\">it</a>\\n        </li>\\n    \\n        <li class=\"ods-front-footer__language\">\\n            <a ods-language-switcher=\"de\"\\n               href=\"#\"\\n               hreflang=\"de\"\\n               class=\"ods-front-footer__language__choice ods-front-footer__link\"\\n               title=\"German\">de</a>\\n        </li>\\n    \\n    </ul>\\n\\n\\n\\n    <div class=\"links\">\\n        \\n\\n<a href=\"/terms/terms-and-conditions/\" class=\"ods-front-footer__legal ods-front-footer__link\" target=\"_blank\">\\n    Terms and conditions\\n</a>\\n\\n<a href=\"/terms/privacy-policy/\" class=\"ods-front-footer__legal ods-front-footer__link\" target=\"_blank\">\\n    Privacy policy\\n</a>\\n    \\n        <a ng-if=\"\\'fr\\'|currentLanguage\" href=\"https://www.sbb.ch/fr/meta/legallines/datenschutz.html\">Protection des données</a>\\n        <a ng-if=\"\\'en\\'|currentLanguage\" href=\"https://www.sbb.ch/en/meta/legallines/datenschutz.html\">Data protection</a>\\n        <a ng-if=\"\\'it\\'|currentLanguage\" href=\"https://www.sbb.ch/it/meta/legallines/datenschutz.html\">Tutela dei dati </a>\\n        <a ng-if=\"\\'de\\'|currentLanguage\" href=\"https://www.sbb.ch/de/meta/legallines/datenschutz.html\">Datenschutz</a>\\n        \\n        <a ng-if=\"\\'fr\\'|currentLanguage\" href=\"https://data.sbb.ch/tutorial/\">Tutorial</a>\\n        <a ng-if=\"\\'en\\'|currentLanguage\" href=\"https://data.sbb.ch/tutorial/\">Tutorial</a>\\n        <a ng-if=\"\\'it\\'|currentLanguage\" href=\"https://data.sbb.ch/tutorial/\">Tutorial</a>\\n        <a ng-if=\"\\'de\\'|currentLanguage\" href=\"https://data.sbb.ch/tutorial/\">Tutorial</a>\\n        \\n        <a ng-if=\"\\'fr\\'|currentLanguage\" href=\"mailto:data@sbb.ch\">Contact</a>\\n        <a ng-if=\"\\'en\\'|currentLanguage\" href=\"mailto:data@sbb.ch\">Contact</a>\\n        <a ng-if=\"\\'it\\'|currentLanguage\" href=\"mailto:data@sbb.ch\">Contatti</a>\\n        <a ng-if=\"\\'de\\'|currentLanguage\" href=\"mailto:data@sbb.ch\">Kontakt</a>\\n    </div>    \\n</div> \\n\\n\\n\\n    \\n\\n        </footer>\\n        <script type=\"text/javascript\" src=\"/static/compressed/js/72cf6404d940.js\"></script>\\n\\n        <script type=\"text/javascript\" src=\"/static/compressed/js/89f6a2d712c1.js\"></script>\\n\\n        <script type=\"text/javascript\">\\n            var app = angular.module(\\'ods.core.config\\', []);\\n\\n            \\n            app.factory(\"domainConfig\", [function() {\\n                return {\"languages\": [\"en\", \"fr\", \"it\", \"de\"], \"explore.disable_analyze\": null, \"explore.enable_api_tab\": true};\\n            }]);\\n            \\n            app.factory(\"config\", [function() {\\n                return {\\n                    DATASET_ID: \\'\\',\\n                    LANGUAGE: \\'en\\',\\n                    AVAILABLE_LANGUAGES: [\"en\", \"fr\", \"it\", \"de\"],\\n                    USER: null,\\n                    BRAND_HOSTNAME: \"opendatasoft.com\",\\n                    DEFAULT_BASEMAP: {\"jawg_apikey\": \"4cKtE4Rze1HrvxWa9a7mdolSk10lVThTFC8zadQYMIMxTjkpTeIDJAAmhReDGnCH\", \"jawg_odsdomain\": \"sbb\", \"provider\": \"jawg.streets\"},\\n                \\n                    DOMAIN_ID: \\'sbb\\',\\n                    FEEDBACK: true,\\n                    RESOURCE_DOWNLOAD_CONDITIONS: false,\\n                    PARENT_DOMAIN: false,\\n                    \\n                \\n                    CENTRALSTORE: true,\\n                    FORCE_DEBUG_LOGGER: false,\\n                    RECAPTCHA_PUBLIC_KEY: \\'6LflroEUAAAAAH1LD8LksjNLDrYFfDp1_bf-D_RD\\',\\n                    REQUEST_ID: \\'ff6eea3e0220457ca5120b93f110f426\\'\\n                }\\n            }]);\\n        </script>\\n\\n        <script type=\"text/javascript\" src=\"/static/compressed/js/54b2c63b950d.js\"></script>\\n\\n        \\n\\n\\n\\n        <script src=\"/static/ods/js/supported-browsers-message.js\" type=\"text/javascript\"></script>\\n\\n        \\n    \\n\\n    <script type=\"text/javascript\" src=\"/static/compressed/js/f90efef3da35.js\"></script>\\n\\n    <script type=\"text/javascript\" src=\"/static/compressed/js/39521f0977bb.js\"></script>\\n\\n    </body>\\n</html>\\n'"
      ]
     },
     "execution_count": 1,
     "metadata": {},
     "output_type": "execute_result"
    }
   ],
   "source": [
    "import requests\n",
    "url = \"https://data.sbb.ch/api/records/1.0/\"\n",
    "response = requests.get(url)\n",
    "response.text"
   ]
  },
  {
   "cell_type": "code",
   "execution_count": 2,
   "id": "f6c662a4",
   "metadata": {
    "scrolled": true
   },
   "outputs": [
    {
     "data": {
      "text/plain": [
       "'{\"nhits\": 557, \"parameters\": {\"dataset\": \"covid_19-fallzahlen-kanton-stgallen-total\", \"timezone\": \"UTC\", \"rows\": 10, \"start\": 0, \"format\": \"json\", \"facet\": [\"date\"]}, \"records\": [{\"datasetid\": \"covid_19-fallzahlen-kanton-stgallen-total\", \"recordid\": \"ea4ed7d999a6fdc4ad39584da5c666c32148e1d9\", \"fields\": {\"date\": \"2020-03-04\", \"source\": \"https://www.sg.ch/tools/informationen-coronavirus.html\", \"ncumul_conf\": 1, \"time\": \"06:35\", \"abbreviation_canton_and_fl\": \"SG\"}, \"record_timestamp\": \"2021-09-10T10:00:46.792000+00:00\"}, {\"datasetid\": \"covid_19-fallzahlen-kanton-stgallen-total\", \"recordid\": \"722d396c2b106b4423dcb385620470ecbb90bde3\", \"fields\": {\"date\": \"2020-03-06\", \"source\": \"https://www.sg.ch/tools/informationen-coronavirus.html\", \"ncumul_conf\": 4, \"time\": \"15:38\", \"abbreviation_canton_and_fl\": \"SG\"}, \"record_timestamp\": \"2021-09-10T10:00:46.792000+00:00\"}, {\"datasetid\": \"covid_19-fallzahlen-kanton-stgallen-total\", \"recordid\": \"696782d7150a6ecb231c8a3482f20b356fdb20e7\", \"fields\": {\"date\": \"2020-03-08\", \"source\": \"https://www.sg.ch/tools/informationen-coronavirus.html\", \"ncumul_conf\": 5, \"abbreviation_canton_and_fl\": \"SG\"}, \"record_timestamp\": \"2021-09-10T10:00:46.792000+00:00\"}, {\"datasetid\": \"covid_19-fallzahlen-kanton-stgallen-total\", \"recordid\": \"c86b81c63e1d9f4572f27bf95d54b259121c6a6a\", \"fields\": {\"date\": \"2020-03-12\", \"source\": \"https://www.sg.ch/tools/informationen-coronavirus.html\", \"ncumul_conf\": 30, \"abbreviation_canton_and_fl\": \"SG\"}, \"record_timestamp\": \"2021-09-10T10:00:46.792000+00:00\"}, {\"datasetid\": \"covid_19-fallzahlen-kanton-stgallen-total\", \"recordid\": \"d08c24359d63d77e58d70b6eac8cc1ee3ded082a\", \"fields\": {\"date\": \"2020-03-15\", \"source\": \"https://www.sg.ch/tools/informationen-coronavirus.html\", \"ncumul_conf\": 49, \"abbreviation_canton_and_fl\": \"SG\"}, \"record_timestamp\": \"2021-09-10T10:00:46.792000+00:00\"}, {\"datasetid\": \"covid_19-fallzahlen-kanton-stgallen-total\", \"recordid\": \"45093b3e9d8bdd103b7d9107e3dd226894af5f8e\", \"fields\": {\"date\": \"2020-03-16\", \"source\": \"https://www.sg.ch/tools/informationen-coronavirus.html\", \"ncumul_conf\": 77, \"abbreviation_canton_and_fl\": \"SG\"}, \"record_timestamp\": \"2021-09-10T10:00:46.792000+00:00\"}, {\"datasetid\": \"covid_19-fallzahlen-kanton-stgallen-total\", \"recordid\": \"cf9d40b77b969547bb690ebada54b2d7e4f9feaf\", \"fields\": {\"date\": \"2020-03-22\", \"source\": \"https://www.sg.ch/tools/informationen-coronavirus.html\", \"ncumul_conf\": 212, \"abbreviation_canton_and_fl\": \"SG\"}, \"record_timestamp\": \"2021-09-10T10:00:46.792000+00:00\"}, {\"datasetid\": \"covid_19-fallzahlen-kanton-stgallen-total\", \"recordid\": \"0e72828c99b9d33d65f5ebc871157ce077c6e923\", \"fields\": {\"date\": \"2020-03-26\", \"source\": \"https://www.sg.ch/tools/informationen-coronavirus.html\", \"ncumul_conf\": 351, \"ncumul_deceased\": 1, \"abbreviation_canton_and_fl\": \"SG\"}, \"record_timestamp\": \"2021-09-10T10:00:46.792000+00:00\"}, {\"datasetid\": \"covid_19-fallzahlen-kanton-stgallen-total\", \"recordid\": \"63d715363d36bc45f4abdd1d681754df2b526fc0\", \"fields\": {\"date\": \"2020-03-29\", \"source\": \"https://www.sg.ch/tools/informationen-coronavirus.html\", \"ncumul_conf\": 396, \"ncumul_deceased\": 5, \"abbreviation_canton_and_fl\": \"SG\"}, \"record_timestamp\": \"2021-09-10T10:00:46.792000+00:00\"}, {\"datasetid\": \"covid_19-fallzahlen-kanton-stgallen-total\", \"recordid\": \"64c23b6ce6268747cb7a77f554f7c70cc6f46ce3\", \"fields\": {\"ncumul_conf\": 554, \"ncumul_hosp\": 79, \"ncumul_released\": 62, \"ncumul_deceased\": 9, \"source\": \"https://www.sg.ch/tools/informationen-coronavirus.html\", \"date\": \"2020-04-04\", \"ncumul_icu\": 13, \"abbreviation_canton_and_fl\": \"SG\"}, \"record_timestamp\": \"2021-09-10T10:00:46.792000+00:00\"}], \"facet_groups\": [{\"facets\": [{\"count\": 305, \"path\": \"2020\", \"state\": \"displayed\", \"name\": \"2020\"}, {\"count\": 252, \"path\": \"2021\", \"state\": \"displayed\", \"name\": \"2021\"}], \"name\": \"date\"}]}'"
      ]
     },
     "execution_count": 2,
     "metadata": {},
     "output_type": "execute_result"
    }
   ],
   "source": [
    "url = \"https://daten.sg.ch/api/records/1.0/search/?dataset=covid_19-fallzahlen-kanton-stgallen-total&q=&facet=date\"\n",
    "response = requests.get(url)\n",
    "response.text"
   ]
  },
  {
   "cell_type": "code",
   "execution_count": null,
   "id": "f3eeb3f0",
   "metadata": {},
   "outputs": [],
   "source": []
  }
 ],
 "metadata": {
  "kernelspec": {
   "display_name": "Python 3",
   "language": "python",
   "name": "python3"
  },
  "language_info": {
   "codemirror_mode": {
    "name": "ipython",
    "version": 3
   },
   "file_extension": ".py",
   "mimetype": "text/x-python",
   "name": "python",
   "nbconvert_exporter": "python",
   "pygments_lexer": "ipython3",
   "version": "3.9.5"
  }
 },
 "nbformat": 4,
 "nbformat_minor": 5
}
