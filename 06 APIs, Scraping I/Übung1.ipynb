{
 "cells": [
  {
   "cell_type": "markdown",
   "metadata": {},
   "source": [
    "# Libraries und arbeiten mit APIs"
   ]
  },
  {
   "cell_type": "markdown",
   "metadata": {},
   "source": [
    "#### 0. Importiere die Library requests."
   ]
  },
  {
   "cell_type": "code",
   "execution_count": 19,
   "metadata": {},
   "outputs": [],
   "source": [
    "import requests\n",
    "import pandas as pd\n",
    "import datetime"
   ]
  },
  {
   "cell_type": "markdown",
   "metadata": {},
   "source": [
    "#### 1. Suche 3 Beispiele von APIs. Von solchen, die mit und ohne Schlüssel, verwendet werden können und liste sie auf. (Ihr müsst sie nicht gleich auslesen. Sondern einfach mal hier die Dokumentation aufführen)."
   ]
  },
  {
   "cell_type": "code",
   "execution_count": 20,
   "metadata": {},
   "outputs": [],
   "source": [
    "# https://www.parlament.ch/de/services/open-data-webservices Die API des Schweizer Parlaments\n",
    "# https://www.bfs.admin.ch/bfs/de/home/dienstleistungen/forschung/api.html API-Zugänge BfS\n",
    "# https://data.sbb.ch/explore/?sort=modified Die API der SBB\n",
    "# https://www.post.ch/de/geschaeftsloesungen/digital-commerce/digital-commerce-api/personalisierte-api-integration #Die API der Post\n",
    "# https://rapidapi.com/products/enterprise-hub/ Unternehmen\n",
    "# https://github.com/r-spacex/SpaceX-API SpaceX\n",
    "# https://api.nasa.gov/\n",
    "\n",
    "\n",
    "# https://developers.google.com/apis-explorer Googles Super Angebot\n",
    "# https://developer.twitter.com/en/docs Twitter\n",
    "# ...\n",
    "\n"
   ]
  },
  {
   "cell_type": "markdown",
   "metadata": {},
   "source": [
    "- [Schweizer Parlament](https://www.parlament.ch/de/services/open-data-webservices)\n",
    "- [BfS](https://www.bfs.admin.ch/bfs/de/home/dienstleistungen/forschung/api.html)\n",
    "- [SBB](https://data.sbb.ch/explore/?sort=modified)\n",
    "- [Post](https://www.post.ch/de/geschaeftsloesungen/digital-commerce/digital-commerce-api/personalisierte-api-integration)\n",
    "- [Google](https://developers.google.com/apis-explorer)\n",
    "- [Twitter](https://developer.twitter.com/en/docs)"
   ]
  },
  {
   "cell_type": "markdown",
   "metadata": {},
   "source": [
    "#### 2. Lese eine dieser APIs mit requests ein und rufe die Ergebnisse auf."
   ]
  },
  {
   "cell_type": "code",
   "execution_count": 2,
   "metadata": {},
   "outputs": [],
   "source": [
    "r = requests.get(\"http://ws-old.parlament.ch/sessions?format=json\")"
   ]
  },
  {
   "cell_type": "code",
   "execution_count": 10,
   "metadata": {
    "scrolled": true
   },
   "outputs": [
    {
     "data": {
      "text/plain": [
       "'\\r\\n\\r\\n<!DOCTYPE html PUBLIC \"-//W3C//DTD XHTML 1.0 Strict//EN\" \"http://www.w3.org/TR/xhtml1/DTD/xhtml1-strict.dtd\">\\r\\n<html xmlns=\"http://www.w3.org/1999/xhtml\">\\r\\n<head id=\"ctl00_Head1\"><title>\\r\\n\\t\\r\\n    Sessions\\r\\n - Web Services des Schweizer Parlaments \\r\\n</title><link href=\"Content/Site.css\" rel=\"stylesheet\" type=\"text/css\" /><link href=\"Content/menu.css\" rel=\"stylesheet\" type=\"text/css\" />\\r\\n    <script type=\"text/javascript\" src=\"../../Content/jquery.min.js\"></script>\\r\\n    <script type=\"text/javascript\" src=\"../../Content/menu.js\"></script>\\r\\n\\r\\n    <meta name=\"viewport\" content=\"width=device-width,initial-scale=1\" /></head>\\r\\n\\r\\n<body>\\r\\n    <div class=\"page\">\\r\\n\\r\\n        <div id=\"header\">\\r\\n            <div id=\"title\">\\r\\n                <h1>Web Services des Schweizer Parlaments</h1>\\r\\n            </div>\\r\\n            \\r\\n            <div id=\"logindisplay\">\\r\\n                \\r\\n           <span class=\"lang-active\" title=\"Deutsch\">DE</span>\\r\\n        \\r\\n            <a href=\"/home/setculture/fr\" title=\"Französisch\">FR</a>\\r\\n    \\r\\n            <a href=\"/home/setculture/it\" title=\"Italienisch\">IT</a>\\r\\n    \\r\\n            <a href=\"/home/setculture/en\" title=\"Englisch\">EN</a>\\r\\n    \\r\\n            </div> \\r\\n            \\r\\n            <a class=\"toggleMenu\" href=\"#\">Menu</a>\\r\\n            <ul class=\"nav\">              \\r\\n                <li><a href=\"/\">Home</a></li>\\r\\n                <li>\\r\\n                    <a class=\"parent\" href=\"/affairs\">Affairs</a>\\r\\n                    <ul>\\r\\n                        <li><a href=\"/affairs/types\"> Types</a></li>\\r\\n                        <li><a href=\"/affairs/states\"> States</a></li>\\r\\n                        <li><a href=\"/affairs/topics\"> Keywords</a></li>\\r\\n                        <li><a href=\"/affairs/descriptors\"> Descriptors</a></li>\\r\\n                    </ul>\\r\\n                </li>\\r\\n                <li>\\r\\n                    <a href=\"/affairsummaries\"> Affair summaries</a>\\r\\n                </li>\\r\\n                <li><a href=\"/committees\">Committees</a></li>\\r\\n                <li><a href=\"/cantons\">Cantons</a></li>\\r\\n                <li>\\r\\n                    <a class=\"parent\" href=\"/councillors\">Councillors</a>\\r\\n                    <ul>\\r\\n                        <li><a href=\"/councillors/basicdetails\">Basic Details</a></li>\\r\\n                        <li><a href=\"/councillors/historic\">Historic</a></li>\\r\\n                    </ul>\\r\\n                </li>\\r\\n                <li><a href=\"/councils\">Councils</a></li>\\r\\n                <li><a href=\"/departments\">Departments</a>\\r\\n                    <ul>\\r\\n                        <li><a href=\"/departments/historic\">Historic</a></li>\\r\\n                    </ul>\\r\\n                </li>\\r\\n                <li>\\r\\n                    <a class=\"parent\" href=\"/factions\">Factions</a>\\r\\n                    <ul>\\r\\n                        <li><a href=\"/factions/historic\">Historic</a></li>\\r\\n                    </ul>\\r\\n                </li>\\r\\n                <li><a href=\"/legislativeperiods\">Legislative periods</a></li>\\r\\n                <li><a href=\"/liveplus\">Live+</a></li>\\r\\n                <li>\\r\\n                    <a class=\"parent\" href=\"/parties\">Parties</a>\\r\\n                    <ul>\\r\\n                        <li><a href=\"/parties/historic\">Historic</a></li>\\r\\n                    </ul>\\r\\n                </li>\\r\\n                <li>\\r\\n                    <a class=\"parent\" href=\"/schedules\">Schedules</a>\\r\\n                    <ul>\\r\\n                        \\r\\n                            <li><a href=\"/schedules/2010\">2010</a></li>\\r\\n                        \\r\\n                            <li><a href=\"/schedules/2011\">2011</a></li>\\r\\n                        \\r\\n                            <li><a href=\"/schedules/2012\">2012</a></li>\\r\\n                        \\r\\n                            <li><a href=\"/schedules/2013\">2013</a></li>\\r\\n                        \\r\\n                            <li><a href=\"/schedules/2014\">2014</a></li>\\r\\n                        \\r\\n                            <li><a href=\"/schedules/2015\">2015</a></li>\\r\\n                        \\r\\n                            <li><a href=\"/schedules/2016\">2016</a></li>\\r\\n                        \\r\\n                            <li><a href=\"/schedules/2017\">2017</a></li>\\r\\n                        \\r\\n                            <li><a href=\"/schedules/2018\">2018</a></li>\\r\\n                        \\r\\n                            <li><a href=\"/schedules/2019\">2019</a></li>\\r\\n                        \\r\\n                            <li><a href=\"/schedules/2020\">2020</a></li>\\r\\n                        \\r\\n                            <li><a href=\"/schedules/2021\">2021</a></li>\\r\\n                        \\r\\n                    </ul>\\r\\n                </li>\\r\\n                <li><li><a href=\"/sessions\">Sessions</a></li></li>\\r\\n                <li>\\r\\n                    <a class=\"parent\" href=\"/votes\">Votes</a>\\r\\n                    <ul>\\r\\n                        <li><a href=\"/votes/affairs\"> Affairs</a></li>\\r\\n                        <li><a href=\"/votes/councillors\"> Councillors</a></li>\\r\\n                    </ul>\\r\\n                </li>\\r\\n            </ul>\\r\\n            \\r\\n        </div>\\r\\n\\r\\n        <div id=\"main\">\\r\\n            \\r\\n\\r\\n    <h2>Sessions</h2>\\r\\n    <div class=\"paging\">Page 1 of 4  (159 entries)<span>First</span><span>Previous</span><a href=\"?pageNumber=2\">Next</a><a href=\"?pageNumber=4\">Last</a></div>\\r\\n    \\r\\n    <table>\\r\\n        <tr>\\r\\n            <th>Name</th>\\r\\n            <th>Code</th>\\r\\n            <th>Id</th>\\r\\n            <th>From</th>\\r\\n            <th>To</th>\\r\\n            <th>Updated</th>\\r\\n        </tr>\\r\\n\\r\\n    \\r\\n    \\r\\n        <tr>\\r\\n            <td>\\r\\n                Herbstsession 2021\\r\\n            </td>\\r\\n            <td>\\r\\n                5111\\r\\n            </td>\\r\\n            <td>\\r\\n                11\\r\\n            </td>\\r\\n            <td>\\r\\n                13.09.2021\\r\\n            </td>\\r\\n            <td>\\r\\n                01.10.2021\\r\\n            </td>\\r\\n            <td>\\r\\n                04.05.2021 15:18\\r\\n            </td>\\r\\n        </tr>\\r\\n    \\r\\n    \\r\\n    \\r\\n        <tr>\\r\\n            <td>\\r\\n                Sommersession 2021\\r\\n            </td>\\r\\n            <td>\\r\\n                5110\\r\\n            </td>\\r\\n            <td>\\r\\n                10\\r\\n            </td>\\r\\n            <td>\\r\\n                31.05.2021\\r\\n            </td>\\r\\n            <td>\\r\\n                18.06.2021\\r\\n            </td>\\r\\n            <td>\\r\\n                04.05.2021 15:18\\r\\n            </td>\\r\\n        </tr>\\r\\n    \\r\\n    \\r\\n    \\r\\n        <tr>\\r\\n            <td>\\r\\n                Sondersession Mai\\r\\n            </td>\\r\\n            <td>\\r\\n                5109\\r\\n            </td>\\r\\n            <td>\\r\\n                9\\r\\n            </td>\\r\\n            <td>\\r\\n                03.05.2021\\r\\n            </td>\\r\\n            <td>\\r\\n                05.05.2021\\r\\n            </td>\\r\\n            <td>\\r\\n                04.05.2021 15:17\\r\\n            </td>\\r\\n        </tr>\\r\\n    \\r\\n    \\r\\n    \\r\\n        <tr>\\r\\n            <td>\\r\\n                Fr&#252;hjahrssession 2021\\r\\n            </td>\\r\\n            <td>\\r\\n                5108\\r\\n            </td>\\r\\n            <td>\\r\\n                8\\r\\n            </td>\\r\\n            <td>\\r\\n                01.03.2021\\r\\n            </td>\\r\\n            <td>\\r\\n                19.03.2021\\r\\n            </td>\\r\\n            <td>\\r\\n                01.09.2020 12:02\\r\\n            </td>\\r\\n        </tr>\\r\\n    \\r\\n    \\r\\n    \\r\\n        <tr>\\r\\n            <td>\\r\\n                Wintersession 2020\\r\\n            </td>\\r\\n            <td>\\r\\n                5107\\r\\n            </td>\\r\\n            <td>\\r\\n                7\\r\\n            </td>\\r\\n            <td>\\r\\n                30.11.2020\\r\\n            </td>\\r\\n            <td>\\r\\n                18.12.2020\\r\\n            </td>\\r\\n            <td>\\r\\n                01.09.2020 12:02\\r\\n            </td>\\r\\n        </tr>\\r\\n    \\r\\n    \\r\\n    \\r\\n        <tr>\\r\\n            <td>\\r\\n                Sondersession Oktober 2020\\r\\n            </td>\\r\\n            <td>\\r\\n                5106\\r\\n            </td>\\r\\n            <td>\\r\\n                6\\r\\n            </td>\\r\\n            <td>\\r\\n                29.10.2020\\r\\n            </td>\\r\\n            <td>\\r\\n                30.10.2020\\r\\n            </td>\\r\\n            <td>\\r\\n                01.09.2020 12:02\\r\\n            </td>\\r\\n        </tr>\\r\\n    \\r\\n    \\r\\n    \\r\\n        <tr>\\r\\n            <td>\\r\\n                Herbstsession 2020\\r\\n            </td>\\r\\n            <td>\\r\\n                5105\\r\\n            </td>\\r\\n            <td>\\r\\n                5\\r\\n            </td>\\r\\n            <td>\\r\\n                07.09.2020\\r\\n            </td>\\r\\n            <td>\\r\\n                25.09.2020\\r\\n            </td>\\r\\n            <td>\\r\\n                01.09.2020 12:00\\r\\n            </td>\\r\\n        </tr>\\r\\n    \\r\\n    \\r\\n    \\r\\n        <tr>\\r\\n            <td>\\r\\n                Sommersession 2020\\r\\n            </td>\\r\\n            <td>\\r\\n                5104\\r\\n            </td>\\r\\n            <td>\\r\\n                4\\r\\n            </td>\\r\\n            <td>\\r\\n                02.06.2020\\r\\n            </td>\\r\\n            <td>\\r\\n                19.06.2020\\r\\n            </td>\\r\\n            <td>\\r\\n                01.09.2020 12:00\\r\\n            </td>\\r\\n        </tr>\\r\\n    \\r\\n    \\r\\n    \\r\\n        <tr>\\r\\n            <td>\\r\\n                Ausserordentliche Session Mai 2020\\r\\n            </td>\\r\\n            <td>\\r\\n                5103\\r\\n            </td>\\r\\n            <td>\\r\\n                3\\r\\n            </td>\\r\\n            <td>\\r\\n                04.05.2020\\r\\n            </td>\\r\\n            <td>\\r\\n                08.05.2020\\r\\n            </td>\\r\\n            <td>\\r\\n                01.09.2020 12:00\\r\\n            </td>\\r\\n        </tr>\\r\\n    \\r\\n    \\r\\n    \\r\\n        <tr>\\r\\n            <td>\\r\\n                Fr&#252;hjahrssession 2020\\r\\n            </td>\\r\\n            <td>\\r\\n                5102\\r\\n            </td>\\r\\n            <td>\\r\\n                2\\r\\n            </td>\\r\\n            <td>\\r\\n                02.03.2020\\r\\n            </td>\\r\\n            <td>\\r\\n                12.03.2020\\r\\n            </td>\\r\\n            <td>\\r\\n                01.09.2020 12:00\\r\\n            </td>\\r\\n        </tr>\\r\\n    \\r\\n    \\r\\n    \\r\\n        <tr>\\r\\n            <td>\\r\\n                Wintersession 2019\\r\\n            </td>\\r\\n            <td>\\r\\n                5101\\r\\n            </td>\\r\\n            <td>\\r\\n                1\\r\\n            </td>\\r\\n            <td>\\r\\n                02.12.2019\\r\\n            </td>\\r\\n            <td>\\r\\n                20.12.2019\\r\\n            </td>\\r\\n            <td>\\r\\n                01.09.2020 12:00\\r\\n            </td>\\r\\n        </tr>\\r\\n    \\r\\n    \\r\\n    \\r\\n        <tr>\\r\\n            <td>\\r\\n                Herbstsession 2019\\r\\n            </td>\\r\\n            <td>\\r\\n                5019\\r\\n            </td>\\r\\n            <td>\\r\\n                19\\r\\n            </td>\\r\\n            <td>\\r\\n                09.09.2019\\r\\n            </td>\\r\\n            <td>\\r\\n                27.09.2019\\r\\n            </td>\\r\\n            <td>\\r\\n                01.09.2020 12:00\\r\\n            </td>\\r\\n        </tr>\\r\\n    \\r\\n    \\r\\n    \\r\\n        <tr>\\r\\n            <td>\\r\\n                Sommersession 2019\\r\\n            </td>\\r\\n            <td>\\r\\n                5018\\r\\n            </td>\\r\\n            <td>\\r\\n                18\\r\\n            </td>\\r\\n            <td>\\r\\n                03.06.2019\\r\\n            </td>\\r\\n            <td>\\r\\n                21.06.2019\\r\\n            </td>\\r\\n            <td>\\r\\n                01.09.2020 12:00\\r\\n            </td>\\r\\n        </tr>\\r\\n    \\r\\n    \\r\\n    \\r\\n        <tr>\\r\\n            <td>\\r\\n                Sondersession Mai 2019\\r\\n            </td>\\r\\n            <td>\\r\\n                5017\\r\\n            </td>\\r\\n            <td>\\r\\n                17\\r\\n            </td>\\r\\n            <td>\\r\\n                07.05.2019\\r\\n            </td>\\r\\n            <td>\\r\\n                09.05.2019\\r\\n            </td>\\r\\n            <td>\\r\\n                01.09.2020 12:00\\r\\n            </td>\\r\\n        </tr>\\r\\n    \\r\\n    \\r\\n    \\r\\n        <tr>\\r\\n            <td>\\r\\n                Fr&#252;hjahrssession 2019\\r\\n            </td>\\r\\n            <td>\\r\\n                5016\\r\\n            </td>\\r\\n            <td>\\r\\n                16\\r\\n            </td>\\r\\n            <td>\\r\\n                04.03.2019\\r\\n            </td>\\r\\n            <td>\\r\\n                22.03.2019\\r\\n            </td>\\r\\n            <td>\\r\\n                01.09.2020 12:00\\r\\n            </td>\\r\\n        </tr>\\r\\n    \\r\\n    \\r\\n    \\r\\n        <tr>\\r\\n            <td>\\r\\n                Wintersession 2018\\r\\n            </td>\\r\\n            <td>\\r\\n                5015\\r\\n            </td>\\r\\n            <td>\\r\\n                15\\r\\n            </td>\\r\\n            <td>\\r\\n                26.11.2018\\r\\n            </td>\\r\\n            <td>\\r\\n                14.12.2018\\r\\n            </td>\\r\\n            <td>\\r\\n                01.09.2020 12:00\\r\\n            </td>\\r\\n        </tr>\\r\\n    \\r\\n    \\r\\n    \\r\\n        <tr>\\r\\n            <td>\\r\\n                Herbstsession 2018\\r\\n            </td>\\r\\n            <td>\\r\\n                5014\\r\\n            </td>\\r\\n            <td>\\r\\n                14\\r\\n            </td>\\r\\n            <td>\\r\\n                10.09.2018\\r\\n            </td>\\r\\n            <td>\\r\\n                28.09.2018\\r\\n            </td>\\r\\n            <td>\\r\\n                01.09.2020 12:00\\r\\n            </td>\\r\\n        </tr>\\r\\n    \\r\\n    \\r\\n    \\r\\n        <tr>\\r\\n            <td>\\r\\n                Sommersession 2018\\r\\n            </td>\\r\\n            <td>\\r\\n                5013\\r\\n            </td>\\r\\n            <td>\\r\\n                13\\r\\n            </td>\\r\\n            <td>\\r\\n                28.05.2018\\r\\n            </td>\\r\\n            <td>\\r\\n                15.06.2018\\r\\n            </td>\\r\\n            <td>\\r\\n                01.09.2020 12:00\\r\\n            </td>\\r\\n        </tr>\\r\\n    \\r\\n    \\r\\n    \\r\\n        <tr>\\r\\n            <td>\\r\\n                Fr&#252;hjahrssession 2018\\r\\n            </td>\\r\\n            <td>\\r\\n                5012\\r\\n            </td>\\r\\n            <td>\\r\\n                12\\r\\n            </td>\\r\\n            <td>\\r\\n                26.02.2018\\r\\n            </td>\\r\\n            <td>\\r\\n                16.03.2018\\r\\n            </td>\\r\\n            <td>\\r\\n                01.09.2020 12:00\\r\\n            </td>\\r\\n        </tr>\\r\\n    \\r\\n    \\r\\n    \\r\\n        <tr>\\r\\n            <td>\\r\\n                Wintersession 2017\\r\\n            </td>\\r\\n            <td>\\r\\n                5011\\r\\n            </td>\\r\\n            <td>\\r\\n                11\\r\\n            </td>\\r\\n            <td>\\r\\n                27.11.2017\\r\\n            </td>\\r\\n            <td>\\r\\n                15.12.2017\\r\\n            </td>\\r\\n            <td>\\r\\n                01.09.2020 12:00\\r\\n            </td>\\r\\n        </tr>\\r\\n    \\r\\n    \\r\\n    \\r\\n        <tr>\\r\\n            <td>\\r\\n                Herbstsession 2017\\r\\n            </td>\\r\\n            <td>\\r\\n                5010\\r\\n            </td>\\r\\n            <td>\\r\\n                10\\r\\n            </td>\\r\\n            <td>\\r\\n                11.09.2017\\r\\n            </td>\\r\\n            <td>\\r\\n                29.09.2017\\r\\n            </td>\\r\\n            <td>\\r\\n                01.09.2020 12:00\\r\\n            </td>\\r\\n        </tr>\\r\\n    \\r\\n    \\r\\n    \\r\\n        <tr>\\r\\n            <td>\\r\\n                Sommersession 2017\\r\\n            </td>\\r\\n            <td>\\r\\n                5009\\r\\n            </td>\\r\\n            <td>\\r\\n                9\\r\\n            </td>\\r\\n            <td>\\r\\n                29.05.2017\\r\\n            </td>\\r\\n            <td>\\r\\n                16.06.2017\\r\\n            </td>\\r\\n            <td>\\r\\n                01.09.2020 12:00\\r\\n            </td>\\r\\n        </tr>\\r\\n    \\r\\n    \\r\\n    \\r\\n        <tr>\\r\\n            <td>\\r\\n                Sondersession Mai 2017\\r\\n            </td>\\r\\n            <td>\\r\\n                5008\\r\\n            </td>\\r\\n            <td>\\r\\n                8\\r\\n            </td>\\r\\n            <td>\\r\\n                02.05.2017\\r\\n            </td>\\r\\n            <td>\\r\\n                04.05.2017\\r\\n            </td>\\r\\n            <td>\\r\\n                01.09.2020 12:00\\r\\n            </td>\\r\\n        </tr>\\r\\n    \\r\\n    \\r\\n    \\r\\n        <tr>\\r\\n            <td>\\r\\n                Fr&#252;hjahrssession 2017\\r\\n            </td>\\r\\n            <td>\\r\\n                5007\\r\\n            </td>\\r\\n            <td>\\r\\n                7\\r\\n            </td>\\r\\n            <td>\\r\\n                27.02.2017\\r\\n            </td>\\r\\n            <td>\\r\\n                17.03.2017\\r\\n            </td>\\r\\n            <td>\\r\\n                01.09.2020 12:00\\r\\n            </td>\\r\\n        </tr>\\r\\n    \\r\\n    \\r\\n    \\r\\n        <tr>\\r\\n            <td>\\r\\n                Wintersession 2016\\r\\n            </td>\\r\\n            <td>\\r\\n                5006\\r\\n            </td>\\r\\n            <td>\\r\\n                6\\r\\n            </td>\\r\\n            <td>\\r\\n                28.11.2016\\r\\n            </td>\\r\\n            <td>\\r\\n                16.12.2016\\r\\n            </td>\\r\\n            <td>\\r\\n                01.09.2020 12:00\\r\\n            </td>\\r\\n        </tr>\\r\\n    \\r\\n    \\r\\n    \\r\\n        <tr>\\r\\n            <td>\\r\\n                Herbstsession 2016\\r\\n            </td>\\r\\n            <td>\\r\\n                5005\\r\\n            </td>\\r\\n            <td>\\r\\n                5\\r\\n            </td>\\r\\n            <td>\\r\\n                12.09.2016\\r\\n            </td>\\r\\n            <td>\\r\\n                30.09.2016\\r\\n            </td>\\r\\n            <td>\\r\\n                01.09.2020 12:00\\r\\n            </td>\\r\\n        </tr>\\r\\n    \\r\\n    \\r\\n    \\r\\n        <tr>\\r\\n            <td>\\r\\n                Sommersession 2016\\r\\n            </td>\\r\\n            <td>\\r\\n                5004\\r\\n            </td>\\r\\n            <td>\\r\\n                4\\r\\n            </td>\\r\\n            <td>\\r\\n                30.05.2016\\r\\n            </td>\\r\\n            <td>\\r\\n                17.06.2016\\r\\n            </td>\\r\\n            <td>\\r\\n                01.09.2020 12:00\\r\\n            </td>\\r\\n        </tr>\\r\\n    \\r\\n    \\r\\n    \\r\\n        <tr>\\r\\n            <td>\\r\\n                Sondersession April 2016\\r\\n            </td>\\r\\n            <td>\\r\\n                5003\\r\\n            </td>\\r\\n            <td>\\r\\n                3\\r\\n            </td>\\r\\n            <td>\\r\\n                25.04.2016\\r\\n            </td>\\r\\n            <td>\\r\\n                27.04.2016\\r\\n            </td>\\r\\n            <td>\\r\\n                01.09.2020 12:00\\r\\n            </td>\\r\\n        </tr>\\r\\n    \\r\\n    \\r\\n    \\r\\n        <tr>\\r\\n            <td>\\r\\n                Fr&#252;hjahrssession 2016\\r\\n            </td>\\r\\n            <td>\\r\\n                5002\\r\\n            </td>\\r\\n            <td>\\r\\n                2\\r\\n            </td>\\r\\n            <td>\\r\\n                29.02.2016\\r\\n            </td>\\r\\n            <td>\\r\\n                18.03.2016\\r\\n            </td>\\r\\n            <td>\\r\\n                01.09.2020 12:00\\r\\n            </td>\\r\\n        </tr>\\r\\n    \\r\\n    \\r\\n    \\r\\n        <tr>\\r\\n            <td>\\r\\n                Wintersession 2015\\r\\n            </td>\\r\\n            <td>\\r\\n                5001\\r\\n            </td>\\r\\n            <td>\\r\\n                1\\r\\n            </td>\\r\\n            <td>\\r\\n                30.11.2015\\r\\n            </td>\\r\\n            <td>\\r\\n                18.12.2015\\r\\n            </td>\\r\\n            <td>\\r\\n                01.09.2020 12:00\\r\\n            </td>\\r\\n        </tr>\\r\\n    \\r\\n    \\r\\n    \\r\\n        <tr>\\r\\n            <td>\\r\\n                Herbstsession 2015\\r\\n            </td>\\r\\n            <td>\\r\\n                4920\\r\\n            </td>\\r\\n            <td>\\r\\n                20\\r\\n            </td>\\r\\n            <td>\\r\\n                07.09.2015\\r\\n            </td>\\r\\n            <td>\\r\\n                25.09.2015\\r\\n            </td>\\r\\n            <td>\\r\\n                01.09.2020 12:00\\r\\n            </td>\\r\\n        </tr>\\r\\n    \\r\\n    \\r\\n    \\r\\n        <tr>\\r\\n            <td>\\r\\n                Sommersession 2015\\r\\n            </td>\\r\\n            <td>\\r\\n                4919\\r\\n            </td>\\r\\n            <td>\\r\\n                19\\r\\n            </td>\\r\\n            <td>\\r\\n                01.06.2015\\r\\n            </td>\\r\\n            <td>\\r\\n                19.06.2015\\r\\n            </td>\\r\\n            <td>\\r\\n                01.09.2020 12:00\\r\\n            </td>\\r\\n        </tr>\\r\\n    \\r\\n    \\r\\n    \\r\\n        <tr>\\r\\n            <td>\\r\\n                Sondersession Mai 2015\\r\\n            </td>\\r\\n            <td>\\r\\n                4918\\r\\n            </td>\\r\\n            <td>\\r\\n                18\\r\\n            </td>\\r\\n            <td>\\r\\n                04.05.2015\\r\\n            </td>\\r\\n            <td>\\r\\n                08.05.2015\\r\\n            </td>\\r\\n            <td>\\r\\n                01.09.2020 12:00\\r\\n            </td>\\r\\n        </tr>\\r\\n    \\r\\n    \\r\\n    \\r\\n        <tr>\\r\\n            <td>\\r\\n                Fr&#252;hjahrssession 2015\\r\\n            </td>\\r\\n            <td>\\r\\n                4917\\r\\n            </td>\\r\\n            <td>\\r\\n                17\\r\\n            </td>\\r\\n            <td>\\r\\n                02.03.2015\\r\\n            </td>\\r\\n            <td>\\r\\n                20.03.2015\\r\\n            </td>\\r\\n            <td>\\r\\n                01.09.2020 12:00\\r\\n            </td>\\r\\n        </tr>\\r\\n    \\r\\n    \\r\\n    \\r\\n        <tr>\\r\\n            <td>\\r\\n                Wintersession 2014\\r\\n            </td>\\r\\n            <td>\\r\\n                4916\\r\\n            </td>\\r\\n            <td>\\r\\n                16\\r\\n            </td>\\r\\n            <td>\\r\\n                24.11.2014\\r\\n            </td>\\r\\n            <td>\\r\\n                12.12.2014\\r\\n            </td>\\r\\n            <td>\\r\\n                01.09.2020 12:00\\r\\n            </td>\\r\\n        </tr>\\r\\n    \\r\\n    \\r\\n    \\r\\n        <tr>\\r\\n            <td>\\r\\n                Herbstsession 2014\\r\\n            </td>\\r\\n            <td>\\r\\n                4915\\r\\n            </td>\\r\\n            <td>\\r\\n                15\\r\\n            </td>\\r\\n            <td>\\r\\n                08.09.2014\\r\\n            </td>\\r\\n            <td>\\r\\n                26.09.2014\\r\\n            </td>\\r\\n            <td>\\r\\n                01.09.2020 12:00\\r\\n            </td>\\r\\n        </tr>\\r\\n    \\r\\n    \\r\\n    \\r\\n        <tr>\\r\\n            <td>\\r\\n                Sommersession 2014\\r\\n            </td>\\r\\n            <td>\\r\\n                4914\\r\\n            </td>\\r\\n            <td>\\r\\n                14\\r\\n            </td>\\r\\n            <td>\\r\\n                02.06.2014\\r\\n            </td>\\r\\n            <td>\\r\\n                20.06.2014\\r\\n            </td>\\r\\n            <td>\\r\\n                01.09.2020 12:00\\r\\n            </td>\\r\\n        </tr>\\r\\n    \\r\\n    \\r\\n    \\r\\n        <tr>\\r\\n            <td>\\r\\n                Sondersession Mai 2014\\r\\n            </td>\\r\\n            <td>\\r\\n                4913\\r\\n            </td>\\r\\n            <td>\\r\\n                13\\r\\n            </td>\\r\\n            <td>\\r\\n                05.05.2014\\r\\n            </td>\\r\\n            <td>\\r\\n                08.05.2014\\r\\n            </td>\\r\\n            <td>\\r\\n                01.09.2020 12:00\\r\\n            </td>\\r\\n        </tr>\\r\\n    \\r\\n    \\r\\n    \\r\\n        <tr>\\r\\n            <td>\\r\\n                Fr&#252;hjahrssession 2014\\r\\n            </td>\\r\\n            <td>\\r\\n                4912\\r\\n            </td>\\r\\n            <td>\\r\\n                12\\r\\n            </td>\\r\\n            <td>\\r\\n                03.03.2014\\r\\n            </td>\\r\\n            <td>\\r\\n                21.03.2014\\r\\n            </td>\\r\\n            <td>\\r\\n                01.09.2020 12:00\\r\\n            </td>\\r\\n        </tr>\\r\\n    \\r\\n    \\r\\n    \\r\\n        <tr>\\r\\n            <td>\\r\\n                Wintersession 2013\\r\\n            </td>\\r\\n            <td>\\r\\n                4911\\r\\n            </td>\\r\\n            <td>\\r\\n                11\\r\\n            </td>\\r\\n            <td>\\r\\n                25.11.2013\\r\\n            </td>\\r\\n            <td>\\r\\n                13.12.2013\\r\\n            </td>\\r\\n            <td>\\r\\n                01.09.2020 12:00\\r\\n            </td>\\r\\n        </tr>\\r\\n    \\r\\n    \\r\\n    \\r\\n        <tr>\\r\\n            <td>\\r\\n                Herbstsession 2013\\r\\n            </td>\\r\\n            <td>\\r\\n                4910\\r\\n            </td>\\r\\n            <td>\\r\\n                10\\r\\n            </td>\\r\\n            <td>\\r\\n                09.09.2013\\r\\n            </td>\\r\\n            <td>\\r\\n                27.09.2013\\r\\n            </td>\\r\\n            <td>\\r\\n                01.09.2020 12:00\\r\\n            </td>\\r\\n        </tr>\\r\\n    \\r\\n    \\r\\n    \\r\\n        <tr>\\r\\n            <td>\\r\\n                Sommersession 2013\\r\\n            </td>\\r\\n            <td>\\r\\n                4909\\r\\n            </td>\\r\\n            <td>\\r\\n                9\\r\\n            </td>\\r\\n            <td>\\r\\n                03.06.2013\\r\\n            </td>\\r\\n            <td>\\r\\n                21.06.2013\\r\\n            </td>\\r\\n            <td>\\r\\n                01.09.2020 12:00\\r\\n            </td>\\r\\n        </tr>\\r\\n    \\r\\n    \\r\\n    \\r\\n        <tr>\\r\\n            <td>\\r\\n                Sondersession April 2013\\r\\n            </td>\\r\\n            <td>\\r\\n                4908\\r\\n            </td>\\r\\n            <td>\\r\\n                8\\r\\n            </td>\\r\\n            <td>\\r\\n                15.04.2013\\r\\n            </td>\\r\\n            <td>\\r\\n                17.04.2013\\r\\n            </td>\\r\\n            <td>\\r\\n                01.09.2020 12:00\\r\\n            </td>\\r\\n        </tr>\\r\\n    \\r\\n    \\r\\n    \\r\\n        <tr>\\r\\n            <td>\\r\\n                Fr&#252;hjahrssession 2013\\r\\n            </td>\\r\\n            <td>\\r\\n                4907\\r\\n            </td>\\r\\n            <td>\\r\\n                7\\r\\n            </td>\\r\\n            <td>\\r\\n                04.03.2013\\r\\n            </td>\\r\\n            <td>\\r\\n                22.03.2013\\r\\n            </td>\\r\\n            <td>\\r\\n                01.09.2020 12:00\\r\\n            </td>\\r\\n        </tr>\\r\\n    \\r\\n    \\r\\n    \\r\\n        <tr>\\r\\n            <td>\\r\\n                Wintersession 2012\\r\\n            </td>\\r\\n            <td>\\r\\n                4906\\r\\n            </td>\\r\\n            <td>\\r\\n                6\\r\\n            </td>\\r\\n            <td>\\r\\n                26.11.2012\\r\\n            </td>\\r\\n            <td>\\r\\n                14.12.2012\\r\\n            </td>\\r\\n            <td>\\r\\n                01.09.2020 12:00\\r\\n            </td>\\r\\n        </tr>\\r\\n    \\r\\n    \\r\\n    \\r\\n        <tr>\\r\\n            <td>\\r\\n                Herbstsession 2012\\r\\n            </td>\\r\\n            <td>\\r\\n                4905\\r\\n            </td>\\r\\n            <td>\\r\\n                5\\r\\n            </td>\\r\\n            <td>\\r\\n                10.09.2012\\r\\n            </td>\\r\\n            <td>\\r\\n                28.09.2012\\r\\n            </td>\\r\\n            <td>\\r\\n                01.09.2020 12:00\\r\\n            </td>\\r\\n        </tr>\\r\\n    \\r\\n    \\r\\n    \\r\\n        <tr>\\r\\n            <td>\\r\\n                Sommersession 2012\\r\\n            </td>\\r\\n            <td>\\r\\n                4904\\r\\n            </td>\\r\\n            <td>\\r\\n                4\\r\\n            </td>\\r\\n            <td>\\r\\n                29.05.2012\\r\\n            </td>\\r\\n            <td>\\r\\n                15.06.2012\\r\\n            </td>\\r\\n            <td>\\r\\n                01.09.2020 12:00\\r\\n            </td>\\r\\n        </tr>\\r\\n    \\r\\n    \\r\\n    \\r\\n        <tr>\\r\\n            <td>\\r\\n                Sondersession Mai 2012\\r\\n            </td>\\r\\n            <td>\\r\\n                4903\\r\\n            </td>\\r\\n            <td>\\r\\n                3\\r\\n            </td>\\r\\n            <td>\\r\\n                02.05.2012\\r\\n            </td>\\r\\n            <td>\\r\\n                03.05.2012\\r\\n            </td>\\r\\n            <td>\\r\\n                01.09.2020 12:00\\r\\n            </td>\\r\\n        </tr>\\r\\n    \\r\\n    \\r\\n    \\r\\n        <tr>\\r\\n            <td>\\r\\n                Fr&#252;hjahrssession 2012\\r\\n            </td>\\r\\n            <td>\\r\\n                4902\\r\\n            </td>\\r\\n            <td>\\r\\n                2\\r\\n            </td>\\r\\n            <td>\\r\\n                27.02.2012\\r\\n            </td>\\r\\n            <td>\\r\\n                16.03.2012\\r\\n            </td>\\r\\n            <td>\\r\\n                01.09.2020 12:00\\r\\n            </td>\\r\\n        </tr>\\r\\n    \\r\\n    \\r\\n    \\r\\n        <tr>\\r\\n            <td>\\r\\n                Wintersession 2011\\r\\n            </td>\\r\\n            <td>\\r\\n                4901\\r\\n            </td>\\r\\n            <td>\\r\\n                1\\r\\n            </td>\\r\\n            <td>\\r\\n                05.12.2011\\r\\n            </td>\\r\\n            <td>\\r\\n                23.12.2011\\r\\n            </td>\\r\\n            <td>\\r\\n                01.09.2020 12:00\\r\\n            </td>\\r\\n        </tr>\\r\\n    \\r\\n    \\r\\n\\r\\n    </table>\\r\\n\\r\\n\\r\\n            <div id=\"footer\">\\r\\n            </div>\\r\\n        </div>\\r\\n    </div>\\r\\n</body>\\r\\n</html>\\r\\n'"
      ]
     },
     "execution_count": 10,
     "metadata": {},
     "output_type": "execute_result"
    }
   ],
   "source": [
    "r.text"
   ]
  },
  {
   "cell_type": "markdown",
   "metadata": {},
   "source": [
    "#### 3. Zurück zum [Erdbeben API](https://earthquake.usgs.gov). Wie viele Erdbeben wurden im Januar 2020 verzeichnet?"
   ]
  },
  {
   "cell_type": "code",
   "execution_count": 11,
   "metadata": {},
   "outputs": [],
   "source": [
    "r = requests.get('https://earthquake.usgs.gov/fdsnws/event/1/count?starttime=2020-01-01&endtime=2020-01-31')"
   ]
  },
  {
   "cell_type": "code",
   "execution_count": 12,
   "metadata": {},
   "outputs": [
    {
     "data": {
      "text/plain": [
       "16249"
      ]
     },
     "execution_count": 12,
     "metadata": {},
     "output_type": "execute_result"
    }
   ],
   "source": [
    "r.json()"
   ]
  },
  {
   "cell_type": "markdown",
   "metadata": {},
   "source": [
    "#### 4. Und wie viele Erdbeben im Juli?"
   ]
  },
  {
   "cell_type": "code",
   "execution_count": 13,
   "metadata": {},
   "outputs": [],
   "source": [
    "r = requests.get('https://earthquake.usgs.gov/fdsnws/event/1/count?starttime=2020-07-01&endtime=2020-07-31')"
   ]
  },
  {
   "cell_type": "code",
   "execution_count": 14,
   "metadata": {},
   "outputs": [
    {
     "data": {
      "text/plain": [
       "17343"
      ]
     },
     "execution_count": 14,
     "metadata": {},
     "output_type": "execute_result"
    }
   ],
   "source": [
    "r.json()"
   ]
  },
  {
   "cell_type": "markdown",
   "metadata": {},
   "source": [
    "#### 5. In welchem Monat des aktuellen Jahres wurden am meisten Erdbeben verzeichnet?"
   ]
  },
  {
   "cell_type": "code",
   "execution_count": 127,
   "metadata": {},
   "outputs": [],
   "source": [
    "dates_start= pd.date_range('2021-01-01','2021-11-01' , freq='1M')-pd.offsets.MonthBegin(1)"
   ]
  },
  {
   "cell_type": "code",
   "execution_count": 128,
   "metadata": {},
   "outputs": [
    {
     "data": {
      "text/plain": [
       "DatetimeIndex(['2021-01-01', '2021-02-01', '2021-03-01', '2021-04-01',\n",
       "               '2021-05-01', '2021-06-01', '2021-07-01', '2021-08-01',\n",
       "               '2021-09-01', '2021-10-01'],\n",
       "              dtype='datetime64[ns]', freq=None)"
      ]
     },
     "execution_count": 128,
     "metadata": {},
     "output_type": "execute_result"
    }
   ],
   "source": [
    "dates_start"
   ]
  },
  {
   "cell_type": "code",
   "execution_count": 129,
   "metadata": {},
   "outputs": [],
   "source": [
    "dates_end= pd.date_range('2021-02-01','2021-11-01' , freq='1M')-pd.offsets.MonthEnd(1)"
   ]
  },
  {
   "cell_type": "code",
   "execution_count": 130,
   "metadata": {},
   "outputs": [
    {
     "data": {
      "text/plain": [
       "DatetimeIndex(['2021-01-31', '2021-02-28', '2021-03-31', '2021-04-30',\n",
       "               '2021-05-31', '2021-06-30', '2021-07-31', '2021-08-31',\n",
       "               '2021-09-30'],\n",
       "              dtype='datetime64[ns]', freq=None)"
      ]
     },
     "execution_count": 130,
     "metadata": {},
     "output_type": "execute_result"
    }
   ],
   "source": [
    "dates_end"
   ]
  },
  {
   "cell_type": "code",
   "execution_count": 131,
   "metadata": {},
   "outputs": [],
   "source": [
    "base = 'https://earthquake.usgs.gov/fdsnws/event/1/count?'\n",
    "start = 'starttime='\n",
    "end = '&endtime='"
   ]
  },
  {
   "cell_type": "code",
   "execution_count": 132,
   "metadata": {},
   "outputs": [],
   "source": [
    "liste = []\n",
    "for s, e in zip(dates_start, dates_end):\n",
    "    s = str(s)\n",
    "    e = str(e)\n",
    "    r = requests.get(base+start+s+end+e)\n",
    "    result = r.text\n",
    "    \n",
    "    mini_dict = {s:result}\n",
    "    liste.append(mini_dict)"
   ]
  },
  {
   "cell_type": "code",
   "execution_count": 133,
   "metadata": {},
   "outputs": [
    {
     "data": {
      "text/html": [
       "<div>\n",
       "<style scoped>\n",
       "    .dataframe tbody tr th:only-of-type {\n",
       "        vertical-align: middle;\n",
       "    }\n",
       "\n",
       "    .dataframe tbody tr th {\n",
       "        vertical-align: top;\n",
       "    }\n",
       "\n",
       "    .dataframe thead th {\n",
       "        text-align: right;\n",
       "    }\n",
       "</style>\n",
       "<table border=\"1\" class=\"dataframe\">\n",
       "  <thead>\n",
       "    <tr style=\"text-align: right;\">\n",
       "      <th></th>\n",
       "      <th>variable</th>\n",
       "      <th>value</th>\n",
       "    </tr>\n",
       "  </thead>\n",
       "  <tbody>\n",
       "    <tr>\n",
       "      <th>0</th>\n",
       "      <td>2021-01-01 00:00:00</td>\n",
       "      <td>13863</td>\n",
       "    </tr>\n",
       "    <tr>\n",
       "      <th>10</th>\n",
       "      <td>2021-02-01 00:00:00</td>\n",
       "      <td>11438</td>\n",
       "    </tr>\n",
       "    <tr>\n",
       "      <th>20</th>\n",
       "      <td>2021-03-01 00:00:00</td>\n",
       "      <td>13117</td>\n",
       "    </tr>\n",
       "    <tr>\n",
       "      <th>30</th>\n",
       "      <td>2021-04-01 00:00:00</td>\n",
       "      <td>12421</td>\n",
       "    </tr>\n",
       "    <tr>\n",
       "      <th>40</th>\n",
       "      <td>2021-05-01 00:00:00</td>\n",
       "      <td>11171</td>\n",
       "    </tr>\n",
       "    <tr>\n",
       "      <th>50</th>\n",
       "      <td>2021-06-01 00:00:00</td>\n",
       "      <td>13285</td>\n",
       "    </tr>\n",
       "    <tr>\n",
       "      <th>60</th>\n",
       "      <td>2021-07-01 00:00:00</td>\n",
       "      <td>15719</td>\n",
       "    </tr>\n",
       "    <tr>\n",
       "      <th>70</th>\n",
       "      <td>2021-08-01 00:00:00</td>\n",
       "      <td>15680</td>\n",
       "    </tr>\n",
       "    <tr>\n",
       "      <th>80</th>\n",
       "      <td>2021-09-01 00:00:00</td>\n",
       "      <td>4466</td>\n",
       "    </tr>\n",
       "  </tbody>\n",
       "</table>\n",
       "</div>"
      ],
      "text/plain": [
       "               variable  value\n",
       "0   2021-01-01 00:00:00  13863\n",
       "10  2021-02-01 00:00:00  11438\n",
       "20  2021-03-01 00:00:00  13117\n",
       "30  2021-04-01 00:00:00  12421\n",
       "40  2021-05-01 00:00:00  11171\n",
       "50  2021-06-01 00:00:00  13285\n",
       "60  2021-07-01 00:00:00  15719\n",
       "70  2021-08-01 00:00:00  15680\n",
       "80  2021-09-01 00:00:00   4466"
      ]
     },
     "execution_count": 133,
     "metadata": {},
     "output_type": "execute_result"
    }
   ],
   "source": [
    "pd.DataFrame(liste).melt().dropna()"
   ]
  },
  {
   "cell_type": "markdown",
   "metadata": {},
   "source": [
    "## Die 10 stärksten Erdbeben im 2021"
   ]
  },
  {
   "cell_type": "code",
   "execution_count": 149,
   "metadata": {},
   "outputs": [],
   "source": [
    "url1 = 'https://earthquake.usgs.gov/fdsnws/event/1/query?format=geojson'\n",
    "urlzeit = '&starttime=2010-01-01&endtime=2021-09-13'\n",
    "minmax = \"&minmagnitude=6.5\""
   ]
  },
  {
   "cell_type": "code",
   "execution_count": 150,
   "metadata": {},
   "outputs": [],
   "source": [
    "response = requests.get(url1 + urlzeit+minmax)"
   ]
  },
  {
   "cell_type": "code",
   "execution_count": 151,
   "metadata": {},
   "outputs": [],
   "source": [
    "dct = response.json()"
   ]
  },
  {
   "cell_type": "code",
   "execution_count": 152,
   "metadata": {},
   "outputs": [
    {
     "data": {
      "text/plain": [
       "554"
      ]
     },
     "execution_count": 152,
     "metadata": {},
     "output_type": "execute_result"
    }
   ],
   "source": [
    "len(dct['features'])"
   ]
  },
  {
   "cell_type": "code",
   "execution_count": 153,
   "metadata": {},
   "outputs": [],
   "source": [
    "earthquakes = []\n",
    "\n",
    "for elem in dct['features']:\n",
    "    \n",
    "    t = elem['properties']['type']\n",
    "    m = elem['properties']['mag']\n",
    "    p = elem['properties']['place']\n",
    "    tm = elem['properties']['time']\n",
    "    \n",
    "    mini_dict = {'Type': t,\n",
    "                 'Mag': m,\n",
    "                 'Place': p,\n",
    "                 'Time': tm}\n",
    "    \n",
    "    earthquakes.append(mini_dict)"
   ]
  },
  {
   "cell_type": "code",
   "execution_count": 154,
   "metadata": {},
   "outputs": [
    {
     "data": {
      "text/html": [
       "<div>\n",
       "<style scoped>\n",
       "    .dataframe tbody tr th:only-of-type {\n",
       "        vertical-align: middle;\n",
       "    }\n",
       "\n",
       "    .dataframe tbody tr th {\n",
       "        vertical-align: top;\n",
       "    }\n",
       "\n",
       "    .dataframe thead th {\n",
       "        text-align: right;\n",
       "    }\n",
       "</style>\n",
       "<table border=\"1\" class=\"dataframe\">\n",
       "  <thead>\n",
       "    <tr style=\"text-align: right;\">\n",
       "      <th></th>\n",
       "      <th>Type</th>\n",
       "      <th>Mag</th>\n",
       "      <th>Place</th>\n",
       "      <th>Time</th>\n",
       "    </tr>\n",
       "  </thead>\n",
       "  <tbody>\n",
       "    <tr>\n",
       "      <th>478</th>\n",
       "      <td>earthquake</td>\n",
       "      <td>9.1</td>\n",
       "      <td>2011 Great Tohoku Earthquake, Japan</td>\n",
       "      <td>1299822384120</td>\n",
       "    </tr>\n",
       "    <tr>\n",
       "      <th>545</th>\n",
       "      <td>earthquake</td>\n",
       "      <td>8.8</td>\n",
       "      <td>36 km WNW of Quirihue, Chile</td>\n",
       "      <td>1267252451530</td>\n",
       "    </tr>\n",
       "    <tr>\n",
       "      <th>422</th>\n",
       "      <td>earthquake</td>\n",
       "      <td>8.6</td>\n",
       "      <td>off the west coast of northern Sumatra</td>\n",
       "      <td>1334133516720</td>\n",
       "    </tr>\n",
       "    <tr>\n",
       "      <th>250</th>\n",
       "      <td>earthquake</td>\n",
       "      <td>8.3</td>\n",
       "      <td>48 km W of Illapel, Chile</td>\n",
       "      <td>1442444072860</td>\n",
       "    </tr>\n",
       "    <tr>\n",
       "      <th>369</th>\n",
       "      <td>earthquake</td>\n",
       "      <td>8.3</td>\n",
       "      <td>Sea of Okhotsk</td>\n",
       "      <td>1369374288980</td>\n",
       "    </tr>\n",
       "    <tr>\n",
       "      <th>421</th>\n",
       "      <td>earthquake</td>\n",
       "      <td>8.2</td>\n",
       "      <td>off the west coast of northern Sumatra</td>\n",
       "      <td>1334140990850</td>\n",
       "    </tr>\n",
       "    <tr>\n",
       "      <th>126</th>\n",
       "      <td>earthquake</td>\n",
       "      <td>8.2</td>\n",
       "      <td>267 km E of Levuka, Fiji</td>\n",
       "      <td>1534637980670</td>\n",
       "    </tr>\n",
       "    <tr>\n",
       "      <th>11</th>\n",
       "      <td>earthquake</td>\n",
       "      <td>8.2</td>\n",
       "      <td>99 km SE of Perryville, Alaska</td>\n",
       "      <td>1627539349188</td>\n",
       "    </tr>\n",
       "    <tr>\n",
       "      <th>330</th>\n",
       "      <td>earthquake</td>\n",
       "      <td>8.2</td>\n",
       "      <td>93 km NW of Iquique, Chile</td>\n",
       "      <td>1396396007260</td>\n",
       "    </tr>\n",
       "    <tr>\n",
       "      <th>157</th>\n",
       "      <td>earthquake</td>\n",
       "      <td>8.2</td>\n",
       "      <td>near the coast of Chiapas, Mexico</td>\n",
       "      <td>1504846159180</td>\n",
       "    </tr>\n",
       "  </tbody>\n",
       "</table>\n",
       "</div>"
      ],
      "text/plain": [
       "           Type  Mag                                   Place           Time\n",
       "478  earthquake  9.1     2011 Great Tohoku Earthquake, Japan  1299822384120\n",
       "545  earthquake  8.8            36 km WNW of Quirihue, Chile  1267252451530\n",
       "422  earthquake  8.6  off the west coast of northern Sumatra  1334133516720\n",
       "250  earthquake  8.3               48 km W of Illapel, Chile  1442444072860\n",
       "369  earthquake  8.3                          Sea of Okhotsk  1369374288980\n",
       "421  earthquake  8.2  off the west coast of northern Sumatra  1334140990850\n",
       "126  earthquake  8.2                267 km E of Levuka, Fiji  1534637980670\n",
       "11   earthquake  8.2          99 km SE of Perryville, Alaska  1627539349188\n",
       "330  earthquake  8.2              93 km NW of Iquique, Chile  1396396007260\n",
       "157  earthquake  8.2       near the coast of Chiapas, Mexico  1504846159180"
      ]
     },
     "execution_count": 154,
     "metadata": {},
     "output_type": "execute_result"
    }
   ],
   "source": [
    "pd.DataFrame(earthquakes).sort_values(by='Mag', ascending=False).head(10)"
   ]
  },
  {
   "cell_type": "code",
   "execution_count": 155,
   "metadata": {},
   "outputs": [
    {
     "data": {
      "text/plain": [
       "[{'type': 'Feature',\n",
       "  'properties': {'mag': 8.2,\n",
       "   'place': '99 km SE of Perryville, Alaska',\n",
       "   'time': 1627539349188,\n",
       "   'updated': 1631515681868,\n",
       "   'tz': None,\n",
       "   'url': 'https://earthquake.usgs.gov/earthquakes/eventpage/ak0219neiszm',\n",
       "   'detail': 'https://earthquake.usgs.gov/fdsnws/event/1/query?eventid=ak0219neiszm&format=geojson',\n",
       "   'felt': 268,\n",
       "   'cdi': 8.1,\n",
       "   'mmi': 7.355,\n",
       "   'alert': 'yellow',\n",
       "   'status': 'reviewed',\n",
       "   'tsunami': 1,\n",
       "   'sig': 1252,\n",
       "   'net': 'ak',\n",
       "   'code': '0219neiszm',\n",
       "   'ids': ',ak0219neiszm,us6000f02w,at00qwzteb,pt21210001,usauto6000f02w,',\n",
       "   'sources': ',ak,us,at,pt,usauto,',\n",
       "   'types': ',dyfi,finite-fault,general-text,ground-failure,impact-link,impact-text,internal-moment-tensor,internal-origin,losspager,moment-tensor,oaf,origin,phase-data,shakemap,trump-losspager,trump-shakemap,',\n",
       "   'nst': None,\n",
       "   'dmin': None,\n",
       "   'rms': 0.95,\n",
       "   'gap': None,\n",
       "   'magType': 'mww',\n",
       "   'type': 'earthquake',\n",
       "   'title': 'M 8.2 - 99 km SE of Perryville, Alaska'},\n",
       "  'geometry': {'type': 'Point', 'coordinates': [-157.8876, 55.3635, 35]},\n",
       "  'id': 'ak0219neiszm'},\n",
       " {'type': 'Feature',\n",
       "  'properties': {'mag': 8.1,\n",
       "   'place': 'South Sandwich Islands region',\n",
       "   'time': 1628793320989,\n",
       "   'updated': 1631123176078,\n",
       "   'tz': None,\n",
       "   'url': 'https://earthquake.usgs.gov/earthquakes/eventpage/us6000f53e',\n",
       "   'detail': 'https://earthquake.usgs.gov/fdsnws/event/1/query?eventid=us6000f53e&format=geojson',\n",
       "   'felt': None,\n",
       "   'cdi': None,\n",
       "   'mmi': 6.986,\n",
       "   'alert': 'green',\n",
       "   'status': 'reviewed',\n",
       "   'tsunami': 0,\n",
       "   'sig': 1009,\n",
       "   'net': 'us',\n",
       "   'code': '6000f53e',\n",
       "   'ids': ',us6000f53e,',\n",
       "   'sources': ',us,',\n",
       "   'types': ',general-header,general-text,losspager,moment-tensor,origin,phase-data,shakemap,trump-moment-tensor,',\n",
       "   'nst': None,\n",
       "   'dmin': 7.47,\n",
       "   'rms': 0.64,\n",
       "   'gap': 77,\n",
       "   'magType': 'mww',\n",
       "   'type': 'earthquake',\n",
       "   'title': 'M 8.1 - South Sandwich Islands region'},\n",
       "  'geometry': {'type': 'Point', 'coordinates': [-25.327, -58.4513, 55.73]},\n",
       "  'id': 'us6000f53e'},\n",
       " {'type': 'Feature',\n",
       "  'properties': {'mag': 8.1,\n",
       "   'place': 'Kermadec Islands, New Zealand',\n",
       "   'time': 1614886113178,\n",
       "   'updated': 1624546116243,\n",
       "   'tz': None,\n",
       "   'url': 'https://earthquake.usgs.gov/earthquakes/eventpage/us7000dflf',\n",
       "   'detail': 'https://earthquake.usgs.gov/fdsnws/event/1/query?eventid=us7000dflf&format=geojson',\n",
       "   'felt': 14,\n",
       "   'cdi': 9.1,\n",
       "   'mmi': 8.038,\n",
       "   'alert': 'green',\n",
       "   'status': 'reviewed',\n",
       "   'tsunami': 1,\n",
       "   'sig': 1022,\n",
       "   'net': 'us',\n",
       "   'code': '7000dflf',\n",
       "   'ids': ',at00qpgm3n,pt21063003,us7000dflf,usauto7000dflf,',\n",
       "   'sources': ',at,pt,us,usauto,',\n",
       "   'types': ',associate,dyfi,finite-fault,general-text,impact-link,impact-text,internal-moment-tensor,internal-origin,losspager,moment-tensor,origin,phase-data,shakemap,',\n",
       "   'nst': None,\n",
       "   'dmin': 0.739,\n",
       "   'rms': 0.69,\n",
       "   'gap': 21,\n",
       "   'magType': 'mww',\n",
       "   'type': 'earthquake',\n",
       "   'title': 'M 8.1 - Kermadec Islands, New Zealand'},\n",
       "  'geometry': {'type': 'Point', 'coordinates': [-177.2794, -29.7228, 28.93]},\n",
       "  'id': 'us7000dflf'},\n",
       " {'type': 'Feature',\n",
       "  'properties': {'mag': 7.7,\n",
       "   'place': 'southeast of the Loyalty Islands',\n",
       "   'time': 1612963195530,\n",
       "   'updated': 1619128342040,\n",
       "   'tz': None,\n",
       "   'url': 'https://earthquake.usgs.gov/earthquakes/eventpage/us6000dg77',\n",
       "   'detail': 'https://earthquake.usgs.gov/fdsnws/event/1/query?eventid=us6000dg77&format=geojson',\n",
       "   'felt': 25,\n",
       "   'cdi': 7,\n",
       "   'mmi': 4.349,\n",
       "   'alert': 'green',\n",
       "   'status': 'reviewed',\n",
       "   'tsunami': 1,\n",
       "   'sig': 930,\n",
       "   'net': 'us',\n",
       "   'code': '6000dg77',\n",
       "   'ids': ',us6000dg77,at00qobedd,pt21041004,',\n",
       "   'sources': ',us,at,pt,',\n",
       "   'types': ',dyfi,finite-fault,general-text,ground-failure,impact-link,impact-text,internal-origin,losspager,moment-tensor,origin,phase-data,shakemap,',\n",
       "   'nst': None,\n",
       "   'dmin': 7.989,\n",
       "   'rms': 0.42,\n",
       "   'gap': 15,\n",
       "   'magType': 'mww',\n",
       "   'type': 'earthquake',\n",
       "   'title': 'M 7.7 - southeast of the Loyalty Islands'},\n",
       "  'geometry': {'type': 'Point', 'coordinates': [171.6566, -23.0511, 10]},\n",
       "  'id': 'us6000dg77'},\n",
       " {'type': 'Feature',\n",
       "  'properties': {'mag': 7.5,\n",
       "   'place': 'South Sandwich Islands region',\n",
       "   'time': 1628793172464,\n",
       "   'updated': 1630676177068,\n",
       "   'tz': None,\n",
       "   'url': 'https://earthquake.usgs.gov/earthquakes/eventpage/us6000f4ly',\n",
       "   'detail': 'https://earthquake.usgs.gov/fdsnws/event/1/query?eventid=us6000f4ly&format=geojson',\n",
       "   'felt': 3,\n",
       "   'cdi': 8.6,\n",
       "   'mmi': 5.922,\n",
       "   'alert': 'green',\n",
       "   'status': 'reviewed',\n",
       "   'tsunami': 1,\n",
       "   'sig': 868,\n",
       "   'net': 'us',\n",
       "   'code': '6000f4ly',\n",
       "   'ids': ',us6000f4ly,at00qxqoup,pt21224001,usauto6000f4ly,',\n",
       "   'sources': ',us,at,pt,usauto,',\n",
       "   'types': ',dyfi,general-header,general-text,ground-failure,impact-link,internal-moment-tensor,internal-origin,losspager,moment-tensor,origin,phase-data,shakemap,',\n",
       "   'nst': None,\n",
       "   'dmin': 7.227,\n",
       "   'rms': 1.16,\n",
       "   'gap': 38,\n",
       "   'magType': 'mww',\n",
       "   'type': 'earthquake',\n",
       "   'title': 'M 7.5 - South Sandwich Islands region'},\n",
       "  'geometry': {'type': 'Point', 'coordinates': [-25.0316, -57.5674, 47.23]},\n",
       "  'id': 'us6000f4ly'},\n",
       " {'type': 'Feature',\n",
       "  'properties': {'mag': 7.4,\n",
       "   'place': 'Kermadec Islands, New Zealand',\n",
       "   'time': 1614879683370,\n",
       "   'updated': 1620945925040,\n",
       "   'tz': None,\n",
       "   'url': 'https://earthquake.usgs.gov/earthquakes/eventpage/us7000dfk3',\n",
       "   'detail': 'https://earthquake.usgs.gov/fdsnws/event/1/query?eventid=us7000dfk3&format=geojson',\n",
       "   'felt': 2,\n",
       "   'cdi': 2,\n",
       "   'mmi': 6.815,\n",
       "   'alert': 'green',\n",
       "   'status': 'reviewed',\n",
       "   'tsunami': 1,\n",
       "   'sig': 843,\n",
       "   'net': 'us',\n",
       "   'code': '7000dfk3',\n",
       "   'ids': ',us7000dfk3,pt21063002,at00qpgh52,usauto7000dfk3,',\n",
       "   'sources': ',us,pt,at,usauto,',\n",
       "   'types': ',dyfi,finite-fault,general-text,impact-link,impact-text,internal-moment-tensor,internal-origin,losspager,moment-tensor,origin,phase-data,shakemap,',\n",
       "   'nst': None,\n",
       "   'dmin': 0.437,\n",
       "   'rms': 1.09,\n",
       "   'gap': 30,\n",
       "   'magType': 'mww',\n",
       "   'type': 'earthquake',\n",
       "   'title': 'M 7.4 - Kermadec Islands, New Zealand'},\n",
       "  'geometry': {'type': 'Point', 'coordinates': [-177.8398, -29.6768, 43]},\n",
       "  'id': 'us7000dfk3'},\n",
       " {'type': 'Feature',\n",
       "  'properties': {'mag': 7.3,\n",
       "   'place': 'Southern Qinghai, China',\n",
       "   'time': 1621620253565,\n",
       "   'updated': 1628611797642,\n",
       "   'tz': None,\n",
       "   'url': 'https://earthquake.usgs.gov/earthquakes/eventpage/us7000e54r',\n",
       "   'detail': 'https://earthquake.usgs.gov/fdsnws/event/1/query?eventid=us7000e54r&format=geojson',\n",
       "   'felt': 131,\n",
       "   'cdi': 6.5,\n",
       "   'mmi': 9.115,\n",
       "   'alert': 'orange',\n",
       "   'status': 'reviewed',\n",
       "   'tsunami': 0,\n",
       "   'sig': 1085,\n",
       "   'net': 'us',\n",
       "   'code': '7000e54r',\n",
       "   'ids': ',us7000e54r,usauto7000e54r,pt21141001,at00qtgy75,',\n",
       "   'sources': ',us,usauto,pt,at,',\n",
       "   'types': ',dyfi,finite-fault,general-text,ground-failure,impact-text,internal-moment-tensor,internal-origin,losspager,moment-tensor,origin,phase-data,shakemap,',\n",
       "   'nst': None,\n",
       "   'dmin': 4.655,\n",
       "   'rms': 0.77,\n",
       "   'gap': 9,\n",
       "   'magType': 'mww',\n",
       "   'type': 'earthquake',\n",
       "   'title': 'M 7.3 - Southern Qinghai, China'},\n",
       "  'geometry': {'type': 'Point', 'coordinates': [98.2513, 34.5983, 10]},\n",
       "  'id': 'us7000e54r'},\n",
       " {'type': 'Feature',\n",
       "  'properties': {'mag': 7.3,\n",
       "   'place': '182 km NE of Gisborne, New Zealand',\n",
       "   'time': 1614864454647,\n",
       "   'updated': 1620945817040,\n",
       "   'tz': None,\n",
       "   'url': 'https://earthquake.usgs.gov/earthquakes/eventpage/us7000dffl',\n",
       "   'detail': 'https://earthquake.usgs.gov/fdsnws/event/1/query?eventid=us7000dffl&format=geojson',\n",
       "   'felt': 159,\n",
       "   'cdi': 7.3,\n",
       "   'mmi': 6.495,\n",
       "   'alert': 'green',\n",
       "   'status': 'reviewed',\n",
       "   'tsunami': 1,\n",
       "   'sig': 936,\n",
       "   'net': 'us',\n",
       "   'code': '7000dffl',\n",
       "   'ids': ',us7000dffl,at00qpg5dz,pt21063000,usauto7000dffl,',\n",
       "   'sources': ',us,at,pt,usauto,',\n",
       "   'types': ',associate,dyfi,general-text,ground-failure,impact-link,impact-text,internal-moment-tensor,internal-origin,losspager,moment-tensor,origin,phase-data,shakemap,',\n",
       "   'nst': None,\n",
       "   'dmin': 0.918,\n",
       "   'rms': 0.68,\n",
       "   'gap': 24,\n",
       "   'magType': 'mww',\n",
       "   'type': 'earthquake',\n",
       "   'title': 'M 7.3 - 182 km NE of Gisborne, New Zealand'},\n",
       "  'geometry': {'type': 'Point', 'coordinates': [179.4576, -37.4787, 10]},\n",
       "  'id': 'us7000dffl'},\n",
       " {'type': 'Feature',\n",
       "  'properties': {'mag': 7.2,\n",
       "   'place': 'Nippes, Haiti',\n",
       "   'time': 1628944148420,\n",
       "   'updated': 1631360136307,\n",
       "   'tz': None,\n",
       "   'url': 'https://earthquake.usgs.gov/earthquakes/eventpage/us6000f65h',\n",
       "   'detail': 'https://earthquake.usgs.gov/fdsnws/event/1/query?eventid=us6000f65h&format=geojson',\n",
       "   'felt': 352,\n",
       "   'cdi': 9.1,\n",
       "   'mmi': 8.677,\n",
       "   'alert': 'red',\n",
       "   'status': 'reviewed',\n",
       "   'tsunami': 1,\n",
       "   'sig': 2320,\n",
       "   'net': 'us',\n",
       "   'code': '6000f65h',\n",
       "   'ids': ',at00qxtxcn,pt21226002,us6000f65h,usauto6000f65h,',\n",
       "   'sources': ',at,pt,us,usauto,',\n",
       "   'types': ',dyfi,earthquake-name,finite-fault,general-text,ground-failure,impact-link,impact-text,internal-moment-tensor,internal-origin,losspager,moment-tensor,origin,phase-data,shakemap,',\n",
       "   'nst': None,\n",
       "   'dmin': 1.178,\n",
       "   'rms': 0.73,\n",
       "   'gap': 23,\n",
       "   'magType': 'mww',\n",
       "   'type': 'earthquake',\n",
       "   'title': 'M 7.2 - Nippes, Haiti'},\n",
       "  'geometry': {'type': 'Point', 'coordinates': [-73.4804, 18.4167, 10]},\n",
       "  'id': 'us6000f65h'},\n",
       " {'type': 'Feature',\n",
       "  'properties': {'mag': 7.1,\n",
       "   'place': 'South Sandwich Islands region',\n",
       "   'time': 1629668000241,\n",
       "   'updated': 1629833800437,\n",
       "   'tz': None,\n",
       "   'url': 'https://earthquake.usgs.gov/earthquakes/eventpage/us6000f9sq',\n",
       "   'detail': 'https://earthquake.usgs.gov/fdsnws/event/1/query?eventid=us6000f9sq&format=geojson',\n",
       "   'felt': None,\n",
       "   'cdi': None,\n",
       "   'mmi': 3.712,\n",
       "   'alert': 'green',\n",
       "   'status': 'reviewed',\n",
       "   'tsunami': 1,\n",
       "   'sig': 776,\n",
       "   'net': 'us',\n",
       "   'code': '6000f9sq',\n",
       "   'ids': ',us6000f9sq,pt21234002,at00qy9fvn,usauto6000f9sq,',\n",
       "   'sources': ',us,pt,at,usauto,',\n",
       "   'types': ',finite-fault,general-text,impact-link,internal-moment-tensor,internal-origin,losspager,moment-tensor,origin,phase-data,shakemap,',\n",
       "   'nst': None,\n",
       "   'dmin': 9.788,\n",
       "   'rms': 0.43,\n",
       "   'gap': 32,\n",
       "   'magType': 'mww',\n",
       "   'type': 'earthquake',\n",
       "   'title': 'M 7.1 - South Sandwich Islands region'},\n",
       "  'geometry': {'type': 'Point', 'coordinates': [-24.8953, -60.2914, 14]},\n",
       "  'id': 'us6000f9sq'}]"
      ]
     },
     "execution_count": 155,
     "metadata": {},
     "output_type": "execute_result"
    }
   ],
   "source": [
    "url = 'https://earthquake.usgs.gov/fdsnws/event/1/query?format=geojson&starttime=2021-01-01&endtime=2021-09-12'\n",
    "orderby = '&orderby=magnitude'\n",
    "limit = '&limit=10'\n",
    "r = requests.get(url+orderby+limit)\n",
    "r.json()['features']"
   ]
  },
  {
   "cell_type": "code",
   "execution_count": null,
   "metadata": {},
   "outputs": [],
   "source": []
  }
 ],
 "metadata": {
  "kernelspec": {
   "display_name": "Python 3",
   "language": "python",
   "name": "python3"
  },
  "language_info": {
   "codemirror_mode": {
    "name": "ipython",
    "version": 3
   },
   "file_extension": ".py",
   "mimetype": "text/x-python",
   "name": "python",
   "nbconvert_exporter": "python",
   "pygments_lexer": "ipython3",
   "version": "3.9.5"
  }
 },
 "nbformat": 4,
 "nbformat_minor": 2
}
