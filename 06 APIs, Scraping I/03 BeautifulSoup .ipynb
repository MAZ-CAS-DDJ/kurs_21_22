{
 "cells": [
  {
   "cell_type": "markdown",
   "metadata": {},
   "source": [
    "# Einführung in BeautifulSoup, einlesen von Files"
   ]
  },
  {
   "cell_type": "markdown",
   "metadata": {},
   "source": [
    "Und als aller Erstes wollen wir die Developer Tools kennenlernen:\n",
    "\n",
    "- Gehen wir auf: www.srf.ch.\n",
    "- Öffnen den Chrome Browser. Die Developer Tools findest DU im Menü unter More Tools -> Developer Tools. Shortcuts: F12, Str-Ctr-I oder Cmd + Opt + I (alle Browser die Dev Tools, wir fokussieren hier auf den Chrome Browser) \n",
    "- Der Reiter, der uns interessiert, ist: “Elements”. Steuere ihn an.\n",
    "- Wir können hier zwischen Mobilansicht und Desktop wechseln\n",
    "- Oder Elemente auf der Website suchen. Wähle den Pfeil an. Und suche nun etwas auf der Website. \n",
    "- Hier können wir auch Texte manipulieren, teste es auf www.srf.ch. \n",
    "- Aber das interessiert uns nicht. Wir wollen die Struktur der Website kennenlernen. Vertiefen wir uns eine Weile in diese Struktur. Je besser wir sie kennen, desto einfacher ist es, Daten auszulesen.\n",
    "- Das sollte euch nun etwas bekannter vorkommen. Ihr habt eben selber solche Zeilen geschrieben. "
   ]
  },
  {
   "cell_type": "markdown",
   "metadata": {},
   "source": [
    "Gehen wir zurück zu dem File, den ihr eben selber bearbeitet habt. Zuerst müssen wir das File einlesen."
   ]
  },
  {
   "cell_type": "code",
   "execution_count": null,
   "metadata": {},
   "outputs": [],
   "source": [
    "file = open('02 HTML Code.htm', 'r')"
   ]
  },
  {
   "cell_type": "markdown",
   "metadata": {},
   "source": [
    "```open``` ist eine eingebaute Funktion von Python. Ihr findet hier [eine Zusammenstellung](https://docs.python.org/2/library/functions.html) all dieser Funktionen. Es gibt neben ```r```und ```w``` noch die Binary modi. ```rb```und ```wb```. Binary heisst, dass der Computer sich die Buchstaben im Format abspeichert, der ihm am besten liegt. 0 und 1. E = 01000101, F = 01000110, ihr findet mehr [hier](http://sticksandstones.kstrom.com/appen.html) (allerdings Python 2) und mehr [hier](https://docs.python.org/3/tutorial/inputoutput.html)."
   ]
  },
  {
   "cell_type": "code",
   "execution_count": null,
   "metadata": {},
   "outputs": [],
   "source": [
    "file2 = open('testingopen.txt', 'w')"
   ]
  },
  {
   "cell_type": "markdown",
   "metadata": {},
   "source": [
    "Oben seht ihr das Ergebnis, wenn ihr ein File schreibt. Im selben Ordner wie dieses Jupyter Notebook erscheint nun eben dieses file2. Das einfach der vollständigkeitshalber."
   ]
  },
  {
   "cell_type": "code",
   "execution_count": null,
   "metadata": {},
   "outputs": [],
   "source": [
    "file.read()"
   ]
  },
  {
   "cell_type": "code",
   "execution_count": null,
   "metadata": {},
   "outputs": [],
   "source": [
    "text = file.read()"
   ]
  },
  {
   "cell_type": "code",
   "execution_count": null,
   "metadata": {},
   "outputs": [],
   "source": [
    "file = open('02 HTML Code.htm', 'r')"
   ]
  },
  {
   "cell_type": "code",
   "execution_count": null,
   "metadata": {},
   "outputs": [],
   "source": [
    "file.readline()"
   ]
  },
  {
   "cell_type": "code",
   "execution_count": null,
   "metadata": {},
   "outputs": [],
   "source": [
    "#Das sieht aber nicht sehr schön aus\n",
    "file = open('02 HTML Code.htm', 'r')\n",
    "text = file.read()\n",
    "text"
   ]
  },
  {
   "cell_type": "markdown",
   "metadata": {},
   "source": [
    "Mit BeautifulSoup kann man HTML-Sites in eine Form bringen, die es uns Menschen wieder einfacher macht, die Inhalte zu lesen. Wir beginnne wir immer, indem wir die Library installieren. Wie mit ```!pip import BS4```falls ihr das nicht schon getan habt. Und dann importieren wir die Library."
   ]
  },
  {
   "cell_type": "code",
   "execution_count": null,
   "metadata": {},
   "outputs": [],
   "source": [
    "from bs4 import BeautifulSoup"
   ]
  },
  {
   "cell_type": "code",
   "execution_count": null,
   "metadata": {},
   "outputs": [],
   "source": [
    "soup = BeautifulSoup(text, \"html.parser\")"
   ]
  },
  {
   "cell_type": "code",
   "execution_count": null,
   "metadata": {},
   "outputs": [],
   "source": [
    "soup.find('h2')"
   ]
  },
  {
   "cell_type": "code",
   "execution_count": null,
   "metadata": {},
   "outputs": [],
   "source": [
    "soup.find_all('h2')"
   ]
  },
  {
   "cell_type": "code",
   "execution_count": null,
   "metadata": {},
   "outputs": [],
   "source": [
    "#Bauen wir eine neue Liste\n",
    "new_lst = []\n",
    "for elem in soup.find_all('h2'):\n",
    "    new_lst.append(elem.text)"
   ]
  },
  {
   "cell_type": "code",
   "execution_count": null,
   "metadata": {},
   "outputs": [],
   "source": [
    "new_lst"
   ]
  },
  {
   "cell_type": "code",
   "execution_count": null,
   "metadata": {},
   "outputs": [],
   "source": [
    "#Bauen wir eine Liste von Dictionaries\n",
    "new_lst = []\n",
    "for elem in soup.find_all('h2'):\n",
    "    mini_dict = {'Überschrift':elem.text}\n",
    "    new_lst.append(mini_dict)"
   ]
  },
  {
   "cell_type": "code",
   "execution_count": null,
   "metadata": {},
   "outputs": [],
   "source": [
    "import pandas as pd"
   ]
  },
  {
   "cell_type": "code",
   "execution_count": null,
   "metadata": {},
   "outputs": [],
   "source": [
    "pd.DataFrame(new_lst)"
   ]
  },
  {
   "cell_type": "markdown",
   "metadata": {},
   "source": [
    "## Gehen wir auf eine Seite mit mehr INhalt, aber immer noch sehr strukturiert: Ein RSS-Feed\n",
    "Was wir hier haben, ist die aktuelle Ausbuchung der Parkplätze in der Stadt Zürich. Sie werden von der Stadt in einem RSS Feed abgeboten. Schauen wir uns den [Link einmal an](http://www.plszh.ch/plsFeed/rss). Nicht sehr lesbar, aber äusserst strukturiert. Lesen wir die Plätze aus."
   ]
  },
  {
   "cell_type": "code",
   "execution_count": null,
   "metadata": {},
   "outputs": [],
   "source": [
    "import requests"
   ]
  },
  {
   "cell_type": "code",
   "execution_count": null,
   "metadata": {},
   "outputs": [],
   "source": [
    "r = requests.get('https://www.pls-zh.ch/plsFeed/rss') #Besuchen wir die URL"
   ]
  },
  {
   "cell_type": "code",
   "execution_count": null,
   "metadata": {},
   "outputs": [],
   "source": [
    "contents = r.text #Wandeln wir den Text in ein Format um, mit dem BeautifulSoup umgehen kann.\n",
    "soup = BeautifulSoup(contents,\"html.parser\") #Geben wir das an BeautifulSoup weiter\n",
    "titles = soup.find_all('title') #Nun lesen wir Titel aus.\n",
    "len(titles) #Schauen wir, wie lange die Titel sind."
   ]
  },
  {
   "cell_type": "code",
   "execution_count": null,
   "metadata": {},
   "outputs": [],
   "source": [
    "titles[0] "
   ]
  },
  {
   "cell_type": "code",
   "execution_count": null,
   "metadata": {},
   "outputs": [],
   "source": [
    "titles[1]"
   ]
  },
  {
   "cell_type": "code",
   "execution_count": null,
   "metadata": {},
   "outputs": [],
   "source": [
    "titles[1].text"
   ]
  },
  {
   "cell_type": "code",
   "execution_count": null,
   "metadata": {},
   "outputs": [],
   "source": [
    "descr = soup.find_all('description')\n",
    "descr[1]"
   ]
  },
  {
   "cell_type": "code",
   "execution_count": null,
   "metadata": {},
   "outputs": [],
   "source": [
    "#Bauen wir die eigene Liste\n",
    "lst = []\n",
    "for garage,b in zip(titles,descr):\n",
    "    \n",
    "    mini_dict = {'Parkgarage':garage.text,\n",
    "                 'Descr':b.text}\n",
    "    \n",
    "    lst.append(mini_dict)"
   ]
  },
  {
   "cell_type": "code",
   "execution_count": null,
   "metadata": {},
   "outputs": [],
   "source": [
    "lst"
   ]
  },
  {
   "cell_type": "code",
   "execution_count": null,
   "metadata": {},
   "outputs": [],
   "source": [
    "pd.DataFrame(lst).head()"
   ]
  },
  {
   "cell_type": "code",
   "execution_count": null,
   "metadata": {},
   "outputs": [],
   "source": [
    "pd.DataFrame(lst)[1:]"
   ]
  },
  {
   "cell_type": "markdown",
   "metadata": {},
   "source": [
    "# Gehen wir zur [Übung 3](https://github.com/MAZ-CAS-DDJ/kurs_18_19/blob/master/06%20APIs%2C%20Scraping%20I/%C3%9Cbung3.ipynb)"
   ]
  },
  {
   "cell_type": "markdown",
   "metadata": {},
   "source": [
    "# Komplexere Websites"
   ]
  },
  {
   "cell_type": "code",
   "execution_count": null,
   "metadata": {},
   "outputs": [],
   "source": [
    "#laden wir die Frontpage von Watson\n",
    "r = requests.get('https://www.watson.ch')\n",
    "contents = r.text #Wir lesen den Inhalt aus\n",
    "soup = BeautifulSoup(contents,\"html.parser\")"
   ]
  },
  {
   "cell_type": "code",
   "execution_count": null,
   "metadata": {},
   "outputs": [],
   "source": [
    "#Ziehen wir die Titel raus\n",
    "titelliste = soup.find_all('a')"
   ]
  },
  {
   "cell_type": "code",
   "execution_count": null,
   "metadata": {},
   "outputs": [],
   "source": [
    "len(titelliste)"
   ]
  },
  {
   "cell_type": "code",
   "execution_count": null,
   "metadata": {},
   "outputs": [],
   "source": [
    "#Ziehen wir alle Kommentare raus\n",
    "kommentare = soup.find_all('div', {'class':'standard comments'})"
   ]
  },
  {
   "cell_type": "code",
   "execution_count": null,
   "metadata": {},
   "outputs": [],
   "source": [
    "len(kommentare)"
   ]
  },
  {
   "cell_type": "markdown",
   "metadata": {
    "collapsed": true
   },
   "source": [
    "Hier sehen wir, dass also nicht immer dieselbe Anzahl Kommentare und Artikel herausgelesen werden kann. Nicht jeder Artikel hat einen Kommentar. Wir müssen deshalb unseren Code anpassen."
   ]
  },
  {
   "cell_type": "code",
   "execution_count": null,
   "metadata": {},
   "outputs": [],
   "source": [
    "storybox = soup.find_all('div', {'class':'text'})"
   ]
  },
  {
   "cell_type": "code",
   "execution_count": null,
   "metadata": {},
   "outputs": [],
   "source": [
    "len(storybox)"
   ]
  },
  {
   "cell_type": "code",
   "execution_count": null,
   "metadata": {},
   "outputs": [],
   "source": [
    "storybox[0]"
   ]
  },
  {
   "cell_type": "code",
   "execution_count": null,
   "metadata": {},
   "outputs": [],
   "source": [
    "storybox[2]"
   ]
  },
  {
   "cell_type": "code",
   "execution_count": null,
   "metadata": {},
   "outputs": [],
   "source": [
    "storybox[2].find('h2').text  "
   ]
  },
  {
   "cell_type": "code",
   "execution_count": null,
   "metadata": {},
   "outputs": [],
   "source": [
    "#Diesen Fehler müssen wir auffangen, das tun wir am einfachsten mit try und except.\n",
    "storybox[2].find('div', {'class':'standard'}).text"
   ]
  },
  {
   "cell_type": "code",
   "execution_count": null,
   "metadata": {},
   "outputs": [],
   "source": [
    "lst = []\n",
    "for elem in storybox:\n",
    "    try:\n",
    "        t = elem.find('h2').text\n",
    "    except:\n",
    "        t = \"N/A\" \n",
    "    \n",
    "    try:\n",
    "        \n",
    "        k = elem.find('div', {'class':'standard comments'}).text.replace(\"\\n\", \"\")\n",
    "    except:\n",
    "        k = \"N/A\"\n",
    "    \n",
    "    mini_dict = {'Titel': t,\n",
    "                 'Kommentar': k}\n",
    "    \n",
    "    lst.append(mini_dict)"
   ]
  },
  {
   "cell_type": "code",
   "execution_count": null,
   "metadata": {},
   "outputs": [],
   "source": [
    "lst"
   ]
  },
  {
   "cell_type": "code",
   "execution_count": null,
   "metadata": {},
   "outputs": [],
   "source": [
    "pd.DataFrame(lst)"
   ]
  },
  {
   "cell_type": "markdown",
   "metadata": {},
   "source": [
    "# Als Übung: Mit Funktion dasselbe tun.\n",
    "Wenn man sehr ausführlichen Code entwickelt, ist es oft praktisch, mit Funktionen zu arbeiten. Hier ein Beispiel davon, wie das aussehen könnte."
   ]
  },
  {
   "cell_type": "code",
   "execution_count": null,
   "metadata": {},
   "outputs": [],
   "source": [
    "def kommentarezählen(url):\n",
    "    \n",
    "    r = requests.get(url)\n",
    "    soup = BeautifulSoup(r.text,'xml')\n",
    "    storybox = soup.find_all('div', {'class':'text'})\n",
    "    \n",
    "    lst = []   \n",
    "    for elem in storybox:\n",
    "        try: #Hier kannn man mit Fehlern umgehen. Man muss allerdings spärlcih damit umgehen. \n",
    "            t = elem.find('h2').text\n",
    "        except:\n",
    "            t = 'Kein Titel'\n",
    "        try:\n",
    "            k = elem.find('div', {'class':'standard comments'}).text.replace(\"\\n\", \"\")\n",
    "        except:\n",
    "            k = 'Keine Kommentare'\n",
    "        mini_dict = {'Titel': t,\n",
    "                 'Kommentar': k}\n",
    "        lst.append(mini_dict)\n",
    "    \n",
    "    return pd.DataFrame(lst)"
   ]
  },
  {
   "cell_type": "code",
   "execution_count": null,
   "metadata": {},
   "outputs": [],
   "source": [
    "kommentarezählen('https://www.watson.ch/')"
   ]
  },
  {
   "cell_type": "markdown",
   "metadata": {},
   "source": [
    "Das können wir natürlich auf der Kommandozeile auslösen. Speichern wir unsere Skript und wandeln wir ihn um. (Wir müssen noch dafür sorgen, dass er mit einem Parameter ausgestattet werden kann. Aber auch das lässt sich einfach googeln)."
   ]
  },
  {
   "cell_type": "markdown",
   "metadata": {},
   "source": [
    "# Nun üben wir das ein wenig: Weiter zu Übung 4"
   ]
  },
  {
   "cell_type": "code",
   "execution_count": null,
   "metadata": {},
   "outputs": [],
   "source": []
  }
 ],
 "metadata": {
  "kernelspec": {
   "display_name": "Python 3",
   "language": "python",
   "name": "python3"
  },
  "language_info": {
   "codemirror_mode": {
    "name": "ipython",
    "version": 3
   },
   "file_extension": ".py",
   "mimetype": "text/x-python",
   "name": "python",
   "nbconvert_exporter": "python",
   "pygments_lexer": "ipython3",
   "version": "3.8.3"
  }
 },
 "nbformat": 4,
 "nbformat_minor": 2
}
