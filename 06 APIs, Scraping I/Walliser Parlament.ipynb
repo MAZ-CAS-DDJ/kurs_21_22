{
 "cells": [
  {
   "cell_type": "code",
   "execution_count": 10,
   "id": "d6bb32fc",
   "metadata": {},
   "outputs": [],
   "source": [
    "import requests\n",
    "from bs4 import BeautifulSoup"
   ]
  },
  {
   "cell_type": "code",
   "execution_count": 7,
   "id": "e669ccca",
   "metadata": {},
   "outputs": [],
   "source": [
    "URL = \"https://parlement.vs.ch/app/de/search/result?object_type=Speech\""
   ]
  },
  {
   "cell_type": "code",
   "execution_count": 12,
   "id": "9aa9011c",
   "metadata": {},
   "outputs": [],
   "source": [
    "headers = {'User-Agent': 'Mozilla/5.0 (Macintosh; Intel Mac OS X 10_10_1) AppleWebKit/537.36 (KHTML, like Gecko) Chrome/39.0.2171.95 Safari/537.36'}\n"
   ]
  },
  {
   "cell_type": "code",
   "execution_count": 13,
   "id": "92379ea5",
   "metadata": {},
   "outputs": [],
   "source": [
    "r = requests.get(url, headers=headers)"
   ]
  },
  {
   "cell_type": "code",
   "execution_count": 14,
   "id": "8951c927",
   "metadata": {},
   "outputs": [],
   "source": [
    "soup = BeautifulSoup(r.text,\"html.parser\")"
   ]
  },
  {
   "cell_type": "code",
   "execution_count": null,
   "id": "f458ca6c",
   "metadata": {},
   "outputs": [],
   "source": []
  },
  {
   "cell_type": "code",
   "execution_count": 13,
   "id": "d24ef931",
   "metadata": {},
   "outputs": [],
   "source": [
    "session = requests.Session()\n",
    "response = session.get(URL, headers={'User-Agent': 'Mozilla/5.0 (Macintosh; Intel Mac OS X 10_9_4) AppleWebKit/537.36 (KHTML, like Gecko) Chrome/35.0.1916.153 Safari/537.36'})"
   ]
  },
  {
   "cell_type": "code",
   "execution_count": 14,
   "id": "95b05bd6",
   "metadata": {},
   "outputs": [],
   "source": [
    "soup = BeautifulSoup(response.text)\n",
    "frames = soup.find_all('frame')"
   ]
  },
  {
   "cell_type": "code",
   "execution_count": 15,
   "id": "4c4fdae2",
   "metadata": {},
   "outputs": [
    {
     "data": {
      "text/plain": [
       "[]"
      ]
     },
     "execution_count": 15,
     "metadata": {},
     "output_type": "execute_result"
    }
   ],
   "source": [
    "frames"
   ]
  },
  {
   "cell_type": "code",
   "execution_count": 15,
   "id": "b82d1a96",
   "metadata": {},
   "outputs": [
    {
     "data": {
      "text/plain": [
       "<!DOCTYPE html>\n",
       "\n",
       "<html lang=\"en\">\n",
       "<head>\n",
       "<meta charset=\"utf-8\"/>\n",
       "<title>Parlament des Kantons Wallis</title>\n",
       "<base href=\"/app/\"/>\n",
       "<meta content=\"width=device-width, initial-scale=1\" name=\"viewport\"/>\n",
       "<link href=\"assets/images/vs.ico\" rel=\"icon\" type=\"image/x-icon\"/>\n",
       "<link href=\"https://fonts.googleapis.com/icon?family=Material+Icons&amp;display=block\" rel=\"stylesheet\"/>\n",
       "<link href=\"styles.ec2165b8cf000767d3ec.css\" rel=\"stylesheet\"/></head>\n",
       "<body class=\"mat-typography\">\n",
       "<app-root></app-root>\n",
       "<script src=\"runtime-es2015.5b15f9cd1e611d857242.js\" type=\"module\"></script><script defer=\"\" nomodule=\"\" src=\"runtime-es5.5b15f9cd1e611d857242.js\"></script><script defer=\"\" nomodule=\"\" src=\"polyfills-es5.6e157dd9c8d6f4288422.js\"></script><script src=\"polyfills-es2015.4e6ac6000e5d610c9d02.js\" type=\"module\"></script><script defer=\"\" src=\"scripts.fd6c5645829e82918226.js\"></script><script src=\"main-es2015.1ae14ce1b25997beb7bb.js\" type=\"module\"></script><script defer=\"\" nomodule=\"\" src=\"main-es5.1ae14ce1b25997beb7bb.js\"></script></body>\n",
       "</html>"
      ]
     },
     "execution_count": 15,
     "metadata": {},
     "output_type": "execute_result"
    }
   ],
   "source": [
    "soup"
   ]
  },
  {
   "cell_type": "code",
   "execution_count": 4,
   "id": "0b52033a",
   "metadata": {},
   "outputs": [
    {
     "name": "stdout",
     "output_type": "stream",
     "text": [
      "Mozilla/5.0 (Windows NT 6.2; WOW64) AppleWebKit/537.15 (KHTML, like Gecko) Chrome/24.0.1295.0 Safari/537.15\n",
      "{'User-Agent': 'Mozilla/5.0 (Macintosh; Intel Mac OS X 10_9_3) AppleWebKit/537.36 (KHTML, like Gecko) Chrome/35.0.1916.47 Safari/537.36'}\n",
      "<Response [200]>\n"
     ]
    }
   ],
   "source": [
    "from fake_useragent import UserAgent\n",
    "import requests\n",
    "   \n",
    "\n",
    "ua = UserAgent()\n",
    "print(ua.chrome)\n",
    "header = {'User-Agent':str(ua.chrome)}\n",
    "print(header)\n",
    "url = \"https://parlement.vs.ch/app/de/search/result?object_type=Speech\"\n",
    "htmlContent = requests.get(url, headers=header)\n",
    "print(htmlContent)"
   ]
  },
  {
   "cell_type": "code",
   "execution_count": 5,
   "id": "59750805",
   "metadata": {},
   "outputs": [
    {
     "name": "stdout",
     "output_type": "stream",
     "text": [
      "<Response [200]>\n"
     ]
    }
   ],
   "source": [
    "print(htmlContent)"
   ]
  },
  {
   "cell_type": "code",
   "execution_count": 6,
   "id": "29397920",
   "metadata": {},
   "outputs": [
    {
     "name": "stdout",
     "output_type": "stream",
     "text": [
      "<!doctype html>\n",
      "<html lang=\"en\">\n",
      "<head>\n",
      "  <meta charset=\"utf-8\">\n",
      "  <title>Parlament des Kantons Wallis</title>\n",
      "  <base href=\"/app/\">\n",
      "  <meta name=\"viewport\" content=\"width=device-width, initial-scale=1\">\n",
      "  <link rel=\"icon\" type=\"image/x-icon\" href=\"assets/images/vs.ico\">\n",
      "  <link href=\"https://fonts.googleapis.com/icon?family=Material+Icons&display=block\" rel=\"stylesheet\">\n",
      "<link rel=\"stylesheet\" href=\"styles.ec2165b8cf000767d3ec.css\"></head>\n",
      "<body class=\"mat-typography\">\n",
      "  <app-root></app-root>\n",
      "<script src=\"runtime-es2015.5b15f9cd1e611d857242.js\" type=\"module\"></script><script src=\"runtime-es5.5b15f9cd1e611d857242.js\" nomodule defer></script><script src=\"polyfills-es5.6e157dd9c8d6f4288422.js\" nomodule defer></script><script src=\"polyfills-es2015.4e6ac6000e5d610c9d02.js\" type=\"module\"></script><script src=\"scripts.fd6c5645829e82918226.js\" defer></script><script src=\"main-es2015.1ae14ce1b25997beb7bb.js\" type=\"module\"></script><script src=\"main-es5.1ae14ce1b25997beb7bb.js\" nomodule defer></script></body>\n",
      "</html>\n",
      "\n"
     ]
    }
   ],
   "source": [
    "print(htmlContent.text)"
   ]
  },
  {
   "cell_type": "code",
   "execution_count": null,
   "id": "cf918635",
   "metadata": {},
   "outputs": [],
   "source": []
  }
 ],
 "metadata": {
  "kernelspec": {
   "display_name": "Python 3",
   "language": "python",
   "name": "python3"
  },
  "language_info": {
   "codemirror_mode": {
    "name": "ipython",
    "version": 3
   },
   "file_extension": ".py",
   "mimetype": "text/x-python",
   "name": "python",
   "nbconvert_exporter": "python",
   "pygments_lexer": "ipython3",
   "version": "3.9.5"
  }
 },
 "nbformat": 4,
 "nbformat_minor": 5
}
