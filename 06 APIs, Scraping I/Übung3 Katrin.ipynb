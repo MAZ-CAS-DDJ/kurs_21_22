{
 "cells": [
  {
   "cell_type": "markdown",
   "metadata": {},
   "source": [
    "# Übung 3"
   ]
  },
  {
   "cell_type": "markdown",
   "metadata": {},
   "source": [
    "#### 1. Importiere requests, BeautifulSoup und Pandas"
   ]
  },
  {
   "cell_type": "code",
   "execution_count": 1,
   "metadata": {},
   "outputs": [],
   "source": [
    "import requests\n",
    "from bs4 import BeautifulSoup\n",
    "import pandas as pd"
   ]
  },
  {
   "cell_type": "markdown",
   "metadata": {},
   "source": [
    "#### 2. Lade den Inhalt des Parkhaus-RSS-Feeds in eine Variabel"
   ]
  },
  {
   "cell_type": "code",
   "execution_count": 3,
   "metadata": {},
   "outputs": [
    {
     "data": {
      "text/plain": [
       "<Response [200]>"
      ]
     },
     "execution_count": 3,
     "metadata": {},
     "output_type": "execute_result"
    }
   ],
   "source": [
    "r = requests.get('https://www.pls-zh.ch/plsFeed/rss')\n",
    "r"
   ]
  },
  {
   "cell_type": "markdown",
   "metadata": {},
   "source": [
    "#### 3. Ziehen wir aus dieser alle Daten (Datum) heraus und machen daraus eine Liste"
   ]
  },
  {
   "cell_type": "code",
   "execution_count": 8,
   "metadata": {},
   "outputs": [
    {
     "data": {
      "text/plain": [
       "36"
      ]
     },
     "execution_count": 8,
     "metadata": {},
     "output_type": "execute_result"
    }
   ],
   "source": [
    "contents = r.text #Wandeln wir den Text in ein Format um, mit dem BeautifulSoup umgehen kann.\n",
    "soup = BeautifulSoup(contents,\"xml\") #Geben wir das an BeautifulSoup weiter\n",
    "dates = soup.find_all('date') #Nun lesen wir Titel aus.\n",
    "len(dates)"
   ]
  },
  {
   "cell_type": "code",
   "execution_count": 25,
   "metadata": {},
   "outputs": [
    {
     "data": {
      "text/plain": [
       "[<dc:date>2021-09-13T13:14:27Z</dc:date>,\n",
       " <dc:date>2021-09-13T13:19:27Z</dc:date>,\n",
       " <dc:date>2021-09-13T13:23:27Z</dc:date>,\n",
       " <dc:date>2021-09-13T13:23:27Z</dc:date>,\n",
       " <dc:date>2021-09-13T13:23:27Z</dc:date>,\n",
       " <dc:date>2021-09-13T13:19:27Z</dc:date>,\n",
       " <dc:date>2021-09-13T13:19:27Z</dc:date>,\n",
       " <dc:date>2021-09-13T13:09:27Z</dc:date>,\n",
       " <dc:date>2021-09-13T13:18:27Z</dc:date>,\n",
       " <dc:date>2021-09-13T13:22:27Z</dc:date>,\n",
       " <dc:date>2021-09-13T13:21:27Z</dc:date>,\n",
       " <dc:date>2021-09-13T13:23:27Z</dc:date>,\n",
       " <dc:date>2021-09-13T13:07:27Z</dc:date>,\n",
       " <dc:date>2021-09-13T13:23:28Z</dc:date>,\n",
       " <dc:date>2021-09-13T08:54:27Z</dc:date>,\n",
       " <dc:date>2021-09-13T13:22:27Z</dc:date>,\n",
       " <dc:date>2021-09-13T13:11:27Z</dc:date>,\n",
       " <dc:date>2021-08-31T09:23:27Z</dc:date>,\n",
       " <dc:date>2021-09-13T13:07:27Z</dc:date>,\n",
       " <dc:date>2021-09-13T13:05:27Z</dc:date>,\n",
       " <dc:date>2021-09-13T13:23:27Z</dc:date>,\n",
       " <dc:date>2021-09-13T13:17:27Z</dc:date>,\n",
       " <dc:date>2021-09-13T13:08:27Z</dc:date>,\n",
       " <dc:date>2021-09-13T13:17:27Z</dc:date>,\n",
       " <dc:date>2021-09-13T13:22:27Z</dc:date>,\n",
       " <dc:date>2021-09-13T13:23:27Z</dc:date>,\n",
       " <dc:date>2021-09-13T13:23:27Z</dc:date>,\n",
       " <dc:date>2021-09-13T13:23:27Z</dc:date>,\n",
       " <dc:date>2021-09-13T13:23:27Z</dc:date>,\n",
       " <dc:date>2021-09-13T13:22:27Z</dc:date>,\n",
       " <dc:date>2021-09-13T13:23:28Z</dc:date>,\n",
       " <dc:date>2021-09-13T13:22:27Z</dc:date>,\n",
       " <dc:date>2021-09-13T13:23:27Z</dc:date>,\n",
       " <dc:date>2021-09-13T13:12:27Z</dc:date>,\n",
       " <dc:date>2021-09-13T13:23:27Z</dc:date>,\n",
       " <dc:date>2021-09-13T13:14:27Z</dc:date>]"
      ]
     },
     "execution_count": 25,
     "metadata": {},
     "output_type": "execute_result"
    }
   ],
   "source": [
    "descr = soup.find_all('date')\n",
    "descr[:36]"
   ]
  },
  {
   "cell_type": "markdown",
   "metadata": {},
   "source": [
    "#### 4. Ziehen wir alle Links heraus und machen daraus eine Liste"
   ]
  },
  {
   "cell_type": "code",
   "execution_count": 13,
   "metadata": {},
   "outputs": [
    {
     "data": {
      "text/plain": [
       "37"
      ]
     },
     "execution_count": 13,
     "metadata": {},
     "output_type": "execute_result"
    }
   ],
   "source": [
    "contents = r.text #Wandeln wir den Text in ein Format um, mit dem BeautifulSoup umgehen kann.\n",
    "soup = BeautifulSoup(contents,\"xml\") #Geben wir das an BeautifulSoup weiter\n",
    "links = soup.find_all('link') #Nun lesen wir Titel aus.\n",
    "len(links)"
   ]
  },
  {
   "cell_type": "code",
   "execution_count": 14,
   "metadata": {},
   "outputs": [
    {
     "data": {
      "text/plain": [
       "[<link>https://www.pls-zh.ch/plsFeed/rss/</link>,\n",
       " <link>https://www.pls-zh.ch/parkhaus/accu.jsp?pid=accu</link>,\n",
       " <link>https://www.pls-zh.ch/parkhaus/albisriederplatz.jsp?pid=albisriederplatz</link>,\n",
       " <link>https://www.pls-zh.ch/parkhaus/bleicherweg.jsp?pid=bleicherweg</link>,\n",
       " <link>https://www.pls-zh.ch/parkhaus/center_11.jsp?pid=center_11</link>,\n",
       " <link>https://www.pls-zh.ch/parkhaus/cp.jsp?pid=cp</link>,\n",
       " <link>https://www.pls-zh.ch/parkhaus/cityport.jsp?pid=cityport</link>,\n",
       " <link>https://www.pls-zh.ch/parkhaus/crowne_plaza.jsp?pid=crowne_plaza</link>,\n",
       " <link>https://www.pls-zh.ch/parkhaus/dorflinde.jsp?pid=dorflinde</link>,\n",
       " <link>https://www.pls-zh.ch/parkhaus/feldegg.jsp?pid=feldegg</link>,\n",
       " <link>https://www.pls-zh.ch/parkhaus/globus.jsp?pid=globus</link>,\n",
       " <link>https://www.pls-zh.ch/parkhaus/hardau.jsp?pid=hardau</link>,\n",
       " <link>https://www.pls-zh.ch/parkhaus/hb.jsp?pid=hb</link>,\n",
       " <link>https://www.pls-zh.ch/parkhaus/helvetia.jsp?pid=helvetia</link>,\n",
       " <link>https://www.pls-zh.ch/parkhaus/promenade.jsp?pid=promenade</link>,\n",
       " <link>https://www.pls-zh.ch/parkhaus/jelmoli.jsp?pid=jelmoli</link>,\n",
       " <link>https://www.pls-zh.ch/parkhaus/jungholz.jsp?pid=jungholz</link>,\n",
       " <link>https://www.pls-zh.ch/parkhaus/max_bill_platz.jsp?pid=max_bill_platz</link>,\n",
       " <link>https://www.pls-zh.ch/parkhaus/messe.jsp?pid=messe</link>,\n",
       " <link>https://www.pls-zh.ch/parkhaus/nordhaus.jsp?pid=nordhaus</link>,\n",
       " <link>https://www.pls-zh.ch/parkhaus/octavo.jsp?pid=octavo</link>,\n",
       " <link>https://www.pls-zh.ch/parkhaus/opera.jsp?pid=opera</link>,\n",
       " <link>https://www.pls-zh.ch/parkhaus/p_west.jsp?pid=p_west</link>,\n",
       " <link>https://www.pls-zh.ch/parkhaus/park_hyatt.jsp?pid=park_hyatt</link>,\n",
       " <link>https://www.pls-zh.ch/parkhaus/parkside.jsp?pid=parkside</link>,\n",
       " <link>https://www.pls-zh.ch/parkhaus/pfingstweid.jsp?pid=pfingstweid</link>,\n",
       " <link>https://www.pls-zh.ch/parkhaus/stampfenbach.jsp?pid=stampfenbach</link>,\n",
       " <link>https://www.pls-zh.ch/parkhaus/talgarten.jsp?pid=talgarten</link>,\n",
       " <link>https://www.pls-zh.ch/parkhaus/unispital_nord.jsp?pid=unispital_nord</link>,\n",
       " <link>https://www.pls-zh.ch/parkhaus/uni_irchel.jsp?pid=uni_irchel</link>,\n",
       " <link>https://www.pls-zh.ch/parkhaus/urania.jsp?pid=urania</link>,\n",
       " <link>https://www.pls-zh.ch/parkhaus/utoquai.jsp?pid=utoquai</link>,\n",
       " <link>https://www.pls-zh.ch/parkhaus/zueri11.jsp?pid=zueri11</link>,\n",
       " <link>https://www.pls-zh.ch/parkhaus/zuerichhorn.jsp?pid=zuerichhorn</link>,\n",
       " <link>https://www.pls-zh.ch/parkhaus/theater_11.jsp?pid=theater_11</link>,\n",
       " <link>https://www.pls-zh.ch/parkhaus/unispital_sued.jsp?pid=unispital_sued</link>,\n",
       " <link>https://www.pls-zh.ch/parkhaus/puls5.jsp?pid=puls5</link>]"
      ]
     },
     "execution_count": 14,
     "metadata": {},
     "output_type": "execute_result"
    }
   ],
   "source": [
    "descr = soup.find_all('link')\n",
    "descr[:37]"
   ]
  },
  {
   "cell_type": "markdown",
   "metadata": {},
   "source": [
    "#### 5. Nun bauen wir eine Dictionary aus den beiden Listen mit dem ersten Key \"Datum\" und zweiten Key \"URL\"."
   ]
  },
  {
   "cell_type": "code",
   "execution_count": 21,
   "metadata": {},
   "outputs": [],
   "source": [
    "liste = []\n",
    "for date,b in zip(dates,descr):\n",
    "    \n",
    "    mini_dict = {'Datum':date.text,\n",
    "                 'URL':b.text}\n",
    "    \n",
    "    liste.append(mini_dict)"
   ]
  },
  {
   "cell_type": "code",
   "execution_count": 22,
   "metadata": {},
   "outputs": [
    {
     "name": "stdout",
     "output_type": "stream",
     "text": [
      "[{'Datum': '2021-09-13T13:14:27Z', 'URL': 'https://www.pls-zh.ch/plsFeed/rss/'}, {'Datum': '2021-09-13T13:19:27Z', 'URL': 'https://www.pls-zh.ch/parkhaus/accu.jsp?pid=accu'}, {'Datum': '2021-09-13T13:23:27Z', 'URL': 'https://www.pls-zh.ch/parkhaus/albisriederplatz.jsp?pid=albisriederplatz'}, {'Datum': '2021-09-13T13:23:27Z', 'URL': 'https://www.pls-zh.ch/parkhaus/bleicherweg.jsp?pid=bleicherweg'}, {'Datum': '2021-09-13T13:23:27Z', 'URL': 'https://www.pls-zh.ch/parkhaus/center_11.jsp?pid=center_11'}, {'Datum': '2021-09-13T13:19:27Z', 'URL': 'https://www.pls-zh.ch/parkhaus/cp.jsp?pid=cp'}, {'Datum': '2021-09-13T13:19:27Z', 'URL': 'https://www.pls-zh.ch/parkhaus/cityport.jsp?pid=cityport'}, {'Datum': '2021-09-13T13:09:27Z', 'URL': 'https://www.pls-zh.ch/parkhaus/crowne_plaza.jsp?pid=crowne_plaza'}, {'Datum': '2021-09-13T13:18:27Z', 'URL': 'https://www.pls-zh.ch/parkhaus/dorflinde.jsp?pid=dorflinde'}, {'Datum': '2021-09-13T13:22:27Z', 'URL': 'https://www.pls-zh.ch/parkhaus/feldegg.jsp?pid=feldegg'}, {'Datum': '2021-09-13T13:21:27Z', 'URL': 'https://www.pls-zh.ch/parkhaus/globus.jsp?pid=globus'}, {'Datum': '2021-09-13T13:23:27Z', 'URL': 'https://www.pls-zh.ch/parkhaus/hardau.jsp?pid=hardau'}, {'Datum': '2021-09-13T13:07:27Z', 'URL': 'https://www.pls-zh.ch/parkhaus/hb.jsp?pid=hb'}, {'Datum': '2021-09-13T13:23:28Z', 'URL': 'https://www.pls-zh.ch/parkhaus/helvetia.jsp?pid=helvetia'}, {'Datum': '2021-09-13T08:54:27Z', 'URL': 'https://www.pls-zh.ch/parkhaus/promenade.jsp?pid=promenade'}, {'Datum': '2021-09-13T13:22:27Z', 'URL': 'https://www.pls-zh.ch/parkhaus/jelmoli.jsp?pid=jelmoli'}, {'Datum': '2021-09-13T13:11:27Z', 'URL': 'https://www.pls-zh.ch/parkhaus/jungholz.jsp?pid=jungholz'}, {'Datum': '2021-08-31T09:23:27Z', 'URL': 'https://www.pls-zh.ch/parkhaus/max_bill_platz.jsp?pid=max_bill_platz'}, {'Datum': '2021-09-13T13:07:27Z', 'URL': 'https://www.pls-zh.ch/parkhaus/messe.jsp?pid=messe'}, {'Datum': '2021-09-13T13:05:27Z', 'URL': 'https://www.pls-zh.ch/parkhaus/nordhaus.jsp?pid=nordhaus'}, {'Datum': '2021-09-13T13:23:27Z', 'URL': 'https://www.pls-zh.ch/parkhaus/octavo.jsp?pid=octavo'}, {'Datum': '2021-09-13T13:17:27Z', 'URL': 'https://www.pls-zh.ch/parkhaus/opera.jsp?pid=opera'}, {'Datum': '2021-09-13T13:08:27Z', 'URL': 'https://www.pls-zh.ch/parkhaus/p_west.jsp?pid=p_west'}, {'Datum': '2021-09-13T13:17:27Z', 'URL': 'https://www.pls-zh.ch/parkhaus/park_hyatt.jsp?pid=park_hyatt'}, {'Datum': '2021-09-13T13:22:27Z', 'URL': 'https://www.pls-zh.ch/parkhaus/parkside.jsp?pid=parkside'}, {'Datum': '2021-09-13T13:23:27Z', 'URL': 'https://www.pls-zh.ch/parkhaus/pfingstweid.jsp?pid=pfingstweid'}, {'Datum': '2021-09-13T13:23:27Z', 'URL': 'https://www.pls-zh.ch/parkhaus/stampfenbach.jsp?pid=stampfenbach'}, {'Datum': '2021-09-13T13:23:27Z', 'URL': 'https://www.pls-zh.ch/parkhaus/talgarten.jsp?pid=talgarten'}, {'Datum': '2021-09-13T13:23:27Z', 'URL': 'https://www.pls-zh.ch/parkhaus/unispital_nord.jsp?pid=unispital_nord'}, {'Datum': '2021-09-13T13:22:27Z', 'URL': 'https://www.pls-zh.ch/parkhaus/uni_irchel.jsp?pid=uni_irchel'}, {'Datum': '2021-09-13T13:23:28Z', 'URL': 'https://www.pls-zh.ch/parkhaus/urania.jsp?pid=urania'}, {'Datum': '2021-09-13T13:22:27Z', 'URL': 'https://www.pls-zh.ch/parkhaus/utoquai.jsp?pid=utoquai'}, {'Datum': '2021-09-13T13:23:27Z', 'URL': 'https://www.pls-zh.ch/parkhaus/zueri11.jsp?pid=zueri11'}, {'Datum': '2021-09-13T13:12:27Z', 'URL': 'https://www.pls-zh.ch/parkhaus/zuerichhorn.jsp?pid=zuerichhorn'}, {'Datum': '2021-09-13T13:23:27Z', 'URL': 'https://www.pls-zh.ch/parkhaus/theater_11.jsp?pid=theater_11'}, {'Datum': '2021-09-13T13:14:27Z', 'URL': 'https://www.pls-zh.ch/parkhaus/unispital_sued.jsp?pid=unispital_sued'}]\n"
     ]
    }
   ],
   "source": [
    "print(liste)"
   ]
  },
  {
   "cell_type": "markdown",
   "metadata": {},
   "source": [
    "#### 6. Schliesslich machen wir daraus einen DataFrame (eine für uns Menschen lesbare Tabelle) und speichern das Ergebnis ab."
   ]
  },
  {
   "cell_type": "code",
   "execution_count": 23,
   "metadata": {},
   "outputs": [
    {
     "data": {
      "text/html": [
       "<div>\n",
       "<style scoped>\n",
       "    .dataframe tbody tr th:only-of-type {\n",
       "        vertical-align: middle;\n",
       "    }\n",
       "\n",
       "    .dataframe tbody tr th {\n",
       "        vertical-align: top;\n",
       "    }\n",
       "\n",
       "    .dataframe thead th {\n",
       "        text-align: right;\n",
       "    }\n",
       "</style>\n",
       "<table border=\"1\" class=\"dataframe\">\n",
       "  <thead>\n",
       "    <tr style=\"text-align: right;\">\n",
       "      <th></th>\n",
       "      <th>Datum</th>\n",
       "      <th>URL</th>\n",
       "    </tr>\n",
       "  </thead>\n",
       "  <tbody>\n",
       "    <tr>\n",
       "      <th>0</th>\n",
       "      <td>2021-09-13T13:14:27Z</td>\n",
       "      <td>https://www.pls-zh.ch/plsFeed/rss/</td>\n",
       "    </tr>\n",
       "    <tr>\n",
       "      <th>1</th>\n",
       "      <td>2021-09-13T13:19:27Z</td>\n",
       "      <td>https://www.pls-zh.ch/parkhaus/accu.jsp?pid=accu</td>\n",
       "    </tr>\n",
       "    <tr>\n",
       "      <th>2</th>\n",
       "      <td>2021-09-13T13:23:27Z</td>\n",
       "      <td>https://www.pls-zh.ch/parkhaus/albisriederplat...</td>\n",
       "    </tr>\n",
       "    <tr>\n",
       "      <th>3</th>\n",
       "      <td>2021-09-13T13:23:27Z</td>\n",
       "      <td>https://www.pls-zh.ch/parkhaus/bleicherweg.jsp...</td>\n",
       "    </tr>\n",
       "    <tr>\n",
       "      <th>4</th>\n",
       "      <td>2021-09-13T13:23:27Z</td>\n",
       "      <td>https://www.pls-zh.ch/parkhaus/center_11.jsp?p...</td>\n",
       "    </tr>\n",
       "  </tbody>\n",
       "</table>\n",
       "</div>"
      ],
      "text/plain": [
       "                  Datum                                                URL\n",
       "0  2021-09-13T13:14:27Z                 https://www.pls-zh.ch/plsFeed/rss/\n",
       "1  2021-09-13T13:19:27Z   https://www.pls-zh.ch/parkhaus/accu.jsp?pid=accu\n",
       "2  2021-09-13T13:23:27Z  https://www.pls-zh.ch/parkhaus/albisriederplat...\n",
       "3  2021-09-13T13:23:27Z  https://www.pls-zh.ch/parkhaus/bleicherweg.jsp...\n",
       "4  2021-09-13T13:23:27Z  https://www.pls-zh.ch/parkhaus/center_11.jsp?p..."
      ]
     },
     "execution_count": 23,
     "metadata": {},
     "output_type": "execute_result"
    }
   ],
   "source": [
    "pd.DataFrame(liste).head()"
   ]
  },
  {
   "cell_type": "code",
   "execution_count": null,
   "metadata": {},
   "outputs": [],
   "source": []
  }
 ],
 "metadata": {
  "kernelspec": {
   "display_name": "Python 3",
   "language": "python",
   "name": "python3"
  },
  "language_info": {
   "codemirror_mode": {
    "name": "ipython",
    "version": 3
   },
   "file_extension": ".py",
   "mimetype": "text/x-python",
   "name": "python",
   "nbconvert_exporter": "python",
   "pygments_lexer": "ipython3",
   "version": "3.9.5"
  }
 },
 "nbformat": 4,
 "nbformat_minor": 2
}
