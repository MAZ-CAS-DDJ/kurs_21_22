{
 "cells": [
  {
   "cell_type": "markdown",
   "metadata": {},
   "source": [
    "# Übung 3"
   ]
  },
  {
   "cell_type": "markdown",
   "metadata": {},
   "source": [
    "#### 1. Importiere requests, BeautifulSoup und Pandas"
   ]
  },
  {
   "cell_type": "code",
   "execution_count": 10,
   "metadata": {},
   "outputs": [],
   "source": [
    "import requests\n",
    "from bs4 import BeautifulSoup\n",
    "import pandas as pd"
   ]
  },
  {
   "cell_type": "markdown",
   "metadata": {},
   "source": [
    "#### 2. Lade den Inhalt des Parkhaus-RSS-Feeds in eine Variabel"
   ]
  },
  {
   "cell_type": "code",
   "execution_count": 11,
   "metadata": {},
   "outputs": [],
   "source": [
    "r = requests.get('https://www.pls-zh.ch/plsFeed/rss')"
   ]
  },
  {
   "cell_type": "markdown",
   "metadata": {},
   "source": [
    "#### 3. Ziehen wir aus dieser alle Daten (Datum) heraus und machen daraus eine Liste"
   ]
  },
  {
   "cell_type": "code",
   "execution_count": 12,
   "metadata": {},
   "outputs": [
    {
     "data": {
      "text/plain": [
       "<pubDate>Mon, 13 Sep 2021 14:05:27 GMT</pubDate>"
      ]
     },
     "execution_count": 12,
     "metadata": {},
     "output_type": "execute_result"
    }
   ],
   "source": [
    "contents = r.text #Wandeln wir den Text in ein Format um, mit dem BeautifulSoup umgehen kann.\n",
    "soup = BeautifulSoup(contents,\"xml\") #Geben wir das an BeautifulSoup weiter\n",
    "dates = soup.find_all('pubDate') #Nun lesen wir Daten aus.\n",
    "dates[0]"
   ]
  },
  {
   "cell_type": "markdown",
   "metadata": {},
   "source": [
    "#### 4. Ziehen wir alle Links heraus und machen daraus eine Liste"
   ]
  },
  {
   "cell_type": "code",
   "execution_count": 13,
   "metadata": {},
   "outputs": [
    {
     "data": {
      "text/plain": [
       "<link>https://www.pls-zh.ch/plsFeed/rss/</link>"
      ]
     },
     "execution_count": 13,
     "metadata": {},
     "output_type": "execute_result"
    }
   ],
   "source": [
    "links = soup.find_all('link') #Nun lesen wir Daten aus.\n",
    "links[0]"
   ]
  },
  {
   "cell_type": "markdown",
   "metadata": {},
   "source": [
    "#### 5. Nun bauen wir eine Dictionary aus den beiden Listen mit dem ersten Key \"Datum\" und zweiten Key \"URL\"."
   ]
  },
  {
   "cell_type": "code",
   "execution_count": 17,
   "metadata": {
    "scrolled": true
   },
   "outputs": [
    {
     "name": "stdout",
     "output_type": "stream",
     "text": [
      "[{'Datum': 'Mon, 13 Sep 2021 14:05:27 GMT', 'URL': 'https://www.pls-zh.ch/plsFeed/rss/'}, {'Datum': 'Mon, 13 Sep 2021 14:01:27 GMT', 'URL': 'https://www.pls-zh.ch/parkhaus/accu.jsp?pid=accu'}, {'Datum': 'Mon, 13 Sep 2021 14:10:27 GMT', 'URL': 'https://www.pls-zh.ch/parkhaus/albisriederplatz.jsp?pid=albisriederplatz'}, {'Datum': 'Mon, 13 Sep 2021 14:13:27 GMT', 'URL': 'https://www.pls-zh.ch/parkhaus/bleicherweg.jsp?pid=bleicherweg'}, {'Datum': 'Mon, 13 Sep 2021 14:13:27 GMT', 'URL': 'https://www.pls-zh.ch/parkhaus/center_11.jsp?pid=center_11'}, {'Datum': 'Mon, 13 Sep 2021 14:13:27 GMT', 'URL': 'https://www.pls-zh.ch/parkhaus/cp.jsp?pid=cp'}, {'Datum': 'Mon, 13 Sep 2021 14:11:27 GMT', 'URL': 'https://www.pls-zh.ch/parkhaus/cityport.jsp?pid=cityport'}, {'Datum': 'Mon, 13 Sep 2021 14:10:27 GMT', 'URL': 'https://www.pls-zh.ch/parkhaus/crowne_plaza.jsp?pid=crowne_plaza'}, {'Datum': 'Mon, 13 Sep 2021 14:06:27 GMT', 'URL': 'https://www.pls-zh.ch/parkhaus/dorflinde.jsp?pid=dorflinde'}, {'Datum': 'Mon, 13 Sep 2021 14:13:27 GMT', 'URL': 'https://www.pls-zh.ch/parkhaus/feldegg.jsp?pid=feldegg'}, {'Datum': 'Mon, 13 Sep 2021 13:46:27 GMT', 'URL': 'https://www.pls-zh.ch/parkhaus/globus.jsp?pid=globus'}, {'Datum': 'Mon, 13 Sep 2021 14:13:28 GMT', 'URL': 'https://www.pls-zh.ch/parkhaus/hardau.jsp?pid=hardau'}, {'Datum': 'Mon, 13 Sep 2021 13:54:27 GMT', 'URL': 'https://www.pls-zh.ch/parkhaus/hb.jsp?pid=hb'}, {'Datum': 'Mon, 13 Sep 2021 14:13:27 GMT', 'URL': 'https://www.pls-zh.ch/parkhaus/helvetia.jsp?pid=helvetia'}, {'Datum': 'Mon, 13 Sep 2021 14:12:27 GMT', 'URL': 'https://www.pls-zh.ch/parkhaus/promenade.jsp?pid=promenade'}, {'Datum': 'Mon, 13 Sep 2021 14:11:27 GMT', 'URL': 'https://www.pls-zh.ch/parkhaus/jelmoli.jsp?pid=jelmoli'}, {'Datum': 'Mon, 13 Sep 2021 14:12:27 GMT', 'URL': 'https://www.pls-zh.ch/parkhaus/jungholz.jsp?pid=jungholz'}, {'Datum': 'Tue, 31 Aug 2021 09:23:27 GMT', 'URL': 'https://www.pls-zh.ch/parkhaus/max_bill_platz.jsp?pid=max_bill_platz'}, {'Datum': 'Mon, 13 Sep 2021 14:13:27 GMT', 'URL': 'https://www.pls-zh.ch/parkhaus/messe.jsp?pid=messe'}, {'Datum': 'Mon, 13 Sep 2021 13:52:27 GMT', 'URL': 'https://www.pls-zh.ch/parkhaus/nordhaus.jsp?pid=nordhaus'}, {'Datum': 'Mon, 13 Sep 2021 14:13:27 GMT', 'URL': 'https://www.pls-zh.ch/parkhaus/octavo.jsp?pid=octavo'}, {'Datum': 'Mon, 13 Sep 2021 14:13:27 GMT', 'URL': 'https://www.pls-zh.ch/parkhaus/opera.jsp?pid=opera'}, {'Datum': 'Mon, 13 Sep 2021 14:04:27 GMT', 'URL': 'https://www.pls-zh.ch/parkhaus/p_west.jsp?pid=p_west'}, {'Datum': 'Mon, 13 Sep 2021 13:50:27 GMT', 'URL': 'https://www.pls-zh.ch/parkhaus/park_hyatt.jsp?pid=park_hyatt'}, {'Datum': 'Mon, 13 Sep 2021 14:13:27 GMT', 'URL': 'https://www.pls-zh.ch/parkhaus/parkside.jsp?pid=parkside'}, {'Datum': 'Mon, 13 Sep 2021 14:13:27 GMT', 'URL': 'https://www.pls-zh.ch/parkhaus/pfingstweid.jsp?pid=pfingstweid'}, {'Datum': 'Mon, 13 Sep 2021 14:12:27 GMT', 'URL': 'https://www.pls-zh.ch/parkhaus/stampfenbach.jsp?pid=stampfenbach'}, {'Datum': 'Mon, 13 Sep 2021 14:12:28 GMT', 'URL': 'https://www.pls-zh.ch/parkhaus/talgarten.jsp?pid=talgarten'}, {'Datum': 'Mon, 13 Sep 2021 14:13:27 GMT', 'URL': 'https://www.pls-zh.ch/parkhaus/unispital_nord.jsp?pid=unispital_nord'}, {'Datum': 'Mon, 13 Sep 2021 14:13:27 GMT', 'URL': 'https://www.pls-zh.ch/parkhaus/uni_irchel.jsp?pid=uni_irchel'}, {'Datum': 'Mon, 13 Sep 2021 14:13:27 GMT', 'URL': 'https://www.pls-zh.ch/parkhaus/urania.jsp?pid=urania'}, {'Datum': 'Mon, 13 Sep 2021 14:13:27 GMT', 'URL': 'https://www.pls-zh.ch/parkhaus/utoquai.jsp?pid=utoquai'}, {'Datum': 'Mon, 13 Sep 2021 13:58:28 GMT', 'URL': 'https://www.pls-zh.ch/parkhaus/zueri11.jsp?pid=zueri11'}, {'Datum': 'Mon, 13 Sep 2021 14:04:27 GMT', 'URL': 'https://www.pls-zh.ch/parkhaus/zuerichhorn.jsp?pid=zuerichhorn'}, {'Datum': 'Mon, 13 Sep 2021 14:12:27 GMT', 'URL': 'https://www.pls-zh.ch/parkhaus/theater_11.jsp?pid=theater_11'}, {'Datum': 'Mon, 13 Sep 2021 14:12:27 GMT', 'URL': 'https://www.pls-zh.ch/parkhaus/unispital_sued.jsp?pid=unispital_sued'}]\n"
     ]
    }
   ],
   "source": [
    "lst = []\n",
    "for date,link in zip(dates,links):\n",
    "    mini_dict = {'Datum':date.text,'URL':link.text}\n",
    "    lst.append(mini_dict)\n",
    "    \n",
    "print(lst)"
   ]
  },
  {
   "cell_type": "markdown",
   "metadata": {},
   "source": [
    "#### 6. Schliesslich machen wir daraus einen DataFrame (eine für uns Menschen lesbare Tabelle) und speichern das Ergebnis ab."
   ]
  },
  {
   "cell_type": "code",
   "execution_count": 18,
   "metadata": {},
   "outputs": [
    {
     "data": {
      "text/html": [
       "<div>\n",
       "<style scoped>\n",
       "    .dataframe tbody tr th:only-of-type {\n",
       "        vertical-align: middle;\n",
       "    }\n",
       "\n",
       "    .dataframe tbody tr th {\n",
       "        vertical-align: top;\n",
       "    }\n",
       "\n",
       "    .dataframe thead th {\n",
       "        text-align: right;\n",
       "    }\n",
       "</style>\n",
       "<table border=\"1\" class=\"dataframe\">\n",
       "  <thead>\n",
       "    <tr style=\"text-align: right;\">\n",
       "      <th></th>\n",
       "      <th>Datum</th>\n",
       "      <th>URL</th>\n",
       "    </tr>\n",
       "  </thead>\n",
       "  <tbody>\n",
       "    <tr>\n",
       "      <th>0</th>\n",
       "      <td>Mon, 13 Sep 2021 14:05:27 GMT</td>\n",
       "      <td>https://www.pls-zh.ch/plsFeed/rss/</td>\n",
       "    </tr>\n",
       "    <tr>\n",
       "      <th>1</th>\n",
       "      <td>Mon, 13 Sep 2021 14:01:27 GMT</td>\n",
       "      <td>https://www.pls-zh.ch/parkhaus/accu.jsp?pid=accu</td>\n",
       "    </tr>\n",
       "    <tr>\n",
       "      <th>2</th>\n",
       "      <td>Mon, 13 Sep 2021 14:10:27 GMT</td>\n",
       "      <td>https://www.pls-zh.ch/parkhaus/albisriederplat...</td>\n",
       "    </tr>\n",
       "    <tr>\n",
       "      <th>3</th>\n",
       "      <td>Mon, 13 Sep 2021 14:13:27 GMT</td>\n",
       "      <td>https://www.pls-zh.ch/parkhaus/bleicherweg.jsp...</td>\n",
       "    </tr>\n",
       "    <tr>\n",
       "      <th>4</th>\n",
       "      <td>Mon, 13 Sep 2021 14:13:27 GMT</td>\n",
       "      <td>https://www.pls-zh.ch/parkhaus/center_11.jsp?p...</td>\n",
       "    </tr>\n",
       "  </tbody>\n",
       "</table>\n",
       "</div>"
      ],
      "text/plain": [
       "                           Datum  \\\n",
       "0  Mon, 13 Sep 2021 14:05:27 GMT   \n",
       "1  Mon, 13 Sep 2021 14:01:27 GMT   \n",
       "2  Mon, 13 Sep 2021 14:10:27 GMT   \n",
       "3  Mon, 13 Sep 2021 14:13:27 GMT   \n",
       "4  Mon, 13 Sep 2021 14:13:27 GMT   \n",
       "\n",
       "                                                 URL  \n",
       "0                 https://www.pls-zh.ch/plsFeed/rss/  \n",
       "1   https://www.pls-zh.ch/parkhaus/accu.jsp?pid=accu  \n",
       "2  https://www.pls-zh.ch/parkhaus/albisriederplat...  \n",
       "3  https://www.pls-zh.ch/parkhaus/bleicherweg.jsp...  \n",
       "4  https://www.pls-zh.ch/parkhaus/center_11.jsp?p...  "
      ]
     },
     "execution_count": 18,
     "metadata": {},
     "output_type": "execute_result"
    }
   ],
   "source": [
    "pd.DataFrame(lst).head()"
   ]
  },
  {
   "cell_type": "code",
   "execution_count": null,
   "metadata": {},
   "outputs": [],
   "source": []
  },
  {
   "cell_type": "code",
   "execution_count": null,
   "metadata": {},
   "outputs": [],
   "source": []
  }
 ],
 "metadata": {
  "kernelspec": {
   "display_name": "Python 3",
   "language": "python",
   "name": "python3"
  },
  "language_info": {
   "codemirror_mode": {
    "name": "ipython",
    "version": 3
   },
   "file_extension": ".py",
   "mimetype": "text/x-python",
   "name": "python",
   "nbconvert_exporter": "python",
   "pygments_lexer": "ipython3",
   "version": "3.9.5"
  }
 },
 "nbformat": 4,
 "nbformat_minor": 2
}
