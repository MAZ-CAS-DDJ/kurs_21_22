{
 "cells": [
  {
   "cell_type": "code",
   "execution_count": 1,
   "metadata": {},
   "outputs": [],
   "source": [
    "import os\n",
    "import re\n",
    "import pandas as pd"
   ]
  },
  {
   "cell_type": "code",
   "execution_count": 2,
   "metadata": {},
   "outputs": [
    {
     "name": "stdout",
     "output_type": "stream",
     "text": [
      "podesta emails.ipynb  \u001b[34mpodesta5000\u001b[m\u001b[m/\r\n"
     ]
    }
   ],
   "source": [
    "ls"
   ]
  },
  {
   "cell_type": "markdown",
   "metadata": {},
   "source": [
    "1. Alle Mails öffnen und als Liste abspeichern\n",
    "2. Dollarzeichen in Kombination mit \"million\" suchen\n",
    "3. Alle Mails markieren, wo Dollar Zeichen gefunden werden\n",
    "4. Reinigung mit Pandas"
   ]
  },
  {
   "cell_type": "code",
   "execution_count": 3,
   "metadata": {},
   "outputs": [],
   "source": [
    "mails = os.listdir('podesta5000')"
   ]
  },
  {
   "cell_type": "code",
   "execution_count": 4,
   "metadata": {},
   "outputs": [],
   "source": [
    "list_mailcontent = []\n",
    "for mail in mails:\n",
    "    f = open(\"podesta5000/\"+mail, \"r\", encoding='utf-8').read()\n",
    "    list_mailcontent.append(f)"
   ]
  },
  {
   "cell_type": "code",
   "execution_count": 7,
   "metadata": {},
   "outputs": [],
   "source": [
    "dollar_list = []\n",
    "dollar = re.compile(r'\\$\\d+ [mM]illion')\n",
    "\n",
    "for mail in list_mailcontent:\n",
    "    \n",
    "    try:\n",
    "        treffer = re.search(dollar, mail).group()\n",
    "        dic = {\"Dollarnennung\": treffer, \"Mailcontent\": mail}\n",
    "    except:\n",
    "        dic = {\"Dollarnennung\": \"N/A\", \"Mailcontent\": mail}\n",
    "    \n",
    "    dollar_list.append(dic)"
   ]
  },
  {
   "cell_type": "code",
   "execution_count": 8,
   "metadata": {},
   "outputs": [
    {
     "data": {
      "text/plain": [
       "N/A             4823\n",
       "$1 million        18\n",
       "$100 million      10\n",
       "$10 million        9\n",
       "$2 million         7\n",
       "$12 million        6\n",
       "$3 million         5\n",
       "$5 million         5\n",
       "$300 million       5\n",
       "$400 million       4\n",
       "$6 million         4\n",
       "$50 million        4\n",
       "$25 million        4\n",
       "$500 million       4\n",
       "$20 million        4\n",
       "$1 Million         3\n",
       "$15 million        3\n",
       "$45 million        3\n",
       "$200 million       3\n",
       "$600 million       2\n",
       "Name: Dollarnennung, dtype: int64"
      ]
     },
     "execution_count": 8,
     "metadata": {},
     "output_type": "execute_result"
    }
   ],
   "source": [
    "df = pd.DataFrame(dollar_list)\n",
    "df['Dollarnennung'].value_counts().head(20)"
   ]
  },
  {
   "cell_type": "markdown",
   "metadata": {},
   "source": [
    "Dollar-Liste"
   ]
  },
  {
   "cell_type": "code",
   "execution_count": 16,
   "metadata": {},
   "outputs": [],
   "source": [
    "dollar_list = []\n",
    "dollar = re.compile(r'\\$\\d+ [mM]illion')\n",
    "\n",
    "for mail in list_mailcontent:\n",
    "    \n",
    "    try:\n",
    "        treffer = re.findall(dollar, mail)\n",
    "        dic = {\"Dollernennung\": treffer, \"Mailcontent\": mail}\n",
    "    except:\n",
    "        dic = {\"Dollernennung\": \"N/A\", \"Mailcontent\": mail}\n",
    "    \n",
    "    dollar_list.append(dic)"
   ]
  },
  {
   "cell_type": "code",
   "execution_count": 17,
   "metadata": {},
   "outputs": [
    {
     "ename": "TypeError",
     "evalue": "unhashable type: 'list'",
     "output_type": "error",
     "traceback": [
      "\u001b[0;31m---------------------------------------------------------------------------\u001b[0m",
      "\u001b[0;31mTypeError\u001b[0m                                 Traceback (most recent call last)",
      "\u001b[0;32mpandas/_libs/hashtable_class_helper.pxi\u001b[0m in \u001b[0;36mpandas._libs.hashtable.PyObjectHashTable.map_locations\u001b[0;34m()\u001b[0m\n",
      "\u001b[0;31mTypeError\u001b[0m: unhashable type: 'list'"
     ]
    },
    {
     "name": "stderr",
     "output_type": "stream",
     "text": [
      "Exception ignored in: 'pandas._libs.index.IndexEngine._call_map_locations'\n",
      "Traceback (most recent call last):\n",
      "  File \"pandas/_libs/hashtable_class_helper.pxi\", line 1709, in pandas._libs.hashtable.PyObjectHashTable.map_locations\n",
      "TypeError: unhashable type: 'list'\n"
     ]
    },
    {
     "data": {
      "text/plain": [
       "[]                                                       4823\n",
       "[$1 million]                                               11\n",
       "[$12 million]                                               6\n",
       "[$10 million]                                               6\n",
       "[$300 million]                                              5\n",
       "                                                         ... \n",
       "[$125 million]                                              1\n",
       "[$475 million, $475 million, $44 million, $4 million]       1\n",
       "[$400 million, $800 million]                                1\n",
       "[$350 million, $215 million]                                1\n",
       "[$439 million, $40 million]                                 1\n",
       "Name: Dollernennung, Length: 132, dtype: int64"
      ]
     },
     "execution_count": 17,
     "metadata": {},
     "output_type": "execute_result"
    }
   ],
   "source": [
    "df2 = pd.DataFrame(dollar_list)\n",
    "df2['Dollernennung'].value_counts()"
   ]
  },
  {
   "cell_type": "code",
   "execution_count": null,
   "metadata": {},
   "outputs": [],
   "source": []
  },
  {
   "cell_type": "code",
   "execution_count": null,
   "metadata": {},
   "outputs": [],
   "source": []
  },
  {
   "cell_type": "code",
   "execution_count": null,
   "metadata": {},
   "outputs": [],
   "source": []
  },
  {
   "cell_type": "code",
   "execution_count": null,
   "metadata": {},
   "outputs": [],
   "source": []
  },
  {
   "cell_type": "code",
   "execution_count": null,
   "metadata": {},
   "outputs": [],
   "source": []
  }
 ],
 "metadata": {
  "kernelspec": {
   "display_name": "Python 3",
   "language": "python",
   "name": "python3"
  },
  "language_info": {
   "codemirror_mode": {
    "name": "ipython",
    "version": 3
   },
   "file_extension": ".py",
   "mimetype": "text/x-python",
   "name": "python",
   "nbconvert_exporter": "python",
   "pygments_lexer": "ipython3",
   "version": "3.7.3"
  }
 },
 "nbformat": 4,
 "nbformat_minor": 4
}
