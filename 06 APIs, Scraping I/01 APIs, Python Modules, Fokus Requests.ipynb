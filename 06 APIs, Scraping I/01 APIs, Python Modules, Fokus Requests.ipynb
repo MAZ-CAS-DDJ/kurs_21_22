{
 "cells": [
  {
   "cell_type": "markdown",
   "metadata": {},
   "source": [
    "# APIs, Libraries, Modules -> \"Requests\"\n",
    "Gezielt und automatisiert Daten im Web auslesen"
   ]
  },
  {
   "cell_type": "markdown",
   "metadata": {},
   "source": [
    "Die Python-Library erlaubt es, automatisiert URLs zu besuchen und gezielt Inhalte herauszulesen. Der Untertitel in [der Dokumentation](http://docs.python-requests.org/en/master/) fasst eigentlich am besten zusammen, was ```requests``` ist: \"HTTP for Humans.\" HTTP steht für Hyper Text Transfer Protocol und ist die Technologie, die Tim Berners-Lee im Jahr 1990 erfunden hat. Ohne HTTP kein Internet. Mit ```Requests```können wir Websites viel genauer befragen, als wir das mit Wget letzte Woche kennengelernt haben. "
   ]
  },
  {
   "cell_type": "markdown",
   "metadata": {},
   "source": [
    "### Unsere Imports"
   ]
  },
  {
   "cell_type": "code",
   "execution_count": 1,
   "metadata": {},
   "outputs": [],
   "source": [
    "import requests\n",
    "import pandas as pd #diese Library werdet ihr am Mittwoch und Donnerstag viel genauer anschauen"
   ]
  },
  {
   "cell_type": "markdown",
   "metadata": {},
   "source": [
    "Zur Dokumentation von ```requests``` geht es [hier lang](http://docs.python-requests.org/en/master/)."
   ]
  },
  {
   "cell_type": "markdown",
   "metadata": {},
   "source": [
    "### Notes"
   ]
  },
  {
   "cell_type": "markdown",
   "metadata": {},
   "source": [
    "In einer ersten Übung arbeiten wir mit [der API des USGS](https://earthquake.usgs.gov/fdsnws/event/1/#methods) arbeiten. Für die meisten API muss man sich heutezutage eine eigene API-Key kreieren. Doch diese API braucht keine Keys. Deshalb ist es ein gutes Kennenlernbeispiel."
   ]
  },
  {
   "cell_type": "markdown",
   "metadata": {},
   "source": [
    "Falls Probleme mit dem Output auftauchen, hier ein Work around für die Meldung, dass der Output limitiert wurde. [Reconfigure line output](https://stackoverflow.com/questions/43288550/iopub-data-rate-exceeded-when-viewing-image-in-jupyter-notebook) and [opening stuff from the command line](https://stackoverflow.com/questions/16344709/how-to-open-a-file-from-the-command-line-with-a-specified-program)"
   ]
  },
  {
   "cell_type": "markdown",
   "metadata": {},
   "source": [
    "### Dokumentation "
   ]
  },
  {
   "cell_type": "markdown",
   "metadata": {},
   "source": [
    "Bevor man mit deiner API arbeitet, lohnt es sich immer zuerst, die [Dokumentation](https://earthquake.usgs.gov/fdsnws/event/1/#parameters) anzuschauen. "
   ]
  },
  {
   "cell_type": "markdown",
   "metadata": {},
   "source": [
    "### Erste Abfragen"
   ]
  },
  {
   "cell_type": "markdown",
   "metadata": {},
   "source": [
    "Kleinere Abfrage. Wieviele Erdbeben hat es in einem bestimmten Zeitraum gegeben?"
   ]
  },
  {
   "cell_type": "code",
   "execution_count": 2,
   "metadata": {},
   "outputs": [],
   "source": [
    "url = 'https://earthquake.usgs.gov/fdsnws/event/1/'"
   ]
  },
  {
   "cell_type": "code",
   "execution_count": 3,
   "metadata": {},
   "outputs": [],
   "source": [
    "response = requests.get(url)"
   ]
  },
  {
   "cell_type": "code",
   "execution_count": 4,
   "metadata": {},
   "outputs": [
    {
     "data": {
      "text/plain": [
       "<Response [200]>"
      ]
     },
     "execution_count": 4,
     "metadata": {},
     "output_type": "execute_result"
    }
   ],
   "source": [
    "response"
   ]
  },
  {
   "cell_type": "code",
   "execution_count": 5,
   "metadata": {},
   "outputs": [
    {
     "data": {
      "text/plain": [
       "'<!DOCTYPE html>\\n<html>\\n<head>\\n  <title>API Documentation - Earthquake Catalog</title>\\n  <meta charset=\"utf-8\"/>\\n  <meta name=\"viewport\" content=\"width=device-width, initial-scale=1\"/>\\n  <link rel=\"stylesheet\" href=\"/theme/site/earthquake/index.css\"/><meta name=\"description\" content=\"USGS Earthquake Hazards Program, responsible for monitoring, reporting, and researching earthquakes and earthquake hazards\"/><meta name=\"keywords\" content=\"aftershock,earthquake,epicenter,fault,foreshock,geologist,geophysics,hazard,hypocenter,intensity,intensity scale,magnitude,magnitude scale,mercalli,plate,richter,seismic,seismicity,seismogram,seismograph,seismologist,seismology,subduction,tectonics,tsunami,quake,sismologico,sismologia\"/><script id=\"_fed_an_ua_tag\" async=\"async\" src=\"https://dap.digitalgov.gov/Universal-Federated-Analytics-Min.js?agency=DOI&amp;subagency=USGS\"></script>  <link rel=\"stylesheet\" href=\"https://fonts.googleapis.com/icon?family=Material+Icons|Merriweather:400,400italic,700|Source+Sans+Pro:400,300,700\"/>\\n</head>\\n<body>\\n\\n  <header role=\"banner\" class=\"site-header\">\\n    <a class=\"site-logo\" href=\"/\" title=\"U.S. Geological Survey\">\\n      <img src=\"/theme/images/usgs-logo.svg\" alt=\"\"/>\\n    </a>\\n    <a class=\"jumplink-navigation\" href=\"#site-sectionnav\">Jump to Navigation</a>\\n      </header>\\n\\n  <main role=\"main\" class=\"page\" aria-labelledby=\"page-header\">\\n    <header class=\"page-header\" id=\"page-header\">\\n      <h1>API Documentation - Earthquake Catalog</h1>\\n    </header>\\n\\n    <div class=\"page-content\">\\n      \\n<p>\\n  This is an implementation of the\\n  <a href=\"http://www.fdsn.org/webservices/FDSN-WS-Specifications-1.0.pdf\">\\n      FDSN Event Web Service Specification</a>,\\n  and allows custom searches for earthquake information using a variety of\\n  parameters.\\n</p>\\n<p class=\"alert info\">Please note that automated applications should use\\n  <a href=\"/earthquakes/feed/v1.0/geojson.php\">\\n      Real-time GeoJSON Feeds</a>\\n  for displaying earthquake information whenever possible, as they will have\\n  the best performance and availability for that type of information.\\n</p>\\n\\n\\n<h2 id=\"url\">URL</h2>\\n<p>\\n  https://earthquake.usgs.gov/fdsnws/event/1/[<a href=\"#methods\">METHOD</a>[?<a href=\"#parameters\">PARAMETERS</a>]]\\n</p>\\n\\n\\n<h2 id=\"methods\">Methods</h2>\\n<dl class=\"vertical\">\\n  <dt>application.json</dt>\\n  <dd>\\n      request known enumerated parameter values for the interface.\\n  </dd>\\n  <dd>\\n    <ul class=\"examples\">\\n      <li>\\n        <a href=\"https://earthquake.usgs.gov/fdsnws/event/1/application.json\">\\n            https://earthquake.usgs.gov/fdsnws/event/1/application.json</a>\\n      </li>\\n    </ul>\\n  </dd>\\n  <dt>application.wadl</dt>\\n  <dd>\\n    request <abbr title=\"Web Application Description Language\">WADL</abbr>\\n    for the interface.\\n  </dd>\\n  <dd>\\n    <ul class=\"examples\">\\n      <li>\\n        <a href=\"https://earthquake.usgs.gov/fdsnws/event/1/application.wadl\">\\n            https://earthquake.usgs.gov/fdsnws/event/1/application.wadl</a>\\n      </li>\\n    </ul>\\n  </dd>\\n  <dt>catalogs</dt>\\n  <dd>request available catalogs.</dd>\\n  <dd>\\n    <ul class=\"examples\">\\n      <li>\\n        <a href=\"https://earthquake.usgs.gov/fdsnws/event/1/catalogs\">\\n            https://earthquake.usgs.gov/fdsnws/event/1/catalogs</a>\\n      </li>\\n    </ul>\\n  </dd>\\n  <dt>contributors</dt>\\n  <dd>\\n    request available contributors\\n  </dd>\\n  <dd>\\n    <ul class=\"examples\">\\n      <li>\\n        <a href=\"https://earthquake.usgs.gov/fdsnws/event/1/contributors\">\\n            https://earthquake.usgs.gov/fdsnws/event/1/contributors</a>\\n      </li>\\n    </ul>\\n  </dd>\\n  <dt>count</dt>\\n  <dd>\\n    to perform a count on a data request. Count uses the same\\n    <a href=\"#parameters\">parameters</a> as the query method, and is\\n    availablein these <a href=\"#format\">formats</a>: plain text (default),\\n    geojson, and xml.\\n  </dd>\\n  <dd>\\n    <ul>\\n      <li><a href=\"https://earthquake.usgs.gov/fdsnws/event/1/count?format=geojson\">\\n          https://earthquake.usgs.gov/fdsnws/event/1/count?format=geojson</a></li>\\n      <li><a href=\"https://earthquake.usgs.gov/fdsnws/event/1/count?starttime=2014-01-01&amp;endtime=2014-01-02\">\\n          https://earthquake.usgs.gov/fdsnws/event/1/count?starttime=2014-01-01&amp;endtime=2014-01-02</a></li>\\n    </ul>\\n  </dd>\\n  <dt>query</dt>\\n  <dd>\\n    to submit a data request. See the <a href=\"#parameters\">parameters</a>\\n    section for supported url parameters.\\n  </dd>\\n  <dd>\\n    <ul class=\"examples\">\\n      <li>\\n        <a href=\"https://earthquake.usgs.gov/fdsnws/event/1/query?format=geojson&amp;starttime=2014-01-01&amp;endtime=2014-01-02\">\\n            https://earthquake.usgs.gov/fdsnws/event/1/query?format=geojson&amp;starttime=2014-01-01&amp;endtime=2014-01-02</a>\\n      </li>\\n      <li>\\n        <a href=\"https://earthquake.usgs.gov/fdsnws/event/1/query?format=xml&amp;starttime=2014-01-01&amp;endtime=2014-01-02&amp;minmagnitude=5\">\\n            https://earthquake.usgs.gov/fdsnws/event/1/query?format=xml&amp;starttime=2014-01-01&amp;endtime=2014-01-02&amp;minmagnitude=5</a>\\n      </li>\\n    </ul>\\n  </dd>\\n  <dt>version</dt>\\n  <dd>request full service version number</dd>\\n  <dd>\\n    <ul class=\"examples\">\\n      <li>\\n        <a href=\"https://earthquake.usgs.gov/fdsnws/event/1/version\">\\n            https://earthquake.usgs.gov/fdsnws/event/1/version</a>\\n      </li>\\n    </ul>\\n  </dd>\\n</dl>\\n\\n\\n<h2 id=\"parameters\">Query method Parameters</h2>\\n<p>\\n  These parameters should be submitted as key=value pairs using the HTTP GET\\n  method and may not be specified more than once; if a parameter is submitted\\n  multiple times the result is undefined.\\n</p>\\n\\n\\n<h3>Formats</h3>\\n<p>If no format is specified <em>quakeml</em> will be returned by default.</p>\\n<div class=\"horizontal-scrolling\">\\n  <table>\\n    <thead>\\n      <tr>\\n        <th>parameter</th>\\n        <th>type</th>\\n        <th>default</th>\\n        <th>description</th>\\n      </tr>\\n    </thead>\\n    <tbody>\\n      <tr id=\"format\">\\n        <td><code>format</code></td>\\n        <td>String</td>\\n        <td>quakeml</td>\\n        <td>\\n          Specify the output format.\\n\\n          <dl class=\"options vertical\">\\n            <dt><code>format=csv</code></dt>\\n            <dd>\\n              Response format is\\n              <a href=\"/earthquakes/feed/v1.0/csv.php\">CSV</a>.\\n              Mime-type is &ldquo;text/csv&rdquo;.\\n            </dd>\\n            <dt><code><a href=\"#format-geojson\">format=geojson</a></code></dt>\\n            <dd>\\n              Response format is\\n              <a href=\"/earthquakes/feed/v1.0/geojson.php\">\\n              GeoJSON</a>. Mime-type is &ldquo;application/json&rdquo;.\\n            </dd>\\n            <dt><code><a href=\"#format-kml\">format=kml</a></code></dt>\\n            <dd>\\n              Response format is\\n              <a href=\"/earthquakes/feed/v1.0/kml.php\">KML</a>.\\n              Mime-type is &ldquo;vnd.google-earth.kml+xml&rdquo;.\\n            </dd>\\n            <dt><code><a href=\"#format-xml\">format=quakeml</a></code></dt>\\n            <dd>\\n              Alias for \"xml\" format.\\n            </dd>\\n            <dt><code><a href=\"#format-text\">format=text</a></code></dt>\\n            <dd>\\n              Response format is plain text. Mime-type is\\n              &ldquo;text/plain&rdquo;.\\n            </dd>\\n            <dt><code><a href=\"#format-xml\">format=xml</a></code></dt>\\n            <dd>\\n              The xml format is dependent upon the request <em>method</em> used.\\n            </dd>\\n          </dl>\\n        </td>\\n      </tr>\\n    </tbody>\\n  </table>\\n</div>\\n\\n\\n<h4 id=\"format-geojson\">format=geojson</h4>\\n<p>\\n  When <code>format=geojson</code> is defined there are additional parameters\\n  that can be specified that control how the geojson output is generated. The\\n  additional web service parameters are:\\n</p>\\n<ul>\\n  <li><a href=\"#callback\">callback</a></li>\\n  <li><a href=\"#jsonerror\">jsonerror</a></li>\\n</ul>\\n\\n\\n<h4 id=\"format-kml\">format=kml</h4>\\n<p>\\n  When <code>format=kml</code> is defined there are additional parameters\\n  that can be specified that control how the KML output is generated. The\\n  additional web service parameters are:\\n</p>\\n<ul>\\n  <li><a href=\"#kmlanimated\">kmlanimated</a></li>\\n  <li><a href=\"#kmlcolorby\">kmlcolorby</a></li>\\n</ul>\\n\\n\\n<h4 id=\"format-text\">format=text</h4>\\n<p>\\n  This format is only available for the <code>count</code>,\\n  <code>query</code>, and <code>version</code> methods.\\n</p>\\n\\n\\n<h4 id=\"format-xml\">format=xml</h4>\\n<p>The xml format is dependent upon the request <code>method</code> used.</p>\\n<ul>\\n  <li>\\n    <code>method=query</code><br/>\\n    Response format is <a href=\"http://www.quakeml.org/\">Quakeml 1.2</a>.\\n    Mime-type is \"application/xml\".\\n  </li>\\n  <li>\\n    <code>method=count</code><br/>\\n    Response format is xml. Mime-type is &ldquo;application/xml&rdquo;.\\n  </li>\\n</ul>\\n\\n\\n<h3>Time</h3>\\n<p>\\n  All times use ISO8601 Date/Time format. Unless a timezone is specified, UTC\\n  is assumed. Examples:\\n</p>\\n<ul>\\n  <li>\\n    <em>2021-09-10</em>,\\n    Implicit UTC timezone, and time at start of the day (00:00:00)\\n  </li>\\n  <li>\\n    <em>2021-09-10T12:35:04</em>,\\n    Implicit UTC timezone.\\n  </li>\\n  <li>\\n    <em>2021-09-10T12:35:04+00:00</em>,\\n    Explicit timezone.\\n  </li>\\n</ul>\\n<div class=\"horizontal-scrolling\">\\n  <table>\\n    <thead>\\n      <tr>\\n        <th>parameter</th>\\n        <th>type</th>\\n        <th>default</th>\\n        <th>description</th>\\n      </tr>\\n    </thead>\\n    <tbody>\\n      <tr>\\n        <td><code>endtime</code></td>\\n        <td>String</td>\\n        <td>present time</td>\\n        <td>\\n          Limit to events on or before the specified end time.\\n          <small>\\n            NOTE: All times use ISO8601 Date/Time format. Unless a timezone is specified, UTC is assumed.\\n          </small>\\n        </td>\\n      </tr>\\n      <tr>\\n        <td><code>starttime</code></td>\\n        <td>String</td>\\n        <td>NOW -\\n        30 days</td>\\n        <td>\\n          Limit to events on or after the specified start time.\\n          <small>\\n            NOTE: All times use ISO8601 Date/Time format. Unless a timezone is specified, UTC is assumed.\\n          </small>\\n        </td>\\n      </tr>\\n      <tr>\\n        <td><code>updatedafter</code></td>\\n        <td>String</td>\\n        <td>null</td>\\n        <td>\\n          Limit to events updated after the specified time.\\n          <small>\\n            NOTE: All times use ISO8601 Date/Time format. Unless a timezone is specified, UTC is assumed.\\n          </small>\\n        </td>\\n      </tr>\\n    </tbody>\\n  </table>\\n</div>\\n\\n\\n<h3>Location</h3>\\n<p>\\n  Requests that use both rectangle and circle will return the intersection,\\n  which may be empty, use with caution.\\n</p>\\n\\n\\n<h4>Rectangle</h4>\\n<p>\\n  Requests may use any combination of these parameters.\\n</p>\\n<div class=\"horizontal-scrolling\">\\n  <table>\\n    <thead>\\n      <tr>\\n        <th>parameter</th>\\n        <th>type</th>\\n        <th>default</th>\\n        <th>description</th>\\n      </tr>\\n    </thead>\\n    <tbody>\\n      <tr id=\"minlatitude\">\\n        <td><code>minlatitude</code></td>\\n        <td>Decimal <span class=\"range\">[-90,90] degrees</span></td>\\n        <td>-90</td>\\n        <td>\\n          Limit to events with a latitude larger than the specified minimum.\\n          <small>\\n            NOTE: min values must be less than max values.\\n          </small>\\n        </td>\\n      </tr>\\n      <tr id=\"minlongitude\">\\n        <td><code>minlongitude</code></td>\\n        <td>Decimal <span class=\"range\">[-360,360] degrees</span></td>\\n        <td>-180</td>\\n        <td>\\n          Limit to events with a longitude larger than the specified minimum.\\n          <small>\\n            NOTE: rectangles may cross the date line by using a minlongitude &lt;\\n            -180 or maxlongitude &gt; 180.\\n          </small>\\n          <small>\\n            NOTE: min values must be less than max values.\\n          </small>\\n        </td>\\n      </tr>\\n      <tr id=\"maxlatitude\">\\n        <td><code>maxlatitude</code></td>\\n        <td>Decimal <span class=\"range\">[-90,90] degrees</span></td>\\n        <td>90</td>\\n        <td>\\n          Limit to events with a latitude smaller than the specified maximum.\\n          <small>\\n            NOTE: min values must be less than max values.\\n          </small>\\n        </td>\\n      </tr>\\n      <tr id=\"maxlongitude\">\\n        <td><code>maxlongitude</code></td>\\n        <td>Decimal <span class=\"range\">[-360,360] degrees</span></td>\\n        <td>180</td>\\n        <td>\\n          Limit to events with a longitude smaller than the specified maximum.\\n          <small>\\n            NOTE: rectangles may cross the date line by using a minlongitude &lt;\\n            -180 or maxlongitude &gt; 180.\\n          </small>\\n          <small>\\n            NOTE: min values must be less than max values.\\n          </small>\\n        </td>\\n      </tr>\\n    </tbody>\\n  </table>\\n</div>\\n\\n\\n<h4>Circle</h4>\\n<p>\\n  Requests must include all of latitude, longitude, and maxradius to perform a\\n  circle search.\\n</p>\\n<div class=\"horizontal-scrolling\">\\n  <table>\\n    <thead>\\n      <tr>\\n        <th>parameter</th>\\n        <th>type</th>\\n        <th>default</th>\\n        <th>description</th>\\n      </tr>\\n    </thead>\\n    <tbody>\\n      <tr id=\"latitude\">\\n        <td><code>latitude</code></td>\\n        <td>Decimal <span class=\"range\">[-90,90] degrees</span></td>\\n        <td>null</td>\\n        <td>\\n          Specify the latitude to be used for a radius search.\\n        </td>\\n      </tr>\\n      <tr id=\"longitude\">\\n        <td><code>longitude</code></td>\\n        <td>Decimal <span class=\"range\">[-180,180] degrees</span></td>\\n        <td>null</td>\\n        <td>\\n          Specify the longitude to be used for a radius search.\\n        </td>\\n      </tr>\\n      <tr id=\"maxradius\">\\n        <td><code>maxradius</code></td>\\n        <td>Decimal <span class=\"range\">[0, 180] degrees</span></td>\\n        <td>180</td>\\n        <td>\\n          Limit to events within the specified maximum number of degrees from the\\n          geographic point defined by the latitude and longitude parameters.\\n\\n          <small>\\n            NOTE: This option is mutually exclusive with <a href=\"#maxradiuskm\">\\n            maxradiuskm</a> and specifying both will result in an error.\\n          </small>\\n        </td>\\n      </tr>\\n      <tr id=\"maxradiuskm\">\\n        <td><code>maxradiuskm</code></td>\\n        <td>Decimal <span class=\"range\">[0, 20001.6] km</span></td>\\n        <td>20001.6</td>\\n        <td>\\n          Limit to events within the specified maximum number of kilometers from\\n          the geographic point defined by the latitude and longitude parameters.\\n\\n          <small>\\n            NOTE: This option is mutually exclusive with <a href=\"#maxradius\">\\n            maxradius </a> and specifying both will result in an error.\\n          </small>\\n        </td>\\n      </tr>\\n    </tbody>\\n  </table>\\n</div>\\n\\n\\n<h3>Other</h3>\\n<div class=\"horizontal-scrolling\">\\n  <table>\\n    <thead>\\n      <tr>\\n        <th>parameter</th>\\n        <th>type</th>\\n        <th>default</th>\\n        <th>description</th>\\n      </tr>\\n    </thead>\\n    <tbody>\\n      <tr id=\"catalog\">\\n        <td><code>catalog</code></td>\\n        <td>String</td>\\n        <td>null</td>\\n        <td>\\n          Limit to events from a specified catalog. Use the <a href=\"./catalogs\">Catalogs Method</a> to find available catalogs.\\n          <small>\\n            NOTE: when catalog and contributor are omitted, the most preferred\\n            information from any catalog or contributor for the event is returned.\\n          </small>\\n        </td>\\n      </tr>\\n      <tr id=\"contributor\">\\n        <td><code>contributor</code></td>\\n        <td>String</td>\\n        <td>null</td>\\n        <td>\\n          Limit to events contributed by a specified contributor. Use the\\n          <a href=\"./contributors\">Contributors Method</a> to find available\\n          contributors.\\n          <small>\\n            NOTE: when catalog and contributor are omitted, the most preferred\\n            information from any catalog or contributor for the event is returned.\\n          </small>\\n        </td>\\n      </tr>\\n      <tr id=\"eventid\">\\n        <td><code>eventid</code></td>\\n        <td>String</td>\\n        <td>null</td>\\n        <td>\\n          Select a specific event by ID; event identifiers are data center\\n          specific.\\n          <small>\\n            NOTE: Selecting a specific event implies includeallorigins,\\n            includeallmagnitudes, and, additionally, associated moment tensor and\\n            focal-mechanisms are included.\\n          </small>\\n        </td>\\n      </tr>\\n      <tr id=\"includeallmagnitudes\">\\n        <td><code>includeallmagnitudes</code></td>\\n        <td>Boolean</td>\\n        <td>false</td>\\n        <td>\\n          Specify if all magnitudes for the event should be included, default is data\\n          center dependent but is suggested to be the preferred magnitude only.\\n          <small>\\n            NOTE: because magnitudes and origins are strongly associated, this\\n            parameter is interchangeable with includeallmagnitudes\\n          </small>\\n        </td>\\n      </tr>\\n      <tr id=\"includeallorigins\">\\n        <td><code>includeallorigins</code></td>\\n        <td>Boolean</td>\\n        <td>false</td>\\n        <td>\\n          Specify if all origins for the event should be included, default is data\\n          center dependent but is suggested to be the preferred origin only.\\n          <small>\\n            NOTE: because magnitudes and origins are strongly associated,\\n            this parameter is interchangable with includeallmagnitudes\\n          </small>\\n        </td>\\n      </tr>\\n      <tr id=\"includearrivals\">\\n        <td><code>includearrivals</code></td>\\n        <td>Boolean</td>\\n        <td>false</td>\\n        <td>\\n          Specify if phase arrivals should be included.\\n          <small>NOTE: NOT CURRENTLY IMPLEMENTED</small>\\n        </td>\\n      </tr>\\n      <tr id=\"includedeleted\">\\n        <td><code>includedeleted</code></td>\\n        <td>Boolean, or \"only\"</td>\\n        <td>false</td>\\n        <td>\\n          Specify if deleted products and events should be included.\\n          The value <code>only</code> returns only deleted events.\\n\\n          <p>\\n          <small>\\n            Deleted events otherwise return the HTTP status\\n            <code>409 Conflict</code>.\\n          </small>\\n          </p>\\n\\n          <p>\\n          <small>\\n            NOTE: Only supported by the <code>csv</code> and <code>geojson</code> formats,\\n            which include <code>status</code>.\\n          </small>\\n          </p>\\n        </td>\\n      </tr>\\n      <tr id=\"includesuperseded\">\\n        <td><code>includesuperseded</code></td>\\n        <td>Boolean</td>\\n        <td>false</td>\\n        <td>\\n          Specify if superseded products should be included.\\n          This also includes all deleted products, and is mutually exclusive to\\n          the <a href=\"#includedeleted\">includedeleted</a> parameter.\\n          <small>\\n            NOTE: Only works when specifying <a href=\"#eventid\">eventid</a>\\n            parameter.\\n          </small>\\n        </td>\\n      </tr>\\n      <tr id=\"limit\">\\n        <td><code>limit</code></td>\\n        <td>Integer\\n          <span class=\"range\">[1,20000]</span>\\n        </td>\\n        <td>null</td>\\n        <td>\\n          Limit the results to the specified number of events.\\n          <small>\\n            NOTE: The service limits queries to 20000,\\n            and any that exceed this limit will generate a HTTP response code\\n            &ldquo;400 Bad Request&rdquo;.\\n          </small>\\n        </td>\\n      </tr>\\n  <!--     <tr>\\n        <td>magnitudetype</td>\\n        <td>Decimal <span class=\"range\">[-100, 1000] km</span></td>\\n        <td>null</td>\\n        <td>\\n          Specify a magnitude type to use for testing the minimum and maximum limits.\\n          <small>\\n            NOTE: this will only return events reported with this magnitude\\n            type.\\n          </small>\\n        </td>\\n      </tr> -->\\n      <tr id=\"maxdepth\">\\n        <td><code>maxdepth</code></td>\\n        <td>Decimal <span class=\"range\">[-100, 1000] km</span></td>\\n        <td>1000</td>\\n        <td>Limit to events with depth less than the specified maximum.</td>\\n      </tr>\\n      <tr id=\"maxmagnitude\">\\n        <td><code>maxmagnitude</code></td>\\n        <td>Decimal</td>\\n        <td>null</td>\\n        <td>Limit to events with a magnitude smaller than the specified maximum.</td>\\n      </tr>\\n      <tr id=\"mindepth\">\\n        <td><code>mindepth</code></td>\\n        <td>Decimal <span class=\"range\">[-100, 1000] km</span></td>\\n        <td>-100</td>\\n        <td>Limit to events with depth more than the specified minimum.</td>\\n      </tr>\\n      <tr id=\"minmagnitude\">\\n        <td><code>minmagnitude</code></td>\\n        <td>Decimal</td>\\n        <td>null</td>\\n        <td>Limit to events with a magnitude larger than the specified minimum.</td>\\n      </tr>\\n      <tr id=\"offset\">\\n        <td><code>offset</code></td>\\n        <td>Integer<span class=\"range\">[1,&infin;]</span></td>\\n        <td>1</td>\\n        <td>Return results starting at the event count specified, starting at 1.</td>\\n      </tr>\\n      <tr id=\"orderby\">\\n        <td><code>orderby</code></td>\\n        <td>String</td>\\n        <td>time</td>\\n        <td>Order the results. The allowed values are:\\n            <dl class=\"vertical options\">\\n              <dt><code>orderby=time</code></dt>\\n              <dd>order by origin descending time</dd>\\n\\n              <dt><code>orderby=time-asc</code></dt>\\n              <dd>order by origin ascending time</dd>\\n\\n              <dt><code>orderby=magnitude</code></dt>\\n              <dd>order by descending magnitude</dd>\\n\\n              <dt><code>orderby=magnitude-asc</code></dt>\\n              <dd>order by ascending magnitude</dd>\\n            </dl>\\n        </td>\\n      </tr>\\n    </tbody>\\n  </table>\\n</div>\\n\\n\\n<h3 id=\"extensions\">Extensions</h3>\\n<div class=\"horizontal-scrolling\">\\n  <table>\\n    <thead>\\n      <tr>\\n        <th>parameter</th>\\n        <th>type</th>\\n        <th>default</th>\\n        <th>description</th>\\n      </tr>\\n    </thead>\\n    <tbody>\\n      <tr id=\"alertlevel\">\\n        <td><code>alertlevel</code></td>\\n        <td>String</td>\\n        <td>null</td>\\n        <td>\\n          Limit to events with a specific PAGER alert level. The allowed values\\n          are:\\n\\n          <dl class=\"vertical options\">\\n            <dt><code>alertlevel=green</code></dt>\\n            <dd>Limit to events with PAGER alert level \"green\".</dd>\\n\\n            <dt><code>alertlevel=yellow</code></dt>\\n            <dd>Limit to events with PAGER alert level \"yellow\".</dd>\\n\\n            <dt><code>alertlevel=orange</code></dt>\\n            <dd>Limit to events with PAGER alert level \"orange\".</dd>\\n\\n            <dt><code>alertlevel=red</code></dt>\\n            <dd>Limit to events with PAGER alert level \"red\".</dd>\\n          </dl>\\n        </td>\\n      </tr>\\n      <tr id=\"callback\">\\n        <td><code>callback</code></td>\\n        <td>String</td>\\n        <td>null</td>\\n        <td>\\n          Convert GeoJSON output to a JSONP response using this callback.\\n          Mime-type is &ldquo;text/javascript&rdquo;.\\n\\n          <p>\\n            Callback values are restricted to the characters\\n            <code>[A-Za-z0-9\\\\._]+</code>\\n          </p>\\n\\n          <small>\\n            NOTE: Must be used with format=geojson\\n          </small>\\n        </td>\\n      </tr>\\n      <tr id=\"eventtype\">\\n        <td><code>eventtype</code></td>\\n        <td>String</td>\\n        <td>null</td>\\n        <td>\\n          Limit to events of a specific type.\\n\\n          <small>\\n            NOTE: &ldquo;earthquake&rdquo; will filter non-earthquake events.\\n          </small>\\n        </td>\\n      </tr>\\n      <tr id=\"jsonerror\">\\n        <td><code>jsonerror</code></td>\\n        <td>Boolean</td>\\n        <td>false</td>\\n        <td>\\n          Request JSON(P) formatted output even on API error results.\\n\\n          <small>\\n            NOTE: Must be used with format=geojson\\n          </small>\\n        </td>\\n      </tr>\\n      <tr id=\"kmlanimated\">\\n        <td><code>kmlanimated</code></td>\\n        <td>Boolean</td>\\n        <td>false</td>\\n        <td>\\n          Whether to include timestamp in generated kml, for google earth\\n          animation support.\\n\\n          <small>\\n            NOTE: Must be used with format=kml\\n          </small>\\n        </td>\\n      </tr>\\n      <tr id=\"kmlcolorby\">\\n        <td><code>kmlcolorby</code></td>\\n        <td>String</td>\\n        <td>age</td>\\n        <td>\\n          How earthquakes are colored. Accepted values are:\\n\\n          <dl class=\"vertical options\">\\n            <dt><code>kmlcolorby=age</code></dt>\\n            <dd>Color events in KML by age.</dd>\\n            <dt><code>kmlcolorby=depth</code></dt>\\n            <dd>Color events in KML by depth.</dd>\\n            <dd></dd>\\n          </dl>\\n\\n          <small>\\n            NOTE: Must be used with format=kml\\n          </small>\\n        </td>\\n      </tr>\\n      <tr id=\"maxcdi\">\\n        <td><code>maxcdi</code></td>\\n        <td>Decimal <span class=\"range\">[0,12]</span></td>\\n        <td>null</td>\\n        <td>\\n          Maximum value for Maximum Community Determined Intensity reported by\\n          DYFI.\\n        </td>\\n      </tr>\\n      <tr id=\"maxgap\">\\n        <td><code>maxgap</code></td>\\n        <td>Decimal <span class=\"range\">[0,360] degrees</span></td>\\n        <td>null</td>\\n        <td>\\n          Limit to events with no more than this azimuthal gap.\\n        </td>\\n      </tr>\\n      <tr id=\"maxmmi\">\\n        <td><code>maxmmi</code></td>\\n        <td>Decimal <span class=\"range\">[0,12]</span></td>\\n        <td>null</td>\\n        <td>\\n          Maximum value for Maximum Modified Mercalli Intensity reported by ShakeMap.\\n        </td>\\n      </tr>\\n      <tr id=\"maxsig\">\\n        <td><code>maxsig</code></td>\\n        <td>Integer</td>\\n        <td>null</td>\\n        <td>\\n          Limit to events with no more than this significance.\\n        </td>\\n      </tr>\\n      <tr id=\"mincdi\">\\n        <td><code>mincdi</code></td>\\n        <td>Decimal</td>\\n        <td>null</td>\\n        <td>\\n          Minimum value for Maximum Community Determined Intensity reported by DYFI.\\n        </td>\\n      </tr>\\n      <tr id=\"minfelt\">\\n        <td><code>minfelt</code></td>\\n        <td>Integer<span class=\"range\">[1,&infin;]</span></td>\\n        <td>null</td>\\n        <td>\\n          Limit to events with this many DYFI responses.\\n        </td>\\n      </tr>\\n      <tr id=\"mingap\">\\n        <td><code>mingap</code></td>\\n        <td>Decimal<span class=\"range\">[0,360] degrees</span></td>\\n        <td>null</td>\\n        <td>\\n          Limit to events with no less than this azimuthal gap.\\n        </td>\\n      </tr>\\n      <tr id=\"minsig\">\\n        <td><code>minsig</code></td>\\n        <td>Integer</td>\\n        <td>null</td>\\n        <td>\\n          Limit to events with no less than this significance.\\n        </td>\\n      </tr>\\n      <tr id=\"nodata\">\\n        <td><code>nodata</code></td>\\n        <td>Integer <span class=\"range\">(204|404)</span></td>\\n        <td>204</td>\\n        <td>\\n          Define the error code that will be returned when no data is found.\\n        </td>\\n      </tr>\\n      <tr id=\"producttype\">\\n        <td><code>producttype</code></td>\\n        <td>String</td>\\n        <td>null</td>\\n        <td>\\n          Limit to events that have this type of product associated.\\n          Example producttypes:\\n\\n          <!-- TODO? generate a feed that returns a complete list -->\\n          <ul class=\"options\">\\n            <li>moment-tensor</li>\\n            <li>focal-mechanism</li>\\n            <li>shakemap</li>\\n            <li>losspager</li>\\n            <li>dyfi</li>\\n          </ul>\\n        </td>\\n      </tr>\\n      <tr id=\"productcode\">\\n        <td><code>productcode</code></td>\\n        <td>String</td>\\n        <td>null</td>\\n        <td>\\n          Return the event that is associated with the productcode. The event will\\n          be returned even if the productcode is not the preferred code for the\\n          event. Example productcodes:\\n          <ul class=\"options\">\\n            <li>nn00458749</li>\\n            <li>at00ndf1fr</li>\\n          </ul>\\n        </td>\\n      </tr>\\n      <tr id=\"reviewstatus\">\\n        <td><code>reviewstatus</code></td>\\n        <td>String</td>\\n        <td>all</td>\\n        <td>\\n          Limit to events with a specific review status. The different review\\n          statuses are:\\n\\n          <dl class=\"vertical options\">\\n            <dt><code>reviewstatus=automatic</code></dt>\\n            <dd>Limit to events with review status \"automatic\".</dd>\\n            <dt><code>reviewstatus=reviewed</code></dt>\\n            <dd>Limit to events with review status \"reviewed\".</dd>\\n          </dl>\\n        </td>\\n      </tr>\\n    </tbody>\\n  </table>\\n</div>\\n    </div>\\n\\n    <footer class=\"page-footer\"><p><a href=\"mailto:gs-haz_dev_team_group@usgs.gov?subject=EHP%20Website%20Email%20\">Questions or comments?</a></p><nav class=\"page-social\" aria-label=\"Share this page\"> <a href=\"https://www.facebook.com/sharer.php?u=https%3A%2F%2F\" title=\"Share using Facebook\" class=\"facebook\" data-link-template=\"https://www.facebook.com/sharer.php?u={URL}\">Facebook</a> <a href=\"https://twitter.com/intent/tweet?url=https%3A%2F%2F&amp;text=USGS%20%7C%20API+Documentation+-+Earthquake+Catalog\" title=\"Share using Twitter\" class=\"twitter\" data-link-template=\"https://twitter.com/intent/tweet?url={URL}&amp;text=USGS%20%7C%20{TITLE}\">Twitter</a> <a href=\"https://plusone.google.com/_/+1/confirm?url=https%3A%2F%2F\" title=\"Share using Google\" class=\"google-plus\" data-link-template=\"https://plusone.google.com/_/+1/confirm?url={URL}\">Google</a> <a href=\"mailto:?to=&amp;subject=API+Documentation+-+Earthquake+Catalog&amp;body=https%3A%2F%2F\" title=\"Share using Email\" class=\"email\" data-link-template=\"mailto:?to=&amp;subject={TITLE}&amp;body={URL}\">Email</a></nav></footer>  </main>\\n\\n  <nav class=\"site-footer\">\\n    <section id=\"site-sectionnav\" class=\"site-sectionnav\" aria-label=\"Section Navigation\"><a href=\\'/earthquakes/feed/\\' class=\\'up-one-level\\'>Feeds and Notifications</a><section><header>Real-time Notifications</header><a href=\"/ens/\">Earthquake Notification Service</a><a href=\"/earthquakes/ted/\">Tweet Earthquake Dispatch</a></section><section><header>Real-time Feeds</header><a href=\"/earthquakes/feed/v1.0/atom.php\">ATOM</a><a href=\"/earthquakes/feed/v1.0/kml.php\">KML</a><a href=\"/earthquakes/feed/v1.0/csv.php\">Spreadsheet</a><a href=\"/earthquakes/feed/v1.0/quakeml.php\">QuakeML</a><a href=\"/earthquakes/feed/v1.0/geojson.php\">GeoJSON Summary</a><a href=\"/earthquakes/feed/v1.0/geojson_detail.php\">GeoJSON Detail</a></section><section><header>For Developers</header><a class=\"selected\" href=\"/fdsnws/event/1/\">API Documentation - EQ Catalog</a><a href=\"/earthquakes/feed/v1.0/changelog.php\">Change Log</a><a href=\"/earthquakes/feed/policy.php\">Feed Lifecycle Policy</a><a href=\"https://github.com/usgs/devcorner\">Developer\\'s Corner</a><a href=\"/ws/\">Web Services</a><a href=\"https://geohazards.usgs.gov/mailman/listinfo/realtime-feeds\">Mailing List-Announcements</a><a href=\"https://geohazards.usgs.gov/mailman/listinfo/realtime-feed-users\">Mailing List-Forum/Questions</a></section></section><section class=\"site-sitenav\" aria-label=\"Site Navigation\"><a href=\"https://www.usgs.gov/natural-hazards/earthquake-hazards/earthquakes\">Earthquakes</a><a href=\"https://www.usgs.gov/natural-hazards/earthquake-hazards/hazards\">Hazards</a><a href=\"https://www.usgs.gov/natural-hazards/earthquake-hazards/data-tools\">Data</a><a href=\"https://www.usgs.gov/natural-hazards/earthquake-hazards/education\">Education</a><a href=\"https://www.usgs.gov/natural-hazards/earthquake-hazards/monitoring\">Monitoring</a><a href=\"https://www.usgs.gov/natural-hazards/earthquake-hazards/research\">Research</a></section>\\n    <form class=\"site-search\" role=\"search\" action=\"//search.usa.gov/search\" method=\"get\" accept-charset=\"UTF-8\">\\n      <input name=\"utf8\" type=\"hidden\" value=\"✓\"/>\\n      <input name=\"affiliate\" type=\"hidden\" value=\"usgs\"/>\\n      <input name=\"sitelimit\" type=\"hidden\" value=\"https://earthquake.usgs.gov\"/>\\n      <input id=\"query\" name=\"query\" type=\"search\" placeholder=\"Search...\" title=\"Search\"/>\\n      <button type=\"submit\">Search</button>\\n    </form>\\n  </nav>\\n\\n  <footer class=\"site-commonnav\"><a href=\"https://earthquake.usgs.gov\">Home</a><a href=\"https://www.usgs.gov/natural-hazards/earthquake-hazards/about\">About Us</a><a href=\"https://www.usgs.gov/natural-hazards/earthquake-hazards/connect\">Contacts</a><a href=\"https://www.usgs.gov/policies-and-notices\">Legal</a></footer><!--[if lte IE 9]><script src=\"/theme/js/classList.js\"></script><![endif]--><script src=\"/theme/js/index.js\"></script></body>\\n</html>\\n'"
      ]
     },
     "execution_count": 5,
     "metadata": {},
     "output_type": "execute_result"
    }
   ],
   "source": [
    "response.text"
   ]
  },
  {
   "cell_type": "markdown",
   "metadata": {},
   "source": [
    "Wieviele hat es letzte Nacht von x bis x gegeben? Dafür müssen wir in der Dokumentation Time nachfragen."
   ]
  },
  {
   "cell_type": "code",
   "execution_count": 6,
   "metadata": {},
   "outputs": [],
   "source": [
    "url = 'https://earthquake.usgs.gov/fdsnws/event/1/count?starttime=2020-01-01&endtime=2020-09-30'"
   ]
  },
  {
   "cell_type": "code",
   "execution_count": 7,
   "metadata": {},
   "outputs": [],
   "source": [
    "response = requests.get(url)"
   ]
  },
  {
   "cell_type": "code",
   "execution_count": 8,
   "metadata": {},
   "outputs": [
    {
     "data": {
      "text/plain": [
       "'148026'"
      ]
     },
     "execution_count": 8,
     "metadata": {},
     "output_type": "execute_result"
    }
   ],
   "source": [
    "response.text"
   ]
  },
  {
   "cell_type": "markdown",
   "metadata": {},
   "source": [
    "Wegen Zeitverschiebung Zeit anpassen."
   ]
  },
  {
   "cell_type": "code",
   "execution_count": null,
   "metadata": {},
   "outputs": [],
   "source": [
    "url = 'https://earthquake.usgs.gov/fdsnws/event/1/count?starttime=2020-01-01T24:00:00&endtime=2020-09-30T08:00:00'"
   ]
  },
  {
   "cell_type": "code",
   "execution_count": null,
   "metadata": {},
   "outputs": [],
   "source": [
    "response = requests.get(url)\n",
    "response.text"
   ]
  },
  {
   "cell_type": "markdown",
   "metadata": {},
   "source": [
    "### Grosse, komibinierte Abfrage"
   ]
  },
  {
   "cell_type": "markdown",
   "metadata": {},
   "source": [
    "Details zu allen Erbeben in den über drei Tage, 18-7-2017 bis 31-7-2017."
   ]
  },
  {
   "cell_type": "code",
   "execution_count": null,
   "metadata": {},
   "outputs": [],
   "source": [
    "url1 = 'https://earthquake.usgs.gov/fdsnws/event/1/query?format=geojson'"
   ]
  },
  {
   "cell_type": "code",
   "execution_count": null,
   "metadata": {},
   "outputs": [],
   "source": [
    "urlzeit = '&starttime=2020-09-01&endtime=2020-09-27'"
   ]
  },
  {
   "cell_type": "code",
   "execution_count": null,
   "metadata": {},
   "outputs": [],
   "source": [
    "url1 + urlzeit"
   ]
  },
  {
   "cell_type": "code",
   "execution_count": null,
   "metadata": {},
   "outputs": [],
   "source": [
    "response = requests.get(url1 + urlzeit)"
   ]
  },
  {
   "cell_type": "code",
   "execution_count": null,
   "metadata": {},
   "outputs": [],
   "source": [
    "response.json()"
   ]
  },
  {
   "cell_type": "markdown",
   "metadata": {},
   "source": [
    "Alle Erbeben mit den ungefähren Koordinaten von Mexiko. [Hier könnte man die ungefähr nachschlagen.](http://www.latlong.net/)"
   ]
  },
  {
   "cell_type": "code",
   "execution_count": null,
   "metadata": {},
   "outputs": [],
   "source": [
    "urlloc = '&minlatitude=13&maxlatitude=33&minlongitude=-120&maxlongitude=-85'"
   ]
  },
  {
   "cell_type": "code",
   "execution_count": null,
   "metadata": {},
   "outputs": [],
   "source": [
    "url1+urlzeit+urlloc"
   ]
  },
  {
   "cell_type": "code",
   "execution_count": null,
   "metadata": {
    "scrolled": true
   },
   "outputs": [],
   "source": [
    "response = requests.get(url1+urlzeit+urlloc)\n",
    "response.text"
   ]
  },
  {
   "cell_type": "markdown",
   "metadata": {},
   "source": [
    "Dieser Wulst lässt sich aber ziemlich schwer lesen. Deshalb müssen wir das zuerst umformatieren und dann verstehen, wie das ganze strukturiert ist. "
   ]
  },
  {
   "cell_type": "code",
   "execution_count": null,
   "metadata": {},
   "outputs": [],
   "source": [
    "response.json()"
   ]
  },
  {
   "cell_type": "code",
   "execution_count": null,
   "metadata": {},
   "outputs": [],
   "source": [
    "dct = response.json()"
   ]
  },
  {
   "cell_type": "markdown",
   "metadata": {},
   "source": [
    "Um sicher zu gehen, prüfen wir nochmals den Datentyp."
   ]
  },
  {
   "cell_type": "code",
   "execution_count": null,
   "metadata": {},
   "outputs": [],
   "source": [
    "type(dct)"
   ]
  },
  {
   "cell_type": "code",
   "execution_count": null,
   "metadata": {},
   "outputs": [],
   "source": [
    "len(dct)"
   ]
  },
  {
   "cell_type": "markdown",
   "metadata": {},
   "source": [
    "Schauen wir uns alle keys und values an"
   ]
  },
  {
   "cell_type": "code",
   "execution_count": null,
   "metadata": {},
   "outputs": [],
   "source": [
    "for key in dct:\n",
    "    print(key)"
   ]
  },
  {
   "cell_type": "markdown",
   "metadata": {},
   "source": [
    "Features interessiert uns."
   ]
  },
  {
   "cell_type": "code",
   "execution_count": null,
   "metadata": {},
   "outputs": [],
   "source": [
    "dct['features']"
   ]
  },
  {
   "cell_type": "code",
   "execution_count": null,
   "metadata": {},
   "outputs": [],
   "source": [
    "type(dct['features'])"
   ]
  },
  {
   "cell_type": "code",
   "execution_count": null,
   "metadata": {},
   "outputs": [],
   "source": [
    "dct['features'][0]"
   ]
  },
  {
   "cell_type": "code",
   "execution_count": null,
   "metadata": {},
   "outputs": [],
   "source": [
    "dct['features'][0]"
   ]
  },
  {
   "cell_type": "markdown",
   "metadata": {},
   "source": [
    "Schauen wir uns das erste Element an"
   ]
  },
  {
   "cell_type": "code",
   "execution_count": null,
   "metadata": {},
   "outputs": [],
   "source": [
    "for key in dct['features'][0]:\n",
    "    print(key)"
   ]
  },
  {
   "cell_type": "code",
   "execution_count": null,
   "metadata": {},
   "outputs": [],
   "source": [
    "dct['features'][0]['properties']"
   ]
  },
  {
   "cell_type": "markdown",
   "metadata": {},
   "source": [
    "Lesen wir folgendes aus:\n",
    "1. Type\n",
    "2. Magnitude\n",
    "4. Örtlichkeit\n",
    "5. Time "
   ]
  },
  {
   "cell_type": "code",
   "execution_count": null,
   "metadata": {},
   "outputs": [],
   "source": [
    "earthquakes = []\n",
    "\n",
    "for elem in dct['features']:\n",
    "    \n",
    "    t = elem['properties']['type']\n",
    "    m = elem['properties']['mag']\n",
    "    p = elem['properties']['place']\n",
    "    tm = elem['properties']['time']\n",
    "    \n",
    "    mini_dict = {'Type': t,\n",
    "                 'Mag': m,\n",
    "                 'Place': p,\n",
    "                 'Time': tm}\n",
    "    \n",
    "    earthquakes.append(mini_dict)"
   ]
  },
  {
   "cell_type": "code",
   "execution_count": null,
   "metadata": {},
   "outputs": [],
   "source": [
    "earthquakes[:3]"
   ]
  },
  {
   "cell_type": "markdown",
   "metadata": {},
   "source": [
    "### Erste Erfahrung mit Pandas"
   ]
  },
  {
   "cell_type": "code",
   "execution_count": null,
   "metadata": {},
   "outputs": [],
   "source": [
    "pd.DataFrame(earthquakes)"
   ]
  },
  {
   "cell_type": "code",
   "execution_count": null,
   "metadata": {},
   "outputs": [],
   "source": [
    "df = pd.DataFrame(earthquakes)"
   ]
  },
  {
   "cell_type": "markdown",
   "metadata": {},
   "source": [
    "Speichern wir das ab."
   ]
  },
  {
   "cell_type": "code",
   "execution_count": null,
   "metadata": {},
   "outputs": [],
   "source": [
    "df.to_csv('erdbeben.csv')"
   ]
  },
  {
   "cell_type": "markdown",
   "metadata": {},
   "source": [
    "# Üben wir das Ganze! Weiter zur Übung 1."
   ]
  }
 ],
 "metadata": {
  "kernelspec": {
   "display_name": "Python 3",
   "language": "python",
   "name": "python3"
  },
  "language_info": {
   "codemirror_mode": {
    "name": "ipython",
    "version": 3
   },
   "file_extension": ".py",
   "mimetype": "text/x-python",
   "name": "python",
   "nbconvert_exporter": "python",
   "pygments_lexer": "ipython3",
   "version": "3.9.5"
  }
 },
 "nbformat": 4,
 "nbformat_minor": 2
}
