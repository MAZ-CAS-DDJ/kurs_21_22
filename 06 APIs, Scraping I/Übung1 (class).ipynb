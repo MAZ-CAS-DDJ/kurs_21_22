{
 "cells": [
  {
   "cell_type": "code",
   "execution_count": 1,
   "id": "1da997b9",
   "metadata": {},
   "outputs": [],
   "source": [
    "import requests"
   ]
  },
  {
   "cell_type": "code",
   "execution_count": 2,
   "id": "8021103c",
   "metadata": {},
   "outputs": [
    {
     "data": {
      "text/plain": [
       "'16249'"
      ]
     },
     "execution_count": 2,
     "metadata": {},
     "output_type": "execute_result"
    }
   ],
   "source": [
    "url = \"https://earthquake.usgs.gov/fdsnws/event/1/count?starttime=2020-01-01&endtime=2020-01-31\"\n",
    "response = requests.get(url)\n",
    "response.text"
   ]
  },
  {
   "cell_type": "code",
   "execution_count": 3,
   "id": "61609175",
   "metadata": {},
   "outputs": [
    {
     "data": {
      "text/plain": [
       "'15719'"
      ]
     },
     "execution_count": 3,
     "metadata": {},
     "output_type": "execute_result"
    }
   ],
   "source": [
    "url = \"https://earthquake.usgs.gov/fdsnws/event/1/count?starttime=2021-07-01&endtime=2021-07-31\"\n",
    "response = requests.get(url)\n",
    "response.text"
   ]
  },
  {
   "cell_type": "code",
   "execution_count": 4,
   "id": "78291797",
   "metadata": {},
   "outputs": [],
   "source": [
    "baseurl = \"https://earthquake.usgs.gov/fdsnws/event/1/count?\"\n",
    "starttime = \"starttime=2021-01-01&\"\n",
    "endtime = \"endtime=2021-01-31\""
   ]
  },
  {
   "cell_type": "code",
   "execution_count": 17,
   "id": "66740a44",
   "metadata": {},
   "outputs": [],
   "source": [
    "starttime_liste = [\"starttime=2021-01-01\",\n",
    "                  \"starttime=2021-02-01\",\n",
    "                  \"starttime=2021-03-01\"]"
   ]
  },
  {
   "cell_type": "code",
   "execution_count": 18,
   "id": "342fd0dd",
   "metadata": {},
   "outputs": [],
   "source": [
    "endtime_liste = [\"&starttime=2021-01-31\",\n",
    "                  \"&starttime=2021-02-28\",\n",
    "                  \"&starttime=2021-03-31\"]"
   ]
  },
  {
   "cell_type": "code",
   "execution_count": null,
   "id": "ff63bbee",
   "metadata": {},
   "outputs": [],
   "source": []
  },
  {
   "cell_type": "code",
   "execution_count": 19,
   "id": "f55ba9d8",
   "metadata": {},
   "outputs": [
    {
     "name": "stdout",
     "output_type": "stream",
     "text": [
      "https://earthquake.usgs.gov/fdsnws/event/1/count?starttime=2021-01-01&starttime=2021-01-31\n",
      "https://earthquake.usgs.gov/fdsnws/event/1/count?starttime=2021-02-01&starttime=2021-02-28\n",
      "https://earthquake.usgs.gov/fdsnws/event/1/count?starttime=2021-03-01&starttime=2021-03-31\n"
     ]
    }
   ],
   "source": [
    "for start, end in zip(starttime_liste, endtime_liste):\n",
    "    print(baseurl + start + end)"
   ]
  },
  {
   "cell_type": "code",
   "execution_count": 5,
   "id": "14a5d78d",
   "metadata": {},
   "outputs": [],
   "source": [
    "testliste = [\"eins\", \"zwei\", \"drei\"]"
   ]
  },
  {
   "cell_type": "code",
   "execution_count": 6,
   "id": "84ecec86",
   "metadata": {},
   "outputs": [
    {
     "name": "stdout",
     "output_type": "stream",
     "text": [
      "['eins', 'zwei', 'drei']\n"
     ]
    }
   ],
   "source": [
    "print(testliste)"
   ]
  },
  {
   "cell_type": "code",
   "execution_count": 8,
   "id": "6f5e6ec6",
   "metadata": {},
   "outputs": [
    {
     "data": {
      "text/plain": [
       "'eins'"
      ]
     },
     "execution_count": 8,
     "metadata": {},
     "output_type": "execute_result"
    }
   ],
   "source": [
    "testliste[0]"
   ]
  },
  {
   "cell_type": "code",
   "execution_count": 9,
   "id": "17ceb040",
   "metadata": {},
   "outputs": [
    {
     "data": {
      "text/plain": [
       "'zwei'"
      ]
     },
     "execution_count": 9,
     "metadata": {},
     "output_type": "execute_result"
    }
   ],
   "source": [
    "testliste[1]"
   ]
  },
  {
   "cell_type": "code",
   "execution_count": 10,
   "id": "be842401",
   "metadata": {},
   "outputs": [
    {
     "data": {
      "text/plain": [
       "'drei'"
      ]
     },
     "execution_count": 10,
     "metadata": {},
     "output_type": "execute_result"
    }
   ],
   "source": [
    "testliste[2]"
   ]
  },
  {
   "cell_type": "code",
   "execution_count": 11,
   "id": "ff183e07",
   "metadata": {},
   "outputs": [
    {
     "name": "stdout",
     "output_type": "stream",
     "text": [
      "eins\n",
      "zwei\n",
      "drei\n"
     ]
    }
   ],
   "source": [
    "for ziffer in testliste:\n",
    "    print(ziffer)"
   ]
  },
  {
   "cell_type": "code",
   "execution_count": 23,
   "id": "845fda06",
   "metadata": {},
   "outputs": [],
   "source": [
    "import datetime\n",
    "from dateutil.relativedelta import relativedelta"
   ]
  },
  {
   "cell_type": "code",
   "execution_count": 26,
   "id": "73158b2b",
   "metadata": {},
   "outputs": [],
   "source": [
    "liste_ = []\n",
    "\n",
    "month = datetime.date(2020,12,1)\n",
    "while month < datetime.date(2021,9,1):\n",
    "    month = month + relativedelta(months=1)\n",
    "    month2 = month + relativedelta(months=1)\n",
    "    anzahl = requests.get(\"https://earthquake.usgs.gov/fdsnws/event/1/count?starttime=\" + str(month) + \"&endtime=\" + str(month2))\n",
    "    timeframe = month.strftime(\"%B\")\n",
    "    \n",
    "    mini_dict = {\"Monat\": str(timeframe),\n",
    "                 \"Anzahl Ereignisse\": anzahl.text}\n",
    "    \n",
    "    liste_.append(mini_dict)\n",
    "    #print(str(timeframe) +\": \" + anzahl.text)"
   ]
  },
  {
   "cell_type": "code",
   "execution_count": 27,
   "id": "60b22873",
   "metadata": {},
   "outputs": [],
   "source": [
    "import pandas as pd"
   ]
  },
  {
   "cell_type": "code",
   "execution_count": 35,
   "id": "aafb9e68",
   "metadata": {},
   "outputs": [
    {
     "data": {
      "text/html": [
       "<div>\n",
       "<style scoped>\n",
       "    .dataframe tbody tr th:only-of-type {\n",
       "        vertical-align: middle;\n",
       "    }\n",
       "\n",
       "    .dataframe tbody tr th {\n",
       "        vertical-align: top;\n",
       "    }\n",
       "\n",
       "    .dataframe thead th {\n",
       "        text-align: right;\n",
       "    }\n",
       "</style>\n",
       "<table border=\"1\" class=\"dataframe\">\n",
       "  <thead>\n",
       "    <tr style=\"text-align: right;\">\n",
       "      <th></th>\n",
       "      <th>Monat</th>\n",
       "      <th>Anzahl Ereignisse</th>\n",
       "    </tr>\n",
       "  </thead>\n",
       "  <tbody>\n",
       "    <tr>\n",
       "      <th>0</th>\n",
       "      <td>January</td>\n",
       "      <td>14266</td>\n",
       "    </tr>\n",
       "    <tr>\n",
       "      <th>1</th>\n",
       "      <td>February</td>\n",
       "      <td>11818</td>\n",
       "    </tr>\n",
       "    <tr>\n",
       "      <th>2</th>\n",
       "      <td>March</td>\n",
       "      <td>13593</td>\n",
       "    </tr>\n",
       "    <tr>\n",
       "      <th>3</th>\n",
       "      <td>April</td>\n",
       "      <td>12752</td>\n",
       "    </tr>\n",
       "    <tr>\n",
       "      <th>4</th>\n",
       "      <td>May</td>\n",
       "      <td>11813</td>\n",
       "    </tr>\n",
       "    <tr>\n",
       "      <th>5</th>\n",
       "      <td>June</td>\n",
       "      <td>13706</td>\n",
       "    </tr>\n",
       "    <tr>\n",
       "      <th>6</th>\n",
       "      <td>July</td>\n",
       "      <td>16329</td>\n",
       "    </tr>\n",
       "    <tr>\n",
       "      <th>7</th>\n",
       "      <td>August</td>\n",
       "      <td>16139</td>\n",
       "    </tr>\n",
       "    <tr>\n",
       "      <th>8</th>\n",
       "      <td>September</td>\n",
       "      <td>4471</td>\n",
       "    </tr>\n",
       "  </tbody>\n",
       "</table>\n",
       "</div>"
      ],
      "text/plain": [
       "       Monat Anzahl Ereignisse\n",
       "0    January             14266\n",
       "1   February             11818\n",
       "2      March             13593\n",
       "3      April             12752\n",
       "4        May             11813\n",
       "5       June             13706\n",
       "6       July             16329\n",
       "7     August             16139\n",
       "8  September              4471"
      ]
     },
     "execution_count": 35,
     "metadata": {},
     "output_type": "execute_result"
    }
   ],
   "source": [
    "pd.DataFrame(liste_)"
   ]
  },
  {
   "cell_type": "code",
   "execution_count": 32,
   "id": "01d58e74",
   "metadata": {},
   "outputs": [
    {
     "data": {
      "text/html": [
       "<div>\n",
       "<style scoped>\n",
       "    .dataframe tbody tr th:only-of-type {\n",
       "        vertical-align: middle;\n",
       "    }\n",
       "\n",
       "    .dataframe tbody tr th {\n",
       "        vertical-align: top;\n",
       "    }\n",
       "\n",
       "    .dataframe thead th {\n",
       "        text-align: right;\n",
       "    }\n",
       "</style>\n",
       "<table border=\"1\" class=\"dataframe\">\n",
       "  <thead>\n",
       "    <tr style=\"text-align: right;\">\n",
       "      <th></th>\n",
       "      <th>Monat</th>\n",
       "      <th>Anzahl Ereignisse</th>\n",
       "    </tr>\n",
       "  </thead>\n",
       "  <tbody>\n",
       "    <tr>\n",
       "      <th>0</th>\n",
       "      <td>January</td>\n",
       "      <td>14266</td>\n",
       "    </tr>\n",
       "    <tr>\n",
       "      <th>1</th>\n",
       "      <td>February</td>\n",
       "      <td>11818</td>\n",
       "    </tr>\n",
       "    <tr>\n",
       "      <th>2</th>\n",
       "      <td>March</td>\n",
       "      <td>13593</td>\n",
       "    </tr>\n",
       "    <tr>\n",
       "      <th>3</th>\n",
       "      <td>April</td>\n",
       "      <td>12752</td>\n",
       "    </tr>\n",
       "    <tr>\n",
       "      <th>4</th>\n",
       "      <td>May</td>\n",
       "      <td>11813</td>\n",
       "    </tr>\n",
       "    <tr>\n",
       "      <th>5</th>\n",
       "      <td>June</td>\n",
       "      <td>13706</td>\n",
       "    </tr>\n",
       "    <tr>\n",
       "      <th>6</th>\n",
       "      <td>July</td>\n",
       "      <td>16329</td>\n",
       "    </tr>\n",
       "    <tr>\n",
       "      <th>7</th>\n",
       "      <td>August</td>\n",
       "      <td>16139</td>\n",
       "    </tr>\n",
       "    <tr>\n",
       "      <th>8</th>\n",
       "      <td>September</td>\n",
       "      <td>4471</td>\n",
       "    </tr>\n",
       "  </tbody>\n",
       "</table>\n",
       "</div>"
      ],
      "text/plain": [
       "       Monat Anzahl Ereignisse\n",
       "0    January             14266\n",
       "1   February             11818\n",
       "2      March             13593\n",
       "3      April             12752\n",
       "4        May             11813\n",
       "5       June             13706\n",
       "6       July             16329\n",
       "7     August             16139\n",
       "8  September              4471"
      ]
     },
     "execution_count": 32,
     "metadata": {},
     "output_type": "execute_result"
    }
   ],
   "source": [
    "pd.DataFrame(liste_)"
   ]
  },
  {
   "cell_type": "code",
   "execution_count": null,
   "id": "cd041db9",
   "metadata": {},
   "outputs": [],
   "source": []
  }
 ],
 "metadata": {
  "kernelspec": {
   "display_name": "Python 3",
   "language": "python",
   "name": "python3"
  },
  "language_info": {
   "codemirror_mode": {
    "name": "ipython",
    "version": 3
   },
   "file_extension": ".py",
   "mimetype": "text/x-python",
   "name": "python",
   "nbconvert_exporter": "python",
   "pygments_lexer": "ipython3",
   "version": "3.9.5"
  }
 },
 "nbformat": 4,
 "nbformat_minor": 5
}
