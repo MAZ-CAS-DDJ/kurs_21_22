{
 "cells": [
  {
   "cell_type": "markdown",
   "metadata": {},
   "source": [
    "# PDF extraction und Debugging"
   ]
  },
  {
   "cell_type": "code",
   "execution_count": 1,
   "metadata": {},
   "outputs": [],
   "source": [
    "# Was wollen wir tun? Die 82 PDFs auslesen. \n",
    "# 3 Kolonnen bilden. Eine mit dem Datum, \n",
    "# eine mit der Seriennummer, und eine \n",
    "# mit dem Text"
   ]
  },
  {
   "cell_type": "code",
   "execution_count": 2,
   "metadata": {},
   "outputs": [],
   "source": [
    "# Wie gehen wir dabei vor? Schreibt das für \n",
    "# euch auf, so viele Schritte wie möglich."
   ]
  },
  {
   "cell_type": "code",
   "execution_count": 3,
   "metadata": {},
   "outputs": [],
   "source": [
    "# Wie öffne ich ein File? Versuchen wir es \n",
    "# auf der klassischen Art und Weise.\n",
    "# !ls \"pdfs\""
   ]
  },
  {
   "cell_type": "code",
   "execution_count": 4,
   "metadata": {},
   "outputs": [
    {
     "name": "stdout",
     "output_type": "stream",
     "text": [
      "<_io.TextIOWrapper name='pdfs/Vk_20180226_08documents0.pdf' mode='r' encoding='UTF-8'>\n"
     ]
    }
   ],
   "source": [
    "filename = \"Vk_20180226_08documents0.pdf\"\n",
    "file = open(\"pdfs/\"+filename, \"r\")\n",
    "print(file)"
   ]
  },
  {
   "cell_type": "code",
   "execution_count": 5,
   "metadata": {},
   "outputs": [
    {
     "ename": "UnicodeDecodeError",
     "evalue": "'utf-8' codec can't decode byte 0xb5 in position 11: invalid start byte",
     "output_type": "error",
     "traceback": [
      "\u001b[0;31m---------------------------------------------------------------------------\u001b[0m",
      "\u001b[0;31mUnicodeDecodeError\u001b[0m                        Traceback (most recent call last)",
      "\u001b[0;32m<ipython-input-5-fdc2811be695>\u001b[0m in \u001b[0;36m<module>\u001b[0;34m\u001b[0m\n\u001b[1;32m      1\u001b[0m \u001b[0mfilename\u001b[0m \u001b[0;34m=\u001b[0m \u001b[0;34m\"Vk_20180226_08documents0.pdf\"\u001b[0m\u001b[0;34m\u001b[0m\u001b[0;34m\u001b[0m\u001b[0m\n\u001b[1;32m      2\u001b[0m \u001b[0mfile\u001b[0m \u001b[0;34m=\u001b[0m \u001b[0mopen\u001b[0m\u001b[0;34m(\u001b[0m\u001b[0;34m\"pdfs/\"\u001b[0m\u001b[0;34m+\u001b[0m\u001b[0mfilename\u001b[0m\u001b[0;34m,\u001b[0m \u001b[0;34m\"r\"\u001b[0m\u001b[0;34m)\u001b[0m\u001b[0;34m\u001b[0m\u001b[0;34m\u001b[0m\u001b[0m\n\u001b[0;32m----> 3\u001b[0;31m \u001b[0mprint\u001b[0m\u001b[0;34m(\u001b[0m\u001b[0mfile\u001b[0m\u001b[0;34m.\u001b[0m\u001b[0mread\u001b[0m\u001b[0;34m(\u001b[0m\u001b[0;34m)\u001b[0m\u001b[0;34m)\u001b[0m\u001b[0;34m\u001b[0m\u001b[0;34m\u001b[0m\u001b[0m\n\u001b[0m",
      "\u001b[0;32m~/.virtualenvs/partisan/lib/python3.7/codecs.py\u001b[0m in \u001b[0;36mdecode\u001b[0;34m(self, input, final)\u001b[0m\n\u001b[1;32m    320\u001b[0m         \u001b[0;31m# decode input (taking the buffer into account)\u001b[0m\u001b[0;34m\u001b[0m\u001b[0;34m\u001b[0m\u001b[0;34m\u001b[0m\u001b[0m\n\u001b[1;32m    321\u001b[0m         \u001b[0mdata\u001b[0m \u001b[0;34m=\u001b[0m \u001b[0mself\u001b[0m\u001b[0;34m.\u001b[0m\u001b[0mbuffer\u001b[0m \u001b[0;34m+\u001b[0m \u001b[0minput\u001b[0m\u001b[0;34m\u001b[0m\u001b[0;34m\u001b[0m\u001b[0m\n\u001b[0;32m--> 322\u001b[0;31m         \u001b[0;34m(\u001b[0m\u001b[0mresult\u001b[0m\u001b[0;34m,\u001b[0m \u001b[0mconsumed\u001b[0m\u001b[0;34m)\u001b[0m \u001b[0;34m=\u001b[0m \u001b[0mself\u001b[0m\u001b[0;34m.\u001b[0m\u001b[0m_buffer_decode\u001b[0m\u001b[0;34m(\u001b[0m\u001b[0mdata\u001b[0m\u001b[0;34m,\u001b[0m \u001b[0mself\u001b[0m\u001b[0;34m.\u001b[0m\u001b[0merrors\u001b[0m\u001b[0;34m,\u001b[0m \u001b[0mfinal\u001b[0m\u001b[0;34m)\u001b[0m\u001b[0;34m\u001b[0m\u001b[0;34m\u001b[0m\u001b[0m\n\u001b[0m\u001b[1;32m    323\u001b[0m         \u001b[0;31m# keep undecoded input until the next call\u001b[0m\u001b[0;34m\u001b[0m\u001b[0;34m\u001b[0m\u001b[0;34m\u001b[0m\u001b[0m\n\u001b[1;32m    324\u001b[0m         \u001b[0mself\u001b[0m\u001b[0;34m.\u001b[0m\u001b[0mbuffer\u001b[0m \u001b[0;34m=\u001b[0m \u001b[0mdata\u001b[0m\u001b[0;34m[\u001b[0m\u001b[0mconsumed\u001b[0m\u001b[0;34m:\u001b[0m\u001b[0;34m]\u001b[0m\u001b[0;34m\u001b[0m\u001b[0;34m\u001b[0m\u001b[0m\n",
      "\u001b[0;31mUnicodeDecodeError\u001b[0m: 'utf-8' codec can't decode byte 0xb5 in position 11: invalid start byte"
     ]
    }
   ],
   "source": [
    "filename = \"Vk_20180226_08documents0.pdf\"\n",
    "file = open(\"pdfs/\"+filename, \"r\")\n",
    "print(file.read())"
   ]
  },
  {
   "cell_type": "code",
   "execution_count": 6,
   "metadata": {},
   "outputs": [],
   "source": [
    "#Googelt: UnicodeDecodeError: 'utf-8' codec can't decode byte 0xb5"
   ]
  },
  {
   "cell_type": "code",
   "execution_count": 7,
   "metadata": {},
   "outputs": [
    {
     "ename": "AttributeError",
     "evalue": "'_io.TextIOWrapper' object has no attribute 'decode'",
     "output_type": "error",
     "traceback": [
      "\u001b[0;31m---------------------------------------------------------------------------\u001b[0m",
      "\u001b[0;31mAttributeError\u001b[0m                            Traceback (most recent call last)",
      "\u001b[0;32m<ipython-input-7-1ff23655499e>\u001b[0m in \u001b[0;36m<module>\u001b[0;34m\u001b[0m\n\u001b[0;32m----> 1\u001b[0;31m \u001b[0mfile\u001b[0m\u001b[0;34m.\u001b[0m\u001b[0mdecode\u001b[0m\u001b[0;34m(\u001b[0m\u001b[0;34m'windows-1252'\u001b[0m\u001b[0;34m)\u001b[0m\u001b[0;34m\u001b[0m\u001b[0;34m\u001b[0m\u001b[0m\n\u001b[0m",
      "\u001b[0;31mAttributeError\u001b[0m: '_io.TextIOWrapper' object has no attribute 'decode'"
     ]
    }
   ],
   "source": [
    "file.decode('windows-1252')"
   ]
  },
  {
   "cell_type": "code",
   "execution_count": 8,
   "metadata": {},
   "outputs": [],
   "source": [
    "#Googelt: UnicodeDecodeError: 'utf-8' codec can't decode byte 0xb5 python pdf"
   ]
  },
  {
   "cell_type": "code",
   "execution_count": 9,
   "metadata": {},
   "outputs": [],
   "source": [
    "#https://stackoverflow.com/questions/42333341/how-to-decode-a-extracted-pfd-file-from-a-website-in-python"
   ]
  },
  {
   "cell_type": "code",
   "execution_count": 10,
   "metadata": {},
   "outputs": [],
   "source": [
    "#What makes you think the file is an encoded string? It's not a string at all; a pdf is not readable, it's a binary format. You can't just iterate through and print it out."
   ]
  },
  {
   "cell_type": "markdown",
   "metadata": {},
   "source": [
    "# Also: Suchen wir uns ein Modul, um Text aus PDFs zu ziehen"
   ]
  },
  {
   "cell_type": "code",
   "execution_count": 11,
   "metadata": {},
   "outputs": [],
   "source": [
    "# Macht ein paar Vorschläge, was wir brauchen könnten?"
   ]
  },
  {
   "cell_type": "code",
   "execution_count": 41,
   "metadata": {},
   "outputs": [],
   "source": [
    "import textract\n",
    "text = textract.process(\"pdfs/Vk_20180226_08documents0.pdf\")"
   ]
  },
  {
   "cell_type": "code",
   "execution_count": 42,
   "metadata": {
    "scrolled": true
   },
   "outputs": [
    {
     "data": {
      "text/plain": [
       "b' \\n\\n \\n\\n \\n\\nCook Medical Europe \\nO\\xe2\\x80\\x99Halloran Road, \\nNational Technological Park, \\nLimerick, Ireland. \\nPhone: + 353 61 334440 \\n\\nFax: + 353 61 334441 \\n\\n \\n\\n \\n \\n \\n \\n \\n \\n \\nDringende Mitteilung: \\n\\nCOOK\\xc2\\xae \\nC\\nO\\nO\\nK\\n\\nSicherheitsrelevante Korrektive Ma\\xc3\\x9fnahme im Feld \\n\\n \\nHandelsname des betroffenen Produktes: Endovaskul\\xc3\\xa4re iliakale Bifurkationsprothese Zenith Branch \\n(ZBIS) \\n \\nHersteller:  William A. Cook Australia Pty Ltd \\n \\nCook-Referenznummer: 2018FA0002, QCR-83  \\n \\nArt der Ma\\xc3\\x9fnahme:  Sicherheitsrelevante korrektive Massnahme \\n--------------------------------------------------------------------------------------------------------------------------- \\n \\nDatum: 15. Februar 2018 \\n \\nZu H\\xc3\\xa4nden: Gesch\\xc3\\xa4ftsf\\xc3\\xbchrung / Risikomanagement / Einkaufsabteilung / Krankenpflege-Direktion \\n \\n \\nDetails zum betroffenen Produkt: \\n\\n\\xc2\\xae \\n\\nProdukt-Markenname \\n\\nArtikelnummer (RPN) \\n\\nGPN \\n\\nLotnummern \\n\\nZBIS-12-61-58 \\nZBIS-12-61-41 \\nZBIS-12-45-58 \\nZBIS-12-45-41 \\nZBIS-10-61-41 \\nZBIS-10-45-41 \\n\\nG38344 \\nG38618 \\nG38617 \\nG38616 \\nG38614 \\nG38612 \\n\\nPlease see the \\n\\nincluded listing for \\n\\nthe specific lot \\n\\nnumbers that are \\n\\naffected \\n\\n \\n \\n\\nEndovaskul\\xc3\\xa4re iliakale \\n\\nBifurkationsprothese Zenith \\n\\nBranch (ZBIS) - \\nPatientenkarte \\n\\n \\n \\nProblembeschreibung: \\n \\n\\nin  Endovaskul\\xc3\\xa4ren \\n\\nfalsche  Patientenkarte \\n\\nfestgestellt,  dass  eine \\n\\nCook  Medical  hat \\niliakalen \\nBifurkationsprothesen  Zenith  Branch  (ZBIS)  -  Produkten,  die  Sie  zwischen  November  2017  und  Januar \\n2018 erworben haben, enthalten sein k\\xc3\\xb6nnte. Eine Produktfehlerkorrektur wird bei allen gebrauchten und \\nunbenutzten ZBIS-Ger\\xc3\\xa4ten bei Ihnen vor Ort von einem Cook-Vertreter durchgef\\xc3\\xbchrt. \\n \\nDer Unterschied zwischen den korrekten und den inkorrekten Karten ist gering. Der Produktname auf der \\ninkorrekten  Patientenkarte  ist  \\xe2\\x80\\x9eZenith  p-Branch\\xe2\\x80\\x9c  und  der  auf  der  ZBIS-Patientenkarte  angegebene  MRI-\\nBildartefakt-Radius  unterscheidet  sich  geringf\\xc3\\xbcgig  vom  Bildartefakt-Radius  auf  der \\ninkorrekten \\nPatientenkarte.  Es  besteht  ein  sehr  geringes  Risiko,  dass  die  inkorrekten  Informationen  auf  der \\nPatientenkarte  zu  einer  schlechteren  Bildqualit\\xc3\\xa4t  w\\xc3\\xa4hrend  eines  MR-Scans  f\\xc3\\xbchren  k\\xc3\\xb6nnen.  Es  besteht \\nkein Risiko f\\xc3\\xbcr den Patienten, da kein Fehler am Produkt vorliegt.  \\n \\n\\nSicherheitsrelevante korrektive Massnahme: \\n\\n\\xef\\x82\\xb7  Unbenutzte Produkte:  \\n\\nEin Cook-Vertreter wird die Produkte bei Ihnen vor Ort begutachten und inkorrekte \\nPatientenkarten ersetzen. \\n\\n \\n\\n \\n\\nForm: F14-00A (R10, CR16-0422)  \\n\\n\\xc2\\xa9 COPYRIGHT DOCUMENT \\n\\n\\x0c \\n \\n\\npage 2 of 2 \\n\\n\\xef\\x82\\xb7  Benutzte Produkte:  \\n\\nEin Cook-Vertreter wird Ihnen Ersatz- Patientenkarten zur Verf\\xc3\\xbcgung stellen, die ausgef\\xc3\\xbcllt und \\ndem Patienten zur Verf\\xc3\\xbcgung gestellt werden muessen. \\n\\nHinweise zu den vom Anwender zu ergreifenden Ma\\xc3\\x9fnahmen: \\n \\n\\n1.  Bitte  f\\xc3\\xbcllen  Sie  das  beiliegende  Antwortformular  innerhalb  von  5  Werktagen  nach  Erhalt  dieser \\n\\nMitteilung zur sicherheitsrelevanten korrektiven Massnahme im Feld aus.  \\n\\n2.  Bitte  senden  Sie  das  beiliegende  Antwortformular  ausgef\\xc3\\xbcllt  per  Fax  oder  per  E-Mail  an  Cook \\nMedical, zu H\\xc3\\xa4nden \\xe2\\x80\\x9eEuropean Customer Quality Assurance\\xe2\\x80\\x9c (Faxnummer: +35361334441, E-Mail: \\nEuropean.FieldAction@CookMedical.com).  \\n\\n3.  Wenn  Sie  Vorkommnisse  im  Zusammenhang  mit  diesen  Produkten  an  Cook  Medical  melden \\n\\nm\\xc3\\xb6chten, kontaktieren Sie bitte unseren Kundendienst. \\n\\n \\nWeitergabe dieser Mitteilung: \\n \\nDiese  Mitteilung  ist  an  alle  Mitarbeiter  in  Ihrer  Einrichtung  weiterzugeben,  die  \\xc3\\xbcber  diese  Angelegenheit \\ninformiert  werden  m\\xc3\\xbcssen,  sowie  an  diejenigen  Einrichtungen,  die  die  potentiell  betroffenen  Produkte \\nau\\xc3\\x9ferdem erhalten haben.   \\n \\nBitte geben Sie diese Mitteilung an alle anderen Einrichtungen weiter, die von dieser Ma\\xc3\\x9fnahme betroffen \\nsein k\\xc3\\xb6nnten.  \\n \\nBitte  ber\\xc3\\xbccksichtigen  Sie  diese  Mitteilung  und  die  mit  ihr  zusammenh\\xc3\\xa4ngenden  Ma\\xc3\\x9fnahmen  f\\xc3\\xbcr  einen \\nangemessenen Zeitraum, damit die Effektivit\\xc3\\xa4t der korrektiven Ma\\xc3\\x9fnahme gew\\xc3\\xa4hrleistet ist. \\n \\n \\nKontaktpersonen: \\n  \\nMichael Galvin \\nRegulatory Affairs Manager \\nCOOK Ireland  \\nO\\xe2\\x80\\x99Halloran Road, National Technology Park, Limerick, IRELAND \\n \\nOder \\n \\nAnnemarie Beglin  \\nQuality Systems Manager \\nCOOK Medical Europe  \\nO\\xe2\\x80\\x99Halloran Road, National Technology Park, Limerick, IRELAND  \\n \\nBei R\\xc3\\xbcckfragen stehen wir Ihnen gern zur Verf\\xc3\\xbcgung (e-mail: European.FieldAction@cookmedical.com, \\nTel.: +353 61 334440).  \\n \\nWir best\\xc3\\xa4tigen, dass diese Ma\\xc3\\x9fnahme der zust\\xc3\\xa4ndigen Beh\\xc3\\xb6rde gemeldet wurde.   \\n\\n   \\n\\n \\n \\nAnnemarie Beglin \\nQuality Systems Manager \\n \\n\\n \\n\\n \\n \\n \\n \\n\\n \\n\\nForm: F14-00A (R10, CR16-0422) \\n\\n\\xc2\\xa9 COPYRIGHT DOCUMENT \\n\\n\\x0c'"
      ]
     },
     "execution_count": 42,
     "metadata": {},
     "output_type": "execute_result"
    }
   ],
   "source": [
    "text"
   ]
  },
  {
   "cell_type": "code",
   "execution_count": 43,
   "metadata": {},
   "outputs": [],
   "source": [
    "# Diese vielen Zeichen stören mich. Die will ich wegnehmen. \n",
    "# Versuchen wir das. Hier ist die Documentation. \n",
    "# https://media.readthedocs.org/pdf/textract/latest/textract.pdf\n",
    "text = textract.process(\"pdfs/Vk_20180226_08documents0.pdf\",  method='pdfminer', encoding='ascii')\n",
    "text = text.decode(\"ascii\").replace(\"\\n\", \" \")"
   ]
  },
  {
   "cell_type": "code",
   "execution_count": 44,
   "metadata": {
    "scrolled": true
   },
   "outputs": [
    {
     "data": {
      "text/plain": [
       "'         Cook Medical Europe  OHalloran Road,  National Technological Park,  Limerick, Ireland.  Phone: + 353 61 334440   Fax: + 353 61 334441                    Dringende Mitteilung:   COOK  C O O K  Sicherheitsrelevante Korrektive Manahme im Feld     Handelsname des betroffenen Produktes: Endovaskulre iliakale Bifurkationsprothese Zenith Branch  (ZBIS)    Hersteller:  William A. Cook Australia Pty Ltd    Cook-Referenznummer: 2018FA0002, QCR-83     Art der Manahme:  Sicherheitsrelevante korrektive Massnahme  ---------------------------------------------------------------------------------------------------------------------------    Datum: 15. Februar 2018    Zu Hnden: Geschftsfhrung / Risikomanagement / Einkaufsabteilung / Krankenpflege-Direktion      Details zum betroffenen Produkt:      Produkt-Markenname   Artikelnummer (RPN)   GPN   Lotnummern   ZBIS-12-61-58  ZBIS-12-61-41  ZBIS-12-45-58  ZBIS-12-45-41  ZBIS-10-61-41  ZBIS-10-45-41   G38344  G38618  G38617  G38616  G38614  G38612   Please see the   included listing for   the specific lot   numbers that are   affected        Endovaskulre iliakale   Bifurkationsprothese Zenith   Branch (ZBIS) -  Patientenkarte       Problembeschreibung:     in  Endovaskulren   falsche  Patientenkarte   festgestellt,  dass  eine   Cook  Medical  hat  iliakalen  Bifurkationsprothesen  Zenith  Branch  (ZBIS)  -  Produkten,  die  Sie  zwischen  November  2017  und  Januar  2018 erworben haben, enthalten sein knnte. Eine Produktfehlerkorrektur wird bei allen gebrauchten und  unbenutzten ZBIS-Gerten bei Ihnen vor Ort von einem Cook-Vertreter durchgefhrt.    Der Unterschied zwischen den korrekten und den inkorrekten Karten ist gering. Der Produktname auf der  inkorrekten  Patientenkarte  ist  Zenith  p-Branch  und  der  auf  der  ZBIS-Patientenkarte  angegebene  MRI- Bildartefakt-Radius  unterscheidet  sich  geringfgig  vom  Bildartefakt-Radius  auf  der  inkorrekten  Patientenkarte.  Es  besteht  ein  sehr  geringes  Risiko,  dass  die  inkorrekten  Informationen  auf  der  Patientenkarte  zu  einer  schlechteren  Bildqualitt  whrend  eines  MR-Scans  fhren  knnen.  Es  besteht  kein Risiko fr den Patienten, da kein Fehler am Produkt vorliegt.      Sicherheitsrelevante korrektive Massnahme:     Unbenutzte Produkte:    Ein Cook-Vertreter wird die Produkte bei Ihnen vor Ort begutachten und inkorrekte  Patientenkarten ersetzen.         Form: F14-00A (R10, CR16-0422)     COPYRIGHT DOCUMENT   \\x0c     page 2 of 2     Benutzte Produkte:    Ein Cook-Vertreter wird Ihnen Ersatz- Patientenkarten zur Verfgung stellen, die ausgefllt und  dem Patienten zur Verfgung gestellt werden muessen.   Hinweise zu den vom Anwender zu ergreifenden Manahmen:     1.  Bitte  fllen  Sie  das  beiliegende  Antwortformular  innerhalb  von  5  Werktagen  nach  Erhalt  dieser   Mitteilung zur sicherheitsrelevanten korrektiven Massnahme im Feld aus.    2.  Bitte  senden  Sie  das  beiliegende  Antwortformular  ausgefllt  per  Fax  oder  per  E-Mail  an  Cook  Medical, zu Hnden European Customer Quality Assurance (Faxnummer: +35361334441, E-Mail:  European.FieldAction@CookMedical.com).    3.  Wenn  Sie  Vorkommnisse  im  Zusammenhang  mit  diesen  Produkten  an  Cook  Medical  melden   mchten, kontaktieren Sie bitte unseren Kundendienst.     Weitergabe dieser Mitteilung:    Diese  Mitteilung  ist  an  alle  Mitarbeiter  in  Ihrer  Einrichtung  weiterzugeben,  die  ber  diese  Angelegenheit  informiert  werden  mssen,  sowie  an  diejenigen  Einrichtungen,  die  die  potentiell  betroffenen  Produkte  auerdem erhalten haben.      Bitte geben Sie diese Mitteilung an alle anderen Einrichtungen weiter, die von dieser Manahme betroffen  sein knnten.     Bitte  bercksichtigen  Sie  diese  Mitteilung  und  die  mit  ihr  zusammenhngenden  Manahmen  fr  einen  angemessenen Zeitraum, damit die Effektivitt der korrektiven Manahme gewhrleistet ist.      Kontaktpersonen:     Michael Galvin  Regulatory Affairs Manager  COOK Ireland   OHalloran Road, National Technology Park, Limerick, IRELAND    Oder    Annemarie Beglin   Quality Systems Manager  COOK Medical Europe   OHalloran Road, National Technology Park, Limerick, IRELAND     Bei Rckfragen stehen wir Ihnen gern zur Verfgung (e-mail: European.FieldAction@cookmedical.com,  Tel.: +353 61 334440).     Wir besttigen, dass diese Manahme der zustndigen Behrde gemeldet wurde.              Annemarie Beglin  Quality Systems Manager                    Form: F14-00A (R10, CR16-0422)    COPYRIGHT DOCUMENT   \\x0c'"
      ]
     },
     "execution_count": 44,
     "metadata": {},
     "output_type": "execute_result"
    }
   ],
   "source": [
    "text"
   ]
  },
  {
   "cell_type": "code",
   "execution_count": 45,
   "metadata": {},
   "outputs": [],
   "source": [
    "#bauen wir einen For loop über alles über alle Dokumente, extrahieren \n",
    "#den ganzen Text. Und bauen damit eine Tabelle mit Text und Namen\n",
    "#der Datei"
   ]
  },
  {
   "cell_type": "code",
   "execution_count": 46,
   "metadata": {
    "scrolled": true
   },
   "outputs": [
    {
     "ename": "ShellError",
     "evalue": "The command `pdf2txt.py pdfs/Vk_20180517_12documents0.pdf` failed with exit code 1\n------------- stdout -------------\nb''------------- stderr -------------\nb'Traceback (most recent call last):\\n  File \"/Users/barjack/.virtualenvs/partisan/bin/pdf2txt.py\", line 136, in <module>\\n    if __name__ == \\'__main__\\': sys.exit(main())\\n  File \"/Users/barjack/.virtualenvs/partisan/bin/pdf2txt.py\", line 131, in main\\n    outfp = extract_text(**vars(A))\\n  File \"/Users/barjack/.virtualenvs/partisan/bin/pdf2txt.py\", line 63, in extract_text\\n    pdfminer.high_level.extract_text_to_fp(fp, **locals())\\n  File \"/Users/barjack/.virtualenvs/partisan/lib/python3.7/site-packages/pdfminer/high_level.py\", line 80, in extract_text_to_fp\\n    check_extractable=True):\\n  File \"/Users/barjack/.virtualenvs/partisan/lib/python3.7/site-packages/pdfminer/pdfpage.py\", line 132, in get_pages\\n    raise PDFTextExtractionNotAllowed(\\'Text extraction is not allowed: %r\\' % fp)\\npdfminer.pdfdocument.PDFTextExtractionNotAllowed: Text extraction is not allowed: <_io.BufferedReader name=\\'pdfs/Vk_20180517_12documents0.pdf\\'>\\n'",
     "output_type": "error",
     "traceback": [
      "\u001b[0;31m---------------------------------------------------------------------------\u001b[0m",
      "\u001b[0;31mShellError\u001b[0m                                Traceback (most recent call last)",
      "\u001b[0;32m<ipython-input-46-54da62930736>\u001b[0m in \u001b[0;36m<module>\u001b[0;34m\u001b[0m\n\u001b[1;32m      4\u001b[0m \u001b[0;34m\u001b[0m\u001b[0m\n\u001b[1;32m      5\u001b[0m \u001b[0;32mfor\u001b[0m \u001b[0mpdf\u001b[0m \u001b[0;32min\u001b[0m \u001b[0mpdfs\u001b[0m\u001b[0;34m:\u001b[0m\u001b[0;34m\u001b[0m\u001b[0;34m\u001b[0m\u001b[0m\n\u001b[0;32m----> 6\u001b[0;31m     \u001b[0mtext\u001b[0m \u001b[0;34m=\u001b[0m \u001b[0mtextract\u001b[0m\u001b[0;34m.\u001b[0m\u001b[0mprocess\u001b[0m\u001b[0;34m(\u001b[0m\u001b[0;34m\"pdfs/\"\u001b[0m\u001b[0;34m+\u001b[0m\u001b[0mpdf\u001b[0m\u001b[0;34m,\u001b[0m \u001b[0mmethod\u001b[0m\u001b[0;34m=\u001b[0m\u001b[0;34m'pdfminer'\u001b[0m\u001b[0;34m,\u001b[0m \u001b[0mencoding\u001b[0m\u001b[0;34m=\u001b[0m\u001b[0;34m'ascii'\u001b[0m\u001b[0;34m)\u001b[0m\u001b[0;34m\u001b[0m\u001b[0;34m\u001b[0m\u001b[0m\n\u001b[0m\u001b[1;32m      7\u001b[0m     \u001b[0mtext\u001b[0m \u001b[0;34m=\u001b[0m \u001b[0mtext\u001b[0m\u001b[0;34m.\u001b[0m\u001b[0mdecode\u001b[0m\u001b[0;34m(\u001b[0m\u001b[0;34m\"ascii\"\u001b[0m\u001b[0;34m)\u001b[0m\u001b[0;34m.\u001b[0m\u001b[0mreplace\u001b[0m\u001b[0;34m(\u001b[0m\u001b[0;34m\"\\n\"\u001b[0m\u001b[0;34m,\u001b[0m \u001b[0;34m\" \"\u001b[0m\u001b[0;34m)\u001b[0m\u001b[0;34m\u001b[0m\u001b[0;34m\u001b[0m\u001b[0m\n\u001b[1;32m      8\u001b[0m     mini_dict = {'Text':text,\n",
      "\u001b[0;32m~/.virtualenvs/partisan/lib/python3.7/site-packages/textract/parsers/__init__.py\u001b[0m in \u001b[0;36mprocess\u001b[0;34m(filename, encoding, extension, **kwargs)\u001b[0m\n\u001b[1;32m     75\u001b[0m \u001b[0;34m\u001b[0m\u001b[0m\n\u001b[1;32m     76\u001b[0m     \u001b[0mparser\u001b[0m \u001b[0;34m=\u001b[0m \u001b[0mfiletype_module\u001b[0m\u001b[0;34m.\u001b[0m\u001b[0mParser\u001b[0m\u001b[0;34m(\u001b[0m\u001b[0;34m)\u001b[0m\u001b[0;34m\u001b[0m\u001b[0;34m\u001b[0m\u001b[0m\n\u001b[0;32m---> 77\u001b[0;31m     \u001b[0;32mreturn\u001b[0m \u001b[0mparser\u001b[0m\u001b[0;34m.\u001b[0m\u001b[0mprocess\u001b[0m\u001b[0;34m(\u001b[0m\u001b[0mfilename\u001b[0m\u001b[0;34m,\u001b[0m \u001b[0mencoding\u001b[0m\u001b[0;34m,\u001b[0m \u001b[0;34m**\u001b[0m\u001b[0mkwargs\u001b[0m\u001b[0;34m)\u001b[0m\u001b[0;34m\u001b[0m\u001b[0;34m\u001b[0m\u001b[0m\n\u001b[0m\u001b[1;32m     78\u001b[0m \u001b[0;34m\u001b[0m\u001b[0m\n\u001b[1;32m     79\u001b[0m \u001b[0;34m\u001b[0m\u001b[0m\n",
      "\u001b[0;32m~/.virtualenvs/partisan/lib/python3.7/site-packages/textract/parsers/utils.py\u001b[0m in \u001b[0;36mprocess\u001b[0;34m(self, filename, encoding, **kwargs)\u001b[0m\n\u001b[1;32m     44\u001b[0m         \u001b[0;31m# output encoding\u001b[0m\u001b[0;34m\u001b[0m\u001b[0;34m\u001b[0m\u001b[0;34m\u001b[0m\u001b[0m\n\u001b[1;32m     45\u001b[0m         \u001b[0;31m# http://nedbatchelder.com/text/unipain/unipain.html#35\u001b[0m\u001b[0;34m\u001b[0m\u001b[0;34m\u001b[0m\u001b[0;34m\u001b[0m\u001b[0m\n\u001b[0;32m---> 46\u001b[0;31m         \u001b[0mbyte_string\u001b[0m \u001b[0;34m=\u001b[0m \u001b[0mself\u001b[0m\u001b[0;34m.\u001b[0m\u001b[0mextract\u001b[0m\u001b[0;34m(\u001b[0m\u001b[0mfilename\u001b[0m\u001b[0;34m,\u001b[0m \u001b[0;34m**\u001b[0m\u001b[0mkwargs\u001b[0m\u001b[0;34m)\u001b[0m\u001b[0;34m\u001b[0m\u001b[0;34m\u001b[0m\u001b[0m\n\u001b[0m\u001b[1;32m     47\u001b[0m         \u001b[0municode_string\u001b[0m \u001b[0;34m=\u001b[0m \u001b[0mself\u001b[0m\u001b[0;34m.\u001b[0m\u001b[0mdecode\u001b[0m\u001b[0;34m(\u001b[0m\u001b[0mbyte_string\u001b[0m\u001b[0;34m)\u001b[0m\u001b[0;34m\u001b[0m\u001b[0;34m\u001b[0m\u001b[0m\n\u001b[1;32m     48\u001b[0m         \u001b[0;32mreturn\u001b[0m \u001b[0mself\u001b[0m\u001b[0;34m.\u001b[0m\u001b[0mencode\u001b[0m\u001b[0;34m(\u001b[0m\u001b[0municode_string\u001b[0m\u001b[0;34m,\u001b[0m \u001b[0mencoding\u001b[0m\u001b[0;34m)\u001b[0m\u001b[0;34m\u001b[0m\u001b[0;34m\u001b[0m\u001b[0m\n",
      "\u001b[0;32m~/.virtualenvs/partisan/lib/python3.7/site-packages/textract/parsers/pdf_parser.py\u001b[0m in \u001b[0;36mextract\u001b[0;34m(self, filename, method, **kwargs)\u001b[0m\n\u001b[1;32m     29\u001b[0m \u001b[0;34m\u001b[0m\u001b[0m\n\u001b[1;32m     30\u001b[0m         \u001b[0;32melif\u001b[0m \u001b[0mmethod\u001b[0m \u001b[0;34m==\u001b[0m \u001b[0;34m'pdfminer'\u001b[0m\u001b[0;34m:\u001b[0m\u001b[0;34m\u001b[0m\u001b[0;34m\u001b[0m\u001b[0m\n\u001b[0;32m---> 31\u001b[0;31m             \u001b[0;32mreturn\u001b[0m \u001b[0mself\u001b[0m\u001b[0;34m.\u001b[0m\u001b[0mextract_pdfminer\u001b[0m\u001b[0;34m(\u001b[0m\u001b[0mfilename\u001b[0m\u001b[0;34m,\u001b[0m \u001b[0;34m**\u001b[0m\u001b[0mkwargs\u001b[0m\u001b[0;34m)\u001b[0m\u001b[0;34m\u001b[0m\u001b[0;34m\u001b[0m\u001b[0m\n\u001b[0m\u001b[1;32m     32\u001b[0m         \u001b[0;32melif\u001b[0m \u001b[0mmethod\u001b[0m \u001b[0;34m==\u001b[0m \u001b[0;34m'tesseract'\u001b[0m\u001b[0;34m:\u001b[0m\u001b[0;34m\u001b[0m\u001b[0;34m\u001b[0m\u001b[0m\n\u001b[1;32m     33\u001b[0m             \u001b[0;32mreturn\u001b[0m \u001b[0mself\u001b[0m\u001b[0;34m.\u001b[0m\u001b[0mextract_tesseract\u001b[0m\u001b[0;34m(\u001b[0m\u001b[0mfilename\u001b[0m\u001b[0;34m,\u001b[0m \u001b[0;34m**\u001b[0m\u001b[0mkwargs\u001b[0m\u001b[0;34m)\u001b[0m\u001b[0;34m\u001b[0m\u001b[0;34m\u001b[0m\u001b[0m\n",
      "\u001b[0;32m~/.virtualenvs/partisan/lib/python3.7/site-packages/textract/parsers/pdf_parser.py\u001b[0m in \u001b[0;36mextract_pdfminer\u001b[0;34m(self, filename, **kwargs)\u001b[0m\n\u001b[1;32m     46\u001b[0m     \u001b[0;32mdef\u001b[0m \u001b[0mextract_pdfminer\u001b[0m\u001b[0;34m(\u001b[0m\u001b[0mself\u001b[0m\u001b[0;34m,\u001b[0m \u001b[0mfilename\u001b[0m\u001b[0;34m,\u001b[0m \u001b[0;34m**\u001b[0m\u001b[0mkwargs\u001b[0m\u001b[0;34m)\u001b[0m\u001b[0;34m:\u001b[0m\u001b[0;34m\u001b[0m\u001b[0;34m\u001b[0m\u001b[0m\n\u001b[1;32m     47\u001b[0m         \u001b[0;34m\"\"\"Extract text from pdfs using pdfminer.\"\"\"\u001b[0m\u001b[0;34m\u001b[0m\u001b[0;34m\u001b[0m\u001b[0m\n\u001b[0;32m---> 48\u001b[0;31m         \u001b[0mstdout\u001b[0m\u001b[0;34m,\u001b[0m \u001b[0m_\u001b[0m \u001b[0;34m=\u001b[0m \u001b[0mself\u001b[0m\u001b[0;34m.\u001b[0m\u001b[0mrun\u001b[0m\u001b[0;34m(\u001b[0m\u001b[0;34m[\u001b[0m\u001b[0;34m'pdf2txt.py'\u001b[0m\u001b[0;34m,\u001b[0m \u001b[0mfilename\u001b[0m\u001b[0;34m]\u001b[0m\u001b[0;34m)\u001b[0m\u001b[0;34m\u001b[0m\u001b[0;34m\u001b[0m\u001b[0m\n\u001b[0m\u001b[1;32m     49\u001b[0m         \u001b[0;32mreturn\u001b[0m \u001b[0mstdout\u001b[0m\u001b[0;34m\u001b[0m\u001b[0;34m\u001b[0m\u001b[0m\n\u001b[1;32m     50\u001b[0m \u001b[0;34m\u001b[0m\u001b[0m\n",
      "\u001b[0;32m~/.virtualenvs/partisan/lib/python3.7/site-packages/textract/parsers/utils.py\u001b[0m in \u001b[0;36mrun\u001b[0;34m(self, args)\u001b[0m\n\u001b[1;32m     99\u001b[0m         \u001b[0;32mif\u001b[0m \u001b[0mpipe\u001b[0m\u001b[0;34m.\u001b[0m\u001b[0mreturncode\u001b[0m \u001b[0;34m!=\u001b[0m \u001b[0;36m0\u001b[0m\u001b[0;34m:\u001b[0m\u001b[0;34m\u001b[0m\u001b[0;34m\u001b[0m\u001b[0m\n\u001b[1;32m    100\u001b[0m             raise exceptions.ShellError(\n\u001b[0;32m--> 101\u001b[0;31m                 \u001b[0;34m' '\u001b[0m\u001b[0;34m.\u001b[0m\u001b[0mjoin\u001b[0m\u001b[0;34m(\u001b[0m\u001b[0margs\u001b[0m\u001b[0;34m)\u001b[0m\u001b[0;34m,\u001b[0m \u001b[0mpipe\u001b[0m\u001b[0;34m.\u001b[0m\u001b[0mreturncode\u001b[0m\u001b[0;34m,\u001b[0m \u001b[0mstdout\u001b[0m\u001b[0;34m,\u001b[0m \u001b[0mstderr\u001b[0m\u001b[0;34m,\u001b[0m\u001b[0;34m\u001b[0m\u001b[0;34m\u001b[0m\u001b[0m\n\u001b[0m\u001b[1;32m    102\u001b[0m             )\n\u001b[1;32m    103\u001b[0m \u001b[0;34m\u001b[0m\u001b[0m\n",
      "\u001b[0;31mShellError\u001b[0m: The command `pdf2txt.py pdfs/Vk_20180517_12documents0.pdf` failed with exit code 1\n------------- stdout -------------\nb''------------- stderr -------------\nb'Traceback (most recent call last):\\n  File \"/Users/barjack/.virtualenvs/partisan/bin/pdf2txt.py\", line 136, in <module>\\n    if __name__ == \\'__main__\\': sys.exit(main())\\n  File \"/Users/barjack/.virtualenvs/partisan/bin/pdf2txt.py\", line 131, in main\\n    outfp = extract_text(**vars(A))\\n  File \"/Users/barjack/.virtualenvs/partisan/bin/pdf2txt.py\", line 63, in extract_text\\n    pdfminer.high_level.extract_text_to_fp(fp, **locals())\\n  File \"/Users/barjack/.virtualenvs/partisan/lib/python3.7/site-packages/pdfminer/high_level.py\", line 80, in extract_text_to_fp\\n    check_extractable=True):\\n  File \"/Users/barjack/.virtualenvs/partisan/lib/python3.7/site-packages/pdfminer/pdfpage.py\", line 132, in get_pages\\n    raise PDFTextExtractionNotAllowed(\\'Text extraction is not allowed: %r\\' % fp)\\npdfminer.pdfdocument.PDFTextExtractionNotAllowed: Text extraction is not allowed: <_io.BufferedReader name=\\'pdfs/Vk_20180517_12documents0.pdf\\'>\\n'"
     ]
    }
   ],
   "source": [
    "import os\n",
    "pdfs = os.listdir('pdfs')\n",
    "lst = []\n",
    "\n",
    "for pdf in pdfs:\n",
    "    text = textract.process(\"pdfs/\"+pdf, method='pdfminer', encoding='ascii')\n",
    "    text = text.decode(\"ascii\").replace(\"\\n\", \" \")\n",
    "    mini_dict = {'Text':text,\n",
    "                 'File':pdf}\n",
    "    lst.append(mini_dict)\n",
    "    "
   ]
  },
  {
   "cell_type": "code",
   "execution_count": null,
   "metadata": {
    "scrolled": true
   },
   "outputs": [],
   "source": [
    "#Fehlermeldung, wie gehen wir nun vor, um diesen Fehler zu finden und zu beheben? \n",
    "#In der Meldung unten, sehen wir, wo der Fehler passiert ist. \n",
    "pdfs = os.listdir('pdfs')\n",
    "lst = []\n",
    "\n",
    "for pdf in pdfs:\n",
    "    print(pdf)\n",
    "    text = textract.process(\"pdfs/\"+pdf, method='pdfminer', encoding='ascii')\n",
    "    text = text.decode(\"ascii\").replace(\"\\n\", \" \")\n",
    "    mini_dict = {'Text':text,\n",
    "                 'File':pdf}\n",
    "    lst.append(mini_dict)"
   ]
  },
  {
   "cell_type": "code",
   "execution_count": null,
   "metadata": {},
   "outputs": [],
   "source": [
    "#Bauen wir deshalb ein try: und except ein:\n",
    "import os\n",
    "pdfs = os.listdir('pdfs')\n",
    "lst = []\n",
    "\n",
    "for pdf in pdfs:\n",
    "    try:\n",
    "        text = textract.process(\"pdfs/\"+pdf, method='pdfminer', encoding='ascii')\n",
    "        text = text.decode(\"ascii\").replace(\"\\n\", \" \")\n",
    "        mini_dict = {'Text':text,\n",
    "                     'File':pdf}\n",
    "        lst.append(mini_dict)\n",
    "    except:\n",
    "        mini_dict = {'Text':'Fehlermeldung',\n",
    "                     'File':pdf}\n",
    "        lst.append(mini_dict)"
   ]
  },
  {
   "cell_type": "code",
   "execution_count": null,
   "metadata": {},
   "outputs": [],
   "source": [
    "# Das geht nun ganz durch. Dauert aber sehr lange. Ich möchte aber wissen, wo ich stehe.\n",
    "# Schauen wir uns das mit Progressbar an. "
   ]
  },
  {
   "cell_type": "code",
   "execution_count": null,
   "metadata": {},
   "outputs": [],
   "source": [
    "import progressbar\n",
    "bar = progressbar.ProgressBar() #Hier wir bar als Funktion defininiert.\n",
    "lst = []\n",
    "\n",
    "for pdf,i in zip(pdfs, bar(range(len(pdfs)))): #Hier wird die Funktion auf eine Liste mit integers \n",
    "                                               #angewandt, die genau gleich lang ist wie die \n",
    "                                               #länge der PDF LIste \n",
    "    try:\n",
    "        text = textract.process(\"pdfs/\"+pdf, method='pdfminer', encoding='ISO-8859-1')\n",
    "        text = text.decode(\"ISO-8859-1\").replace(\"\\n\", \" \")\n",
    "        mini_dict = {'Text':text,\n",
    "                     'File':pdf}\n",
    "        lst.append(mini_dict)\n",
    "    except:\n",
    "        mini_dict = {'Text':'Fehlermeldung',\n",
    "                     'File':pdf}\n",
    "        lst.append(mini_dict)"
   ]
  },
  {
   "cell_type": "code",
   "execution_count": null,
   "metadata": {},
   "outputs": [],
   "source": [
    "#Schauen wir uns an, was wir haben\n",
    "import pandas as pd\n",
    "df = pd.DataFrame(lst)\n",
    "df.head(10)"
   ]
  },
  {
   "cell_type": "markdown",
   "metadata": {},
   "source": [
    "## Bilder in Text umwandeln"
   ]
  },
  {
   "cell_type": "code",
   "execution_count": null,
   "metadata": {},
   "outputs": [],
   "source": [
    "# Warum sind diese leeren Sachen da? Schauen wir das erte Dokument an. \n",
    "# Aha! Das ist ein Bild."
   ]
  },
  {
   "cell_type": "code",
   "execution_count": null,
   "metadata": {},
   "outputs": [],
   "source": [
    "#Das können wir auch mit textract rausnehmen\n",
    "#https://www.macports.org/install.php\n",
    "#sudo port install tesseract-eng\n",
    "#https://github.com/tesseract-ocr/tesseract/blob/master/doc/tesseract.1.asc#languages\n",
    "#https://stackoverflow.com/questions/14800730/tesseract-running-error\n",
    "text = textract.process(\"pdfs/Vk_20180514_49documents0.pdf\", method='tesseract') #language='deu'\n",
    "text = text.decode(\"ISO-8859-1\").replace(\"\\n\", \" \")\n"
   ]
  },
  {
   "cell_type": "code",
   "execution_count": null,
   "metadata": {
    "scrolled": true
   },
   "outputs": [],
   "source": [
    "text"
   ]
  },
  {
   "cell_type": "code",
   "execution_count": null,
   "metadata": {},
   "outputs": [],
   "source": [
    "bar = progressbar.ProgressBar()\n",
    "lst = []\n",
    "\n",
    "for pdf,i in zip(pdfs, bar(range(len(pdfs)))):\n",
    "    try:\n",
    "        text = textract.process(\"pdfs/\"+pdf, method='pdfminer', encoding='ISO-8859-1')\n",
    "        text = text.decode(\"ISO-8859-1\").replace(\"\\n\", \" \")\n",
    "        if len(text) < 40:\n",
    "            text = textract.process(\"pdfs/\"+pdf, method='tesseract', language='deu')\n",
    "            text = text.decode(\"ISO-8859-1\").replace(\"\\n\", \" \")\n",
    "            \n",
    "        mini_dict = {'Text':text,\n",
    "                     'File':pdf}\n",
    "        lst.append(mini_dict)\n",
    "    except:\n",
    "        mini_dict = {'Text':'Fehlermeldung',\n",
    "                     'File':pdf}\n",
    "        lst.append(mini_dict)"
   ]
  },
  {
   "cell_type": "markdown",
   "metadata": {},
   "source": [
    "# Strukturieren wir den Inhalt noch etwas"
   ]
  },
  {
   "cell_type": "code",
   "execution_count": null,
   "metadata": {
    "scrolled": true
   },
   "outputs": [],
   "source": [
    "df = pd.DataFrame(lst)"
   ]
  },
  {
   "cell_type": "code",
   "execution_count": null,
   "metadata": {},
   "outputs": [],
   "source": [
    "#Wie könnten wir das Eingangsdatum der dokumente ermitteln?\n",
    "df.head()"
   ]
  },
  {
   "cell_type": "code",
   "execution_count": null,
   "metadata": {},
   "outputs": [],
   "source": [
    "def date(elem):\n",
    "    elem = elem[3:11]\n",
    "    return elem\n",
    "df['date'] = df['File'].apply(date)"
   ]
  },
  {
   "cell_type": "code",
   "execution_count": null,
   "metadata": {},
   "outputs": [],
   "source": [
    "df['date'] = pd.to_datetime(df['date'], format='%Y%m%d')"
   ]
  },
  {
   "cell_type": "code",
   "execution_count": null,
   "metadata": {},
   "outputs": [],
   "source": [
    "df.index = df['date']"
   ]
  },
  {
   "cell_type": "code",
   "execution_count": null,
   "metadata": {},
   "outputs": [],
   "source": [
    "df.head()"
   ]
  },
  {
   "cell_type": "code",
   "execution_count": null,
   "metadata": {},
   "outputs": [],
   "source": [
    "import matplotlib.pyplot as plt\n",
    "import matplotlib\n",
    "plt.style.use('fivethirtyeight')\n",
    "%matplotlib inline"
   ]
  },
  {
   "cell_type": "code",
   "execution_count": null,
   "metadata": {},
   "outputs": [],
   "source": [
    "#Visualisieren wir das\n",
    "df.resample('D')['File'].count().plot()"
   ]
  },
  {
   "cell_type": "code",
   "execution_count": null,
   "metadata": {},
   "outputs": [],
   "source": [
    "#Suchen wir noch nach Implantaten\n",
    "df['implant'] = df['Text'].str.contains('implant')"
   ]
  },
  {
   "cell_type": "code",
   "execution_count": null,
   "metadata": {},
   "outputs": [],
   "source": [
    "df['implant'].value_counts()"
   ]
  },
  {
   "cell_type": "code",
   "execution_count": null,
   "metadata": {},
   "outputs": [],
   "source": [
    "#Plotten wir diese Implants\n",
    "df[df['implant']==True].resample('D')['implant'].count().plot()"
   ]
  },
  {
   "cell_type": "markdown",
   "metadata": {
    "collapsed": true
   },
   "source": [
    "# Speichern wir alle ab"
   ]
  },
  {
   "cell_type": "code",
   "execution_count": null,
   "metadata": {},
   "outputs": [],
   "source": [
    "df.to_csv('datafile.csv')"
   ]
  },
  {
   "cell_type": "code",
   "execution_count": null,
   "metadata": {
    "collapsed": true
   },
   "outputs": [],
   "source": []
  },
  {
   "cell_type": "code",
   "execution_count": null,
   "metadata": {
    "collapsed": true
   },
   "outputs": [],
   "source": []
  }
 ],
 "metadata": {
  "kernelspec": {
   "display_name": "Python 3",
   "language": "python",
   "name": "python3"
  },
  "language_info": {
   "codemirror_mode": {
    "name": "ipython",
    "version": 3
   },
   "file_extension": ".py",
   "mimetype": "text/x-python",
   "name": "python",
   "nbconvert_exporter": "python",
   "pygments_lexer": "ipython3",
   "version": "3.7.6"
  }
 },
 "nbformat": 4,
 "nbformat_minor": 2
}
