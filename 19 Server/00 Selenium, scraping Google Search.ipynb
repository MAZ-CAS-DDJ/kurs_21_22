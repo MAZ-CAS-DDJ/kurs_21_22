{
 "cells": [
  {
   "cell_type": "markdown",
   "metadata": {},
   "source": [
    "# Welcher Parlamentarier hat bei Google den grössten Fussabdruck?"
   ]
  },
  {
   "cell_type": "markdown",
   "metadata": {},
   "source": [
    "1. Liste aller Parlamentarier finden (Pandas)\n",
    "2. Liste mit Vornamen, Nachnamen und Rat bauen (Pandas)\n",
    "3. Googlen und Resultate direkt ansteuern (Selenium)\n",
    "4. DataFrame bauen und Resulate abspeichern (For Loop into Pandas)\n",
    "5. Mergen wir die Daten mit dem ursprünglichen DataFrame\n",
    "6. Visualisieren wir die Daten"
   ]
  },
  {
   "cell_type": "markdown",
   "metadata": {},
   "source": [
    "## Imports"
   ]
  },
  {
   "cell_type": "code",
   "execution_count": 24,
   "metadata": {},
   "outputs": [],
   "source": [
    "from selenium import webdriver\n",
    "from selenium.webdriver.common.keys import Keys\n",
    "from selenium.webdriver.common.by import By\n",
    "from selenium.webdriver.support.ui import Select\n",
    "import time\n",
    "import pandas as pd\n",
    "import os\n",
    "from bs4 import BeautifulSoup\n",
    "from random import uniform"
   ]
  },
  {
   "cell_type": "code",
   "execution_count": 25,
   "metadata": {},
   "outputs": [],
   "source": [
    "%matplotlib notebook\n",
    "import matplotlib.pyplot as plt"
   ]
  },
  {
   "cell_type": "markdown",
   "metadata": {},
   "source": [
    "**1. Liste aller Parlamentarier**"
   ]
  },
  {
   "cell_type": "code",
   "execution_count": 26,
   "metadata": {},
   "outputs": [],
   "source": [
    "df = pd.read_excel('https://www.parlament.ch/Poly/Adressen_RM/mitgliederlist-pc.xlsx')"
   ]
  },
  {
   "cell_type": "code",
   "execution_count": 27,
   "metadata": {},
   "outputs": [
    {
     "name": "stdout",
     "output_type": "stream",
     "text": [
      "<class 'pandas.core.frame.DataFrame'>\n",
      "RangeIndex: 246 entries, 0 to 245\n",
      "Data columns (total 34 columns):\n",
      " #   Column                  Non-Null Count  Dtype  \n",
      "---  ------                  --------------  -----  \n",
      " 0   Rat                     246 non-null    object \n",
      " 1   Anrede 1                246 non-null    object \n",
      " 2   Vorname                 246 non-null    object \n",
      " 3   Name                    246 non-null    object \n",
      " 4   Anrede 2                61 non-null     object \n",
      " 5   Firma (Postadresse)     56 non-null     object \n",
      " 6   Strasse (Postadresse)   81 non-null     object \n",
      " 7   Zusatz (Postadresse)    27 non-null     object \n",
      " 8   PLZ (Postadresse)       81 non-null     float64\n",
      " 9   Ort (Postadresse)       81 non-null     object \n",
      " 10  Tel. (Postadresse)      38 non-null     object \n",
      " 11  Fax (Postadresse)       18 non-null     object \n",
      " 12  Homepage (Postadresse)  37 non-null     object \n",
      " 13  Firma (Wohnadresse)     5 non-null      object \n",
      " 14  Strasse (Wohnadresse)   179 non-null    object \n",
      " 15  Zusatz (Wohnadresse)    13 non-null     object \n",
      " 16  PLZ (Wohnadresse)       179 non-null    float64\n",
      " 17  Ort (Wohnadresse)       179 non-null    object \n",
      " 18  Tel. (Wohnadresse)      30 non-null     object \n",
      " 19  Fax (Wohnadresse)       8 non-null      object \n",
      " 20  Homepage (Wohnadresse)  177 non-null    object \n",
      " 21  Firma (Mailing)         59 non-null     object \n",
      " 22  Strasse (Mailing)       246 non-null    object \n",
      " 23  Zusatz (Mailing)        38 non-null     object \n",
      " 24  PLZ (Mailing)           246 non-null    int64  \n",
      " 25  Ort (Mailing)           246 non-null    object \n",
      " 26  Tel. (Mailing)          65 non-null     object \n",
      " 27  Fax (Mailing)           26 non-null     object \n",
      " 28  Homepage (Mailing)      205 non-null    object \n",
      " 29  Arbeitssprache          246 non-null    object \n",
      " 30  Fraktion                246 non-null    object \n",
      " 31  Kanton                  246 non-null    object \n",
      " 32  Geburtsjahr             246 non-null    int64  \n",
      " 33  VereidigungsDatum       246 non-null    int64  \n",
      "dtypes: float64(2), int64(3), object(29)\n",
      "memory usage: 65.5+ KB\n"
     ]
    }
   ],
   "source": [
    "df.info()"
   ]
  },
  {
   "cell_type": "markdown",
   "metadata": {},
   "source": [
    "**2. Liste mit Vornamen, Nachnamen und Rat bauen**"
   ]
  },
  {
   "cell_type": "code",
   "execution_count": 28,
   "metadata": {},
   "outputs": [],
   "source": [
    "def make(elem):\n",
    "    if elem == 'NR':\n",
    "        return 'Nationalrat'\n",
    "    else:\n",
    "        return 'Ständerat'\n",
    "df[\"Rat\"] = df[\"Rat\"].apply(make)"
   ]
  },
  {
   "cell_type": "code",
   "execution_count": 29,
   "metadata": {},
   "outputs": [],
   "source": [
    "#Die wichtigsten herauskopieren\n",
    "df_n = df[['Anrede 1', 'Anrede 2', 'Vorname', 'Name']].copy()\n",
    "df_n = df_n.fillna(value=\"\")"
   ]
  },
  {
   "cell_type": "code",
   "execution_count": 30,
   "metadata": {},
   "outputs": [],
   "source": [
    "df_n['Anrede'] = df_n[\"Anrede 1\"] + df_n['Anrede 2']"
   ]
  },
  {
   "cell_type": "code",
   "execution_count": 31,
   "metadata": {},
   "outputs": [],
   "source": [
    "def clean(elem):\n",
    "    elem = elem.replace('Monsieur', \"\").replace('Herr ', \"\").replace('Frau ', \"\")\n",
    "    elem = elem.replace('Madame', \"\").replace('Vizepräsident des ', \"\").replace('Nationalrates', \"Nationalrat\")\n",
    "    return elem\n",
    "\n",
    "df_n['Anrede'] = df_n['Anrede'].apply(clean)"
   ]
  },
  {
   "cell_type": "code",
   "execution_count": 32,
   "metadata": {},
   "outputs": [],
   "source": [
    "df_n['Google Search'] ='\"' + df_n['Anrede'] + \" \" + df_n['Vorname'] + \" \" + df_n['Name']+'\"'"
   ]
  },
  {
   "cell_type": "code",
   "execution_count": 33,
   "metadata": {},
   "outputs": [],
   "source": [
    "pol_list = list(df_n['Google Search'])"
   ]
  },
  {
   "cell_type": "code",
   "execution_count": 34,
   "metadata": {},
   "outputs": [
    {
     "data": {
      "text/plain": [
       "['\"Conseiller national Jean-Luc Addor\"',\n",
       " '\"Nationalrat Andreas Aebi\"',\n",
       " '\"Nationalrat Matthias Aebischer\"',\n",
       " '\"Nationalrat Thomas Aeschi\"',\n",
       " '\"Conseillère nationale Céline Amaudruz\"']"
      ]
     },
     "execution_count": 34,
     "metadata": {},
     "output_type": "execute_result"
    }
   ],
   "source": [
    "pol_list[:5]"
   ]
  },
  {
   "cell_type": "markdown",
   "metadata": {},
   "source": [
    "**3. Googlen und Resultate direkt ansteuern**"
   ]
  },
  {
   "cell_type": "code",
   "execution_count": 127,
   "metadata": {},
   "outputs": [],
   "source": [
    "#Wir starten den BRowser auf\n",
    "driver = webdriver.Firefox()"
   ]
  },
  {
   "cell_type": "code",
   "execution_count": 128,
   "metadata": {},
   "outputs": [],
   "source": [
    "#Und nun sagen wir dem Browser, welche Seite er besuchen sollte. \n",
    "driver.get('https://www.google.ch')"
   ]
  },
  {
   "cell_type": "code",
   "execution_count": 129,
   "metadata": {},
   "outputs": [],
   "source": [
    "#Wir benutzen den Webinspector\n",
    "search = driver.find_element_by_name('q')"
   ]
  },
  {
   "cell_type": "code",
   "execution_count": 130,
   "metadata": {},
   "outputs": [],
   "source": [
    "#send keys\n",
    "search.send_keys(pol_list[0])"
   ]
  },
  {
   "cell_type": "code",
   "execution_count": 131,
   "metadata": {},
   "outputs": [],
   "source": [
    "#button click\n",
    "search.send_keys(Keys.RETURN)"
   ]
  },
  {
   "cell_type": "code",
   "execution_count": 132,
   "metadata": {},
   "outputs": [
    {
     "data": {
      "text/plain": [
       "'About 2,390 results (0.48 seconds) '"
      ]
     },
     "execution_count": 132,
     "metadata": {},
     "output_type": "execute_result"
    }
   ],
   "source": [
    "#get results in text format\n",
    "driver.find_element_by_id('result-stats').text"
   ]
  },
  {
   "cell_type": "code",
   "execution_count": 133,
   "metadata": {},
   "outputs": [],
   "source": [
    "driver.find_element_by_name('q').clear()"
   ]
  },
  {
   "cell_type": "markdown",
   "metadata": {},
   "source": [
    "**4. DataFrame bauen und Resulate abspeichern**"
   ]
  },
  {
   "cell_type": "code",
   "execution_count": null,
   "metadata": {},
   "outputs": [],
   "source": [
    "#VPN Network -> Google"
   ]
  },
  {
   "cell_type": "code",
   "execution_count": 166,
   "metadata": {},
   "outputs": [],
   "source": [
    "#Wir starten den Browser auf\n",
    "driver = webdriver.Firefox()\n",
    "#Und nun sagen wir dem Browser, welche Seite er besuchen sollte. \n",
    "driver.get('https://www.google.ch')"
   ]
  },
  {
   "cell_type": "code",
   "execution_count": 167,
   "metadata": {},
   "outputs": [],
   "source": [
    "driver.find_element_by_name('q').clear()"
   ]
  },
  {
   "cell_type": "code",
   "execution_count": 168,
   "metadata": {},
   "outputs": [],
   "source": [
    "#start the for loop\n",
    "result_list = []\n",
    "for elem in pol_list:\n",
    "    \n",
    "    search = driver.find_element_by_name('q')\n",
    "    search.send_keys(elem)\n",
    "    time.sleep(1)\n",
    "    search.send_keys(Keys.RETURN)\n",
    "    #wait\n",
    "    time.sleep(1)\n",
    "    #get and save results\n",
    "    result = driver.find_element_by_id('result-stats').text\n",
    "    minidict = {'Politician': elem,\n",
    "                'Google Search Results': result}\n",
    "    result_list.append(minidict)\n",
    "    \n",
    "    driver.find_element_by_name('q').clear()\n",
    "    \n",
    "    #wait\n",
    "    time.sleep(uniform(1, 3))\n",
    "    "
   ]
  },
  {
   "cell_type": "code",
   "execution_count": 169,
   "metadata": {},
   "outputs": [
    {
     "data": {
      "text/plain": [
       "35"
      ]
     },
     "execution_count": 169,
     "metadata": {},
     "output_type": "execute_result"
    }
   ],
   "source": [
    "#len(result_list)"
   ]
  },
  {
   "cell_type": "markdown",
   "metadata": {},
   "source": [
    "**5. Abspeichern und alle Files zusammenbringen, um sie mit dem ursprünglichen DataFrame zu verbinden**"
   ]
  },
  {
   "cell_type": "code",
   "execution_count": 35,
   "metadata": {},
   "outputs": [],
   "source": [
    "csvlist = os.listdir('csvs')"
   ]
  },
  {
   "cell_type": "code",
   "execution_count": 36,
   "metadata": {},
   "outputs": [],
   "source": [
    "df_count = pd.DataFrame([])"
   ]
  },
  {
   "cell_type": "code",
   "execution_count": 37,
   "metadata": {},
   "outputs": [],
   "source": [
    "for csv in csvlist:\n",
    "    temp = pd.read_csv(\"csvs/\"+csv)\n",
    "    frames = [df_count, temp]\n",
    "    df_count = pd.concat(frames)"
   ]
  },
  {
   "cell_type": "code",
   "execution_count": 44,
   "metadata": {},
   "outputs": [],
   "source": [
    "df_count_merged = df_count.merge(df_n, left_on='Politician', right_on='Google Search')"
   ]
  },
  {
   "cell_type": "code",
   "execution_count": 48,
   "metadata": {},
   "outputs": [],
   "source": [
    "#Namemerge\n",
    "df_count_merged['mergeonname'] = df_count_merged['Vorname'] + df_count_merged['Name']\n",
    "df['mergeonname'] = df['Vorname'] + df['Name']\n",
    "dff = df.merge(df_count_merged, left_on='mergeonname', right_on='mergeonname')"
   ]
  },
  {
   "cell_type": "code",
   "execution_count": 50,
   "metadata": {},
   "outputs": [
    {
     "name": "stdout",
     "output_type": "stream",
     "text": [
      "<class 'pandas.core.frame.DataFrame'>\n",
      "Int64Index: 247 entries, 0 to 246\n",
      "Data columns (total 44 columns):\n",
      " #   Column                  Non-Null Count  Dtype  \n",
      "---  ------                  --------------  -----  \n",
      " 0   Rat                     247 non-null    object \n",
      " 1   Anrede 1_x              247 non-null    object \n",
      " 2   Vorname_x               247 non-null    object \n",
      " 3   Name_x                  247 non-null    object \n",
      " 4   Anrede 2_x              61 non-null     object \n",
      " 5   Firma (Postadresse)     56 non-null     object \n",
      " 6   Strasse (Postadresse)   81 non-null     object \n",
      " 7   Zusatz (Postadresse)    27 non-null     object \n",
      " 8   PLZ (Postadresse)       81 non-null     float64\n",
      " 9   Ort (Postadresse)       81 non-null     object \n",
      " 10  Tel. (Postadresse)      38 non-null     object \n",
      " 11  Fax (Postadresse)       18 non-null     object \n",
      " 12  Homepage (Postadresse)  37 non-null     object \n",
      " 13  Firma (Wohnadresse)     5 non-null      object \n",
      " 14  Strasse (Wohnadresse)   180 non-null    object \n",
      " 15  Zusatz (Wohnadresse)    13 non-null     object \n",
      " 16  PLZ (Wohnadresse)       180 non-null    float64\n",
      " 17  Ort (Wohnadresse)       180 non-null    object \n",
      " 18  Tel. (Wohnadresse)      30 non-null     object \n",
      " 19  Fax (Wohnadresse)       8 non-null      object \n",
      " 20  Homepage (Wohnadresse)  177 non-null    object \n",
      " 21  Firma (Mailing)         59 non-null     object \n",
      " 22  Strasse (Mailing)       247 non-null    object \n",
      " 23  Zusatz (Mailing)        38 non-null     object \n",
      " 24  PLZ (Mailing)           247 non-null    int64  \n",
      " 25  Ort (Mailing)           247 non-null    object \n",
      " 26  Tel. (Mailing)          65 non-null     object \n",
      " 27  Fax (Mailing)           26 non-null     object \n",
      " 28  Homepage (Mailing)      205 non-null    object \n",
      " 29  Arbeitssprache          247 non-null    object \n",
      " 30  Fraktion                247 non-null    object \n",
      " 31  Kanton                  247 non-null    object \n",
      " 32  Geburtsjahr             247 non-null    int64  \n",
      " 33  VereidigungsDatum       247 non-null    int64  \n",
      " 34  mergeonname             247 non-null    object \n",
      " 35  Unnamed: 0              247 non-null    int64  \n",
      " 36  Politician              247 non-null    object \n",
      " 37  Google Search Results   247 non-null    object \n",
      " 38  Anrede 1_y              247 non-null    object \n",
      " 39  Anrede 2_y              247 non-null    object \n",
      " 40  Vorname_y               247 non-null    object \n",
      " 41  Name_y                  247 non-null    object \n",
      " 42  Anrede                  247 non-null    object \n",
      " 43  Google Search           247 non-null    object \n",
      "dtypes: float64(2), int64(4), object(38)\n",
      "memory usage: 86.8+ KB\n"
     ]
    }
   ],
   "source": [
    "dff.info()"
   ]
  },
  {
   "cell_type": "code",
   "execution_count": 53,
   "metadata": {},
   "outputs": [],
   "source": [
    "dff = dff[['Rat', 'Vorname_x', 'Name_x', 'Fraktion', 'Kanton', 'Anrede', 'Google Search Results']].copy()"
   ]
  },
  {
   "cell_type": "code",
   "execution_count": 54,
   "metadata": {},
   "outputs": [
    {
     "data": {
      "text/html": [
       "<div>\n",
       "<style scoped>\n",
       "    .dataframe tbody tr th:only-of-type {\n",
       "        vertical-align: middle;\n",
       "    }\n",
       "\n",
       "    .dataframe tbody tr th {\n",
       "        vertical-align: top;\n",
       "    }\n",
       "\n",
       "    .dataframe thead th {\n",
       "        text-align: right;\n",
       "    }\n",
       "</style>\n",
       "<table border=\"1\" class=\"dataframe\">\n",
       "  <thead>\n",
       "    <tr style=\"text-align: right;\">\n",
       "      <th></th>\n",
       "      <th>Rat</th>\n",
       "      <th>Vorname_x</th>\n",
       "      <th>Name_x</th>\n",
       "      <th>Fraktion</th>\n",
       "      <th>Kanton</th>\n",
       "      <th>Anrede</th>\n",
       "      <th>Google Search Results</th>\n",
       "    </tr>\n",
       "  </thead>\n",
       "  <tbody>\n",
       "    <tr>\n",
       "      <th>0</th>\n",
       "      <td>Nationalrat</td>\n",
       "      <td>Jean-Luc</td>\n",
       "      <td>Addor</td>\n",
       "      <td>V</td>\n",
       "      <td>VS</td>\n",
       "      <td>Conseiller national</td>\n",
       "      <td>About 2,520 results (0.59 seconds)</td>\n",
       "    </tr>\n",
       "    <tr>\n",
       "      <th>1</th>\n",
       "      <td>Nationalrat</td>\n",
       "      <td>Andreas</td>\n",
       "      <td>Aebi</td>\n",
       "      <td>V</td>\n",
       "      <td>BE</td>\n",
       "      <td>Nationalrat</td>\n",
       "      <td>About 2,950 results (0.64 seconds)</td>\n",
       "    </tr>\n",
       "    <tr>\n",
       "      <th>2</th>\n",
       "      <td>Nationalrat</td>\n",
       "      <td>Matthias</td>\n",
       "      <td>Aebischer</td>\n",
       "      <td>S</td>\n",
       "      <td>BE</td>\n",
       "      <td>Nationalrat</td>\n",
       "      <td>About 7,020 results (0.58 seconds)</td>\n",
       "    </tr>\n",
       "    <tr>\n",
       "      <th>3</th>\n",
       "      <td>Nationalrat</td>\n",
       "      <td>Thomas</td>\n",
       "      <td>Aeschi</td>\n",
       "      <td>V</td>\n",
       "      <td>ZG</td>\n",
       "      <td>Nationalrat</td>\n",
       "      <td>About 25,500 results (0.51 seconds)</td>\n",
       "    </tr>\n",
       "    <tr>\n",
       "      <th>4</th>\n",
       "      <td>Nationalrat</td>\n",
       "      <td>Céline</td>\n",
       "      <td>Amaudruz</td>\n",
       "      <td>V</td>\n",
       "      <td>GE</td>\n",
       "      <td>Conseillère nationale</td>\n",
       "      <td>About 1,350 results (0.41 seconds)</td>\n",
       "    </tr>\n",
       "    <tr>\n",
       "      <th>...</th>\n",
       "      <td>...</td>\n",
       "      <td>...</td>\n",
       "      <td>...</td>\n",
       "      <td>...</td>\n",
       "      <td>...</td>\n",
       "      <td>...</td>\n",
       "      <td>...</td>\n",
       "    </tr>\n",
       "    <tr>\n",
       "      <th>242</th>\n",
       "      <td>Ständerat</td>\n",
       "      <td>Hans</td>\n",
       "      <td>Wicki</td>\n",
       "      <td>RL</td>\n",
       "      <td>NW</td>\n",
       "      <td>Ständerat</td>\n",
       "      <td>About 5,500 results (0.50 seconds)</td>\n",
       "    </tr>\n",
       "    <tr>\n",
       "      <th>243</th>\n",
       "      <td>Ständerat</td>\n",
       "      <td>Benedikt</td>\n",
       "      <td>Würth</td>\n",
       "      <td>M-CEB</td>\n",
       "      <td>SG</td>\n",
       "      <td>Ständerat</td>\n",
       "      <td>About 1,590 results (0.48 seconds)</td>\n",
       "    </tr>\n",
       "    <tr>\n",
       "      <th>244</th>\n",
       "      <td>Ständerat</td>\n",
       "      <td>Roberto</td>\n",
       "      <td>Zanetti</td>\n",
       "      <td>S</td>\n",
       "      <td>SO</td>\n",
       "      <td>Ständerat</td>\n",
       "      <td>About 9,160 results (0.42 seconds)</td>\n",
       "    </tr>\n",
       "    <tr>\n",
       "      <th>245</th>\n",
       "      <td>Ständerat</td>\n",
       "      <td>Heidi</td>\n",
       "      <td>Z'graggen</td>\n",
       "      <td>M-CEB</td>\n",
       "      <td>UR</td>\n",
       "      <td>Ständerätin</td>\n",
       "      <td>About 135 results (0.35 seconds)</td>\n",
       "    </tr>\n",
       "    <tr>\n",
       "      <th>246</th>\n",
       "      <td>Ständerat</td>\n",
       "      <td>Mathias</td>\n",
       "      <td>Zopfi</td>\n",
       "      <td>G</td>\n",
       "      <td>GL</td>\n",
       "      <td>Ständerat</td>\n",
       "      <td>About 338 results (0.34 seconds)</td>\n",
       "    </tr>\n",
       "  </tbody>\n",
       "</table>\n",
       "<p>247 rows × 7 columns</p>\n",
       "</div>"
      ],
      "text/plain": [
       "             Rat Vorname_x     Name_x Fraktion Kanton                 Anrede  \\\n",
       "0    Nationalrat  Jean-Luc      Addor        V     VS    Conseiller national   \n",
       "1    Nationalrat   Andreas       Aebi        V     BE            Nationalrat   \n",
       "2    Nationalrat  Matthias  Aebischer        S     BE            Nationalrat   \n",
       "3    Nationalrat    Thomas     Aeschi        V     ZG            Nationalrat   \n",
       "4    Nationalrat    Céline   Amaudruz        V     GE  Conseillère nationale   \n",
       "..           ...       ...        ...      ...    ...                    ...   \n",
       "242    Ständerat      Hans      Wicki       RL     NW              Ständerat   \n",
       "243    Ständerat  Benedikt      Würth    M-CEB     SG              Ständerat   \n",
       "244    Ständerat   Roberto    Zanetti        S     SO              Ständerat   \n",
       "245    Ständerat     Heidi  Z'graggen    M-CEB     UR            Ständerätin   \n",
       "246    Ständerat   Mathias      Zopfi        G     GL              Ständerat   \n",
       "\n",
       "                    Google Search Results  \n",
       "0     About 2,520 results (0.59 seconds)   \n",
       "1     About 2,950 results (0.64 seconds)   \n",
       "2     About 7,020 results (0.58 seconds)   \n",
       "3    About 25,500 results (0.51 seconds)   \n",
       "4     About 1,350 results (0.41 seconds)   \n",
       "..                                    ...  \n",
       "242   About 5,500 results (0.50 seconds)   \n",
       "243   About 1,590 results (0.48 seconds)   \n",
       "244   About 9,160 results (0.42 seconds)   \n",
       "245     About 135 results (0.35 seconds)   \n",
       "246     About 338 results (0.34 seconds)   \n",
       "\n",
       "[247 rows x 7 columns]"
      ]
     },
     "execution_count": 54,
     "metadata": {},
     "output_type": "execute_result"
    }
   ],
   "source": [
    "dff"
   ]
  },
  {
   "cell_type": "code",
   "execution_count": 61,
   "metadata": {},
   "outputs": [],
   "source": [
    "def clean(elem):\n",
    "    try: \n",
    "        elem = elem.split(\" \")[1]\n",
    "        elem= int(elem.replace(\",\", \"\"))\n",
    "        return elem\n",
    "    except:\n",
    "        return \"N/A\""
   ]
  },
  {
   "cell_type": "code",
   "execution_count": 64,
   "metadata": {},
   "outputs": [],
   "source": [
    "dff[\"Google Search Results\"] = dff[\"Google Search Results\"].apply(clean)"
   ]
  },
  {
   "cell_type": "code",
   "execution_count": 69,
   "metadata": {},
   "outputs": [],
   "source": [
    "df_n = dff[dff[\"Rat\"]==\"Nationalrat\"]"
   ]
  },
  {
   "cell_type": "code",
   "execution_count": 73,
   "metadata": {},
   "outputs": [
    {
     "data": {
      "text/html": [
       "<div>\n",
       "<style scoped>\n",
       "    .dataframe tbody tr th:only-of-type {\n",
       "        vertical-align: middle;\n",
       "    }\n",
       "\n",
       "    .dataframe tbody tr th {\n",
       "        vertical-align: top;\n",
       "    }\n",
       "\n",
       "    .dataframe thead th {\n",
       "        text-align: right;\n",
       "    }\n",
       "</style>\n",
       "<table border=\"1\" class=\"dataframe\">\n",
       "  <thead>\n",
       "    <tr style=\"text-align: right;\">\n",
       "      <th></th>\n",
       "      <th>Rat</th>\n",
       "      <th>Vorname_x</th>\n",
       "      <th>Name_x</th>\n",
       "      <th>Fraktion</th>\n",
       "      <th>Kanton</th>\n",
       "      <th>Anrede</th>\n",
       "      <th>Google Search Results</th>\n",
       "    </tr>\n",
       "  </thead>\n",
       "  <tbody>\n",
       "    <tr>\n",
       "      <th>99</th>\n",
       "      <td>Nationalrat</td>\n",
       "      <td>Philipp</td>\n",
       "      <td>Kutter</td>\n",
       "      <td>M-CEB</td>\n",
       "      <td>ZH</td>\n",
       "      <td>Nationalrat</td>\n",
       "      <td>377000</td>\n",
       "    </tr>\n",
       "    <tr>\n",
       "      <th>98</th>\n",
       "      <td>Nationalrat</td>\n",
       "      <td>Roger</td>\n",
       "      <td>Köppel</td>\n",
       "      <td>V</td>\n",
       "      <td>ZH</td>\n",
       "      <td>Nationalrat</td>\n",
       "      <td>102000</td>\n",
       "    </tr>\n",
       "    <tr>\n",
       "      <th>29</th>\n",
       "      <td>Nationalrat</td>\n",
       "      <td>Martin</td>\n",
       "      <td>Candinas</td>\n",
       "      <td>M-CEB</td>\n",
       "      <td>GR</td>\n",
       "      <td>Nationalrat</td>\n",
       "      <td>60500</td>\n",
       "    </tr>\n",
       "    <tr>\n",
       "      <th>66</th>\n",
       "      <td>Nationalrat</td>\n",
       "      <td>Andreas</td>\n",
       "      <td>Glarner</td>\n",
       "      <td>V</td>\n",
       "      <td>AG</td>\n",
       "      <td>Nationalrat</td>\n",
       "      <td>51700</td>\n",
       "    </tr>\n",
       "    <tr>\n",
       "      <th>6</th>\n",
       "      <td>Nationalrat</td>\n",
       "      <td>Sibel</td>\n",
       "      <td>Arslan</td>\n",
       "      <td>G</td>\n",
       "      <td>BS</td>\n",
       "      <td>Nationalrätin</td>\n",
       "      <td>39300</td>\n",
       "    </tr>\n",
       "    <tr>\n",
       "      <th>3</th>\n",
       "      <td>Nationalrat</td>\n",
       "      <td>Thomas</td>\n",
       "      <td>Aeschi</td>\n",
       "      <td>V</td>\n",
       "      <td>ZG</td>\n",
       "      <td>Nationalrat</td>\n",
       "      <td>25500</td>\n",
       "    </tr>\n",
       "    <tr>\n",
       "      <th>9</th>\n",
       "      <td>Nationalrat</td>\n",
       "      <td>Jacqueline</td>\n",
       "      <td>Badran</td>\n",
       "      <td>S</td>\n",
       "      <td>ZH</td>\n",
       "      <td>Nationalrätin</td>\n",
       "      <td>15600</td>\n",
       "    </tr>\n",
       "    <tr>\n",
       "      <th>82</th>\n",
       "      <td>Nationalrat</td>\n",
       "      <td>Alfred</td>\n",
       "      <td>Heer</td>\n",
       "      <td>V</td>\n",
       "      <td>ZH</td>\n",
       "      <td>Nationalrat</td>\n",
       "      <td>13700</td>\n",
       "    </tr>\n",
       "    <tr>\n",
       "      <th>114</th>\n",
       "      <td>Nationalrat</td>\n",
       "      <td>Thomas</td>\n",
       "      <td>Matter</td>\n",
       "      <td>V</td>\n",
       "      <td>ZH</td>\n",
       "      <td>Nationalrat</td>\n",
       "      <td>12500</td>\n",
       "    </tr>\n",
       "    <tr>\n",
       "      <th>55</th>\n",
       "      <td>Nationalrat</td>\n",
       "      <td>Kurt</td>\n",
       "      <td>Fluri</td>\n",
       "      <td>RL</td>\n",
       "      <td>SO</td>\n",
       "      <td>Nationalrat</td>\n",
       "      <td>11200</td>\n",
       "    </tr>\n",
       "  </tbody>\n",
       "</table>\n",
       "</div>"
      ],
      "text/plain": [
       "             Rat   Vorname_x    Name_x Fraktion Kanton         Anrede  \\\n",
       "99   Nationalrat     Philipp    Kutter    M-CEB     ZH    Nationalrat   \n",
       "98   Nationalrat       Roger    Köppel        V     ZH    Nationalrat   \n",
       "29   Nationalrat      Martin  Candinas    M-CEB     GR    Nationalrat   \n",
       "66   Nationalrat     Andreas   Glarner        V     AG    Nationalrat   \n",
       "6    Nationalrat       Sibel    Arslan        G     BS  Nationalrätin   \n",
       "3    Nationalrat      Thomas    Aeschi        V     ZG    Nationalrat   \n",
       "9    Nationalrat  Jacqueline    Badran        S     ZH  Nationalrätin   \n",
       "82   Nationalrat      Alfred      Heer        V     ZH    Nationalrat   \n",
       "114  Nationalrat      Thomas    Matter        V     ZH    Nationalrat   \n",
       "55   Nationalrat        Kurt     Fluri       RL     SO    Nationalrat   \n",
       "\n",
       "     Google Search Results  \n",
       "99                  377000  \n",
       "98                  102000  \n",
       "29                   60500  \n",
       "66                   51700  \n",
       "6                    39300  \n",
       "3                    25500  \n",
       "9                    15600  \n",
       "82                   13700  \n",
       "114                  12500  \n",
       "55                   11200  "
      ]
     },
     "execution_count": 73,
     "metadata": {},
     "output_type": "execute_result"
    }
   ],
   "source": [
    "df_n.sort_values(by='Google Search Results', ascending=False).head(10)"
   ]
  },
  {
   "cell_type": "code",
   "execution_count": 71,
   "metadata": {},
   "outputs": [
    {
     "data": {
      "text/plain": [
       "Fraktion\n",
       "G         2944.900000\n",
       "GL        1730.250000\n",
       "M-CEB    16434.548387\n",
       "RL        3079.103448\n",
       "S         3026.205128\n",
       "V         6916.446429\n",
       "Name: Google Search Results, dtype: float64"
      ]
     },
     "execution_count": 71,
     "metadata": {},
     "output_type": "execute_result"
    }
   ],
   "source": [
    "df_n.groupby('Fraktion')['Google Search Results'].mean()"
   ]
  },
  {
   "cell_type": "code",
   "execution_count": 72,
   "metadata": {},
   "outputs": [
    {
     "data": {
      "text/plain": [
       "Kanton\n",
       "AG     6759.812500\n",
       "AI      499.000000\n",
       "AR     1410.000000\n",
       "BE     2954.291667\n",
       "BL     4255.714286\n",
       "BS     9955.200000\n",
       "FR     1315.857143\n",
       "GE      717.500000\n",
       "GL     4110.000000\n",
       "GR    14368.400000\n",
       "JU      649.000000\n",
       "LU     3302.111111\n",
       "NE      256.000000\n",
       "NW     7050.000000\n",
       "OW     1020.000000\n",
       "SG     4106.333333\n",
       "SH     5880.000000\n",
       "SO     6176.666667\n",
       "SZ     3682.500000\n",
       "TG     3318.714286\n",
       "TI      992.375000\n",
       "UR      753.000000\n",
       "VD     1204.631579\n",
       "VS     1710.875000\n",
       "ZG    10976.666667\n",
       "ZH    17470.457143\n",
       "Name: Google Search Results, dtype: float64"
      ]
     },
     "execution_count": 72,
     "metadata": {},
     "output_type": "execute_result"
    }
   ],
   "source": [
    "df_n.groupby('Kanton')['Google Search Results'].mean()"
   ]
  },
  {
   "cell_type": "code",
   "execution_count": null,
   "metadata": {},
   "outputs": [],
   "source": []
  }
 ],
 "metadata": {
  "kernelspec": {
   "display_name": "Python 3",
   "language": "python",
   "name": "python3"
  },
  "language_info": {
   "codemirror_mode": {
    "name": "ipython",
    "version": 3
   },
   "file_extension": ".py",
   "mimetype": "text/x-python",
   "name": "python",
   "nbconvert_exporter": "python",
   "pygments_lexer": "ipython3",
   "version": "3.8.3"
  }
 },
 "nbformat": 4,
 "nbformat_minor": 4
}
