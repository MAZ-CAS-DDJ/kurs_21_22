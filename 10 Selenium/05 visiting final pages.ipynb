{
 "cells": [
  {
   "cell_type": "code",
   "execution_count": 16,
   "metadata": {},
   "outputs": [],
   "source": [
    "from selenium import webdriver\n",
    "from selenium.webdriver.common.keys import Keys\n",
    "from selenium.webdriver.common.by import By\n",
    "from selenium.webdriver.support.ui import Select\n",
    "import time\n",
    "import pandas as pd\n",
    "from bs4 import BeautifulSoup\n",
    "import requests"
   ]
  },
  {
   "cell_type": "code",
   "execution_count": 9,
   "metadata": {},
   "outputs": [],
   "source": [
    "df = pd.read_csv('finalurls.csv')"
   ]
  },
  {
   "cell_type": "code",
   "execution_count": 26,
   "metadata": {},
   "outputs": [],
   "source": [
    "lst = df['url']\n",
    "def http(elem):\n",
    "    elem = elem.replace(\"http\", \"https\")\n",
    "    return elem\n",
    "df['url'] = df['url'].apply(http)\n",
    "url = lst[0]"
   ]
  },
  {
   "cell_type": "code",
   "execution_count": 27,
   "metadata": {},
   "outputs": [],
   "source": [
    "driver = webdriver.Firefox()\n",
    "driver.get(url)"
   ]
  },
  {
   "cell_type": "code",
   "execution_count": 30,
   "metadata": {},
   "outputs": [
    {
     "data": {
      "text/plain": [
       "\"2021.05.149 Sensibilisation des jeunes aux dangers du chemin de fer, combien de morts faudra-t 'il ?\""
      ]
     },
     "execution_count": 30,
     "metadata": {},
     "output_type": "execute_result"
    }
   ],
   "source": [
    "driver.find_elements_by_class_name('ng-binding')[0].text"
   ]
  },
  {
   "cell_type": "code",
   "execution_count": 39,
   "metadata": {},
   "outputs": [
    {
     "data": {
      "text/plain": [
       "'Debons Gaétan\\n09.09.2021, Durée: 2:18\\nInterventions\\nDebons Gaétan (2:18)'"
      ]
     },
     "execution_count": 39,
     "metadata": {},
     "output_type": "execute_result"
    }
   ],
   "source": [
    "driver.find_elements_by_class_name('ng-binding')[9].text"
   ]
  },
  {
   "cell_type": "code",
   "execution_count": 41,
   "metadata": {},
   "outputs": [
    {
     "ename": "KeyboardInterrupt",
     "evalue": "",
     "output_type": "error",
     "traceback": [
      "\u001b[0;31m---------------------------------------------------------------------------\u001b[0m",
      "\u001b[0;31mKeyboardInterrupt\u001b[0m                         Traceback (most recent call last)",
      "\u001b[0;32m<ipython-input-41-2ae86fd64afc>\u001b[0m in \u001b[0;36m<module>\u001b[0;34m\u001b[0m\n\u001b[1;32m      4\u001b[0m \u001b[0;32mfor\u001b[0m \u001b[0melem\u001b[0m \u001b[0;32min\u001b[0m \u001b[0mdf\u001b[0m\u001b[0;34m[\u001b[0m\u001b[0;34m'url'\u001b[0m\u001b[0;34m]\u001b[0m\u001b[0;34m:\u001b[0m\u001b[0;34m\u001b[0m\u001b[0;34m\u001b[0m\u001b[0m\n\u001b[1;32m      5\u001b[0m     \u001b[0mdriver\u001b[0m\u001b[0;34m.\u001b[0m\u001b[0mget\u001b[0m\u001b[0;34m(\u001b[0m\u001b[0melem\u001b[0m\u001b[0;34m)\u001b[0m\u001b[0;34m\u001b[0m\u001b[0;34m\u001b[0m\u001b[0m\n\u001b[0;32m----> 6\u001b[0;31m     \u001b[0mtime\u001b[0m\u001b[0;34m.\u001b[0m\u001b[0msleep\u001b[0m\u001b[0;34m(\u001b[0m\u001b[0;36m3\u001b[0m\u001b[0;34m)\u001b[0m\u001b[0;34m\u001b[0m\u001b[0;34m\u001b[0m\u001b[0m\n\u001b[0m\u001b[1;32m      7\u001b[0m     \u001b[0mtalk\u001b[0m \u001b[0;34m=\u001b[0m \u001b[0mdriver\u001b[0m\u001b[0;34m.\u001b[0m\u001b[0mfind_elements_by_class_name\u001b[0m\u001b[0;34m(\u001b[0m\u001b[0;34m'ng-binding'\u001b[0m\u001b[0;34m)\u001b[0m\u001b[0;34m[\u001b[0m\u001b[0;36m0\u001b[0m\u001b[0;34m]\u001b[0m\u001b[0;34m.\u001b[0m\u001b[0mtext\u001b[0m\u001b[0;34m\u001b[0m\u001b[0;34m\u001b[0m\u001b[0m\n\u001b[1;32m      8\u001b[0m     \u001b[0mperson\u001b[0m \u001b[0;34m=\u001b[0m \u001b[0mdriver\u001b[0m\u001b[0;34m.\u001b[0m\u001b[0mfind_elements_by_class_name\u001b[0m\u001b[0;34m(\u001b[0m\u001b[0;34m'ng-binding'\u001b[0m\u001b[0;34m)\u001b[0m\u001b[0;34m[\u001b[0m\u001b[0;36m9\u001b[0m\u001b[0;34m]\u001b[0m\u001b[0;34m.\u001b[0m\u001b[0mtext\u001b[0m\u001b[0;34m\u001b[0m\u001b[0;34m\u001b[0m\u001b[0m\n",
      "\u001b[0;31mKeyboardInterrupt\u001b[0m: "
     ]
    }
   ],
   "source": [
    "final_list = []\n",
    "driver = webdriver.Firefox()\n",
    "\n",
    "for elem in df['url']:\n",
    "    driver.get(elem)\n",
    "    time.sleep(3)\n",
    "    talk = driver.find_elements_by_class_name('ng-binding')[0].text\n",
    "    person = driver.find_elements_by_class_name('ng-binding')[9].text\n",
    "    minidict = {'talk':talk,\n",
    "               'person':person,\n",
    "               'url':url}\n",
    "    final_list.append(minidict)"
   ]
  },
  {
   "cell_type": "code",
   "execution_count": 42,
   "metadata": {},
   "outputs": [
    {
     "data": {
      "text/html": [
       "<div>\n",
       "<style scoped>\n",
       "    .dataframe tbody tr th:only-of-type {\n",
       "        vertical-align: middle;\n",
       "    }\n",
       "\n",
       "    .dataframe tbody tr th {\n",
       "        vertical-align: top;\n",
       "    }\n",
       "\n",
       "    .dataframe thead th {\n",
       "        text-align: right;\n",
       "    }\n",
       "</style>\n",
       "<table border=\"1\" class=\"dataframe\">\n",
       "  <thead>\n",
       "    <tr style=\"text-align: right;\">\n",
       "      <th></th>\n",
       "      <th>talk</th>\n",
       "      <th>person</th>\n",
       "      <th>url</th>\n",
       "    </tr>\n",
       "  </thead>\n",
       "  <tbody>\n",
       "    <tr>\n",
       "      <th>0</th>\n",
       "      <td>2021.05.149 Sensibilisation des jeunes aux dan...</td>\n",
       "      <td>Debons Gaétan\\n09.09.2021, Durée: 2:18\\nInterv...</td>\n",
       "      <td>https://vs.recapp.ch/viewer/detail/_?uid=613c6...</td>\n",
       "    </tr>\n",
       "    <tr>\n",
       "      <th>1</th>\n",
       "      <td>2020.03.075 Le Valais doit atteindre ses objec...</td>\n",
       "      <td>Jacquod Eric\\n10.09.2021, Durée: 2:01\\nInterve...</td>\n",
       "      <td>https://vs.recapp.ch/viewer/detail/_?uid=613c6...</td>\n",
       "    </tr>\n",
       "    <tr>\n",
       "      <th>2</th>\n",
       "      <td>2020.03.075 Le Valais doit atteindre ses objec...</td>\n",
       "      <td>Revaz Emmanuel\\n10.09.2021, Durée: 3:31\\nInter...</td>\n",
       "      <td>https://vs.recapp.ch/viewer/detail/_?uid=613c6...</td>\n",
       "    </tr>\n",
       "    <tr>\n",
       "      <th>3</th>\n",
       "      <td>2021.05.149 Sensibilisation des jeunes aux dan...</td>\n",
       "      <td>Dubuis Alexandre\\n09.09.2021, Durée: 1:23\\nInt...</td>\n",
       "      <td>https://vs.recapp.ch/viewer/detail/_?uid=613c6...</td>\n",
       "    </tr>\n",
       "    <tr>\n",
       "      <th>4</th>\n",
       "      <td>2021.05.149 Sensibilisation des jeunes aux dan...</td>\n",
       "      <td>Léger Alain\\n09.09.2021, Durée: 1:52\\nInterven...</td>\n",
       "      <td>https://vs.recapp.ch/viewer/detail/_?uid=613c6...</td>\n",
       "    </tr>\n",
       "    <tr>\n",
       "      <th>5</th>\n",
       "      <td>2021.05.149 Sensibilisation des jeunes aux dan...</td>\n",
       "      <td>Morard Didier\\n09.09.2021, Durée: 1:11\\nInterv...</td>\n",
       "      <td>https://vs.recapp.ch/viewer/detail/_?uid=613c6...</td>\n",
       "    </tr>\n",
       "    <tr>\n",
       "      <th>6</th>\n",
       "      <td>2021.05.111 Des mesures ciblées pour contrer l...</td>\n",
       "      <td>Schmid Manfred\\n09.09.2021, Durée: 0:27\\nInter...</td>\n",
       "      <td>https://vs.recapp.ch/viewer/detail/_?uid=613c6...</td>\n",
       "    </tr>\n",
       "    <tr>\n",
       "      <th>7</th>\n",
       "      <td>2021.05.112 Cohabitation tourisme et agricultu...</td>\n",
       "      <td>Schmid Manfred\\n09.09.2021, Durée: 0:19\\nInter...</td>\n",
       "      <td>https://vs.recapp.ch/viewer/detail/_?uid=613c6...</td>\n",
       "    </tr>\n",
       "    <tr>\n",
       "      <th>8</th>\n",
       "      <td>2021.09.315 Loups : agir avant qu'il ne soit t...</td>\n",
       "      <td>Pfammatter Aron\\n09.09.2021, Durée: 2:55\\nInte...</td>\n",
       "      <td>https://vs.recapp.ch/viewer/detail/_?uid=613c6...</td>\n",
       "    </tr>\n",
       "    <tr>\n",
       "      <th>9</th>\n",
       "      <td>2021.05.149 Sensibilisation des jeunes aux dan...</td>\n",
       "      <td>Schmid Manfred\\n09.09.2021, Durée: 0:18\\nInter...</td>\n",
       "      <td>https://vs.recapp.ch/viewer/detail/_?uid=613c6...</td>\n",
       "    </tr>\n",
       "    <tr>\n",
       "      <th>10</th>\n",
       "      <td>2021.05.148 Améliorer l'échange et la collabor...</td>\n",
       "      <td>Schmid Manfred\\n09.09.2021, Durée: 0:20\\nInter...</td>\n",
       "      <td>https://vs.recapp.ch/viewer/detail/_?uid=613c6...</td>\n",
       "    </tr>\n",
       "    <tr>\n",
       "      <th>11</th>\n",
       "      <td>2021.09.315 Loups : agir avant qu'il ne soit t...</td>\n",
       "      <td>Secco Anne-Laure\\n09.09.2021, Durée: 1:31\\nInt...</td>\n",
       "      <td>https://vs.recapp.ch/viewer/detail/_?uid=613c6...</td>\n",
       "    </tr>\n",
       "    <tr>\n",
       "      <th>12</th>\n",
       "      <td>2021.05.149 Sensibilisation des jeunes aux dan...</td>\n",
       "      <td>Roduit Christian\\n09.09.2021, Durée: 2:51\\nInt...</td>\n",
       "      <td>https://vs.recapp.ch/viewer/detail/_?uid=613c6...</td>\n",
       "    </tr>\n",
       "    <tr>\n",
       "      <th>13</th>\n",
       "      <td>2021.05.149 Sensibilisation des jeunes aux dan...</td>\n",
       "      <td>Bumann Konstantin\\n09.09.2021, Durée: 1:57\\nIn...</td>\n",
       "      <td>https://vs.recapp.ch/viewer/detail/_?uid=613c6...</td>\n",
       "    </tr>\n",
       "    <tr>\n",
       "      <th>14</th>\n",
       "      <td>2021.05.150 Aide aux entreprises formatrices</td>\n",
       "      <td>Rey Serge\\n09.09.2021, Durée: 3:37\\nInterventi...</td>\n",
       "      <td>https://vs.recapp.ch/viewer/detail/_?uid=613c6...</td>\n",
       "    </tr>\n",
       "    <tr>\n",
       "      <th>15</th>\n",
       "      <td>2021.05.150 Aide aux entreprises formatrices</td>\n",
       "      <td>Constantin Patricia\\n09.09.2021, Durée: 1:22\\n...</td>\n",
       "      <td>https://vs.recapp.ch/viewer/detail/_?uid=613c6...</td>\n",
       "    </tr>\n",
       "    <tr>\n",
       "      <th>16</th>\n",
       "      <td>2021.05.150 Aide aux entreprises formatrices</td>\n",
       "      <td>Gualino Pierre\\n09.09.2021, Durée: 2:40\\nInter...</td>\n",
       "      <td>https://vs.recapp.ch/viewer/detail/_?uid=613c6...</td>\n",
       "    </tr>\n",
       "    <tr>\n",
       "      <th>17</th>\n",
       "      <td>2021.05.150 Aide aux entreprises formatrices</td>\n",
       "      <td>Imboden Olivier\\n09.09.2021, Durée: 2:46\\nInte...</td>\n",
       "      <td>https://vs.recapp.ch/viewer/detail/_?uid=613c6...</td>\n",
       "    </tr>\n",
       "    <tr>\n",
       "      <th>18</th>\n",
       "      <td>2021.05.149 Sensibilisation des jeunes aux dan...</td>\n",
       "      <td>Fumeaux Damien\\n09.09.2021, Durée: 3:26\\nInter...</td>\n",
       "      <td>https://vs.recapp.ch/viewer/detail/_?uid=613c6...</td>\n",
       "    </tr>\n",
       "    <tr>\n",
       "      <th>19</th>\n",
       "      <td>2019.12.486 Pour une planification forestière ...</td>\n",
       "      <td>Schmid Manfred\\n10.09.2021, Durée: 0:41\\nInter...</td>\n",
       "      <td>https://vs.recapp.ch/viewer/detail/_?uid=613c6...</td>\n",
       "    </tr>\n",
       "    <tr>\n",
       "      <th>20</th>\n",
       "      <td>2020.03.075 Le Valais doit atteindre ses objec...</td>\n",
       "      <td>Schmid Manfred\\n10.09.2021, Durée: 0:25\\nInter...</td>\n",
       "      <td>https://vs.recapp.ch/viewer/detail/_?uid=613c6...</td>\n",
       "    </tr>\n",
       "  </tbody>\n",
       "</table>\n",
       "</div>"
      ],
      "text/plain": [
       "                                                 talk  \\\n",
       "0   2021.05.149 Sensibilisation des jeunes aux dan...   \n",
       "1   2020.03.075 Le Valais doit atteindre ses objec...   \n",
       "2   2020.03.075 Le Valais doit atteindre ses objec...   \n",
       "3   2021.05.149 Sensibilisation des jeunes aux dan...   \n",
       "4   2021.05.149 Sensibilisation des jeunes aux dan...   \n",
       "5   2021.05.149 Sensibilisation des jeunes aux dan...   \n",
       "6   2021.05.111 Des mesures ciblées pour contrer l...   \n",
       "7   2021.05.112 Cohabitation tourisme et agricultu...   \n",
       "8   2021.09.315 Loups : agir avant qu'il ne soit t...   \n",
       "9   2021.05.149 Sensibilisation des jeunes aux dan...   \n",
       "10  2021.05.148 Améliorer l'échange et la collabor...   \n",
       "11  2021.09.315 Loups : agir avant qu'il ne soit t...   \n",
       "12  2021.05.149 Sensibilisation des jeunes aux dan...   \n",
       "13  2021.05.149 Sensibilisation des jeunes aux dan...   \n",
       "14       2021.05.150 Aide aux entreprises formatrices   \n",
       "15       2021.05.150 Aide aux entreprises formatrices   \n",
       "16       2021.05.150 Aide aux entreprises formatrices   \n",
       "17       2021.05.150 Aide aux entreprises formatrices   \n",
       "18  2021.05.149 Sensibilisation des jeunes aux dan...   \n",
       "19  2019.12.486 Pour une planification forestière ...   \n",
       "20  2020.03.075 Le Valais doit atteindre ses objec...   \n",
       "\n",
       "                                               person  \\\n",
       "0   Debons Gaétan\\n09.09.2021, Durée: 2:18\\nInterv...   \n",
       "1   Jacquod Eric\\n10.09.2021, Durée: 2:01\\nInterve...   \n",
       "2   Revaz Emmanuel\\n10.09.2021, Durée: 3:31\\nInter...   \n",
       "3   Dubuis Alexandre\\n09.09.2021, Durée: 1:23\\nInt...   \n",
       "4   Léger Alain\\n09.09.2021, Durée: 1:52\\nInterven...   \n",
       "5   Morard Didier\\n09.09.2021, Durée: 1:11\\nInterv...   \n",
       "6   Schmid Manfred\\n09.09.2021, Durée: 0:27\\nInter...   \n",
       "7   Schmid Manfred\\n09.09.2021, Durée: 0:19\\nInter...   \n",
       "8   Pfammatter Aron\\n09.09.2021, Durée: 2:55\\nInte...   \n",
       "9   Schmid Manfred\\n09.09.2021, Durée: 0:18\\nInter...   \n",
       "10  Schmid Manfred\\n09.09.2021, Durée: 0:20\\nInter...   \n",
       "11  Secco Anne-Laure\\n09.09.2021, Durée: 1:31\\nInt...   \n",
       "12  Roduit Christian\\n09.09.2021, Durée: 2:51\\nInt...   \n",
       "13  Bumann Konstantin\\n09.09.2021, Durée: 1:57\\nIn...   \n",
       "14  Rey Serge\\n09.09.2021, Durée: 3:37\\nInterventi...   \n",
       "15  Constantin Patricia\\n09.09.2021, Durée: 1:22\\n...   \n",
       "16  Gualino Pierre\\n09.09.2021, Durée: 2:40\\nInter...   \n",
       "17  Imboden Olivier\\n09.09.2021, Durée: 2:46\\nInte...   \n",
       "18  Fumeaux Damien\\n09.09.2021, Durée: 3:26\\nInter...   \n",
       "19  Schmid Manfred\\n10.09.2021, Durée: 0:41\\nInter...   \n",
       "20  Schmid Manfred\\n10.09.2021, Durée: 0:25\\nInter...   \n",
       "\n",
       "                                                  url  \n",
       "0   https://vs.recapp.ch/viewer/detail/_?uid=613c6...  \n",
       "1   https://vs.recapp.ch/viewer/detail/_?uid=613c6...  \n",
       "2   https://vs.recapp.ch/viewer/detail/_?uid=613c6...  \n",
       "3   https://vs.recapp.ch/viewer/detail/_?uid=613c6...  \n",
       "4   https://vs.recapp.ch/viewer/detail/_?uid=613c6...  \n",
       "5   https://vs.recapp.ch/viewer/detail/_?uid=613c6...  \n",
       "6   https://vs.recapp.ch/viewer/detail/_?uid=613c6...  \n",
       "7   https://vs.recapp.ch/viewer/detail/_?uid=613c6...  \n",
       "8   https://vs.recapp.ch/viewer/detail/_?uid=613c6...  \n",
       "9   https://vs.recapp.ch/viewer/detail/_?uid=613c6...  \n",
       "10  https://vs.recapp.ch/viewer/detail/_?uid=613c6...  \n",
       "11  https://vs.recapp.ch/viewer/detail/_?uid=613c6...  \n",
       "12  https://vs.recapp.ch/viewer/detail/_?uid=613c6...  \n",
       "13  https://vs.recapp.ch/viewer/detail/_?uid=613c6...  \n",
       "14  https://vs.recapp.ch/viewer/detail/_?uid=613c6...  \n",
       "15  https://vs.recapp.ch/viewer/detail/_?uid=613c6...  \n",
       "16  https://vs.recapp.ch/viewer/detail/_?uid=613c6...  \n",
       "17  https://vs.recapp.ch/viewer/detail/_?uid=613c6...  \n",
       "18  https://vs.recapp.ch/viewer/detail/_?uid=613c6...  \n",
       "19  https://vs.recapp.ch/viewer/detail/_?uid=613c6...  \n",
       "20  https://vs.recapp.ch/viewer/detail/_?uid=613c6...  "
      ]
     },
     "execution_count": 42,
     "metadata": {},
     "output_type": "execute_result"
    }
   ],
   "source": [
    "pd.DataFrame(final_list)"
   ]
  },
  {
   "cell_type": "code",
   "execution_count": null,
   "metadata": {},
   "outputs": [],
   "source": []
  }
 ],
 "metadata": {
  "kernelspec": {
   "display_name": "Python 3",
   "language": "python",
   "name": "python3"
  },
  "language_info": {
   "codemirror_mode": {
    "name": "ipython",
    "version": 3
   },
   "file_extension": ".py",
   "mimetype": "text/x-python",
   "name": "python",
   "nbconvert_exporter": "python",
   "pygments_lexer": "ipython3",
   "version": "3.8.3"
  }
 },
 "nbformat": 4,
 "nbformat_minor": 4
}
