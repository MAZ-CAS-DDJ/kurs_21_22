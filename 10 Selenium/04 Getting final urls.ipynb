{
 "cells": [
  {
   "cell_type": "code",
   "execution_count": 1,
   "metadata": {},
   "outputs": [],
   "source": [
    "from bs4 import BeautifulSoup\n",
    "import pandas as pd\n",
    "import time\n",
    "import os\n",
    "import re\n",
    "from tqdm import tqdm"
   ]
  },
  {
   "cell_type": "code",
   "execution_count": 3,
   "metadata": {},
   "outputs": [],
   "source": [
    "lst = os.listdir('pages2/')"
   ]
  },
  {
   "cell_type": "code",
   "execution_count": 4,
   "metadata": {},
   "outputs": [],
   "source": [
    "file = open('pages2/' + lst[0], 'r')\n",
    "text = file.read()\n",
    "h = BeautifulSoup(text, 'html.parser')"
   ]
  },
  {
   "cell_type": "code",
   "execution_count": 12,
   "metadata": {},
   "outputs": [
    {
     "data": {
      "text/plain": [
       "'http://vs.recapp.ch/viewer/detail/_?uid=613c6812965e0b4391d20ada'"
      ]
     },
     "execution_count": 12,
     "metadata": {},
     "output_type": "execute_result"
    }
   ],
   "source": [
    "h.find('a', {'class':'text-link'})['href']"
   ]
  },
  {
   "cell_type": "code",
   "execution_count": 11,
   "metadata": {},
   "outputs": [
    {
     "data": {
      "text/plain": [
       "' Postulat Damien Fumeaux, UDC, und Christian Roduit, PS/GC: Sensibilisierung der Jugendlichen für die Gefahren der Eisenbahn: Wie viele Tote braucht es noch? 2021.05.149 '"
      ]
     },
     "execution_count": 11,
     "metadata": {},
     "output_type": "execute_result"
    }
   ],
   "source": [
    "h.find_all('a', {'class':'btn'})[4].text"
   ]
  },
  {
   "cell_type": "code",
   "execution_count": 15,
   "metadata": {},
   "outputs": [
    {
     "name": "stderr",
     "output_type": "stream",
     "text": [
      "100%|██████████| 43/43 [00:00<00:00, 48.19it/s]\n"
     ]
    }
   ],
   "source": [
    "full_href_list = []\n",
    "for html_file in tqdm(lst):\n",
    "    \n",
    "    file = open('pages2/' + html_file, 'r')\n",
    "    text = file.read()\n",
    "    h = BeautifulSoup(text, 'html.parser')\n",
    "    link = h.find('a', {'class':'text-link'})['href']\n",
    "    people = h.find_all('a', {'class':'btn'})[4].text\n",
    "    \n",
    "    mini_dict = {'url':link,\n",
    "                 'pols&topics':people}\n",
    "    \n",
    "    full_href_list.append(mini_dict)"
   ]
  },
  {
   "cell_type": "code",
   "execution_count": 21,
   "metadata": {},
   "outputs": [],
   "source": [
    "pd.set_option('display.max_colwidth', 400)"
   ]
  },
  {
   "cell_type": "code",
   "execution_count": 23,
   "metadata": {},
   "outputs": [],
   "source": [
    "pd.DataFrame(full_href_list).to_csv('finalurls.csv')"
   ]
  },
  {
   "cell_type": "code",
   "execution_count": 22,
   "metadata": {},
   "outputs": [
    {
     "data": {
      "text/plain": [
       "0     http://vs.recapp.ch/viewer/detail/_?uid=613c6812965e0b4391d20ada\n",
       "1     http://vs.recapp.ch/viewer/detail/_?uid=613c6b15965e0b4391d20b5c\n",
       "2     http://vs.recapp.ch/viewer/detail/_?uid=613c6b15965e0b4391d20b5d\n",
       "3     http://vs.recapp.ch/viewer/detail/_?uid=613c6812965e0b4391d20adb\n",
       "4     http://vs.recapp.ch/viewer/detail/_?uid=613c6812965e0b4391d20ad9\n",
       "5     http://vs.recapp.ch/viewer/detail/_?uid=613c6812965e0b4391d20ad8\n",
       "6     http://vs.recapp.ch/viewer/detail/_?uid=613c6812965e0b4391d20ad4\n",
       "7     http://vs.recapp.ch/viewer/detail/_?uid=613c6812965e0b4391d20ad5\n",
       "8     http://vs.recapp.ch/viewer/detail/_?uid=613c6812965e0b4391d20af0\n",
       "9     http://vs.recapp.ch/viewer/detail/_?uid=613c6812965e0b4391d20ad7\n",
       "10    http://vs.recapp.ch/viewer/detail/_?uid=613c6812965e0b4391d20ad6\n",
       "11    http://vs.recapp.ch/viewer/detail/_?uid=613c6812965e0b4391d20aef\n",
       "12    http://vs.recapp.ch/viewer/detail/_?uid=613c6812965e0b4391d20add\n",
       "13    http://vs.recapp.ch/viewer/detail/_?uid=613c6812965e0b4391d20adc\n",
       "14    http://vs.recapp.ch/viewer/detail/_?uid=613c6812965e0b4391d20ae4\n",
       "15    http://vs.recapp.ch/viewer/detail/_?uid=613c6812965e0b4391d20ae5\n",
       "16    http://vs.recapp.ch/viewer/detail/_?uid=613c6812965e0b4391d20ae3\n",
       "17    http://vs.recapp.ch/viewer/detail/_?uid=613c6812965e0b4391d20ae2\n",
       "18    http://vs.recapp.ch/viewer/detail/_?uid=613c6812965e0b4391d20ade\n",
       "19    http://vs.recapp.ch/viewer/detail/_?uid=613c6b15965e0b4391d20b5a\n",
       "20    http://vs.recapp.ch/viewer/detail/_?uid=613c6b15965e0b4391d20b5b\n",
       "21    http://vs.recapp.ch/viewer/detail/_?uid=613c6812965e0b4391d20adf\n",
       "22    http://vs.recapp.ch/viewer/detail/_?uid=613c6b15965e0b4391d20b59\n",
       "23    http://vs.recapp.ch/viewer/detail/_?uid=613c6812965e0b4391d20ae1\n",
       "24    http://vs.recapp.ch/viewer/detail/_?uid=613c6812965e0b4391d20ae0\n",
       "25    http://vs.recapp.ch/viewer/detail/_?uid=613c6812965e0b4391d20af4\n",
       "26    http://vs.recapp.ch/viewer/detail/_?uid=613c6812965e0b4391d20aee\n",
       "27    http://vs.recapp.ch/viewer/detail/_?uid=613c6812965e0b4391d20ad3\n",
       "28    http://vs.recapp.ch/viewer/detail/_?uid=613c6812965e0b4391d20af9\n",
       "29    http://vs.recapp.ch/viewer/detail/_?uid=613c6812965e0b4391d20aed\n",
       "30    http://vs.recapp.ch/viewer/detail/_?uid=613c6812965e0b4391d20af3\n",
       "31    http://vs.recapp.ch/viewer/detail/_?uid=613c6812965e0b4391d20aeb\n",
       "32    http://vs.recapp.ch/viewer/detail/_?uid=613c6812965e0b4391d20af1\n",
       "33    http://vs.recapp.ch/viewer/detail/_?uid=613c6812965e0b4391d20af2\n",
       "34    http://vs.recapp.ch/viewer/detail/_?uid=613c6812965e0b4391d20aec\n",
       "35    http://vs.recapp.ch/viewer/detail/_?uid=613c6812965e0b4391d20ae8\n",
       "36    http://vs.recapp.ch/viewer/detail/_?uid=613c6812965e0b4391d20af6\n",
       "37    http://vs.recapp.ch/viewer/detail/_?uid=613c6812965e0b4391d20af5\n",
       "38    http://vs.recapp.ch/viewer/detail/_?uid=613c6812965e0b4391d20ae7\n",
       "39    http://vs.recapp.ch/viewer/detail/_?uid=613c6812965e0b4391d20af7\n",
       "40    http://vs.recapp.ch/viewer/detail/_?uid=613c6812965e0b4391d20ae9\n",
       "41    http://vs.recapp.ch/viewer/detail/_?uid=613c6812965e0b4391d20aea\n",
       "42    http://vs.recapp.ch/viewer/detail/_?uid=613c6812965e0b4391d20af8\n",
       "Name: url, dtype: object"
      ]
     },
     "execution_count": 22,
     "metadata": {},
     "output_type": "execute_result"
    }
   ],
   "source": [
    "pd.DataFrame(full_href_list)['url']"
   ]
  },
  {
   "cell_type": "code",
   "execution_count": null,
   "metadata": {},
   "outputs": [],
   "source": []
  }
 ],
 "metadata": {
  "kernelspec": {
   "display_name": "Python 3",
   "language": "python",
   "name": "python3"
  },
  "language_info": {
   "codemirror_mode": {
    "name": "ipython",
    "version": 3
   },
   "file_extension": ".py",
   "mimetype": "text/x-python",
   "name": "python",
   "nbconvert_exporter": "python",
   "pygments_lexer": "ipython3",
   "version": "3.8.3"
  }
 },
 "nbformat": 4,
 "nbformat_minor": 4
}
