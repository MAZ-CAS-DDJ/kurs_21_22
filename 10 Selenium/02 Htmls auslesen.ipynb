{
 "cells": [
  {
   "cell_type": "markdown",
   "metadata": {},
   "source": [
    "## Imports"
   ]
  },
  {
   "cell_type": "code",
   "execution_count": 1,
   "metadata": {},
   "outputs": [],
   "source": [
    "from bs4 import BeautifulSoup\n",
    "import pandas as pd\n",
    "import time\n",
    "import os\n",
    "import re\n",
    "from tqdm import tqdm"
   ]
  },
  {
   "cell_type": "markdown",
   "metadata": {},
   "source": [
    "Liste aller HTMLs"
   ]
  },
  {
   "cell_type": "code",
   "execution_count": 2,
   "metadata": {},
   "outputs": [],
   "source": [
    "lst = os.listdir('pages/')"
   ]
  },
  {
   "cell_type": "markdown",
   "metadata": {},
   "source": [
    "Seiten einlesen, hier zuerst mit einer Seite"
   ]
  },
  {
   "cell_type": "code",
   "execution_count": 3,
   "metadata": {},
   "outputs": [],
   "source": [
    "file = open('pages/' + lst[0], 'r')\n",
    "text = file.read()\n",
    "h = BeautifulSoup(text, 'html.parser')"
   ]
  },
  {
   "cell_type": "markdown",
   "metadata": {},
   "source": [
    "Alle Elemente, die uns interessieren"
   ]
  },
  {
   "cell_type": "code",
   "execution_count": 4,
   "metadata": {},
   "outputs": [
    {
     "data": {
      "text/plain": [
       "[<a _ngcontent-xwi-c151=\"\" class=\"btn btn-link language-button px-1 selected\"> DE </a>,\n",
       " <a _ngcontent-xwi-c151=\"\" class=\"btn btn-link language-button px-1\"> FR </a>,\n",
       " <a _ngcontent-xwi-c151=\"\" class=\"btn btn-link language-button px-1 selected\"> DE </a>,\n",
       " <a _ngcontent-xwi-c151=\"\" class=\"btn btn-link language-button px-1\"> FR </a>,\n",
       " <a class=\"btn btn-link text-black text-left p-0 m-0 ng-star-inserted\" href=\"/app/de/search/speech/171889\"><h3 class=\"m-0\">Postulat Serge Rey, UDC, Stève Delasoie, PLR/FDP, Alexia Héritier, PDCVr, und Patricia Constantin, PS/GC: Hilfe für Lehrbetriebe 2021.05.150</h3></a>,\n",
       " <a class=\"btn btn-link text-black text-left p-0 m-0 ng-star-inserted\" href=\"/app/de/search/speech/171888\"><h3 class=\"m-0\">Postulat Serge Rey, UDC, Stève Delasoie, PLR/FDP, Alexia Héritier, PDCVr, und Patricia Constantin, PS/GC: Hilfe für Lehrbetriebe 2021.05.150</h3></a>,\n",
       " <a class=\"btn btn-link text-black text-left p-0 m-0 ng-star-inserted\" href=\"/app/de/search/speech/171887\"><h3 class=\"m-0\">Postulat Serge Rey, UDC, Stève Delasoie, PLR/FDP, Alexia Héritier, PDCVr, und Patricia Constantin, PS/GC: Hilfe für Lehrbetriebe 2021.05.150</h3></a>,\n",
       " <a class=\"btn btn-link text-black text-left p-0 m-0 ng-star-inserted\" href=\"/app/de/search/speech/171886\"><h3 class=\"m-0\">Postulat Serge Rey, UDC, Stève Delasoie, PLR/FDP, Alexia Héritier, PDCVr, und Patricia Constantin, PS/GC: Hilfe für Lehrbetriebe 2021.05.150</h3></a>,\n",
       " <a class=\"btn btn-link text-black text-left p-0 m-0 ng-star-inserted\" href=\"/app/de/search/speech/171885\"><h3 class=\"m-0\">Postulat Serge Rey, UDC, Stève Delasoie, PLR/FDP, Alexia Héritier, PDCVr, und Patricia Constantin, PS/GC: Hilfe für Lehrbetriebe 2021.05.150</h3></a>,\n",
       " <a class=\"btn btn-link text-black text-left p-0 m-0 ng-star-inserted\" href=\"/app/de/search/speech/171884\"><h3 class=\"m-0\">Postulat Serge Rey, UDC, Stève Delasoie, PLR/FDP, Alexia Héritier, PDCVr, und Patricia Constantin, PS/GC: Hilfe für Lehrbetriebe 2021.05.150</h3></a>,\n",
       " <a class=\"btn btn-link text-black text-left p-0 m-0 ng-star-inserted\" href=\"/app/de/search/speech/171883\"><h3 class=\"m-0\">Postulat Serge Rey, UDC, Stève Delasoie, PLR/FDP, Alexia Héritier, PDCVr, und Patricia Constantin, PS/GC: Hilfe für Lehrbetriebe 2021.05.150</h3></a>,\n",
       " <a class=\"btn btn-link text-black text-left p-0 m-0 ng-star-inserted\" href=\"/app/de/search/speech/171882\"><h3 class=\"m-0\">Postulat Damien Fumeaux, UDC, und Christian Roduit, PS/GC: Sensibilisierung der Jugendlichen für die Gefahren der Eisenbahn: Wie viele Tote braucht es noch? 2021.05.149</h3></a>,\n",
       " <a class=\"btn btn-link text-black text-left p-0 m-0 ng-star-inserted\" href=\"/app/de/search/speech/171881\"><h3 class=\"m-0\">Postulat Damien Fumeaux, UDC, und Christian Roduit, PS/GC: Sensibilisierung der Jugendlichen für die Gefahren der Eisenbahn: Wie viele Tote braucht es noch? 2021.05.149</h3></a>,\n",
       " <a class=\"btn btn-link text-black text-left p-0 m-0 ng-star-inserted\" href=\"/app/de/search/speech/171880\"><h3 class=\"m-0\">Postulat Damien Fumeaux, UDC, und Christian Roduit, PS/GC: Sensibilisierung der Jugendlichen für die Gefahren der Eisenbahn: Wie viele Tote braucht es noch? 2021.05.149</h3></a>,\n",
       " <a class=\"btn btn-link text-black text-left p-0 m-0 ng-star-inserted\" href=\"/app/de/search/speech/171879\"><h3 class=\"m-0\">Postulat Damien Fumeaux, UDC, und Christian Roduit, PS/GC: Sensibilisierung der Jugendlichen für die Gefahren der Eisenbahn: Wie viele Tote braucht es noch? 2021.05.149</h3></a>,\n",
       " <a class=\"btn btn-link text-black text-left p-0 m-0 ng-star-inserted\" href=\"/app/de/search/speech/171878\"><h3 class=\"m-0\">Postulat Damien Fumeaux, UDC, und Christian Roduit, PS/GC: Sensibilisierung der Jugendlichen für die Gefahren der Eisenbahn: Wie viele Tote braucht es noch? 2021.05.149</h3></a>,\n",
       " <a class=\"btn btn-link text-black text-left p-0 m-0 ng-star-inserted\" href=\"/app/de/search/speech/171877\"><h3 class=\"m-0\">Postulat Damien Fumeaux, UDC, und Christian Roduit, PS/GC: Sensibilisierung der Jugendlichen für die Gefahren der Eisenbahn: Wie viele Tote braucht es noch? 2021.05.149</h3></a>,\n",
       " <a class=\"btn btn-link text-black text-left p-0 m-0 ng-star-inserted\" href=\"/app/de/search/speech/171876\"><h3 class=\"m-0\">Postulat Damien Fumeaux, UDC, und Christian Roduit, PS/GC: Sensibilisierung der Jugendlichen für die Gefahren der Eisenbahn: Wie viele Tote braucht es noch? 2021.05.149</h3></a>,\n",
       " <a class=\"btn btn-link text-black text-left p-0 m-0 ng-star-inserted\" href=\"/app/de/search/speech/171875\"><h3 class=\"m-0\">Postulat Damien Fumeaux, UDC, und Christian Roduit, PS/GC: Sensibilisierung der Jugendlichen für die Gefahren der Eisenbahn: Wie viele Tote braucht es noch? 2021.05.149</h3></a>,\n",
       " <a class=\"btn btn-link text-black text-left p-0 m-0 ng-star-inserted\" href=\"/app/de/search/speech/171874\"><h3 class=\"m-0\">Postulat Damien Fumeaux, UDC, und Christian Roduit, PS/GC: Sensibilisierung der Jugendlichen für die Gefahren der Eisenbahn: Wie viele Tote braucht es noch? 2021.05.149</h3></a>,\n",
       " <a class=\"btn btn-link text-black text-left p-0 m-0 ng-star-inserted\" href=\"/app/de/search/speech/171873\"><h3 class=\"m-0\">Postulat Sébastien Rey, PLR/FDP, Pierre Gualino, PDCVr, Serge Rey, UDC, und Tarcis Ançay, PS/GC: Verbesserung von Austausch und Zusammenarbeit zwischen den Akteuren in der Berufsbildung 2021.05.148</h3></a>,\n",
       " <a class=\"btn btn-link text-black text-left p-0 m-0 ng-star-inserted\" href=\"/app/de/search/speech/171872\"><h3 class=\"m-0\">Postulat PLR/FDP, durch Arnaud Schaller: Harmonisches Miteinander von Tourismus und Landwirtschaft fördern und Problemen vorgreifen 2021.05.112</h3></a>,\n",
       " <a class=\"btn btn-link text-black text-left p-0 m-0 ng-star-inserted\" href=\"/app/de/search/speech/171871\"><h3 class=\"m-0\">Postulat Arnaud Schaller, PLR/FDP, Aïda Lips, UDC, Nathan Bender, PDCVr, und Diego Clausen: Gezielte Massnahmen zum Schutz vor extremen Wetterereignissen, insbesondere Frost 2021.05.111</h3></a>,\n",
       " <a class=\"btn btn-link text-black text-left p-0 m-0 ng-star-inserted\" href=\"/app/de/search/speech/171870\"><h3 class=\"m-0\">Interpellation Benoît Barras, AdG/LA und Margaux Dubuis, AdG/LA: Neues Kollegium in Sitten: und jetzt? 2021.02.074</h3></a>,\n",
       " <a _ngcontent-xwi-c156=\"\" class=\"btn btn-link text-left m-0 p-0\" href=\"de/search/result?object_type=Person\"><small _ngcontent-xwi-c156=\"\">Personen</small></a>,\n",
       " <a _ngcontent-xwi-c156=\"\" class=\"btn btn-link text-left m-0 p-0\" href=\"de/search/result?object_type=Document\"><small _ngcontent-xwi-c156=\"\">Dokumente</small></a>,\n",
       " <a _ngcontent-xwi-c156=\"\" class=\"btn btn-link text-left m-0 p-0\" href=\"de/search/result?object_type=ParlSession\"><small _ngcontent-xwi-c156=\"\">Sessionen</small></a>,\n",
       " <a _ngcontent-xwi-c156=\"\" class=\"btn btn-link text-left m-0 p-0\" href=\"de/search/result?object_type=Commission\"><small _ngcontent-xwi-c156=\"\">Kommissionen</small></a>,\n",
       " <a _ngcontent-xwi-c156=\"\" class=\"btn btn-link text-left m-0 p-0\" href=\"de/search/result?object_type=Fraction\"><small _ngcontent-xwi-c156=\"\">Fraktionen</small></a>,\n",
       " <a _ngcontent-xwi-c156=\"\" class=\"btn btn-link text-left m-0 p-0\" href=\"de/link/2105\"><small _ngcontent-xwi-c156=\"\">Über uns / FAQ</small></a>,\n",
       " <a _ngcontent-xwi-c156=\"\" class=\"btn btn-link text-left m-0 p-0\" href=\"de/link/152092\"><small _ngcontent-xwi-c156=\"\">Kontaktdaten</small></a>,\n",
       " <a _ngcontent-xwi-c156=\"\" class=\"btn btn-link text-left m-0 p-0\" href=\"de/\"><small _ngcontent-xwi-c156=\"\">Büro- und Präsidiumsmitglieder</small></a>,\n",
       " <a _ngcontent-xwi-c156=\"\" class=\"btn btn-link text-left m-0 p-0\" href=\"de/link/152066\"><small _ngcontent-xwi-c156=\"\">Grossratswahlen - Resultate</small></a>,\n",
       " <a _ngcontent-xwi-c156=\"\" class=\"btn btn-link text-left m-0 p-0\" href=\"de/link/156551\"><small _ngcontent-xwi-c156=\"\">Kleiner Wegweiser durch den Grossen Rat</small></a>,\n",
       " <a _ngcontent-xwi-c156=\"\" class=\"btn btn-link text-left m-0 p-0\" href=\"de/link/168886\"><small _ngcontent-xwi-c156=\"\">Adressliste der Grossratsmitlieder (Excel)</small></a>,\n",
       " <a _ngcontent-xwi-c156=\"\" class=\"btn btn-link text-left m-0 p-0\" href=\"de/link/152054\"><small _ngcontent-xwi-c156=\"\">Mitgliederbereich</small></a>,\n",
       " <a _ngcontent-xwi-c156=\"\" class=\"btn btn-link text-left m-0 p-0\" href=\"de/link/152072\"><small _ngcontent-xwi-c156=\"\">Nützliche Links</small></a>]"
      ]
     },
     "execution_count": 4,
     "metadata": {},
     "output_type": "execute_result"
    }
   ],
   "source": [
    "h.find_all('a', {'class':'btn'})"
   ]
  },
  {
   "cell_type": "markdown",
   "metadata": {},
   "source": [
    "Testen mit einem Element"
   ]
  },
  {
   "cell_type": "code",
   "execution_count": 10,
   "metadata": {},
   "outputs": [
    {
     "data": {
      "text/plain": [
       "'/app/de/search/speech/171888'"
      ]
     },
     "execution_count": 10,
     "metadata": {},
     "output_type": "execute_result"
    }
   ],
   "source": [
    "h.find_all('a', {'class':'btn'})[5:][0]['href']"
   ]
  },
  {
   "cell_type": "markdown",
   "metadata": {},
   "source": [
    "Alle Elemente holen"
   ]
  },
  {
   "cell_type": "code",
   "execution_count": 13,
   "metadata": {},
   "outputs": [],
   "source": [
    "href_soup = h.find_all('a', {'class':'btn'})[5:]\n",
    "\n",
    "href_list = []\n",
    "\n",
    "for href in href_soup:\n",
    "    href_list.append(href['href'])"
   ]
  },
  {
   "cell_type": "markdown",
   "metadata": {},
   "source": [
    "Alle Elemente aller Seite holen"
   ]
  },
  {
   "cell_type": "markdown",
   "metadata": {},
   "source": [
    "Und jetzt wenden wir das auf alle html files an"
   ]
  },
  {
   "cell_type": "code",
   "execution_count": 20,
   "metadata": {},
   "outputs": [
    {
     "name": "stderr",
     "output_type": "stream",
     "text": [
      "100%|██████████| 18/18 [00:00<00:00, 20.46it/s]\n"
     ]
    }
   ],
   "source": [
    "full_href_list = []\n",
    "for html_file in tqdm(lst):\n",
    "    \n",
    "    file = open('pages/' + html_file, 'r')\n",
    "    text = file.read()\n",
    "    h = BeautifulSoup(text, 'html.parser')\n",
    "    href_soup = h.find_all('a', {'class':'btn'})[5:]\n",
    "    \n",
    "    href_list = []\n",
    "    \n",
    "    for href in href_soup:\n",
    "        href_list.append(\"https://parlement.vs.ch\" +href['href'])\n",
    "    \n",
    "    full_href_list = full_href_list + href_list"
   ]
  },
  {
   "cell_type": "markdown",
   "metadata": {},
   "source": [
    "Einlesen in die Liste, aussortieren, abspeichern"
   ]
  },
  {
   "cell_type": "code",
   "execution_count": 29,
   "metadata": {},
   "outputs": [],
   "source": [
    "df = pd.DataFrame(full_href_list)\n",
    "df['app'] = df[0].str.find(\"app\")\n",
    "df = df[df['app']!=-1]\n",
    "df.to_csv('href_list.csv')"
   ]
  }
 ],
 "metadata": {
  "kernelspec": {
   "display_name": "Python 3",
   "language": "python",
   "name": "python3"
  },
  "language_info": {
   "codemirror_mode": {
    "name": "ipython",
    "version": 3
   },
   "file_extension": ".py",
   "mimetype": "text/x-python",
   "name": "python",
   "nbconvert_exporter": "python",
   "pygments_lexer": "ipython3",
   "version": "3.8.8"
  }
 },
 "nbformat": 4,
 "nbformat_minor": 2
}
